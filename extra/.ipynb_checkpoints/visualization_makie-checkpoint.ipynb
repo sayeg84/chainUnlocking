{
 "cells": [
  {
   "cell_type": "code",
   "execution_count": 1,
   "metadata": {},
   "outputs": [
    {
     "name": "stderr",
     "output_type": "stream",
     "text": [
      "WARNING: using IntervalArithmetic.dot in module Main conflicts with an existing identifier.\n",
      "WARNING: using WGLMakie.Point in module Main conflicts with an existing identifier.\n"
     ]
    }
   ],
   "source": [
    "include(\"../src/simulations.jl\")\n",
    "include(\"../src/test.jl\")\n",
    "using WGLMakie"
   ]
  },
  {
   "cell_type": "code",
   "execution_count": 4,
   "metadata": {},
   "outputs": [
    {
     "data": {
      "text/plain": [
       "PolygonalChain2(Point[Point(0.0, 0.0, 0.0), Point(1.0, 0.0, 0.0), Point(1.0, 1.0, 0.0), Point(1.0, 1.0, 1.0), Point(0.0, 1.0, 1.0), Point(0.0, 0.0, 1.0)])"
      ]
     },
     "execution_count": 4,
     "metadata": {},
     "output_type": "execute_result"
    }
   ],
   "source": [
    "p1 = e0\n",
    "p2 = ex\n",
    "p3 = ex + ey\n",
    "p4 = p3 + ez\n",
    "p5 = p4 - ex\n",
    "p6 = p5 - ey\n",
    "points = [p1,p2,p3,p4,p5,p6]\n",
    "#points = [p + 0.05*2*(Point()-(ex+ey+ez)) for p in points]\n",
    "Q = stair(5)\n",
    "#P = PolygonalChain2([p + 0.05*2*(Point()-(ex+ey+ez)) for p in points])\n",
    "P = PolygonalChain2(points)"
   ]
  },
  {
   "cell_type": "code",
   "execution_count": 3,
   "metadata": {},
   "outputs": [
    {
     "data": {
      "text/plain": [
       "59-element Array{Int64,1}:\n",
       "   1\n",
       "   6\n",
       "   9\n",
       "  13\n",
       "  14\n",
       "  16\n",
       "  18\n",
       "  21\n",
       "  22\n",
       "  23\n",
       "  28\n",
       "  31\n",
       "  32\n",
       "   ⋮\n",
       "  91\n",
       "  96\n",
       " 101\n",
       " 108\n",
       " 110\n",
       " 111\n",
       " 138\n",
       " 144\n",
       " 150\n",
       " 152\n",
       " 159\n",
       " 161"
      ]
     },
     "execution_count": 3,
     "metadata": {},
     "output_type": "execute_result"
    }
   ],
   "source": [
    "lastQ,angles_values,angles_indexes = randomSearch(P,Q,1e-1,pi/20,-pi/20)\n",
    "changes = [i for i in 1:length(angles_indexes) if angles_indexes[i] != 0]"
   ]
  },
  {
   "cell_type": "code",
   "execution_count": null,
   "metadata": {},
   "outputs": [],
   "source": [
    "plot"
   ]
  }
 ],
 "metadata": {
  "kernelspec": {
   "display_name": "Julia 1.5.3",
   "language": "julia",
   "name": "julia-1.5"
  },
  "language_info": {
   "file_extension": ".jl",
   "mimetype": "application/julia",
   "name": "julia",
   "version": "1.5.3"
  }
 },
 "nbformat": 4,
 "nbformat_minor": 4
}
