{
 "cells": [
  {
   "cell_type": "code",
   "execution_count": 1,
   "metadata": {},
   "outputs": [
    {
     "data": {
      "text/html": [
       "<script>\n",
       "// Immediately-invoked-function-expression to avoid global variables.\n",
       "(function() {\n",
       "    var warning_div = document.getElementById(\"webio-warning-332857450792714125\");\n",
       "    var hide = function () {\n",
       "        var script = document.getElementById(\"webio-setup-5238542748714895222\");\n",
       "        var parent = script && script.parentElement;\n",
       "        var grandparent = parent && parent.parentElement;\n",
       "        if (grandparent) {\n",
       "            grandparent.style.display = \"none\";\n",
       "        }\n",
       "        warning_div.style.display = \"none\";\n",
       "    };\n",
       "    if (typeof Jupyter !== \"undefined\") {\n",
       "        console.log(\"WebIO detected Jupyter notebook environment.\");\n",
       "        // Jupyter notebook.\n",
       "        var extensions = (\n",
       "            Jupyter\n",
       "            && Jupyter.notebook.config.data\n",
       "            && Jupyter.notebook.config.data.load_extensions\n",
       "        );\n",
       "        if (extensions && extensions[\"webio-jupyter-notebook\"]) {\n",
       "            // Extension already loaded.\n",
       "            console.log(\"Jupyter WebIO nbextension detected; not loading ad-hoc.\");\n",
       "            hide();\n",
       "            return;\n",
       "        }\n",
       "    } else if (window.location.pathname.includes(\"/lab\")) {\n",
       "        // Guessing JupyterLa\n",
       "        console.log(\"Jupyter Lab detected; make sure the @webio/jupyter-lab-provider labextension is installed.\");\n",
       "        hide();\n",
       "        return;\n",
       "    }\n",
       "})();\n",
       "\n",
       "</script>\n",
       "<p\n",
       "    id=\"webio-warning-332857450792714125\"\n",
       "    class=\"output_text output_stderr\"\n",
       "    style=\"padding: 1em; font-weight: bold;\"\n",
       ">\n",
       "    Unable to load WebIO. Please make sure WebIO works for your Jupyter client.\n",
       "    For troubleshooting, please see <a href=\"https://juliagizmos.github.io/WebIO.jl/latest/providers/ijulia/\">\n",
       "    the WebIO/IJulia documentation</a>.\n",
       "    <!-- TODO: link to installation docs. -->\n",
       "</p>\n"
      ],
      "text/plain": [
       "HTML{String}(\"<script>\\n// Immediately-invoked-function-expression to avoid global variables.\\n(function() {\\n    var warning_div = document.getElementById(\\\"webio-warning-332857450792714125\\\");\\n    var hide = function () {\\n        var script = document.getElementById(\\\"webio-setup-5238542748714895222\\\");\\n        var parent = script && script.parentElement;\\n        var grandparent = parent && parent.parentElement;\\n        if (grandparent) {\\n            grandparent.style.display = \\\"none\\\";\\n        }\\n        warning_div.style.display = \\\"none\\\";\\n    };\\n    if (typeof Jupyter !== \\\"undefined\\\") {\\n        console.log(\\\"WebIO detected Jupyter notebook environment.\\\");\\n        // Jupyter notebook.\\n        var extensions = (\\n            Jupyter\\n            && Jupyter.notebook.config.data\\n            && Jupyter.notebook.config.data.load_extensions\\n        );\\n        if (extensions && extensions[\\\"webio-jupyter-notebook\\\"]) {\\n            // Extension already loaded.\\n            console.log(\\\"Jupyter WebIO nbextension detected; not loading ad-hoc.\\\");\\n            hide();\\n            return;\\n        }\\n    } else if (window.location.pathname.includes(\\\"/lab\\\")) {\\n        // Guessing JupyterLa\\n        console.log(\\\"Jupyter Lab detected; make sure the @webio/jupyter-lab-provider labextension is installed.\\\");\\n        hide();\\n        return;\\n    }\\n})();\\n\\n</script>\\n<p\\n    id=\\\"webio-warning-332857450792714125\\\"\\n    class=\\\"output_text output_stderr\\\"\\n    style=\\\"padding: 1em; font-weight: bold;\\\"\\n>\\n    Unable to load WebIO. Please make sure WebIO works for your Jupyter client.\\n    For troubleshooting, please see <a href=\\\"https://juliagizmos.github.io/WebIO.jl/latest/providers/ijulia/\\\">\\n    the WebIO/IJulia documentation</a>.\\n    <!-- TODO: link to installation docs. -->\\n</p>\\n\")"
      ]
     },
     "metadata": {},
     "output_type": "display_data"
    },
    {
     "data": {
      "application/vnd.plotly.v1+json": {
       "data": [
        {
         "colorbar": {
          "title": {
           "text": ""
          }
         },
         "legendgroup": "y1",
         "marker": {
          "color": "rgba(102, 0, 102, 0.500)",
          "line": {
           "color": "rgba(0, 0, 0, 0.5)",
           "width": 1
          },
          "size": 8,
          "symbol": "circle"
         },
         "mode": "markers",
         "name": "y1",
         "scene": "scene",
         "showlegend": true,
         "type": "scatter3d",
         "x": [
          1
         ],
         "xaxis": "x",
         "y": [
          1
         ],
         "yaxis": "y",
         "z": [
          1
         ],
         "zaxis": "z",
         "zmax": 10,
         "zmin": 1
        },
        {
         "colorbar": {
          "title": {
           "text": ""
          }
         },
         "legendgroup": "y1",
         "marker": {
          "color": "rgba(57, 0, 159, 0.500)",
          "line": {
           "color": "rgba(0, 0, 0, 0.5)",
           "width": 1
          },
          "size": 8,
          "symbol": "circle"
         },
         "mode": "markers",
         "name": "y1",
         "scene": "scene",
         "showlegend": false,
         "type": "scatter3d",
         "x": [
          2
         ],
         "xaxis": "x",
         "y": [
          2
         ],
         "yaxis": "y",
         "z": [
          2
         ],
         "zaxis": "z",
         "zmax": 10,
         "zmin": 1
        },
        {
         "colorbar": {
          "title": {
           "text": ""
          }
         },
         "legendgroup": "y1",
         "marker": {
          "color": "rgba(11, 0, 215, 0.500)",
          "line": {
           "color": "rgba(0, 0, 0, 0.5)",
           "width": 1
          },
          "size": 8,
          "symbol": "circle"
         },
         "mode": "markers",
         "name": "y1",
         "scene": "scene",
         "showlegend": false,
         "type": "scatter3d",
         "x": [
          3
         ],
         "xaxis": "x",
         "y": [
          3
         ],
         "yaxis": "y",
         "z": [
          3
         ],
         "zaxis": "z",
         "zmax": 10,
         "zmin": 1
        },
        {
         "colorbar": {
          "title": {
           "text": ""
          }
         },
         "legendgroup": "y1",
         "marker": {
          "color": "rgba(0, 34, 153, 0.500)",
          "line": {
           "color": "rgba(0, 0, 0, 0.5)",
           "width": 1
          },
          "size": 8,
          "symbol": "circle"
         },
         "mode": "markers",
         "name": "y1",
         "scene": "scene",
         "showlegend": false,
         "type": "scatter3d",
         "x": [
          4
         ],
         "xaxis": "x",
         "y": [
          4
         ],
         "yaxis": "y",
         "z": [
          4
         ],
         "zaxis": "z",
         "zmax": 10,
         "zmin": 1
        },
        {
         "colorbar": {
          "title": {
           "text": ""
          }
         },
         "legendgroup": "y1",
         "marker": {
          "color": "rgba(0, 80, 51, 0.500)",
          "line": {
           "color": "rgba(0, 0, 0, 0.5)",
           "width": 1
          },
          "size": 8,
          "symbol": "circle"
         },
         "mode": "markers",
         "name": "y1",
         "scene": "scene",
         "showlegend": false,
         "type": "scatter3d",
         "x": [
          5
         ],
         "xaxis": "x",
         "y": [
          5
         ],
         "yaxis": "y",
         "z": [
          5
         ],
         "zaxis": "z",
         "zmax": 10,
         "zmin": 1
        },
        {
         "colorbar": {
          "title": {
           "text": ""
          }
         },
         "legendgroup": "y1",
         "marker": {
          "color": "rgba(51, 111, 0, 0.500)",
          "line": {
           "color": "rgba(0, 0, 0, 0.5)",
           "width": 1
          },
          "size": 8,
          "symbol": "circle"
         },
         "mode": "markers",
         "name": "y1",
         "scene": "scene",
         "showlegend": false,
         "type": "scatter3d",
         "x": [
          6
         ],
         "xaxis": "x",
         "y": [
          6
         ],
         "yaxis": "y",
         "z": [
          6
         ],
         "zaxis": "z",
         "zmax": 10,
         "zmin": 1
        },
        {
         "colorbar": {
          "title": {
           "text": ""
          }
         },
         "legendgroup": "y1",
         "marker": {
          "color": "rgba(153, 127, 0, 0.500)",
          "line": {
           "color": "rgba(0, 0, 0, 0.5)",
           "width": 1
          },
          "size": 8,
          "symbol": "circle"
         },
         "mode": "markers",
         "name": "y1",
         "scene": "scene",
         "showlegend": false,
         "type": "scatter3d",
         "x": [
          7
         ],
         "xaxis": "x",
         "y": [
          7
         ],
         "yaxis": "y",
         "z": [
          7
         ],
         "zaxis": "z",
         "zmax": 10,
         "zmin": 1
        },
        {
         "colorbar": {
          "title": {
           "text": ""
          }
         },
         "legendgroup": "y1",
         "marker": {
          "color": "rgba(230, 124, 0, 0.500)",
          "line": {
           "color": "rgba(0, 0, 0, 0.5)",
           "width": 1
          },
          "size": 8,
          "symbol": "circle"
         },
         "mode": "markers",
         "name": "y1",
         "scene": "scene",
         "showlegend": false,
         "type": "scatter3d",
         "x": [
          8
         ],
         "xaxis": "x",
         "y": [
          8
         ],
         "yaxis": "y",
         "z": [
          8
         ],
         "zaxis": "z",
         "zmax": 10,
         "zmin": 1
        },
        {
         "colorbar": {
          "title": {
           "text": ""
          }
         },
         "legendgroup": "y1",
         "marker": {
          "color": "rgba(230, 62, 0, 0.500)",
          "line": {
           "color": "rgba(0, 0, 0, 0.5)",
           "width": 1
          },
          "size": 8,
          "symbol": "circle"
         },
         "mode": "markers",
         "name": "y1",
         "scene": "scene",
         "showlegend": false,
         "type": "scatter3d",
         "x": [
          9
         ],
         "xaxis": "x",
         "y": [
          9
         ],
         "yaxis": "y",
         "z": [
          9
         ],
         "zaxis": "z",
         "zmax": 10,
         "zmin": 1
        },
        {
         "colorbar": {
          "title": {
           "text": ""
          }
         },
         "legendgroup": "y1",
         "marker": {
          "color": "rgba(230, 0, 0, 0.500)",
          "line": {
           "color": "rgba(0, 0, 0, 0.5)",
           "width": 1
          },
          "size": 8,
          "symbol": "circle"
         },
         "mode": "markers",
         "name": "y1",
         "scene": "scene",
         "showlegend": false,
         "type": "scatter3d",
         "x": [
          10
         ],
         "xaxis": "x",
         "y": [
          10
         ],
         "yaxis": "y",
         "z": [
          10
         ],
         "zaxis": "z",
         "zmax": 10,
         "zmin": 1
        },
        {
         "colorbar": {
          "title": {
           "text": ""
          }
         },
         "hoverinfo": "none",
         "marker": {
          "cmax": 10,
          "cmin": 1,
          "color": [
           0.5
          ],
          "colorscale": [
           [
            0,
            "rgba(102, 0, 102, 1.000)"
           ],
           [
            0.25,
            "rgba(0, 0, 230, 1.000)"
           ],
           [
            0.5,
            "rgba(0, 102, 0, 1.000)"
           ],
           [
            0.75,
            "rgba(230, 140, 0, 1.000)"
           ],
           [
            1,
            "rgba(230, 0, 0, 1.000)"
           ]
          ],
          "opacity": 1e-10,
          "showscale": true,
          "size": 1e-10
         },
         "mode": "markers",
         "name": "y1",
         "scene": "scene",
         "showlegend": false,
         "type": "scatter3d",
         "x": [
          1
         ],
         "xaxis": "x",
         "y": [
          1
         ],
         "yaxis": "y",
         "z": [
          1
         ],
         "zaxis": "z",
         "zmax": 10,
         "zmin": 1
        }
       ],
       "layout": {
        "annotations": [],
        "height": 400,
        "legend": {
         "bgcolor": "rgba(255, 255, 255, 1.000)",
         "bordercolor": "rgba(0, 0, 0, 1)",
         "borderwidth": 1,
         "font": {
          "color": "rgba(0, 0, 0, 1)",
          "family": "sans-serif",
          "size": 11
         },
         "title": {
          "font": {
           "color": "rgba(0, 0, 0, 1)",
           "family": "sans-serif",
           "size": 15
          },
          "text": ""
         },
         "tracegroupgap": 0,
         "traceorder": "normal",
         "x": 1,
         "xanchor": "auto",
         "y": 1,
         "yanchor": "auto"
        },
        "margin": {
         "b": 20,
         "l": 0,
         "r": 0,
         "t": 20
        },
        "paper_bgcolor": "rgba(255, 255, 255, 1.000)",
        "plot_bgcolor": "rgba(255, 255, 255, 1.000)",
        "scene": {
         "aspectmode": "auto",
         "aspectratio": {
          "x": 1.0000000000000002,
          "y": 1.0000000000000002,
          "z": 1.0000000000000002
         },
         "camera": {
          "center": {
           "x": -0.05168934757234805,
           "y": -0.09898852352082788,
           "z": -0.10371849717854492
          },
          "eye": {
           "x": -1.9570161968513402,
           "y": -1.0283773569651316,
           "z": -0.49310768357313983
          },
          "projection": {
           "type": "perspective"
          },
          "up": {
           "x": 0,
           "y": 0,
           "z": 1
          }
         },
         "domain": {
          "x": [
           0.03619130941965587,
           0.9934383202099738
          ],
          "y": [
           0.03762029746281716,
           0.9901574803149606
          ]
         },
         "xaxis": {
          "gridcolor": "rgba(0, 0, 0, 0.1)",
          "gridwidth": 0.5,
          "linecolor": "rgba(0, 0, 0, 1)",
          "mirror": false,
          "range": [
           0.73,
           10.27
          ],
          "showgrid": true,
          "showline": true,
          "showticklabels": true,
          "tickangle": 0,
          "tickcolor": "rgb(0, 0, 0)",
          "tickfont": {
           "color": "rgba(0, 0, 0, 1)",
           "family": "sans-serif",
           "size": 11
          },
          "tickmode": "array",
          "ticks": "inside",
          "ticktext": [
           "2",
           "4",
           "6",
           "8",
           "10"
          ],
          "tickvals": [
           2,
           4,
           6,
           8,
           10
          ],
          "title": {
           "font": {
            "color": "rgba(0, 0, 0, 1)",
            "family": "sans-serif",
            "size": 15
           },
           "text": ""
          },
          "type": "linear",
          "visible": true,
          "zeroline": false,
          "zerolinecolor": "rgba(0, 0, 0, 1)"
         },
         "yaxis": {
          "gridcolor": "rgba(0, 0, 0, 0.1)",
          "gridwidth": 0.5,
          "linecolor": "rgba(0, 0, 0, 1)",
          "mirror": false,
          "range": [
           0.73,
           10.27
          ],
          "showgrid": true,
          "showline": true,
          "showticklabels": true,
          "tickangle": 0,
          "tickcolor": "rgb(0, 0, 0)",
          "tickfont": {
           "color": "rgba(0, 0, 0, 1)",
           "family": "sans-serif",
           "size": 11
          },
          "tickmode": "array",
          "ticks": "inside",
          "ticktext": [
           "2",
           "4",
           "6",
           "8",
           "10"
          ],
          "tickvals": [
           2,
           4,
           6,
           8,
           10
          ],
          "title": {
           "font": {
            "color": "rgba(0, 0, 0, 1)",
            "family": "sans-serif",
            "size": 15
           },
           "text": ""
          },
          "type": "linear",
          "visible": true,
          "zeroline": false,
          "zerolinecolor": "rgba(0, 0, 0, 1)"
         },
         "zaxis": {
          "gridcolor": "rgba(0, 0, 0, 0.1)",
          "gridwidth": 0.5,
          "linecolor": "rgba(0, 0, 0, 1)",
          "mirror": false,
          "range": [
           0.73,
           10.27
          ],
          "showgrid": true,
          "showline": true,
          "showticklabels": true,
          "tickangle": 0,
          "tickcolor": "rgb(0, 0, 0)",
          "tickfont": {
           "color": "rgba(0, 0, 0, 1)",
           "family": "sans-serif",
           "size": 11
          },
          "tickmode": "array",
          "ticks": "inside",
          "ticktext": [
           "2",
           "4",
           "6",
           "8",
           "10"
          ],
          "tickvals": [
           2,
           4,
           6,
           8,
           10
          ],
          "title": {
           "font": {
            "color": "rgba(0, 0, 0, 1)",
            "family": "sans-serif",
            "size": 15
           },
           "text": ""
          },
          "type": "linear",
          "visible": true,
          "zeroline": false,
          "zerolinecolor": "rgba(0, 0, 0, 1)"
         }
        },
        "showlegend": true,
        "width": 600
       }
      },
      "image/png": "[encoded data removed]",
      "text/html": [
       "    <div id=\"f80212bf-0da9-4519-8f42-1f024545ce56\" style=\"width:600px;height:400px;\"></div>\n",
       "    <script>\n",
       "        requirejs.config({\n",
       "        paths: {\n",
       "            Plotly: 'https://cdn.plot.ly/plotly-1.57.1.min'\n",
       "        }\n",
       "    });\n",
       "    require(['Plotly'], function (Plotly) {\n",
       "\n",
       "        var PLOT = document.getElementById('f80212bf-0da9-4519-8f42-1f024545ce56');\n",
       "    Plotly.plot(PLOT, [\n",
       "    {\n",
       "        \"xaxis\": \"x\",\n",
       "        \"colorbar\": {\n",
       "            \"title\": \"\"\n",
       "        },\n",
       "        \"yaxis\": \"y\",\n",
       "        \"zaxis\": \"z\",\n",
       "        \"x\": [\n",
       "            1\n",
       "        ],\n",
       "        \"showlegend\": true,\n",
       "        \"mode\": \"markers\",\n",
       "        \"name\": \"y1\",\n",
       "        \"zmin\": 1.0,\n",
       "        \"legendgroup\": \"y1\",\n",
       "        \"z\": [\n",
       "            1\n",
       "        ],\n",
       "        \"marker\": {\n",
       "            \"symbol\": \"circle\",\n",
       "            \"color\": \"rgba(102, 0, 102, 0.500)\",\n",
       "            \"line\": {\n",
       "                \"color\": \"rgba(0, 0, 0, 0.500)\",\n",
       "                \"width\": 1\n",
       "            },\n",
       "            \"size\": 8\n",
       "        },\n",
       "        \"zmax\": 10.0,\n",
       "        \"y\": [\n",
       "            1\n",
       "        ],\n",
       "        \"type\": \"scatter3d\",\n",
       "        \"scene\": \"scene\"\n",
       "    },\n",
       "    {\n",
       "        \"xaxis\": \"x\",\n",
       "        \"colorbar\": {\n",
       "            \"title\": \"\"\n",
       "        },\n",
       "        \"yaxis\": \"y\",\n",
       "        \"zaxis\": \"z\",\n",
       "        \"x\": [\n",
       "            2\n",
       "        ],\n",
       "        \"showlegend\": false,\n",
       "        \"mode\": \"markers\",\n",
       "        \"name\": \"y1\",\n",
       "        \"zmin\": 1.0,\n",
       "        \"legendgroup\": \"y1\",\n",
       "        \"z\": [\n",
       "            2\n",
       "        ],\n",
       "        \"marker\": {\n",
       "            \"symbol\": \"circle\",\n",
       "            \"color\": \"rgba(57, 0, 159, 0.500)\",\n",
       "            \"line\": {\n",
       "                \"color\": \"rgba(0, 0, 0, 0.500)\",\n",
       "                \"width\": 1\n",
       "            },\n",
       "            \"size\": 8\n",
       "        },\n",
       "        \"zmax\": 10.0,\n",
       "        \"y\": [\n",
       "            2\n",
       "        ],\n",
       "        \"type\": \"scatter3d\",\n",
       "        \"scene\": \"scene\"\n",
       "    },\n",
       "    {\n",
       "        \"xaxis\": \"x\",\n",
       "        \"colorbar\": {\n",
       "            \"title\": \"\"\n",
       "        },\n",
       "        \"yaxis\": \"y\",\n",
       "        \"zaxis\": \"z\",\n",
       "        \"x\": [\n",
       "            3\n",
       "        ],\n",
       "        \"showlegend\": false,\n",
       "        \"mode\": \"markers\",\n",
       "        \"name\": \"y1\",\n",
       "        \"zmin\": 1.0,\n",
       "        \"legendgroup\": \"y1\",\n",
       "        \"z\": [\n",
       "            3\n",
       "        ],\n",
       "        \"marker\": {\n",
       "            \"symbol\": \"circle\",\n",
       "            \"color\": \"rgba(11, 0, 215, 0.500)\",\n",
       "            \"line\": {\n",
       "                \"color\": \"rgba(0, 0, 0, 0.500)\",\n",
       "                \"width\": 1\n",
       "            },\n",
       "            \"size\": 8\n",
       "        },\n",
       "        \"zmax\": 10.0,\n",
       "        \"y\": [\n",
       "            3\n",
       "        ],\n",
       "        \"type\": \"scatter3d\",\n",
       "        \"scene\": \"scene\"\n",
       "    },\n",
       "    {\n",
       "        \"xaxis\": \"x\",\n",
       "        \"colorbar\": {\n",
       "            \"title\": \"\"\n",
       "        },\n",
       "        \"yaxis\": \"y\",\n",
       "        \"zaxis\": \"z\",\n",
       "        \"x\": [\n",
       "            4\n",
       "        ],\n",
       "        \"showlegend\": false,\n",
       "        \"mode\": \"markers\",\n",
       "        \"name\": \"y1\",\n",
       "        \"zmin\": 1.0,\n",
       "        \"legendgroup\": \"y1\",\n",
       "        \"z\": [\n",
       "            4\n",
       "        ],\n",
       "        \"marker\": {\n",
       "            \"symbol\": \"circle\",\n",
       "            \"color\": \"rgba(0, 34, 153, 0.500)\",\n",
       "            \"line\": {\n",
       "                \"color\": \"rgba(0, 0, 0, 0.500)\",\n",
       "                \"width\": 1\n",
       "            },\n",
       "            \"size\": 8\n",
       "        },\n",
       "        \"zmax\": 10.0,\n",
       "        \"y\": [\n",
       "            4\n",
       "        ],\n",
       "        \"type\": \"scatter3d\",\n",
       "        \"scene\": \"scene\"\n",
       "    },\n",
       "    {\n",
       "        \"xaxis\": \"x\",\n",
       "        \"colorbar\": {\n",
       "            \"title\": \"\"\n",
       "        },\n",
       "        \"yaxis\": \"y\",\n",
       "        \"zaxis\": \"z\",\n",
       "        \"x\": [\n",
       "            5\n",
       "        ],\n",
       "        \"showlegend\": false,\n",
       "        \"mode\": \"markers\",\n",
       "        \"name\": \"y1\",\n",
       "        \"zmin\": 1.0,\n",
       "        \"legendgroup\": \"y1\",\n",
       "        \"z\": [\n",
       "            5\n",
       "        ],\n",
       "        \"marker\": {\n",
       "            \"symbol\": \"circle\",\n",
       "            \"color\": \"rgba(0, 80, 51, 0.500)\",\n",
       "            \"line\": {\n",
       "                \"color\": \"rgba(0, 0, 0, 0.500)\",\n",
       "                \"width\": 1\n",
       "            },\n",
       "            \"size\": 8\n",
       "        },\n",
       "        \"zmax\": 10.0,\n",
       "        \"y\": [\n",
       "            5\n",
       "        ],\n",
       "        \"type\": \"scatter3d\",\n",
       "        \"scene\": \"scene\"\n",
       "    },\n",
       "    {\n",
       "        \"xaxis\": \"x\",\n",
       "        \"colorbar\": {\n",
       "            \"title\": \"\"\n",
       "        },\n",
       "        \"yaxis\": \"y\",\n",
       "        \"zaxis\": \"z\",\n",
       "        \"x\": [\n",
       "            6\n",
       "        ],\n",
       "        \"showlegend\": false,\n",
       "        \"mode\": \"markers\",\n",
       "        \"name\": \"y1\",\n",
       "        \"zmin\": 1.0,\n",
       "        \"legendgroup\": \"y1\",\n",
       "        \"z\": [\n",
       "            6\n",
       "        ],\n",
       "        \"marker\": {\n",
       "            \"symbol\": \"circle\",\n",
       "            \"color\": \"rgba(51, 111, 0, 0.500)\",\n",
       "            \"line\": {\n",
       "                \"color\": \"rgba(0, 0, 0, 0.500)\",\n",
       "                \"width\": 1\n",
       "            },\n",
       "            \"size\": 8\n",
       "        },\n",
       "        \"zmax\": 10.0,\n",
       "        \"y\": [\n",
       "            6\n",
       "        ],\n",
       "        \"type\": \"scatter3d\",\n",
       "        \"scene\": \"scene\"\n",
       "    },\n",
       "    {\n",
       "        \"xaxis\": \"x\",\n",
       "        \"colorbar\": {\n",
       "            \"title\": \"\"\n",
       "        },\n",
       "        \"yaxis\": \"y\",\n",
       "        \"zaxis\": \"z\",\n",
       "        \"x\": [\n",
       "            7\n",
       "        ],\n",
       "        \"showlegend\": false,\n",
       "        \"mode\": \"markers\",\n",
       "        \"name\": \"y1\",\n",
       "        \"zmin\": 1.0,\n",
       "        \"legendgroup\": \"y1\",\n",
       "        \"z\": [\n",
       "            7\n",
       "        ],\n",
       "        \"marker\": {\n",
       "            \"symbol\": \"circle\",\n",
       "            \"color\": \"rgba(153, 127, 0, 0.500)\",\n",
       "            \"line\": {\n",
       "                \"color\": \"rgba(0, 0, 0, 0.500)\",\n",
       "                \"width\": 1\n",
       "            },\n",
       "            \"size\": 8\n",
       "        },\n",
       "        \"zmax\": 10.0,\n",
       "        \"y\": [\n",
       "            7\n",
       "        ],\n",
       "        \"type\": \"scatter3d\",\n",
       "        \"scene\": \"scene\"\n",
       "    },\n",
       "    {\n",
       "        \"xaxis\": \"x\",\n",
       "        \"colorbar\": {\n",
       "            \"title\": \"\"\n",
       "        },\n",
       "        \"yaxis\": \"y\",\n",
       "        \"zaxis\": \"z\",\n",
       "        \"x\": [\n",
       "            8\n",
       "        ],\n",
       "        \"showlegend\": false,\n",
       "        \"mode\": \"markers\",\n",
       "        \"name\": \"y1\",\n",
       "        \"zmin\": 1.0,\n",
       "        \"legendgroup\": \"y1\",\n",
       "        \"z\": [\n",
       "            8\n",
       "        ],\n",
       "        \"marker\": {\n",
       "            \"symbol\": \"circle\",\n",
       "            \"color\": \"rgba(230, 124, 0, 0.500)\",\n",
       "            \"line\": {\n",
       "                \"color\": \"rgba(0, 0, 0, 0.500)\",\n",
       "                \"width\": 1\n",
       "            },\n",
       "            \"size\": 8\n",
       "        },\n",
       "        \"zmax\": 10.0,\n",
       "        \"y\": [\n",
       "            8\n",
       "        ],\n",
       "        \"type\": \"scatter3d\",\n",
       "        \"scene\": \"scene\"\n",
       "    },\n",
       "    {\n",
       "        \"xaxis\": \"x\",\n",
       "        \"colorbar\": {\n",
       "            \"title\": \"\"\n",
       "        },\n",
       "        \"yaxis\": \"y\",\n",
       "        \"zaxis\": \"z\",\n",
       "        \"x\": [\n",
       "            9\n",
       "        ],\n",
       "        \"showlegend\": false,\n",
       "        \"mode\": \"markers\",\n",
       "        \"name\": \"y1\",\n",
       "        \"zmin\": 1.0,\n",
       "        \"legendgroup\": \"y1\",\n",
       "        \"z\": [\n",
       "            9\n",
       "        ],\n",
       "        \"marker\": {\n",
       "            \"symbol\": \"circle\",\n",
       "            \"color\": \"rgba(230, 62, 0, 0.500)\",\n",
       "            \"line\": {\n",
       "                \"color\": \"rgba(0, 0, 0, 0.500)\",\n",
       "                \"width\": 1\n",
       "            },\n",
       "            \"size\": 8\n",
       "        },\n",
       "        \"zmax\": 10.0,\n",
       "        \"y\": [\n",
       "            9\n",
       "        ],\n",
       "        \"type\": \"scatter3d\",\n",
       "        \"scene\": \"scene\"\n",
       "    },\n",
       "    {\n",
       "        \"xaxis\": \"x\",\n",
       "        \"colorbar\": {\n",
       "            \"title\": \"\"\n",
       "        },\n",
       "        \"yaxis\": \"y\",\n",
       "        \"zaxis\": \"z\",\n",
       "        \"x\": [\n",
       "            10\n",
       "        ],\n",
       "        \"showlegend\": false,\n",
       "        \"mode\": \"markers\",\n",
       "        \"name\": \"y1\",\n",
       "        \"zmin\": 1.0,\n",
       "        \"legendgroup\": \"y1\",\n",
       "        \"z\": [\n",
       "            10\n",
       "        ],\n",
       "        \"marker\": {\n",
       "            \"symbol\": \"circle\",\n",
       "            \"color\": \"rgba(230, 0, 0, 0.500)\",\n",
       "            \"line\": {\n",
       "                \"color\": \"rgba(0, 0, 0, 0.500)\",\n",
       "                \"width\": 1\n",
       "            },\n",
       "            \"size\": 8\n",
       "        },\n",
       "        \"zmax\": 10.0,\n",
       "        \"y\": [\n",
       "            10\n",
       "        ],\n",
       "        \"type\": \"scatter3d\",\n",
       "        \"scene\": \"scene\"\n",
       "    },\n",
       "    {\n",
       "        \"xaxis\": \"x\",\n",
       "        \"colorbar\": {\n",
       "            \"title\": \"\"\n",
       "        },\n",
       "        \"yaxis\": \"y\",\n",
       "        \"zaxis\": \"z\",\n",
       "        \"x\": [\n",
       "            1\n",
       "        ],\n",
       "        \"showlegend\": false,\n",
       "        \"mode\": \"markers\",\n",
       "        \"name\": \"y1\",\n",
       "        \"zmin\": 1.0,\n",
       "        \"z\": [\n",
       "            1\n",
       "        ],\n",
       "        \"marker\": {\n",
       "            \"color\": [\n",
       "                0.5\n",
       "            ],\n",
       "            \"cmin\": 1.0,\n",
       "            \"opacity\": 1.0e-10,\n",
       "            \"size\": 1.0e-10,\n",
       "            \"colorscale\": [\n",
       "                [\n",
       "                    0.0,\n",
       "                    \"rgba(102, 0, 102, 1.000)\"\n",
       "                ],\n",
       "                [\n",
       "                    0.25,\n",
       "                    \"rgba(0, 0, 230, 1.000)\"\n",
       "                ],\n",
       "                [\n",
       "                    0.5,\n",
       "                    \"rgba(0, 102, 0, 1.000)\"\n",
       "                ],\n",
       "                [\n",
       "                    0.75,\n",
       "                    \"rgba(230, 140, 0, 1.000)\"\n",
       "                ],\n",
       "                [\n",
       "                    1.0,\n",
       "                    \"rgba(230, 0, 0, 1.000)\"\n",
       "                ]\n",
       "            ],\n",
       "            \"cmax\": 10.0,\n",
       "            \"showscale\": true\n",
       "        },\n",
       "        \"zmax\": 10.0,\n",
       "        \"y\": [\n",
       "            1\n",
       "        ],\n",
       "        \"type\": \"scatter3d\",\n",
       "        \"scene\": \"scene\",\n",
       "        \"hoverinfo\": \"none\"\n",
       "    }\n",
       "]\n",
       ", {\n",
       "    \"showlegend\": true,\n",
       "    \"paper_bgcolor\": \"rgba(255, 255, 255, 1.000)\",\n",
       "    \"annotations\": [],\n",
       "    \"height\": 400,\n",
       "    \"margin\": {\n",
       "        \"l\": 0,\n",
       "        \"b\": 20,\n",
       "        \"r\": 0,\n",
       "        \"t\": 20\n",
       "    },\n",
       "    \"plot_bgcolor\": \"rgba(255, 255, 255, 1.000)\",\n",
       "    \"scene\": {\n",
       "        \"camera\": {\n",
       "            \"eye\": {\n",
       "                \"y\": -1.9499999999999997,\n",
       "                \"z\": 1.3,\n",
       "                \"x\": 1.12583302491977\n",
       "            }\n",
       "        },\n",
       "        \"xaxis\": {\n",
       "            \"tickangle\": 0,\n",
       "            \"showline\": true,\n",
       "            \"gridcolor\": \"rgba(0, 0, 0, 0.100)\",\n",
       "            \"showticklabels\": true,\n",
       "            \"gridwidth\": 0.5,\n",
       "            \"titlefont\": {\n",
       "                \"color\": \"rgba(0, 0, 0, 1.000)\",\n",
       "                \"family\": \"sans-serif\",\n",
       "                \"size\": 15\n",
       "            },\n",
       "            \"visible\": true,\n",
       "            \"ticks\": \"inside\",\n",
       "            \"range\": [\n",
       "                0.73,\n",
       "                10.27\n",
       "            ],\n",
       "            \"tickmode\": \"array\",\n",
       "            \"tickvals\": [\n",
       "                2.0,\n",
       "                4.0,\n",
       "                6.0,\n",
       "                8.0,\n",
       "                10.0\n",
       "            ],\n",
       "            \"tickcolor\": \"rgb(0, 0, 0)\",\n",
       "            \"ticktext\": [\n",
       "                \"2\",\n",
       "                \"4\",\n",
       "                \"6\",\n",
       "                \"8\",\n",
       "                \"10\"\n",
       "            ],\n",
       "            \"linecolor\": \"rgba(0, 0, 0, 1.000)\",\n",
       "            \"showgrid\": true,\n",
       "            \"zeroline\": false,\n",
       "            \"type\": \"-\",\n",
       "            \"tickfont\": {\n",
       "                \"color\": \"rgba(0, 0, 0, 1.000)\",\n",
       "                \"family\": \"sans-serif\",\n",
       "                \"size\": 11\n",
       "            },\n",
       "            \"title\": \"\",\n",
       "            \"zerolinecolor\": \"rgba(0, 0, 0, 1.000)\",\n",
       "            \"mirror\": false\n",
       "        },\n",
       "        \"domain\": {\n",
       "            \"y\": [\n",
       "                0.03762029746281716,\n",
       "                0.9901574803149606\n",
       "            ],\n",
       "            \"x\": [\n",
       "                0.03619130941965587,\n",
       "                0.9934383202099738\n",
       "            ]\n",
       "        },\n",
       "        \"yaxis\": {\n",
       "            \"tickangle\": 0,\n",
       "            \"showline\": true,\n",
       "            \"gridcolor\": \"rgba(0, 0, 0, 0.100)\",\n",
       "            \"showticklabels\": true,\n",
       "            \"gridwidth\": 0.5,\n",
       "            \"titlefont\": {\n",
       "                \"color\": \"rgba(0, 0, 0, 1.000)\",\n",
       "                \"family\": \"sans-serif\",\n",
       "                \"size\": 15\n",
       "            },\n",
       "            \"visible\": true,\n",
       "            \"ticks\": \"inside\",\n",
       "            \"range\": [\n",
       "                0.73,\n",
       "                10.27\n",
       "            ],\n",
       "            \"tickmode\": \"array\",\n",
       "            \"tickvals\": [\n",
       "                2.0,\n",
       "                4.0,\n",
       "                6.0,\n",
       "                8.0,\n",
       "                10.0\n",
       "            ],\n",
       "            \"tickcolor\": \"rgb(0, 0, 0)\",\n",
       "            \"ticktext\": [\n",
       "                \"2\",\n",
       "                \"4\",\n",
       "                \"6\",\n",
       "                \"8\",\n",
       "                \"10\"\n",
       "            ],\n",
       "            \"linecolor\": \"rgba(0, 0, 0, 1.000)\",\n",
       "            \"showgrid\": true,\n",
       "            \"zeroline\": false,\n",
       "            \"type\": \"-\",\n",
       "            \"tickfont\": {\n",
       "                \"color\": \"rgba(0, 0, 0, 1.000)\",\n",
       "                \"family\": \"sans-serif\",\n",
       "                \"size\": 11\n",
       "            },\n",
       "            \"title\": \"\",\n",
       "            \"zerolinecolor\": \"rgba(0, 0, 0, 1.000)\",\n",
       "            \"mirror\": false\n",
       "        },\n",
       "        \"zaxis\": {\n",
       "            \"tickangle\": 0,\n",
       "            \"showline\": true,\n",
       "            \"gridcolor\": \"rgba(0, 0, 0, 0.100)\",\n",
       "            \"showticklabels\": true,\n",
       "            \"gridwidth\": 0.5,\n",
       "            \"titlefont\": {\n",
       "                \"color\": \"rgba(0, 0, 0, 1.000)\",\n",
       "                \"family\": \"sans-serif\",\n",
       "                \"size\": 15\n",
       "            },\n",
       "            \"visible\": true,\n",
       "            \"ticks\": \"inside\",\n",
       "            \"range\": [\n",
       "                0.73,\n",
       "                10.27\n",
       "            ],\n",
       "            \"tickmode\": \"array\",\n",
       "            \"tickvals\": [\n",
       "                2.0,\n",
       "                4.0,\n",
       "                6.0,\n",
       "                8.0,\n",
       "                10.0\n",
       "            ],\n",
       "            \"tickcolor\": \"rgb(0, 0, 0)\",\n",
       "            \"ticktext\": [\n",
       "                \"2\",\n",
       "                \"4\",\n",
       "                \"6\",\n",
       "                \"8\",\n",
       "                \"10\"\n",
       "            ],\n",
       "            \"linecolor\": \"rgba(0, 0, 0, 1.000)\",\n",
       "            \"showgrid\": true,\n",
       "            \"zeroline\": false,\n",
       "            \"type\": \"-\",\n",
       "            \"tickfont\": {\n",
       "                \"color\": \"rgba(0, 0, 0, 1.000)\",\n",
       "                \"family\": \"sans-serif\",\n",
       "                \"size\": 11\n",
       "            },\n",
       "            \"title\": \"\",\n",
       "            \"zerolinecolor\": \"rgba(0, 0, 0, 1.000)\",\n",
       "            \"mirror\": false\n",
       "        }\n",
       "    },\n",
       "    \"legend\": {\n",
       "        \"yanchor\": \"auto\",\n",
       "        \"xanchor\": \"auto\",\n",
       "        \"bordercolor\": \"rgba(0, 0, 0, 1.000)\",\n",
       "        \"bgcolor\": \"rgba(255, 255, 255, 1.000)\",\n",
       "        \"borderwidth\": 1,\n",
       "        \"tracegroupgap\": 0,\n",
       "        \"y\": 1.0,\n",
       "        \"font\": {\n",
       "            \"color\": \"rgba(0, 0, 0, 1.000)\",\n",
       "            \"family\": \"sans-serif\",\n",
       "            \"size\": 11\n",
       "        },\n",
       "        \"title\": {\n",
       "            \"font\": {\n",
       "                \"color\": \"rgba(0, 0, 0, 1.000)\",\n",
       "                \"family\": \"sans-serif\",\n",
       "                \"size\": 15\n",
       "            },\n",
       "            \"text\": \"\"\n",
       "        },\n",
       "        \"traceorder\": \"normal\",\n",
       "        \"x\": 1.0\n",
       "    },\n",
       "    \"width\": 600\n",
       "}\n",
       ");\n",
       "\n",
       "    });\n",
       "    </script>\n"
      ]
     },
     "execution_count": 1,
     "metadata": {},
     "output_type": "execute_result"
    }
   ],
   "source": [
    "using Plots\n",
    "plotlyjs()\n",
    "scatter(1:10,1:10,1:10,marker_z=1:10,seriescolor=:darkrainbow,alpha=0.5)"
   ]
  },
  {
   "cell_type": "code",
   "execution_count": 2,
   "metadata": {},
   "outputs": [],
   "source": [
    "include(joinpath(\"..\",\"src\",\"test.jl\"))"
   ]
  },
  {
   "cell_type": "code",
   "execution_count": null,
   "metadata": {
    "jupyter": {
     "source_hidden": true
    }
   },
   "outputs": [],
   "source": []
  },
  {
   "cell_type": "code",
   "execution_count": 93,
   "metadata": {},
   "outputs": [
    {
     "data": {
      "text/plain": [
       "PolygonalChain(Point[Point{Float64}(3.8513761654501075, -0.5140725347130227, 0.5539311173363956), Point{Float64}(2.980374385297366, -1.3513854301502333, 1.8415982019510198), Point{Float64}(1.818378027491094, -1.468741961266133, 1.6260004801644825), Point{Float64}(0.37590100627092426, -1.3415917075177295, 0.8771778089168274), Point{Float64}(-1.0382949590965762, -0.5734158307267856, -0.6228097713653942), Point{Float64}(-1.9169040824982495, 0.7042845183840845, -1.5869444379780628), Point{Float64}(-2.058203943127265, 1.8539882368355145, -1.4681694848489548), Point{Float64}(-1.7006254798043692, 3.191866464470163, -0.5970408397936917), Point{Float64}(-0.4711488249571778, 3.488806068778803, 0.7559571965206462), Point{Float64}(0.5435415474855588, 2.745346812950469, 1.0640733701803544), Point{Float64}(1.267002351490731, 1.5752812135158258, 0.664527641843817), Point{Float64}(1.5465394488753135, -0.07779764683770127, -0.6651611864800521), Point{Float64}(0.8906267273862212, -1.7624977813441176, -1.5089096774865258), Point{Float64}(0.013122418974625242, -2.633201210699164, -1.4021903229110462), Point{Float64}(-1.1317127460162286, -3.166917619967089, -0.6312012956343109), Point{Float64}(-2.2991718974197974, -2.8362669681485766, 0.8123532387602133), Point{Float64}(-2.6793889822608485, -1.763241820593594, 1.7064443998631935), Point{Float64}(-2.343573913789392, -0.5451562887703526, 1.6179758536488467), Point{Float64}(-1.4260799309456387, 1.0316852595416508, 0.741112427693809), Point{Float64}(-0.153786054901679, 1.7356817985179531, -0.8028708555088901)])"
      ]
     },
     "execution_count": 93,
     "metadata": {},
     "output_type": "execute_result"
    }
   ],
   "source": [
    "#P = PolygonalChain([3.0,  0.0,  0.0, 2.63276, -0.80856,  1.52617, 1.64056, -1.2846,   1.97272, 0.31711, -1.20964,  1.02377, -0.952868,-0.555674,-0.649399,-1.81511,  0.50135, -1.86318, -2.05623,  1.63576, -1.75895, -1.66762,  2.47667, -0.410431,-0.84244,  2.72889,  1.22843, 0.0928408,2.27083,  1.99829, 0.789547, 1.19738,  1.35456, 0.994023,-0.206484,-0.247385,0.632464,-1.55312, -1.67433, -0.16445, -2.47271, -1.91685, -1.10518, -2.72794, -0.803391,-1.83496, -2.28615,  0.878393,-2.0553,  -1.32577,  1.9388,  -1.62633, -0.175326, 1.6277,  -0.617949, 0.794859, 0.165159,0.707107, 1.29289, -1.41421])\n",
    "P = parametricCurveChain(treefoil,30,0,deg2rad(315))\n",
    "Q = PolygonalChain(Point[Point{Float64}(3.8513761654501075, -0.5140725347130227, 0.5539311173363956), Point{Float64}(2.980374385297366, -1.3513854301502333, 1.8415982019510198), Point{Float64}(1.818378027491094, -1.468741961266133, 1.6260004801644825), Point{Float64}(0.37590100627092426, -1.3415917075177295, 0.8771778089168274), Point{Float64}(-1.0382949590965762, -0.5734158307267856, -0.6228097713653942), Point{Float64}(-1.9169040824982495, 0.7042845183840845, -1.5869444379780628), Point{Float64}(-2.058203943127265, 1.8539882368355145, -1.4681694848489548), Point{Float64}(-1.7006254798043692, 3.191866464470163, -0.5970408397936917), Point{Float64}(-0.4711488249571778, 3.488806068778803, 0.7559571965206462), Point{Float64}(0.5435415474855588, 2.745346812950469, 1.0640733701803544), Point{Float64}(1.267002351490731, 1.5752812135158258, 0.664527641843817), Point{Float64}(1.5465394488753135, -0.07779764683770127, -0.6651611864800521), Point{Float64}(0.8906267273862212, -1.7624977813441176, -1.5089096774865258), Point{Float64}(0.013122418974625242, -2.633201210699164, -1.4021903229110462), Point{Float64}(-1.1317127460162286, -3.166917619967089, -0.6312012956343109), Point{Float64}(-2.2991718974197974, -2.8362669681485766, 0.8123532387602133), Point{Float64}(-2.6793889822608485, -1.763241820593594, 1.7064443998631935), Point{Float64}(-2.343573913789392, -0.5451562887703526, 1.6179758536488467), Point{Float64}(-1.4260799309456387, 1.0316852595416508, 0.741112427693809), Point{Float64}(-0.153786054901679, 1.7356817985179531, -0.8028708555088901)])"
   ]
  },
  {
   "cell_type": "code",
   "execution_count": 66,
   "metadata": {},
   "outputs": [
    {
     "data": {
      "text/plain": [
       "([1.7657359650030837, 1.187640716148726, 1.6302277558369793, 2.2000016243190443, 1.8259320436067226, 1.1644276616356233, 1.6360457332716063, 1.8521311109581047, 1.2950921989641626, 1.4325103235531358, 2.139832489550308, 1.9950808400508029, 1.240776891725756, 1.4798394656392304, 1.885773163476182, 1.4475313478024534, 1.2666218089572614, 2.02413288636346, 2.1209024524705997], [2.3216841878910923, 2.0274252393264507, 2.7518405499139043, 2.8247867753064573, 2.2171141524462996, 2.1239094092080792, 2.702554038638918, 2.4973969051600093, 1.9274504241692303, 2.6352187178303854, 2.8612439543596144, 2.428662406838548, 1.9703937631458144, 2.6396170356431514, 2.6212701083123595, 1.951017289136407, 2.4679227031354882, 2.864508102501151], [0.00469770519749004, -0.24678635858503856, -0.8049398911631906, -0.37702740486117464, -0.03206279353951853, 0.17919777461145947, 0.2979438868994663, 0.04657673736590772, -0.1512458066964457, -0.7153053524542287, -0.5345005279278591, -0.07499207014391006, 0.11255999735090057, 0.3198163771476504, 0.10029288179256608, -0.08539002616249622, -0.5670234269169198])"
      ]
     },
     "execution_count": 66,
     "metadata": {},
     "output_type": "execute_result"
    }
   ],
   "source": [
    "ls,bas,das = internalCoordinates(P)"
   ]
  },
  {
   "cell_type": "code",
   "execution_count": 95,
   "metadata": {},
   "outputs": [
    {
     "data": {
      "application/vnd.plotly.v1+json": {
       "data": [
        {
         "colorbar": {
          "title": {
           "text": ""
          }
         },
         "legendgroup": "y1",
         "marker": {
          "color": "rgba(255, 0, 0, 1.000)",
          "line": {
           "color": "rgba(0, 0, 0, 1)",
           "width": 1
          },
          "size": 6,
          "symbol": "circle"
         },
         "mode": "markers",
         "name": "y1",
         "scene": "scene",
         "showlegend": true,
         "type": "scatter3d",
         "x": [
          3,
          2.63276043898331,
          1.6405573275684677,
          0.3171100572994737,
          -0.9528677185985122,
          -1.815107900609313,
          -2.0562290736820032,
          -1.6676220142267062,
          -0.8424402625704064,
          0.09284083170426105,
          0.7895472364736471,
          0.9940232276260387,
          0.6324637770921536,
          -0.16444977886082746,
          -1.1051836869712655,
          -1.8349557919100934,
          -2.055301952277777,
          -1.6263313111144808,
          -0.6179489232077826,
          0.7071067811865465
         ],
         "xaxis": "x",
         "y": [
          0,
          -0.8085600919957483,
          -1.284598495187688,
          -1.2096385386056383,
          -0.555674494691206,
          0.501349605455446,
          1.6357602418120885,
          2.476672000684766,
          2.7288928966864714,
          2.27083255150258,
          1.1973802732149479,
          -0.20648366519347783,
          -1.5531248945840168,
          -2.4727112988032074,
          -2.727941041275055,
          -2.2861542313027607,
          -1.3257736735681394,
          -0.17532599602141574,
          0.7948592053185667,
          1.2928932188134523
         ],
         "yaxis": "y",
         "z": [
          0,
          1.526168136399613,
          1.9727226068054449,
          1.0237700981792024,
          -0.6493989384093668,
          -1.8631821761025573,
          -1.7589475024129786,
          -0.41043068439126934,
          1.2284254253793354,
          1.998291516774602,
          1.3545631432514844,
          -0.24738526253869608,
          -1.674332956525056,
          -1.9168549649165059,
          -0.8033908493059403,
          0.8783931776947397,
          1.9388005318786607,
          1.62769743454039,
          0.1651586909446681,
          -1.4142135623730954
         ],
         "zaxis": "z",
         "zmax": null,
         "zmin": null
        },
        {
         "colorbar": {
          "title": {
           "text": ""
          }
         },
         "legendgroup": "y2",
         "line": {
          "color": "rgba(0, 0, 0, 1)",
          "dash": "solid",
          "shape": "linear",
          "width": 2
         },
         "mode": "lines",
         "name": "y2",
         "scene": "scene",
         "showlegend": true,
         "type": "scatter3d",
         "x": [
          3,
          2.63276043898331,
          1.6405573275684677,
          0.3171100572994737,
          -0.9528677185985122,
          -1.815107900609313,
          -2.0562290736820032,
          -1.6676220142267062,
          -0.8424402625704064,
          0.09284083170426105,
          0.7895472364736471,
          0.9940232276260387,
          0.6324637770921536,
          -0.16444977886082746,
          -1.1051836869712655,
          -1.8349557919100934,
          -2.055301952277777,
          -1.6263313111144808,
          -0.6179489232077826,
          0.7071067811865465
         ],
         "xaxis": "x",
         "y": [
          0,
          -0.8085600919957483,
          -1.284598495187688,
          -1.2096385386056383,
          -0.555674494691206,
          0.501349605455446,
          1.6357602418120885,
          2.476672000684766,
          2.7288928966864714,
          2.27083255150258,
          1.1973802732149479,
          -0.20648366519347783,
          -1.5531248945840168,
          -2.4727112988032074,
          -2.727941041275055,
          -2.2861542313027607,
          -1.3257736735681394,
          -0.17532599602141574,
          0.7948592053185667,
          1.2928932188134523
         ],
         "yaxis": "y",
         "z": [
          0,
          1.526168136399613,
          1.9727226068054449,
          1.0237700981792024,
          -0.6493989384093668,
          -1.8631821761025573,
          -1.7589475024129786,
          -0.41043068439126934,
          1.2284254253793354,
          1.998291516774602,
          1.3545631432514844,
          -0.24738526253869608,
          -1.674332956525056,
          -1.9168549649165059,
          -0.8033908493059403,
          0.8783931776947397,
          1.9388005318786607,
          1.62769743454039,
          0.1651586909446681,
          -1.4142135623730954
         ],
         "zaxis": "z",
         "zmax": null,
         "zmin": null
        },
        {
         "colorbar": {
          "title": {
           "text": ""
          }
         },
         "legendgroup": "y3",
         "marker": {
          "color": "rgba(0, 0, 255, 1.000)",
          "line": {
           "color": "rgba(0, 0, 0, 1)",
           "width": 1
          },
          "size": 6,
          "symbol": "circle"
         },
         "mode": "markers",
         "name": "y3",
         "scene": "scene",
         "showlegend": true,
         "type": "scatter3d",
         "x": [
          3.8513761654501075,
          2.980374385297366,
          1.818378027491094,
          0.37590100627092426,
          -1.0382949590965762,
          -1.9169040824982495,
          -2.058203943127265,
          -1.7006254798043692,
          -0.4711488249571778,
          0.5435415474855588,
          1.267002351490731,
          1.5465394488753135,
          0.8906267273862212,
          0.013122418974625242,
          -1.1317127460162286,
          -2.2991718974197974,
          -2.6793889822608485,
          -2.343573913789392,
          -1.4260799309456387,
          -0.153786054901679
         ],
         "xaxis": "x",
         "y": [
          -0.5140725347130227,
          -1.3513854301502333,
          -1.468741961266133,
          -1.3415917075177295,
          -0.5734158307267856,
          0.7042845183840845,
          1.8539882368355145,
          3.191866464470163,
          3.488806068778803,
          2.745346812950469,
          1.5752812135158258,
          -0.07779764683770127,
          -1.7624977813441176,
          -2.633201210699164,
          -3.166917619967089,
          -2.8362669681485766,
          -1.763241820593594,
          -0.5451562887703526,
          1.0316852595416508,
          1.7356817985179531
         ],
         "yaxis": "y",
         "z": [
          0.5539311173363956,
          1.8415982019510198,
          1.6260004801644825,
          0.8771778089168274,
          -0.6228097713653942,
          -1.5869444379780628,
          -1.4681694848489548,
          -0.5970408397936917,
          0.7559571965206462,
          1.0640733701803544,
          0.664527641843817,
          -0.6651611864800521,
          -1.5089096774865258,
          -1.4021903229110462,
          -0.6312012956343109,
          0.8123532387602133,
          1.7064443998631935,
          1.6179758536488467,
          0.741112427693809,
          -0.8028708555088901
         ],
         "zaxis": "z",
         "zmax": null,
         "zmin": null
        },
        {
         "colorbar": {
          "title": {
           "text": ""
          }
         },
         "legendgroup": "y4",
         "line": {
          "color": "rgba(0, 0, 0, 1)",
          "dash": "solid",
          "shape": "linear",
          "width": 2
         },
         "mode": "lines",
         "name": "y4",
         "scene": "scene",
         "showlegend": true,
         "type": "scatter3d",
         "x": [
          3.8513761654501075,
          2.980374385297366,
          1.818378027491094,
          0.37590100627092426,
          -1.0382949590965762,
          -1.9169040824982495,
          -2.058203943127265,
          -1.7006254798043692,
          -0.4711488249571778,
          0.5435415474855588,
          1.267002351490731,
          1.5465394488753135,
          0.8906267273862212,
          0.013122418974625242,
          -1.1317127460162286,
          -2.2991718974197974,
          -2.6793889822608485,
          -2.343573913789392,
          -1.4260799309456387,
          -0.153786054901679
         ],
         "xaxis": "x",
         "y": [
          -0.5140725347130227,
          -1.3513854301502333,
          -1.468741961266133,
          -1.3415917075177295,
          -0.5734158307267856,
          0.7042845183840845,
          1.8539882368355145,
          3.191866464470163,
          3.488806068778803,
          2.745346812950469,
          1.5752812135158258,
          -0.07779764683770127,
          -1.7624977813441176,
          -2.633201210699164,
          -3.166917619967089,
          -2.8362669681485766,
          -1.763241820593594,
          -0.5451562887703526,
          1.0316852595416508,
          1.7356817985179531
         ],
         "yaxis": "y",
         "z": [
          0.5539311173363956,
          1.8415982019510198,
          1.6260004801644825,
          0.8771778089168274,
          -0.6228097713653942,
          -1.5869444379780628,
          -1.4681694848489548,
          -0.5970408397936917,
          0.7559571965206462,
          1.0640733701803544,
          0.664527641843817,
          -0.6651611864800521,
          -1.5089096774865258,
          -1.4021903229110462,
          -0.6312012956343109,
          0.8123532387602133,
          1.7064443998631935,
          1.6179758536488467,
          0.741112427693809,
          -0.8028708555088901
         ],
         "zaxis": "z",
         "zmax": null,
         "zmin": null
        }
       ],
       "layout": {
        "annotations": [],
        "height": 400,
        "legend": {
         "bgcolor": "rgba(255, 255, 255, 1.000)",
         "bordercolor": "rgba(0, 0, 0, 1)",
         "borderwidth": 1,
         "font": {
          "color": "rgba(0, 0, 0, 1)",
          "family": "sans-serif",
          "size": 11
         },
         "title": {
          "font": {
           "color": "rgba(0, 0, 0, 1)",
           "family": "sans-serif",
           "size": 15
          },
          "text": ""
         },
         "tracegroupgap": 0,
         "traceorder": "normal",
         "x": 1,
         "xanchor": "auto",
         "y": 1,
         "yanchor": "auto"
        },
        "margin": {
         "b": 20,
         "l": 0,
         "r": 0,
         "t": 20
        },
        "paper_bgcolor": "rgba(255, 255, 255, 1.000)",
        "plot_bgcolor": "rgba(255, 255, 255, 1.000)",
        "scene": {
         "aspectmode": "auto",
         "aspectratio": {
          "x": 1.1784964477428832,
          "y": 1.2010455967926577,
          "z": 0.7065000986420753
         },
         "camera": {
          "center": {
           "x": 0.07338574806490487,
           "y": -0.049517349588093514,
           "z": -0.13782994648207247
          },
          "eye": {
           "x": 1.1240001430953643,
           "y": -0.09851386460430035,
           "z": 2.23994395666159
          },
          "projection": {
           "type": "perspective"
          },
          "up": {
           "x": 0,
           "y": 0,
           "z": 1
          }
         },
         "domain": {
          "x": [
           0.061654272382618835,
           0.9934383202099737
          ],
          "y": [
           0.07581474190726165,
           0.9901574803149606
          ]
         },
         "xaxis": {
          "gridcolor": "rgba(0, 0, 0, 0.1)",
          "gridwidth": 0.5,
          "linecolor": "rgba(0, 0, 0, 1)",
          "mirror": false,
          "range": [
           -2.875311936692177,
           4.047299119881436
          ],
          "showgrid": true,
          "showline": true,
          "showticklabels": true,
          "tickangle": 0,
          "tickcolor": "rgb(0, 0, 0)",
          "tickfont": {
           "color": "rgba(0, 0, 0, 1)",
           "family": "sans-serif",
           "size": 11
          },
          "tickmode": "array",
          "ticks": "inside",
          "ticktext": [
           "-2",
           "-1",
           "0",
           "1",
           "2",
           "3",
           "4"
          ],
          "tickvals": [
           -2,
           -1,
           0,
           1,
           2,
           3,
           4
          ],
          "title": {
           "font": {
            "color": "rgba(0, 0, 0, 1)",
            "family": "sans-serif",
            "size": 15
           },
           "text": "x"
          },
          "type": "linear",
          "visible": true,
          "zeroline": false,
          "zerolinecolor": "rgba(0, 0, 0, 1)"
         },
         "yaxis": {
          "gridcolor": "rgba(0, 0, 0, 0.1)",
          "gridwidth": 0.5,
          "linecolor": "rgba(0, 0, 0, 1)",
          "mirror": false,
          "range": [
           -3.366589330629466,
           3.68847777944118
          ],
          "showgrid": true,
          "showline": true,
          "showticklabels": true,
          "tickangle": 0,
          "tickcolor": "rgb(0, 0, 0)",
          "tickfont": {
           "color": "rgba(0, 0, 0, 1)",
           "family": "sans-serif",
           "size": 11
          },
          "tickmode": "array",
          "ticks": "inside",
          "ticktext": [
           "-3",
           "-2",
           "-1",
           "0",
           "1",
           "2",
           "3"
          ],
          "tickvals": [
           -3,
           -2,
           -1,
           0,
           1,
           2,
           3
          ],
          "title": {
           "font": {
            "color": "rgba(0, 0, 0, 1)",
            "family": "sans-serif",
            "size": 15
           },
           "text": "y"
          },
          "type": "linear",
          "visible": true,
          "zeroline": false,
          "zerolinecolor": "rgba(0, 0, 0, 1)"
         },
         "zaxis": {
          "gridcolor": "rgba(0, 0, 0, 0.1)",
          "gridwidth": 0.5,
          "linecolor": "rgba(0, 0, 0, 1)",
          "mirror": false,
          "range": [
           -2.034309359367239,
           2.115745911225335
          ],
          "showgrid": true,
          "showline": true,
          "showticklabels": true,
          "tickangle": 0,
          "tickcolor": "rgb(0, 0, 0)",
          "tickfont": {
           "color": "rgba(0, 0, 0, 1)",
           "family": "sans-serif",
           "size": 11
          },
          "tickmode": "array",
          "ticks": "inside",
          "ticktext": [
           "-2",
           "-1",
           "0",
           "1",
           "2"
          ],
          "tickvals": [
           -2,
           -1,
           0,
           1,
           2
          ],
          "title": {
           "font": {
            "color": "rgba(0, 0, 0, 1)",
            "family": "sans-serif",
            "size": 15
           },
           "text": "z"
          },
          "type": "linear",
          "visible": true,
          "zeroline": false,
          "zerolinecolor": "rgba(0, 0, 0, 1)"
         }
        },
        "showlegend": true,
        "width": 600
       }
      },
      "image/png": "[encoded data removed]",
      "text/html": [
       "    <div id=\"77dbb2a1-7e35-41e6-a691-222472962bd5\" style=\"width:600px;height:400px;\"></div>\n",
       "    <script>\n",
       "        requirejs.config({\n",
       "        paths: {\n",
       "            Plotly: 'https://cdn.plot.ly/plotly-1.57.1.min'\n",
       "        }\n",
       "    });\n",
       "    require(['Plotly'], function (Plotly) {\n",
       "\n",
       "        var PLOT = document.getElementById('77dbb2a1-7e35-41e6-a691-222472962bd5');\n",
       "    Plotly.plot(PLOT, [\n",
       "    {\n",
       "        \"xaxis\": \"x\",\n",
       "        \"colorbar\": {\n",
       "            \"title\": \"\"\n",
       "        },\n",
       "        \"yaxis\": \"y\",\n",
       "        \"zaxis\": \"z\",\n",
       "        \"x\": [\n",
       "            3.0,\n",
       "            2.63276043898331,\n",
       "            1.6405573275684677,\n",
       "            0.3171100572994737,\n",
       "            -0.9528677185985122,\n",
       "            -1.815107900609313,\n",
       "            -2.0562290736820032,\n",
       "            -1.6676220142267062,\n",
       "            -0.8424402625704064,\n",
       "            0.09284083170426105,\n",
       "            0.7895472364736471,\n",
       "            0.9940232276260387,\n",
       "            0.6324637770921536,\n",
       "            -0.16444977886082746,\n",
       "            -1.1051836869712655,\n",
       "            -1.8349557919100934,\n",
       "            -2.055301952277777,\n",
       "            -1.6263313111144808,\n",
       "            -0.6179489232077826,\n",
       "            0.7071067811865465\n",
       "        ],\n",
       "        \"showlegend\": true,\n",
       "        \"mode\": \"markers\",\n",
       "        \"name\": \"y1\",\n",
       "        \"zmin\": null,\n",
       "        \"legendgroup\": \"y1\",\n",
       "        \"z\": [\n",
       "            0.0,\n",
       "            1.526168136399613,\n",
       "            1.9727226068054449,\n",
       "            1.0237700981792024,\n",
       "            -0.6493989384093668,\n",
       "            -1.8631821761025573,\n",
       "            -1.7589475024129786,\n",
       "            -0.41043068439126934,\n",
       "            1.2284254253793354,\n",
       "            1.998291516774602,\n",
       "            1.3545631432514844,\n",
       "            -0.24738526253869608,\n",
       "            -1.674332956525056,\n",
       "            -1.9168549649165059,\n",
       "            -0.8033908493059403,\n",
       "            0.8783931776947397,\n",
       "            1.9388005318786607,\n",
       "            1.62769743454039,\n",
       "            0.1651586909446681,\n",
       "            -1.4142135623730954\n",
       "        ],\n",
       "        \"marker\": {\n",
       "            \"symbol\": \"circle\",\n",
       "            \"color\": \"rgba(255, 0, 0, 1.000)\",\n",
       "            \"line\": {\n",
       "                \"color\": \"rgba(0, 0, 0, 1.000)\",\n",
       "                \"width\": 1\n",
       "            },\n",
       "            \"size\": 6\n",
       "        },\n",
       "        \"zmax\": null,\n",
       "        \"y\": [\n",
       "            0.0,\n",
       "            -0.8085600919957483,\n",
       "            -1.284598495187688,\n",
       "            -1.2096385386056383,\n",
       "            -0.555674494691206,\n",
       "            0.501349605455446,\n",
       "            1.6357602418120885,\n",
       "            2.476672000684766,\n",
       "            2.7288928966864714,\n",
       "            2.27083255150258,\n",
       "            1.1973802732149479,\n",
       "            -0.20648366519347783,\n",
       "            -1.5531248945840168,\n",
       "            -2.4727112988032074,\n",
       "            -2.727941041275055,\n",
       "            -2.2861542313027607,\n",
       "            -1.3257736735681394,\n",
       "            -0.17532599602141574,\n",
       "            0.7948592053185667,\n",
       "            1.2928932188134523\n",
       "        ],\n",
       "        \"type\": \"scatter3d\",\n",
       "        \"scene\": \"scene\"\n",
       "    },\n",
       "    {\n",
       "        \"xaxis\": \"x\",\n",
       "        \"colorbar\": {\n",
       "            \"title\": \"\"\n",
       "        },\n",
       "        \"yaxis\": \"y\",\n",
       "        \"zaxis\": \"z\",\n",
       "        \"x\": [\n",
       "            3.0,\n",
       "            2.63276043898331,\n",
       "            1.6405573275684677,\n",
       "            0.3171100572994737,\n",
       "            -0.9528677185985122,\n",
       "            -1.815107900609313,\n",
       "            -2.0562290736820032,\n",
       "            -1.6676220142267062,\n",
       "            -0.8424402625704064,\n",
       "            0.09284083170426105,\n",
       "            0.7895472364736471,\n",
       "            0.9940232276260387,\n",
       "            0.6324637770921536,\n",
       "            -0.16444977886082746,\n",
       "            -1.1051836869712655,\n",
       "            -1.8349557919100934,\n",
       "            -2.055301952277777,\n",
       "            -1.6263313111144808,\n",
       "            -0.6179489232077826,\n",
       "            0.7071067811865465\n",
       "        ],\n",
       "        \"showlegend\": true,\n",
       "        \"mode\": \"lines\",\n",
       "        \"name\": \"y2\",\n",
       "        \"zmin\": null,\n",
       "        \"legendgroup\": \"y2\",\n",
       "        \"z\": [\n",
       "            0.0,\n",
       "            1.526168136399613,\n",
       "            1.9727226068054449,\n",
       "            1.0237700981792024,\n",
       "            -0.6493989384093668,\n",
       "            -1.8631821761025573,\n",
       "            -1.7589475024129786,\n",
       "            -0.41043068439126934,\n",
       "            1.2284254253793354,\n",
       "            1.998291516774602,\n",
       "            1.3545631432514844,\n",
       "            -0.24738526253869608,\n",
       "            -1.674332956525056,\n",
       "            -1.9168549649165059,\n",
       "            -0.8033908493059403,\n",
       "            0.8783931776947397,\n",
       "            1.9388005318786607,\n",
       "            1.62769743454039,\n",
       "            0.1651586909446681,\n",
       "            -1.4142135623730954\n",
       "        ],\n",
       "        \"zmax\": null,\n",
       "        \"line\": {\n",
       "            \"color\": \"rgba(0, 0, 0, 1.000)\",\n",
       "            \"shape\": \"linear\",\n",
       "            \"dash\": \"solid\",\n",
       "            \"width\": 2\n",
       "        },\n",
       "        \"y\": [\n",
       "            0.0,\n",
       "            -0.8085600919957483,\n",
       "            -1.284598495187688,\n",
       "            -1.2096385386056383,\n",
       "            -0.555674494691206,\n",
       "            0.501349605455446,\n",
       "            1.6357602418120885,\n",
       "            2.476672000684766,\n",
       "            2.7288928966864714,\n",
       "            2.27083255150258,\n",
       "            1.1973802732149479,\n",
       "            -0.20648366519347783,\n",
       "            -1.5531248945840168,\n",
       "            -2.4727112988032074,\n",
       "            -2.727941041275055,\n",
       "            -2.2861542313027607,\n",
       "            -1.3257736735681394,\n",
       "            -0.17532599602141574,\n",
       "            0.7948592053185667,\n",
       "            1.2928932188134523\n",
       "        ],\n",
       "        \"type\": \"scatter3d\",\n",
       "        \"scene\": \"scene\"\n",
       "    },\n",
       "    {\n",
       "        \"xaxis\": \"x\",\n",
       "        \"colorbar\": {\n",
       "            \"title\": \"\"\n",
       "        },\n",
       "        \"yaxis\": \"y\",\n",
       "        \"zaxis\": \"z\",\n",
       "        \"x\": [\n",
       "            3.8513761654501075,\n",
       "            2.980374385297366,\n",
       "            1.818378027491094,\n",
       "            0.37590100627092426,\n",
       "            -1.0382949590965762,\n",
       "            -1.9169040824982495,\n",
       "            -2.058203943127265,\n",
       "            -1.7006254798043692,\n",
       "            -0.4711488249571778,\n",
       "            0.5435415474855588,\n",
       "            1.267002351490731,\n",
       "            1.5465394488753135,\n",
       "            0.8906267273862212,\n",
       "            0.013122418974625242,\n",
       "            -1.1317127460162286,\n",
       "            -2.2991718974197974,\n",
       "            -2.6793889822608485,\n",
       "            -2.343573913789392,\n",
       "            -1.4260799309456387,\n",
       "            -0.153786054901679\n",
       "        ],\n",
       "        \"showlegend\": true,\n",
       "        \"mode\": \"markers\",\n",
       "        \"name\": \"y3\",\n",
       "        \"zmin\": null,\n",
       "        \"legendgroup\": \"y3\",\n",
       "        \"z\": [\n",
       "            0.5539311173363956,\n",
       "            1.8415982019510198,\n",
       "            1.6260004801644825,\n",
       "            0.8771778089168274,\n",
       "            -0.6228097713653942,\n",
       "            -1.5869444379780628,\n",
       "            -1.4681694848489548,\n",
       "            -0.5970408397936917,\n",
       "            0.7559571965206462,\n",
       "            1.0640733701803544,\n",
       "            0.664527641843817,\n",
       "            -0.6651611864800521,\n",
       "            -1.5089096774865258,\n",
       "            -1.4021903229110462,\n",
       "            -0.6312012956343109,\n",
       "            0.8123532387602133,\n",
       "            1.7064443998631935,\n",
       "            1.6179758536488467,\n",
       "            0.741112427693809,\n",
       "            -0.8028708555088901\n",
       "        ],\n",
       "        \"marker\": {\n",
       "            \"symbol\": \"circle\",\n",
       "            \"color\": \"rgba(0, 0, 255, 1.000)\",\n",
       "            \"line\": {\n",
       "                \"color\": \"rgba(0, 0, 0, 1.000)\",\n",
       "                \"width\": 1\n",
       "            },\n",
       "            \"size\": 6\n",
       "        },\n",
       "        \"zmax\": null,\n",
       "        \"y\": [\n",
       "            -0.5140725347130227,\n",
       "            -1.3513854301502333,\n",
       "            -1.468741961266133,\n",
       "            -1.3415917075177295,\n",
       "            -0.5734158307267856,\n",
       "            0.7042845183840845,\n",
       "            1.8539882368355145,\n",
       "            3.191866464470163,\n",
       "            3.488806068778803,\n",
       "            2.745346812950469,\n",
       "            1.5752812135158258,\n",
       "            -0.07779764683770127,\n",
       "            -1.7624977813441176,\n",
       "            -2.633201210699164,\n",
       "            -3.166917619967089,\n",
       "            -2.8362669681485766,\n",
       "            -1.763241820593594,\n",
       "            -0.5451562887703526,\n",
       "            1.0316852595416508,\n",
       "            1.7356817985179531\n",
       "        ],\n",
       "        \"type\": \"scatter3d\",\n",
       "        \"scene\": \"scene\"\n",
       "    },\n",
       "    {\n",
       "        \"xaxis\": \"x\",\n",
       "        \"colorbar\": {\n",
       "            \"title\": \"\"\n",
       "        },\n",
       "        \"yaxis\": \"y\",\n",
       "        \"zaxis\": \"z\",\n",
       "        \"x\": [\n",
       "            3.8513761654501075,\n",
       "            2.980374385297366,\n",
       "            1.818378027491094,\n",
       "            0.37590100627092426,\n",
       "            -1.0382949590965762,\n",
       "            -1.9169040824982495,\n",
       "            -2.058203943127265,\n",
       "            -1.7006254798043692,\n",
       "            -0.4711488249571778,\n",
       "            0.5435415474855588,\n",
       "            1.267002351490731,\n",
       "            1.5465394488753135,\n",
       "            0.8906267273862212,\n",
       "            0.013122418974625242,\n",
       "            -1.1317127460162286,\n",
       "            -2.2991718974197974,\n",
       "            -2.6793889822608485,\n",
       "            -2.343573913789392,\n",
       "            -1.4260799309456387,\n",
       "            -0.153786054901679\n",
       "        ],\n",
       "        \"showlegend\": true,\n",
       "        \"mode\": \"lines\",\n",
       "        \"name\": \"y4\",\n",
       "        \"zmin\": null,\n",
       "        \"legendgroup\": \"y4\",\n",
       "        \"z\": [\n",
       "            0.5539311173363956,\n",
       "            1.8415982019510198,\n",
       "            1.6260004801644825,\n",
       "            0.8771778089168274,\n",
       "            -0.6228097713653942,\n",
       "            -1.5869444379780628,\n",
       "            -1.4681694848489548,\n",
       "            -0.5970408397936917,\n",
       "            0.7559571965206462,\n",
       "            1.0640733701803544,\n",
       "            0.664527641843817,\n",
       "            -0.6651611864800521,\n",
       "            -1.5089096774865258,\n",
       "            -1.4021903229110462,\n",
       "            -0.6312012956343109,\n",
       "            0.8123532387602133,\n",
       "            1.7064443998631935,\n",
       "            1.6179758536488467,\n",
       "            0.741112427693809,\n",
       "            -0.8028708555088901\n",
       "        ],\n",
       "        \"zmax\": null,\n",
       "        \"line\": {\n",
       "            \"color\": \"rgba(0, 0, 0, 1.000)\",\n",
       "            \"shape\": \"linear\",\n",
       "            \"dash\": \"solid\",\n",
       "            \"width\": 2\n",
       "        },\n",
       "        \"y\": [\n",
       "            -0.5140725347130227,\n",
       "            -1.3513854301502333,\n",
       "            -1.468741961266133,\n",
       "            -1.3415917075177295,\n",
       "            -0.5734158307267856,\n",
       "            0.7042845183840845,\n",
       "            1.8539882368355145,\n",
       "            3.191866464470163,\n",
       "            3.488806068778803,\n",
       "            2.745346812950469,\n",
       "            1.5752812135158258,\n",
       "            -0.07779764683770127,\n",
       "            -1.7624977813441176,\n",
       "            -2.633201210699164,\n",
       "            -3.166917619967089,\n",
       "            -2.8362669681485766,\n",
       "            -1.763241820593594,\n",
       "            -0.5451562887703526,\n",
       "            1.0316852595416508,\n",
       "            1.7356817985179531\n",
       "        ],\n",
       "        \"type\": \"scatter3d\",\n",
       "        \"scene\": \"scene\"\n",
       "    }\n",
       "]\n",
       ", {\n",
       "    \"showlegend\": true,\n",
       "    \"paper_bgcolor\": \"rgba(255, 255, 255, 1.000)\",\n",
       "    \"annotations\": [],\n",
       "    \"height\": 400,\n",
       "    \"margin\": {\n",
       "        \"l\": 0,\n",
       "        \"b\": 20,\n",
       "        \"r\": 0,\n",
       "        \"t\": 20\n",
       "    },\n",
       "    \"plot_bgcolor\": \"rgba(255, 255, 255, 1.000)\",\n",
       "    \"scene\": {\n",
       "        \"camera\": {\n",
       "            \"eye\": {\n",
       "                \"y\": -1.9499999999999997,\n",
       "                \"z\": 1.3,\n",
       "                \"x\": 1.12583302491977\n",
       "            }\n",
       "        },\n",
       "        \"xaxis\": {\n",
       "            \"tickangle\": 0,\n",
       "            \"showline\": true,\n",
       "            \"gridcolor\": \"rgba(0, 0, 0, 0.100)\",\n",
       "            \"showticklabels\": true,\n",
       "            \"gridwidth\": 0.5,\n",
       "            \"titlefont\": {\n",
       "                \"color\": \"rgba(0, 0, 0, 1.000)\",\n",
       "                \"family\": \"sans-serif\",\n",
       "                \"size\": 15\n",
       "            },\n",
       "            \"visible\": true,\n",
       "            \"ticks\": \"inside\",\n",
       "            \"range\": [\n",
       "                -2.875311936692177,\n",
       "                4.047299119881436\n",
       "            ],\n",
       "            \"tickmode\": \"array\",\n",
       "            \"tickvals\": [\n",
       "                -2.0,\n",
       "                -1.0,\n",
       "                0.0,\n",
       "                1.0,\n",
       "                2.0,\n",
       "                3.0,\n",
       "                4.0\n",
       "            ],\n",
       "            \"tickcolor\": \"rgb(0, 0, 0)\",\n",
       "            \"ticktext\": [\n",
       "                \"-2\",\n",
       "                \"-1\",\n",
       "                \"0\",\n",
       "                \"1\",\n",
       "                \"2\",\n",
       "                \"3\",\n",
       "                \"4\"\n",
       "            ],\n",
       "            \"linecolor\": \"rgba(0, 0, 0, 1.000)\",\n",
       "            \"showgrid\": true,\n",
       "            \"zeroline\": false,\n",
       "            \"type\": \"-\",\n",
       "            \"tickfont\": {\n",
       "                \"color\": \"rgba(0, 0, 0, 1.000)\",\n",
       "                \"family\": \"sans-serif\",\n",
       "                \"size\": 11\n",
       "            },\n",
       "            \"title\": \"x\",\n",
       "            \"zerolinecolor\": \"rgba(0, 0, 0, 1.000)\",\n",
       "            \"mirror\": false\n",
       "        },\n",
       "        \"domain\": {\n",
       "            \"y\": [\n",
       "                0.07581474190726165,\n",
       "                0.9901574803149606\n",
       "            ],\n",
       "            \"x\": [\n",
       "                0.061654272382618835,\n",
       "                0.9934383202099737\n",
       "            ]\n",
       "        },\n",
       "        \"yaxis\": {\n",
       "            \"tickangle\": 0,\n",
       "            \"showline\": true,\n",
       "            \"gridcolor\": \"rgba(0, 0, 0, 0.100)\",\n",
       "            \"showticklabels\": true,\n",
       "            \"gridwidth\": 0.5,\n",
       "            \"titlefont\": {\n",
       "                \"color\": \"rgba(0, 0, 0, 1.000)\",\n",
       "                \"family\": \"sans-serif\",\n",
       "                \"size\": 15\n",
       "            },\n",
       "            \"visible\": true,\n",
       "            \"ticks\": \"inside\",\n",
       "            \"range\": [\n",
       "                -3.366589330629466,\n",
       "                3.68847777944118\n",
       "            ],\n",
       "            \"tickmode\": \"array\",\n",
       "            \"tickvals\": [\n",
       "                -3.0,\n",
       "                -2.0,\n",
       "                -1.0,\n",
       "                0.0,\n",
       "                1.0,\n",
       "                2.0,\n",
       "                3.0\n",
       "            ],\n",
       "            \"tickcolor\": \"rgb(0, 0, 0)\",\n",
       "            \"ticktext\": [\n",
       "                \"-3\",\n",
       "                \"-2\",\n",
       "                \"-1\",\n",
       "                \"0\",\n",
       "                \"1\",\n",
       "                \"2\",\n",
       "                \"3\"\n",
       "            ],\n",
       "            \"linecolor\": \"rgba(0, 0, 0, 1.000)\",\n",
       "            \"showgrid\": true,\n",
       "            \"zeroline\": false,\n",
       "            \"type\": \"-\",\n",
       "            \"tickfont\": {\n",
       "                \"color\": \"rgba(0, 0, 0, 1.000)\",\n",
       "                \"family\": \"sans-serif\",\n",
       "                \"size\": 11\n",
       "            },\n",
       "            \"title\": \"y\",\n",
       "            \"zerolinecolor\": \"rgba(0, 0, 0, 1.000)\",\n",
       "            \"mirror\": false\n",
       "        },\n",
       "        \"zaxis\": {\n",
       "            \"tickangle\": 0,\n",
       "            \"showline\": true,\n",
       "            \"gridcolor\": \"rgba(0, 0, 0, 0.100)\",\n",
       "            \"showticklabels\": true,\n",
       "            \"gridwidth\": 0.5,\n",
       "            \"titlefont\": {\n",
       "                \"color\": \"rgba(0, 0, 0, 1.000)\",\n",
       "                \"family\": \"sans-serif\",\n",
       "                \"size\": 15\n",
       "            },\n",
       "            \"visible\": true,\n",
       "            \"ticks\": \"inside\",\n",
       "            \"range\": [\n",
       "                -2.034309359367239,\n",
       "                2.115745911225335\n",
       "            ],\n",
       "            \"tickmode\": \"array\",\n",
       "            \"tickvals\": [\n",
       "                -2.0,\n",
       "                -1.0,\n",
       "                0.0,\n",
       "                1.0,\n",
       "                2.0\n",
       "            ],\n",
       "            \"tickcolor\": \"rgb(0, 0, 0)\",\n",
       "            \"ticktext\": [\n",
       "                \"-2\",\n",
       "                \"-1\",\n",
       "                \"0\",\n",
       "                \"1\",\n",
       "                \"2\"\n",
       "            ],\n",
       "            \"linecolor\": \"rgba(0, 0, 0, 1.000)\",\n",
       "            \"showgrid\": true,\n",
       "            \"zeroline\": false,\n",
       "            \"type\": \"-\",\n",
       "            \"tickfont\": {\n",
       "                \"color\": \"rgba(0, 0, 0, 1.000)\",\n",
       "                \"family\": \"sans-serif\",\n",
       "                \"size\": 11\n",
       "            },\n",
       "            \"title\": \"z\",\n",
       "            \"zerolinecolor\": \"rgba(0, 0, 0, 1.000)\",\n",
       "            \"mirror\": false\n",
       "        }\n",
       "    },\n",
       "    \"legend\": {\n",
       "        \"yanchor\": \"auto\",\n",
       "        \"xanchor\": \"auto\",\n",
       "        \"bordercolor\": \"rgba(0, 0, 0, 1.000)\",\n",
       "        \"bgcolor\": \"rgba(255, 255, 255, 1.000)\",\n",
       "        \"borderwidth\": 1,\n",
       "        \"tracegroupgap\": 0,\n",
       "        \"y\": 1.0,\n",
       "        \"font\": {\n",
       "            \"color\": \"rgba(0, 0, 0, 1.000)\",\n",
       "            \"family\": \"sans-serif\",\n",
       "            \"size\": 11\n",
       "        },\n",
       "        \"title\": {\n",
       "            \"font\": {\n",
       "                \"color\": \"rgba(0, 0, 0, 1.000)\",\n",
       "                \"family\": \"sans-serif\",\n",
       "                \"size\": 15\n",
       "            },\n",
       "            \"text\": \"\"\n",
       "        },\n",
       "        \"traceorder\": \"normal\",\n",
       "        \"x\": 1.0\n",
       "    },\n",
       "    \"width\": 600\n",
       "}\n",
       ");\n",
       "\n",
       "    });\n",
       "    </script>\n"
      ]
     },
     "execution_count": 95,
     "metadata": {},
     "output_type": "execute_result"
    }
   ],
   "source": [
    "p = plot()\n",
    "plotChain!(P,\"red\")\n",
    "plotChain!(Q,\"blue\")\n",
    "p"
   ]
  },
  {
   "cell_type": "code",
   "execution_count": 69,
   "metadata": {},
   "outputs": [
    {
     "data": {
      "text/plain": [
       "60×60 Base.Matrix{Float64}:\n",
       "  0.863999     0.0          0.0         …  -0.0         -0.0\n",
       "  0.0          0.863999     0.0            -0.0386373   -0.0\n",
       "  0.0          0.0          0.863999       -0.0         -0.0386373\n",
       " -0.738921    -0.0         -0.0             0.0          0.0\n",
       " -0.0         -0.738921    -0.0             0.00422008   0.0\n",
       " -0.0         -0.0         -0.738921    …   0.0          0.00422008\n",
       "  0.0563137    0.0          0.0             0.0          0.0\n",
       "  0.0          0.0563137    0.0             0.0218279    0.0\n",
       "  0.0          0.0          0.0563137       0.0          0.0218279\n",
       " -0.0687189   -0.0         -0.0             0.0          0.0\n",
       " -0.0         -0.0687189   -0.0         …   0.0183643    0.0\n",
       " -0.0         -0.0         -0.0687189       0.0          0.0183643\n",
       " -0.0260857   -0.0         -0.0            -0.0         -0.0\n",
       "  ⋮                                     ⋱               \n",
       "  0.0192019    0.0          0.0             0.0          0.0\n",
       "  0.0          0.0192019    0.0             0.0564241    0.0\n",
       "  0.0          0.0          0.0192019   …   0.0          0.0564241\n",
       "  0.0121715    0.0          0.0            -0.0         -0.0\n",
       "  0.0          0.0121715    0.0            -0.043241    -0.0\n",
       "  0.0          0.0          0.0121715      -0.0         -0.043241\n",
       "  0.00569473   0.0          0.0            -0.0         -0.0\n",
       "  0.0          0.00569473   0.0         …  -0.949413    -0.0\n",
       "  0.0          0.0          0.00569473     -0.0         -0.949413\n",
       " -0.0386373   -0.0         -0.0             0.0          0.0\n",
       " -0.0         -0.0386373   -0.0             1.34202      0.0\n",
       " -0.0         -0.0         -0.0386373       0.0          1.34202"
      ]
     },
     "execution_count": 69,
     "metadata": {},
     "output_type": "execute_result"
    }
   ],
   "source": [
    "Aline(P)"
   ]
  },
  {
   "cell_type": "code",
   "execution_count": 70,
   "metadata": {},
   "outputs": [
    {
     "data": {
      "text/plain": [
       "19×60 Base.Matrix{Float64}:\n",
       " 0.207981  0.457917  -0.864324  -0.207981  …  0.0      0.0        0.0\n",
       " 0.0       0.0        0.0        0.83544      0.0      0.0        0.0\n",
       " 0.0       0.0        0.0        0.0          0.0      0.0        0.0\n",
       " 0.0       0.0        0.0        0.0          0.0      0.0        0.0\n",
       " 0.0       0.0        0.0        0.0          0.0      0.0        0.0\n",
       " 0.0       0.0        0.0        0.0       …  0.0      0.0        0.0\n",
       " 0.0       0.0        0.0        0.0          0.0      0.0        0.0\n",
       " 0.0       0.0        0.0        0.0          0.0      0.0        0.0\n",
       " 0.0       0.0        0.0        0.0          0.0      0.0        0.0\n",
       " 0.0       0.0        0.0        0.0          0.0      0.0        0.0\n",
       " 0.0       0.0        0.0        0.0       …  0.0      0.0        0.0\n",
       " 0.0       0.0        0.0        0.0          0.0      0.0        0.0\n",
       " 0.0       0.0        0.0        0.0          0.0      0.0        0.0\n",
       " 0.0       0.0        0.0        0.0          0.0      0.0        0.0\n",
       " 0.0       0.0        0.0        0.0          0.0      0.0        0.0\n",
       " 0.0       0.0        0.0        0.0       …  0.0      0.0        0.0\n",
       " 0.0       0.0        0.0        0.0          0.0      0.0        0.0\n",
       " 0.0       0.0        0.0        0.0          0.0      0.0        0.0\n",
       " 0.0       0.0        0.0        0.0          0.62476  0.234822  -0.74467"
      ]
     },
     "execution_count": 70,
     "metadata": {},
     "output_type": "execute_result"
    }
   ],
   "source": [
    "C = constraintsJacobian4(P,true)"
   ]
  },
  {
   "cell_type": "code",
   "execution_count": 71,
   "metadata": {},
   "outputs": [
    {
     "data": {
      "text/plain": [
       "79×79 Base.Matrix{Float64}:\n",
       "  0.863999    0.0         0.0        …  0.0  0.0  0.0  0.0  0.0  0.0  0.0\n",
       "  0.0         0.863999    0.0           0.0  0.0  0.0  0.0  0.0  0.0  0.0\n",
       "  0.0         0.0         0.863999      0.0  0.0  0.0  0.0  0.0  0.0  0.0\n",
       " -0.738921   -0.0        -0.0           0.0  0.0  0.0  0.0  0.0  0.0  0.0\n",
       " -0.0        -0.738921   -0.0           0.0  0.0  0.0  0.0  0.0  0.0  0.0\n",
       " -0.0        -0.0        -0.738921   …  0.0  0.0  0.0  0.0  0.0  0.0  0.0\n",
       "  0.0563137   0.0         0.0           0.0  0.0  0.0  0.0  0.0  0.0  0.0\n",
       "  0.0         0.0563137   0.0           0.0  0.0  0.0  0.0  0.0  0.0  0.0\n",
       "  0.0         0.0         0.0563137     0.0  0.0  0.0  0.0  0.0  0.0  0.0\n",
       " -0.0687189  -0.0        -0.0           0.0  0.0  0.0  0.0  0.0  0.0  0.0\n",
       " -0.0        -0.0687189  -0.0        …  0.0  0.0  0.0  0.0  0.0  0.0  0.0\n",
       " -0.0        -0.0        -0.0687189     0.0  0.0  0.0  0.0  0.0  0.0  0.0\n",
       " -0.0260857  -0.0        -0.0           0.0  0.0  0.0  0.0  0.0  0.0  0.0\n",
       "  ⋮                                  ⋱                 ⋮              \n",
       "  0.0         0.0         0.0           0.0  0.0  0.0  0.0  0.0  0.0  0.0\n",
       "  0.0         0.0         0.0           0.0  0.0  0.0  0.0  0.0  0.0  0.0\n",
       "  0.0         0.0         0.0           0.0  0.0  0.0  0.0  0.0  0.0  0.0\n",
       "  0.0         0.0         0.0        …  0.0  0.0  0.0  0.0  0.0  0.0  0.0\n",
       "  0.0         0.0         0.0           0.0  0.0  0.0  0.0  0.0  0.0  0.0\n",
       "  0.0         0.0         0.0           0.0  0.0  0.0  0.0  0.0  0.0  0.0\n",
       "  0.0         0.0         0.0           0.0  0.0  0.0  0.0  0.0  0.0  0.0\n",
       "  0.0         0.0         0.0           0.0  0.0  0.0  0.0  0.0  0.0  0.0\n",
       "  0.0         0.0         0.0        …  0.0  0.0  0.0  0.0  0.0  0.0  0.0\n",
       "  0.0         0.0         0.0           0.0  0.0  0.0  0.0  0.0  0.0  0.0\n",
       "  0.0         0.0         0.0           0.0  0.0  0.0  0.0  0.0  0.0  0.0\n",
       "  0.0         0.0         0.0           0.0  0.0  0.0  0.0  0.0  0.0  0.0"
      ]
     },
     "execution_count": 71,
     "metadata": {},
     "output_type": "execute_result"
    }
   ],
   "source": [
    "mat = vcat(\n",
    "        hcat(Aline(P),transpose(C)),\n",
    "        hcat(C,zeros(Float64,19,19))\n",
    "    )"
   ]
  },
  {
   "cell_type": "code",
   "execution_count": 72,
   "metadata": {},
   "outputs": [
    {
     "data": {
      "text/plain": [
       "func (generic function with 1 method)"
      ]
     },
     "execution_count": 72,
     "metadata": {},
     "output_type": "execute_result"
    }
   ],
   "source": [
    "func(Q) = tangentEnergy(Q,alpha=2.0,beta=4.5)"
   ]
  },
  {
   "cell_type": "code",
   "execution_count": 73,
   "metadata": {},
   "outputs": [
    {
     "data": {
      "text/plain": [
       "79-element Vector{Float64}:\n",
       " -0.40392839484886056\n",
       "  0.39591921706719735\n",
       " -0.9228873451000493\n",
       " -0.9596868779672517\n",
       " -0.2695133911869581\n",
       "  0.25855633689009555\n",
       "  0.9265847194949912\n",
       "  0.05646656805434762\n",
       "  0.8209592076316776\n",
       " -0.43690895099247307\n",
       "  0.5437888116896001\n",
       " -0.6233079582251757\n",
       "  0.8504057957176925\n",
       "  ⋮\n",
       "  0.0\n",
       "  0.0\n",
       "  0.0\n",
       "  0.0\n",
       "  0.0\n",
       "  0.0\n",
       "  0.0\n",
       "  0.0\n",
       "  0.0\n",
       "  0.0\n",
       "  0.0\n",
       "  0.0"
      ]
     },
     "execution_count": 73,
     "metadata": {},
     "output_type": "execute_result"
    }
   ],
   "source": [
    "ener_grad_ext = vcat(diff(func,P),zeros(Float64,19))"
   ]
  },
  {
   "cell_type": "code",
   "execution_count": 83,
   "metadata": {},
   "outputs": [
    {
     "data": {
      "text/plain": [
       "79-element Vector{Float64}:\n",
       "  0.33837247435585577\n",
       " -1.0498805653797455e14\n",
       " -2.852936318969707e11\n",
       "  0.9289296019292517\n",
       " -1.049880565379744e14\n",
       " -2.8529363189676733e11\n",
       "  1.4498674232340016\n",
       " -1.0498805653797466e14\n",
       " -2.8529363189591925e11\n",
       "  1.6793161885360373\n",
       " -1.049880565379746e14\n",
       " -2.8529363189623505e11\n",
       "  1.9802473499542799\n",
       "  ⋮\n",
       "  0.2818413421127826\n",
       " -0.6823423926198776\n",
       " -0.3636558192306692\n",
       " -0.4082880568735676\n",
       " -0.05574778894574942\n",
       " -1.3023637998616917\n",
       " -0.23590896179105914\n",
       " -0.11308803690050319\n",
       " -0.5213840400723122\n",
       " -0.5025318037052778\n",
       "  0.7839212324770628\n",
       "  0.6701804392534546"
      ]
     },
     "execution_count": 83,
     "metadata": {},
     "output_type": "execute_result"
    }
   ],
   "source": [
    "cons_proy_dir = mat \\ ener_grad_ext"
   ]
  },
  {
   "cell_type": "code",
   "execution_count": 84,
   "metadata": {},
   "outputs": [
    {
     "data": {
      "text/plain": [
       "79-element Vector{Float64}:\n",
       "  0.0\n",
       " -0.009712523252838945\n",
       "  0.0022841617681800264\n",
       " -1.1102230246251565e-16\n",
       " -0.004928402044025171\n",
       " -0.0017935944310447094\n",
       "  1.1102230246251565e-16\n",
       "  0.0363462300882187\n",
       "  0.000990255083402003\n",
       "  3.885780586188048e-16\n",
       "  0.07803587071222806\n",
       "  8.569398174074205e-5\n",
       " -7.771561172376096e-16\n",
       "  ⋮\n",
       "  0.0\n",
       "  0.0\n",
       " -0.0011444091796875\n",
       "  0.0\n",
       "  0.0\n",
       "  0.0\n",
       "  0.00213623046875\n",
       "  0.0\n",
       " -0.015625\n",
       "  0.002471923828125\n",
       "  0.002532958984375\n",
       "  0.0020751953125"
      ]
     },
     "execution_count": 84,
     "metadata": {},
     "output_type": "execute_result"
    }
   ],
   "source": [
    "mat * cons_proy_dir - ener_grad_ext"
   ]
  },
  {
   "cell_type": "code",
   "execution_count": 90,
   "metadata": {},
   "outputs": [
    {
     "data": {
      "text/plain": [
       "79-element Vector{Float64}:\n",
       " -2.0996928555487617\n",
       "  1.284211015535452\n",
       " -0.9721410530036825\n",
       "  0.7848389599881432\n",
       "  0.1808573038577645\n",
       " -0.20318993019128584\n",
       "  0.5245803366286612\n",
       "  1.0439755121465475\n",
       " -0.27140681683942114\n",
       " -0.49990266446499254\n",
       " -0.18232016888942232\n",
       " -1.0273705043084964\n",
       "  1.1453626452381431\n",
       "  ⋮\n",
       "  0.4472287331339079\n",
       " -1.7603506845561991\n",
       " -0.8080728980437524\n",
       " -0.8640922719983603\n",
       "  1.6847760306817283\n",
       " -0.3994815171256758\n",
       " -0.7617080273130701\n",
       "  0.12570120400570822\n",
       " -1.4148017491886535\n",
       " -0.9486759171508541\n",
       "  0.3250522566841259\n",
       "  0.9485332302765306"
      ]
     },
     "execution_count": 90,
     "metadata": {},
     "output_type": "execute_result"
    }
   ],
   "source": [
    "b = copy(cons_proy_dirnew) + randn(79)"
   ]
  },
  {
   "cell_type": "code",
   "execution_count": 86,
   "metadata": {},
   "outputs": [],
   "source": [
    "using IterativeSolvers"
   ]
  },
  {
   "cell_type": "code",
   "execution_count": 91,
   "metadata": {},
   "outputs": [
    {
     "data": {
      "text/plain": [
       "79-element Vector{Float64}:\n",
       " -1.2526687295943795\n",
       "  0.8124095088289439\n",
       " -0.34146733838564763\n",
       " -0.6611726791263978\n",
       "  0.9290818213205987\n",
       " -0.1373238247785665\n",
       " -0.14770852251026864\n",
       "  0.6570639370273927\n",
       "  0.7135685073407471\n",
       "  0.08351515035787087\n",
       "  0.7264603119873027\n",
       "  0.3965764699560919\n",
       "  0.3898957407509984\n",
       "  ⋮\n",
       "  0.28559464743319735\n",
       " -0.6914199257300746\n",
       " -0.39523722130360145\n",
       " -0.4564771040029306\n",
       " -0.09555680329398501\n",
       " -1.3093716286500594\n",
       " -0.2290878663749977\n",
       " -0.1351301750058085\n",
       " -0.5578137412358033\n",
       " -0.5262692952478909\n",
       "  0.8228239604827223\n",
       "  0.684059828940535"
      ]
     },
     "execution_count": 91,
     "metadata": {},
     "output_type": "execute_result"
    }
   ],
   "source": [
    "IterativeSolvers.cg!(b,mat,ener_grad_ext)"
   ]
  },
  {
   "cell_type": "code",
   "execution_count": 92,
   "metadata": {},
   "outputs": [
    {
     "data": {
      "text/plain": [
       "79-element Vector{Float64}:\n",
       " -1.2526687295943795\n",
       "  0.8124095088289439\n",
       " -0.34146733838564763\n",
       " -0.6611726791263978\n",
       "  0.9290818213205987\n",
       " -0.1373238247785665\n",
       " -0.14770852251026864\n",
       "  0.6570639370273927\n",
       "  0.7135685073407471\n",
       "  0.08351515035787087\n",
       "  0.7264603119873027\n",
       "  0.3965764699560919\n",
       "  0.3898957407509984\n",
       "  ⋮\n",
       "  0.28559464743319735\n",
       " -0.6914199257300746\n",
       " -0.39523722130360145\n",
       " -0.4564771040029306\n",
       " -0.09555680329398501\n",
       " -1.3093716286500594\n",
       " -0.2290878663749977\n",
       " -0.1351301750058085\n",
       " -0.5578137412358033\n",
       " -0.5262692952478909\n",
       "  0.8228239604827223\n",
       "  0.684059828940535"
      ]
     },
     "execution_count": 92,
     "metadata": {},
     "output_type": "execute_result"
    }
   ],
   "source": [
    "b"
   ]
  },
  {
   "cell_type": "code",
   "execution_count": 89,
   "metadata": {},
   "outputs": [
    {
     "data": {
      "text/plain": [
       "79-element Vector{Float64}:\n",
       "  3.3800318099963533e-10\n",
       " -1.5698597977120698e-10\n",
       "  2.843132396179726e-10\n",
       " -3.469882159379267e-10\n",
       " -7.950584635096902e-12\n",
       " -4.216899052167378e-11\n",
       "  5.224899402023198e-10\n",
       "  1.7361319326614222e-10\n",
       "  3.6849279183570616e-10\n",
       " -1.34970296050696e-9\n",
       " -4.9034998284014364e-11\n",
       " -6.476216229955867e-10\n",
       "  2.634833462522579e-10\n",
       "  ⋮\n",
       " -2.781758157155423e-11\n",
       " -7.960565540088282e-11\n",
       "  1.4672789372394135e-9\n",
       " -7.613630559344386e-10\n",
       " -2.903465523562687e-10\n",
       " -6.061527391132415e-10\n",
       "  1.631741908258988e-9\n",
       " -4.510596257611965e-9\n",
       "  9.153623525826049e-9\n",
       " -6.000213596812909e-9\n",
       " -2.8955676190101087e-9\n",
       "  3.463968001327089e-9"
      ]
     },
     "execution_count": 89,
     "metadata": {},
     "output_type": "execute_result"
    }
   ],
   "source": [
    "mat*cons_proy_dirnew - ener_grad_ext"
   ]
  },
  {
   "cell_type": "code",
   "execution_count": 79,
   "metadata": {},
   "outputs": [
    {
     "data": {
      "text/plain": [
       "79×1 Base.Matrix{Float64}:\n",
       " 0.0\n",
       " 0.0\n",
       " 0.0\n",
       " 0.0\n",
       " 0.0\n",
       " 0.0\n",
       " 0.0\n",
       " 0.0\n",
       " 0.0\n",
       " 0.0\n",
       " 0.0\n",
       " 0.0\n",
       " 0.0\n",
       " ⋮\n",
       " 0.0\n",
       " 0.0\n",
       " 0.0\n",
       " 0.0\n",
       " 0.0\n",
       " 0.0\n",
       " 0.0\n",
       " 0.0\n",
       " 0.0\n",
       " 0.0\n",
       " 0.0\n",
       " 0.0"
      ]
     },
     "execution_count": 79,
     "metadata": {},
     "output_type": "execute_result"
    }
   ],
   "source": [
    "using DelimitedFiles\n",
    "ener_grad2 = readdlm(\"../src/ener.csv\")\n",
    "ener_grad2 = vcat(ener_grad2,zeros(19))\n",
    "ener_grad_ext-ener_grad2"
   ]
  },
  {
   "cell_type": "code",
   "execution_count": 80,
   "metadata": {},
   "outputs": [
    {
     "data": {
      "text/plain": [
       "0.0"
      ]
     },
     "execution_count": 80,
     "metadata": {},
     "output_type": "execute_result"
    }
   ],
   "source": [
    "mat2 = readdlm(\"../src/mat.csv\",',');\n",
    "norm(mat-mat2)"
   ]
  },
  {
   "cell_type": "code",
   "execution_count": 81,
   "metadata": {},
   "outputs": [
    {
     "data": {
      "text/plain": [
       "79×1 Base.Matrix{Float64}:\n",
       "  0.33837247435585577\n",
       " -1.0498805653797455e14\n",
       " -2.852936318969707e11\n",
       "  0.9289296019292517\n",
       " -1.049880565379744e14\n",
       " -2.8529363189676733e11\n",
       "  1.4498674232340016\n",
       " -1.0498805653797466e14\n",
       " -2.8529363189591925e11\n",
       "  1.6793161885360373\n",
       " -1.049880565379746e14\n",
       " -2.8529363189623505e11\n",
       "  1.9802473499542799\n",
       "  ⋮\n",
       "  0.2818413421127826\n",
       " -0.6823423926198776\n",
       " -0.3636558192306692\n",
       " -0.4082880568735676\n",
       " -0.05574778894574942\n",
       " -1.3023637998616917\n",
       " -0.23590896179105914\n",
       " -0.11308803690050319\n",
       " -0.5213840400723122\n",
       " -0.5025318037052778\n",
       "  0.7839212324770628\n",
       "  0.6701804392534546"
      ]
     },
     "execution_count": 81,
     "metadata": {},
     "output_type": "execute_result"
    }
   ],
   "source": [
    "cons_proy_dir2 = mat2 \\ ener_grad2"
   ]
  },
  {
   "cell_type": "code",
   "execution_count": 85,
   "metadata": {},
   "outputs": [
    {
     "data": {
      "text/plain": [
       "60-element Vector{Float64}:\n",
       "  2.9966162752564416\n",
       "  1.0498805653797455e12\n",
       "  2.852936318969707e9\n",
       "  2.6234711429640174\n",
       "  1.0498805653789355e12\n",
       "  2.8529363204938416e9\n",
       "  1.6260586533361276\n",
       "  1.049880565378462e12\n",
       "  2.8529363209319153e9\n",
       "  0.3003168954141133\n",
       "  1.0498805653785364e12\n",
       "  2.8529363199861207e9\n",
       " -0.9726701920980549\n",
       "  ⋮\n",
       " -2.0798660962126445\n",
       "  1.0498805653784219e12\n",
       "  2.852936320899827e9\n",
       " -1.650401643116308\n",
       "  1.0498805653795729e12\n",
       "  2.8529363205909452e9\n",
       " -0.6414742398667621\n",
       "  1.0498805653805503e12\n",
       "  2.852936319133643e9\n",
       "  0.6838639258543289\n",
       "  1.0498805653810497e12\n",
       "  2.852936317554959e9"
      ]
     },
     "execution_count": 85,
     "metadata": {},
     "output_type": "execute_result"
    }
   ],
   "source": [
    "new_chain = toArray(P)-1e-2*cons_proy_dir[1:(3*19+3)]"
   ]
  },
  {
   "cell_type": "code",
   "execution_count": 20,
   "metadata": {},
   "outputs": [
    {
     "data": {
      "text/plain": [
       "19-element Vector{Float64}:\n",
       " 6.00876777379078e-6\n",
       " 2.9374882567712035e-5\n",
       " 5.458451804107867e-6\n",
       " 1.115374666404989e-6\n",
       " 8.685076124947955e-6\n",
       " 1.7776764893451258e-6\n",
       " 2.2233508044644523e-5\n",
       " 2.974609544237339e-6\n",
       " 1.5114048473652275e-5\n",
       " 3.721142316726045e-6\n",
       " 5.829936102763611e-7\n",
       " 1.3725280006759988e-5\n",
       " 6.89652701924004e-6\n",
       " 1.0641625379559372e-5\n",
       " 5.162375503298122e-6\n",
       " 4.577017140849904e-6\n",
       " 1.602272705181207e-6\n",
       " 1.2733403385034592e-5\n",
       " 1.6513647782545604e-8"
      ]
     },
     "execution_count": 20,
     "metadata": {},
     "output_type": "execute_result"
    }
   ],
   "source": [
    "cons   = constraints(new_chain,ls,bas,das,true)"
   ]
  },
  {
   "cell_type": "code",
   "execution_count": 21,
   "metadata": {},
   "outputs": [
    {
     "data": {
      "text/plain": [
       "79-element Vector{Float64}:\n",
       "  1.931694992316841e-5\n",
       " -1.383478480885617e-5\n",
       "  2.998726049428203e-5\n",
       "  1.7213770044261767e-5\n",
       " -1.228810181575076e-5\n",
       "  2.334862055542543e-5\n",
       "  4.1498936589880557e-5\n",
       " -3.761291329001774e-7\n",
       "  1.1882083962197074e-5\n",
       "  4.327866661231305e-5\n",
       " -1.7211290309475874e-6\n",
       "  1.8670975769666702e-5\n",
       "  4.182093711165242e-5\n",
       "  ⋮\n",
       "  9.100463318636772e-6\n",
       "  2.1703282078834e-5\n",
       "  3.0913627624855544e-6\n",
       " -2.070208192680306e-6\n",
       "  1.4651131785032486e-5\n",
       "  1.0761387091216522e-5\n",
       "  1.1575608597005926e-5\n",
       "  3.944722812042013e-6\n",
       "  3.702663302454477e-6\n",
       "  1.5164638662239555e-6\n",
       "  1.4410111826685708e-5\n",
       " -1.8177928519620297e-6"
      ]
     },
     "execution_count": 21,
     "metadata": {},
     "output_type": "execute_result"
    }
   ],
   "source": [
    "newSol = vcat(zeros(Float64,3*19+3),-1*cons)\n",
    "chain_proy_dir = mat \\ newSol"
   ]
  },
  {
   "cell_type": "code",
   "execution_count": 23,
   "metadata": {},
   "outputs": [
    {
     "data": {
      "text/plain": [
       "4.808998193651908e-5"
      ]
     },
     "execution_count": 23,
     "metadata": {},
     "output_type": "execute_result"
    }
   ],
   "source": [
    "new_chain = new_chain + chain_proy_dir[1:(3*19+3)]\n",
    "c = 0\n",
    "cons = constraints(new_chain,ls,bas,das,true)\n",
    "con_norm = LinearAlgebra.norm(cons,2)"
   ]
  },
  {
   "cell_type": "code",
   "execution_count": null,
   "metadata": {},
   "outputs": [],
   "source": []
  }
 ],
 "metadata": {
  "kernelspec": {
   "display_name": "Julia 1.6.1",
   "language": "julia",
   "name": "julia-1.6"
  },
  "language_info": {
   "file_extension": ".jl",
   "mimetype": "application/julia",
   "name": "julia",
   "version": "1.6.1"
  }
 },
 "nbformat": 4,
 "nbformat_minor": 4
}
