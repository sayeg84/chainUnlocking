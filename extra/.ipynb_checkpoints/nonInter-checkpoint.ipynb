{
 "cells": [
  {
   "cell_type": "code",
   "execution_count": 1,
   "metadata": {},
   "outputs": [
    {
     "name": "stderr",
     "output_type": "stream",
     "text": [
      "WARNING: redefinition of constant ex. This may fail, cause incorrect answers, or produce other errors.\n",
      "WARNING: redefinition of constant ey. This may fail, cause incorrect answers, or produce other errors.\n",
      "WARNING: redefinition of constant ez. This may fail, cause incorrect answers, or produce other errors.\n",
      "WARNING: redefinition of constant e0. This may fail, cause incorrect answers, or produce other errors.\n"
     ]
    }
   ],
   "source": [
    "include(\"../src/intersections.jl\")"
   ]
  },
  {
   "cell_type": "code",
   "execution_count": 2,
   "metadata": {},
   "outputs": [
    {
     "data": {
      "text/plain": [
       "PolygonalChain(Point[Point(0.125861250832561832879719077027402818202972412109375, 0.4635451872490279345839780944515950977802276611328125, 0.1752093193493866607468589791096746921539306640625), Point(0.0279682500514810694625111864297650754451751708984375, 0.026713334868339710936879782821051776409149169921875, 0.5864635227114103344092654879204928874969482421875), Point(0.567130046105878360407359650707803666591644287109375, 0.70942319800647712924046572879888117313385009765625, 0.1154531115615309300181934304418973624706268310546875), Point(0.33012724214652156007332450826652348041534423828125, 0.344203192583284245387176270014606416225433349609375, 0.49483716447770209612144753918983042240142822265625), Point(0.90501098588769135488973915926180779933929443359375, 0.785767596933814704840415288344956934452056884765625, 0.5141858456687986578259597081341780722141265869140625), Point(0.538939132807917165024491623626090586185455322265625, 0.41120008612668978997817248455248773097991943359375, 0.91512815114260970261739203124307096004486083984375), Point(0.0283047390017134858908320893533527851104736328125, 0.2171739630046822799869232767377980053424835205078125, 0.22958755159935417822225645068101584911346435546875), Point(0.789334646936840300668336567468941211700439453125, 0.40757655133607695319142294465564191341400146484375, 0.252155047501552598276930439169518649578094482421875), Point(0.554528422254537911584293397027067840099334716796875, 0.68573002767558488557142482022754848003387451171875, 0.706487086381225370956826736801303923130035400390625), Point(0.748377180215888504477561582461930811405181884765625, 0.4015803424557800038741106618545018136501312255859375, 0.273098825236357978241130695096217095851898193359375)])"
      ]
     },
     "execution_count": 2,
     "metadata": {},
     "output_type": "execute_result"
    }
   ],
   "source": [
    "PolygonalChain(10)"
   ]
  },
  {
   "cell_type": "code",
   "execution_count": 13,
   "metadata": {},
   "outputs": [
    {
     "data": {
      "text/plain": [
       "checkXYIntersection (generic function with 1 method)"
      ]
     },
     "execution_count": 13,
     "metadata": {},
     "output_type": "execute_result"
    }
   ],
   "source": [
    "function checkXYIntersection(P::PolygonalChain)::Bool\n",
    "    n::Int64 = length(P)\n",
    "    flag::Bool = false\n",
    "    c::Int64 = 1\n",
    "    while flag && c <= n\n",
    "        i::Int64 = c+1\n",
    "        while flag && i <= n\n",
    "            vp::Point = P[i+1] - P[i]\n",
    "            vq::Point = P[c+1] - P[c]\n",
    "            flag = flag || xySegmentIntersection(P[i],P[i+1],vp,P[c],P[c+1],vq)\n",
    "            i+=1\n",
    "        end\n",
    "        c+=1;\n",
    "    end\n",
    "    return flag;\n",
    "end"
   ]
  },
  {
   "cell_type": "code",
   "execution_count": 14,
   "metadata": {},
   "outputs": [
    {
     "data": {
      "text/plain": [
       "false"
      ]
     },
     "execution_count": 14,
     "metadata": {},
     "output_type": "execute_result"
    }
   ],
   "source": [
    "n = 10\n",
    "tries = 60\n",
    "res = false\n",
    "c = 0\n",
    "P = PolygonalChain(n)\n",
    "while !res && c < tries\n",
    "    P = PolygonalChain(n)\n",
    "    res = checkXYIntersection()\n",
    "    c+=1\n",
    "end"
   ]
  },
  {
   "cell_type": "code",
   "execution_count": null,
   "metadata": {},
   "outputs": [],
   "source": []
  }
 ],
 "metadata": {
  "kernelspec": {
   "display_name": "Julia 1.6.2",
   "language": "julia",
   "name": "julia-1.6"
  },
  "language_info": {
   "file_extension": ".jl",
   "mimetype": "application/julia",
   "name": "julia",
   "version": "1.6.2"
  }
 },
 "nbformat": 4,
 "nbformat_minor": 4
}
