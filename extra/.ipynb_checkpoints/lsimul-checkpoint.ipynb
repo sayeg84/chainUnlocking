{
 "cells": [
  {
   "cell_type": "code",
   "execution_count": 28,
   "metadata": {},
   "outputs": [
    {
     "name": "stderr",
     "output_type": "stream",
     "text": [
      "WARNING: redefinition of constant m. This may fail, cause incorrect answers, or produce other errors.\n"
     ]
    }
   ],
   "source": [
    "include(\"../src/simulations.jl\")\n",
    "using Plots, Statistics"
   ]
  },
  {
   "cell_type": "code",
   "execution_count": 2,
   "metadata": {},
   "outputs": [
    {
     "data": {
      "image/svg+xml": [
       "<?xml version=\"1.0\" encoding=\"utf-8\"?>\n",
       "<svg xmlns=\"http://www.w3.org/2000/svg\" xmlns:xlink=\"http://www.w3.org/1999/xlink\" width=\"600\" height=\"400\" viewBox=\"0 0 2400 1600\">\n",
       "<defs>\n",
       "  <clipPath id=\"clip140\">\n",
       "    <rect x=\"0\" y=\"0\" width=\"2400\" height=\"1600\"/>\n",
       "  </clipPath>\n",
       "</defs>\n",
       "<path clip-path=\"url(#clip140)\" d=\"\n",
       "M0 1600 L2400 1600 L2400 0 L0 0  Z\n",
       "  \" fill=\"#ffffff\" fill-rule=\"evenodd\" fill-opacity=\"1\"/>\n",
       "<defs>\n",
       "  <clipPath id=\"clip141\">\n",
       "    <rect x=\"480\" y=\"0\" width=\"1681\" height=\"1600\"/>\n",
       "  </clipPath>\n",
       "</defs>\n",
       "<path clip-path=\"url(#clip140)\" d=\"\n",
       "M134.584 1486.45 L2352.76 1486.45 L2352.76 47.2441 L134.584 47.2441  Z\n",
       "  \" fill=\"#ffffff\" fill-rule=\"evenodd\" fill-opacity=\"1\"/>\n",
       "<defs>\n",
       "  <clipPath id=\"clip142\">\n",
       "    <rect x=\"134\" y=\"47\" width=\"2219\" height=\"1440\"/>\n",
       "  </clipPath>\n",
       "</defs>\n",
       "<polyline clip-path=\"url(#clip142)\" style=\"stroke:#000000; stroke-width:2; stroke-opacity:0.1; fill:none\" points=\"\n",
       "  429.876,1486.45 429.876,47.2441 \n",
       "  \"/>\n",
       "<polyline clip-path=\"url(#clip142)\" style=\"stroke:#000000; stroke-width:2; stroke-opacity:0.1; fill:none\" points=\"\n",
       "  894.901,1486.45 894.901,47.2441 \n",
       "  \"/>\n",
       "<polyline clip-path=\"url(#clip142)\" style=\"stroke:#000000; stroke-width:2; stroke-opacity:0.1; fill:none\" points=\"\n",
       "  1359.93,1486.45 1359.93,47.2441 \n",
       "  \"/>\n",
       "<polyline clip-path=\"url(#clip142)\" style=\"stroke:#000000; stroke-width:2; stroke-opacity:0.1; fill:none\" points=\"\n",
       "  1824.95,1486.45 1824.95,47.2441 \n",
       "  \"/>\n",
       "<polyline clip-path=\"url(#clip142)\" style=\"stroke:#000000; stroke-width:2; stroke-opacity:0.1; fill:none\" points=\"\n",
       "  2289.98,1486.45 2289.98,47.2441 \n",
       "  \"/>\n",
       "<polyline clip-path=\"url(#clip140)\" style=\"stroke:#000000; stroke-width:4; stroke-opacity:1; fill:none\" points=\"\n",
       "  134.584,1486.45 2352.76,1486.45 \n",
       "  \"/>\n",
       "<polyline clip-path=\"url(#clip140)\" style=\"stroke:#000000; stroke-width:4; stroke-opacity:1; fill:none\" points=\"\n",
       "  429.876,1486.45 429.876,1469.18 \n",
       "  \"/>\n",
       "<polyline clip-path=\"url(#clip140)\" style=\"stroke:#000000; stroke-width:4; stroke-opacity:1; fill:none\" points=\"\n",
       "  894.901,1486.45 894.901,1469.18 \n",
       "  \"/>\n",
       "<polyline clip-path=\"url(#clip140)\" style=\"stroke:#000000; stroke-width:4; stroke-opacity:1; fill:none\" points=\"\n",
       "  1359.93,1486.45 1359.93,1469.18 \n",
       "  \"/>\n",
       "<polyline clip-path=\"url(#clip140)\" style=\"stroke:#000000; stroke-width:4; stroke-opacity:1; fill:none\" points=\"\n",
       "  1824.95,1486.45 1824.95,1469.18 \n",
       "  \"/>\n",
       "<polyline clip-path=\"url(#clip140)\" style=\"stroke:#000000; stroke-width:4; stroke-opacity:1; fill:none\" points=\"\n",
       "  2289.98,1486.45 2289.98,1469.18 \n",
       "  \"/>\n",
       "<path clip-path=\"url(#clip140)\" d=\"M 0 0 M424.528 1543.18 L440.848 1543.18 L440.848 1547.12 L418.903 1547.12 L418.903 1543.18 Q421.565 1540.43 426.149 1535.8 Q430.755 1531.15 431.936 1529.81 Q434.181 1527.28 435.061 1525.55 Q435.964 1523.79 435.964 1522.1 Q435.964 1519.34 434.019 1517.61 Q432.098 1515.87 428.996 1515.87 Q426.797 1515.87 424.343 1516.63 Q421.913 1517.4 419.135 1518.95 L419.135 1514.23 Q421.959 1513.09 424.413 1512.51 Q426.866 1511.93 428.903 1511.93 Q434.274 1511.93 437.468 1514.62 Q440.663 1517.31 440.663 1521.8 Q440.663 1523.93 439.852 1525.85 Q439.065 1527.74 436.959 1530.34 Q436.38 1531.01 433.278 1534.23 Q430.177 1537.42 424.528 1543.18 Z\" fill=\"#000000\" fill-rule=\"evenodd\" fill-opacity=\"1\" /><path clip-path=\"url(#clip140)\" d=\"M 0 0 M897.91 1516.63 L886.105 1535.08 L897.91 1535.08 L897.91 1516.63 M896.683 1512.56 L902.563 1512.56 L902.563 1535.08 L907.494 1535.08 L907.494 1538.97 L902.563 1538.97 L902.563 1547.12 L897.91 1547.12 L897.91 1538.97 L882.309 1538.97 L882.309 1534.46 L896.683 1512.56 Z\" fill=\"#000000\" fill-rule=\"evenodd\" fill-opacity=\"1\" /><path clip-path=\"url(#clip140)\" d=\"M 0 0 M1360.33 1527.98 Q1357.18 1527.98 1355.33 1530.13 Q1353.5 1532.28 1353.5 1536.03 Q1353.5 1539.76 1355.33 1541.93 Q1357.18 1544.09 1360.33 1544.09 Q1363.48 1544.09 1365.31 1541.93 Q1367.16 1539.76 1367.16 1536.03 Q1367.16 1532.28 1365.31 1530.13 Q1363.48 1527.98 1360.33 1527.98 M1369.61 1513.32 L1369.61 1517.58 Q1367.85 1516.75 1366.05 1516.31 Q1364.27 1515.87 1362.51 1515.87 Q1357.88 1515.87 1355.42 1519 Q1352.99 1522.12 1352.65 1528.44 Q1354.01 1526.43 1356.07 1525.36 Q1358.13 1524.27 1360.61 1524.27 Q1365.82 1524.27 1368.83 1527.44 Q1371.86 1530.59 1371.86 1536.03 Q1371.86 1541.36 1368.71 1544.57 Q1365.56 1547.79 1360.33 1547.79 Q1354.34 1547.79 1351.17 1543.21 Q1347.99 1538.6 1347.99 1529.87 Q1347.99 1521.68 1351.88 1516.82 Q1355.77 1511.93 1362.32 1511.93 Q1364.08 1511.93 1365.86 1512.28 Q1367.67 1512.63 1369.61 1513.32 Z\" fill=\"#000000\" fill-rule=\"evenodd\" fill-opacity=\"1\" /><path clip-path=\"url(#clip140)\" d=\"M 0 0 M1824.95 1530.71 Q1821.62 1530.71 1819.7 1532.49 Q1817.8 1534.27 1817.8 1537.4 Q1817.8 1540.52 1819.7 1542.31 Q1821.62 1544.09 1824.95 1544.09 Q1828.29 1544.09 1830.21 1542.31 Q1832.13 1540.5 1832.13 1537.4 Q1832.13 1534.27 1830.21 1532.49 Q1828.31 1530.71 1824.95 1530.71 M1820.28 1528.72 Q1817.27 1527.98 1815.58 1525.92 Q1813.91 1523.86 1813.91 1520.89 Q1813.91 1516.75 1816.85 1514.34 Q1819.81 1511.93 1824.95 1511.93 Q1830.11 1511.93 1833.05 1514.34 Q1835.99 1516.75 1835.99 1520.89 Q1835.99 1523.86 1834.3 1525.92 Q1832.64 1527.98 1829.65 1528.72 Q1833.03 1529.5 1834.91 1531.8 Q1836.8 1534.09 1836.8 1537.4 Q1836.8 1542.42 1833.73 1545.11 Q1830.67 1547.79 1824.95 1547.79 Q1819.23 1547.79 1816.16 1545.11 Q1813.1 1542.42 1813.1 1537.4 Q1813.1 1534.09 1815 1531.8 Q1816.9 1529.5 1820.28 1528.72 M1818.56 1521.33 Q1818.56 1524.02 1820.23 1525.52 Q1821.92 1527.03 1824.95 1527.03 Q1827.96 1527.03 1829.65 1525.52 Q1831.36 1524.02 1831.36 1521.33 Q1831.36 1518.65 1829.65 1517.14 Q1827.96 1515.64 1824.95 1515.64 Q1821.92 1515.64 1820.23 1517.14 Q1818.56 1518.65 1818.56 1521.33 Z\" fill=\"#000000\" fill-rule=\"evenodd\" fill-opacity=\"1\" /><path clip-path=\"url(#clip140)\" d=\"M 0 0 M2266.85 1543.18 L2274.49 1543.18 L2274.49 1516.82 L2266.18 1518.49 L2266.18 1514.23 L2274.45 1512.56 L2279.12 1512.56 L2279.12 1543.18 L2286.76 1543.18 L2286.76 1547.12 L2266.85 1547.12 L2266.85 1543.18 Z\" fill=\"#000000\" fill-rule=\"evenodd\" fill-opacity=\"1\" /><path clip-path=\"url(#clip140)\" d=\"M 0 0 M2301.83 1515.64 Q2298.22 1515.64 2296.39 1519.2 Q2294.58 1522.75 2294.58 1529.87 Q2294.58 1536.98 2296.39 1540.55 Q2298.22 1544.09 2301.83 1544.09 Q2305.46 1544.09 2307.27 1540.55 Q2309.1 1536.98 2309.1 1529.87 Q2309.1 1522.75 2307.27 1519.2 Q2305.46 1515.64 2301.83 1515.64 M2301.83 1511.93 Q2307.64 1511.93 2310.69 1516.54 Q2313.77 1521.12 2313.77 1529.87 Q2313.77 1538.6 2310.69 1543.21 Q2307.64 1547.79 2301.83 1547.79 Q2296.02 1547.79 2292.94 1543.21 Q2289.88 1538.6 2289.88 1529.87 Q2289.88 1521.12 2292.94 1516.54 Q2296.02 1511.93 2301.83 1511.93 Z\" fill=\"#000000\" fill-rule=\"evenodd\" fill-opacity=\"1\" /><polyline clip-path=\"url(#clip142)\" style=\"stroke:#000000; stroke-width:2; stroke-opacity:0.1; fill:none\" points=\"\n",
       "  134.584,1294.86 2352.76,1294.86 \n",
       "  \"/>\n",
       "<polyline clip-path=\"url(#clip142)\" style=\"stroke:#000000; stroke-width:2; stroke-opacity:0.1; fill:none\" points=\"\n",
       "  134.584,993.136 2352.76,993.136 \n",
       "  \"/>\n",
       "<polyline clip-path=\"url(#clip142)\" style=\"stroke:#000000; stroke-width:2; stroke-opacity:0.1; fill:none\" points=\"\n",
       "  134.584,691.416 2352.76,691.416 \n",
       "  \"/>\n",
       "<polyline clip-path=\"url(#clip142)\" style=\"stroke:#000000; stroke-width:2; stroke-opacity:0.1; fill:none\" points=\"\n",
       "  134.584,389.696 2352.76,389.696 \n",
       "  \"/>\n",
       "<polyline clip-path=\"url(#clip142)\" style=\"stroke:#000000; stroke-width:2; stroke-opacity:0.1; fill:none\" points=\"\n",
       "  134.584,87.9763 2352.76,87.9763 \n",
       "  \"/>\n",
       "<polyline clip-path=\"url(#clip140)\" style=\"stroke:#000000; stroke-width:4; stroke-opacity:1; fill:none\" points=\"\n",
       "  134.584,1486.45 134.584,47.2441 \n",
       "  \"/>\n",
       "<polyline clip-path=\"url(#clip140)\" style=\"stroke:#000000; stroke-width:4; stroke-opacity:1; fill:none\" points=\"\n",
       "  134.584,1294.86 161.203,1294.86 \n",
       "  \"/>\n",
       "<polyline clip-path=\"url(#clip140)\" style=\"stroke:#000000; stroke-width:4; stroke-opacity:1; fill:none\" points=\"\n",
       "  134.584,993.136 161.203,993.136 \n",
       "  \"/>\n",
       "<polyline clip-path=\"url(#clip140)\" style=\"stroke:#000000; stroke-width:4; stroke-opacity:1; fill:none\" points=\"\n",
       "  134.584,691.416 161.203,691.416 \n",
       "  \"/>\n",
       "<polyline clip-path=\"url(#clip140)\" style=\"stroke:#000000; stroke-width:4; stroke-opacity:1; fill:none\" points=\"\n",
       "  134.584,389.696 161.203,389.696 \n",
       "  \"/>\n",
       "<polyline clip-path=\"url(#clip140)\" style=\"stroke:#000000; stroke-width:4; stroke-opacity:1; fill:none\" points=\"\n",
       "  134.584,87.9763 161.203,87.9763 \n",
       "  \"/>\n",
       "<path clip-path=\"url(#clip140)\" d=\"M 0 0 M82.2651 1308.2 L98.5845 1308.2 L98.5845 1312.14 L76.6401 1312.14 L76.6401 1308.2 Q79.3022 1305.45 83.8855 1300.82 Q88.4919 1296.16 89.6725 1294.82 Q91.9178 1292.3 92.7975 1290.56 Q93.7002 1288.8 93.7002 1287.11 Q93.7002 1284.36 91.7558 1282.62 Q89.8345 1280.89 86.7327 1280.89 Q84.5336 1280.89 82.0799 1281.65 Q79.6494 1282.41 76.8716 1283.96 L76.8716 1279.24 Q79.6957 1278.11 82.1494 1277.53 Q84.6031 1276.95 86.6401 1276.95 Q92.0104 1276.95 95.2049 1279.64 Q98.3993 1282.32 98.3993 1286.81 Q98.3993 1288.94 97.5891 1290.86 Q96.8021 1292.76 94.6956 1295.35 Q94.1169 1296.02 91.0151 1299.24 Q87.9132 1302.44 82.2651 1308.2 Z\" fill=\"#000000\" fill-rule=\"evenodd\" fill-opacity=\"1\" /><path clip-path=\"url(#clip140)\" d=\"M 0 0 M89.0012 979.93 L77.1957 998.379 L89.0012 998.379 L89.0012 979.93 M87.7743 975.856 L93.6539 975.856 L93.6539 998.379 L98.5845 998.379 L98.5845 1002.27 L93.6539 1002.27 L93.6539 1010.42 L89.0012 1010.42 L89.0012 1002.27 L73.3994 1002.27 L73.3994 997.754 L87.7743 975.856 Z\" fill=\"#000000\" fill-rule=\"evenodd\" fill-opacity=\"1\" /><path clip-path=\"url(#clip140)\" d=\"M 0 0 M87.0567 689.553 Q83.9086 689.553 82.0568 691.705 Q80.2281 693.858 80.2281 697.608 Q80.2281 701.335 82.0568 703.511 Q83.9086 705.664 87.0567 705.664 Q90.2049 705.664 92.0336 703.511 Q93.8854 701.335 93.8854 697.608 Q93.8854 693.858 92.0336 691.705 Q90.2049 689.553 87.0567 689.553 M96.3391 674.9 L96.3391 679.159 Q94.5799 678.326 92.7743 677.886 Q90.9919 677.446 89.2327 677.446 Q84.6031 677.446 82.1494 680.571 Q79.7188 683.696 79.3716 690.016 Q80.7373 688.002 82.7975 686.937 Q84.8577 685.849 87.3345 685.849 Q92.5428 685.849 95.5521 689.02 Q98.5845 692.168 98.5845 697.608 Q98.5845 702.932 95.4363 706.15 Q92.2882 709.367 87.0567 709.367 Q81.0614 709.367 77.8901 704.784 Q74.7189 700.178 74.7189 691.451 Q74.7189 683.256 78.6077 678.395 Q82.4966 673.511 89.0475 673.511 Q90.8067 673.511 92.5891 673.858 Q94.3947 674.205 96.3391 674.9 Z\" fill=\"#000000\" fill-rule=\"evenodd\" fill-opacity=\"1\" /><path clip-path=\"url(#clip140)\" d=\"M 0 0 M86.7327 390.564 Q83.3994 390.564 81.4781 392.347 Q79.5799 394.129 79.5799 397.254 Q79.5799 400.379 81.4781 402.161 Q83.3994 403.944 86.7327 403.944 Q90.066 403.944 91.9873 402.161 Q93.9086 400.356 93.9086 397.254 Q93.9086 394.129 91.9873 392.347 Q90.0891 390.564 86.7327 390.564 M82.0568 388.573 Q79.0475 387.833 77.3577 385.773 Q75.6911 383.712 75.6911 380.749 Q75.6911 376.606 78.6309 374.199 Q81.5938 371.791 86.7327 371.791 Q91.8947 371.791 94.8345 374.199 Q97.7743 376.606 97.7743 380.749 Q97.7743 383.712 96.0845 385.773 Q94.4178 387.833 91.4317 388.573 Q94.8113 389.361 96.6863 391.652 Q98.5845 393.944 98.5845 397.254 Q98.5845 402.277 95.5058 404.962 Q92.4502 407.647 86.7327 407.647 Q81.0151 407.647 77.9364 404.962 Q74.8809 402.277 74.8809 397.254 Q74.8809 393.944 76.779 391.652 Q78.6772 389.361 82.0568 388.573 M80.3438 381.189 Q80.3438 383.874 82.0105 385.379 Q83.7003 386.884 86.7327 386.884 Q89.7419 386.884 91.4317 385.379 Q93.1447 383.874 93.1447 381.189 Q93.1447 378.504 91.4317 376.999 Q89.7419 375.495 86.7327 375.495 Q83.7003 375.495 82.0105 376.999 Q80.3438 378.504 80.3438 381.189 Z\" fill=\"#000000\" fill-rule=\"evenodd\" fill-opacity=\"1\" /><path clip-path=\"url(#clip140)\" d=\"M 0 0 M51.6634 101.321 L59.3023 101.321 L59.3023 74.9555 L50.9921 76.6222 L50.9921 72.3629 L59.256 70.6963 L63.9319 70.6963 L63.9319 101.321 L71.5707 101.321 L71.5707 105.256 L51.6634 105.256 L51.6634 101.321 Z\" fill=\"#000000\" fill-rule=\"evenodd\" fill-opacity=\"1\" /><path clip-path=\"url(#clip140)\" d=\"M 0 0 M86.6401 73.775 Q83.029 73.775 81.2003 77.3398 Q79.3948 80.8814 79.3948 88.011 Q79.3948 95.1174 81.2003 98.6822 Q83.029 102.224 86.6401 102.224 Q90.2743 102.224 92.0799 98.6822 Q93.9086 95.1174 93.9086 88.011 Q93.9086 80.8814 92.0799 77.3398 Q90.2743 73.775 86.6401 73.775 M86.6401 70.0713 Q92.4502 70.0713 95.5058 74.6777 Q98.5845 79.261 98.5845 88.011 Q98.5845 96.7378 95.5058 101.344 Q92.4502 105.928 86.6401 105.928 Q80.8299 105.928 77.7512 101.344 Q74.6957 96.7378 74.6957 88.011 Q74.6957 79.261 77.7512 74.6777 Q80.8299 70.0713 86.6401 70.0713 Z\" fill=\"#000000\" fill-rule=\"evenodd\" fill-opacity=\"1\" /><circle clip-path=\"url(#clip142)\" cx=\"197.363\" cy=\"1445.72\" r=\"14\" fill=\"#009af9\" fill-rule=\"evenodd\" fill-opacity=\"1\" stroke=\"#000000\" stroke-opacity=\"1\" stroke-width=\"3.2\"/>\n",
       "<circle clip-path=\"url(#clip142)\" cx=\"429.876\" cy=\"1294.86\" r=\"14\" fill=\"#009af9\" fill-rule=\"evenodd\" fill-opacity=\"1\" stroke=\"#000000\" stroke-opacity=\"1\" stroke-width=\"3.2\"/>\n",
       "<circle clip-path=\"url(#clip142)\" cx=\"662.388\" cy=\"1144\" r=\"14\" fill=\"#009af9\" fill-rule=\"evenodd\" fill-opacity=\"1\" stroke=\"#000000\" stroke-opacity=\"1\" stroke-width=\"3.2\"/>\n",
       "<circle clip-path=\"url(#clip142)\" cx=\"894.901\" cy=\"993.136\" r=\"14\" fill=\"#009af9\" fill-rule=\"evenodd\" fill-opacity=\"1\" stroke=\"#000000\" stroke-opacity=\"1\" stroke-width=\"3.2\"/>\n",
       "<circle clip-path=\"url(#clip142)\" cx=\"1127.41\" cy=\"842.276\" r=\"14\" fill=\"#009af9\" fill-rule=\"evenodd\" fill-opacity=\"1\" stroke=\"#000000\" stroke-opacity=\"1\" stroke-width=\"3.2\"/>\n",
       "<circle clip-path=\"url(#clip142)\" cx=\"1359.93\" cy=\"691.416\" r=\"14\" fill=\"#009af9\" fill-rule=\"evenodd\" fill-opacity=\"1\" stroke=\"#000000\" stroke-opacity=\"1\" stroke-width=\"3.2\"/>\n",
       "<circle clip-path=\"url(#clip142)\" cx=\"1592.44\" cy=\"540.556\" r=\"14\" fill=\"#009af9\" fill-rule=\"evenodd\" fill-opacity=\"1\" stroke=\"#000000\" stroke-opacity=\"1\" stroke-width=\"3.2\"/>\n",
       "<circle clip-path=\"url(#clip142)\" cx=\"1824.95\" cy=\"389.696\" r=\"14\" fill=\"#009af9\" fill-rule=\"evenodd\" fill-opacity=\"1\" stroke=\"#000000\" stroke-opacity=\"1\" stroke-width=\"3.2\"/>\n",
       "<circle clip-path=\"url(#clip142)\" cx=\"2057.46\" cy=\"238.836\" r=\"14\" fill=\"#009af9\" fill-rule=\"evenodd\" fill-opacity=\"1\" stroke=\"#000000\" stroke-opacity=\"1\" stroke-width=\"3.2\"/>\n",
       "<circle clip-path=\"url(#clip142)\" cx=\"2289.98\" cy=\"87.9763\" r=\"14\" fill=\"#009af9\" fill-rule=\"evenodd\" fill-opacity=\"1\" stroke=\"#000000\" stroke-opacity=\"1\" stroke-width=\"3.2\"/>\n",
       "<path clip-path=\"url(#clip140)\" d=\"\n",
       "M1981.34 216.178 L2278.82 216.178 L2278.82 95.2176 L1981.34 95.2176  Z\n",
       "  \" fill=\"#ffffff\" fill-rule=\"evenodd\" fill-opacity=\"1\"/>\n",
       "<polyline clip-path=\"url(#clip140)\" style=\"stroke:#000000; stroke-width:4; stroke-opacity:1; fill:none\" points=\"\n",
       "  1981.34,216.178 2278.82,216.178 2278.82,95.2176 1981.34,95.2176 1981.34,216.178 \n",
       "  \"/>\n",
       "<circle clip-path=\"url(#clip140)\" cx=\"2079.92\" cy=\"155.698\" r=\"23\" fill=\"#009af9\" fill-rule=\"evenodd\" fill-opacity=\"1\" stroke=\"#000000\" stroke-opacity=\"1\" stroke-width=\"5.12\"/>\n",
       "<path clip-path=\"url(#clip140)\" d=\"M 0 0 M2192.35 175.385 Q2190.54 180.015 2188.83 181.427 Q2187.12 182.839 2184.25 182.839 L2180.84 182.839 L2180.84 179.274 L2183.34 179.274 Q2185.1 179.274 2186.08 178.44 Q2187.05 177.607 2188.23 174.505 L2188.99 172.561 L2178.51 147.052 L2183.02 147.052 L2191.12 167.329 L2199.22 147.052 L2203.74 147.052 L2192.35 175.385 Z\" fill=\"#000000\" fill-rule=\"evenodd\" fill-opacity=\"1\" /><path clip-path=\"url(#clip140)\" d=\"M 0 0 M2209.62 169.042 L2217.26 169.042 L2217.26 142.677 L2208.95 144.343 L2208.95 140.084 L2217.21 138.418 L2221.89 138.418 L2221.89 169.042 L2229.52 169.042 L2229.52 172.978 L2209.62 172.978 L2209.62 169.042 Z\" fill=\"#000000\" fill-rule=\"evenodd\" fill-opacity=\"1\" /></svg>\n"
      ]
     },
     "execution_count": 2,
     "metadata": {},
     "output_type": "execute_result"
    }
   ],
   "source": [
    "scatter(1:10)"
   ]
  },
  {
   "cell_type": "code",
   "execution_count": 26,
   "metadata": {},
   "outputs": [
    {
     "data": {
      "text/plain": [
       "std (generic function with 4 methods)"
      ]
     },
     "execution_count": 26,
     "metadata": {},
     "output_type": "execute_result"
    }
   ],
   "source": [
    "Statistics.std"
   ]
  },
  {
   "cell_type": "code",
   "execution_count": 119,
   "metadata": {},
   "outputs": [
    {
     "name": "stdout",
     "output_type": "stream",
     "text": [
      "1\n",
      "2\n",
      "3\n",
      "4\n",
      "5\n",
      "6\n",
      "7\n",
      "8\n",
      "9\n",
      "10\n",
      "11\n",
      "12\n",
      "13\n",
      "14\n",
      "15\n",
      "16\n",
      "17\n",
      "18\n",
      "19\n",
      "20\n",
      "21\n",
      "22\n",
      "23\n",
      "24\n",
      "25\n",
      "26\n",
      "27\n",
      "28\n",
      "29\n",
      "30\n",
      "31\n",
      "32\n",
      "33\n",
      "34\n",
      "35\n",
      "36\n",
      "37\n",
      "38\n",
      "39\n",
      "40\n",
      "41\n",
      "42\n",
      "43\n",
      "44\n",
      "45\n",
      "46\n",
      "47\n",
      "48\n",
      "49\n",
      "50\n",
      "51\n"
     ]
    }
   ],
   "source": [
    "function lsimulation(n::Integer,iter::Integer,lmin::Real=1,lmax::Real=2)\n",
    "    lvals = LinRange(lmin,lmax,n+1)\n",
    "    rmsds_mean = zeros(n+1)\n",
    "    rmsds_error = zeros(n+1)\n",
    "    for (ind,l) in enumerate(lvals)\n",
    "        temp_rmsds = zeros(iter)\n",
    "        println(ind)\n",
    "        for j in 1:iter\n",
    "            P = stair(5)\n",
    "            Q = knittingneedle(l)\n",
    "            lastQ, angles, diheds = randomSearch(P,Q,1e-5,pi/100,-pi/100,max_iter=10000)\n",
    "            temp_rmsds[j] = overlapedRmsd(P,lastQ)\n",
    "        end\n",
    "        rmsds_mean[ind] = Statistics.mean(temp_rmsds)\n",
    "        rmsds_error[ind] = Statistics.std(temp_rmsds)\n",
    "    end\n",
    "    return lvals,rmsds_mean,rmsds_error\n",
    "end"
   ]
  },
  {
   "cell_type": "code",
   "execution_count": 120,
   "metadata": {},
   "outputs": [
    {
     "data": {
      "application/vnd.plotly.v1+json": {
       "data": [
        {
         "colorbar": {
          "title": {
           "text": ""
          }
         },
         "legendgroup": "",
         "line": {
          "color": "rgba(0, 0, 0, 1)",
          "dash": "solid",
          "shape": "linear",
          "width": 1
         },
         "marker": {
          "color": "rgba(0, 0, 0, 1)",
          "line": {
           "color": "rgba(0, 0, 0, 1)",
           "width": 1
          },
          "size": 8,
          "symbol": "line-ew"
         },
         "mode": "lines+markers",
         "name": "",
         "showlegend": false,
         "type": "scatter",
         "x": [
          1.35,
          1.35
         ],
         "xaxis": "x",
         "y": [
          0.3798691729083753,
          0.3798691735720079
         ],
         "yaxis": "y",
         "zmax": null,
         "zmin": null
        },
        {
         "colorbar": {
          "title": {
           "text": ""
          }
         },
         "legendgroup": "",
         "line": {
          "color": "rgba(0, 0, 0, 1)",
          "dash": "solid",
          "shape": "linear",
          "width": 1
         },
         "marker": {
          "color": "rgba(0, 0, 0, 1)",
          "line": {
           "color": "rgba(0, 0, 0, 1)",
           "width": 1
          },
          "size": 8,
          "symbol": "line-ew"
         },
         "mode": "lines+markers",
         "name": "",
         "showlegend": false,
         "type": "scatter",
         "x": [
          1.3519999999999999,
          1.3519999999999999
         ],
         "xaxis": "x",
         "y": [
          0.37995557945484215,
          0.37995557961924553
         ],
         "yaxis": "y",
         "zmax": null,
         "zmin": null
        },
        {
         "colorbar": {
          "title": {
           "text": ""
          }
         },
         "legendgroup": "",
         "line": {
          "color": "rgba(0, 0, 0, 1)",
          "dash": "solid",
          "shape": "linear",
          "width": 1
         },
         "marker": {
          "color": "rgba(0, 0, 0, 1)",
          "line": {
           "color": "rgba(0, 0, 0, 1)",
           "width": 1
          },
          "size": 8,
          "symbol": "line-ew"
         },
         "mode": "lines+markers",
         "name": "",
         "showlegend": false,
         "type": "scatter",
         "x": [
          1.354,
          1.354
         ],
         "xaxis": "x",
         "y": [
          0.3800433630652104,
          0.3800433635317971
         ],
         "yaxis": "y",
         "zmax": null,
         "zmin": null
        },
        {
         "colorbar": {
          "title": {
           "text": ""
          }
         },
         "legendgroup": "",
         "line": {
          "color": "rgba(0, 0, 0, 1)",
          "dash": "solid",
          "shape": "linear",
          "width": 1
         },
         "marker": {
          "color": "rgba(0, 0, 0, 1)",
          "line": {
           "color": "rgba(0, 0, 0, 1)",
           "width": 1
          },
          "size": 8,
          "symbol": "line-ew"
         },
         "mode": "lines+markers",
         "name": "",
         "showlegend": false,
         "type": "scatter",
         "x": [
          1.3559999999999999,
          1.3559999999999999
         ],
         "xaxis": "x",
         "y": [
          0.38013252580211276,
          0.38013252588830504
         ],
         "yaxis": "y",
         "zmax": null,
         "zmin": null
        },
        {
         "colorbar": {
          "title": {
           "text": ""
          }
         },
         "legendgroup": "",
         "line": {
          "color": "rgba(0, 0, 0, 1)",
          "dash": "solid",
          "shape": "linear",
          "width": 1
         },
         "marker": {
          "color": "rgba(0, 0, 0, 1)",
          "line": {
           "color": "rgba(0, 0, 0, 1)",
           "width": 1
          },
          "size": 8,
          "symbol": "line-ew"
         },
         "mode": "lines+markers",
         "name": "",
         "showlegend": false,
         "type": "scatter",
         "x": [
          1.358,
          1.358
         ],
         "xaxis": "x",
         "y": [
          0.3802230697425285,
          0.3802230698455139
         ],
         "yaxis": "y",
         "zmax": null,
         "zmin": null
        },
        {
         "colorbar": {
          "title": {
           "text": ""
          }
         },
         "legendgroup": "",
         "line": {
          "color": "rgba(0, 0, 0, 1)",
          "dash": "solid",
          "shape": "linear",
          "width": 1
         },
         "marker": {
          "color": "rgba(0, 0, 0, 1)",
          "line": {
           "color": "rgba(0, 0, 0, 1)",
           "width": 1
          },
          "size": 8,
          "symbol": "line-ew"
         },
         "mode": "lines+markers",
         "name": "",
         "showlegend": false,
         "type": "scatter",
         "x": [
          1.36,
          1.36
         ],
         "xaxis": "x",
         "y": [
          0.3803149968262369,
          0.3803149971659498
         ],
         "yaxis": "y",
         "zmax": null,
         "zmin": null
        },
        {
         "colorbar": {
          "title": {
           "text": ""
          }
         },
         "legendgroup": "",
         "line": {
          "color": "rgba(0, 0, 0, 1)",
          "dash": "solid",
          "shape": "linear",
          "width": 1
         },
         "marker": {
          "color": "rgba(0, 0, 0, 1)",
          "line": {
           "color": "rgba(0, 0, 0, 1)",
           "width": 1
          },
          "size": 8,
          "symbol": "line-ew"
         },
         "mode": "lines+markers",
         "name": "",
         "showlegend": false,
         "type": "scatter",
         "x": [
          1.362,
          1.362
         ],
         "xaxis": "x",
         "y": [
          0.3804083090698382,
          0.3804083093683008
         ],
         "yaxis": "y",
         "zmax": null,
         "zmin": null
        },
        {
         "colorbar": {
          "title": {
           "text": ""
          }
         },
         "legendgroup": "",
         "line": {
          "color": "rgba(0, 0, 0, 1)",
          "dash": "solid",
          "shape": "linear",
          "width": 1
         },
         "marker": {
          "color": "rgba(0, 0, 0, 1)",
          "line": {
           "color": "rgba(0, 0, 0, 1)",
           "width": 1
          },
          "size": 8,
          "symbol": "line-ew"
         },
         "mode": "lines+markers",
         "name": "",
         "showlegend": false,
         "type": "scatter",
         "x": [
          1.364,
          1.364
         ],
         "xaxis": "x",
         "y": [
          0.38050300847238544,
          0.3805030088260966
         ],
         "yaxis": "y",
         "zmax": null,
         "zmin": null
        },
        {
         "colorbar": {
          "title": {
           "text": ""
          }
         },
         "legendgroup": "",
         "line": {
          "color": "rgba(0, 0, 0, 1)",
          "dash": "solid",
          "shape": "linear",
          "width": 1
         },
         "marker": {
          "color": "rgba(0, 0, 0, 1)",
          "line": {
           "color": "rgba(0, 0, 0, 1)",
           "width": 1
          },
          "size": 8,
          "symbol": "line-ew"
         },
         "mode": "lines+markers",
         "name": "",
         "showlegend": false,
         "type": "scatter",
         "x": [
          1.366,
          1.366
         ],
         "xaxis": "x",
         "y": [
          0.3805990970818205,
          0.3805990972003931
         ],
         "yaxis": "y",
         "zmax": null,
         "zmin": null
        },
        {
         "colorbar": {
          "title": {
           "text": ""
          }
         },
         "legendgroup": "",
         "line": {
          "color": "rgba(0, 0, 0, 1)",
          "dash": "solid",
          "shape": "linear",
          "width": 1
         },
         "marker": {
          "color": "rgba(0, 0, 0, 1)",
          "line": {
           "color": "rgba(0, 0, 0, 1)",
           "width": 1
          },
          "size": 8,
          "symbol": "line-ew"
         },
         "mode": "lines+markers",
         "name": "",
         "showlegend": false,
         "type": "scatter",
         "x": [
          1.3680000000000003,
          1.3680000000000003
         ],
         "xaxis": "x",
         "y": [
          0.3806965765970661,
          0.3806965767739513
         ],
         "yaxis": "y",
         "zmax": null,
         "zmin": null
        },
        {
         "colorbar": {
          "title": {
           "text": ""
          }
         },
         "legendgroup": "",
         "line": {
          "color": "rgba(0, 0, 0, 1)",
          "dash": "solid",
          "shape": "linear",
          "width": 1
         },
         "marker": {
          "color": "rgba(0, 0, 0, 1)",
          "line": {
           "color": "rgba(0, 0, 0, 1)",
           "width": 1
          },
          "size": 8,
          "symbol": "line-ew"
         },
         "mode": "lines+markers",
         "name": "",
         "showlegend": false,
         "type": "scatter",
         "x": [
          1.37,
          1.37
         ],
         "xaxis": "x",
         "y": [
          0.3807954489399572,
          0.3807954492589962
         ],
         "yaxis": "y",
         "zmax": null,
         "zmin": null
        },
        {
         "colorbar": {
          "title": {
           "text": ""
          }
         },
         "legendgroup": "",
         "line": {
          "color": "rgba(0, 0, 0, 1)",
          "dash": "solid",
          "shape": "linear",
          "width": 1
         },
         "marker": {
          "color": "rgba(0, 0, 0, 1)",
          "line": {
           "color": "rgba(0, 0, 0, 1)",
           "width": 1
          },
          "size": 8,
          "symbol": "line-ew"
         },
         "mode": "lines+markers",
         "name": "",
         "showlegend": false,
         "type": "scatter",
         "x": [
          1.372,
          1.372
         ],
         "xaxis": "x",
         "y": [
          0.38089571622265084,
          0.3808957166100254
         ],
         "yaxis": "y",
         "zmax": null,
         "zmin": null
        },
        {
         "colorbar": {
          "title": {
           "text": ""
          }
         },
         "legendgroup": "",
         "line": {
          "color": "rgba(0, 0, 0, 1)",
          "dash": "solid",
          "shape": "linear",
          "width": 1
         },
         "marker": {
          "color": "rgba(0, 0, 0, 1)",
          "line": {
           "color": "rgba(0, 0, 0, 1)",
           "width": 1
          },
          "size": 8,
          "symbol": "line-ew"
         },
         "mode": "lines+markers",
         "name": "",
         "showlegend": false,
         "type": "scatter",
         "x": [
          1.374,
          1.374
         ],
         "xaxis": "x",
         "y": [
          0.3809973801256436,
          0.3809973804705548
         ],
         "yaxis": "y",
         "zmax": null,
         "zmin": null
        },
        {
         "colorbar": {
          "title": {
           "text": ""
          }
         },
         "legendgroup": "",
         "line": {
          "color": "rgba(0, 0, 0, 1)",
          "dash": "solid",
          "shape": "linear",
          "width": 1
         },
         "marker": {
          "color": "rgba(0, 0, 0, 1)",
          "line": {
           "color": "rgba(0, 0, 0, 1)",
           "width": 1
          },
          "size": 8,
          "symbol": "line-ew"
         },
         "mode": "lines+markers",
         "name": "",
         "showlegend": false,
         "type": "scatter",
         "x": [
          1.376,
          1.376
         ],
         "xaxis": "x",
         "y": [
          0.38110044248469405,
          0.381100442768282
         ],
         "yaxis": "y",
         "zmax": null,
         "zmin": null
        },
        {
         "colorbar": {
          "title": {
           "text": ""
          }
         },
         "legendgroup": "",
         "line": {
          "color": "rgba(0, 0, 0, 1)",
          "dash": "solid",
          "shape": "linear",
          "width": 1
         },
         "marker": {
          "color": "rgba(0, 0, 0, 1)",
          "line": {
           "color": "rgba(0, 0, 0, 1)",
           "width": 1
          },
          "size": 8,
          "symbol": "line-ew"
         },
         "mode": "lines+markers",
         "name": "",
         "showlegend": false,
         "type": "scatter",
         "x": [
          1.3780000000000001,
          1.3780000000000001
         ],
         "xaxis": "x",
         "y": [
          0.3812049053170846,
          0.38120490548271135
         ],
         "yaxis": "y",
         "zmax": null,
         "zmin": null
        },
        {
         "colorbar": {
          "title": {
           "text": ""
          }
         },
         "legendgroup": "",
         "line": {
          "color": "rgba(0, 0, 0, 1)",
          "dash": "solid",
          "shape": "linear",
          "width": 1
         },
         "marker": {
          "color": "rgba(0, 0, 0, 1)",
          "line": {
           "color": "rgba(0, 0, 0, 1)",
           "width": 1
          },
          "size": 8,
          "symbol": "line-ew"
         },
         "mode": "lines+markers",
         "name": "",
         "showlegend": false,
         "type": "scatter",
         "x": [
          1.38,
          1.38
         ],
         "xaxis": "x",
         "y": [
          0.38131077022615,
          0.3813107703378529
         ],
         "yaxis": "y",
         "zmax": null,
         "zmin": null
        },
        {
         "colorbar": {
          "title": {
           "text": ""
          }
         },
         "legendgroup": "",
         "line": {
          "color": "rgba(0, 0, 0, 1)",
          "dash": "solid",
          "shape": "linear",
          "width": 1
         },
         "marker": {
          "color": "rgba(0, 0, 0, 1)",
          "line": {
           "color": "rgba(0, 0, 0, 1)",
           "width": 1
          },
          "size": 8,
          "symbol": "line-ew"
         },
         "mode": "lines+markers",
         "name": "",
         "showlegend": false,
         "type": "scatter",
         "x": [
          1.382,
          1.382
         ],
         "xaxis": "x",
         "y": [
          0.2450983940072789,
          0.6438266207393064
         ],
         "yaxis": "y",
         "zmax": null,
         "zmin": null
        },
        {
         "colorbar": {
          "title": {
           "text": ""
          }
         },
         "legendgroup": "",
         "line": {
          "color": "rgba(0, 0, 0, 1)",
          "dash": "solid",
          "shape": "linear",
          "width": 1
         },
         "marker": {
          "color": "rgba(0, 0, 0, 1)",
          "line": {
           "color": "rgba(0, 0, 0, 1)",
           "width": 1
          },
          "size": 8,
          "symbol": "line-ew"
         },
         "mode": "lines+markers",
         "name": "",
         "showlegend": false,
         "type": "scatter",
         "x": [
          1.384,
          1.384
         ],
         "xaxis": "x",
         "y": [
          0.3815267132121479,
          0.38152671498654955
         ],
         "yaxis": "y",
         "zmax": null,
         "zmin": null
        },
        {
         "colorbar": {
          "title": {
           "text": ""
          }
         },
         "legendgroup": "",
         "line": {
          "color": "rgba(0, 0, 0, 1)",
          "dash": "solid",
          "shape": "linear",
          "width": 1
         },
         "marker": {
          "color": "rgba(0, 0, 0, 1)",
          "line": {
           "color": "rgba(0, 0, 0, 1)",
           "width": 1
          },
          "size": 8,
          "symbol": "line-ew"
         },
         "mode": "lines+markers",
         "name": "",
         "showlegend": false,
         "type": "scatter",
         "x": [
          1.3860000000000001,
          1.3860000000000001
         ],
         "xaxis": "x",
         "y": [
          0.38163679577273146,
          0.3816367958572868
         ],
         "yaxis": "y",
         "zmax": null,
         "zmin": null
        },
        {
         "colorbar": {
          "title": {
           "text": ""
          }
         },
         "legendgroup": "",
         "line": {
          "color": "rgba(0, 0, 0, 1)",
          "dash": "solid",
          "shape": "linear",
          "width": 1
         },
         "marker": {
          "color": "rgba(0, 0, 0, 1)",
          "line": {
           "color": "rgba(0, 0, 0, 1)",
           "width": 1
          },
          "size": 8,
          "symbol": "line-ew"
         },
         "mode": "lines+markers",
         "name": "",
         "showlegend": false,
         "type": "scatter",
         "x": [
          1.388,
          1.388
         ],
         "xaxis": "x",
         "y": [
          0.38174828707537795,
          0.38174828725705373
         ],
         "yaxis": "y",
         "zmax": null,
         "zmin": null
        },
        {
         "colorbar": {
          "title": {
           "text": ""
          }
         },
         "legendgroup": "",
         "line": {
          "color": "rgba(0, 0, 0, 1)",
          "dash": "solid",
          "shape": "linear",
          "width": 1
         },
         "marker": {
          "color": "rgba(0, 0, 0, 1)",
          "line": {
           "color": "rgba(0, 0, 0, 1)",
           "width": 1
          },
          "size": 8,
          "symbol": "line-ew"
         },
         "mode": "lines+markers",
         "name": "",
         "showlegend": false,
         "type": "scatter",
         "x": [
          1.3900000000000001,
          1.3900000000000001
         ],
         "xaxis": "x",
         "y": [
          0.2481581543609671,
          0.7552324841137327
         ],
         "yaxis": "y",
         "zmax": null,
         "zmin": null
        },
        {
         "colorbar": {
          "title": {
           "text": ""
          }
         },
         "legendgroup": "",
         "line": {
          "color": "rgba(0, 0, 0, 1)",
          "dash": "solid",
          "shape": "linear",
          "width": 1
         },
         "marker": {
          "color": "rgba(0, 0, 0, 1)",
          "line": {
           "color": "rgba(0, 0, 0, 1)",
           "width": 1
          },
          "size": 8,
          "symbol": "line-ew"
         },
         "mode": "lines+markers",
         "name": "",
         "showlegend": false,
         "type": "scatter",
         "x": [
          1.3920000000000001,
          1.3920000000000001
         ],
         "xaxis": "x",
         "y": [
          0.24247394700674824,
          0.650509109269364
         ],
         "yaxis": "y",
         "zmax": null,
         "zmin": null
        },
        {
         "colorbar": {
          "title": {
           "text": ""
          }
         },
         "legendgroup": "",
         "line": {
          "color": "rgba(0, 0, 0, 1)",
          "dash": "solid",
          "shape": "linear",
          "width": 1
         },
         "marker": {
          "color": "rgba(0, 0, 0, 1)",
          "line": {
           "color": "rgba(0, 0, 0, 1)",
           "width": 1
          },
          "size": 8,
          "symbol": "line-ew"
         },
         "mode": "lines+markers",
         "name": "",
         "showlegend": false,
         "type": "scatter",
         "x": [
          1.3940000000000001,
          1.3940000000000001
         ],
         "xaxis": "x",
         "y": [
          0.38209123320319094,
          0.3820912332995807
         ],
         "yaxis": "y",
         "zmax": null,
         "zmin": null
        },
        {
         "colorbar": {
          "title": {
           "text": ""
          }
         },
         "legendgroup": "",
         "line": {
          "color": "rgba(0, 0, 0, 1)",
          "dash": "solid",
          "shape": "linear",
          "width": 1
         },
         "marker": {
          "color": "rgba(0, 0, 0, 1)",
          "line": {
           "color": "rgba(0, 0, 0, 1)",
           "width": 1
          },
          "size": 8,
          "symbol": "line-ew"
         },
         "mode": "lines+markers",
         "name": "",
         "showlegend": false,
         "type": "scatter",
         "x": [
          1.3960000000000001,
          1.3960000000000001
         ],
         "xaxis": "x",
         "y": [
          0.3822083782510527,
          0.38220837856164136
         ],
         "yaxis": "y",
         "zmax": null,
         "zmin": null
        },
        {
         "colorbar": {
          "title": {
           "text": ""
          }
         },
         "legendgroup": "",
         "line": {
          "color": "rgba(0, 0, 0, 1)",
          "dash": "solid",
          "shape": "linear",
          "width": 1
         },
         "marker": {
          "color": "rgba(0, 0, 0, 1)",
          "line": {
           "color": "rgba(0, 0, 0, 1)",
           "width": 1
          },
          "size": 8,
          "symbol": "line-ew"
         },
         "mode": "lines+markers",
         "name": "",
         "showlegend": false,
         "type": "scatter",
         "x": [
          1.3980000000000001,
          1.3980000000000001
         ],
         "xaxis": "x",
         "y": [
          0.38232694079798846,
          0.3823269413012881
         ],
         "yaxis": "y",
         "zmax": null,
         "zmin": null
        },
        {
         "colorbar": {
          "title": {
           "text": ""
          }
         },
         "legendgroup": "",
         "line": {
          "color": "rgba(0, 0, 0, 1)",
          "dash": "solid",
          "shape": "linear",
          "width": 1
         },
         "marker": {
          "color": "rgba(0, 0, 0, 1)",
          "line": {
           "color": "rgba(0, 0, 0, 1)",
           "width": 1
          },
          "size": 8,
          "symbol": "line-ew"
         },
         "mode": "lines+markers",
         "name": "",
         "showlegend": false,
         "type": "scatter",
         "x": [
          1.4,
          1.4
         ],
         "xaxis": "x",
         "y": [
          0.3824469226878554,
          0.38244692303057104
         ],
         "yaxis": "y",
         "zmax": null,
         "zmin": null
        },
        {
         "colorbar": {
          "title": {
           "text": ""
          }
         },
         "legendgroup": "",
         "line": {
          "color": "rgba(0, 0, 0, 1)",
          "dash": "solid",
          "shape": "linear",
          "width": 1
         },
         "marker": {
          "color": "rgba(0, 0, 0, 1)",
          "line": {
           "color": "rgba(0, 0, 0, 1)",
           "width": 1
          },
          "size": 8,
          "symbol": "line-ew"
         },
         "mode": "lines+markers",
         "name": "",
         "showlegend": false,
         "type": "scatter",
         "x": [
          1.4020000000000001,
          1.4020000000000001
         ],
         "xaxis": "x",
         "y": [
          0.382568325321413,
          0.38256832561573256
         ],
         "yaxis": "y",
         "zmax": null,
         "zmin": null
        },
        {
         "colorbar": {
          "title": {
           "text": ""
          }
         },
         "legendgroup": "",
         "line": {
          "color": "rgba(0, 0, 0, 1)",
          "dash": "solid",
          "shape": "linear",
          "width": 1
         },
         "marker": {
          "color": "rgba(0, 0, 0, 1)",
          "line": {
           "color": "rgba(0, 0, 0, 1)",
           "width": 1
          },
          "size": 8,
          "symbol": "line-ew"
         },
         "mode": "lines+markers",
         "name": "",
         "showlegend": false,
         "type": "scatter",
         "x": [
          1.404,
          1.404
         ],
         "xaxis": "x",
         "y": [
          0.38269115032377277,
          0.38269115052493985
         ],
         "yaxis": "y",
         "zmax": null,
         "zmin": null
        },
        {
         "colorbar": {
          "title": {
           "text": ""
          }
         },
         "legendgroup": "",
         "line": {
          "color": "rgba(0, 0, 0, 1)",
          "dash": "solid",
          "shape": "linear",
          "width": 1
         },
         "marker": {
          "color": "rgba(0, 0, 0, 1)",
          "line": {
           "color": "rgba(0, 0, 0, 1)",
           "width": 1
          },
          "size": 8,
          "symbol": "line-ew"
         },
         "mode": "lines+markers",
         "name": "",
         "showlegend": false,
         "type": "scatter",
         "x": [
          1.4060000000000001,
          1.4060000000000001
         ],
         "xaxis": "x",
         "y": [
          1.2699599281599405,
          1.2939428712019083
         ],
         "yaxis": "y",
         "zmax": null,
         "zmin": null
        },
        {
         "colorbar": {
          "title": {
           "text": ""
          }
         },
         "legendgroup": "",
         "line": {
          "color": "rgba(0, 0, 0, 1)",
          "dash": "solid",
          "shape": "linear",
          "width": 1
         },
         "marker": {
          "color": "rgba(0, 0, 0, 1)",
          "line": {
           "color": "rgba(0, 0, 0, 1)",
           "width": 1
          },
          "size": 8,
          "symbol": "line-ew"
         },
         "mode": "lines+markers",
         "name": "",
         "showlegend": false,
         "type": "scatter",
         "x": [
          1.408,
          1.408
         ],
         "xaxis": "x",
         "y": [
          1.2780526504168652,
          1.297632831622565
         ],
         "yaxis": "y",
         "zmax": null,
         "zmin": null
        },
        {
         "colorbar": {
          "title": {
           "text": ""
          }
         },
         "legendgroup": "",
         "line": {
          "color": "rgba(0, 0, 0, 1)",
          "dash": "solid",
          "shape": "linear",
          "width": 1
         },
         "marker": {
          "color": "rgba(0, 0, 0, 1)",
          "line": {
           "color": "rgba(0, 0, 0, 1)",
           "width": 1
          },
          "size": 8,
          "symbol": "line-ew"
         },
         "mode": "lines+markers",
         "name": "",
         "showlegend": false,
         "type": "scatter",
         "x": [
          1.4100000000000001,
          1.4100000000000001
         ],
         "xaxis": "x",
         "y": [
          1.2665281543850688,
          1.2923618971996795
         ],
         "yaxis": "y",
         "zmax": null,
         "zmin": null
        },
        {
         "colorbar": {
          "title": {
           "text": ""
          }
         },
         "legendgroup": "",
         "line": {
          "color": "rgba(0, 0, 0, 1)",
          "dash": "solid",
          "shape": "linear",
          "width": 1
         },
         "marker": {
          "color": "rgba(0, 0, 0, 1)",
          "line": {
           "color": "rgba(0, 0, 0, 1)",
           "width": 1
          },
          "size": 8,
          "symbol": "line-ew"
         },
         "mode": "lines+markers",
         "name": "",
         "showlegend": false,
         "type": "scatter",
         "x": [
          1.412,
          1.412
         ],
         "xaxis": "x",
         "y": [
          1.2704209111495455,
          1.2964208311052505
         ],
         "yaxis": "y",
         "zmax": null,
         "zmin": null
        },
        {
         "colorbar": {
          "title": {
           "text": ""
          }
         },
         "legendgroup": "",
         "line": {
          "color": "rgba(0, 0, 0, 1)",
          "dash": "solid",
          "shape": "linear",
          "width": 1
         },
         "marker": {
          "color": "rgba(0, 0, 0, 1)",
          "line": {
           "color": "rgba(0, 0, 0, 1)",
           "width": 1
          },
          "size": 8,
          "symbol": "line-ew"
         },
         "mode": "lines+markers",
         "name": "",
         "showlegend": false,
         "type": "scatter",
         "x": [
          1.414,
          1.414
         ],
         "xaxis": "x",
         "y": [
          1.279723406791925,
          1.2981316913976821
         ],
         "yaxis": "y",
         "zmax": null,
         "zmin": null
        },
        {
         "colorbar": {
          "title": {
           "text": ""
          }
         },
         "legendgroup": "",
         "line": {
          "color": "rgba(0, 0, 0, 1)",
          "dash": "solid",
          "shape": "linear",
          "width": 1
         },
         "marker": {
          "color": "rgba(0, 0, 0, 1)",
          "line": {
           "color": "rgba(0, 0, 0, 1)",
           "width": 1
          },
          "size": 8,
          "symbol": "line-ew"
         },
         "mode": "lines+markers",
         "name": "",
         "showlegend": false,
         "type": "scatter",
         "x": [
          1.416,
          1.416
         ],
         "xaxis": "x",
         "y": [
          1.2680051389533624,
          1.2993257084309888
         ],
         "yaxis": "y",
         "zmax": null,
         "zmin": null
        },
        {
         "colorbar": {
          "title": {
           "text": ""
          }
         },
         "legendgroup": "",
         "line": {
          "color": "rgba(0, 0, 0, 1)",
          "dash": "solid",
          "shape": "linear",
          "width": 1
         },
         "marker": {
          "color": "rgba(0, 0, 0, 1)",
          "line": {
           "color": "rgba(0, 0, 0, 1)",
           "width": 1
          },
          "size": 8,
          "symbol": "line-ew"
         },
         "mode": "lines+markers",
         "name": "",
         "showlegend": false,
         "type": "scatter",
         "x": [
          1.418,
          1.418
         ],
         "xaxis": "x",
         "y": [
          1.269420646430843,
          1.2934074275576364
         ],
         "yaxis": "y",
         "zmax": null,
         "zmin": null
        },
        {
         "colorbar": {
          "title": {
           "text": ""
          }
         },
         "legendgroup": "",
         "line": {
          "color": "rgba(0, 0, 0, 1)",
          "dash": "solid",
          "shape": "linear",
          "width": 1
         },
         "marker": {
          "color": "rgba(0, 0, 0, 1)",
          "line": {
           "color": "rgba(0, 0, 0, 1)",
           "width": 1
          },
          "size": 8,
          "symbol": "line-ew"
         },
         "mode": "lines+markers",
         "name": "",
         "showlegend": false,
         "type": "scatter",
         "x": [
          1.42,
          1.42
         ],
         "xaxis": "x",
         "y": [
          1.2728226002567473,
          1.2950888012806299
         ],
         "yaxis": "y",
         "zmax": null,
         "zmin": null
        },
        {
         "colorbar": {
          "title": {
           "text": ""
          }
         },
         "legendgroup": "",
         "line": {
          "color": "rgba(0, 0, 0, 1)",
          "dash": "solid",
          "shape": "linear",
          "width": 1
         },
         "marker": {
          "color": "rgba(0, 0, 0, 1)",
          "line": {
           "color": "rgba(0, 0, 0, 1)",
           "width": 1
          },
          "size": 8,
          "symbol": "line-ew"
         },
         "mode": "lines+markers",
         "name": "",
         "showlegend": false,
         "type": "scatter",
         "x": [
          1.4220000000000002,
          1.4220000000000002
         ],
         "xaxis": "x",
         "y": [
          1.2765265120201612,
          1.2949910084646399
         ],
         "yaxis": "y",
         "zmax": null,
         "zmin": null
        },
        {
         "colorbar": {
          "title": {
           "text": ""
          }
         },
         "legendgroup": "",
         "line": {
          "color": "rgba(0, 0, 0, 1)",
          "dash": "solid",
          "shape": "linear",
          "width": 1
         },
         "marker": {
          "color": "rgba(0, 0, 0, 1)",
          "line": {
           "color": "rgba(0, 0, 0, 1)",
           "width": 1
          },
          "size": 8,
          "symbol": "line-ew"
         },
         "mode": "lines+markers",
         "name": "",
         "showlegend": false,
         "type": "scatter",
         "x": [
          1.424,
          1.424
         ],
         "xaxis": "x",
         "y": [
          1.2779525592597007,
          1.2943630154853825
         ],
         "yaxis": "y",
         "zmax": null,
         "zmin": null
        },
        {
         "colorbar": {
          "title": {
           "text": ""
          }
         },
         "legendgroup": "",
         "line": {
          "color": "rgba(0, 0, 0, 1)",
          "dash": "solid",
          "shape": "linear",
          "width": 1
         },
         "marker": {
          "color": "rgba(0, 0, 0, 1)",
          "line": {
           "color": "rgba(0, 0, 0, 1)",
           "width": 1
          },
          "size": 8,
          "symbol": "line-ew"
         },
         "mode": "lines+markers",
         "name": "",
         "showlegend": false,
         "type": "scatter",
         "x": [
          1.426,
          1.426
         ],
         "xaxis": "x",
         "y": [
          1.279865955675101,
          1.3054932218684374
         ],
         "yaxis": "y",
         "zmax": null,
         "zmin": null
        },
        {
         "colorbar": {
          "title": {
           "text": ""
          }
         },
         "legendgroup": "",
         "line": {
          "color": "rgba(0, 0, 0, 1)",
          "dash": "solid",
          "shape": "linear",
          "width": 1
         },
         "marker": {
          "color": "rgba(0, 0, 0, 1)",
          "line": {
           "color": "rgba(0, 0, 0, 1)",
           "width": 1
          },
          "size": 8,
          "symbol": "line-ew"
         },
         "mode": "lines+markers",
         "name": "",
         "showlegend": false,
         "type": "scatter",
         "x": [
          1.428,
          1.428
         ],
         "xaxis": "x",
         "y": [
          1.2663861080061867,
          1.2932029686324282
         ],
         "yaxis": "y",
         "zmax": null,
         "zmin": null
        },
        {
         "colorbar": {
          "title": {
           "text": ""
          }
         },
         "legendgroup": "",
         "line": {
          "color": "rgba(0, 0, 0, 1)",
          "dash": "solid",
          "shape": "linear",
          "width": 1
         },
         "marker": {
          "color": "rgba(0, 0, 0, 1)",
          "line": {
           "color": "rgba(0, 0, 0, 1)",
           "width": 1
          },
          "size": 8,
          "symbol": "line-ew"
         },
         "mode": "lines+markers",
         "name": "",
         "showlegend": false,
         "type": "scatter",
         "x": [
          1.43,
          1.43
         ],
         "xaxis": "x",
         "y": [
          1.2762239528876433,
          1.2980306471638494
         ],
         "yaxis": "y",
         "zmax": null,
         "zmin": null
        },
        {
         "colorbar": {
          "title": {
           "text": ""
          }
         },
         "legendgroup": "",
         "line": {
          "color": "rgba(0, 0, 0, 1)",
          "dash": "solid",
          "shape": "linear",
          "width": 1
         },
         "marker": {
          "color": "rgba(0, 0, 0, 1)",
          "line": {
           "color": "rgba(0, 0, 0, 1)",
           "width": 1
          },
          "size": 8,
          "symbol": "line-ew"
         },
         "mode": "lines+markers",
         "name": "",
         "showlegend": false,
         "type": "scatter",
         "x": [
          1.432,
          1.432
         ],
         "xaxis": "x",
         "y": [
          1.2737551100342646,
          1.2944457204760023
         ],
         "yaxis": "y",
         "zmax": null,
         "zmin": null
        },
        {
         "colorbar": {
          "title": {
           "text": ""
          }
         },
         "legendgroup": "",
         "line": {
          "color": "rgba(0, 0, 0, 1)",
          "dash": "solid",
          "shape": "linear",
          "width": 1
         },
         "marker": {
          "color": "rgba(0, 0, 0, 1)",
          "line": {
           "color": "rgba(0, 0, 0, 1)",
           "width": 1
          },
          "size": 8,
          "symbol": "line-ew"
         },
         "mode": "lines+markers",
         "name": "",
         "showlegend": false,
         "type": "scatter",
         "x": [
          1.434,
          1.434
         ],
         "xaxis": "x",
         "y": [
          1.2810258418123637,
          1.2985665429356807
         ],
         "yaxis": "y",
         "zmax": null,
         "zmin": null
        },
        {
         "colorbar": {
          "title": {
           "text": ""
          }
         },
         "legendgroup": "",
         "line": {
          "color": "rgba(0, 0, 0, 1)",
          "dash": "solid",
          "shape": "linear",
          "width": 1
         },
         "marker": {
          "color": "rgba(0, 0, 0, 1)",
          "line": {
           "color": "rgba(0, 0, 0, 1)",
           "width": 1
          },
          "size": 8,
          "symbol": "line-ew"
         },
         "mode": "lines+markers",
         "name": "",
         "showlegend": false,
         "type": "scatter",
         "x": [
          1.436,
          1.436
         ],
         "xaxis": "x",
         "y": [
          1.2614892156302697,
          1.2924176292575313
         ],
         "yaxis": "y",
         "zmax": null,
         "zmin": null
        },
        {
         "colorbar": {
          "title": {
           "text": ""
          }
         },
         "legendgroup": "",
         "line": {
          "color": "rgba(0, 0, 0, 1)",
          "dash": "solid",
          "shape": "linear",
          "width": 1
         },
         "marker": {
          "color": "rgba(0, 0, 0, 1)",
          "line": {
           "color": "rgba(0, 0, 0, 1)",
           "width": 1
          },
          "size": 8,
          "symbol": "line-ew"
         },
         "mode": "lines+markers",
         "name": "",
         "showlegend": false,
         "type": "scatter",
         "x": [
          1.438,
          1.438
         ],
         "xaxis": "x",
         "y": [
          1.2686726599408662,
          1.2913049654665192
         ],
         "yaxis": "y",
         "zmax": null,
         "zmin": null
        },
        {
         "colorbar": {
          "title": {
           "text": ""
          }
         },
         "legendgroup": "",
         "line": {
          "color": "rgba(0, 0, 0, 1)",
          "dash": "solid",
          "shape": "linear",
          "width": 1
         },
         "marker": {
          "color": "rgba(0, 0, 0, 1)",
          "line": {
           "color": "rgba(0, 0, 0, 1)",
           "width": 1
          },
          "size": 8,
          "symbol": "line-ew"
         },
         "mode": "lines+markers",
         "name": "",
         "showlegend": false,
         "type": "scatter",
         "x": [
          1.44,
          1.44
         ],
         "xaxis": "x",
         "y": [
          1.2802973840639034,
          1.2986500742769884
         ],
         "yaxis": "y",
         "zmax": null,
         "zmin": null
        },
        {
         "colorbar": {
          "title": {
           "text": ""
          }
         },
         "legendgroup": "",
         "line": {
          "color": "rgba(0, 0, 0, 1)",
          "dash": "solid",
          "shape": "linear",
          "width": 1
         },
         "marker": {
          "color": "rgba(0, 0, 0, 1)",
          "line": {
           "color": "rgba(0, 0, 0, 1)",
           "width": 1
          },
          "size": 8,
          "symbol": "line-ew"
         },
         "mode": "lines+markers",
         "name": "",
         "showlegend": false,
         "type": "scatter",
         "x": [
          1.442,
          1.442
         ],
         "xaxis": "x",
         "y": [
          1.2716528594380674,
          1.2947739507356433
         ],
         "yaxis": "y",
         "zmax": null,
         "zmin": null
        },
        {
         "colorbar": {
          "title": {
           "text": ""
          }
         },
         "legendgroup": "",
         "line": {
          "color": "rgba(0, 0, 0, 1)",
          "dash": "solid",
          "shape": "linear",
          "width": 1
         },
         "marker": {
          "color": "rgba(0, 0, 0, 1)",
          "line": {
           "color": "rgba(0, 0, 0, 1)",
           "width": 1
          },
          "size": 8,
          "symbol": "line-ew"
         },
         "mode": "lines+markers",
         "name": "",
         "showlegend": false,
         "type": "scatter",
         "x": [
          1.444,
          1.444
         ],
         "xaxis": "x",
         "y": [
          1.2782610731241437,
          1.2965719453239695
         ],
         "yaxis": "y",
         "zmax": null,
         "zmin": null
        },
        {
         "colorbar": {
          "title": {
           "text": ""
          }
         },
         "legendgroup": "",
         "line": {
          "color": "rgba(0, 0, 0, 1)",
          "dash": "solid",
          "shape": "linear",
          "width": 1
         },
         "marker": {
          "color": "rgba(0, 0, 0, 1)",
          "line": {
           "color": "rgba(0, 0, 0, 1)",
           "width": 1
          },
          "size": 8,
          "symbol": "line-ew"
         },
         "mode": "lines+markers",
         "name": "",
         "showlegend": false,
         "type": "scatter",
         "x": [
          1.446,
          1.446
         ],
         "xaxis": "x",
         "y": [
          1.2785731249281005,
          1.2981804722476067
         ],
         "yaxis": "y",
         "zmax": null,
         "zmin": null
        },
        {
         "colorbar": {
          "title": {
           "text": ""
          }
         },
         "legendgroup": "",
         "line": {
          "color": "rgba(0, 0, 0, 1)",
          "dash": "solid",
          "shape": "linear",
          "width": 1
         },
         "marker": {
          "color": "rgba(0, 0, 0, 1)",
          "line": {
           "color": "rgba(0, 0, 0, 1)",
           "width": 1
          },
          "size": 8,
          "symbol": "line-ew"
         },
         "mode": "lines+markers",
         "name": "",
         "showlegend": false,
         "type": "scatter",
         "x": [
          1.4480000000000002,
          1.4480000000000002
         ],
         "xaxis": "x",
         "y": [
          1.276791636339035,
          1.2940094362387722
         ],
         "yaxis": "y",
         "zmax": null,
         "zmin": null
        },
        {
         "colorbar": {
          "title": {
           "text": ""
          }
         },
         "legendgroup": "",
         "line": {
          "color": "rgba(0, 0, 0, 1)",
          "dash": "solid",
          "shape": "linear",
          "width": 1
         },
         "marker": {
          "color": "rgba(0, 0, 0, 1)",
          "line": {
           "color": "rgba(0, 0, 0, 1)",
           "width": 1
          },
          "size": 8,
          "symbol": "line-ew"
         },
         "mode": "lines+markers",
         "name": "",
         "showlegend": false,
         "type": "scatter",
         "x": [
          1.45,
          1.45
         ],
         "xaxis": "x",
         "y": [
          1.2746311176745804,
          1.2961179922403467
         ],
         "yaxis": "y",
         "zmax": null,
         "zmin": null
        },
        {
         "colorbar": {
          "title": {
           "text": ""
          }
         },
         "legendgroup": "",
         "marker": {
          "color": "rgba(0, 154, 250, 1.000)",
          "line": {
           "color": "rgba(0, 0, 0, 1)",
           "width": 1
          },
          "size": 8,
          "symbol": "circle"
         },
         "mode": "markers",
         "name": "",
         "showlegend": false,
         "type": "scatter",
         "x": [
          1.35,
          1.3519999999999999,
          1.354,
          1.3559999999999999,
          1.358,
          1.36,
          1.362,
          1.364,
          1.366,
          1.3680000000000003,
          1.37,
          1.372,
          1.374,
          1.376,
          1.3780000000000001,
          1.38,
          1.382,
          1.384,
          1.3860000000000001,
          1.388,
          1.3900000000000001,
          1.3920000000000001,
          1.3940000000000001,
          1.3960000000000001,
          1.3980000000000001,
          1.4,
          1.4020000000000001,
          1.404,
          1.4060000000000001,
          1.408,
          1.4100000000000001,
          1.412,
          1.414,
          1.416,
          1.418,
          1.42,
          1.4220000000000002,
          1.424,
          1.426,
          1.428,
          1.43,
          1.432,
          1.434,
          1.436,
          1.438,
          1.44,
          1.442,
          1.444,
          1.446,
          1.4480000000000002,
          1.45
         ],
         "xaxis": "x",
         "y": [
          0.3798691732401916,
          0.37995557953704384,
          0.38004336329850374,
          0.3801325258452089,
          0.3802230697940212,
          0.38031499699609334,
          0.3804083092190695,
          0.380503008649241,
          0.3805990971411068,
          0.3806965766855087,
          0.3807954490994767,
          0.3808957164163381,
          0.3809973802980992,
          0.381100442626488,
          0.381204905399898,
          0.38131077028200144,
          0.4444625073732927,
          0.38152671409934874,
          0.38163679581500914,
          0.38174828716621584,
          0.5016953192373499,
          0.4464915281380561,
          0.38209123325138583,
          0.382208378406347,
          0.38232694104963827,
          0.3824469228592132,
          0.3825683254685728,
          0.3826911504243563,
          1.2819513996809244,
          1.287842741019715,
          1.2794450257923742,
          1.283420871127398,
          1.2889275490948036,
          1.2836654236921756,
          1.2814140369942397,
          1.2839557007686886,
          1.2857587602424005,
          1.2861577873725416,
          1.2926795887717693,
          1.2797945383193075,
          1.2871273000257464,
          1.2841004152551334,
          1.2897961923740222,
          1.2769534224439005,
          1.2799888127036927,
          1.289473729170446,
          1.2832134050868553,
          1.2874165092240566,
          1.2883767985878536,
          1.2854005362889036,
          1.2853745549574636
         ],
         "yaxis": "y",
         "zmax": null,
         "zmin": null
        }
       ],
       "layout": {
        "annotations": [],
        "height": 400,
        "legend": {
         "bgcolor": "rgba(255, 255, 255, 1.000)",
         "bordercolor": "rgba(0, 0, 0, 1)",
         "borderwidth": 1,
         "font": {
          "color": "rgba(0, 0, 0, 1)",
          "family": "sans-serif",
          "size": 11
         },
         "title": {
          "font": {
           "color": "rgba(0, 0, 0, 1)",
           "family": "sans-serif",
           "size": 15
          },
          "text": ""
         },
         "tracegroupgap": 0,
         "traceorder": "normal",
         "x": 1,
         "xanchor": "auto",
         "y": 1,
         "yanchor": "auto"
        },
        "margin": {
         "b": 20,
         "l": 0,
         "r": 0,
         "t": 20
        },
        "paper_bgcolor": "rgba(255, 255, 255, 1.000)",
        "plot_bgcolor": "rgba(255, 255, 255, 1.000)",
        "showlegend": true,
        "width": 600,
        "xaxis": {
         "anchor": "y",
         "domain": [
          0.07646908719743364,
          0.9934383202099737
         ],
         "gridcolor": "rgba(0, 0, 0, 0.1)",
         "gridwidth": 0.5,
         "linecolor": "rgba(0, 0, 0, 1)",
         "mirror": false,
         "range": [
          1.3470000000000002,
          1.4529999999999998
         ],
         "showgrid": true,
         "showline": true,
         "showticklabels": true,
         "tickangle": 0,
         "tickcolor": "rgb(0, 0, 0)",
         "tickfont": {
          "color": "rgba(0, 0, 0, 1)",
          "family": "sans-serif",
          "size": 11
         },
         "tickmode": "array",
         "ticks": "inside",
         "ticktext": [
          "1.36",
          "1.38",
          "1.40",
          "1.42",
          "1.44"
         ],
         "tickvals": [
          1.36,
          1.3800000000000001,
          1.4000000000000001,
          1.42,
          1.44
         ],
         "title": {
          "font": {
           "color": "rgba(0, 0, 0, 1)",
           "family": "sans-serif",
           "size": 15
          },
          "text": "l"
         },
         "type": "linear",
         "visible": true,
         "zeroline": false,
         "zerolinecolor": "rgba(0, 0, 0, 1)"
        },
        "yaxis": {
         "anchor": "x",
         "domain": [
          0.07581474190726165,
          0.9901574803149606
         ],
         "gridcolor": "rgba(0, 0, 0, 0.1)",
         "gridwidth": 0.5,
         "linecolor": "rgba(0, 0, 0, 1)",
         "mirror": false,
         "range": [
          0.21058336876089756,
          1.3373838001142881
         ],
         "showgrid": true,
         "showline": true,
         "showticklabels": true,
         "tickangle": 0,
         "tickcolor": "rgb(0, 0, 0)",
         "tickfont": {
          "color": "rgba(0, 0, 0, 1)",
          "family": "sans-serif",
          "size": 11
         },
         "tickmode": "array",
         "ticks": "inside",
         "ticktext": [
          "0.4",
          "0.6",
          "0.8",
          "1.0",
          "1.2"
         ],
         "tickvals": [
          0.4,
          0.6000000000000001,
          0.8,
          1,
          1.2000000000000002
         ],
         "title": {
          "font": {
           "color": "rgba(0, 0, 0, 1)",
           "family": "sans-serif",
           "size": 15
          },
          "text": "RMSD sobrepuesto"
         },
         "type": "linear",
         "visible": true,
         "zeroline": false,
         "zerolinecolor": "rgba(0, 0, 0, 1)"
        }
       }
      },
      "image/png": "[encoded data removed]",
      "text/html": [
       "<!DOCTYPE html>\n",
       "<html>\n",
       "    <head>\n",
       "        <title>Plots.jl</title>\n",
       "        <meta http-equiv=\"content-type\" content=\"text/html; charset=UTF-8\">\n",
       "        \n",
       "    </head>\n",
       "    <body>\n",
       "            <div id=\"05bb5178-62c8-43a0-93ca-ebbbd4823bab\" style=\"width:600px;height:400px;\"></div>\n",
       "    <script>\n",
       "        requirejs.config({\n",
       "        paths: {\n",
       "            Plotly: 'https://cdn.plot.ly/plotly-1.57.1.min'\n",
       "        }\n",
       "    });\n",
       "    require(['Plotly'], function (Plotly) {\n",
       "\n",
       "    PLOT = document.getElementById('05bb5178-62c8-43a0-93ca-ebbbd4823bab');\n",
       "    Plotly.plot(PLOT, [\n",
       "    {\n",
       "        \"xaxis\": \"x\",\n",
       "        \"colorbar\": {\n",
       "            \"title\": \"\"\n",
       "        },\n",
       "        \"yaxis\": \"y\",\n",
       "        \"x\": [\n",
       "            1.35,\n",
       "            1.35\n",
       "        ],\n",
       "        \"showlegend\": false,\n",
       "        \"mode\": \"lines+markers\",\n",
       "        \"name\": \"\",\n",
       "        \"zmin\": null,\n",
       "        \"legendgroup\": \"\",\n",
       "        \"marker\": {\n",
       "            \"symbol\": \"line-ew\",\n",
       "            \"color\": \"rgba(0, 0, 0, 1.000)\",\n",
       "            \"line\": {\n",
       "                \"color\": \"rgba(0, 0, 0, 1.000)\",\n",
       "                \"width\": 1\n",
       "            },\n",
       "            \"size\": 8\n",
       "        },\n",
       "        \"zmax\": null,\n",
       "        \"line\": {\n",
       "            \"color\": \"rgba(0, 0, 0, 1.000)\",\n",
       "            \"shape\": \"linear\",\n",
       "            \"dash\": \"solid\",\n",
       "            \"width\": 1\n",
       "        },\n",
       "        \"y\": [\n",
       "            0.3798691729083753,\n",
       "            0.3798691735720079\n",
       "        ],\n",
       "        \"type\": \"scatter\"\n",
       "    },\n",
       "    {\n",
       "        \"xaxis\": \"x\",\n",
       "        \"colorbar\": {\n",
       "            \"title\": \"\"\n",
       "        },\n",
       "        \"yaxis\": \"y\",\n",
       "        \"x\": [\n",
       "            1.3519999999999999,\n",
       "            1.3519999999999999\n",
       "        ],\n",
       "        \"showlegend\": false,\n",
       "        \"mode\": \"lines+markers\",\n",
       "        \"name\": \"\",\n",
       "        \"zmin\": null,\n",
       "        \"legendgroup\": \"\",\n",
       "        \"marker\": {\n",
       "            \"symbol\": \"line-ew\",\n",
       "            \"color\": \"rgba(0, 0, 0, 1.000)\",\n",
       "            \"line\": {\n",
       "                \"color\": \"rgba(0, 0, 0, 1.000)\",\n",
       "                \"width\": 1\n",
       "            },\n",
       "            \"size\": 8\n",
       "        },\n",
       "        \"zmax\": null,\n",
       "        \"line\": {\n",
       "            \"color\": \"rgba(0, 0, 0, 1.000)\",\n",
       "            \"shape\": \"linear\",\n",
       "            \"dash\": \"solid\",\n",
       "            \"width\": 1\n",
       "        },\n",
       "        \"y\": [\n",
       "            0.37995557945484215,\n",
       "            0.37995557961924553\n",
       "        ],\n",
       "        \"type\": \"scatter\"\n",
       "    },\n",
       "    {\n",
       "        \"xaxis\": \"x\",\n",
       "        \"colorbar\": {\n",
       "            \"title\": \"\"\n",
       "        },\n",
       "        \"yaxis\": \"y\",\n",
       "        \"x\": [\n",
       "            1.354,\n",
       "            1.354\n",
       "        ],\n",
       "        \"showlegend\": false,\n",
       "        \"mode\": \"lines+markers\",\n",
       "        \"name\": \"\",\n",
       "        \"zmin\": null,\n",
       "        \"legendgroup\": \"\",\n",
       "        \"marker\": {\n",
       "            \"symbol\": \"line-ew\",\n",
       "            \"color\": \"rgba(0, 0, 0, 1.000)\",\n",
       "            \"line\": {\n",
       "                \"color\": \"rgba(0, 0, 0, 1.000)\",\n",
       "                \"width\": 1\n",
       "            },\n",
       "            \"size\": 8\n",
       "        },\n",
       "        \"zmax\": null,\n",
       "        \"line\": {\n",
       "            \"color\": \"rgba(0, 0, 0, 1.000)\",\n",
       "            \"shape\": \"linear\",\n",
       "            \"dash\": \"solid\",\n",
       "            \"width\": 1\n",
       "        },\n",
       "        \"y\": [\n",
       "            0.3800433630652104,\n",
       "            0.3800433635317971\n",
       "        ],\n",
       "        \"type\": \"scatter\"\n",
       "    },\n",
       "    {\n",
       "        \"xaxis\": \"x\",\n",
       "        \"colorbar\": {\n",
       "            \"title\": \"\"\n",
       "        },\n",
       "        \"yaxis\": \"y\",\n",
       "        \"x\": [\n",
       "            1.3559999999999999,\n",
       "            1.3559999999999999\n",
       "        ],\n",
       "        \"showlegend\": false,\n",
       "        \"mode\": \"lines+markers\",\n",
       "        \"name\": \"\",\n",
       "        \"zmin\": null,\n",
       "        \"legendgroup\": \"\",\n",
       "        \"marker\": {\n",
       "            \"symbol\": \"line-ew\",\n",
       "            \"color\": \"rgba(0, 0, 0, 1.000)\",\n",
       "            \"line\": {\n",
       "                \"color\": \"rgba(0, 0, 0, 1.000)\",\n",
       "                \"width\": 1\n",
       "            },\n",
       "            \"size\": 8\n",
       "        },\n",
       "        \"zmax\": null,\n",
       "        \"line\": {\n",
       "            \"color\": \"rgba(0, 0, 0, 1.000)\",\n",
       "            \"shape\": \"linear\",\n",
       "            \"dash\": \"solid\",\n",
       "            \"width\": 1\n",
       "        },\n",
       "        \"y\": [\n",
       "            0.38013252580211276,\n",
       "            0.38013252588830504\n",
       "        ],\n",
       "        \"type\": \"scatter\"\n",
       "    },\n",
       "    {\n",
       "        \"xaxis\": \"x\",\n",
       "        \"colorbar\": {\n",
       "            \"title\": \"\"\n",
       "        },\n",
       "        \"yaxis\": \"y\",\n",
       "        \"x\": [\n",
       "            1.358,\n",
       "            1.358\n",
       "        ],\n",
       "        \"showlegend\": false,\n",
       "        \"mode\": \"lines+markers\",\n",
       "        \"name\": \"\",\n",
       "        \"zmin\": null,\n",
       "        \"legendgroup\": \"\",\n",
       "        \"marker\": {\n",
       "            \"symbol\": \"line-ew\",\n",
       "            \"color\": \"rgba(0, 0, 0, 1.000)\",\n",
       "            \"line\": {\n",
       "                \"color\": \"rgba(0, 0, 0, 1.000)\",\n",
       "                \"width\": 1\n",
       "            },\n",
       "            \"size\": 8\n",
       "        },\n",
       "        \"zmax\": null,\n",
       "        \"line\": {\n",
       "            \"color\": \"rgba(0, 0, 0, 1.000)\",\n",
       "            \"shape\": \"linear\",\n",
       "            \"dash\": \"solid\",\n",
       "            \"width\": 1\n",
       "        },\n",
       "        \"y\": [\n",
       "            0.3802230697425285,\n",
       "            0.3802230698455139\n",
       "        ],\n",
       "        \"type\": \"scatter\"\n",
       "    },\n",
       "    {\n",
       "        \"xaxis\": \"x\",\n",
       "        \"colorbar\": {\n",
       "            \"title\": \"\"\n",
       "        },\n",
       "        \"yaxis\": \"y\",\n",
       "        \"x\": [\n",
       "            1.36,\n",
       "            1.36\n",
       "        ],\n",
       "        \"showlegend\": false,\n",
       "        \"mode\": \"lines+markers\",\n",
       "        \"name\": \"\",\n",
       "        \"zmin\": null,\n",
       "        \"legendgroup\": \"\",\n",
       "        \"marker\": {\n",
       "            \"symbol\": \"line-ew\",\n",
       "            \"color\": \"rgba(0, 0, 0, 1.000)\",\n",
       "            \"line\": {\n",
       "                \"color\": \"rgba(0, 0, 0, 1.000)\",\n",
       "                \"width\": 1\n",
       "            },\n",
       "            \"size\": 8\n",
       "        },\n",
       "        \"zmax\": null,\n",
       "        \"line\": {\n",
       "            \"color\": \"rgba(0, 0, 0, 1.000)\",\n",
       "            \"shape\": \"linear\",\n",
       "            \"dash\": \"solid\",\n",
       "            \"width\": 1\n",
       "        },\n",
       "        \"y\": [\n",
       "            0.3803149968262369,\n",
       "            0.3803149971659498\n",
       "        ],\n",
       "        \"type\": \"scatter\"\n",
       "    },\n",
       "    {\n",
       "        \"xaxis\": \"x\",\n",
       "        \"colorbar\": {\n",
       "            \"title\": \"\"\n",
       "        },\n",
       "        \"yaxis\": \"y\",\n",
       "        \"x\": [\n",
       "            1.362,\n",
       "            1.362\n",
       "        ],\n",
       "        \"showlegend\": false,\n",
       "        \"mode\": \"lines+markers\",\n",
       "        \"name\": \"\",\n",
       "        \"zmin\": null,\n",
       "        \"legendgroup\": \"\",\n",
       "        \"marker\": {\n",
       "            \"symbol\": \"line-ew\",\n",
       "            \"color\": \"rgba(0, 0, 0, 1.000)\",\n",
       "            \"line\": {\n",
       "                \"color\": \"rgba(0, 0, 0, 1.000)\",\n",
       "                \"width\": 1\n",
       "            },\n",
       "            \"size\": 8\n",
       "        },\n",
       "        \"zmax\": null,\n",
       "        \"line\": {\n",
       "            \"color\": \"rgba(0, 0, 0, 1.000)\",\n",
       "            \"shape\": \"linear\",\n",
       "            \"dash\": \"solid\",\n",
       "            \"width\": 1\n",
       "        },\n",
       "        \"y\": [\n",
       "            0.3804083090698382,\n",
       "            0.3804083093683008\n",
       "        ],\n",
       "        \"type\": \"scatter\"\n",
       "    },\n",
       "    {\n",
       "        \"xaxis\": \"x\",\n",
       "        \"colorbar\": {\n",
       "            \"title\": \"\"\n",
       "        },\n",
       "        \"yaxis\": \"y\",\n",
       "        \"x\": [\n",
       "            1.364,\n",
       "            1.364\n",
       "        ],\n",
       "        \"showlegend\": false,\n",
       "        \"mode\": \"lines+markers\",\n",
       "        \"name\": \"\",\n",
       "        \"zmin\": null,\n",
       "        \"legendgroup\": \"\",\n",
       "        \"marker\": {\n",
       "            \"symbol\": \"line-ew\",\n",
       "            \"color\": \"rgba(0, 0, 0, 1.000)\",\n",
       "            \"line\": {\n",
       "                \"color\": \"rgba(0, 0, 0, 1.000)\",\n",
       "                \"width\": 1\n",
       "            },\n",
       "            \"size\": 8\n",
       "        },\n",
       "        \"zmax\": null,\n",
       "        \"line\": {\n",
       "            \"color\": \"rgba(0, 0, 0, 1.000)\",\n",
       "            \"shape\": \"linear\",\n",
       "            \"dash\": \"solid\",\n",
       "            \"width\": 1\n",
       "        },\n",
       "        \"y\": [\n",
       "            0.38050300847238544,\n",
       "            0.3805030088260966\n",
       "        ],\n",
       "        \"type\": \"scatter\"\n",
       "    },\n",
       "    {\n",
       "        \"xaxis\": \"x\",\n",
       "        \"colorbar\": {\n",
       "            \"title\": \"\"\n",
       "        },\n",
       "        \"yaxis\": \"y\",\n",
       "        \"x\": [\n",
       "            1.366,\n",
       "            1.366\n",
       "        ],\n",
       "        \"showlegend\": false,\n",
       "        \"mode\": \"lines+markers\",\n",
       "        \"name\": \"\",\n",
       "        \"zmin\": null,\n",
       "        \"legendgroup\": \"\",\n",
       "        \"marker\": {\n",
       "            \"symbol\": \"line-ew\",\n",
       "            \"color\": \"rgba(0, 0, 0, 1.000)\",\n",
       "            \"line\": {\n",
       "                \"color\": \"rgba(0, 0, 0, 1.000)\",\n",
       "                \"width\": 1\n",
       "            },\n",
       "            \"size\": 8\n",
       "        },\n",
       "        \"zmax\": null,\n",
       "        \"line\": {\n",
       "            \"color\": \"rgba(0, 0, 0, 1.000)\",\n",
       "            \"shape\": \"linear\",\n",
       "            \"dash\": \"solid\",\n",
       "            \"width\": 1\n",
       "        },\n",
       "        \"y\": [\n",
       "            0.3805990970818205,\n",
       "            0.3805990972003931\n",
       "        ],\n",
       "        \"type\": \"scatter\"\n",
       "    },\n",
       "    {\n",
       "        \"xaxis\": \"x\",\n",
       "        \"colorbar\": {\n",
       "            \"title\": \"\"\n",
       "        },\n",
       "        \"yaxis\": \"y\",\n",
       "        \"x\": [\n",
       "            1.3680000000000003,\n",
       "            1.3680000000000003\n",
       "        ],\n",
       "        \"showlegend\": false,\n",
       "        \"mode\": \"lines+markers\",\n",
       "        \"name\": \"\",\n",
       "        \"zmin\": null,\n",
       "        \"legendgroup\": \"\",\n",
       "        \"marker\": {\n",
       "            \"symbol\": \"line-ew\",\n",
       "            \"color\": \"rgba(0, 0, 0, 1.000)\",\n",
       "            \"line\": {\n",
       "                \"color\": \"rgba(0, 0, 0, 1.000)\",\n",
       "                \"width\": 1\n",
       "            },\n",
       "            \"size\": 8\n",
       "        },\n",
       "        \"zmax\": null,\n",
       "        \"line\": {\n",
       "            \"color\": \"rgba(0, 0, 0, 1.000)\",\n",
       "            \"shape\": \"linear\",\n",
       "            \"dash\": \"solid\",\n",
       "            \"width\": 1\n",
       "        },\n",
       "        \"y\": [\n",
       "            0.3806965765970661,\n",
       "            0.3806965767739513\n",
       "        ],\n",
       "        \"type\": \"scatter\"\n",
       "    },\n",
       "    {\n",
       "        \"xaxis\": \"x\",\n",
       "        \"colorbar\": {\n",
       "            \"title\": \"\"\n",
       "        },\n",
       "        \"yaxis\": \"y\",\n",
       "        \"x\": [\n",
       "            1.37,\n",
       "            1.37\n",
       "        ],\n",
       "        \"showlegend\": false,\n",
       "        \"mode\": \"lines+markers\",\n",
       "        \"name\": \"\",\n",
       "        \"zmin\": null,\n",
       "        \"legendgroup\": \"\",\n",
       "        \"marker\": {\n",
       "            \"symbol\": \"line-ew\",\n",
       "            \"color\": \"rgba(0, 0, 0, 1.000)\",\n",
       "            \"line\": {\n",
       "                \"color\": \"rgba(0, 0, 0, 1.000)\",\n",
       "                \"width\": 1\n",
       "            },\n",
       "            \"size\": 8\n",
       "        },\n",
       "        \"zmax\": null,\n",
       "        \"line\": {\n",
       "            \"color\": \"rgba(0, 0, 0, 1.000)\",\n",
       "            \"shape\": \"linear\",\n",
       "            \"dash\": \"solid\",\n",
       "            \"width\": 1\n",
       "        },\n",
       "        \"y\": [\n",
       "            0.3807954489399572,\n",
       "            0.3807954492589962\n",
       "        ],\n",
       "        \"type\": \"scatter\"\n",
       "    },\n",
       "    {\n",
       "        \"xaxis\": \"x\",\n",
       "        \"colorbar\": {\n",
       "            \"title\": \"\"\n",
       "        },\n",
       "        \"yaxis\": \"y\",\n",
       "        \"x\": [\n",
       "            1.372,\n",
       "            1.372\n",
       "        ],\n",
       "        \"showlegend\": false,\n",
       "        \"mode\": \"lines+markers\",\n",
       "        \"name\": \"\",\n",
       "        \"zmin\": null,\n",
       "        \"legendgroup\": \"\",\n",
       "        \"marker\": {\n",
       "            \"symbol\": \"line-ew\",\n",
       "            \"color\": \"rgba(0, 0, 0, 1.000)\",\n",
       "            \"line\": {\n",
       "                \"color\": \"rgba(0, 0, 0, 1.000)\",\n",
       "                \"width\": 1\n",
       "            },\n",
       "            \"size\": 8\n",
       "        },\n",
       "        \"zmax\": null,\n",
       "        \"line\": {\n",
       "            \"color\": \"rgba(0, 0, 0, 1.000)\",\n",
       "            \"shape\": \"linear\",\n",
       "            \"dash\": \"solid\",\n",
       "            \"width\": 1\n",
       "        },\n",
       "        \"y\": [\n",
       "            0.38089571622265084,\n",
       "            0.3808957166100254\n",
       "        ],\n",
       "        \"type\": \"scatter\"\n",
       "    },\n",
       "    {\n",
       "        \"xaxis\": \"x\",\n",
       "        \"colorbar\": {\n",
       "            \"title\": \"\"\n",
       "        },\n",
       "        \"yaxis\": \"y\",\n",
       "        \"x\": [\n",
       "            1.374,\n",
       "            1.374\n",
       "        ],\n",
       "        \"showlegend\": false,\n",
       "        \"mode\": \"lines+markers\",\n",
       "        \"name\": \"\",\n",
       "        \"zmin\": null,\n",
       "        \"legendgroup\": \"\",\n",
       "        \"marker\": {\n",
       "            \"symbol\": \"line-ew\",\n",
       "            \"color\": \"rgba(0, 0, 0, 1.000)\",\n",
       "            \"line\": {\n",
       "                \"color\": \"rgba(0, 0, 0, 1.000)\",\n",
       "                \"width\": 1\n",
       "            },\n",
       "            \"size\": 8\n",
       "        },\n",
       "        \"zmax\": null,\n",
       "        \"line\": {\n",
       "            \"color\": \"rgba(0, 0, 0, 1.000)\",\n",
       "            \"shape\": \"linear\",\n",
       "            \"dash\": \"solid\",\n",
       "            \"width\": 1\n",
       "        },\n",
       "        \"y\": [\n",
       "            0.3809973801256436,\n",
       "            0.3809973804705548\n",
       "        ],\n",
       "        \"type\": \"scatter\"\n",
       "    },\n",
       "    {\n",
       "        \"xaxis\": \"x\",\n",
       "        \"colorbar\": {\n",
       "            \"title\": \"\"\n",
       "        },\n",
       "        \"yaxis\": \"y\",\n",
       "        \"x\": [\n",
       "            1.376,\n",
       "            1.376\n",
       "        ],\n",
       "        \"showlegend\": false,\n",
       "        \"mode\": \"lines+markers\",\n",
       "        \"name\": \"\",\n",
       "        \"zmin\": null,\n",
       "        \"legendgroup\": \"\",\n",
       "        \"marker\": {\n",
       "            \"symbol\": \"line-ew\",\n",
       "            \"color\": \"rgba(0, 0, 0, 1.000)\",\n",
       "            \"line\": {\n",
       "                \"color\": \"rgba(0, 0, 0, 1.000)\",\n",
       "                \"width\": 1\n",
       "            },\n",
       "            \"size\": 8\n",
       "        },\n",
       "        \"zmax\": null,\n",
       "        \"line\": {\n",
       "            \"color\": \"rgba(0, 0, 0, 1.000)\",\n",
       "            \"shape\": \"linear\",\n",
       "            \"dash\": \"solid\",\n",
       "            \"width\": 1\n",
       "        },\n",
       "        \"y\": [\n",
       "            0.38110044248469405,\n",
       "            0.381100442768282\n",
       "        ],\n",
       "        \"type\": \"scatter\"\n",
       "    },\n",
       "    {\n",
       "        \"xaxis\": \"x\",\n",
       "        \"colorbar\": {\n",
       "            \"title\": \"\"\n",
       "        },\n",
       "        \"yaxis\": \"y\",\n",
       "        \"x\": [\n",
       "            1.3780000000000001,\n",
       "            1.3780000000000001\n",
       "        ],\n",
       "        \"showlegend\": false,\n",
       "        \"mode\": \"lines+markers\",\n",
       "        \"name\": \"\",\n",
       "        \"zmin\": null,\n",
       "        \"legendgroup\": \"\",\n",
       "        \"marker\": {\n",
       "            \"symbol\": \"line-ew\",\n",
       "            \"color\": \"rgba(0, 0, 0, 1.000)\",\n",
       "            \"line\": {\n",
       "                \"color\": \"rgba(0, 0, 0, 1.000)\",\n",
       "                \"width\": 1\n",
       "            },\n",
       "            \"size\": 8\n",
       "        },\n",
       "        \"zmax\": null,\n",
       "        \"line\": {\n",
       "            \"color\": \"rgba(0, 0, 0, 1.000)\",\n",
       "            \"shape\": \"linear\",\n",
       "            \"dash\": \"solid\",\n",
       "            \"width\": 1\n",
       "        },\n",
       "        \"y\": [\n",
       "            0.3812049053170846,\n",
       "            0.38120490548271135\n",
       "        ],\n",
       "        \"type\": \"scatter\"\n",
       "    },\n",
       "    {\n",
       "        \"xaxis\": \"x\",\n",
       "        \"colorbar\": {\n",
       "            \"title\": \"\"\n",
       "        },\n",
       "        \"yaxis\": \"y\",\n",
       "        \"x\": [\n",
       "            1.38,\n",
       "            1.38\n",
       "        ],\n",
       "        \"showlegend\": false,\n",
       "        \"mode\": \"lines+markers\",\n",
       "        \"name\": \"\",\n",
       "        \"zmin\": null,\n",
       "        \"legendgroup\": \"\",\n",
       "        \"marker\": {\n",
       "            \"symbol\": \"line-ew\",\n",
       "            \"color\": \"rgba(0, 0, 0, 1.000)\",\n",
       "            \"line\": {\n",
       "                \"color\": \"rgba(0, 0, 0, 1.000)\",\n",
       "                \"width\": 1\n",
       "            },\n",
       "            \"size\": 8\n",
       "        },\n",
       "        \"zmax\": null,\n",
       "        \"line\": {\n",
       "            \"color\": \"rgba(0, 0, 0, 1.000)\",\n",
       "            \"shape\": \"linear\",\n",
       "            \"dash\": \"solid\",\n",
       "            \"width\": 1\n",
       "        },\n",
       "        \"y\": [\n",
       "            0.38131077022615,\n",
       "            0.3813107703378529\n",
       "        ],\n",
       "        \"type\": \"scatter\"\n",
       "    },\n",
       "    {\n",
       "        \"xaxis\": \"x\",\n",
       "        \"colorbar\": {\n",
       "            \"title\": \"\"\n",
       "        },\n",
       "        \"yaxis\": \"y\",\n",
       "        \"x\": [\n",
       "            1.382,\n",
       "            1.382\n",
       "        ],\n",
       "        \"showlegend\": false,\n",
       "        \"mode\": \"lines+markers\",\n",
       "        \"name\": \"\",\n",
       "        \"zmin\": null,\n",
       "        \"legendgroup\": \"\",\n",
       "        \"marker\": {\n",
       "            \"symbol\": \"line-ew\",\n",
       "            \"color\": \"rgba(0, 0, 0, 1.000)\",\n",
       "            \"line\": {\n",
       "                \"color\": \"rgba(0, 0, 0, 1.000)\",\n",
       "                \"width\": 1\n",
       "            },\n",
       "            \"size\": 8\n",
       "        },\n",
       "        \"zmax\": null,\n",
       "        \"line\": {\n",
       "            \"color\": \"rgba(0, 0, 0, 1.000)\",\n",
       "            \"shape\": \"linear\",\n",
       "            \"dash\": \"solid\",\n",
       "            \"width\": 1\n",
       "        },\n",
       "        \"y\": [\n",
       "            0.2450983940072789,\n",
       "            0.6438266207393064\n",
       "        ],\n",
       "        \"type\": \"scatter\"\n",
       "    },\n",
       "    {\n",
       "        \"xaxis\": \"x\",\n",
       "        \"colorbar\": {\n",
       "            \"title\": \"\"\n",
       "        },\n",
       "        \"yaxis\": \"y\",\n",
       "        \"x\": [\n",
       "            1.384,\n",
       "            1.384\n",
       "        ],\n",
       "        \"showlegend\": false,\n",
       "        \"mode\": \"lines+markers\",\n",
       "        \"name\": \"\",\n",
       "        \"zmin\": null,\n",
       "        \"legendgroup\": \"\",\n",
       "        \"marker\": {\n",
       "            \"symbol\": \"line-ew\",\n",
       "            \"color\": \"rgba(0, 0, 0, 1.000)\",\n",
       "            \"line\": {\n",
       "                \"color\": \"rgba(0, 0, 0, 1.000)\",\n",
       "                \"width\": 1\n",
       "            },\n",
       "            \"size\": 8\n",
       "        },\n",
       "        \"zmax\": null,\n",
       "        \"line\": {\n",
       "            \"color\": \"rgba(0, 0, 0, 1.000)\",\n",
       "            \"shape\": \"linear\",\n",
       "            \"dash\": \"solid\",\n",
       "            \"width\": 1\n",
       "        },\n",
       "        \"y\": [\n",
       "            0.3815267132121479,\n",
       "            0.38152671498654955\n",
       "        ],\n",
       "        \"type\": \"scatter\"\n",
       "    },\n",
       "    {\n",
       "        \"xaxis\": \"x\",\n",
       "        \"colorbar\": {\n",
       "            \"title\": \"\"\n",
       "        },\n",
       "        \"yaxis\": \"y\",\n",
       "        \"x\": [\n",
       "            1.3860000000000001,\n",
       "            1.3860000000000001\n",
       "        ],\n",
       "        \"showlegend\": false,\n",
       "        \"mode\": \"lines+markers\",\n",
       "        \"name\": \"\",\n",
       "        \"zmin\": null,\n",
       "        \"legendgroup\": \"\",\n",
       "        \"marker\": {\n",
       "            \"symbol\": \"line-ew\",\n",
       "            \"color\": \"rgba(0, 0, 0, 1.000)\",\n",
       "            \"line\": {\n",
       "                \"color\": \"rgba(0, 0, 0, 1.000)\",\n",
       "                \"width\": 1\n",
       "            },\n",
       "            \"size\": 8\n",
       "        },\n",
       "        \"zmax\": null,\n",
       "        \"line\": {\n",
       "            \"color\": \"rgba(0, 0, 0, 1.000)\",\n",
       "            \"shape\": \"linear\",\n",
       "            \"dash\": \"solid\",\n",
       "            \"width\": 1\n",
       "        },\n",
       "        \"y\": [\n",
       "            0.38163679577273146,\n",
       "            0.3816367958572868\n",
       "        ],\n",
       "        \"type\": \"scatter\"\n",
       "    },\n",
       "    {\n",
       "        \"xaxis\": \"x\",\n",
       "        \"colorbar\": {\n",
       "            \"title\": \"\"\n",
       "        },\n",
       "        \"yaxis\": \"y\",\n",
       "        \"x\": [\n",
       "            1.388,\n",
       "            1.388\n",
       "        ],\n",
       "        \"showlegend\": false,\n",
       "        \"mode\": \"lines+markers\",\n",
       "        \"name\": \"\",\n",
       "        \"zmin\": null,\n",
       "        \"legendgroup\": \"\",\n",
       "        \"marker\": {\n",
       "            \"symbol\": \"line-ew\",\n",
       "            \"color\": \"rgba(0, 0, 0, 1.000)\",\n",
       "            \"line\": {\n",
       "                \"color\": \"rgba(0, 0, 0, 1.000)\",\n",
       "                \"width\": 1\n",
       "            },\n",
       "            \"size\": 8\n",
       "        },\n",
       "        \"zmax\": null,\n",
       "        \"line\": {\n",
       "            \"color\": \"rgba(0, 0, 0, 1.000)\",\n",
       "            \"shape\": \"linear\",\n",
       "            \"dash\": \"solid\",\n",
       "            \"width\": 1\n",
       "        },\n",
       "        \"y\": [\n",
       "            0.38174828707537795,\n",
       "            0.38174828725705373\n",
       "        ],\n",
       "        \"type\": \"scatter\"\n",
       "    },\n",
       "    {\n",
       "        \"xaxis\": \"x\",\n",
       "        \"colorbar\": {\n",
       "            \"title\": \"\"\n",
       "        },\n",
       "        \"yaxis\": \"y\",\n",
       "        \"x\": [\n",
       "            1.3900000000000001,\n",
       "            1.3900000000000001\n",
       "        ],\n",
       "        \"showlegend\": false,\n",
       "        \"mode\": \"lines+markers\",\n",
       "        \"name\": \"\",\n",
       "        \"zmin\": null,\n",
       "        \"legendgroup\": \"\",\n",
       "        \"marker\": {\n",
       "            \"symbol\": \"line-ew\",\n",
       "            \"color\": \"rgba(0, 0, 0, 1.000)\",\n",
       "            \"line\": {\n",
       "                \"color\": \"rgba(0, 0, 0, 1.000)\",\n",
       "                \"width\": 1\n",
       "            },\n",
       "            \"size\": 8\n",
       "        },\n",
       "        \"zmax\": null,\n",
       "        \"line\": {\n",
       "            \"color\": \"rgba(0, 0, 0, 1.000)\",\n",
       "            \"shape\": \"linear\",\n",
       "            \"dash\": \"solid\",\n",
       "            \"width\": 1\n",
       "        },\n",
       "        \"y\": [\n",
       "            0.2481581543609671,\n",
       "            0.7552324841137327\n",
       "        ],\n",
       "        \"type\": \"scatter\"\n",
       "    },\n",
       "    {\n",
       "        \"xaxis\": \"x\",\n",
       "        \"colorbar\": {\n",
       "            \"title\": \"\"\n",
       "        },\n",
       "        \"yaxis\": \"y\",\n",
       "        \"x\": [\n",
       "            1.3920000000000001,\n",
       "            1.3920000000000001\n",
       "        ],\n",
       "        \"showlegend\": false,\n",
       "        \"mode\": \"lines+markers\",\n",
       "        \"name\": \"\",\n",
       "        \"zmin\": null,\n",
       "        \"legendgroup\": \"\",\n",
       "        \"marker\": {\n",
       "            \"symbol\": \"line-ew\",\n",
       "            \"color\": \"rgba(0, 0, 0, 1.000)\",\n",
       "            \"line\": {\n",
       "                \"color\": \"rgba(0, 0, 0, 1.000)\",\n",
       "                \"width\": 1\n",
       "            },\n",
       "            \"size\": 8\n",
       "        },\n",
       "        \"zmax\": null,\n",
       "        \"line\": {\n",
       "            \"color\": \"rgba(0, 0, 0, 1.000)\",\n",
       "            \"shape\": \"linear\",\n",
       "            \"dash\": \"solid\",\n",
       "            \"width\": 1\n",
       "        },\n",
       "        \"y\": [\n",
       "            0.24247394700674824,\n",
       "            0.650509109269364\n",
       "        ],\n",
       "        \"type\": \"scatter\"\n",
       "    },\n",
       "    {\n",
       "        \"xaxis\": \"x\",\n",
       "        \"colorbar\": {\n",
       "            \"title\": \"\"\n",
       "        },\n",
       "        \"yaxis\": \"y\",\n",
       "        \"x\": [\n",
       "            1.3940000000000001,\n",
       "            1.3940000000000001\n",
       "        ],\n",
       "        \"showlegend\": false,\n",
       "        \"mode\": \"lines+markers\",\n",
       "        \"name\": \"\",\n",
       "        \"zmin\": null,\n",
       "        \"legendgroup\": \"\",\n",
       "        \"marker\": {\n",
       "            \"symbol\": \"line-ew\",\n",
       "            \"color\": \"rgba(0, 0, 0, 1.000)\",\n",
       "            \"line\": {\n",
       "                \"color\": \"rgba(0, 0, 0, 1.000)\",\n",
       "                \"width\": 1\n",
       "            },\n",
       "            \"size\": 8\n",
       "        },\n",
       "        \"zmax\": null,\n",
       "        \"line\": {\n",
       "            \"color\": \"rgba(0, 0, 0, 1.000)\",\n",
       "            \"shape\": \"linear\",\n",
       "            \"dash\": \"solid\",\n",
       "            \"width\": 1\n",
       "        },\n",
       "        \"y\": [\n",
       "            0.38209123320319094,\n",
       "            0.3820912332995807\n",
       "        ],\n",
       "        \"type\": \"scatter\"\n",
       "    },\n",
       "    {\n",
       "        \"xaxis\": \"x\",\n",
       "        \"colorbar\": {\n",
       "            \"title\": \"\"\n",
       "        },\n",
       "        \"yaxis\": \"y\",\n",
       "        \"x\": [\n",
       "            1.3960000000000001,\n",
       "            1.3960000000000001\n",
       "        ],\n",
       "        \"showlegend\": false,\n",
       "        \"mode\": \"lines+markers\",\n",
       "        \"name\": \"\",\n",
       "        \"zmin\": null,\n",
       "        \"legendgroup\": \"\",\n",
       "        \"marker\": {\n",
       "            \"symbol\": \"line-ew\",\n",
       "            \"color\": \"rgba(0, 0, 0, 1.000)\",\n",
       "            \"line\": {\n",
       "                \"color\": \"rgba(0, 0, 0, 1.000)\",\n",
       "                \"width\": 1\n",
       "            },\n",
       "            \"size\": 8\n",
       "        },\n",
       "        \"zmax\": null,\n",
       "        \"line\": {\n",
       "            \"color\": \"rgba(0, 0, 0, 1.000)\",\n",
       "            \"shape\": \"linear\",\n",
       "            \"dash\": \"solid\",\n",
       "            \"width\": 1\n",
       "        },\n",
       "        \"y\": [\n",
       "            0.3822083782510527,\n",
       "            0.38220837856164136\n",
       "        ],\n",
       "        \"type\": \"scatter\"\n",
       "    },\n",
       "    {\n",
       "        \"xaxis\": \"x\",\n",
       "        \"colorbar\": {\n",
       "            \"title\": \"\"\n",
       "        },\n",
       "        \"yaxis\": \"y\",\n",
       "        \"x\": [\n",
       "            1.3980000000000001,\n",
       "            1.3980000000000001\n",
       "        ],\n",
       "        \"showlegend\": false,\n",
       "        \"mode\": \"lines+markers\",\n",
       "        \"name\": \"\",\n",
       "        \"zmin\": null,\n",
       "        \"legendgroup\": \"\",\n",
       "        \"marker\": {\n",
       "            \"symbol\": \"line-ew\",\n",
       "            \"color\": \"rgba(0, 0, 0, 1.000)\",\n",
       "            \"line\": {\n",
       "                \"color\": \"rgba(0, 0, 0, 1.000)\",\n",
       "                \"width\": 1\n",
       "            },\n",
       "            \"size\": 8\n",
       "        },\n",
       "        \"zmax\": null,\n",
       "        \"line\": {\n",
       "            \"color\": \"rgba(0, 0, 0, 1.000)\",\n",
       "            \"shape\": \"linear\",\n",
       "            \"dash\": \"solid\",\n",
       "            \"width\": 1\n",
       "        },\n",
       "        \"y\": [\n",
       "            0.38232694079798846,\n",
       "            0.3823269413012881\n",
       "        ],\n",
       "        \"type\": \"scatter\"\n",
       "    },\n",
       "    {\n",
       "        \"xaxis\": \"x\",\n",
       "        \"colorbar\": {\n",
       "            \"title\": \"\"\n",
       "        },\n",
       "        \"yaxis\": \"y\",\n",
       "        \"x\": [\n",
       "            1.4,\n",
       "            1.4\n",
       "        ],\n",
       "        \"showlegend\": false,\n",
       "        \"mode\": \"lines+markers\",\n",
       "        \"name\": \"\",\n",
       "        \"zmin\": null,\n",
       "        \"legendgroup\": \"\",\n",
       "        \"marker\": {\n",
       "            \"symbol\": \"line-ew\",\n",
       "            \"color\": \"rgba(0, 0, 0, 1.000)\",\n",
       "            \"line\": {\n",
       "                \"color\": \"rgba(0, 0, 0, 1.000)\",\n",
       "                \"width\": 1\n",
       "            },\n",
       "            \"size\": 8\n",
       "        },\n",
       "        \"zmax\": null,\n",
       "        \"line\": {\n",
       "            \"color\": \"rgba(0, 0, 0, 1.000)\",\n",
       "            \"shape\": \"linear\",\n",
       "            \"dash\": \"solid\",\n",
       "            \"width\": 1\n",
       "        },\n",
       "        \"y\": [\n",
       "            0.3824469226878554,\n",
       "            0.38244692303057104\n",
       "        ],\n",
       "        \"type\": \"scatter\"\n",
       "    },\n",
       "    {\n",
       "        \"xaxis\": \"x\",\n",
       "        \"colorbar\": {\n",
       "            \"title\": \"\"\n",
       "        },\n",
       "        \"yaxis\": \"y\",\n",
       "        \"x\": [\n",
       "            1.4020000000000001,\n",
       "            1.4020000000000001\n",
       "        ],\n",
       "        \"showlegend\": false,\n",
       "        \"mode\": \"lines+markers\",\n",
       "        \"name\": \"\",\n",
       "        \"zmin\": null,\n",
       "        \"legendgroup\": \"\",\n",
       "        \"marker\": {\n",
       "            \"symbol\": \"line-ew\",\n",
       "            \"color\": \"rgba(0, 0, 0, 1.000)\",\n",
       "            \"line\": {\n",
       "                \"color\": \"rgba(0, 0, 0, 1.000)\",\n",
       "                \"width\": 1\n",
       "            },\n",
       "            \"size\": 8\n",
       "        },\n",
       "        \"zmax\": null,\n",
       "        \"line\": {\n",
       "            \"color\": \"rgba(0, 0, 0, 1.000)\",\n",
       "            \"shape\": \"linear\",\n",
       "            \"dash\": \"solid\",\n",
       "            \"width\": 1\n",
       "        },\n",
       "        \"y\": [\n",
       "            0.382568325321413,\n",
       "            0.38256832561573256\n",
       "        ],\n",
       "        \"type\": \"scatter\"\n",
       "    },\n",
       "    {\n",
       "        \"xaxis\": \"x\",\n",
       "        \"colorbar\": {\n",
       "            \"title\": \"\"\n",
       "        },\n",
       "        \"yaxis\": \"y\",\n",
       "        \"x\": [\n",
       "            1.404,\n",
       "            1.404\n",
       "        ],\n",
       "        \"showlegend\": false,\n",
       "        \"mode\": \"lines+markers\",\n",
       "        \"name\": \"\",\n",
       "        \"zmin\": null,\n",
       "        \"legendgroup\": \"\",\n",
       "        \"marker\": {\n",
       "            \"symbol\": \"line-ew\",\n",
       "            \"color\": \"rgba(0, 0, 0, 1.000)\",\n",
       "            \"line\": {\n",
       "                \"color\": \"rgba(0, 0, 0, 1.000)\",\n",
       "                \"width\": 1\n",
       "            },\n",
       "            \"size\": 8\n",
       "        },\n",
       "        \"zmax\": null,\n",
       "        \"line\": {\n",
       "            \"color\": \"rgba(0, 0, 0, 1.000)\",\n",
       "            \"shape\": \"linear\",\n",
       "            \"dash\": \"solid\",\n",
       "            \"width\": 1\n",
       "        },\n",
       "        \"y\": [\n",
       "            0.38269115032377277,\n",
       "            0.38269115052493985\n",
       "        ],\n",
       "        \"type\": \"scatter\"\n",
       "    },\n",
       "    {\n",
       "        \"xaxis\": \"x\",\n",
       "        \"colorbar\": {\n",
       "            \"title\": \"\"\n",
       "        },\n",
       "        \"yaxis\": \"y\",\n",
       "        \"x\": [\n",
       "            1.4060000000000001,\n",
       "            1.4060000000000001\n",
       "        ],\n",
       "        \"showlegend\": false,\n",
       "        \"mode\": \"lines+markers\",\n",
       "        \"name\": \"\",\n",
       "        \"zmin\": null,\n",
       "        \"legendgroup\": \"\",\n",
       "        \"marker\": {\n",
       "            \"symbol\": \"line-ew\",\n",
       "            \"color\": \"rgba(0, 0, 0, 1.000)\",\n",
       "            \"line\": {\n",
       "                \"color\": \"rgba(0, 0, 0, 1.000)\",\n",
       "                \"width\": 1\n",
       "            },\n",
       "            \"size\": 8\n",
       "        },\n",
       "        \"zmax\": null,\n",
       "        \"line\": {\n",
       "            \"color\": \"rgba(0, 0, 0, 1.000)\",\n",
       "            \"shape\": \"linear\",\n",
       "            \"dash\": \"solid\",\n",
       "            \"width\": 1\n",
       "        },\n",
       "        \"y\": [\n",
       "            1.2699599281599405,\n",
       "            1.2939428712019083\n",
       "        ],\n",
       "        \"type\": \"scatter\"\n",
       "    },\n",
       "    {\n",
       "        \"xaxis\": \"x\",\n",
       "        \"colorbar\": {\n",
       "            \"title\": \"\"\n",
       "        },\n",
       "        \"yaxis\": \"y\",\n",
       "        \"x\": [\n",
       "            1.408,\n",
       "            1.408\n",
       "        ],\n",
       "        \"showlegend\": false,\n",
       "        \"mode\": \"lines+markers\",\n",
       "        \"name\": \"\",\n",
       "        \"zmin\": null,\n",
       "        \"legendgroup\": \"\",\n",
       "        \"marker\": {\n",
       "            \"symbol\": \"line-ew\",\n",
       "            \"color\": \"rgba(0, 0, 0, 1.000)\",\n",
       "            \"line\": {\n",
       "                \"color\": \"rgba(0, 0, 0, 1.000)\",\n",
       "                \"width\": 1\n",
       "            },\n",
       "            \"size\": 8\n",
       "        },\n",
       "        \"zmax\": null,\n",
       "        \"line\": {\n",
       "            \"color\": \"rgba(0, 0, 0, 1.000)\",\n",
       "            \"shape\": \"linear\",\n",
       "            \"dash\": \"solid\",\n",
       "            \"width\": 1\n",
       "        },\n",
       "        \"y\": [\n",
       "            1.2780526504168652,\n",
       "            1.297632831622565\n",
       "        ],\n",
       "        \"type\": \"scatter\"\n",
       "    },\n",
       "    {\n",
       "        \"xaxis\": \"x\",\n",
       "        \"colorbar\": {\n",
       "            \"title\": \"\"\n",
       "        },\n",
       "        \"yaxis\": \"y\",\n",
       "        \"x\": [\n",
       "            1.4100000000000001,\n",
       "            1.4100000000000001\n",
       "        ],\n",
       "        \"showlegend\": false,\n",
       "        \"mode\": \"lines+markers\",\n",
       "        \"name\": \"\",\n",
       "        \"zmin\": null,\n",
       "        \"legendgroup\": \"\",\n",
       "        \"marker\": {\n",
       "            \"symbol\": \"line-ew\",\n",
       "            \"color\": \"rgba(0, 0, 0, 1.000)\",\n",
       "            \"line\": {\n",
       "                \"color\": \"rgba(0, 0, 0, 1.000)\",\n",
       "                \"width\": 1\n",
       "            },\n",
       "            \"size\": 8\n",
       "        },\n",
       "        \"zmax\": null,\n",
       "        \"line\": {\n",
       "            \"color\": \"rgba(0, 0, 0, 1.000)\",\n",
       "            \"shape\": \"linear\",\n",
       "            \"dash\": \"solid\",\n",
       "            \"width\": 1\n",
       "        },\n",
       "        \"y\": [\n",
       "            1.2665281543850688,\n",
       "            1.2923618971996795\n",
       "        ],\n",
       "        \"type\": \"scatter\"\n",
       "    },\n",
       "    {\n",
       "        \"xaxis\": \"x\",\n",
       "        \"colorbar\": {\n",
       "            \"title\": \"\"\n",
       "        },\n",
       "        \"yaxis\": \"y\",\n",
       "        \"x\": [\n",
       "            1.412,\n",
       "            1.412\n",
       "        ],\n",
       "        \"showlegend\": false,\n",
       "        \"mode\": \"lines+markers\",\n",
       "        \"name\": \"\",\n",
       "        \"zmin\": null,\n",
       "        \"legendgroup\": \"\",\n",
       "        \"marker\": {\n",
       "            \"symbol\": \"line-ew\",\n",
       "            \"color\": \"rgba(0, 0, 0, 1.000)\",\n",
       "            \"line\": {\n",
       "                \"color\": \"rgba(0, 0, 0, 1.000)\",\n",
       "                \"width\": 1\n",
       "            },\n",
       "            \"size\": 8\n",
       "        },\n",
       "        \"zmax\": null,\n",
       "        \"line\": {\n",
       "            \"color\": \"rgba(0, 0, 0, 1.000)\",\n",
       "            \"shape\": \"linear\",\n",
       "            \"dash\": \"solid\",\n",
       "            \"width\": 1\n",
       "        },\n",
       "        \"y\": [\n",
       "            1.2704209111495455,\n",
       "            1.2964208311052505\n",
       "        ],\n",
       "        \"type\": \"scatter\"\n",
       "    },\n",
       "    {\n",
       "        \"xaxis\": \"x\",\n",
       "        \"colorbar\": {\n",
       "            \"title\": \"\"\n",
       "        },\n",
       "        \"yaxis\": \"y\",\n",
       "        \"x\": [\n",
       "            1.414,\n",
       "            1.414\n",
       "        ],\n",
       "        \"showlegend\": false,\n",
       "        \"mode\": \"lines+markers\",\n",
       "        \"name\": \"\",\n",
       "        \"zmin\": null,\n",
       "        \"legendgroup\": \"\",\n",
       "        \"marker\": {\n",
       "            \"symbol\": \"line-ew\",\n",
       "            \"color\": \"rgba(0, 0, 0, 1.000)\",\n",
       "            \"line\": {\n",
       "                \"color\": \"rgba(0, 0, 0, 1.000)\",\n",
       "                \"width\": 1\n",
       "            },\n",
       "            \"size\": 8\n",
       "        },\n",
       "        \"zmax\": null,\n",
       "        \"line\": {\n",
       "            \"color\": \"rgba(0, 0, 0, 1.000)\",\n",
       "            \"shape\": \"linear\",\n",
       "            \"dash\": \"solid\",\n",
       "            \"width\": 1\n",
       "        },\n",
       "        \"y\": [\n",
       "            1.279723406791925,\n",
       "            1.2981316913976821\n",
       "        ],\n",
       "        \"type\": \"scatter\"\n",
       "    },\n",
       "    {\n",
       "        \"xaxis\": \"x\",\n",
       "        \"colorbar\": {\n",
       "            \"title\": \"\"\n",
       "        },\n",
       "        \"yaxis\": \"y\",\n",
       "        \"x\": [\n",
       "            1.416,\n",
       "            1.416\n",
       "        ],\n",
       "        \"showlegend\": false,\n",
       "        \"mode\": \"lines+markers\",\n",
       "        \"name\": \"\",\n",
       "        \"zmin\": null,\n",
       "        \"legendgroup\": \"\",\n",
       "        \"marker\": {\n",
       "            \"symbol\": \"line-ew\",\n",
       "            \"color\": \"rgba(0, 0, 0, 1.000)\",\n",
       "            \"line\": {\n",
       "                \"color\": \"rgba(0, 0, 0, 1.000)\",\n",
       "                \"width\": 1\n",
       "            },\n",
       "            \"size\": 8\n",
       "        },\n",
       "        \"zmax\": null,\n",
       "        \"line\": {\n",
       "            \"color\": \"rgba(0, 0, 0, 1.000)\",\n",
       "            \"shape\": \"linear\",\n",
       "            \"dash\": \"solid\",\n",
       "            \"width\": 1\n",
       "        },\n",
       "        \"y\": [\n",
       "            1.2680051389533624,\n",
       "            1.2993257084309888\n",
       "        ],\n",
       "        \"type\": \"scatter\"\n",
       "    },\n",
       "    {\n",
       "        \"xaxis\": \"x\",\n",
       "        \"colorbar\": {\n",
       "            \"title\": \"\"\n",
       "        },\n",
       "        \"yaxis\": \"y\",\n",
       "        \"x\": [\n",
       "            1.418,\n",
       "            1.418\n",
       "        ],\n",
       "        \"showlegend\": false,\n",
       "        \"mode\": \"lines+markers\",\n",
       "        \"name\": \"\",\n",
       "        \"zmin\": null,\n",
       "        \"legendgroup\": \"\",\n",
       "        \"marker\": {\n",
       "            \"symbol\": \"line-ew\",\n",
       "            \"color\": \"rgba(0, 0, 0, 1.000)\",\n",
       "            \"line\": {\n",
       "                \"color\": \"rgba(0, 0, 0, 1.000)\",\n",
       "                \"width\": 1\n",
       "            },\n",
       "            \"size\": 8\n",
       "        },\n",
       "        \"zmax\": null,\n",
       "        \"line\": {\n",
       "            \"color\": \"rgba(0, 0, 0, 1.000)\",\n",
       "            \"shape\": \"linear\",\n",
       "            \"dash\": \"solid\",\n",
       "            \"width\": 1\n",
       "        },\n",
       "        \"y\": [\n",
       "            1.269420646430843,\n",
       "            1.2934074275576364\n",
       "        ],\n",
       "        \"type\": \"scatter\"\n",
       "    },\n",
       "    {\n",
       "        \"xaxis\": \"x\",\n",
       "        \"colorbar\": {\n",
       "            \"title\": \"\"\n",
       "        },\n",
       "        \"yaxis\": \"y\",\n",
       "        \"x\": [\n",
       "            1.42,\n",
       "            1.42\n",
       "        ],\n",
       "        \"showlegend\": false,\n",
       "        \"mode\": \"lines+markers\",\n",
       "        \"name\": \"\",\n",
       "        \"zmin\": null,\n",
       "        \"legendgroup\": \"\",\n",
       "        \"marker\": {\n",
       "            \"symbol\": \"line-ew\",\n",
       "            \"color\": \"rgba(0, 0, 0, 1.000)\",\n",
       "            \"line\": {\n",
       "                \"color\": \"rgba(0, 0, 0, 1.000)\",\n",
       "                \"width\": 1\n",
       "            },\n",
       "            \"size\": 8\n",
       "        },\n",
       "        \"zmax\": null,\n",
       "        \"line\": {\n",
       "            \"color\": \"rgba(0, 0, 0, 1.000)\",\n",
       "            \"shape\": \"linear\",\n",
       "            \"dash\": \"solid\",\n",
       "            \"width\": 1\n",
       "        },\n",
       "        \"y\": [\n",
       "            1.2728226002567473,\n",
       "            1.2950888012806299\n",
       "        ],\n",
       "        \"type\": \"scatter\"\n",
       "    },\n",
       "    {\n",
       "        \"xaxis\": \"x\",\n",
       "        \"colorbar\": {\n",
       "            \"title\": \"\"\n",
       "        },\n",
       "        \"yaxis\": \"y\",\n",
       "        \"x\": [\n",
       "            1.4220000000000002,\n",
       "            1.4220000000000002\n",
       "        ],\n",
       "        \"showlegend\": false,\n",
       "        \"mode\": \"lines+markers\",\n",
       "        \"name\": \"\",\n",
       "        \"zmin\": null,\n",
       "        \"legendgroup\": \"\",\n",
       "        \"marker\": {\n",
       "            \"symbol\": \"line-ew\",\n",
       "            \"color\": \"rgba(0, 0, 0, 1.000)\",\n",
       "            \"line\": {\n",
       "                \"color\": \"rgba(0, 0, 0, 1.000)\",\n",
       "                \"width\": 1\n",
       "            },\n",
       "            \"size\": 8\n",
       "        },\n",
       "        \"zmax\": null,\n",
       "        \"line\": {\n",
       "            \"color\": \"rgba(0, 0, 0, 1.000)\",\n",
       "            \"shape\": \"linear\",\n",
       "            \"dash\": \"solid\",\n",
       "            \"width\": 1\n",
       "        },\n",
       "        \"y\": [\n",
       "            1.2765265120201612,\n",
       "            1.2949910084646399\n",
       "        ],\n",
       "        \"type\": \"scatter\"\n",
       "    },\n",
       "    {\n",
       "        \"xaxis\": \"x\",\n",
       "        \"colorbar\": {\n",
       "            \"title\": \"\"\n",
       "        },\n",
       "        \"yaxis\": \"y\",\n",
       "        \"x\": [\n",
       "            1.424,\n",
       "            1.424\n",
       "        ],\n",
       "        \"showlegend\": false,\n",
       "        \"mode\": \"lines+markers\",\n",
       "        \"name\": \"\",\n",
       "        \"zmin\": null,\n",
       "        \"legendgroup\": \"\",\n",
       "        \"marker\": {\n",
       "            \"symbol\": \"line-ew\",\n",
       "            \"color\": \"rgba(0, 0, 0, 1.000)\",\n",
       "            \"line\": {\n",
       "                \"color\": \"rgba(0, 0, 0, 1.000)\",\n",
       "                \"width\": 1\n",
       "            },\n",
       "            \"size\": 8\n",
       "        },\n",
       "        \"zmax\": null,\n",
       "        \"line\": {\n",
       "            \"color\": \"rgba(0, 0, 0, 1.000)\",\n",
       "            \"shape\": \"linear\",\n",
       "            \"dash\": \"solid\",\n",
       "            \"width\": 1\n",
       "        },\n",
       "        \"y\": [\n",
       "            1.2779525592597007,\n",
       "            1.2943630154853825\n",
       "        ],\n",
       "        \"type\": \"scatter\"\n",
       "    },\n",
       "    {\n",
       "        \"xaxis\": \"x\",\n",
       "        \"colorbar\": {\n",
       "            \"title\": \"\"\n",
       "        },\n",
       "        \"yaxis\": \"y\",\n",
       "        \"x\": [\n",
       "            1.426,\n",
       "            1.426\n",
       "        ],\n",
       "        \"showlegend\": false,\n",
       "        \"mode\": \"lines+markers\",\n",
       "        \"name\": \"\",\n",
       "        \"zmin\": null,\n",
       "        \"legendgroup\": \"\",\n",
       "        \"marker\": {\n",
       "            \"symbol\": \"line-ew\",\n",
       "            \"color\": \"rgba(0, 0, 0, 1.000)\",\n",
       "            \"line\": {\n",
       "                \"color\": \"rgba(0, 0, 0, 1.000)\",\n",
       "                \"width\": 1\n",
       "            },\n",
       "            \"size\": 8\n",
       "        },\n",
       "        \"zmax\": null,\n",
       "        \"line\": {\n",
       "            \"color\": \"rgba(0, 0, 0, 1.000)\",\n",
       "            \"shape\": \"linear\",\n",
       "            \"dash\": \"solid\",\n",
       "            \"width\": 1\n",
       "        },\n",
       "        \"y\": [\n",
       "            1.279865955675101,\n",
       "            1.3054932218684374\n",
       "        ],\n",
       "        \"type\": \"scatter\"\n",
       "    },\n",
       "    {\n",
       "        \"xaxis\": \"x\",\n",
       "        \"colorbar\": {\n",
       "            \"title\": \"\"\n",
       "        },\n",
       "        \"yaxis\": \"y\",\n",
       "        \"x\": [\n",
       "            1.428,\n",
       "            1.428\n",
       "        ],\n",
       "        \"showlegend\": false,\n",
       "        \"mode\": \"lines+markers\",\n",
       "        \"name\": \"\",\n",
       "        \"zmin\": null,\n",
       "        \"legendgroup\": \"\",\n",
       "        \"marker\": {\n",
       "            \"symbol\": \"line-ew\",\n",
       "            \"color\": \"rgba(0, 0, 0, 1.000)\",\n",
       "            \"line\": {\n",
       "                \"color\": \"rgba(0, 0, 0, 1.000)\",\n",
       "                \"width\": 1\n",
       "            },\n",
       "            \"size\": 8\n",
       "        },\n",
       "        \"zmax\": null,\n",
       "        \"line\": {\n",
       "            \"color\": \"rgba(0, 0, 0, 1.000)\",\n",
       "            \"shape\": \"linear\",\n",
       "            \"dash\": \"solid\",\n",
       "            \"width\": 1\n",
       "        },\n",
       "        \"y\": [\n",
       "            1.2663861080061867,\n",
       "            1.2932029686324282\n",
       "        ],\n",
       "        \"type\": \"scatter\"\n",
       "    },\n",
       "    {\n",
       "        \"xaxis\": \"x\",\n",
       "        \"colorbar\": {\n",
       "            \"title\": \"\"\n",
       "        },\n",
       "        \"yaxis\": \"y\",\n",
       "        \"x\": [\n",
       "            1.43,\n",
       "            1.43\n",
       "        ],\n",
       "        \"showlegend\": false,\n",
       "        \"mode\": \"lines+markers\",\n",
       "        \"name\": \"\",\n",
       "        \"zmin\": null,\n",
       "        \"legendgroup\": \"\",\n",
       "        \"marker\": {\n",
       "            \"symbol\": \"line-ew\",\n",
       "            \"color\": \"rgba(0, 0, 0, 1.000)\",\n",
       "            \"line\": {\n",
       "                \"color\": \"rgba(0, 0, 0, 1.000)\",\n",
       "                \"width\": 1\n",
       "            },\n",
       "            \"size\": 8\n",
       "        },\n",
       "        \"zmax\": null,\n",
       "        \"line\": {\n",
       "            \"color\": \"rgba(0, 0, 0, 1.000)\",\n",
       "            \"shape\": \"linear\",\n",
       "            \"dash\": \"solid\",\n",
       "            \"width\": 1\n",
       "        },\n",
       "        \"y\": [\n",
       "            1.2762239528876433,\n",
       "            1.2980306471638494\n",
       "        ],\n",
       "        \"type\": \"scatter\"\n",
       "    },\n",
       "    {\n",
       "        \"xaxis\": \"x\",\n",
       "        \"colorbar\": {\n",
       "            \"title\": \"\"\n",
       "        },\n",
       "        \"yaxis\": \"y\",\n",
       "        \"x\": [\n",
       "            1.432,\n",
       "            1.432\n",
       "        ],\n",
       "        \"showlegend\": false,\n",
       "        \"mode\": \"lines+markers\",\n",
       "        \"name\": \"\",\n",
       "        \"zmin\": null,\n",
       "        \"legendgroup\": \"\",\n",
       "        \"marker\": {\n",
       "            \"symbol\": \"line-ew\",\n",
       "            \"color\": \"rgba(0, 0, 0, 1.000)\",\n",
       "            \"line\": {\n",
       "                \"color\": \"rgba(0, 0, 0, 1.000)\",\n",
       "                \"width\": 1\n",
       "            },\n",
       "            \"size\": 8\n",
       "        },\n",
       "        \"zmax\": null,\n",
       "        \"line\": {\n",
       "            \"color\": \"rgba(0, 0, 0, 1.000)\",\n",
       "            \"shape\": \"linear\",\n",
       "            \"dash\": \"solid\",\n",
       "            \"width\": 1\n",
       "        },\n",
       "        \"y\": [\n",
       "            1.2737551100342646,\n",
       "            1.2944457204760023\n",
       "        ],\n",
       "        \"type\": \"scatter\"\n",
       "    },\n",
       "    {\n",
       "        \"xaxis\": \"x\",\n",
       "        \"colorbar\": {\n",
       "            \"title\": \"\"\n",
       "        },\n",
       "        \"yaxis\": \"y\",\n",
       "        \"x\": [\n",
       "            1.434,\n",
       "            1.434\n",
       "        ],\n",
       "        \"showlegend\": false,\n",
       "        \"mode\": \"lines+markers\",\n",
       "        \"name\": \"\",\n",
       "        \"zmin\": null,\n",
       "        \"legendgroup\": \"\",\n",
       "        \"marker\": {\n",
       "            \"symbol\": \"line-ew\",\n",
       "            \"color\": \"rgba(0, 0, 0, 1.000)\",\n",
       "            \"line\": {\n",
       "                \"color\": \"rgba(0, 0, 0, 1.000)\",\n",
       "                \"width\": 1\n",
       "            },\n",
       "            \"size\": 8\n",
       "        },\n",
       "        \"zmax\": null,\n",
       "        \"line\": {\n",
       "            \"color\": \"rgba(0, 0, 0, 1.000)\",\n",
       "            \"shape\": \"linear\",\n",
       "            \"dash\": \"solid\",\n",
       "            \"width\": 1\n",
       "        },\n",
       "        \"y\": [\n",
       "            1.2810258418123637,\n",
       "            1.2985665429356807\n",
       "        ],\n",
       "        \"type\": \"scatter\"\n",
       "    },\n",
       "    {\n",
       "        \"xaxis\": \"x\",\n",
       "        \"colorbar\": {\n",
       "            \"title\": \"\"\n",
       "        },\n",
       "        \"yaxis\": \"y\",\n",
       "        \"x\": [\n",
       "            1.436,\n",
       "            1.436\n",
       "        ],\n",
       "        \"showlegend\": false,\n",
       "        \"mode\": \"lines+markers\",\n",
       "        \"name\": \"\",\n",
       "        \"zmin\": null,\n",
       "        \"legendgroup\": \"\",\n",
       "        \"marker\": {\n",
       "            \"symbol\": \"line-ew\",\n",
       "            \"color\": \"rgba(0, 0, 0, 1.000)\",\n",
       "            \"line\": {\n",
       "                \"color\": \"rgba(0, 0, 0, 1.000)\",\n",
       "                \"width\": 1\n",
       "            },\n",
       "            \"size\": 8\n",
       "        },\n",
       "        \"zmax\": null,\n",
       "        \"line\": {\n",
       "            \"color\": \"rgba(0, 0, 0, 1.000)\",\n",
       "            \"shape\": \"linear\",\n",
       "            \"dash\": \"solid\",\n",
       "            \"width\": 1\n",
       "        },\n",
       "        \"y\": [\n",
       "            1.2614892156302697,\n",
       "            1.2924176292575313\n",
       "        ],\n",
       "        \"type\": \"scatter\"\n",
       "    },\n",
       "    {\n",
       "        \"xaxis\": \"x\",\n",
       "        \"colorbar\": {\n",
       "            \"title\": \"\"\n",
       "        },\n",
       "        \"yaxis\": \"y\",\n",
       "        \"x\": [\n",
       "            1.438,\n",
       "            1.438\n",
       "        ],\n",
       "        \"showlegend\": false,\n",
       "        \"mode\": \"lines+markers\",\n",
       "        \"name\": \"\",\n",
       "        \"zmin\": null,\n",
       "        \"legendgroup\": \"\",\n",
       "        \"marker\": {\n",
       "            \"symbol\": \"line-ew\",\n",
       "            \"color\": \"rgba(0, 0, 0, 1.000)\",\n",
       "            \"line\": {\n",
       "                \"color\": \"rgba(0, 0, 0, 1.000)\",\n",
       "                \"width\": 1\n",
       "            },\n",
       "            \"size\": 8\n",
       "        },\n",
       "        \"zmax\": null,\n",
       "        \"line\": {\n",
       "            \"color\": \"rgba(0, 0, 0, 1.000)\",\n",
       "            \"shape\": \"linear\",\n",
       "            \"dash\": \"solid\",\n",
       "            \"width\": 1\n",
       "        },\n",
       "        \"y\": [\n",
       "            1.2686726599408662,\n",
       "            1.2913049654665192\n",
       "        ],\n",
       "        \"type\": \"scatter\"\n",
       "    },\n",
       "    {\n",
       "        \"xaxis\": \"x\",\n",
       "        \"colorbar\": {\n",
       "            \"title\": \"\"\n",
       "        },\n",
       "        \"yaxis\": \"y\",\n",
       "        \"x\": [\n",
       "            1.44,\n",
       "            1.44\n",
       "        ],\n",
       "        \"showlegend\": false,\n",
       "        \"mode\": \"lines+markers\",\n",
       "        \"name\": \"\",\n",
       "        \"zmin\": null,\n",
       "        \"legendgroup\": \"\",\n",
       "        \"marker\": {\n",
       "            \"symbol\": \"line-ew\",\n",
       "            \"color\": \"rgba(0, 0, 0, 1.000)\",\n",
       "            \"line\": {\n",
       "                \"color\": \"rgba(0, 0, 0, 1.000)\",\n",
       "                \"width\": 1\n",
       "            },\n",
       "            \"size\": 8\n",
       "        },\n",
       "        \"zmax\": null,\n",
       "        \"line\": {\n",
       "            \"color\": \"rgba(0, 0, 0, 1.000)\",\n",
       "            \"shape\": \"linear\",\n",
       "            \"dash\": \"solid\",\n",
       "            \"width\": 1\n",
       "        },\n",
       "        \"y\": [\n",
       "            1.2802973840639034,\n",
       "            1.2986500742769884\n",
       "        ],\n",
       "        \"type\": \"scatter\"\n",
       "    },\n",
       "    {\n",
       "        \"xaxis\": \"x\",\n",
       "        \"colorbar\": {\n",
       "            \"title\": \"\"\n",
       "        },\n",
       "        \"yaxis\": \"y\",\n",
       "        \"x\": [\n",
       "            1.442,\n",
       "            1.442\n",
       "        ],\n",
       "        \"showlegend\": false,\n",
       "        \"mode\": \"lines+markers\",\n",
       "        \"name\": \"\",\n",
       "        \"zmin\": null,\n",
       "        \"legendgroup\": \"\",\n",
       "        \"marker\": {\n",
       "            \"symbol\": \"line-ew\",\n",
       "            \"color\": \"rgba(0, 0, 0, 1.000)\",\n",
       "            \"line\": {\n",
       "                \"color\": \"rgba(0, 0, 0, 1.000)\",\n",
       "                \"width\": 1\n",
       "            },\n",
       "            \"size\": 8\n",
       "        },\n",
       "        \"zmax\": null,\n",
       "        \"line\": {\n",
       "            \"color\": \"rgba(0, 0, 0, 1.000)\",\n",
       "            \"shape\": \"linear\",\n",
       "            \"dash\": \"solid\",\n",
       "            \"width\": 1\n",
       "        },\n",
       "        \"y\": [\n",
       "            1.2716528594380674,\n",
       "            1.2947739507356433\n",
       "        ],\n",
       "        \"type\": \"scatter\"\n",
       "    },\n",
       "    {\n",
       "        \"xaxis\": \"x\",\n",
       "        \"colorbar\": {\n",
       "            \"title\": \"\"\n",
       "        },\n",
       "        \"yaxis\": \"y\",\n",
       "        \"x\": [\n",
       "            1.444,\n",
       "            1.444\n",
       "        ],\n",
       "        \"showlegend\": false,\n",
       "        \"mode\": \"lines+markers\",\n",
       "        \"name\": \"\",\n",
       "        \"zmin\": null,\n",
       "        \"legendgroup\": \"\",\n",
       "        \"marker\": {\n",
       "            \"symbol\": \"line-ew\",\n",
       "            \"color\": \"rgba(0, 0, 0, 1.000)\",\n",
       "            \"line\": {\n",
       "                \"color\": \"rgba(0, 0, 0, 1.000)\",\n",
       "                \"width\": 1\n",
       "            },\n",
       "            \"size\": 8\n",
       "        },\n",
       "        \"zmax\": null,\n",
       "        \"line\": {\n",
       "            \"color\": \"rgba(0, 0, 0, 1.000)\",\n",
       "            \"shape\": \"linear\",\n",
       "            \"dash\": \"solid\",\n",
       "            \"width\": 1\n",
       "        },\n",
       "        \"y\": [\n",
       "            1.2782610731241437,\n",
       "            1.2965719453239695\n",
       "        ],\n",
       "        \"type\": \"scatter\"\n",
       "    },\n",
       "    {\n",
       "        \"xaxis\": \"x\",\n",
       "        \"colorbar\": {\n",
       "            \"title\": \"\"\n",
       "        },\n",
       "        \"yaxis\": \"y\",\n",
       "        \"x\": [\n",
       "            1.446,\n",
       "            1.446\n",
       "        ],\n",
       "        \"showlegend\": false,\n",
       "        \"mode\": \"lines+markers\",\n",
       "        \"name\": \"\",\n",
       "        \"zmin\": null,\n",
       "        \"legendgroup\": \"\",\n",
       "        \"marker\": {\n",
       "            \"symbol\": \"line-ew\",\n",
       "            \"color\": \"rgba(0, 0, 0, 1.000)\",\n",
       "            \"line\": {\n",
       "                \"color\": \"rgba(0, 0, 0, 1.000)\",\n",
       "                \"width\": 1\n",
       "            },\n",
       "            \"size\": 8\n",
       "        },\n",
       "        \"zmax\": null,\n",
       "        \"line\": {\n",
       "            \"color\": \"rgba(0, 0, 0, 1.000)\",\n",
       "            \"shape\": \"linear\",\n",
       "            \"dash\": \"solid\",\n",
       "            \"width\": 1\n",
       "        },\n",
       "        \"y\": [\n",
       "            1.2785731249281005,\n",
       "            1.2981804722476067\n",
       "        ],\n",
       "        \"type\": \"scatter\"\n",
       "    },\n",
       "    {\n",
       "        \"xaxis\": \"x\",\n",
       "        \"colorbar\": {\n",
       "            \"title\": \"\"\n",
       "        },\n",
       "        \"yaxis\": \"y\",\n",
       "        \"x\": [\n",
       "            1.4480000000000002,\n",
       "            1.4480000000000002\n",
       "        ],\n",
       "        \"showlegend\": false,\n",
       "        \"mode\": \"lines+markers\",\n",
       "        \"name\": \"\",\n",
       "        \"zmin\": null,\n",
       "        \"legendgroup\": \"\",\n",
       "        \"marker\": {\n",
       "            \"symbol\": \"line-ew\",\n",
       "            \"color\": \"rgba(0, 0, 0, 1.000)\",\n",
       "            \"line\": {\n",
       "                \"color\": \"rgba(0, 0, 0, 1.000)\",\n",
       "                \"width\": 1\n",
       "            },\n",
       "            \"size\": 8\n",
       "        },\n",
       "        \"zmax\": null,\n",
       "        \"line\": {\n",
       "            \"color\": \"rgba(0, 0, 0, 1.000)\",\n",
       "            \"shape\": \"linear\",\n",
       "            \"dash\": \"solid\",\n",
       "            \"width\": 1\n",
       "        },\n",
       "        \"y\": [\n",
       "            1.276791636339035,\n",
       "            1.2940094362387722\n",
       "        ],\n",
       "        \"type\": \"scatter\"\n",
       "    },\n",
       "    {\n",
       "        \"xaxis\": \"x\",\n",
       "        \"colorbar\": {\n",
       "            \"title\": \"\"\n",
       "        },\n",
       "        \"yaxis\": \"y\",\n",
       "        \"x\": [\n",
       "            1.45,\n",
       "            1.45\n",
       "        ],\n",
       "        \"showlegend\": false,\n",
       "        \"mode\": \"lines+markers\",\n",
       "        \"name\": \"\",\n",
       "        \"zmin\": null,\n",
       "        \"legendgroup\": \"\",\n",
       "        \"marker\": {\n",
       "            \"symbol\": \"line-ew\",\n",
       "            \"color\": \"rgba(0, 0, 0, 1.000)\",\n",
       "            \"line\": {\n",
       "                \"color\": \"rgba(0, 0, 0, 1.000)\",\n",
       "                \"width\": 1\n",
       "            },\n",
       "            \"size\": 8\n",
       "        },\n",
       "        \"zmax\": null,\n",
       "        \"line\": {\n",
       "            \"color\": \"rgba(0, 0, 0, 1.000)\",\n",
       "            \"shape\": \"linear\",\n",
       "            \"dash\": \"solid\",\n",
       "            \"width\": 1\n",
       "        },\n",
       "        \"y\": [\n",
       "            1.2746311176745804,\n",
       "            1.2961179922403467\n",
       "        ],\n",
       "        \"type\": \"scatter\"\n",
       "    },\n",
       "    {\n",
       "        \"xaxis\": \"x\",\n",
       "        \"colorbar\": {\n",
       "            \"title\": \"\"\n",
       "        },\n",
       "        \"yaxis\": \"y\",\n",
       "        \"x\": [\n",
       "            1.35,\n",
       "            1.3519999999999999,\n",
       "            1.354,\n",
       "            1.3559999999999999,\n",
       "            1.358,\n",
       "            1.36,\n",
       "            1.362,\n",
       "            1.364,\n",
       "            1.366,\n",
       "            1.3680000000000003,\n",
       "            1.37,\n",
       "            1.372,\n",
       "            1.374,\n",
       "            1.376,\n",
       "            1.3780000000000001,\n",
       "            1.38,\n",
       "            1.382,\n",
       "            1.384,\n",
       "            1.3860000000000001,\n",
       "            1.388,\n",
       "            1.3900000000000001,\n",
       "            1.3920000000000001,\n",
       "            1.3940000000000001,\n",
       "            1.3960000000000001,\n",
       "            1.3980000000000001,\n",
       "            1.4,\n",
       "            1.4020000000000001,\n",
       "            1.404,\n",
       "            1.4060000000000001,\n",
       "            1.408,\n",
       "            1.4100000000000001,\n",
       "            1.412,\n",
       "            1.414,\n",
       "            1.416,\n",
       "            1.418,\n",
       "            1.42,\n",
       "            1.4220000000000002,\n",
       "            1.424,\n",
       "            1.426,\n",
       "            1.428,\n",
       "            1.43,\n",
       "            1.432,\n",
       "            1.434,\n",
       "            1.436,\n",
       "            1.438,\n",
       "            1.44,\n",
       "            1.442,\n",
       "            1.444,\n",
       "            1.446,\n",
       "            1.4480000000000002,\n",
       "            1.45\n",
       "        ],\n",
       "        \"showlegend\": false,\n",
       "        \"mode\": \"markers\",\n",
       "        \"name\": \"\",\n",
       "        \"zmin\": null,\n",
       "        \"legendgroup\": \"\",\n",
       "        \"marker\": {\n",
       "            \"symbol\": \"circle\",\n",
       "            \"color\": \"rgba(0, 154, 250, 1.000)\",\n",
       "            \"line\": {\n",
       "                \"color\": \"rgba(0, 0, 0, 1.000)\",\n",
       "                \"width\": 1\n",
       "            },\n",
       "            \"size\": 8\n",
       "        },\n",
       "        \"zmax\": null,\n",
       "        \"y\": [\n",
       "            0.3798691732401916,\n",
       "            0.37995557953704384,\n",
       "            0.38004336329850374,\n",
       "            0.3801325258452089,\n",
       "            0.3802230697940212,\n",
       "            0.38031499699609334,\n",
       "            0.3804083092190695,\n",
       "            0.380503008649241,\n",
       "            0.3805990971411068,\n",
       "            0.3806965766855087,\n",
       "            0.3807954490994767,\n",
       "            0.3808957164163381,\n",
       "            0.3809973802980992,\n",
       "            0.381100442626488,\n",
       "            0.381204905399898,\n",
       "            0.38131077028200144,\n",
       "            0.4444625073732927,\n",
       "            0.38152671409934874,\n",
       "            0.38163679581500914,\n",
       "            0.38174828716621584,\n",
       "            0.5016953192373499,\n",
       "            0.4464915281380561,\n",
       "            0.38209123325138583,\n",
       "            0.382208378406347,\n",
       "            0.38232694104963827,\n",
       "            0.3824469228592132,\n",
       "            0.3825683254685728,\n",
       "            0.3826911504243563,\n",
       "            1.2819513996809244,\n",
       "            1.287842741019715,\n",
       "            1.2794450257923742,\n",
       "            1.283420871127398,\n",
       "            1.2889275490948036,\n",
       "            1.2836654236921756,\n",
       "            1.2814140369942397,\n",
       "            1.2839557007686886,\n",
       "            1.2857587602424005,\n",
       "            1.2861577873725416,\n",
       "            1.2926795887717693,\n",
       "            1.2797945383193075,\n",
       "            1.2871273000257464,\n",
       "            1.2841004152551334,\n",
       "            1.2897961923740222,\n",
       "            1.2769534224439005,\n",
       "            1.2799888127036927,\n",
       "            1.289473729170446,\n",
       "            1.2832134050868553,\n",
       "            1.2874165092240566,\n",
       "            1.2883767985878536,\n",
       "            1.2854005362889036,\n",
       "            1.2853745549574636\n",
       "        ],\n",
       "        \"type\": \"scatter\"\n",
       "    }\n",
       "]\n",
       ", {\n",
       "    \"showlegend\": true,\n",
       "    \"xaxis\": {\n",
       "        \"showticklabels\": true,\n",
       "        \"gridwidth\": 0.5,\n",
       "        \"tickvals\": [\n",
       "            1.36,\n",
       "            1.3800000000000001,\n",
       "            1.4000000000000001,\n",
       "            1.42,\n",
       "            1.44\n",
       "        ],\n",
       "        \"visible\": true,\n",
       "        \"ticks\": \"inside\",\n",
       "        \"range\": [\n",
       "            1.3470000000000002,\n",
       "            1.4529999999999998\n",
       "        ],\n",
       "        \"domain\": [\n",
       "            0.07646908719743364,\n",
       "            0.9934383202099737\n",
       "        ],\n",
       "        \"tickmode\": \"array\",\n",
       "        \"linecolor\": \"rgba(0, 0, 0, 1.000)\",\n",
       "        \"showgrid\": true,\n",
       "        \"title\": \"l\",\n",
       "        \"mirror\": false,\n",
       "        \"tickangle\": 0,\n",
       "        \"showline\": true,\n",
       "        \"gridcolor\": \"rgba(0, 0, 0, 0.100)\",\n",
       "        \"titlefont\": {\n",
       "            \"color\": \"rgba(0, 0, 0, 1.000)\",\n",
       "            \"family\": \"sans-serif\",\n",
       "            \"size\": 15\n",
       "        },\n",
       "        \"tickcolor\": \"rgb(0, 0, 0)\",\n",
       "        \"ticktext\": [\n",
       "            \"1.36\",\n",
       "            \"1.38\",\n",
       "            \"1.40\",\n",
       "            \"1.42\",\n",
       "            \"1.44\"\n",
       "        ],\n",
       "        \"zeroline\": false,\n",
       "        \"type\": \"-\",\n",
       "        \"tickfont\": {\n",
       "            \"color\": \"rgba(0, 0, 0, 1.000)\",\n",
       "            \"family\": \"sans-serif\",\n",
       "            \"size\": 11\n",
       "        },\n",
       "        \"zerolinecolor\": \"rgba(0, 0, 0, 1.000)\",\n",
       "        \"anchor\": \"y\"\n",
       "    },\n",
       "    \"paper_bgcolor\": \"rgba(255, 255, 255, 1.000)\",\n",
       "    \"annotations\": [],\n",
       "    \"height\": 400,\n",
       "    \"margin\": {\n",
       "        \"l\": 0,\n",
       "        \"b\": 20,\n",
       "        \"r\": 0,\n",
       "        \"t\": 20\n",
       "    },\n",
       "    \"plot_bgcolor\": \"rgba(255, 255, 255, 1.000)\",\n",
       "    \"yaxis\": {\n",
       "        \"showticklabels\": true,\n",
       "        \"gridwidth\": 0.5,\n",
       "        \"tickvals\": [\n",
       "            0.4,\n",
       "            0.6000000000000001,\n",
       "            0.8,\n",
       "            1.0,\n",
       "            1.2000000000000002\n",
       "        ],\n",
       "        \"visible\": true,\n",
       "        \"ticks\": \"inside\",\n",
       "        \"range\": [\n",
       "            0.21058336876089756,\n",
       "            1.3373838001142881\n",
       "        ],\n",
       "        \"domain\": [\n",
       "            0.07581474190726165,\n",
       "            0.9901574803149606\n",
       "        ],\n",
       "        \"tickmode\": \"array\",\n",
       "        \"linecolor\": \"rgba(0, 0, 0, 1.000)\",\n",
       "        \"showgrid\": true,\n",
       "        \"title\": \"RMSD sobrepuesto\",\n",
       "        \"mirror\": false,\n",
       "        \"tickangle\": 0,\n",
       "        \"showline\": true,\n",
       "        \"gridcolor\": \"rgba(0, 0, 0, 0.100)\",\n",
       "        \"titlefont\": {\n",
       "            \"color\": \"rgba(0, 0, 0, 1.000)\",\n",
       "            \"family\": \"sans-serif\",\n",
       "            \"size\": 15\n",
       "        },\n",
       "        \"tickcolor\": \"rgb(0, 0, 0)\",\n",
       "        \"ticktext\": [\n",
       "            \"0.4\",\n",
       "            \"0.6\",\n",
       "            \"0.8\",\n",
       "            \"1.0\",\n",
       "            \"1.2\"\n",
       "        ],\n",
       "        \"zeroline\": false,\n",
       "        \"type\": \"-\",\n",
       "        \"tickfont\": {\n",
       "            \"color\": \"rgba(0, 0, 0, 1.000)\",\n",
       "            \"family\": \"sans-serif\",\n",
       "            \"size\": 11\n",
       "        },\n",
       "        \"zerolinecolor\": \"rgba(0, 0, 0, 1.000)\",\n",
       "        \"anchor\": \"x\"\n",
       "    },\n",
       "    \"legend\": {\n",
       "        \"borderwidth\": 1,\n",
       "        \"tracegroupgap\": 0,\n",
       "        \"font\": {\n",
       "            \"color\": \"rgba(0, 0, 0, 1.000)\",\n",
       "            \"family\": \"sans-serif\",\n",
       "            \"size\": 11\n",
       "        },\n",
       "        \"title\": {\n",
       "            \"font\": {\n",
       "                \"color\": \"rgba(0, 0, 0, 1.000)\",\n",
       "                \"family\": \"sans-serif\",\n",
       "                \"size\": 15\n",
       "            },\n",
       "            \"text\": \"\"\n",
       "        },\n",
       "        \"traceorder\": \"normal\",\n",
       "        \"x\": 1.0,\n",
       "        \"yanchor\": \"auto\",\n",
       "        \"xanchor\": \"auto\",\n",
       "        \"bordercolor\": \"rgba(0, 0, 0, 1.000)\",\n",
       "        \"bgcolor\": \"rgba(255, 255, 255, 1.000)\",\n",
       "        \"y\": 1.0\n",
       "    },\n",
       "    \"width\": 600\n",
       "}\n",
       ");\n",
       "    });\n",
       "    </script>\n",
       "\n",
       "    </body>\n",
       "</html>\n"
      ]
     },
     "execution_count": 120,
     "metadata": {},
     "output_type": "execute_result"
    }
   ],
   "source": [
    "p = plot()\n",
    "scatter!(lvals,rmsds_mean,yerror=rmsds_error,ylabel=\"RMSD sobrepuesto\",xlabel=\"l\",label=false)\n"
   ]
  },
  {
   "cell_type": "code",
   "execution_count": 62,
   "metadata": {},
   "outputs": [
    {
     "data": {
      "text/html": [
       "<script>\n",
       "// Immediately-invoked-function-expression to avoid global variables.\n",
       "(function() {\n",
       "    var warning_div = document.getElementById(\"webio-warning-4489624386376727303\");\n",
       "    var hide = function () {\n",
       "        var script = document.getElementById(\"webio-setup-17184389892874244858\");\n",
       "        var parent = script && script.parentElement;\n",
       "        var grandparent = parent && parent.parentElement;\n",
       "        if (grandparent) {\n",
       "            grandparent.style.display = \"none\";\n",
       "        }\n",
       "        warning_div.style.display = \"none\";\n",
       "    };\n",
       "    if (typeof Jupyter !== \"undefined\") {\n",
       "        console.log(\"WebIO detected Jupyter notebook environment.\");\n",
       "        // Jupyter notebook.\n",
       "        var extensions = (\n",
       "            Jupyter\n",
       "            && Jupyter.notebook.config.data\n",
       "            && Jupyter.notebook.config.data.load_extensions\n",
       "        );\n",
       "        if (extensions && extensions[\"webio-jupyter-notebook\"]) {\n",
       "            // Extension already loaded.\n",
       "            console.log(\"Jupyter WebIO nbextension detected; not loading ad-hoc.\");\n",
       "            hide();\n",
       "            return;\n",
       "        }\n",
       "    } else if (window.location.pathname.includes(\"/lab\")) {\n",
       "        // Guessing JupyterLa\n",
       "        console.log(\"Jupyter Lab detected; make sure the @webio/jupyter-lab-provider labextension is installed.\");\n",
       "        hide();\n",
       "        return;\n",
       "    }\n",
       "})();\n",
       "\n",
       "</script>\n",
       "<p\n",
       "    id=\"webio-warning-4489624386376727303\"\n",
       "    class=\"output_text output_stderr\"\n",
       "    style=\"padding: 1em; font-weight: bold;\"\n",
       ">\n",
       "    Unable to load WebIO. Please make sure WebIO works for your Jupyter client.\n",
       "    For troubleshooting, please see <a href=\"https://juliagizmos.github.io/WebIO.jl/latest/providers/ijulia/\">\n",
       "    the WebIO/IJulia documentation</a>.\n",
       "    <!-- TODO: link to installation docs. -->\n",
       "</p>\n"
      ],
      "text/plain": [
       "HTML{String}(\"<script>\\n// Immediately-invoked-function-expression to avoid global variables.\\n(function() {\\n    var warning_div = document.getElementById(\\\"webio-warning-4489624386376727303\\\");\\n    var hide = function () {\\n        var script = document.getElementById(\\\"webio-setup-17184389892874244858\\\");\\n        var parent = script && script.parentElement;\\n        var grandparent = parent && parent.parentElement;\\n        if (grandparent) {\\n            grandparent.style.display = \\\"none\\\";\\n        }\\n        warning_div.style.display = \\\"none\\\";\\n    };\\n    if (typeof Jupyter !== \\\"undefined\\\") {\\n        console.log(\\\"WebIO detected Jupyter notebook environment.\\\");\\n        // Jupyter notebook.\\n        var extensions = (\\n            Jupyter\\n            && Jupyter.notebook.config.data\\n            && Jupyter.notebook.config.data.load_extensions\\n        );\\n        if (extensions && extensions[\\\"webio-jupyter-notebook\\\"]) {\\n            // Extension already loaded.\\n            console.log(\\\"Jupyter WebIO nbextension detected; not loading ad-hoc.\\\");\\n            hide();\\n            return;\\n        }\\n    } else if (window.location.pathname.includes(\\\"/lab\\\")) {\\n        // Guessing JupyterLa\\n        console.log(\\\"Jupyter Lab detected; make sure the @webio/jupyter-lab-provider labextension is installed.\\\");\\n        hide();\\n        return;\\n    }\\n})();\\n\\n</script>\\n<p\\n    id=\\\"webio-warning-4489624386376727303\\\"\\n    class=\\\"output_text output_stderr\\\"\\n    style=\\\"padding: 1em; font-weight: bold;\\\"\\n>\\n    Unable to load WebIO. Please make sure WebIO works for your Jupyter client.\\n    For troubleshooting, please see <a href=\\\"https://juliagizmos.github.io/WebIO.jl/latest/providers/ijulia/\\\">\\n    the WebIO/IJulia documentation</a>.\\n    <!-- TODO: link to installation docs. -->\\n</p>\\n\")"
      ]
     },
     "metadata": {},
     "output_type": "display_data"
    },
    {
     "data": {
      "text/plain": [
       "Plots.PlotlyJSBackend()"
      ]
     },
     "execution_count": 62,
     "metadata": {},
     "output_type": "execute_result"
    }
   ],
   "source": [
    "plotlyjs()"
   ]
  },
  {
   "cell_type": "code",
   "execution_count": 64,
   "metadata": {},
   "outputs": [
    {
     "name": "stderr",
     "output_type": "stream",
     "text": [
      "WARNING: using IntervalArithmetic.dot in module Main conflicts with an existing identifier.\n"
     ]
    }
   ],
   "source": [
    "include(\"../src/test.jl\")"
   ]
  },
  {
   "cell_type": "code",
   "execution_count": 114,
   "metadata": {},
   "outputs": [
    {
     "data": {
      "application/vnd.plotly.v1+json": {
       "data": [
        {
         "colorbar": {
          "title": {
           "text": ""
          }
         },
         "legendgroup": "y1",
         "marker": {
          "color": "rgba(173, 216, 230, 1.000)",
          "line": {
           "color": "rgba(0, 0, 0, 1)",
           "width": 1
          },
          "size": 8,
          "symbol": "circle"
         },
         "mode": "markers",
         "name": "y1",
         "scene": "scene",
         "showlegend": true,
         "type": "scatter3d",
         "x": [
          -0.5056225316116301,
          0,
          0,
          0.5930510303126514,
          0.5930462943887052,
          1.1208169869401523
         ],
         "xaxis": "x",
         "y": [
          -0.68644375788688,
          0,
          0,
          0.8051648746965553,
          0.8051683629815786,
          1.5216948111398239
         ],
         "yaxis": "y",
         "z": [
          -0.08586608049760965,
          -1.0000000000000269,
          0,
          -5.20857754022823e-15,
          0.9999999999827186,
          0.12219139602991445
         ],
         "zaxis": "z",
         "zmax": null,
         "zmin": null
        },
        {
         "colorbar": {
          "title": {
           "text": ""
          }
         },
         "legendgroup": "y2",
         "line": {
          "color": "rgba(0, 0, 0, 1)",
          "dash": "solid",
          "shape": "linear",
          "width": 2
         },
         "mode": "lines",
         "name": "y2",
         "scene": "scene",
         "showlegend": true,
         "type": "scatter3d",
         "x": [
          -0.5056225316116301,
          0,
          0,
          0.5930510303126514,
          0.5930462943887052,
          1.1208169869401523
         ],
         "xaxis": "x",
         "y": [
          -0.68644375788688,
          0,
          0,
          0.8051648746965553,
          0.8051683629815786,
          1.5216948111398239
         ],
         "yaxis": "y",
         "z": [
          -0.08586608049760965,
          -1.0000000000000269,
          0,
          -5.20857754022823e-15,
          0.9999999999827186,
          0.12219139602991445
         ],
         "zaxis": "z",
         "zmax": null,
         "zmin": null
        }
       ],
       "layout": {
        "annotations": [],
        "height": 400,
        "legend": {
         "bgcolor": "rgba(255, 255, 255, 1.000)",
         "bordercolor": "rgba(0, 0, 0, 1)",
         "borderwidth": 1,
         "font": {
          "color": "rgba(0, 0, 0, 1)",
          "family": "sans-serif",
          "size": 11
         },
         "title": {
          "font": {
           "color": "rgba(0, 0, 0, 1)",
           "family": "sans-serif",
           "size": 15
          },
          "text": ""
         },
         "tracegroupgap": 0,
         "traceorder": "normal",
         "x": 1,
         "xanchor": "auto",
         "y": 1,
         "yanchor": "auto"
        },
        "margin": {
         "b": 20,
         "l": 0,
         "r": 0,
         "t": 20
        },
        "paper_bgcolor": "rgba(255, 255, 255, 1.000)",
        "plot_bgcolor": "rgba(255, 255, 255, 1.000)",
        "scene": {
         "aspectmode": "auto",
         "aspectratio": {
          "x": 0.8429591044363445,
          "y": 1.1444449605328741,
          "z": 1.0365698752569186
         },
         "camera": {
          "center": {
           "x": 0,
           "y": 0,
           "z": 0
          },
          "eye": {
           "x": -1.331849169609408,
           "y": -2.047608707743886,
           "z": 0.8907729056174439
          },
          "projection": {
           "type": "perspective"
          },
          "up": {
           "x": 0,
           "y": 0,
           "z": 1
          }
         },
         "domain": {
          "x": [
           0.0658209390492855,
           0.9934383202099738
          ],
          "y": [
           0.03762029746281716,
           0.9901574803149606
          ]
         },
         "xaxis": {
          "gridcolor": "rgba(0, 0, 0, 0.1)",
          "gridwidth": 0.5,
          "linecolor": "rgba(0, 0, 0, 1)",
          "mirror": false,
          "range": [
           -0.5544157171681835,
           1.1696101724967058
          ],
          "showgrid": true,
          "showline": true,
          "showticklabels": true,
          "tickangle": 0,
          "tickcolor": "rgb(0, 0, 0)",
          "tickfont": {
           "color": "rgba(0, 0, 0, 1)",
           "family": "sans-serif",
           "size": 11
          },
          "tickmode": "array",
          "ticks": "inside",
          "ticktext": [
           "-0.3",
           "0.0",
           "0.3",
           "0.6",
           "0.9"
          ],
          "tickvals": [
           -0.30000000000000004,
           0,
           0.30000000000000004,
           0.6000000000000001,
           0.9000000000000001
          ],
          "title": {
           "font": {
            "color": "rgba(0, 0, 0, 1)",
            "family": "sans-serif",
            "size": 15
           },
           "text": ""
          },
          "type": "linear",
          "visible": true,
          "zeroline": false,
          "zerolinecolor": "rgba(0, 0, 0, 1)"
         },
         "yaxis": {
          "gridcolor": "rgba(0, 0, 0, 0.1)",
          "gridwidth": 0.5,
          "linecolor": "rgba(0, 0, 0, 1)",
          "mirror": false,
          "range": [
           -0.7526879149576811,
           1.5879389682106249
          ],
          "showgrid": true,
          "showline": true,
          "showticklabels": true,
          "tickangle": 0,
          "tickcolor": "rgb(0, 0, 0)",
          "tickfont": {
           "color": "rgba(0, 0, 0, 1)",
           "family": "sans-serif",
           "size": 11
          },
          "tickmode": "array",
          "ticks": "inside",
          "ticktext": [
           "-0.5",
           "0.0",
           "0.5",
           "1.0",
           "1.5"
          ],
          "tickvals": [
           -0.5,
           0,
           0.5,
           1,
           1.5
          ],
          "title": {
           "font": {
            "color": "rgba(0, 0, 0, 1)",
            "family": "sans-serif",
            "size": 15
           },
           "text": ""
          },
          "type": "linear",
          "visible": true,
          "zeroline": false,
          "zerolinecolor": "rgba(0, 0, 0, 1)"
         },
         "zaxis": {
          "gridcolor": "rgba(0, 0, 0, 0.1)",
          "gridwidth": 0.5,
          "linecolor": "rgba(0, 0, 0, 1)",
          "mirror": false,
          "range": [
           -1.0599999999995093,
           1.059999999982201
          ],
          "showgrid": true,
          "showline": true,
          "showticklabels": true,
          "tickangle": 0,
          "tickcolor": "rgb(0, 0, 0)",
          "tickfont": {
           "color": "rgba(0, 0, 0, 1)",
           "family": "sans-serif",
           "size": 11
          },
          "tickmode": "array",
          "ticks": "inside",
          "ticktext": [
           "-1.0",
           "-0.5",
           "0.0",
           "0.5",
           "1.0"
          ],
          "tickvals": [
           -1,
           -0.5,
           0,
           0.5,
           1
          ],
          "title": {
           "font": {
            "color": "rgba(0, 0, 0, 1)",
            "family": "sans-serif",
            "size": 15
           },
           "text": ""
          },
          "type": "linear",
          "visible": true,
          "zeroline": false,
          "zerolinecolor": "rgba(0, 0, 0, 1)"
         }
        },
        "showlegend": true,
        "width": 600
       }
      },
      "image/png": "[encoded data removed]",
      "text/html": [
       "<!DOCTYPE html>\n",
       "<html>\n",
       "    <head>\n",
       "        <title>Plots.jl</title>\n",
       "        <meta http-equiv=\"content-type\" content=\"text/html; charset=UTF-8\">\n",
       "        \n",
       "    </head>\n",
       "    <body>\n",
       "            <div id=\"5259da47-6268-47cf-86be-966c2bb16df6\" style=\"width:600px;height:400px;\"></div>\n",
       "    <script>\n",
       "        requirejs.config({\n",
       "        paths: {\n",
       "            Plotly: 'https://cdn.plot.ly/plotly-1.57.1.min'\n",
       "        }\n",
       "    });\n",
       "    require(['Plotly'], function (Plotly) {\n",
       "\n",
       "    PLOT = document.getElementById('5259da47-6268-47cf-86be-966c2bb16df6');\n",
       "    Plotly.plot(PLOT, [\n",
       "    {\n",
       "        \"xaxis\": \"x\",\n",
       "        \"colorbar\": {\n",
       "            \"title\": \"\"\n",
       "        },\n",
       "        \"yaxis\": \"y\",\n",
       "        \"zaxis\": \"z\",\n",
       "        \"x\": [\n",
       "            -0.5056225316116301,\n",
       "            0.0,\n",
       "            0.0,\n",
       "            0.5930510303126514,\n",
       "            0.5930462943887052,\n",
       "            1.1208169869401523\n",
       "        ],\n",
       "        \"showlegend\": true,\n",
       "        \"mode\": \"markers\",\n",
       "        \"name\": \"y1\",\n",
       "        \"zmin\": null,\n",
       "        \"legendgroup\": \"y1\",\n",
       "        \"z\": [\n",
       "            -0.08586608049760965,\n",
       "            -1.0000000000000269,\n",
       "            0.0,\n",
       "            -5.20857754022823e-15,\n",
       "            0.9999999999827186,\n",
       "            0.12219139602991445\n",
       "        ],\n",
       "        \"marker\": {\n",
       "            \"symbol\": \"circle\",\n",
       "            \"color\": \"rgba(173, 216, 230, 1.000)\",\n",
       "            \"line\": {\n",
       "                \"color\": \"rgba(0, 0, 0, 1.000)\",\n",
       "                \"width\": 1\n",
       "            },\n",
       "            \"size\": 8\n",
       "        },\n",
       "        \"zmax\": null,\n",
       "        \"y\": [\n",
       "            -0.68644375788688,\n",
       "            0.0,\n",
       "            0.0,\n",
       "            0.8051648746965553,\n",
       "            0.8051683629815786,\n",
       "            1.5216948111398239\n",
       "        ],\n",
       "        \"type\": \"scatter3d\",\n",
       "        \"scene\": \"scene\"\n",
       "    },\n",
       "    {\n",
       "        \"xaxis\": \"x\",\n",
       "        \"colorbar\": {\n",
       "            \"title\": \"\"\n",
       "        },\n",
       "        \"yaxis\": \"y\",\n",
       "        \"zaxis\": \"z\",\n",
       "        \"x\": [\n",
       "            -0.5056225316116301,\n",
       "            0.0,\n",
       "            0.0,\n",
       "            0.5930510303126514,\n",
       "            0.5930462943887052,\n",
       "            1.1208169869401523\n",
       "        ],\n",
       "        \"showlegend\": true,\n",
       "        \"mode\": \"lines\",\n",
       "        \"name\": \"y2\",\n",
       "        \"zmin\": null,\n",
       "        \"legendgroup\": \"y2\",\n",
       "        \"z\": [\n",
       "            -0.08586608049760965,\n",
       "            -1.0000000000000269,\n",
       "            0.0,\n",
       "            -5.20857754022823e-15,\n",
       "            0.9999999999827186,\n",
       "            0.12219139602991445\n",
       "        ],\n",
       "        \"zmax\": null,\n",
       "        \"line\": {\n",
       "            \"color\": \"rgba(0, 0, 0, 1.000)\",\n",
       "            \"shape\": \"linear\",\n",
       "            \"dash\": \"solid\",\n",
       "            \"width\": 2\n",
       "        },\n",
       "        \"y\": [\n",
       "            -0.68644375788688,\n",
       "            0.0,\n",
       "            0.0,\n",
       "            0.8051648746965553,\n",
       "            0.8051683629815786,\n",
       "            1.5216948111398239\n",
       "        ],\n",
       "        \"type\": \"scatter3d\",\n",
       "        \"scene\": \"scene\"\n",
       "    }\n",
       "]\n",
       ", {\n",
       "    \"showlegend\": true,\n",
       "    \"paper_bgcolor\": \"rgba(255, 255, 255, 1.000)\",\n",
       "    \"annotations\": [],\n",
       "    \"height\": 400,\n",
       "    \"margin\": {\n",
       "        \"l\": 0,\n",
       "        \"b\": 20,\n",
       "        \"r\": 0,\n",
       "        \"t\": 20\n",
       "    },\n",
       "    \"plot_bgcolor\": \"rgba(255, 255, 255, 1.000)\",\n",
       "    \"scene\": {\n",
       "        \"camera\": {\n",
       "            \"eye\": {\n",
       "                \"y\": -1.9499999999999997,\n",
       "                \"z\": 1.3,\n",
       "                \"x\": 1.12583302491977\n",
       "            }\n",
       "        },\n",
       "        \"xaxis\": {\n",
       "            \"showticklabels\": true,\n",
       "            \"gridwidth\": 0.5,\n",
       "            \"tickvals\": [\n",
       "                -0.30000000000000004,\n",
       "                0.0,\n",
       "                0.30000000000000004,\n",
       "                0.6000000000000001,\n",
       "                0.9000000000000001\n",
       "            ],\n",
       "            \"visible\": true,\n",
       "            \"ticks\": \"inside\",\n",
       "            \"range\": [\n",
       "                -0.5544157171681835,\n",
       "                1.1696101724967058\n",
       "            ],\n",
       "            \"tickmode\": \"array\",\n",
       "            \"linecolor\": \"rgba(0, 0, 0, 1.000)\",\n",
       "            \"showgrid\": true,\n",
       "            \"title\": \"\",\n",
       "            \"mirror\": false,\n",
       "            \"tickangle\": 0,\n",
       "            \"showline\": true,\n",
       "            \"gridcolor\": \"rgba(0, 0, 0, 0.100)\",\n",
       "            \"titlefont\": {\n",
       "                \"color\": \"rgba(0, 0, 0, 1.000)\",\n",
       "                \"family\": \"sans-serif\",\n",
       "                \"size\": 15\n",
       "            },\n",
       "            \"tickcolor\": \"rgb(0, 0, 0)\",\n",
       "            \"ticktext\": [\n",
       "                \"-0.3\",\n",
       "                \"0.0\",\n",
       "                \"0.3\",\n",
       "                \"0.6\",\n",
       "                \"0.9\"\n",
       "            ],\n",
       "            \"zeroline\": false,\n",
       "            \"type\": \"-\",\n",
       "            \"tickfont\": {\n",
       "                \"color\": \"rgba(0, 0, 0, 1.000)\",\n",
       "                \"family\": \"sans-serif\",\n",
       "                \"size\": 11\n",
       "            },\n",
       "            \"zerolinecolor\": \"rgba(0, 0, 0, 1.000)\"\n",
       "        },\n",
       "        \"domain\": {\n",
       "            \"y\": [\n",
       "                0.03762029746281716,\n",
       "                0.9901574803149606\n",
       "            ],\n",
       "            \"x\": [\n",
       "                0.0658209390492855,\n",
       "                0.9934383202099738\n",
       "            ]\n",
       "        },\n",
       "        \"yaxis\": {\n",
       "            \"showticklabels\": true,\n",
       "            \"gridwidth\": 0.5,\n",
       "            \"tickvals\": [\n",
       "                -0.5,\n",
       "                0.0,\n",
       "                0.5,\n",
       "                1.0,\n",
       "                1.5\n",
       "            ],\n",
       "            \"visible\": true,\n",
       "            \"ticks\": \"inside\",\n",
       "            \"range\": [\n",
       "                -0.7526879149576811,\n",
       "                1.5879389682106249\n",
       "            ],\n",
       "            \"tickmode\": \"array\",\n",
       "            \"linecolor\": \"rgba(0, 0, 0, 1.000)\",\n",
       "            \"showgrid\": true,\n",
       "            \"title\": \"\",\n",
       "            \"mirror\": false,\n",
       "            \"tickangle\": 0,\n",
       "            \"showline\": true,\n",
       "            \"gridcolor\": \"rgba(0, 0, 0, 0.100)\",\n",
       "            \"titlefont\": {\n",
       "                \"color\": \"rgba(0, 0, 0, 1.000)\",\n",
       "                \"family\": \"sans-serif\",\n",
       "                \"size\": 15\n",
       "            },\n",
       "            \"tickcolor\": \"rgb(0, 0, 0)\",\n",
       "            \"ticktext\": [\n",
       "                \"-0.5\",\n",
       "                \"0.0\",\n",
       "                \"0.5\",\n",
       "                \"1.0\",\n",
       "                \"1.5\"\n",
       "            ],\n",
       "            \"zeroline\": false,\n",
       "            \"type\": \"-\",\n",
       "            \"tickfont\": {\n",
       "                \"color\": \"rgba(0, 0, 0, 1.000)\",\n",
       "                \"family\": \"sans-serif\",\n",
       "                \"size\": 11\n",
       "            },\n",
       "            \"zerolinecolor\": \"rgba(0, 0, 0, 1.000)\"\n",
       "        },\n",
       "        \"zaxis\": {\n",
       "            \"showticklabels\": true,\n",
       "            \"gridwidth\": 0.5,\n",
       "            \"tickvals\": [\n",
       "                -1.0,\n",
       "                -0.5,\n",
       "                0.0,\n",
       "                0.5,\n",
       "                1.0\n",
       "            ],\n",
       "            \"visible\": true,\n",
       "            \"ticks\": \"inside\",\n",
       "            \"range\": [\n",
       "                -1.0599999999995093,\n",
       "                1.059999999982201\n",
       "            ],\n",
       "            \"tickmode\": \"array\",\n",
       "            \"linecolor\": \"rgba(0, 0, 0, 1.000)\",\n",
       "            \"showgrid\": true,\n",
       "            \"title\": \"\",\n",
       "            \"mirror\": false,\n",
       "            \"tickangle\": 0,\n",
       "            \"showline\": true,\n",
       "            \"gridcolor\": \"rgba(0, 0, 0, 0.100)\",\n",
       "            \"titlefont\": {\n",
       "                \"color\": \"rgba(0, 0, 0, 1.000)\",\n",
       "                \"family\": \"sans-serif\",\n",
       "                \"size\": 15\n",
       "            },\n",
       "            \"tickcolor\": \"rgb(0, 0, 0)\",\n",
       "            \"ticktext\": [\n",
       "                \"-1.0\",\n",
       "                \"-0.5\",\n",
       "                \"0.0\",\n",
       "                \"0.5\",\n",
       "                \"1.0\"\n",
       "            ],\n",
       "            \"zeroline\": false,\n",
       "            \"type\": \"-\",\n",
       "            \"tickfont\": {\n",
       "                \"color\": \"rgba(0, 0, 0, 1.000)\",\n",
       "                \"family\": \"sans-serif\",\n",
       "                \"size\": 11\n",
       "            },\n",
       "            \"zerolinecolor\": \"rgba(0, 0, 0, 1.000)\"\n",
       "        }\n",
       "    },\n",
       "    \"legend\": {\n",
       "        \"borderwidth\": 1,\n",
       "        \"tracegroupgap\": 0,\n",
       "        \"font\": {\n",
       "            \"color\": \"rgba(0, 0, 0, 1.000)\",\n",
       "            \"family\": \"sans-serif\",\n",
       "            \"size\": 11\n",
       "        },\n",
       "        \"title\": {\n",
       "            \"font\": {\n",
       "                \"color\": \"rgba(0, 0, 0, 1.000)\",\n",
       "                \"family\": \"sans-serif\",\n",
       "                \"size\": 15\n",
       "            },\n",
       "            \"text\": \"\"\n",
       "        },\n",
       "        \"traceorder\": \"normal\",\n",
       "        \"x\": 1.0,\n",
       "        \"yanchor\": \"auto\",\n",
       "        \"xanchor\": \"auto\",\n",
       "        \"bordercolor\": \"rgba(0, 0, 0, 1.000)\",\n",
       "        \"bgcolor\": \"rgba(255, 255, 255, 1.000)\",\n",
       "        \"y\": 1.0\n",
       "    },\n",
       "    \"width\": 600\n",
       "}\n",
       ");\n",
       "    });\n",
       "    </script>\n",
       "\n",
       "    </body>\n",
       "</html>\n"
      ]
     },
     "execution_count": 114,
     "metadata": {},
     "output_type": "execute_result"
    }
   ],
   "source": [
    "p = plot()\n",
    "plotChain!(lastQ,\"lightblue\")\n",
    "p"
   ]
  },
  {
   "cell_type": "code",
   "execution_count": 66,
   "metadata": {},
   "outputs": [
    {
     "data": {
      "text/plain": [
       "10000-element Array{Float64,1}:\n",
       "  0.0\n",
       " -0.13966031264828888\n",
       "  0.0\n",
       "  0.0\n",
       "  0.0\n",
       "  0.0\n",
       " -0.04651033950768352\n",
       "  0.0\n",
       "  0.0\n",
       "  0.0\n",
       "  0.0\n",
       "  0.0\n",
       "  0.0\n",
       "  ⋮\n",
       "  0.0\n",
       "  0.0\n",
       "  0.0\n",
       "  0.0\n",
       "  0.0\n",
       "  0.0\n",
       "  0.0\n",
       "  0.0\n",
       "  0.0\n",
       "  0.0\n",
       "  0.0\n",
       "  0.0"
      ]
     },
     "execution_count": 66,
     "metadata": {},
     "output_type": "execute_result"
    }
   ],
   "source": [
    "angles"
   ]
  },
  {
   "cell_type": "code",
   "execution_count": 67,
   "metadata": {},
   "outputs": [
    {
     "data": {
      "text/plain": [
       "10000-element Array{Int8,1}:\n",
       " 0\n",
       " 1\n",
       " 0\n",
       " 0\n",
       " 0\n",
       " 0\n",
       " 1\n",
       " 0\n",
       " 0\n",
       " 0\n",
       " 0\n",
       " 0\n",
       " 0\n",
       " ⋮\n",
       " 0\n",
       " 0\n",
       " 0\n",
       " 0\n",
       " 0\n",
       " 0\n",
       " 0\n",
       " 0\n",
       " 0\n",
       " 0\n",
       " 0\n",
       " 0"
      ]
     },
     "execution_count": 67,
     "metadata": {},
     "output_type": "execute_result"
    }
   ],
   "source": [
    "diheds"
   ]
  },
  {
   "cell_type": "code",
   "execution_count": 68,
   "metadata": {},
   "outputs": [
    {
     "data": {
      "text/plain": [
       "6-element Array{Int64,1}:\n",
       "    2\n",
       "    7\n",
       "  281\n",
       "  318\n",
       " 3889\n",
       " 5497"
      ]
     },
     "execution_count": 68,
     "metadata": {},
     "output_type": "execute_result"
    }
   ],
   "source": [
    "changes = [i for i in 1:length(diheds) if diheds[i] != 0]"
   ]
  },
  {
   "cell_type": "code",
   "execution_count": 70,
   "metadata": {},
   "outputs": [
    {
     "data": {
      "text/plain": [
       "6-element Array{Int8,1}:\n",
       " 1\n",
       " 1\n",
       " 2\n",
       " 2\n",
       " 3\n",
       " 1"
      ]
     },
     "execution_count": 70,
     "metadata": {},
     "output_type": "execute_result"
    }
   ],
   "source": [
    "diheds[changes]"
   ]
  },
  {
   "cell_type": "code",
   "execution_count": null,
   "metadata": {},
   "outputs": [],
   "source": []
  }
 ],
 "metadata": {
  "kernelspec": {
   "display_name": "Julia 1.5.3",
   "language": "julia",
   "name": "julia-1.5"
  },
  "language_info": {
   "file_extension": ".jl",
   "mimetype": "application/julia",
   "name": "julia",
   "version": "1.5.3"
  }
 },
 "nbformat": 4,
 "nbformat_minor": 4
}
