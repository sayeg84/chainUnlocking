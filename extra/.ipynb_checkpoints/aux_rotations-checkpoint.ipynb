{
 "cells": [
  {
   "cell_type": "code",
   "execution_count": 1,
   "metadata": {},
   "outputs": [
    {
     "data": {
      "text/html": [
       "<script>\n",
       "// Immediately-invoked-function-expression to avoid global variables.\n",
       "(function() {\n",
       "    var warning_div = document.getElementById(\"webio-warning-4901102774692235355\");\n",
       "    var hide = function () {\n",
       "        var script = document.getElementById(\"webio-setup-14253079774299571757\");\n",
       "        var parent = script && script.parentElement;\n",
       "        var grandparent = parent && parent.parentElement;\n",
       "        if (grandparent) {\n",
       "            grandparent.style.display = \"none\";\n",
       "        }\n",
       "        warning_div.style.display = \"none\";\n",
       "    };\n",
       "    if (typeof Jupyter !== \"undefined\") {\n",
       "        console.log(\"WebIO detected Jupyter notebook environment.\");\n",
       "        // Jupyter notebook.\n",
       "        var extensions = (\n",
       "            Jupyter\n",
       "            && Jupyter.notebook.config.data\n",
       "            && Jupyter.notebook.config.data.load_extensions\n",
       "        );\n",
       "        if (extensions && extensions[\"webio-jupyter-notebook\"]) {\n",
       "            // Extension already loaded.\n",
       "            console.log(\"Jupyter WebIO nbextension detected; not loading ad-hoc.\");\n",
       "            hide();\n",
       "            return;\n",
       "        }\n",
       "    } else if (window.location.pathname.includes(\"/lab\")) {\n",
       "        // Guessing JupyterLa\n",
       "        console.log(\"Jupyter Lab detected; make sure the @webio/jupyter-lab-provider labextension is installed.\");\n",
       "        hide();\n",
       "        return;\n",
       "    }\n",
       "})();\n",
       "\n",
       "</script>\n",
       "<p\n",
       "    id=\"webio-warning-4901102774692235355\"\n",
       "    class=\"output_text output_stderr\"\n",
       "    style=\"padding: 1em; font-weight: bold;\"\n",
       ">\n",
       "    Unable to load WebIO. Please make sure WebIO works for your Jupyter client.\n",
       "    For troubleshooting, please see <a href=\"https://juliagizmos.github.io/WebIO.jl/latest/providers/ijulia/\">\n",
       "    the WebIO/IJulia documentation</a>.\n",
       "    <!-- TODO: link to installation docs. -->\n",
       "</p>\n"
      ],
      "text/plain": [
       "HTML{String}(\"<script>\\n// Immediately-invoked-function-expression to avoid global variables.\\n(function() {\\n    var warning_div = document.getElementById(\\\"webio-warning-4901102774692235355\\\");\\n    var hide = function () {\\n        var script = document.getElementById(\\\"webio-setup-14253079774299571757\\\");\\n        var parent = script && script.parentElement;\\n        var grandparent = parent && parent.parentElement;\\n        if (grandparent) {\\n            grandparent.style.display = \\\"none\\\";\\n        }\\n        warning_div.style.display = \\\"none\\\";\\n    };\\n    if (typeof Jupyter !== \\\"undefined\\\") {\\n        console.log(\\\"WebIO detected Jupyter notebook environment.\\\");\\n        // Jupyter notebook.\\n        var extensions = (\\n            Jupyter\\n            && Jupyter.notebook.config.data\\n            && Jupyter.notebook.config.data.load_extensions\\n        );\\n        if (extensions && extensions[\\\"webio-jupyter-notebook\\\"]) {\\n            // Extension already loaded.\\n            console.log(\\\"Jupyter WebIO nbextension detected; not loading ad-hoc.\\\");\\n            hide();\\n            return;\\n        }\\n    } else if (window.location.pathname.includes(\\\"/lab\\\")) {\\n        // Guessing JupyterLa\\n        console.log(\\\"Jupyter Lab detected; make sure the @webio/jupyter-lab-provider labextension is installed.\\\");\\n        hide();\\n        return;\\n    }\\n})();\\n\\n</script>\\n<p\\n    id=\\\"webio-warning-4901102774692235355\\\"\\n    class=\\\"output_text output_stderr\\\"\\n    style=\\\"padding: 1em; font-weight: bold;\\\"\\n>\\n    Unable to load WebIO. Please make sure WebIO works for your Jupyter client.\\n    For troubleshooting, please see <a href=\\\"https://juliagizmos.github.io/WebIO.jl/latest/providers/ijulia/\\\">\\n    the WebIO/IJulia documentation</a>.\\n    <!-- TODO: link to installation docs. -->\\n</p>\\n\")"
      ]
     },
     "metadata": {},
     "output_type": "display_data"
    },
    {
     "data": {
      "text/plain": [
       "Plots.PlotlyJSBackend()"
      ]
     },
     "execution_count": 1,
     "metadata": {},
     "output_type": "execute_result"
    }
   ],
   "source": [
    "using Plots\n",
    "plotlyjs()"
   ]
  },
  {
   "cell_type": "code",
   "execution_count": 2,
   "metadata": {},
   "outputs": [
    {
     "data": {
      "application/vnd.plotly.v1+json": {
       "data": [
        {
         "colorbar": {
          "title": {
           "text": ""
          }
         },
         "legendgroup": "y1",
         "line": {
          "color": "rgba(0, 154, 250, 1.000)",
          "dash": "solid",
          "shape": "linear",
          "width": 1
         },
         "mode": "lines",
         "name": "y1",
         "showlegend": true,
         "type": "scatter",
         "x": [
          1,
          2,
          3,
          4,
          5,
          6,
          7,
          8,
          9,
          10
         ],
         "xaxis": "x",
         "y": [
          1,
          2,
          3,
          4,
          5,
          6,
          7,
          8,
          9,
          10
         ],
         "yaxis": "y",
         "zmax": null,
         "zmin": null
        }
       ],
       "layout": {
        "annotations": [],
        "height": 400,
        "legend": {
         "bgcolor": "rgba(255, 255, 255, 1.000)",
         "bordercolor": "rgba(0, 0, 0, 1)",
         "borderwidth": 1,
         "font": {
          "color": "rgba(0, 0, 0, 1)",
          "family": "sans-serif",
          "size": 11
         },
         "title": {
          "font": {
           "color": "rgba(0, 0, 0, 1)",
           "family": "sans-serif",
           "size": 15
          },
          "text": ""
         },
         "tracegroupgap": 0,
         "traceorder": "normal",
         "x": 1,
         "xanchor": "auto",
         "y": 1,
         "yanchor": "auto"
        },
        "margin": {
         "b": 20,
         "l": 0,
         "r": 0,
         "t": 20
        },
        "paper_bgcolor": "rgba(255, 255, 255, 1.000)",
        "plot_bgcolor": "rgba(255, 255, 255, 1.000)",
        "showlegend": true,
        "width": 600,
        "xaxis": {
         "anchor": "y",
         "domain": [
          0.03619130941965587,
          0.9934383202099738
         ],
         "gridcolor": "rgba(0, 0, 0, 0.1)",
         "gridwidth": 0.5,
         "linecolor": "rgba(0, 0, 0, 1)",
         "mirror": false,
         "range": [
          0.73,
          10.27
         ],
         "showgrid": true,
         "showline": true,
         "showticklabels": true,
         "tickangle": 0,
         "tickcolor": "rgb(0, 0, 0)",
         "tickfont": {
          "color": "rgba(0, 0, 0, 1)",
          "family": "sans-serif",
          "size": 11
         },
         "tickmode": "array",
         "ticks": "inside",
         "ticktext": [
          "2",
          "4",
          "6",
          "8",
          "10"
         ],
         "tickvals": [
          2,
          4,
          6,
          8,
          10
         ],
         "title": {
          "font": {
           "color": "rgba(0, 0, 0, 1)",
           "family": "sans-serif",
           "size": 15
          },
          "text": ""
         },
         "type": "linear",
         "visible": true,
         "zeroline": false,
         "zerolinecolor": "rgba(0, 0, 0, 1)"
        },
        "yaxis": {
         "anchor": "x",
         "domain": [
          0.03762029746281716,
          0.9901574803149606
         ],
         "gridcolor": "rgba(0, 0, 0, 0.1)",
         "gridwidth": 0.5,
         "linecolor": "rgba(0, 0, 0, 1)",
         "mirror": false,
         "range": [
          0.73,
          10.27
         ],
         "showgrid": true,
         "showline": true,
         "showticklabels": true,
         "tickangle": 0,
         "tickcolor": "rgb(0, 0, 0)",
         "tickfont": {
          "color": "rgba(0, 0, 0, 1)",
          "family": "sans-serif",
          "size": 11
         },
         "tickmode": "array",
         "ticks": "inside",
         "ticktext": [
          "2",
          "4",
          "6",
          "8",
          "10"
         ],
         "tickvals": [
          2,
          4,
          6,
          8,
          10
         ],
         "title": {
          "font": {
           "color": "rgba(0, 0, 0, 1)",
           "family": "sans-serif",
           "size": 15
          },
          "text": ""
         },
         "type": "linear",
         "visible": true,
         "zeroline": false,
         "zerolinecolor": "rgba(0, 0, 0, 1)"
        }
       }
      },
      "image/png": "[encoded data removed]",
      "text/html": [
       "    <div id=\"1561542c-cb5d-4c2e-9ac5-f9db13be8296\" style=\"width:600px;height:400px;\"></div>\n",
       "    <script>\n",
       "        requirejs.config({\n",
       "        paths: {\n",
       "            Plotly: 'https://cdn.plot.ly/plotly-1.57.1.min'\n",
       "        }\n",
       "    });\n",
       "    require(['Plotly'], function (Plotly) {\n",
       "\n",
       "        var PLOT = document.getElementById('1561542c-cb5d-4c2e-9ac5-f9db13be8296');\n",
       "    Plotly.plot(PLOT, [\n",
       "    {\n",
       "        \"xaxis\": \"x\",\n",
       "        \"colorbar\": {\n",
       "            \"title\": \"\"\n",
       "        },\n",
       "        \"yaxis\": \"y\",\n",
       "        \"x\": [\n",
       "            1,\n",
       "            2,\n",
       "            3,\n",
       "            4,\n",
       "            5,\n",
       "            6,\n",
       "            7,\n",
       "            8,\n",
       "            9,\n",
       "            10\n",
       "        ],\n",
       "        \"showlegend\": true,\n",
       "        \"mode\": \"lines\",\n",
       "        \"name\": \"y1\",\n",
       "        \"zmin\": null,\n",
       "        \"legendgroup\": \"y1\",\n",
       "        \"zmax\": null,\n",
       "        \"line\": {\n",
       "            \"color\": \"rgba(0, 154, 250, 1.000)\",\n",
       "            \"shape\": \"linear\",\n",
       "            \"dash\": \"solid\",\n",
       "            \"width\": 1\n",
       "        },\n",
       "        \"y\": [\n",
       "            1,\n",
       "            2,\n",
       "            3,\n",
       "            4,\n",
       "            5,\n",
       "            6,\n",
       "            7,\n",
       "            8,\n",
       "            9,\n",
       "            10\n",
       "        ],\n",
       "        \"type\": \"scatter\"\n",
       "    }\n",
       "]\n",
       ", {\n",
       "    \"showlegend\": true,\n",
       "    \"xaxis\": {\n",
       "        \"showticklabels\": true,\n",
       "        \"gridwidth\": 0.5,\n",
       "        \"tickvals\": [\n",
       "            2.0,\n",
       "            4.0,\n",
       "            6.0,\n",
       "            8.0,\n",
       "            10.0\n",
       "        ],\n",
       "        \"range\": [\n",
       "            0.73,\n",
       "            10.27\n",
       "        ],\n",
       "        \"domain\": [\n",
       "            0.03619130941965587,\n",
       "            0.9934383202099738\n",
       "        ],\n",
       "        \"mirror\": false,\n",
       "        \"tickangle\": 0,\n",
       "        \"showline\": true,\n",
       "        \"ticktext\": [\n",
       "            \"2\",\n",
       "            \"4\",\n",
       "            \"6\",\n",
       "            \"8\",\n",
       "            \"10\"\n",
       "        ],\n",
       "        \"zeroline\": false,\n",
       "        \"tickfont\": {\n",
       "            \"color\": \"rgba(0, 0, 0, 1.000)\",\n",
       "            \"family\": \"sans-serif\",\n",
       "            \"size\": 11\n",
       "        },\n",
       "        \"zerolinecolor\": \"rgba(0, 0, 0, 1.000)\",\n",
       "        \"anchor\": \"y\",\n",
       "        \"visible\": true,\n",
       "        \"ticks\": \"inside\",\n",
       "        \"tickmode\": \"array\",\n",
       "        \"linecolor\": \"rgba(0, 0, 0, 1.000)\",\n",
       "        \"showgrid\": true,\n",
       "        \"title\": \"\",\n",
       "        \"gridcolor\": \"rgba(0, 0, 0, 0.100)\",\n",
       "        \"titlefont\": {\n",
       "            \"color\": \"rgba(0, 0, 0, 1.000)\",\n",
       "            \"family\": \"sans-serif\",\n",
       "            \"size\": 15\n",
       "        },\n",
       "        \"tickcolor\": \"rgb(0, 0, 0)\",\n",
       "        \"type\": \"-\"\n",
       "    },\n",
       "    \"paper_bgcolor\": \"rgba(255, 255, 255, 1.000)\",\n",
       "    \"annotations\": [],\n",
       "    \"height\": 400,\n",
       "    \"margin\": {\n",
       "        \"l\": 0,\n",
       "        \"b\": 20,\n",
       "        \"r\": 0,\n",
       "        \"t\": 20\n",
       "    },\n",
       "    \"plot_bgcolor\": \"rgba(255, 255, 255, 1.000)\",\n",
       "    \"yaxis\": {\n",
       "        \"showticklabels\": true,\n",
       "        \"gridwidth\": 0.5,\n",
       "        \"tickvals\": [\n",
       "            2.0,\n",
       "            4.0,\n",
       "            6.0,\n",
       "            8.0,\n",
       "            10.0\n",
       "        ],\n",
       "        \"range\": [\n",
       "            0.73,\n",
       "            10.27\n",
       "        ],\n",
       "        \"domain\": [\n",
       "            0.03762029746281716,\n",
       "            0.9901574803149606\n",
       "        ],\n",
       "        \"mirror\": false,\n",
       "        \"tickangle\": 0,\n",
       "        \"showline\": true,\n",
       "        \"ticktext\": [\n",
       "            \"2\",\n",
       "            \"4\",\n",
       "            \"6\",\n",
       "            \"8\",\n",
       "            \"10\"\n",
       "        ],\n",
       "        \"zeroline\": false,\n",
       "        \"tickfont\": {\n",
       "            \"color\": \"rgba(0, 0, 0, 1.000)\",\n",
       "            \"family\": \"sans-serif\",\n",
       "            \"size\": 11\n",
       "        },\n",
       "        \"zerolinecolor\": \"rgba(0, 0, 0, 1.000)\",\n",
       "        \"anchor\": \"x\",\n",
       "        \"visible\": true,\n",
       "        \"ticks\": \"inside\",\n",
       "        \"tickmode\": \"array\",\n",
       "        \"linecolor\": \"rgba(0, 0, 0, 1.000)\",\n",
       "        \"showgrid\": true,\n",
       "        \"title\": \"\",\n",
       "        \"gridcolor\": \"rgba(0, 0, 0, 0.100)\",\n",
       "        \"titlefont\": {\n",
       "            \"color\": \"rgba(0, 0, 0, 1.000)\",\n",
       "            \"family\": \"sans-serif\",\n",
       "            \"size\": 15\n",
       "        },\n",
       "        \"tickcolor\": \"rgb(0, 0, 0)\",\n",
       "        \"type\": \"-\"\n",
       "    },\n",
       "    \"legend\": {\n",
       "        \"yanchor\": \"auto\",\n",
       "        \"xanchor\": \"auto\",\n",
       "        \"bordercolor\": \"rgba(0, 0, 0, 1.000)\",\n",
       "        \"bgcolor\": \"rgba(255, 255, 255, 1.000)\",\n",
       "        \"borderwidth\": 1,\n",
       "        \"tracegroupgap\": 0,\n",
       "        \"y\": 1.0,\n",
       "        \"font\": {\n",
       "            \"color\": \"rgba(0, 0, 0, 1.000)\",\n",
       "            \"family\": \"sans-serif\",\n",
       "            \"size\": 11\n",
       "        },\n",
       "        \"title\": {\n",
       "            \"font\": {\n",
       "                \"color\": \"rgba(0, 0, 0, 1.000)\",\n",
       "                \"family\": \"sans-serif\",\n",
       "                \"size\": 15\n",
       "            },\n",
       "            \"text\": \"\"\n",
       "        },\n",
       "        \"traceorder\": \"normal\",\n",
       "        \"x\": 1.0\n",
       "    },\n",
       "    \"width\": 600\n",
       "}\n",
       ");\n",
       "\n",
       "    });\n",
       "    </script>\n"
      ]
     },
     "execution_count": 2,
     "metadata": {},
     "output_type": "execute_result"
    }
   ],
   "source": [
    "plot(1:10)"
   ]
  },
  {
   "cell_type": "code",
   "execution_count": 43,
   "metadata": {},
   "outputs": [
    {
     "name": "stderr",
     "output_type": "stream",
     "text": [
      "WARNING: redefinition of constant ex. This may fail, cause incorrect answers, or produce other errors.\n",
      "WARNING: redefinition of constant ey. This may fail, cause incorrect answers, or produce other errors.\n",
      "WARNING: redefinition of constant ez. This may fail, cause incorrect answers, or produce other errors.\n",
      "WARNING: redefinition of constant e0. This may fail, cause incorrect answers, or produce other errors.\n",
      "WARNING: redefinition of constant ex. This may fail, cause incorrect answers, or produce other errors.\n",
      "WARNING: redefinition of constant ey. This may fail, cause incorrect answers, or produce other errors.\n",
      "WARNING: redefinition of constant ez. This may fail, cause incorrect answers, or produce other errors.\n",
      "WARNING: redefinition of constant e0. This may fail, cause incorrect answers, or produce other errors.\n"
     ]
    }
   ],
   "source": [
    "include(\"../src/test.jl\")"
   ]
  },
  {
   "cell_type": "code",
   "execution_count": 4,
   "metadata": {},
   "outputs": [
    {
     "data": {
      "text/plain": [
       "PolygonalChain(Point[Point(0.0729808269509015783427230417146347463130950927734375, 0.2235774291521959167283739589038304984569549560546875, 0.653591628637153920777791427099145948886871337890625), Point(0.8951223728408710389459201905992813408374786376953125, 0.765701835477256675943635855219326913356781005859375, 0.1685559167716998985042664571665227413177490234375), Point(0.2929938750714315975898216493078507483005523681640625, 0.68638357206357891726611342164687812328338623046875, 0.56959281126804217620929193799383938312530517578125), Point(0.251715893805585455567097596940584480762481689453125, 0.6080095240546536938808230843278579413890838623046875, 0.3651167418013463450421340894536115229129791259765625), Point(0.9989209575815696240397301153279840946197509765625, 0.0468343879383452676989918472827412188053131103515625, 0.9307568407922357511807831542682833969593048095703125), Point(0.7346093221040284060308067637379281222820281982421875, 0.3682310570556255324703442965983413159847259521484375, 0.105568123732070251463710519601590931415557861328125)])"
      ]
     },
     "execution_count": 4,
     "metadata": {},
     "output_type": "execute_result"
    }
   ],
   "source": [
    "P = PolygonalChain(6)"
   ]
  },
  {
   "cell_type": "code",
   "execution_count": 5,
   "metadata": {},
   "outputs": [
    {
     "data": {
      "application/vnd.plotly.v1+json": {
       "data": [
        {
         "colorbar": {
          "title": {
           "text": ""
          }
         },
         "legendgroup": "y1",
         "marker": {
          "color": "rgba(0, 0, 4, 1.000)",
          "line": {
           "color": "rgba(0, 0, 0, 1)",
           "width": 1
          },
          "size": 6,
          "symbol": "circle"
         },
         "mode": "markers",
         "name": "y1",
         "scene": "scene",
         "showlegend": true,
         "type": "scatter3d",
         "x": [
          0.07298082695090158
         ],
         "xaxis": "x",
         "y": [
          0.22357742915219592
         ],
         "yaxis": "y",
         "z": [
          0.6535916286371539
         ],
         "zaxis": "z",
         "zmax": 6,
         "zmin": 1
        },
        {
         "colorbar": {
          "title": {
           "text": ""
          }
         },
         "legendgroup": "y1",
         "marker": {
          "color": "rgba(66, 10, 104, 1.000)",
          "line": {
           "color": "rgba(0, 0, 0, 1)",
           "width": 1
          },
          "size": 6,
          "symbol": "circle"
         },
         "mode": "markers",
         "name": "y1",
         "scene": "scene",
         "showlegend": false,
         "type": "scatter3d",
         "x": [
          0.895122372840871
         ],
         "xaxis": "x",
         "y": [
          0.7657018354772567
         ],
         "yaxis": "y",
         "z": [
          0.1685559167716999
         ],
         "zaxis": "z",
         "zmax": 6,
         "zmin": 1
        },
        {
         "colorbar": {
          "title": {
           "text": ""
          }
         },
         "legendgroup": "y1",
         "marker": {
          "color": "rgba(147, 38, 103, 1.000)",
          "line": {
           "color": "rgba(0, 0, 0, 1)",
           "width": 1
          },
          "size": 6,
          "symbol": "circle"
         },
         "mode": "markers",
         "name": "y1",
         "scene": "scene",
         "showlegend": false,
         "type": "scatter3d",
         "x": [
          0.2929938750714316
         ],
         "xaxis": "x",
         "y": [
          0.6863835720635789
         ],
         "yaxis": "y",
         "z": [
          0.5695928112680422
         ],
         "zaxis": "z",
         "zmax": 6,
         "zmin": 1
        },
        {
         "colorbar": {
          "title": {
           "text": ""
          }
         },
         "legendgroup": "y1",
         "marker": {
          "color": "rgba(221, 81, 58, 1.000)",
          "line": {
           "color": "rgba(0, 0, 0, 1)",
           "width": 1
          },
          "size": 6,
          "symbol": "circle"
         },
         "mode": "markers",
         "name": "y1",
         "scene": "scene",
         "showlegend": false,
         "type": "scatter3d",
         "x": [
          0.25171589380558546
         ],
         "xaxis": "x",
         "y": [
          0.6080095240546537
         ],
         "yaxis": "y",
         "z": [
          0.36511674180134635
         ],
         "zaxis": "z",
         "zmax": 6,
         "zmin": 1
        },
        {
         "colorbar": {
          "title": {
           "text": ""
          }
         },
         "legendgroup": "y1",
         "marker": {
          "color": "rgba(252, 165, 10, 1.000)",
          "line": {
           "color": "rgba(0, 0, 0, 1)",
           "width": 1
          },
          "size": 6,
          "symbol": "circle"
         },
         "mode": "markers",
         "name": "y1",
         "scene": "scene",
         "showlegend": false,
         "type": "scatter3d",
         "x": [
          0.9989209575815696
         ],
         "xaxis": "x",
         "y": [
          0.04683438793834527
         ],
         "yaxis": "y",
         "z": [
          0.9307568407922358
         ],
         "zaxis": "z",
         "zmax": 6,
         "zmin": 1
        },
        {
         "colorbar": {
          "title": {
           "text": ""
          }
         },
         "legendgroup": "y1",
         "marker": {
          "color": "rgba(252, 255, 164, 1.000)",
          "line": {
           "color": "rgba(0, 0, 0, 1)",
           "width": 1
          },
          "size": 6,
          "symbol": "circle"
         },
         "mode": "markers",
         "name": "y1",
         "scene": "scene",
         "showlegend": false,
         "type": "scatter3d",
         "x": [
          0.7346093221040284
         ],
         "xaxis": "x",
         "y": [
          0.36823105705562553
         ],
         "yaxis": "y",
         "z": [
          0.10556812373207025
         ],
         "zaxis": "z",
         "zmax": 6,
         "zmin": 1
        },
        {
         "colorbar": {
          "title": {
           "text": ""
          }
         },
         "hoverinfo": "none",
         "marker": {
          "cmax": 6,
          "cmin": 1,
          "color": [
           0.5
          ],
          "colorscale": [
           [
            0,
            "rgba(0, 0, 4, 1.000)"
           ],
           [
            0.00392156862745098,
            "rgba(1, 0, 5, 1.000)"
           ],
           [
            0.00784313725490196,
            "rgba(1, 1, 6, 1.000)"
           ],
           [
            0.011764705882352941,
            "rgba(1, 1, 8, 1.000)"
           ],
           [
            0.01568627450980392,
            "rgba(2, 1, 10, 1.000)"
           ],
           [
            0.0196078431372549,
            "rgba(2, 2, 12, 1.000)"
           ],
           [
            0.023529411764705882,
            "rgba(2, 2, 14, 1.000)"
           ],
           [
            0.027450980392156862,
            "rgba(3, 2, 16, 1.000)"
           ],
           [
            0.03137254901960784,
            "rgba(4, 3, 18, 1.000)"
           ],
           [
            0.03529411764705882,
            "rgba(4, 3, 20, 1.000)"
           ],
           [
            0.0392156862745098,
            "rgba(5, 4, 23, 1.000)"
           ],
           [
            0.043137254901960784,
            "rgba(6, 4, 25, 1.000)"
           ],
           [
            0.047058823529411764,
            "rgba(7, 5, 27, 1.000)"
           ],
           [
            0.050980392156862744,
            "rgba(8, 5, 29, 1.000)"
           ],
           [
            0.054901960784313725,
            "rgba(9, 6, 31, 1.000)"
           ],
           [
            0.058823529411764705,
            "rgba(10, 7, 34, 1.000)"
           ],
           [
            0.06274509803921569,
            "rgba(11, 7, 36, 1.000)"
           ],
           [
            0.06666666666666667,
            "rgba(12, 8, 38, 1.000)"
           ],
           [
            0.07058823529411765,
            "rgba(13, 8, 41, 1.000)"
           ],
           [
            0.07450980392156863,
            "rgba(14, 9, 43, 1.000)"
           ],
           [
            0.0784313725490196,
            "rgba(16, 9, 45, 1.000)"
           ],
           [
            0.08235294117647059,
            "rgba(17, 10, 48, 1.000)"
           ],
           [
            0.08627450980392157,
            "rgba(18, 10, 50, 1.000)"
           ],
           [
            0.09019607843137255,
            "rgba(20, 11, 52, 1.000)"
           ],
           [
            0.09411764705882353,
            "rgba(21, 11, 55, 1.000)"
           ],
           [
            0.09803921568627451,
            "rgba(22, 11, 57, 1.000)"
           ],
           [
            0.10196078431372549,
            "rgba(24, 12, 60, 1.000)"
           ],
           [
            0.10588235294117647,
            "rgba(25, 12, 62, 1.000)"
           ],
           [
            0.10980392156862745,
            "rgba(27, 12, 65, 1.000)"
           ],
           [
            0.11372549019607843,
            "rgba(28, 12, 67, 1.000)"
           ],
           [
            0.11764705882352941,
            "rgba(30, 12, 69, 1.000)"
           ],
           [
            0.12156862745098039,
            "rgba(31, 12, 72, 1.000)"
           ],
           [
            0.12549019607843137,
            "rgba(33, 12, 74, 1.000)"
           ],
           [
            0.12941176470588237,
            "rgba(35, 12, 76, 1.000)"
           ],
           [
            0.13333333333333333,
            "rgba(36, 12, 79, 1.000)"
           ],
           [
            0.13725490196078433,
            "rgba(38, 12, 81, 1.000)"
           ],
           [
            0.1411764705882353,
            "rgba(40, 11, 83, 1.000)"
           ],
           [
            0.1450980392156863,
            "rgba(41, 11, 85, 1.000)"
           ],
           [
            0.14901960784313725,
            "rgba(43, 11, 87, 1.000)"
           ],
           [
            0.15294117647058825,
            "rgba(45, 11, 89, 1.000)"
           ],
           [
            0.1568627450980392,
            "rgba(47, 10, 91, 1.000)"
           ],
           [
            0.1607843137254902,
            "rgba(49, 10, 92, 1.000)"
           ],
           [
            0.16470588235294117,
            "rgba(50, 10, 94, 1.000)"
           ],
           [
            0.16862745098039217,
            "rgba(52, 10, 95, 1.000)"
           ],
           [
            0.17254901960784313,
            "rgba(54, 9, 97, 1.000)"
           ],
           [
            0.17647058823529413,
            "rgba(56, 9, 98, 1.000)"
           ],
           [
            0.1803921568627451,
            "rgba(57, 9, 99, 1.000)"
           ],
           [
            0.1843137254901961,
            "rgba(59, 9, 100, 1.000)"
           ],
           [
            0.18823529411764706,
            "rgba(61, 9, 101, 1.000)"
           ],
           [
            0.19215686274509805,
            "rgba(62, 9, 102, 1.000)"
           ],
           [
            0.19607843137254902,
            "rgba(64, 10, 103, 1.000)"
           ],
           [
            0.2,
            "rgba(66, 10, 104, 1.000)"
           ],
           [
            0.20392156862745098,
            "rgba(68, 10, 104, 1.000)"
           ],
           [
            0.20784313725490197,
            "rgba(69, 10, 105, 1.000)"
           ],
           [
            0.21176470588235294,
            "rgba(71, 11, 106, 1.000)"
           ],
           [
            0.21568627450980393,
            "rgba(73, 11, 106, 1.000)"
           ],
           [
            0.2196078431372549,
            "rgba(74, 12, 107, 1.000)"
           ],
           [
            0.2235294117647059,
            "rgba(76, 12, 107, 1.000)"
           ],
           [
            0.22745098039215686,
            "rgba(77, 13, 108, 1.000)"
           ],
           [
            0.23137254901960785,
            "rgba(79, 13, 108, 1.000)"
           ],
           [
            0.23529411764705882,
            "rgba(81, 14, 108, 1.000)"
           ],
           [
            0.23921568627450981,
            "rgba(82, 14, 109, 1.000)"
           ],
           [
            0.24313725490196078,
            "rgba(84, 15, 109, 1.000)"
           ],
           [
            0.24705882352941178,
            "rgba(85, 15, 109, 1.000)"
           ],
           [
            0.25098039215686274,
            "rgba(87, 16, 110, 1.000)"
           ],
           [
            0.2549019607843137,
            "rgba(89, 16, 110, 1.000)"
           ],
           [
            0.25882352941176473,
            "rgba(90, 17, 110, 1.000)"
           ],
           [
            0.2627450980392157,
            "rgba(92, 18, 110, 1.000)"
           ],
           [
            0.26666666666666666,
            "rgba(93, 18, 110, 1.000)"
           ],
           [
            0.27058823529411763,
            "rgba(95, 19, 110, 1.000)"
           ],
           [
            0.27450980392156865,
            "rgba(97, 19, 110, 1.000)"
           ],
           [
            0.2784313725490196,
            "rgba(98, 20, 110, 1.000)"
           ],
           [
            0.2823529411764706,
            "rgba(100, 21, 110, 1.000)"
           ],
           [
            0.28627450980392155,
            "rgba(101, 21, 110, 1.000)"
           ],
           [
            0.2901960784313726,
            "rgba(103, 22, 110, 1.000)"
           ],
           [
            0.29411764705882354,
            "rgba(105, 22, 110, 1.000)"
           ],
           [
            0.2980392156862745,
            "rgba(106, 23, 110, 1.000)"
           ],
           [
            0.30196078431372547,
            "rgba(108, 24, 110, 1.000)"
           ],
           [
            0.3058823529411765,
            "rgba(109, 24, 110, 1.000)"
           ],
           [
            0.30980392156862746,
            "rgba(111, 25, 110, 1.000)"
           ],
           [
            0.3137254901960784,
            "rgba(113, 25, 110, 1.000)"
           ],
           [
            0.3176470588235294,
            "rgba(114, 26, 110, 1.000)"
           ],
           [
            0.3215686274509804,
            "rgba(116, 26, 110, 1.000)"
           ],
           [
            0.3254901960784314,
            "rgba(117, 27, 110, 1.000)"
           ],
           [
            0.32941176470588235,
            "rgba(119, 28, 109, 1.000)"
           ],
           [
            0.3333333333333333,
            "rgba(120, 28, 109, 1.000)"
           ],
           [
            0.33725490196078434,
            "rgba(122, 29, 109, 1.000)"
           ],
           [
            0.3411764705882353,
            "rgba(124, 29, 109, 1.000)"
           ],
           [
            0.34509803921568627,
            "rgba(125, 30, 109, 1.000)"
           ],
           [
            0.34901960784313724,
            "rgba(127, 30, 108, 1.000)"
           ],
           [
            0.35294117647058826,
            "rgba(128, 31, 108, 1.000)"
           ],
           [
            0.3568627450980392,
            "rgba(130, 32, 108, 1.000)"
           ],
           [
            0.3607843137254902,
            "rgba(132, 32, 107, 1.000)"
           ],
           [
            0.36470588235294116,
            "rgba(133, 33, 107, 1.000)"
           ],
           [
            0.3686274509803922,
            "rgba(135, 33, 107, 1.000)"
           ],
           [
            0.37254901960784315,
            "rgba(136, 34, 106, 1.000)"
           ],
           [
            0.3764705882352941,
            "rgba(138, 34, 106, 1.000)"
           ],
           [
            0.3803921568627451,
            "rgba(140, 35, 105, 1.000)"
           ],
           [
            0.3843137254901961,
            "rgba(141, 35, 105, 1.000)"
           ],
           [
            0.38823529411764707,
            "rgba(143, 36, 105, 1.000)"
           ],
           [
            0.39215686274509803,
            "rgba(144, 37, 104, 1.000)"
           ],
           [
            0.396078431372549,
            "rgba(146, 37, 104, 1.000)"
           ],
           [
            0.4,
            "rgba(147, 38, 103, 1.000)"
           ],
           [
            0.403921568627451,
            "rgba(149, 38, 103, 1.000)"
           ],
           [
            0.40784313725490196,
            "rgba(151, 39, 102, 1.000)"
           ],
           [
            0.4117647058823529,
            "rgba(152, 39, 102, 1.000)"
           ],
           [
            0.41568627450980394,
            "rgba(154, 40, 101, 1.000)"
           ],
           [
            0.4196078431372549,
            "rgba(155, 41, 100, 1.000)"
           ],
           [
            0.4235294117647059,
            "rgba(157, 41, 100, 1.000)"
           ],
           [
            0.42745098039215684,
            "rgba(159, 42, 99, 1.000)"
           ],
           [
            0.43137254901960786,
            "rgba(160, 42, 99, 1.000)"
           ],
           [
            0.43529411764705883,
            "rgba(162, 43, 98, 1.000)"
           ],
           [
            0.4392156862745098,
            "rgba(163, 44, 97, 1.000)"
           ],
           [
            0.44313725490196076,
            "rgba(165, 44, 96, 1.000)"
           ],
           [
            0.4470588235294118,
            "rgba(166, 45, 96, 1.000)"
           ],
           [
            0.45098039215686275,
            "rgba(168, 46, 95, 1.000)"
           ],
           [
            0.4549019607843137,
            "rgba(169, 46, 94, 1.000)"
           ],
           [
            0.4588235294117647,
            "rgba(171, 47, 94, 1.000)"
           ],
           [
            0.4627450980392157,
            "rgba(173, 48, 93, 1.000)"
           ],
           [
            0.4666666666666667,
            "rgba(174, 48, 92, 1.000)"
           ],
           [
            0.47058823529411764,
            "rgba(176, 49, 91, 1.000)"
           ],
           [
            0.4745098039215686,
            "rgba(177, 50, 90, 1.000)"
           ],
           [
            0.47843137254901963,
            "rgba(179, 50, 90, 1.000)"
           ],
           [
            0.4823529411764706,
            "rgba(180, 51, 89, 1.000)"
           ],
           [
            0.48627450980392156,
            "rgba(182, 52, 88, 1.000)"
           ],
           [
            0.49019607843137253,
            "rgba(183, 53, 87, 1.000)"
           ],
           [
            0.49411764705882355,
            "rgba(185, 53, 86, 1.000)"
           ],
           [
            0.4980392156862745,
            "rgba(186, 54, 85, 1.000)"
           ],
           [
            0.5019607843137255,
            "rgba(188, 55, 84, 1.000)"
           ],
           [
            0.5058823529411764,
            "rgba(189, 56, 83, 1.000)"
           ],
           [
            0.5098039215686274,
            "rgba(191, 57, 82, 1.000)"
           ],
           [
            0.5137254901960784,
            "rgba(192, 58, 81, 1.000)"
           ],
           [
            0.5176470588235295,
            "rgba(193, 58, 80, 1.000)"
           ],
           [
            0.5215686274509804,
            "rgba(195, 59, 79, 1.000)"
           ],
           [
            0.5254901960784314,
            "rgba(196, 60, 78, 1.000)"
           ],
           [
            0.5294117647058824,
            "rgba(198, 61, 77, 1.000)"
           ],
           [
            0.5333333333333333,
            "rgba(199, 62, 76, 1.000)"
           ],
           [
            0.5372549019607843,
            "rgba(200, 63, 75, 1.000)"
           ],
           [
            0.5411764705882353,
            "rgba(202, 64, 74, 1.000)"
           ],
           [
            0.5450980392156862,
            "rgba(203, 65, 73, 1.000)"
           ],
           [
            0.5490196078431373,
            "rgba(204, 66, 72, 1.000)"
           ],
           [
            0.5529411764705883,
            "rgba(206, 67, 71, 1.000)"
           ],
           [
            0.5568627450980392,
            "rgba(207, 68, 70, 1.000)"
           ],
           [
            0.5607843137254902,
            "rgba(208, 69, 69, 1.000)"
           ],
           [
            0.5647058823529412,
            "rgba(210, 70, 68, 1.000)"
           ],
           [
            0.5686274509803921,
            "rgba(211, 71, 67, 1.000)"
           ],
           [
            0.5725490196078431,
            "rgba(212, 72, 66, 1.000)"
           ],
           [
            0.5764705882352941,
            "rgba(213, 74, 65, 1.000)"
           ],
           [
            0.5803921568627451,
            "rgba(215, 75, 63, 1.000)"
           ],
           [
            0.5843137254901961,
            "rgba(216, 76, 62, 1.000)"
           ],
           [
            0.5882352941176471,
            "rgba(217, 77, 61, 1.000)"
           ],
           [
            0.592156862745098,
            "rgba(218, 78, 60, 1.000)"
           ],
           [
            0.596078431372549,
            "rgba(219, 80, 59, 1.000)"
           ],
           [
            0.6,
            "rgba(221, 81, 58, 1.000)"
           ],
           [
            0.6039215686274509,
            "rgba(222, 82, 56, 1.000)"
           ],
           [
            0.6078431372549019,
            "rgba(223, 83, 55, 1.000)"
           ],
           [
            0.611764705882353,
            "rgba(224, 85, 54, 1.000)"
           ],
           [
            0.615686274509804,
            "rgba(225, 86, 53, 1.000)"
           ],
           [
            0.6196078431372549,
            "rgba(226, 87, 52, 1.000)"
           ],
           [
            0.6235294117647059,
            "rgba(227, 89, 51, 1.000)"
           ],
           [
            0.6274509803921569,
            "rgba(228, 90, 49, 1.000)"
           ],
           [
            0.6313725490196078,
            "rgba(229, 92, 48, 1.000)"
           ],
           [
            0.6352941176470588,
            "rgba(230, 93, 47, 1.000)"
           ],
           [
            0.6392156862745098,
            "rgba(231, 94, 46, 1.000)"
           ],
           [
            0.6431372549019608,
            "rgba(232, 96, 45, 1.000)"
           ],
           [
            0.6470588235294118,
            "rgba(233, 97, 43, 1.000)"
           ],
           [
            0.6509803921568628,
            "rgba(234, 99, 42, 1.000)"
           ],
           [
            0.6549019607843137,
            "rgba(235, 100, 41, 1.000)"
           ],
           [
            0.6588235294117647,
            "rgba(235, 102, 40, 1.000)"
           ],
           [
            0.6627450980392157,
            "rgba(236, 103, 38, 1.000)"
           ],
           [
            0.6666666666666666,
            "rgba(237, 105, 37, 1.000)"
           ],
           [
            0.6705882352941176,
            "rgba(238, 106, 36, 1.000)"
           ],
           [
            0.6745098039215687,
            "rgba(239, 108, 35, 1.000)"
           ],
           [
            0.6784313725490196,
            "rgba(239, 110, 33, 1.000)"
           ],
           [
            0.6823529411764706,
            "rgba(240, 111, 32, 1.000)"
           ],
           [
            0.6862745098039216,
            "rgba(241, 113, 31, 1.000)"
           ],
           [
            0.6901960784313725,
            "rgba(241, 115, 29, 1.000)"
           ],
           [
            0.6941176470588235,
            "rgba(242, 116, 28, 1.000)"
           ],
           [
            0.6980392156862745,
            "rgba(243, 118, 27, 1.000)"
           ],
           [
            0.7019607843137254,
            "rgba(243, 120, 25, 1.000)"
           ],
           [
            0.7058823529411765,
            "rgba(244, 121, 24, 1.000)"
           ],
           [
            0.7098039215686275,
            "rgba(245, 123, 23, 1.000)"
           ],
           [
            0.7137254901960784,
            "rgba(245, 125, 21, 1.000)"
           ],
           [
            0.7176470588235294,
            "rgba(246, 126, 20, 1.000)"
           ],
           [
            0.7215686274509804,
            "rgba(246, 128, 19, 1.000)"
           ],
           [
            0.7254901960784313,
            "rgba(247, 130, 18, 1.000)"
           ],
           [
            0.7294117647058823,
            "rgba(247, 132, 16, 1.000)"
           ],
           [
            0.7333333333333333,
            "rgba(248, 133, 15, 1.000)"
           ],
           [
            0.7372549019607844,
            "rgba(248, 135, 14, 1.000)"
           ],
           [
            0.7411764705882353,
            "rgba(248, 137, 12, 1.000)"
           ],
           [
            0.7450980392156863,
            "rgba(249, 139, 11, 1.000)"
           ],
           [
            0.7490196078431373,
            "rgba(249, 140, 10, 1.000)"
           ],
           [
            0.7529411764705882,
            "rgba(249, 142, 9, 1.000)"
           ],
           [
            0.7568627450980392,
            "rgba(250, 144, 8, 1.000)"
           ],
           [
            0.7607843137254902,
            "rgba(250, 146, 7, 1.000)"
           ],
           [
            0.7647058823529411,
            "rgba(250, 148, 7, 1.000)"
           ],
           [
            0.7686274509803922,
            "rgba(251, 150, 6, 1.000)"
           ],
           [
            0.7725490196078432,
            "rgba(251, 151, 6, 1.000)"
           ],
           [
            0.7764705882352941,
            "rgba(251, 153, 6, 1.000)"
           ],
           [
            0.7803921568627451,
            "rgba(251, 155, 6, 1.000)"
           ],
           [
            0.7843137254901961,
            "rgba(251, 157, 7, 1.000)"
           ],
           [
            0.788235294117647,
            "rgba(252, 159, 7, 1.000)"
           ],
           [
            0.792156862745098,
            "rgba(252, 161, 8, 1.000)"
           ],
           [
            0.796078431372549,
            "rgba(252, 163, 9, 1.000)"
           ],
           [
            0.8,
            "rgba(252, 165, 10, 1.000)"
           ],
           [
            0.803921568627451,
            "rgba(252, 166, 12, 1.000)"
           ],
           [
            0.807843137254902,
            "rgba(252, 168, 13, 1.000)"
           ],
           [
            0.8117647058823529,
            "rgba(252, 170, 15, 1.000)"
           ],
           [
            0.8156862745098039,
            "rgba(252, 172, 17, 1.000)"
           ],
           [
            0.8196078431372549,
            "rgba(252, 174, 18, 1.000)"
           ],
           [
            0.8235294117647058,
            "rgba(252, 176, 20, 1.000)"
           ],
           [
            0.8274509803921568,
            "rgba(252, 178, 22, 1.000)"
           ],
           [
            0.8313725490196079,
            "rgba(252, 180, 24, 1.000)"
           ],
           [
            0.8352941176470589,
            "rgba(251, 182, 26, 1.000)"
           ],
           [
            0.8392156862745098,
            "rgba(251, 184, 29, 1.000)"
           ],
           [
            0.8431372549019608,
            "rgba(251, 186, 31, 1.000)"
           ],
           [
            0.8470588235294118,
            "rgba(251, 188, 33, 1.000)"
           ],
           [
            0.8509803921568627,
            "rgba(251, 190, 35, 1.000)"
           ],
           [
            0.8549019607843137,
            "rgba(250, 192, 38, 1.000)"
           ],
           [
            0.8588235294117647,
            "rgba(250, 194, 40, 1.000)"
           ],
           [
            0.8627450980392157,
            "rgba(250, 196, 42, 1.000)"
           ],
           [
            0.8666666666666667,
            "rgba(250, 198, 45, 1.000)"
           ],
           [
            0.8705882352941177,
            "rgba(249, 199, 47, 1.000)"
           ],
           [
            0.8745098039215686,
            "rgba(249, 201, 50, 1.000)"
           ],
           [
            0.8784313725490196,
            "rgba(249, 203, 53, 1.000)"
           ],
           [
            0.8823529411764706,
            "rgba(248, 205, 55, 1.000)"
           ],
           [
            0.8862745098039215,
            "rgba(248, 207, 58, 1.000)"
           ],
           [
            0.8901960784313725,
            "rgba(247, 209, 61, 1.000)"
           ],
           [
            0.8941176470588236,
            "rgba(247, 211, 64, 1.000)"
           ],
           [
            0.8980392156862745,
            "rgba(246, 213, 67, 1.000)"
           ],
           [
            0.9019607843137255,
            "rgba(246, 215, 70, 1.000)"
           ],
           [
            0.9058823529411765,
            "rgba(245, 217, 73, 1.000)"
           ],
           [
            0.9098039215686274,
            "rgba(245, 219, 76, 1.000)"
           ],
           [
            0.9137254901960784,
            "rgba(244, 221, 79, 1.000)"
           ],
           [
            0.9176470588235294,
            "rgba(244, 223, 83, 1.000)"
           ],
           [
            0.9215686274509803,
            "rgba(244, 225, 86, 1.000)"
           ],
           [
            0.9254901960784314,
            "rgba(243, 227, 90, 1.000)"
           ],
           [
            0.9294117647058824,
            "rgba(243, 229, 93, 1.000)"
           ],
           [
            0.9333333333333333,
            "rgba(242, 230, 97, 1.000)"
           ],
           [
            0.9372549019607843,
            "rgba(242, 232, 101, 1.000)"
           ],
           [
            0.9411764705882353,
            "rgba(242, 234, 105, 1.000)"
           ],
           [
            0.9450980392156862,
            "rgba(241, 236, 109, 1.000)"
           ],
           [
            0.9490196078431372,
            "rgba(241, 237, 113, 1.000)"
           ],
           [
            0.9529411764705882,
            "rgba(241, 239, 117, 1.000)"
           ],
           [
            0.9568627450980393,
            "rgba(241, 241, 121, 1.000)"
           ],
           [
            0.9607843137254902,
            "rgba(242, 242, 125, 1.000)"
           ],
           [
            0.9647058823529412,
            "rgba(242, 244, 130, 1.000)"
           ],
           [
            0.9686274509803922,
            "rgba(243, 245, 134, 1.000)"
           ],
           [
            0.9725490196078431,
            "rgba(243, 246, 138, 1.000)"
           ],
           [
            0.9764705882352941,
            "rgba(244, 248, 142, 1.000)"
           ],
           [
            0.9803921568627451,
            "rgba(245, 249, 146, 1.000)"
           ],
           [
            0.984313725490196,
            "rgba(246, 250, 150, 1.000)"
           ],
           [
            0.9882352941176471,
            "rgba(248, 251, 154, 1.000)"
           ],
           [
            0.9921568627450981,
            "rgba(249, 252, 157, 1.000)"
           ],
           [
            0.996078431372549,
            "rgba(250, 253, 161, 1.000)"
           ],
           [
            1,
            "rgba(252, 255, 164, 1.000)"
           ]
          ],
          "opacity": 1e-10,
          "showscale": true,
          "size": 1e-10
         },
         "mode": "markers",
         "name": "y1",
         "scene": "scene",
         "showlegend": false,
         "type": "scatter3d",
         "x": [
          0.07298082695090158
         ],
         "xaxis": "x",
         "y": [
          0.22357742915219592
         ],
         "yaxis": "y",
         "z": [
          0.6535916286371539
         ],
         "zaxis": "z",
         "zmax": 6,
         "zmin": 1
        },
        {
         "colorbar": {
          "title": {
           "text": ""
          }
         },
         "legendgroup": "y2",
         "line": {
          "color": "rgba(0, 0, 0, 1)",
          "dash": "solid",
          "shape": "linear",
          "width": 2
         },
         "mode": "lines",
         "name": "y2",
         "scene": "scene",
         "showlegend": true,
         "type": "scatter3d",
         "x": [
          0.07298082695090158,
          0.895122372840871,
          0.2929938750714316,
          0.25171589380558546,
          0.9989209575815696,
          0.7346093221040284
         ],
         "xaxis": "x",
         "y": [
          0.22357742915219592,
          0.7657018354772567,
          0.6863835720635789,
          0.6080095240546537,
          0.04683438793834527,
          0.36823105705562553
         ],
         "yaxis": "y",
         "z": [
          0.6535916286371539,
          0.1685559167716999,
          0.5695928112680422,
          0.36511674180134635,
          0.9307568407922358,
          0.10556812373207025
         ],
         "zaxis": "z",
         "zmax": 6,
         "zmin": 1
        }
       ],
       "layout": {
        "annotations": [],
        "height": 400,
        "legend": {
         "bgcolor": "rgba(255, 255, 255, 1.000)",
         "bordercolor": "rgba(0, 0, 0, 1)",
         "borderwidth": 1,
         "font": {
          "color": "rgba(0, 0, 0, 1)",
          "family": "sans-serif",
          "size": 11
         },
         "title": {
          "font": {
           "color": "rgba(0, 0, 0, 1)",
           "family": "sans-serif",
           "size": 15
          },
          "text": ""
         },
         "tracegroupgap": 0,
         "traceorder": "normal",
         "x": 1,
         "xanchor": "auto",
         "y": 1,
         "yanchor": "auto"
        },
        "margin": {
         "b": 20,
         "l": 0,
         "r": 0,
         "t": 20
        },
        "paper_bgcolor": "rgba(255, 255, 255, 1.000)",
        "plot_bgcolor": "rgba(255, 255, 255, 1.000)",
        "scene": {
         "aspectmode": "auto",
         "aspectratio": {
          "x": 1.1306319096304687,
          "y": 0.8777829668409668,
          "z": 1.0076080127770088
         },
         "camera": {
          "center": {
           "x": 0,
           "y": 0,
           "z": 0
          },
          "eye": {
           "x": 1.1258330249197697,
           "y": -1.9499999999999997,
           "z": 1.3
          },
          "projection": {
           "type": "perspective"
          },
          "up": {
           "x": 0,
           "y": 0,
           "z": 1
          }
         },
         "domain": {
          "x": [
           0.07646908719743364,
           0.9934383202099737
          ],
          "y": [
           0.07581474190726165,
           0.9901574803149606
          ]
         },
         "xaxis": {
          "gridcolor": "rgba(0, 0, 0, 0.1)",
          "gridwidth": 0.5,
          "linecolor": "rgba(0, 0, 0, 1)",
          "mirror": false,
          "range": [
           0.04520262303198154,
           1.0266991615004897
          ],
          "showgrid": true,
          "showline": true,
          "showticklabels": true,
          "tickangle": 0,
          "tickcolor": "rgb(0, 0, 0)",
          "tickfont": {
           "color": "rgba(0, 0, 0, 1)",
           "family": "sans-serif",
           "size": 11
          },
          "tickmode": "array",
          "ticks": "inside",
          "ticktext": [
           "0.2",
           "0.4",
           "0.6",
           "0.8",
           "1.0"
          ],
          "tickvals": [
           0.2,
           0.4,
           0.6000000000000001,
           0.8,
           1
          ],
          "title": {
           "font": {
            "color": "rgba(0, 0, 0, 1)",
            "family": "sans-serif",
            "size": 15
           },
           "text": "x"
          },
          "type": "linear",
          "visible": true,
          "zeroline": false,
          "zerolinecolor": "rgba(0, 0, 0, 1)"
         },
         "yaxis": {
          "gridcolor": "rgba(0, 0, 0, 0.1)",
          "gridwidth": 0.5,
          "linecolor": "rgba(0, 0, 0, 1)",
          "mirror": false,
          "range": [
           0.025268364512177927,
           0.787267858903424
          ],
          "showgrid": true,
          "showline": true,
          "showticklabels": true,
          "tickangle": 0,
          "tickcolor": "rgb(0, 0, 0)",
          "tickfont": {
           "color": "rgba(0, 0, 0, 1)",
           "family": "sans-serif",
           "size": 11
          },
          "tickmode": "array",
          "ticks": "inside",
          "ticktext": [
           "0.1",
           "0.2",
           "0.3",
           "0.4",
           "0.5",
           "0.6",
           "0.7"
          ],
          "tickvals": [
           0.1,
           0.2,
           0.30000000000000004,
           0.4,
           0.5,
           0.6000000000000001,
           0.7000000000000001
          ],
          "title": {
           "font": {
            "color": "rgba(0, 0, 0, 1)",
            "family": "sans-serif",
            "size": 15
           },
           "text": "y"
          },
          "type": "linear",
          "visible": true,
          "zeroline": false,
          "zerolinecolor": "rgba(0, 0, 0, 1)"
         },
         "zaxis": {
          "gridcolor": "rgba(0, 0, 0, 0.1)",
          "gridwidth": 0.5,
          "linecolor": "rgba(0, 0, 0, 1)",
          "mirror": false,
          "range": [
           0.08081246222026528,
           0.9555125023040407
          ],
          "showgrid": true,
          "showline": true,
          "showticklabels": true,
          "tickangle": 0,
          "tickcolor": "rgb(0, 0, 0)",
          "tickfont": {
           "color": "rgba(0, 0, 0, 1)",
           "family": "sans-serif",
           "size": 11
          },
          "tickmode": "array",
          "ticks": "inside",
          "ticktext": [
           "0.2",
           "0.4",
           "0.6",
           "0.8"
          ],
          "tickvals": [
           0.2,
           0.4,
           0.6000000000000001,
           0.8
          ],
          "title": {
           "font": {
            "color": "rgba(0, 0, 0, 1)",
            "family": "sans-serif",
            "size": 15
           },
           "text": "z"
          },
          "type": "linear",
          "visible": true,
          "zeroline": false,
          "zerolinecolor": "rgba(0, 0, 0, 1)"
         }
        },
        "showlegend": true,
        "width": 600
       }
      },
      "image/png": "[encoded data removed]",
      "text/html": [
       "    <div id=\"33fbc8ca-3228-4017-b7df-63dc56eb989a\" style=\"width:600px;height:400px;\"></div>\n",
       "    <script>\n",
       "        requirejs.config({\n",
       "        paths: {\n",
       "            Plotly: 'https://cdn.plot.ly/plotly-1.57.1.min'\n",
       "        }\n",
       "    });\n",
       "    require(['Plotly'], function (Plotly) {\n",
       "\n",
       "        var PLOT = document.getElementById('33fbc8ca-3228-4017-b7df-63dc56eb989a');\n",
       "    Plotly.plot(PLOT, [\n",
       "    {\n",
       "        \"xaxis\": \"x\",\n",
       "        \"colorbar\": {\n",
       "            \"title\": \"\"\n",
       "        },\n",
       "        \"yaxis\": \"y\",\n",
       "        \"zaxis\": \"z\",\n",
       "        \"x\": [\n",
       "            0.07298082695090158\n",
       "        ],\n",
       "        \"showlegend\": true,\n",
       "        \"mode\": \"markers\",\n",
       "        \"name\": \"y1\",\n",
       "        \"zmin\": 1.0,\n",
       "        \"legendgroup\": \"y1\",\n",
       "        \"z\": [\n",
       "            0.6535916286371539\n",
       "        ],\n",
       "        \"marker\": {\n",
       "            \"symbol\": \"circle\",\n",
       "            \"color\": \"rgba(0, 0, 4, 1.000)\",\n",
       "            \"line\": {\n",
       "                \"color\": \"rgba(0, 0, 0, 1.000)\",\n",
       "                \"width\": 1\n",
       "            },\n",
       "            \"size\": 6\n",
       "        },\n",
       "        \"zmax\": 6.0,\n",
       "        \"y\": [\n",
       "            0.22357742915219592\n",
       "        ],\n",
       "        \"type\": \"scatter3d\",\n",
       "        \"scene\": \"scene\"\n",
       "    },\n",
       "    {\n",
       "        \"xaxis\": \"x\",\n",
       "        \"colorbar\": {\n",
       "            \"title\": \"\"\n",
       "        },\n",
       "        \"yaxis\": \"y\",\n",
       "        \"zaxis\": \"z\",\n",
       "        \"x\": [\n",
       "            0.895122372840871\n",
       "        ],\n",
       "        \"showlegend\": false,\n",
       "        \"mode\": \"markers\",\n",
       "        \"name\": \"y1\",\n",
       "        \"zmin\": 1.0,\n",
       "        \"legendgroup\": \"y1\",\n",
       "        \"z\": [\n",
       "            0.1685559167716999\n",
       "        ],\n",
       "        \"marker\": {\n",
       "            \"symbol\": \"circle\",\n",
       "            \"color\": \"rgba(66, 10, 104, 1.000)\",\n",
       "            \"line\": {\n",
       "                \"color\": \"rgba(0, 0, 0, 1.000)\",\n",
       "                \"width\": 1\n",
       "            },\n",
       "            \"size\": 6\n",
       "        },\n",
       "        \"zmax\": 6.0,\n",
       "        \"y\": [\n",
       "            0.7657018354772567\n",
       "        ],\n",
       "        \"type\": \"scatter3d\",\n",
       "        \"scene\": \"scene\"\n",
       "    },\n",
       "    {\n",
       "        \"xaxis\": \"x\",\n",
       "        \"colorbar\": {\n",
       "            \"title\": \"\"\n",
       "        },\n",
       "        \"yaxis\": \"y\",\n",
       "        \"zaxis\": \"z\",\n",
       "        \"x\": [\n",
       "            0.2929938750714316\n",
       "        ],\n",
       "        \"showlegend\": false,\n",
       "        \"mode\": \"markers\",\n",
       "        \"name\": \"y1\",\n",
       "        \"zmin\": 1.0,\n",
       "        \"legendgroup\": \"y1\",\n",
       "        \"z\": [\n",
       "            0.5695928112680422\n",
       "        ],\n",
       "        \"marker\": {\n",
       "            \"symbol\": \"circle\",\n",
       "            \"color\": \"rgba(147, 38, 103, 1.000)\",\n",
       "            \"line\": {\n",
       "                \"color\": \"rgba(0, 0, 0, 1.000)\",\n",
       "                \"width\": 1\n",
       "            },\n",
       "            \"size\": 6\n",
       "        },\n",
       "        \"zmax\": 6.0,\n",
       "        \"y\": [\n",
       "            0.6863835720635789\n",
       "        ],\n",
       "        \"type\": \"scatter3d\",\n",
       "        \"scene\": \"scene\"\n",
       "    },\n",
       "    {\n",
       "        \"xaxis\": \"x\",\n",
       "        \"colorbar\": {\n",
       "            \"title\": \"\"\n",
       "        },\n",
       "        \"yaxis\": \"y\",\n",
       "        \"zaxis\": \"z\",\n",
       "        \"x\": [\n",
       "            0.25171589380558546\n",
       "        ],\n",
       "        \"showlegend\": false,\n",
       "        \"mode\": \"markers\",\n",
       "        \"name\": \"y1\",\n",
       "        \"zmin\": 1.0,\n",
       "        \"legendgroup\": \"y1\",\n",
       "        \"z\": [\n",
       "            0.36511674180134635\n",
       "        ],\n",
       "        \"marker\": {\n",
       "            \"symbol\": \"circle\",\n",
       "            \"color\": \"rgba(221, 81, 58, 1.000)\",\n",
       "            \"line\": {\n",
       "                \"color\": \"rgba(0, 0, 0, 1.000)\",\n",
       "                \"width\": 1\n",
       "            },\n",
       "            \"size\": 6\n",
       "        },\n",
       "        \"zmax\": 6.0,\n",
       "        \"y\": [\n",
       "            0.6080095240546537\n",
       "        ],\n",
       "        \"type\": \"scatter3d\",\n",
       "        \"scene\": \"scene\"\n",
       "    },\n",
       "    {\n",
       "        \"xaxis\": \"x\",\n",
       "        \"colorbar\": {\n",
       "            \"title\": \"\"\n",
       "        },\n",
       "        \"yaxis\": \"y\",\n",
       "        \"zaxis\": \"z\",\n",
       "        \"x\": [\n",
       "            0.9989209575815696\n",
       "        ],\n",
       "        \"showlegend\": false,\n",
       "        \"mode\": \"markers\",\n",
       "        \"name\": \"y1\",\n",
       "        \"zmin\": 1.0,\n",
       "        \"legendgroup\": \"y1\",\n",
       "        \"z\": [\n",
       "            0.9307568407922358\n",
       "        ],\n",
       "        \"marker\": {\n",
       "            \"symbol\": \"circle\",\n",
       "            \"color\": \"rgba(252, 165, 10, 1.000)\",\n",
       "            \"line\": {\n",
       "                \"color\": \"rgba(0, 0, 0, 1.000)\",\n",
       "                \"width\": 1\n",
       "            },\n",
       "            \"size\": 6\n",
       "        },\n",
       "        \"zmax\": 6.0,\n",
       "        \"y\": [\n",
       "            0.04683438793834527\n",
       "        ],\n",
       "        \"type\": \"scatter3d\",\n",
       "        \"scene\": \"scene\"\n",
       "    },\n",
       "    {\n",
       "        \"xaxis\": \"x\",\n",
       "        \"colorbar\": {\n",
       "            \"title\": \"\"\n",
       "        },\n",
       "        \"yaxis\": \"y\",\n",
       "        \"zaxis\": \"z\",\n",
       "        \"x\": [\n",
       "            0.7346093221040284\n",
       "        ],\n",
       "        \"showlegend\": false,\n",
       "        \"mode\": \"markers\",\n",
       "        \"name\": \"y1\",\n",
       "        \"zmin\": 1.0,\n",
       "        \"legendgroup\": \"y1\",\n",
       "        \"z\": [\n",
       "            0.10556812373207025\n",
       "        ],\n",
       "        \"marker\": {\n",
       "            \"symbol\": \"circle\",\n",
       "            \"color\": \"rgba(252, 255, 164, 1.000)\",\n",
       "            \"line\": {\n",
       "                \"color\": \"rgba(0, 0, 0, 1.000)\",\n",
       "                \"width\": 1\n",
       "            },\n",
       "            \"size\": 6\n",
       "        },\n",
       "        \"zmax\": 6.0,\n",
       "        \"y\": [\n",
       "            0.36823105705562553\n",
       "        ],\n",
       "        \"type\": \"scatter3d\",\n",
       "        \"scene\": \"scene\"\n",
       "    },\n",
       "    {\n",
       "        \"xaxis\": \"x\",\n",
       "        \"colorbar\": {\n",
       "            \"title\": \"\"\n",
       "        },\n",
       "        \"yaxis\": \"y\",\n",
       "        \"zaxis\": \"z\",\n",
       "        \"x\": [\n",
       "            0.07298082695090158\n",
       "        ],\n",
       "        \"showlegend\": false,\n",
       "        \"mode\": \"markers\",\n",
       "        \"name\": \"y1\",\n",
       "        \"zmin\": 1.0,\n",
       "        \"z\": [\n",
       "            0.6535916286371539\n",
       "        ],\n",
       "        \"marker\": {\n",
       "            \"color\": [\n",
       "                0.5\n",
       "            ],\n",
       "            \"cmin\": 1.0,\n",
       "            \"opacity\": 1.0e-10,\n",
       "            \"size\": 1.0e-10,\n",
       "            \"colorscale\": [\n",
       "                [\n",
       "                    0.0,\n",
       "                    \"rgba(0, 0, 4, 1.000)\"\n",
       "                ],\n",
       "                [\n",
       "                    0.00392156862745098,\n",
       "                    \"rgba(1, 0, 5, 1.000)\"\n",
       "                ],\n",
       "                [\n",
       "                    0.00784313725490196,\n",
       "                    \"rgba(1, 1, 6, 1.000)\"\n",
       "                ],\n",
       "                [\n",
       "                    0.011764705882352941,\n",
       "                    \"rgba(1, 1, 8, 1.000)\"\n",
       "                ],\n",
       "                [\n",
       "                    0.01568627450980392,\n",
       "                    \"rgba(2, 1, 10, 1.000)\"\n",
       "                ],\n",
       "                [\n",
       "                    0.0196078431372549,\n",
       "                    \"rgba(2, 2, 12, 1.000)\"\n",
       "                ],\n",
       "                [\n",
       "                    0.023529411764705882,\n",
       "                    \"rgba(2, 2, 14, 1.000)\"\n",
       "                ],\n",
       "                [\n",
       "                    0.027450980392156862,\n",
       "                    \"rgba(3, 2, 16, 1.000)\"\n",
       "                ],\n",
       "                [\n",
       "                    0.03137254901960784,\n",
       "                    \"rgba(4, 3, 18, 1.000)\"\n",
       "                ],\n",
       "                [\n",
       "                    0.03529411764705882,\n",
       "                    \"rgba(4, 3, 20, 1.000)\"\n",
       "                ],\n",
       "                [\n",
       "                    0.0392156862745098,\n",
       "                    \"rgba(5, 4, 23, 1.000)\"\n",
       "                ],\n",
       "                [\n",
       "                    0.043137254901960784,\n",
       "                    \"rgba(6, 4, 25, 1.000)\"\n",
       "                ],\n",
       "                [\n",
       "                    0.047058823529411764,\n",
       "                    \"rgba(7, 5, 27, 1.000)\"\n",
       "                ],\n",
       "                [\n",
       "                    0.050980392156862744,\n",
       "                    \"rgba(8, 5, 29, 1.000)\"\n",
       "                ],\n",
       "                [\n",
       "                    0.054901960784313725,\n",
       "                    \"rgba(9, 6, 31, 1.000)\"\n",
       "                ],\n",
       "                [\n",
       "                    0.058823529411764705,\n",
       "                    \"rgba(10, 7, 34, 1.000)\"\n",
       "                ],\n",
       "                [\n",
       "                    0.06274509803921569,\n",
       "                    \"rgba(11, 7, 36, 1.000)\"\n",
       "                ],\n",
       "                [\n",
       "                    0.06666666666666667,\n",
       "                    \"rgba(12, 8, 38, 1.000)\"\n",
       "                ],\n",
       "                [\n",
       "                    0.07058823529411765,\n",
       "                    \"rgba(13, 8, 41, 1.000)\"\n",
       "                ],\n",
       "                [\n",
       "                    0.07450980392156863,\n",
       "                    \"rgba(14, 9, 43, 1.000)\"\n",
       "                ],\n",
       "                [\n",
       "                    0.0784313725490196,\n",
       "                    \"rgba(16, 9, 45, 1.000)\"\n",
       "                ],\n",
       "                [\n",
       "                    0.08235294117647059,\n",
       "                    \"rgba(17, 10, 48, 1.000)\"\n",
       "                ],\n",
       "                [\n",
       "                    0.08627450980392157,\n",
       "                    \"rgba(18, 10, 50, 1.000)\"\n",
       "                ],\n",
       "                [\n",
       "                    0.09019607843137255,\n",
       "                    \"rgba(20, 11, 52, 1.000)\"\n",
       "                ],\n",
       "                [\n",
       "                    0.09411764705882353,\n",
       "                    \"rgba(21, 11, 55, 1.000)\"\n",
       "                ],\n",
       "                [\n",
       "                    0.09803921568627451,\n",
       "                    \"rgba(22, 11, 57, 1.000)\"\n",
       "                ],\n",
       "                [\n",
       "                    0.10196078431372549,\n",
       "                    \"rgba(24, 12, 60, 1.000)\"\n",
       "                ],\n",
       "                [\n",
       "                    0.10588235294117647,\n",
       "                    \"rgba(25, 12, 62, 1.000)\"\n",
       "                ],\n",
       "                [\n",
       "                    0.10980392156862745,\n",
       "                    \"rgba(27, 12, 65, 1.000)\"\n",
       "                ],\n",
       "                [\n",
       "                    0.11372549019607843,\n",
       "                    \"rgba(28, 12, 67, 1.000)\"\n",
       "                ],\n",
       "                [\n",
       "                    0.11764705882352941,\n",
       "                    \"rgba(30, 12, 69, 1.000)\"\n",
       "                ],\n",
       "                [\n",
       "                    0.12156862745098039,\n",
       "                    \"rgba(31, 12, 72, 1.000)\"\n",
       "                ],\n",
       "                [\n",
       "                    0.12549019607843137,\n",
       "                    \"rgba(33, 12, 74, 1.000)\"\n",
       "                ],\n",
       "                [\n",
       "                    0.12941176470588237,\n",
       "                    \"rgba(35, 12, 76, 1.000)\"\n",
       "                ],\n",
       "                [\n",
       "                    0.13333333333333333,\n",
       "                    \"rgba(36, 12, 79, 1.000)\"\n",
       "                ],\n",
       "                [\n",
       "                    0.13725490196078433,\n",
       "                    \"rgba(38, 12, 81, 1.000)\"\n",
       "                ],\n",
       "                [\n",
       "                    0.1411764705882353,\n",
       "                    \"rgba(40, 11, 83, 1.000)\"\n",
       "                ],\n",
       "                [\n",
       "                    0.1450980392156863,\n",
       "                    \"rgba(41, 11, 85, 1.000)\"\n",
       "                ],\n",
       "                [\n",
       "                    0.14901960784313725,\n",
       "                    \"rgba(43, 11, 87, 1.000)\"\n",
       "                ],\n",
       "                [\n",
       "                    0.15294117647058825,\n",
       "                    \"rgba(45, 11, 89, 1.000)\"\n",
       "                ],\n",
       "                [\n",
       "                    0.1568627450980392,\n",
       "                    \"rgba(47, 10, 91, 1.000)\"\n",
       "                ],\n",
       "                [\n",
       "                    0.1607843137254902,\n",
       "                    \"rgba(49, 10, 92, 1.000)\"\n",
       "                ],\n",
       "                [\n",
       "                    0.16470588235294117,\n",
       "                    \"rgba(50, 10, 94, 1.000)\"\n",
       "                ],\n",
       "                [\n",
       "                    0.16862745098039217,\n",
       "                    \"rgba(52, 10, 95, 1.000)\"\n",
       "                ],\n",
       "                [\n",
       "                    0.17254901960784313,\n",
       "                    \"rgba(54, 9, 97, 1.000)\"\n",
       "                ],\n",
       "                [\n",
       "                    0.17647058823529413,\n",
       "                    \"rgba(56, 9, 98, 1.000)\"\n",
       "                ],\n",
       "                [\n",
       "                    0.1803921568627451,\n",
       "                    \"rgba(57, 9, 99, 1.000)\"\n",
       "                ],\n",
       "                [\n",
       "                    0.1843137254901961,\n",
       "                    \"rgba(59, 9, 100, 1.000)\"\n",
       "                ],\n",
       "                [\n",
       "                    0.18823529411764706,\n",
       "                    \"rgba(61, 9, 101, 1.000)\"\n",
       "                ],\n",
       "                [\n",
       "                    0.19215686274509805,\n",
       "                    \"rgba(62, 9, 102, 1.000)\"\n",
       "                ],\n",
       "                [\n",
       "                    0.19607843137254902,\n",
       "                    \"rgba(64, 10, 103, 1.000)\"\n",
       "                ],\n",
       "                [\n",
       "                    0.2,\n",
       "                    \"rgba(66, 10, 104, 1.000)\"\n",
       "                ],\n",
       "                [\n",
       "                    0.20392156862745098,\n",
       "                    \"rgba(68, 10, 104, 1.000)\"\n",
       "                ],\n",
       "                [\n",
       "                    0.20784313725490197,\n",
       "                    \"rgba(69, 10, 105, 1.000)\"\n",
       "                ],\n",
       "                [\n",
       "                    0.21176470588235294,\n",
       "                    \"rgba(71, 11, 106, 1.000)\"\n",
       "                ],\n",
       "                [\n",
       "                    0.21568627450980393,\n",
       "                    \"rgba(73, 11, 106, 1.000)\"\n",
       "                ],\n",
       "                [\n",
       "                    0.2196078431372549,\n",
       "                    \"rgba(74, 12, 107, 1.000)\"\n",
       "                ],\n",
       "                [\n",
       "                    0.2235294117647059,\n",
       "                    \"rgba(76, 12, 107, 1.000)\"\n",
       "                ],\n",
       "                [\n",
       "                    0.22745098039215686,\n",
       "                    \"rgba(77, 13, 108, 1.000)\"\n",
       "                ],\n",
       "                [\n",
       "                    0.23137254901960785,\n",
       "                    \"rgba(79, 13, 108, 1.000)\"\n",
       "                ],\n",
       "                [\n",
       "                    0.23529411764705882,\n",
       "                    \"rgba(81, 14, 108, 1.000)\"\n",
       "                ],\n",
       "                [\n",
       "                    0.23921568627450981,\n",
       "                    \"rgba(82, 14, 109, 1.000)\"\n",
       "                ],\n",
       "                [\n",
       "                    0.24313725490196078,\n",
       "                    \"rgba(84, 15, 109, 1.000)\"\n",
       "                ],\n",
       "                [\n",
       "                    0.24705882352941178,\n",
       "                    \"rgba(85, 15, 109, 1.000)\"\n",
       "                ],\n",
       "                [\n",
       "                    0.25098039215686274,\n",
       "                    \"rgba(87, 16, 110, 1.000)\"\n",
       "                ],\n",
       "                [\n",
       "                    0.2549019607843137,\n",
       "                    \"rgba(89, 16, 110, 1.000)\"\n",
       "                ],\n",
       "                [\n",
       "                    0.25882352941176473,\n",
       "                    \"rgba(90, 17, 110, 1.000)\"\n",
       "                ],\n",
       "                [\n",
       "                    0.2627450980392157,\n",
       "                    \"rgba(92, 18, 110, 1.000)\"\n",
       "                ],\n",
       "                [\n",
       "                    0.26666666666666666,\n",
       "                    \"rgba(93, 18, 110, 1.000)\"\n",
       "                ],\n",
       "                [\n",
       "                    0.27058823529411763,\n",
       "                    \"rgba(95, 19, 110, 1.000)\"\n",
       "                ],\n",
       "                [\n",
       "                    0.27450980392156865,\n",
       "                    \"rgba(97, 19, 110, 1.000)\"\n",
       "                ],\n",
       "                [\n",
       "                    0.2784313725490196,\n",
       "                    \"rgba(98, 20, 110, 1.000)\"\n",
       "                ],\n",
       "                [\n",
       "                    0.2823529411764706,\n",
       "                    \"rgba(100, 21, 110, 1.000)\"\n",
       "                ],\n",
       "                [\n",
       "                    0.28627450980392155,\n",
       "                    \"rgba(101, 21, 110, 1.000)\"\n",
       "                ],\n",
       "                [\n",
       "                    0.2901960784313726,\n",
       "                    \"rgba(103, 22, 110, 1.000)\"\n",
       "                ],\n",
       "                [\n",
       "                    0.29411764705882354,\n",
       "                    \"rgba(105, 22, 110, 1.000)\"\n",
       "                ],\n",
       "                [\n",
       "                    0.2980392156862745,\n",
       "                    \"rgba(106, 23, 110, 1.000)\"\n",
       "                ],\n",
       "                [\n",
       "                    0.30196078431372547,\n",
       "                    \"rgba(108, 24, 110, 1.000)\"\n",
       "                ],\n",
       "                [\n",
       "                    0.3058823529411765,\n",
       "                    \"rgba(109, 24, 110, 1.000)\"\n",
       "                ],\n",
       "                [\n",
       "                    0.30980392156862746,\n",
       "                    \"rgba(111, 25, 110, 1.000)\"\n",
       "                ],\n",
       "                [\n",
       "                    0.3137254901960784,\n",
       "                    \"rgba(113, 25, 110, 1.000)\"\n",
       "                ],\n",
       "                [\n",
       "                    0.3176470588235294,\n",
       "                    \"rgba(114, 26, 110, 1.000)\"\n",
       "                ],\n",
       "                [\n",
       "                    0.3215686274509804,\n",
       "                    \"rgba(116, 26, 110, 1.000)\"\n",
       "                ],\n",
       "                [\n",
       "                    0.3254901960784314,\n",
       "                    \"rgba(117, 27, 110, 1.000)\"\n",
       "                ],\n",
       "                [\n",
       "                    0.32941176470588235,\n",
       "                    \"rgba(119, 28, 109, 1.000)\"\n",
       "                ],\n",
       "                [\n",
       "                    0.3333333333333333,\n",
       "                    \"rgba(120, 28, 109, 1.000)\"\n",
       "                ],\n",
       "                [\n",
       "                    0.33725490196078434,\n",
       "                    \"rgba(122, 29, 109, 1.000)\"\n",
       "                ],\n",
       "                [\n",
       "                    0.3411764705882353,\n",
       "                    \"rgba(124, 29, 109, 1.000)\"\n",
       "                ],\n",
       "                [\n",
       "                    0.34509803921568627,\n",
       "                    \"rgba(125, 30, 109, 1.000)\"\n",
       "                ],\n",
       "                [\n",
       "                    0.34901960784313724,\n",
       "                    \"rgba(127, 30, 108, 1.000)\"\n",
       "                ],\n",
       "                [\n",
       "                    0.35294117647058826,\n",
       "                    \"rgba(128, 31, 108, 1.000)\"\n",
       "                ],\n",
       "                [\n",
       "                    0.3568627450980392,\n",
       "                    \"rgba(130, 32, 108, 1.000)\"\n",
       "                ],\n",
       "                [\n",
       "                    0.3607843137254902,\n",
       "                    \"rgba(132, 32, 107, 1.000)\"\n",
       "                ],\n",
       "                [\n",
       "                    0.36470588235294116,\n",
       "                    \"rgba(133, 33, 107, 1.000)\"\n",
       "                ],\n",
       "                [\n",
       "                    0.3686274509803922,\n",
       "                    \"rgba(135, 33, 107, 1.000)\"\n",
       "                ],\n",
       "                [\n",
       "                    0.37254901960784315,\n",
       "                    \"rgba(136, 34, 106, 1.000)\"\n",
       "                ],\n",
       "                [\n",
       "                    0.3764705882352941,\n",
       "                    \"rgba(138, 34, 106, 1.000)\"\n",
       "                ],\n",
       "                [\n",
       "                    0.3803921568627451,\n",
       "                    \"rgba(140, 35, 105, 1.000)\"\n",
       "                ],\n",
       "                [\n",
       "                    0.3843137254901961,\n",
       "                    \"rgba(141, 35, 105, 1.000)\"\n",
       "                ],\n",
       "                [\n",
       "                    0.38823529411764707,\n",
       "                    \"rgba(143, 36, 105, 1.000)\"\n",
       "                ],\n",
       "                [\n",
       "                    0.39215686274509803,\n",
       "                    \"rgba(144, 37, 104, 1.000)\"\n",
       "                ],\n",
       "                [\n",
       "                    0.396078431372549,\n",
       "                    \"rgba(146, 37, 104, 1.000)\"\n",
       "                ],\n",
       "                [\n",
       "                    0.4,\n",
       "                    \"rgba(147, 38, 103, 1.000)\"\n",
       "                ],\n",
       "                [\n",
       "                    0.403921568627451,\n",
       "                    \"rgba(149, 38, 103, 1.000)\"\n",
       "                ],\n",
       "                [\n",
       "                    0.40784313725490196,\n",
       "                    \"rgba(151, 39, 102, 1.000)\"\n",
       "                ],\n",
       "                [\n",
       "                    0.4117647058823529,\n",
       "                    \"rgba(152, 39, 102, 1.000)\"\n",
       "                ],\n",
       "                [\n",
       "                    0.41568627450980394,\n",
       "                    \"rgba(154, 40, 101, 1.000)\"\n",
       "                ],\n",
       "                [\n",
       "                    0.4196078431372549,\n",
       "                    \"rgba(155, 41, 100, 1.000)\"\n",
       "                ],\n",
       "                [\n",
       "                    0.4235294117647059,\n",
       "                    \"rgba(157, 41, 100, 1.000)\"\n",
       "                ],\n",
       "                [\n",
       "                    0.42745098039215684,\n",
       "                    \"rgba(159, 42, 99, 1.000)\"\n",
       "                ],\n",
       "                [\n",
       "                    0.43137254901960786,\n",
       "                    \"rgba(160, 42, 99, 1.000)\"\n",
       "                ],\n",
       "                [\n",
       "                    0.43529411764705883,\n",
       "                    \"rgba(162, 43, 98, 1.000)\"\n",
       "                ],\n",
       "                [\n",
       "                    0.4392156862745098,\n",
       "                    \"rgba(163, 44, 97, 1.000)\"\n",
       "                ],\n",
       "                [\n",
       "                    0.44313725490196076,\n",
       "                    \"rgba(165, 44, 96, 1.000)\"\n",
       "                ],\n",
       "                [\n",
       "                    0.4470588235294118,\n",
       "                    \"rgba(166, 45, 96, 1.000)\"\n",
       "                ],\n",
       "                [\n",
       "                    0.45098039215686275,\n",
       "                    \"rgba(168, 46, 95, 1.000)\"\n",
       "                ],\n",
       "                [\n",
       "                    0.4549019607843137,\n",
       "                    \"rgba(169, 46, 94, 1.000)\"\n",
       "                ],\n",
       "                [\n",
       "                    0.4588235294117647,\n",
       "                    \"rgba(171, 47, 94, 1.000)\"\n",
       "                ],\n",
       "                [\n",
       "                    0.4627450980392157,\n",
       "                    \"rgba(173, 48, 93, 1.000)\"\n",
       "                ],\n",
       "                [\n",
       "                    0.4666666666666667,\n",
       "                    \"rgba(174, 48, 92, 1.000)\"\n",
       "                ],\n",
       "                [\n",
       "                    0.47058823529411764,\n",
       "                    \"rgba(176, 49, 91, 1.000)\"\n",
       "                ],\n",
       "                [\n",
       "                    0.4745098039215686,\n",
       "                    \"rgba(177, 50, 90, 1.000)\"\n",
       "                ],\n",
       "                [\n",
       "                    0.47843137254901963,\n",
       "                    \"rgba(179, 50, 90, 1.000)\"\n",
       "                ],\n",
       "                [\n",
       "                    0.4823529411764706,\n",
       "                    \"rgba(180, 51, 89, 1.000)\"\n",
       "                ],\n",
       "                [\n",
       "                    0.48627450980392156,\n",
       "                    \"rgba(182, 52, 88, 1.000)\"\n",
       "                ],\n",
       "                [\n",
       "                    0.49019607843137253,\n",
       "                    \"rgba(183, 53, 87, 1.000)\"\n",
       "                ],\n",
       "                [\n",
       "                    0.49411764705882355,\n",
       "                    \"rgba(185, 53, 86, 1.000)\"\n",
       "                ],\n",
       "                [\n",
       "                    0.4980392156862745,\n",
       "                    \"rgba(186, 54, 85, 1.000)\"\n",
       "                ],\n",
       "                [\n",
       "                    0.5019607843137255,\n",
       "                    \"rgba(188, 55, 84, 1.000)\"\n",
       "                ],\n",
       "                [\n",
       "                    0.5058823529411764,\n",
       "                    \"rgba(189, 56, 83, 1.000)\"\n",
       "                ],\n",
       "                [\n",
       "                    0.5098039215686274,\n",
       "                    \"rgba(191, 57, 82, 1.000)\"\n",
       "                ],\n",
       "                [\n",
       "                    0.5137254901960784,\n",
       "                    \"rgba(192, 58, 81, 1.000)\"\n",
       "                ],\n",
       "                [\n",
       "                    0.5176470588235295,\n",
       "                    \"rgba(193, 58, 80, 1.000)\"\n",
       "                ],\n",
       "                [\n",
       "                    0.5215686274509804,\n",
       "                    \"rgba(195, 59, 79, 1.000)\"\n",
       "                ],\n",
       "                [\n",
       "                    0.5254901960784314,\n",
       "                    \"rgba(196, 60, 78, 1.000)\"\n",
       "                ],\n",
       "                [\n",
       "                    0.5294117647058824,\n",
       "                    \"rgba(198, 61, 77, 1.000)\"\n",
       "                ],\n",
       "                [\n",
       "                    0.5333333333333333,\n",
       "                    \"rgba(199, 62, 76, 1.000)\"\n",
       "                ],\n",
       "                [\n",
       "                    0.5372549019607843,\n",
       "                    \"rgba(200, 63, 75, 1.000)\"\n",
       "                ],\n",
       "                [\n",
       "                    0.5411764705882353,\n",
       "                    \"rgba(202, 64, 74, 1.000)\"\n",
       "                ],\n",
       "                [\n",
       "                    0.5450980392156862,\n",
       "                    \"rgba(203, 65, 73, 1.000)\"\n",
       "                ],\n",
       "                [\n",
       "                    0.5490196078431373,\n",
       "                    \"rgba(204, 66, 72, 1.000)\"\n",
       "                ],\n",
       "                [\n",
       "                    0.5529411764705883,\n",
       "                    \"rgba(206, 67, 71, 1.000)\"\n",
       "                ],\n",
       "                [\n",
       "                    0.5568627450980392,\n",
       "                    \"rgba(207, 68, 70, 1.000)\"\n",
       "                ],\n",
       "                [\n",
       "                    0.5607843137254902,\n",
       "                    \"rgba(208, 69, 69, 1.000)\"\n",
       "                ],\n",
       "                [\n",
       "                    0.5647058823529412,\n",
       "                    \"rgba(210, 70, 68, 1.000)\"\n",
       "                ],\n",
       "                [\n",
       "                    0.5686274509803921,\n",
       "                    \"rgba(211, 71, 67, 1.000)\"\n",
       "                ],\n",
       "                [\n",
       "                    0.5725490196078431,\n",
       "                    \"rgba(212, 72, 66, 1.000)\"\n",
       "                ],\n",
       "                [\n",
       "                    0.5764705882352941,\n",
       "                    \"rgba(213, 74, 65, 1.000)\"\n",
       "                ],\n",
       "                [\n",
       "                    0.5803921568627451,\n",
       "                    \"rgba(215, 75, 63, 1.000)\"\n",
       "                ],\n",
       "                [\n",
       "                    0.5843137254901961,\n",
       "                    \"rgba(216, 76, 62, 1.000)\"\n",
       "                ],\n",
       "                [\n",
       "                    0.5882352941176471,\n",
       "                    \"rgba(217, 77, 61, 1.000)\"\n",
       "                ],\n",
       "                [\n",
       "                    0.592156862745098,\n",
       "                    \"rgba(218, 78, 60, 1.000)\"\n",
       "                ],\n",
       "                [\n",
       "                    0.596078431372549,\n",
       "                    \"rgba(219, 80, 59, 1.000)\"\n",
       "                ],\n",
       "                [\n",
       "                    0.6,\n",
       "                    \"rgba(221, 81, 58, 1.000)\"\n",
       "                ],\n",
       "                [\n",
       "                    0.6039215686274509,\n",
       "                    \"rgba(222, 82, 56, 1.000)\"\n",
       "                ],\n",
       "                [\n",
       "                    0.6078431372549019,\n",
       "                    \"rgba(223, 83, 55, 1.000)\"\n",
       "                ],\n",
       "                [\n",
       "                    0.611764705882353,\n",
       "                    \"rgba(224, 85, 54, 1.000)\"\n",
       "                ],\n",
       "                [\n",
       "                    0.615686274509804,\n",
       "                    \"rgba(225, 86, 53, 1.000)\"\n",
       "                ],\n",
       "                [\n",
       "                    0.6196078431372549,\n",
       "                    \"rgba(226, 87, 52, 1.000)\"\n",
       "                ],\n",
       "                [\n",
       "                    0.6235294117647059,\n",
       "                    \"rgba(227, 89, 51, 1.000)\"\n",
       "                ],\n",
       "                [\n",
       "                    0.6274509803921569,\n",
       "                    \"rgba(228, 90, 49, 1.000)\"\n",
       "                ],\n",
       "                [\n",
       "                    0.6313725490196078,\n",
       "                    \"rgba(229, 92, 48, 1.000)\"\n",
       "                ],\n",
       "                [\n",
       "                    0.6352941176470588,\n",
       "                    \"rgba(230, 93, 47, 1.000)\"\n",
       "                ],\n",
       "                [\n",
       "                    0.6392156862745098,\n",
       "                    \"rgba(231, 94, 46, 1.000)\"\n",
       "                ],\n",
       "                [\n",
       "                    0.6431372549019608,\n",
       "                    \"rgba(232, 96, 45, 1.000)\"\n",
       "                ],\n",
       "                [\n",
       "                    0.6470588235294118,\n",
       "                    \"rgba(233, 97, 43, 1.000)\"\n",
       "                ],\n",
       "                [\n",
       "                    0.6509803921568628,\n",
       "                    \"rgba(234, 99, 42, 1.000)\"\n",
       "                ],\n",
       "                [\n",
       "                    0.6549019607843137,\n",
       "                    \"rgba(235, 100, 41, 1.000)\"\n",
       "                ],\n",
       "                [\n",
       "                    0.6588235294117647,\n",
       "                    \"rgba(235, 102, 40, 1.000)\"\n",
       "                ],\n",
       "                [\n",
       "                    0.6627450980392157,\n",
       "                    \"rgba(236, 103, 38, 1.000)\"\n",
       "                ],\n",
       "                [\n",
       "                    0.6666666666666666,\n",
       "                    \"rgba(237, 105, 37, 1.000)\"\n",
       "                ],\n",
       "                [\n",
       "                    0.6705882352941176,\n",
       "                    \"rgba(238, 106, 36, 1.000)\"\n",
       "                ],\n",
       "                [\n",
       "                    0.6745098039215687,\n",
       "                    \"rgba(239, 108, 35, 1.000)\"\n",
       "                ],\n",
       "                [\n",
       "                    0.6784313725490196,\n",
       "                    \"rgba(239, 110, 33, 1.000)\"\n",
       "                ],\n",
       "                [\n",
       "                    0.6823529411764706,\n",
       "                    \"rgba(240, 111, 32, 1.000)\"\n",
       "                ],\n",
       "                [\n",
       "                    0.6862745098039216,\n",
       "                    \"rgba(241, 113, 31, 1.000)\"\n",
       "                ],\n",
       "                [\n",
       "                    0.6901960784313725,\n",
       "                    \"rgba(241, 115, 29, 1.000)\"\n",
       "                ],\n",
       "                [\n",
       "                    0.6941176470588235,\n",
       "                    \"rgba(242, 116, 28, 1.000)\"\n",
       "                ],\n",
       "                [\n",
       "                    0.6980392156862745,\n",
       "                    \"rgba(243, 118, 27, 1.000)\"\n",
       "                ],\n",
       "                [\n",
       "                    0.7019607843137254,\n",
       "                    \"rgba(243, 120, 25, 1.000)\"\n",
       "                ],\n",
       "                [\n",
       "                    0.7058823529411765,\n",
       "                    \"rgba(244, 121, 24, 1.000)\"\n",
       "                ],\n",
       "                [\n",
       "                    0.7098039215686275,\n",
       "                    \"rgba(245, 123, 23, 1.000)\"\n",
       "                ],\n",
       "                [\n",
       "                    0.7137254901960784,\n",
       "                    \"rgba(245, 125, 21, 1.000)\"\n",
       "                ],\n",
       "                [\n",
       "                    0.7176470588235294,\n",
       "                    \"rgba(246, 126, 20, 1.000)\"\n",
       "                ],\n",
       "                [\n",
       "                    0.7215686274509804,\n",
       "                    \"rgba(246, 128, 19, 1.000)\"\n",
       "                ],\n",
       "                [\n",
       "                    0.7254901960784313,\n",
       "                    \"rgba(247, 130, 18, 1.000)\"\n",
       "                ],\n",
       "                [\n",
       "                    0.7294117647058823,\n",
       "                    \"rgba(247, 132, 16, 1.000)\"\n",
       "                ],\n",
       "                [\n",
       "                    0.7333333333333333,\n",
       "                    \"rgba(248, 133, 15, 1.000)\"\n",
       "                ],\n",
       "                [\n",
       "                    0.7372549019607844,\n",
       "                    \"rgba(248, 135, 14, 1.000)\"\n",
       "                ],\n",
       "                [\n",
       "                    0.7411764705882353,\n",
       "                    \"rgba(248, 137, 12, 1.000)\"\n",
       "                ],\n",
       "                [\n",
       "                    0.7450980392156863,\n",
       "                    \"rgba(249, 139, 11, 1.000)\"\n",
       "                ],\n",
       "                [\n",
       "                    0.7490196078431373,\n",
       "                    \"rgba(249, 140, 10, 1.000)\"\n",
       "                ],\n",
       "                [\n",
       "                    0.7529411764705882,\n",
       "                    \"rgba(249, 142, 9, 1.000)\"\n",
       "                ],\n",
       "                [\n",
       "                    0.7568627450980392,\n",
       "                    \"rgba(250, 144, 8, 1.000)\"\n",
       "                ],\n",
       "                [\n",
       "                    0.7607843137254902,\n",
       "                    \"rgba(250, 146, 7, 1.000)\"\n",
       "                ],\n",
       "                [\n",
       "                    0.7647058823529411,\n",
       "                    \"rgba(250, 148, 7, 1.000)\"\n",
       "                ],\n",
       "                [\n",
       "                    0.7686274509803922,\n",
       "                    \"rgba(251, 150, 6, 1.000)\"\n",
       "                ],\n",
       "                [\n",
       "                    0.7725490196078432,\n",
       "                    \"rgba(251, 151, 6, 1.000)\"\n",
       "                ],\n",
       "                [\n",
       "                    0.7764705882352941,\n",
       "                    \"rgba(251, 153, 6, 1.000)\"\n",
       "                ],\n",
       "                [\n",
       "                    0.7803921568627451,\n",
       "                    \"rgba(251, 155, 6, 1.000)\"\n",
       "                ],\n",
       "                [\n",
       "                    0.7843137254901961,\n",
       "                    \"rgba(251, 157, 7, 1.000)\"\n",
       "                ],\n",
       "                [\n",
       "                    0.788235294117647,\n",
       "                    \"rgba(252, 159, 7, 1.000)\"\n",
       "                ],\n",
       "                [\n",
       "                    0.792156862745098,\n",
       "                    \"rgba(252, 161, 8, 1.000)\"\n",
       "                ],\n",
       "                [\n",
       "                    0.796078431372549,\n",
       "                    \"rgba(252, 163, 9, 1.000)\"\n",
       "                ],\n",
       "                [\n",
       "                    0.8,\n",
       "                    \"rgba(252, 165, 10, 1.000)\"\n",
       "                ],\n",
       "                [\n",
       "                    0.803921568627451,\n",
       "                    \"rgba(252, 166, 12, 1.000)\"\n",
       "                ],\n",
       "                [\n",
       "                    0.807843137254902,\n",
       "                    \"rgba(252, 168, 13, 1.000)\"\n",
       "                ],\n",
       "                [\n",
       "                    0.8117647058823529,\n",
       "                    \"rgba(252, 170, 15, 1.000)\"\n",
       "                ],\n",
       "                [\n",
       "                    0.8156862745098039,\n",
       "                    \"rgba(252, 172, 17, 1.000)\"\n",
       "                ],\n",
       "                [\n",
       "                    0.8196078431372549,\n",
       "                    \"rgba(252, 174, 18, 1.000)\"\n",
       "                ],\n",
       "                [\n",
       "                    0.8235294117647058,\n",
       "                    \"rgba(252, 176, 20, 1.000)\"\n",
       "                ],\n",
       "                [\n",
       "                    0.8274509803921568,\n",
       "                    \"rgba(252, 178, 22, 1.000)\"\n",
       "                ],\n",
       "                [\n",
       "                    0.8313725490196079,\n",
       "                    \"rgba(252, 180, 24, 1.000)\"\n",
       "                ],\n",
       "                [\n",
       "                    0.8352941176470589,\n",
       "                    \"rgba(251, 182, 26, 1.000)\"\n",
       "                ],\n",
       "                [\n",
       "                    0.8392156862745098,\n",
       "                    \"rgba(251, 184, 29, 1.000)\"\n",
       "                ],\n",
       "                [\n",
       "                    0.8431372549019608,\n",
       "                    \"rgba(251, 186, 31, 1.000)\"\n",
       "                ],\n",
       "                [\n",
       "                    0.8470588235294118,\n",
       "                    \"rgba(251, 188, 33, 1.000)\"\n",
       "                ],\n",
       "                [\n",
       "                    0.8509803921568627,\n",
       "                    \"rgba(251, 190, 35, 1.000)\"\n",
       "                ],\n",
       "                [\n",
       "                    0.8549019607843137,\n",
       "                    \"rgba(250, 192, 38, 1.000)\"\n",
       "                ],\n",
       "                [\n",
       "                    0.8588235294117647,\n",
       "                    \"rgba(250, 194, 40, 1.000)\"\n",
       "                ],\n",
       "                [\n",
       "                    0.8627450980392157,\n",
       "                    \"rgba(250, 196, 42, 1.000)\"\n",
       "                ],\n",
       "                [\n",
       "                    0.8666666666666667,\n",
       "                    \"rgba(250, 198, 45, 1.000)\"\n",
       "                ],\n",
       "                [\n",
       "                    0.8705882352941177,\n",
       "                    \"rgba(249, 199, 47, 1.000)\"\n",
       "                ],\n",
       "                [\n",
       "                    0.8745098039215686,\n",
       "                    \"rgba(249, 201, 50, 1.000)\"\n",
       "                ],\n",
       "                [\n",
       "                    0.8784313725490196,\n",
       "                    \"rgba(249, 203, 53, 1.000)\"\n",
       "                ],\n",
       "                [\n",
       "                    0.8823529411764706,\n",
       "                    \"rgba(248, 205, 55, 1.000)\"\n",
       "                ],\n",
       "                [\n",
       "                    0.8862745098039215,\n",
       "                    \"rgba(248, 207, 58, 1.000)\"\n",
       "                ],\n",
       "                [\n",
       "                    0.8901960784313725,\n",
       "                    \"rgba(247, 209, 61, 1.000)\"\n",
       "                ],\n",
       "                [\n",
       "                    0.8941176470588236,\n",
       "                    \"rgba(247, 211, 64, 1.000)\"\n",
       "                ],\n",
       "                [\n",
       "                    0.8980392156862745,\n",
       "                    \"rgba(246, 213, 67, 1.000)\"\n",
       "                ],\n",
       "                [\n",
       "                    0.9019607843137255,\n",
       "                    \"rgba(246, 215, 70, 1.000)\"\n",
       "                ],\n",
       "                [\n",
       "                    0.9058823529411765,\n",
       "                    \"rgba(245, 217, 73, 1.000)\"\n",
       "                ],\n",
       "                [\n",
       "                    0.9098039215686274,\n",
       "                    \"rgba(245, 219, 76, 1.000)\"\n",
       "                ],\n",
       "                [\n",
       "                    0.9137254901960784,\n",
       "                    \"rgba(244, 221, 79, 1.000)\"\n",
       "                ],\n",
       "                [\n",
       "                    0.9176470588235294,\n",
       "                    \"rgba(244, 223, 83, 1.000)\"\n",
       "                ],\n",
       "                [\n",
       "                    0.9215686274509803,\n",
       "                    \"rgba(244, 225, 86, 1.000)\"\n",
       "                ],\n",
       "                [\n",
       "                    0.9254901960784314,\n",
       "                    \"rgba(243, 227, 90, 1.000)\"\n",
       "                ],\n",
       "                [\n",
       "                    0.9294117647058824,\n",
       "                    \"rgba(243, 229, 93, 1.000)\"\n",
       "                ],\n",
       "                [\n",
       "                    0.9333333333333333,\n",
       "                    \"rgba(242, 230, 97, 1.000)\"\n",
       "                ],\n",
       "                [\n",
       "                    0.9372549019607843,\n",
       "                    \"rgba(242, 232, 101, 1.000)\"\n",
       "                ],\n",
       "                [\n",
       "                    0.9411764705882353,\n",
       "                    \"rgba(242, 234, 105, 1.000)\"\n",
       "                ],\n",
       "                [\n",
       "                    0.9450980392156862,\n",
       "                    \"rgba(241, 236, 109, 1.000)\"\n",
       "                ],\n",
       "                [\n",
       "                    0.9490196078431372,\n",
       "                    \"rgba(241, 237, 113, 1.000)\"\n",
       "                ],\n",
       "                [\n",
       "                    0.9529411764705882,\n",
       "                    \"rgba(241, 239, 117, 1.000)\"\n",
       "                ],\n",
       "                [\n",
       "                    0.9568627450980393,\n",
       "                    \"rgba(241, 241, 121, 1.000)\"\n",
       "                ],\n",
       "                [\n",
       "                    0.9607843137254902,\n",
       "                    \"rgba(242, 242, 125, 1.000)\"\n",
       "                ],\n",
       "                [\n",
       "                    0.9647058823529412,\n",
       "                    \"rgba(242, 244, 130, 1.000)\"\n",
       "                ],\n",
       "                [\n",
       "                    0.9686274509803922,\n",
       "                    \"rgba(243, 245, 134, 1.000)\"\n",
       "                ],\n",
       "                [\n",
       "                    0.9725490196078431,\n",
       "                    \"rgba(243, 246, 138, 1.000)\"\n",
       "                ],\n",
       "                [\n",
       "                    0.9764705882352941,\n",
       "                    \"rgba(244, 248, 142, 1.000)\"\n",
       "                ],\n",
       "                [\n",
       "                    0.9803921568627451,\n",
       "                    \"rgba(245, 249, 146, 1.000)\"\n",
       "                ],\n",
       "                [\n",
       "                    0.984313725490196,\n",
       "                    \"rgba(246, 250, 150, 1.000)\"\n",
       "                ],\n",
       "                [\n",
       "                    0.9882352941176471,\n",
       "                    \"rgba(248, 251, 154, 1.000)\"\n",
       "                ],\n",
       "                [\n",
       "                    0.9921568627450981,\n",
       "                    \"rgba(249, 252, 157, 1.000)\"\n",
       "                ],\n",
       "                [\n",
       "                    0.996078431372549,\n",
       "                    \"rgba(250, 253, 161, 1.000)\"\n",
       "                ],\n",
       "                [\n",
       "                    1.0,\n",
       "                    \"rgba(252, 255, 164, 1.000)\"\n",
       "                ]\n",
       "            ],\n",
       "            \"cmax\": 6.0,\n",
       "            \"showscale\": true\n",
       "        },\n",
       "        \"zmax\": 6.0,\n",
       "        \"y\": [\n",
       "            0.22357742915219592\n",
       "        ],\n",
       "        \"type\": \"scatter3d\",\n",
       "        \"scene\": \"scene\",\n",
       "        \"hoverinfo\": \"none\"\n",
       "    },\n",
       "    {\n",
       "        \"xaxis\": \"x\",\n",
       "        \"colorbar\": {\n",
       "            \"title\": \"\"\n",
       "        },\n",
       "        \"yaxis\": \"y\",\n",
       "        \"zaxis\": \"z\",\n",
       "        \"x\": [\n",
       "            0.07298082695090158,\n",
       "            0.895122372840871,\n",
       "            0.2929938750714316,\n",
       "            0.25171589380558546,\n",
       "            0.9989209575815696,\n",
       "            0.7346093221040284\n",
       "        ],\n",
       "        \"showlegend\": true,\n",
       "        \"mode\": \"lines\",\n",
       "        \"name\": \"y2\",\n",
       "        \"zmin\": 1.0,\n",
       "        \"legendgroup\": \"y2\",\n",
       "        \"z\": [\n",
       "            0.6535916286371539,\n",
       "            0.1685559167716999,\n",
       "            0.5695928112680422,\n",
       "            0.36511674180134635,\n",
       "            0.9307568407922358,\n",
       "            0.10556812373207025\n",
       "        ],\n",
       "        \"zmax\": 6.0,\n",
       "        \"line\": {\n",
       "            \"color\": \"rgba(0, 0, 0, 1.000)\",\n",
       "            \"shape\": \"linear\",\n",
       "            \"dash\": \"solid\",\n",
       "            \"width\": 2\n",
       "        },\n",
       "        \"y\": [\n",
       "            0.22357742915219592,\n",
       "            0.7657018354772567,\n",
       "            0.6863835720635789,\n",
       "            0.6080095240546537,\n",
       "            0.04683438793834527,\n",
       "            0.36823105705562553\n",
       "        ],\n",
       "        \"type\": \"scatter3d\",\n",
       "        \"scene\": \"scene\"\n",
       "    }\n",
       "]\n",
       ", {\n",
       "    \"showlegend\": true,\n",
       "    \"paper_bgcolor\": \"rgba(255, 255, 255, 1.000)\",\n",
       "    \"annotations\": [],\n",
       "    \"height\": 400,\n",
       "    \"margin\": {\n",
       "        \"l\": 0,\n",
       "        \"b\": 20,\n",
       "        \"r\": 0,\n",
       "        \"t\": 20\n",
       "    },\n",
       "    \"plot_bgcolor\": \"rgba(255, 255, 255, 1.000)\",\n",
       "    \"scene\": {\n",
       "        \"camera\": {\n",
       "            \"eye\": {\n",
       "                \"y\": -1.9499999999999997,\n",
       "                \"z\": 1.3,\n",
       "                \"x\": 1.12583302491977\n",
       "            }\n",
       "        },\n",
       "        \"xaxis\": {\n",
       "            \"tickangle\": 0,\n",
       "            \"showline\": true,\n",
       "            \"gridcolor\": \"rgba(0, 0, 0, 0.100)\",\n",
       "            \"showticklabels\": true,\n",
       "            \"gridwidth\": 0.5,\n",
       "            \"titlefont\": {\n",
       "                \"color\": \"rgba(0, 0, 0, 1.000)\",\n",
       "                \"family\": \"sans-serif\",\n",
       "                \"size\": 15\n",
       "            },\n",
       "            \"visible\": true,\n",
       "            \"ticks\": \"inside\",\n",
       "            \"range\": [\n",
       "                0.04520262303198154,\n",
       "                1.0266991615004897\n",
       "            ],\n",
       "            \"tickmode\": \"array\",\n",
       "            \"tickvals\": [\n",
       "                0.2,\n",
       "                0.4,\n",
       "                0.6000000000000001,\n",
       "                0.8,\n",
       "                1.0\n",
       "            ],\n",
       "            \"tickcolor\": \"rgb(0, 0, 0)\",\n",
       "            \"ticktext\": [\n",
       "                \"0.2\",\n",
       "                \"0.4\",\n",
       "                \"0.6\",\n",
       "                \"0.8\",\n",
       "                \"1.0\"\n",
       "            ],\n",
       "            \"linecolor\": \"rgba(0, 0, 0, 1.000)\",\n",
       "            \"showgrid\": true,\n",
       "            \"zeroline\": false,\n",
       "            \"type\": \"-\",\n",
       "            \"tickfont\": {\n",
       "                \"color\": \"rgba(0, 0, 0, 1.000)\",\n",
       "                \"family\": \"sans-serif\",\n",
       "                \"size\": 11\n",
       "            },\n",
       "            \"title\": \"x\",\n",
       "            \"zerolinecolor\": \"rgba(0, 0, 0, 1.000)\",\n",
       "            \"mirror\": false\n",
       "        },\n",
       "        \"domain\": {\n",
       "            \"y\": [\n",
       "                0.07581474190726165,\n",
       "                0.9901574803149606\n",
       "            ],\n",
       "            \"x\": [\n",
       "                0.07646908719743364,\n",
       "                0.9934383202099737\n",
       "            ]\n",
       "        },\n",
       "        \"yaxis\": {\n",
       "            \"tickangle\": 0,\n",
       "            \"showline\": true,\n",
       "            \"gridcolor\": \"rgba(0, 0, 0, 0.100)\",\n",
       "            \"showticklabels\": true,\n",
       "            \"gridwidth\": 0.5,\n",
       "            \"titlefont\": {\n",
       "                \"color\": \"rgba(0, 0, 0, 1.000)\",\n",
       "                \"family\": \"sans-serif\",\n",
       "                \"size\": 15\n",
       "            },\n",
       "            \"visible\": true,\n",
       "            \"ticks\": \"inside\",\n",
       "            \"range\": [\n",
       "                0.025268364512177927,\n",
       "                0.787267858903424\n",
       "            ],\n",
       "            \"tickmode\": \"array\",\n",
       "            \"tickvals\": [\n",
       "                0.1,\n",
       "                0.2,\n",
       "                0.30000000000000004,\n",
       "                0.4,\n",
       "                0.5,\n",
       "                0.6000000000000001,\n",
       "                0.7000000000000001\n",
       "            ],\n",
       "            \"tickcolor\": \"rgb(0, 0, 0)\",\n",
       "            \"ticktext\": [\n",
       "                \"0.1\",\n",
       "                \"0.2\",\n",
       "                \"0.3\",\n",
       "                \"0.4\",\n",
       "                \"0.5\",\n",
       "                \"0.6\",\n",
       "                \"0.7\"\n",
       "            ],\n",
       "            \"linecolor\": \"rgba(0, 0, 0, 1.000)\",\n",
       "            \"showgrid\": true,\n",
       "            \"zeroline\": false,\n",
       "            \"type\": \"-\",\n",
       "            \"tickfont\": {\n",
       "                \"color\": \"rgba(0, 0, 0, 1.000)\",\n",
       "                \"family\": \"sans-serif\",\n",
       "                \"size\": 11\n",
       "            },\n",
       "            \"title\": \"y\",\n",
       "            \"zerolinecolor\": \"rgba(0, 0, 0, 1.000)\",\n",
       "            \"mirror\": false\n",
       "        },\n",
       "        \"zaxis\": {\n",
       "            \"tickangle\": 0,\n",
       "            \"showline\": true,\n",
       "            \"gridcolor\": \"rgba(0, 0, 0, 0.100)\",\n",
       "            \"showticklabels\": true,\n",
       "            \"gridwidth\": 0.5,\n",
       "            \"titlefont\": {\n",
       "                \"color\": \"rgba(0, 0, 0, 1.000)\",\n",
       "                \"family\": \"sans-serif\",\n",
       "                \"size\": 15\n",
       "            },\n",
       "            \"visible\": true,\n",
       "            \"ticks\": \"inside\",\n",
       "            \"range\": [\n",
       "                0.08081246222026528,\n",
       "                0.9555125023040407\n",
       "            ],\n",
       "            \"tickmode\": \"array\",\n",
       "            \"tickvals\": [\n",
       "                0.2,\n",
       "                0.4,\n",
       "                0.6000000000000001,\n",
       "                0.8\n",
       "            ],\n",
       "            \"tickcolor\": \"rgb(0, 0, 0)\",\n",
       "            \"ticktext\": [\n",
       "                \"0.2\",\n",
       "                \"0.4\",\n",
       "                \"0.6\",\n",
       "                \"0.8\"\n",
       "            ],\n",
       "            \"linecolor\": \"rgba(0, 0, 0, 1.000)\",\n",
       "            \"showgrid\": true,\n",
       "            \"zeroline\": false,\n",
       "            \"type\": \"-\",\n",
       "            \"tickfont\": {\n",
       "                \"color\": \"rgba(0, 0, 0, 1.000)\",\n",
       "                \"family\": \"sans-serif\",\n",
       "                \"size\": 11\n",
       "            },\n",
       "            \"title\": \"z\",\n",
       "            \"zerolinecolor\": \"rgba(0, 0, 0, 1.000)\",\n",
       "            \"mirror\": false\n",
       "        }\n",
       "    },\n",
       "    \"legend\": {\n",
       "        \"yanchor\": \"auto\",\n",
       "        \"xanchor\": \"auto\",\n",
       "        \"bordercolor\": \"rgba(0, 0, 0, 1.000)\",\n",
       "        \"bgcolor\": \"rgba(255, 255, 255, 1.000)\",\n",
       "        \"borderwidth\": 1,\n",
       "        \"tracegroupgap\": 0,\n",
       "        \"y\": 1.0,\n",
       "        \"font\": {\n",
       "            \"color\": \"rgba(0, 0, 0, 1.000)\",\n",
       "            \"family\": \"sans-serif\",\n",
       "            \"size\": 11\n",
       "        },\n",
       "        \"title\": {\n",
       "            \"font\": {\n",
       "                \"color\": \"rgba(0, 0, 0, 1.000)\",\n",
       "                \"family\": \"sans-serif\",\n",
       "                \"size\": 15\n",
       "            },\n",
       "            \"text\": \"\"\n",
       "        },\n",
       "        \"traceorder\": \"normal\",\n",
       "        \"x\": 1.0\n",
       "    },\n",
       "    \"width\": 600\n",
       "}\n",
       ");\n",
       "\n",
       "    });\n",
       "    </script>\n"
      ]
     },
     "execution_count": 5,
     "metadata": {},
     "output_type": "execute_result"
    }
   ],
   "source": [
    "p = plot()\n",
    "plotChain!(P)\n",
    "p"
   ]
  },
  {
   "cell_type": "code",
   "execution_count": 6,
   "metadata": {},
   "outputs": [
    {
     "data": {
      "text/plain": [
       "planeRotationYZ (generic function with 1 method)"
      ]
     },
     "execution_count": 6,
     "metadata": {},
     "output_type": "execute_result"
    }
   ],
   "source": [
    "function planeRotationYZ(u::Point)::Matrix\n",
    "    if isapprox(distance(ex,u),0,atol=1e-15)\n",
    "        #println(\"cache lo raros\")\n",
    "        return Matrix(1,0,0,0,1,0,0,0,1)\n",
    "    else\n",
    "        theta = iangle(u,ex)\n",
    "        u = unitVector(cross(u,ex))\n",
    "        return rotation(theta,u)\n",
    "    end\n",
    "end"
   ]
  },
  {
   "cell_type": "code",
   "execution_count": 7,
   "metadata": {},
   "outputs": [
    {
     "data": {
      "text/plain": [
       "moveBeforeInternal (generic function with 1 method)"
      ]
     },
     "execution_count": 7,
     "metadata": {},
     "output_type": "execute_result"
    }
   ],
   "source": [
    "function moveBeforeInternal(P::PolygonalChain,i::Integer)\n",
    "    newP = copy(P)\n",
    "    n = length(P)\n",
    "    if 1 <= i <= n-1\n",
    "        u = unitVector(newP[i]-newP[i+1])\n",
    "        mat1 = planeRotationYZ(u)\n",
    "        pivot = newP[i+1]\n",
    "        for j in 1:n+1\n",
    "            newP[j] = mat1*(newP[j]-pivot)\n",
    "        end\n",
    "        # second rotation\n",
    "        v = unitVector(newP[i+2])  # newP[i+1] = e0\n",
    "        n1 = cross(v,ex)\n",
    "        theta = atan(newP[i+2].y,newP[i+2].z)-pi/2\n",
    "        mat2 = xrotation(theta)\n",
    "        for j in 1:n+1\n",
    "            newP[j] = mat2*newP[j]\n",
    "        end\n",
    "        return newP\n",
    "    else\n",
    "        error(\"i is not in range of internals\")\n",
    "    end\n",
    "end"
   ]
  },
  {
   "cell_type": "code",
   "execution_count": 8,
   "metadata": {},
   "outputs": [
    {
     "data": {
      "text/plain": [
       "PolygonalChain(Point[Point(0.09638785833971714396334201887192610306847314854732933097912403936749375053341176, 0.2028935444101779801056354423118711592770986602214841163898806323314168667895381, -0.4609724617056103069343497385543351493225226009994437906372720570430001336803363), Point(-0.005719306731424346938278771604603617182529430599267400591556099463884604988520247, 0.286371151972005510441206772133033416580836718464674195712786014455802223663176, 0.6288352511838536262373046365529615717403757228728440102554471862547424301654417), Point(0.2228381164056945622493068783633717195141074464411972059790793480751321149733073, 7.019694195936875585090925473376147000921348100175299585695699952494598173677766e-79, 2.998696443128539968869801996868097911246544434460826060928516241670650201728629e-79), Point(0.0, 0.0, 0.0), Point(0.4600712633589899026601263720761712610809887193563368868702099375496943757842336, 0.9907149413152685363913406510928264442397838793942379135277960084017402489229386, 6.066379408746007286226053069760102890680250462280438748590127237112840944700216e-17), Point(-0.2330437238176910987083831880526506844554991398112923664948377738542820426039895, 0.4600553844041349592018471814017681856387416566410294617061387888729442458176868, 0.3034549843746940060268662279416780981810784710110331150330947564691867961198536)])"
      ]
     },
     "execution_count": 8,
     "metadata": {},
     "output_type": "execute_result"
    }
   ],
   "source": [
    "newP = moveBeforeInternal(P,3)"
   ]
  },
  {
   "cell_type": "code",
   "execution_count": 9,
   "metadata": {},
   "outputs": [
    {
     "data": {
      "application/vnd.plotly.v1+json": {
       "data": [
        {
         "colorbar": {
          "title": {
           "text": ""
          }
         },
         "legendgroup": "y1",
         "line": {
          "color": "rgba(0, 154, 250, 1.000)",
          "dash": "dash",
          "shape": "linear",
          "width": 1
         },
         "mode": "lines",
         "name": "y1",
         "scene": "scene",
         "showlegend": true,
         "type": "scatter3d",
         "x": [
          0,
          1
         ],
         "xaxis": "x",
         "y": [
          0,
          0
         ],
         "yaxis": "y",
         "z": [
          0,
          0
         ],
         "zaxis": "z",
         "zmax": 6,
         "zmin": 1
        },
        {
         "colorbar": {
          "title": {
           "text": ""
          }
         },
         "legendgroup": "y2",
         "marker": {
          "color": "rgba(0, 0, 4, 1.000)",
          "line": {
           "color": "rgba(0, 0, 0, 1)",
           "width": 1
          },
          "size": 6,
          "symbol": "circle"
         },
         "mode": "markers",
         "name": "y2",
         "scene": "scene",
         "showlegend": true,
         "type": "scatter3d",
         "x": [
          0.09638785833971715
         ],
         "xaxis": "x",
         "y": [
          0.20289354441017798
         ],
         "yaxis": "y",
         "z": [
          -0.4609724617056103
         ],
         "zaxis": "z",
         "zmax": 6,
         "zmin": 1
        },
        {
         "colorbar": {
          "title": {
           "text": ""
          }
         },
         "legendgroup": "y2",
         "marker": {
          "color": "rgba(66, 10, 104, 1.000)",
          "line": {
           "color": "rgba(0, 0, 0, 1)",
           "width": 1
          },
          "size": 6,
          "symbol": "circle"
         },
         "mode": "markers",
         "name": "y2",
         "scene": "scene",
         "showlegend": false,
         "type": "scatter3d",
         "x": [
          -0.005719306731424347
         ],
         "xaxis": "x",
         "y": [
          0.2863711519720055
         ],
         "yaxis": "y",
         "z": [
          0.6288352511838536
         ],
         "zaxis": "z",
         "zmax": 6,
         "zmin": 1
        },
        {
         "colorbar": {
          "title": {
           "text": ""
          }
         },
         "legendgroup": "y2",
         "marker": {
          "color": "rgba(147, 38, 103, 1.000)",
          "line": {
           "color": "rgba(0, 0, 0, 1)",
           "width": 1
          },
          "size": 6,
          "symbol": "circle"
         },
         "mode": "markers",
         "name": "y2",
         "scene": "scene",
         "showlegend": false,
         "type": "scatter3d",
         "x": [
          0.22283811640569456
         ],
         "xaxis": "x",
         "y": [
          7.019694195936876e-79
         ],
         "yaxis": "y",
         "z": [
          2.99869644312854e-79
         ],
         "zaxis": "z",
         "zmax": 6,
         "zmin": 1
        },
        {
         "colorbar": {
          "title": {
           "text": ""
          }
         },
         "legendgroup": "y2",
         "marker": {
          "color": "rgba(221, 81, 58, 1.000)",
          "line": {
           "color": "rgba(0, 0, 0, 1)",
           "width": 1
          },
          "size": 6,
          "symbol": "circle"
         },
         "mode": "markers",
         "name": "y2",
         "scene": "scene",
         "showlegend": false,
         "type": "scatter3d",
         "x": [
          0
         ],
         "xaxis": "x",
         "y": [
          0
         ],
         "yaxis": "y",
         "z": [
          0
         ],
         "zaxis": "z",
         "zmax": 6,
         "zmin": 1
        },
        {
         "colorbar": {
          "title": {
           "text": ""
          }
         },
         "legendgroup": "y2",
         "marker": {
          "color": "rgba(252, 165, 10, 1.000)",
          "line": {
           "color": "rgba(0, 0, 0, 1)",
           "width": 1
          },
          "size": 6,
          "symbol": "circle"
         },
         "mode": "markers",
         "name": "y2",
         "scene": "scene",
         "showlegend": false,
         "type": "scatter3d",
         "x": [
          0.4600712633589899
         ],
         "xaxis": "x",
         "y": [
          0.9907149413152685
         ],
         "yaxis": "y",
         "z": [
          6.066379408746007e-17
         ],
         "zaxis": "z",
         "zmax": 6,
         "zmin": 1
        },
        {
         "colorbar": {
          "title": {
           "text": ""
          }
         },
         "legendgroup": "y2",
         "marker": {
          "color": "rgba(252, 255, 164, 1.000)",
          "line": {
           "color": "rgba(0, 0, 0, 1)",
           "width": 1
          },
          "size": 6,
          "symbol": "circle"
         },
         "mode": "markers",
         "name": "y2",
         "scene": "scene",
         "showlegend": false,
         "type": "scatter3d",
         "x": [
          -0.2330437238176911
         ],
         "xaxis": "x",
         "y": [
          0.46005538440413496
         ],
         "yaxis": "y",
         "z": [
          0.303454984374694
         ],
         "zaxis": "z",
         "zmax": 6,
         "zmin": 1
        },
        {
         "colorbar": {
          "title": {
           "text": ""
          }
         },
         "hoverinfo": "none",
         "marker": {
          "cmax": 6,
          "cmin": 1,
          "color": [
           0.5
          ],
          "colorscale": [
           [
            0,
            "rgba(0, 0, 4, 1.000)"
           ],
           [
            0.00392156862745098,
            "rgba(1, 0, 5, 1.000)"
           ],
           [
            0.00784313725490196,
            "rgba(1, 1, 6, 1.000)"
           ],
           [
            0.011764705882352941,
            "rgba(1, 1, 8, 1.000)"
           ],
           [
            0.01568627450980392,
            "rgba(2, 1, 10, 1.000)"
           ],
           [
            0.0196078431372549,
            "rgba(2, 2, 12, 1.000)"
           ],
           [
            0.023529411764705882,
            "rgba(2, 2, 14, 1.000)"
           ],
           [
            0.027450980392156862,
            "rgba(3, 2, 16, 1.000)"
           ],
           [
            0.03137254901960784,
            "rgba(4, 3, 18, 1.000)"
           ],
           [
            0.03529411764705882,
            "rgba(4, 3, 20, 1.000)"
           ],
           [
            0.0392156862745098,
            "rgba(5, 4, 23, 1.000)"
           ],
           [
            0.043137254901960784,
            "rgba(6, 4, 25, 1.000)"
           ],
           [
            0.047058823529411764,
            "rgba(7, 5, 27, 1.000)"
           ],
           [
            0.050980392156862744,
            "rgba(8, 5, 29, 1.000)"
           ],
           [
            0.054901960784313725,
            "rgba(9, 6, 31, 1.000)"
           ],
           [
            0.058823529411764705,
            "rgba(10, 7, 34, 1.000)"
           ],
           [
            0.06274509803921569,
            "rgba(11, 7, 36, 1.000)"
           ],
           [
            0.06666666666666667,
            "rgba(12, 8, 38, 1.000)"
           ],
           [
            0.07058823529411765,
            "rgba(13, 8, 41, 1.000)"
           ],
           [
            0.07450980392156863,
            "rgba(14, 9, 43, 1.000)"
           ],
           [
            0.0784313725490196,
            "rgba(16, 9, 45, 1.000)"
           ],
           [
            0.08235294117647059,
            "rgba(17, 10, 48, 1.000)"
           ],
           [
            0.08627450980392157,
            "rgba(18, 10, 50, 1.000)"
           ],
           [
            0.09019607843137255,
            "rgba(20, 11, 52, 1.000)"
           ],
           [
            0.09411764705882353,
            "rgba(21, 11, 55, 1.000)"
           ],
           [
            0.09803921568627451,
            "rgba(22, 11, 57, 1.000)"
           ],
           [
            0.10196078431372549,
            "rgba(24, 12, 60, 1.000)"
           ],
           [
            0.10588235294117647,
            "rgba(25, 12, 62, 1.000)"
           ],
           [
            0.10980392156862745,
            "rgba(27, 12, 65, 1.000)"
           ],
           [
            0.11372549019607843,
            "rgba(28, 12, 67, 1.000)"
           ],
           [
            0.11764705882352941,
            "rgba(30, 12, 69, 1.000)"
           ],
           [
            0.12156862745098039,
            "rgba(31, 12, 72, 1.000)"
           ],
           [
            0.12549019607843137,
            "rgba(33, 12, 74, 1.000)"
           ],
           [
            0.12941176470588237,
            "rgba(35, 12, 76, 1.000)"
           ],
           [
            0.13333333333333333,
            "rgba(36, 12, 79, 1.000)"
           ],
           [
            0.13725490196078433,
            "rgba(38, 12, 81, 1.000)"
           ],
           [
            0.1411764705882353,
            "rgba(40, 11, 83, 1.000)"
           ],
           [
            0.1450980392156863,
            "rgba(41, 11, 85, 1.000)"
           ],
           [
            0.14901960784313725,
            "rgba(43, 11, 87, 1.000)"
           ],
           [
            0.15294117647058825,
            "rgba(45, 11, 89, 1.000)"
           ],
           [
            0.1568627450980392,
            "rgba(47, 10, 91, 1.000)"
           ],
           [
            0.1607843137254902,
            "rgba(49, 10, 92, 1.000)"
           ],
           [
            0.16470588235294117,
            "rgba(50, 10, 94, 1.000)"
           ],
           [
            0.16862745098039217,
            "rgba(52, 10, 95, 1.000)"
           ],
           [
            0.17254901960784313,
            "rgba(54, 9, 97, 1.000)"
           ],
           [
            0.17647058823529413,
            "rgba(56, 9, 98, 1.000)"
           ],
           [
            0.1803921568627451,
            "rgba(57, 9, 99, 1.000)"
           ],
           [
            0.1843137254901961,
            "rgba(59, 9, 100, 1.000)"
           ],
           [
            0.18823529411764706,
            "rgba(61, 9, 101, 1.000)"
           ],
           [
            0.19215686274509805,
            "rgba(62, 9, 102, 1.000)"
           ],
           [
            0.19607843137254902,
            "rgba(64, 10, 103, 1.000)"
           ],
           [
            0.2,
            "rgba(66, 10, 104, 1.000)"
           ],
           [
            0.20392156862745098,
            "rgba(68, 10, 104, 1.000)"
           ],
           [
            0.20784313725490197,
            "rgba(69, 10, 105, 1.000)"
           ],
           [
            0.21176470588235294,
            "rgba(71, 11, 106, 1.000)"
           ],
           [
            0.21568627450980393,
            "rgba(73, 11, 106, 1.000)"
           ],
           [
            0.2196078431372549,
            "rgba(74, 12, 107, 1.000)"
           ],
           [
            0.2235294117647059,
            "rgba(76, 12, 107, 1.000)"
           ],
           [
            0.22745098039215686,
            "rgba(77, 13, 108, 1.000)"
           ],
           [
            0.23137254901960785,
            "rgba(79, 13, 108, 1.000)"
           ],
           [
            0.23529411764705882,
            "rgba(81, 14, 108, 1.000)"
           ],
           [
            0.23921568627450981,
            "rgba(82, 14, 109, 1.000)"
           ],
           [
            0.24313725490196078,
            "rgba(84, 15, 109, 1.000)"
           ],
           [
            0.24705882352941178,
            "rgba(85, 15, 109, 1.000)"
           ],
           [
            0.25098039215686274,
            "rgba(87, 16, 110, 1.000)"
           ],
           [
            0.2549019607843137,
            "rgba(89, 16, 110, 1.000)"
           ],
           [
            0.25882352941176473,
            "rgba(90, 17, 110, 1.000)"
           ],
           [
            0.2627450980392157,
            "rgba(92, 18, 110, 1.000)"
           ],
           [
            0.26666666666666666,
            "rgba(93, 18, 110, 1.000)"
           ],
           [
            0.27058823529411763,
            "rgba(95, 19, 110, 1.000)"
           ],
           [
            0.27450980392156865,
            "rgba(97, 19, 110, 1.000)"
           ],
           [
            0.2784313725490196,
            "rgba(98, 20, 110, 1.000)"
           ],
           [
            0.2823529411764706,
            "rgba(100, 21, 110, 1.000)"
           ],
           [
            0.28627450980392155,
            "rgba(101, 21, 110, 1.000)"
           ],
           [
            0.2901960784313726,
            "rgba(103, 22, 110, 1.000)"
           ],
           [
            0.29411764705882354,
            "rgba(105, 22, 110, 1.000)"
           ],
           [
            0.2980392156862745,
            "rgba(106, 23, 110, 1.000)"
           ],
           [
            0.30196078431372547,
            "rgba(108, 24, 110, 1.000)"
           ],
           [
            0.3058823529411765,
            "rgba(109, 24, 110, 1.000)"
           ],
           [
            0.30980392156862746,
            "rgba(111, 25, 110, 1.000)"
           ],
           [
            0.3137254901960784,
            "rgba(113, 25, 110, 1.000)"
           ],
           [
            0.3176470588235294,
            "rgba(114, 26, 110, 1.000)"
           ],
           [
            0.3215686274509804,
            "rgba(116, 26, 110, 1.000)"
           ],
           [
            0.3254901960784314,
            "rgba(117, 27, 110, 1.000)"
           ],
           [
            0.32941176470588235,
            "rgba(119, 28, 109, 1.000)"
           ],
           [
            0.3333333333333333,
            "rgba(120, 28, 109, 1.000)"
           ],
           [
            0.33725490196078434,
            "rgba(122, 29, 109, 1.000)"
           ],
           [
            0.3411764705882353,
            "rgba(124, 29, 109, 1.000)"
           ],
           [
            0.34509803921568627,
            "rgba(125, 30, 109, 1.000)"
           ],
           [
            0.34901960784313724,
            "rgba(127, 30, 108, 1.000)"
           ],
           [
            0.35294117647058826,
            "rgba(128, 31, 108, 1.000)"
           ],
           [
            0.3568627450980392,
            "rgba(130, 32, 108, 1.000)"
           ],
           [
            0.3607843137254902,
            "rgba(132, 32, 107, 1.000)"
           ],
           [
            0.36470588235294116,
            "rgba(133, 33, 107, 1.000)"
           ],
           [
            0.3686274509803922,
            "rgba(135, 33, 107, 1.000)"
           ],
           [
            0.37254901960784315,
            "rgba(136, 34, 106, 1.000)"
           ],
           [
            0.3764705882352941,
            "rgba(138, 34, 106, 1.000)"
           ],
           [
            0.3803921568627451,
            "rgba(140, 35, 105, 1.000)"
           ],
           [
            0.3843137254901961,
            "rgba(141, 35, 105, 1.000)"
           ],
           [
            0.38823529411764707,
            "rgba(143, 36, 105, 1.000)"
           ],
           [
            0.39215686274509803,
            "rgba(144, 37, 104, 1.000)"
           ],
           [
            0.396078431372549,
            "rgba(146, 37, 104, 1.000)"
           ],
           [
            0.4,
            "rgba(147, 38, 103, 1.000)"
           ],
           [
            0.403921568627451,
            "rgba(149, 38, 103, 1.000)"
           ],
           [
            0.40784313725490196,
            "rgba(151, 39, 102, 1.000)"
           ],
           [
            0.4117647058823529,
            "rgba(152, 39, 102, 1.000)"
           ],
           [
            0.41568627450980394,
            "rgba(154, 40, 101, 1.000)"
           ],
           [
            0.4196078431372549,
            "rgba(155, 41, 100, 1.000)"
           ],
           [
            0.4235294117647059,
            "rgba(157, 41, 100, 1.000)"
           ],
           [
            0.42745098039215684,
            "rgba(159, 42, 99, 1.000)"
           ],
           [
            0.43137254901960786,
            "rgba(160, 42, 99, 1.000)"
           ],
           [
            0.43529411764705883,
            "rgba(162, 43, 98, 1.000)"
           ],
           [
            0.4392156862745098,
            "rgba(163, 44, 97, 1.000)"
           ],
           [
            0.44313725490196076,
            "rgba(165, 44, 96, 1.000)"
           ],
           [
            0.4470588235294118,
            "rgba(166, 45, 96, 1.000)"
           ],
           [
            0.45098039215686275,
            "rgba(168, 46, 95, 1.000)"
           ],
           [
            0.4549019607843137,
            "rgba(169, 46, 94, 1.000)"
           ],
           [
            0.4588235294117647,
            "rgba(171, 47, 94, 1.000)"
           ],
           [
            0.4627450980392157,
            "rgba(173, 48, 93, 1.000)"
           ],
           [
            0.4666666666666667,
            "rgba(174, 48, 92, 1.000)"
           ],
           [
            0.47058823529411764,
            "rgba(176, 49, 91, 1.000)"
           ],
           [
            0.4745098039215686,
            "rgba(177, 50, 90, 1.000)"
           ],
           [
            0.47843137254901963,
            "rgba(179, 50, 90, 1.000)"
           ],
           [
            0.4823529411764706,
            "rgba(180, 51, 89, 1.000)"
           ],
           [
            0.48627450980392156,
            "rgba(182, 52, 88, 1.000)"
           ],
           [
            0.49019607843137253,
            "rgba(183, 53, 87, 1.000)"
           ],
           [
            0.49411764705882355,
            "rgba(185, 53, 86, 1.000)"
           ],
           [
            0.4980392156862745,
            "rgba(186, 54, 85, 1.000)"
           ],
           [
            0.5019607843137255,
            "rgba(188, 55, 84, 1.000)"
           ],
           [
            0.5058823529411764,
            "rgba(189, 56, 83, 1.000)"
           ],
           [
            0.5098039215686274,
            "rgba(191, 57, 82, 1.000)"
           ],
           [
            0.5137254901960784,
            "rgba(192, 58, 81, 1.000)"
           ],
           [
            0.5176470588235295,
            "rgba(193, 58, 80, 1.000)"
           ],
           [
            0.5215686274509804,
            "rgba(195, 59, 79, 1.000)"
           ],
           [
            0.5254901960784314,
            "rgba(196, 60, 78, 1.000)"
           ],
           [
            0.5294117647058824,
            "rgba(198, 61, 77, 1.000)"
           ],
           [
            0.5333333333333333,
            "rgba(199, 62, 76, 1.000)"
           ],
           [
            0.5372549019607843,
            "rgba(200, 63, 75, 1.000)"
           ],
           [
            0.5411764705882353,
            "rgba(202, 64, 74, 1.000)"
           ],
           [
            0.5450980392156862,
            "rgba(203, 65, 73, 1.000)"
           ],
           [
            0.5490196078431373,
            "rgba(204, 66, 72, 1.000)"
           ],
           [
            0.5529411764705883,
            "rgba(206, 67, 71, 1.000)"
           ],
           [
            0.5568627450980392,
            "rgba(207, 68, 70, 1.000)"
           ],
           [
            0.5607843137254902,
            "rgba(208, 69, 69, 1.000)"
           ],
           [
            0.5647058823529412,
            "rgba(210, 70, 68, 1.000)"
           ],
           [
            0.5686274509803921,
            "rgba(211, 71, 67, 1.000)"
           ],
           [
            0.5725490196078431,
            "rgba(212, 72, 66, 1.000)"
           ],
           [
            0.5764705882352941,
            "rgba(213, 74, 65, 1.000)"
           ],
           [
            0.5803921568627451,
            "rgba(215, 75, 63, 1.000)"
           ],
           [
            0.5843137254901961,
            "rgba(216, 76, 62, 1.000)"
           ],
           [
            0.5882352941176471,
            "rgba(217, 77, 61, 1.000)"
           ],
           [
            0.592156862745098,
            "rgba(218, 78, 60, 1.000)"
           ],
           [
            0.596078431372549,
            "rgba(219, 80, 59, 1.000)"
           ],
           [
            0.6,
            "rgba(221, 81, 58, 1.000)"
           ],
           [
            0.6039215686274509,
            "rgba(222, 82, 56, 1.000)"
           ],
           [
            0.6078431372549019,
            "rgba(223, 83, 55, 1.000)"
           ],
           [
            0.611764705882353,
            "rgba(224, 85, 54, 1.000)"
           ],
           [
            0.615686274509804,
            "rgba(225, 86, 53, 1.000)"
           ],
           [
            0.6196078431372549,
            "rgba(226, 87, 52, 1.000)"
           ],
           [
            0.6235294117647059,
            "rgba(227, 89, 51, 1.000)"
           ],
           [
            0.6274509803921569,
            "rgba(228, 90, 49, 1.000)"
           ],
           [
            0.6313725490196078,
            "rgba(229, 92, 48, 1.000)"
           ],
           [
            0.6352941176470588,
            "rgba(230, 93, 47, 1.000)"
           ],
           [
            0.6392156862745098,
            "rgba(231, 94, 46, 1.000)"
           ],
           [
            0.6431372549019608,
            "rgba(232, 96, 45, 1.000)"
           ],
           [
            0.6470588235294118,
            "rgba(233, 97, 43, 1.000)"
           ],
           [
            0.6509803921568628,
            "rgba(234, 99, 42, 1.000)"
           ],
           [
            0.6549019607843137,
            "rgba(235, 100, 41, 1.000)"
           ],
           [
            0.6588235294117647,
            "rgba(235, 102, 40, 1.000)"
           ],
           [
            0.6627450980392157,
            "rgba(236, 103, 38, 1.000)"
           ],
           [
            0.6666666666666666,
            "rgba(237, 105, 37, 1.000)"
           ],
           [
            0.6705882352941176,
            "rgba(238, 106, 36, 1.000)"
           ],
           [
            0.6745098039215687,
            "rgba(239, 108, 35, 1.000)"
           ],
           [
            0.6784313725490196,
            "rgba(239, 110, 33, 1.000)"
           ],
           [
            0.6823529411764706,
            "rgba(240, 111, 32, 1.000)"
           ],
           [
            0.6862745098039216,
            "rgba(241, 113, 31, 1.000)"
           ],
           [
            0.6901960784313725,
            "rgba(241, 115, 29, 1.000)"
           ],
           [
            0.6941176470588235,
            "rgba(242, 116, 28, 1.000)"
           ],
           [
            0.6980392156862745,
            "rgba(243, 118, 27, 1.000)"
           ],
           [
            0.7019607843137254,
            "rgba(243, 120, 25, 1.000)"
           ],
           [
            0.7058823529411765,
            "rgba(244, 121, 24, 1.000)"
           ],
           [
            0.7098039215686275,
            "rgba(245, 123, 23, 1.000)"
           ],
           [
            0.7137254901960784,
            "rgba(245, 125, 21, 1.000)"
           ],
           [
            0.7176470588235294,
            "rgba(246, 126, 20, 1.000)"
           ],
           [
            0.7215686274509804,
            "rgba(246, 128, 19, 1.000)"
           ],
           [
            0.7254901960784313,
            "rgba(247, 130, 18, 1.000)"
           ],
           [
            0.7294117647058823,
            "rgba(247, 132, 16, 1.000)"
           ],
           [
            0.7333333333333333,
            "rgba(248, 133, 15, 1.000)"
           ],
           [
            0.7372549019607844,
            "rgba(248, 135, 14, 1.000)"
           ],
           [
            0.7411764705882353,
            "rgba(248, 137, 12, 1.000)"
           ],
           [
            0.7450980392156863,
            "rgba(249, 139, 11, 1.000)"
           ],
           [
            0.7490196078431373,
            "rgba(249, 140, 10, 1.000)"
           ],
           [
            0.7529411764705882,
            "rgba(249, 142, 9, 1.000)"
           ],
           [
            0.7568627450980392,
            "rgba(250, 144, 8, 1.000)"
           ],
           [
            0.7607843137254902,
            "rgba(250, 146, 7, 1.000)"
           ],
           [
            0.7647058823529411,
            "rgba(250, 148, 7, 1.000)"
           ],
           [
            0.7686274509803922,
            "rgba(251, 150, 6, 1.000)"
           ],
           [
            0.7725490196078432,
            "rgba(251, 151, 6, 1.000)"
           ],
           [
            0.7764705882352941,
            "rgba(251, 153, 6, 1.000)"
           ],
           [
            0.7803921568627451,
            "rgba(251, 155, 6, 1.000)"
           ],
           [
            0.7843137254901961,
            "rgba(251, 157, 7, 1.000)"
           ],
           [
            0.788235294117647,
            "rgba(252, 159, 7, 1.000)"
           ],
           [
            0.792156862745098,
            "rgba(252, 161, 8, 1.000)"
           ],
           [
            0.796078431372549,
            "rgba(252, 163, 9, 1.000)"
           ],
           [
            0.8,
            "rgba(252, 165, 10, 1.000)"
           ],
           [
            0.803921568627451,
            "rgba(252, 166, 12, 1.000)"
           ],
           [
            0.807843137254902,
            "rgba(252, 168, 13, 1.000)"
           ],
           [
            0.8117647058823529,
            "rgba(252, 170, 15, 1.000)"
           ],
           [
            0.8156862745098039,
            "rgba(252, 172, 17, 1.000)"
           ],
           [
            0.8196078431372549,
            "rgba(252, 174, 18, 1.000)"
           ],
           [
            0.8235294117647058,
            "rgba(252, 176, 20, 1.000)"
           ],
           [
            0.8274509803921568,
            "rgba(252, 178, 22, 1.000)"
           ],
           [
            0.8313725490196079,
            "rgba(252, 180, 24, 1.000)"
           ],
           [
            0.8352941176470589,
            "rgba(251, 182, 26, 1.000)"
           ],
           [
            0.8392156862745098,
            "rgba(251, 184, 29, 1.000)"
           ],
           [
            0.8431372549019608,
            "rgba(251, 186, 31, 1.000)"
           ],
           [
            0.8470588235294118,
            "rgba(251, 188, 33, 1.000)"
           ],
           [
            0.8509803921568627,
            "rgba(251, 190, 35, 1.000)"
           ],
           [
            0.8549019607843137,
            "rgba(250, 192, 38, 1.000)"
           ],
           [
            0.8588235294117647,
            "rgba(250, 194, 40, 1.000)"
           ],
           [
            0.8627450980392157,
            "rgba(250, 196, 42, 1.000)"
           ],
           [
            0.8666666666666667,
            "rgba(250, 198, 45, 1.000)"
           ],
           [
            0.8705882352941177,
            "rgba(249, 199, 47, 1.000)"
           ],
           [
            0.8745098039215686,
            "rgba(249, 201, 50, 1.000)"
           ],
           [
            0.8784313725490196,
            "rgba(249, 203, 53, 1.000)"
           ],
           [
            0.8823529411764706,
            "rgba(248, 205, 55, 1.000)"
           ],
           [
            0.8862745098039215,
            "rgba(248, 207, 58, 1.000)"
           ],
           [
            0.8901960784313725,
            "rgba(247, 209, 61, 1.000)"
           ],
           [
            0.8941176470588236,
            "rgba(247, 211, 64, 1.000)"
           ],
           [
            0.8980392156862745,
            "rgba(246, 213, 67, 1.000)"
           ],
           [
            0.9019607843137255,
            "rgba(246, 215, 70, 1.000)"
           ],
           [
            0.9058823529411765,
            "rgba(245, 217, 73, 1.000)"
           ],
           [
            0.9098039215686274,
            "rgba(245, 219, 76, 1.000)"
           ],
           [
            0.9137254901960784,
            "rgba(244, 221, 79, 1.000)"
           ],
           [
            0.9176470588235294,
            "rgba(244, 223, 83, 1.000)"
           ],
           [
            0.9215686274509803,
            "rgba(244, 225, 86, 1.000)"
           ],
           [
            0.9254901960784314,
            "rgba(243, 227, 90, 1.000)"
           ],
           [
            0.9294117647058824,
            "rgba(243, 229, 93, 1.000)"
           ],
           [
            0.9333333333333333,
            "rgba(242, 230, 97, 1.000)"
           ],
           [
            0.9372549019607843,
            "rgba(242, 232, 101, 1.000)"
           ],
           [
            0.9411764705882353,
            "rgba(242, 234, 105, 1.000)"
           ],
           [
            0.9450980392156862,
            "rgba(241, 236, 109, 1.000)"
           ],
           [
            0.9490196078431372,
            "rgba(241, 237, 113, 1.000)"
           ],
           [
            0.9529411764705882,
            "rgba(241, 239, 117, 1.000)"
           ],
           [
            0.9568627450980393,
            "rgba(241, 241, 121, 1.000)"
           ],
           [
            0.9607843137254902,
            "rgba(242, 242, 125, 1.000)"
           ],
           [
            0.9647058823529412,
            "rgba(242, 244, 130, 1.000)"
           ],
           [
            0.9686274509803922,
            "rgba(243, 245, 134, 1.000)"
           ],
           [
            0.9725490196078431,
            "rgba(243, 246, 138, 1.000)"
           ],
           [
            0.9764705882352941,
            "rgba(244, 248, 142, 1.000)"
           ],
           [
            0.9803921568627451,
            "rgba(245, 249, 146, 1.000)"
           ],
           [
            0.984313725490196,
            "rgba(246, 250, 150, 1.000)"
           ],
           [
            0.9882352941176471,
            "rgba(248, 251, 154, 1.000)"
           ],
           [
            0.9921568627450981,
            "rgba(249, 252, 157, 1.000)"
           ],
           [
            0.996078431372549,
            "rgba(250, 253, 161, 1.000)"
           ],
           [
            1,
            "rgba(252, 255, 164, 1.000)"
           ]
          ],
          "opacity": 1e-10,
          "showscale": true,
          "size": 1e-10
         },
         "mode": "markers",
         "name": "y2",
         "scene": "scene",
         "showlegend": false,
         "type": "scatter3d",
         "x": [
          0.09638785833971715
         ],
         "xaxis": "x",
         "y": [
          0.20289354441017798
         ],
         "yaxis": "y",
         "z": [
          -0.4609724617056103
         ],
         "zaxis": "z",
         "zmax": 6,
         "zmin": 1
        },
        {
         "colorbar": {
          "title": {
           "text": ""
          }
         },
         "legendgroup": "y3",
         "line": {
          "color": "rgba(0, 0, 0, 1)",
          "dash": "solid",
          "shape": "linear",
          "width": 2
         },
         "mode": "lines",
         "name": "y3",
         "scene": "scene",
         "showlegend": true,
         "type": "scatter3d",
         "x": [
          0.09638785833971715,
          -0.005719306731424347,
          0.22283811640569456,
          0,
          0.4600712633589899,
          -0.2330437238176911
         ],
         "xaxis": "x",
         "y": [
          0.20289354441017798,
          0.2863711519720055,
          7.019694195936876e-79,
          0,
          0.9907149413152685,
          0.46005538440413496
         ],
         "yaxis": "y",
         "z": [
          -0.4609724617056103,
          0.6288352511838536,
          2.99869644312854e-79,
          0,
          6.066379408746007e-17,
          0.303454984374694
         ],
         "zaxis": "z",
         "zmax": 6,
         "zmin": 1
        }
       ],
       "layout": {
        "annotations": [],
        "height": 400,
        "legend": {
         "bgcolor": "rgba(255, 255, 255, 1.000)",
         "bordercolor": "rgba(0, 0, 0, 1)",
         "borderwidth": 1,
         "font": {
          "color": "rgba(0, 0, 0, 1)",
          "family": "sans-serif",
          "size": 11
         },
         "title": {
          "font": {
           "color": "rgba(0, 0, 0, 1)",
           "family": "sans-serif",
           "size": 15
          },
          "text": ""
         },
         "tracegroupgap": 0,
         "traceorder": "normal",
         "x": 1,
         "xanchor": "auto",
         "y": 1,
         "yanchor": "auto"
        },
        "margin": {
         "b": 20,
         "l": 0,
         "r": 0,
         "t": 20
        },
        "paper_bgcolor": "rgba(255, 255, 255, 1.000)",
        "plot_bgcolor": "rgba(255, 255, 255, 1.000)",
        "scene": {
         "aspectmode": "auto",
         "aspectratio": {
          "x": 1.1208636575310809,
          "y": 0.90058150513526,
          "z": 0.9906589973085761
         },
         "camera": {
          "center": {
           "x": 0,
           "y": 0,
           "z": 0
          },
          "eye": {
           "x": 0.056763525374558636,
           "y": -0.09831730996546079,
           "z": 0.0655448733103072
          },
          "projection": {
           "type": "perspective"
          },
          "up": {
           "x": 0,
           "y": 0,
           "z": 1
          }
         },
         "domain": {
          "x": [
           0.09128390201224845,
           0.9934383202099738
          ],
          "y": [
           0.07581474190726165,
           0.9901574803149606
          ]
         },
         "xaxis": {
          "gridcolor": "rgba(0, 0, 0, 0.1)",
          "gridwidth": 0.5,
          "linecolor": "rgba(0, 0, 0, 1)",
          "mirror": false,
          "range": [
           -0.2700350355322218,
           1.0369913117145306
          ],
          "showgrid": true,
          "showline": true,
          "showticklabels": true,
          "tickangle": 0,
          "tickcolor": "rgb(0, 0, 0)",
          "tickfont": {
           "color": "rgba(0, 0, 0, 1)",
           "family": "sans-serif",
           "size": 11
          },
          "tickmode": "array",
          "ticks": "inside",
          "ticktext": [
           "0.0",
           "0.3",
           "0.6",
           "0.9"
          ],
          "tickvals": [
           0,
           0.30000000000000004,
           0.6000000000000001,
           0.9000000000000001
          ],
          "title": {
           "font": {
            "color": "rgba(0, 0, 0, 1)",
            "family": "sans-serif",
            "size": 15
           },
           "text": "x"
          },
          "type": "linear",
          "visible": true,
          "zeroline": false,
          "zerolinecolor": "rgba(0, 0, 0, 1)"
         },
         "yaxis": {
          "gridcolor": "rgba(0, 0, 0, 0.1)",
          "gridwidth": 0.5,
          "linecolor": "rgba(0, 0, 0, 1)",
          "mirror": false,
          "range": [
           -0.029721448239458055,
           1.0204363895547266
          ],
          "showgrid": true,
          "showline": true,
          "showticklabels": true,
          "tickangle": 0,
          "tickcolor": "rgb(0, 0, 0)",
          "tickfont": {
           "color": "rgba(0, 0, 0, 1)",
           "family": "sans-serif",
           "size": 11
          },
          "tickmode": "array",
          "ticks": "inside",
          "ticktext": [
           "0.00",
           "0.25",
           "0.50",
           "0.75",
           "1.00"
          ],
          "tickvals": [
           0,
           0.25,
           0.5,
           0.75,
           1
          ],
          "title": {
           "font": {
            "color": "rgba(0, 0, 0, 1)",
            "family": "sans-serif",
            "size": 15
           },
           "text": "y"
          },
          "type": "linear",
          "visible": true,
          "zeroline": false,
          "zerolinecolor": "rgba(0, 0, 0, 1)"
         },
         "zaxis": {
          "gridcolor": "rgba(0, 0, 0, 0.1)",
          "gridwidth": 0.5,
          "linecolor": "rgba(0, 0, 0, 1)",
          "mirror": false,
          "range": [
           -0.4936666930922942,
           0.6615294825705376
          ],
          "showgrid": true,
          "showline": true,
          "showticklabels": true,
          "tickangle": 0,
          "tickcolor": "rgb(0, 0, 0)",
          "tickfont": {
           "color": "rgba(0, 0, 0, 1)",
           "family": "sans-serif",
           "size": 11
          },
          "tickmode": "array",
          "ticks": "inside",
          "ticktext": [
           "-0.25",
           "0.00",
           "0.25",
           "0.50"
          ],
          "tickvals": [
           -0.25,
           0,
           0.25,
           0.5
          ],
          "title": {
           "font": {
            "color": "rgba(0, 0, 0, 1)",
            "family": "sans-serif",
            "size": 15
           },
           "text": "z"
          },
          "type": "linear",
          "visible": true,
          "zeroline": false,
          "zerolinecolor": "rgba(0, 0, 0, 1)"
         }
        },
        "showlegend": true,
        "width": 600
       }
      },
      "image/png": "[encoded data removed]",
      "text/html": [
       "    <div id=\"b220ec12-da69-4bdc-93da-9fd05bed5165\" style=\"width:600px;height:400px;\"></div>\n",
       "    <script>\n",
       "        requirejs.config({\n",
       "        paths: {\n",
       "            Plotly: 'https://cdn.plot.ly/plotly-1.57.1.min'\n",
       "        }\n",
       "    });\n",
       "    require(['Plotly'], function (Plotly) {\n",
       "\n",
       "        var PLOT = document.getElementById('b220ec12-da69-4bdc-93da-9fd05bed5165');\n",
       "    Plotly.plot(PLOT, [\n",
       "    {\n",
       "        \"xaxis\": \"x\",\n",
       "        \"colorbar\": {\n",
       "            \"title\": \"\"\n",
       "        },\n",
       "        \"yaxis\": \"y\",\n",
       "        \"zaxis\": \"z\",\n",
       "        \"x\": [\n",
       "            0.0,\n",
       "            1.0\n",
       "        ],\n",
       "        \"showlegend\": true,\n",
       "        \"mode\": \"lines\",\n",
       "        \"name\": \"y1\",\n",
       "        \"zmin\": 1.0,\n",
       "        \"legendgroup\": \"y1\",\n",
       "        \"z\": [\n",
       "            0.0,\n",
       "            0.0\n",
       "        ],\n",
       "        \"zmax\": 6.0,\n",
       "        \"line\": {\n",
       "            \"color\": \"rgba(0, 154, 250, 1.000)\",\n",
       "            \"shape\": \"linear\",\n",
       "            \"dash\": \"dash\",\n",
       "            \"width\": 1\n",
       "        },\n",
       "        \"y\": [\n",
       "            0.0,\n",
       "            0.0\n",
       "        ],\n",
       "        \"type\": \"scatter3d\",\n",
       "        \"scene\": \"scene\"\n",
       "    },\n",
       "    {\n",
       "        \"xaxis\": \"x\",\n",
       "        \"colorbar\": {\n",
       "            \"title\": \"\"\n",
       "        },\n",
       "        \"yaxis\": \"y\",\n",
       "        \"zaxis\": \"z\",\n",
       "        \"x\": [\n",
       "            0.09638785833971715\n",
       "        ],\n",
       "        \"showlegend\": true,\n",
       "        \"mode\": \"markers\",\n",
       "        \"name\": \"y2\",\n",
       "        \"zmin\": 1.0,\n",
       "        \"legendgroup\": \"y2\",\n",
       "        \"z\": [\n",
       "            -0.4609724617056103\n",
       "        ],\n",
       "        \"marker\": {\n",
       "            \"symbol\": \"circle\",\n",
       "            \"color\": \"rgba(0, 0, 4, 1.000)\",\n",
       "            \"line\": {\n",
       "                \"color\": \"rgba(0, 0, 0, 1.000)\",\n",
       "                \"width\": 1\n",
       "            },\n",
       "            \"size\": 6\n",
       "        },\n",
       "        \"zmax\": 6.0,\n",
       "        \"y\": [\n",
       "            0.20289354441017798\n",
       "        ],\n",
       "        \"type\": \"scatter3d\",\n",
       "        \"scene\": \"scene\"\n",
       "    },\n",
       "    {\n",
       "        \"xaxis\": \"x\",\n",
       "        \"colorbar\": {\n",
       "            \"title\": \"\"\n",
       "        },\n",
       "        \"yaxis\": \"y\",\n",
       "        \"zaxis\": \"z\",\n",
       "        \"x\": [\n",
       "            -0.005719306731424347\n",
       "        ],\n",
       "        \"showlegend\": false,\n",
       "        \"mode\": \"markers\",\n",
       "        \"name\": \"y2\",\n",
       "        \"zmin\": 1.0,\n",
       "        \"legendgroup\": \"y2\",\n",
       "        \"z\": [\n",
       "            0.6288352511838536\n",
       "        ],\n",
       "        \"marker\": {\n",
       "            \"symbol\": \"circle\",\n",
       "            \"color\": \"rgba(66, 10, 104, 1.000)\",\n",
       "            \"line\": {\n",
       "                \"color\": \"rgba(0, 0, 0, 1.000)\",\n",
       "                \"width\": 1\n",
       "            },\n",
       "            \"size\": 6\n",
       "        },\n",
       "        \"zmax\": 6.0,\n",
       "        \"y\": [\n",
       "            0.2863711519720055\n",
       "        ],\n",
       "        \"type\": \"scatter3d\",\n",
       "        \"scene\": \"scene\"\n",
       "    },\n",
       "    {\n",
       "        \"xaxis\": \"x\",\n",
       "        \"colorbar\": {\n",
       "            \"title\": \"\"\n",
       "        },\n",
       "        \"yaxis\": \"y\",\n",
       "        \"zaxis\": \"z\",\n",
       "        \"x\": [\n",
       "            0.22283811640569456\n",
       "        ],\n",
       "        \"showlegend\": false,\n",
       "        \"mode\": \"markers\",\n",
       "        \"name\": \"y2\",\n",
       "        \"zmin\": 1.0,\n",
       "        \"legendgroup\": \"y2\",\n",
       "        \"z\": [\n",
       "            2.99869644312854e-79\n",
       "        ],\n",
       "        \"marker\": {\n",
       "            \"symbol\": \"circle\",\n",
       "            \"color\": \"rgba(147, 38, 103, 1.000)\",\n",
       "            \"line\": {\n",
       "                \"color\": \"rgba(0, 0, 0, 1.000)\",\n",
       "                \"width\": 1\n",
       "            },\n",
       "            \"size\": 6\n",
       "        },\n",
       "        \"zmax\": 6.0,\n",
       "        \"y\": [\n",
       "            7.019694195936876e-79\n",
       "        ],\n",
       "        \"type\": \"scatter3d\",\n",
       "        \"scene\": \"scene\"\n",
       "    },\n",
       "    {\n",
       "        \"xaxis\": \"x\",\n",
       "        \"colorbar\": {\n",
       "            \"title\": \"\"\n",
       "        },\n",
       "        \"yaxis\": \"y\",\n",
       "        \"zaxis\": \"z\",\n",
       "        \"x\": [\n",
       "            0.0\n",
       "        ],\n",
       "        \"showlegend\": false,\n",
       "        \"mode\": \"markers\",\n",
       "        \"name\": \"y2\",\n",
       "        \"zmin\": 1.0,\n",
       "        \"legendgroup\": \"y2\",\n",
       "        \"z\": [\n",
       "            0.0\n",
       "        ],\n",
       "        \"marker\": {\n",
       "            \"symbol\": \"circle\",\n",
       "            \"color\": \"rgba(221, 81, 58, 1.000)\",\n",
       "            \"line\": {\n",
       "                \"color\": \"rgba(0, 0, 0, 1.000)\",\n",
       "                \"width\": 1\n",
       "            },\n",
       "            \"size\": 6\n",
       "        },\n",
       "        \"zmax\": 6.0,\n",
       "        \"y\": [\n",
       "            0.0\n",
       "        ],\n",
       "        \"type\": \"scatter3d\",\n",
       "        \"scene\": \"scene\"\n",
       "    },\n",
       "    {\n",
       "        \"xaxis\": \"x\",\n",
       "        \"colorbar\": {\n",
       "            \"title\": \"\"\n",
       "        },\n",
       "        \"yaxis\": \"y\",\n",
       "        \"zaxis\": \"z\",\n",
       "        \"x\": [\n",
       "            0.4600712633589899\n",
       "        ],\n",
       "        \"showlegend\": false,\n",
       "        \"mode\": \"markers\",\n",
       "        \"name\": \"y2\",\n",
       "        \"zmin\": 1.0,\n",
       "        \"legendgroup\": \"y2\",\n",
       "        \"z\": [\n",
       "            6.066379408746007e-17\n",
       "        ],\n",
       "        \"marker\": {\n",
       "            \"symbol\": \"circle\",\n",
       "            \"color\": \"rgba(252, 165, 10, 1.000)\",\n",
       "            \"line\": {\n",
       "                \"color\": \"rgba(0, 0, 0, 1.000)\",\n",
       "                \"width\": 1\n",
       "            },\n",
       "            \"size\": 6\n",
       "        },\n",
       "        \"zmax\": 6.0,\n",
       "        \"y\": [\n",
       "            0.9907149413152685\n",
       "        ],\n",
       "        \"type\": \"scatter3d\",\n",
       "        \"scene\": \"scene\"\n",
       "    },\n",
       "    {\n",
       "        \"xaxis\": \"x\",\n",
       "        \"colorbar\": {\n",
       "            \"title\": \"\"\n",
       "        },\n",
       "        \"yaxis\": \"y\",\n",
       "        \"zaxis\": \"z\",\n",
       "        \"x\": [\n",
       "            -0.2330437238176911\n",
       "        ],\n",
       "        \"showlegend\": false,\n",
       "        \"mode\": \"markers\",\n",
       "        \"name\": \"y2\",\n",
       "        \"zmin\": 1.0,\n",
       "        \"legendgroup\": \"y2\",\n",
       "        \"z\": [\n",
       "            0.303454984374694\n",
       "        ],\n",
       "        \"marker\": {\n",
       "            \"symbol\": \"circle\",\n",
       "            \"color\": \"rgba(252, 255, 164, 1.000)\",\n",
       "            \"line\": {\n",
       "                \"color\": \"rgba(0, 0, 0, 1.000)\",\n",
       "                \"width\": 1\n",
       "            },\n",
       "            \"size\": 6\n",
       "        },\n",
       "        \"zmax\": 6.0,\n",
       "        \"y\": [\n",
       "            0.46005538440413496\n",
       "        ],\n",
       "        \"type\": \"scatter3d\",\n",
       "        \"scene\": \"scene\"\n",
       "    },\n",
       "    {\n",
       "        \"xaxis\": \"x\",\n",
       "        \"colorbar\": {\n",
       "            \"title\": \"\"\n",
       "        },\n",
       "        \"yaxis\": \"y\",\n",
       "        \"zaxis\": \"z\",\n",
       "        \"x\": [\n",
       "            0.09638785833971715\n",
       "        ],\n",
       "        \"showlegend\": false,\n",
       "        \"mode\": \"markers\",\n",
       "        \"name\": \"y2\",\n",
       "        \"zmin\": 1.0,\n",
       "        \"z\": [\n",
       "            -0.4609724617056103\n",
       "        ],\n",
       "        \"marker\": {\n",
       "            \"color\": [\n",
       "                0.5\n",
       "            ],\n",
       "            \"cmin\": 1.0,\n",
       "            \"opacity\": 1.0e-10,\n",
       "            \"size\": 1.0e-10,\n",
       "            \"colorscale\": [\n",
       "                [\n",
       "                    0.0,\n",
       "                    \"rgba(0, 0, 4, 1.000)\"\n",
       "                ],\n",
       "                [\n",
       "                    0.00392156862745098,\n",
       "                    \"rgba(1, 0, 5, 1.000)\"\n",
       "                ],\n",
       "                [\n",
       "                    0.00784313725490196,\n",
       "                    \"rgba(1, 1, 6, 1.000)\"\n",
       "                ],\n",
       "                [\n",
       "                    0.011764705882352941,\n",
       "                    \"rgba(1, 1, 8, 1.000)\"\n",
       "                ],\n",
       "                [\n",
       "                    0.01568627450980392,\n",
       "                    \"rgba(2, 1, 10, 1.000)\"\n",
       "                ],\n",
       "                [\n",
       "                    0.0196078431372549,\n",
       "                    \"rgba(2, 2, 12, 1.000)\"\n",
       "                ],\n",
       "                [\n",
       "                    0.023529411764705882,\n",
       "                    \"rgba(2, 2, 14, 1.000)\"\n",
       "                ],\n",
       "                [\n",
       "                    0.027450980392156862,\n",
       "                    \"rgba(3, 2, 16, 1.000)\"\n",
       "                ],\n",
       "                [\n",
       "                    0.03137254901960784,\n",
       "                    \"rgba(4, 3, 18, 1.000)\"\n",
       "                ],\n",
       "                [\n",
       "                    0.03529411764705882,\n",
       "                    \"rgba(4, 3, 20, 1.000)\"\n",
       "                ],\n",
       "                [\n",
       "                    0.0392156862745098,\n",
       "                    \"rgba(5, 4, 23, 1.000)\"\n",
       "                ],\n",
       "                [\n",
       "                    0.043137254901960784,\n",
       "                    \"rgba(6, 4, 25, 1.000)\"\n",
       "                ],\n",
       "                [\n",
       "                    0.047058823529411764,\n",
       "                    \"rgba(7, 5, 27, 1.000)\"\n",
       "                ],\n",
       "                [\n",
       "                    0.050980392156862744,\n",
       "                    \"rgba(8, 5, 29, 1.000)\"\n",
       "                ],\n",
       "                [\n",
       "                    0.054901960784313725,\n",
       "                    \"rgba(9, 6, 31, 1.000)\"\n",
       "                ],\n",
       "                [\n",
       "                    0.058823529411764705,\n",
       "                    \"rgba(10, 7, 34, 1.000)\"\n",
       "                ],\n",
       "                [\n",
       "                    0.06274509803921569,\n",
       "                    \"rgba(11, 7, 36, 1.000)\"\n",
       "                ],\n",
       "                [\n",
       "                    0.06666666666666667,\n",
       "                    \"rgba(12, 8, 38, 1.000)\"\n",
       "                ],\n",
       "                [\n",
       "                    0.07058823529411765,\n",
       "                    \"rgba(13, 8, 41, 1.000)\"\n",
       "                ],\n",
       "                [\n",
       "                    0.07450980392156863,\n",
       "                    \"rgba(14, 9, 43, 1.000)\"\n",
       "                ],\n",
       "                [\n",
       "                    0.0784313725490196,\n",
       "                    \"rgba(16, 9, 45, 1.000)\"\n",
       "                ],\n",
       "                [\n",
       "                    0.08235294117647059,\n",
       "                    \"rgba(17, 10, 48, 1.000)\"\n",
       "                ],\n",
       "                [\n",
       "                    0.08627450980392157,\n",
       "                    \"rgba(18, 10, 50, 1.000)\"\n",
       "                ],\n",
       "                [\n",
       "                    0.09019607843137255,\n",
       "                    \"rgba(20, 11, 52, 1.000)\"\n",
       "                ],\n",
       "                [\n",
       "                    0.09411764705882353,\n",
       "                    \"rgba(21, 11, 55, 1.000)\"\n",
       "                ],\n",
       "                [\n",
       "                    0.09803921568627451,\n",
       "                    \"rgba(22, 11, 57, 1.000)\"\n",
       "                ],\n",
       "                [\n",
       "                    0.10196078431372549,\n",
       "                    \"rgba(24, 12, 60, 1.000)\"\n",
       "                ],\n",
       "                [\n",
       "                    0.10588235294117647,\n",
       "                    \"rgba(25, 12, 62, 1.000)\"\n",
       "                ],\n",
       "                [\n",
       "                    0.10980392156862745,\n",
       "                    \"rgba(27, 12, 65, 1.000)\"\n",
       "                ],\n",
       "                [\n",
       "                    0.11372549019607843,\n",
       "                    \"rgba(28, 12, 67, 1.000)\"\n",
       "                ],\n",
       "                [\n",
       "                    0.11764705882352941,\n",
       "                    \"rgba(30, 12, 69, 1.000)\"\n",
       "                ],\n",
       "                [\n",
       "                    0.12156862745098039,\n",
       "                    \"rgba(31, 12, 72, 1.000)\"\n",
       "                ],\n",
       "                [\n",
       "                    0.12549019607843137,\n",
       "                    \"rgba(33, 12, 74, 1.000)\"\n",
       "                ],\n",
       "                [\n",
       "                    0.12941176470588237,\n",
       "                    \"rgba(35, 12, 76, 1.000)\"\n",
       "                ],\n",
       "                [\n",
       "                    0.13333333333333333,\n",
       "                    \"rgba(36, 12, 79, 1.000)\"\n",
       "                ],\n",
       "                [\n",
       "                    0.13725490196078433,\n",
       "                    \"rgba(38, 12, 81, 1.000)\"\n",
       "                ],\n",
       "                [\n",
       "                    0.1411764705882353,\n",
       "                    \"rgba(40, 11, 83, 1.000)\"\n",
       "                ],\n",
       "                [\n",
       "                    0.1450980392156863,\n",
       "                    \"rgba(41, 11, 85, 1.000)\"\n",
       "                ],\n",
       "                [\n",
       "                    0.14901960784313725,\n",
       "                    \"rgba(43, 11, 87, 1.000)\"\n",
       "                ],\n",
       "                [\n",
       "                    0.15294117647058825,\n",
       "                    \"rgba(45, 11, 89, 1.000)\"\n",
       "                ],\n",
       "                [\n",
       "                    0.1568627450980392,\n",
       "                    \"rgba(47, 10, 91, 1.000)\"\n",
       "                ],\n",
       "                [\n",
       "                    0.1607843137254902,\n",
       "                    \"rgba(49, 10, 92, 1.000)\"\n",
       "                ],\n",
       "                [\n",
       "                    0.16470588235294117,\n",
       "                    \"rgba(50, 10, 94, 1.000)\"\n",
       "                ],\n",
       "                [\n",
       "                    0.16862745098039217,\n",
       "                    \"rgba(52, 10, 95, 1.000)\"\n",
       "                ],\n",
       "                [\n",
       "                    0.17254901960784313,\n",
       "                    \"rgba(54, 9, 97, 1.000)\"\n",
       "                ],\n",
       "                [\n",
       "                    0.17647058823529413,\n",
       "                    \"rgba(56, 9, 98, 1.000)\"\n",
       "                ],\n",
       "                [\n",
       "                    0.1803921568627451,\n",
       "                    \"rgba(57, 9, 99, 1.000)\"\n",
       "                ],\n",
       "                [\n",
       "                    0.1843137254901961,\n",
       "                    \"rgba(59, 9, 100, 1.000)\"\n",
       "                ],\n",
       "                [\n",
       "                    0.18823529411764706,\n",
       "                    \"rgba(61, 9, 101, 1.000)\"\n",
       "                ],\n",
       "                [\n",
       "                    0.19215686274509805,\n",
       "                    \"rgba(62, 9, 102, 1.000)\"\n",
       "                ],\n",
       "                [\n",
       "                    0.19607843137254902,\n",
       "                    \"rgba(64, 10, 103, 1.000)\"\n",
       "                ],\n",
       "                [\n",
       "                    0.2,\n",
       "                    \"rgba(66, 10, 104, 1.000)\"\n",
       "                ],\n",
       "                [\n",
       "                    0.20392156862745098,\n",
       "                    \"rgba(68, 10, 104, 1.000)\"\n",
       "                ],\n",
       "                [\n",
       "                    0.20784313725490197,\n",
       "                    \"rgba(69, 10, 105, 1.000)\"\n",
       "                ],\n",
       "                [\n",
       "                    0.21176470588235294,\n",
       "                    \"rgba(71, 11, 106, 1.000)\"\n",
       "                ],\n",
       "                [\n",
       "                    0.21568627450980393,\n",
       "                    \"rgba(73, 11, 106, 1.000)\"\n",
       "                ],\n",
       "                [\n",
       "                    0.2196078431372549,\n",
       "                    \"rgba(74, 12, 107, 1.000)\"\n",
       "                ],\n",
       "                [\n",
       "                    0.2235294117647059,\n",
       "                    \"rgba(76, 12, 107, 1.000)\"\n",
       "                ],\n",
       "                [\n",
       "                    0.22745098039215686,\n",
       "                    \"rgba(77, 13, 108, 1.000)\"\n",
       "                ],\n",
       "                [\n",
       "                    0.23137254901960785,\n",
       "                    \"rgba(79, 13, 108, 1.000)\"\n",
       "                ],\n",
       "                [\n",
       "                    0.23529411764705882,\n",
       "                    \"rgba(81, 14, 108, 1.000)\"\n",
       "                ],\n",
       "                [\n",
       "                    0.23921568627450981,\n",
       "                    \"rgba(82, 14, 109, 1.000)\"\n",
       "                ],\n",
       "                [\n",
       "                    0.24313725490196078,\n",
       "                    \"rgba(84, 15, 109, 1.000)\"\n",
       "                ],\n",
       "                [\n",
       "                    0.24705882352941178,\n",
       "                    \"rgba(85, 15, 109, 1.000)\"\n",
       "                ],\n",
       "                [\n",
       "                    0.25098039215686274,\n",
       "                    \"rgba(87, 16, 110, 1.000)\"\n",
       "                ],\n",
       "                [\n",
       "                    0.2549019607843137,\n",
       "                    \"rgba(89, 16, 110, 1.000)\"\n",
       "                ],\n",
       "                [\n",
       "                    0.25882352941176473,\n",
       "                    \"rgba(90, 17, 110, 1.000)\"\n",
       "                ],\n",
       "                [\n",
       "                    0.2627450980392157,\n",
       "                    \"rgba(92, 18, 110, 1.000)\"\n",
       "                ],\n",
       "                [\n",
       "                    0.26666666666666666,\n",
       "                    \"rgba(93, 18, 110, 1.000)\"\n",
       "                ],\n",
       "                [\n",
       "                    0.27058823529411763,\n",
       "                    \"rgba(95, 19, 110, 1.000)\"\n",
       "                ],\n",
       "                [\n",
       "                    0.27450980392156865,\n",
       "                    \"rgba(97, 19, 110, 1.000)\"\n",
       "                ],\n",
       "                [\n",
       "                    0.2784313725490196,\n",
       "                    \"rgba(98, 20, 110, 1.000)\"\n",
       "                ],\n",
       "                [\n",
       "                    0.2823529411764706,\n",
       "                    \"rgba(100, 21, 110, 1.000)\"\n",
       "                ],\n",
       "                [\n",
       "                    0.28627450980392155,\n",
       "                    \"rgba(101, 21, 110, 1.000)\"\n",
       "                ],\n",
       "                [\n",
       "                    0.2901960784313726,\n",
       "                    \"rgba(103, 22, 110, 1.000)\"\n",
       "                ],\n",
       "                [\n",
       "                    0.29411764705882354,\n",
       "                    \"rgba(105, 22, 110, 1.000)\"\n",
       "                ],\n",
       "                [\n",
       "                    0.2980392156862745,\n",
       "                    \"rgba(106, 23, 110, 1.000)\"\n",
       "                ],\n",
       "                [\n",
       "                    0.30196078431372547,\n",
       "                    \"rgba(108, 24, 110, 1.000)\"\n",
       "                ],\n",
       "                [\n",
       "                    0.3058823529411765,\n",
       "                    \"rgba(109, 24, 110, 1.000)\"\n",
       "                ],\n",
       "                [\n",
       "                    0.30980392156862746,\n",
       "                    \"rgba(111, 25, 110, 1.000)\"\n",
       "                ],\n",
       "                [\n",
       "                    0.3137254901960784,\n",
       "                    \"rgba(113, 25, 110, 1.000)\"\n",
       "                ],\n",
       "                [\n",
       "                    0.3176470588235294,\n",
       "                    \"rgba(114, 26, 110, 1.000)\"\n",
       "                ],\n",
       "                [\n",
       "                    0.3215686274509804,\n",
       "                    \"rgba(116, 26, 110, 1.000)\"\n",
       "                ],\n",
       "                [\n",
       "                    0.3254901960784314,\n",
       "                    \"rgba(117, 27, 110, 1.000)\"\n",
       "                ],\n",
       "                [\n",
       "                    0.32941176470588235,\n",
       "                    \"rgba(119, 28, 109, 1.000)\"\n",
       "                ],\n",
       "                [\n",
       "                    0.3333333333333333,\n",
       "                    \"rgba(120, 28, 109, 1.000)\"\n",
       "                ],\n",
       "                [\n",
       "                    0.33725490196078434,\n",
       "                    \"rgba(122, 29, 109, 1.000)\"\n",
       "                ],\n",
       "                [\n",
       "                    0.3411764705882353,\n",
       "                    \"rgba(124, 29, 109, 1.000)\"\n",
       "                ],\n",
       "                [\n",
       "                    0.34509803921568627,\n",
       "                    \"rgba(125, 30, 109, 1.000)\"\n",
       "                ],\n",
       "                [\n",
       "                    0.34901960784313724,\n",
       "                    \"rgba(127, 30, 108, 1.000)\"\n",
       "                ],\n",
       "                [\n",
       "                    0.35294117647058826,\n",
       "                    \"rgba(128, 31, 108, 1.000)\"\n",
       "                ],\n",
       "                [\n",
       "                    0.3568627450980392,\n",
       "                    \"rgba(130, 32, 108, 1.000)\"\n",
       "                ],\n",
       "                [\n",
       "                    0.3607843137254902,\n",
       "                    \"rgba(132, 32, 107, 1.000)\"\n",
       "                ],\n",
       "                [\n",
       "                    0.36470588235294116,\n",
       "                    \"rgba(133, 33, 107, 1.000)\"\n",
       "                ],\n",
       "                [\n",
       "                    0.3686274509803922,\n",
       "                    \"rgba(135, 33, 107, 1.000)\"\n",
       "                ],\n",
       "                [\n",
       "                    0.37254901960784315,\n",
       "                    \"rgba(136, 34, 106, 1.000)\"\n",
       "                ],\n",
       "                [\n",
       "                    0.3764705882352941,\n",
       "                    \"rgba(138, 34, 106, 1.000)\"\n",
       "                ],\n",
       "                [\n",
       "                    0.3803921568627451,\n",
       "                    \"rgba(140, 35, 105, 1.000)\"\n",
       "                ],\n",
       "                [\n",
       "                    0.3843137254901961,\n",
       "                    \"rgba(141, 35, 105, 1.000)\"\n",
       "                ],\n",
       "                [\n",
       "                    0.38823529411764707,\n",
       "                    \"rgba(143, 36, 105, 1.000)\"\n",
       "                ],\n",
       "                [\n",
       "                    0.39215686274509803,\n",
       "                    \"rgba(144, 37, 104, 1.000)\"\n",
       "                ],\n",
       "                [\n",
       "                    0.396078431372549,\n",
       "                    \"rgba(146, 37, 104, 1.000)\"\n",
       "                ],\n",
       "                [\n",
       "                    0.4,\n",
       "                    \"rgba(147, 38, 103, 1.000)\"\n",
       "                ],\n",
       "                [\n",
       "                    0.403921568627451,\n",
       "                    \"rgba(149, 38, 103, 1.000)\"\n",
       "                ],\n",
       "                [\n",
       "                    0.40784313725490196,\n",
       "                    \"rgba(151, 39, 102, 1.000)\"\n",
       "                ],\n",
       "                [\n",
       "                    0.4117647058823529,\n",
       "                    \"rgba(152, 39, 102, 1.000)\"\n",
       "                ],\n",
       "                [\n",
       "                    0.41568627450980394,\n",
       "                    \"rgba(154, 40, 101, 1.000)\"\n",
       "                ],\n",
       "                [\n",
       "                    0.4196078431372549,\n",
       "                    \"rgba(155, 41, 100, 1.000)\"\n",
       "                ],\n",
       "                [\n",
       "                    0.4235294117647059,\n",
       "                    \"rgba(157, 41, 100, 1.000)\"\n",
       "                ],\n",
       "                [\n",
       "                    0.42745098039215684,\n",
       "                    \"rgba(159, 42, 99, 1.000)\"\n",
       "                ],\n",
       "                [\n",
       "                    0.43137254901960786,\n",
       "                    \"rgba(160, 42, 99, 1.000)\"\n",
       "                ],\n",
       "                [\n",
       "                    0.43529411764705883,\n",
       "                    \"rgba(162, 43, 98, 1.000)\"\n",
       "                ],\n",
       "                [\n",
       "                    0.4392156862745098,\n",
       "                    \"rgba(163, 44, 97, 1.000)\"\n",
       "                ],\n",
       "                [\n",
       "                    0.44313725490196076,\n",
       "                    \"rgba(165, 44, 96, 1.000)\"\n",
       "                ],\n",
       "                [\n",
       "                    0.4470588235294118,\n",
       "                    \"rgba(166, 45, 96, 1.000)\"\n",
       "                ],\n",
       "                [\n",
       "                    0.45098039215686275,\n",
       "                    \"rgba(168, 46, 95, 1.000)\"\n",
       "                ],\n",
       "                [\n",
       "                    0.4549019607843137,\n",
       "                    \"rgba(169, 46, 94, 1.000)\"\n",
       "                ],\n",
       "                [\n",
       "                    0.4588235294117647,\n",
       "                    \"rgba(171, 47, 94, 1.000)\"\n",
       "                ],\n",
       "                [\n",
       "                    0.4627450980392157,\n",
       "                    \"rgba(173, 48, 93, 1.000)\"\n",
       "                ],\n",
       "                [\n",
       "                    0.4666666666666667,\n",
       "                    \"rgba(174, 48, 92, 1.000)\"\n",
       "                ],\n",
       "                [\n",
       "                    0.47058823529411764,\n",
       "                    \"rgba(176, 49, 91, 1.000)\"\n",
       "                ],\n",
       "                [\n",
       "                    0.4745098039215686,\n",
       "                    \"rgba(177, 50, 90, 1.000)\"\n",
       "                ],\n",
       "                [\n",
       "                    0.47843137254901963,\n",
       "                    \"rgba(179, 50, 90, 1.000)\"\n",
       "                ],\n",
       "                [\n",
       "                    0.4823529411764706,\n",
       "                    \"rgba(180, 51, 89, 1.000)\"\n",
       "                ],\n",
       "                [\n",
       "                    0.48627450980392156,\n",
       "                    \"rgba(182, 52, 88, 1.000)\"\n",
       "                ],\n",
       "                [\n",
       "                    0.49019607843137253,\n",
       "                    \"rgba(183, 53, 87, 1.000)\"\n",
       "                ],\n",
       "                [\n",
       "                    0.49411764705882355,\n",
       "                    \"rgba(185, 53, 86, 1.000)\"\n",
       "                ],\n",
       "                [\n",
       "                    0.4980392156862745,\n",
       "                    \"rgba(186, 54, 85, 1.000)\"\n",
       "                ],\n",
       "                [\n",
       "                    0.5019607843137255,\n",
       "                    \"rgba(188, 55, 84, 1.000)\"\n",
       "                ],\n",
       "                [\n",
       "                    0.5058823529411764,\n",
       "                    \"rgba(189, 56, 83, 1.000)\"\n",
       "                ],\n",
       "                [\n",
       "                    0.5098039215686274,\n",
       "                    \"rgba(191, 57, 82, 1.000)\"\n",
       "                ],\n",
       "                [\n",
       "                    0.5137254901960784,\n",
       "                    \"rgba(192, 58, 81, 1.000)\"\n",
       "                ],\n",
       "                [\n",
       "                    0.5176470588235295,\n",
       "                    \"rgba(193, 58, 80, 1.000)\"\n",
       "                ],\n",
       "                [\n",
       "                    0.5215686274509804,\n",
       "                    \"rgba(195, 59, 79, 1.000)\"\n",
       "                ],\n",
       "                [\n",
       "                    0.5254901960784314,\n",
       "                    \"rgba(196, 60, 78, 1.000)\"\n",
       "                ],\n",
       "                [\n",
       "                    0.5294117647058824,\n",
       "                    \"rgba(198, 61, 77, 1.000)\"\n",
       "                ],\n",
       "                [\n",
       "                    0.5333333333333333,\n",
       "                    \"rgba(199, 62, 76, 1.000)\"\n",
       "                ],\n",
       "                [\n",
       "                    0.5372549019607843,\n",
       "                    \"rgba(200, 63, 75, 1.000)\"\n",
       "                ],\n",
       "                [\n",
       "                    0.5411764705882353,\n",
       "                    \"rgba(202, 64, 74, 1.000)\"\n",
       "                ],\n",
       "                [\n",
       "                    0.5450980392156862,\n",
       "                    \"rgba(203, 65, 73, 1.000)\"\n",
       "                ],\n",
       "                [\n",
       "                    0.5490196078431373,\n",
       "                    \"rgba(204, 66, 72, 1.000)\"\n",
       "                ],\n",
       "                [\n",
       "                    0.5529411764705883,\n",
       "                    \"rgba(206, 67, 71, 1.000)\"\n",
       "                ],\n",
       "                [\n",
       "                    0.5568627450980392,\n",
       "                    \"rgba(207, 68, 70, 1.000)\"\n",
       "                ],\n",
       "                [\n",
       "                    0.5607843137254902,\n",
       "                    \"rgba(208, 69, 69, 1.000)\"\n",
       "                ],\n",
       "                [\n",
       "                    0.5647058823529412,\n",
       "                    \"rgba(210, 70, 68, 1.000)\"\n",
       "                ],\n",
       "                [\n",
       "                    0.5686274509803921,\n",
       "                    \"rgba(211, 71, 67, 1.000)\"\n",
       "                ],\n",
       "                [\n",
       "                    0.5725490196078431,\n",
       "                    \"rgba(212, 72, 66, 1.000)\"\n",
       "                ],\n",
       "                [\n",
       "                    0.5764705882352941,\n",
       "                    \"rgba(213, 74, 65, 1.000)\"\n",
       "                ],\n",
       "                [\n",
       "                    0.5803921568627451,\n",
       "                    \"rgba(215, 75, 63, 1.000)\"\n",
       "                ],\n",
       "                [\n",
       "                    0.5843137254901961,\n",
       "                    \"rgba(216, 76, 62, 1.000)\"\n",
       "                ],\n",
       "                [\n",
       "                    0.5882352941176471,\n",
       "                    \"rgba(217, 77, 61, 1.000)\"\n",
       "                ],\n",
       "                [\n",
       "                    0.592156862745098,\n",
       "                    \"rgba(218, 78, 60, 1.000)\"\n",
       "                ],\n",
       "                [\n",
       "                    0.596078431372549,\n",
       "                    \"rgba(219, 80, 59, 1.000)\"\n",
       "                ],\n",
       "                [\n",
       "                    0.6,\n",
       "                    \"rgba(221, 81, 58, 1.000)\"\n",
       "                ],\n",
       "                [\n",
       "                    0.6039215686274509,\n",
       "                    \"rgba(222, 82, 56, 1.000)\"\n",
       "                ],\n",
       "                [\n",
       "                    0.6078431372549019,\n",
       "                    \"rgba(223, 83, 55, 1.000)\"\n",
       "                ],\n",
       "                [\n",
       "                    0.611764705882353,\n",
       "                    \"rgba(224, 85, 54, 1.000)\"\n",
       "                ],\n",
       "                [\n",
       "                    0.615686274509804,\n",
       "                    \"rgba(225, 86, 53, 1.000)\"\n",
       "                ],\n",
       "                [\n",
       "                    0.6196078431372549,\n",
       "                    \"rgba(226, 87, 52, 1.000)\"\n",
       "                ],\n",
       "                [\n",
       "                    0.6235294117647059,\n",
       "                    \"rgba(227, 89, 51, 1.000)\"\n",
       "                ],\n",
       "                [\n",
       "                    0.6274509803921569,\n",
       "                    \"rgba(228, 90, 49, 1.000)\"\n",
       "                ],\n",
       "                [\n",
       "                    0.6313725490196078,\n",
       "                    \"rgba(229, 92, 48, 1.000)\"\n",
       "                ],\n",
       "                [\n",
       "                    0.6352941176470588,\n",
       "                    \"rgba(230, 93, 47, 1.000)\"\n",
       "                ],\n",
       "                [\n",
       "                    0.6392156862745098,\n",
       "                    \"rgba(231, 94, 46, 1.000)\"\n",
       "                ],\n",
       "                [\n",
       "                    0.6431372549019608,\n",
       "                    \"rgba(232, 96, 45, 1.000)\"\n",
       "                ],\n",
       "                [\n",
       "                    0.6470588235294118,\n",
       "                    \"rgba(233, 97, 43, 1.000)\"\n",
       "                ],\n",
       "                [\n",
       "                    0.6509803921568628,\n",
       "                    \"rgba(234, 99, 42, 1.000)\"\n",
       "                ],\n",
       "                [\n",
       "                    0.6549019607843137,\n",
       "                    \"rgba(235, 100, 41, 1.000)\"\n",
       "                ],\n",
       "                [\n",
       "                    0.6588235294117647,\n",
       "                    \"rgba(235, 102, 40, 1.000)\"\n",
       "                ],\n",
       "                [\n",
       "                    0.6627450980392157,\n",
       "                    \"rgba(236, 103, 38, 1.000)\"\n",
       "                ],\n",
       "                [\n",
       "                    0.6666666666666666,\n",
       "                    \"rgba(237, 105, 37, 1.000)\"\n",
       "                ],\n",
       "                [\n",
       "                    0.6705882352941176,\n",
       "                    \"rgba(238, 106, 36, 1.000)\"\n",
       "                ],\n",
       "                [\n",
       "                    0.6745098039215687,\n",
       "                    \"rgba(239, 108, 35, 1.000)\"\n",
       "                ],\n",
       "                [\n",
       "                    0.6784313725490196,\n",
       "                    \"rgba(239, 110, 33, 1.000)\"\n",
       "                ],\n",
       "                [\n",
       "                    0.6823529411764706,\n",
       "                    \"rgba(240, 111, 32, 1.000)\"\n",
       "                ],\n",
       "                [\n",
       "                    0.6862745098039216,\n",
       "                    \"rgba(241, 113, 31, 1.000)\"\n",
       "                ],\n",
       "                [\n",
       "                    0.6901960784313725,\n",
       "                    \"rgba(241, 115, 29, 1.000)\"\n",
       "                ],\n",
       "                [\n",
       "                    0.6941176470588235,\n",
       "                    \"rgba(242, 116, 28, 1.000)\"\n",
       "                ],\n",
       "                [\n",
       "                    0.6980392156862745,\n",
       "                    \"rgba(243, 118, 27, 1.000)\"\n",
       "                ],\n",
       "                [\n",
       "                    0.7019607843137254,\n",
       "                    \"rgba(243, 120, 25, 1.000)\"\n",
       "                ],\n",
       "                [\n",
       "                    0.7058823529411765,\n",
       "                    \"rgba(244, 121, 24, 1.000)\"\n",
       "                ],\n",
       "                [\n",
       "                    0.7098039215686275,\n",
       "                    \"rgba(245, 123, 23, 1.000)\"\n",
       "                ],\n",
       "                [\n",
       "                    0.7137254901960784,\n",
       "                    \"rgba(245, 125, 21, 1.000)\"\n",
       "                ],\n",
       "                [\n",
       "                    0.7176470588235294,\n",
       "                    \"rgba(246, 126, 20, 1.000)\"\n",
       "                ],\n",
       "                [\n",
       "                    0.7215686274509804,\n",
       "                    \"rgba(246, 128, 19, 1.000)\"\n",
       "                ],\n",
       "                [\n",
       "                    0.7254901960784313,\n",
       "                    \"rgba(247, 130, 18, 1.000)\"\n",
       "                ],\n",
       "                [\n",
       "                    0.7294117647058823,\n",
       "                    \"rgba(247, 132, 16, 1.000)\"\n",
       "                ],\n",
       "                [\n",
       "                    0.7333333333333333,\n",
       "                    \"rgba(248, 133, 15, 1.000)\"\n",
       "                ],\n",
       "                [\n",
       "                    0.7372549019607844,\n",
       "                    \"rgba(248, 135, 14, 1.000)\"\n",
       "                ],\n",
       "                [\n",
       "                    0.7411764705882353,\n",
       "                    \"rgba(248, 137, 12, 1.000)\"\n",
       "                ],\n",
       "                [\n",
       "                    0.7450980392156863,\n",
       "                    \"rgba(249, 139, 11, 1.000)\"\n",
       "                ],\n",
       "                [\n",
       "                    0.7490196078431373,\n",
       "                    \"rgba(249, 140, 10, 1.000)\"\n",
       "                ],\n",
       "                [\n",
       "                    0.7529411764705882,\n",
       "                    \"rgba(249, 142, 9, 1.000)\"\n",
       "                ],\n",
       "                [\n",
       "                    0.7568627450980392,\n",
       "                    \"rgba(250, 144, 8, 1.000)\"\n",
       "                ],\n",
       "                [\n",
       "                    0.7607843137254902,\n",
       "                    \"rgba(250, 146, 7, 1.000)\"\n",
       "                ],\n",
       "                [\n",
       "                    0.7647058823529411,\n",
       "                    \"rgba(250, 148, 7, 1.000)\"\n",
       "                ],\n",
       "                [\n",
       "                    0.7686274509803922,\n",
       "                    \"rgba(251, 150, 6, 1.000)\"\n",
       "                ],\n",
       "                [\n",
       "                    0.7725490196078432,\n",
       "                    \"rgba(251, 151, 6, 1.000)\"\n",
       "                ],\n",
       "                [\n",
       "                    0.7764705882352941,\n",
       "                    \"rgba(251, 153, 6, 1.000)\"\n",
       "                ],\n",
       "                [\n",
       "                    0.7803921568627451,\n",
       "                    \"rgba(251, 155, 6, 1.000)\"\n",
       "                ],\n",
       "                [\n",
       "                    0.7843137254901961,\n",
       "                    \"rgba(251, 157, 7, 1.000)\"\n",
       "                ],\n",
       "                [\n",
       "                    0.788235294117647,\n",
       "                    \"rgba(252, 159, 7, 1.000)\"\n",
       "                ],\n",
       "                [\n",
       "                    0.792156862745098,\n",
       "                    \"rgba(252, 161, 8, 1.000)\"\n",
       "                ],\n",
       "                [\n",
       "                    0.796078431372549,\n",
       "                    \"rgba(252, 163, 9, 1.000)\"\n",
       "                ],\n",
       "                [\n",
       "                    0.8,\n",
       "                    \"rgba(252, 165, 10, 1.000)\"\n",
       "                ],\n",
       "                [\n",
       "                    0.803921568627451,\n",
       "                    \"rgba(252, 166, 12, 1.000)\"\n",
       "                ],\n",
       "                [\n",
       "                    0.807843137254902,\n",
       "                    \"rgba(252, 168, 13, 1.000)\"\n",
       "                ],\n",
       "                [\n",
       "                    0.8117647058823529,\n",
       "                    \"rgba(252, 170, 15, 1.000)\"\n",
       "                ],\n",
       "                [\n",
       "                    0.8156862745098039,\n",
       "                    \"rgba(252, 172, 17, 1.000)\"\n",
       "                ],\n",
       "                [\n",
       "                    0.8196078431372549,\n",
       "                    \"rgba(252, 174, 18, 1.000)\"\n",
       "                ],\n",
       "                [\n",
       "                    0.8235294117647058,\n",
       "                    \"rgba(252, 176, 20, 1.000)\"\n",
       "                ],\n",
       "                [\n",
       "                    0.8274509803921568,\n",
       "                    \"rgba(252, 178, 22, 1.000)\"\n",
       "                ],\n",
       "                [\n",
       "                    0.8313725490196079,\n",
       "                    \"rgba(252, 180, 24, 1.000)\"\n",
       "                ],\n",
       "                [\n",
       "                    0.8352941176470589,\n",
       "                    \"rgba(251, 182, 26, 1.000)\"\n",
       "                ],\n",
       "                [\n",
       "                    0.8392156862745098,\n",
       "                    \"rgba(251, 184, 29, 1.000)\"\n",
       "                ],\n",
       "                [\n",
       "                    0.8431372549019608,\n",
       "                    \"rgba(251, 186, 31, 1.000)\"\n",
       "                ],\n",
       "                [\n",
       "                    0.8470588235294118,\n",
       "                    \"rgba(251, 188, 33, 1.000)\"\n",
       "                ],\n",
       "                [\n",
       "                    0.8509803921568627,\n",
       "                    \"rgba(251, 190, 35, 1.000)\"\n",
       "                ],\n",
       "                [\n",
       "                    0.8549019607843137,\n",
       "                    \"rgba(250, 192, 38, 1.000)\"\n",
       "                ],\n",
       "                [\n",
       "                    0.8588235294117647,\n",
       "                    \"rgba(250, 194, 40, 1.000)\"\n",
       "                ],\n",
       "                [\n",
       "                    0.8627450980392157,\n",
       "                    \"rgba(250, 196, 42, 1.000)\"\n",
       "                ],\n",
       "                [\n",
       "                    0.8666666666666667,\n",
       "                    \"rgba(250, 198, 45, 1.000)\"\n",
       "                ],\n",
       "                [\n",
       "                    0.8705882352941177,\n",
       "                    \"rgba(249, 199, 47, 1.000)\"\n",
       "                ],\n",
       "                [\n",
       "                    0.8745098039215686,\n",
       "                    \"rgba(249, 201, 50, 1.000)\"\n",
       "                ],\n",
       "                [\n",
       "                    0.8784313725490196,\n",
       "                    \"rgba(249, 203, 53, 1.000)\"\n",
       "                ],\n",
       "                [\n",
       "                    0.8823529411764706,\n",
       "                    \"rgba(248, 205, 55, 1.000)\"\n",
       "                ],\n",
       "                [\n",
       "                    0.8862745098039215,\n",
       "                    \"rgba(248, 207, 58, 1.000)\"\n",
       "                ],\n",
       "                [\n",
       "                    0.8901960784313725,\n",
       "                    \"rgba(247, 209, 61, 1.000)\"\n",
       "                ],\n",
       "                [\n",
       "                    0.8941176470588236,\n",
       "                    \"rgba(247, 211, 64, 1.000)\"\n",
       "                ],\n",
       "                [\n",
       "                    0.8980392156862745,\n",
       "                    \"rgba(246, 213, 67, 1.000)\"\n",
       "                ],\n",
       "                [\n",
       "                    0.9019607843137255,\n",
       "                    \"rgba(246, 215, 70, 1.000)\"\n",
       "                ],\n",
       "                [\n",
       "                    0.9058823529411765,\n",
       "                    \"rgba(245, 217, 73, 1.000)\"\n",
       "                ],\n",
       "                [\n",
       "                    0.9098039215686274,\n",
       "                    \"rgba(245, 219, 76, 1.000)\"\n",
       "                ],\n",
       "                [\n",
       "                    0.9137254901960784,\n",
       "                    \"rgba(244, 221, 79, 1.000)\"\n",
       "                ],\n",
       "                [\n",
       "                    0.9176470588235294,\n",
       "                    \"rgba(244, 223, 83, 1.000)\"\n",
       "                ],\n",
       "                [\n",
       "                    0.9215686274509803,\n",
       "                    \"rgba(244, 225, 86, 1.000)\"\n",
       "                ],\n",
       "                [\n",
       "                    0.9254901960784314,\n",
       "                    \"rgba(243, 227, 90, 1.000)\"\n",
       "                ],\n",
       "                [\n",
       "                    0.9294117647058824,\n",
       "                    \"rgba(243, 229, 93, 1.000)\"\n",
       "                ],\n",
       "                [\n",
       "                    0.9333333333333333,\n",
       "                    \"rgba(242, 230, 97, 1.000)\"\n",
       "                ],\n",
       "                [\n",
       "                    0.9372549019607843,\n",
       "                    \"rgba(242, 232, 101, 1.000)\"\n",
       "                ],\n",
       "                [\n",
       "                    0.9411764705882353,\n",
       "                    \"rgba(242, 234, 105, 1.000)\"\n",
       "                ],\n",
       "                [\n",
       "                    0.9450980392156862,\n",
       "                    \"rgba(241, 236, 109, 1.000)\"\n",
       "                ],\n",
       "                [\n",
       "                    0.9490196078431372,\n",
       "                    \"rgba(241, 237, 113, 1.000)\"\n",
       "                ],\n",
       "                [\n",
       "                    0.9529411764705882,\n",
       "                    \"rgba(241, 239, 117, 1.000)\"\n",
       "                ],\n",
       "                [\n",
       "                    0.9568627450980393,\n",
       "                    \"rgba(241, 241, 121, 1.000)\"\n",
       "                ],\n",
       "                [\n",
       "                    0.9607843137254902,\n",
       "                    \"rgba(242, 242, 125, 1.000)\"\n",
       "                ],\n",
       "                [\n",
       "                    0.9647058823529412,\n",
       "                    \"rgba(242, 244, 130, 1.000)\"\n",
       "                ],\n",
       "                [\n",
       "                    0.9686274509803922,\n",
       "                    \"rgba(243, 245, 134, 1.000)\"\n",
       "                ],\n",
       "                [\n",
       "                    0.9725490196078431,\n",
       "                    \"rgba(243, 246, 138, 1.000)\"\n",
       "                ],\n",
       "                [\n",
       "                    0.9764705882352941,\n",
       "                    \"rgba(244, 248, 142, 1.000)\"\n",
       "                ],\n",
       "                [\n",
       "                    0.9803921568627451,\n",
       "                    \"rgba(245, 249, 146, 1.000)\"\n",
       "                ],\n",
       "                [\n",
       "                    0.984313725490196,\n",
       "                    \"rgba(246, 250, 150, 1.000)\"\n",
       "                ],\n",
       "                [\n",
       "                    0.9882352941176471,\n",
       "                    \"rgba(248, 251, 154, 1.000)\"\n",
       "                ],\n",
       "                [\n",
       "                    0.9921568627450981,\n",
       "                    \"rgba(249, 252, 157, 1.000)\"\n",
       "                ],\n",
       "                [\n",
       "                    0.996078431372549,\n",
       "                    \"rgba(250, 253, 161, 1.000)\"\n",
       "                ],\n",
       "                [\n",
       "                    1.0,\n",
       "                    \"rgba(252, 255, 164, 1.000)\"\n",
       "                ]\n",
       "            ],\n",
       "            \"cmax\": 6.0,\n",
       "            \"showscale\": true\n",
       "        },\n",
       "        \"zmax\": 6.0,\n",
       "        \"y\": [\n",
       "            0.20289354441017798\n",
       "        ],\n",
       "        \"type\": \"scatter3d\",\n",
       "        \"scene\": \"scene\",\n",
       "        \"hoverinfo\": \"none\"\n",
       "    },\n",
       "    {\n",
       "        \"xaxis\": \"x\",\n",
       "        \"colorbar\": {\n",
       "            \"title\": \"\"\n",
       "        },\n",
       "        \"yaxis\": \"y\",\n",
       "        \"zaxis\": \"z\",\n",
       "        \"x\": [\n",
       "            0.09638785833971715,\n",
       "            -0.005719306731424347,\n",
       "            0.22283811640569456,\n",
       "            0.0,\n",
       "            0.4600712633589899,\n",
       "            -0.2330437238176911\n",
       "        ],\n",
       "        \"showlegend\": true,\n",
       "        \"mode\": \"lines\",\n",
       "        \"name\": \"y3\",\n",
       "        \"zmin\": 1.0,\n",
       "        \"legendgroup\": \"y3\",\n",
       "        \"z\": [\n",
       "            -0.4609724617056103,\n",
       "            0.6288352511838536,\n",
       "            2.99869644312854e-79,\n",
       "            0.0,\n",
       "            6.066379408746007e-17,\n",
       "            0.303454984374694\n",
       "        ],\n",
       "        \"zmax\": 6.0,\n",
       "        \"line\": {\n",
       "            \"color\": \"rgba(0, 0, 0, 1.000)\",\n",
       "            \"shape\": \"linear\",\n",
       "            \"dash\": \"solid\",\n",
       "            \"width\": 2\n",
       "        },\n",
       "        \"y\": [\n",
       "            0.20289354441017798,\n",
       "            0.2863711519720055,\n",
       "            7.019694195936876e-79,\n",
       "            0.0,\n",
       "            0.9907149413152685,\n",
       "            0.46005538440413496\n",
       "        ],\n",
       "        \"type\": \"scatter3d\",\n",
       "        \"scene\": \"scene\"\n",
       "    }\n",
       "]\n",
       ", {\n",
       "    \"showlegend\": true,\n",
       "    \"paper_bgcolor\": \"rgba(255, 255, 255, 1.000)\",\n",
       "    \"annotations\": [],\n",
       "    \"height\": 400,\n",
       "    \"margin\": {\n",
       "        \"l\": 0,\n",
       "        \"b\": 20,\n",
       "        \"r\": 0,\n",
       "        \"t\": 20\n",
       "    },\n",
       "    \"plot_bgcolor\": \"rgba(255, 255, 255, 1.000)\",\n",
       "    \"scene\": {\n",
       "        \"camera\": {\n",
       "            \"eye\": {\n",
       "                \"y\": -1.9499999999999997,\n",
       "                \"z\": 1.3,\n",
       "                \"x\": 1.12583302491977\n",
       "            }\n",
       "        },\n",
       "        \"xaxis\": {\n",
       "            \"tickangle\": 0,\n",
       "            \"showline\": true,\n",
       "            \"gridcolor\": \"rgba(0, 0, 0, 0.100)\",\n",
       "            \"showticklabels\": true,\n",
       "            \"gridwidth\": 0.5,\n",
       "            \"titlefont\": {\n",
       "                \"color\": \"rgba(0, 0, 0, 1.000)\",\n",
       "                \"family\": \"sans-serif\",\n",
       "                \"size\": 15\n",
       "            },\n",
       "            \"visible\": true,\n",
       "            \"ticks\": \"inside\",\n",
       "            \"range\": [\n",
       "                -0.2700350355322218,\n",
       "                1.0369913117145306\n",
       "            ],\n",
       "            \"tickmode\": \"array\",\n",
       "            \"tickvals\": [\n",
       "                0.0,\n",
       "                0.30000000000000004,\n",
       "                0.6000000000000001,\n",
       "                0.9000000000000001\n",
       "            ],\n",
       "            \"tickcolor\": \"rgb(0, 0, 0)\",\n",
       "            \"ticktext\": [\n",
       "                \"0.0\",\n",
       "                \"0.3\",\n",
       "                \"0.6\",\n",
       "                \"0.9\"\n",
       "            ],\n",
       "            \"linecolor\": \"rgba(0, 0, 0, 1.000)\",\n",
       "            \"showgrid\": true,\n",
       "            \"zeroline\": false,\n",
       "            \"type\": \"-\",\n",
       "            \"tickfont\": {\n",
       "                \"color\": \"rgba(0, 0, 0, 1.000)\",\n",
       "                \"family\": \"sans-serif\",\n",
       "                \"size\": 11\n",
       "            },\n",
       "            \"title\": \"x\",\n",
       "            \"zerolinecolor\": \"rgba(0, 0, 0, 1.000)\",\n",
       "            \"mirror\": false\n",
       "        },\n",
       "        \"domain\": {\n",
       "            \"y\": [\n",
       "                0.07581474190726165,\n",
       "                0.9901574803149606\n",
       "            ],\n",
       "            \"x\": [\n",
       "                0.09128390201224845,\n",
       "                0.9934383202099738\n",
       "            ]\n",
       "        },\n",
       "        \"yaxis\": {\n",
       "            \"tickangle\": 0,\n",
       "            \"showline\": true,\n",
       "            \"gridcolor\": \"rgba(0, 0, 0, 0.100)\",\n",
       "            \"showticklabels\": true,\n",
       "            \"gridwidth\": 0.5,\n",
       "            \"titlefont\": {\n",
       "                \"color\": \"rgba(0, 0, 0, 1.000)\",\n",
       "                \"family\": \"sans-serif\",\n",
       "                \"size\": 15\n",
       "            },\n",
       "            \"visible\": true,\n",
       "            \"ticks\": \"inside\",\n",
       "            \"range\": [\n",
       "                -0.029721448239458055,\n",
       "                1.0204363895547266\n",
       "            ],\n",
       "            \"tickmode\": \"array\",\n",
       "            \"tickvals\": [\n",
       "                0.0,\n",
       "                0.25,\n",
       "                0.5,\n",
       "                0.75,\n",
       "                1.0\n",
       "            ],\n",
       "            \"tickcolor\": \"rgb(0, 0, 0)\",\n",
       "            \"ticktext\": [\n",
       "                \"0.00\",\n",
       "                \"0.25\",\n",
       "                \"0.50\",\n",
       "                \"0.75\",\n",
       "                \"1.00\"\n",
       "            ],\n",
       "            \"linecolor\": \"rgba(0, 0, 0, 1.000)\",\n",
       "            \"showgrid\": true,\n",
       "            \"zeroline\": false,\n",
       "            \"type\": \"-\",\n",
       "            \"tickfont\": {\n",
       "                \"color\": \"rgba(0, 0, 0, 1.000)\",\n",
       "                \"family\": \"sans-serif\",\n",
       "                \"size\": 11\n",
       "            },\n",
       "            \"title\": \"y\",\n",
       "            \"zerolinecolor\": \"rgba(0, 0, 0, 1.000)\",\n",
       "            \"mirror\": false\n",
       "        },\n",
       "        \"zaxis\": {\n",
       "            \"tickangle\": 0,\n",
       "            \"showline\": true,\n",
       "            \"gridcolor\": \"rgba(0, 0, 0, 0.100)\",\n",
       "            \"showticklabels\": true,\n",
       "            \"gridwidth\": 0.5,\n",
       "            \"titlefont\": {\n",
       "                \"color\": \"rgba(0, 0, 0, 1.000)\",\n",
       "                \"family\": \"sans-serif\",\n",
       "                \"size\": 15\n",
       "            },\n",
       "            \"visible\": true,\n",
       "            \"ticks\": \"inside\",\n",
       "            \"range\": [\n",
       "                -0.4936666930922942,\n",
       "                0.6615294825705376\n",
       "            ],\n",
       "            \"tickmode\": \"array\",\n",
       "            \"tickvals\": [\n",
       "                -0.25,\n",
       "                0.0,\n",
       "                0.25,\n",
       "                0.5\n",
       "            ],\n",
       "            \"tickcolor\": \"rgb(0, 0, 0)\",\n",
       "            \"ticktext\": [\n",
       "                \"-0.25\",\n",
       "                \"0.00\",\n",
       "                \"0.25\",\n",
       "                \"0.50\"\n",
       "            ],\n",
       "            \"linecolor\": \"rgba(0, 0, 0, 1.000)\",\n",
       "            \"showgrid\": true,\n",
       "            \"zeroline\": false,\n",
       "            \"type\": \"-\",\n",
       "            \"tickfont\": {\n",
       "                \"color\": \"rgba(0, 0, 0, 1.000)\",\n",
       "                \"family\": \"sans-serif\",\n",
       "                \"size\": 11\n",
       "            },\n",
       "            \"title\": \"z\",\n",
       "            \"zerolinecolor\": \"rgba(0, 0, 0, 1.000)\",\n",
       "            \"mirror\": false\n",
       "        }\n",
       "    },\n",
       "    \"legend\": {\n",
       "        \"yanchor\": \"auto\",\n",
       "        \"xanchor\": \"auto\",\n",
       "        \"bordercolor\": \"rgba(0, 0, 0, 1.000)\",\n",
       "        \"bgcolor\": \"rgba(255, 255, 255, 1.000)\",\n",
       "        \"borderwidth\": 1,\n",
       "        \"tracegroupgap\": 0,\n",
       "        \"y\": 1.0,\n",
       "        \"font\": {\n",
       "            \"color\": \"rgba(0, 0, 0, 1.000)\",\n",
       "            \"family\": \"sans-serif\",\n",
       "            \"size\": 11\n",
       "        },\n",
       "        \"title\": {\n",
       "            \"font\": {\n",
       "                \"color\": \"rgba(0, 0, 0, 1.000)\",\n",
       "                \"family\": \"sans-serif\",\n",
       "                \"size\": 15\n",
       "            },\n",
       "            \"text\": \"\"\n",
       "        },\n",
       "        \"traceorder\": \"normal\",\n",
       "        \"x\": 1.0\n",
       "    },\n",
       "    \"width\": 600\n",
       "}\n",
       ");\n",
       "\n",
       "    });\n",
       "    </script>\n"
      ]
     },
     "execution_count": 9,
     "metadata": {},
     "output_type": "execute_result"
    }
   ],
   "source": [
    "p = plot([0,1],[0,0],[0,0],linestyle=:dash)\n",
    "plotChain!(newP)\n",
    "p"
   ]
  },
  {
   "cell_type": "code",
   "execution_count": 10,
   "metadata": {},
   "outputs": [
    {
     "data": {
      "text/plain": [
       "6×3 Base.Matrix{BigFloat}:\n",
       "  0.0963879   0.202894     -0.460972\n",
       " -0.00571931  0.286371      0.628835\n",
       "  0.222838    7.01969e-79   2.9987e-79\n",
       "  0.0         0.0           0.0\n",
       "  0.460071    0.990715      6.06638e-17\n",
       " -0.233044    0.460055      0.303455"
      ]
     },
     "execution_count": 10,
     "metadata": {},
     "output_type": "execute_result"
    }
   ],
   "source": [
    "to2DArray(newP)"
   ]
  },
  {
   "cell_type": "code",
   "execution_count": 11,
   "metadata": {},
   "outputs": [
    {
     "data": {
      "text/plain": [
       "PolygonalChain(Point[Point(0.2530776166666466424555763985565367483399404043171331696706198378396923917345597, 0.4354458872886332391308756736970473544079776311630201852034775090485727912175341, -0.09638785833971714396334201887192610306847314854732933097912403936749375053340313), Point(0.2143937092046687202358984537954278171619075049847520687652788709884436373429596, -0.6568695055082841230346145238036508941254425941490343241734456622793836651306839, 0.005719306731424346938278771604603617182529430599267400591556099463884604988509452), Point(2.159042138773611156346587965700099892779000091109070346255925867542147950790607e-78, 3.23856320816041673451988194855014983916850013666360551938388880131322192618591e-78, -0.2228381164056945622493068783633717195141074464411972059790793480751321149733094), Point(0.0, 0.0, -0.0), Point(0.9845243797513499750344606126881999301653718133999448450324849262084200939912991, -0.1105795669214507424503145987879186047437980316697995357233677900742996996945925, -0.460071263358989902660126372076171261080988719356336886870209937549694375784225), Point(0.4233102820400325429794177723896825885137095047665899574589855240093752456807784, -0.3529083299955815283262470565636880320245714736742052978564332483192952475204418, 0.2330437238176910987083831880526506844554991398112923664948377738542820426039895)])"
      ]
     },
     "execution_count": 11,
     "metadata": {},
     "output_type": "execute_result"
    }
   ],
   "source": [
    "newP = moveBeforeDihedral(P,2)"
   ]
  },
  {
   "cell_type": "code",
   "execution_count": 37,
   "metadata": {},
   "outputs": [
    {
     "data": {
      "application/vnd.plotly.v1+json": {
       "data": [
        {
         "colorbar": {
          "title": {
           "text": ""
          }
         },
         "legendgroup": "y1",
         "marker": {
          "color": "rgba(0, 0, 4, 1.000)",
          "line": {
           "color": "rgba(0, 0, 0, 1)",
           "width": 1
          },
          "size": 6,
          "symbol": "circle"
         },
         "mode": "markers",
         "name": "y1",
         "scene": "scene",
         "showlegend": true,
         "type": "scatter3d",
         "x": [
          0.25307761666664663
         ],
         "xaxis": "x",
         "y": [
          0.43544588728863326
         ],
         "yaxis": "y",
         "z": [
          -0.09638785833971715
         ],
         "zaxis": "z",
         "zmax": 6,
         "zmin": 1
        },
        {
         "colorbar": {
          "title": {
           "text": ""
          }
         },
         "legendgroup": "y1",
         "marker": {
          "color": "rgba(66, 10, 104, 1.000)",
          "line": {
           "color": "rgba(0, 0, 0, 1)",
           "width": 1
          },
          "size": 6,
          "symbol": "circle"
         },
         "mode": "markers",
         "name": "y1",
         "scene": "scene",
         "showlegend": false,
         "type": "scatter3d",
         "x": [
          0.21439370920466871
         ],
         "xaxis": "x",
         "y": [
          -0.6568695055082842
         ],
         "yaxis": "y",
         "z": [
          0.005719306731424347
         ],
         "zaxis": "z",
         "zmax": 6,
         "zmin": 1
        },
        {
         "colorbar": {
          "title": {
           "text": ""
          }
         },
         "legendgroup": "y1",
         "marker": {
          "color": "rgba(147, 38, 103, 1.000)",
          "line": {
           "color": "rgba(0, 0, 0, 1)",
           "width": 1
          },
          "size": 6,
          "symbol": "circle"
         },
         "mode": "markers",
         "name": "y1",
         "scene": "scene",
         "showlegend": false,
         "type": "scatter3d",
         "x": [
          2.1590421387736112e-78
         ],
         "xaxis": "x",
         "y": [
          3.2385632081604167e-78
         ],
         "yaxis": "y",
         "z": [
          -0.22283811640569456
         ],
         "zaxis": "z",
         "zmax": 6,
         "zmin": 1
        },
        {
         "colorbar": {
          "title": {
           "text": ""
          }
         },
         "legendgroup": "y1",
         "marker": {
          "color": "rgba(221, 81, 58, 1.000)",
          "line": {
           "color": "rgba(0, 0, 0, 1)",
           "width": 1
          },
          "size": 6,
          "symbol": "circle"
         },
         "mode": "markers",
         "name": "y1",
         "scene": "scene",
         "showlegend": false,
         "type": "scatter3d",
         "x": [
          0
         ],
         "xaxis": "x",
         "y": [
          0
         ],
         "yaxis": "y",
         "z": [
          0
         ],
         "zaxis": "z",
         "zmax": 6,
         "zmin": 1
        },
        {
         "colorbar": {
          "title": {
           "text": ""
          }
         },
         "legendgroup": "y1",
         "marker": {
          "color": "rgba(252, 165, 10, 1.000)",
          "line": {
           "color": "rgba(0, 0, 0, 1)",
           "width": 1
          },
          "size": 6,
          "symbol": "circle"
         },
         "mode": "markers",
         "name": "y1",
         "scene": "scene",
         "showlegend": false,
         "type": "scatter3d",
         "x": [
          0.98452437975135
         ],
         "xaxis": "x",
         "y": [
          -0.11057956692145074
         ],
         "yaxis": "y",
         "z": [
          -0.4600712633589899
         ],
         "zaxis": "z",
         "zmax": 6,
         "zmin": 1
        },
        {
         "colorbar": {
          "title": {
           "text": ""
          }
         },
         "legendgroup": "y1",
         "marker": {
          "color": "rgba(252, 255, 164, 1.000)",
          "line": {
           "color": "rgba(0, 0, 0, 1)",
           "width": 1
          },
          "size": 6,
          "symbol": "circle"
         },
         "mode": "markers",
         "name": "y1",
         "scene": "scene",
         "showlegend": false,
         "type": "scatter3d",
         "x": [
          0.42331028204003257
         ],
         "xaxis": "x",
         "y": [
          -0.3529083299955815
         ],
         "yaxis": "y",
         "z": [
          0.2330437238176911
         ],
         "zaxis": "z",
         "zmax": 6,
         "zmin": 1
        },
        {
         "colorbar": {
          "title": {
           "text": ""
          }
         },
         "hoverinfo": "none",
         "marker": {
          "cmax": 6,
          "cmin": 1,
          "color": [
           0.5
          ],
          "colorscale": [
           [
            0,
            "rgba(0, 0, 4, 1.000)"
           ],
           [
            0.00392156862745098,
            "rgba(1, 0, 5, 1.000)"
           ],
           [
            0.00784313725490196,
            "rgba(1, 1, 6, 1.000)"
           ],
           [
            0.011764705882352941,
            "rgba(1, 1, 8, 1.000)"
           ],
           [
            0.01568627450980392,
            "rgba(2, 1, 10, 1.000)"
           ],
           [
            0.0196078431372549,
            "rgba(2, 2, 12, 1.000)"
           ],
           [
            0.023529411764705882,
            "rgba(2, 2, 14, 1.000)"
           ],
           [
            0.027450980392156862,
            "rgba(3, 2, 16, 1.000)"
           ],
           [
            0.03137254901960784,
            "rgba(4, 3, 18, 1.000)"
           ],
           [
            0.03529411764705882,
            "rgba(4, 3, 20, 1.000)"
           ],
           [
            0.0392156862745098,
            "rgba(5, 4, 23, 1.000)"
           ],
           [
            0.043137254901960784,
            "rgba(6, 4, 25, 1.000)"
           ],
           [
            0.047058823529411764,
            "rgba(7, 5, 27, 1.000)"
           ],
           [
            0.050980392156862744,
            "rgba(8, 5, 29, 1.000)"
           ],
           [
            0.054901960784313725,
            "rgba(9, 6, 31, 1.000)"
           ],
           [
            0.058823529411764705,
            "rgba(10, 7, 34, 1.000)"
           ],
           [
            0.06274509803921569,
            "rgba(11, 7, 36, 1.000)"
           ],
           [
            0.06666666666666667,
            "rgba(12, 8, 38, 1.000)"
           ],
           [
            0.07058823529411765,
            "rgba(13, 8, 41, 1.000)"
           ],
           [
            0.07450980392156863,
            "rgba(14, 9, 43, 1.000)"
           ],
           [
            0.0784313725490196,
            "rgba(16, 9, 45, 1.000)"
           ],
           [
            0.08235294117647059,
            "rgba(17, 10, 48, 1.000)"
           ],
           [
            0.08627450980392157,
            "rgba(18, 10, 50, 1.000)"
           ],
           [
            0.09019607843137255,
            "rgba(20, 11, 52, 1.000)"
           ],
           [
            0.09411764705882353,
            "rgba(21, 11, 55, 1.000)"
           ],
           [
            0.09803921568627451,
            "rgba(22, 11, 57, 1.000)"
           ],
           [
            0.10196078431372549,
            "rgba(24, 12, 60, 1.000)"
           ],
           [
            0.10588235294117647,
            "rgba(25, 12, 62, 1.000)"
           ],
           [
            0.10980392156862745,
            "rgba(27, 12, 65, 1.000)"
           ],
           [
            0.11372549019607843,
            "rgba(28, 12, 67, 1.000)"
           ],
           [
            0.11764705882352941,
            "rgba(30, 12, 69, 1.000)"
           ],
           [
            0.12156862745098039,
            "rgba(31, 12, 72, 1.000)"
           ],
           [
            0.12549019607843137,
            "rgba(33, 12, 74, 1.000)"
           ],
           [
            0.12941176470588237,
            "rgba(35, 12, 76, 1.000)"
           ],
           [
            0.13333333333333333,
            "rgba(36, 12, 79, 1.000)"
           ],
           [
            0.13725490196078433,
            "rgba(38, 12, 81, 1.000)"
           ],
           [
            0.1411764705882353,
            "rgba(40, 11, 83, 1.000)"
           ],
           [
            0.1450980392156863,
            "rgba(41, 11, 85, 1.000)"
           ],
           [
            0.14901960784313725,
            "rgba(43, 11, 87, 1.000)"
           ],
           [
            0.15294117647058825,
            "rgba(45, 11, 89, 1.000)"
           ],
           [
            0.1568627450980392,
            "rgba(47, 10, 91, 1.000)"
           ],
           [
            0.1607843137254902,
            "rgba(49, 10, 92, 1.000)"
           ],
           [
            0.16470588235294117,
            "rgba(50, 10, 94, 1.000)"
           ],
           [
            0.16862745098039217,
            "rgba(52, 10, 95, 1.000)"
           ],
           [
            0.17254901960784313,
            "rgba(54, 9, 97, 1.000)"
           ],
           [
            0.17647058823529413,
            "rgba(56, 9, 98, 1.000)"
           ],
           [
            0.1803921568627451,
            "rgba(57, 9, 99, 1.000)"
           ],
           [
            0.1843137254901961,
            "rgba(59, 9, 100, 1.000)"
           ],
           [
            0.18823529411764706,
            "rgba(61, 9, 101, 1.000)"
           ],
           [
            0.19215686274509805,
            "rgba(62, 9, 102, 1.000)"
           ],
           [
            0.19607843137254902,
            "rgba(64, 10, 103, 1.000)"
           ],
           [
            0.2,
            "rgba(66, 10, 104, 1.000)"
           ],
           [
            0.20392156862745098,
            "rgba(68, 10, 104, 1.000)"
           ],
           [
            0.20784313725490197,
            "rgba(69, 10, 105, 1.000)"
           ],
           [
            0.21176470588235294,
            "rgba(71, 11, 106, 1.000)"
           ],
           [
            0.21568627450980393,
            "rgba(73, 11, 106, 1.000)"
           ],
           [
            0.2196078431372549,
            "rgba(74, 12, 107, 1.000)"
           ],
           [
            0.2235294117647059,
            "rgba(76, 12, 107, 1.000)"
           ],
           [
            0.22745098039215686,
            "rgba(77, 13, 108, 1.000)"
           ],
           [
            0.23137254901960785,
            "rgba(79, 13, 108, 1.000)"
           ],
           [
            0.23529411764705882,
            "rgba(81, 14, 108, 1.000)"
           ],
           [
            0.23921568627450981,
            "rgba(82, 14, 109, 1.000)"
           ],
           [
            0.24313725490196078,
            "rgba(84, 15, 109, 1.000)"
           ],
           [
            0.24705882352941178,
            "rgba(85, 15, 109, 1.000)"
           ],
           [
            0.25098039215686274,
            "rgba(87, 16, 110, 1.000)"
           ],
           [
            0.2549019607843137,
            "rgba(89, 16, 110, 1.000)"
           ],
           [
            0.25882352941176473,
            "rgba(90, 17, 110, 1.000)"
           ],
           [
            0.2627450980392157,
            "rgba(92, 18, 110, 1.000)"
           ],
           [
            0.26666666666666666,
            "rgba(93, 18, 110, 1.000)"
           ],
           [
            0.27058823529411763,
            "rgba(95, 19, 110, 1.000)"
           ],
           [
            0.27450980392156865,
            "rgba(97, 19, 110, 1.000)"
           ],
           [
            0.2784313725490196,
            "rgba(98, 20, 110, 1.000)"
           ],
           [
            0.2823529411764706,
            "rgba(100, 21, 110, 1.000)"
           ],
           [
            0.28627450980392155,
            "rgba(101, 21, 110, 1.000)"
           ],
           [
            0.2901960784313726,
            "rgba(103, 22, 110, 1.000)"
           ],
           [
            0.29411764705882354,
            "rgba(105, 22, 110, 1.000)"
           ],
           [
            0.2980392156862745,
            "rgba(106, 23, 110, 1.000)"
           ],
           [
            0.30196078431372547,
            "rgba(108, 24, 110, 1.000)"
           ],
           [
            0.3058823529411765,
            "rgba(109, 24, 110, 1.000)"
           ],
           [
            0.30980392156862746,
            "rgba(111, 25, 110, 1.000)"
           ],
           [
            0.3137254901960784,
            "rgba(113, 25, 110, 1.000)"
           ],
           [
            0.3176470588235294,
            "rgba(114, 26, 110, 1.000)"
           ],
           [
            0.3215686274509804,
            "rgba(116, 26, 110, 1.000)"
           ],
           [
            0.3254901960784314,
            "rgba(117, 27, 110, 1.000)"
           ],
           [
            0.32941176470588235,
            "rgba(119, 28, 109, 1.000)"
           ],
           [
            0.3333333333333333,
            "rgba(120, 28, 109, 1.000)"
           ],
           [
            0.33725490196078434,
            "rgba(122, 29, 109, 1.000)"
           ],
           [
            0.3411764705882353,
            "rgba(124, 29, 109, 1.000)"
           ],
           [
            0.34509803921568627,
            "rgba(125, 30, 109, 1.000)"
           ],
           [
            0.34901960784313724,
            "rgba(127, 30, 108, 1.000)"
           ],
           [
            0.35294117647058826,
            "rgba(128, 31, 108, 1.000)"
           ],
           [
            0.3568627450980392,
            "rgba(130, 32, 108, 1.000)"
           ],
           [
            0.3607843137254902,
            "rgba(132, 32, 107, 1.000)"
           ],
           [
            0.36470588235294116,
            "rgba(133, 33, 107, 1.000)"
           ],
           [
            0.3686274509803922,
            "rgba(135, 33, 107, 1.000)"
           ],
           [
            0.37254901960784315,
            "rgba(136, 34, 106, 1.000)"
           ],
           [
            0.3764705882352941,
            "rgba(138, 34, 106, 1.000)"
           ],
           [
            0.3803921568627451,
            "rgba(140, 35, 105, 1.000)"
           ],
           [
            0.3843137254901961,
            "rgba(141, 35, 105, 1.000)"
           ],
           [
            0.38823529411764707,
            "rgba(143, 36, 105, 1.000)"
           ],
           [
            0.39215686274509803,
            "rgba(144, 37, 104, 1.000)"
           ],
           [
            0.396078431372549,
            "rgba(146, 37, 104, 1.000)"
           ],
           [
            0.4,
            "rgba(147, 38, 103, 1.000)"
           ],
           [
            0.403921568627451,
            "rgba(149, 38, 103, 1.000)"
           ],
           [
            0.40784313725490196,
            "rgba(151, 39, 102, 1.000)"
           ],
           [
            0.4117647058823529,
            "rgba(152, 39, 102, 1.000)"
           ],
           [
            0.41568627450980394,
            "rgba(154, 40, 101, 1.000)"
           ],
           [
            0.4196078431372549,
            "rgba(155, 41, 100, 1.000)"
           ],
           [
            0.4235294117647059,
            "rgba(157, 41, 100, 1.000)"
           ],
           [
            0.42745098039215684,
            "rgba(159, 42, 99, 1.000)"
           ],
           [
            0.43137254901960786,
            "rgba(160, 42, 99, 1.000)"
           ],
           [
            0.43529411764705883,
            "rgba(162, 43, 98, 1.000)"
           ],
           [
            0.4392156862745098,
            "rgba(163, 44, 97, 1.000)"
           ],
           [
            0.44313725490196076,
            "rgba(165, 44, 96, 1.000)"
           ],
           [
            0.4470588235294118,
            "rgba(166, 45, 96, 1.000)"
           ],
           [
            0.45098039215686275,
            "rgba(168, 46, 95, 1.000)"
           ],
           [
            0.4549019607843137,
            "rgba(169, 46, 94, 1.000)"
           ],
           [
            0.4588235294117647,
            "rgba(171, 47, 94, 1.000)"
           ],
           [
            0.4627450980392157,
            "rgba(173, 48, 93, 1.000)"
           ],
           [
            0.4666666666666667,
            "rgba(174, 48, 92, 1.000)"
           ],
           [
            0.47058823529411764,
            "rgba(176, 49, 91, 1.000)"
           ],
           [
            0.4745098039215686,
            "rgba(177, 50, 90, 1.000)"
           ],
           [
            0.47843137254901963,
            "rgba(179, 50, 90, 1.000)"
           ],
           [
            0.4823529411764706,
            "rgba(180, 51, 89, 1.000)"
           ],
           [
            0.48627450980392156,
            "rgba(182, 52, 88, 1.000)"
           ],
           [
            0.49019607843137253,
            "rgba(183, 53, 87, 1.000)"
           ],
           [
            0.49411764705882355,
            "rgba(185, 53, 86, 1.000)"
           ],
           [
            0.4980392156862745,
            "rgba(186, 54, 85, 1.000)"
           ],
           [
            0.5019607843137255,
            "rgba(188, 55, 84, 1.000)"
           ],
           [
            0.5058823529411764,
            "rgba(189, 56, 83, 1.000)"
           ],
           [
            0.5098039215686274,
            "rgba(191, 57, 82, 1.000)"
           ],
           [
            0.5137254901960784,
            "rgba(192, 58, 81, 1.000)"
           ],
           [
            0.5176470588235295,
            "rgba(193, 58, 80, 1.000)"
           ],
           [
            0.5215686274509804,
            "rgba(195, 59, 79, 1.000)"
           ],
           [
            0.5254901960784314,
            "rgba(196, 60, 78, 1.000)"
           ],
           [
            0.5294117647058824,
            "rgba(198, 61, 77, 1.000)"
           ],
           [
            0.5333333333333333,
            "rgba(199, 62, 76, 1.000)"
           ],
           [
            0.5372549019607843,
            "rgba(200, 63, 75, 1.000)"
           ],
           [
            0.5411764705882353,
            "rgba(202, 64, 74, 1.000)"
           ],
           [
            0.5450980392156862,
            "rgba(203, 65, 73, 1.000)"
           ],
           [
            0.5490196078431373,
            "rgba(204, 66, 72, 1.000)"
           ],
           [
            0.5529411764705883,
            "rgba(206, 67, 71, 1.000)"
           ],
           [
            0.5568627450980392,
            "rgba(207, 68, 70, 1.000)"
           ],
           [
            0.5607843137254902,
            "rgba(208, 69, 69, 1.000)"
           ],
           [
            0.5647058823529412,
            "rgba(210, 70, 68, 1.000)"
           ],
           [
            0.5686274509803921,
            "rgba(211, 71, 67, 1.000)"
           ],
           [
            0.5725490196078431,
            "rgba(212, 72, 66, 1.000)"
           ],
           [
            0.5764705882352941,
            "rgba(213, 74, 65, 1.000)"
           ],
           [
            0.5803921568627451,
            "rgba(215, 75, 63, 1.000)"
           ],
           [
            0.5843137254901961,
            "rgba(216, 76, 62, 1.000)"
           ],
           [
            0.5882352941176471,
            "rgba(217, 77, 61, 1.000)"
           ],
           [
            0.592156862745098,
            "rgba(218, 78, 60, 1.000)"
           ],
           [
            0.596078431372549,
            "rgba(219, 80, 59, 1.000)"
           ],
           [
            0.6,
            "rgba(221, 81, 58, 1.000)"
           ],
           [
            0.6039215686274509,
            "rgba(222, 82, 56, 1.000)"
           ],
           [
            0.6078431372549019,
            "rgba(223, 83, 55, 1.000)"
           ],
           [
            0.611764705882353,
            "rgba(224, 85, 54, 1.000)"
           ],
           [
            0.615686274509804,
            "rgba(225, 86, 53, 1.000)"
           ],
           [
            0.6196078431372549,
            "rgba(226, 87, 52, 1.000)"
           ],
           [
            0.6235294117647059,
            "rgba(227, 89, 51, 1.000)"
           ],
           [
            0.6274509803921569,
            "rgba(228, 90, 49, 1.000)"
           ],
           [
            0.6313725490196078,
            "rgba(229, 92, 48, 1.000)"
           ],
           [
            0.6352941176470588,
            "rgba(230, 93, 47, 1.000)"
           ],
           [
            0.6392156862745098,
            "rgba(231, 94, 46, 1.000)"
           ],
           [
            0.6431372549019608,
            "rgba(232, 96, 45, 1.000)"
           ],
           [
            0.6470588235294118,
            "rgba(233, 97, 43, 1.000)"
           ],
           [
            0.6509803921568628,
            "rgba(234, 99, 42, 1.000)"
           ],
           [
            0.6549019607843137,
            "rgba(235, 100, 41, 1.000)"
           ],
           [
            0.6588235294117647,
            "rgba(235, 102, 40, 1.000)"
           ],
           [
            0.6627450980392157,
            "rgba(236, 103, 38, 1.000)"
           ],
           [
            0.6666666666666666,
            "rgba(237, 105, 37, 1.000)"
           ],
           [
            0.6705882352941176,
            "rgba(238, 106, 36, 1.000)"
           ],
           [
            0.6745098039215687,
            "rgba(239, 108, 35, 1.000)"
           ],
           [
            0.6784313725490196,
            "rgba(239, 110, 33, 1.000)"
           ],
           [
            0.6823529411764706,
            "rgba(240, 111, 32, 1.000)"
           ],
           [
            0.6862745098039216,
            "rgba(241, 113, 31, 1.000)"
           ],
           [
            0.6901960784313725,
            "rgba(241, 115, 29, 1.000)"
           ],
           [
            0.6941176470588235,
            "rgba(242, 116, 28, 1.000)"
           ],
           [
            0.6980392156862745,
            "rgba(243, 118, 27, 1.000)"
           ],
           [
            0.7019607843137254,
            "rgba(243, 120, 25, 1.000)"
           ],
           [
            0.7058823529411765,
            "rgba(244, 121, 24, 1.000)"
           ],
           [
            0.7098039215686275,
            "rgba(245, 123, 23, 1.000)"
           ],
           [
            0.7137254901960784,
            "rgba(245, 125, 21, 1.000)"
           ],
           [
            0.7176470588235294,
            "rgba(246, 126, 20, 1.000)"
           ],
           [
            0.7215686274509804,
            "rgba(246, 128, 19, 1.000)"
           ],
           [
            0.7254901960784313,
            "rgba(247, 130, 18, 1.000)"
           ],
           [
            0.7294117647058823,
            "rgba(247, 132, 16, 1.000)"
           ],
           [
            0.7333333333333333,
            "rgba(248, 133, 15, 1.000)"
           ],
           [
            0.7372549019607844,
            "rgba(248, 135, 14, 1.000)"
           ],
           [
            0.7411764705882353,
            "rgba(248, 137, 12, 1.000)"
           ],
           [
            0.7450980392156863,
            "rgba(249, 139, 11, 1.000)"
           ],
           [
            0.7490196078431373,
            "rgba(249, 140, 10, 1.000)"
           ],
           [
            0.7529411764705882,
            "rgba(249, 142, 9, 1.000)"
           ],
           [
            0.7568627450980392,
            "rgba(250, 144, 8, 1.000)"
           ],
           [
            0.7607843137254902,
            "rgba(250, 146, 7, 1.000)"
           ],
           [
            0.7647058823529411,
            "rgba(250, 148, 7, 1.000)"
           ],
           [
            0.7686274509803922,
            "rgba(251, 150, 6, 1.000)"
           ],
           [
            0.7725490196078432,
            "rgba(251, 151, 6, 1.000)"
           ],
           [
            0.7764705882352941,
            "rgba(251, 153, 6, 1.000)"
           ],
           [
            0.7803921568627451,
            "rgba(251, 155, 6, 1.000)"
           ],
           [
            0.7843137254901961,
            "rgba(251, 157, 7, 1.000)"
           ],
           [
            0.788235294117647,
            "rgba(252, 159, 7, 1.000)"
           ],
           [
            0.792156862745098,
            "rgba(252, 161, 8, 1.000)"
           ],
           [
            0.796078431372549,
            "rgba(252, 163, 9, 1.000)"
           ],
           [
            0.8,
            "rgba(252, 165, 10, 1.000)"
           ],
           [
            0.803921568627451,
            "rgba(252, 166, 12, 1.000)"
           ],
           [
            0.807843137254902,
            "rgba(252, 168, 13, 1.000)"
           ],
           [
            0.8117647058823529,
            "rgba(252, 170, 15, 1.000)"
           ],
           [
            0.8156862745098039,
            "rgba(252, 172, 17, 1.000)"
           ],
           [
            0.8196078431372549,
            "rgba(252, 174, 18, 1.000)"
           ],
           [
            0.8235294117647058,
            "rgba(252, 176, 20, 1.000)"
           ],
           [
            0.8274509803921568,
            "rgba(252, 178, 22, 1.000)"
           ],
           [
            0.8313725490196079,
            "rgba(252, 180, 24, 1.000)"
           ],
           [
            0.8352941176470589,
            "rgba(251, 182, 26, 1.000)"
           ],
           [
            0.8392156862745098,
            "rgba(251, 184, 29, 1.000)"
           ],
           [
            0.8431372549019608,
            "rgba(251, 186, 31, 1.000)"
           ],
           [
            0.8470588235294118,
            "rgba(251, 188, 33, 1.000)"
           ],
           [
            0.8509803921568627,
            "rgba(251, 190, 35, 1.000)"
           ],
           [
            0.8549019607843137,
            "rgba(250, 192, 38, 1.000)"
           ],
           [
            0.8588235294117647,
            "rgba(250, 194, 40, 1.000)"
           ],
           [
            0.8627450980392157,
            "rgba(250, 196, 42, 1.000)"
           ],
           [
            0.8666666666666667,
            "rgba(250, 198, 45, 1.000)"
           ],
           [
            0.8705882352941177,
            "rgba(249, 199, 47, 1.000)"
           ],
           [
            0.8745098039215686,
            "rgba(249, 201, 50, 1.000)"
           ],
           [
            0.8784313725490196,
            "rgba(249, 203, 53, 1.000)"
           ],
           [
            0.8823529411764706,
            "rgba(248, 205, 55, 1.000)"
           ],
           [
            0.8862745098039215,
            "rgba(248, 207, 58, 1.000)"
           ],
           [
            0.8901960784313725,
            "rgba(247, 209, 61, 1.000)"
           ],
           [
            0.8941176470588236,
            "rgba(247, 211, 64, 1.000)"
           ],
           [
            0.8980392156862745,
            "rgba(246, 213, 67, 1.000)"
           ],
           [
            0.9019607843137255,
            "rgba(246, 215, 70, 1.000)"
           ],
           [
            0.9058823529411765,
            "rgba(245, 217, 73, 1.000)"
           ],
           [
            0.9098039215686274,
            "rgba(245, 219, 76, 1.000)"
           ],
           [
            0.9137254901960784,
            "rgba(244, 221, 79, 1.000)"
           ],
           [
            0.9176470588235294,
            "rgba(244, 223, 83, 1.000)"
           ],
           [
            0.9215686274509803,
            "rgba(244, 225, 86, 1.000)"
           ],
           [
            0.9254901960784314,
            "rgba(243, 227, 90, 1.000)"
           ],
           [
            0.9294117647058824,
            "rgba(243, 229, 93, 1.000)"
           ],
           [
            0.9333333333333333,
            "rgba(242, 230, 97, 1.000)"
           ],
           [
            0.9372549019607843,
            "rgba(242, 232, 101, 1.000)"
           ],
           [
            0.9411764705882353,
            "rgba(242, 234, 105, 1.000)"
           ],
           [
            0.9450980392156862,
            "rgba(241, 236, 109, 1.000)"
           ],
           [
            0.9490196078431372,
            "rgba(241, 237, 113, 1.000)"
           ],
           [
            0.9529411764705882,
            "rgba(241, 239, 117, 1.000)"
           ],
           [
            0.9568627450980393,
            "rgba(241, 241, 121, 1.000)"
           ],
           [
            0.9607843137254902,
            "rgba(242, 242, 125, 1.000)"
           ],
           [
            0.9647058823529412,
            "rgba(242, 244, 130, 1.000)"
           ],
           [
            0.9686274509803922,
            "rgba(243, 245, 134, 1.000)"
           ],
           [
            0.9725490196078431,
            "rgba(243, 246, 138, 1.000)"
           ],
           [
            0.9764705882352941,
            "rgba(244, 248, 142, 1.000)"
           ],
           [
            0.9803921568627451,
            "rgba(245, 249, 146, 1.000)"
           ],
           [
            0.984313725490196,
            "rgba(246, 250, 150, 1.000)"
           ],
           [
            0.9882352941176471,
            "rgba(248, 251, 154, 1.000)"
           ],
           [
            0.9921568627450981,
            "rgba(249, 252, 157, 1.000)"
           ],
           [
            0.996078431372549,
            "rgba(250, 253, 161, 1.000)"
           ],
           [
            1,
            "rgba(252, 255, 164, 1.000)"
           ]
          ],
          "opacity": 1e-10,
          "showscale": true,
          "size": 1e-10
         },
         "mode": "markers",
         "name": "y1",
         "scene": "scene",
         "showlegend": false,
         "type": "scatter3d",
         "x": [
          0.25307761666664663
         ],
         "xaxis": "x",
         "y": [
          0.43544588728863326
         ],
         "yaxis": "y",
         "z": [
          -0.09638785833971715
         ],
         "zaxis": "z",
         "zmax": 6,
         "zmin": 1
        },
        {
         "colorbar": {
          "title": {
           "text": ""
          }
         },
         "legendgroup": "y2",
         "line": {
          "color": "rgba(0, 0, 0, 1)",
          "dash": "solid",
          "shape": "linear",
          "width": 2
         },
         "mode": "lines",
         "name": "y2",
         "scene": "scene",
         "showlegend": true,
         "type": "scatter3d",
         "x": [
          0.25307761666664663,
          0.21439370920466871,
          2.1590421387736112e-78,
          0,
          0.98452437975135,
          0.42331028204003257
         ],
         "xaxis": "x",
         "y": [
          0.43544588728863326,
          -0.6568695055082842,
          3.2385632081604167e-78,
          0,
          -0.11057956692145074,
          -0.3529083299955815
         ],
         "yaxis": "y",
         "z": [
          -0.09638785833971715,
          0.005719306731424347,
          -0.22283811640569456,
          0,
          -0.4600712633589899,
          0.2330437238176911
         ],
         "zaxis": "z",
         "zmax": 6,
         "zmin": 1
        }
       ],
       "layout": {
        "annotations": [],
        "height": 400,
        "legend": {
         "bgcolor": "rgba(255, 255, 255, 1.000)",
         "bordercolor": "rgba(0, 0, 0, 1)",
         "borderwidth": 1,
         "font": {
          "color": "rgba(0, 0, 0, 1)",
          "family": "sans-serif",
          "size": 11
         },
         "title": {
          "font": {
           "color": "rgba(0, 0, 0, 1)",
           "family": "sans-serif",
           "size": 15
          },
          "text": ""
         },
         "tracegroupgap": 0,
         "traceorder": "normal",
         "x": 1,
         "xanchor": "auto",
         "y": 1,
         "yanchor": "auto"
        },
        "margin": {
         "b": 20,
         "l": 0,
         "r": 0,
         "t": 20
        },
        "paper_bgcolor": "rgba(255, 255, 255, 1.000)",
        "plot_bgcolor": "rgba(255, 255, 255, 1.000)",
        "scene": {
         "aspectmode": "auto",
         "aspectratio": {
          "x": 1.0858417488416363,
          "y": 1.2047255312263558,
          "z": 0.7644434259864183
         },
         "camera": {
          "center": {
           "x": 0,
           "y": 0,
           "z": 0
          },
          "eye": {
           "x": 0.4381717724501006,
           "y": -0.7589357723260833,
           "z": 0.5059571815507223
          },
          "projection": {
           "type": "perspective"
          },
          "up": {
           "x": 0,
           "y": 0,
           "z": 1
          }
         },
         "domain": {
          "x": [
           0.10609871682706327,
           0.9934383202099737
          ],
          "y": [
           0.07581474190726165,
           0.9901574803149606
          ]
         },
         "xaxis": {
          "gridcolor": "rgba(0, 0, 0, 0.1)",
          "gridwidth": 0.5,
          "linecolor": "rgba(0, 0, 0, 1)",
          "mirror": false,
          "range": [
           -0.0295357313925405,
           1.0140601111438905
          ],
          "showgrid": true,
          "showline": true,
          "showticklabels": true,
          "tickangle": 0,
          "tickcolor": "rgb(0, 0, 0)",
          "tickfont": {
           "color": "rgba(0, 0, 0, 1)",
           "family": "sans-serif",
           "size": 11
          },
          "tickmode": "array",
          "ticks": "inside",
          "ticktext": [
           "0.00",
           "0.25",
           "0.50",
           "0.75",
           "1.00"
          ],
          "tickvals": [
           0,
           0.25,
           0.5,
           0.75,
           1
          ],
          "title": {
           "font": {
            "color": "rgba(0, 0, 0, 1)",
            "family": "sans-serif",
            "size": 15
           },
           "text": "x"
          },
          "type": "linear",
          "visible": true,
          "zeroline": false,
          "zerolinecolor": "rgba(0, 0, 0, 1)"
         },
         "yaxis": {
          "gridcolor": "rgba(0, 0, 0, 0.1)",
          "gridwidth": 0.5,
          "linecolor": "rgba(0, 0, 0, 1)",
          "mirror": false,
          "range": [
           -0.6896389672921917,
           0.4682153490725408
          ],
          "showgrid": true,
          "showline": true,
          "showticklabels": true,
          "tickangle": 0,
          "tickcolor": "rgb(0, 0, 0)",
          "tickfont": {
           "color": "rgba(0, 0, 0, 1)",
           "family": "sans-serif",
           "size": 11
          },
          "tickmode": "array",
          "ticks": "inside",
          "ticktext": [
           "-0.50",
           "-0.25",
           "0.00",
           "0.25"
          ],
          "tickvals": [
           -0.5,
           -0.25,
           0,
           0.25
          ],
          "title": {
           "font": {
            "color": "rgba(0, 0, 0, 1)",
            "family": "sans-serif",
            "size": 15
           },
           "text": "y"
          },
          "type": "linear",
          "visible": true,
          "zeroline": false,
          "zerolinecolor": "rgba(0, 0, 0, 1)"
         },
         "zaxis": {
          "gridcolor": "rgba(0, 0, 0, 0.1)",
          "gridwidth": 0.5,
          "linecolor": "rgba(0, 0, 0, 1)",
          "mirror": false,
          "range": [
           -0.48086471297429034,
           0.2538371734329915
          ],
          "showgrid": true,
          "showline": true,
          "showticklabels": true,
          "tickangle": 0,
          "tickcolor": "rgb(0, 0, 0)",
          "tickfont": {
           "color": "rgba(0, 0, 0, 1)",
           "family": "sans-serif",
           "size": 11
          },
          "tickmode": "array",
          "ticks": "inside",
          "ticktext": [
           "-0.4",
           "-0.3",
           "-0.2",
           "-0.1",
           "0.0",
           "0.1",
           "0.2"
          ],
          "tickvals": [
           -0.4,
           -0.30000000000000004,
           -0.2,
           -0.1,
           0,
           0.1,
           0.2
          ],
          "title": {
           "font": {
            "color": "rgba(0, 0, 0, 1)",
            "family": "sans-serif",
            "size": 15
           },
           "text": "z"
          },
          "type": "linear",
          "visible": true,
          "zeroline": false,
          "zerolinecolor": "rgba(0, 0, 0, 1)"
         }
        },
        "showlegend": true,
        "width": 600
       }
      },
      "image/png": "[encoded data removed]",
      "text/html": [
       "    <div id=\"59d45bf9-e033-482d-a21d-e8a6af75b1ff\" style=\"width:600px;height:400px;\"></div>\n",
       "    <script>\n",
       "        requirejs.config({\n",
       "        paths: {\n",
       "            Plotly: 'https://cdn.plot.ly/plotly-1.57.1.min'\n",
       "        }\n",
       "    });\n",
       "    require(['Plotly'], function (Plotly) {\n",
       "\n",
       "        var PLOT = document.getElementById('59d45bf9-e033-482d-a21d-e8a6af75b1ff');\n",
       "    Plotly.plot(PLOT, [\n",
       "    {\n",
       "        \"xaxis\": \"x\",\n",
       "        \"colorbar\": {\n",
       "            \"title\": \"\"\n",
       "        },\n",
       "        \"yaxis\": \"y\",\n",
       "        \"zaxis\": \"z\",\n",
       "        \"x\": [\n",
       "            0.25307761666664663\n",
       "        ],\n",
       "        \"showlegend\": true,\n",
       "        \"mode\": \"markers\",\n",
       "        \"name\": \"y1\",\n",
       "        \"zmin\": 1.0,\n",
       "        \"legendgroup\": \"y1\",\n",
       "        \"z\": [\n",
       "            -0.09638785833971715\n",
       "        ],\n",
       "        \"marker\": {\n",
       "            \"symbol\": \"circle\",\n",
       "            \"color\": \"rgba(0, 0, 4, 1.000)\",\n",
       "            \"line\": {\n",
       "                \"color\": \"rgba(0, 0, 0, 1.000)\",\n",
       "                \"width\": 1\n",
       "            },\n",
       "            \"size\": 6\n",
       "        },\n",
       "        \"zmax\": 6.0,\n",
       "        \"y\": [\n",
       "            0.43544588728863326\n",
       "        ],\n",
       "        \"type\": \"scatter3d\",\n",
       "        \"scene\": \"scene\"\n",
       "    },\n",
       "    {\n",
       "        \"xaxis\": \"x\",\n",
       "        \"colorbar\": {\n",
       "            \"title\": \"\"\n",
       "        },\n",
       "        \"yaxis\": \"y\",\n",
       "        \"zaxis\": \"z\",\n",
       "        \"x\": [\n",
       "            0.21439370920466871\n",
       "        ],\n",
       "        \"showlegend\": false,\n",
       "        \"mode\": \"markers\",\n",
       "        \"name\": \"y1\",\n",
       "        \"zmin\": 1.0,\n",
       "        \"legendgroup\": \"y1\",\n",
       "        \"z\": [\n",
       "            0.005719306731424347\n",
       "        ],\n",
       "        \"marker\": {\n",
       "            \"symbol\": \"circle\",\n",
       "            \"color\": \"rgba(66, 10, 104, 1.000)\",\n",
       "            \"line\": {\n",
       "                \"color\": \"rgba(0, 0, 0, 1.000)\",\n",
       "                \"width\": 1\n",
       "            },\n",
       "            \"size\": 6\n",
       "        },\n",
       "        \"zmax\": 6.0,\n",
       "        \"y\": [\n",
       "            -0.6568695055082842\n",
       "        ],\n",
       "        \"type\": \"scatter3d\",\n",
       "        \"scene\": \"scene\"\n",
       "    },\n",
       "    {\n",
       "        \"xaxis\": \"x\",\n",
       "        \"colorbar\": {\n",
       "            \"title\": \"\"\n",
       "        },\n",
       "        \"yaxis\": \"y\",\n",
       "        \"zaxis\": \"z\",\n",
       "        \"x\": [\n",
       "            2.1590421387736112e-78\n",
       "        ],\n",
       "        \"showlegend\": false,\n",
       "        \"mode\": \"markers\",\n",
       "        \"name\": \"y1\",\n",
       "        \"zmin\": 1.0,\n",
       "        \"legendgroup\": \"y1\",\n",
       "        \"z\": [\n",
       "            -0.22283811640569456\n",
       "        ],\n",
       "        \"marker\": {\n",
       "            \"symbol\": \"circle\",\n",
       "            \"color\": \"rgba(147, 38, 103, 1.000)\",\n",
       "            \"line\": {\n",
       "                \"color\": \"rgba(0, 0, 0, 1.000)\",\n",
       "                \"width\": 1\n",
       "            },\n",
       "            \"size\": 6\n",
       "        },\n",
       "        \"zmax\": 6.0,\n",
       "        \"y\": [\n",
       "            3.2385632081604167e-78\n",
       "        ],\n",
       "        \"type\": \"scatter3d\",\n",
       "        \"scene\": \"scene\"\n",
       "    },\n",
       "    {\n",
       "        \"xaxis\": \"x\",\n",
       "        \"colorbar\": {\n",
       "            \"title\": \"\"\n",
       "        },\n",
       "        \"yaxis\": \"y\",\n",
       "        \"zaxis\": \"z\",\n",
       "        \"x\": [\n",
       "            0.0\n",
       "        ],\n",
       "        \"showlegend\": false,\n",
       "        \"mode\": \"markers\",\n",
       "        \"name\": \"y1\",\n",
       "        \"zmin\": 1.0,\n",
       "        \"legendgroup\": \"y1\",\n",
       "        \"z\": [\n",
       "            -0.0\n",
       "        ],\n",
       "        \"marker\": {\n",
       "            \"symbol\": \"circle\",\n",
       "            \"color\": \"rgba(221, 81, 58, 1.000)\",\n",
       "            \"line\": {\n",
       "                \"color\": \"rgba(0, 0, 0, 1.000)\",\n",
       "                \"width\": 1\n",
       "            },\n",
       "            \"size\": 6\n",
       "        },\n",
       "        \"zmax\": 6.0,\n",
       "        \"y\": [\n",
       "            0.0\n",
       "        ],\n",
       "        \"type\": \"scatter3d\",\n",
       "        \"scene\": \"scene\"\n",
       "    },\n",
       "    {\n",
       "        \"xaxis\": \"x\",\n",
       "        \"colorbar\": {\n",
       "            \"title\": \"\"\n",
       "        },\n",
       "        \"yaxis\": \"y\",\n",
       "        \"zaxis\": \"z\",\n",
       "        \"x\": [\n",
       "            0.98452437975135\n",
       "        ],\n",
       "        \"showlegend\": false,\n",
       "        \"mode\": \"markers\",\n",
       "        \"name\": \"y1\",\n",
       "        \"zmin\": 1.0,\n",
       "        \"legendgroup\": \"y1\",\n",
       "        \"z\": [\n",
       "            -0.4600712633589899\n",
       "        ],\n",
       "        \"marker\": {\n",
       "            \"symbol\": \"circle\",\n",
       "            \"color\": \"rgba(252, 165, 10, 1.000)\",\n",
       "            \"line\": {\n",
       "                \"color\": \"rgba(0, 0, 0, 1.000)\",\n",
       "                \"width\": 1\n",
       "            },\n",
       "            \"size\": 6\n",
       "        },\n",
       "        \"zmax\": 6.0,\n",
       "        \"y\": [\n",
       "            -0.11057956692145074\n",
       "        ],\n",
       "        \"type\": \"scatter3d\",\n",
       "        \"scene\": \"scene\"\n",
       "    },\n",
       "    {\n",
       "        \"xaxis\": \"x\",\n",
       "        \"colorbar\": {\n",
       "            \"title\": \"\"\n",
       "        },\n",
       "        \"yaxis\": \"y\",\n",
       "        \"zaxis\": \"z\",\n",
       "        \"x\": [\n",
       "            0.42331028204003257\n",
       "        ],\n",
       "        \"showlegend\": false,\n",
       "        \"mode\": \"markers\",\n",
       "        \"name\": \"y1\",\n",
       "        \"zmin\": 1.0,\n",
       "        \"legendgroup\": \"y1\",\n",
       "        \"z\": [\n",
       "            0.2330437238176911\n",
       "        ],\n",
       "        \"marker\": {\n",
       "            \"symbol\": \"circle\",\n",
       "            \"color\": \"rgba(252, 255, 164, 1.000)\",\n",
       "            \"line\": {\n",
       "                \"color\": \"rgba(0, 0, 0, 1.000)\",\n",
       "                \"width\": 1\n",
       "            },\n",
       "            \"size\": 6\n",
       "        },\n",
       "        \"zmax\": 6.0,\n",
       "        \"y\": [\n",
       "            -0.3529083299955815\n",
       "        ],\n",
       "        \"type\": \"scatter3d\",\n",
       "        \"scene\": \"scene\"\n",
       "    },\n",
       "    {\n",
       "        \"xaxis\": \"x\",\n",
       "        \"colorbar\": {\n",
       "            \"title\": \"\"\n",
       "        },\n",
       "        \"yaxis\": \"y\",\n",
       "        \"zaxis\": \"z\",\n",
       "        \"x\": [\n",
       "            0.25307761666664663\n",
       "        ],\n",
       "        \"showlegend\": false,\n",
       "        \"mode\": \"markers\",\n",
       "        \"name\": \"y1\",\n",
       "        \"zmin\": 1.0,\n",
       "        \"z\": [\n",
       "            -0.09638785833971715\n",
       "        ],\n",
       "        \"marker\": {\n",
       "            \"color\": [\n",
       "                0.5\n",
       "            ],\n",
       "            \"cmin\": 1.0,\n",
       "            \"opacity\": 1.0e-10,\n",
       "            \"size\": 1.0e-10,\n",
       "            \"colorscale\": [\n",
       "                [\n",
       "                    0.0,\n",
       "                    \"rgba(0, 0, 4, 1.000)\"\n",
       "                ],\n",
       "                [\n",
       "                    0.00392156862745098,\n",
       "                    \"rgba(1, 0, 5, 1.000)\"\n",
       "                ],\n",
       "                [\n",
       "                    0.00784313725490196,\n",
       "                    \"rgba(1, 1, 6, 1.000)\"\n",
       "                ],\n",
       "                [\n",
       "                    0.011764705882352941,\n",
       "                    \"rgba(1, 1, 8, 1.000)\"\n",
       "                ],\n",
       "                [\n",
       "                    0.01568627450980392,\n",
       "                    \"rgba(2, 1, 10, 1.000)\"\n",
       "                ],\n",
       "                [\n",
       "                    0.0196078431372549,\n",
       "                    \"rgba(2, 2, 12, 1.000)\"\n",
       "                ],\n",
       "                [\n",
       "                    0.023529411764705882,\n",
       "                    \"rgba(2, 2, 14, 1.000)\"\n",
       "                ],\n",
       "                [\n",
       "                    0.027450980392156862,\n",
       "                    \"rgba(3, 2, 16, 1.000)\"\n",
       "                ],\n",
       "                [\n",
       "                    0.03137254901960784,\n",
       "                    \"rgba(4, 3, 18, 1.000)\"\n",
       "                ],\n",
       "                [\n",
       "                    0.03529411764705882,\n",
       "                    \"rgba(4, 3, 20, 1.000)\"\n",
       "                ],\n",
       "                [\n",
       "                    0.0392156862745098,\n",
       "                    \"rgba(5, 4, 23, 1.000)\"\n",
       "                ],\n",
       "                [\n",
       "                    0.043137254901960784,\n",
       "                    \"rgba(6, 4, 25, 1.000)\"\n",
       "                ],\n",
       "                [\n",
       "                    0.047058823529411764,\n",
       "                    \"rgba(7, 5, 27, 1.000)\"\n",
       "                ],\n",
       "                [\n",
       "                    0.050980392156862744,\n",
       "                    \"rgba(8, 5, 29, 1.000)\"\n",
       "                ],\n",
       "                [\n",
       "                    0.054901960784313725,\n",
       "                    \"rgba(9, 6, 31, 1.000)\"\n",
       "                ],\n",
       "                [\n",
       "                    0.058823529411764705,\n",
       "                    \"rgba(10, 7, 34, 1.000)\"\n",
       "                ],\n",
       "                [\n",
       "                    0.06274509803921569,\n",
       "                    \"rgba(11, 7, 36, 1.000)\"\n",
       "                ],\n",
       "                [\n",
       "                    0.06666666666666667,\n",
       "                    \"rgba(12, 8, 38, 1.000)\"\n",
       "                ],\n",
       "                [\n",
       "                    0.07058823529411765,\n",
       "                    \"rgba(13, 8, 41, 1.000)\"\n",
       "                ],\n",
       "                [\n",
       "                    0.07450980392156863,\n",
       "                    \"rgba(14, 9, 43, 1.000)\"\n",
       "                ],\n",
       "                [\n",
       "                    0.0784313725490196,\n",
       "                    \"rgba(16, 9, 45, 1.000)\"\n",
       "                ],\n",
       "                [\n",
       "                    0.08235294117647059,\n",
       "                    \"rgba(17, 10, 48, 1.000)\"\n",
       "                ],\n",
       "                [\n",
       "                    0.08627450980392157,\n",
       "                    \"rgba(18, 10, 50, 1.000)\"\n",
       "                ],\n",
       "                [\n",
       "                    0.09019607843137255,\n",
       "                    \"rgba(20, 11, 52, 1.000)\"\n",
       "                ],\n",
       "                [\n",
       "                    0.09411764705882353,\n",
       "                    \"rgba(21, 11, 55, 1.000)\"\n",
       "                ],\n",
       "                [\n",
       "                    0.09803921568627451,\n",
       "                    \"rgba(22, 11, 57, 1.000)\"\n",
       "                ],\n",
       "                [\n",
       "                    0.10196078431372549,\n",
       "                    \"rgba(24, 12, 60, 1.000)\"\n",
       "                ],\n",
       "                [\n",
       "                    0.10588235294117647,\n",
       "                    \"rgba(25, 12, 62, 1.000)\"\n",
       "                ],\n",
       "                [\n",
       "                    0.10980392156862745,\n",
       "                    \"rgba(27, 12, 65, 1.000)\"\n",
       "                ],\n",
       "                [\n",
       "                    0.11372549019607843,\n",
       "                    \"rgba(28, 12, 67, 1.000)\"\n",
       "                ],\n",
       "                [\n",
       "                    0.11764705882352941,\n",
       "                    \"rgba(30, 12, 69, 1.000)\"\n",
       "                ],\n",
       "                [\n",
       "                    0.12156862745098039,\n",
       "                    \"rgba(31, 12, 72, 1.000)\"\n",
       "                ],\n",
       "                [\n",
       "                    0.12549019607843137,\n",
       "                    \"rgba(33, 12, 74, 1.000)\"\n",
       "                ],\n",
       "                [\n",
       "                    0.12941176470588237,\n",
       "                    \"rgba(35, 12, 76, 1.000)\"\n",
       "                ],\n",
       "                [\n",
       "                    0.13333333333333333,\n",
       "                    \"rgba(36, 12, 79, 1.000)\"\n",
       "                ],\n",
       "                [\n",
       "                    0.13725490196078433,\n",
       "                    \"rgba(38, 12, 81, 1.000)\"\n",
       "                ],\n",
       "                [\n",
       "                    0.1411764705882353,\n",
       "                    \"rgba(40, 11, 83, 1.000)\"\n",
       "                ],\n",
       "                [\n",
       "                    0.1450980392156863,\n",
       "                    \"rgba(41, 11, 85, 1.000)\"\n",
       "                ],\n",
       "                [\n",
       "                    0.14901960784313725,\n",
       "                    \"rgba(43, 11, 87, 1.000)\"\n",
       "                ],\n",
       "                [\n",
       "                    0.15294117647058825,\n",
       "                    \"rgba(45, 11, 89, 1.000)\"\n",
       "                ],\n",
       "                [\n",
       "                    0.1568627450980392,\n",
       "                    \"rgba(47, 10, 91, 1.000)\"\n",
       "                ],\n",
       "                [\n",
       "                    0.1607843137254902,\n",
       "                    \"rgba(49, 10, 92, 1.000)\"\n",
       "                ],\n",
       "                [\n",
       "                    0.16470588235294117,\n",
       "                    \"rgba(50, 10, 94, 1.000)\"\n",
       "                ],\n",
       "                [\n",
       "                    0.16862745098039217,\n",
       "                    \"rgba(52, 10, 95, 1.000)\"\n",
       "                ],\n",
       "                [\n",
       "                    0.17254901960784313,\n",
       "                    \"rgba(54, 9, 97, 1.000)\"\n",
       "                ],\n",
       "                [\n",
       "                    0.17647058823529413,\n",
       "                    \"rgba(56, 9, 98, 1.000)\"\n",
       "                ],\n",
       "                [\n",
       "                    0.1803921568627451,\n",
       "                    \"rgba(57, 9, 99, 1.000)\"\n",
       "                ],\n",
       "                [\n",
       "                    0.1843137254901961,\n",
       "                    \"rgba(59, 9, 100, 1.000)\"\n",
       "                ],\n",
       "                [\n",
       "                    0.18823529411764706,\n",
       "                    \"rgba(61, 9, 101, 1.000)\"\n",
       "                ],\n",
       "                [\n",
       "                    0.19215686274509805,\n",
       "                    \"rgba(62, 9, 102, 1.000)\"\n",
       "                ],\n",
       "                [\n",
       "                    0.19607843137254902,\n",
       "                    \"rgba(64, 10, 103, 1.000)\"\n",
       "                ],\n",
       "                [\n",
       "                    0.2,\n",
       "                    \"rgba(66, 10, 104, 1.000)\"\n",
       "                ],\n",
       "                [\n",
       "                    0.20392156862745098,\n",
       "                    \"rgba(68, 10, 104, 1.000)\"\n",
       "                ],\n",
       "                [\n",
       "                    0.20784313725490197,\n",
       "                    \"rgba(69, 10, 105, 1.000)\"\n",
       "                ],\n",
       "                [\n",
       "                    0.21176470588235294,\n",
       "                    \"rgba(71, 11, 106, 1.000)\"\n",
       "                ],\n",
       "                [\n",
       "                    0.21568627450980393,\n",
       "                    \"rgba(73, 11, 106, 1.000)\"\n",
       "                ],\n",
       "                [\n",
       "                    0.2196078431372549,\n",
       "                    \"rgba(74, 12, 107, 1.000)\"\n",
       "                ],\n",
       "                [\n",
       "                    0.2235294117647059,\n",
       "                    \"rgba(76, 12, 107, 1.000)\"\n",
       "                ],\n",
       "                [\n",
       "                    0.22745098039215686,\n",
       "                    \"rgba(77, 13, 108, 1.000)\"\n",
       "                ],\n",
       "                [\n",
       "                    0.23137254901960785,\n",
       "                    \"rgba(79, 13, 108, 1.000)\"\n",
       "                ],\n",
       "                [\n",
       "                    0.23529411764705882,\n",
       "                    \"rgba(81, 14, 108, 1.000)\"\n",
       "                ],\n",
       "                [\n",
       "                    0.23921568627450981,\n",
       "                    \"rgba(82, 14, 109, 1.000)\"\n",
       "                ],\n",
       "                [\n",
       "                    0.24313725490196078,\n",
       "                    \"rgba(84, 15, 109, 1.000)\"\n",
       "                ],\n",
       "                [\n",
       "                    0.24705882352941178,\n",
       "                    \"rgba(85, 15, 109, 1.000)\"\n",
       "                ],\n",
       "                [\n",
       "                    0.25098039215686274,\n",
       "                    \"rgba(87, 16, 110, 1.000)\"\n",
       "                ],\n",
       "                [\n",
       "                    0.2549019607843137,\n",
       "                    \"rgba(89, 16, 110, 1.000)\"\n",
       "                ],\n",
       "                [\n",
       "                    0.25882352941176473,\n",
       "                    \"rgba(90, 17, 110, 1.000)\"\n",
       "                ],\n",
       "                [\n",
       "                    0.2627450980392157,\n",
       "                    \"rgba(92, 18, 110, 1.000)\"\n",
       "                ],\n",
       "                [\n",
       "                    0.26666666666666666,\n",
       "                    \"rgba(93, 18, 110, 1.000)\"\n",
       "                ],\n",
       "                [\n",
       "                    0.27058823529411763,\n",
       "                    \"rgba(95, 19, 110, 1.000)\"\n",
       "                ],\n",
       "                [\n",
       "                    0.27450980392156865,\n",
       "                    \"rgba(97, 19, 110, 1.000)\"\n",
       "                ],\n",
       "                [\n",
       "                    0.2784313725490196,\n",
       "                    \"rgba(98, 20, 110, 1.000)\"\n",
       "                ],\n",
       "                [\n",
       "                    0.2823529411764706,\n",
       "                    \"rgba(100, 21, 110, 1.000)\"\n",
       "                ],\n",
       "                [\n",
       "                    0.28627450980392155,\n",
       "                    \"rgba(101, 21, 110, 1.000)\"\n",
       "                ],\n",
       "                [\n",
       "                    0.2901960784313726,\n",
       "                    \"rgba(103, 22, 110, 1.000)\"\n",
       "                ],\n",
       "                [\n",
       "                    0.29411764705882354,\n",
       "                    \"rgba(105, 22, 110, 1.000)\"\n",
       "                ],\n",
       "                [\n",
       "                    0.2980392156862745,\n",
       "                    \"rgba(106, 23, 110, 1.000)\"\n",
       "                ],\n",
       "                [\n",
       "                    0.30196078431372547,\n",
       "                    \"rgba(108, 24, 110, 1.000)\"\n",
       "                ],\n",
       "                [\n",
       "                    0.3058823529411765,\n",
       "                    \"rgba(109, 24, 110, 1.000)\"\n",
       "                ],\n",
       "                [\n",
       "                    0.30980392156862746,\n",
       "                    \"rgba(111, 25, 110, 1.000)\"\n",
       "                ],\n",
       "                [\n",
       "                    0.3137254901960784,\n",
       "                    \"rgba(113, 25, 110, 1.000)\"\n",
       "                ],\n",
       "                [\n",
       "                    0.3176470588235294,\n",
       "                    \"rgba(114, 26, 110, 1.000)\"\n",
       "                ],\n",
       "                [\n",
       "                    0.3215686274509804,\n",
       "                    \"rgba(116, 26, 110, 1.000)\"\n",
       "                ],\n",
       "                [\n",
       "                    0.3254901960784314,\n",
       "                    \"rgba(117, 27, 110, 1.000)\"\n",
       "                ],\n",
       "                [\n",
       "                    0.32941176470588235,\n",
       "                    \"rgba(119, 28, 109, 1.000)\"\n",
       "                ],\n",
       "                [\n",
       "                    0.3333333333333333,\n",
       "                    \"rgba(120, 28, 109, 1.000)\"\n",
       "                ],\n",
       "                [\n",
       "                    0.33725490196078434,\n",
       "                    \"rgba(122, 29, 109, 1.000)\"\n",
       "                ],\n",
       "                [\n",
       "                    0.3411764705882353,\n",
       "                    \"rgba(124, 29, 109, 1.000)\"\n",
       "                ],\n",
       "                [\n",
       "                    0.34509803921568627,\n",
       "                    \"rgba(125, 30, 109, 1.000)\"\n",
       "                ],\n",
       "                [\n",
       "                    0.34901960784313724,\n",
       "                    \"rgba(127, 30, 108, 1.000)\"\n",
       "                ],\n",
       "                [\n",
       "                    0.35294117647058826,\n",
       "                    \"rgba(128, 31, 108, 1.000)\"\n",
       "                ],\n",
       "                [\n",
       "                    0.3568627450980392,\n",
       "                    \"rgba(130, 32, 108, 1.000)\"\n",
       "                ],\n",
       "                [\n",
       "                    0.3607843137254902,\n",
       "                    \"rgba(132, 32, 107, 1.000)\"\n",
       "                ],\n",
       "                [\n",
       "                    0.36470588235294116,\n",
       "                    \"rgba(133, 33, 107, 1.000)\"\n",
       "                ],\n",
       "                [\n",
       "                    0.3686274509803922,\n",
       "                    \"rgba(135, 33, 107, 1.000)\"\n",
       "                ],\n",
       "                [\n",
       "                    0.37254901960784315,\n",
       "                    \"rgba(136, 34, 106, 1.000)\"\n",
       "                ],\n",
       "                [\n",
       "                    0.3764705882352941,\n",
       "                    \"rgba(138, 34, 106, 1.000)\"\n",
       "                ],\n",
       "                [\n",
       "                    0.3803921568627451,\n",
       "                    \"rgba(140, 35, 105, 1.000)\"\n",
       "                ],\n",
       "                [\n",
       "                    0.3843137254901961,\n",
       "                    \"rgba(141, 35, 105, 1.000)\"\n",
       "                ],\n",
       "                [\n",
       "                    0.38823529411764707,\n",
       "                    \"rgba(143, 36, 105, 1.000)\"\n",
       "                ],\n",
       "                [\n",
       "                    0.39215686274509803,\n",
       "                    \"rgba(144, 37, 104, 1.000)\"\n",
       "                ],\n",
       "                [\n",
       "                    0.396078431372549,\n",
       "                    \"rgba(146, 37, 104, 1.000)\"\n",
       "                ],\n",
       "                [\n",
       "                    0.4,\n",
       "                    \"rgba(147, 38, 103, 1.000)\"\n",
       "                ],\n",
       "                [\n",
       "                    0.403921568627451,\n",
       "                    \"rgba(149, 38, 103, 1.000)\"\n",
       "                ],\n",
       "                [\n",
       "                    0.40784313725490196,\n",
       "                    \"rgba(151, 39, 102, 1.000)\"\n",
       "                ],\n",
       "                [\n",
       "                    0.4117647058823529,\n",
       "                    \"rgba(152, 39, 102, 1.000)\"\n",
       "                ],\n",
       "                [\n",
       "                    0.41568627450980394,\n",
       "                    \"rgba(154, 40, 101, 1.000)\"\n",
       "                ],\n",
       "                [\n",
       "                    0.4196078431372549,\n",
       "                    \"rgba(155, 41, 100, 1.000)\"\n",
       "                ],\n",
       "                [\n",
       "                    0.4235294117647059,\n",
       "                    \"rgba(157, 41, 100, 1.000)\"\n",
       "                ],\n",
       "                [\n",
       "                    0.42745098039215684,\n",
       "                    \"rgba(159, 42, 99, 1.000)\"\n",
       "                ],\n",
       "                [\n",
       "                    0.43137254901960786,\n",
       "                    \"rgba(160, 42, 99, 1.000)\"\n",
       "                ],\n",
       "                [\n",
       "                    0.43529411764705883,\n",
       "                    \"rgba(162, 43, 98, 1.000)\"\n",
       "                ],\n",
       "                [\n",
       "                    0.4392156862745098,\n",
       "                    \"rgba(163, 44, 97, 1.000)\"\n",
       "                ],\n",
       "                [\n",
       "                    0.44313725490196076,\n",
       "                    \"rgba(165, 44, 96, 1.000)\"\n",
       "                ],\n",
       "                [\n",
       "                    0.4470588235294118,\n",
       "                    \"rgba(166, 45, 96, 1.000)\"\n",
       "                ],\n",
       "                [\n",
       "                    0.45098039215686275,\n",
       "                    \"rgba(168, 46, 95, 1.000)\"\n",
       "                ],\n",
       "                [\n",
       "                    0.4549019607843137,\n",
       "                    \"rgba(169, 46, 94, 1.000)\"\n",
       "                ],\n",
       "                [\n",
       "                    0.4588235294117647,\n",
       "                    \"rgba(171, 47, 94, 1.000)\"\n",
       "                ],\n",
       "                [\n",
       "                    0.4627450980392157,\n",
       "                    \"rgba(173, 48, 93, 1.000)\"\n",
       "                ],\n",
       "                [\n",
       "                    0.4666666666666667,\n",
       "                    \"rgba(174, 48, 92, 1.000)\"\n",
       "                ],\n",
       "                [\n",
       "                    0.47058823529411764,\n",
       "                    \"rgba(176, 49, 91, 1.000)\"\n",
       "                ],\n",
       "                [\n",
       "                    0.4745098039215686,\n",
       "                    \"rgba(177, 50, 90, 1.000)\"\n",
       "                ],\n",
       "                [\n",
       "                    0.47843137254901963,\n",
       "                    \"rgba(179, 50, 90, 1.000)\"\n",
       "                ],\n",
       "                [\n",
       "                    0.4823529411764706,\n",
       "                    \"rgba(180, 51, 89, 1.000)\"\n",
       "                ],\n",
       "                [\n",
       "                    0.48627450980392156,\n",
       "                    \"rgba(182, 52, 88, 1.000)\"\n",
       "                ],\n",
       "                [\n",
       "                    0.49019607843137253,\n",
       "                    \"rgba(183, 53, 87, 1.000)\"\n",
       "                ],\n",
       "                [\n",
       "                    0.49411764705882355,\n",
       "                    \"rgba(185, 53, 86, 1.000)\"\n",
       "                ],\n",
       "                [\n",
       "                    0.4980392156862745,\n",
       "                    \"rgba(186, 54, 85, 1.000)\"\n",
       "                ],\n",
       "                [\n",
       "                    0.5019607843137255,\n",
       "                    \"rgba(188, 55, 84, 1.000)\"\n",
       "                ],\n",
       "                [\n",
       "                    0.5058823529411764,\n",
       "                    \"rgba(189, 56, 83, 1.000)\"\n",
       "                ],\n",
       "                [\n",
       "                    0.5098039215686274,\n",
       "                    \"rgba(191, 57, 82, 1.000)\"\n",
       "                ],\n",
       "                [\n",
       "                    0.5137254901960784,\n",
       "                    \"rgba(192, 58, 81, 1.000)\"\n",
       "                ],\n",
       "                [\n",
       "                    0.5176470588235295,\n",
       "                    \"rgba(193, 58, 80, 1.000)\"\n",
       "                ],\n",
       "                [\n",
       "                    0.5215686274509804,\n",
       "                    \"rgba(195, 59, 79, 1.000)\"\n",
       "                ],\n",
       "                [\n",
       "                    0.5254901960784314,\n",
       "                    \"rgba(196, 60, 78, 1.000)\"\n",
       "                ],\n",
       "                [\n",
       "                    0.5294117647058824,\n",
       "                    \"rgba(198, 61, 77, 1.000)\"\n",
       "                ],\n",
       "                [\n",
       "                    0.5333333333333333,\n",
       "                    \"rgba(199, 62, 76, 1.000)\"\n",
       "                ],\n",
       "                [\n",
       "                    0.5372549019607843,\n",
       "                    \"rgba(200, 63, 75, 1.000)\"\n",
       "                ],\n",
       "                [\n",
       "                    0.5411764705882353,\n",
       "                    \"rgba(202, 64, 74, 1.000)\"\n",
       "                ],\n",
       "                [\n",
       "                    0.5450980392156862,\n",
       "                    \"rgba(203, 65, 73, 1.000)\"\n",
       "                ],\n",
       "                [\n",
       "                    0.5490196078431373,\n",
       "                    \"rgba(204, 66, 72, 1.000)\"\n",
       "                ],\n",
       "                [\n",
       "                    0.5529411764705883,\n",
       "                    \"rgba(206, 67, 71, 1.000)\"\n",
       "                ],\n",
       "                [\n",
       "                    0.5568627450980392,\n",
       "                    \"rgba(207, 68, 70, 1.000)\"\n",
       "                ],\n",
       "                [\n",
       "                    0.5607843137254902,\n",
       "                    \"rgba(208, 69, 69, 1.000)\"\n",
       "                ],\n",
       "                [\n",
       "                    0.5647058823529412,\n",
       "                    \"rgba(210, 70, 68, 1.000)\"\n",
       "                ],\n",
       "                [\n",
       "                    0.5686274509803921,\n",
       "                    \"rgba(211, 71, 67, 1.000)\"\n",
       "                ],\n",
       "                [\n",
       "                    0.5725490196078431,\n",
       "                    \"rgba(212, 72, 66, 1.000)\"\n",
       "                ],\n",
       "                [\n",
       "                    0.5764705882352941,\n",
       "                    \"rgba(213, 74, 65, 1.000)\"\n",
       "                ],\n",
       "                [\n",
       "                    0.5803921568627451,\n",
       "                    \"rgba(215, 75, 63, 1.000)\"\n",
       "                ],\n",
       "                [\n",
       "                    0.5843137254901961,\n",
       "                    \"rgba(216, 76, 62, 1.000)\"\n",
       "                ],\n",
       "                [\n",
       "                    0.5882352941176471,\n",
       "                    \"rgba(217, 77, 61, 1.000)\"\n",
       "                ],\n",
       "                [\n",
       "                    0.592156862745098,\n",
       "                    \"rgba(218, 78, 60, 1.000)\"\n",
       "                ],\n",
       "                [\n",
       "                    0.596078431372549,\n",
       "                    \"rgba(219, 80, 59, 1.000)\"\n",
       "                ],\n",
       "                [\n",
       "                    0.6,\n",
       "                    \"rgba(221, 81, 58, 1.000)\"\n",
       "                ],\n",
       "                [\n",
       "                    0.6039215686274509,\n",
       "                    \"rgba(222, 82, 56, 1.000)\"\n",
       "                ],\n",
       "                [\n",
       "                    0.6078431372549019,\n",
       "                    \"rgba(223, 83, 55, 1.000)\"\n",
       "                ],\n",
       "                [\n",
       "                    0.611764705882353,\n",
       "                    \"rgba(224, 85, 54, 1.000)\"\n",
       "                ],\n",
       "                [\n",
       "                    0.615686274509804,\n",
       "                    \"rgba(225, 86, 53, 1.000)\"\n",
       "                ],\n",
       "                [\n",
       "                    0.6196078431372549,\n",
       "                    \"rgba(226, 87, 52, 1.000)\"\n",
       "                ],\n",
       "                [\n",
       "                    0.6235294117647059,\n",
       "                    \"rgba(227, 89, 51, 1.000)\"\n",
       "                ],\n",
       "                [\n",
       "                    0.6274509803921569,\n",
       "                    \"rgba(228, 90, 49, 1.000)\"\n",
       "                ],\n",
       "                [\n",
       "                    0.6313725490196078,\n",
       "                    \"rgba(229, 92, 48, 1.000)\"\n",
       "                ],\n",
       "                [\n",
       "                    0.6352941176470588,\n",
       "                    \"rgba(230, 93, 47, 1.000)\"\n",
       "                ],\n",
       "                [\n",
       "                    0.6392156862745098,\n",
       "                    \"rgba(231, 94, 46, 1.000)\"\n",
       "                ],\n",
       "                [\n",
       "                    0.6431372549019608,\n",
       "                    \"rgba(232, 96, 45, 1.000)\"\n",
       "                ],\n",
       "                [\n",
       "                    0.6470588235294118,\n",
       "                    \"rgba(233, 97, 43, 1.000)\"\n",
       "                ],\n",
       "                [\n",
       "                    0.6509803921568628,\n",
       "                    \"rgba(234, 99, 42, 1.000)\"\n",
       "                ],\n",
       "                [\n",
       "                    0.6549019607843137,\n",
       "                    \"rgba(235, 100, 41, 1.000)\"\n",
       "                ],\n",
       "                [\n",
       "                    0.6588235294117647,\n",
       "                    \"rgba(235, 102, 40, 1.000)\"\n",
       "                ],\n",
       "                [\n",
       "                    0.6627450980392157,\n",
       "                    \"rgba(236, 103, 38, 1.000)\"\n",
       "                ],\n",
       "                [\n",
       "                    0.6666666666666666,\n",
       "                    \"rgba(237, 105, 37, 1.000)\"\n",
       "                ],\n",
       "                [\n",
       "                    0.6705882352941176,\n",
       "                    \"rgba(238, 106, 36, 1.000)\"\n",
       "                ],\n",
       "                [\n",
       "                    0.6745098039215687,\n",
       "                    \"rgba(239, 108, 35, 1.000)\"\n",
       "                ],\n",
       "                [\n",
       "                    0.6784313725490196,\n",
       "                    \"rgba(239, 110, 33, 1.000)\"\n",
       "                ],\n",
       "                [\n",
       "                    0.6823529411764706,\n",
       "                    \"rgba(240, 111, 32, 1.000)\"\n",
       "                ],\n",
       "                [\n",
       "                    0.6862745098039216,\n",
       "                    \"rgba(241, 113, 31, 1.000)\"\n",
       "                ],\n",
       "                [\n",
       "                    0.6901960784313725,\n",
       "                    \"rgba(241, 115, 29, 1.000)\"\n",
       "                ],\n",
       "                [\n",
       "                    0.6941176470588235,\n",
       "                    \"rgba(242, 116, 28, 1.000)\"\n",
       "                ],\n",
       "                [\n",
       "                    0.6980392156862745,\n",
       "                    \"rgba(243, 118, 27, 1.000)\"\n",
       "                ],\n",
       "                [\n",
       "                    0.7019607843137254,\n",
       "                    \"rgba(243, 120, 25, 1.000)\"\n",
       "                ],\n",
       "                [\n",
       "                    0.7058823529411765,\n",
       "                    \"rgba(244, 121, 24, 1.000)\"\n",
       "                ],\n",
       "                [\n",
       "                    0.7098039215686275,\n",
       "                    \"rgba(245, 123, 23, 1.000)\"\n",
       "                ],\n",
       "                [\n",
       "                    0.7137254901960784,\n",
       "                    \"rgba(245, 125, 21, 1.000)\"\n",
       "                ],\n",
       "                [\n",
       "                    0.7176470588235294,\n",
       "                    \"rgba(246, 126, 20, 1.000)\"\n",
       "                ],\n",
       "                [\n",
       "                    0.7215686274509804,\n",
       "                    \"rgba(246, 128, 19, 1.000)\"\n",
       "                ],\n",
       "                [\n",
       "                    0.7254901960784313,\n",
       "                    \"rgba(247, 130, 18, 1.000)\"\n",
       "                ],\n",
       "                [\n",
       "                    0.7294117647058823,\n",
       "                    \"rgba(247, 132, 16, 1.000)\"\n",
       "                ],\n",
       "                [\n",
       "                    0.7333333333333333,\n",
       "                    \"rgba(248, 133, 15, 1.000)\"\n",
       "                ],\n",
       "                [\n",
       "                    0.7372549019607844,\n",
       "                    \"rgba(248, 135, 14, 1.000)\"\n",
       "                ],\n",
       "                [\n",
       "                    0.7411764705882353,\n",
       "                    \"rgba(248, 137, 12, 1.000)\"\n",
       "                ],\n",
       "                [\n",
       "                    0.7450980392156863,\n",
       "                    \"rgba(249, 139, 11, 1.000)\"\n",
       "                ],\n",
       "                [\n",
       "                    0.7490196078431373,\n",
       "                    \"rgba(249, 140, 10, 1.000)\"\n",
       "                ],\n",
       "                [\n",
       "                    0.7529411764705882,\n",
       "                    \"rgba(249, 142, 9, 1.000)\"\n",
       "                ],\n",
       "                [\n",
       "                    0.7568627450980392,\n",
       "                    \"rgba(250, 144, 8, 1.000)\"\n",
       "                ],\n",
       "                [\n",
       "                    0.7607843137254902,\n",
       "                    \"rgba(250, 146, 7, 1.000)\"\n",
       "                ],\n",
       "                [\n",
       "                    0.7647058823529411,\n",
       "                    \"rgba(250, 148, 7, 1.000)\"\n",
       "                ],\n",
       "                [\n",
       "                    0.7686274509803922,\n",
       "                    \"rgba(251, 150, 6, 1.000)\"\n",
       "                ],\n",
       "                [\n",
       "                    0.7725490196078432,\n",
       "                    \"rgba(251, 151, 6, 1.000)\"\n",
       "                ],\n",
       "                [\n",
       "                    0.7764705882352941,\n",
       "                    \"rgba(251, 153, 6, 1.000)\"\n",
       "                ],\n",
       "                [\n",
       "                    0.7803921568627451,\n",
       "                    \"rgba(251, 155, 6, 1.000)\"\n",
       "                ],\n",
       "                [\n",
       "                    0.7843137254901961,\n",
       "                    \"rgba(251, 157, 7, 1.000)\"\n",
       "                ],\n",
       "                [\n",
       "                    0.788235294117647,\n",
       "                    \"rgba(252, 159, 7, 1.000)\"\n",
       "                ],\n",
       "                [\n",
       "                    0.792156862745098,\n",
       "                    \"rgba(252, 161, 8, 1.000)\"\n",
       "                ],\n",
       "                [\n",
       "                    0.796078431372549,\n",
       "                    \"rgba(252, 163, 9, 1.000)\"\n",
       "                ],\n",
       "                [\n",
       "                    0.8,\n",
       "                    \"rgba(252, 165, 10, 1.000)\"\n",
       "                ],\n",
       "                [\n",
       "                    0.803921568627451,\n",
       "                    \"rgba(252, 166, 12, 1.000)\"\n",
       "                ],\n",
       "                [\n",
       "                    0.807843137254902,\n",
       "                    \"rgba(252, 168, 13, 1.000)\"\n",
       "                ],\n",
       "                [\n",
       "                    0.8117647058823529,\n",
       "                    \"rgba(252, 170, 15, 1.000)\"\n",
       "                ],\n",
       "                [\n",
       "                    0.8156862745098039,\n",
       "                    \"rgba(252, 172, 17, 1.000)\"\n",
       "                ],\n",
       "                [\n",
       "                    0.8196078431372549,\n",
       "                    \"rgba(252, 174, 18, 1.000)\"\n",
       "                ],\n",
       "                [\n",
       "                    0.8235294117647058,\n",
       "                    \"rgba(252, 176, 20, 1.000)\"\n",
       "                ],\n",
       "                [\n",
       "                    0.8274509803921568,\n",
       "                    \"rgba(252, 178, 22, 1.000)\"\n",
       "                ],\n",
       "                [\n",
       "                    0.8313725490196079,\n",
       "                    \"rgba(252, 180, 24, 1.000)\"\n",
       "                ],\n",
       "                [\n",
       "                    0.8352941176470589,\n",
       "                    \"rgba(251, 182, 26, 1.000)\"\n",
       "                ],\n",
       "                [\n",
       "                    0.8392156862745098,\n",
       "                    \"rgba(251, 184, 29, 1.000)\"\n",
       "                ],\n",
       "                [\n",
       "                    0.8431372549019608,\n",
       "                    \"rgba(251, 186, 31, 1.000)\"\n",
       "                ],\n",
       "                [\n",
       "                    0.8470588235294118,\n",
       "                    \"rgba(251, 188, 33, 1.000)\"\n",
       "                ],\n",
       "                [\n",
       "                    0.8509803921568627,\n",
       "                    \"rgba(251, 190, 35, 1.000)\"\n",
       "                ],\n",
       "                [\n",
       "                    0.8549019607843137,\n",
       "                    \"rgba(250, 192, 38, 1.000)\"\n",
       "                ],\n",
       "                [\n",
       "                    0.8588235294117647,\n",
       "                    \"rgba(250, 194, 40, 1.000)\"\n",
       "                ],\n",
       "                [\n",
       "                    0.8627450980392157,\n",
       "                    \"rgba(250, 196, 42, 1.000)\"\n",
       "                ],\n",
       "                [\n",
       "                    0.8666666666666667,\n",
       "                    \"rgba(250, 198, 45, 1.000)\"\n",
       "                ],\n",
       "                [\n",
       "                    0.8705882352941177,\n",
       "                    \"rgba(249, 199, 47, 1.000)\"\n",
       "                ],\n",
       "                [\n",
       "                    0.8745098039215686,\n",
       "                    \"rgba(249, 201, 50, 1.000)\"\n",
       "                ],\n",
       "                [\n",
       "                    0.8784313725490196,\n",
       "                    \"rgba(249, 203, 53, 1.000)\"\n",
       "                ],\n",
       "                [\n",
       "                    0.8823529411764706,\n",
       "                    \"rgba(248, 205, 55, 1.000)\"\n",
       "                ],\n",
       "                [\n",
       "                    0.8862745098039215,\n",
       "                    \"rgba(248, 207, 58, 1.000)\"\n",
       "                ],\n",
       "                [\n",
       "                    0.8901960784313725,\n",
       "                    \"rgba(247, 209, 61, 1.000)\"\n",
       "                ],\n",
       "                [\n",
       "                    0.8941176470588236,\n",
       "                    \"rgba(247, 211, 64, 1.000)\"\n",
       "                ],\n",
       "                [\n",
       "                    0.8980392156862745,\n",
       "                    \"rgba(246, 213, 67, 1.000)\"\n",
       "                ],\n",
       "                [\n",
       "                    0.9019607843137255,\n",
       "                    \"rgba(246, 215, 70, 1.000)\"\n",
       "                ],\n",
       "                [\n",
       "                    0.9058823529411765,\n",
       "                    \"rgba(245, 217, 73, 1.000)\"\n",
       "                ],\n",
       "                [\n",
       "                    0.9098039215686274,\n",
       "                    \"rgba(245, 219, 76, 1.000)\"\n",
       "                ],\n",
       "                [\n",
       "                    0.9137254901960784,\n",
       "                    \"rgba(244, 221, 79, 1.000)\"\n",
       "                ],\n",
       "                [\n",
       "                    0.9176470588235294,\n",
       "                    \"rgba(244, 223, 83, 1.000)\"\n",
       "                ],\n",
       "                [\n",
       "                    0.9215686274509803,\n",
       "                    \"rgba(244, 225, 86, 1.000)\"\n",
       "                ],\n",
       "                [\n",
       "                    0.9254901960784314,\n",
       "                    \"rgba(243, 227, 90, 1.000)\"\n",
       "                ],\n",
       "                [\n",
       "                    0.9294117647058824,\n",
       "                    \"rgba(243, 229, 93, 1.000)\"\n",
       "                ],\n",
       "                [\n",
       "                    0.9333333333333333,\n",
       "                    \"rgba(242, 230, 97, 1.000)\"\n",
       "                ],\n",
       "                [\n",
       "                    0.9372549019607843,\n",
       "                    \"rgba(242, 232, 101, 1.000)\"\n",
       "                ],\n",
       "                [\n",
       "                    0.9411764705882353,\n",
       "                    \"rgba(242, 234, 105, 1.000)\"\n",
       "                ],\n",
       "                [\n",
       "                    0.9450980392156862,\n",
       "                    \"rgba(241, 236, 109, 1.000)\"\n",
       "                ],\n",
       "                [\n",
       "                    0.9490196078431372,\n",
       "                    \"rgba(241, 237, 113, 1.000)\"\n",
       "                ],\n",
       "                [\n",
       "                    0.9529411764705882,\n",
       "                    \"rgba(241, 239, 117, 1.000)\"\n",
       "                ],\n",
       "                [\n",
       "                    0.9568627450980393,\n",
       "                    \"rgba(241, 241, 121, 1.000)\"\n",
       "                ],\n",
       "                [\n",
       "                    0.9607843137254902,\n",
       "                    \"rgba(242, 242, 125, 1.000)\"\n",
       "                ],\n",
       "                [\n",
       "                    0.9647058823529412,\n",
       "                    \"rgba(242, 244, 130, 1.000)\"\n",
       "                ],\n",
       "                [\n",
       "                    0.9686274509803922,\n",
       "                    \"rgba(243, 245, 134, 1.000)\"\n",
       "                ],\n",
       "                [\n",
       "                    0.9725490196078431,\n",
       "                    \"rgba(243, 246, 138, 1.000)\"\n",
       "                ],\n",
       "                [\n",
       "                    0.9764705882352941,\n",
       "                    \"rgba(244, 248, 142, 1.000)\"\n",
       "                ],\n",
       "                [\n",
       "                    0.9803921568627451,\n",
       "                    \"rgba(245, 249, 146, 1.000)\"\n",
       "                ],\n",
       "                [\n",
       "                    0.984313725490196,\n",
       "                    \"rgba(246, 250, 150, 1.000)\"\n",
       "                ],\n",
       "                [\n",
       "                    0.9882352941176471,\n",
       "                    \"rgba(248, 251, 154, 1.000)\"\n",
       "                ],\n",
       "                [\n",
       "                    0.9921568627450981,\n",
       "                    \"rgba(249, 252, 157, 1.000)\"\n",
       "                ],\n",
       "                [\n",
       "                    0.996078431372549,\n",
       "                    \"rgba(250, 253, 161, 1.000)\"\n",
       "                ],\n",
       "                [\n",
       "                    1.0,\n",
       "                    \"rgba(252, 255, 164, 1.000)\"\n",
       "                ]\n",
       "            ],\n",
       "            \"cmax\": 6.0,\n",
       "            \"showscale\": true\n",
       "        },\n",
       "        \"zmax\": 6.0,\n",
       "        \"y\": [\n",
       "            0.43544588728863326\n",
       "        ],\n",
       "        \"type\": \"scatter3d\",\n",
       "        \"scene\": \"scene\",\n",
       "        \"hoverinfo\": \"none\"\n",
       "    },\n",
       "    {\n",
       "        \"xaxis\": \"x\",\n",
       "        \"colorbar\": {\n",
       "            \"title\": \"\"\n",
       "        },\n",
       "        \"yaxis\": \"y\",\n",
       "        \"zaxis\": \"z\",\n",
       "        \"x\": [\n",
       "            0.25307761666664663,\n",
       "            0.21439370920466871,\n",
       "            2.1590421387736112e-78,\n",
       "            0.0,\n",
       "            0.98452437975135,\n",
       "            0.42331028204003257\n",
       "        ],\n",
       "        \"showlegend\": true,\n",
       "        \"mode\": \"lines\",\n",
       "        \"name\": \"y2\",\n",
       "        \"zmin\": 1.0,\n",
       "        \"legendgroup\": \"y2\",\n",
       "        \"z\": [\n",
       "            -0.09638785833971715,\n",
       "            0.005719306731424347,\n",
       "            -0.22283811640569456,\n",
       "            -0.0,\n",
       "            -0.4600712633589899,\n",
       "            0.2330437238176911\n",
       "        ],\n",
       "        \"zmax\": 6.0,\n",
       "        \"line\": {\n",
       "            \"color\": \"rgba(0, 0, 0, 1.000)\",\n",
       "            \"shape\": \"linear\",\n",
       "            \"dash\": \"solid\",\n",
       "            \"width\": 2\n",
       "        },\n",
       "        \"y\": [\n",
       "            0.43544588728863326,\n",
       "            -0.6568695055082842,\n",
       "            3.2385632081604167e-78,\n",
       "            0.0,\n",
       "            -0.11057956692145074,\n",
       "            -0.3529083299955815\n",
       "        ],\n",
       "        \"type\": \"scatter3d\",\n",
       "        \"scene\": \"scene\"\n",
       "    }\n",
       "]\n",
       ", {\n",
       "    \"showlegend\": true,\n",
       "    \"paper_bgcolor\": \"rgba(255, 255, 255, 1.000)\",\n",
       "    \"annotations\": [],\n",
       "    \"height\": 400,\n",
       "    \"margin\": {\n",
       "        \"l\": 0,\n",
       "        \"b\": 20,\n",
       "        \"r\": 0,\n",
       "        \"t\": 20\n",
       "    },\n",
       "    \"plot_bgcolor\": \"rgba(255, 255, 255, 1.000)\",\n",
       "    \"scene\": {\n",
       "        \"camera\": {\n",
       "            \"eye\": {\n",
       "                \"y\": -1.9499999999999997,\n",
       "                \"z\": 1.3,\n",
       "                \"x\": 1.12583302491977\n",
       "            }\n",
       "        },\n",
       "        \"xaxis\": {\n",
       "            \"tickangle\": 0,\n",
       "            \"showline\": true,\n",
       "            \"gridcolor\": \"rgba(0, 0, 0, 0.100)\",\n",
       "            \"showticklabels\": true,\n",
       "            \"gridwidth\": 0.5,\n",
       "            \"titlefont\": {\n",
       "                \"color\": \"rgba(0, 0, 0, 1.000)\",\n",
       "                \"family\": \"sans-serif\",\n",
       "                \"size\": 15\n",
       "            },\n",
       "            \"visible\": true,\n",
       "            \"ticks\": \"inside\",\n",
       "            \"range\": [\n",
       "                -0.0295357313925405,\n",
       "                1.0140601111438905\n",
       "            ],\n",
       "            \"tickmode\": \"array\",\n",
       "            \"tickvals\": [\n",
       "                0.0,\n",
       "                0.25,\n",
       "                0.5,\n",
       "                0.75,\n",
       "                1.0\n",
       "            ],\n",
       "            \"tickcolor\": \"rgb(0, 0, 0)\",\n",
       "            \"ticktext\": [\n",
       "                \"0.00\",\n",
       "                \"0.25\",\n",
       "                \"0.50\",\n",
       "                \"0.75\",\n",
       "                \"1.00\"\n",
       "            ],\n",
       "            \"linecolor\": \"rgba(0, 0, 0, 1.000)\",\n",
       "            \"showgrid\": true,\n",
       "            \"zeroline\": false,\n",
       "            \"type\": \"-\",\n",
       "            \"tickfont\": {\n",
       "                \"color\": \"rgba(0, 0, 0, 1.000)\",\n",
       "                \"family\": \"sans-serif\",\n",
       "                \"size\": 11\n",
       "            },\n",
       "            \"title\": \"x\",\n",
       "            \"zerolinecolor\": \"rgba(0, 0, 0, 1.000)\",\n",
       "            \"mirror\": false\n",
       "        },\n",
       "        \"domain\": {\n",
       "            \"y\": [\n",
       "                0.07581474190726165,\n",
       "                0.9901574803149606\n",
       "            ],\n",
       "            \"x\": [\n",
       "                0.10609871682706327,\n",
       "                0.9934383202099737\n",
       "            ]\n",
       "        },\n",
       "        \"yaxis\": {\n",
       "            \"tickangle\": 0,\n",
       "            \"showline\": true,\n",
       "            \"gridcolor\": \"rgba(0, 0, 0, 0.100)\",\n",
       "            \"showticklabels\": true,\n",
       "            \"gridwidth\": 0.5,\n",
       "            \"titlefont\": {\n",
       "                \"color\": \"rgba(0, 0, 0, 1.000)\",\n",
       "                \"family\": \"sans-serif\",\n",
       "                \"size\": 15\n",
       "            },\n",
       "            \"visible\": true,\n",
       "            \"ticks\": \"inside\",\n",
       "            \"range\": [\n",
       "                -0.6896389672921917,\n",
       "                0.4682153490725408\n",
       "            ],\n",
       "            \"tickmode\": \"array\",\n",
       "            \"tickvals\": [\n",
       "                -0.5,\n",
       "                -0.25,\n",
       "                0.0,\n",
       "                0.25\n",
       "            ],\n",
       "            \"tickcolor\": \"rgb(0, 0, 0)\",\n",
       "            \"ticktext\": [\n",
       "                \"-0.50\",\n",
       "                \"-0.25\",\n",
       "                \"0.00\",\n",
       "                \"0.25\"\n",
       "            ],\n",
       "            \"linecolor\": \"rgba(0, 0, 0, 1.000)\",\n",
       "            \"showgrid\": true,\n",
       "            \"zeroline\": false,\n",
       "            \"type\": \"-\",\n",
       "            \"tickfont\": {\n",
       "                \"color\": \"rgba(0, 0, 0, 1.000)\",\n",
       "                \"family\": \"sans-serif\",\n",
       "                \"size\": 11\n",
       "            },\n",
       "            \"title\": \"y\",\n",
       "            \"zerolinecolor\": \"rgba(0, 0, 0, 1.000)\",\n",
       "            \"mirror\": false\n",
       "        },\n",
       "        \"zaxis\": {\n",
       "            \"tickangle\": 0,\n",
       "            \"showline\": true,\n",
       "            \"gridcolor\": \"rgba(0, 0, 0, 0.100)\",\n",
       "            \"showticklabels\": true,\n",
       "            \"gridwidth\": 0.5,\n",
       "            \"titlefont\": {\n",
       "                \"color\": \"rgba(0, 0, 0, 1.000)\",\n",
       "                \"family\": \"sans-serif\",\n",
       "                \"size\": 15\n",
       "            },\n",
       "            \"visible\": true,\n",
       "            \"ticks\": \"inside\",\n",
       "            \"range\": [\n",
       "                -0.48086471297429034,\n",
       "                0.2538371734329915\n",
       "            ],\n",
       "            \"tickmode\": \"array\",\n",
       "            \"tickvals\": [\n",
       "                -0.4,\n",
       "                -0.30000000000000004,\n",
       "                -0.2,\n",
       "                -0.1,\n",
       "                0.0,\n",
       "                0.1,\n",
       "                0.2\n",
       "            ],\n",
       "            \"tickcolor\": \"rgb(0, 0, 0)\",\n",
       "            \"ticktext\": [\n",
       "                \"-0.4\",\n",
       "                \"-0.3\",\n",
       "                \"-0.2\",\n",
       "                \"-0.1\",\n",
       "                \"0.0\",\n",
       "                \"0.1\",\n",
       "                \"0.2\"\n",
       "            ],\n",
       "            \"linecolor\": \"rgba(0, 0, 0, 1.000)\",\n",
       "            \"showgrid\": true,\n",
       "            \"zeroline\": false,\n",
       "            \"type\": \"-\",\n",
       "            \"tickfont\": {\n",
       "                \"color\": \"rgba(0, 0, 0, 1.000)\",\n",
       "                \"family\": \"sans-serif\",\n",
       "                \"size\": 11\n",
       "            },\n",
       "            \"title\": \"z\",\n",
       "            \"zerolinecolor\": \"rgba(0, 0, 0, 1.000)\",\n",
       "            \"mirror\": false\n",
       "        }\n",
       "    },\n",
       "    \"legend\": {\n",
       "        \"yanchor\": \"auto\",\n",
       "        \"xanchor\": \"auto\",\n",
       "        \"bordercolor\": \"rgba(0, 0, 0, 1.000)\",\n",
       "        \"bgcolor\": \"rgba(255, 255, 255, 1.000)\",\n",
       "        \"borderwidth\": 1,\n",
       "        \"tracegroupgap\": 0,\n",
       "        \"y\": 1.0,\n",
       "        \"font\": {\n",
       "            \"color\": \"rgba(0, 0, 0, 1.000)\",\n",
       "            \"family\": \"sans-serif\",\n",
       "            \"size\": 11\n",
       "        },\n",
       "        \"title\": {\n",
       "            \"font\": {\n",
       "                \"color\": \"rgba(0, 0, 0, 1.000)\",\n",
       "                \"family\": \"sans-serif\",\n",
       "                \"size\": 15\n",
       "            },\n",
       "            \"text\": \"\"\n",
       "        },\n",
       "        \"traceorder\": \"normal\",\n",
       "        \"x\": 1.0\n",
       "    },\n",
       "    \"width\": 600\n",
       "}\n",
       ");\n",
       "\n",
       "    });\n",
       "    </script>\n"
      ]
     },
     "execution_count": 37,
     "metadata": {},
     "output_type": "execute_result"
    }
   ],
   "source": [
    "p = plot()\n",
    "plotChain!(newP)\n",
    "p"
   ]
  },
  {
   "cell_type": "code",
   "execution_count": 44,
   "metadata": {},
   "outputs": [
    {
     "name": "stdout",
     "output_type": "stream",
     "text": [
      "3,1\n",
      "caso 2\n",
      "3,2\n",
      "caso 3\n",
      "primera pasada\n",
      "(2.0, 1.0, 1.0)\n",
      "4,1\n",
      "caso 1\n",
      "(0, 0.0, 0.0)\n",
      "4,2\n",
      "caso 1\n",
      "(2, 0.6938160636122749811674694143564510011317473542452747200933542588526927548220059, 1.306183936387725018832530585643548998868252645754725279906645741147307245178003)\n",
      "la raíz esta bien\n",
      "Point(0.2228381164056945556389701148717146173353623706021577211078138746272773204238761, 9.384002345451057833022010315943018275042468229261883689795200425342665606908314e-80, -2.294514503779339893232514949985538693003693469899521748584672765899671840533401e-79)\n",
      "-0.9016234245895357072145699629245388989161188945691089550763450595574253441410153,1.295458974523885708245551784469190683637552991952193672058305418421636496189059e-17\n",
      "1.436807140535022940914682772483679128063410627728710676221029022220314618372309e-17\n",
      "-1.251348494176536741494190786965631105457964565806511025774187738306849582404736\n",
      "en z está bien\n",
      "1.436807140535022940914682772483679128063410627728710676221029022220314618372309e-17\n",
      "-1.251348494176536741494190786965631105457964565806511025774187738306849582404736\n",
      "true\n",
      "false\n",
      "5,1\n",
      "caso 1\n",
      "(2, -0.1829428461581328431526729164646518740334590396529248499832312184587372168997755, 1.324254642656742948082913387198494720895979058540723054927350803561921888643824)\n",
      "5,2\n",
      "caso 1\n",
      "(2, -0.2794747418666078396623464671113596746545202664907831719230929332924229699124661, 2.279474741866607839662346467111359674654520266490783171923092933292422969912453)\n"
     ]
    },
    {
     "data": {
      "text/plain": [
       "(false, PolygonalChain(Point[Point(-0.2787497311884774457626439100602753214631851091468888394969284455432697255993988, 0.2253923160708284751162606097428812362485253898582533521446459294914885788120474, -0.3756966326676176539541875746239934191248205511792336796494866714750967667881957), Point(0.7277916635166370034377743107996983638459809097192625651552594522363724996395708, 3.064825168871029167850489436113522682595980653088352275479555415484479331374421e-79, -7.49390882764588914261081737319282869106296357088872009759936485452358422566937e-79), Point(0.0, 0.0, 0.0), Point(0.06998061150675796858116148991323903159255118628816805676347247995000978271338779, 0.2115645058519460022069297831761838524645577359704532109910574532468703188300767, 1.295458974523885708245551784469190683637552991952193672058305418421636496189059e-17), Point(0.3153248295825397703989014770423148956096313513217680081148919785327540070514439, -0.3541766692469449938195896530464094666148101782927732582917886484327204428521453, -0.9016234245895357072145699629245388989161188945691089550763450595574253441410153), Point(0.586383414065717939565195199691772802295539385838436281210018394035241932148547, 0.2862123797248700638885505820541396021863263594097198680775213883743705880243595, -0.2929182512364196666717561540377087953294339660906731684517837360162312577106494)]))"
      ]
     },
     "execution_count": 44,
     "metadata": {},
     "output_type": "execute_result"
    }
   ],
   "source": [
    "n = length(P)\n",
    "dihed = rand(n-1:2*n-3)\n",
    "phi = rand()*(pi/2) + (-pi/4)\n",
    "inter_flag , newQ = mutateChain(P,dihed,phi,debug=true)"
   ]
  }
 ],
 "metadata": {
  "kernelspec": {
   "display_name": "Julia 1.6.1",
   "language": "julia",
   "name": "julia-1.6"
  },
  "language_info": {
   "file_extension": ".jl",
   "mimetype": "application/julia",
   "name": "julia",
   "version": "1.6.1"
  }
 },
 "nbformat": 4,
 "nbformat_minor": 4
}
