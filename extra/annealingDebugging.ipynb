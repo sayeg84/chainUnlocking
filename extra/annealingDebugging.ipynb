{
 "cells": [
  {
   "cell_type": "code",
   "execution_count": 1,
   "metadata": {},
   "outputs": [
    {
     "data": {
      "application/vnd.plotly.v1+json": {
       "data": [
        {
         "colorbar": {
          "title": ""
         },
         "legendgroup": "y1",
         "marker": {
          "color": "rgba(102, 0, 102, 0.500)",
          "line": {
           "color": "rgba(0, 0, 0, 0.500)",
           "width": 1
          },
          "size": 8,
          "symbol": "circle"
         },
         "mode": "markers",
         "name": "y1",
         "scene": "scene",
         "showlegend": true,
         "type": "scatter3d",
         "x": [
          1
         ],
         "xaxis": "x",
         "y": [
          1
         ],
         "yaxis": "y",
         "z": [
          1
         ],
         "zaxis": "z",
         "zmax": 10,
         "zmin": 1
        },
        {
         "colorbar": {
          "title": ""
         },
         "legendgroup": "y1",
         "marker": {
          "color": "rgba(57, 0, 159, 0.500)",
          "line": {
           "color": "rgba(0, 0, 0, 0.500)",
           "width": 1
          },
          "size": 8,
          "symbol": "circle"
         },
         "mode": "markers",
         "name": "y1",
         "scene": "scene",
         "showlegend": false,
         "type": "scatter3d",
         "x": [
          2
         ],
         "xaxis": "x",
         "y": [
          2
         ],
         "yaxis": "y",
         "z": [
          2
         ],
         "zaxis": "z",
         "zmax": 10,
         "zmin": 1
        },
        {
         "colorbar": {
          "title": ""
         },
         "legendgroup": "y1",
         "marker": {
          "color": "rgba(11, 0, 215, 0.500)",
          "line": {
           "color": "rgba(0, 0, 0, 0.500)",
           "width": 1
          },
          "size": 8,
          "symbol": "circle"
         },
         "mode": "markers",
         "name": "y1",
         "scene": "scene",
         "showlegend": false,
         "type": "scatter3d",
         "x": [
          3
         ],
         "xaxis": "x",
         "y": [
          3
         ],
         "yaxis": "y",
         "z": [
          3
         ],
         "zaxis": "z",
         "zmax": 10,
         "zmin": 1
        },
        {
         "colorbar": {
          "title": ""
         },
         "legendgroup": "y1",
         "marker": {
          "color": "rgba(0, 34, 153, 0.500)",
          "line": {
           "color": "rgba(0, 0, 0, 0.500)",
           "width": 1
          },
          "size": 8,
          "symbol": "circle"
         },
         "mode": "markers",
         "name": "y1",
         "scene": "scene",
         "showlegend": false,
         "type": "scatter3d",
         "x": [
          4
         ],
         "xaxis": "x",
         "y": [
          4
         ],
         "yaxis": "y",
         "z": [
          4
         ],
         "zaxis": "z",
         "zmax": 10,
         "zmin": 1
        },
        {
         "colorbar": {
          "title": ""
         },
         "legendgroup": "y1",
         "marker": {
          "color": "rgba(0, 80, 51, 0.500)",
          "line": {
           "color": "rgba(0, 0, 0, 0.500)",
           "width": 1
          },
          "size": 8,
          "symbol": "circle"
         },
         "mode": "markers",
         "name": "y1",
         "scene": "scene",
         "showlegend": false,
         "type": "scatter3d",
         "x": [
          5
         ],
         "xaxis": "x",
         "y": [
          5
         ],
         "yaxis": "y",
         "z": [
          5
         ],
         "zaxis": "z",
         "zmax": 10,
         "zmin": 1
        },
        {
         "colorbar": {
          "title": ""
         },
         "legendgroup": "y1",
         "marker": {
          "color": "rgba(51, 111, 0, 0.500)",
          "line": {
           "color": "rgba(0, 0, 0, 0.500)",
           "width": 1
          },
          "size": 8,
          "symbol": "circle"
         },
         "mode": "markers",
         "name": "y1",
         "scene": "scene",
         "showlegend": false,
         "type": "scatter3d",
         "x": [
          6
         ],
         "xaxis": "x",
         "y": [
          6
         ],
         "yaxis": "y",
         "z": [
          6
         ],
         "zaxis": "z",
         "zmax": 10,
         "zmin": 1
        },
        {
         "colorbar": {
          "title": ""
         },
         "legendgroup": "y1",
         "marker": {
          "color": "rgba(153, 127, 0, 0.500)",
          "line": {
           "color": "rgba(0, 0, 0, 0.500)",
           "width": 1
          },
          "size": 8,
          "symbol": "circle"
         },
         "mode": "markers",
         "name": "y1",
         "scene": "scene",
         "showlegend": false,
         "type": "scatter3d",
         "x": [
          7
         ],
         "xaxis": "x",
         "y": [
          7
         ],
         "yaxis": "y",
         "z": [
          7
         ],
         "zaxis": "z",
         "zmax": 10,
         "zmin": 1
        },
        {
         "colorbar": {
          "title": ""
         },
         "legendgroup": "y1",
         "marker": {
          "color": "rgba(230, 124, 0, 0.500)",
          "line": {
           "color": "rgba(0, 0, 0, 0.500)",
           "width": 1
          },
          "size": 8,
          "symbol": "circle"
         },
         "mode": "markers",
         "name": "y1",
         "scene": "scene",
         "showlegend": false,
         "type": "scatter3d",
         "x": [
          8
         ],
         "xaxis": "x",
         "y": [
          8
         ],
         "yaxis": "y",
         "z": [
          8
         ],
         "zaxis": "z",
         "zmax": 10,
         "zmin": 1
        },
        {
         "colorbar": {
          "title": ""
         },
         "legendgroup": "y1",
         "marker": {
          "color": "rgba(230, 62, 0, 0.500)",
          "line": {
           "color": "rgba(0, 0, 0, 0.500)",
           "width": 1
          },
          "size": 8,
          "symbol": "circle"
         },
         "mode": "markers",
         "name": "y1",
         "scene": "scene",
         "showlegend": false,
         "type": "scatter3d",
         "x": [
          9
         ],
         "xaxis": "x",
         "y": [
          9
         ],
         "yaxis": "y",
         "z": [
          9
         ],
         "zaxis": "z",
         "zmax": 10,
         "zmin": 1
        },
        {
         "colorbar": {
          "title": ""
         },
         "legendgroup": "y1",
         "marker": {
          "color": "rgba(230, 0, 0, 0.500)",
          "line": {
           "color": "rgba(0, 0, 0, 0.500)",
           "width": 1
          },
          "size": 8,
          "symbol": "circle"
         },
         "mode": "markers",
         "name": "y1",
         "scene": "scene",
         "showlegend": false,
         "type": "scatter3d",
         "x": [
          10
         ],
         "xaxis": "x",
         "y": [
          10
         ],
         "yaxis": "y",
         "z": [
          10
         ],
         "zaxis": "z",
         "zmax": 10,
         "zmin": 1
        },
        {
         "colorbar": {
          "title": ""
         },
         "hoverinfo": "none",
         "marker": {
          "cmax": 10,
          "cmin": 1,
          "color": [
           0.5
          ],
          "colorscale": [
           [
            0,
            "rgba(102, 0, 102, 1.000)"
           ],
           [
            0.25,
            "rgba(0, 0, 230, 1.000)"
           ],
           [
            0.5,
            "rgba(0, 102, 0, 1.000)"
           ],
           [
            0.75,
            "rgba(230, 140, 0, 1.000)"
           ],
           [
            1,
            "rgba(230, 0, 0, 1.000)"
           ]
          ],
          "opacity": 1e-10,
          "showscale": true,
          "size": 1e-10
         },
         "mode": "markers",
         "name": "y1",
         "scene": "scene",
         "showlegend": false,
         "type": "scatter3d",
         "x": [
          1
         ],
         "xaxis": "x",
         "y": [
          1
         ],
         "yaxis": "y",
         "z": [
          1
         ],
         "zaxis": "z",
         "zmax": 10,
         "zmin": 1
        }
       ],
       "layout": {
        "annotations": [],
        "height": 400,
        "legend": {
         "bgcolor": "rgba(255, 255, 255, 1.000)",
         "bordercolor": "rgba(0, 0, 0, 1.000)",
         "borderwidth": 1,
         "font": {
          "color": "rgba(0, 0, 0, 1.000)",
          "family": "sans-serif",
          "size": 11
         },
         "title": {
          "font": {
           "color": "rgba(0, 0, 0, 1.000)",
           "family": "sans-serif",
           "size": 15
          },
          "text": ""
         },
         "tracegroupgap": 0,
         "traceorder": "normal",
         "x": 1,
         "xanchor": "auto",
         "y": 1,
         "yanchor": "auto"
        },
        "margin": {
         "b": 20,
         "l": 0,
         "r": 0,
         "t": 20
        },
        "paper_bgcolor": "rgba(255, 255, 255, 1.000)",
        "plot_bgcolor": "rgba(255, 255, 255, 1.000)",
        "scene": {
         "camera": {
          "eye": {
           "x": 1.12583302491977,
           "y": -1.9499999999999997,
           "z": 1.3
          }
         },
         "domain": {
          "x": [
           0.03619130941965587,
           0.9934383202099738
          ],
          "y": [
           0.03762029746281716,
           0.9901574803149606
          ]
         },
         "xaxis": {
          "gridcolor": "rgba(0, 0, 0, 0.100)",
          "gridwidth": 0.5,
          "linecolor": "rgba(0, 0, 0, 1.000)",
          "mirror": false,
          "range": [
           0.73,
           10.27
          ],
          "showgrid": true,
          "showline": true,
          "showticklabels": true,
          "tickangle": 0,
          "tickcolor": "rgb(0, 0, 0)",
          "tickfont": {
           "color": "rgba(0, 0, 0, 1.000)",
           "family": "sans-serif",
           "size": 11
          },
          "tickmode": "array",
          "ticks": "inside",
          "ticktext": [
           "2",
           "4",
           "6",
           "8",
           "10"
          ],
          "tickvals": [
           2,
           4,
           6,
           8,
           10
          ],
          "title": "",
          "titlefont": {
           "color": "rgba(0, 0, 0, 1.000)",
           "family": "sans-serif",
           "size": 15
          },
          "type": "-",
          "visible": true,
          "zeroline": false,
          "zerolinecolor": "rgba(0, 0, 0, 1.000)"
         },
         "yaxis": {
          "gridcolor": "rgba(0, 0, 0, 0.100)",
          "gridwidth": 0.5,
          "linecolor": "rgba(0, 0, 0, 1.000)",
          "mirror": false,
          "range": [
           0.73,
           10.27
          ],
          "showgrid": true,
          "showline": true,
          "showticklabels": true,
          "tickangle": 0,
          "tickcolor": "rgb(0, 0, 0)",
          "tickfont": {
           "color": "rgba(0, 0, 0, 1.000)",
           "family": "sans-serif",
           "size": 11
          },
          "tickmode": "array",
          "ticks": "inside",
          "ticktext": [
           "2",
           "4",
           "6",
           "8",
           "10"
          ],
          "tickvals": [
           2,
           4,
           6,
           8,
           10
          ],
          "title": "",
          "titlefont": {
           "color": "rgba(0, 0, 0, 1.000)",
           "family": "sans-serif",
           "size": 15
          },
          "type": "-",
          "visible": true,
          "zeroline": false,
          "zerolinecolor": "rgba(0, 0, 0, 1.000)"
         },
         "zaxis": {
          "gridcolor": "rgba(0, 0, 0, 0.100)",
          "gridwidth": 0.5,
          "linecolor": "rgba(0, 0, 0, 1.000)",
          "mirror": false,
          "range": [
           0.73,
           10.27
          ],
          "showgrid": true,
          "showline": true,
          "showticklabels": true,
          "tickangle": 0,
          "tickcolor": "rgb(0, 0, 0)",
          "tickfont": {
           "color": "rgba(0, 0, 0, 1.000)",
           "family": "sans-serif",
           "size": 11
          },
          "tickmode": "array",
          "ticks": "inside",
          "ticktext": [
           "2",
           "4",
           "6",
           "8",
           "10"
          ],
          "tickvals": [
           2,
           4,
           6,
           8,
           10
          ],
          "title": "",
          "titlefont": {
           "color": "rgba(0, 0, 0, 1.000)",
           "family": "sans-serif",
           "size": 15
          },
          "type": "-",
          "visible": true,
          "zeroline": false,
          "zerolinecolor": "rgba(0, 0, 0, 1.000)"
         }
        },
        "showlegend": true,
        "width": 600
       }
      },
      "image/png": "[encoded data removed]",
      "image/svg+xml": "<svg class=\"main-svg\" xmlns=\"http://www.w3.org/2000/svg\" xmlns:xlink=\"http://www.w3.org/1999/xlink\" width=\"700\" height=\"500\" style=\"\" viewBox=\"0 0 700 500\"><rect x=\"0\" y=\"0\" width=\"700\" height=\"500\" style=\"fill: rgb(255, 255, 255); fill-opacity: 1;\"/><defs id=\"defs-f78e4c\"><g class=\"clips\"/><g class=\"gradients\"><linearGradient x1=\"0\" x2=\"0\" y1=\"1\" y2=\"0\" id=\"gf78e4c-cb0cd163-marker\"><stop offset=\"0%\" stop-color=\"rgb(102, 0, 102)\" stop-opacity=\"1\"/><stop offset=\"25%\" stop-color=\"rgb(0, 0, 230)\" stop-opacity=\"1\"/><stop offset=\"50%\" stop-color=\"rgb(0, 102, 0)\" stop-opacity=\"1\"/><stop offset=\"75%\" stop-color=\"rgb(230, 140, 0)\" stop-opacity=\"1\"/><stop offset=\"100%\" stop-color=\"rgb(230, 0, 0)\" stop-opacity=\"1\"/></linearGradient></g></defs><g class=\"bglayer\"/><g class=\"layer-below\"><g class=\"imagelayer\"/><g class=\"shapelayer\"/></g><g class=\"cartesianlayer\"/><g class=\"polarlayer\"/><g class=\"ternarylayer\"/><g class=\"geolayer\"/><g class=\"funnelarealayer\"/><g class=\"pielayer\"/><g class=\"treemaplayer\"/><g class=\"sunburstlayer\"/><g class=\"glimages\"><image xmlns=\"http://www.w3.org/2000/svg\" xlink:href=\"data:image/png;base64,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\" x=\"70.37570720326626\" y=\"63.83858267716535\" width=\"538.930067074949\" height=\"371.48950131233596\" preserveAspectRatio=\"none\"/></g><defs id=\"topdefs-f78e4c\"><g class=\"clips\"/><clipPath id=\"legendf78e4c\"><rect width=\"57\" height=\"29\" x=\"1\" y=\"1\"/></clipPath></defs><g class=\"layer-above\"><g class=\"imagelayer\"/><g class=\"shapelayer\"/></g><g class=\"infolayer\"><g class=\"legend\" pointer-events=\"all\" transform=\"translate(554,60)\"><rect class=\"bg\" shape-rendering=\"crispEdges\" style=\"stroke: rgb(0, 0, 0); stroke-opacity: 1; fill: rgb(255, 255, 255); fill-opacity: 1; stroke-width: 1px;\" width=\"58\" height=\"30\" x=\"0.5\" y=\"0.5\"/><g class=\"scrollbox\" transform=\"\" clip-path=\"url('#legendf78e4c')\"><g class=\"groups\"><g class=\"traces\" transform=\"translate(1,15.5)\" style=\"opacity: 1;\"><text class=\"legendtext\" text-anchor=\"start\" x=\"40\" y=\"4.29\" style=\"font-family: sans-serif; font-size: 11px; fill: rgb(0, 0, 0); fill-opacity: 1; white-space: pre;\">y1</text><g class=\"layers\" style=\"opacity: 1;\"><g class=\"legendfill\"/><g class=\"legendlines\"/><g class=\"legendsymbols\"><g class=\"legendpoints\"><path class=\"scatterpts\" transform=\"translate(20,0)\" d=\"M4,0A4,4 0 1,1 0,-4A4,4 0 0,1 4,0Z\" style=\"opacity: 1; stroke-width: 1px; fill: rgb(102, 0, 102); fill-opacity: 0.5; stroke: rgb(0, 0, 0); stroke-opacity: 0.5;\"/></g></g></g><rect class=\"legendtoggle\" x=\"0\" y=\"-9.5\" width=\"51.625\" height=\"19\" style=\"fill: rgb(0, 0, 0); fill-opacity: 0;\"/></g></g></g><rect class=\"scrollbar\" rx=\"20\" ry=\"3\" width=\"0\" height=\"0\" style=\"fill: rgb(128, 139, 164); fill-opacity: 1;\" x=\"0\" y=\"0\"/></g><g class=\"cb0cd163-marker colorbar\" transform=\"translate(50,60)\"><rect class=\"cbbg\" x=\"574\" y=\"0\" width=\"63.6875\" height=\"390\" style=\"fill: rgb(0, 0, 0); fill-opacity: 0; stroke: rgb(68, 68, 68); stroke-opacity: 1; stroke-width: 0;\"/><g class=\"cbfills\" transform=\"translate(0,10)\"><rect class=\"cbfill\" x=\"584\" width=\"30\" y=\"0\" height=\"370\" style=\"fill: url('#gf78e4c-cb0cd163-marker');\"/></g><g class=\"cblines\" transform=\"translate(0,10)\"/><g class=\"cbaxis crisp\" transform=\"translate(0,-60)\"><g class=\"ycb0cd163-markertick\"><text text-anchor=\"start\" x=\"616.9\" y=\"4.199999999999999\" transform=\"translate(0,440)\" style=\"font-family: 'Open Sans', verdana, arial, sans-serif; font-size: 12px; fill: rgb(42, 63, 95); fill-opacity: 1; white-space: pre;\">1</text></g><g class=\"ycb0cd163-markertick\"><text text-anchor=\"start\" x=\"616.9\" y=\"4.199999999999999\" transform=\"translate(0,398.89)\" style=\"font-family: 'Open Sans', verdana, arial, sans-serif; font-size: 12px; fill: rgb(42, 63, 95); fill-opacity: 1; white-space: pre;\">2</text></g><g class=\"ycb0cd163-markertick\"><text text-anchor=\"start\" x=\"616.9\" y=\"4.199999999999999\" transform=\"translate(0,357.78)\" style=\"font-family: 'Open Sans', verdana, arial, sans-serif; font-size: 12px; fill: rgb(42, 63, 95); fill-opacity: 1; white-space: pre;\">3</text></g><g class=\"ycb0cd163-markertick\"><text text-anchor=\"start\" x=\"616.9\" y=\"4.199999999999999\" transform=\"translate(0,316.66999999999996)\" style=\"font-family: 'Open Sans', verdana, arial, sans-serif; font-size: 12px; fill: rgb(42, 63, 95); fill-opacity: 1; white-space: pre;\">4</text></g><g class=\"ycb0cd163-markertick\"><text text-anchor=\"start\" x=\"616.9\" y=\"4.199999999999999\" transform=\"translate(0,275.56)\" style=\"font-family: 'Open Sans', verdana, arial, sans-serif; font-size: 12px; fill: rgb(42, 63, 95); fill-opacity: 1; white-space: pre;\">5</text></g><g class=\"ycb0cd163-markertick\"><text text-anchor=\"start\" x=\"616.9\" y=\"4.199999999999999\" transform=\"translate(0,234.44)\" style=\"font-family: 'Open Sans', verdana, arial, sans-serif; font-size: 12px; fill: rgb(42, 63, 95); fill-opacity: 1; white-space: pre;\">6</text></g><g class=\"ycb0cd163-markertick\"><text text-anchor=\"start\" x=\"616.9\" y=\"4.199999999999999\" transform=\"translate(0,193.32999999999998)\" style=\"font-family: 'Open Sans', verdana, arial, sans-serif; font-size: 12px; fill: rgb(42, 63, 95); fill-opacity: 1; white-space: pre;\">7</text></g><g class=\"ycb0cd163-markertick\"><text text-anchor=\"start\" x=\"616.9\" y=\"4.199999999999999\" transform=\"translate(0,152.22)\" style=\"font-family: 'Open Sans', verdana, arial, sans-serif; font-size: 12px; fill: rgb(42, 63, 95); fill-opacity: 1; white-space: pre;\">8</text></g><g class=\"ycb0cd163-markertick\"><text text-anchor=\"start\" x=\"616.9\" y=\"4.199999999999999\" transform=\"translate(0,111.11)\" style=\"font-family: 'Open Sans', verdana, arial, sans-serif; font-size: 12px; fill: rgb(42, 63, 95); fill-opacity: 1; white-space: pre;\">9</text></g><g class=\"ycb0cd163-markertick\"><text text-anchor=\"start\" x=\"616.9\" y=\"4.199999999999999\" transform=\"translate(0,70)\" style=\"font-family: 'Open Sans', verdana, arial, sans-serif; font-size: 12px; fill: rgb(42, 63, 95); fill-opacity: 1; white-space: pre;\">10</text></g></g><g class=\"cbtitleunshift\" transform=\"translate(-50,-60)\"><g class=\"cbtitle\"/></g><rect class=\"cboutline\" x=\"584\" y=\"10\" width=\"30\" height=\"370\" style=\"stroke: rgb(68, 68, 68); stroke-opacity: 1; fill: none; stroke-width: 0;\"/></g><g class=\"g-gtitle\"/></g></svg>",
      "text/html": [
       "<script src=\"https://cdn.plot.ly/plotly-1.57.1.min.js\"></script>    <div id=\"23bc5c1e-ae8f-4f94-8506-52f8e8f9dc6d\" style=\"width:600px;height:400px;\"></div>\n",
       "    <script>\n",
       "    \n",
       "        var PLOT = document.getElementById('23bc5c1e-ae8f-4f94-8506-52f8e8f9dc6d');\n",
       "    Plotly.plot(PLOT, [\n",
       "    {\n",
       "        \"xaxis\": \"x\",\n",
       "        \"colorbar\": {\n",
       "            \"title\": \"\"\n",
       "        },\n",
       "        \"yaxis\": \"y\",\n",
       "        \"zaxis\": \"z\",\n",
       "        \"x\": [\n",
       "            1\n",
       "        ],\n",
       "        \"showlegend\": true,\n",
       "        \"mode\": \"markers\",\n",
       "        \"name\": \"y1\",\n",
       "        \"zmin\": 1.0,\n",
       "        \"legendgroup\": \"y1\",\n",
       "        \"z\": [\n",
       "            1\n",
       "        ],\n",
       "        \"marker\": {\n",
       "            \"symbol\": \"circle\",\n",
       "            \"color\": \"rgba(102, 0, 102, 0.500)\",\n",
       "            \"line\": {\n",
       "                \"color\": \"rgba(0, 0, 0, 0.500)\",\n",
       "                \"width\": 1\n",
       "            },\n",
       "            \"size\": 8\n",
       "        },\n",
       "        \"zmax\": 10.0,\n",
       "        \"y\": [\n",
       "            1\n",
       "        ],\n",
       "        \"type\": \"scatter3d\",\n",
       "        \"scene\": \"scene\"\n",
       "    },\n",
       "    {\n",
       "        \"xaxis\": \"x\",\n",
       "        \"colorbar\": {\n",
       "            \"title\": \"\"\n",
       "        },\n",
       "        \"yaxis\": \"y\",\n",
       "        \"zaxis\": \"z\",\n",
       "        \"x\": [\n",
       "            2\n",
       "        ],\n",
       "        \"showlegend\": false,\n",
       "        \"mode\": \"markers\",\n",
       "        \"name\": \"y1\",\n",
       "        \"zmin\": 1.0,\n",
       "        \"legendgroup\": \"y1\",\n",
       "        \"z\": [\n",
       "            2\n",
       "        ],\n",
       "        \"marker\": {\n",
       "            \"symbol\": \"circle\",\n",
       "            \"color\": \"rgba(57, 0, 159, 0.500)\",\n",
       "            \"line\": {\n",
       "                \"color\": \"rgba(0, 0, 0, 0.500)\",\n",
       "                \"width\": 1\n",
       "            },\n",
       "            \"size\": 8\n",
       "        },\n",
       "        \"zmax\": 10.0,\n",
       "        \"y\": [\n",
       "            2\n",
       "        ],\n",
       "        \"type\": \"scatter3d\",\n",
       "        \"scene\": \"scene\"\n",
       "    },\n",
       "    {\n",
       "        \"xaxis\": \"x\",\n",
       "        \"colorbar\": {\n",
       "            \"title\": \"\"\n",
       "        },\n",
       "        \"yaxis\": \"y\",\n",
       "        \"zaxis\": \"z\",\n",
       "        \"x\": [\n",
       "            3\n",
       "        ],\n",
       "        \"showlegend\": false,\n",
       "        \"mode\": \"markers\",\n",
       "        \"name\": \"y1\",\n",
       "        \"zmin\": 1.0,\n",
       "        \"legendgroup\": \"y1\",\n",
       "        \"z\": [\n",
       "            3\n",
       "        ],\n",
       "        \"marker\": {\n",
       "            \"symbol\": \"circle\",\n",
       "            \"color\": \"rgba(11, 0, 215, 0.500)\",\n",
       "            \"line\": {\n",
       "                \"color\": \"rgba(0, 0, 0, 0.500)\",\n",
       "                \"width\": 1\n",
       "            },\n",
       "            \"size\": 8\n",
       "        },\n",
       "        \"zmax\": 10.0,\n",
       "        \"y\": [\n",
       "            3\n",
       "        ],\n",
       "        \"type\": \"scatter3d\",\n",
       "        \"scene\": \"scene\"\n",
       "    },\n",
       "    {\n",
       "        \"xaxis\": \"x\",\n",
       "        \"colorbar\": {\n",
       "            \"title\": \"\"\n",
       "        },\n",
       "        \"yaxis\": \"y\",\n",
       "        \"zaxis\": \"z\",\n",
       "        \"x\": [\n",
       "            4\n",
       "        ],\n",
       "        \"showlegend\": false,\n",
       "        \"mode\": \"markers\",\n",
       "        \"name\": \"y1\",\n",
       "        \"zmin\": 1.0,\n",
       "        \"legendgroup\": \"y1\",\n",
       "        \"z\": [\n",
       "            4\n",
       "        ],\n",
       "        \"marker\": {\n",
       "            \"symbol\": \"circle\",\n",
       "            \"color\": \"rgba(0, 34, 153, 0.500)\",\n",
       "            \"line\": {\n",
       "                \"color\": \"rgba(0, 0, 0, 0.500)\",\n",
       "                \"width\": 1\n",
       "            },\n",
       "            \"size\": 8\n",
       "        },\n",
       "        \"zmax\": 10.0,\n",
       "        \"y\": [\n",
       "            4\n",
       "        ],\n",
       "        \"type\": \"scatter3d\",\n",
       "        \"scene\": \"scene\"\n",
       "    },\n",
       "    {\n",
       "        \"xaxis\": \"x\",\n",
       "        \"colorbar\": {\n",
       "            \"title\": \"\"\n",
       "        },\n",
       "        \"yaxis\": \"y\",\n",
       "        \"zaxis\": \"z\",\n",
       "        \"x\": [\n",
       "            5\n",
       "        ],\n",
       "        \"showlegend\": false,\n",
       "        \"mode\": \"markers\",\n",
       "        \"name\": \"y1\",\n",
       "        \"zmin\": 1.0,\n",
       "        \"legendgroup\": \"y1\",\n",
       "        \"z\": [\n",
       "            5\n",
       "        ],\n",
       "        \"marker\": {\n",
       "            \"symbol\": \"circle\",\n",
       "            \"color\": \"rgba(0, 80, 51, 0.500)\",\n",
       "            \"line\": {\n",
       "                \"color\": \"rgba(0, 0, 0, 0.500)\",\n",
       "                \"width\": 1\n",
       "            },\n",
       "            \"size\": 8\n",
       "        },\n",
       "        \"zmax\": 10.0,\n",
       "        \"y\": [\n",
       "            5\n",
       "        ],\n",
       "        \"type\": \"scatter3d\",\n",
       "        \"scene\": \"scene\"\n",
       "    },\n",
       "    {\n",
       "        \"xaxis\": \"x\",\n",
       "        \"colorbar\": {\n",
       "            \"title\": \"\"\n",
       "        },\n",
       "        \"yaxis\": \"y\",\n",
       "        \"zaxis\": \"z\",\n",
       "        \"x\": [\n",
       "            6\n",
       "        ],\n",
       "        \"showlegend\": false,\n",
       "        \"mode\": \"markers\",\n",
       "        \"name\": \"y1\",\n",
       "        \"zmin\": 1.0,\n",
       "        \"legendgroup\": \"y1\",\n",
       "        \"z\": [\n",
       "            6\n",
       "        ],\n",
       "        \"marker\": {\n",
       "            \"symbol\": \"circle\",\n",
       "            \"color\": \"rgba(51, 111, 0, 0.500)\",\n",
       "            \"line\": {\n",
       "                \"color\": \"rgba(0, 0, 0, 0.500)\",\n",
       "                \"width\": 1\n",
       "            },\n",
       "            \"size\": 8\n",
       "        },\n",
       "        \"zmax\": 10.0,\n",
       "        \"y\": [\n",
       "            6\n",
       "        ],\n",
       "        \"type\": \"scatter3d\",\n",
       "        \"scene\": \"scene\"\n",
       "    },\n",
       "    {\n",
       "        \"xaxis\": \"x\",\n",
       "        \"colorbar\": {\n",
       "            \"title\": \"\"\n",
       "        },\n",
       "        \"yaxis\": \"y\",\n",
       "        \"zaxis\": \"z\",\n",
       "        \"x\": [\n",
       "            7\n",
       "        ],\n",
       "        \"showlegend\": false,\n",
       "        \"mode\": \"markers\",\n",
       "        \"name\": \"y1\",\n",
       "        \"zmin\": 1.0,\n",
       "        \"legendgroup\": \"y1\",\n",
       "        \"z\": [\n",
       "            7\n",
       "        ],\n",
       "        \"marker\": {\n",
       "            \"symbol\": \"circle\",\n",
       "            \"color\": \"rgba(153, 127, 0, 0.500)\",\n",
       "            \"line\": {\n",
       "                \"color\": \"rgba(0, 0, 0, 0.500)\",\n",
       "                \"width\": 1\n",
       "            },\n",
       "            \"size\": 8\n",
       "        },\n",
       "        \"zmax\": 10.0,\n",
       "        \"y\": [\n",
       "            7\n",
       "        ],\n",
       "        \"type\": \"scatter3d\",\n",
       "        \"scene\": \"scene\"\n",
       "    },\n",
       "    {\n",
       "        \"xaxis\": \"x\",\n",
       "        \"colorbar\": {\n",
       "            \"title\": \"\"\n",
       "        },\n",
       "        \"yaxis\": \"y\",\n",
       "        \"zaxis\": \"z\",\n",
       "        \"x\": [\n",
       "            8\n",
       "        ],\n",
       "        \"showlegend\": false,\n",
       "        \"mode\": \"markers\",\n",
       "        \"name\": \"y1\",\n",
       "        \"zmin\": 1.0,\n",
       "        \"legendgroup\": \"y1\",\n",
       "        \"z\": [\n",
       "            8\n",
       "        ],\n",
       "        \"marker\": {\n",
       "            \"symbol\": \"circle\",\n",
       "            \"color\": \"rgba(230, 124, 0, 0.500)\",\n",
       "            \"line\": {\n",
       "                \"color\": \"rgba(0, 0, 0, 0.500)\",\n",
       "                \"width\": 1\n",
       "            },\n",
       "            \"size\": 8\n",
       "        },\n",
       "        \"zmax\": 10.0,\n",
       "        \"y\": [\n",
       "            8\n",
       "        ],\n",
       "        \"type\": \"scatter3d\",\n",
       "        \"scene\": \"scene\"\n",
       "    },\n",
       "    {\n",
       "        \"xaxis\": \"x\",\n",
       "        \"colorbar\": {\n",
       "            \"title\": \"\"\n",
       "        },\n",
       "        \"yaxis\": \"y\",\n",
       "        \"zaxis\": \"z\",\n",
       "        \"x\": [\n",
       "            9\n",
       "        ],\n",
       "        \"showlegend\": false,\n",
       "        \"mode\": \"markers\",\n",
       "        \"name\": \"y1\",\n",
       "        \"zmin\": 1.0,\n",
       "        \"legendgroup\": \"y1\",\n",
       "        \"z\": [\n",
       "            9\n",
       "        ],\n",
       "        \"marker\": {\n",
       "            \"symbol\": \"circle\",\n",
       "            \"color\": \"rgba(230, 62, 0, 0.500)\",\n",
       "            \"line\": {\n",
       "                \"color\": \"rgba(0, 0, 0, 0.500)\",\n",
       "                \"width\": 1\n",
       "            },\n",
       "            \"size\": 8\n",
       "        },\n",
       "        \"zmax\": 10.0,\n",
       "        \"y\": [\n",
       "            9\n",
       "        ],\n",
       "        \"type\": \"scatter3d\",\n",
       "        \"scene\": \"scene\"\n",
       "    },\n",
       "    {\n",
       "        \"xaxis\": \"x\",\n",
       "        \"colorbar\": {\n",
       "            \"title\": \"\"\n",
       "        },\n",
       "        \"yaxis\": \"y\",\n",
       "        \"zaxis\": \"z\",\n",
       "        \"x\": [\n",
       "            10\n",
       "        ],\n",
       "        \"showlegend\": false,\n",
       "        \"mode\": \"markers\",\n",
       "        \"name\": \"y1\",\n",
       "        \"zmin\": 1.0,\n",
       "        \"legendgroup\": \"y1\",\n",
       "        \"z\": [\n",
       "            10\n",
       "        ],\n",
       "        \"marker\": {\n",
       "            \"symbol\": \"circle\",\n",
       "            \"color\": \"rgba(230, 0, 0, 0.500)\",\n",
       "            \"line\": {\n",
       "                \"color\": \"rgba(0, 0, 0, 0.500)\",\n",
       "                \"width\": 1\n",
       "            },\n",
       "            \"size\": 8\n",
       "        },\n",
       "        \"zmax\": 10.0,\n",
       "        \"y\": [\n",
       "            10\n",
       "        ],\n",
       "        \"type\": \"scatter3d\",\n",
       "        \"scene\": \"scene\"\n",
       "    },\n",
       "    {\n",
       "        \"xaxis\": \"x\",\n",
       "        \"colorbar\": {\n",
       "            \"title\": \"\"\n",
       "        },\n",
       "        \"yaxis\": \"y\",\n",
       "        \"zaxis\": \"z\",\n",
       "        \"x\": [\n",
       "            1\n",
       "        ],\n",
       "        \"showlegend\": false,\n",
       "        \"mode\": \"markers\",\n",
       "        \"name\": \"y1\",\n",
       "        \"zmin\": 1.0,\n",
       "        \"z\": [\n",
       "            1\n",
       "        ],\n",
       "        \"marker\": {\n",
       "            \"color\": [\n",
       "                0.5\n",
       "            ],\n",
       "            \"cmin\": 1.0,\n",
       "            \"opacity\": 1.0e-10,\n",
       "            \"size\": 1.0e-10,\n",
       "            \"colorscale\": [\n",
       "                [\n",
       "                    0.0,\n",
       "                    \"rgba(102, 0, 102, 1.000)\"\n",
       "                ],\n",
       "                [\n",
       "                    0.25,\n",
       "                    \"rgba(0, 0, 230, 1.000)\"\n",
       "                ],\n",
       "                [\n",
       "                    0.5,\n",
       "                    \"rgba(0, 102, 0, 1.000)\"\n",
       "                ],\n",
       "                [\n",
       "                    0.75,\n",
       "                    \"rgba(230, 140, 0, 1.000)\"\n",
       "                ],\n",
       "                [\n",
       "                    1.0,\n",
       "                    \"rgba(230, 0, 0, 1.000)\"\n",
       "                ]\n",
       "            ],\n",
       "            \"cmax\": 10.0,\n",
       "            \"showscale\": true\n",
       "        },\n",
       "        \"zmax\": 10.0,\n",
       "        \"y\": [\n",
       "            1\n",
       "        ],\n",
       "        \"type\": \"scatter3d\",\n",
       "        \"scene\": \"scene\",\n",
       "        \"hoverinfo\": \"none\"\n",
       "    }\n",
       "]\n",
       ", {\n",
       "    \"showlegend\": true,\n",
       "    \"paper_bgcolor\": \"rgba(255, 255, 255, 1.000)\",\n",
       "    \"annotations\": [],\n",
       "    \"height\": 400,\n",
       "    \"margin\": {\n",
       "        \"l\": 0,\n",
       "        \"b\": 20,\n",
       "        \"r\": 0,\n",
       "        \"t\": 20\n",
       "    },\n",
       "    \"plot_bgcolor\": \"rgba(255, 255, 255, 1.000)\",\n",
       "    \"scene\": {\n",
       "        \"camera\": {\n",
       "            \"eye\": {\n",
       "                \"y\": -1.9499999999999997,\n",
       "                \"z\": 1.3,\n",
       "                \"x\": 1.12583302491977\n",
       "            }\n",
       "        },\n",
       "        \"xaxis\": {\n",
       "            \"tickangle\": 0,\n",
       "            \"showline\": true,\n",
       "            \"gridcolor\": \"rgba(0, 0, 0, 0.100)\",\n",
       "            \"showticklabels\": true,\n",
       "            \"gridwidth\": 0.5,\n",
       "            \"titlefont\": {\n",
       "                \"color\": \"rgba(0, 0, 0, 1.000)\",\n",
       "                \"family\": \"sans-serif\",\n",
       "                \"size\": 15\n",
       "            },\n",
       "            \"visible\": true,\n",
       "            \"ticks\": \"inside\",\n",
       "            \"range\": [\n",
       "                0.73,\n",
       "                10.27\n",
       "            ],\n",
       "            \"tickmode\": \"array\",\n",
       "            \"tickvals\": [\n",
       "                2.0,\n",
       "                4.0,\n",
       "                6.0,\n",
       "                8.0,\n",
       "                10.0\n",
       "            ],\n",
       "            \"tickcolor\": \"rgb(0, 0, 0)\",\n",
       "            \"ticktext\": [\n",
       "                \"2\",\n",
       "                \"4\",\n",
       "                \"6\",\n",
       "                \"8\",\n",
       "                \"10\"\n",
       "            ],\n",
       "            \"linecolor\": \"rgba(0, 0, 0, 1.000)\",\n",
       "            \"showgrid\": true,\n",
       "            \"zeroline\": false,\n",
       "            \"type\": \"-\",\n",
       "            \"tickfont\": {\n",
       "                \"color\": \"rgba(0, 0, 0, 1.000)\",\n",
       "                \"family\": \"sans-serif\",\n",
       "                \"size\": 11\n",
       "            },\n",
       "            \"title\": \"\",\n",
       "            \"zerolinecolor\": \"rgba(0, 0, 0, 1.000)\",\n",
       "            \"mirror\": false\n",
       "        },\n",
       "        \"domain\": {\n",
       "            \"y\": [\n",
       "                0.03762029746281716,\n",
       "                0.9901574803149606\n",
       "            ],\n",
       "            \"x\": [\n",
       "                0.03619130941965587,\n",
       "                0.9934383202099738\n",
       "            ]\n",
       "        },\n",
       "        \"yaxis\": {\n",
       "            \"tickangle\": 0,\n",
       "            \"showline\": true,\n",
       "            \"gridcolor\": \"rgba(0, 0, 0, 0.100)\",\n",
       "            \"showticklabels\": true,\n",
       "            \"gridwidth\": 0.5,\n",
       "            \"titlefont\": {\n",
       "                \"color\": \"rgba(0, 0, 0, 1.000)\",\n",
       "                \"family\": \"sans-serif\",\n",
       "                \"size\": 15\n",
       "            },\n",
       "            \"visible\": true,\n",
       "            \"ticks\": \"inside\",\n",
       "            \"range\": [\n",
       "                0.73,\n",
       "                10.27\n",
       "            ],\n",
       "            \"tickmode\": \"array\",\n",
       "            \"tickvals\": [\n",
       "                2.0,\n",
       "                4.0,\n",
       "                6.0,\n",
       "                8.0,\n",
       "                10.0\n",
       "            ],\n",
       "            \"tickcolor\": \"rgb(0, 0, 0)\",\n",
       "            \"ticktext\": [\n",
       "                \"2\",\n",
       "                \"4\",\n",
       "                \"6\",\n",
       "                \"8\",\n",
       "                \"10\"\n",
       "            ],\n",
       "            \"linecolor\": \"rgba(0, 0, 0, 1.000)\",\n",
       "            \"showgrid\": true,\n",
       "            \"zeroline\": false,\n",
       "            \"type\": \"-\",\n",
       "            \"tickfont\": {\n",
       "                \"color\": \"rgba(0, 0, 0, 1.000)\",\n",
       "                \"family\": \"sans-serif\",\n",
       "                \"size\": 11\n",
       "            },\n",
       "            \"title\": \"\",\n",
       "            \"zerolinecolor\": \"rgba(0, 0, 0, 1.000)\",\n",
       "            \"mirror\": false\n",
       "        },\n",
       "        \"zaxis\": {\n",
       "            \"tickangle\": 0,\n",
       "            \"showline\": true,\n",
       "            \"gridcolor\": \"rgba(0, 0, 0, 0.100)\",\n",
       "            \"showticklabels\": true,\n",
       "            \"gridwidth\": 0.5,\n",
       "            \"titlefont\": {\n",
       "                \"color\": \"rgba(0, 0, 0, 1.000)\",\n",
       "                \"family\": \"sans-serif\",\n",
       "                \"size\": 15\n",
       "            },\n",
       "            \"visible\": true,\n",
       "            \"ticks\": \"inside\",\n",
       "            \"range\": [\n",
       "                0.73,\n",
       "                10.27\n",
       "            ],\n",
       "            \"tickmode\": \"array\",\n",
       "            \"tickvals\": [\n",
       "                2.0,\n",
       "                4.0,\n",
       "                6.0,\n",
       "                8.0,\n",
       "                10.0\n",
       "            ],\n",
       "            \"tickcolor\": \"rgb(0, 0, 0)\",\n",
       "            \"ticktext\": [\n",
       "                \"2\",\n",
       "                \"4\",\n",
       "                \"6\",\n",
       "                \"8\",\n",
       "                \"10\"\n",
       "            ],\n",
       "            \"linecolor\": \"rgba(0, 0, 0, 1.000)\",\n",
       "            \"showgrid\": true,\n",
       "            \"zeroline\": false,\n",
       "            \"type\": \"-\",\n",
       "            \"tickfont\": {\n",
       "                \"color\": \"rgba(0, 0, 0, 1.000)\",\n",
       "                \"family\": \"sans-serif\",\n",
       "                \"size\": 11\n",
       "            },\n",
       "            \"title\": \"\",\n",
       "            \"zerolinecolor\": \"rgba(0, 0, 0, 1.000)\",\n",
       "            \"mirror\": false\n",
       "        }\n",
       "    },\n",
       "    \"legend\": {\n",
       "        \"yanchor\": \"auto\",\n",
       "        \"xanchor\": \"auto\",\n",
       "        \"bordercolor\": \"rgba(0, 0, 0, 1.000)\",\n",
       "        \"bgcolor\": \"rgba(255, 255, 255, 1.000)\",\n",
       "        \"borderwidth\": 1,\n",
       "        \"tracegroupgap\": 0,\n",
       "        \"y\": 1.0,\n",
       "        \"font\": {\n",
       "            \"color\": \"rgba(0, 0, 0, 1.000)\",\n",
       "            \"family\": \"sans-serif\",\n",
       "            \"size\": 11\n",
       "        },\n",
       "        \"title\": {\n",
       "            \"font\": {\n",
       "                \"color\": \"rgba(0, 0, 0, 1.000)\",\n",
       "                \"family\": \"sans-serif\",\n",
       "                \"size\": 15\n",
       "            },\n",
       "            \"text\": \"\"\n",
       "        },\n",
       "        \"traceorder\": \"normal\",\n",
       "        \"x\": 1.0\n",
       "    },\n",
       "    \"width\": 600\n",
       "}\n",
       ");\n",
       "\n",
       "    \n",
       "    </script>\n"
      ]
     },
     "metadata": {},
     "output_type": "display_data"
    }
   ],
   "source": [
    "using Plots\n",
    "plotlyjs()\n",
    "scatter(1:10,1:10,1:10,marker_z=1:10,seriescolor=:darkrainbow,alpha=0.5)"
   ]
  },
  {
   "cell_type": "code",
   "execution_count": 2,
   "metadata": {},
   "outputs": [],
   "source": [
    "include(joinpath(\"..\",\"src\",\"test.jl\"))"
   ]
  },
  {
   "cell_type": "code",
   "execution_count": 3,
   "metadata": {},
   "outputs": [],
   "source": [
    "using DelimitedFiles"
   ]
  },
  {
   "cell_type": "code",
   "execution_count": null,
   "id": "b36a3004",
   "metadata": {},
   "outputs": [],
   "source": []
  }
 ],
 "metadata": {
  "kernelspec": {
   "display_name": "Julia 1.6.2",
   "language": "julia",
   "name": "julia-1.6"
  },
  "language_info": {
   "file_extension": ".jl",
   "mimetype": "application/julia",
   "name": "julia",
   "version": "1.6.2"
  }
 },
 "nbformat": 4,
 "nbformat_minor": 5
}
