{
 "cells": [
  {
   "cell_type": "code",
   "execution_count": 301,
   "metadata": {},
   "outputs": [
    {
     "name": "stderr",
     "output_type": "stream",
     "text": [
      "┌ Warning: Assignment to `A` in soft scope is ambiguous because a global variable by the same name exists: `A` will be treated as a new local. Disambiguate by using `local A` to suppress this warning or `global A` to assign to the existing global variable.\n",
      "└ @ nothing c:\\Users\\sayeg\\Insync\\sayeg@ciencias.unam.mx\\Google Drive\\Backup\\Maestria\\tesis\\geometricProteinFolding\\src\\scalarRootFinding.jl:154\n",
      "┌ Warning: Assignment to `A` in soft scope is ambiguous because a global variable by the same name exists: `A` will be treated as a new local. Disambiguate by using `local A` to suppress this warning or `global A` to assign to the existing global variable.\n",
      "└ @ nothing c:\\Users\\sayeg\\Insync\\sayeg@ciencias.unam.mx\\Google Drive\\Backup\\Maestria\\tesis\\geometricProteinFolding\\src\\scalarRootFinding.jl:170\n",
      "┌ Warning: Assignment to `A` in soft scope is ambiguous because a global variable by the same name exists: `A` will be treated as a new local. Disambiguate by using `local A` to suppress this warning or `global A` to assign to the existing global variable.\n",
      "└ @ nothing c:\\Users\\sayeg\\Insync\\sayeg@ciencias.unam.mx\\Google Drive\\Backup\\Maestria\\tesis\\geometricProteinFolding\\src\\derivatives.jl:143\n",
      "┌ Warning: Assignment to `A` in soft scope is ambiguous because a global variable by the same name exists: `A` will be treated as a new local. Disambiguate by using `local A` to suppress this warning or `global A` to assign to the existing global variable.\n",
      "└ @ nothing c:\\Users\\sayeg\\Insync\\sayeg@ciencias.unam.mx\\Google Drive\\Backup\\Maestria\\tesis\\geometricProteinFolding\\src\\derivatives.jl:156\n",
      "WARNING: redefinition of constant ex. This may fail, cause incorrect answers, or produce other errors.\n",
      "WARNING: redefinition of constant ey. This may fail, cause incorrect answers, or produce other errors.\n",
      "WARNING: redefinition of constant ez. This may fail, cause incorrect answers, or produce other errors.\n",
      "WARNING: redefinition of constant e0. This may fail, cause incorrect answers, or produce other errors.\n"
     ]
    }
   ],
   "source": [
    "include(\"../src/test.jl\")"
   ]
  },
  {
   "cell_type": "code",
   "execution_count": 3,
   "metadata": {},
   "outputs": [
    {
     "data": {
      "text/html": [
       "<script>\n",
       "// Immediately-invoked-function-expression to avoid global variables.\n",
       "(function() {\n",
       "    var warning_div = document.getElementById(\"webio-warning-9752839496947392189\");\n",
       "    var hide = function () {\n",
       "        var script = document.getElementById(\"webio-setup-12696814918187790037\");\n",
       "        var parent = script && script.parentElement;\n",
       "        var grandparent = parent && parent.parentElement;\n",
       "        if (grandparent) {\n",
       "            grandparent.style.display = \"none\";\n",
       "        }\n",
       "        warning_div.style.display = \"none\";\n",
       "    };\n",
       "    if (typeof Jupyter !== \"undefined\") {\n",
       "        console.log(\"WebIO detected Jupyter notebook environment.\");\n",
       "        // Jupyter notebook.\n",
       "        var extensions = (\n",
       "            Jupyter\n",
       "            && Jupyter.notebook.config.data\n",
       "            && Jupyter.notebook.config.data.load_extensions\n",
       "        );\n",
       "        if (extensions && extensions[\"webio-jupyter-notebook\"]) {\n",
       "            // Extension already loaded.\n",
       "            console.log(\"Jupyter WebIO nbextension detected; not loading ad-hoc.\");\n",
       "            hide();\n",
       "            return;\n",
       "        }\n",
       "    } else if (window.location.pathname.includes(\"/lab\")) {\n",
       "        // Guessing JupyterLa\n",
       "        console.log(\"Jupyter Lab detected; make sure the @webio/jupyter-lab-provider labextension is installed.\");\n",
       "        hide();\n",
       "        return;\n",
       "    }\n",
       "})();\n",
       "\n",
       "</script>\n",
       "<p\n",
       "    id=\"webio-warning-9752839496947392189\"\n",
       "    class=\"output_text output_stderr\"\n",
       "    style=\"padding: 1em; font-weight: bold;\"\n",
       ">\n",
       "    Unable to load WebIO. Please make sure WebIO works for your Jupyter client.\n",
       "    For troubleshooting, please see <a href=\"https://juliagizmos.github.io/WebIO.jl/latest/providers/ijulia/\">\n",
       "    the WebIO/IJulia documentation</a>.\n",
       "    <!-- TODO: link to installation docs. -->\n",
       "</p>\n"
      ],
      "text/plain": [
       "HTML{String}(\"<script>\\n// Immediately-invoked-function-expression to avoid global variables.\\n(function() {\\n    var warning_div = document.getElementById(\\\"webio-warning-9752839496947392189\\\");\\n    var hide = function () {\\n        var script = document.getElementById(\\\"webio-setup-12696814918187790037\\\");\\n        var parent = script && script.parentElement;\\n        var grandparent = parent && parent.parentElement;\\n        if (grandparent) {\\n            grandparent.style.display = \\\"none\\\";\\n        }\\n        warning_div.style.display = \\\"none\\\";\\n    };\\n    if (typeof Jupyter !== \\\"undefined\\\") {\\n        console.log(\\\"WebIO detected Jupyter notebook environment.\\\");\\n        // Jupyter notebook.\\n        var extensions = (\\n            Jupyter\\n            && Jupyter.notebook.config.data\\n            && Jupyter.notebook.config.data.load_extensions\\n        );\\n        if (extensions && extensions[\\\"webio-jupyter-notebook\\\"]) {\\n            // Extension already loaded.\\n            console.log(\\\"Jupyter WebIO nbextension detected; not loading ad-hoc.\\\");\\n            hide();\\n            return;\\n        }\\n    } else if (window.location.pathname.includes(\\\"/lab\\\")) {\\n        // Guessing JupyterLa\\n        console.log(\\\"Jupyter Lab detected; make sure the @webio/jupyter-lab-provider labextension is installed.\\\");\\n        hide();\\n        return;\\n    }\\n})();\\n\\n</script>\\n<p\\n    id=\\\"webio-warning-9752839496947392189\\\"\\n    class=\\\"output_text output_stderr\\\"\\n    style=\\\"padding: 1em; font-weight: bold;\\\"\\n>\\n    Unable to load WebIO. Please make sure WebIO works for your Jupyter client.\\n    For troubleshooting, please see <a href=\\\"https://juliagizmos.github.io/WebIO.jl/latest/providers/ijulia/\\\">\\n    the WebIO/IJulia documentation</a>.\\n    <!-- TODO: link to installation docs. -->\\n</p>\\n\")"
      ]
     },
     "metadata": {},
     "output_type": "display_data"
    },
    {
     "name": "stderr",
     "output_type": "stream",
     "text": [
      "WARNING: using Plots.rotate in module Main conflicts with an existing identifier.\n",
      "WARNING: using Plots.rotate! in module Main conflicts with an existing identifier.\n"
     ]
    },
    {
     "data": {
      "application/vnd.plotly.v1+json": {
       "data": [
        {
         "colorbar": {
          "title": ""
         },
         "legendgroup": "y1",
         "marker": {
          "color": "rgba(0, 154, 250, 1.000)",
          "line": {
           "color": "rgba(0, 0, 0, 1.000)",
           "width": 1
          },
          "size": 8,
          "symbol": "circle"
         },
         "mode": "markers",
         "name": "y1",
         "scene": "scene",
         "showlegend": true,
         "type": "scatter3d",
         "x": [
          1,
          2,
          3,
          4,
          5,
          6,
          7,
          8,
          9,
          10
         ],
         "xaxis": "x",
         "y": [
          1,
          2,
          3,
          4,
          5,
          6,
          7,
          8,
          9,
          10
         ],
         "yaxis": "y",
         "z": [
          1,
          2,
          3,
          4,
          5,
          6,
          7,
          8,
          9,
          10
         ],
         "zaxis": "z",
         "zmax": null,
         "zmin": null
        }
       ],
       "layout": {
        "annotations": [],
        "height": 400,
        "legend": {
         "bgcolor": "rgba(255, 255, 255, 1.000)",
         "bordercolor": "rgba(0, 0, 0, 1.000)",
         "borderwidth": 1,
         "font": {
          "color": "rgba(0, 0, 0, 1.000)",
          "family": "sans-serif",
          "size": 11
         },
         "title": {
          "font": {
           "color": "rgba(0, 0, 0, 1.000)",
           "family": "sans-serif",
           "size": 15
          },
          "text": ""
         },
         "tracegroupgap": 0,
         "traceorder": "normal",
         "x": 1,
         "xanchor": "auto",
         "y": 1,
         "yanchor": "auto"
        },
        "margin": {
         "b": 20,
         "l": 0,
         "r": 0,
         "t": 20
        },
        "paper_bgcolor": "rgba(255, 255, 255, 1.000)",
        "plot_bgcolor": "rgba(255, 255, 255, 1.000)",
        "scene": {
         "camera": {
          "eye": {
           "x": 1.12583302491977,
           "y": -1.9499999999999997,
           "z": 1.3
          }
         },
         "domain": {
          "x": [
           0.03619130941965587,
           0.9934383202099738
          ],
          "y": [
           0.03762029746281716,
           0.9901574803149606
          ]
         },
         "xaxis": {
          "gridcolor": "rgba(0, 0, 0, 0.100)",
          "gridwidth": 0.5,
          "linecolor": "rgba(0, 0, 0, 1.000)",
          "mirror": false,
          "range": [
           0.73,
           10.27
          ],
          "showgrid": true,
          "showline": true,
          "showticklabels": true,
          "tickangle": 0,
          "tickcolor": "rgb(0, 0, 0)",
          "tickfont": {
           "color": "rgba(0, 0, 0, 1.000)",
           "family": "sans-serif",
           "size": 11
          },
          "tickmode": "array",
          "ticks": "inside",
          "ticktext": [
           "2",
           "4",
           "6",
           "8",
           "10"
          ],
          "tickvals": [
           2,
           4,
           6,
           8,
           10
          ],
          "title": "",
          "titlefont": {
           "color": "rgba(0, 0, 0, 1.000)",
           "family": "sans-serif",
           "size": 15
          },
          "type": "-",
          "visible": true,
          "zeroline": false,
          "zerolinecolor": "rgba(0, 0, 0, 1.000)"
         },
         "yaxis": {
          "gridcolor": "rgba(0, 0, 0, 0.100)",
          "gridwidth": 0.5,
          "linecolor": "rgba(0, 0, 0, 1.000)",
          "mirror": false,
          "range": [
           0.73,
           10.27
          ],
          "showgrid": true,
          "showline": true,
          "showticklabels": true,
          "tickangle": 0,
          "tickcolor": "rgb(0, 0, 0)",
          "tickfont": {
           "color": "rgba(0, 0, 0, 1.000)",
           "family": "sans-serif",
           "size": 11
          },
          "tickmode": "array",
          "ticks": "inside",
          "ticktext": [
           "2",
           "4",
           "6",
           "8",
           "10"
          ],
          "tickvals": [
           2,
           4,
           6,
           8,
           10
          ],
          "title": "",
          "titlefont": {
           "color": "rgba(0, 0, 0, 1.000)",
           "family": "sans-serif",
           "size": 15
          },
          "type": "-",
          "visible": true,
          "zeroline": false,
          "zerolinecolor": "rgba(0, 0, 0, 1.000)"
         },
         "zaxis": {
          "gridcolor": "rgba(0, 0, 0, 0.100)",
          "gridwidth": 0.5,
          "linecolor": "rgba(0, 0, 0, 1.000)",
          "mirror": false,
          "range": [
           0.73,
           10.27
          ],
          "showgrid": true,
          "showline": true,
          "showticklabels": true,
          "tickangle": 0,
          "tickcolor": "rgb(0, 0, 0)",
          "tickfont": {
           "color": "rgba(0, 0, 0, 1.000)",
           "family": "sans-serif",
           "size": 11
          },
          "tickmode": "array",
          "ticks": "inside",
          "ticktext": [
           "2",
           "4",
           "6",
           "8",
           "10"
          ],
          "tickvals": [
           2,
           4,
           6,
           8,
           10
          ],
          "title": "",
          "titlefont": {
           "color": "rgba(0, 0, 0, 1.000)",
           "family": "sans-serif",
           "size": 15
          },
          "type": "-",
          "visible": true,
          "zeroline": false,
          "zerolinecolor": "rgba(0, 0, 0, 1.000)"
         }
        },
        "showlegend": true,
        "width": 600
       }
      },
      "text/html": [
       "    <div id=\"e5f1e987-dede-463c-8aba-241fb8be0f4a\" style=\"width:600px;height:400px;\"></div>\n",
       "    <script>\n",
       "        requirejs.config({\n",
       "        paths: {\n",
       "            Plotly: 'https://cdn.plot.ly/plotly-1.57.1.min'\n",
       "        }\n",
       "    });\n",
       "    require(['Plotly'], function (Plotly) {\n",
       "\n",
       "        var PLOT = document.getElementById('e5f1e987-dede-463c-8aba-241fb8be0f4a');\n",
       "    Plotly.plot(PLOT, [\n",
       "    {\n",
       "        \"xaxis\": \"x\",\n",
       "        \"colorbar\": {\n",
       "            \"title\": \"\"\n",
       "        },\n",
       "        \"yaxis\": \"y\",\n",
       "        \"zaxis\": \"z\",\n",
       "        \"x\": [\n",
       "            1,\n",
       "            2,\n",
       "            3,\n",
       "            4,\n",
       "            5,\n",
       "            6,\n",
       "            7,\n",
       "            8,\n",
       "            9,\n",
       "            10\n",
       "        ],\n",
       "        \"showlegend\": true,\n",
       "        \"mode\": \"markers\",\n",
       "        \"name\": \"y1\",\n",
       "        \"zmin\": null,\n",
       "        \"legendgroup\": \"y1\",\n",
       "        \"z\": [\n",
       "            1,\n",
       "            2,\n",
       "            3,\n",
       "            4,\n",
       "            5,\n",
       "            6,\n",
       "            7,\n",
       "            8,\n",
       "            9,\n",
       "            10\n",
       "        ],\n",
       "        \"marker\": {\n",
       "            \"symbol\": \"circle\",\n",
       "            \"color\": \"rgba(0, 154, 250, 1.000)\",\n",
       "            \"line\": {\n",
       "                \"color\": \"rgba(0, 0, 0, 1.000)\",\n",
       "                \"width\": 1\n",
       "            },\n",
       "            \"size\": 8\n",
       "        },\n",
       "        \"zmax\": null,\n",
       "        \"y\": [\n",
       "            1,\n",
       "            2,\n",
       "            3,\n",
       "            4,\n",
       "            5,\n",
       "            6,\n",
       "            7,\n",
       "            8,\n",
       "            9,\n",
       "            10\n",
       "        ],\n",
       "        \"type\": \"scatter3d\",\n",
       "        \"scene\": \"scene\"\n",
       "    }\n",
       "]\n",
       ", {\n",
       "    \"showlegend\": true,\n",
       "    \"paper_bgcolor\": \"rgba(255, 255, 255, 1.000)\",\n",
       "    \"annotations\": [],\n",
       "    \"height\": 400,\n",
       "    \"margin\": {\n",
       "        \"l\": 0,\n",
       "        \"b\": 20,\n",
       "        \"r\": 0,\n",
       "        \"t\": 20\n",
       "    },\n",
       "    \"plot_bgcolor\": \"rgba(255, 255, 255, 1.000)\",\n",
       "    \"scene\": {\n",
       "        \"camera\": {\n",
       "            \"eye\": {\n",
       "                \"y\": -1.9499999999999997,\n",
       "                \"z\": 1.3,\n",
       "                \"x\": 1.12583302491977\n",
       "            }\n",
       "        },\n",
       "        \"xaxis\": {\n",
       "            \"tickangle\": 0,\n",
       "            \"showline\": true,\n",
       "            \"gridcolor\": \"rgba(0, 0, 0, 0.100)\",\n",
       "            \"showticklabels\": true,\n",
       "            \"gridwidth\": 0.5,\n",
       "            \"titlefont\": {\n",
       "                \"color\": \"rgba(0, 0, 0, 1.000)\",\n",
       "                \"family\": \"sans-serif\",\n",
       "                \"size\": 15\n",
       "            },\n",
       "            \"visible\": true,\n",
       "            \"ticks\": \"inside\",\n",
       "            \"range\": [\n",
       "                0.73,\n",
       "                10.27\n",
       "            ],\n",
       "            \"tickmode\": \"array\",\n",
       "            \"tickvals\": [\n",
       "                2.0,\n",
       "                4.0,\n",
       "                6.0,\n",
       "                8.0,\n",
       "                10.0\n",
       "            ],\n",
       "            \"tickcolor\": \"rgb(0, 0, 0)\",\n",
       "            \"ticktext\": [\n",
       "                \"2\",\n",
       "                \"4\",\n",
       "                \"6\",\n",
       "                \"8\",\n",
       "                \"10\"\n",
       "            ],\n",
       "            \"linecolor\": \"rgba(0, 0, 0, 1.000)\",\n",
       "            \"showgrid\": true,\n",
       "            \"zeroline\": false,\n",
       "            \"type\": \"-\",\n",
       "            \"tickfont\": {\n",
       "                \"color\": \"rgba(0, 0, 0, 1.000)\",\n",
       "                \"family\": \"sans-serif\",\n",
       "                \"size\": 11\n",
       "            },\n",
       "            \"title\": \"\",\n",
       "            \"zerolinecolor\": \"rgba(0, 0, 0, 1.000)\",\n",
       "            \"mirror\": false\n",
       "        },\n",
       "        \"domain\": {\n",
       "            \"y\": [\n",
       "                0.03762029746281716,\n",
       "                0.9901574803149606\n",
       "            ],\n",
       "            \"x\": [\n",
       "                0.03619130941965587,\n",
       "                0.9934383202099738\n",
       "            ]\n",
       "        },\n",
       "        \"yaxis\": {\n",
       "            \"tickangle\": 0,\n",
       "            \"showline\": true,\n",
       "            \"gridcolor\": \"rgba(0, 0, 0, 0.100)\",\n",
       "            \"showticklabels\": true,\n",
       "            \"gridwidth\": 0.5,\n",
       "            \"titlefont\": {\n",
       "                \"color\": \"rgba(0, 0, 0, 1.000)\",\n",
       "                \"family\": \"sans-serif\",\n",
       "                \"size\": 15\n",
       "            },\n",
       "            \"visible\": true,\n",
       "            \"ticks\": \"inside\",\n",
       "            \"range\": [\n",
       "                0.73,\n",
       "                10.27\n",
       "            ],\n",
       "            \"tickmode\": \"array\",\n",
       "            \"tickvals\": [\n",
       "                2.0,\n",
       "                4.0,\n",
       "                6.0,\n",
       "                8.0,\n",
       "                10.0\n",
       "            ],\n",
       "            \"tickcolor\": \"rgb(0, 0, 0)\",\n",
       "            \"ticktext\": [\n",
       "                \"2\",\n",
       "                \"4\",\n",
       "                \"6\",\n",
       "                \"8\",\n",
       "                \"10\"\n",
       "            ],\n",
       "            \"linecolor\": \"rgba(0, 0, 0, 1.000)\",\n",
       "            \"showgrid\": true,\n",
       "            \"zeroline\": false,\n",
       "            \"type\": \"-\",\n",
       "            \"tickfont\": {\n",
       "                \"color\": \"rgba(0, 0, 0, 1.000)\",\n",
       "                \"family\": \"sans-serif\",\n",
       "                \"size\": 11\n",
       "            },\n",
       "            \"title\": \"\",\n",
       "            \"zerolinecolor\": \"rgba(0, 0, 0, 1.000)\",\n",
       "            \"mirror\": false\n",
       "        },\n",
       "        \"zaxis\": {\n",
       "            \"tickangle\": 0,\n",
       "            \"showline\": true,\n",
       "            \"gridcolor\": \"rgba(0, 0, 0, 0.100)\",\n",
       "            \"showticklabels\": true,\n",
       "            \"gridwidth\": 0.5,\n",
       "            \"titlefont\": {\n",
       "                \"color\": \"rgba(0, 0, 0, 1.000)\",\n",
       "                \"family\": \"sans-serif\",\n",
       "                \"size\": 15\n",
       "            },\n",
       "            \"visible\": true,\n",
       "            \"ticks\": \"inside\",\n",
       "            \"range\": [\n",
       "                0.73,\n",
       "                10.27\n",
       "            ],\n",
       "            \"tickmode\": \"array\",\n",
       "            \"tickvals\": [\n",
       "                2.0,\n",
       "                4.0,\n",
       "                6.0,\n",
       "                8.0,\n",
       "                10.0\n",
       "            ],\n",
       "            \"tickcolor\": \"rgb(0, 0, 0)\",\n",
       "            \"ticktext\": [\n",
       "                \"2\",\n",
       "                \"4\",\n",
       "                \"6\",\n",
       "                \"8\",\n",
       "                \"10\"\n",
       "            ],\n",
       "            \"linecolor\": \"rgba(0, 0, 0, 1.000)\",\n",
       "            \"showgrid\": true,\n",
       "            \"zeroline\": false,\n",
       "            \"type\": \"-\",\n",
       "            \"tickfont\": {\n",
       "                \"color\": \"rgba(0, 0, 0, 1.000)\",\n",
       "                \"family\": \"sans-serif\",\n",
       "                \"size\": 11\n",
       "            },\n",
       "            \"title\": \"\",\n",
       "            \"zerolinecolor\": \"rgba(0, 0, 0, 1.000)\",\n",
       "            \"mirror\": false\n",
       "        }\n",
       "    },\n",
       "    \"legend\": {\n",
       "        \"yanchor\": \"auto\",\n",
       "        \"xanchor\": \"auto\",\n",
       "        \"bordercolor\": \"rgba(0, 0, 0, 1.000)\",\n",
       "        \"bgcolor\": \"rgba(255, 255, 255, 1.000)\",\n",
       "        \"borderwidth\": 1,\n",
       "        \"tracegroupgap\": 0,\n",
       "        \"y\": 1.0,\n",
       "        \"font\": {\n",
       "            \"color\": \"rgba(0, 0, 0, 1.000)\",\n",
       "            \"family\": \"sans-serif\",\n",
       "            \"size\": 11\n",
       "        },\n",
       "        \"title\": {\n",
       "            \"font\": {\n",
       "                \"color\": \"rgba(0, 0, 0, 1.000)\",\n",
       "                \"family\": \"sans-serif\",\n",
       "                \"size\": 15\n",
       "            },\n",
       "            \"text\": \"\"\n",
       "        },\n",
       "        \"traceorder\": \"normal\",\n",
       "        \"x\": 1.0\n",
       "    },\n",
       "    \"width\": 600\n",
       "}\n",
       ");\n",
       "\n",
       "    });\n",
       "    </script>\n"
      ]
     },
     "execution_count": 3,
     "metadata": {},
     "output_type": "execute_result"
    }
   ],
   "source": [
    "using Distributions\n",
    "using Plots\n",
    "plotlyjs()\n",
    "scatter(1:10,1:10,1:10)"
   ]
  },
  {
   "cell_type": "code",
   "execution_count": 302,
   "metadata": {},
   "outputs": [
    {
     "data": {
      "text/plain": [
       "PolygonalChain(Point[Point{Float64}(0.0, 0.0, 0.0), Point{Float64}(0.2114003107761841, 0.24152243072383986, 0.21374392516664267), Point{Float64}(0.4241059037871633, 0.4807169714616435, 0.4285104580845265), Point{Float64}(0.6392646249663022, 0.715536510115688, 0.6451988649180097), Point{Float64}(0.8577284367855696, 0.9444616244077055, 0.8644766054733913), Point{Float64}(1.0799506590077919, 1.1666838466299279, 1.0866988276956138), Point{Float64}(1.3059312916329688, 1.3822031767823546, 1.3118655315846763), Point{Float64}(1.5352170148982744, 1.5918280825727547, 1.5396215691956376), Point{Float64}(1.7669558663317395, 1.7970779862793953, 1.7692994807221982), Point{Float64}(2.0, 2.0, 2.0)])"
      ]
     },
     "execution_count": 302,
     "metadata": {},
     "output_type": "execute_result"
    }
   ],
   "source": [
    "P = helix(e0_l,Point(2.0,2.0,2.0),8,r=2e-2,nturn=2)"
   ]
  },
  {
   "cell_type": "code",
   "execution_count": 303,
   "metadata": {},
   "outputs": [
    {
     "data": {
      "application/vnd.plotly.v1+json": {
       "data": [
        {
         "colorbar": {
          "title": ""
         },
         "legendgroup": "y1",
         "marker": {
          "color": "rgba(0, 0, 4, 1.000)",
          "line": {
           "color": "rgba(0, 0, 0, 1.000)",
           "width": 1
          },
          "size": 6,
          "symbol": "circle"
         },
         "mode": "markers",
         "name": "y1",
         "scene": "scene",
         "showlegend": true,
         "type": "scatter3d",
         "x": [
          0
         ],
         "xaxis": "x",
         "y": [
          0
         ],
         "yaxis": "y",
         "z": [
          0
         ],
         "zaxis": "z",
         "zmax": 10,
         "zmin": 1
        },
        {
         "colorbar": {
          "title": ""
         },
         "legendgroup": "y1",
         "marker": {
          "color": "rgba(27, 12, 65, 1.000)",
          "line": {
           "color": "rgba(0, 0, 0, 1.000)",
           "width": 1
          },
          "size": 6,
          "symbol": "circle"
         },
         "mode": "markers",
         "name": "y1",
         "scene": "scene",
         "showlegend": false,
         "type": "scatter3d",
         "x": [
          0.2114003107761841
         ],
         "xaxis": "x",
         "y": [
          0.24152243072383986
         ],
         "yaxis": "y",
         "z": [
          0.21374392516664267
         ],
         "zaxis": "z",
         "zmax": 10,
         "zmin": 1
        },
        {
         "colorbar": {
          "title": ""
         },
         "legendgroup": "y1",
         "marker": {
          "color": "rgba(75, 12, 107, 1.000)",
          "line": {
           "color": "rgba(0, 0, 0, 1.000)",
           "width": 1
          },
          "size": 6,
          "symbol": "circle"
         },
         "mode": "markers",
         "name": "y1",
         "scene": "scene",
         "showlegend": false,
         "type": "scatter3d",
         "x": [
          0.4241059037871633
         ],
         "xaxis": "x",
         "y": [
          0.4807169714616435
         ],
         "yaxis": "y",
         "z": [
          0.4285104580845265
         ],
         "zaxis": "z",
         "zmax": 10,
         "zmin": 1
        },
        {
         "colorbar": {
          "title": ""
         },
         "legendgroup": "y1",
         "marker": {
          "color": "rgba(120, 28, 109, 1.000)",
          "line": {
           "color": "rgba(0, 0, 0, 1.000)",
           "width": 1
          },
          "size": 6,
          "symbol": "circle"
         },
         "mode": "markers",
         "name": "y1",
         "scene": "scene",
         "showlegend": false,
         "type": "scatter3d",
         "x": [
          0.6392646249663022
         ],
         "xaxis": "x",
         "y": [
          0.715536510115688
         ],
         "yaxis": "y",
         "z": [
          0.6451988649180097
         ],
         "zaxis": "z",
         "zmax": 10,
         "zmin": 1
        },
        {
         "colorbar": {
          "title": ""
         },
         "legendgroup": "y1",
         "marker": {
          "color": "rgba(165, 45, 96, 1.000)",
          "line": {
           "color": "rgba(0, 0, 0, 1.000)",
           "width": 1
          },
          "size": 6,
          "symbol": "circle"
         },
         "mode": "markers",
         "name": "y1",
         "scene": "scene",
         "showlegend": false,
         "type": "scatter3d",
         "x": [
          0.8577284367855696
         ],
         "xaxis": "x",
         "y": [
          0.9444616244077055
         ],
         "yaxis": "y",
         "z": [
          0.8644766054733913
         ],
         "zaxis": "z",
         "zmax": 10,
         "zmin": 1
        },
        {
         "colorbar": {
          "title": ""
         },
         "legendgroup": "y1",
         "marker": {
          "color": "rgba(207, 68, 70, 1.000)",
          "line": {
           "color": "rgba(0, 0, 0, 1.000)",
           "width": 1
          },
          "size": 6,
          "symbol": "circle"
         },
         "mode": "markers",
         "name": "y1",
         "scene": "scene",
         "showlegend": false,
         "type": "scatter3d",
         "x": [
          1.0799506590077919
         ],
         "xaxis": "x",
         "y": [
          1.1666838466299279
         ],
         "yaxis": "y",
         "z": [
          1.0866988276956138
         ],
         "zaxis": "z",
         "zmax": 10,
         "zmin": 1
        },
        {
         "colorbar": {
          "title": ""
         },
         "legendgroup": "y1",
         "marker": {
          "color": "rgba(237, 105, 37, 1.000)",
          "line": {
           "color": "rgba(0, 0, 0, 1.000)",
           "width": 1
          },
          "size": 6,
          "symbol": "circle"
         },
         "mode": "markers",
         "name": "y1",
         "scene": "scene",
         "showlegend": false,
         "type": "scatter3d",
         "x": [
          1.3059312916329688
         ],
         "xaxis": "x",
         "y": [
          1.3822031767823546
         ],
         "yaxis": "y",
         "z": [
          1.3118655315846763
         ],
         "zaxis": "z",
         "zmax": 10,
         "zmin": 1
        },
        {
         "colorbar": {
          "title": ""
         },
         "legendgroup": "y1",
         "marker": {
          "color": "rgba(251, 154, 6, 1.000)",
          "line": {
           "color": "rgba(0, 0, 0, 1.000)",
           "width": 1
          },
          "size": 6,
          "symbol": "circle"
         },
         "mode": "markers",
         "name": "y1",
         "scene": "scene",
         "showlegend": false,
         "type": "scatter3d",
         "x": [
          1.5352170148982744
         ],
         "xaxis": "x",
         "y": [
          1.5918280825727547
         ],
         "yaxis": "y",
         "z": [
          1.5396215691956376
         ],
         "zaxis": "z",
         "zmax": 10,
         "zmin": 1
        },
        {
         "colorbar": {
          "title": ""
         },
         "legendgroup": "y1",
         "marker": {
          "color": "rgba(247, 209, 60, 1.000)",
          "line": {
           "color": "rgba(0, 0, 0, 1.000)",
           "width": 1
          },
          "size": 6,
          "symbol": "circle"
         },
         "mode": "markers",
         "name": "y1",
         "scene": "scene",
         "showlegend": false,
         "type": "scatter3d",
         "x": [
          1.7669558663317395
         ],
         "xaxis": "x",
         "y": [
          1.7970779862793953
         ],
         "yaxis": "y",
         "z": [
          1.7692994807221982
         ],
         "zaxis": "z",
         "zmax": 10,
         "zmin": 1
        },
        {
         "colorbar": {
          "title": ""
         },
         "legendgroup": "y1",
         "marker": {
          "color": "rgba(252, 255, 164, 1.000)",
          "line": {
           "color": "rgba(0, 0, 0, 1.000)",
           "width": 1
          },
          "size": 6,
          "symbol": "circle"
         },
         "mode": "markers",
         "name": "y1",
         "scene": "scene",
         "showlegend": false,
         "type": "scatter3d",
         "x": [
          2
         ],
         "xaxis": "x",
         "y": [
          2
         ],
         "yaxis": "y",
         "z": [
          2
         ],
         "zaxis": "z",
         "zmax": 10,
         "zmin": 1
        },
        {
         "colorbar": {
          "title": ""
         },
         "hoverinfo": "none",
         "marker": {
          "cmax": 10,
          "cmin": 1,
          "color": [
           0.5
          ],
          "colorscale": [
           [
            0,
            "rgba(0, 0, 4, 1.000)"
           ],
           [
            0.00392156862745098,
            "rgba(1, 0, 5, 1.000)"
           ],
           [
            0.00784313725490196,
            "rgba(1, 1, 6, 1.000)"
           ],
           [
            0.011764705882352941,
            "rgba(1, 1, 8, 1.000)"
           ],
           [
            0.01568627450980392,
            "rgba(2, 1, 10, 1.000)"
           ],
           [
            0.0196078431372549,
            "rgba(2, 2, 12, 1.000)"
           ],
           [
            0.023529411764705882,
            "rgba(2, 2, 14, 1.000)"
           ],
           [
            0.027450980392156862,
            "rgba(3, 2, 16, 1.000)"
           ],
           [
            0.03137254901960784,
            "rgba(4, 3, 18, 1.000)"
           ],
           [
            0.03529411764705882,
            "rgba(4, 3, 20, 1.000)"
           ],
           [
            0.0392156862745098,
            "rgba(5, 4, 23, 1.000)"
           ],
           [
            0.043137254901960784,
            "rgba(6, 4, 25, 1.000)"
           ],
           [
            0.047058823529411764,
            "rgba(7, 5, 27, 1.000)"
           ],
           [
            0.050980392156862744,
            "rgba(8, 5, 29, 1.000)"
           ],
           [
            0.054901960784313725,
            "rgba(9, 6, 31, 1.000)"
           ],
           [
            0.058823529411764705,
            "rgba(10, 7, 34, 1.000)"
           ],
           [
            0.06274509803921569,
            "rgba(11, 7, 36, 1.000)"
           ],
           [
            0.06666666666666667,
            "rgba(12, 8, 38, 1.000)"
           ],
           [
            0.07058823529411765,
            "rgba(13, 8, 41, 1.000)"
           ],
           [
            0.07450980392156863,
            "rgba(14, 9, 43, 1.000)"
           ],
           [
            0.0784313725490196,
            "rgba(16, 9, 45, 1.000)"
           ],
           [
            0.08235294117647059,
            "rgba(17, 10, 48, 1.000)"
           ],
           [
            0.08627450980392157,
            "rgba(18, 10, 50, 1.000)"
           ],
           [
            0.09019607843137255,
            "rgba(20, 11, 52, 1.000)"
           ],
           [
            0.09411764705882353,
            "rgba(21, 11, 55, 1.000)"
           ],
           [
            0.09803921568627451,
            "rgba(22, 11, 57, 1.000)"
           ],
           [
            0.10196078431372549,
            "rgba(24, 12, 60, 1.000)"
           ],
           [
            0.10588235294117647,
            "rgba(25, 12, 62, 1.000)"
           ],
           [
            0.10980392156862745,
            "rgba(27, 12, 65, 1.000)"
           ],
           [
            0.11372549019607843,
            "rgba(28, 12, 67, 1.000)"
           ],
           [
            0.11764705882352941,
            "rgba(30, 12, 69, 1.000)"
           ],
           [
            0.12156862745098039,
            "rgba(31, 12, 72, 1.000)"
           ],
           [
            0.12549019607843137,
            "rgba(33, 12, 74, 1.000)"
           ],
           [
            0.12941176470588237,
            "rgba(35, 12, 76, 1.000)"
           ],
           [
            0.13333333333333333,
            "rgba(36, 12, 79, 1.000)"
           ],
           [
            0.13725490196078433,
            "rgba(38, 12, 81, 1.000)"
           ],
           [
            0.1411764705882353,
            "rgba(40, 11, 83, 1.000)"
           ],
           [
            0.1450980392156863,
            "rgba(41, 11, 85, 1.000)"
           ],
           [
            0.14901960784313725,
            "rgba(43, 11, 87, 1.000)"
           ],
           [
            0.15294117647058825,
            "rgba(45, 11, 89, 1.000)"
           ],
           [
            0.1568627450980392,
            "rgba(47, 10, 91, 1.000)"
           ],
           [
            0.1607843137254902,
            "rgba(49, 10, 92, 1.000)"
           ],
           [
            0.16470588235294117,
            "rgba(50, 10, 94, 1.000)"
           ],
           [
            0.16862745098039217,
            "rgba(52, 10, 95, 1.000)"
           ],
           [
            0.17254901960784313,
            "rgba(54, 9, 97, 1.000)"
           ],
           [
            0.17647058823529413,
            "rgba(56, 9, 98, 1.000)"
           ],
           [
            0.1803921568627451,
            "rgba(57, 9, 99, 1.000)"
           ],
           [
            0.1843137254901961,
            "rgba(59, 9, 100, 1.000)"
           ],
           [
            0.18823529411764706,
            "rgba(61, 9, 101, 1.000)"
           ],
           [
            0.19215686274509805,
            "rgba(62, 9, 102, 1.000)"
           ],
           [
            0.19607843137254902,
            "rgba(64, 10, 103, 1.000)"
           ],
           [
            0.2,
            "rgba(66, 10, 104, 1.000)"
           ],
           [
            0.20392156862745098,
            "rgba(68, 10, 104, 1.000)"
           ],
           [
            0.20784313725490197,
            "rgba(69, 10, 105, 1.000)"
           ],
           [
            0.21176470588235294,
            "rgba(71, 11, 106, 1.000)"
           ],
           [
            0.21568627450980393,
            "rgba(73, 11, 106, 1.000)"
           ],
           [
            0.2196078431372549,
            "rgba(74, 12, 107, 1.000)"
           ],
           [
            0.2235294117647059,
            "rgba(76, 12, 107, 1.000)"
           ],
           [
            0.22745098039215686,
            "rgba(77, 13, 108, 1.000)"
           ],
           [
            0.23137254901960785,
            "rgba(79, 13, 108, 1.000)"
           ],
           [
            0.23529411764705882,
            "rgba(81, 14, 108, 1.000)"
           ],
           [
            0.23921568627450981,
            "rgba(82, 14, 109, 1.000)"
           ],
           [
            0.24313725490196078,
            "rgba(84, 15, 109, 1.000)"
           ],
           [
            0.24705882352941178,
            "rgba(85, 15, 109, 1.000)"
           ],
           [
            0.25098039215686274,
            "rgba(87, 16, 110, 1.000)"
           ],
           [
            0.2549019607843137,
            "rgba(89, 16, 110, 1.000)"
           ],
           [
            0.25882352941176473,
            "rgba(90, 17, 110, 1.000)"
           ],
           [
            0.2627450980392157,
            "rgba(92, 18, 110, 1.000)"
           ],
           [
            0.26666666666666666,
            "rgba(93, 18, 110, 1.000)"
           ],
           [
            0.27058823529411763,
            "rgba(95, 19, 110, 1.000)"
           ],
           [
            0.27450980392156865,
            "rgba(97, 19, 110, 1.000)"
           ],
           [
            0.2784313725490196,
            "rgba(98, 20, 110, 1.000)"
           ],
           [
            0.2823529411764706,
            "rgba(100, 21, 110, 1.000)"
           ],
           [
            0.28627450980392155,
            "rgba(101, 21, 110, 1.000)"
           ],
           [
            0.2901960784313726,
            "rgba(103, 22, 110, 1.000)"
           ],
           [
            0.29411764705882354,
            "rgba(105, 22, 110, 1.000)"
           ],
           [
            0.2980392156862745,
            "rgba(106, 23, 110, 1.000)"
           ],
           [
            0.30196078431372547,
            "rgba(108, 24, 110, 1.000)"
           ],
           [
            0.3058823529411765,
            "rgba(109, 24, 110, 1.000)"
           ],
           [
            0.30980392156862746,
            "rgba(111, 25, 110, 1.000)"
           ],
           [
            0.3137254901960784,
            "rgba(113, 25, 110, 1.000)"
           ],
           [
            0.3176470588235294,
            "rgba(114, 26, 110, 1.000)"
           ],
           [
            0.3215686274509804,
            "rgba(116, 26, 110, 1.000)"
           ],
           [
            0.3254901960784314,
            "rgba(117, 27, 110, 1.000)"
           ],
           [
            0.32941176470588235,
            "rgba(119, 28, 109, 1.000)"
           ],
           [
            0.3333333333333333,
            "rgba(120, 28, 109, 1.000)"
           ],
           [
            0.33725490196078434,
            "rgba(122, 29, 109, 1.000)"
           ],
           [
            0.3411764705882353,
            "rgba(124, 29, 109, 1.000)"
           ],
           [
            0.34509803921568627,
            "rgba(125, 30, 109, 1.000)"
           ],
           [
            0.34901960784313724,
            "rgba(127, 30, 108, 1.000)"
           ],
           [
            0.35294117647058826,
            "rgba(128, 31, 108, 1.000)"
           ],
           [
            0.3568627450980392,
            "rgba(130, 32, 108, 1.000)"
           ],
           [
            0.3607843137254902,
            "rgba(132, 32, 107, 1.000)"
           ],
           [
            0.36470588235294116,
            "rgba(133, 33, 107, 1.000)"
           ],
           [
            0.3686274509803922,
            "rgba(135, 33, 107, 1.000)"
           ],
           [
            0.37254901960784315,
            "rgba(136, 34, 106, 1.000)"
           ],
           [
            0.3764705882352941,
            "rgba(138, 34, 106, 1.000)"
           ],
           [
            0.3803921568627451,
            "rgba(140, 35, 105, 1.000)"
           ],
           [
            0.3843137254901961,
            "rgba(141, 35, 105, 1.000)"
           ],
           [
            0.38823529411764707,
            "rgba(143, 36, 105, 1.000)"
           ],
           [
            0.39215686274509803,
            "rgba(144, 37, 104, 1.000)"
           ],
           [
            0.396078431372549,
            "rgba(146, 37, 104, 1.000)"
           ],
           [
            0.4,
            "rgba(147, 38, 103, 1.000)"
           ],
           [
            0.403921568627451,
            "rgba(149, 38, 103, 1.000)"
           ],
           [
            0.40784313725490196,
            "rgba(151, 39, 102, 1.000)"
           ],
           [
            0.4117647058823529,
            "rgba(152, 39, 102, 1.000)"
           ],
           [
            0.41568627450980394,
            "rgba(154, 40, 101, 1.000)"
           ],
           [
            0.4196078431372549,
            "rgba(155, 41, 100, 1.000)"
           ],
           [
            0.4235294117647059,
            "rgba(157, 41, 100, 1.000)"
           ],
           [
            0.42745098039215684,
            "rgba(159, 42, 99, 1.000)"
           ],
           [
            0.43137254901960786,
            "rgba(160, 42, 99, 1.000)"
           ],
           [
            0.43529411764705883,
            "rgba(162, 43, 98, 1.000)"
           ],
           [
            0.4392156862745098,
            "rgba(163, 44, 97, 1.000)"
           ],
           [
            0.44313725490196076,
            "rgba(165, 44, 96, 1.000)"
           ],
           [
            0.4470588235294118,
            "rgba(166, 45, 96, 1.000)"
           ],
           [
            0.45098039215686275,
            "rgba(168, 46, 95, 1.000)"
           ],
           [
            0.4549019607843137,
            "rgba(169, 46, 94, 1.000)"
           ],
           [
            0.4588235294117647,
            "rgba(171, 47, 94, 1.000)"
           ],
           [
            0.4627450980392157,
            "rgba(173, 48, 93, 1.000)"
           ],
           [
            0.4666666666666667,
            "rgba(174, 48, 92, 1.000)"
           ],
           [
            0.47058823529411764,
            "rgba(176, 49, 91, 1.000)"
           ],
           [
            0.4745098039215686,
            "rgba(177, 50, 90, 1.000)"
           ],
           [
            0.47843137254901963,
            "rgba(179, 50, 90, 1.000)"
           ],
           [
            0.4823529411764706,
            "rgba(180, 51, 89, 1.000)"
           ],
           [
            0.48627450980392156,
            "rgba(182, 52, 88, 1.000)"
           ],
           [
            0.49019607843137253,
            "rgba(183, 53, 87, 1.000)"
           ],
           [
            0.49411764705882355,
            "rgba(185, 53, 86, 1.000)"
           ],
           [
            0.4980392156862745,
            "rgba(186, 54, 85, 1.000)"
           ],
           [
            0.5019607843137255,
            "rgba(188, 55, 84, 1.000)"
           ],
           [
            0.5058823529411764,
            "rgba(189, 56, 83, 1.000)"
           ],
           [
            0.5098039215686274,
            "rgba(191, 57, 82, 1.000)"
           ],
           [
            0.5137254901960784,
            "rgba(192, 58, 81, 1.000)"
           ],
           [
            0.5176470588235295,
            "rgba(193, 58, 80, 1.000)"
           ],
           [
            0.5215686274509804,
            "rgba(195, 59, 79, 1.000)"
           ],
           [
            0.5254901960784314,
            "rgba(196, 60, 78, 1.000)"
           ],
           [
            0.5294117647058824,
            "rgba(198, 61, 77, 1.000)"
           ],
           [
            0.5333333333333333,
            "rgba(199, 62, 76, 1.000)"
           ],
           [
            0.5372549019607843,
            "rgba(200, 63, 75, 1.000)"
           ],
           [
            0.5411764705882353,
            "rgba(202, 64, 74, 1.000)"
           ],
           [
            0.5450980392156862,
            "rgba(203, 65, 73, 1.000)"
           ],
           [
            0.5490196078431373,
            "rgba(204, 66, 72, 1.000)"
           ],
           [
            0.5529411764705883,
            "rgba(206, 67, 71, 1.000)"
           ],
           [
            0.5568627450980392,
            "rgba(207, 68, 70, 1.000)"
           ],
           [
            0.5607843137254902,
            "rgba(208, 69, 69, 1.000)"
           ],
           [
            0.5647058823529412,
            "rgba(210, 70, 68, 1.000)"
           ],
           [
            0.5686274509803921,
            "rgba(211, 71, 67, 1.000)"
           ],
           [
            0.5725490196078431,
            "rgba(212, 72, 66, 1.000)"
           ],
           [
            0.5764705882352941,
            "rgba(213, 74, 65, 1.000)"
           ],
           [
            0.5803921568627451,
            "rgba(215, 75, 63, 1.000)"
           ],
           [
            0.5843137254901961,
            "rgba(216, 76, 62, 1.000)"
           ],
           [
            0.5882352941176471,
            "rgba(217, 77, 61, 1.000)"
           ],
           [
            0.592156862745098,
            "rgba(218, 78, 60, 1.000)"
           ],
           [
            0.596078431372549,
            "rgba(219, 80, 59, 1.000)"
           ],
           [
            0.6,
            "rgba(221, 81, 58, 1.000)"
           ],
           [
            0.6039215686274509,
            "rgba(222, 82, 56, 1.000)"
           ],
           [
            0.6078431372549019,
            "rgba(223, 83, 55, 1.000)"
           ],
           [
            0.611764705882353,
            "rgba(224, 85, 54, 1.000)"
           ],
           [
            0.615686274509804,
            "rgba(225, 86, 53, 1.000)"
           ],
           [
            0.6196078431372549,
            "rgba(226, 87, 52, 1.000)"
           ],
           [
            0.6235294117647059,
            "rgba(227, 89, 51, 1.000)"
           ],
           [
            0.6274509803921569,
            "rgba(228, 90, 49, 1.000)"
           ],
           [
            0.6313725490196078,
            "rgba(229, 92, 48, 1.000)"
           ],
           [
            0.6352941176470588,
            "rgba(230, 93, 47, 1.000)"
           ],
           [
            0.6392156862745098,
            "rgba(231, 94, 46, 1.000)"
           ],
           [
            0.6431372549019608,
            "rgba(232, 96, 45, 1.000)"
           ],
           [
            0.6470588235294118,
            "rgba(233, 97, 43, 1.000)"
           ],
           [
            0.6509803921568628,
            "rgba(234, 99, 42, 1.000)"
           ],
           [
            0.6549019607843137,
            "rgba(235, 100, 41, 1.000)"
           ],
           [
            0.6588235294117647,
            "rgba(235, 102, 40, 1.000)"
           ],
           [
            0.6627450980392157,
            "rgba(236, 103, 38, 1.000)"
           ],
           [
            0.6666666666666666,
            "rgba(237, 105, 37, 1.000)"
           ],
           [
            0.6705882352941176,
            "rgba(238, 106, 36, 1.000)"
           ],
           [
            0.6745098039215687,
            "rgba(239, 108, 35, 1.000)"
           ],
           [
            0.6784313725490196,
            "rgba(239, 110, 33, 1.000)"
           ],
           [
            0.6823529411764706,
            "rgba(240, 111, 32, 1.000)"
           ],
           [
            0.6862745098039216,
            "rgba(241, 113, 31, 1.000)"
           ],
           [
            0.6901960784313725,
            "rgba(241, 115, 29, 1.000)"
           ],
           [
            0.6941176470588235,
            "rgba(242, 116, 28, 1.000)"
           ],
           [
            0.6980392156862745,
            "rgba(243, 118, 27, 1.000)"
           ],
           [
            0.7019607843137254,
            "rgba(243, 120, 25, 1.000)"
           ],
           [
            0.7058823529411765,
            "rgba(244, 121, 24, 1.000)"
           ],
           [
            0.7098039215686275,
            "rgba(245, 123, 23, 1.000)"
           ],
           [
            0.7137254901960784,
            "rgba(245, 125, 21, 1.000)"
           ],
           [
            0.7176470588235294,
            "rgba(246, 126, 20, 1.000)"
           ],
           [
            0.7215686274509804,
            "rgba(246, 128, 19, 1.000)"
           ],
           [
            0.7254901960784313,
            "rgba(247, 130, 18, 1.000)"
           ],
           [
            0.7294117647058823,
            "rgba(247, 132, 16, 1.000)"
           ],
           [
            0.7333333333333333,
            "rgba(248, 133, 15, 1.000)"
           ],
           [
            0.7372549019607844,
            "rgba(248, 135, 14, 1.000)"
           ],
           [
            0.7411764705882353,
            "rgba(248, 137, 12, 1.000)"
           ],
           [
            0.7450980392156863,
            "rgba(249, 139, 11, 1.000)"
           ],
           [
            0.7490196078431373,
            "rgba(249, 140, 10, 1.000)"
           ],
           [
            0.7529411764705882,
            "rgba(249, 142, 9, 1.000)"
           ],
           [
            0.7568627450980392,
            "rgba(250, 144, 8, 1.000)"
           ],
           [
            0.7607843137254902,
            "rgba(250, 146, 7, 1.000)"
           ],
           [
            0.7647058823529411,
            "rgba(250, 148, 7, 1.000)"
           ],
           [
            0.7686274509803922,
            "rgba(251, 150, 6, 1.000)"
           ],
           [
            0.7725490196078432,
            "rgba(251, 151, 6, 1.000)"
           ],
           [
            0.7764705882352941,
            "rgba(251, 153, 6, 1.000)"
           ],
           [
            0.7803921568627451,
            "rgba(251, 155, 6, 1.000)"
           ],
           [
            0.7843137254901961,
            "rgba(251, 157, 7, 1.000)"
           ],
           [
            0.788235294117647,
            "rgba(252, 159, 7, 1.000)"
           ],
           [
            0.792156862745098,
            "rgba(252, 161, 8, 1.000)"
           ],
           [
            0.796078431372549,
            "rgba(252, 163, 9, 1.000)"
           ],
           [
            0.8,
            "rgba(252, 165, 10, 1.000)"
           ],
           [
            0.803921568627451,
            "rgba(252, 166, 12, 1.000)"
           ],
           [
            0.807843137254902,
            "rgba(252, 168, 13, 1.000)"
           ],
           [
            0.8117647058823529,
            "rgba(252, 170, 15, 1.000)"
           ],
           [
            0.8156862745098039,
            "rgba(252, 172, 17, 1.000)"
           ],
           [
            0.8196078431372549,
            "rgba(252, 174, 18, 1.000)"
           ],
           [
            0.8235294117647058,
            "rgba(252, 176, 20, 1.000)"
           ],
           [
            0.8274509803921568,
            "rgba(252, 178, 22, 1.000)"
           ],
           [
            0.8313725490196079,
            "rgba(252, 180, 24, 1.000)"
           ],
           [
            0.8352941176470589,
            "rgba(251, 182, 26, 1.000)"
           ],
           [
            0.8392156862745098,
            "rgba(251, 184, 29, 1.000)"
           ],
           [
            0.8431372549019608,
            "rgba(251, 186, 31, 1.000)"
           ],
           [
            0.8470588235294118,
            "rgba(251, 188, 33, 1.000)"
           ],
           [
            0.8509803921568627,
            "rgba(251, 190, 35, 1.000)"
           ],
           [
            0.8549019607843137,
            "rgba(250, 192, 38, 1.000)"
           ],
           [
            0.8588235294117647,
            "rgba(250, 194, 40, 1.000)"
           ],
           [
            0.8627450980392157,
            "rgba(250, 196, 42, 1.000)"
           ],
           [
            0.8666666666666667,
            "rgba(250, 198, 45, 1.000)"
           ],
           [
            0.8705882352941177,
            "rgba(249, 199, 47, 1.000)"
           ],
           [
            0.8745098039215686,
            "rgba(249, 201, 50, 1.000)"
           ],
           [
            0.8784313725490196,
            "rgba(249, 203, 53, 1.000)"
           ],
           [
            0.8823529411764706,
            "rgba(248, 205, 55, 1.000)"
           ],
           [
            0.8862745098039215,
            "rgba(248, 207, 58, 1.000)"
           ],
           [
            0.8901960784313725,
            "rgba(247, 209, 61, 1.000)"
           ],
           [
            0.8941176470588236,
            "rgba(247, 211, 64, 1.000)"
           ],
           [
            0.8980392156862745,
            "rgba(246, 213, 67, 1.000)"
           ],
           [
            0.9019607843137255,
            "rgba(246, 215, 70, 1.000)"
           ],
           [
            0.9058823529411765,
            "rgba(245, 217, 73, 1.000)"
           ],
           [
            0.9098039215686274,
            "rgba(245, 219, 76, 1.000)"
           ],
           [
            0.9137254901960784,
            "rgba(244, 221, 79, 1.000)"
           ],
           [
            0.9176470588235294,
            "rgba(244, 223, 83, 1.000)"
           ],
           [
            0.9215686274509803,
            "rgba(244, 225, 86, 1.000)"
           ],
           [
            0.9254901960784314,
            "rgba(243, 227, 90, 1.000)"
           ],
           [
            0.9294117647058824,
            "rgba(243, 229, 93, 1.000)"
           ],
           [
            0.9333333333333333,
            "rgba(242, 230, 97, 1.000)"
           ],
           [
            0.9372549019607843,
            "rgba(242, 232, 101, 1.000)"
           ],
           [
            0.9411764705882353,
            "rgba(242, 234, 105, 1.000)"
           ],
           [
            0.9450980392156862,
            "rgba(241, 236, 109, 1.000)"
           ],
           [
            0.9490196078431372,
            "rgba(241, 237, 113, 1.000)"
           ],
           [
            0.9529411764705882,
            "rgba(241, 239, 117, 1.000)"
           ],
           [
            0.9568627450980393,
            "rgba(241, 241, 121, 1.000)"
           ],
           [
            0.9607843137254902,
            "rgba(242, 242, 125, 1.000)"
           ],
           [
            0.9647058823529412,
            "rgba(242, 244, 130, 1.000)"
           ],
           [
            0.9686274509803922,
            "rgba(243, 245, 134, 1.000)"
           ],
           [
            0.9725490196078431,
            "rgba(243, 246, 138, 1.000)"
           ],
           [
            0.9764705882352941,
            "rgba(244, 248, 142, 1.000)"
           ],
           [
            0.9803921568627451,
            "rgba(245, 249, 146, 1.000)"
           ],
           [
            0.984313725490196,
            "rgba(246, 250, 150, 1.000)"
           ],
           [
            0.9882352941176471,
            "rgba(248, 251, 154, 1.000)"
           ],
           [
            0.9921568627450981,
            "rgba(249, 252, 157, 1.000)"
           ],
           [
            0.996078431372549,
            "rgba(250, 253, 161, 1.000)"
           ],
           [
            1,
            "rgba(252, 255, 164, 1.000)"
           ]
          ],
          "opacity": 1e-10,
          "showscale": true,
          "size": 1e-10
         },
         "mode": "markers",
         "name": "y1",
         "scene": "scene",
         "showlegend": false,
         "type": "scatter3d",
         "x": [
          0
         ],
         "xaxis": "x",
         "y": [
          0
         ],
         "yaxis": "y",
         "z": [
          0
         ],
         "zaxis": "z",
         "zmax": 10,
         "zmin": 1
        },
        {
         "colorbar": {
          "title": ""
         },
         "legendgroup": "y2",
         "line": {
          "color": "rgba(0, 0, 0, 1.000)",
          "dash": "solid",
          "shape": "linear",
          "width": 2
         },
         "mode": "lines",
         "name": "y2",
         "scene": "scene",
         "showlegend": true,
         "type": "scatter3d",
         "x": [
          0,
          0.2114003107761841,
          0.4241059037871633,
          0.6392646249663022,
          0.8577284367855696,
          1.0799506590077919,
          1.3059312916329688,
          1.5352170148982744,
          1.7669558663317395,
          2
         ],
         "xaxis": "x",
         "y": [
          0,
          0.24152243072383986,
          0.4807169714616435,
          0.715536510115688,
          0.9444616244077055,
          1.1666838466299279,
          1.3822031767823546,
          1.5918280825727547,
          1.7970779862793953,
          2
         ],
         "yaxis": "y",
         "z": [
          0,
          0.21374392516664267,
          0.4285104580845265,
          0.6451988649180097,
          0.8644766054733913,
          1.0866988276956138,
          1.3118655315846763,
          1.5396215691956376,
          1.7692994807221982,
          2
         ],
         "zaxis": "z",
         "zmax": 10,
         "zmin": 1
        }
       ],
       "layout": {
        "annotations": [],
        "height": 400,
        "legend": {
         "bgcolor": "rgba(255, 255, 255, 1.000)",
         "bordercolor": "rgba(0, 0, 0, 1.000)",
         "borderwidth": 1,
         "font": {
          "color": "rgba(0, 0, 0, 1.000)",
          "family": "sans-serif",
          "size": 11
         },
         "title": {
          "font": {
           "color": "rgba(0, 0, 0, 1.000)",
           "family": "sans-serif",
           "size": 15
          },
          "text": ""
         },
         "tracegroupgap": 0,
         "traceorder": "normal",
         "x": 1,
         "xanchor": "auto",
         "y": 1,
         "yanchor": "auto"
        },
        "margin": {
         "b": 20,
         "l": 0,
         "r": 0,
         "t": 20
        },
        "paper_bgcolor": "rgba(255, 255, 255, 1.000)",
        "plot_bgcolor": "rgba(255, 255, 255, 1.000)",
        "scene": {
         "camera": {
          "eye": {
           "x": 1.12583302491977,
           "y": -1.9499999999999997,
           "z": 1.3
          }
         },
         "domain": {
          "x": [
           0.07646908719743364,
           0.9934383202099737
          ],
          "y": [
           0.07581474190726165,
           0.9901574803149606
          ]
         },
         "xaxis": {
          "gridcolor": "rgba(0, 0, 0, 0.100)",
          "gridwidth": 0.5,
          "linecolor": "rgba(0, 0, 0, 1.000)",
          "mirror": false,
          "range": [
           -0.06,
           2.06
          ],
          "showgrid": true,
          "showline": true,
          "showticklabels": true,
          "tickangle": 0,
          "tickcolor": "rgb(0, 0, 0)",
          "tickfont": {
           "color": "rgba(0, 0, 0, 1.000)",
           "family": "sans-serif",
           "size": 11
          },
          "tickmode": "array",
          "ticks": "inside",
          "ticktext": [
           "0.0",
           "0.5",
           "1.0",
           "1.5",
           "2.0"
          ],
          "tickvals": [
           0,
           0.5,
           1,
           1.5,
           2
          ],
          "title": "x",
          "titlefont": {
           "color": "rgba(0, 0, 0, 1.000)",
           "family": "sans-serif",
           "size": 15
          },
          "type": "-",
          "visible": true,
          "zeroline": false,
          "zerolinecolor": "rgba(0, 0, 0, 1.000)"
         },
         "yaxis": {
          "gridcolor": "rgba(0, 0, 0, 0.100)",
          "gridwidth": 0.5,
          "linecolor": "rgba(0, 0, 0, 1.000)",
          "mirror": false,
          "range": [
           -0.06,
           2.06
          ],
          "showgrid": true,
          "showline": true,
          "showticklabels": true,
          "tickangle": 0,
          "tickcolor": "rgb(0, 0, 0)",
          "tickfont": {
           "color": "rgba(0, 0, 0, 1.000)",
           "family": "sans-serif",
           "size": 11
          },
          "tickmode": "array",
          "ticks": "inside",
          "ticktext": [
           "0.0",
           "0.5",
           "1.0",
           "1.5",
           "2.0"
          ],
          "tickvals": [
           0,
           0.5,
           1,
           1.5,
           2
          ],
          "title": "y",
          "titlefont": {
           "color": "rgba(0, 0, 0, 1.000)",
           "family": "sans-serif",
           "size": 15
          },
          "type": "-",
          "visible": true,
          "zeroline": false,
          "zerolinecolor": "rgba(0, 0, 0, 1.000)"
         },
         "zaxis": {
          "gridcolor": "rgba(0, 0, 0, 0.100)",
          "gridwidth": 0.5,
          "linecolor": "rgba(0, 0, 0, 1.000)",
          "mirror": false,
          "range": [
           -0.06,
           2.06
          ],
          "showgrid": true,
          "showline": true,
          "showticklabels": true,
          "tickangle": 0,
          "tickcolor": "rgb(0, 0, 0)",
          "tickfont": {
           "color": "rgba(0, 0, 0, 1.000)",
           "family": "sans-serif",
           "size": 11
          },
          "tickmode": "array",
          "ticks": "inside",
          "ticktext": [
           "0.0",
           "0.5",
           "1.0",
           "1.5",
           "2.0"
          ],
          "tickvals": [
           0,
           0.5,
           1,
           1.5,
           2
          ],
          "title": "z",
          "titlefont": {
           "color": "rgba(0, 0, 0, 1.000)",
           "family": "sans-serif",
           "size": 15
          },
          "type": "-",
          "visible": true,
          "zeroline": false,
          "zerolinecolor": "rgba(0, 0, 0, 1.000)"
         }
        },
        "showlegend": true,
        "width": 600
       }
      },
      "text/html": [
       "    <div id=\"bf25828e-76c0-4245-9f6a-692e99742c8b\" style=\"width:600px;height:400px;\"></div>\n",
       "    <script>\n",
       "        requirejs.config({\n",
       "        paths: {\n",
       "            Plotly: 'https://cdn.plot.ly/plotly-1.57.1.min'\n",
       "        }\n",
       "    });\n",
       "    require(['Plotly'], function (Plotly) {\n",
       "\n",
       "        var PLOT = document.getElementById('bf25828e-76c0-4245-9f6a-692e99742c8b');\n",
       "    Plotly.plot(PLOT, [\n",
       "    {\n",
       "        \"xaxis\": \"x\",\n",
       "        \"colorbar\": {\n",
       "            \"title\": \"\"\n",
       "        },\n",
       "        \"yaxis\": \"y\",\n",
       "        \"zaxis\": \"z\",\n",
       "        \"x\": [\n",
       "            0.0\n",
       "        ],\n",
       "        \"showlegend\": true,\n",
       "        \"mode\": \"markers\",\n",
       "        \"name\": \"y1\",\n",
       "        \"zmin\": 1.0,\n",
       "        \"legendgroup\": \"y1\",\n",
       "        \"z\": [\n",
       "            0.0\n",
       "        ],\n",
       "        \"marker\": {\n",
       "            \"symbol\": \"circle\",\n",
       "            \"color\": \"rgba(0, 0, 4, 1.000)\",\n",
       "            \"line\": {\n",
       "                \"color\": \"rgba(0, 0, 0, 1.000)\",\n",
       "                \"width\": 1\n",
       "            },\n",
       "            \"size\": 6\n",
       "        },\n",
       "        \"zmax\": 10.0,\n",
       "        \"y\": [\n",
       "            0.0\n",
       "        ],\n",
       "        \"type\": \"scatter3d\",\n",
       "        \"scene\": \"scene\"\n",
       "    },\n",
       "    {\n",
       "        \"xaxis\": \"x\",\n",
       "        \"colorbar\": {\n",
       "            \"title\": \"\"\n",
       "        },\n",
       "        \"yaxis\": \"y\",\n",
       "        \"zaxis\": \"z\",\n",
       "        \"x\": [\n",
       "            0.2114003107761841\n",
       "        ],\n",
       "        \"showlegend\": false,\n",
       "        \"mode\": \"markers\",\n",
       "        \"name\": \"y1\",\n",
       "        \"zmin\": 1.0,\n",
       "        \"legendgroup\": \"y1\",\n",
       "        \"z\": [\n",
       "            0.21374392516664267\n",
       "        ],\n",
       "        \"marker\": {\n",
       "            \"symbol\": \"circle\",\n",
       "            \"color\": \"rgba(27, 12, 65, 1.000)\",\n",
       "            \"line\": {\n",
       "                \"color\": \"rgba(0, 0, 0, 1.000)\",\n",
       "                \"width\": 1\n",
       "            },\n",
       "            \"size\": 6\n",
       "        },\n",
       "        \"zmax\": 10.0,\n",
       "        \"y\": [\n",
       "            0.24152243072383986\n",
       "        ],\n",
       "        \"type\": \"scatter3d\",\n",
       "        \"scene\": \"scene\"\n",
       "    },\n",
       "    {\n",
       "        \"xaxis\": \"x\",\n",
       "        \"colorbar\": {\n",
       "            \"title\": \"\"\n",
       "        },\n",
       "        \"yaxis\": \"y\",\n",
       "        \"zaxis\": \"z\",\n",
       "        \"x\": [\n",
       "            0.4241059037871633\n",
       "        ],\n",
       "        \"showlegend\": false,\n",
       "        \"mode\": \"markers\",\n",
       "        \"name\": \"y1\",\n",
       "        \"zmin\": 1.0,\n",
       "        \"legendgroup\": \"y1\",\n",
       "        \"z\": [\n",
       "            0.4285104580845265\n",
       "        ],\n",
       "        \"marker\": {\n",
       "            \"symbol\": \"circle\",\n",
       "            \"color\": \"rgba(75, 12, 107, 1.000)\",\n",
       "            \"line\": {\n",
       "                \"color\": \"rgba(0, 0, 0, 1.000)\",\n",
       "                \"width\": 1\n",
       "            },\n",
       "            \"size\": 6\n",
       "        },\n",
       "        \"zmax\": 10.0,\n",
       "        \"y\": [\n",
       "            0.4807169714616435\n",
       "        ],\n",
       "        \"type\": \"scatter3d\",\n",
       "        \"scene\": \"scene\"\n",
       "    },\n",
       "    {\n",
       "        \"xaxis\": \"x\",\n",
       "        \"colorbar\": {\n",
       "            \"title\": \"\"\n",
       "        },\n",
       "        \"yaxis\": \"y\",\n",
       "        \"zaxis\": \"z\",\n",
       "        \"x\": [\n",
       "            0.6392646249663022\n",
       "        ],\n",
       "        \"showlegend\": false,\n",
       "        \"mode\": \"markers\",\n",
       "        \"name\": \"y1\",\n",
       "        \"zmin\": 1.0,\n",
       "        \"legendgroup\": \"y1\",\n",
       "        \"z\": [\n",
       "            0.6451988649180097\n",
       "        ],\n",
       "        \"marker\": {\n",
       "            \"symbol\": \"circle\",\n",
       "            \"color\": \"rgba(120, 28, 109, 1.000)\",\n",
       "            \"line\": {\n",
       "                \"color\": \"rgba(0, 0, 0, 1.000)\",\n",
       "                \"width\": 1\n",
       "            },\n",
       "            \"size\": 6\n",
       "        },\n",
       "        \"zmax\": 10.0,\n",
       "        \"y\": [\n",
       "            0.715536510115688\n",
       "        ],\n",
       "        \"type\": \"scatter3d\",\n",
       "        \"scene\": \"scene\"\n",
       "    },\n",
       "    {\n",
       "        \"xaxis\": \"x\",\n",
       "        \"colorbar\": {\n",
       "            \"title\": \"\"\n",
       "        },\n",
       "        \"yaxis\": \"y\",\n",
       "        \"zaxis\": \"z\",\n",
       "        \"x\": [\n",
       "            0.8577284367855696\n",
       "        ],\n",
       "        \"showlegend\": false,\n",
       "        \"mode\": \"markers\",\n",
       "        \"name\": \"y1\",\n",
       "        \"zmin\": 1.0,\n",
       "        \"legendgroup\": \"y1\",\n",
       "        \"z\": [\n",
       "            0.8644766054733913\n",
       "        ],\n",
       "        \"marker\": {\n",
       "            \"symbol\": \"circle\",\n",
       "            \"color\": \"rgba(165, 45, 96, 1.000)\",\n",
       "            \"line\": {\n",
       "                \"color\": \"rgba(0, 0, 0, 1.000)\",\n",
       "                \"width\": 1\n",
       "            },\n",
       "            \"size\": 6\n",
       "        },\n",
       "        \"zmax\": 10.0,\n",
       "        \"y\": [\n",
       "            0.9444616244077055\n",
       "        ],\n",
       "        \"type\": \"scatter3d\",\n",
       "        \"scene\": \"scene\"\n",
       "    },\n",
       "    {\n",
       "        \"xaxis\": \"x\",\n",
       "        \"colorbar\": {\n",
       "            \"title\": \"\"\n",
       "        },\n",
       "        \"yaxis\": \"y\",\n",
       "        \"zaxis\": \"z\",\n",
       "        \"x\": [\n",
       "            1.0799506590077919\n",
       "        ],\n",
       "        \"showlegend\": false,\n",
       "        \"mode\": \"markers\",\n",
       "        \"name\": \"y1\",\n",
       "        \"zmin\": 1.0,\n",
       "        \"legendgroup\": \"y1\",\n",
       "        \"z\": [\n",
       "            1.0866988276956138\n",
       "        ],\n",
       "        \"marker\": {\n",
       "            \"symbol\": \"circle\",\n",
       "            \"color\": \"rgba(207, 68, 70, 1.000)\",\n",
       "            \"line\": {\n",
       "                \"color\": \"rgba(0, 0, 0, 1.000)\",\n",
       "                \"width\": 1\n",
       "            },\n",
       "            \"size\": 6\n",
       "        },\n",
       "        \"zmax\": 10.0,\n",
       "        \"y\": [\n",
       "            1.1666838466299279\n",
       "        ],\n",
       "        \"type\": \"scatter3d\",\n",
       "        \"scene\": \"scene\"\n",
       "    },\n",
       "    {\n",
       "        \"xaxis\": \"x\",\n",
       "        \"colorbar\": {\n",
       "            \"title\": \"\"\n",
       "        },\n",
       "        \"yaxis\": \"y\",\n",
       "        \"zaxis\": \"z\",\n",
       "        \"x\": [\n",
       "            1.3059312916329688\n",
       "        ],\n",
       "        \"showlegend\": false,\n",
       "        \"mode\": \"markers\",\n",
       "        \"name\": \"y1\",\n",
       "        \"zmin\": 1.0,\n",
       "        \"legendgroup\": \"y1\",\n",
       "        \"z\": [\n",
       "            1.3118655315846763\n",
       "        ],\n",
       "        \"marker\": {\n",
       "            \"symbol\": \"circle\",\n",
       "            \"color\": \"rgba(237, 105, 37, 1.000)\",\n",
       "            \"line\": {\n",
       "                \"color\": \"rgba(0, 0, 0, 1.000)\",\n",
       "                \"width\": 1\n",
       "            },\n",
       "            \"size\": 6\n",
       "        },\n",
       "        \"zmax\": 10.0,\n",
       "        \"y\": [\n",
       "            1.3822031767823546\n",
       "        ],\n",
       "        \"type\": \"scatter3d\",\n",
       "        \"scene\": \"scene\"\n",
       "    },\n",
       "    {\n",
       "        \"xaxis\": \"x\",\n",
       "        \"colorbar\": {\n",
       "            \"title\": \"\"\n",
       "        },\n",
       "        \"yaxis\": \"y\",\n",
       "        \"zaxis\": \"z\",\n",
       "        \"x\": [\n",
       "            1.5352170148982744\n",
       "        ],\n",
       "        \"showlegend\": false,\n",
       "        \"mode\": \"markers\",\n",
       "        \"name\": \"y1\",\n",
       "        \"zmin\": 1.0,\n",
       "        \"legendgroup\": \"y1\",\n",
       "        \"z\": [\n",
       "            1.5396215691956376\n",
       "        ],\n",
       "        \"marker\": {\n",
       "            \"symbol\": \"circle\",\n",
       "            \"color\": \"rgba(251, 154, 6, 1.000)\",\n",
       "            \"line\": {\n",
       "                \"color\": \"rgba(0, 0, 0, 1.000)\",\n",
       "                \"width\": 1\n",
       "            },\n",
       "            \"size\": 6\n",
       "        },\n",
       "        \"zmax\": 10.0,\n",
       "        \"y\": [\n",
       "            1.5918280825727547\n",
       "        ],\n",
       "        \"type\": \"scatter3d\",\n",
       "        \"scene\": \"scene\"\n",
       "    },\n",
       "    {\n",
       "        \"xaxis\": \"x\",\n",
       "        \"colorbar\": {\n",
       "            \"title\": \"\"\n",
       "        },\n",
       "        \"yaxis\": \"y\",\n",
       "        \"zaxis\": \"z\",\n",
       "        \"x\": [\n",
       "            1.7669558663317395\n",
       "        ],\n",
       "        \"showlegend\": false,\n",
       "        \"mode\": \"markers\",\n",
       "        \"name\": \"y1\",\n",
       "        \"zmin\": 1.0,\n",
       "        \"legendgroup\": \"y1\",\n",
       "        \"z\": [\n",
       "            1.7692994807221982\n",
       "        ],\n",
       "        \"marker\": {\n",
       "            \"symbol\": \"circle\",\n",
       "            \"color\": \"rgba(247, 209, 60, 1.000)\",\n",
       "            \"line\": {\n",
       "                \"color\": \"rgba(0, 0, 0, 1.000)\",\n",
       "                \"width\": 1\n",
       "            },\n",
       "            \"size\": 6\n",
       "        },\n",
       "        \"zmax\": 10.0,\n",
       "        \"y\": [\n",
       "            1.7970779862793953\n",
       "        ],\n",
       "        \"type\": \"scatter3d\",\n",
       "        \"scene\": \"scene\"\n",
       "    },\n",
       "    {\n",
       "        \"xaxis\": \"x\",\n",
       "        \"colorbar\": {\n",
       "            \"title\": \"\"\n",
       "        },\n",
       "        \"yaxis\": \"y\",\n",
       "        \"zaxis\": \"z\",\n",
       "        \"x\": [\n",
       "            2.0\n",
       "        ],\n",
       "        \"showlegend\": false,\n",
       "        \"mode\": \"markers\",\n",
       "        \"name\": \"y1\",\n",
       "        \"zmin\": 1.0,\n",
       "        \"legendgroup\": \"y1\",\n",
       "        \"z\": [\n",
       "            2.0\n",
       "        ],\n",
       "        \"marker\": {\n",
       "            \"symbol\": \"circle\",\n",
       "            \"color\": \"rgba(252, 255, 164, 1.000)\",\n",
       "            \"line\": {\n",
       "                \"color\": \"rgba(0, 0, 0, 1.000)\",\n",
       "                \"width\": 1\n",
       "            },\n",
       "            \"size\": 6\n",
       "        },\n",
       "        \"zmax\": 10.0,\n",
       "        \"y\": [\n",
       "            2.0\n",
       "        ],\n",
       "        \"type\": \"scatter3d\",\n",
       "        \"scene\": \"scene\"\n",
       "    },\n",
       "    {\n",
       "        \"xaxis\": \"x\",\n",
       "        \"colorbar\": {\n",
       "            \"title\": \"\"\n",
       "        },\n",
       "        \"yaxis\": \"y\",\n",
       "        \"zaxis\": \"z\",\n",
       "        \"x\": [\n",
       "            0.0\n",
       "        ],\n",
       "        \"showlegend\": false,\n",
       "        \"mode\": \"markers\",\n",
       "        \"name\": \"y1\",\n",
       "        \"zmin\": 1.0,\n",
       "        \"z\": [\n",
       "            0.0\n",
       "        ],\n",
       "        \"marker\": {\n",
       "            \"color\": [\n",
       "                0.5\n",
       "            ],\n",
       "            \"cmin\": 1.0,\n",
       "            \"opacity\": 1.0e-10,\n",
       "            \"size\": 1.0e-10,\n",
       "            \"colorscale\": [\n",
       "                [\n",
       "                    0.0,\n",
       "                    \"rgba(0, 0, 4, 1.000)\"\n",
       "                ],\n",
       "                [\n",
       "                    0.00392156862745098,\n",
       "                    \"rgba(1, 0, 5, 1.000)\"\n",
       "                ],\n",
       "                [\n",
       "                    0.00784313725490196,\n",
       "                    \"rgba(1, 1, 6, 1.000)\"\n",
       "                ],\n",
       "                [\n",
       "                    0.011764705882352941,\n",
       "                    \"rgba(1, 1, 8, 1.000)\"\n",
       "                ],\n",
       "                [\n",
       "                    0.01568627450980392,\n",
       "                    \"rgba(2, 1, 10, 1.000)\"\n",
       "                ],\n",
       "                [\n",
       "                    0.0196078431372549,\n",
       "                    \"rgba(2, 2, 12, 1.000)\"\n",
       "                ],\n",
       "                [\n",
       "                    0.023529411764705882,\n",
       "                    \"rgba(2, 2, 14, 1.000)\"\n",
       "                ],\n",
       "                [\n",
       "                    0.027450980392156862,\n",
       "                    \"rgba(3, 2, 16, 1.000)\"\n",
       "                ],\n",
       "                [\n",
       "                    0.03137254901960784,\n",
       "                    \"rgba(4, 3, 18, 1.000)\"\n",
       "                ],\n",
       "                [\n",
       "                    0.03529411764705882,\n",
       "                    \"rgba(4, 3, 20, 1.000)\"\n",
       "                ],\n",
       "                [\n",
       "                    0.0392156862745098,\n",
       "                    \"rgba(5, 4, 23, 1.000)\"\n",
       "                ],\n",
       "                [\n",
       "                    0.043137254901960784,\n",
       "                    \"rgba(6, 4, 25, 1.000)\"\n",
       "                ],\n",
       "                [\n",
       "                    0.047058823529411764,\n",
       "                    \"rgba(7, 5, 27, 1.000)\"\n",
       "                ],\n",
       "                [\n",
       "                    0.050980392156862744,\n",
       "                    \"rgba(8, 5, 29, 1.000)\"\n",
       "                ],\n",
       "                [\n",
       "                    0.054901960784313725,\n",
       "                    \"rgba(9, 6, 31, 1.000)\"\n",
       "                ],\n",
       "                [\n",
       "                    0.058823529411764705,\n",
       "                    \"rgba(10, 7, 34, 1.000)\"\n",
       "                ],\n",
       "                [\n",
       "                    0.06274509803921569,\n",
       "                    \"rgba(11, 7, 36, 1.000)\"\n",
       "                ],\n",
       "                [\n",
       "                    0.06666666666666667,\n",
       "                    \"rgba(12, 8, 38, 1.000)\"\n",
       "                ],\n",
       "                [\n",
       "                    0.07058823529411765,\n",
       "                    \"rgba(13, 8, 41, 1.000)\"\n",
       "                ],\n",
       "                [\n",
       "                    0.07450980392156863,\n",
       "                    \"rgba(14, 9, 43, 1.000)\"\n",
       "                ],\n",
       "                [\n",
       "                    0.0784313725490196,\n",
       "                    \"rgba(16, 9, 45, 1.000)\"\n",
       "                ],\n",
       "                [\n",
       "                    0.08235294117647059,\n",
       "                    \"rgba(17, 10, 48, 1.000)\"\n",
       "                ],\n",
       "                [\n",
       "                    0.08627450980392157,\n",
       "                    \"rgba(18, 10, 50, 1.000)\"\n",
       "                ],\n",
       "                [\n",
       "                    0.09019607843137255,\n",
       "                    \"rgba(20, 11, 52, 1.000)\"\n",
       "                ],\n",
       "                [\n",
       "                    0.09411764705882353,\n",
       "                    \"rgba(21, 11, 55, 1.000)\"\n",
       "                ],\n",
       "                [\n",
       "                    0.09803921568627451,\n",
       "                    \"rgba(22, 11, 57, 1.000)\"\n",
       "                ],\n",
       "                [\n",
       "                    0.10196078431372549,\n",
       "                    \"rgba(24, 12, 60, 1.000)\"\n",
       "                ],\n",
       "                [\n",
       "                    0.10588235294117647,\n",
       "                    \"rgba(25, 12, 62, 1.000)\"\n",
       "                ],\n",
       "                [\n",
       "                    0.10980392156862745,\n",
       "                    \"rgba(27, 12, 65, 1.000)\"\n",
       "                ],\n",
       "                [\n",
       "                    0.11372549019607843,\n",
       "                    \"rgba(28, 12, 67, 1.000)\"\n",
       "                ],\n",
       "                [\n",
       "                    0.11764705882352941,\n",
       "                    \"rgba(30, 12, 69, 1.000)\"\n",
       "                ],\n",
       "                [\n",
       "                    0.12156862745098039,\n",
       "                    \"rgba(31, 12, 72, 1.000)\"\n",
       "                ],\n",
       "                [\n",
       "                    0.12549019607843137,\n",
       "                    \"rgba(33, 12, 74, 1.000)\"\n",
       "                ],\n",
       "                [\n",
       "                    0.12941176470588237,\n",
       "                    \"rgba(35, 12, 76, 1.000)\"\n",
       "                ],\n",
       "                [\n",
       "                    0.13333333333333333,\n",
       "                    \"rgba(36, 12, 79, 1.000)\"\n",
       "                ],\n",
       "                [\n",
       "                    0.13725490196078433,\n",
       "                    \"rgba(38, 12, 81, 1.000)\"\n",
       "                ],\n",
       "                [\n",
       "                    0.1411764705882353,\n",
       "                    \"rgba(40, 11, 83, 1.000)\"\n",
       "                ],\n",
       "                [\n",
       "                    0.1450980392156863,\n",
       "                    \"rgba(41, 11, 85, 1.000)\"\n",
       "                ],\n",
       "                [\n",
       "                    0.14901960784313725,\n",
       "                    \"rgba(43, 11, 87, 1.000)\"\n",
       "                ],\n",
       "                [\n",
       "                    0.15294117647058825,\n",
       "                    \"rgba(45, 11, 89, 1.000)\"\n",
       "                ],\n",
       "                [\n",
       "                    0.1568627450980392,\n",
       "                    \"rgba(47, 10, 91, 1.000)\"\n",
       "                ],\n",
       "                [\n",
       "                    0.1607843137254902,\n",
       "                    \"rgba(49, 10, 92, 1.000)\"\n",
       "                ],\n",
       "                [\n",
       "                    0.16470588235294117,\n",
       "                    \"rgba(50, 10, 94, 1.000)\"\n",
       "                ],\n",
       "                [\n",
       "                    0.16862745098039217,\n",
       "                    \"rgba(52, 10, 95, 1.000)\"\n",
       "                ],\n",
       "                [\n",
       "                    0.17254901960784313,\n",
       "                    \"rgba(54, 9, 97, 1.000)\"\n",
       "                ],\n",
       "                [\n",
       "                    0.17647058823529413,\n",
       "                    \"rgba(56, 9, 98, 1.000)\"\n",
       "                ],\n",
       "                [\n",
       "                    0.1803921568627451,\n",
       "                    \"rgba(57, 9, 99, 1.000)\"\n",
       "                ],\n",
       "                [\n",
       "                    0.1843137254901961,\n",
       "                    \"rgba(59, 9, 100, 1.000)\"\n",
       "                ],\n",
       "                [\n",
       "                    0.18823529411764706,\n",
       "                    \"rgba(61, 9, 101, 1.000)\"\n",
       "                ],\n",
       "                [\n",
       "                    0.19215686274509805,\n",
       "                    \"rgba(62, 9, 102, 1.000)\"\n",
       "                ],\n",
       "                [\n",
       "                    0.19607843137254902,\n",
       "                    \"rgba(64, 10, 103, 1.000)\"\n",
       "                ],\n",
       "                [\n",
       "                    0.2,\n",
       "                    \"rgba(66, 10, 104, 1.000)\"\n",
       "                ],\n",
       "                [\n",
       "                    0.20392156862745098,\n",
       "                    \"rgba(68, 10, 104, 1.000)\"\n",
       "                ],\n",
       "                [\n",
       "                    0.20784313725490197,\n",
       "                    \"rgba(69, 10, 105, 1.000)\"\n",
       "                ],\n",
       "                [\n",
       "                    0.21176470588235294,\n",
       "                    \"rgba(71, 11, 106, 1.000)\"\n",
       "                ],\n",
       "                [\n",
       "                    0.21568627450980393,\n",
       "                    \"rgba(73, 11, 106, 1.000)\"\n",
       "                ],\n",
       "                [\n",
       "                    0.2196078431372549,\n",
       "                    \"rgba(74, 12, 107, 1.000)\"\n",
       "                ],\n",
       "                [\n",
       "                    0.2235294117647059,\n",
       "                    \"rgba(76, 12, 107, 1.000)\"\n",
       "                ],\n",
       "                [\n",
       "                    0.22745098039215686,\n",
       "                    \"rgba(77, 13, 108, 1.000)\"\n",
       "                ],\n",
       "                [\n",
       "                    0.23137254901960785,\n",
       "                    \"rgba(79, 13, 108, 1.000)\"\n",
       "                ],\n",
       "                [\n",
       "                    0.23529411764705882,\n",
       "                    \"rgba(81, 14, 108, 1.000)\"\n",
       "                ],\n",
       "                [\n",
       "                    0.23921568627450981,\n",
       "                    \"rgba(82, 14, 109, 1.000)\"\n",
       "                ],\n",
       "                [\n",
       "                    0.24313725490196078,\n",
       "                    \"rgba(84, 15, 109, 1.000)\"\n",
       "                ],\n",
       "                [\n",
       "                    0.24705882352941178,\n",
       "                    \"rgba(85, 15, 109, 1.000)\"\n",
       "                ],\n",
       "                [\n",
       "                    0.25098039215686274,\n",
       "                    \"rgba(87, 16, 110, 1.000)\"\n",
       "                ],\n",
       "                [\n",
       "                    0.2549019607843137,\n",
       "                    \"rgba(89, 16, 110, 1.000)\"\n",
       "                ],\n",
       "                [\n",
       "                    0.25882352941176473,\n",
       "                    \"rgba(90, 17, 110, 1.000)\"\n",
       "                ],\n",
       "                [\n",
       "                    0.2627450980392157,\n",
       "                    \"rgba(92, 18, 110, 1.000)\"\n",
       "                ],\n",
       "                [\n",
       "                    0.26666666666666666,\n",
       "                    \"rgba(93, 18, 110, 1.000)\"\n",
       "                ],\n",
       "                [\n",
       "                    0.27058823529411763,\n",
       "                    \"rgba(95, 19, 110, 1.000)\"\n",
       "                ],\n",
       "                [\n",
       "                    0.27450980392156865,\n",
       "                    \"rgba(97, 19, 110, 1.000)\"\n",
       "                ],\n",
       "                [\n",
       "                    0.2784313725490196,\n",
       "                    \"rgba(98, 20, 110, 1.000)\"\n",
       "                ],\n",
       "                [\n",
       "                    0.2823529411764706,\n",
       "                    \"rgba(100, 21, 110, 1.000)\"\n",
       "                ],\n",
       "                [\n",
       "                    0.28627450980392155,\n",
       "                    \"rgba(101, 21, 110, 1.000)\"\n",
       "                ],\n",
       "                [\n",
       "                    0.2901960784313726,\n",
       "                    \"rgba(103, 22, 110, 1.000)\"\n",
       "                ],\n",
       "                [\n",
       "                    0.29411764705882354,\n",
       "                    \"rgba(105, 22, 110, 1.000)\"\n",
       "                ],\n",
       "                [\n",
       "                    0.2980392156862745,\n",
       "                    \"rgba(106, 23, 110, 1.000)\"\n",
       "                ],\n",
       "                [\n",
       "                    0.30196078431372547,\n",
       "                    \"rgba(108, 24, 110, 1.000)\"\n",
       "                ],\n",
       "                [\n",
       "                    0.3058823529411765,\n",
       "                    \"rgba(109, 24, 110, 1.000)\"\n",
       "                ],\n",
       "                [\n",
       "                    0.30980392156862746,\n",
       "                    \"rgba(111, 25, 110, 1.000)\"\n",
       "                ],\n",
       "                [\n",
       "                    0.3137254901960784,\n",
       "                    \"rgba(113, 25, 110, 1.000)\"\n",
       "                ],\n",
       "                [\n",
       "                    0.3176470588235294,\n",
       "                    \"rgba(114, 26, 110, 1.000)\"\n",
       "                ],\n",
       "                [\n",
       "                    0.3215686274509804,\n",
       "                    \"rgba(116, 26, 110, 1.000)\"\n",
       "                ],\n",
       "                [\n",
       "                    0.3254901960784314,\n",
       "                    \"rgba(117, 27, 110, 1.000)\"\n",
       "                ],\n",
       "                [\n",
       "                    0.32941176470588235,\n",
       "                    \"rgba(119, 28, 109, 1.000)\"\n",
       "                ],\n",
       "                [\n",
       "                    0.3333333333333333,\n",
       "                    \"rgba(120, 28, 109, 1.000)\"\n",
       "                ],\n",
       "                [\n",
       "                    0.33725490196078434,\n",
       "                    \"rgba(122, 29, 109, 1.000)\"\n",
       "                ],\n",
       "                [\n",
       "                    0.3411764705882353,\n",
       "                    \"rgba(124, 29, 109, 1.000)\"\n",
       "                ],\n",
       "                [\n",
       "                    0.34509803921568627,\n",
       "                    \"rgba(125, 30, 109, 1.000)\"\n",
       "                ],\n",
       "                [\n",
       "                    0.34901960784313724,\n",
       "                    \"rgba(127, 30, 108, 1.000)\"\n",
       "                ],\n",
       "                [\n",
       "                    0.35294117647058826,\n",
       "                    \"rgba(128, 31, 108, 1.000)\"\n",
       "                ],\n",
       "                [\n",
       "                    0.3568627450980392,\n",
       "                    \"rgba(130, 32, 108, 1.000)\"\n",
       "                ],\n",
       "                [\n",
       "                    0.3607843137254902,\n",
       "                    \"rgba(132, 32, 107, 1.000)\"\n",
       "                ],\n",
       "                [\n",
       "                    0.36470588235294116,\n",
       "                    \"rgba(133, 33, 107, 1.000)\"\n",
       "                ],\n",
       "                [\n",
       "                    0.3686274509803922,\n",
       "                    \"rgba(135, 33, 107, 1.000)\"\n",
       "                ],\n",
       "                [\n",
       "                    0.37254901960784315,\n",
       "                    \"rgba(136, 34, 106, 1.000)\"\n",
       "                ],\n",
       "                [\n",
       "                    0.3764705882352941,\n",
       "                    \"rgba(138, 34, 106, 1.000)\"\n",
       "                ],\n",
       "                [\n",
       "                    0.3803921568627451,\n",
       "                    \"rgba(140, 35, 105, 1.000)\"\n",
       "                ],\n",
       "                [\n",
       "                    0.3843137254901961,\n",
       "                    \"rgba(141, 35, 105, 1.000)\"\n",
       "                ],\n",
       "                [\n",
       "                    0.38823529411764707,\n",
       "                    \"rgba(143, 36, 105, 1.000)\"\n",
       "                ],\n",
       "                [\n",
       "                    0.39215686274509803,\n",
       "                    \"rgba(144, 37, 104, 1.000)\"\n",
       "                ],\n",
       "                [\n",
       "                    0.396078431372549,\n",
       "                    \"rgba(146, 37, 104, 1.000)\"\n",
       "                ],\n",
       "                [\n",
       "                    0.4,\n",
       "                    \"rgba(147, 38, 103, 1.000)\"\n",
       "                ],\n",
       "                [\n",
       "                    0.403921568627451,\n",
       "                    \"rgba(149, 38, 103, 1.000)\"\n",
       "                ],\n",
       "                [\n",
       "                    0.40784313725490196,\n",
       "                    \"rgba(151, 39, 102, 1.000)\"\n",
       "                ],\n",
       "                [\n",
       "                    0.4117647058823529,\n",
       "                    \"rgba(152, 39, 102, 1.000)\"\n",
       "                ],\n",
       "                [\n",
       "                    0.41568627450980394,\n",
       "                    \"rgba(154, 40, 101, 1.000)\"\n",
       "                ],\n",
       "                [\n",
       "                    0.4196078431372549,\n",
       "                    \"rgba(155, 41, 100, 1.000)\"\n",
       "                ],\n",
       "                [\n",
       "                    0.4235294117647059,\n",
       "                    \"rgba(157, 41, 100, 1.000)\"\n",
       "                ],\n",
       "                [\n",
       "                    0.42745098039215684,\n",
       "                    \"rgba(159, 42, 99, 1.000)\"\n",
       "                ],\n",
       "                [\n",
       "                    0.43137254901960786,\n",
       "                    \"rgba(160, 42, 99, 1.000)\"\n",
       "                ],\n",
       "                [\n",
       "                    0.43529411764705883,\n",
       "                    \"rgba(162, 43, 98, 1.000)\"\n",
       "                ],\n",
       "                [\n",
       "                    0.4392156862745098,\n",
       "                    \"rgba(163, 44, 97, 1.000)\"\n",
       "                ],\n",
       "                [\n",
       "                    0.44313725490196076,\n",
       "                    \"rgba(165, 44, 96, 1.000)\"\n",
       "                ],\n",
       "                [\n",
       "                    0.4470588235294118,\n",
       "                    \"rgba(166, 45, 96, 1.000)\"\n",
       "                ],\n",
       "                [\n",
       "                    0.45098039215686275,\n",
       "                    \"rgba(168, 46, 95, 1.000)\"\n",
       "                ],\n",
       "                [\n",
       "                    0.4549019607843137,\n",
       "                    \"rgba(169, 46, 94, 1.000)\"\n",
       "                ],\n",
       "                [\n",
       "                    0.4588235294117647,\n",
       "                    \"rgba(171, 47, 94, 1.000)\"\n",
       "                ],\n",
       "                [\n",
       "                    0.4627450980392157,\n",
       "                    \"rgba(173, 48, 93, 1.000)\"\n",
       "                ],\n",
       "                [\n",
       "                    0.4666666666666667,\n",
       "                    \"rgba(174, 48, 92, 1.000)\"\n",
       "                ],\n",
       "                [\n",
       "                    0.47058823529411764,\n",
       "                    \"rgba(176, 49, 91, 1.000)\"\n",
       "                ],\n",
       "                [\n",
       "                    0.4745098039215686,\n",
       "                    \"rgba(177, 50, 90, 1.000)\"\n",
       "                ],\n",
       "                [\n",
       "                    0.47843137254901963,\n",
       "                    \"rgba(179, 50, 90, 1.000)\"\n",
       "                ],\n",
       "                [\n",
       "                    0.4823529411764706,\n",
       "                    \"rgba(180, 51, 89, 1.000)\"\n",
       "                ],\n",
       "                [\n",
       "                    0.48627450980392156,\n",
       "                    \"rgba(182, 52, 88, 1.000)\"\n",
       "                ],\n",
       "                [\n",
       "                    0.49019607843137253,\n",
       "                    \"rgba(183, 53, 87, 1.000)\"\n",
       "                ],\n",
       "                [\n",
       "                    0.49411764705882355,\n",
       "                    \"rgba(185, 53, 86, 1.000)\"\n",
       "                ],\n",
       "                [\n",
       "                    0.4980392156862745,\n",
       "                    \"rgba(186, 54, 85, 1.000)\"\n",
       "                ],\n",
       "                [\n",
       "                    0.5019607843137255,\n",
       "                    \"rgba(188, 55, 84, 1.000)\"\n",
       "                ],\n",
       "                [\n",
       "                    0.5058823529411764,\n",
       "                    \"rgba(189, 56, 83, 1.000)\"\n",
       "                ],\n",
       "                [\n",
       "                    0.5098039215686274,\n",
       "                    \"rgba(191, 57, 82, 1.000)\"\n",
       "                ],\n",
       "                [\n",
       "                    0.5137254901960784,\n",
       "                    \"rgba(192, 58, 81, 1.000)\"\n",
       "                ],\n",
       "                [\n",
       "                    0.5176470588235295,\n",
       "                    \"rgba(193, 58, 80, 1.000)\"\n",
       "                ],\n",
       "                [\n",
       "                    0.5215686274509804,\n",
       "                    \"rgba(195, 59, 79, 1.000)\"\n",
       "                ],\n",
       "                [\n",
       "                    0.5254901960784314,\n",
       "                    \"rgba(196, 60, 78, 1.000)\"\n",
       "                ],\n",
       "                [\n",
       "                    0.5294117647058824,\n",
       "                    \"rgba(198, 61, 77, 1.000)\"\n",
       "                ],\n",
       "                [\n",
       "                    0.5333333333333333,\n",
       "                    \"rgba(199, 62, 76, 1.000)\"\n",
       "                ],\n",
       "                [\n",
       "                    0.5372549019607843,\n",
       "                    \"rgba(200, 63, 75, 1.000)\"\n",
       "                ],\n",
       "                [\n",
       "                    0.5411764705882353,\n",
       "                    \"rgba(202, 64, 74, 1.000)\"\n",
       "                ],\n",
       "                [\n",
       "                    0.5450980392156862,\n",
       "                    \"rgba(203, 65, 73, 1.000)\"\n",
       "                ],\n",
       "                [\n",
       "                    0.5490196078431373,\n",
       "                    \"rgba(204, 66, 72, 1.000)\"\n",
       "                ],\n",
       "                [\n",
       "                    0.5529411764705883,\n",
       "                    \"rgba(206, 67, 71, 1.000)\"\n",
       "                ],\n",
       "                [\n",
       "                    0.5568627450980392,\n",
       "                    \"rgba(207, 68, 70, 1.000)\"\n",
       "                ],\n",
       "                [\n",
       "                    0.5607843137254902,\n",
       "                    \"rgba(208, 69, 69, 1.000)\"\n",
       "                ],\n",
       "                [\n",
       "                    0.5647058823529412,\n",
       "                    \"rgba(210, 70, 68, 1.000)\"\n",
       "                ],\n",
       "                [\n",
       "                    0.5686274509803921,\n",
       "                    \"rgba(211, 71, 67, 1.000)\"\n",
       "                ],\n",
       "                [\n",
       "                    0.5725490196078431,\n",
       "                    \"rgba(212, 72, 66, 1.000)\"\n",
       "                ],\n",
       "                [\n",
       "                    0.5764705882352941,\n",
       "                    \"rgba(213, 74, 65, 1.000)\"\n",
       "                ],\n",
       "                [\n",
       "                    0.5803921568627451,\n",
       "                    \"rgba(215, 75, 63, 1.000)\"\n",
       "                ],\n",
       "                [\n",
       "                    0.5843137254901961,\n",
       "                    \"rgba(216, 76, 62, 1.000)\"\n",
       "                ],\n",
       "                [\n",
       "                    0.5882352941176471,\n",
       "                    \"rgba(217, 77, 61, 1.000)\"\n",
       "                ],\n",
       "                [\n",
       "                    0.592156862745098,\n",
       "                    \"rgba(218, 78, 60, 1.000)\"\n",
       "                ],\n",
       "                [\n",
       "                    0.596078431372549,\n",
       "                    \"rgba(219, 80, 59, 1.000)\"\n",
       "                ],\n",
       "                [\n",
       "                    0.6,\n",
       "                    \"rgba(221, 81, 58, 1.000)\"\n",
       "                ],\n",
       "                [\n",
       "                    0.6039215686274509,\n",
       "                    \"rgba(222, 82, 56, 1.000)\"\n",
       "                ],\n",
       "                [\n",
       "                    0.6078431372549019,\n",
       "                    \"rgba(223, 83, 55, 1.000)\"\n",
       "                ],\n",
       "                [\n",
       "                    0.611764705882353,\n",
       "                    \"rgba(224, 85, 54, 1.000)\"\n",
       "                ],\n",
       "                [\n",
       "                    0.615686274509804,\n",
       "                    \"rgba(225, 86, 53, 1.000)\"\n",
       "                ],\n",
       "                [\n",
       "                    0.6196078431372549,\n",
       "                    \"rgba(226, 87, 52, 1.000)\"\n",
       "                ],\n",
       "                [\n",
       "                    0.6235294117647059,\n",
       "                    \"rgba(227, 89, 51, 1.000)\"\n",
       "                ],\n",
       "                [\n",
       "                    0.6274509803921569,\n",
       "                    \"rgba(228, 90, 49, 1.000)\"\n",
       "                ],\n",
       "                [\n",
       "                    0.6313725490196078,\n",
       "                    \"rgba(229, 92, 48, 1.000)\"\n",
       "                ],\n",
       "                [\n",
       "                    0.6352941176470588,\n",
       "                    \"rgba(230, 93, 47, 1.000)\"\n",
       "                ],\n",
       "                [\n",
       "                    0.6392156862745098,\n",
       "                    \"rgba(231, 94, 46, 1.000)\"\n",
       "                ],\n",
       "                [\n",
       "                    0.6431372549019608,\n",
       "                    \"rgba(232, 96, 45, 1.000)\"\n",
       "                ],\n",
       "                [\n",
       "                    0.6470588235294118,\n",
       "                    \"rgba(233, 97, 43, 1.000)\"\n",
       "                ],\n",
       "                [\n",
       "                    0.6509803921568628,\n",
       "                    \"rgba(234, 99, 42, 1.000)\"\n",
       "                ],\n",
       "                [\n",
       "                    0.6549019607843137,\n",
       "                    \"rgba(235, 100, 41, 1.000)\"\n",
       "                ],\n",
       "                [\n",
       "                    0.6588235294117647,\n",
       "                    \"rgba(235, 102, 40, 1.000)\"\n",
       "                ],\n",
       "                [\n",
       "                    0.6627450980392157,\n",
       "                    \"rgba(236, 103, 38, 1.000)\"\n",
       "                ],\n",
       "                [\n",
       "                    0.6666666666666666,\n",
       "                    \"rgba(237, 105, 37, 1.000)\"\n",
       "                ],\n",
       "                [\n",
       "                    0.6705882352941176,\n",
       "                    \"rgba(238, 106, 36, 1.000)\"\n",
       "                ],\n",
       "                [\n",
       "                    0.6745098039215687,\n",
       "                    \"rgba(239, 108, 35, 1.000)\"\n",
       "                ],\n",
       "                [\n",
       "                    0.6784313725490196,\n",
       "                    \"rgba(239, 110, 33, 1.000)\"\n",
       "                ],\n",
       "                [\n",
       "                    0.6823529411764706,\n",
       "                    \"rgba(240, 111, 32, 1.000)\"\n",
       "                ],\n",
       "                [\n",
       "                    0.6862745098039216,\n",
       "                    \"rgba(241, 113, 31, 1.000)\"\n",
       "                ],\n",
       "                [\n",
       "                    0.6901960784313725,\n",
       "                    \"rgba(241, 115, 29, 1.000)\"\n",
       "                ],\n",
       "                [\n",
       "                    0.6941176470588235,\n",
       "                    \"rgba(242, 116, 28, 1.000)\"\n",
       "                ],\n",
       "                [\n",
       "                    0.6980392156862745,\n",
       "                    \"rgba(243, 118, 27, 1.000)\"\n",
       "                ],\n",
       "                [\n",
       "                    0.7019607843137254,\n",
       "                    \"rgba(243, 120, 25, 1.000)\"\n",
       "                ],\n",
       "                [\n",
       "                    0.7058823529411765,\n",
       "                    \"rgba(244, 121, 24, 1.000)\"\n",
       "                ],\n",
       "                [\n",
       "                    0.7098039215686275,\n",
       "                    \"rgba(245, 123, 23, 1.000)\"\n",
       "                ],\n",
       "                [\n",
       "                    0.7137254901960784,\n",
       "                    \"rgba(245, 125, 21, 1.000)\"\n",
       "                ],\n",
       "                [\n",
       "                    0.7176470588235294,\n",
       "                    \"rgba(246, 126, 20, 1.000)\"\n",
       "                ],\n",
       "                [\n",
       "                    0.7215686274509804,\n",
       "                    \"rgba(246, 128, 19, 1.000)\"\n",
       "                ],\n",
       "                [\n",
       "                    0.7254901960784313,\n",
       "                    \"rgba(247, 130, 18, 1.000)\"\n",
       "                ],\n",
       "                [\n",
       "                    0.7294117647058823,\n",
       "                    \"rgba(247, 132, 16, 1.000)\"\n",
       "                ],\n",
       "                [\n",
       "                    0.7333333333333333,\n",
       "                    \"rgba(248, 133, 15, 1.000)\"\n",
       "                ],\n",
       "                [\n",
       "                    0.7372549019607844,\n",
       "                    \"rgba(248, 135, 14, 1.000)\"\n",
       "                ],\n",
       "                [\n",
       "                    0.7411764705882353,\n",
       "                    \"rgba(248, 137, 12, 1.000)\"\n",
       "                ],\n",
       "                [\n",
       "                    0.7450980392156863,\n",
       "                    \"rgba(249, 139, 11, 1.000)\"\n",
       "                ],\n",
       "                [\n",
       "                    0.7490196078431373,\n",
       "                    \"rgba(249, 140, 10, 1.000)\"\n",
       "                ],\n",
       "                [\n",
       "                    0.7529411764705882,\n",
       "                    \"rgba(249, 142, 9, 1.000)\"\n",
       "                ],\n",
       "                [\n",
       "                    0.7568627450980392,\n",
       "                    \"rgba(250, 144, 8, 1.000)\"\n",
       "                ],\n",
       "                [\n",
       "                    0.7607843137254902,\n",
       "                    \"rgba(250, 146, 7, 1.000)\"\n",
       "                ],\n",
       "                [\n",
       "                    0.7647058823529411,\n",
       "                    \"rgba(250, 148, 7, 1.000)\"\n",
       "                ],\n",
       "                [\n",
       "                    0.7686274509803922,\n",
       "                    \"rgba(251, 150, 6, 1.000)\"\n",
       "                ],\n",
       "                [\n",
       "                    0.7725490196078432,\n",
       "                    \"rgba(251, 151, 6, 1.000)\"\n",
       "                ],\n",
       "                [\n",
       "                    0.7764705882352941,\n",
       "                    \"rgba(251, 153, 6, 1.000)\"\n",
       "                ],\n",
       "                [\n",
       "                    0.7803921568627451,\n",
       "                    \"rgba(251, 155, 6, 1.000)\"\n",
       "                ],\n",
       "                [\n",
       "                    0.7843137254901961,\n",
       "                    \"rgba(251, 157, 7, 1.000)\"\n",
       "                ],\n",
       "                [\n",
       "                    0.788235294117647,\n",
       "                    \"rgba(252, 159, 7, 1.000)\"\n",
       "                ],\n",
       "                [\n",
       "                    0.792156862745098,\n",
       "                    \"rgba(252, 161, 8, 1.000)\"\n",
       "                ],\n",
       "                [\n",
       "                    0.796078431372549,\n",
       "                    \"rgba(252, 163, 9, 1.000)\"\n",
       "                ],\n",
       "                [\n",
       "                    0.8,\n",
       "                    \"rgba(252, 165, 10, 1.000)\"\n",
       "                ],\n",
       "                [\n",
       "                    0.803921568627451,\n",
       "                    \"rgba(252, 166, 12, 1.000)\"\n",
       "                ],\n",
       "                [\n",
       "                    0.807843137254902,\n",
       "                    \"rgba(252, 168, 13, 1.000)\"\n",
       "                ],\n",
       "                [\n",
       "                    0.8117647058823529,\n",
       "                    \"rgba(252, 170, 15, 1.000)\"\n",
       "                ],\n",
       "                [\n",
       "                    0.8156862745098039,\n",
       "                    \"rgba(252, 172, 17, 1.000)\"\n",
       "                ],\n",
       "                [\n",
       "                    0.8196078431372549,\n",
       "                    \"rgba(252, 174, 18, 1.000)\"\n",
       "                ],\n",
       "                [\n",
       "                    0.8235294117647058,\n",
       "                    \"rgba(252, 176, 20, 1.000)\"\n",
       "                ],\n",
       "                [\n",
       "                    0.8274509803921568,\n",
       "                    \"rgba(252, 178, 22, 1.000)\"\n",
       "                ],\n",
       "                [\n",
       "                    0.8313725490196079,\n",
       "                    \"rgba(252, 180, 24, 1.000)\"\n",
       "                ],\n",
       "                [\n",
       "                    0.8352941176470589,\n",
       "                    \"rgba(251, 182, 26, 1.000)\"\n",
       "                ],\n",
       "                [\n",
       "                    0.8392156862745098,\n",
       "                    \"rgba(251, 184, 29, 1.000)\"\n",
       "                ],\n",
       "                [\n",
       "                    0.8431372549019608,\n",
       "                    \"rgba(251, 186, 31, 1.000)\"\n",
       "                ],\n",
       "                [\n",
       "                    0.8470588235294118,\n",
       "                    \"rgba(251, 188, 33, 1.000)\"\n",
       "                ],\n",
       "                [\n",
       "                    0.8509803921568627,\n",
       "                    \"rgba(251, 190, 35, 1.000)\"\n",
       "                ],\n",
       "                [\n",
       "                    0.8549019607843137,\n",
       "                    \"rgba(250, 192, 38, 1.000)\"\n",
       "                ],\n",
       "                [\n",
       "                    0.8588235294117647,\n",
       "                    \"rgba(250, 194, 40, 1.000)\"\n",
       "                ],\n",
       "                [\n",
       "                    0.8627450980392157,\n",
       "                    \"rgba(250, 196, 42, 1.000)\"\n",
       "                ],\n",
       "                [\n",
       "                    0.8666666666666667,\n",
       "                    \"rgba(250, 198, 45, 1.000)\"\n",
       "                ],\n",
       "                [\n",
       "                    0.8705882352941177,\n",
       "                    \"rgba(249, 199, 47, 1.000)\"\n",
       "                ],\n",
       "                [\n",
       "                    0.8745098039215686,\n",
       "                    \"rgba(249, 201, 50, 1.000)\"\n",
       "                ],\n",
       "                [\n",
       "                    0.8784313725490196,\n",
       "                    \"rgba(249, 203, 53, 1.000)\"\n",
       "                ],\n",
       "                [\n",
       "                    0.8823529411764706,\n",
       "                    \"rgba(248, 205, 55, 1.000)\"\n",
       "                ],\n",
       "                [\n",
       "                    0.8862745098039215,\n",
       "                    \"rgba(248, 207, 58, 1.000)\"\n",
       "                ],\n",
       "                [\n",
       "                    0.8901960784313725,\n",
       "                    \"rgba(247, 209, 61, 1.000)\"\n",
       "                ],\n",
       "                [\n",
       "                    0.8941176470588236,\n",
       "                    \"rgba(247, 211, 64, 1.000)\"\n",
       "                ],\n",
       "                [\n",
       "                    0.8980392156862745,\n",
       "                    \"rgba(246, 213, 67, 1.000)\"\n",
       "                ],\n",
       "                [\n",
       "                    0.9019607843137255,\n",
       "                    \"rgba(246, 215, 70, 1.000)\"\n",
       "                ],\n",
       "                [\n",
       "                    0.9058823529411765,\n",
       "                    \"rgba(245, 217, 73, 1.000)\"\n",
       "                ],\n",
       "                [\n",
       "                    0.9098039215686274,\n",
       "                    \"rgba(245, 219, 76, 1.000)\"\n",
       "                ],\n",
       "                [\n",
       "                    0.9137254901960784,\n",
       "                    \"rgba(244, 221, 79, 1.000)\"\n",
       "                ],\n",
       "                [\n",
       "                    0.9176470588235294,\n",
       "                    \"rgba(244, 223, 83, 1.000)\"\n",
       "                ],\n",
       "                [\n",
       "                    0.9215686274509803,\n",
       "                    \"rgba(244, 225, 86, 1.000)\"\n",
       "                ],\n",
       "                [\n",
       "                    0.9254901960784314,\n",
       "                    \"rgba(243, 227, 90, 1.000)\"\n",
       "                ],\n",
       "                [\n",
       "                    0.9294117647058824,\n",
       "                    \"rgba(243, 229, 93, 1.000)\"\n",
       "                ],\n",
       "                [\n",
       "                    0.9333333333333333,\n",
       "                    \"rgba(242, 230, 97, 1.000)\"\n",
       "                ],\n",
       "                [\n",
       "                    0.9372549019607843,\n",
       "                    \"rgba(242, 232, 101, 1.000)\"\n",
       "                ],\n",
       "                [\n",
       "                    0.9411764705882353,\n",
       "                    \"rgba(242, 234, 105, 1.000)\"\n",
       "                ],\n",
       "                [\n",
       "                    0.9450980392156862,\n",
       "                    \"rgba(241, 236, 109, 1.000)\"\n",
       "                ],\n",
       "                [\n",
       "                    0.9490196078431372,\n",
       "                    \"rgba(241, 237, 113, 1.000)\"\n",
       "                ],\n",
       "                [\n",
       "                    0.9529411764705882,\n",
       "                    \"rgba(241, 239, 117, 1.000)\"\n",
       "                ],\n",
       "                [\n",
       "                    0.9568627450980393,\n",
       "                    \"rgba(241, 241, 121, 1.000)\"\n",
       "                ],\n",
       "                [\n",
       "                    0.9607843137254902,\n",
       "                    \"rgba(242, 242, 125, 1.000)\"\n",
       "                ],\n",
       "                [\n",
       "                    0.9647058823529412,\n",
       "                    \"rgba(242, 244, 130, 1.000)\"\n",
       "                ],\n",
       "                [\n",
       "                    0.9686274509803922,\n",
       "                    \"rgba(243, 245, 134, 1.000)\"\n",
       "                ],\n",
       "                [\n",
       "                    0.9725490196078431,\n",
       "                    \"rgba(243, 246, 138, 1.000)\"\n",
       "                ],\n",
       "                [\n",
       "                    0.9764705882352941,\n",
       "                    \"rgba(244, 248, 142, 1.000)\"\n",
       "                ],\n",
       "                [\n",
       "                    0.9803921568627451,\n",
       "                    \"rgba(245, 249, 146, 1.000)\"\n",
       "                ],\n",
       "                [\n",
       "                    0.984313725490196,\n",
       "                    \"rgba(246, 250, 150, 1.000)\"\n",
       "                ],\n",
       "                [\n",
       "                    0.9882352941176471,\n",
       "                    \"rgba(248, 251, 154, 1.000)\"\n",
       "                ],\n",
       "                [\n",
       "                    0.9921568627450981,\n",
       "                    \"rgba(249, 252, 157, 1.000)\"\n",
       "                ],\n",
       "                [\n",
       "                    0.996078431372549,\n",
       "                    \"rgba(250, 253, 161, 1.000)\"\n",
       "                ],\n",
       "                [\n",
       "                    1.0,\n",
       "                    \"rgba(252, 255, 164, 1.000)\"\n",
       "                ]\n",
       "            ],\n",
       "            \"cmax\": 10.0,\n",
       "            \"showscale\": true\n",
       "        },\n",
       "        \"zmax\": 10.0,\n",
       "        \"y\": [\n",
       "            0.0\n",
       "        ],\n",
       "        \"type\": \"scatter3d\",\n",
       "        \"scene\": \"scene\",\n",
       "        \"hoverinfo\": \"none\"\n",
       "    },\n",
       "    {\n",
       "        \"xaxis\": \"x\",\n",
       "        \"colorbar\": {\n",
       "            \"title\": \"\"\n",
       "        },\n",
       "        \"yaxis\": \"y\",\n",
       "        \"zaxis\": \"z\",\n",
       "        \"x\": [\n",
       "            0.0,\n",
       "            0.2114003107761841,\n",
       "            0.4241059037871633,\n",
       "            0.6392646249663022,\n",
       "            0.8577284367855696,\n",
       "            1.0799506590077919,\n",
       "            1.3059312916329688,\n",
       "            1.5352170148982744,\n",
       "            1.7669558663317395,\n",
       "            2.0\n",
       "        ],\n",
       "        \"showlegend\": true,\n",
       "        \"mode\": \"lines\",\n",
       "        \"name\": \"y2\",\n",
       "        \"zmin\": 1.0,\n",
       "        \"legendgroup\": \"y2\",\n",
       "        \"z\": [\n",
       "            0.0,\n",
       "            0.21374392516664267,\n",
       "            0.4285104580845265,\n",
       "            0.6451988649180097,\n",
       "            0.8644766054733913,\n",
       "            1.0866988276956138,\n",
       "            1.3118655315846763,\n",
       "            1.5396215691956376,\n",
       "            1.7692994807221982,\n",
       "            2.0\n",
       "        ],\n",
       "        \"zmax\": 10.0,\n",
       "        \"line\": {\n",
       "            \"color\": \"rgba(0, 0, 0, 1.000)\",\n",
       "            \"shape\": \"linear\",\n",
       "            \"dash\": \"solid\",\n",
       "            \"width\": 2\n",
       "        },\n",
       "        \"y\": [\n",
       "            0.0,\n",
       "            0.24152243072383986,\n",
       "            0.4807169714616435,\n",
       "            0.715536510115688,\n",
       "            0.9444616244077055,\n",
       "            1.1666838466299279,\n",
       "            1.3822031767823546,\n",
       "            1.5918280825727547,\n",
       "            1.7970779862793953,\n",
       "            2.0\n",
       "        ],\n",
       "        \"type\": \"scatter3d\",\n",
       "        \"scene\": \"scene\"\n",
       "    }\n",
       "]\n",
       ", {\n",
       "    \"showlegend\": true,\n",
       "    \"paper_bgcolor\": \"rgba(255, 255, 255, 1.000)\",\n",
       "    \"annotations\": [],\n",
       "    \"height\": 400,\n",
       "    \"margin\": {\n",
       "        \"l\": 0,\n",
       "        \"b\": 20,\n",
       "        \"r\": 0,\n",
       "        \"t\": 20\n",
       "    },\n",
       "    \"plot_bgcolor\": \"rgba(255, 255, 255, 1.000)\",\n",
       "    \"scene\": {\n",
       "        \"camera\": {\n",
       "            \"eye\": {\n",
       "                \"y\": -1.9499999999999997,\n",
       "                \"z\": 1.3,\n",
       "                \"x\": 1.12583302491977\n",
       "            }\n",
       "        },\n",
       "        \"xaxis\": {\n",
       "            \"tickangle\": 0,\n",
       "            \"showline\": true,\n",
       "            \"gridcolor\": \"rgba(0, 0, 0, 0.100)\",\n",
       "            \"showticklabels\": true,\n",
       "            \"gridwidth\": 0.5,\n",
       "            \"titlefont\": {\n",
       "                \"color\": \"rgba(0, 0, 0, 1.000)\",\n",
       "                \"family\": \"sans-serif\",\n",
       "                \"size\": 15\n",
       "            },\n",
       "            \"visible\": true,\n",
       "            \"ticks\": \"inside\",\n",
       "            \"range\": [\n",
       "                -0.06,\n",
       "                2.06\n",
       "            ],\n",
       "            \"tickmode\": \"array\",\n",
       "            \"tickvals\": [\n",
       "                0.0,\n",
       "                0.5,\n",
       "                1.0,\n",
       "                1.5,\n",
       "                2.0\n",
       "            ],\n",
       "            \"tickcolor\": \"rgb(0, 0, 0)\",\n",
       "            \"ticktext\": [\n",
       "                \"0.0\",\n",
       "                \"0.5\",\n",
       "                \"1.0\",\n",
       "                \"1.5\",\n",
       "                \"2.0\"\n",
       "            ],\n",
       "            \"linecolor\": \"rgba(0, 0, 0, 1.000)\",\n",
       "            \"showgrid\": true,\n",
       "            \"zeroline\": false,\n",
       "            \"type\": \"-\",\n",
       "            \"tickfont\": {\n",
       "                \"color\": \"rgba(0, 0, 0, 1.000)\",\n",
       "                \"family\": \"sans-serif\",\n",
       "                \"size\": 11\n",
       "            },\n",
       "            \"title\": \"x\",\n",
       "            \"zerolinecolor\": \"rgba(0, 0, 0, 1.000)\",\n",
       "            \"mirror\": false\n",
       "        },\n",
       "        \"domain\": {\n",
       "            \"y\": [\n",
       "                0.07581474190726165,\n",
       "                0.9901574803149606\n",
       "            ],\n",
       "            \"x\": [\n",
       "                0.07646908719743364,\n",
       "                0.9934383202099737\n",
       "            ]\n",
       "        },\n",
       "        \"yaxis\": {\n",
       "            \"tickangle\": 0,\n",
       "            \"showline\": true,\n",
       "            \"gridcolor\": \"rgba(0, 0, 0, 0.100)\",\n",
       "            \"showticklabels\": true,\n",
       "            \"gridwidth\": 0.5,\n",
       "            \"titlefont\": {\n",
       "                \"color\": \"rgba(0, 0, 0, 1.000)\",\n",
       "                \"family\": \"sans-serif\",\n",
       "                \"size\": 15\n",
       "            },\n",
       "            \"visible\": true,\n",
       "            \"ticks\": \"inside\",\n",
       "            \"range\": [\n",
       "                -0.06,\n",
       "                2.06\n",
       "            ],\n",
       "            \"tickmode\": \"array\",\n",
       "            \"tickvals\": [\n",
       "                0.0,\n",
       "                0.5,\n",
       "                1.0,\n",
       "                1.5,\n",
       "                2.0\n",
       "            ],\n",
       "            \"tickcolor\": \"rgb(0, 0, 0)\",\n",
       "            \"ticktext\": [\n",
       "                \"0.0\",\n",
       "                \"0.5\",\n",
       "                \"1.0\",\n",
       "                \"1.5\",\n",
       "                \"2.0\"\n",
       "            ],\n",
       "            \"linecolor\": \"rgba(0, 0, 0, 1.000)\",\n",
       "            \"showgrid\": true,\n",
       "            \"zeroline\": false,\n",
       "            \"type\": \"-\",\n",
       "            \"tickfont\": {\n",
       "                \"color\": \"rgba(0, 0, 0, 1.000)\",\n",
       "                \"family\": \"sans-serif\",\n",
       "                \"size\": 11\n",
       "            },\n",
       "            \"title\": \"y\",\n",
       "            \"zerolinecolor\": \"rgba(0, 0, 0, 1.000)\",\n",
       "            \"mirror\": false\n",
       "        },\n",
       "        \"zaxis\": {\n",
       "            \"tickangle\": 0,\n",
       "            \"showline\": true,\n",
       "            \"gridcolor\": \"rgba(0, 0, 0, 0.100)\",\n",
       "            \"showticklabels\": true,\n",
       "            \"gridwidth\": 0.5,\n",
       "            \"titlefont\": {\n",
       "                \"color\": \"rgba(0, 0, 0, 1.000)\",\n",
       "                \"family\": \"sans-serif\",\n",
       "                \"size\": 15\n",
       "            },\n",
       "            \"visible\": true,\n",
       "            \"ticks\": \"inside\",\n",
       "            \"range\": [\n",
       "                -0.06,\n",
       "                2.06\n",
       "            ],\n",
       "            \"tickmode\": \"array\",\n",
       "            \"tickvals\": [\n",
       "                0.0,\n",
       "                0.5,\n",
       "                1.0,\n",
       "                1.5,\n",
       "                2.0\n",
       "            ],\n",
       "            \"tickcolor\": \"rgb(0, 0, 0)\",\n",
       "            \"ticktext\": [\n",
       "                \"0.0\",\n",
       "                \"0.5\",\n",
       "                \"1.0\",\n",
       "                \"1.5\",\n",
       "                \"2.0\"\n",
       "            ],\n",
       "            \"linecolor\": \"rgba(0, 0, 0, 1.000)\",\n",
       "            \"showgrid\": true,\n",
       "            \"zeroline\": false,\n",
       "            \"type\": \"-\",\n",
       "            \"tickfont\": {\n",
       "                \"color\": \"rgba(0, 0, 0, 1.000)\",\n",
       "                \"family\": \"sans-serif\",\n",
       "                \"size\": 11\n",
       "            },\n",
       "            \"title\": \"z\",\n",
       "            \"zerolinecolor\": \"rgba(0, 0, 0, 1.000)\",\n",
       "            \"mirror\": false\n",
       "        }\n",
       "    },\n",
       "    \"legend\": {\n",
       "        \"yanchor\": \"auto\",\n",
       "        \"xanchor\": \"auto\",\n",
       "        \"bordercolor\": \"rgba(0, 0, 0, 1.000)\",\n",
       "        \"bgcolor\": \"rgba(255, 255, 255, 1.000)\",\n",
       "        \"borderwidth\": 1,\n",
       "        \"tracegroupgap\": 0,\n",
       "        \"y\": 1.0,\n",
       "        \"font\": {\n",
       "            \"color\": \"rgba(0, 0, 0, 1.000)\",\n",
       "            \"family\": \"sans-serif\",\n",
       "            \"size\": 11\n",
       "        },\n",
       "        \"title\": {\n",
       "            \"font\": {\n",
       "                \"color\": \"rgba(0, 0, 0, 1.000)\",\n",
       "                \"family\": \"sans-serif\",\n",
       "                \"size\": 15\n",
       "            },\n",
       "            \"text\": \"\"\n",
       "        },\n",
       "        \"traceorder\": \"normal\",\n",
       "        \"x\": 1.0\n",
       "    },\n",
       "    \"width\": 600\n",
       "}\n",
       ");\n",
       "\n",
       "    });\n",
       "    </script>\n"
      ]
     },
     "metadata": {},
     "output_type": "display_data"
    }
   ],
   "source": [
    "p = plot()\n",
    "plotChainSeries!(P)\n",
    "display(p)"
   ]
  },
  {
   "cell_type": "code",
   "execution_count": 304,
   "metadata": {},
   "outputs": [],
   "source": [
    "P = knittingNeedle(2.3)\n",
    "P = PolygonalChain([Point(Float64,p) for p in P.vertices]);"
   ]
  },
  {
   "cell_type": "code",
   "execution_count": 305,
   "metadata": {},
   "outputs": [],
   "source": [
    "Q = helixify(P,4,r=1e-2);"
   ]
  },
  {
   "cell_type": "code",
   "execution_count": 306,
   "metadata": {},
   "outputs": [
    {
     "data": {
      "application/vnd.plotly.v1+json": {
       "data": [
        {
         "colorbar": {
          "title": ""
         },
         "legendgroup": "y1",
         "marker": {
          "color": "rgba(0, 0, 4, 1.000)",
          "line": {
           "color": "rgba(0, 0, 0, 1.000)",
           "width": 1
          },
          "size": 6,
          "symbol": "circle"
         },
         "mode": "markers",
         "name": "y1",
         "scene": "scene",
         "showlegend": true,
         "type": "scatter3d",
         "x": [
          1.5526213032779128
         ],
         "xaxis": "x",
         "y": [
          -0.5350808688519418
         ],
         "yaxis": "y",
         "z": [
          -0.4785840873111373
         ],
         "zaxis": "z",
         "zmax": 26,
         "zmin": 1
        },
        {
         "colorbar": {
          "title": ""
         },
         "legendgroup": "y1",
         "marker": {
          "color": "rgba(5, 4, 23, 1.000)",
          "line": {
           "color": "rgba(0, 0, 0, 1.000)",
           "width": 1
          },
          "size": 6,
          "symbol": "circle"
         },
         "mode": "markers",
         "name": "y1",
         "scene": "scene",
         "showlegend": false,
         "type": "scatter3d",
         "x": [
          1.2496823750679207
         ],
         "xaxis": "x",
         "y": [
          -0.31687511516643774
         ],
         "yaxis": "y",
         "z": [
          -0.20951714426812765
         ],
         "zaxis": "z",
         "zmax": 26,
         "zmin": 1
        },
        {
         "colorbar": {
          "title": ""
         },
         "legendgroup": "y1",
         "marker": {
          "color": "rgba(16, 10, 46, 1.000)",
          "line": {
           "color": "rgba(0, 0, 0, 1.000)",
           "width": 1
          },
          "size": 6,
          "symbol": "circle"
         },
         "mode": "markers",
         "name": "y1",
         "scene": "scene",
         "showlegend": false,
         "type": "scatter3d",
         "x": [
          0.9438461076796804
         ],
         "xaxis": "x",
         "y": [
          -0.10294340068867475
         ],
         "yaxis": "y",
         "z": [
          0.05949439658204654
         ],
         "zaxis": "z",
         "zmax": 26,
         "zmin": 1
        },
        {
         "colorbar": {
          "title": ""
         },
         "legendgroup": "y1",
         "marker": {
          "color": "rgba(31, 12, 71, 1.000)",
          "line": {
           "color": "rgba(0, 0, 0, 1.000)",
           "width": 1
          },
          "size": 6,
          "symbol": "circle"
         },
         "mode": "markers",
         "name": "y1",
         "scene": "scene",
         "showlegend": false,
         "type": "scatter3d",
         "x": [
          0.6333218470240979
         ],
         "xaxis": "x",
         "y": [
          0.10407277308171359
         ],
         "yaxis": "y",
         "z": [
          0.3284162948011616
         ],
         "zaxis": "z",
         "zmax": 26,
         "zmin": 1
        },
        {
         "colorbar": {
          "title": ""
         },
         "legendgroup": "y1",
         "marker": {
          "color": "rgba(48, 10, 92, 1.000)",
          "line": {
           "color": "rgba(0, 0, 0, 1.000)",
           "width": 1
          },
          "size": 6,
          "symbol": "circle"
         },
         "mode": "markers",
         "name": "y1",
         "scene": "scene",
         "showlegend": false,
         "type": "scatter3d",
         "x": [
          0.3181095931011729
         ],
         "xaxis": "x",
         "y": [
          0.3041734061447273
         ],
         "yaxis": "y",
         "z": [
          0.597248550389218
         ],
         "zaxis": "z",
         "zmax": 26,
         "zmin": 1
        },
        {
         "colorbar": {
          "title": ""
         },
         "legendgroup": "y1",
         "marker": {
          "color": "rgba(66, 10, 104, 1.000)",
          "line": {
           "color": "rgba(0, 0, 0, 1.000)",
           "width": 1
          },
          "size": 6,
          "symbol": "circle"
         },
         "mode": "markers",
         "name": "y1",
         "scene": "scene",
         "showlegend": false,
         "type": "scatter3d",
         "x": [
          0
         ],
         "xaxis": "x",
         "y": [
          0.49999999999999994
         ],
         "yaxis": "y",
         "z": [
          0.8660254037844387
         ],
         "zaxis": "z",
         "zmax": 26,
         "zmin": 1
        },
        {
         "colorbar": {
          "title": ""
         },
         "legendgroup": "y1",
         "marker": {
          "color": "rgba(83, 14, 109, 1.000)",
          "line": {
           "color": "rgba(0, 0, 0, 1.000)",
           "width": 1
          },
          "size": 6,
          "symbol": "circle"
         },
         "mode": "markers",
         "name": "y1",
         "scene": "scene",
         "showlegend": false,
         "type": "scatter3d",
         "x": [
          -0.005808679712996439
         ],
         "xaxis": "x",
         "y": [
          0.4007786479980114
         ],
         "yaxis": "y",
         "z": [
          0.692370770396295
         ],
         "zaxis": "z",
         "zmax": 26,
         "zmin": 1
        },
        {
         "colorbar": {
          "title": ""
         },
         "legendgroup": "y1",
         "marker": {
          "color": "rgba(99, 20, 110, 1.000)",
          "line": {
           "color": "rgba(0, 0, 0, 1.000)",
           "width": 1
          },
          "size": 6,
          "symbol": "circle"
         },
         "mode": "markers",
         "name": "y1",
         "scene": "scene",
         "showlegend": false,
         "type": "scatter3d",
         "x": [
          -0.009398641205390223
         ],
         "xaxis": "x",
         "y": [
          0.30125987892605444
         ],
         "yaxis": "y",
         "z": [
          0.5188878508335594
         ],
         "zaxis": "z",
         "zmax": 26,
         "zmin": 1
        },
        {
         "colorbar": {
          "title": ""
         },
         "legendgroup": "y1",
         "marker": {
          "color": "rgba(115, 26, 110, 1.000)",
          "line": {
           "color": "rgba(0, 0, 0, 1.000)",
           "width": 1
          },
          "size": 6,
          "symbol": "circle"
         },
         "mode": "markers",
         "name": "y1",
         "scene": "scene",
         "showlegend": false,
         "type": "scatter3d",
         "x": [
          -0.009398641205390223
         ],
         "xaxis": "x",
         "y": [
          0.20125987892605454
         ],
         "yaxis": "y",
         "z": [
          0.34568277007667153
         ],
         "zaxis": "z",
         "zmax": 26,
         "zmin": 1
        },
        {
         "colorbar": {
          "title": ""
         },
         "legendgroup": "y1",
         "marker": {
          "color": "rgba(131, 32, 107, 1.000)",
          "line": {
           "color": "rgba(0, 0, 0, 1.000)",
           "width": 1
          },
          "size": 6,
          "symbol": "circle"
         },
         "mode": "markers",
         "name": "y1",
         "scene": "scene",
         "showlegend": false,
         "type": "scatter3d",
         "x": [
          -0.00580867971299644
         ],
         "xaxis": "x",
         "y": [
          0.1007786479980114
         ],
         "yaxis": "y",
         "z": [
          0.17275552812563183
         ],
         "zaxis": "z",
         "zmax": 26,
         "zmin": 1
        },
        {
         "colorbar": {
          "title": ""
         },
         "legendgroup": "y1",
         "marker": {
          "color": "rgba(147, 38, 103, 1.000)",
          "line": {
           "color": "rgba(0, 0, 0, 1.000)",
           "width": 1
          },
          "size": 6,
          "symbol": "circle"
         },
         "mode": "markers",
         "name": "y1",
         "scene": "scene",
         "showlegend": false,
         "type": "scatter3d",
         "x": [
          0
         ],
         "xaxis": "x",
         "y": [
          0
         ],
         "yaxis": "y",
         "z": [
          0
         ],
         "zaxis": "z",
         "zmax": 26,
         "zmin": 1
        },
        {
         "colorbar": {
          "title": ""
         },
         "legendgroup": "y1",
         "marker": {
          "color": "rgba(164, 44, 97, 1.000)",
          "line": {
           "color": "rgba(0, 0, 0, 1.000)",
           "width": 1
          },
          "size": 6,
          "symbol": "circle"
         },
         "mode": "markers",
         "name": "y1",
         "scene": "scene",
         "showlegend": false,
         "type": "scatter3d",
         "x": [
          0.2
         ],
         "xaxis": "x",
         "y": [
          -0.0035260768141268358
         ],
         "yaxis": "y",
         "z": [
          -0.004702757976138021
         ],
         "zaxis": "z",
         "zmax": 26,
         "zmin": 1
        },
        {
         "colorbar": {
          "title": ""
         },
         "legendgroup": "y1",
         "marker": {
          "color": "rgba(179, 51, 89, 1.000)",
          "line": {
           "color": "rgba(0, 0, 0, 1.000)",
           "width": 1
          },
          "size": 6,
          "symbol": "circle"
         },
         "mode": "markers",
         "name": "y1",
         "scene": "scene",
         "showlegend": false,
         "type": "scatter3d",
         "x": [
          0.4
         ],
         "xaxis": "x",
         "y": [
          -0.0057053121322001655
         ],
         "yaxis": "y",
         "z": [
          -0.007609222246255986
         ],
         "zaxis": "z",
         "zmax": 26,
         "zmin": 1
        },
        {
         "colorbar": {
          "title": ""
         },
         "legendgroup": "y1",
         "marker": {
          "color": "rgba(194, 59, 80, 1.000)",
          "line": {
           "color": "rgba(0, 0, 0, 1.000)",
           "width": 1
          },
          "size": 6,
          "symbol": "circle"
         },
         "mode": "markers",
         "name": "y1",
         "scene": "scene",
         "showlegend": false,
         "type": "scatter3d",
         "x": [
          0.6
         ],
         "xaxis": "x",
         "y": [
          -0.0057053121322001655
         ],
         "yaxis": "y",
         "z": [
          -0.007609222246255986
         ],
         "zaxis": "z",
         "zmax": 26,
         "zmin": 1
        },
        {
         "colorbar": {
          "title": ""
         },
         "legendgroup": "y1",
         "marker": {
          "color": "rgba(208, 69, 69, 1.000)",
          "line": {
           "color": "rgba(0, 0, 0, 1.000)",
           "width": 1
          },
          "size": 6,
          "symbol": "circle"
         },
         "mode": "markers",
         "name": "y1",
         "scene": "scene",
         "showlegend": false,
         "type": "scatter3d",
         "x": [
          0.8
         ],
         "xaxis": "x",
         "y": [
          -0.003526076814126836
         ],
         "yaxis": "y",
         "z": [
          -0.004702757976138022
         ],
         "zaxis": "z",
         "zmax": 26,
         "zmin": 1
        },
        {
         "colorbar": {
          "title": ""
         },
         "legendgroup": "y1",
         "marker": {
          "color": "rgba(221, 81, 58, 1.000)",
          "line": {
           "color": "rgba(0, 0, 0, 1.000)",
           "width": 1
          },
          "size": 6,
          "symbol": "circle"
         },
         "mode": "markers",
         "name": "y1",
         "scene": "scene",
         "showlegend": false,
         "type": "scatter3d",
         "x": [
          1
         ],
         "xaxis": "x",
         "y": [
          0
         ],
         "yaxis": "y",
         "z": [
          0
         ],
         "zaxis": "z",
         "zmax": 26,
         "zmin": 1
        },
        {
         "colorbar": {
          "title": ""
         },
         "legendgroup": "y1",
         "marker": {
          "color": "rgba(231, 95, 45, 1.000)",
          "line": {
           "color": "rgba(0, 0, 0, 1.000)",
           "width": 1
          },
          "size": 6,
          "symbol": "circle"
         },
         "mode": "markers",
         "name": "y1",
         "scene": "scene",
         "showlegend": false,
         "type": "scatter3d",
         "x": [
          0.9959154149753885
         ],
         "xaxis": "x",
         "y": [
          0.004226738158198573
         ],
         "yaxis": "y",
         "z": [
          0.2
         ],
         "zaxis": "z",
         "zmax": 26,
         "zmin": 1
        },
        {
         "colorbar": {
          "title": ""
         },
         "legendgroup": "y1",
         "marker": {
          "color": "rgba(240, 110, 33, 1.000)",
          "line": {
           "color": "rgba(0, 0, 0, 1.000)",
           "width": 1
          },
          "size": 6,
          "symbol": "circle"
         },
         "mode": "markers",
         "name": "y1",
         "scene": "scene",
         "showlegend": false,
         "type": "scatter3d",
         "x": [
          0.9933910026002397
         ],
         "xaxis": "x",
         "y": [
          0.006839006001511421
         ],
         "yaxis": "y",
         "z": [
          0.4
         ],
         "zaxis": "z",
         "zmax": 26,
         "zmin": 1
        },
        {
         "colorbar": {
          "title": ""
         },
         "legendgroup": "y1",
         "marker": {
          "color": "rgba(246, 127, 19, 1.000)",
          "line": {
           "color": "rgba(0, 0, 0, 1.000)",
           "width": 1
          },
          "size": 6,
          "symbol": "circle"
         },
         "mode": "markers",
         "name": "y1",
         "scene": "scene",
         "showlegend": false,
         "type": "scatter3d",
         "x": [
          0.9933910026002397
         ],
         "xaxis": "x",
         "y": [
          0.006839006001511421
         ],
         "yaxis": "y",
         "z": [
          0.6
         ],
         "zaxis": "z",
         "zmax": 26,
         "zmin": 1
        },
        {
         "colorbar": {
          "title": ""
         },
         "legendgroup": "y1",
         "marker": {
          "color": "rgba(250, 146, 7, 1.000)",
          "line": {
           "color": "rgba(0, 0, 0, 1.000)",
           "width": 1
          },
          "size": 6,
          "symbol": "circle"
         },
         "mode": "markers",
         "name": "y1",
         "scene": "scene",
         "showlegend": false,
         "type": "scatter3d",
         "x": [
          0.9959154149753885
         ],
         "xaxis": "x",
         "y": [
          0.004226738158198573
         ],
         "yaxis": "y",
         "z": [
          0.8
         ],
         "zaxis": "z",
         "zmax": 26,
         "zmin": 1
        },
        {
         "colorbar": {
          "title": ""
         },
         "legendgroup": "y1",
         "marker": {
          "color": "rgba(252, 165, 10, 1.000)",
          "line": {
           "color": "rgba(0, 0, 0, 1.000)",
           "width": 1
          },
          "size": 6,
          "symbol": "circle"
         },
         "mode": "markers",
         "name": "y1",
         "scene": "scene",
         "showlegend": false,
         "type": "scatter3d",
         "x": [
          1
         ],
         "xaxis": "x",
         "y": [
          0
         ],
         "yaxis": "y",
         "z": [
          1
         ],
         "zaxis": "z",
         "zmax": 26,
         "zmin": 1
        },
        {
         "colorbar": {
          "title": ""
         },
         "legendgroup": "y1",
         "marker": {
          "color": "rgba(251, 184, 29, 1.000)",
          "line": {
           "color": "rgba(0, 0, 0, 1.000)",
           "width": 1
          },
          "size": 6,
          "symbol": "circle"
         },
         "mode": "markers",
         "name": "y1",
         "scene": "scene",
         "showlegend": false,
         "type": "scatter3d",
         "x": [
          0.6674557214152825
         ],
         "xaxis": "x",
         "y": [
          0.05025064922666137
         ],
         "yaxis": "y",
         "z": [
          0.6858790996481502
         ],
         "zaxis": "z",
         "zmax": 26,
         "zmin": 1
        },
        {
         "colorbar": {
          "title": ""
         },
         "legendgroup": "y1",
         "marker": {
          "color": "rgba(248, 204, 54, 1.000)",
          "line": {
           "color": "rgba(0, 0, 0, 1.000)",
           "width": 1
          },
          "size": 6,
          "symbol": "circle"
         },
         "mode": "markers",
         "name": "y1",
         "scene": "scene",
         "showlegend": false,
         "type": "scatter3d",
         "x": [
          0.3385442116808803
         ],
         "xaxis": "x",
         "y": [
          0.10187189887294223
         ],
         "yaxis": "y",
         "z": [
          0.3683538638492551
         ],
         "zaxis": "z",
         "zmax": 26,
         "zmin": 1
        },
        {
         "colorbar": {
          "title": ""
         },
         "legendgroup": "y1",
         "marker": {
          "color": "rgba(244, 224, 85, 1.000)",
          "line": {
           "color": "rgba(0, 0, 0, 1.000)",
           "width": 1
          },
          "size": 6,
          "symbol": "circle"
         },
         "mode": "markers",
         "name": "y1",
         "scene": "scene",
         "showlegend": false,
         "type": "scatter3d",
         "x": [
          0.015510645419560092
         ],
         "xaxis": "x",
         "y": [
          0.15571082658316227
         ],
         "yaxis": "y",
         "z": [
          0.04532029758793495
         ],
         "zaxis": "z",
         "zmax": 26,
         "zmin": 1
        },
        {
         "colorbar": {
          "title": ""
         },
         "legendgroup": "y1",
         "marker": {
          "color": "rgba(242, 242, 124, 1.000)",
          "line": {
           "color": "rgba(0, 0, 0, 1.000)",
           "width": 1
          },
          "size": 6,
          "symbol": "circle"
         },
         "mode": "markers",
         "name": "y1",
         "scene": "scene",
         "showlegend": false,
         "type": "scatter3d",
         "x": [
          -0.3016449773686787
         ],
         "xaxis": "x",
         "y": [
          0.21176743235732154
         ],
         "yaxis": "y",
         "z": [
          -0.283221599135811
         ],
         "zaxis": "z",
         "zmax": 26,
         "zmin": 1
        },
        {
         "colorbar": {
          "title": ""
         },
         "legendgroup": "y1",
         "marker": {
          "color": "rgba(252, 255, 164, 1.000)",
          "line": {
           "color": "rgba(0, 0, 0, 1.000)",
           "width": 1
          },
          "size": 6,
          "symbol": "circle"
         },
         "mode": "markers",
         "name": "y1",
         "scene": "scene",
         "showlegend": false,
         "type": "scatter3d",
         "x": [
          -0.6151678313066017
         ],
         "xaxis": "x",
         "y": [
          0.26919463855110026
         ],
         "yaxis": "y",
         "z": [
          -0.6151678313066017
         ],
         "zaxis": "z",
         "zmax": 26,
         "zmin": 1
        },
        {
         "colorbar": {
          "title": ""
         },
         "hoverinfo": "none",
         "marker": {
          "cmax": 26,
          "cmin": 1,
          "color": [
           0.5
          ],
          "colorscale": [
           [
            0,
            "rgba(0, 0, 4, 1.000)"
           ],
           [
            0.00392156862745098,
            "rgba(1, 0, 5, 1.000)"
           ],
           [
            0.00784313725490196,
            "rgba(1, 1, 6, 1.000)"
           ],
           [
            0.011764705882352941,
            "rgba(1, 1, 8, 1.000)"
           ],
           [
            0.01568627450980392,
            "rgba(2, 1, 10, 1.000)"
           ],
           [
            0.0196078431372549,
            "rgba(2, 2, 12, 1.000)"
           ],
           [
            0.023529411764705882,
            "rgba(2, 2, 14, 1.000)"
           ],
           [
            0.027450980392156862,
            "rgba(3, 2, 16, 1.000)"
           ],
           [
            0.03137254901960784,
            "rgba(4, 3, 18, 1.000)"
           ],
           [
            0.03529411764705882,
            "rgba(4, 3, 20, 1.000)"
           ],
           [
            0.0392156862745098,
            "rgba(5, 4, 23, 1.000)"
           ],
           [
            0.043137254901960784,
            "rgba(6, 4, 25, 1.000)"
           ],
           [
            0.047058823529411764,
            "rgba(7, 5, 27, 1.000)"
           ],
           [
            0.050980392156862744,
            "rgba(8, 5, 29, 1.000)"
           ],
           [
            0.054901960784313725,
            "rgba(9, 6, 31, 1.000)"
           ],
           [
            0.058823529411764705,
            "rgba(10, 7, 34, 1.000)"
           ],
           [
            0.06274509803921569,
            "rgba(11, 7, 36, 1.000)"
           ],
           [
            0.06666666666666667,
            "rgba(12, 8, 38, 1.000)"
           ],
           [
            0.07058823529411765,
            "rgba(13, 8, 41, 1.000)"
           ],
           [
            0.07450980392156863,
            "rgba(14, 9, 43, 1.000)"
           ],
           [
            0.0784313725490196,
            "rgba(16, 9, 45, 1.000)"
           ],
           [
            0.08235294117647059,
            "rgba(17, 10, 48, 1.000)"
           ],
           [
            0.08627450980392157,
            "rgba(18, 10, 50, 1.000)"
           ],
           [
            0.09019607843137255,
            "rgba(20, 11, 52, 1.000)"
           ],
           [
            0.09411764705882353,
            "rgba(21, 11, 55, 1.000)"
           ],
           [
            0.09803921568627451,
            "rgba(22, 11, 57, 1.000)"
           ],
           [
            0.10196078431372549,
            "rgba(24, 12, 60, 1.000)"
           ],
           [
            0.10588235294117647,
            "rgba(25, 12, 62, 1.000)"
           ],
           [
            0.10980392156862745,
            "rgba(27, 12, 65, 1.000)"
           ],
           [
            0.11372549019607843,
            "rgba(28, 12, 67, 1.000)"
           ],
           [
            0.11764705882352941,
            "rgba(30, 12, 69, 1.000)"
           ],
           [
            0.12156862745098039,
            "rgba(31, 12, 72, 1.000)"
           ],
           [
            0.12549019607843137,
            "rgba(33, 12, 74, 1.000)"
           ],
           [
            0.12941176470588237,
            "rgba(35, 12, 76, 1.000)"
           ],
           [
            0.13333333333333333,
            "rgba(36, 12, 79, 1.000)"
           ],
           [
            0.13725490196078433,
            "rgba(38, 12, 81, 1.000)"
           ],
           [
            0.1411764705882353,
            "rgba(40, 11, 83, 1.000)"
           ],
           [
            0.1450980392156863,
            "rgba(41, 11, 85, 1.000)"
           ],
           [
            0.14901960784313725,
            "rgba(43, 11, 87, 1.000)"
           ],
           [
            0.15294117647058825,
            "rgba(45, 11, 89, 1.000)"
           ],
           [
            0.1568627450980392,
            "rgba(47, 10, 91, 1.000)"
           ],
           [
            0.1607843137254902,
            "rgba(49, 10, 92, 1.000)"
           ],
           [
            0.16470588235294117,
            "rgba(50, 10, 94, 1.000)"
           ],
           [
            0.16862745098039217,
            "rgba(52, 10, 95, 1.000)"
           ],
           [
            0.17254901960784313,
            "rgba(54, 9, 97, 1.000)"
           ],
           [
            0.17647058823529413,
            "rgba(56, 9, 98, 1.000)"
           ],
           [
            0.1803921568627451,
            "rgba(57, 9, 99, 1.000)"
           ],
           [
            0.1843137254901961,
            "rgba(59, 9, 100, 1.000)"
           ],
           [
            0.18823529411764706,
            "rgba(61, 9, 101, 1.000)"
           ],
           [
            0.19215686274509805,
            "rgba(62, 9, 102, 1.000)"
           ],
           [
            0.19607843137254902,
            "rgba(64, 10, 103, 1.000)"
           ],
           [
            0.2,
            "rgba(66, 10, 104, 1.000)"
           ],
           [
            0.20392156862745098,
            "rgba(68, 10, 104, 1.000)"
           ],
           [
            0.20784313725490197,
            "rgba(69, 10, 105, 1.000)"
           ],
           [
            0.21176470588235294,
            "rgba(71, 11, 106, 1.000)"
           ],
           [
            0.21568627450980393,
            "rgba(73, 11, 106, 1.000)"
           ],
           [
            0.2196078431372549,
            "rgba(74, 12, 107, 1.000)"
           ],
           [
            0.2235294117647059,
            "rgba(76, 12, 107, 1.000)"
           ],
           [
            0.22745098039215686,
            "rgba(77, 13, 108, 1.000)"
           ],
           [
            0.23137254901960785,
            "rgba(79, 13, 108, 1.000)"
           ],
           [
            0.23529411764705882,
            "rgba(81, 14, 108, 1.000)"
           ],
           [
            0.23921568627450981,
            "rgba(82, 14, 109, 1.000)"
           ],
           [
            0.24313725490196078,
            "rgba(84, 15, 109, 1.000)"
           ],
           [
            0.24705882352941178,
            "rgba(85, 15, 109, 1.000)"
           ],
           [
            0.25098039215686274,
            "rgba(87, 16, 110, 1.000)"
           ],
           [
            0.2549019607843137,
            "rgba(89, 16, 110, 1.000)"
           ],
           [
            0.25882352941176473,
            "rgba(90, 17, 110, 1.000)"
           ],
           [
            0.2627450980392157,
            "rgba(92, 18, 110, 1.000)"
           ],
           [
            0.26666666666666666,
            "rgba(93, 18, 110, 1.000)"
           ],
           [
            0.27058823529411763,
            "rgba(95, 19, 110, 1.000)"
           ],
           [
            0.27450980392156865,
            "rgba(97, 19, 110, 1.000)"
           ],
           [
            0.2784313725490196,
            "rgba(98, 20, 110, 1.000)"
           ],
           [
            0.2823529411764706,
            "rgba(100, 21, 110, 1.000)"
           ],
           [
            0.28627450980392155,
            "rgba(101, 21, 110, 1.000)"
           ],
           [
            0.2901960784313726,
            "rgba(103, 22, 110, 1.000)"
           ],
           [
            0.29411764705882354,
            "rgba(105, 22, 110, 1.000)"
           ],
           [
            0.2980392156862745,
            "rgba(106, 23, 110, 1.000)"
           ],
           [
            0.30196078431372547,
            "rgba(108, 24, 110, 1.000)"
           ],
           [
            0.3058823529411765,
            "rgba(109, 24, 110, 1.000)"
           ],
           [
            0.30980392156862746,
            "rgba(111, 25, 110, 1.000)"
           ],
           [
            0.3137254901960784,
            "rgba(113, 25, 110, 1.000)"
           ],
           [
            0.3176470588235294,
            "rgba(114, 26, 110, 1.000)"
           ],
           [
            0.3215686274509804,
            "rgba(116, 26, 110, 1.000)"
           ],
           [
            0.3254901960784314,
            "rgba(117, 27, 110, 1.000)"
           ],
           [
            0.32941176470588235,
            "rgba(119, 28, 109, 1.000)"
           ],
           [
            0.3333333333333333,
            "rgba(120, 28, 109, 1.000)"
           ],
           [
            0.33725490196078434,
            "rgba(122, 29, 109, 1.000)"
           ],
           [
            0.3411764705882353,
            "rgba(124, 29, 109, 1.000)"
           ],
           [
            0.34509803921568627,
            "rgba(125, 30, 109, 1.000)"
           ],
           [
            0.34901960784313724,
            "rgba(127, 30, 108, 1.000)"
           ],
           [
            0.35294117647058826,
            "rgba(128, 31, 108, 1.000)"
           ],
           [
            0.3568627450980392,
            "rgba(130, 32, 108, 1.000)"
           ],
           [
            0.3607843137254902,
            "rgba(132, 32, 107, 1.000)"
           ],
           [
            0.36470588235294116,
            "rgba(133, 33, 107, 1.000)"
           ],
           [
            0.3686274509803922,
            "rgba(135, 33, 107, 1.000)"
           ],
           [
            0.37254901960784315,
            "rgba(136, 34, 106, 1.000)"
           ],
           [
            0.3764705882352941,
            "rgba(138, 34, 106, 1.000)"
           ],
           [
            0.3803921568627451,
            "rgba(140, 35, 105, 1.000)"
           ],
           [
            0.3843137254901961,
            "rgba(141, 35, 105, 1.000)"
           ],
           [
            0.38823529411764707,
            "rgba(143, 36, 105, 1.000)"
           ],
           [
            0.39215686274509803,
            "rgba(144, 37, 104, 1.000)"
           ],
           [
            0.396078431372549,
            "rgba(146, 37, 104, 1.000)"
           ],
           [
            0.4,
            "rgba(147, 38, 103, 1.000)"
           ],
           [
            0.403921568627451,
            "rgba(149, 38, 103, 1.000)"
           ],
           [
            0.40784313725490196,
            "rgba(151, 39, 102, 1.000)"
           ],
           [
            0.4117647058823529,
            "rgba(152, 39, 102, 1.000)"
           ],
           [
            0.41568627450980394,
            "rgba(154, 40, 101, 1.000)"
           ],
           [
            0.4196078431372549,
            "rgba(155, 41, 100, 1.000)"
           ],
           [
            0.4235294117647059,
            "rgba(157, 41, 100, 1.000)"
           ],
           [
            0.42745098039215684,
            "rgba(159, 42, 99, 1.000)"
           ],
           [
            0.43137254901960786,
            "rgba(160, 42, 99, 1.000)"
           ],
           [
            0.43529411764705883,
            "rgba(162, 43, 98, 1.000)"
           ],
           [
            0.4392156862745098,
            "rgba(163, 44, 97, 1.000)"
           ],
           [
            0.44313725490196076,
            "rgba(165, 44, 96, 1.000)"
           ],
           [
            0.4470588235294118,
            "rgba(166, 45, 96, 1.000)"
           ],
           [
            0.45098039215686275,
            "rgba(168, 46, 95, 1.000)"
           ],
           [
            0.4549019607843137,
            "rgba(169, 46, 94, 1.000)"
           ],
           [
            0.4588235294117647,
            "rgba(171, 47, 94, 1.000)"
           ],
           [
            0.4627450980392157,
            "rgba(173, 48, 93, 1.000)"
           ],
           [
            0.4666666666666667,
            "rgba(174, 48, 92, 1.000)"
           ],
           [
            0.47058823529411764,
            "rgba(176, 49, 91, 1.000)"
           ],
           [
            0.4745098039215686,
            "rgba(177, 50, 90, 1.000)"
           ],
           [
            0.47843137254901963,
            "rgba(179, 50, 90, 1.000)"
           ],
           [
            0.4823529411764706,
            "rgba(180, 51, 89, 1.000)"
           ],
           [
            0.48627450980392156,
            "rgba(182, 52, 88, 1.000)"
           ],
           [
            0.49019607843137253,
            "rgba(183, 53, 87, 1.000)"
           ],
           [
            0.49411764705882355,
            "rgba(185, 53, 86, 1.000)"
           ],
           [
            0.4980392156862745,
            "rgba(186, 54, 85, 1.000)"
           ],
           [
            0.5019607843137255,
            "rgba(188, 55, 84, 1.000)"
           ],
           [
            0.5058823529411764,
            "rgba(189, 56, 83, 1.000)"
           ],
           [
            0.5098039215686274,
            "rgba(191, 57, 82, 1.000)"
           ],
           [
            0.5137254901960784,
            "rgba(192, 58, 81, 1.000)"
           ],
           [
            0.5176470588235295,
            "rgba(193, 58, 80, 1.000)"
           ],
           [
            0.5215686274509804,
            "rgba(195, 59, 79, 1.000)"
           ],
           [
            0.5254901960784314,
            "rgba(196, 60, 78, 1.000)"
           ],
           [
            0.5294117647058824,
            "rgba(198, 61, 77, 1.000)"
           ],
           [
            0.5333333333333333,
            "rgba(199, 62, 76, 1.000)"
           ],
           [
            0.5372549019607843,
            "rgba(200, 63, 75, 1.000)"
           ],
           [
            0.5411764705882353,
            "rgba(202, 64, 74, 1.000)"
           ],
           [
            0.5450980392156862,
            "rgba(203, 65, 73, 1.000)"
           ],
           [
            0.5490196078431373,
            "rgba(204, 66, 72, 1.000)"
           ],
           [
            0.5529411764705883,
            "rgba(206, 67, 71, 1.000)"
           ],
           [
            0.5568627450980392,
            "rgba(207, 68, 70, 1.000)"
           ],
           [
            0.5607843137254902,
            "rgba(208, 69, 69, 1.000)"
           ],
           [
            0.5647058823529412,
            "rgba(210, 70, 68, 1.000)"
           ],
           [
            0.5686274509803921,
            "rgba(211, 71, 67, 1.000)"
           ],
           [
            0.5725490196078431,
            "rgba(212, 72, 66, 1.000)"
           ],
           [
            0.5764705882352941,
            "rgba(213, 74, 65, 1.000)"
           ],
           [
            0.5803921568627451,
            "rgba(215, 75, 63, 1.000)"
           ],
           [
            0.5843137254901961,
            "rgba(216, 76, 62, 1.000)"
           ],
           [
            0.5882352941176471,
            "rgba(217, 77, 61, 1.000)"
           ],
           [
            0.592156862745098,
            "rgba(218, 78, 60, 1.000)"
           ],
           [
            0.596078431372549,
            "rgba(219, 80, 59, 1.000)"
           ],
           [
            0.6,
            "rgba(221, 81, 58, 1.000)"
           ],
           [
            0.6039215686274509,
            "rgba(222, 82, 56, 1.000)"
           ],
           [
            0.6078431372549019,
            "rgba(223, 83, 55, 1.000)"
           ],
           [
            0.611764705882353,
            "rgba(224, 85, 54, 1.000)"
           ],
           [
            0.615686274509804,
            "rgba(225, 86, 53, 1.000)"
           ],
           [
            0.6196078431372549,
            "rgba(226, 87, 52, 1.000)"
           ],
           [
            0.6235294117647059,
            "rgba(227, 89, 51, 1.000)"
           ],
           [
            0.6274509803921569,
            "rgba(228, 90, 49, 1.000)"
           ],
           [
            0.6313725490196078,
            "rgba(229, 92, 48, 1.000)"
           ],
           [
            0.6352941176470588,
            "rgba(230, 93, 47, 1.000)"
           ],
           [
            0.6392156862745098,
            "rgba(231, 94, 46, 1.000)"
           ],
           [
            0.6431372549019608,
            "rgba(232, 96, 45, 1.000)"
           ],
           [
            0.6470588235294118,
            "rgba(233, 97, 43, 1.000)"
           ],
           [
            0.6509803921568628,
            "rgba(234, 99, 42, 1.000)"
           ],
           [
            0.6549019607843137,
            "rgba(235, 100, 41, 1.000)"
           ],
           [
            0.6588235294117647,
            "rgba(235, 102, 40, 1.000)"
           ],
           [
            0.6627450980392157,
            "rgba(236, 103, 38, 1.000)"
           ],
           [
            0.6666666666666666,
            "rgba(237, 105, 37, 1.000)"
           ],
           [
            0.6705882352941176,
            "rgba(238, 106, 36, 1.000)"
           ],
           [
            0.6745098039215687,
            "rgba(239, 108, 35, 1.000)"
           ],
           [
            0.6784313725490196,
            "rgba(239, 110, 33, 1.000)"
           ],
           [
            0.6823529411764706,
            "rgba(240, 111, 32, 1.000)"
           ],
           [
            0.6862745098039216,
            "rgba(241, 113, 31, 1.000)"
           ],
           [
            0.6901960784313725,
            "rgba(241, 115, 29, 1.000)"
           ],
           [
            0.6941176470588235,
            "rgba(242, 116, 28, 1.000)"
           ],
           [
            0.6980392156862745,
            "rgba(243, 118, 27, 1.000)"
           ],
           [
            0.7019607843137254,
            "rgba(243, 120, 25, 1.000)"
           ],
           [
            0.7058823529411765,
            "rgba(244, 121, 24, 1.000)"
           ],
           [
            0.7098039215686275,
            "rgba(245, 123, 23, 1.000)"
           ],
           [
            0.7137254901960784,
            "rgba(245, 125, 21, 1.000)"
           ],
           [
            0.7176470588235294,
            "rgba(246, 126, 20, 1.000)"
           ],
           [
            0.7215686274509804,
            "rgba(246, 128, 19, 1.000)"
           ],
           [
            0.7254901960784313,
            "rgba(247, 130, 18, 1.000)"
           ],
           [
            0.7294117647058823,
            "rgba(247, 132, 16, 1.000)"
           ],
           [
            0.7333333333333333,
            "rgba(248, 133, 15, 1.000)"
           ],
           [
            0.7372549019607844,
            "rgba(248, 135, 14, 1.000)"
           ],
           [
            0.7411764705882353,
            "rgba(248, 137, 12, 1.000)"
           ],
           [
            0.7450980392156863,
            "rgba(249, 139, 11, 1.000)"
           ],
           [
            0.7490196078431373,
            "rgba(249, 140, 10, 1.000)"
           ],
           [
            0.7529411764705882,
            "rgba(249, 142, 9, 1.000)"
           ],
           [
            0.7568627450980392,
            "rgba(250, 144, 8, 1.000)"
           ],
           [
            0.7607843137254902,
            "rgba(250, 146, 7, 1.000)"
           ],
           [
            0.7647058823529411,
            "rgba(250, 148, 7, 1.000)"
           ],
           [
            0.7686274509803922,
            "rgba(251, 150, 6, 1.000)"
           ],
           [
            0.7725490196078432,
            "rgba(251, 151, 6, 1.000)"
           ],
           [
            0.7764705882352941,
            "rgba(251, 153, 6, 1.000)"
           ],
           [
            0.7803921568627451,
            "rgba(251, 155, 6, 1.000)"
           ],
           [
            0.7843137254901961,
            "rgba(251, 157, 7, 1.000)"
           ],
           [
            0.788235294117647,
            "rgba(252, 159, 7, 1.000)"
           ],
           [
            0.792156862745098,
            "rgba(252, 161, 8, 1.000)"
           ],
           [
            0.796078431372549,
            "rgba(252, 163, 9, 1.000)"
           ],
           [
            0.8,
            "rgba(252, 165, 10, 1.000)"
           ],
           [
            0.803921568627451,
            "rgba(252, 166, 12, 1.000)"
           ],
           [
            0.807843137254902,
            "rgba(252, 168, 13, 1.000)"
           ],
           [
            0.8117647058823529,
            "rgba(252, 170, 15, 1.000)"
           ],
           [
            0.8156862745098039,
            "rgba(252, 172, 17, 1.000)"
           ],
           [
            0.8196078431372549,
            "rgba(252, 174, 18, 1.000)"
           ],
           [
            0.8235294117647058,
            "rgba(252, 176, 20, 1.000)"
           ],
           [
            0.8274509803921568,
            "rgba(252, 178, 22, 1.000)"
           ],
           [
            0.8313725490196079,
            "rgba(252, 180, 24, 1.000)"
           ],
           [
            0.8352941176470589,
            "rgba(251, 182, 26, 1.000)"
           ],
           [
            0.8392156862745098,
            "rgba(251, 184, 29, 1.000)"
           ],
           [
            0.8431372549019608,
            "rgba(251, 186, 31, 1.000)"
           ],
           [
            0.8470588235294118,
            "rgba(251, 188, 33, 1.000)"
           ],
           [
            0.8509803921568627,
            "rgba(251, 190, 35, 1.000)"
           ],
           [
            0.8549019607843137,
            "rgba(250, 192, 38, 1.000)"
           ],
           [
            0.8588235294117647,
            "rgba(250, 194, 40, 1.000)"
           ],
           [
            0.8627450980392157,
            "rgba(250, 196, 42, 1.000)"
           ],
           [
            0.8666666666666667,
            "rgba(250, 198, 45, 1.000)"
           ],
           [
            0.8705882352941177,
            "rgba(249, 199, 47, 1.000)"
           ],
           [
            0.8745098039215686,
            "rgba(249, 201, 50, 1.000)"
           ],
           [
            0.8784313725490196,
            "rgba(249, 203, 53, 1.000)"
           ],
           [
            0.8823529411764706,
            "rgba(248, 205, 55, 1.000)"
           ],
           [
            0.8862745098039215,
            "rgba(248, 207, 58, 1.000)"
           ],
           [
            0.8901960784313725,
            "rgba(247, 209, 61, 1.000)"
           ],
           [
            0.8941176470588236,
            "rgba(247, 211, 64, 1.000)"
           ],
           [
            0.8980392156862745,
            "rgba(246, 213, 67, 1.000)"
           ],
           [
            0.9019607843137255,
            "rgba(246, 215, 70, 1.000)"
           ],
           [
            0.9058823529411765,
            "rgba(245, 217, 73, 1.000)"
           ],
           [
            0.9098039215686274,
            "rgba(245, 219, 76, 1.000)"
           ],
           [
            0.9137254901960784,
            "rgba(244, 221, 79, 1.000)"
           ],
           [
            0.9176470588235294,
            "rgba(244, 223, 83, 1.000)"
           ],
           [
            0.9215686274509803,
            "rgba(244, 225, 86, 1.000)"
           ],
           [
            0.9254901960784314,
            "rgba(243, 227, 90, 1.000)"
           ],
           [
            0.9294117647058824,
            "rgba(243, 229, 93, 1.000)"
           ],
           [
            0.9333333333333333,
            "rgba(242, 230, 97, 1.000)"
           ],
           [
            0.9372549019607843,
            "rgba(242, 232, 101, 1.000)"
           ],
           [
            0.9411764705882353,
            "rgba(242, 234, 105, 1.000)"
           ],
           [
            0.9450980392156862,
            "rgba(241, 236, 109, 1.000)"
           ],
           [
            0.9490196078431372,
            "rgba(241, 237, 113, 1.000)"
           ],
           [
            0.9529411764705882,
            "rgba(241, 239, 117, 1.000)"
           ],
           [
            0.9568627450980393,
            "rgba(241, 241, 121, 1.000)"
           ],
           [
            0.9607843137254902,
            "rgba(242, 242, 125, 1.000)"
           ],
           [
            0.9647058823529412,
            "rgba(242, 244, 130, 1.000)"
           ],
           [
            0.9686274509803922,
            "rgba(243, 245, 134, 1.000)"
           ],
           [
            0.9725490196078431,
            "rgba(243, 246, 138, 1.000)"
           ],
           [
            0.9764705882352941,
            "rgba(244, 248, 142, 1.000)"
           ],
           [
            0.9803921568627451,
            "rgba(245, 249, 146, 1.000)"
           ],
           [
            0.984313725490196,
            "rgba(246, 250, 150, 1.000)"
           ],
           [
            0.9882352941176471,
            "rgba(248, 251, 154, 1.000)"
           ],
           [
            0.9921568627450981,
            "rgba(249, 252, 157, 1.000)"
           ],
           [
            0.996078431372549,
            "rgba(250, 253, 161, 1.000)"
           ],
           [
            1,
            "rgba(252, 255, 164, 1.000)"
           ]
          ],
          "opacity": 1e-10,
          "showscale": true,
          "size": 1e-10
         },
         "mode": "markers",
         "name": "y1",
         "scene": "scene",
         "showlegend": false,
         "type": "scatter3d",
         "x": [
          1.5526213032779128
         ],
         "xaxis": "x",
         "y": [
          -0.5350808688519418
         ],
         "yaxis": "y",
         "z": [
          -0.4785840873111373
         ],
         "zaxis": "z",
         "zmax": 26,
         "zmin": 1
        },
        {
         "colorbar": {
          "title": ""
         },
         "legendgroup": "y2",
         "line": {
          "color": "rgba(0, 0, 0, 1.000)",
          "dash": "solid",
          "shape": "linear",
          "width": 2
         },
         "mode": "lines",
         "name": "y2",
         "scene": "scene",
         "showlegend": true,
         "type": "scatter3d",
         "x": [
          1.5526213032779128,
          1.2496823750679207,
          0.9438461076796804,
          0.6333218470240979,
          0.3181095931011729,
          0,
          -0.005808679712996439,
          -0.009398641205390223,
          -0.009398641205390223,
          -0.00580867971299644,
          0,
          0.2,
          0.4,
          0.6,
          0.8,
          1,
          0.9959154149753885,
          0.9933910026002397,
          0.9933910026002397,
          0.9959154149753885,
          1,
          0.6674557214152825,
          0.3385442116808803,
          0.015510645419560092,
          -0.3016449773686787,
          -0.6151678313066017
         ],
         "xaxis": "x",
         "y": [
          -0.5350808688519418,
          -0.31687511516643774,
          -0.10294340068867475,
          0.10407277308171359,
          0.3041734061447273,
          0.49999999999999994,
          0.4007786479980114,
          0.30125987892605444,
          0.20125987892605454,
          0.1007786479980114,
          0,
          -0.0035260768141268358,
          -0.0057053121322001655,
          -0.0057053121322001655,
          -0.003526076814126836,
          0,
          0.004226738158198573,
          0.006839006001511421,
          0.006839006001511421,
          0.004226738158198573,
          0,
          0.05025064922666137,
          0.10187189887294223,
          0.15571082658316227,
          0.21176743235732154,
          0.26919463855110026
         ],
         "yaxis": "y",
         "z": [
          -0.4785840873111373,
          -0.20951714426812765,
          0.05949439658204654,
          0.3284162948011616,
          0.597248550389218,
          0.8660254037844387,
          0.692370770396295,
          0.5188878508335594,
          0.34568277007667153,
          0.17275552812563183,
          0,
          -0.004702757976138021,
          -0.007609222246255986,
          -0.007609222246255986,
          -0.004702757976138022,
          0,
          0.2,
          0.4,
          0.6,
          0.8,
          1,
          0.6858790996481502,
          0.3683538638492551,
          0.04532029758793495,
          -0.283221599135811,
          -0.6151678313066017
         ],
         "zaxis": "z",
         "zmax": 26,
         "zmin": 1
        }
       ],
       "layout": {
        "annotations": [],
        "height": 400,
        "legend": {
         "bgcolor": "rgba(255, 255, 255, 1.000)",
         "bordercolor": "rgba(0, 0, 0, 1.000)",
         "borderwidth": 1,
         "font": {
          "color": "rgba(0, 0, 0, 1.000)",
          "family": "sans-serif",
          "size": 11
         },
         "title": {
          "font": {
           "color": "rgba(0, 0, 0, 1.000)",
           "family": "sans-serif",
           "size": 15
          },
          "text": ""
         },
         "tracegroupgap": 0,
         "traceorder": "normal",
         "x": 1,
         "xanchor": "auto",
         "y": 1,
         "yanchor": "auto"
        },
        "margin": {
         "b": 20,
         "l": 0,
         "r": 0,
         "t": 20
        },
        "paper_bgcolor": "rgba(255, 255, 255, 1.000)",
        "plot_bgcolor": "rgba(255, 255, 255, 1.000)",
        "scene": {
         "camera": {
          "eye": {
           "x": 1.12583302491977,
           "y": -1.9499999999999997,
           "z": 1.3
          }
         },
         "domain": {
          "x": [
           0.09128390201224845,
           0.9934383202099738
          ],
          "y": [
           0.07581474190726165,
           0.9901574803149606
          ]
         },
         "xaxis": {
          "gridcolor": "rgba(0, 0, 0, 0.100)",
          "gridwidth": 0.5,
          "linecolor": "rgba(0, 0, 0, 1.000)",
          "mirror": false,
          "range": [
           -0.6802015053441371,
           1.6176549773154483
          ],
          "showgrid": true,
          "showline": true,
          "showticklabels": true,
          "tickangle": 0,
          "tickcolor": "rgb(0, 0, 0)",
          "tickfont": {
           "color": "rgba(0, 0, 0, 1.000)",
           "family": "sans-serif",
           "size": 11
          },
          "tickmode": "array",
          "ticks": "inside",
          "ticktext": [
           "-0.5",
           "0.0",
           "0.5",
           "1.0",
           "1.5"
          ],
          "tickvals": [
           -0.5,
           0,
           0.5,
           1,
           1.5
          ],
          "title": "x",
          "titlefont": {
           "color": "rgba(0, 0, 0, 1.000)",
           "family": "sans-serif",
           "size": 15
          },
          "type": "-",
          "visible": true,
          "zeroline": false,
          "zerolinecolor": "rgba(0, 0, 0, 1.000)"
         },
         "yaxis": {
          "gridcolor": "rgba(0, 0, 0, 0.100)",
          "gridwidth": 0.5,
          "linecolor": "rgba(0, 0, 0, 1.000)",
          "mirror": false,
          "range": [
           -0.5661332949175001,
           0.5310524260655582
          ],
          "showgrid": true,
          "showline": true,
          "showticklabels": true,
          "tickangle": 0,
          "tickcolor": "rgb(0, 0, 0)",
          "tickfont": {
           "color": "rgba(0, 0, 0, 1.000)",
           "family": "sans-serif",
           "size": 11
          },
          "tickmode": "array",
          "ticks": "inside",
          "ticktext": [
           "-0.4",
           "-0.2",
           "0.0",
           "0.2",
           "0.4"
          ],
          "tickvals": [
           -0.4,
           -0.2,
           0,
           0.2,
           0.4
          ],
          "title": "y",
          "titlefont": {
           "color": "rgba(0, 0, 0, 1.000)",
           "family": "sans-serif",
           "size": 15
          },
          "type": "-",
          "visible": true,
          "zeroline": false,
          "zerolinecolor": "rgba(0, 0, 0, 1.000)"
         },
         "zaxis": {
          "gridcolor": "rgba(0, 0, 0, 0.100)",
          "gridwidth": 0.5,
          "linecolor": "rgba(0, 0, 0, 1.000)",
          "mirror": false,
          "range": [
           -0.6636228662457997,
           1.0484550349391981
          ],
          "showgrid": true,
          "showline": true,
          "showticklabels": true,
          "tickangle": 0,
          "tickcolor": "rgb(0, 0, 0)",
          "tickfont": {
           "color": "rgba(0, 0, 0, 1.000)",
           "family": "sans-serif",
           "size": 11
          },
          "tickmode": "array",
          "ticks": "inside",
          "ticktext": [
           "-0.5",
           "0.0",
           "0.5",
           "1.0"
          ],
          "tickvals": [
           -0.5,
           0,
           0.5,
           1
          ],
          "title": "z",
          "titlefont": {
           "color": "rgba(0, 0, 0, 1.000)",
           "family": "sans-serif",
           "size": 15
          },
          "type": "-",
          "visible": true,
          "zeroline": false,
          "zerolinecolor": "rgba(0, 0, 0, 1.000)"
         }
        },
        "showlegend": true,
        "width": 600
       }
      },
      "text/html": [
       "    <div id=\"206a802e-f6b8-430c-b629-17e83c019538\" style=\"width:600px;height:400px;\"></div>\n",
       "    <script>\n",
       "        requirejs.config({\n",
       "        paths: {\n",
       "            Plotly: 'https://cdn.plot.ly/plotly-1.57.1.min'\n",
       "        }\n",
       "    });\n",
       "    require(['Plotly'], function (Plotly) {\n",
       "\n",
       "        var PLOT = document.getElementById('206a802e-f6b8-430c-b629-17e83c019538');\n",
       "    Plotly.plot(PLOT, [\n",
       "    {\n",
       "        \"xaxis\": \"x\",\n",
       "        \"colorbar\": {\n",
       "            \"title\": \"\"\n",
       "        },\n",
       "        \"yaxis\": \"y\",\n",
       "        \"zaxis\": \"z\",\n",
       "        \"x\": [\n",
       "            1.5526213032779128\n",
       "        ],\n",
       "        \"showlegend\": true,\n",
       "        \"mode\": \"markers\",\n",
       "        \"name\": \"y1\",\n",
       "        \"zmin\": 1.0,\n",
       "        \"legendgroup\": \"y1\",\n",
       "        \"z\": [\n",
       "            -0.4785840873111373\n",
       "        ],\n",
       "        \"marker\": {\n",
       "            \"symbol\": \"circle\",\n",
       "            \"color\": \"rgba(0, 0, 4, 1.000)\",\n",
       "            \"line\": {\n",
       "                \"color\": \"rgba(0, 0, 0, 1.000)\",\n",
       "                \"width\": 1\n",
       "            },\n",
       "            \"size\": 6\n",
       "        },\n",
       "        \"zmax\": 26.0,\n",
       "        \"y\": [\n",
       "            -0.5350808688519418\n",
       "        ],\n",
       "        \"type\": \"scatter3d\",\n",
       "        \"scene\": \"scene\"\n",
       "    },\n",
       "    {\n",
       "        \"xaxis\": \"x\",\n",
       "        \"colorbar\": {\n",
       "            \"title\": \"\"\n",
       "        },\n",
       "        \"yaxis\": \"y\",\n",
       "        \"zaxis\": \"z\",\n",
       "        \"x\": [\n",
       "            1.2496823750679207\n",
       "        ],\n",
       "        \"showlegend\": false,\n",
       "        \"mode\": \"markers\",\n",
       "        \"name\": \"y1\",\n",
       "        \"zmin\": 1.0,\n",
       "        \"legendgroup\": \"y1\",\n",
       "        \"z\": [\n",
       "            -0.20951714426812765\n",
       "        ],\n",
       "        \"marker\": {\n",
       "            \"symbol\": \"circle\",\n",
       "            \"color\": \"rgba(5, 4, 23, 1.000)\",\n",
       "            \"line\": {\n",
       "                \"color\": \"rgba(0, 0, 0, 1.000)\",\n",
       "                \"width\": 1\n",
       "            },\n",
       "            \"size\": 6\n",
       "        },\n",
       "        \"zmax\": 26.0,\n",
       "        \"y\": [\n",
       "            -0.31687511516643774\n",
       "        ],\n",
       "        \"type\": \"scatter3d\",\n",
       "        \"scene\": \"scene\"\n",
       "    },\n",
       "    {\n",
       "        \"xaxis\": \"x\",\n",
       "        \"colorbar\": {\n",
       "            \"title\": \"\"\n",
       "        },\n",
       "        \"yaxis\": \"y\",\n",
       "        \"zaxis\": \"z\",\n",
       "        \"x\": [\n",
       "            0.9438461076796804\n",
       "        ],\n",
       "        \"showlegend\": false,\n",
       "        \"mode\": \"markers\",\n",
       "        \"name\": \"y1\",\n",
       "        \"zmin\": 1.0,\n",
       "        \"legendgroup\": \"y1\",\n",
       "        \"z\": [\n",
       "            0.05949439658204654\n",
       "        ],\n",
       "        \"marker\": {\n",
       "            \"symbol\": \"circle\",\n",
       "            \"color\": \"rgba(16, 10, 46, 1.000)\",\n",
       "            \"line\": {\n",
       "                \"color\": \"rgba(0, 0, 0, 1.000)\",\n",
       "                \"width\": 1\n",
       "            },\n",
       "            \"size\": 6\n",
       "        },\n",
       "        \"zmax\": 26.0,\n",
       "        \"y\": [\n",
       "            -0.10294340068867475\n",
       "        ],\n",
       "        \"type\": \"scatter3d\",\n",
       "        \"scene\": \"scene\"\n",
       "    },\n",
       "    {\n",
       "        \"xaxis\": \"x\",\n",
       "        \"colorbar\": {\n",
       "            \"title\": \"\"\n",
       "        },\n",
       "        \"yaxis\": \"y\",\n",
       "        \"zaxis\": \"z\",\n",
       "        \"x\": [\n",
       "            0.6333218470240979\n",
       "        ],\n",
       "        \"showlegend\": false,\n",
       "        \"mode\": \"markers\",\n",
       "        \"name\": \"y1\",\n",
       "        \"zmin\": 1.0,\n",
       "        \"legendgroup\": \"y1\",\n",
       "        \"z\": [\n",
       "            0.3284162948011616\n",
       "        ],\n",
       "        \"marker\": {\n",
       "            \"symbol\": \"circle\",\n",
       "            \"color\": \"rgba(31, 12, 71, 1.000)\",\n",
       "            \"line\": {\n",
       "                \"color\": \"rgba(0, 0, 0, 1.000)\",\n",
       "                \"width\": 1\n",
       "            },\n",
       "            \"size\": 6\n",
       "        },\n",
       "        \"zmax\": 26.0,\n",
       "        \"y\": [\n",
       "            0.10407277308171359\n",
       "        ],\n",
       "        \"type\": \"scatter3d\",\n",
       "        \"scene\": \"scene\"\n",
       "    },\n",
       "    {\n",
       "        \"xaxis\": \"x\",\n",
       "        \"colorbar\": {\n",
       "            \"title\": \"\"\n",
       "        },\n",
       "        \"yaxis\": \"y\",\n",
       "        \"zaxis\": \"z\",\n",
       "        \"x\": [\n",
       "            0.3181095931011729\n",
       "        ],\n",
       "        \"showlegend\": false,\n",
       "        \"mode\": \"markers\",\n",
       "        \"name\": \"y1\",\n",
       "        \"zmin\": 1.0,\n",
       "        \"legendgroup\": \"y1\",\n",
       "        \"z\": [\n",
       "            0.597248550389218\n",
       "        ],\n",
       "        \"marker\": {\n",
       "            \"symbol\": \"circle\",\n",
       "            \"color\": \"rgba(48, 10, 92, 1.000)\",\n",
       "            \"line\": {\n",
       "                \"color\": \"rgba(0, 0, 0, 1.000)\",\n",
       "                \"width\": 1\n",
       "            },\n",
       "            \"size\": 6\n",
       "        },\n",
       "        \"zmax\": 26.0,\n",
       "        \"y\": [\n",
       "            0.3041734061447273\n",
       "        ],\n",
       "        \"type\": \"scatter3d\",\n",
       "        \"scene\": \"scene\"\n",
       "    },\n",
       "    {\n",
       "        \"xaxis\": \"x\",\n",
       "        \"colorbar\": {\n",
       "            \"title\": \"\"\n",
       "        },\n",
       "        \"yaxis\": \"y\",\n",
       "        \"zaxis\": \"z\",\n",
       "        \"x\": [\n",
       "            0.0\n",
       "        ],\n",
       "        \"showlegend\": false,\n",
       "        \"mode\": \"markers\",\n",
       "        \"name\": \"y1\",\n",
       "        \"zmin\": 1.0,\n",
       "        \"legendgroup\": \"y1\",\n",
       "        \"z\": [\n",
       "            0.8660254037844387\n",
       "        ],\n",
       "        \"marker\": {\n",
       "            \"symbol\": \"circle\",\n",
       "            \"color\": \"rgba(66, 10, 104, 1.000)\",\n",
       "            \"line\": {\n",
       "                \"color\": \"rgba(0, 0, 0, 1.000)\",\n",
       "                \"width\": 1\n",
       "            },\n",
       "            \"size\": 6\n",
       "        },\n",
       "        \"zmax\": 26.0,\n",
       "        \"y\": [\n",
       "            0.49999999999999994\n",
       "        ],\n",
       "        \"type\": \"scatter3d\",\n",
       "        \"scene\": \"scene\"\n",
       "    },\n",
       "    {\n",
       "        \"xaxis\": \"x\",\n",
       "        \"colorbar\": {\n",
       "            \"title\": \"\"\n",
       "        },\n",
       "        \"yaxis\": \"y\",\n",
       "        \"zaxis\": \"z\",\n",
       "        \"x\": [\n",
       "            -0.005808679712996439\n",
       "        ],\n",
       "        \"showlegend\": false,\n",
       "        \"mode\": \"markers\",\n",
       "        \"name\": \"y1\",\n",
       "        \"zmin\": 1.0,\n",
       "        \"legendgroup\": \"y1\",\n",
       "        \"z\": [\n",
       "            0.692370770396295\n",
       "        ],\n",
       "        \"marker\": {\n",
       "            \"symbol\": \"circle\",\n",
       "            \"color\": \"rgba(83, 14, 109, 1.000)\",\n",
       "            \"line\": {\n",
       "                \"color\": \"rgba(0, 0, 0, 1.000)\",\n",
       "                \"width\": 1\n",
       "            },\n",
       "            \"size\": 6\n",
       "        },\n",
       "        \"zmax\": 26.0,\n",
       "        \"y\": [\n",
       "            0.4007786479980114\n",
       "        ],\n",
       "        \"type\": \"scatter3d\",\n",
       "        \"scene\": \"scene\"\n",
       "    },\n",
       "    {\n",
       "        \"xaxis\": \"x\",\n",
       "        \"colorbar\": {\n",
       "            \"title\": \"\"\n",
       "        },\n",
       "        \"yaxis\": \"y\",\n",
       "        \"zaxis\": \"z\",\n",
       "        \"x\": [\n",
       "            -0.009398641205390223\n",
       "        ],\n",
       "        \"showlegend\": false,\n",
       "        \"mode\": \"markers\",\n",
       "        \"name\": \"y1\",\n",
       "        \"zmin\": 1.0,\n",
       "        \"legendgroup\": \"y1\",\n",
       "        \"z\": [\n",
       "            0.5188878508335594\n",
       "        ],\n",
       "        \"marker\": {\n",
       "            \"symbol\": \"circle\",\n",
       "            \"color\": \"rgba(99, 20, 110, 1.000)\",\n",
       "            \"line\": {\n",
       "                \"color\": \"rgba(0, 0, 0, 1.000)\",\n",
       "                \"width\": 1\n",
       "            },\n",
       "            \"size\": 6\n",
       "        },\n",
       "        \"zmax\": 26.0,\n",
       "        \"y\": [\n",
       "            0.30125987892605444\n",
       "        ],\n",
       "        \"type\": \"scatter3d\",\n",
       "        \"scene\": \"scene\"\n",
       "    },\n",
       "    {\n",
       "        \"xaxis\": \"x\",\n",
       "        \"colorbar\": {\n",
       "            \"title\": \"\"\n",
       "        },\n",
       "        \"yaxis\": \"y\",\n",
       "        \"zaxis\": \"z\",\n",
       "        \"x\": [\n",
       "            -0.009398641205390223\n",
       "        ],\n",
       "        \"showlegend\": false,\n",
       "        \"mode\": \"markers\",\n",
       "        \"name\": \"y1\",\n",
       "        \"zmin\": 1.0,\n",
       "        \"legendgroup\": \"y1\",\n",
       "        \"z\": [\n",
       "            0.34568277007667153\n",
       "        ],\n",
       "        \"marker\": {\n",
       "            \"symbol\": \"circle\",\n",
       "            \"color\": \"rgba(115, 26, 110, 1.000)\",\n",
       "            \"line\": {\n",
       "                \"color\": \"rgba(0, 0, 0, 1.000)\",\n",
       "                \"width\": 1\n",
       "            },\n",
       "            \"size\": 6\n",
       "        },\n",
       "        \"zmax\": 26.0,\n",
       "        \"y\": [\n",
       "            0.20125987892605454\n",
       "        ],\n",
       "        \"type\": \"scatter3d\",\n",
       "        \"scene\": \"scene\"\n",
       "    },\n",
       "    {\n",
       "        \"xaxis\": \"x\",\n",
       "        \"colorbar\": {\n",
       "            \"title\": \"\"\n",
       "        },\n",
       "        \"yaxis\": \"y\",\n",
       "        \"zaxis\": \"z\",\n",
       "        \"x\": [\n",
       "            -0.00580867971299644\n",
       "        ],\n",
       "        \"showlegend\": false,\n",
       "        \"mode\": \"markers\",\n",
       "        \"name\": \"y1\",\n",
       "        \"zmin\": 1.0,\n",
       "        \"legendgroup\": \"y1\",\n",
       "        \"z\": [\n",
       "            0.17275552812563183\n",
       "        ],\n",
       "        \"marker\": {\n",
       "            \"symbol\": \"circle\",\n",
       "            \"color\": \"rgba(131, 32, 107, 1.000)\",\n",
       "            \"line\": {\n",
       "                \"color\": \"rgba(0, 0, 0, 1.000)\",\n",
       "                \"width\": 1\n",
       "            },\n",
       "            \"size\": 6\n",
       "        },\n",
       "        \"zmax\": 26.0,\n",
       "        \"y\": [\n",
       "            0.1007786479980114\n",
       "        ],\n",
       "        \"type\": \"scatter3d\",\n",
       "        \"scene\": \"scene\"\n",
       "    },\n",
       "    {\n",
       "        \"xaxis\": \"x\",\n",
       "        \"colorbar\": {\n",
       "            \"title\": \"\"\n",
       "        },\n",
       "        \"yaxis\": \"y\",\n",
       "        \"zaxis\": \"z\",\n",
       "        \"x\": [\n",
       "            0.0\n",
       "        ],\n",
       "        \"showlegend\": false,\n",
       "        \"mode\": \"markers\",\n",
       "        \"name\": \"y1\",\n",
       "        \"zmin\": 1.0,\n",
       "        \"legendgroup\": \"y1\",\n",
       "        \"z\": [\n",
       "            0.0\n",
       "        ],\n",
       "        \"marker\": {\n",
       "            \"symbol\": \"circle\",\n",
       "            \"color\": \"rgba(147, 38, 103, 1.000)\",\n",
       "            \"line\": {\n",
       "                \"color\": \"rgba(0, 0, 0, 1.000)\",\n",
       "                \"width\": 1\n",
       "            },\n",
       "            \"size\": 6\n",
       "        },\n",
       "        \"zmax\": 26.0,\n",
       "        \"y\": [\n",
       "            0.0\n",
       "        ],\n",
       "        \"type\": \"scatter3d\",\n",
       "        \"scene\": \"scene\"\n",
       "    },\n",
       "    {\n",
       "        \"xaxis\": \"x\",\n",
       "        \"colorbar\": {\n",
       "            \"title\": \"\"\n",
       "        },\n",
       "        \"yaxis\": \"y\",\n",
       "        \"zaxis\": \"z\",\n",
       "        \"x\": [\n",
       "            0.2\n",
       "        ],\n",
       "        \"showlegend\": false,\n",
       "        \"mode\": \"markers\",\n",
       "        \"name\": \"y1\",\n",
       "        \"zmin\": 1.0,\n",
       "        \"legendgroup\": \"y1\",\n",
       "        \"z\": [\n",
       "            -0.004702757976138021\n",
       "        ],\n",
       "        \"marker\": {\n",
       "            \"symbol\": \"circle\",\n",
       "            \"color\": \"rgba(164, 44, 97, 1.000)\",\n",
       "            \"line\": {\n",
       "                \"color\": \"rgba(0, 0, 0, 1.000)\",\n",
       "                \"width\": 1\n",
       "            },\n",
       "            \"size\": 6\n",
       "        },\n",
       "        \"zmax\": 26.0,\n",
       "        \"y\": [\n",
       "            -0.0035260768141268358\n",
       "        ],\n",
       "        \"type\": \"scatter3d\",\n",
       "        \"scene\": \"scene\"\n",
       "    },\n",
       "    {\n",
       "        \"xaxis\": \"x\",\n",
       "        \"colorbar\": {\n",
       "            \"title\": \"\"\n",
       "        },\n",
       "        \"yaxis\": \"y\",\n",
       "        \"zaxis\": \"z\",\n",
       "        \"x\": [\n",
       "            0.4\n",
       "        ],\n",
       "        \"showlegend\": false,\n",
       "        \"mode\": \"markers\",\n",
       "        \"name\": \"y1\",\n",
       "        \"zmin\": 1.0,\n",
       "        \"legendgroup\": \"y1\",\n",
       "        \"z\": [\n",
       "            -0.007609222246255986\n",
       "        ],\n",
       "        \"marker\": {\n",
       "            \"symbol\": \"circle\",\n",
       "            \"color\": \"rgba(179, 51, 89, 1.000)\",\n",
       "            \"line\": {\n",
       "                \"color\": \"rgba(0, 0, 0, 1.000)\",\n",
       "                \"width\": 1\n",
       "            },\n",
       "            \"size\": 6\n",
       "        },\n",
       "        \"zmax\": 26.0,\n",
       "        \"y\": [\n",
       "            -0.0057053121322001655\n",
       "        ],\n",
       "        \"type\": \"scatter3d\",\n",
       "        \"scene\": \"scene\"\n",
       "    },\n",
       "    {\n",
       "        \"xaxis\": \"x\",\n",
       "        \"colorbar\": {\n",
       "            \"title\": \"\"\n",
       "        },\n",
       "        \"yaxis\": \"y\",\n",
       "        \"zaxis\": \"z\",\n",
       "        \"x\": [\n",
       "            0.6\n",
       "        ],\n",
       "        \"showlegend\": false,\n",
       "        \"mode\": \"markers\",\n",
       "        \"name\": \"y1\",\n",
       "        \"zmin\": 1.0,\n",
       "        \"legendgroup\": \"y1\",\n",
       "        \"z\": [\n",
       "            -0.007609222246255986\n",
       "        ],\n",
       "        \"marker\": {\n",
       "            \"symbol\": \"circle\",\n",
       "            \"color\": \"rgba(194, 59, 80, 1.000)\",\n",
       "            \"line\": {\n",
       "                \"color\": \"rgba(0, 0, 0, 1.000)\",\n",
       "                \"width\": 1\n",
       "            },\n",
       "            \"size\": 6\n",
       "        },\n",
       "        \"zmax\": 26.0,\n",
       "        \"y\": [\n",
       "            -0.0057053121322001655\n",
       "        ],\n",
       "        \"type\": \"scatter3d\",\n",
       "        \"scene\": \"scene\"\n",
       "    },\n",
       "    {\n",
       "        \"xaxis\": \"x\",\n",
       "        \"colorbar\": {\n",
       "            \"title\": \"\"\n",
       "        },\n",
       "        \"yaxis\": \"y\",\n",
       "        \"zaxis\": \"z\",\n",
       "        \"x\": [\n",
       "            0.8\n",
       "        ],\n",
       "        \"showlegend\": false,\n",
       "        \"mode\": \"markers\",\n",
       "        \"name\": \"y1\",\n",
       "        \"zmin\": 1.0,\n",
       "        \"legendgroup\": \"y1\",\n",
       "        \"z\": [\n",
       "            -0.004702757976138022\n",
       "        ],\n",
       "        \"marker\": {\n",
       "            \"symbol\": \"circle\",\n",
       "            \"color\": \"rgba(208, 69, 69, 1.000)\",\n",
       "            \"line\": {\n",
       "                \"color\": \"rgba(0, 0, 0, 1.000)\",\n",
       "                \"width\": 1\n",
       "            },\n",
       "            \"size\": 6\n",
       "        },\n",
       "        \"zmax\": 26.0,\n",
       "        \"y\": [\n",
       "            -0.003526076814126836\n",
       "        ],\n",
       "        \"type\": \"scatter3d\",\n",
       "        \"scene\": \"scene\"\n",
       "    },\n",
       "    {\n",
       "        \"xaxis\": \"x\",\n",
       "        \"colorbar\": {\n",
       "            \"title\": \"\"\n",
       "        },\n",
       "        \"yaxis\": \"y\",\n",
       "        \"zaxis\": \"z\",\n",
       "        \"x\": [\n",
       "            1.0\n",
       "        ],\n",
       "        \"showlegend\": false,\n",
       "        \"mode\": \"markers\",\n",
       "        \"name\": \"y1\",\n",
       "        \"zmin\": 1.0,\n",
       "        \"legendgroup\": \"y1\",\n",
       "        \"z\": [\n",
       "            0.0\n",
       "        ],\n",
       "        \"marker\": {\n",
       "            \"symbol\": \"circle\",\n",
       "            \"color\": \"rgba(221, 81, 58, 1.000)\",\n",
       "            \"line\": {\n",
       "                \"color\": \"rgba(0, 0, 0, 1.000)\",\n",
       "                \"width\": 1\n",
       "            },\n",
       "            \"size\": 6\n",
       "        },\n",
       "        \"zmax\": 26.0,\n",
       "        \"y\": [\n",
       "            0.0\n",
       "        ],\n",
       "        \"type\": \"scatter3d\",\n",
       "        \"scene\": \"scene\"\n",
       "    },\n",
       "    {\n",
       "        \"xaxis\": \"x\",\n",
       "        \"colorbar\": {\n",
       "            \"title\": \"\"\n",
       "        },\n",
       "        \"yaxis\": \"y\",\n",
       "        \"zaxis\": \"z\",\n",
       "        \"x\": [\n",
       "            0.9959154149753885\n",
       "        ],\n",
       "        \"showlegend\": false,\n",
       "        \"mode\": \"markers\",\n",
       "        \"name\": \"y1\",\n",
       "        \"zmin\": 1.0,\n",
       "        \"legendgroup\": \"y1\",\n",
       "        \"z\": [\n",
       "            0.2\n",
       "        ],\n",
       "        \"marker\": {\n",
       "            \"symbol\": \"circle\",\n",
       "            \"color\": \"rgba(231, 95, 45, 1.000)\",\n",
       "            \"line\": {\n",
       "                \"color\": \"rgba(0, 0, 0, 1.000)\",\n",
       "                \"width\": 1\n",
       "            },\n",
       "            \"size\": 6\n",
       "        },\n",
       "        \"zmax\": 26.0,\n",
       "        \"y\": [\n",
       "            0.004226738158198573\n",
       "        ],\n",
       "        \"type\": \"scatter3d\",\n",
       "        \"scene\": \"scene\"\n",
       "    },\n",
       "    {\n",
       "        \"xaxis\": \"x\",\n",
       "        \"colorbar\": {\n",
       "            \"title\": \"\"\n",
       "        },\n",
       "        \"yaxis\": \"y\",\n",
       "        \"zaxis\": \"z\",\n",
       "        \"x\": [\n",
       "            0.9933910026002397\n",
       "        ],\n",
       "        \"showlegend\": false,\n",
       "        \"mode\": \"markers\",\n",
       "        \"name\": \"y1\",\n",
       "        \"zmin\": 1.0,\n",
       "        \"legendgroup\": \"y1\",\n",
       "        \"z\": [\n",
       "            0.4\n",
       "        ],\n",
       "        \"marker\": {\n",
       "            \"symbol\": \"circle\",\n",
       "            \"color\": \"rgba(240, 110, 33, 1.000)\",\n",
       "            \"line\": {\n",
       "                \"color\": \"rgba(0, 0, 0, 1.000)\",\n",
       "                \"width\": 1\n",
       "            },\n",
       "            \"size\": 6\n",
       "        },\n",
       "        \"zmax\": 26.0,\n",
       "        \"y\": [\n",
       "            0.006839006001511421\n",
       "        ],\n",
       "        \"type\": \"scatter3d\",\n",
       "        \"scene\": \"scene\"\n",
       "    },\n",
       "    {\n",
       "        \"xaxis\": \"x\",\n",
       "        \"colorbar\": {\n",
       "            \"title\": \"\"\n",
       "        },\n",
       "        \"yaxis\": \"y\",\n",
       "        \"zaxis\": \"z\",\n",
       "        \"x\": [\n",
       "            0.9933910026002397\n",
       "        ],\n",
       "        \"showlegend\": false,\n",
       "        \"mode\": \"markers\",\n",
       "        \"name\": \"y1\",\n",
       "        \"zmin\": 1.0,\n",
       "        \"legendgroup\": \"y1\",\n",
       "        \"z\": [\n",
       "            0.6\n",
       "        ],\n",
       "        \"marker\": {\n",
       "            \"symbol\": \"circle\",\n",
       "            \"color\": \"rgba(246, 127, 19, 1.000)\",\n",
       "            \"line\": {\n",
       "                \"color\": \"rgba(0, 0, 0, 1.000)\",\n",
       "                \"width\": 1\n",
       "            },\n",
       "            \"size\": 6\n",
       "        },\n",
       "        \"zmax\": 26.0,\n",
       "        \"y\": [\n",
       "            0.006839006001511421\n",
       "        ],\n",
       "        \"type\": \"scatter3d\",\n",
       "        \"scene\": \"scene\"\n",
       "    },\n",
       "    {\n",
       "        \"xaxis\": \"x\",\n",
       "        \"colorbar\": {\n",
       "            \"title\": \"\"\n",
       "        },\n",
       "        \"yaxis\": \"y\",\n",
       "        \"zaxis\": \"z\",\n",
       "        \"x\": [\n",
       "            0.9959154149753885\n",
       "        ],\n",
       "        \"showlegend\": false,\n",
       "        \"mode\": \"markers\",\n",
       "        \"name\": \"y1\",\n",
       "        \"zmin\": 1.0,\n",
       "        \"legendgroup\": \"y1\",\n",
       "        \"z\": [\n",
       "            0.8\n",
       "        ],\n",
       "        \"marker\": {\n",
       "            \"symbol\": \"circle\",\n",
       "            \"color\": \"rgba(250, 146, 7, 1.000)\",\n",
       "            \"line\": {\n",
       "                \"color\": \"rgba(0, 0, 0, 1.000)\",\n",
       "                \"width\": 1\n",
       "            },\n",
       "            \"size\": 6\n",
       "        },\n",
       "        \"zmax\": 26.0,\n",
       "        \"y\": [\n",
       "            0.004226738158198573\n",
       "        ],\n",
       "        \"type\": \"scatter3d\",\n",
       "        \"scene\": \"scene\"\n",
       "    },\n",
       "    {\n",
       "        \"xaxis\": \"x\",\n",
       "        \"colorbar\": {\n",
       "            \"title\": \"\"\n",
       "        },\n",
       "        \"yaxis\": \"y\",\n",
       "        \"zaxis\": \"z\",\n",
       "        \"x\": [\n",
       "            1.0\n",
       "        ],\n",
       "        \"showlegend\": false,\n",
       "        \"mode\": \"markers\",\n",
       "        \"name\": \"y1\",\n",
       "        \"zmin\": 1.0,\n",
       "        \"legendgroup\": \"y1\",\n",
       "        \"z\": [\n",
       "            1.0\n",
       "        ],\n",
       "        \"marker\": {\n",
       "            \"symbol\": \"circle\",\n",
       "            \"color\": \"rgba(252, 165, 10, 1.000)\",\n",
       "            \"line\": {\n",
       "                \"color\": \"rgba(0, 0, 0, 1.000)\",\n",
       "                \"width\": 1\n",
       "            },\n",
       "            \"size\": 6\n",
       "        },\n",
       "        \"zmax\": 26.0,\n",
       "        \"y\": [\n",
       "            0.0\n",
       "        ],\n",
       "        \"type\": \"scatter3d\",\n",
       "        \"scene\": \"scene\"\n",
       "    },\n",
       "    {\n",
       "        \"xaxis\": \"x\",\n",
       "        \"colorbar\": {\n",
       "            \"title\": \"\"\n",
       "        },\n",
       "        \"yaxis\": \"y\",\n",
       "        \"zaxis\": \"z\",\n",
       "        \"x\": [\n",
       "            0.6674557214152825\n",
       "        ],\n",
       "        \"showlegend\": false,\n",
       "        \"mode\": \"markers\",\n",
       "        \"name\": \"y1\",\n",
       "        \"zmin\": 1.0,\n",
       "        \"legendgroup\": \"y1\",\n",
       "        \"z\": [\n",
       "            0.6858790996481502\n",
       "        ],\n",
       "        \"marker\": {\n",
       "            \"symbol\": \"circle\",\n",
       "            \"color\": \"rgba(251, 184, 29, 1.000)\",\n",
       "            \"line\": {\n",
       "                \"color\": \"rgba(0, 0, 0, 1.000)\",\n",
       "                \"width\": 1\n",
       "            },\n",
       "            \"size\": 6\n",
       "        },\n",
       "        \"zmax\": 26.0,\n",
       "        \"y\": [\n",
       "            0.05025064922666137\n",
       "        ],\n",
       "        \"type\": \"scatter3d\",\n",
       "        \"scene\": \"scene\"\n",
       "    },\n",
       "    {\n",
       "        \"xaxis\": \"x\",\n",
       "        \"colorbar\": {\n",
       "            \"title\": \"\"\n",
       "        },\n",
       "        \"yaxis\": \"y\",\n",
       "        \"zaxis\": \"z\",\n",
       "        \"x\": [\n",
       "            0.3385442116808803\n",
       "        ],\n",
       "        \"showlegend\": false,\n",
       "        \"mode\": \"markers\",\n",
       "        \"name\": \"y1\",\n",
       "        \"zmin\": 1.0,\n",
       "        \"legendgroup\": \"y1\",\n",
       "        \"z\": [\n",
       "            0.3683538638492551\n",
       "        ],\n",
       "        \"marker\": {\n",
       "            \"symbol\": \"circle\",\n",
       "            \"color\": \"rgba(248, 204, 54, 1.000)\",\n",
       "            \"line\": {\n",
       "                \"color\": \"rgba(0, 0, 0, 1.000)\",\n",
       "                \"width\": 1\n",
       "            },\n",
       "            \"size\": 6\n",
       "        },\n",
       "        \"zmax\": 26.0,\n",
       "        \"y\": [\n",
       "            0.10187189887294223\n",
       "        ],\n",
       "        \"type\": \"scatter3d\",\n",
       "        \"scene\": \"scene\"\n",
       "    },\n",
       "    {\n",
       "        \"xaxis\": \"x\",\n",
       "        \"colorbar\": {\n",
       "            \"title\": \"\"\n",
       "        },\n",
       "        \"yaxis\": \"y\",\n",
       "        \"zaxis\": \"z\",\n",
       "        \"x\": [\n",
       "            0.015510645419560092\n",
       "        ],\n",
       "        \"showlegend\": false,\n",
       "        \"mode\": \"markers\",\n",
       "        \"name\": \"y1\",\n",
       "        \"zmin\": 1.0,\n",
       "        \"legendgroup\": \"y1\",\n",
       "        \"z\": [\n",
       "            0.04532029758793495\n",
       "        ],\n",
       "        \"marker\": {\n",
       "            \"symbol\": \"circle\",\n",
       "            \"color\": \"rgba(244, 224, 85, 1.000)\",\n",
       "            \"line\": {\n",
       "                \"color\": \"rgba(0, 0, 0, 1.000)\",\n",
       "                \"width\": 1\n",
       "            },\n",
       "            \"size\": 6\n",
       "        },\n",
       "        \"zmax\": 26.0,\n",
       "        \"y\": [\n",
       "            0.15571082658316227\n",
       "        ],\n",
       "        \"type\": \"scatter3d\",\n",
       "        \"scene\": \"scene\"\n",
       "    },\n",
       "    {\n",
       "        \"xaxis\": \"x\",\n",
       "        \"colorbar\": {\n",
       "            \"title\": \"\"\n",
       "        },\n",
       "        \"yaxis\": \"y\",\n",
       "        \"zaxis\": \"z\",\n",
       "        \"x\": [\n",
       "            -0.3016449773686787\n",
       "        ],\n",
       "        \"showlegend\": false,\n",
       "        \"mode\": \"markers\",\n",
       "        \"name\": \"y1\",\n",
       "        \"zmin\": 1.0,\n",
       "        \"legendgroup\": \"y1\",\n",
       "        \"z\": [\n",
       "            -0.283221599135811\n",
       "        ],\n",
       "        \"marker\": {\n",
       "            \"symbol\": \"circle\",\n",
       "            \"color\": \"rgba(242, 242, 124, 1.000)\",\n",
       "            \"line\": {\n",
       "                \"color\": \"rgba(0, 0, 0, 1.000)\",\n",
       "                \"width\": 1\n",
       "            },\n",
       "            \"size\": 6\n",
       "        },\n",
       "        \"zmax\": 26.0,\n",
       "        \"y\": [\n",
       "            0.21176743235732154\n",
       "        ],\n",
       "        \"type\": \"scatter3d\",\n",
       "        \"scene\": \"scene\"\n",
       "    },\n",
       "    {\n",
       "        \"xaxis\": \"x\",\n",
       "        \"colorbar\": {\n",
       "            \"title\": \"\"\n",
       "        },\n",
       "        \"yaxis\": \"y\",\n",
       "        \"zaxis\": \"z\",\n",
       "        \"x\": [\n",
       "            -0.6151678313066017\n",
       "        ],\n",
       "        \"showlegend\": false,\n",
       "        \"mode\": \"markers\",\n",
       "        \"name\": \"y1\",\n",
       "        \"zmin\": 1.0,\n",
       "        \"legendgroup\": \"y1\",\n",
       "        \"z\": [\n",
       "            -0.6151678313066017\n",
       "        ],\n",
       "        \"marker\": {\n",
       "            \"symbol\": \"circle\",\n",
       "            \"color\": \"rgba(252, 255, 164, 1.000)\",\n",
       "            \"line\": {\n",
       "                \"color\": \"rgba(0, 0, 0, 1.000)\",\n",
       "                \"width\": 1\n",
       "            },\n",
       "            \"size\": 6\n",
       "        },\n",
       "        \"zmax\": 26.0,\n",
       "        \"y\": [\n",
       "            0.26919463855110026\n",
       "        ],\n",
       "        \"type\": \"scatter3d\",\n",
       "        \"scene\": \"scene\"\n",
       "    },\n",
       "    {\n",
       "        \"xaxis\": \"x\",\n",
       "        \"colorbar\": {\n",
       "            \"title\": \"\"\n",
       "        },\n",
       "        \"yaxis\": \"y\",\n",
       "        \"zaxis\": \"z\",\n",
       "        \"x\": [\n",
       "            1.5526213032779128\n",
       "        ],\n",
       "        \"showlegend\": false,\n",
       "        \"mode\": \"markers\",\n",
       "        \"name\": \"y1\",\n",
       "        \"zmin\": 1.0,\n",
       "        \"z\": [\n",
       "            -0.4785840873111373\n",
       "        ],\n",
       "        \"marker\": {\n",
       "            \"color\": [\n",
       "                0.5\n",
       "            ],\n",
       "            \"cmin\": 1.0,\n",
       "            \"opacity\": 1.0e-10,\n",
       "            \"size\": 1.0e-10,\n",
       "            \"colorscale\": [\n",
       "                [\n",
       "                    0.0,\n",
       "                    \"rgba(0, 0, 4, 1.000)\"\n",
       "                ],\n",
       "                [\n",
       "                    0.00392156862745098,\n",
       "                    \"rgba(1, 0, 5, 1.000)\"\n",
       "                ],\n",
       "                [\n",
       "                    0.00784313725490196,\n",
       "                    \"rgba(1, 1, 6, 1.000)\"\n",
       "                ],\n",
       "                [\n",
       "                    0.011764705882352941,\n",
       "                    \"rgba(1, 1, 8, 1.000)\"\n",
       "                ],\n",
       "                [\n",
       "                    0.01568627450980392,\n",
       "                    \"rgba(2, 1, 10, 1.000)\"\n",
       "                ],\n",
       "                [\n",
       "                    0.0196078431372549,\n",
       "                    \"rgba(2, 2, 12, 1.000)\"\n",
       "                ],\n",
       "                [\n",
       "                    0.023529411764705882,\n",
       "                    \"rgba(2, 2, 14, 1.000)\"\n",
       "                ],\n",
       "                [\n",
       "                    0.027450980392156862,\n",
       "                    \"rgba(3, 2, 16, 1.000)\"\n",
       "                ],\n",
       "                [\n",
       "                    0.03137254901960784,\n",
       "                    \"rgba(4, 3, 18, 1.000)\"\n",
       "                ],\n",
       "                [\n",
       "                    0.03529411764705882,\n",
       "                    \"rgba(4, 3, 20, 1.000)\"\n",
       "                ],\n",
       "                [\n",
       "                    0.0392156862745098,\n",
       "                    \"rgba(5, 4, 23, 1.000)\"\n",
       "                ],\n",
       "                [\n",
       "                    0.043137254901960784,\n",
       "                    \"rgba(6, 4, 25, 1.000)\"\n",
       "                ],\n",
       "                [\n",
       "                    0.047058823529411764,\n",
       "                    \"rgba(7, 5, 27, 1.000)\"\n",
       "                ],\n",
       "                [\n",
       "                    0.050980392156862744,\n",
       "                    \"rgba(8, 5, 29, 1.000)\"\n",
       "                ],\n",
       "                [\n",
       "                    0.054901960784313725,\n",
       "                    \"rgba(9, 6, 31, 1.000)\"\n",
       "                ],\n",
       "                [\n",
       "                    0.058823529411764705,\n",
       "                    \"rgba(10, 7, 34, 1.000)\"\n",
       "                ],\n",
       "                [\n",
       "                    0.06274509803921569,\n",
       "                    \"rgba(11, 7, 36, 1.000)\"\n",
       "                ],\n",
       "                [\n",
       "                    0.06666666666666667,\n",
       "                    \"rgba(12, 8, 38, 1.000)\"\n",
       "                ],\n",
       "                [\n",
       "                    0.07058823529411765,\n",
       "                    \"rgba(13, 8, 41, 1.000)\"\n",
       "                ],\n",
       "                [\n",
       "                    0.07450980392156863,\n",
       "                    \"rgba(14, 9, 43, 1.000)\"\n",
       "                ],\n",
       "                [\n",
       "                    0.0784313725490196,\n",
       "                    \"rgba(16, 9, 45, 1.000)\"\n",
       "                ],\n",
       "                [\n",
       "                    0.08235294117647059,\n",
       "                    \"rgba(17, 10, 48, 1.000)\"\n",
       "                ],\n",
       "                [\n",
       "                    0.08627450980392157,\n",
       "                    \"rgba(18, 10, 50, 1.000)\"\n",
       "                ],\n",
       "                [\n",
       "                    0.09019607843137255,\n",
       "                    \"rgba(20, 11, 52, 1.000)\"\n",
       "                ],\n",
       "                [\n",
       "                    0.09411764705882353,\n",
       "                    \"rgba(21, 11, 55, 1.000)\"\n",
       "                ],\n",
       "                [\n",
       "                    0.09803921568627451,\n",
       "                    \"rgba(22, 11, 57, 1.000)\"\n",
       "                ],\n",
       "                [\n",
       "                    0.10196078431372549,\n",
       "                    \"rgba(24, 12, 60, 1.000)\"\n",
       "                ],\n",
       "                [\n",
       "                    0.10588235294117647,\n",
       "                    \"rgba(25, 12, 62, 1.000)\"\n",
       "                ],\n",
       "                [\n",
       "                    0.10980392156862745,\n",
       "                    \"rgba(27, 12, 65, 1.000)\"\n",
       "                ],\n",
       "                [\n",
       "                    0.11372549019607843,\n",
       "                    \"rgba(28, 12, 67, 1.000)\"\n",
       "                ],\n",
       "                [\n",
       "                    0.11764705882352941,\n",
       "                    \"rgba(30, 12, 69, 1.000)\"\n",
       "                ],\n",
       "                [\n",
       "                    0.12156862745098039,\n",
       "                    \"rgba(31, 12, 72, 1.000)\"\n",
       "                ],\n",
       "                [\n",
       "                    0.12549019607843137,\n",
       "                    \"rgba(33, 12, 74, 1.000)\"\n",
       "                ],\n",
       "                [\n",
       "                    0.12941176470588237,\n",
       "                    \"rgba(35, 12, 76, 1.000)\"\n",
       "                ],\n",
       "                [\n",
       "                    0.13333333333333333,\n",
       "                    \"rgba(36, 12, 79, 1.000)\"\n",
       "                ],\n",
       "                [\n",
       "                    0.13725490196078433,\n",
       "                    \"rgba(38, 12, 81, 1.000)\"\n",
       "                ],\n",
       "                [\n",
       "                    0.1411764705882353,\n",
       "                    \"rgba(40, 11, 83, 1.000)\"\n",
       "                ],\n",
       "                [\n",
       "                    0.1450980392156863,\n",
       "                    \"rgba(41, 11, 85, 1.000)\"\n",
       "                ],\n",
       "                [\n",
       "                    0.14901960784313725,\n",
       "                    \"rgba(43, 11, 87, 1.000)\"\n",
       "                ],\n",
       "                [\n",
       "                    0.15294117647058825,\n",
       "                    \"rgba(45, 11, 89, 1.000)\"\n",
       "                ],\n",
       "                [\n",
       "                    0.1568627450980392,\n",
       "                    \"rgba(47, 10, 91, 1.000)\"\n",
       "                ],\n",
       "                [\n",
       "                    0.1607843137254902,\n",
       "                    \"rgba(49, 10, 92, 1.000)\"\n",
       "                ],\n",
       "                [\n",
       "                    0.16470588235294117,\n",
       "                    \"rgba(50, 10, 94, 1.000)\"\n",
       "                ],\n",
       "                [\n",
       "                    0.16862745098039217,\n",
       "                    \"rgba(52, 10, 95, 1.000)\"\n",
       "                ],\n",
       "                [\n",
       "                    0.17254901960784313,\n",
       "                    \"rgba(54, 9, 97, 1.000)\"\n",
       "                ],\n",
       "                [\n",
       "                    0.17647058823529413,\n",
       "                    \"rgba(56, 9, 98, 1.000)\"\n",
       "                ],\n",
       "                [\n",
       "                    0.1803921568627451,\n",
       "                    \"rgba(57, 9, 99, 1.000)\"\n",
       "                ],\n",
       "                [\n",
       "                    0.1843137254901961,\n",
       "                    \"rgba(59, 9, 100, 1.000)\"\n",
       "                ],\n",
       "                [\n",
       "                    0.18823529411764706,\n",
       "                    \"rgba(61, 9, 101, 1.000)\"\n",
       "                ],\n",
       "                [\n",
       "                    0.19215686274509805,\n",
       "                    \"rgba(62, 9, 102, 1.000)\"\n",
       "                ],\n",
       "                [\n",
       "                    0.19607843137254902,\n",
       "                    \"rgba(64, 10, 103, 1.000)\"\n",
       "                ],\n",
       "                [\n",
       "                    0.2,\n",
       "                    \"rgba(66, 10, 104, 1.000)\"\n",
       "                ],\n",
       "                [\n",
       "                    0.20392156862745098,\n",
       "                    \"rgba(68, 10, 104, 1.000)\"\n",
       "                ],\n",
       "                [\n",
       "                    0.20784313725490197,\n",
       "                    \"rgba(69, 10, 105, 1.000)\"\n",
       "                ],\n",
       "                [\n",
       "                    0.21176470588235294,\n",
       "                    \"rgba(71, 11, 106, 1.000)\"\n",
       "                ],\n",
       "                [\n",
       "                    0.21568627450980393,\n",
       "                    \"rgba(73, 11, 106, 1.000)\"\n",
       "                ],\n",
       "                [\n",
       "                    0.2196078431372549,\n",
       "                    \"rgba(74, 12, 107, 1.000)\"\n",
       "                ],\n",
       "                [\n",
       "                    0.2235294117647059,\n",
       "                    \"rgba(76, 12, 107, 1.000)\"\n",
       "                ],\n",
       "                [\n",
       "                    0.22745098039215686,\n",
       "                    \"rgba(77, 13, 108, 1.000)\"\n",
       "                ],\n",
       "                [\n",
       "                    0.23137254901960785,\n",
       "                    \"rgba(79, 13, 108, 1.000)\"\n",
       "                ],\n",
       "                [\n",
       "                    0.23529411764705882,\n",
       "                    \"rgba(81, 14, 108, 1.000)\"\n",
       "                ],\n",
       "                [\n",
       "                    0.23921568627450981,\n",
       "                    \"rgba(82, 14, 109, 1.000)\"\n",
       "                ],\n",
       "                [\n",
       "                    0.24313725490196078,\n",
       "                    \"rgba(84, 15, 109, 1.000)\"\n",
       "                ],\n",
       "                [\n",
       "                    0.24705882352941178,\n",
       "                    \"rgba(85, 15, 109, 1.000)\"\n",
       "                ],\n",
       "                [\n",
       "                    0.25098039215686274,\n",
       "                    \"rgba(87, 16, 110, 1.000)\"\n",
       "                ],\n",
       "                [\n",
       "                    0.2549019607843137,\n",
       "                    \"rgba(89, 16, 110, 1.000)\"\n",
       "                ],\n",
       "                [\n",
       "                    0.25882352941176473,\n",
       "                    \"rgba(90, 17, 110, 1.000)\"\n",
       "                ],\n",
       "                [\n",
       "                    0.2627450980392157,\n",
       "                    \"rgba(92, 18, 110, 1.000)\"\n",
       "                ],\n",
       "                [\n",
       "                    0.26666666666666666,\n",
       "                    \"rgba(93, 18, 110, 1.000)\"\n",
       "                ],\n",
       "                [\n",
       "                    0.27058823529411763,\n",
       "                    \"rgba(95, 19, 110, 1.000)\"\n",
       "                ],\n",
       "                [\n",
       "                    0.27450980392156865,\n",
       "                    \"rgba(97, 19, 110, 1.000)\"\n",
       "                ],\n",
       "                [\n",
       "                    0.2784313725490196,\n",
       "                    \"rgba(98, 20, 110, 1.000)\"\n",
       "                ],\n",
       "                [\n",
       "                    0.2823529411764706,\n",
       "                    \"rgba(100, 21, 110, 1.000)\"\n",
       "                ],\n",
       "                [\n",
       "                    0.28627450980392155,\n",
       "                    \"rgba(101, 21, 110, 1.000)\"\n",
       "                ],\n",
       "                [\n",
       "                    0.2901960784313726,\n",
       "                    \"rgba(103, 22, 110, 1.000)\"\n",
       "                ],\n",
       "                [\n",
       "                    0.29411764705882354,\n",
       "                    \"rgba(105, 22, 110, 1.000)\"\n",
       "                ],\n",
       "                [\n",
       "                    0.2980392156862745,\n",
       "                    \"rgba(106, 23, 110, 1.000)\"\n",
       "                ],\n",
       "                [\n",
       "                    0.30196078431372547,\n",
       "                    \"rgba(108, 24, 110, 1.000)\"\n",
       "                ],\n",
       "                [\n",
       "                    0.3058823529411765,\n",
       "                    \"rgba(109, 24, 110, 1.000)\"\n",
       "                ],\n",
       "                [\n",
       "                    0.30980392156862746,\n",
       "                    \"rgba(111, 25, 110, 1.000)\"\n",
       "                ],\n",
       "                [\n",
       "                    0.3137254901960784,\n",
       "                    \"rgba(113, 25, 110, 1.000)\"\n",
       "                ],\n",
       "                [\n",
       "                    0.3176470588235294,\n",
       "                    \"rgba(114, 26, 110, 1.000)\"\n",
       "                ],\n",
       "                [\n",
       "                    0.3215686274509804,\n",
       "                    \"rgba(116, 26, 110, 1.000)\"\n",
       "                ],\n",
       "                [\n",
       "                    0.3254901960784314,\n",
       "                    \"rgba(117, 27, 110, 1.000)\"\n",
       "                ],\n",
       "                [\n",
       "                    0.32941176470588235,\n",
       "                    \"rgba(119, 28, 109, 1.000)\"\n",
       "                ],\n",
       "                [\n",
       "                    0.3333333333333333,\n",
       "                    \"rgba(120, 28, 109, 1.000)\"\n",
       "                ],\n",
       "                [\n",
       "                    0.33725490196078434,\n",
       "                    \"rgba(122, 29, 109, 1.000)\"\n",
       "                ],\n",
       "                [\n",
       "                    0.3411764705882353,\n",
       "                    \"rgba(124, 29, 109, 1.000)\"\n",
       "                ],\n",
       "                [\n",
       "                    0.34509803921568627,\n",
       "                    \"rgba(125, 30, 109, 1.000)\"\n",
       "                ],\n",
       "                [\n",
       "                    0.34901960784313724,\n",
       "                    \"rgba(127, 30, 108, 1.000)\"\n",
       "                ],\n",
       "                [\n",
       "                    0.35294117647058826,\n",
       "                    \"rgba(128, 31, 108, 1.000)\"\n",
       "                ],\n",
       "                [\n",
       "                    0.3568627450980392,\n",
       "                    \"rgba(130, 32, 108, 1.000)\"\n",
       "                ],\n",
       "                [\n",
       "                    0.3607843137254902,\n",
       "                    \"rgba(132, 32, 107, 1.000)\"\n",
       "                ],\n",
       "                [\n",
       "                    0.36470588235294116,\n",
       "                    \"rgba(133, 33, 107, 1.000)\"\n",
       "                ],\n",
       "                [\n",
       "                    0.3686274509803922,\n",
       "                    \"rgba(135, 33, 107, 1.000)\"\n",
       "                ],\n",
       "                [\n",
       "                    0.37254901960784315,\n",
       "                    \"rgba(136, 34, 106, 1.000)\"\n",
       "                ],\n",
       "                [\n",
       "                    0.3764705882352941,\n",
       "                    \"rgba(138, 34, 106, 1.000)\"\n",
       "                ],\n",
       "                [\n",
       "                    0.3803921568627451,\n",
       "                    \"rgba(140, 35, 105, 1.000)\"\n",
       "                ],\n",
       "                [\n",
       "                    0.3843137254901961,\n",
       "                    \"rgba(141, 35, 105, 1.000)\"\n",
       "                ],\n",
       "                [\n",
       "                    0.38823529411764707,\n",
       "                    \"rgba(143, 36, 105, 1.000)\"\n",
       "                ],\n",
       "                [\n",
       "                    0.39215686274509803,\n",
       "                    \"rgba(144, 37, 104, 1.000)\"\n",
       "                ],\n",
       "                [\n",
       "                    0.396078431372549,\n",
       "                    \"rgba(146, 37, 104, 1.000)\"\n",
       "                ],\n",
       "                [\n",
       "                    0.4,\n",
       "                    \"rgba(147, 38, 103, 1.000)\"\n",
       "                ],\n",
       "                [\n",
       "                    0.403921568627451,\n",
       "                    \"rgba(149, 38, 103, 1.000)\"\n",
       "                ],\n",
       "                [\n",
       "                    0.40784313725490196,\n",
       "                    \"rgba(151, 39, 102, 1.000)\"\n",
       "                ],\n",
       "                [\n",
       "                    0.4117647058823529,\n",
       "                    \"rgba(152, 39, 102, 1.000)\"\n",
       "                ],\n",
       "                [\n",
       "                    0.41568627450980394,\n",
       "                    \"rgba(154, 40, 101, 1.000)\"\n",
       "                ],\n",
       "                [\n",
       "                    0.4196078431372549,\n",
       "                    \"rgba(155, 41, 100, 1.000)\"\n",
       "                ],\n",
       "                [\n",
       "                    0.4235294117647059,\n",
       "                    \"rgba(157, 41, 100, 1.000)\"\n",
       "                ],\n",
       "                [\n",
       "                    0.42745098039215684,\n",
       "                    \"rgba(159, 42, 99, 1.000)\"\n",
       "                ],\n",
       "                [\n",
       "                    0.43137254901960786,\n",
       "                    \"rgba(160, 42, 99, 1.000)\"\n",
       "                ],\n",
       "                [\n",
       "                    0.43529411764705883,\n",
       "                    \"rgba(162, 43, 98, 1.000)\"\n",
       "                ],\n",
       "                [\n",
       "                    0.4392156862745098,\n",
       "                    \"rgba(163, 44, 97, 1.000)\"\n",
       "                ],\n",
       "                [\n",
       "                    0.44313725490196076,\n",
       "                    \"rgba(165, 44, 96, 1.000)\"\n",
       "                ],\n",
       "                [\n",
       "                    0.4470588235294118,\n",
       "                    \"rgba(166, 45, 96, 1.000)\"\n",
       "                ],\n",
       "                [\n",
       "                    0.45098039215686275,\n",
       "                    \"rgba(168, 46, 95, 1.000)\"\n",
       "                ],\n",
       "                [\n",
       "                    0.4549019607843137,\n",
       "                    \"rgba(169, 46, 94, 1.000)\"\n",
       "                ],\n",
       "                [\n",
       "                    0.4588235294117647,\n",
       "                    \"rgba(171, 47, 94, 1.000)\"\n",
       "                ],\n",
       "                [\n",
       "                    0.4627450980392157,\n",
       "                    \"rgba(173, 48, 93, 1.000)\"\n",
       "                ],\n",
       "                [\n",
       "                    0.4666666666666667,\n",
       "                    \"rgba(174, 48, 92, 1.000)\"\n",
       "                ],\n",
       "                [\n",
       "                    0.47058823529411764,\n",
       "                    \"rgba(176, 49, 91, 1.000)\"\n",
       "                ],\n",
       "                [\n",
       "                    0.4745098039215686,\n",
       "                    \"rgba(177, 50, 90, 1.000)\"\n",
       "                ],\n",
       "                [\n",
       "                    0.47843137254901963,\n",
       "                    \"rgba(179, 50, 90, 1.000)\"\n",
       "                ],\n",
       "                [\n",
       "                    0.4823529411764706,\n",
       "                    \"rgba(180, 51, 89, 1.000)\"\n",
       "                ],\n",
       "                [\n",
       "                    0.48627450980392156,\n",
       "                    \"rgba(182, 52, 88, 1.000)\"\n",
       "                ],\n",
       "                [\n",
       "                    0.49019607843137253,\n",
       "                    \"rgba(183, 53, 87, 1.000)\"\n",
       "                ],\n",
       "                [\n",
       "                    0.49411764705882355,\n",
       "                    \"rgba(185, 53, 86, 1.000)\"\n",
       "                ],\n",
       "                [\n",
       "                    0.4980392156862745,\n",
       "                    \"rgba(186, 54, 85, 1.000)\"\n",
       "                ],\n",
       "                [\n",
       "                    0.5019607843137255,\n",
       "                    \"rgba(188, 55, 84, 1.000)\"\n",
       "                ],\n",
       "                [\n",
       "                    0.5058823529411764,\n",
       "                    \"rgba(189, 56, 83, 1.000)\"\n",
       "                ],\n",
       "                [\n",
       "                    0.5098039215686274,\n",
       "                    \"rgba(191, 57, 82, 1.000)\"\n",
       "                ],\n",
       "                [\n",
       "                    0.5137254901960784,\n",
       "                    \"rgba(192, 58, 81, 1.000)\"\n",
       "                ],\n",
       "                [\n",
       "                    0.5176470588235295,\n",
       "                    \"rgba(193, 58, 80, 1.000)\"\n",
       "                ],\n",
       "                [\n",
       "                    0.5215686274509804,\n",
       "                    \"rgba(195, 59, 79, 1.000)\"\n",
       "                ],\n",
       "                [\n",
       "                    0.5254901960784314,\n",
       "                    \"rgba(196, 60, 78, 1.000)\"\n",
       "                ],\n",
       "                [\n",
       "                    0.5294117647058824,\n",
       "                    \"rgba(198, 61, 77, 1.000)\"\n",
       "                ],\n",
       "                [\n",
       "                    0.5333333333333333,\n",
       "                    \"rgba(199, 62, 76, 1.000)\"\n",
       "                ],\n",
       "                [\n",
       "                    0.5372549019607843,\n",
       "                    \"rgba(200, 63, 75, 1.000)\"\n",
       "                ],\n",
       "                [\n",
       "                    0.5411764705882353,\n",
       "                    \"rgba(202, 64, 74, 1.000)\"\n",
       "                ],\n",
       "                [\n",
       "                    0.5450980392156862,\n",
       "                    \"rgba(203, 65, 73, 1.000)\"\n",
       "                ],\n",
       "                [\n",
       "                    0.5490196078431373,\n",
       "                    \"rgba(204, 66, 72, 1.000)\"\n",
       "                ],\n",
       "                [\n",
       "                    0.5529411764705883,\n",
       "                    \"rgba(206, 67, 71, 1.000)\"\n",
       "                ],\n",
       "                [\n",
       "                    0.5568627450980392,\n",
       "                    \"rgba(207, 68, 70, 1.000)\"\n",
       "                ],\n",
       "                [\n",
       "                    0.5607843137254902,\n",
       "                    \"rgba(208, 69, 69, 1.000)\"\n",
       "                ],\n",
       "                [\n",
       "                    0.5647058823529412,\n",
       "                    \"rgba(210, 70, 68, 1.000)\"\n",
       "                ],\n",
       "                [\n",
       "                    0.5686274509803921,\n",
       "                    \"rgba(211, 71, 67, 1.000)\"\n",
       "                ],\n",
       "                [\n",
       "                    0.5725490196078431,\n",
       "                    \"rgba(212, 72, 66, 1.000)\"\n",
       "                ],\n",
       "                [\n",
       "                    0.5764705882352941,\n",
       "                    \"rgba(213, 74, 65, 1.000)\"\n",
       "                ],\n",
       "                [\n",
       "                    0.5803921568627451,\n",
       "                    \"rgba(215, 75, 63, 1.000)\"\n",
       "                ],\n",
       "                [\n",
       "                    0.5843137254901961,\n",
       "                    \"rgba(216, 76, 62, 1.000)\"\n",
       "                ],\n",
       "                [\n",
       "                    0.5882352941176471,\n",
       "                    \"rgba(217, 77, 61, 1.000)\"\n",
       "                ],\n",
       "                [\n",
       "                    0.592156862745098,\n",
       "                    \"rgba(218, 78, 60, 1.000)\"\n",
       "                ],\n",
       "                [\n",
       "                    0.596078431372549,\n",
       "                    \"rgba(219, 80, 59, 1.000)\"\n",
       "                ],\n",
       "                [\n",
       "                    0.6,\n",
       "                    \"rgba(221, 81, 58, 1.000)\"\n",
       "                ],\n",
       "                [\n",
       "                    0.6039215686274509,\n",
       "                    \"rgba(222, 82, 56, 1.000)\"\n",
       "                ],\n",
       "                [\n",
       "                    0.6078431372549019,\n",
       "                    \"rgba(223, 83, 55, 1.000)\"\n",
       "                ],\n",
       "                [\n",
       "                    0.611764705882353,\n",
       "                    \"rgba(224, 85, 54, 1.000)\"\n",
       "                ],\n",
       "                [\n",
       "                    0.615686274509804,\n",
       "                    \"rgba(225, 86, 53, 1.000)\"\n",
       "                ],\n",
       "                [\n",
       "                    0.6196078431372549,\n",
       "                    \"rgba(226, 87, 52, 1.000)\"\n",
       "                ],\n",
       "                [\n",
       "                    0.6235294117647059,\n",
       "                    \"rgba(227, 89, 51, 1.000)\"\n",
       "                ],\n",
       "                [\n",
       "                    0.6274509803921569,\n",
       "                    \"rgba(228, 90, 49, 1.000)\"\n",
       "                ],\n",
       "                [\n",
       "                    0.6313725490196078,\n",
       "                    \"rgba(229, 92, 48, 1.000)\"\n",
       "                ],\n",
       "                [\n",
       "                    0.6352941176470588,\n",
       "                    \"rgba(230, 93, 47, 1.000)\"\n",
       "                ],\n",
       "                [\n",
       "                    0.6392156862745098,\n",
       "                    \"rgba(231, 94, 46, 1.000)\"\n",
       "                ],\n",
       "                [\n",
       "                    0.6431372549019608,\n",
       "                    \"rgba(232, 96, 45, 1.000)\"\n",
       "                ],\n",
       "                [\n",
       "                    0.6470588235294118,\n",
       "                    \"rgba(233, 97, 43, 1.000)\"\n",
       "                ],\n",
       "                [\n",
       "                    0.6509803921568628,\n",
       "                    \"rgba(234, 99, 42, 1.000)\"\n",
       "                ],\n",
       "                [\n",
       "                    0.6549019607843137,\n",
       "                    \"rgba(235, 100, 41, 1.000)\"\n",
       "                ],\n",
       "                [\n",
       "                    0.6588235294117647,\n",
       "                    \"rgba(235, 102, 40, 1.000)\"\n",
       "                ],\n",
       "                [\n",
       "                    0.6627450980392157,\n",
       "                    \"rgba(236, 103, 38, 1.000)\"\n",
       "                ],\n",
       "                [\n",
       "                    0.6666666666666666,\n",
       "                    \"rgba(237, 105, 37, 1.000)\"\n",
       "                ],\n",
       "                [\n",
       "                    0.6705882352941176,\n",
       "                    \"rgba(238, 106, 36, 1.000)\"\n",
       "                ],\n",
       "                [\n",
       "                    0.6745098039215687,\n",
       "                    \"rgba(239, 108, 35, 1.000)\"\n",
       "                ],\n",
       "                [\n",
       "                    0.6784313725490196,\n",
       "                    \"rgba(239, 110, 33, 1.000)\"\n",
       "                ],\n",
       "                [\n",
       "                    0.6823529411764706,\n",
       "                    \"rgba(240, 111, 32, 1.000)\"\n",
       "                ],\n",
       "                [\n",
       "                    0.6862745098039216,\n",
       "                    \"rgba(241, 113, 31, 1.000)\"\n",
       "                ],\n",
       "                [\n",
       "                    0.6901960784313725,\n",
       "                    \"rgba(241, 115, 29, 1.000)\"\n",
       "                ],\n",
       "                [\n",
       "                    0.6941176470588235,\n",
       "                    \"rgba(242, 116, 28, 1.000)\"\n",
       "                ],\n",
       "                [\n",
       "                    0.6980392156862745,\n",
       "                    \"rgba(243, 118, 27, 1.000)\"\n",
       "                ],\n",
       "                [\n",
       "                    0.7019607843137254,\n",
       "                    \"rgba(243, 120, 25, 1.000)\"\n",
       "                ],\n",
       "                [\n",
       "                    0.7058823529411765,\n",
       "                    \"rgba(244, 121, 24, 1.000)\"\n",
       "                ],\n",
       "                [\n",
       "                    0.7098039215686275,\n",
       "                    \"rgba(245, 123, 23, 1.000)\"\n",
       "                ],\n",
       "                [\n",
       "                    0.7137254901960784,\n",
       "                    \"rgba(245, 125, 21, 1.000)\"\n",
       "                ],\n",
       "                [\n",
       "                    0.7176470588235294,\n",
       "                    \"rgba(246, 126, 20, 1.000)\"\n",
       "                ],\n",
       "                [\n",
       "                    0.7215686274509804,\n",
       "                    \"rgba(246, 128, 19, 1.000)\"\n",
       "                ],\n",
       "                [\n",
       "                    0.7254901960784313,\n",
       "                    \"rgba(247, 130, 18, 1.000)\"\n",
       "                ],\n",
       "                [\n",
       "                    0.7294117647058823,\n",
       "                    \"rgba(247, 132, 16, 1.000)\"\n",
       "                ],\n",
       "                [\n",
       "                    0.7333333333333333,\n",
       "                    \"rgba(248, 133, 15, 1.000)\"\n",
       "                ],\n",
       "                [\n",
       "                    0.7372549019607844,\n",
       "                    \"rgba(248, 135, 14, 1.000)\"\n",
       "                ],\n",
       "                [\n",
       "                    0.7411764705882353,\n",
       "                    \"rgba(248, 137, 12, 1.000)\"\n",
       "                ],\n",
       "                [\n",
       "                    0.7450980392156863,\n",
       "                    \"rgba(249, 139, 11, 1.000)\"\n",
       "                ],\n",
       "                [\n",
       "                    0.7490196078431373,\n",
       "                    \"rgba(249, 140, 10, 1.000)\"\n",
       "                ],\n",
       "                [\n",
       "                    0.7529411764705882,\n",
       "                    \"rgba(249, 142, 9, 1.000)\"\n",
       "                ],\n",
       "                [\n",
       "                    0.7568627450980392,\n",
       "                    \"rgba(250, 144, 8, 1.000)\"\n",
       "                ],\n",
       "                [\n",
       "                    0.7607843137254902,\n",
       "                    \"rgba(250, 146, 7, 1.000)\"\n",
       "                ],\n",
       "                [\n",
       "                    0.7647058823529411,\n",
       "                    \"rgba(250, 148, 7, 1.000)\"\n",
       "                ],\n",
       "                [\n",
       "                    0.7686274509803922,\n",
       "                    \"rgba(251, 150, 6, 1.000)\"\n",
       "                ],\n",
       "                [\n",
       "                    0.7725490196078432,\n",
       "                    \"rgba(251, 151, 6, 1.000)\"\n",
       "                ],\n",
       "                [\n",
       "                    0.7764705882352941,\n",
       "                    \"rgba(251, 153, 6, 1.000)\"\n",
       "                ],\n",
       "                [\n",
       "                    0.7803921568627451,\n",
       "                    \"rgba(251, 155, 6, 1.000)\"\n",
       "                ],\n",
       "                [\n",
       "                    0.7843137254901961,\n",
       "                    \"rgba(251, 157, 7, 1.000)\"\n",
       "                ],\n",
       "                [\n",
       "                    0.788235294117647,\n",
       "                    \"rgba(252, 159, 7, 1.000)\"\n",
       "                ],\n",
       "                [\n",
       "                    0.792156862745098,\n",
       "                    \"rgba(252, 161, 8, 1.000)\"\n",
       "                ],\n",
       "                [\n",
       "                    0.796078431372549,\n",
       "                    \"rgba(252, 163, 9, 1.000)\"\n",
       "                ],\n",
       "                [\n",
       "                    0.8,\n",
       "                    \"rgba(252, 165, 10, 1.000)\"\n",
       "                ],\n",
       "                [\n",
       "                    0.803921568627451,\n",
       "                    \"rgba(252, 166, 12, 1.000)\"\n",
       "                ],\n",
       "                [\n",
       "                    0.807843137254902,\n",
       "                    \"rgba(252, 168, 13, 1.000)\"\n",
       "                ],\n",
       "                [\n",
       "                    0.8117647058823529,\n",
       "                    \"rgba(252, 170, 15, 1.000)\"\n",
       "                ],\n",
       "                [\n",
       "                    0.8156862745098039,\n",
       "                    \"rgba(252, 172, 17, 1.000)\"\n",
       "                ],\n",
       "                [\n",
       "                    0.8196078431372549,\n",
       "                    \"rgba(252, 174, 18, 1.000)\"\n",
       "                ],\n",
       "                [\n",
       "                    0.8235294117647058,\n",
       "                    \"rgba(252, 176, 20, 1.000)\"\n",
       "                ],\n",
       "                [\n",
       "                    0.8274509803921568,\n",
       "                    \"rgba(252, 178, 22, 1.000)\"\n",
       "                ],\n",
       "                [\n",
       "                    0.8313725490196079,\n",
       "                    \"rgba(252, 180, 24, 1.000)\"\n",
       "                ],\n",
       "                [\n",
       "                    0.8352941176470589,\n",
       "                    \"rgba(251, 182, 26, 1.000)\"\n",
       "                ],\n",
       "                [\n",
       "                    0.8392156862745098,\n",
       "                    \"rgba(251, 184, 29, 1.000)\"\n",
       "                ],\n",
       "                [\n",
       "                    0.8431372549019608,\n",
       "                    \"rgba(251, 186, 31, 1.000)\"\n",
       "                ],\n",
       "                [\n",
       "                    0.8470588235294118,\n",
       "                    \"rgba(251, 188, 33, 1.000)\"\n",
       "                ],\n",
       "                [\n",
       "                    0.8509803921568627,\n",
       "                    \"rgba(251, 190, 35, 1.000)\"\n",
       "                ],\n",
       "                [\n",
       "                    0.8549019607843137,\n",
       "                    \"rgba(250, 192, 38, 1.000)\"\n",
       "                ],\n",
       "                [\n",
       "                    0.8588235294117647,\n",
       "                    \"rgba(250, 194, 40, 1.000)\"\n",
       "                ],\n",
       "                [\n",
       "                    0.8627450980392157,\n",
       "                    \"rgba(250, 196, 42, 1.000)\"\n",
       "                ],\n",
       "                [\n",
       "                    0.8666666666666667,\n",
       "                    \"rgba(250, 198, 45, 1.000)\"\n",
       "                ],\n",
       "                [\n",
       "                    0.8705882352941177,\n",
       "                    \"rgba(249, 199, 47, 1.000)\"\n",
       "                ],\n",
       "                [\n",
       "                    0.8745098039215686,\n",
       "                    \"rgba(249, 201, 50, 1.000)\"\n",
       "                ],\n",
       "                [\n",
       "                    0.8784313725490196,\n",
       "                    \"rgba(249, 203, 53, 1.000)\"\n",
       "                ],\n",
       "                [\n",
       "                    0.8823529411764706,\n",
       "                    \"rgba(248, 205, 55, 1.000)\"\n",
       "                ],\n",
       "                [\n",
       "                    0.8862745098039215,\n",
       "                    \"rgba(248, 207, 58, 1.000)\"\n",
       "                ],\n",
       "                [\n",
       "                    0.8901960784313725,\n",
       "                    \"rgba(247, 209, 61, 1.000)\"\n",
       "                ],\n",
       "                [\n",
       "                    0.8941176470588236,\n",
       "                    \"rgba(247, 211, 64, 1.000)\"\n",
       "                ],\n",
       "                [\n",
       "                    0.8980392156862745,\n",
       "                    \"rgba(246, 213, 67, 1.000)\"\n",
       "                ],\n",
       "                [\n",
       "                    0.9019607843137255,\n",
       "                    \"rgba(246, 215, 70, 1.000)\"\n",
       "                ],\n",
       "                [\n",
       "                    0.9058823529411765,\n",
       "                    \"rgba(245, 217, 73, 1.000)\"\n",
       "                ],\n",
       "                [\n",
       "                    0.9098039215686274,\n",
       "                    \"rgba(245, 219, 76, 1.000)\"\n",
       "                ],\n",
       "                [\n",
       "                    0.9137254901960784,\n",
       "                    \"rgba(244, 221, 79, 1.000)\"\n",
       "                ],\n",
       "                [\n",
       "                    0.9176470588235294,\n",
       "                    \"rgba(244, 223, 83, 1.000)\"\n",
       "                ],\n",
       "                [\n",
       "                    0.9215686274509803,\n",
       "                    \"rgba(244, 225, 86, 1.000)\"\n",
       "                ],\n",
       "                [\n",
       "                    0.9254901960784314,\n",
       "                    \"rgba(243, 227, 90, 1.000)\"\n",
       "                ],\n",
       "                [\n",
       "                    0.9294117647058824,\n",
       "                    \"rgba(243, 229, 93, 1.000)\"\n",
       "                ],\n",
       "                [\n",
       "                    0.9333333333333333,\n",
       "                    \"rgba(242, 230, 97, 1.000)\"\n",
       "                ],\n",
       "                [\n",
       "                    0.9372549019607843,\n",
       "                    \"rgba(242, 232, 101, 1.000)\"\n",
       "                ],\n",
       "                [\n",
       "                    0.9411764705882353,\n",
       "                    \"rgba(242, 234, 105, 1.000)\"\n",
       "                ],\n",
       "                [\n",
       "                    0.9450980392156862,\n",
       "                    \"rgba(241, 236, 109, 1.000)\"\n",
       "                ],\n",
       "                [\n",
       "                    0.9490196078431372,\n",
       "                    \"rgba(241, 237, 113, 1.000)\"\n",
       "                ],\n",
       "                [\n",
       "                    0.9529411764705882,\n",
       "                    \"rgba(241, 239, 117, 1.000)\"\n",
       "                ],\n",
       "                [\n",
       "                    0.9568627450980393,\n",
       "                    \"rgba(241, 241, 121, 1.000)\"\n",
       "                ],\n",
       "                [\n",
       "                    0.9607843137254902,\n",
       "                    \"rgba(242, 242, 125, 1.000)\"\n",
       "                ],\n",
       "                [\n",
       "                    0.9647058823529412,\n",
       "                    \"rgba(242, 244, 130, 1.000)\"\n",
       "                ],\n",
       "                [\n",
       "                    0.9686274509803922,\n",
       "                    \"rgba(243, 245, 134, 1.000)\"\n",
       "                ],\n",
       "                [\n",
       "                    0.9725490196078431,\n",
       "                    \"rgba(243, 246, 138, 1.000)\"\n",
       "                ],\n",
       "                [\n",
       "                    0.9764705882352941,\n",
       "                    \"rgba(244, 248, 142, 1.000)\"\n",
       "                ],\n",
       "                [\n",
       "                    0.9803921568627451,\n",
       "                    \"rgba(245, 249, 146, 1.000)\"\n",
       "                ],\n",
       "                [\n",
       "                    0.984313725490196,\n",
       "                    \"rgba(246, 250, 150, 1.000)\"\n",
       "                ],\n",
       "                [\n",
       "                    0.9882352941176471,\n",
       "                    \"rgba(248, 251, 154, 1.000)\"\n",
       "                ],\n",
       "                [\n",
       "                    0.9921568627450981,\n",
       "                    \"rgba(249, 252, 157, 1.000)\"\n",
       "                ],\n",
       "                [\n",
       "                    0.996078431372549,\n",
       "                    \"rgba(250, 253, 161, 1.000)\"\n",
       "                ],\n",
       "                [\n",
       "                    1.0,\n",
       "                    \"rgba(252, 255, 164, 1.000)\"\n",
       "                ]\n",
       "            ],\n",
       "            \"cmax\": 26.0,\n",
       "            \"showscale\": true\n",
       "        },\n",
       "        \"zmax\": 26.0,\n",
       "        \"y\": [\n",
       "            -0.5350808688519418\n",
       "        ],\n",
       "        \"type\": \"scatter3d\",\n",
       "        \"scene\": \"scene\",\n",
       "        \"hoverinfo\": \"none\"\n",
       "    },\n",
       "    {\n",
       "        \"xaxis\": \"x\",\n",
       "        \"colorbar\": {\n",
       "            \"title\": \"\"\n",
       "        },\n",
       "        \"yaxis\": \"y\",\n",
       "        \"zaxis\": \"z\",\n",
       "        \"x\": [\n",
       "            1.5526213032779128,\n",
       "            1.2496823750679207,\n",
       "            0.9438461076796804,\n",
       "            0.6333218470240979,\n",
       "            0.3181095931011729,\n",
       "            0.0,\n",
       "            -0.005808679712996439,\n",
       "            -0.009398641205390223,\n",
       "            -0.009398641205390223,\n",
       "            -0.00580867971299644,\n",
       "            0.0,\n",
       "            0.2,\n",
       "            0.4,\n",
       "            0.6,\n",
       "            0.8,\n",
       "            1.0,\n",
       "            0.9959154149753885,\n",
       "            0.9933910026002397,\n",
       "            0.9933910026002397,\n",
       "            0.9959154149753885,\n",
       "            1.0,\n",
       "            0.6674557214152825,\n",
       "            0.3385442116808803,\n",
       "            0.015510645419560092,\n",
       "            -0.3016449773686787,\n",
       "            -0.6151678313066017\n",
       "        ],\n",
       "        \"showlegend\": true,\n",
       "        \"mode\": \"lines\",\n",
       "        \"name\": \"y2\",\n",
       "        \"zmin\": 1.0,\n",
       "        \"legendgroup\": \"y2\",\n",
       "        \"z\": [\n",
       "            -0.4785840873111373,\n",
       "            -0.20951714426812765,\n",
       "            0.05949439658204654,\n",
       "            0.3284162948011616,\n",
       "            0.597248550389218,\n",
       "            0.8660254037844387,\n",
       "            0.692370770396295,\n",
       "            0.5188878508335594,\n",
       "            0.34568277007667153,\n",
       "            0.17275552812563183,\n",
       "            0.0,\n",
       "            -0.004702757976138021,\n",
       "            -0.007609222246255986,\n",
       "            -0.007609222246255986,\n",
       "            -0.004702757976138022,\n",
       "            0.0,\n",
       "            0.2,\n",
       "            0.4,\n",
       "            0.6,\n",
       "            0.8,\n",
       "            1.0,\n",
       "            0.6858790996481502,\n",
       "            0.3683538638492551,\n",
       "            0.04532029758793495,\n",
       "            -0.283221599135811,\n",
       "            -0.6151678313066017\n",
       "        ],\n",
       "        \"zmax\": 26.0,\n",
       "        \"line\": {\n",
       "            \"color\": \"rgba(0, 0, 0, 1.000)\",\n",
       "            \"shape\": \"linear\",\n",
       "            \"dash\": \"solid\",\n",
       "            \"width\": 2\n",
       "        },\n",
       "        \"y\": [\n",
       "            -0.5350808688519418,\n",
       "            -0.31687511516643774,\n",
       "            -0.10294340068867475,\n",
       "            0.10407277308171359,\n",
       "            0.3041734061447273,\n",
       "            0.49999999999999994,\n",
       "            0.4007786479980114,\n",
       "            0.30125987892605444,\n",
       "            0.20125987892605454,\n",
       "            0.1007786479980114,\n",
       "            0.0,\n",
       "            -0.0035260768141268358,\n",
       "            -0.0057053121322001655,\n",
       "            -0.0057053121322001655,\n",
       "            -0.003526076814126836,\n",
       "            0.0,\n",
       "            0.004226738158198573,\n",
       "            0.006839006001511421,\n",
       "            0.006839006001511421,\n",
       "            0.004226738158198573,\n",
       "            0.0,\n",
       "            0.05025064922666137,\n",
       "            0.10187189887294223,\n",
       "            0.15571082658316227,\n",
       "            0.21176743235732154,\n",
       "            0.26919463855110026\n",
       "        ],\n",
       "        \"type\": \"scatter3d\",\n",
       "        \"scene\": \"scene\"\n",
       "    }\n",
       "]\n",
       ", {\n",
       "    \"showlegend\": true,\n",
       "    \"paper_bgcolor\": \"rgba(255, 255, 255, 1.000)\",\n",
       "    \"annotations\": [],\n",
       "    \"height\": 400,\n",
       "    \"margin\": {\n",
       "        \"l\": 0,\n",
       "        \"b\": 20,\n",
       "        \"r\": 0,\n",
       "        \"t\": 20\n",
       "    },\n",
       "    \"plot_bgcolor\": \"rgba(255, 255, 255, 1.000)\",\n",
       "    \"scene\": {\n",
       "        \"camera\": {\n",
       "            \"eye\": {\n",
       "                \"y\": -1.9499999999999997,\n",
       "                \"z\": 1.3,\n",
       "                \"x\": 1.12583302491977\n",
       "            }\n",
       "        },\n",
       "        \"xaxis\": {\n",
       "            \"tickangle\": 0,\n",
       "            \"showline\": true,\n",
       "            \"gridcolor\": \"rgba(0, 0, 0, 0.100)\",\n",
       "            \"showticklabels\": true,\n",
       "            \"gridwidth\": 0.5,\n",
       "            \"titlefont\": {\n",
       "                \"color\": \"rgba(0, 0, 0, 1.000)\",\n",
       "                \"family\": \"sans-serif\",\n",
       "                \"size\": 15\n",
       "            },\n",
       "            \"visible\": true,\n",
       "            \"ticks\": \"inside\",\n",
       "            \"range\": [\n",
       "                -0.6802015053441371,\n",
       "                1.6176549773154483\n",
       "            ],\n",
       "            \"tickmode\": \"array\",\n",
       "            \"tickvals\": [\n",
       "                -0.5,\n",
       "                0.0,\n",
       "                0.5,\n",
       "                1.0,\n",
       "                1.5\n",
       "            ],\n",
       "            \"tickcolor\": \"rgb(0, 0, 0)\",\n",
       "            \"ticktext\": [\n",
       "                \"-0.5\",\n",
       "                \"0.0\",\n",
       "                \"0.5\",\n",
       "                \"1.0\",\n",
       "                \"1.5\"\n",
       "            ],\n",
       "            \"linecolor\": \"rgba(0, 0, 0, 1.000)\",\n",
       "            \"showgrid\": true,\n",
       "            \"zeroline\": false,\n",
       "            \"type\": \"-\",\n",
       "            \"tickfont\": {\n",
       "                \"color\": \"rgba(0, 0, 0, 1.000)\",\n",
       "                \"family\": \"sans-serif\",\n",
       "                \"size\": 11\n",
       "            },\n",
       "            \"title\": \"x\",\n",
       "            \"zerolinecolor\": \"rgba(0, 0, 0, 1.000)\",\n",
       "            \"mirror\": false\n",
       "        },\n",
       "        \"domain\": {\n",
       "            \"y\": [\n",
       "                0.07581474190726165,\n",
       "                0.9901574803149606\n",
       "            ],\n",
       "            \"x\": [\n",
       "                0.09128390201224845,\n",
       "                0.9934383202099738\n",
       "            ]\n",
       "        },\n",
       "        \"yaxis\": {\n",
       "            \"tickangle\": 0,\n",
       "            \"showline\": true,\n",
       "            \"gridcolor\": \"rgba(0, 0, 0, 0.100)\",\n",
       "            \"showticklabels\": true,\n",
       "            \"gridwidth\": 0.5,\n",
       "            \"titlefont\": {\n",
       "                \"color\": \"rgba(0, 0, 0, 1.000)\",\n",
       "                \"family\": \"sans-serif\",\n",
       "                \"size\": 15\n",
       "            },\n",
       "            \"visible\": true,\n",
       "            \"ticks\": \"inside\",\n",
       "            \"range\": [\n",
       "                -0.5661332949175001,\n",
       "                0.5310524260655582\n",
       "            ],\n",
       "            \"tickmode\": \"array\",\n",
       "            \"tickvals\": [\n",
       "                -0.4,\n",
       "                -0.2,\n",
       "                0.0,\n",
       "                0.2,\n",
       "                0.4\n",
       "            ],\n",
       "            \"tickcolor\": \"rgb(0, 0, 0)\",\n",
       "            \"ticktext\": [\n",
       "                \"-0.4\",\n",
       "                \"-0.2\",\n",
       "                \"0.0\",\n",
       "                \"0.2\",\n",
       "                \"0.4\"\n",
       "            ],\n",
       "            \"linecolor\": \"rgba(0, 0, 0, 1.000)\",\n",
       "            \"showgrid\": true,\n",
       "            \"zeroline\": false,\n",
       "            \"type\": \"-\",\n",
       "            \"tickfont\": {\n",
       "                \"color\": \"rgba(0, 0, 0, 1.000)\",\n",
       "                \"family\": \"sans-serif\",\n",
       "                \"size\": 11\n",
       "            },\n",
       "            \"title\": \"y\",\n",
       "            \"zerolinecolor\": \"rgba(0, 0, 0, 1.000)\",\n",
       "            \"mirror\": false\n",
       "        },\n",
       "        \"zaxis\": {\n",
       "            \"tickangle\": 0,\n",
       "            \"showline\": true,\n",
       "            \"gridcolor\": \"rgba(0, 0, 0, 0.100)\",\n",
       "            \"showticklabels\": true,\n",
       "            \"gridwidth\": 0.5,\n",
       "            \"titlefont\": {\n",
       "                \"color\": \"rgba(0, 0, 0, 1.000)\",\n",
       "                \"family\": \"sans-serif\",\n",
       "                \"size\": 15\n",
       "            },\n",
       "            \"visible\": true,\n",
       "            \"ticks\": \"inside\",\n",
       "            \"range\": [\n",
       "                -0.6636228662457997,\n",
       "                1.0484550349391981\n",
       "            ],\n",
       "            \"tickmode\": \"array\",\n",
       "            \"tickvals\": [\n",
       "                -0.5,\n",
       "                0.0,\n",
       "                0.5,\n",
       "                1.0\n",
       "            ],\n",
       "            \"tickcolor\": \"rgb(0, 0, 0)\",\n",
       "            \"ticktext\": [\n",
       "                \"-0.5\",\n",
       "                \"0.0\",\n",
       "                \"0.5\",\n",
       "                \"1.0\"\n",
       "            ],\n",
       "            \"linecolor\": \"rgba(0, 0, 0, 1.000)\",\n",
       "            \"showgrid\": true,\n",
       "            \"zeroline\": false,\n",
       "            \"type\": \"-\",\n",
       "            \"tickfont\": {\n",
       "                \"color\": \"rgba(0, 0, 0, 1.000)\",\n",
       "                \"family\": \"sans-serif\",\n",
       "                \"size\": 11\n",
       "            },\n",
       "            \"title\": \"z\",\n",
       "            \"zerolinecolor\": \"rgba(0, 0, 0, 1.000)\",\n",
       "            \"mirror\": false\n",
       "        }\n",
       "    },\n",
       "    \"legend\": {\n",
       "        \"yanchor\": \"auto\",\n",
       "        \"xanchor\": \"auto\",\n",
       "        \"bordercolor\": \"rgba(0, 0, 0, 1.000)\",\n",
       "        \"bgcolor\": \"rgba(255, 255, 255, 1.000)\",\n",
       "        \"borderwidth\": 1,\n",
       "        \"tracegroupgap\": 0,\n",
       "        \"y\": 1.0,\n",
       "        \"font\": {\n",
       "            \"color\": \"rgba(0, 0, 0, 1.000)\",\n",
       "            \"family\": \"sans-serif\",\n",
       "            \"size\": 11\n",
       "        },\n",
       "        \"title\": {\n",
       "            \"font\": {\n",
       "                \"color\": \"rgba(0, 0, 0, 1.000)\",\n",
       "                \"family\": \"sans-serif\",\n",
       "                \"size\": 15\n",
       "            },\n",
       "            \"text\": \"\"\n",
       "        },\n",
       "        \"traceorder\": \"normal\",\n",
       "        \"x\": 1.0\n",
       "    },\n",
       "    \"width\": 600\n",
       "}\n",
       ");\n",
       "\n",
       "    });\n",
       "    </script>\n"
      ]
     },
     "metadata": {},
     "output_type": "display_data"
    }
   ],
   "source": [
    "p = plot()\n",
    "plotChainSeries!(Q)\n",
    "display(p)"
   ]
  },
  {
   "cell_type": "code",
   "execution_count": 307,
   "metadata": {},
   "outputs": [],
   "source": [
    "ndens=[5,2,2,2,5]\n",
    "Q = helixify(P,ndens,r=5e-3);\n",
    "ls,bas,das = internalCoordinates(Q);"
   ]
  },
  {
   "cell_type": "code",
   "execution_count": 308,
   "metadata": {},
   "outputs": [
    {
     "data": {
      "application/vnd.plotly.v1+json": {
       "data": [
        {
         "colorbar": {
          "title": ""
         },
         "legendgroup": "y1",
         "marker": {
          "color": "rgba(0, 0, 4, 1.000)",
          "line": {
           "color": "rgba(0, 0, 0, 1.000)",
           "width": 1
          },
          "size": 6,
          "symbol": "circle"
         },
         "mode": "markers",
         "name": "y1",
         "scene": "scene",
         "showlegend": true,
         "type": "scatter3d",
         "x": [
          1.5526213032779128
         ],
         "xaxis": "x",
         "y": [
          -0.5350808688519418
         ],
         "yaxis": "y",
         "z": [
          -0.4785840873111373
         ],
         "zaxis": "z",
         "zmax": 22,
         "zmin": 1
        },
        {
         "colorbar": {
          "title": ""
         },
         "legendgroup": "y1",
         "marker": {
          "color": "rgba(7, 5, 27, 1.000)",
          "line": {
           "color": "rgba(0, 0, 0, 1.000)",
           "width": 1
          },
          "size": 6,
          "symbol": "circle"
         },
         "mode": "markers",
         "name": "y1",
         "scene": "scene",
         "showlegend": false,
         "type": "scatter3d",
         "x": [
          1.2896342806772931
         ],
         "xaxis": "x",
         "y": [
          -0.36442340457505995
         ],
         "yaxis": "y",
         "z": [
          -0.2579228927736964
         ],
         "zaxis": "z",
         "zmax": 22,
         "zmin": 1
        },
        {
         "colorbar": {
          "title": ""
         },
         "legendgroup": "y1",
         "marker": {
          "color": "rgba(21, 11, 56, 1.000)",
          "line": {
           "color": "rgba(0, 0, 0, 1.000)",
           "width": 1
          },
          "size": 6,
          "symbol": "circle"
         },
         "mode": "markers",
         "name": "y1",
         "scene": "scene",
         "showlegend": false,
         "type": "scatter3d",
         "x": [
          1.0277771476749293
         ],
         "xaxis": "x",
         "y": [
          -0.1932686228818813
         ],
         "yaxis": "y",
         "z": [
          -0.03633984923440261
         ],
         "zaxis": "z",
         "zmax": 22,
         "zmin": 1
        },
        {
         "colorbar": {
          "title": ""
         },
         "legendgroup": "y1",
         "marker": {
          "color": "rgba(40, 11, 84, 1.000)",
          "line": {
           "color": "rgba(0, 0, 0, 1.000)",
           "width": 1
          },
          "size": 6,
          "symbol": "circle"
         },
         "mode": "markers",
         "name": "y1",
         "scene": "scene",
         "showlegend": false,
         "type": "scatter3d",
         "x": [
          0.7678770408636879
         ],
         "xaxis": "x",
         "y": [
          -0.021252462156187736
         ],
         "yaxis": "y",
         "z": [
          0.1868398836130071
         ],
         "zaxis": "z",
         "zmax": 22,
         "zmin": 1
        },
        {
         "colorbar": {
          "title": ""
         },
         "legendgroup": "y1",
         "marker": {
          "color": "rgba(62, 9, 102, 1.000)",
          "line": {
           "color": "rgba(0, 0, 0, 1.000)",
           "width": 1
          },
          "size": 6,
          "symbol": "circle"
         },
         "mode": "markers",
         "name": "y1",
         "scene": "scene",
         "showlegend": false,
         "type": "scatter3d",
         "x": [
          0.5102367132489585
         ],
         "xaxis": "x",
         "y": [
          0.15175833340209927
         ],
         "yaxis": "y",
         "z": [
          0.4118633144641227
         ],
         "zaxis": "z",
         "zmax": 22,
         "zmin": 1
        },
        {
         "colorbar": {
          "title": ""
         },
         "legendgroup": "y1",
         "marker": {
          "color": "rgba(82, 14, 109, 1.000)",
          "line": {
           "color": "rgba(0, 0, 0, 1.000)",
           "width": 1
          },
          "size": 6,
          "symbol": "circle"
         },
         "mode": "markers",
         "name": "y1",
         "scene": "scene",
         "showlegend": false,
         "type": "scatter3d",
         "x": [
          0.2545534118253511
         ],
         "xaxis": "x",
         "y": [
          0.3256305079929013
         ],
         "yaxis": "y",
         "z": [
          0.6384834346233541
         ],
         "zaxis": "z",
         "zmax": 22,
         "zmin": 1
        },
        {
         "colorbar": {
          "title": ""
         },
         "legendgroup": "y1",
         "marker": {
          "color": "rgba(101, 21, 110, 1.000)",
          "line": {
           "color": "rgba(0, 0, 0, 1.000)",
           "width": 1
          },
          "size": 6,
          "symbol": "circle"
         },
         "mode": "markers",
         "name": "y1",
         "scene": "scene",
         "showlegend": false,
         "type": "scatter3d",
         "x": [
          0
         ],
         "xaxis": "x",
         "y": [
          0.49999999999999994
         ],
         "yaxis": "y",
         "z": [
          0.8660254037844387
         ],
         "zaxis": "z",
         "zmax": 22,
         "zmin": 1
        },
        {
         "colorbar": {
          "title": ""
         },
         "legendgroup": "y1",
         "marker": {
          "color": "rgba(120, 28, 109, 1.000)",
          "line": {
           "color": "rgba(0, 0, 0, 1.000)",
           "width": 1
          },
          "size": 6,
          "symbol": "circle"
         },
         "mode": "markers",
         "name": "y1",
         "scene": "scene",
         "showlegend": false,
         "type": "scatter3d",
         "x": [
          -0.003955252949969011
         ],
         "xaxis": "x",
         "y": [
          0.33180706973345253
         ],
         "yaxis": "y",
         "z": [
          0.5782314578898713
         ],
         "zaxis": "z",
         "zmax": 22,
         "zmin": 1
        },
        {
         "colorbar": {
          "title": ""
         },
         "legendgroup": "y1",
         "marker": {
          "color": "rgba(140, 35, 105, 1.000)",
          "line": {
           "color": "rgba(0, 0, 0, 1.000)",
           "width": 1
          },
          "size": 6,
          "symbol": "circle"
         },
         "mode": "markers",
         "name": "y1",
         "scene": "scene",
         "showlegend": false,
         "type": "scatter3d",
         "x": [
          -0.003955252949969011
         ],
         "xaxis": "x",
         "y": [
          0.1651404030667859
         ],
         "yaxis": "y",
         "z": [
          0.2895563232950585
         ],
         "zaxis": "z",
         "zmax": 22,
         "zmin": 1
        },
        {
         "colorbar": {
          "title": ""
         },
         "legendgroup": "y1",
         "marker": {
          "color": "rgba(159, 42, 99, 1.000)",
          "line": {
           "color": "rgba(0, 0, 0, 1.000)",
           "width": 1
          },
          "size": 6,
          "symbol": "circle"
         },
         "mode": "markers",
         "name": "y1",
         "scene": "scene",
         "showlegend": false,
         "type": "scatter3d",
         "x": [
          0
         ],
         "xaxis": "x",
         "y": [
          0
         ],
         "yaxis": "y",
         "z": [
          0
         ],
         "zaxis": "z",
         "zmax": 22,
         "zmin": 1
        },
        {
         "colorbar": {
          "title": ""
         },
         "legendgroup": "y1",
         "marker": {
          "color": "rgba(178, 50, 90, 1.000)",
          "line": {
           "color": "rgba(0, 0, 0, 1.000)",
           "width": 1
          },
          "size": 6,
          "symbol": "circle"
         },
         "mode": "markers",
         "name": "y1",
         "scene": "scene",
         "showlegend": false,
         "type": "scatter3d",
         "x": [
          0.3333333333333333
         ],
         "xaxis": "x",
         "y": [
          -0.0014777063031765952
         ],
         "yaxis": "y",
         "z": [
          0.004070182315517593
         ],
         "zaxis": "z",
         "zmax": 22,
         "zmin": 1
        },
        {
         "colorbar": {
          "title": ""
         },
         "legendgroup": "y1",
         "marker": {
          "color": "rgba(196, 60, 79, 1.000)",
          "line": {
           "color": "rgba(0, 0, 0, 1.000)",
           "width": 1
          },
          "size": 6,
          "symbol": "circle"
         },
         "mode": "markers",
         "name": "y1",
         "scene": "scene",
         "showlegend": false,
         "type": "scatter3d",
         "x": [
          0.6666666666666666
         ],
         "xaxis": "x",
         "y": [
          -0.0014777063031765952
         ],
         "yaxis": "y",
         "z": [
          0.004070182315517593
         ],
         "zaxis": "z",
         "zmax": 22,
         "zmin": 1
        },
        {
         "colorbar": {
          "title": ""
         },
         "legendgroup": "y1",
         "marker": {
          "color": "rgba(212, 72, 66, 1.000)",
          "line": {
           "color": "rgba(0, 0, 0, 1.000)",
           "width": 1
          },
          "size": 6,
          "symbol": "circle"
         },
         "mode": "markers",
         "name": "y1",
         "scene": "scene",
         "showlegend": false,
         "type": "scatter3d",
         "x": [
          1
         ],
         "xaxis": "x",
         "y": [
          0
         ],
         "yaxis": "y",
         "z": [
          0
         ],
         "zaxis": "z",
         "zmax": 22,
         "zmin": 1
        },
        {
         "colorbar": {
          "title": ""
         },
         "legendgroup": "y1",
         "marker": {
          "color": "rgba(226, 87, 52, 1.000)",
          "line": {
           "color": "rgba(0, 0, 0, 1.000)",
           "width": 1
          },
          "size": 6,
          "symbol": "circle"
         },
         "mode": "markers",
         "name": "y1",
         "scene": "scene",
         "showlegend": false,
         "type": "scatter3d",
         "x": [
          1.002032713467188
         ],
         "xaxis": "x",
         "y": [
          -0.0038233592507521687
         ],
         "yaxis": "y",
         "z": [
          0.3333333333333333
         ],
         "zaxis": "z",
         "zmax": 22,
         "zmin": 1
        },
        {
         "colorbar": {
          "title": ""
         },
         "legendgroup": "y1",
         "marker": {
          "color": "rgba(237, 105, 37, 1.000)",
          "line": {
           "color": "rgba(0, 0, 0, 1.000)",
           "width": 1
          },
          "size": 6,
          "symbol": "circle"
         },
         "mode": "markers",
         "name": "y1",
         "scene": "scene",
         "showlegend": false,
         "type": "scatter3d",
         "x": [
          1.002032713467188
         ],
         "xaxis": "x",
         "y": [
          -0.0038233592507521687
         ],
         "yaxis": "y",
         "z": [
          0.6666666666666666
         ],
         "zaxis": "z",
         "zmax": 22,
         "zmin": 1
        },
        {
         "colorbar": {
          "title": ""
         },
         "legendgroup": "y1",
         "marker": {
          "color": "rgba(245, 125, 21, 1.000)",
          "line": {
           "color": "rgba(0, 0, 0, 1.000)",
           "width": 1
          },
          "size": 6,
          "symbol": "circle"
         },
         "mode": "markers",
         "name": "y1",
         "scene": "scene",
         "showlegend": false,
         "type": "scatter3d",
         "x": [
          1
         ],
         "xaxis": "x",
         "y": [
          0
         ],
         "yaxis": "y",
         "z": [
          1
         ],
         "zaxis": "z",
         "zmax": 22,
         "zmin": 1
        },
        {
         "colorbar": {
          "title": ""
         },
         "legendgroup": "y1",
         "marker": {
          "color": "rgba(250, 146, 7, 1.000)",
          "line": {
           "color": "rgba(0, 0, 0, 1.000)",
           "width": 1
          },
          "size": 6,
          "symbol": "circle"
         },
         "mode": "markers",
         "name": "y1",
         "scene": "scene",
         "showlegend": false,
         "type": "scatter3d",
         "x": [
          0.7319479583809044
         ],
         "xaxis": "x",
         "y": [
          0.05049741229982187
         ],
         "yaxis": "y",
         "z": [
          0.7306013710515571
         ],
         "zaxis": "z",
         "zmax": 22,
         "zmin": 1
        },
        {
         "colorbar": {
          "title": ""
         },
         "legendgroup": "y1",
         "marker": {
          "color": "rgba(252, 169, 14, 1.000)",
          "line": {
           "color": "rgba(0, 0, 0, 1.000)",
           "width": 1
          },
          "size": 6,
          "symbol": "circle"
         },
         "mode": "markers",
         "name": "y1",
         "scene": "scene",
         "showlegend": false,
         "type": "scatter3d",
         "x": [
          0.4635897588366038
         ],
         "xaxis": "x",
         "y": [
          0.09948583142180424
         ],
         "yaxis": "y",
         "z": [
          0.4612574011653458
         ],
         "zaxis": "z",
         "zmax": 22,
         "zmin": 1
        },
        {
         "colorbar": {
          "title": ""
         },
         "legendgroup": "y1",
         "marker": {
          "color": "rgba(250, 193, 39, 1.000)",
          "line": {
           "color": "rgba(0, 0, 0, 1.000)",
           "width": 1
          },
          "size": 6,
          "symbol": "circle"
         },
         "mode": "markers",
         "name": "y1",
         "scene": "scene",
         "showlegend": false,
         "type": "scatter3d",
         "x": [
          0.19470127821070837
         ],
         "xaxis": "x",
         "y": [
          0.1458605976914938
         ],
         "yaxis": "y",
         "z": [
          0.19200810355201378
         ],
         "zaxis": "z",
         "zmax": 22,
         "zmin": 1
        },
        {
         "colorbar": {
          "title": ""
         },
         "legendgroup": "y1",
         "marker": {
          "color": "rgba(246, 217, 72, 1.000)",
          "line": {
           "color": "rgba(0, 0, 0, 1.000)",
           "width": 1
          },
          "size": 6,
          "symbol": "circle"
         },
         "mode": "markers",
         "name": "y1",
         "scene": "scene",
         "showlegend": false,
         "type": "scatter3d",
         "x": [
          -0.07479951826559669
         ],
         "xaxis": "x",
         "y": [
          0.1892173776055043
         ],
         "yaxis": "y",
         "z": [
          -0.07713187593685471
         ],
         "zaxis": "z",
         "zmax": 22,
         "zmin": 1
        },
        {
         "colorbar": {
          "title": ""
         },
         "legendgroup": "y1",
         "marker": {
          "color": "rgba(241, 239, 116, 1.000)",
          "line": {
           "color": "rgba(0, 0, 0, 1.000)",
           "width": 1
          },
          "size": 6,
          "symbol": "circle"
         },
         "mode": "markers",
         "name": "y1",
         "scene": "scene",
         "showlegend": false,
         "type": "scatter3d",
         "x": [
          -0.344830595823497
         ],
         "xaxis": "x",
         "y": [
          0.22996050466722207
         ],
         "yaxis": "y",
         "z": [
          -0.3461771831528443
         ],
         "zaxis": "z",
         "zmax": 22,
         "zmin": 1
        },
        {
         "colorbar": {
          "title": ""
         },
         "legendgroup": "y1",
         "marker": {
          "color": "rgba(252, 255, 164, 1.000)",
          "line": {
           "color": "rgba(0, 0, 0, 1.000)",
           "width": 1
          },
          "size": 6,
          "symbol": "circle"
         },
         "mode": "markers",
         "name": "y1",
         "scene": "scene",
         "showlegend": false,
         "type": "scatter3d",
         "x": [
          -0.6151678313066017
         ],
         "xaxis": "x",
         "y": [
          0.26919463855110026
         ],
         "yaxis": "y",
         "z": [
          -0.6151678313066017
         ],
         "zaxis": "z",
         "zmax": 22,
         "zmin": 1
        },
        {
         "colorbar": {
          "title": ""
         },
         "hoverinfo": "none",
         "marker": {
          "cmax": 22,
          "cmin": 1,
          "color": [
           0.5
          ],
          "colorscale": [
           [
            0,
            "rgba(0, 0, 4, 1.000)"
           ],
           [
            0.00392156862745098,
            "rgba(1, 0, 5, 1.000)"
           ],
           [
            0.00784313725490196,
            "rgba(1, 1, 6, 1.000)"
           ],
           [
            0.011764705882352941,
            "rgba(1, 1, 8, 1.000)"
           ],
           [
            0.01568627450980392,
            "rgba(2, 1, 10, 1.000)"
           ],
           [
            0.0196078431372549,
            "rgba(2, 2, 12, 1.000)"
           ],
           [
            0.023529411764705882,
            "rgba(2, 2, 14, 1.000)"
           ],
           [
            0.027450980392156862,
            "rgba(3, 2, 16, 1.000)"
           ],
           [
            0.03137254901960784,
            "rgba(4, 3, 18, 1.000)"
           ],
           [
            0.03529411764705882,
            "rgba(4, 3, 20, 1.000)"
           ],
           [
            0.0392156862745098,
            "rgba(5, 4, 23, 1.000)"
           ],
           [
            0.043137254901960784,
            "rgba(6, 4, 25, 1.000)"
           ],
           [
            0.047058823529411764,
            "rgba(7, 5, 27, 1.000)"
           ],
           [
            0.050980392156862744,
            "rgba(8, 5, 29, 1.000)"
           ],
           [
            0.054901960784313725,
            "rgba(9, 6, 31, 1.000)"
           ],
           [
            0.058823529411764705,
            "rgba(10, 7, 34, 1.000)"
           ],
           [
            0.06274509803921569,
            "rgba(11, 7, 36, 1.000)"
           ],
           [
            0.06666666666666667,
            "rgba(12, 8, 38, 1.000)"
           ],
           [
            0.07058823529411765,
            "rgba(13, 8, 41, 1.000)"
           ],
           [
            0.07450980392156863,
            "rgba(14, 9, 43, 1.000)"
           ],
           [
            0.0784313725490196,
            "rgba(16, 9, 45, 1.000)"
           ],
           [
            0.08235294117647059,
            "rgba(17, 10, 48, 1.000)"
           ],
           [
            0.08627450980392157,
            "rgba(18, 10, 50, 1.000)"
           ],
           [
            0.09019607843137255,
            "rgba(20, 11, 52, 1.000)"
           ],
           [
            0.09411764705882353,
            "rgba(21, 11, 55, 1.000)"
           ],
           [
            0.09803921568627451,
            "rgba(22, 11, 57, 1.000)"
           ],
           [
            0.10196078431372549,
            "rgba(24, 12, 60, 1.000)"
           ],
           [
            0.10588235294117647,
            "rgba(25, 12, 62, 1.000)"
           ],
           [
            0.10980392156862745,
            "rgba(27, 12, 65, 1.000)"
           ],
           [
            0.11372549019607843,
            "rgba(28, 12, 67, 1.000)"
           ],
           [
            0.11764705882352941,
            "rgba(30, 12, 69, 1.000)"
           ],
           [
            0.12156862745098039,
            "rgba(31, 12, 72, 1.000)"
           ],
           [
            0.12549019607843137,
            "rgba(33, 12, 74, 1.000)"
           ],
           [
            0.12941176470588237,
            "rgba(35, 12, 76, 1.000)"
           ],
           [
            0.13333333333333333,
            "rgba(36, 12, 79, 1.000)"
           ],
           [
            0.13725490196078433,
            "rgba(38, 12, 81, 1.000)"
           ],
           [
            0.1411764705882353,
            "rgba(40, 11, 83, 1.000)"
           ],
           [
            0.1450980392156863,
            "rgba(41, 11, 85, 1.000)"
           ],
           [
            0.14901960784313725,
            "rgba(43, 11, 87, 1.000)"
           ],
           [
            0.15294117647058825,
            "rgba(45, 11, 89, 1.000)"
           ],
           [
            0.1568627450980392,
            "rgba(47, 10, 91, 1.000)"
           ],
           [
            0.1607843137254902,
            "rgba(49, 10, 92, 1.000)"
           ],
           [
            0.16470588235294117,
            "rgba(50, 10, 94, 1.000)"
           ],
           [
            0.16862745098039217,
            "rgba(52, 10, 95, 1.000)"
           ],
           [
            0.17254901960784313,
            "rgba(54, 9, 97, 1.000)"
           ],
           [
            0.17647058823529413,
            "rgba(56, 9, 98, 1.000)"
           ],
           [
            0.1803921568627451,
            "rgba(57, 9, 99, 1.000)"
           ],
           [
            0.1843137254901961,
            "rgba(59, 9, 100, 1.000)"
           ],
           [
            0.18823529411764706,
            "rgba(61, 9, 101, 1.000)"
           ],
           [
            0.19215686274509805,
            "rgba(62, 9, 102, 1.000)"
           ],
           [
            0.19607843137254902,
            "rgba(64, 10, 103, 1.000)"
           ],
           [
            0.2,
            "rgba(66, 10, 104, 1.000)"
           ],
           [
            0.20392156862745098,
            "rgba(68, 10, 104, 1.000)"
           ],
           [
            0.20784313725490197,
            "rgba(69, 10, 105, 1.000)"
           ],
           [
            0.21176470588235294,
            "rgba(71, 11, 106, 1.000)"
           ],
           [
            0.21568627450980393,
            "rgba(73, 11, 106, 1.000)"
           ],
           [
            0.2196078431372549,
            "rgba(74, 12, 107, 1.000)"
           ],
           [
            0.2235294117647059,
            "rgba(76, 12, 107, 1.000)"
           ],
           [
            0.22745098039215686,
            "rgba(77, 13, 108, 1.000)"
           ],
           [
            0.23137254901960785,
            "rgba(79, 13, 108, 1.000)"
           ],
           [
            0.23529411764705882,
            "rgba(81, 14, 108, 1.000)"
           ],
           [
            0.23921568627450981,
            "rgba(82, 14, 109, 1.000)"
           ],
           [
            0.24313725490196078,
            "rgba(84, 15, 109, 1.000)"
           ],
           [
            0.24705882352941178,
            "rgba(85, 15, 109, 1.000)"
           ],
           [
            0.25098039215686274,
            "rgba(87, 16, 110, 1.000)"
           ],
           [
            0.2549019607843137,
            "rgba(89, 16, 110, 1.000)"
           ],
           [
            0.25882352941176473,
            "rgba(90, 17, 110, 1.000)"
           ],
           [
            0.2627450980392157,
            "rgba(92, 18, 110, 1.000)"
           ],
           [
            0.26666666666666666,
            "rgba(93, 18, 110, 1.000)"
           ],
           [
            0.27058823529411763,
            "rgba(95, 19, 110, 1.000)"
           ],
           [
            0.27450980392156865,
            "rgba(97, 19, 110, 1.000)"
           ],
           [
            0.2784313725490196,
            "rgba(98, 20, 110, 1.000)"
           ],
           [
            0.2823529411764706,
            "rgba(100, 21, 110, 1.000)"
           ],
           [
            0.28627450980392155,
            "rgba(101, 21, 110, 1.000)"
           ],
           [
            0.2901960784313726,
            "rgba(103, 22, 110, 1.000)"
           ],
           [
            0.29411764705882354,
            "rgba(105, 22, 110, 1.000)"
           ],
           [
            0.2980392156862745,
            "rgba(106, 23, 110, 1.000)"
           ],
           [
            0.30196078431372547,
            "rgba(108, 24, 110, 1.000)"
           ],
           [
            0.3058823529411765,
            "rgba(109, 24, 110, 1.000)"
           ],
           [
            0.30980392156862746,
            "rgba(111, 25, 110, 1.000)"
           ],
           [
            0.3137254901960784,
            "rgba(113, 25, 110, 1.000)"
           ],
           [
            0.3176470588235294,
            "rgba(114, 26, 110, 1.000)"
           ],
           [
            0.3215686274509804,
            "rgba(116, 26, 110, 1.000)"
           ],
           [
            0.3254901960784314,
            "rgba(117, 27, 110, 1.000)"
           ],
           [
            0.32941176470588235,
            "rgba(119, 28, 109, 1.000)"
           ],
           [
            0.3333333333333333,
            "rgba(120, 28, 109, 1.000)"
           ],
           [
            0.33725490196078434,
            "rgba(122, 29, 109, 1.000)"
           ],
           [
            0.3411764705882353,
            "rgba(124, 29, 109, 1.000)"
           ],
           [
            0.34509803921568627,
            "rgba(125, 30, 109, 1.000)"
           ],
           [
            0.34901960784313724,
            "rgba(127, 30, 108, 1.000)"
           ],
           [
            0.35294117647058826,
            "rgba(128, 31, 108, 1.000)"
           ],
           [
            0.3568627450980392,
            "rgba(130, 32, 108, 1.000)"
           ],
           [
            0.3607843137254902,
            "rgba(132, 32, 107, 1.000)"
           ],
           [
            0.36470588235294116,
            "rgba(133, 33, 107, 1.000)"
           ],
           [
            0.3686274509803922,
            "rgba(135, 33, 107, 1.000)"
           ],
           [
            0.37254901960784315,
            "rgba(136, 34, 106, 1.000)"
           ],
           [
            0.3764705882352941,
            "rgba(138, 34, 106, 1.000)"
           ],
           [
            0.3803921568627451,
            "rgba(140, 35, 105, 1.000)"
           ],
           [
            0.3843137254901961,
            "rgba(141, 35, 105, 1.000)"
           ],
           [
            0.38823529411764707,
            "rgba(143, 36, 105, 1.000)"
           ],
           [
            0.39215686274509803,
            "rgba(144, 37, 104, 1.000)"
           ],
           [
            0.396078431372549,
            "rgba(146, 37, 104, 1.000)"
           ],
           [
            0.4,
            "rgba(147, 38, 103, 1.000)"
           ],
           [
            0.403921568627451,
            "rgba(149, 38, 103, 1.000)"
           ],
           [
            0.40784313725490196,
            "rgba(151, 39, 102, 1.000)"
           ],
           [
            0.4117647058823529,
            "rgba(152, 39, 102, 1.000)"
           ],
           [
            0.41568627450980394,
            "rgba(154, 40, 101, 1.000)"
           ],
           [
            0.4196078431372549,
            "rgba(155, 41, 100, 1.000)"
           ],
           [
            0.4235294117647059,
            "rgba(157, 41, 100, 1.000)"
           ],
           [
            0.42745098039215684,
            "rgba(159, 42, 99, 1.000)"
           ],
           [
            0.43137254901960786,
            "rgba(160, 42, 99, 1.000)"
           ],
           [
            0.43529411764705883,
            "rgba(162, 43, 98, 1.000)"
           ],
           [
            0.4392156862745098,
            "rgba(163, 44, 97, 1.000)"
           ],
           [
            0.44313725490196076,
            "rgba(165, 44, 96, 1.000)"
           ],
           [
            0.4470588235294118,
            "rgba(166, 45, 96, 1.000)"
           ],
           [
            0.45098039215686275,
            "rgba(168, 46, 95, 1.000)"
           ],
           [
            0.4549019607843137,
            "rgba(169, 46, 94, 1.000)"
           ],
           [
            0.4588235294117647,
            "rgba(171, 47, 94, 1.000)"
           ],
           [
            0.4627450980392157,
            "rgba(173, 48, 93, 1.000)"
           ],
           [
            0.4666666666666667,
            "rgba(174, 48, 92, 1.000)"
           ],
           [
            0.47058823529411764,
            "rgba(176, 49, 91, 1.000)"
           ],
           [
            0.4745098039215686,
            "rgba(177, 50, 90, 1.000)"
           ],
           [
            0.47843137254901963,
            "rgba(179, 50, 90, 1.000)"
           ],
           [
            0.4823529411764706,
            "rgba(180, 51, 89, 1.000)"
           ],
           [
            0.48627450980392156,
            "rgba(182, 52, 88, 1.000)"
           ],
           [
            0.49019607843137253,
            "rgba(183, 53, 87, 1.000)"
           ],
           [
            0.49411764705882355,
            "rgba(185, 53, 86, 1.000)"
           ],
           [
            0.4980392156862745,
            "rgba(186, 54, 85, 1.000)"
           ],
           [
            0.5019607843137255,
            "rgba(188, 55, 84, 1.000)"
           ],
           [
            0.5058823529411764,
            "rgba(189, 56, 83, 1.000)"
           ],
           [
            0.5098039215686274,
            "rgba(191, 57, 82, 1.000)"
           ],
           [
            0.5137254901960784,
            "rgba(192, 58, 81, 1.000)"
           ],
           [
            0.5176470588235295,
            "rgba(193, 58, 80, 1.000)"
           ],
           [
            0.5215686274509804,
            "rgba(195, 59, 79, 1.000)"
           ],
           [
            0.5254901960784314,
            "rgba(196, 60, 78, 1.000)"
           ],
           [
            0.5294117647058824,
            "rgba(198, 61, 77, 1.000)"
           ],
           [
            0.5333333333333333,
            "rgba(199, 62, 76, 1.000)"
           ],
           [
            0.5372549019607843,
            "rgba(200, 63, 75, 1.000)"
           ],
           [
            0.5411764705882353,
            "rgba(202, 64, 74, 1.000)"
           ],
           [
            0.5450980392156862,
            "rgba(203, 65, 73, 1.000)"
           ],
           [
            0.5490196078431373,
            "rgba(204, 66, 72, 1.000)"
           ],
           [
            0.5529411764705883,
            "rgba(206, 67, 71, 1.000)"
           ],
           [
            0.5568627450980392,
            "rgba(207, 68, 70, 1.000)"
           ],
           [
            0.5607843137254902,
            "rgba(208, 69, 69, 1.000)"
           ],
           [
            0.5647058823529412,
            "rgba(210, 70, 68, 1.000)"
           ],
           [
            0.5686274509803921,
            "rgba(211, 71, 67, 1.000)"
           ],
           [
            0.5725490196078431,
            "rgba(212, 72, 66, 1.000)"
           ],
           [
            0.5764705882352941,
            "rgba(213, 74, 65, 1.000)"
           ],
           [
            0.5803921568627451,
            "rgba(215, 75, 63, 1.000)"
           ],
           [
            0.5843137254901961,
            "rgba(216, 76, 62, 1.000)"
           ],
           [
            0.5882352941176471,
            "rgba(217, 77, 61, 1.000)"
           ],
           [
            0.592156862745098,
            "rgba(218, 78, 60, 1.000)"
           ],
           [
            0.596078431372549,
            "rgba(219, 80, 59, 1.000)"
           ],
           [
            0.6,
            "rgba(221, 81, 58, 1.000)"
           ],
           [
            0.6039215686274509,
            "rgba(222, 82, 56, 1.000)"
           ],
           [
            0.6078431372549019,
            "rgba(223, 83, 55, 1.000)"
           ],
           [
            0.611764705882353,
            "rgba(224, 85, 54, 1.000)"
           ],
           [
            0.615686274509804,
            "rgba(225, 86, 53, 1.000)"
           ],
           [
            0.6196078431372549,
            "rgba(226, 87, 52, 1.000)"
           ],
           [
            0.6235294117647059,
            "rgba(227, 89, 51, 1.000)"
           ],
           [
            0.6274509803921569,
            "rgba(228, 90, 49, 1.000)"
           ],
           [
            0.6313725490196078,
            "rgba(229, 92, 48, 1.000)"
           ],
           [
            0.6352941176470588,
            "rgba(230, 93, 47, 1.000)"
           ],
           [
            0.6392156862745098,
            "rgba(231, 94, 46, 1.000)"
           ],
           [
            0.6431372549019608,
            "rgba(232, 96, 45, 1.000)"
           ],
           [
            0.6470588235294118,
            "rgba(233, 97, 43, 1.000)"
           ],
           [
            0.6509803921568628,
            "rgba(234, 99, 42, 1.000)"
           ],
           [
            0.6549019607843137,
            "rgba(235, 100, 41, 1.000)"
           ],
           [
            0.6588235294117647,
            "rgba(235, 102, 40, 1.000)"
           ],
           [
            0.6627450980392157,
            "rgba(236, 103, 38, 1.000)"
           ],
           [
            0.6666666666666666,
            "rgba(237, 105, 37, 1.000)"
           ],
           [
            0.6705882352941176,
            "rgba(238, 106, 36, 1.000)"
           ],
           [
            0.6745098039215687,
            "rgba(239, 108, 35, 1.000)"
           ],
           [
            0.6784313725490196,
            "rgba(239, 110, 33, 1.000)"
           ],
           [
            0.6823529411764706,
            "rgba(240, 111, 32, 1.000)"
           ],
           [
            0.6862745098039216,
            "rgba(241, 113, 31, 1.000)"
           ],
           [
            0.6901960784313725,
            "rgba(241, 115, 29, 1.000)"
           ],
           [
            0.6941176470588235,
            "rgba(242, 116, 28, 1.000)"
           ],
           [
            0.6980392156862745,
            "rgba(243, 118, 27, 1.000)"
           ],
           [
            0.7019607843137254,
            "rgba(243, 120, 25, 1.000)"
           ],
           [
            0.7058823529411765,
            "rgba(244, 121, 24, 1.000)"
           ],
           [
            0.7098039215686275,
            "rgba(245, 123, 23, 1.000)"
           ],
           [
            0.7137254901960784,
            "rgba(245, 125, 21, 1.000)"
           ],
           [
            0.7176470588235294,
            "rgba(246, 126, 20, 1.000)"
           ],
           [
            0.7215686274509804,
            "rgba(246, 128, 19, 1.000)"
           ],
           [
            0.7254901960784313,
            "rgba(247, 130, 18, 1.000)"
           ],
           [
            0.7294117647058823,
            "rgba(247, 132, 16, 1.000)"
           ],
           [
            0.7333333333333333,
            "rgba(248, 133, 15, 1.000)"
           ],
           [
            0.7372549019607844,
            "rgba(248, 135, 14, 1.000)"
           ],
           [
            0.7411764705882353,
            "rgba(248, 137, 12, 1.000)"
           ],
           [
            0.7450980392156863,
            "rgba(249, 139, 11, 1.000)"
           ],
           [
            0.7490196078431373,
            "rgba(249, 140, 10, 1.000)"
           ],
           [
            0.7529411764705882,
            "rgba(249, 142, 9, 1.000)"
           ],
           [
            0.7568627450980392,
            "rgba(250, 144, 8, 1.000)"
           ],
           [
            0.7607843137254902,
            "rgba(250, 146, 7, 1.000)"
           ],
           [
            0.7647058823529411,
            "rgba(250, 148, 7, 1.000)"
           ],
           [
            0.7686274509803922,
            "rgba(251, 150, 6, 1.000)"
           ],
           [
            0.7725490196078432,
            "rgba(251, 151, 6, 1.000)"
           ],
           [
            0.7764705882352941,
            "rgba(251, 153, 6, 1.000)"
           ],
           [
            0.7803921568627451,
            "rgba(251, 155, 6, 1.000)"
           ],
           [
            0.7843137254901961,
            "rgba(251, 157, 7, 1.000)"
           ],
           [
            0.788235294117647,
            "rgba(252, 159, 7, 1.000)"
           ],
           [
            0.792156862745098,
            "rgba(252, 161, 8, 1.000)"
           ],
           [
            0.796078431372549,
            "rgba(252, 163, 9, 1.000)"
           ],
           [
            0.8,
            "rgba(252, 165, 10, 1.000)"
           ],
           [
            0.803921568627451,
            "rgba(252, 166, 12, 1.000)"
           ],
           [
            0.807843137254902,
            "rgba(252, 168, 13, 1.000)"
           ],
           [
            0.8117647058823529,
            "rgba(252, 170, 15, 1.000)"
           ],
           [
            0.8156862745098039,
            "rgba(252, 172, 17, 1.000)"
           ],
           [
            0.8196078431372549,
            "rgba(252, 174, 18, 1.000)"
           ],
           [
            0.8235294117647058,
            "rgba(252, 176, 20, 1.000)"
           ],
           [
            0.8274509803921568,
            "rgba(252, 178, 22, 1.000)"
           ],
           [
            0.8313725490196079,
            "rgba(252, 180, 24, 1.000)"
           ],
           [
            0.8352941176470589,
            "rgba(251, 182, 26, 1.000)"
           ],
           [
            0.8392156862745098,
            "rgba(251, 184, 29, 1.000)"
           ],
           [
            0.8431372549019608,
            "rgba(251, 186, 31, 1.000)"
           ],
           [
            0.8470588235294118,
            "rgba(251, 188, 33, 1.000)"
           ],
           [
            0.8509803921568627,
            "rgba(251, 190, 35, 1.000)"
           ],
           [
            0.8549019607843137,
            "rgba(250, 192, 38, 1.000)"
           ],
           [
            0.8588235294117647,
            "rgba(250, 194, 40, 1.000)"
           ],
           [
            0.8627450980392157,
            "rgba(250, 196, 42, 1.000)"
           ],
           [
            0.8666666666666667,
            "rgba(250, 198, 45, 1.000)"
           ],
           [
            0.8705882352941177,
            "rgba(249, 199, 47, 1.000)"
           ],
           [
            0.8745098039215686,
            "rgba(249, 201, 50, 1.000)"
           ],
           [
            0.8784313725490196,
            "rgba(249, 203, 53, 1.000)"
           ],
           [
            0.8823529411764706,
            "rgba(248, 205, 55, 1.000)"
           ],
           [
            0.8862745098039215,
            "rgba(248, 207, 58, 1.000)"
           ],
           [
            0.8901960784313725,
            "rgba(247, 209, 61, 1.000)"
           ],
           [
            0.8941176470588236,
            "rgba(247, 211, 64, 1.000)"
           ],
           [
            0.8980392156862745,
            "rgba(246, 213, 67, 1.000)"
           ],
           [
            0.9019607843137255,
            "rgba(246, 215, 70, 1.000)"
           ],
           [
            0.9058823529411765,
            "rgba(245, 217, 73, 1.000)"
           ],
           [
            0.9098039215686274,
            "rgba(245, 219, 76, 1.000)"
           ],
           [
            0.9137254901960784,
            "rgba(244, 221, 79, 1.000)"
           ],
           [
            0.9176470588235294,
            "rgba(244, 223, 83, 1.000)"
           ],
           [
            0.9215686274509803,
            "rgba(244, 225, 86, 1.000)"
           ],
           [
            0.9254901960784314,
            "rgba(243, 227, 90, 1.000)"
           ],
           [
            0.9294117647058824,
            "rgba(243, 229, 93, 1.000)"
           ],
           [
            0.9333333333333333,
            "rgba(242, 230, 97, 1.000)"
           ],
           [
            0.9372549019607843,
            "rgba(242, 232, 101, 1.000)"
           ],
           [
            0.9411764705882353,
            "rgba(242, 234, 105, 1.000)"
           ],
           [
            0.9450980392156862,
            "rgba(241, 236, 109, 1.000)"
           ],
           [
            0.9490196078431372,
            "rgba(241, 237, 113, 1.000)"
           ],
           [
            0.9529411764705882,
            "rgba(241, 239, 117, 1.000)"
           ],
           [
            0.9568627450980393,
            "rgba(241, 241, 121, 1.000)"
           ],
           [
            0.9607843137254902,
            "rgba(242, 242, 125, 1.000)"
           ],
           [
            0.9647058823529412,
            "rgba(242, 244, 130, 1.000)"
           ],
           [
            0.9686274509803922,
            "rgba(243, 245, 134, 1.000)"
           ],
           [
            0.9725490196078431,
            "rgba(243, 246, 138, 1.000)"
           ],
           [
            0.9764705882352941,
            "rgba(244, 248, 142, 1.000)"
           ],
           [
            0.9803921568627451,
            "rgba(245, 249, 146, 1.000)"
           ],
           [
            0.984313725490196,
            "rgba(246, 250, 150, 1.000)"
           ],
           [
            0.9882352941176471,
            "rgba(248, 251, 154, 1.000)"
           ],
           [
            0.9921568627450981,
            "rgba(249, 252, 157, 1.000)"
           ],
           [
            0.996078431372549,
            "rgba(250, 253, 161, 1.000)"
           ],
           [
            1,
            "rgba(252, 255, 164, 1.000)"
           ]
          ],
          "opacity": 1e-10,
          "showscale": true,
          "size": 1e-10
         },
         "mode": "markers",
         "name": "y1",
         "scene": "scene",
         "showlegend": false,
         "type": "scatter3d",
         "x": [
          1.5526213032779128
         ],
         "xaxis": "x",
         "y": [
          -0.5350808688519418
         ],
         "yaxis": "y",
         "z": [
          -0.4785840873111373
         ],
         "zaxis": "z",
         "zmax": 22,
         "zmin": 1
        },
        {
         "colorbar": {
          "title": ""
         },
         "legendgroup": "y2",
         "line": {
          "color": "rgba(0, 0, 0, 1.000)",
          "dash": "solid",
          "shape": "linear",
          "width": 2
         },
         "mode": "lines",
         "name": "y2",
         "scene": "scene",
         "showlegend": true,
         "type": "scatter3d",
         "x": [
          1.5526213032779128,
          1.2896342806772931,
          1.0277771476749293,
          0.7678770408636879,
          0.5102367132489585,
          0.2545534118253511,
          0,
          -0.003955252949969011,
          -0.003955252949969011,
          0,
          0.3333333333333333,
          0.6666666666666666,
          1,
          1.002032713467188,
          1.002032713467188,
          1,
          0.7319479583809044,
          0.4635897588366038,
          0.19470127821070837,
          -0.07479951826559669,
          -0.344830595823497,
          -0.6151678313066017
         ],
         "xaxis": "x",
         "y": [
          -0.5350808688519418,
          -0.36442340457505995,
          -0.1932686228818813,
          -0.021252462156187736,
          0.15175833340209927,
          0.3256305079929013,
          0.49999999999999994,
          0.33180706973345253,
          0.1651404030667859,
          0,
          -0.0014777063031765952,
          -0.0014777063031765952,
          0,
          -0.0038233592507521687,
          -0.0038233592507521687,
          0,
          0.05049741229982187,
          0.09948583142180424,
          0.1458605976914938,
          0.1892173776055043,
          0.22996050466722207,
          0.26919463855110026
         ],
         "yaxis": "y",
         "z": [
          -0.4785840873111373,
          -0.2579228927736964,
          -0.03633984923440261,
          0.1868398836130071,
          0.4118633144641227,
          0.6384834346233541,
          0.8660254037844387,
          0.5782314578898713,
          0.2895563232950585,
          0,
          0.004070182315517593,
          0.004070182315517593,
          0,
          0.3333333333333333,
          0.6666666666666666,
          1,
          0.7306013710515571,
          0.4612574011653458,
          0.19200810355201378,
          -0.07713187593685471,
          -0.3461771831528443,
          -0.6151678313066017
         ],
         "zaxis": "z",
         "zmax": 22,
         "zmin": 1
        }
       ],
       "layout": {
        "annotations": [],
        "height": 400,
        "legend": {
         "bgcolor": "rgba(255, 255, 255, 1.000)",
         "bordercolor": "rgba(0, 0, 0, 1.000)",
         "borderwidth": 1,
         "font": {
          "color": "rgba(0, 0, 0, 1.000)",
          "family": "sans-serif",
          "size": 11
         },
         "title": {
          "font": {
           "color": "rgba(0, 0, 0, 1.000)",
           "family": "sans-serif",
           "size": 15
          },
          "text": ""
         },
         "tracegroupgap": 0,
         "traceorder": "normal",
         "x": 1,
         "xanchor": "auto",
         "y": 1,
         "yanchor": "auto"
        },
        "margin": {
         "b": 20,
         "l": 0,
         "r": 0,
         "t": 20
        },
        "paper_bgcolor": "rgba(255, 255, 255, 1.000)",
        "plot_bgcolor": "rgba(255, 255, 255, 1.000)",
        "scene": {
         "camera": {
          "eye": {
           "x": 1.12583302491977,
           "y": -1.9499999999999997,
           "z": 1.3
          }
         },
         "domain": {
          "x": [
           0.09128390201224845,
           0.9934383202099738
          ],
          "y": [
           0.07581474190726165,
           0.9901574803149606
          ]
         },
         "xaxis": {
          "gridcolor": "rgba(0, 0, 0, 0.100)",
          "gridwidth": 0.5,
          "linecolor": "rgba(0, 0, 0, 1.000)",
          "mirror": false,
          "range": [
           -0.6802015053441371,
           1.6176549773154483
          ],
          "showgrid": true,
          "showline": true,
          "showticklabels": true,
          "tickangle": 0,
          "tickcolor": "rgb(0, 0, 0)",
          "tickfont": {
           "color": "rgba(0, 0, 0, 1.000)",
           "family": "sans-serif",
           "size": 11
          },
          "tickmode": "array",
          "ticks": "inside",
          "ticktext": [
           "-0.5",
           "0.0",
           "0.5",
           "1.0",
           "1.5"
          ],
          "tickvals": [
           -0.5,
           0,
           0.5,
           1,
           1.5
          ],
          "title": "x",
          "titlefont": {
           "color": "rgba(0, 0, 0, 1.000)",
           "family": "sans-serif",
           "size": 15
          },
          "type": "-",
          "visible": true,
          "zeroline": false,
          "zerolinecolor": "rgba(0, 0, 0, 1.000)"
         },
         "yaxis": {
          "gridcolor": "rgba(0, 0, 0, 0.100)",
          "gridwidth": 0.5,
          "linecolor": "rgba(0, 0, 0, 1.000)",
          "mirror": false,
          "range": [
           -0.5661332949175001,
           0.5310524260655582
          ],
          "showgrid": true,
          "showline": true,
          "showticklabels": true,
          "tickangle": 0,
          "tickcolor": "rgb(0, 0, 0)",
          "tickfont": {
           "color": "rgba(0, 0, 0, 1.000)",
           "family": "sans-serif",
           "size": 11
          },
          "tickmode": "array",
          "ticks": "inside",
          "ticktext": [
           "-0.4",
           "-0.2",
           "0.0",
           "0.2",
           "0.4"
          ],
          "tickvals": [
           -0.4,
           -0.2,
           0,
           0.2,
           0.4
          ],
          "title": "y",
          "titlefont": {
           "color": "rgba(0, 0, 0, 1.000)",
           "family": "sans-serif",
           "size": 15
          },
          "type": "-",
          "visible": true,
          "zeroline": false,
          "zerolinecolor": "rgba(0, 0, 0, 1.000)"
         },
         "zaxis": {
          "gridcolor": "rgba(0, 0, 0, 0.100)",
          "gridwidth": 0.5,
          "linecolor": "rgba(0, 0, 0, 1.000)",
          "mirror": false,
          "range": [
           -0.6636228662457997,
           1.0484550349391981
          ],
          "showgrid": true,
          "showline": true,
          "showticklabels": true,
          "tickangle": 0,
          "tickcolor": "rgb(0, 0, 0)",
          "tickfont": {
           "color": "rgba(0, 0, 0, 1.000)",
           "family": "sans-serif",
           "size": 11
          },
          "tickmode": "array",
          "ticks": "inside",
          "ticktext": [
           "-0.5",
           "0.0",
           "0.5",
           "1.0"
          ],
          "tickvals": [
           -0.5,
           0,
           0.5,
           1
          ],
          "title": "z",
          "titlefont": {
           "color": "rgba(0, 0, 0, 1.000)",
           "family": "sans-serif",
           "size": 15
          },
          "type": "-",
          "visible": true,
          "zeroline": false,
          "zerolinecolor": "rgba(0, 0, 0, 1.000)"
         }
        },
        "showlegend": true,
        "width": 600
       }
      },
      "text/html": [
       "    <div id=\"1d25da8b-a12f-43a2-bdb6-15ebe4c5a1f0\" style=\"width:600px;height:400px;\"></div>\n",
       "    <script>\n",
       "        requirejs.config({\n",
       "        paths: {\n",
       "            Plotly: 'https://cdn.plot.ly/plotly-1.57.1.min'\n",
       "        }\n",
       "    });\n",
       "    require(['Plotly'], function (Plotly) {\n",
       "\n",
       "        var PLOT = document.getElementById('1d25da8b-a12f-43a2-bdb6-15ebe4c5a1f0');\n",
       "    Plotly.plot(PLOT, [\n",
       "    {\n",
       "        \"xaxis\": \"x\",\n",
       "        \"colorbar\": {\n",
       "            \"title\": \"\"\n",
       "        },\n",
       "        \"yaxis\": \"y\",\n",
       "        \"zaxis\": \"z\",\n",
       "        \"x\": [\n",
       "            1.5526213032779128\n",
       "        ],\n",
       "        \"showlegend\": true,\n",
       "        \"mode\": \"markers\",\n",
       "        \"name\": \"y1\",\n",
       "        \"zmin\": 1.0,\n",
       "        \"legendgroup\": \"y1\",\n",
       "        \"z\": [\n",
       "            -0.4785840873111373\n",
       "        ],\n",
       "        \"marker\": {\n",
       "            \"symbol\": \"circle\",\n",
       "            \"color\": \"rgba(0, 0, 4, 1.000)\",\n",
       "            \"line\": {\n",
       "                \"color\": \"rgba(0, 0, 0, 1.000)\",\n",
       "                \"width\": 1\n",
       "            },\n",
       "            \"size\": 6\n",
       "        },\n",
       "        \"zmax\": 22.0,\n",
       "        \"y\": [\n",
       "            -0.5350808688519418\n",
       "        ],\n",
       "        \"type\": \"scatter3d\",\n",
       "        \"scene\": \"scene\"\n",
       "    },\n",
       "    {\n",
       "        \"xaxis\": \"x\",\n",
       "        \"colorbar\": {\n",
       "            \"title\": \"\"\n",
       "        },\n",
       "        \"yaxis\": \"y\",\n",
       "        \"zaxis\": \"z\",\n",
       "        \"x\": [\n",
       "            1.2896342806772931\n",
       "        ],\n",
       "        \"showlegend\": false,\n",
       "        \"mode\": \"markers\",\n",
       "        \"name\": \"y1\",\n",
       "        \"zmin\": 1.0,\n",
       "        \"legendgroup\": \"y1\",\n",
       "        \"z\": [\n",
       "            -0.2579228927736964\n",
       "        ],\n",
       "        \"marker\": {\n",
       "            \"symbol\": \"circle\",\n",
       "            \"color\": \"rgba(7, 5, 27, 1.000)\",\n",
       "            \"line\": {\n",
       "                \"color\": \"rgba(0, 0, 0, 1.000)\",\n",
       "                \"width\": 1\n",
       "            },\n",
       "            \"size\": 6\n",
       "        },\n",
       "        \"zmax\": 22.0,\n",
       "        \"y\": [\n",
       "            -0.36442340457505995\n",
       "        ],\n",
       "        \"type\": \"scatter3d\",\n",
       "        \"scene\": \"scene\"\n",
       "    },\n",
       "    {\n",
       "        \"xaxis\": \"x\",\n",
       "        \"colorbar\": {\n",
       "            \"title\": \"\"\n",
       "        },\n",
       "        \"yaxis\": \"y\",\n",
       "        \"zaxis\": \"z\",\n",
       "        \"x\": [\n",
       "            1.0277771476749293\n",
       "        ],\n",
       "        \"showlegend\": false,\n",
       "        \"mode\": \"markers\",\n",
       "        \"name\": \"y1\",\n",
       "        \"zmin\": 1.0,\n",
       "        \"legendgroup\": \"y1\",\n",
       "        \"z\": [\n",
       "            -0.03633984923440261\n",
       "        ],\n",
       "        \"marker\": {\n",
       "            \"symbol\": \"circle\",\n",
       "            \"color\": \"rgba(21, 11, 56, 1.000)\",\n",
       "            \"line\": {\n",
       "                \"color\": \"rgba(0, 0, 0, 1.000)\",\n",
       "                \"width\": 1\n",
       "            },\n",
       "            \"size\": 6\n",
       "        },\n",
       "        \"zmax\": 22.0,\n",
       "        \"y\": [\n",
       "            -0.1932686228818813\n",
       "        ],\n",
       "        \"type\": \"scatter3d\",\n",
       "        \"scene\": \"scene\"\n",
       "    },\n",
       "    {\n",
       "        \"xaxis\": \"x\",\n",
       "        \"colorbar\": {\n",
       "            \"title\": \"\"\n",
       "        },\n",
       "        \"yaxis\": \"y\",\n",
       "        \"zaxis\": \"z\",\n",
       "        \"x\": [\n",
       "            0.7678770408636879\n",
       "        ],\n",
       "        \"showlegend\": false,\n",
       "        \"mode\": \"markers\",\n",
       "        \"name\": \"y1\",\n",
       "        \"zmin\": 1.0,\n",
       "        \"legendgroup\": \"y1\",\n",
       "        \"z\": [\n",
       "            0.1868398836130071\n",
       "        ],\n",
       "        \"marker\": {\n",
       "            \"symbol\": \"circle\",\n",
       "            \"color\": \"rgba(40, 11, 84, 1.000)\",\n",
       "            \"line\": {\n",
       "                \"color\": \"rgba(0, 0, 0, 1.000)\",\n",
       "                \"width\": 1\n",
       "            },\n",
       "            \"size\": 6\n",
       "        },\n",
       "        \"zmax\": 22.0,\n",
       "        \"y\": [\n",
       "            -0.021252462156187736\n",
       "        ],\n",
       "        \"type\": \"scatter3d\",\n",
       "        \"scene\": \"scene\"\n",
       "    },\n",
       "    {\n",
       "        \"xaxis\": \"x\",\n",
       "        \"colorbar\": {\n",
       "            \"title\": \"\"\n",
       "        },\n",
       "        \"yaxis\": \"y\",\n",
       "        \"zaxis\": \"z\",\n",
       "        \"x\": [\n",
       "            0.5102367132489585\n",
       "        ],\n",
       "        \"showlegend\": false,\n",
       "        \"mode\": \"markers\",\n",
       "        \"name\": \"y1\",\n",
       "        \"zmin\": 1.0,\n",
       "        \"legendgroup\": \"y1\",\n",
       "        \"z\": [\n",
       "            0.4118633144641227\n",
       "        ],\n",
       "        \"marker\": {\n",
       "            \"symbol\": \"circle\",\n",
       "            \"color\": \"rgba(62, 9, 102, 1.000)\",\n",
       "            \"line\": {\n",
       "                \"color\": \"rgba(0, 0, 0, 1.000)\",\n",
       "                \"width\": 1\n",
       "            },\n",
       "            \"size\": 6\n",
       "        },\n",
       "        \"zmax\": 22.0,\n",
       "        \"y\": [\n",
       "            0.15175833340209927\n",
       "        ],\n",
       "        \"type\": \"scatter3d\",\n",
       "        \"scene\": \"scene\"\n",
       "    },\n",
       "    {\n",
       "        \"xaxis\": \"x\",\n",
       "        \"colorbar\": {\n",
       "            \"title\": \"\"\n",
       "        },\n",
       "        \"yaxis\": \"y\",\n",
       "        \"zaxis\": \"z\",\n",
       "        \"x\": [\n",
       "            0.2545534118253511\n",
       "        ],\n",
       "        \"showlegend\": false,\n",
       "        \"mode\": \"markers\",\n",
       "        \"name\": \"y1\",\n",
       "        \"zmin\": 1.0,\n",
       "        \"legendgroup\": \"y1\",\n",
       "        \"z\": [\n",
       "            0.6384834346233541\n",
       "        ],\n",
       "        \"marker\": {\n",
       "            \"symbol\": \"circle\",\n",
       "            \"color\": \"rgba(82, 14, 109, 1.000)\",\n",
       "            \"line\": {\n",
       "                \"color\": \"rgba(0, 0, 0, 1.000)\",\n",
       "                \"width\": 1\n",
       "            },\n",
       "            \"size\": 6\n",
       "        },\n",
       "        \"zmax\": 22.0,\n",
       "        \"y\": [\n",
       "            0.3256305079929013\n",
       "        ],\n",
       "        \"type\": \"scatter3d\",\n",
       "        \"scene\": \"scene\"\n",
       "    },\n",
       "    {\n",
       "        \"xaxis\": \"x\",\n",
       "        \"colorbar\": {\n",
       "            \"title\": \"\"\n",
       "        },\n",
       "        \"yaxis\": \"y\",\n",
       "        \"zaxis\": \"z\",\n",
       "        \"x\": [\n",
       "            0.0\n",
       "        ],\n",
       "        \"showlegend\": false,\n",
       "        \"mode\": \"markers\",\n",
       "        \"name\": \"y1\",\n",
       "        \"zmin\": 1.0,\n",
       "        \"legendgroup\": \"y1\",\n",
       "        \"z\": [\n",
       "            0.8660254037844387\n",
       "        ],\n",
       "        \"marker\": {\n",
       "            \"symbol\": \"circle\",\n",
       "            \"color\": \"rgba(101, 21, 110, 1.000)\",\n",
       "            \"line\": {\n",
       "                \"color\": \"rgba(0, 0, 0, 1.000)\",\n",
       "                \"width\": 1\n",
       "            },\n",
       "            \"size\": 6\n",
       "        },\n",
       "        \"zmax\": 22.0,\n",
       "        \"y\": [\n",
       "            0.49999999999999994\n",
       "        ],\n",
       "        \"type\": \"scatter3d\",\n",
       "        \"scene\": \"scene\"\n",
       "    },\n",
       "    {\n",
       "        \"xaxis\": \"x\",\n",
       "        \"colorbar\": {\n",
       "            \"title\": \"\"\n",
       "        },\n",
       "        \"yaxis\": \"y\",\n",
       "        \"zaxis\": \"z\",\n",
       "        \"x\": [\n",
       "            -0.003955252949969011\n",
       "        ],\n",
       "        \"showlegend\": false,\n",
       "        \"mode\": \"markers\",\n",
       "        \"name\": \"y1\",\n",
       "        \"zmin\": 1.0,\n",
       "        \"legendgroup\": \"y1\",\n",
       "        \"z\": [\n",
       "            0.5782314578898713\n",
       "        ],\n",
       "        \"marker\": {\n",
       "            \"symbol\": \"circle\",\n",
       "            \"color\": \"rgba(120, 28, 109, 1.000)\",\n",
       "            \"line\": {\n",
       "                \"color\": \"rgba(0, 0, 0, 1.000)\",\n",
       "                \"width\": 1\n",
       "            },\n",
       "            \"size\": 6\n",
       "        },\n",
       "        \"zmax\": 22.0,\n",
       "        \"y\": [\n",
       "            0.33180706973345253\n",
       "        ],\n",
       "        \"type\": \"scatter3d\",\n",
       "        \"scene\": \"scene\"\n",
       "    },\n",
       "    {\n",
       "        \"xaxis\": \"x\",\n",
       "        \"colorbar\": {\n",
       "            \"title\": \"\"\n",
       "        },\n",
       "        \"yaxis\": \"y\",\n",
       "        \"zaxis\": \"z\",\n",
       "        \"x\": [\n",
       "            -0.003955252949969011\n",
       "        ],\n",
       "        \"showlegend\": false,\n",
       "        \"mode\": \"markers\",\n",
       "        \"name\": \"y1\",\n",
       "        \"zmin\": 1.0,\n",
       "        \"legendgroup\": \"y1\",\n",
       "        \"z\": [\n",
       "            0.2895563232950585\n",
       "        ],\n",
       "        \"marker\": {\n",
       "            \"symbol\": \"circle\",\n",
       "            \"color\": \"rgba(140, 35, 105, 1.000)\",\n",
       "            \"line\": {\n",
       "                \"color\": \"rgba(0, 0, 0, 1.000)\",\n",
       "                \"width\": 1\n",
       "            },\n",
       "            \"size\": 6\n",
       "        },\n",
       "        \"zmax\": 22.0,\n",
       "        \"y\": [\n",
       "            0.1651404030667859\n",
       "        ],\n",
       "        \"type\": \"scatter3d\",\n",
       "        \"scene\": \"scene\"\n",
       "    },\n",
       "    {\n",
       "        \"xaxis\": \"x\",\n",
       "        \"colorbar\": {\n",
       "            \"title\": \"\"\n",
       "        },\n",
       "        \"yaxis\": \"y\",\n",
       "        \"zaxis\": \"z\",\n",
       "        \"x\": [\n",
       "            0.0\n",
       "        ],\n",
       "        \"showlegend\": false,\n",
       "        \"mode\": \"markers\",\n",
       "        \"name\": \"y1\",\n",
       "        \"zmin\": 1.0,\n",
       "        \"legendgroup\": \"y1\",\n",
       "        \"z\": [\n",
       "            0.0\n",
       "        ],\n",
       "        \"marker\": {\n",
       "            \"symbol\": \"circle\",\n",
       "            \"color\": \"rgba(159, 42, 99, 1.000)\",\n",
       "            \"line\": {\n",
       "                \"color\": \"rgba(0, 0, 0, 1.000)\",\n",
       "                \"width\": 1\n",
       "            },\n",
       "            \"size\": 6\n",
       "        },\n",
       "        \"zmax\": 22.0,\n",
       "        \"y\": [\n",
       "            0.0\n",
       "        ],\n",
       "        \"type\": \"scatter3d\",\n",
       "        \"scene\": \"scene\"\n",
       "    },\n",
       "    {\n",
       "        \"xaxis\": \"x\",\n",
       "        \"colorbar\": {\n",
       "            \"title\": \"\"\n",
       "        },\n",
       "        \"yaxis\": \"y\",\n",
       "        \"zaxis\": \"z\",\n",
       "        \"x\": [\n",
       "            0.3333333333333333\n",
       "        ],\n",
       "        \"showlegend\": false,\n",
       "        \"mode\": \"markers\",\n",
       "        \"name\": \"y1\",\n",
       "        \"zmin\": 1.0,\n",
       "        \"legendgroup\": \"y1\",\n",
       "        \"z\": [\n",
       "            0.004070182315517593\n",
       "        ],\n",
       "        \"marker\": {\n",
       "            \"symbol\": \"circle\",\n",
       "            \"color\": \"rgba(178, 50, 90, 1.000)\",\n",
       "            \"line\": {\n",
       "                \"color\": \"rgba(0, 0, 0, 1.000)\",\n",
       "                \"width\": 1\n",
       "            },\n",
       "            \"size\": 6\n",
       "        },\n",
       "        \"zmax\": 22.0,\n",
       "        \"y\": [\n",
       "            -0.0014777063031765952\n",
       "        ],\n",
       "        \"type\": \"scatter3d\",\n",
       "        \"scene\": \"scene\"\n",
       "    },\n",
       "    {\n",
       "        \"xaxis\": \"x\",\n",
       "        \"colorbar\": {\n",
       "            \"title\": \"\"\n",
       "        },\n",
       "        \"yaxis\": \"y\",\n",
       "        \"zaxis\": \"z\",\n",
       "        \"x\": [\n",
       "            0.6666666666666666\n",
       "        ],\n",
       "        \"showlegend\": false,\n",
       "        \"mode\": \"markers\",\n",
       "        \"name\": \"y1\",\n",
       "        \"zmin\": 1.0,\n",
       "        \"legendgroup\": \"y1\",\n",
       "        \"z\": [\n",
       "            0.004070182315517593\n",
       "        ],\n",
       "        \"marker\": {\n",
       "            \"symbol\": \"circle\",\n",
       "            \"color\": \"rgba(196, 60, 79, 1.000)\",\n",
       "            \"line\": {\n",
       "                \"color\": \"rgba(0, 0, 0, 1.000)\",\n",
       "                \"width\": 1\n",
       "            },\n",
       "            \"size\": 6\n",
       "        },\n",
       "        \"zmax\": 22.0,\n",
       "        \"y\": [\n",
       "            -0.0014777063031765952\n",
       "        ],\n",
       "        \"type\": \"scatter3d\",\n",
       "        \"scene\": \"scene\"\n",
       "    },\n",
       "    {\n",
       "        \"xaxis\": \"x\",\n",
       "        \"colorbar\": {\n",
       "            \"title\": \"\"\n",
       "        },\n",
       "        \"yaxis\": \"y\",\n",
       "        \"zaxis\": \"z\",\n",
       "        \"x\": [\n",
       "            1.0\n",
       "        ],\n",
       "        \"showlegend\": false,\n",
       "        \"mode\": \"markers\",\n",
       "        \"name\": \"y1\",\n",
       "        \"zmin\": 1.0,\n",
       "        \"legendgroup\": \"y1\",\n",
       "        \"z\": [\n",
       "            0.0\n",
       "        ],\n",
       "        \"marker\": {\n",
       "            \"symbol\": \"circle\",\n",
       "            \"color\": \"rgba(212, 72, 66, 1.000)\",\n",
       "            \"line\": {\n",
       "                \"color\": \"rgba(0, 0, 0, 1.000)\",\n",
       "                \"width\": 1\n",
       "            },\n",
       "            \"size\": 6\n",
       "        },\n",
       "        \"zmax\": 22.0,\n",
       "        \"y\": [\n",
       "            0.0\n",
       "        ],\n",
       "        \"type\": \"scatter3d\",\n",
       "        \"scene\": \"scene\"\n",
       "    },\n",
       "    {\n",
       "        \"xaxis\": \"x\",\n",
       "        \"colorbar\": {\n",
       "            \"title\": \"\"\n",
       "        },\n",
       "        \"yaxis\": \"y\",\n",
       "        \"zaxis\": \"z\",\n",
       "        \"x\": [\n",
       "            1.002032713467188\n",
       "        ],\n",
       "        \"showlegend\": false,\n",
       "        \"mode\": \"markers\",\n",
       "        \"name\": \"y1\",\n",
       "        \"zmin\": 1.0,\n",
       "        \"legendgroup\": \"y1\",\n",
       "        \"z\": [\n",
       "            0.3333333333333333\n",
       "        ],\n",
       "        \"marker\": {\n",
       "            \"symbol\": \"circle\",\n",
       "            \"color\": \"rgba(226, 87, 52, 1.000)\",\n",
       "            \"line\": {\n",
       "                \"color\": \"rgba(0, 0, 0, 1.000)\",\n",
       "                \"width\": 1\n",
       "            },\n",
       "            \"size\": 6\n",
       "        },\n",
       "        \"zmax\": 22.0,\n",
       "        \"y\": [\n",
       "            -0.0038233592507521687\n",
       "        ],\n",
       "        \"type\": \"scatter3d\",\n",
       "        \"scene\": \"scene\"\n",
       "    },\n",
       "    {\n",
       "        \"xaxis\": \"x\",\n",
       "        \"colorbar\": {\n",
       "            \"title\": \"\"\n",
       "        },\n",
       "        \"yaxis\": \"y\",\n",
       "        \"zaxis\": \"z\",\n",
       "        \"x\": [\n",
       "            1.002032713467188\n",
       "        ],\n",
       "        \"showlegend\": false,\n",
       "        \"mode\": \"markers\",\n",
       "        \"name\": \"y1\",\n",
       "        \"zmin\": 1.0,\n",
       "        \"legendgroup\": \"y1\",\n",
       "        \"z\": [\n",
       "            0.6666666666666666\n",
       "        ],\n",
       "        \"marker\": {\n",
       "            \"symbol\": \"circle\",\n",
       "            \"color\": \"rgba(237, 105, 37, 1.000)\",\n",
       "            \"line\": {\n",
       "                \"color\": \"rgba(0, 0, 0, 1.000)\",\n",
       "                \"width\": 1\n",
       "            },\n",
       "            \"size\": 6\n",
       "        },\n",
       "        \"zmax\": 22.0,\n",
       "        \"y\": [\n",
       "            -0.0038233592507521687\n",
       "        ],\n",
       "        \"type\": \"scatter3d\",\n",
       "        \"scene\": \"scene\"\n",
       "    },\n",
       "    {\n",
       "        \"xaxis\": \"x\",\n",
       "        \"colorbar\": {\n",
       "            \"title\": \"\"\n",
       "        },\n",
       "        \"yaxis\": \"y\",\n",
       "        \"zaxis\": \"z\",\n",
       "        \"x\": [\n",
       "            1.0\n",
       "        ],\n",
       "        \"showlegend\": false,\n",
       "        \"mode\": \"markers\",\n",
       "        \"name\": \"y1\",\n",
       "        \"zmin\": 1.0,\n",
       "        \"legendgroup\": \"y1\",\n",
       "        \"z\": [\n",
       "            1.0\n",
       "        ],\n",
       "        \"marker\": {\n",
       "            \"symbol\": \"circle\",\n",
       "            \"color\": \"rgba(245, 125, 21, 1.000)\",\n",
       "            \"line\": {\n",
       "                \"color\": \"rgba(0, 0, 0, 1.000)\",\n",
       "                \"width\": 1\n",
       "            },\n",
       "            \"size\": 6\n",
       "        },\n",
       "        \"zmax\": 22.0,\n",
       "        \"y\": [\n",
       "            0.0\n",
       "        ],\n",
       "        \"type\": \"scatter3d\",\n",
       "        \"scene\": \"scene\"\n",
       "    },\n",
       "    {\n",
       "        \"xaxis\": \"x\",\n",
       "        \"colorbar\": {\n",
       "            \"title\": \"\"\n",
       "        },\n",
       "        \"yaxis\": \"y\",\n",
       "        \"zaxis\": \"z\",\n",
       "        \"x\": [\n",
       "            0.7319479583809044\n",
       "        ],\n",
       "        \"showlegend\": false,\n",
       "        \"mode\": \"markers\",\n",
       "        \"name\": \"y1\",\n",
       "        \"zmin\": 1.0,\n",
       "        \"legendgroup\": \"y1\",\n",
       "        \"z\": [\n",
       "            0.7306013710515571\n",
       "        ],\n",
       "        \"marker\": {\n",
       "            \"symbol\": \"circle\",\n",
       "            \"color\": \"rgba(250, 146, 7, 1.000)\",\n",
       "            \"line\": {\n",
       "                \"color\": \"rgba(0, 0, 0, 1.000)\",\n",
       "                \"width\": 1\n",
       "            },\n",
       "            \"size\": 6\n",
       "        },\n",
       "        \"zmax\": 22.0,\n",
       "        \"y\": [\n",
       "            0.05049741229982187\n",
       "        ],\n",
       "        \"type\": \"scatter3d\",\n",
       "        \"scene\": \"scene\"\n",
       "    },\n",
       "    {\n",
       "        \"xaxis\": \"x\",\n",
       "        \"colorbar\": {\n",
       "            \"title\": \"\"\n",
       "        },\n",
       "        \"yaxis\": \"y\",\n",
       "        \"zaxis\": \"z\",\n",
       "        \"x\": [\n",
       "            0.4635897588366038\n",
       "        ],\n",
       "        \"showlegend\": false,\n",
       "        \"mode\": \"markers\",\n",
       "        \"name\": \"y1\",\n",
       "        \"zmin\": 1.0,\n",
       "        \"legendgroup\": \"y1\",\n",
       "        \"z\": [\n",
       "            0.4612574011653458\n",
       "        ],\n",
       "        \"marker\": {\n",
       "            \"symbol\": \"circle\",\n",
       "            \"color\": \"rgba(252, 169, 14, 1.000)\",\n",
       "            \"line\": {\n",
       "                \"color\": \"rgba(0, 0, 0, 1.000)\",\n",
       "                \"width\": 1\n",
       "            },\n",
       "            \"size\": 6\n",
       "        },\n",
       "        \"zmax\": 22.0,\n",
       "        \"y\": [\n",
       "            0.09948583142180424\n",
       "        ],\n",
       "        \"type\": \"scatter3d\",\n",
       "        \"scene\": \"scene\"\n",
       "    },\n",
       "    {\n",
       "        \"xaxis\": \"x\",\n",
       "        \"colorbar\": {\n",
       "            \"title\": \"\"\n",
       "        },\n",
       "        \"yaxis\": \"y\",\n",
       "        \"zaxis\": \"z\",\n",
       "        \"x\": [\n",
       "            0.19470127821070837\n",
       "        ],\n",
       "        \"showlegend\": false,\n",
       "        \"mode\": \"markers\",\n",
       "        \"name\": \"y1\",\n",
       "        \"zmin\": 1.0,\n",
       "        \"legendgroup\": \"y1\",\n",
       "        \"z\": [\n",
       "            0.19200810355201378\n",
       "        ],\n",
       "        \"marker\": {\n",
       "            \"symbol\": \"circle\",\n",
       "            \"color\": \"rgba(250, 193, 39, 1.000)\",\n",
       "            \"line\": {\n",
       "                \"color\": \"rgba(0, 0, 0, 1.000)\",\n",
       "                \"width\": 1\n",
       "            },\n",
       "            \"size\": 6\n",
       "        },\n",
       "        \"zmax\": 22.0,\n",
       "        \"y\": [\n",
       "            0.1458605976914938\n",
       "        ],\n",
       "        \"type\": \"scatter3d\",\n",
       "        \"scene\": \"scene\"\n",
       "    },\n",
       "    {\n",
       "        \"xaxis\": \"x\",\n",
       "        \"colorbar\": {\n",
       "            \"title\": \"\"\n",
       "        },\n",
       "        \"yaxis\": \"y\",\n",
       "        \"zaxis\": \"z\",\n",
       "        \"x\": [\n",
       "            -0.07479951826559669\n",
       "        ],\n",
       "        \"showlegend\": false,\n",
       "        \"mode\": \"markers\",\n",
       "        \"name\": \"y1\",\n",
       "        \"zmin\": 1.0,\n",
       "        \"legendgroup\": \"y1\",\n",
       "        \"z\": [\n",
       "            -0.07713187593685471\n",
       "        ],\n",
       "        \"marker\": {\n",
       "            \"symbol\": \"circle\",\n",
       "            \"color\": \"rgba(246, 217, 72, 1.000)\",\n",
       "            \"line\": {\n",
       "                \"color\": \"rgba(0, 0, 0, 1.000)\",\n",
       "                \"width\": 1\n",
       "            },\n",
       "            \"size\": 6\n",
       "        },\n",
       "        \"zmax\": 22.0,\n",
       "        \"y\": [\n",
       "            0.1892173776055043\n",
       "        ],\n",
       "        \"type\": \"scatter3d\",\n",
       "        \"scene\": \"scene\"\n",
       "    },\n",
       "    {\n",
       "        \"xaxis\": \"x\",\n",
       "        \"colorbar\": {\n",
       "            \"title\": \"\"\n",
       "        },\n",
       "        \"yaxis\": \"y\",\n",
       "        \"zaxis\": \"z\",\n",
       "        \"x\": [\n",
       "            -0.344830595823497\n",
       "        ],\n",
       "        \"showlegend\": false,\n",
       "        \"mode\": \"markers\",\n",
       "        \"name\": \"y1\",\n",
       "        \"zmin\": 1.0,\n",
       "        \"legendgroup\": \"y1\",\n",
       "        \"z\": [\n",
       "            -0.3461771831528443\n",
       "        ],\n",
       "        \"marker\": {\n",
       "            \"symbol\": \"circle\",\n",
       "            \"color\": \"rgba(241, 239, 116, 1.000)\",\n",
       "            \"line\": {\n",
       "                \"color\": \"rgba(0, 0, 0, 1.000)\",\n",
       "                \"width\": 1\n",
       "            },\n",
       "            \"size\": 6\n",
       "        },\n",
       "        \"zmax\": 22.0,\n",
       "        \"y\": [\n",
       "            0.22996050466722207\n",
       "        ],\n",
       "        \"type\": \"scatter3d\",\n",
       "        \"scene\": \"scene\"\n",
       "    },\n",
       "    {\n",
       "        \"xaxis\": \"x\",\n",
       "        \"colorbar\": {\n",
       "            \"title\": \"\"\n",
       "        },\n",
       "        \"yaxis\": \"y\",\n",
       "        \"zaxis\": \"z\",\n",
       "        \"x\": [\n",
       "            -0.6151678313066017\n",
       "        ],\n",
       "        \"showlegend\": false,\n",
       "        \"mode\": \"markers\",\n",
       "        \"name\": \"y1\",\n",
       "        \"zmin\": 1.0,\n",
       "        \"legendgroup\": \"y1\",\n",
       "        \"z\": [\n",
       "            -0.6151678313066017\n",
       "        ],\n",
       "        \"marker\": {\n",
       "            \"symbol\": \"circle\",\n",
       "            \"color\": \"rgba(252, 255, 164, 1.000)\",\n",
       "            \"line\": {\n",
       "                \"color\": \"rgba(0, 0, 0, 1.000)\",\n",
       "                \"width\": 1\n",
       "            },\n",
       "            \"size\": 6\n",
       "        },\n",
       "        \"zmax\": 22.0,\n",
       "        \"y\": [\n",
       "            0.26919463855110026\n",
       "        ],\n",
       "        \"type\": \"scatter3d\",\n",
       "        \"scene\": \"scene\"\n",
       "    },\n",
       "    {\n",
       "        \"xaxis\": \"x\",\n",
       "        \"colorbar\": {\n",
       "            \"title\": \"\"\n",
       "        },\n",
       "        \"yaxis\": \"y\",\n",
       "        \"zaxis\": \"z\",\n",
       "        \"x\": [\n",
       "            1.5526213032779128\n",
       "        ],\n",
       "        \"showlegend\": false,\n",
       "        \"mode\": \"markers\",\n",
       "        \"name\": \"y1\",\n",
       "        \"zmin\": 1.0,\n",
       "        \"z\": [\n",
       "            -0.4785840873111373\n",
       "        ],\n",
       "        \"marker\": {\n",
       "            \"color\": [\n",
       "                0.5\n",
       "            ],\n",
       "            \"cmin\": 1.0,\n",
       "            \"opacity\": 1.0e-10,\n",
       "            \"size\": 1.0e-10,\n",
       "            \"colorscale\": [\n",
       "                [\n",
       "                    0.0,\n",
       "                    \"rgba(0, 0, 4, 1.000)\"\n",
       "                ],\n",
       "                [\n",
       "                    0.00392156862745098,\n",
       "                    \"rgba(1, 0, 5, 1.000)\"\n",
       "                ],\n",
       "                [\n",
       "                    0.00784313725490196,\n",
       "                    \"rgba(1, 1, 6, 1.000)\"\n",
       "                ],\n",
       "                [\n",
       "                    0.011764705882352941,\n",
       "                    \"rgba(1, 1, 8, 1.000)\"\n",
       "                ],\n",
       "                [\n",
       "                    0.01568627450980392,\n",
       "                    \"rgba(2, 1, 10, 1.000)\"\n",
       "                ],\n",
       "                [\n",
       "                    0.0196078431372549,\n",
       "                    \"rgba(2, 2, 12, 1.000)\"\n",
       "                ],\n",
       "                [\n",
       "                    0.023529411764705882,\n",
       "                    \"rgba(2, 2, 14, 1.000)\"\n",
       "                ],\n",
       "                [\n",
       "                    0.027450980392156862,\n",
       "                    \"rgba(3, 2, 16, 1.000)\"\n",
       "                ],\n",
       "                [\n",
       "                    0.03137254901960784,\n",
       "                    \"rgba(4, 3, 18, 1.000)\"\n",
       "                ],\n",
       "                [\n",
       "                    0.03529411764705882,\n",
       "                    \"rgba(4, 3, 20, 1.000)\"\n",
       "                ],\n",
       "                [\n",
       "                    0.0392156862745098,\n",
       "                    \"rgba(5, 4, 23, 1.000)\"\n",
       "                ],\n",
       "                [\n",
       "                    0.043137254901960784,\n",
       "                    \"rgba(6, 4, 25, 1.000)\"\n",
       "                ],\n",
       "                [\n",
       "                    0.047058823529411764,\n",
       "                    \"rgba(7, 5, 27, 1.000)\"\n",
       "                ],\n",
       "                [\n",
       "                    0.050980392156862744,\n",
       "                    \"rgba(8, 5, 29, 1.000)\"\n",
       "                ],\n",
       "                [\n",
       "                    0.054901960784313725,\n",
       "                    \"rgba(9, 6, 31, 1.000)\"\n",
       "                ],\n",
       "                [\n",
       "                    0.058823529411764705,\n",
       "                    \"rgba(10, 7, 34, 1.000)\"\n",
       "                ],\n",
       "                [\n",
       "                    0.06274509803921569,\n",
       "                    \"rgba(11, 7, 36, 1.000)\"\n",
       "                ],\n",
       "                [\n",
       "                    0.06666666666666667,\n",
       "                    \"rgba(12, 8, 38, 1.000)\"\n",
       "                ],\n",
       "                [\n",
       "                    0.07058823529411765,\n",
       "                    \"rgba(13, 8, 41, 1.000)\"\n",
       "                ],\n",
       "                [\n",
       "                    0.07450980392156863,\n",
       "                    \"rgba(14, 9, 43, 1.000)\"\n",
       "                ],\n",
       "                [\n",
       "                    0.0784313725490196,\n",
       "                    \"rgba(16, 9, 45, 1.000)\"\n",
       "                ],\n",
       "                [\n",
       "                    0.08235294117647059,\n",
       "                    \"rgba(17, 10, 48, 1.000)\"\n",
       "                ],\n",
       "                [\n",
       "                    0.08627450980392157,\n",
       "                    \"rgba(18, 10, 50, 1.000)\"\n",
       "                ],\n",
       "                [\n",
       "                    0.09019607843137255,\n",
       "                    \"rgba(20, 11, 52, 1.000)\"\n",
       "                ],\n",
       "                [\n",
       "                    0.09411764705882353,\n",
       "                    \"rgba(21, 11, 55, 1.000)\"\n",
       "                ],\n",
       "                [\n",
       "                    0.09803921568627451,\n",
       "                    \"rgba(22, 11, 57, 1.000)\"\n",
       "                ],\n",
       "                [\n",
       "                    0.10196078431372549,\n",
       "                    \"rgba(24, 12, 60, 1.000)\"\n",
       "                ],\n",
       "                [\n",
       "                    0.10588235294117647,\n",
       "                    \"rgba(25, 12, 62, 1.000)\"\n",
       "                ],\n",
       "                [\n",
       "                    0.10980392156862745,\n",
       "                    \"rgba(27, 12, 65, 1.000)\"\n",
       "                ],\n",
       "                [\n",
       "                    0.11372549019607843,\n",
       "                    \"rgba(28, 12, 67, 1.000)\"\n",
       "                ],\n",
       "                [\n",
       "                    0.11764705882352941,\n",
       "                    \"rgba(30, 12, 69, 1.000)\"\n",
       "                ],\n",
       "                [\n",
       "                    0.12156862745098039,\n",
       "                    \"rgba(31, 12, 72, 1.000)\"\n",
       "                ],\n",
       "                [\n",
       "                    0.12549019607843137,\n",
       "                    \"rgba(33, 12, 74, 1.000)\"\n",
       "                ],\n",
       "                [\n",
       "                    0.12941176470588237,\n",
       "                    \"rgba(35, 12, 76, 1.000)\"\n",
       "                ],\n",
       "                [\n",
       "                    0.13333333333333333,\n",
       "                    \"rgba(36, 12, 79, 1.000)\"\n",
       "                ],\n",
       "                [\n",
       "                    0.13725490196078433,\n",
       "                    \"rgba(38, 12, 81, 1.000)\"\n",
       "                ],\n",
       "                [\n",
       "                    0.1411764705882353,\n",
       "                    \"rgba(40, 11, 83, 1.000)\"\n",
       "                ],\n",
       "                [\n",
       "                    0.1450980392156863,\n",
       "                    \"rgba(41, 11, 85, 1.000)\"\n",
       "                ],\n",
       "                [\n",
       "                    0.14901960784313725,\n",
       "                    \"rgba(43, 11, 87, 1.000)\"\n",
       "                ],\n",
       "                [\n",
       "                    0.15294117647058825,\n",
       "                    \"rgba(45, 11, 89, 1.000)\"\n",
       "                ],\n",
       "                [\n",
       "                    0.1568627450980392,\n",
       "                    \"rgba(47, 10, 91, 1.000)\"\n",
       "                ],\n",
       "                [\n",
       "                    0.1607843137254902,\n",
       "                    \"rgba(49, 10, 92, 1.000)\"\n",
       "                ],\n",
       "                [\n",
       "                    0.16470588235294117,\n",
       "                    \"rgba(50, 10, 94, 1.000)\"\n",
       "                ],\n",
       "                [\n",
       "                    0.16862745098039217,\n",
       "                    \"rgba(52, 10, 95, 1.000)\"\n",
       "                ],\n",
       "                [\n",
       "                    0.17254901960784313,\n",
       "                    \"rgba(54, 9, 97, 1.000)\"\n",
       "                ],\n",
       "                [\n",
       "                    0.17647058823529413,\n",
       "                    \"rgba(56, 9, 98, 1.000)\"\n",
       "                ],\n",
       "                [\n",
       "                    0.1803921568627451,\n",
       "                    \"rgba(57, 9, 99, 1.000)\"\n",
       "                ],\n",
       "                [\n",
       "                    0.1843137254901961,\n",
       "                    \"rgba(59, 9, 100, 1.000)\"\n",
       "                ],\n",
       "                [\n",
       "                    0.18823529411764706,\n",
       "                    \"rgba(61, 9, 101, 1.000)\"\n",
       "                ],\n",
       "                [\n",
       "                    0.19215686274509805,\n",
       "                    \"rgba(62, 9, 102, 1.000)\"\n",
       "                ],\n",
       "                [\n",
       "                    0.19607843137254902,\n",
       "                    \"rgba(64, 10, 103, 1.000)\"\n",
       "                ],\n",
       "                [\n",
       "                    0.2,\n",
       "                    \"rgba(66, 10, 104, 1.000)\"\n",
       "                ],\n",
       "                [\n",
       "                    0.20392156862745098,\n",
       "                    \"rgba(68, 10, 104, 1.000)\"\n",
       "                ],\n",
       "                [\n",
       "                    0.20784313725490197,\n",
       "                    \"rgba(69, 10, 105, 1.000)\"\n",
       "                ],\n",
       "                [\n",
       "                    0.21176470588235294,\n",
       "                    \"rgba(71, 11, 106, 1.000)\"\n",
       "                ],\n",
       "                [\n",
       "                    0.21568627450980393,\n",
       "                    \"rgba(73, 11, 106, 1.000)\"\n",
       "                ],\n",
       "                [\n",
       "                    0.2196078431372549,\n",
       "                    \"rgba(74, 12, 107, 1.000)\"\n",
       "                ],\n",
       "                [\n",
       "                    0.2235294117647059,\n",
       "                    \"rgba(76, 12, 107, 1.000)\"\n",
       "                ],\n",
       "                [\n",
       "                    0.22745098039215686,\n",
       "                    \"rgba(77, 13, 108, 1.000)\"\n",
       "                ],\n",
       "                [\n",
       "                    0.23137254901960785,\n",
       "                    \"rgba(79, 13, 108, 1.000)\"\n",
       "                ],\n",
       "                [\n",
       "                    0.23529411764705882,\n",
       "                    \"rgba(81, 14, 108, 1.000)\"\n",
       "                ],\n",
       "                [\n",
       "                    0.23921568627450981,\n",
       "                    \"rgba(82, 14, 109, 1.000)\"\n",
       "                ],\n",
       "                [\n",
       "                    0.24313725490196078,\n",
       "                    \"rgba(84, 15, 109, 1.000)\"\n",
       "                ],\n",
       "                [\n",
       "                    0.24705882352941178,\n",
       "                    \"rgba(85, 15, 109, 1.000)\"\n",
       "                ],\n",
       "                [\n",
       "                    0.25098039215686274,\n",
       "                    \"rgba(87, 16, 110, 1.000)\"\n",
       "                ],\n",
       "                [\n",
       "                    0.2549019607843137,\n",
       "                    \"rgba(89, 16, 110, 1.000)\"\n",
       "                ],\n",
       "                [\n",
       "                    0.25882352941176473,\n",
       "                    \"rgba(90, 17, 110, 1.000)\"\n",
       "                ],\n",
       "                [\n",
       "                    0.2627450980392157,\n",
       "                    \"rgba(92, 18, 110, 1.000)\"\n",
       "                ],\n",
       "                [\n",
       "                    0.26666666666666666,\n",
       "                    \"rgba(93, 18, 110, 1.000)\"\n",
       "                ],\n",
       "                [\n",
       "                    0.27058823529411763,\n",
       "                    \"rgba(95, 19, 110, 1.000)\"\n",
       "                ],\n",
       "                [\n",
       "                    0.27450980392156865,\n",
       "                    \"rgba(97, 19, 110, 1.000)\"\n",
       "                ],\n",
       "                [\n",
       "                    0.2784313725490196,\n",
       "                    \"rgba(98, 20, 110, 1.000)\"\n",
       "                ],\n",
       "                [\n",
       "                    0.2823529411764706,\n",
       "                    \"rgba(100, 21, 110, 1.000)\"\n",
       "                ],\n",
       "                [\n",
       "                    0.28627450980392155,\n",
       "                    \"rgba(101, 21, 110, 1.000)\"\n",
       "                ],\n",
       "                [\n",
       "                    0.2901960784313726,\n",
       "                    \"rgba(103, 22, 110, 1.000)\"\n",
       "                ],\n",
       "                [\n",
       "                    0.29411764705882354,\n",
       "                    \"rgba(105, 22, 110, 1.000)\"\n",
       "                ],\n",
       "                [\n",
       "                    0.2980392156862745,\n",
       "                    \"rgba(106, 23, 110, 1.000)\"\n",
       "                ],\n",
       "                [\n",
       "                    0.30196078431372547,\n",
       "                    \"rgba(108, 24, 110, 1.000)\"\n",
       "                ],\n",
       "                [\n",
       "                    0.3058823529411765,\n",
       "                    \"rgba(109, 24, 110, 1.000)\"\n",
       "                ],\n",
       "                [\n",
       "                    0.30980392156862746,\n",
       "                    \"rgba(111, 25, 110, 1.000)\"\n",
       "                ],\n",
       "                [\n",
       "                    0.3137254901960784,\n",
       "                    \"rgba(113, 25, 110, 1.000)\"\n",
       "                ],\n",
       "                [\n",
       "                    0.3176470588235294,\n",
       "                    \"rgba(114, 26, 110, 1.000)\"\n",
       "                ],\n",
       "                [\n",
       "                    0.3215686274509804,\n",
       "                    \"rgba(116, 26, 110, 1.000)\"\n",
       "                ],\n",
       "                [\n",
       "                    0.3254901960784314,\n",
       "                    \"rgba(117, 27, 110, 1.000)\"\n",
       "                ],\n",
       "                [\n",
       "                    0.32941176470588235,\n",
       "                    \"rgba(119, 28, 109, 1.000)\"\n",
       "                ],\n",
       "                [\n",
       "                    0.3333333333333333,\n",
       "                    \"rgba(120, 28, 109, 1.000)\"\n",
       "                ],\n",
       "                [\n",
       "                    0.33725490196078434,\n",
       "                    \"rgba(122, 29, 109, 1.000)\"\n",
       "                ],\n",
       "                [\n",
       "                    0.3411764705882353,\n",
       "                    \"rgba(124, 29, 109, 1.000)\"\n",
       "                ],\n",
       "                [\n",
       "                    0.34509803921568627,\n",
       "                    \"rgba(125, 30, 109, 1.000)\"\n",
       "                ],\n",
       "                [\n",
       "                    0.34901960784313724,\n",
       "                    \"rgba(127, 30, 108, 1.000)\"\n",
       "                ],\n",
       "                [\n",
       "                    0.35294117647058826,\n",
       "                    \"rgba(128, 31, 108, 1.000)\"\n",
       "                ],\n",
       "                [\n",
       "                    0.3568627450980392,\n",
       "                    \"rgba(130, 32, 108, 1.000)\"\n",
       "                ],\n",
       "                [\n",
       "                    0.3607843137254902,\n",
       "                    \"rgba(132, 32, 107, 1.000)\"\n",
       "                ],\n",
       "                [\n",
       "                    0.36470588235294116,\n",
       "                    \"rgba(133, 33, 107, 1.000)\"\n",
       "                ],\n",
       "                [\n",
       "                    0.3686274509803922,\n",
       "                    \"rgba(135, 33, 107, 1.000)\"\n",
       "                ],\n",
       "                [\n",
       "                    0.37254901960784315,\n",
       "                    \"rgba(136, 34, 106, 1.000)\"\n",
       "                ],\n",
       "                [\n",
       "                    0.3764705882352941,\n",
       "                    \"rgba(138, 34, 106, 1.000)\"\n",
       "                ],\n",
       "                [\n",
       "                    0.3803921568627451,\n",
       "                    \"rgba(140, 35, 105, 1.000)\"\n",
       "                ],\n",
       "                [\n",
       "                    0.3843137254901961,\n",
       "                    \"rgba(141, 35, 105, 1.000)\"\n",
       "                ],\n",
       "                [\n",
       "                    0.38823529411764707,\n",
       "                    \"rgba(143, 36, 105, 1.000)\"\n",
       "                ],\n",
       "                [\n",
       "                    0.39215686274509803,\n",
       "                    \"rgba(144, 37, 104, 1.000)\"\n",
       "                ],\n",
       "                [\n",
       "                    0.396078431372549,\n",
       "                    \"rgba(146, 37, 104, 1.000)\"\n",
       "                ],\n",
       "                [\n",
       "                    0.4,\n",
       "                    \"rgba(147, 38, 103, 1.000)\"\n",
       "                ],\n",
       "                [\n",
       "                    0.403921568627451,\n",
       "                    \"rgba(149, 38, 103, 1.000)\"\n",
       "                ],\n",
       "                [\n",
       "                    0.40784313725490196,\n",
       "                    \"rgba(151, 39, 102, 1.000)\"\n",
       "                ],\n",
       "                [\n",
       "                    0.4117647058823529,\n",
       "                    \"rgba(152, 39, 102, 1.000)\"\n",
       "                ],\n",
       "                [\n",
       "                    0.41568627450980394,\n",
       "                    \"rgba(154, 40, 101, 1.000)\"\n",
       "                ],\n",
       "                [\n",
       "                    0.4196078431372549,\n",
       "                    \"rgba(155, 41, 100, 1.000)\"\n",
       "                ],\n",
       "                [\n",
       "                    0.4235294117647059,\n",
       "                    \"rgba(157, 41, 100, 1.000)\"\n",
       "                ],\n",
       "                [\n",
       "                    0.42745098039215684,\n",
       "                    \"rgba(159, 42, 99, 1.000)\"\n",
       "                ],\n",
       "                [\n",
       "                    0.43137254901960786,\n",
       "                    \"rgba(160, 42, 99, 1.000)\"\n",
       "                ],\n",
       "                [\n",
       "                    0.43529411764705883,\n",
       "                    \"rgba(162, 43, 98, 1.000)\"\n",
       "                ],\n",
       "                [\n",
       "                    0.4392156862745098,\n",
       "                    \"rgba(163, 44, 97, 1.000)\"\n",
       "                ],\n",
       "                [\n",
       "                    0.44313725490196076,\n",
       "                    \"rgba(165, 44, 96, 1.000)\"\n",
       "                ],\n",
       "                [\n",
       "                    0.4470588235294118,\n",
       "                    \"rgba(166, 45, 96, 1.000)\"\n",
       "                ],\n",
       "                [\n",
       "                    0.45098039215686275,\n",
       "                    \"rgba(168, 46, 95, 1.000)\"\n",
       "                ],\n",
       "                [\n",
       "                    0.4549019607843137,\n",
       "                    \"rgba(169, 46, 94, 1.000)\"\n",
       "                ],\n",
       "                [\n",
       "                    0.4588235294117647,\n",
       "                    \"rgba(171, 47, 94, 1.000)\"\n",
       "                ],\n",
       "                [\n",
       "                    0.4627450980392157,\n",
       "                    \"rgba(173, 48, 93, 1.000)\"\n",
       "                ],\n",
       "                [\n",
       "                    0.4666666666666667,\n",
       "                    \"rgba(174, 48, 92, 1.000)\"\n",
       "                ],\n",
       "                [\n",
       "                    0.47058823529411764,\n",
       "                    \"rgba(176, 49, 91, 1.000)\"\n",
       "                ],\n",
       "                [\n",
       "                    0.4745098039215686,\n",
       "                    \"rgba(177, 50, 90, 1.000)\"\n",
       "                ],\n",
       "                [\n",
       "                    0.47843137254901963,\n",
       "                    \"rgba(179, 50, 90, 1.000)\"\n",
       "                ],\n",
       "                [\n",
       "                    0.4823529411764706,\n",
       "                    \"rgba(180, 51, 89, 1.000)\"\n",
       "                ],\n",
       "                [\n",
       "                    0.48627450980392156,\n",
       "                    \"rgba(182, 52, 88, 1.000)\"\n",
       "                ],\n",
       "                [\n",
       "                    0.49019607843137253,\n",
       "                    \"rgba(183, 53, 87, 1.000)\"\n",
       "                ],\n",
       "                [\n",
       "                    0.49411764705882355,\n",
       "                    \"rgba(185, 53, 86, 1.000)\"\n",
       "                ],\n",
       "                [\n",
       "                    0.4980392156862745,\n",
       "                    \"rgba(186, 54, 85, 1.000)\"\n",
       "                ],\n",
       "                [\n",
       "                    0.5019607843137255,\n",
       "                    \"rgba(188, 55, 84, 1.000)\"\n",
       "                ],\n",
       "                [\n",
       "                    0.5058823529411764,\n",
       "                    \"rgba(189, 56, 83, 1.000)\"\n",
       "                ],\n",
       "                [\n",
       "                    0.5098039215686274,\n",
       "                    \"rgba(191, 57, 82, 1.000)\"\n",
       "                ],\n",
       "                [\n",
       "                    0.5137254901960784,\n",
       "                    \"rgba(192, 58, 81, 1.000)\"\n",
       "                ],\n",
       "                [\n",
       "                    0.5176470588235295,\n",
       "                    \"rgba(193, 58, 80, 1.000)\"\n",
       "                ],\n",
       "                [\n",
       "                    0.5215686274509804,\n",
       "                    \"rgba(195, 59, 79, 1.000)\"\n",
       "                ],\n",
       "                [\n",
       "                    0.5254901960784314,\n",
       "                    \"rgba(196, 60, 78, 1.000)\"\n",
       "                ],\n",
       "                [\n",
       "                    0.5294117647058824,\n",
       "                    \"rgba(198, 61, 77, 1.000)\"\n",
       "                ],\n",
       "                [\n",
       "                    0.5333333333333333,\n",
       "                    \"rgba(199, 62, 76, 1.000)\"\n",
       "                ],\n",
       "                [\n",
       "                    0.5372549019607843,\n",
       "                    \"rgba(200, 63, 75, 1.000)\"\n",
       "                ],\n",
       "                [\n",
       "                    0.5411764705882353,\n",
       "                    \"rgba(202, 64, 74, 1.000)\"\n",
       "                ],\n",
       "                [\n",
       "                    0.5450980392156862,\n",
       "                    \"rgba(203, 65, 73, 1.000)\"\n",
       "                ],\n",
       "                [\n",
       "                    0.5490196078431373,\n",
       "                    \"rgba(204, 66, 72, 1.000)\"\n",
       "                ],\n",
       "                [\n",
       "                    0.5529411764705883,\n",
       "                    \"rgba(206, 67, 71, 1.000)\"\n",
       "                ],\n",
       "                [\n",
       "                    0.5568627450980392,\n",
       "                    \"rgba(207, 68, 70, 1.000)\"\n",
       "                ],\n",
       "                [\n",
       "                    0.5607843137254902,\n",
       "                    \"rgba(208, 69, 69, 1.000)\"\n",
       "                ],\n",
       "                [\n",
       "                    0.5647058823529412,\n",
       "                    \"rgba(210, 70, 68, 1.000)\"\n",
       "                ],\n",
       "                [\n",
       "                    0.5686274509803921,\n",
       "                    \"rgba(211, 71, 67, 1.000)\"\n",
       "                ],\n",
       "                [\n",
       "                    0.5725490196078431,\n",
       "                    \"rgba(212, 72, 66, 1.000)\"\n",
       "                ],\n",
       "                [\n",
       "                    0.5764705882352941,\n",
       "                    \"rgba(213, 74, 65, 1.000)\"\n",
       "                ],\n",
       "                [\n",
       "                    0.5803921568627451,\n",
       "                    \"rgba(215, 75, 63, 1.000)\"\n",
       "                ],\n",
       "                [\n",
       "                    0.5843137254901961,\n",
       "                    \"rgba(216, 76, 62, 1.000)\"\n",
       "                ],\n",
       "                [\n",
       "                    0.5882352941176471,\n",
       "                    \"rgba(217, 77, 61, 1.000)\"\n",
       "                ],\n",
       "                [\n",
       "                    0.592156862745098,\n",
       "                    \"rgba(218, 78, 60, 1.000)\"\n",
       "                ],\n",
       "                [\n",
       "                    0.596078431372549,\n",
       "                    \"rgba(219, 80, 59, 1.000)\"\n",
       "                ],\n",
       "                [\n",
       "                    0.6,\n",
       "                    \"rgba(221, 81, 58, 1.000)\"\n",
       "                ],\n",
       "                [\n",
       "                    0.6039215686274509,\n",
       "                    \"rgba(222, 82, 56, 1.000)\"\n",
       "                ],\n",
       "                [\n",
       "                    0.6078431372549019,\n",
       "                    \"rgba(223, 83, 55, 1.000)\"\n",
       "                ],\n",
       "                [\n",
       "                    0.611764705882353,\n",
       "                    \"rgba(224, 85, 54, 1.000)\"\n",
       "                ],\n",
       "                [\n",
       "                    0.615686274509804,\n",
       "                    \"rgba(225, 86, 53, 1.000)\"\n",
       "                ],\n",
       "                [\n",
       "                    0.6196078431372549,\n",
       "                    \"rgba(226, 87, 52, 1.000)\"\n",
       "                ],\n",
       "                [\n",
       "                    0.6235294117647059,\n",
       "                    \"rgba(227, 89, 51, 1.000)\"\n",
       "                ],\n",
       "                [\n",
       "                    0.6274509803921569,\n",
       "                    \"rgba(228, 90, 49, 1.000)\"\n",
       "                ],\n",
       "                [\n",
       "                    0.6313725490196078,\n",
       "                    \"rgba(229, 92, 48, 1.000)\"\n",
       "                ],\n",
       "                [\n",
       "                    0.6352941176470588,\n",
       "                    \"rgba(230, 93, 47, 1.000)\"\n",
       "                ],\n",
       "                [\n",
       "                    0.6392156862745098,\n",
       "                    \"rgba(231, 94, 46, 1.000)\"\n",
       "                ],\n",
       "                [\n",
       "                    0.6431372549019608,\n",
       "                    \"rgba(232, 96, 45, 1.000)\"\n",
       "                ],\n",
       "                [\n",
       "                    0.6470588235294118,\n",
       "                    \"rgba(233, 97, 43, 1.000)\"\n",
       "                ],\n",
       "                [\n",
       "                    0.6509803921568628,\n",
       "                    \"rgba(234, 99, 42, 1.000)\"\n",
       "                ],\n",
       "                [\n",
       "                    0.6549019607843137,\n",
       "                    \"rgba(235, 100, 41, 1.000)\"\n",
       "                ],\n",
       "                [\n",
       "                    0.6588235294117647,\n",
       "                    \"rgba(235, 102, 40, 1.000)\"\n",
       "                ],\n",
       "                [\n",
       "                    0.6627450980392157,\n",
       "                    \"rgba(236, 103, 38, 1.000)\"\n",
       "                ],\n",
       "                [\n",
       "                    0.6666666666666666,\n",
       "                    \"rgba(237, 105, 37, 1.000)\"\n",
       "                ],\n",
       "                [\n",
       "                    0.6705882352941176,\n",
       "                    \"rgba(238, 106, 36, 1.000)\"\n",
       "                ],\n",
       "                [\n",
       "                    0.6745098039215687,\n",
       "                    \"rgba(239, 108, 35, 1.000)\"\n",
       "                ],\n",
       "                [\n",
       "                    0.6784313725490196,\n",
       "                    \"rgba(239, 110, 33, 1.000)\"\n",
       "                ],\n",
       "                [\n",
       "                    0.6823529411764706,\n",
       "                    \"rgba(240, 111, 32, 1.000)\"\n",
       "                ],\n",
       "                [\n",
       "                    0.6862745098039216,\n",
       "                    \"rgba(241, 113, 31, 1.000)\"\n",
       "                ],\n",
       "                [\n",
       "                    0.6901960784313725,\n",
       "                    \"rgba(241, 115, 29, 1.000)\"\n",
       "                ],\n",
       "                [\n",
       "                    0.6941176470588235,\n",
       "                    \"rgba(242, 116, 28, 1.000)\"\n",
       "                ],\n",
       "                [\n",
       "                    0.6980392156862745,\n",
       "                    \"rgba(243, 118, 27, 1.000)\"\n",
       "                ],\n",
       "                [\n",
       "                    0.7019607843137254,\n",
       "                    \"rgba(243, 120, 25, 1.000)\"\n",
       "                ],\n",
       "                [\n",
       "                    0.7058823529411765,\n",
       "                    \"rgba(244, 121, 24, 1.000)\"\n",
       "                ],\n",
       "                [\n",
       "                    0.7098039215686275,\n",
       "                    \"rgba(245, 123, 23, 1.000)\"\n",
       "                ],\n",
       "                [\n",
       "                    0.7137254901960784,\n",
       "                    \"rgba(245, 125, 21, 1.000)\"\n",
       "                ],\n",
       "                [\n",
       "                    0.7176470588235294,\n",
       "                    \"rgba(246, 126, 20, 1.000)\"\n",
       "                ],\n",
       "                [\n",
       "                    0.7215686274509804,\n",
       "                    \"rgba(246, 128, 19, 1.000)\"\n",
       "                ],\n",
       "                [\n",
       "                    0.7254901960784313,\n",
       "                    \"rgba(247, 130, 18, 1.000)\"\n",
       "                ],\n",
       "                [\n",
       "                    0.7294117647058823,\n",
       "                    \"rgba(247, 132, 16, 1.000)\"\n",
       "                ],\n",
       "                [\n",
       "                    0.7333333333333333,\n",
       "                    \"rgba(248, 133, 15, 1.000)\"\n",
       "                ],\n",
       "                [\n",
       "                    0.7372549019607844,\n",
       "                    \"rgba(248, 135, 14, 1.000)\"\n",
       "                ],\n",
       "                [\n",
       "                    0.7411764705882353,\n",
       "                    \"rgba(248, 137, 12, 1.000)\"\n",
       "                ],\n",
       "                [\n",
       "                    0.7450980392156863,\n",
       "                    \"rgba(249, 139, 11, 1.000)\"\n",
       "                ],\n",
       "                [\n",
       "                    0.7490196078431373,\n",
       "                    \"rgba(249, 140, 10, 1.000)\"\n",
       "                ],\n",
       "                [\n",
       "                    0.7529411764705882,\n",
       "                    \"rgba(249, 142, 9, 1.000)\"\n",
       "                ],\n",
       "                [\n",
       "                    0.7568627450980392,\n",
       "                    \"rgba(250, 144, 8, 1.000)\"\n",
       "                ],\n",
       "                [\n",
       "                    0.7607843137254902,\n",
       "                    \"rgba(250, 146, 7, 1.000)\"\n",
       "                ],\n",
       "                [\n",
       "                    0.7647058823529411,\n",
       "                    \"rgba(250, 148, 7, 1.000)\"\n",
       "                ],\n",
       "                [\n",
       "                    0.7686274509803922,\n",
       "                    \"rgba(251, 150, 6, 1.000)\"\n",
       "                ],\n",
       "                [\n",
       "                    0.7725490196078432,\n",
       "                    \"rgba(251, 151, 6, 1.000)\"\n",
       "                ],\n",
       "                [\n",
       "                    0.7764705882352941,\n",
       "                    \"rgba(251, 153, 6, 1.000)\"\n",
       "                ],\n",
       "                [\n",
       "                    0.7803921568627451,\n",
       "                    \"rgba(251, 155, 6, 1.000)\"\n",
       "                ],\n",
       "                [\n",
       "                    0.7843137254901961,\n",
       "                    \"rgba(251, 157, 7, 1.000)\"\n",
       "                ],\n",
       "                [\n",
       "                    0.788235294117647,\n",
       "                    \"rgba(252, 159, 7, 1.000)\"\n",
       "                ],\n",
       "                [\n",
       "                    0.792156862745098,\n",
       "                    \"rgba(252, 161, 8, 1.000)\"\n",
       "                ],\n",
       "                [\n",
       "                    0.796078431372549,\n",
       "                    \"rgba(252, 163, 9, 1.000)\"\n",
       "                ],\n",
       "                [\n",
       "                    0.8,\n",
       "                    \"rgba(252, 165, 10, 1.000)\"\n",
       "                ],\n",
       "                [\n",
       "                    0.803921568627451,\n",
       "                    \"rgba(252, 166, 12, 1.000)\"\n",
       "                ],\n",
       "                [\n",
       "                    0.807843137254902,\n",
       "                    \"rgba(252, 168, 13, 1.000)\"\n",
       "                ],\n",
       "                [\n",
       "                    0.8117647058823529,\n",
       "                    \"rgba(252, 170, 15, 1.000)\"\n",
       "                ],\n",
       "                [\n",
       "                    0.8156862745098039,\n",
       "                    \"rgba(252, 172, 17, 1.000)\"\n",
       "                ],\n",
       "                [\n",
       "                    0.8196078431372549,\n",
       "                    \"rgba(252, 174, 18, 1.000)\"\n",
       "                ],\n",
       "                [\n",
       "                    0.8235294117647058,\n",
       "                    \"rgba(252, 176, 20, 1.000)\"\n",
       "                ],\n",
       "                [\n",
       "                    0.8274509803921568,\n",
       "                    \"rgba(252, 178, 22, 1.000)\"\n",
       "                ],\n",
       "                [\n",
       "                    0.8313725490196079,\n",
       "                    \"rgba(252, 180, 24, 1.000)\"\n",
       "                ],\n",
       "                [\n",
       "                    0.8352941176470589,\n",
       "                    \"rgba(251, 182, 26, 1.000)\"\n",
       "                ],\n",
       "                [\n",
       "                    0.8392156862745098,\n",
       "                    \"rgba(251, 184, 29, 1.000)\"\n",
       "                ],\n",
       "                [\n",
       "                    0.8431372549019608,\n",
       "                    \"rgba(251, 186, 31, 1.000)\"\n",
       "                ],\n",
       "                [\n",
       "                    0.8470588235294118,\n",
       "                    \"rgba(251, 188, 33, 1.000)\"\n",
       "                ],\n",
       "                [\n",
       "                    0.8509803921568627,\n",
       "                    \"rgba(251, 190, 35, 1.000)\"\n",
       "                ],\n",
       "                [\n",
       "                    0.8549019607843137,\n",
       "                    \"rgba(250, 192, 38, 1.000)\"\n",
       "                ],\n",
       "                [\n",
       "                    0.8588235294117647,\n",
       "                    \"rgba(250, 194, 40, 1.000)\"\n",
       "                ],\n",
       "                [\n",
       "                    0.8627450980392157,\n",
       "                    \"rgba(250, 196, 42, 1.000)\"\n",
       "                ],\n",
       "                [\n",
       "                    0.8666666666666667,\n",
       "                    \"rgba(250, 198, 45, 1.000)\"\n",
       "                ],\n",
       "                [\n",
       "                    0.8705882352941177,\n",
       "                    \"rgba(249, 199, 47, 1.000)\"\n",
       "                ],\n",
       "                [\n",
       "                    0.8745098039215686,\n",
       "                    \"rgba(249, 201, 50, 1.000)\"\n",
       "                ],\n",
       "                [\n",
       "                    0.8784313725490196,\n",
       "                    \"rgba(249, 203, 53, 1.000)\"\n",
       "                ],\n",
       "                [\n",
       "                    0.8823529411764706,\n",
       "                    \"rgba(248, 205, 55, 1.000)\"\n",
       "                ],\n",
       "                [\n",
       "                    0.8862745098039215,\n",
       "                    \"rgba(248, 207, 58, 1.000)\"\n",
       "                ],\n",
       "                [\n",
       "                    0.8901960784313725,\n",
       "                    \"rgba(247, 209, 61, 1.000)\"\n",
       "                ],\n",
       "                [\n",
       "                    0.8941176470588236,\n",
       "                    \"rgba(247, 211, 64, 1.000)\"\n",
       "                ],\n",
       "                [\n",
       "                    0.8980392156862745,\n",
       "                    \"rgba(246, 213, 67, 1.000)\"\n",
       "                ],\n",
       "                [\n",
       "                    0.9019607843137255,\n",
       "                    \"rgba(246, 215, 70, 1.000)\"\n",
       "                ],\n",
       "                [\n",
       "                    0.9058823529411765,\n",
       "                    \"rgba(245, 217, 73, 1.000)\"\n",
       "                ],\n",
       "                [\n",
       "                    0.9098039215686274,\n",
       "                    \"rgba(245, 219, 76, 1.000)\"\n",
       "                ],\n",
       "                [\n",
       "                    0.9137254901960784,\n",
       "                    \"rgba(244, 221, 79, 1.000)\"\n",
       "                ],\n",
       "                [\n",
       "                    0.9176470588235294,\n",
       "                    \"rgba(244, 223, 83, 1.000)\"\n",
       "                ],\n",
       "                [\n",
       "                    0.9215686274509803,\n",
       "                    \"rgba(244, 225, 86, 1.000)\"\n",
       "                ],\n",
       "                [\n",
       "                    0.9254901960784314,\n",
       "                    \"rgba(243, 227, 90, 1.000)\"\n",
       "                ],\n",
       "                [\n",
       "                    0.9294117647058824,\n",
       "                    \"rgba(243, 229, 93, 1.000)\"\n",
       "                ],\n",
       "                [\n",
       "                    0.9333333333333333,\n",
       "                    \"rgba(242, 230, 97, 1.000)\"\n",
       "                ],\n",
       "                [\n",
       "                    0.9372549019607843,\n",
       "                    \"rgba(242, 232, 101, 1.000)\"\n",
       "                ],\n",
       "                [\n",
       "                    0.9411764705882353,\n",
       "                    \"rgba(242, 234, 105, 1.000)\"\n",
       "                ],\n",
       "                [\n",
       "                    0.9450980392156862,\n",
       "                    \"rgba(241, 236, 109, 1.000)\"\n",
       "                ],\n",
       "                [\n",
       "                    0.9490196078431372,\n",
       "                    \"rgba(241, 237, 113, 1.000)\"\n",
       "                ],\n",
       "                [\n",
       "                    0.9529411764705882,\n",
       "                    \"rgba(241, 239, 117, 1.000)\"\n",
       "                ],\n",
       "                [\n",
       "                    0.9568627450980393,\n",
       "                    \"rgba(241, 241, 121, 1.000)\"\n",
       "                ],\n",
       "                [\n",
       "                    0.9607843137254902,\n",
       "                    \"rgba(242, 242, 125, 1.000)\"\n",
       "                ],\n",
       "                [\n",
       "                    0.9647058823529412,\n",
       "                    \"rgba(242, 244, 130, 1.000)\"\n",
       "                ],\n",
       "                [\n",
       "                    0.9686274509803922,\n",
       "                    \"rgba(243, 245, 134, 1.000)\"\n",
       "                ],\n",
       "                [\n",
       "                    0.9725490196078431,\n",
       "                    \"rgba(243, 246, 138, 1.000)\"\n",
       "                ],\n",
       "                [\n",
       "                    0.9764705882352941,\n",
       "                    \"rgba(244, 248, 142, 1.000)\"\n",
       "                ],\n",
       "                [\n",
       "                    0.9803921568627451,\n",
       "                    \"rgba(245, 249, 146, 1.000)\"\n",
       "                ],\n",
       "                [\n",
       "                    0.984313725490196,\n",
       "                    \"rgba(246, 250, 150, 1.000)\"\n",
       "                ],\n",
       "                [\n",
       "                    0.9882352941176471,\n",
       "                    \"rgba(248, 251, 154, 1.000)\"\n",
       "                ],\n",
       "                [\n",
       "                    0.9921568627450981,\n",
       "                    \"rgba(249, 252, 157, 1.000)\"\n",
       "                ],\n",
       "                [\n",
       "                    0.996078431372549,\n",
       "                    \"rgba(250, 253, 161, 1.000)\"\n",
       "                ],\n",
       "                [\n",
       "                    1.0,\n",
       "                    \"rgba(252, 255, 164, 1.000)\"\n",
       "                ]\n",
       "            ],\n",
       "            \"cmax\": 22.0,\n",
       "            \"showscale\": true\n",
       "        },\n",
       "        \"zmax\": 22.0,\n",
       "        \"y\": [\n",
       "            -0.5350808688519418\n",
       "        ],\n",
       "        \"type\": \"scatter3d\",\n",
       "        \"scene\": \"scene\",\n",
       "        \"hoverinfo\": \"none\"\n",
       "    },\n",
       "    {\n",
       "        \"xaxis\": \"x\",\n",
       "        \"colorbar\": {\n",
       "            \"title\": \"\"\n",
       "        },\n",
       "        \"yaxis\": \"y\",\n",
       "        \"zaxis\": \"z\",\n",
       "        \"x\": [\n",
       "            1.5526213032779128,\n",
       "            1.2896342806772931,\n",
       "            1.0277771476749293,\n",
       "            0.7678770408636879,\n",
       "            0.5102367132489585,\n",
       "            0.2545534118253511,\n",
       "            0.0,\n",
       "            -0.003955252949969011,\n",
       "            -0.003955252949969011,\n",
       "            0.0,\n",
       "            0.3333333333333333,\n",
       "            0.6666666666666666,\n",
       "            1.0,\n",
       "            1.002032713467188,\n",
       "            1.002032713467188,\n",
       "            1.0,\n",
       "            0.7319479583809044,\n",
       "            0.4635897588366038,\n",
       "            0.19470127821070837,\n",
       "            -0.07479951826559669,\n",
       "            -0.344830595823497,\n",
       "            -0.6151678313066017\n",
       "        ],\n",
       "        \"showlegend\": true,\n",
       "        \"mode\": \"lines\",\n",
       "        \"name\": \"y2\",\n",
       "        \"zmin\": 1.0,\n",
       "        \"legendgroup\": \"y2\",\n",
       "        \"z\": [\n",
       "            -0.4785840873111373,\n",
       "            -0.2579228927736964,\n",
       "            -0.03633984923440261,\n",
       "            0.1868398836130071,\n",
       "            0.4118633144641227,\n",
       "            0.6384834346233541,\n",
       "            0.8660254037844387,\n",
       "            0.5782314578898713,\n",
       "            0.2895563232950585,\n",
       "            0.0,\n",
       "            0.004070182315517593,\n",
       "            0.004070182315517593,\n",
       "            0.0,\n",
       "            0.3333333333333333,\n",
       "            0.6666666666666666,\n",
       "            1.0,\n",
       "            0.7306013710515571,\n",
       "            0.4612574011653458,\n",
       "            0.19200810355201378,\n",
       "            -0.07713187593685471,\n",
       "            -0.3461771831528443,\n",
       "            -0.6151678313066017\n",
       "        ],\n",
       "        \"zmax\": 22.0,\n",
       "        \"line\": {\n",
       "            \"color\": \"rgba(0, 0, 0, 1.000)\",\n",
       "            \"shape\": \"linear\",\n",
       "            \"dash\": \"solid\",\n",
       "            \"width\": 2\n",
       "        },\n",
       "        \"y\": [\n",
       "            -0.5350808688519418,\n",
       "            -0.36442340457505995,\n",
       "            -0.1932686228818813,\n",
       "            -0.021252462156187736,\n",
       "            0.15175833340209927,\n",
       "            0.3256305079929013,\n",
       "            0.49999999999999994,\n",
       "            0.33180706973345253,\n",
       "            0.1651404030667859,\n",
       "            0.0,\n",
       "            -0.0014777063031765952,\n",
       "            -0.0014777063031765952,\n",
       "            0.0,\n",
       "            -0.0038233592507521687,\n",
       "            -0.0038233592507521687,\n",
       "            0.0,\n",
       "            0.05049741229982187,\n",
       "            0.09948583142180424,\n",
       "            0.1458605976914938,\n",
       "            0.1892173776055043,\n",
       "            0.22996050466722207,\n",
       "            0.26919463855110026\n",
       "        ],\n",
       "        \"type\": \"scatter3d\",\n",
       "        \"scene\": \"scene\"\n",
       "    }\n",
       "]\n",
       ", {\n",
       "    \"showlegend\": true,\n",
       "    \"paper_bgcolor\": \"rgba(255, 255, 255, 1.000)\",\n",
       "    \"annotations\": [],\n",
       "    \"height\": 400,\n",
       "    \"margin\": {\n",
       "        \"l\": 0,\n",
       "        \"b\": 20,\n",
       "        \"r\": 0,\n",
       "        \"t\": 20\n",
       "    },\n",
       "    \"plot_bgcolor\": \"rgba(255, 255, 255, 1.000)\",\n",
       "    \"scene\": {\n",
       "        \"camera\": {\n",
       "            \"eye\": {\n",
       "                \"y\": -1.9499999999999997,\n",
       "                \"z\": 1.3,\n",
       "                \"x\": 1.12583302491977\n",
       "            }\n",
       "        },\n",
       "        \"xaxis\": {\n",
       "            \"tickangle\": 0,\n",
       "            \"showline\": true,\n",
       "            \"gridcolor\": \"rgba(0, 0, 0, 0.100)\",\n",
       "            \"showticklabels\": true,\n",
       "            \"gridwidth\": 0.5,\n",
       "            \"titlefont\": {\n",
       "                \"color\": \"rgba(0, 0, 0, 1.000)\",\n",
       "                \"family\": \"sans-serif\",\n",
       "                \"size\": 15\n",
       "            },\n",
       "            \"visible\": true,\n",
       "            \"ticks\": \"inside\",\n",
       "            \"range\": [\n",
       "                -0.6802015053441371,\n",
       "                1.6176549773154483\n",
       "            ],\n",
       "            \"tickmode\": \"array\",\n",
       "            \"tickvals\": [\n",
       "                -0.5,\n",
       "                0.0,\n",
       "                0.5,\n",
       "                1.0,\n",
       "                1.5\n",
       "            ],\n",
       "            \"tickcolor\": \"rgb(0, 0, 0)\",\n",
       "            \"ticktext\": [\n",
       "                \"-0.5\",\n",
       "                \"0.0\",\n",
       "                \"0.5\",\n",
       "                \"1.0\",\n",
       "                \"1.5\"\n",
       "            ],\n",
       "            \"linecolor\": \"rgba(0, 0, 0, 1.000)\",\n",
       "            \"showgrid\": true,\n",
       "            \"zeroline\": false,\n",
       "            \"type\": \"-\",\n",
       "            \"tickfont\": {\n",
       "                \"color\": \"rgba(0, 0, 0, 1.000)\",\n",
       "                \"family\": \"sans-serif\",\n",
       "                \"size\": 11\n",
       "            },\n",
       "            \"title\": \"x\",\n",
       "            \"zerolinecolor\": \"rgba(0, 0, 0, 1.000)\",\n",
       "            \"mirror\": false\n",
       "        },\n",
       "        \"domain\": {\n",
       "            \"y\": [\n",
       "                0.07581474190726165,\n",
       "                0.9901574803149606\n",
       "            ],\n",
       "            \"x\": [\n",
       "                0.09128390201224845,\n",
       "                0.9934383202099738\n",
       "            ]\n",
       "        },\n",
       "        \"yaxis\": {\n",
       "            \"tickangle\": 0,\n",
       "            \"showline\": true,\n",
       "            \"gridcolor\": \"rgba(0, 0, 0, 0.100)\",\n",
       "            \"showticklabels\": true,\n",
       "            \"gridwidth\": 0.5,\n",
       "            \"titlefont\": {\n",
       "                \"color\": \"rgba(0, 0, 0, 1.000)\",\n",
       "                \"family\": \"sans-serif\",\n",
       "                \"size\": 15\n",
       "            },\n",
       "            \"visible\": true,\n",
       "            \"ticks\": \"inside\",\n",
       "            \"range\": [\n",
       "                -0.5661332949175001,\n",
       "                0.5310524260655582\n",
       "            ],\n",
       "            \"tickmode\": \"array\",\n",
       "            \"tickvals\": [\n",
       "                -0.4,\n",
       "                -0.2,\n",
       "                0.0,\n",
       "                0.2,\n",
       "                0.4\n",
       "            ],\n",
       "            \"tickcolor\": \"rgb(0, 0, 0)\",\n",
       "            \"ticktext\": [\n",
       "                \"-0.4\",\n",
       "                \"-0.2\",\n",
       "                \"0.0\",\n",
       "                \"0.2\",\n",
       "                \"0.4\"\n",
       "            ],\n",
       "            \"linecolor\": \"rgba(0, 0, 0, 1.000)\",\n",
       "            \"showgrid\": true,\n",
       "            \"zeroline\": false,\n",
       "            \"type\": \"-\",\n",
       "            \"tickfont\": {\n",
       "                \"color\": \"rgba(0, 0, 0, 1.000)\",\n",
       "                \"family\": \"sans-serif\",\n",
       "                \"size\": 11\n",
       "            },\n",
       "            \"title\": \"y\",\n",
       "            \"zerolinecolor\": \"rgba(0, 0, 0, 1.000)\",\n",
       "            \"mirror\": false\n",
       "        },\n",
       "        \"zaxis\": {\n",
       "            \"tickangle\": 0,\n",
       "            \"showline\": true,\n",
       "            \"gridcolor\": \"rgba(0, 0, 0, 0.100)\",\n",
       "            \"showticklabels\": true,\n",
       "            \"gridwidth\": 0.5,\n",
       "            \"titlefont\": {\n",
       "                \"color\": \"rgba(0, 0, 0, 1.000)\",\n",
       "                \"family\": \"sans-serif\",\n",
       "                \"size\": 15\n",
       "            },\n",
       "            \"visible\": true,\n",
       "            \"ticks\": \"inside\",\n",
       "            \"range\": [\n",
       "                -0.6636228662457997,\n",
       "                1.0484550349391981\n",
       "            ],\n",
       "            \"tickmode\": \"array\",\n",
       "            \"tickvals\": [\n",
       "                -0.5,\n",
       "                0.0,\n",
       "                0.5,\n",
       "                1.0\n",
       "            ],\n",
       "            \"tickcolor\": \"rgb(0, 0, 0)\",\n",
       "            \"ticktext\": [\n",
       "                \"-0.5\",\n",
       "                \"0.0\",\n",
       "                \"0.5\",\n",
       "                \"1.0\"\n",
       "            ],\n",
       "            \"linecolor\": \"rgba(0, 0, 0, 1.000)\",\n",
       "            \"showgrid\": true,\n",
       "            \"zeroline\": false,\n",
       "            \"type\": \"-\",\n",
       "            \"tickfont\": {\n",
       "                \"color\": \"rgba(0, 0, 0, 1.000)\",\n",
       "                \"family\": \"sans-serif\",\n",
       "                \"size\": 11\n",
       "            },\n",
       "            \"title\": \"z\",\n",
       "            \"zerolinecolor\": \"rgba(0, 0, 0, 1.000)\",\n",
       "            \"mirror\": false\n",
       "        }\n",
       "    },\n",
       "    \"legend\": {\n",
       "        \"yanchor\": \"auto\",\n",
       "        \"xanchor\": \"auto\",\n",
       "        \"bordercolor\": \"rgba(0, 0, 0, 1.000)\",\n",
       "        \"bgcolor\": \"rgba(255, 255, 255, 1.000)\",\n",
       "        \"borderwidth\": 1,\n",
       "        \"tracegroupgap\": 0,\n",
       "        \"y\": 1.0,\n",
       "        \"font\": {\n",
       "            \"color\": \"rgba(0, 0, 0, 1.000)\",\n",
       "            \"family\": \"sans-serif\",\n",
       "            \"size\": 11\n",
       "        },\n",
       "        \"title\": {\n",
       "            \"font\": {\n",
       "                \"color\": \"rgba(0, 0, 0, 1.000)\",\n",
       "                \"family\": \"sans-serif\",\n",
       "                \"size\": 15\n",
       "            },\n",
       "            \"text\": \"\"\n",
       "        },\n",
       "        \"traceorder\": \"normal\",\n",
       "        \"x\": 1.0\n",
       "    },\n",
       "    \"width\": 600\n",
       "}\n",
       ");\n",
       "\n",
       "    });\n",
       "    </script>\n"
      ]
     },
     "metadata": {},
     "output_type": "display_data"
    }
   ],
   "source": [
    "p = plot()\n",
    "plotChainSeries!(Q)\n",
    "display(p)"
   ]
  },
  {
   "cell_type": "code",
   "execution_count": 8,
   "metadata": {},
   "outputs": [],
   "source": [
    "using BenchmarkTools"
   ]
  },
  {
   "cell_type": "code",
   "execution_count": 187,
   "metadata": {},
   "outputs": [],
   "source": [
    "ndens=[5,2,2,2,5]\n",
    "Q = helixify(P,ndens,r=5e-3);\n",
    "ls,bas,das = internalCoordinates(Q);"
   ]
  },
  {
   "cell_type": "code",
   "execution_count": 310,
   "metadata": {},
   "outputs": [
    {
     "data": {
      "text/plain": [
       "0.0"
      ]
     },
     "execution_count": 310,
     "metadata": {},
     "output_type": "execute_result"
    }
   ],
   "source": [
    "sum(helixifiedConstraints(Q,ndens,ls,bas,das))"
   ]
  },
  {
   "cell_type": "code",
   "execution_count": 311,
   "metadata": {},
   "outputs": [
    {
     "data": {
      "text/plain": [
       "66-element Vector{Float64}:\n",
       "     1.4694738622003392\n",
       "    -0.561059711010469\n",
       "    -1.23183641458268\n",
       "    12.323617911884256\n",
       "     1.620606841995702\n",
       "    -9.63883228825638\n",
       "   -44.47752489624526\n",
       "   113.62793616507089\n",
       "    47.31856500572307\n",
       "    36.317461453476966\n",
       "  -134.2562641352297\n",
       "  -140.88684240108373\n",
       " -2149.4679253126737\n",
       "     ⋮\n",
       "  -175.0761493060288\n",
       "    13.470090010694008\n",
       "   -83.27309073769719\n",
       "    54.57187232426337\n",
       "   -66.20975223139051\n",
       "    36.56324891928105\n",
       "    -8.325501113716674\n",
       "    -5.270136456835669\n",
       "    -7.5688249985438105\n",
       "    -1.3338550483124343\n",
       "    -0.35708624253732285\n",
       "    -1.6037621472035042"
      ]
     },
     "execution_count": 311,
     "metadata": {},
     "output_type": "execute_result"
    }
   ],
   "source": [
    "ener_grad = deriv(tangentEnergyFrac,Q)"
   ]
  },
  {
   "cell_type": "code",
   "execution_count": 312,
   "metadata": {},
   "outputs": [
    {
     "data": {
      "text/plain": [
       "66×66 Base.Matrix{Float64}:\n",
       "  29.7908       0.0          0.0        …    0.0           0.0\n",
       "   0.0         29.7908       0.0             0.0429025     0.0\n",
       "   0.0          0.0         29.7908          0.0           0.0429025\n",
       " -29.1859      -0.0         -0.0             0.0           0.0\n",
       "  -0.0        -29.1859      -0.0             0.0140968     0.0\n",
       "  -0.0         -0.0        -29.1859     …    0.0           0.0140968\n",
       "  -7.78979     -0.0         -0.0             0.0           0.0\n",
       "  -0.0         -7.78979     -0.0             0.0139355     0.0\n",
       "  -0.0         -0.0         -7.78979         0.0           0.0139355\n",
       "   5.94181      0.0          0.0             0.0           0.0\n",
       "   0.0          5.94181      0.0        …    0.00443491    0.0\n",
       "   0.0          0.0          5.94181         0.0           0.00443491\n",
       "   1.05384      0.0          0.0            -0.0          -0.0\n",
       "   ⋮                                    ⋱                  ⋮\n",
       "   0.0133028    0.0          0.0             0.0           0.0\n",
       "   0.0          0.0133028    0.0        …    5.94181       0.0\n",
       "   0.0          0.0          0.0133028       0.0           5.94181\n",
       "   0.0186659    0.0          0.0            -0.0          -0.0\n",
       "   0.0          0.0186659    0.0            -7.78979      -0.0\n",
       "   0.0          0.0          0.0186659      -0.0          -7.78979\n",
       "   0.0154651    0.0          0.0        …   -0.0          -0.0\n",
       "   0.0          0.0154651    0.0           -29.3164       -0.0\n",
       "   0.0          0.0          0.0154651      -0.0         -29.3164\n",
       "   0.0429025    0.0          0.0             0.0           0.0\n",
       "   0.0          0.0429025    0.0            29.8951        0.0\n",
       "   0.0          0.0          0.0429025  …    0.0          29.8951"
      ]
     },
     "execution_count": 312,
     "metadata": {},
     "output_type": "execute_result"
    }
   ],
   "source": [
    "Al = Aline(Q)"
   ]
  },
  {
   "cell_type": "code",
   "execution_count": 313,
   "metadata": {},
   "outputs": [
    {
     "data": {
      "text/plain": [
       "48×66 Base.Matrix{Float64}:\n",
       "   0.685976    -0.445143   -0.575573  …     0.0         0.0         0.0\n",
       "   0.0          0.0         0.0             0.0         0.0         0.0\n",
       "   0.0          0.0         0.0             0.0         0.0         0.0\n",
       "   0.0          0.0         0.0             0.0         0.0         0.0\n",
       "   0.0          0.0         0.0             0.0         0.0         0.0\n",
       "   0.0          0.0         0.0       …     0.0         0.0         0.0\n",
       "  -1.88627     -0.859465   -1.58338         0.0         0.0         0.0\n",
       "   0.0          0.0         0.0             0.0         0.0         0.0\n",
       "   0.0          0.0         0.0             0.0         0.0         0.0\n",
       "   0.0          0.0         0.0             0.0         0.0         0.0\n",
       "   0.0          0.0         0.0       …     0.0         0.0         0.0\n",
       " -52.2937    -540.455     355.659           0.0         0.0         0.0\n",
       "   0.0          0.0         0.0             0.0         0.0         0.0\n",
       "   ⋮                                  ⋱                             ⋮\n",
       "   0.0          0.0         0.0             0.0         0.0         0.0\n",
       "   0.0          0.0         0.0             0.0         0.0         0.0\n",
       "   0.0          0.0         0.0            -0.705148    0.102338   -0.701636\n",
       "   0.0          0.0         0.0             0.0         0.0         0.0\n",
       "   0.0          0.0         0.0       …     0.0         0.0         0.0\n",
       "   0.0          0.0         0.0             0.0         0.0         0.0\n",
       "   0.0          0.0         0.0             0.0         0.0         0.0\n",
       "   0.0          0.0         0.0             0.490791    2.559      -0.12\n",
       "   0.0          0.0         0.0             0.0         0.0         0.0\n",
       "   0.0          0.0         0.0       …     0.0         0.0         0.0\n",
       "   0.0          0.0         0.0             0.0         0.0         0.0\n",
       "   0.0          0.0         0.0          -443.744     106.749     461.536"
      ]
     },
     "execution_count": 313,
     "metadata": {},
     "output_type": "execute_result"
    }
   ],
   "source": [
    "C =  helixifiedConstraintsJacobian(Q,ndens)"
   ]
  },
  {
   "cell_type": "code",
   "execution_count": 314,
   "metadata": {},
   "outputs": [],
   "source": [
    "k = 0\n",
    "for nden in ndens \n",
    "    nloc = nden+1 # length of helix\n",
    "    k += 3*nloc-3\n",
    "end\n",
    "T= Float64; "
   ]
  },
  {
   "cell_type": "code",
   "execution_count": 315,
   "metadata": {},
   "outputs": [
    {
     "data": {
      "text/plain": [
       "114×114 Base.Matrix{Float64}:\n",
       "  29.7908     0.0        0.0      …  0.0  0.0  0.0  0.0  0.0  0.0  0.0\n",
       "   0.0       29.7908     0.0         0.0  0.0  0.0  0.0  0.0  0.0  0.0\n",
       "   0.0        0.0       29.7908      0.0  0.0  0.0  0.0  0.0  0.0  0.0\n",
       " -29.1859    -0.0       -0.0         0.0  0.0  0.0  0.0  0.0  0.0  0.0\n",
       "  -0.0      -29.1859    -0.0         0.0  0.0  0.0  0.0  0.0  0.0  0.0\n",
       "  -0.0       -0.0      -29.1859   …  0.0  0.0  0.0  0.0  0.0  0.0  0.0\n",
       "  -7.78979   -0.0       -0.0         0.0  0.0  0.0  0.0  0.0  0.0  0.0\n",
       "  -0.0       -7.78979   -0.0         0.0  0.0  0.0  0.0  0.0  0.0  0.0\n",
       "  -0.0       -0.0       -7.78979     0.0  0.0  0.0  0.0  0.0  0.0  0.0\n",
       "   5.94181    0.0        0.0         0.0  0.0  0.0  0.0  0.0  0.0  0.0\n",
       "   0.0        5.94181    0.0      …  0.0  0.0  0.0  0.0  0.0  0.0  0.0\n",
       "   0.0        0.0        5.94181     0.0  0.0  0.0  0.0  0.0  0.0  0.0\n",
       "   1.05384    0.0        0.0         0.0  0.0  0.0  0.0  0.0  0.0  0.0\n",
       "   ⋮                              ⋱                 ⋮              \n",
       "   0.0        0.0        0.0         0.0  0.0  0.0  0.0  0.0  0.0  0.0\n",
       "   0.0        0.0        0.0         0.0  0.0  0.0  0.0  0.0  0.0  0.0\n",
       "   0.0        0.0        0.0         0.0  0.0  0.0  0.0  0.0  0.0  0.0\n",
       "   0.0        0.0        0.0      …  0.0  0.0  0.0  0.0  0.0  0.0  0.0\n",
       "   0.0        0.0        0.0         0.0  0.0  0.0  0.0  0.0  0.0  0.0\n",
       "   0.0        0.0        0.0         0.0  0.0  0.0  0.0  0.0  0.0  0.0\n",
       "   0.0        0.0        0.0         0.0  0.0  0.0  0.0  0.0  0.0  0.0\n",
       "   0.0        0.0        0.0         0.0  0.0  0.0  0.0  0.0  0.0  0.0\n",
       "   0.0        0.0        0.0      …  0.0  0.0  0.0  0.0  0.0  0.0  0.0\n",
       "   0.0        0.0        0.0         0.0  0.0  0.0  0.0  0.0  0.0  0.0\n",
       "   0.0        0.0        0.0         0.0  0.0  0.0  0.0  0.0  0.0  0.0\n",
       "   0.0        0.0        0.0         0.0  0.0  0.0  0.0  0.0  0.0  0.0"
      ]
     },
     "execution_count": 315,
     "metadata": {},
     "output_type": "execute_result"
    }
   ],
   "source": [
    "mat = vcat(\n",
    "        hcat(Al,transpose(C)),\n",
    "        hcat(C,zeros(T,k,k))\n",
    "    )"
   ]
  },
  {
   "cell_type": "code",
   "execution_count": 316,
   "metadata": {},
   "outputs": [
    {
     "data": {
      "text/plain": [
       "(66,)"
      ]
     },
     "execution_count": 316,
     "metadata": {},
     "output_type": "execute_result"
    }
   ],
   "source": [
    "size(ener_grad)"
   ]
  },
  {
   "cell_type": "code",
   "execution_count": 317,
   "metadata": {},
   "outputs": [
    {
     "data": {
      "text/plain": [
       "114-element Vector{Float64}:\n",
       "     1.4694738622003392\n",
       "    -0.561059711010469\n",
       "    -1.23183641458268\n",
       "    12.323617911884256\n",
       "     1.620606841995702\n",
       "    -9.63883228825638\n",
       "   -44.47752489624526\n",
       "   113.62793616507089\n",
       "    47.31856500572307\n",
       "    36.317461453476966\n",
       "  -134.2562641352297\n",
       "  -140.88684240108373\n",
       " -2149.4679253126737\n",
       "     ⋮\n",
       "     0.0\n",
       "     0.0\n",
       "     0.0\n",
       "     0.0\n",
       "     0.0\n",
       "     0.0\n",
       "     0.0\n",
       "     0.0\n",
       "     0.0\n",
       "     0.0\n",
       "     0.0\n",
       "     0.0"
      ]
     },
     "execution_count": 317,
     "metadata": {},
     "output_type": "execute_result"
    }
   ],
   "source": [
    "ener_grad_ext = vcat(ener_grad,zeros(T,k))"
   ]
  },
  {
   "cell_type": "code",
   "execution_count": 318,
   "metadata": {},
   "outputs": [
    {
     "data": {
      "text/plain": [
       "48"
      ]
     },
     "execution_count": 318,
     "metadata": {},
     "output_type": "execute_result"
    }
   ],
   "source": [
    "rank(C)"
   ]
  },
  {
   "cell_type": "code",
   "execution_count": 319,
   "metadata": {},
   "outputs": [
    {
     "data": {
      "text/plain": [
       "114-element Vector{Float64}:\n",
       "    0.10540129029542798\n",
       "    1.4431128745486261\n",
       "   -1.1406993820917435\n",
       "    0.045023694856885135\n",
       "    0.6428007522824439\n",
       "   -0.5937037308509538\n",
       "    0.00034283611805831785\n",
       "    0.003977721815266389\n",
       "   -0.1530670535154096\n",
       "   -0.017150472725852187\n",
       "   -0.35513800405222673\n",
       "    0.10335046700279996\n",
       "   -0.0032503129310941844\n",
       "    ⋮\n",
       "  -56.716624193395425\n",
       "   15.52032008578733\n",
       "    2.3107528850142645\n",
       "   -2.6520710632098288\n",
       " -231.74146900640537\n",
       "  -27.325193117650986\n",
       "   -3.0286998591952066\n",
       "   -0.327952951557614\n",
       "    0.13337650114359556\n",
       "   -1.0656893658523472\n",
       "   -0.31083452443350135\n",
       "   -0.03404884402465382"
      ]
     },
     "execution_count": 319,
     "metadata": {},
     "output_type": "execute_result"
    }
   ],
   "source": [
    "cons_proy_dir = IterativeSolvers.cg(mat,ener_grad_ext,reltol=1e-10,maxiter=10000,log=false)"
   ]
  },
  {
   "cell_type": "code",
   "execution_count": 322,
   "metadata": {},
   "outputs": [
    {
     "data": {
      "text/plain": [
       "([0.10540129029542798, 1.4431128745486261, -1.1406993820917435, 0.045023694856885135, 0.6428007522824439, -0.5937037308509538, 0.00034283611805831785, 0.003977721815266389, -0.1530670535154096, -0.017150472725852187  …  2.3107528850142645, -2.6520710632098288, -231.74146900640537, -27.325193117650986, -3.0286998591952066, -0.327952951557614, 0.13337650114359556, -1.0656893658523472, -0.31083452443350135, -0.03404884402465382], Converged after 2928 iterations.)"
      ]
     },
     "execution_count": 322,
     "metadata": {},
     "output_type": "execute_result"
    }
   ],
   "source": [
    "aux = IterativeSolvers.cg(mat,ener_grad_ext,reltol=1e-10,maxiter=10000,log=true)"
   ]
  },
  {
   "cell_type": "code",
   "execution_count": 323,
   "metadata": {},
   "outputs": [
    {
     "data": {
      "text/plain": [
       "4.959760342206668e-7"
      ]
     },
     "execution_count": 323,
     "metadata": {},
     "output_type": "execute_result"
    }
   ],
   "source": [
    "norm(mat*aux[1] - ener_grad_ext)"
   ]
  },
  {
   "cell_type": "code",
   "execution_count": 325,
   "metadata": {},
   "outputs": [
    {
     "data": {
      "text/plain": [
       "21"
      ]
     },
     "execution_count": 325,
     "metadata": {},
     "output_type": "execute_result"
    }
   ],
   "source": [
    "n = length(Q)"
   ]
  },
  {
   "cell_type": "code",
   "execution_count": 328,
   "metadata": {},
   "outputs": [
    {
     "data": {
      "text/plain": [
       "66-element Vector{Float64}:\n",
       "  1.5525159019876174\n",
       " -0.5365239817264905\n",
       " -0.4774433879290455\n",
       "  1.2895892569824363\n",
       " -0.3650662053273424\n",
       " -0.25732918904284546\n",
       "  1.0277768048388112\n",
       " -0.19327260060369655\n",
       " -0.0361867821808872\n",
       "  0.7678941913364138\n",
       " -0.02089732415213551\n",
       "  0.1867365331460043\n",
       "  0.5102399635618896\n",
       "  ⋮\n",
       "  0.1944707030154405\n",
       "  0.1459723769874607\n",
       "  0.1921628701497826\n",
       " -0.07476699681861407\n",
       "  0.18923984387488332\n",
       " -0.07725494641975837\n",
       " -0.344355925693048\n",
       "  0.2298505936986335\n",
       " -0.34676406899964185\n",
       " -0.6141476367385788\n",
       "  0.2689274872096349\n",
       " -0.6163259071191731"
      ]
     },
     "execution_count": 328,
     "metadata": {},
     "output_type": "execute_result"
    }
   ],
   "source": [
    "new_chain = toArray(Q)-1e-3*cons_proy_dir[1:(3*n+3)]"
   ]
  },
  {
   "cell_type": "code",
   "execution_count": 329,
   "metadata": {},
   "outputs": [
    {
     "data": {
      "text/plain": [
       "114-element Vector{Float64}:\n",
       " -0.00010084784981871164\n",
       " -5.437722984205173e-5\n",
       " -7.054193343575302e-5\n",
       " -5.2934082385112795e-5\n",
       " -2.9729838996318803e-5\n",
       " -3.463727678525886e-5\n",
       " -1.4083782536096718e-5\n",
       " -1.0104643426629016e-5\n",
       " -5.248034613267906e-6\n",
       "  9.068718179215159e-6\n",
       "  8.214208998574241e-7\n",
       "  1.2855607072453589e-5\n",
       "  1.4095891375085585e-5\n",
       "  ⋮\n",
       "  0.0032942000346573084\n",
       "  0.000835266561510215\n",
       "  5.0771024453622496e-5\n",
       " -0.001243956751540457\n",
       " -0.004777437044904318\n",
       " -0.004209485220765505\n",
       " -0.0018148124881159034\n",
       " -0.0003778976192879938\n",
       "  2.684727086090065e-6\n",
       "  4.228300494261948e-6\n",
       "  2.5465347936665302e-6\n",
       "  3.6894669688491577e-7"
      ]
     },
     "execution_count": 329,
     "metadata": {},
     "output_type": "execute_result"
    }
   ],
   "source": [
    "cons   = helixifiedConstraints(new_chain,ndens,ls,bas,das)\n",
    "newSol = vcat(zeros(T,3*n+3),-1*cons)\n",
    "chain_proy_dir = IterativeSolvers.minres(mat,newSol,maxiter=length(mat),reltol=1e-10)"
   ]
  },
  {
   "cell_type": "code",
   "execution_count": 330,
   "metadata": {},
   "outputs": [
    {
     "data": {
      "text/plain": [
       "3.2973151751106325e-6"
      ]
     },
     "execution_count": 330,
     "metadata": {},
     "output_type": "execute_result"
    }
   ],
   "source": [
    "new_chain = new_chain + chain_proy_dir[1:(3*n+3)]\n",
    "c = 0\n",
    "cons = helixifiedConstraints(new_chain,ndens,ls,bas,das)\n",
    "con_norm = LinearAlgebra.norm(cons,2)"
   ]
  },
  {
   "cell_type": "code",
   "execution_count": null,
   "metadata": {},
   "outputs": [],
   "source": []
  },
  {
   "cell_type": "code",
   "execution_count": 284,
   "metadata": {},
   "outputs": [],
   "source": [
    "using Dierckx"
   ]
  },
  {
   "cell_type": "code",
   "execution_count": 285,
   "metadata": {},
   "outputs": [
    {
     "data": {
      "text/plain": [
       "6×3 Base.Matrix{Float64}:\n",
       "  2.02516  -0.850105  -0.887813\n",
       "  0.0       0.5        0.866025\n",
       "  0.0       0.0        0.0\n",
       "  1.0       0.0        0.0\n",
       "  1.0       0.0        1.0\n",
       " -1.10674   0.351123  -1.10674"
      ]
     },
     "execution_count": 285,
     "metadata": {},
     "output_type": "execute_result"
    }
   ],
   "source": [
    "aux = to2DArray(P)"
   ]
  },
  {
   "cell_type": "code",
   "execution_count": 290,
   "metadata": {},
   "outputs": [
    {
     "data": {
      "text/plain": [
       "6"
      ]
     },
     "execution_count": 290,
     "metadata": {},
     "output_type": "execute_result"
    }
   ],
   "source": [
    "val = size(aux,1)"
   ]
  },
  {
   "cell_type": "code",
   "execution_count": 293,
   "metadata": {},
   "outputs": [
    {
     "data": {
      "text/plain": [
       "ParametricSpline(knots=[1.0, 3.0, 4.0, 6.0], k=3, extrapolation=\"nearest\", residual=0.0)"
      ]
     },
     "execution_count": 293,
     "metadata": {},
     "output_type": "execute_result"
    }
   ],
   "source": [
    "spl =ParametricSpline(1:val,aux')"
   ]
  },
  {
   "cell_type": "code",
   "execution_count": 294,
   "metadata": {},
   "outputs": [
    {
     "data": {
      "text/plain": [
       "3×40 Base.Matrix{Float64}:\n",
       "  2.02516    1.62774    1.27373    …  -0.321189    -0.690894  -1.10674\n",
       " -0.850105  -0.463201  -0.152084       0.185061     0.259703   0.351123\n",
       " -0.887813  -0.373698   0.0386481      0.00743762  -0.488195  -1.10674"
      ]
     },
     "execution_count": 294,
     "metadata": {},
     "output_type": "execute_result"
    }
   ],
   "source": [
    "xyz = evaluate(spl,LinRange(1,val,40))"
   ]
  },
  {
   "cell_type": "code",
   "execution_count": 296,
   "metadata": {},
   "outputs": [],
   "source": [
    "altQ = PolygonalChain(reshape(xyz,length(xyz)));"
   ]
  },
  {
   "cell_type": "code",
   "execution_count": 297,
   "metadata": {},
   "outputs": [
    {
     "data": {
      "application/vnd.plotly.v1+json": {
       "data": [
        {
         "colorbar": {
          "title": ""
         },
         "legendgroup": "y1",
         "marker": {
          "color": "rgba(0, 0, 4, 1.000)",
          "line": {
           "color": "rgba(0, 0, 0, 1.000)",
           "width": 1
          },
          "size": 6,
          "symbol": "circle"
         },
         "mode": "markers",
         "name": "y1",
         "scene": "scene",
         "showlegend": true,
         "type": "scatter3d",
         "x": [
          2.025158221666843
         ],
         "xaxis": "x",
         "y": [
          -0.8501054811112287
         ],
         "yaxis": "y",
         "z": [
          -0.8878130628619649
         ],
         "zaxis": "z",
         "zmax": 40,
         "zmin": 1
        },
        {
         "colorbar": {
          "title": ""
         },
         "legendgroup": "y1",
         "marker": {
          "color": "rgba(3, 2, 15, 1.000)",
          "line": {
           "color": "rgba(0, 0, 0, 1.000)",
           "width": 1
          },
          "size": 6,
          "symbol": "circle"
         },
         "mode": "markers",
         "name": "y1",
         "scene": "scene",
         "showlegend": false,
         "type": "scatter3d",
         "x": [
          1.6277434512819238
         ],
         "xaxis": "x",
         "y": [
          -0.4632006894785227
         ],
         "yaxis": "y",
         "z": [
          -0.3736980086540108
         ],
         "zaxis": "z",
         "zmax": 40,
         "zmin": 1
        },
        {
         "colorbar": {
          "title": ""
         },
         "legendgroup": "y1",
         "marker": {
          "color": "rgba(8, 6, 29, 1.000)",
          "line": {
           "color": "rgba(0, 0, 0, 1.000)",
           "width": 1
          },
          "size": 6,
          "symbol": "circle"
         },
         "mode": "markers",
         "name": "y1",
         "scene": "scene",
         "showlegend": false,
         "type": "scatter3d",
         "x": [
          1.273726775744522
         ],
         "xaxis": "x",
         "y": [
          -0.1520843760810626
         ],
         "yaxis": "y",
         "z": [
          0.03864807968284975
         ],
         "zaxis": "z",
         "zmax": 40,
         "zmin": 1
        },
        {
         "colorbar": {
          "title": ""
         },
         "legendgroup": "y1",
         "marker": {
          "color": "rgba(15, 9, 44, 1.000)",
          "line": {
           "color": "rgba(0, 0, 0, 1.000)",
           "width": 1
          },
          "size": 6,
          "symbol": "circle"
         },
         "mode": "markers",
         "name": "y1",
         "scene": "scene",
         "showlegend": false,
         "type": "scatter3d",
         "x": [
          0.9616212140899659
         ],
         "xaxis": "x",
         "y": [
          0.08991685877640157
         ],
         "yaxis": "y",
         "z": [
          0.35785864766909153
         ],
         "zaxis": "z",
         "zmax": 40,
         "zmin": 1
        },
        {
         "colorbar": {
          "title": ""
         },
         "legendgroup": "y1",
         "marker": {
          "color": "rgba(24, 12, 60, 1.000)",
          "line": {
           "color": "rgba(0, 0, 0, 1.000)",
           "width": 1
          },
          "size": 6,
          "symbol": "circle"
         },
         "mode": "markers",
         "name": "y1",
         "scene": "scene",
         "showlegend": false,
         "type": "scatter3d",
         "x": [
          0.6899397853535844
         ],
         "xaxis": "x",
         "y": [
          0.2694764147891192
         ],
         "yaxis": "y",
         "z": [
          0.5925671408251882
         ],
         "zaxis": "z",
         "zmax": 40,
         "zmin": 1
        },
        {
         "colorbar": {
          "title": ""
         },
         "legendgroup": "y1",
         "marker": {
          "color": "rgba(34, 12, 76, 1.000)",
          "line": {
           "color": "rgba(0, 0, 0, 1.000)",
           "width": 1
          },
          "size": 6,
          "symbol": "circle"
         },
         "mode": "markers",
         "name": "y1",
         "scene": "scene",
         "showlegend": false,
         "type": "scatter3d",
         "x": [
          0.45719550857070557
         ],
         "xaxis": "x",
         "y": [
          0.39326769165234
         ],
         "yaxis": "y",
         "z": [
          0.7514070046716145
         ],
         "zaxis": "z",
         "zmax": 40,
         "zmin": 1
        },
        {
         "colorbar": {
          "title": ""
         },
         "legendgroup": "y1",
         "marker": {
          "color": "rgba(45, 10, 89, 1.000)",
          "line": {
           "color": "rgba(0, 0, 0, 1.000)",
           "width": 1
          },
          "size": 6,
          "symbol": "circle"
         },
         "mode": "markers",
         "name": "y1",
         "scene": "scene",
         "showlegend": false,
         "type": "scatter3d",
         "x": [
          0.26190140277665874
         ],
         "xaxis": "x",
         "y": [
          0.46796408906131365
         ],
         "yaxis": "y",
         "z": [
          0.8430116847288449
         ],
         "zaxis": "z",
         "zmax": 40,
         "zmin": 1
        },
        {
         "colorbar": {
          "title": ""
         },
         "legendgroup": "y1",
         "marker": {
          "color": "rgba(57, 9, 99, 1.000)",
          "line": {
           "color": "rgba(0, 0, 0, 1.000)",
           "width": 1
          },
          "size": 6,
          "symbol": "circle"
         },
         "mode": "markers",
         "name": "y1",
         "scene": "scene",
         "showlegend": false,
         "type": "scatter3d",
         "x": [
          0.10257048700677254
         ],
         "xaxis": "x",
         "y": [
          0.5002390067112894
         ],
         "yaxis": "y",
         "z": [
          0.8760146265173531
         ],
         "zaxis": "z",
         "zmax": 40,
         "zmin": 1
        },
        {
         "colorbar": {
          "title": ""
         },
         "legendgroup": "y1",
         "marker": {
          "color": "rgba(68, 10, 105, 1.000)",
          "line": {
           "color": "rgba(0, 0, 0, 1.000)",
           "width": 1
          },
          "size": 6,
          "symbol": "circle"
         },
         "mode": "markers",
         "name": "y1",
         "scene": "scene",
         "showlegend": false,
         "type": "scatter3d",
         "x": [
          -0.02228421970362461
         ],
         "xaxis": "x",
         "y": [
          0.49676584429751786
         ],
         "yaxis": "y",
         "z": [
          0.8590492755576141
         ],
         "zaxis": "z",
         "zmax": 40,
         "zmin": 1
        },
        {
         "colorbar": {
          "title": ""
         },
         "legendgroup": "y1",
         "marker": {
          "color": "rgba(79, 13, 108, 1.000)",
          "line": {
           "color": "rgba(0, 0, 0, 1.000)",
           "width": 1
          },
          "size": 6,
          "symbol": "circle"
         },
         "mode": "markers",
         "name": "y1",
         "scene": "scene",
         "showlegend": false,
         "type": "scatter3d",
         "x": [
          -0.11414969831920373
         ],
         "xaxis": "x",
         "y": [
          0.46421800151524784
         ],
         "yaxis": "y",
         "z": [
          0.8007490773701023
         ],
         "zaxis": "z",
         "zmax": 40,
         "zmin": 1
        },
        {
         "colorbar": {
          "title": ""
         },
         "legendgroup": "y1",
         "marker": {
          "color": "rgba(89, 17, 110, 1.000)",
          "line": {
           "color": "rgba(0, 0, 0, 1.000)",
           "width": 1
          },
          "size": 6,
          "symbol": "circle"
         },
         "mode": "markers",
         "name": "y1",
         "scene": "scene",
         "showlegend": false,
         "type": "scatter3d",
         "x": [
          -0.17451292980463629
         ],
         "xaxis": "x",
         "y": [
          0.4092688780597293
         ],
         "yaxis": "y",
         "z": [
          0.7097474774752915
         ],
         "zaxis": "z",
         "zmax": 40,
         "zmin": 1
        },
        {
         "colorbar": {
          "title": ""
         },
         "legendgroup": "y1",
         "marker": {
          "color": "rgba(100, 21, 110, 1.000)",
          "line": {
           "color": "rgba(0, 0, 0, 1.000)",
           "width": 1
          },
          "size": 6,
          "symbol": "circle"
         },
         "mode": "markers",
         "name": "y1",
         "scene": "scene",
         "showlegend": false,
         "type": "scatter3d",
         "x": [
          -0.20486089512459352
         ],
         "xaxis": "x",
         "y": [
          0.33859187362621196
         ],
         "yaxis": "y",
         "z": [
          0.5946779213936566
         ],
         "zaxis": "z",
         "zmax": 40,
         "zmin": 1
        },
        {
         "colorbar": {
          "title": ""
         },
         "legendgroup": "y1",
         "marker": {
          "color": "rgba(110, 24, 110, 1.000)",
          "line": {
           "color": "rgba(0, 0, 0, 1.000)",
           "width": 1
          },
          "size": 6,
          "symbol": "circle"
         },
         "mode": "markers",
         "name": "y1",
         "scene": "scene",
         "showlegend": false,
         "type": "scatter3d",
         "x": [
          -0.20668057524374656
         ],
         "xaxis": "x",
         "y": [
          0.25886038790994514
         ],
         "yaxis": "y",
         "z": [
          0.4641738546456715
         ],
         "zaxis": "z",
         "zmax": 40,
         "zmin": 1
        },
        {
         "colorbar": {
          "title": ""
         },
         "legendgroup": "y1",
         "marker": {
          "color": "rgba(120, 28, 109, 1.000)",
          "line": {
           "color": "rgba(0, 0, 0, 1.000)",
           "width": 1
          },
          "size": 6,
          "symbol": "circle"
         },
         "mode": "markers",
         "name": "y1",
         "scene": "scene",
         "showlegend": false,
         "type": "scatter3d",
         "x": [
          -0.1814589511267669
         ],
         "xaxis": "x",
         "y": [
          0.17674782060617863
         ],
         "yaxis": "y",
         "z": [
          0.3268687227518108
         ],
         "zaxis": "z",
         "zmax": 40,
         "zmin": 1
        },
        {
         "colorbar": {
          "title": ""
         },
         "legendgroup": "y1",
         "marker": {
          "color": "rgba(131, 32, 107, 1.000)",
          "line": {
           "color": "rgba(0, 0, 0, 1.000)",
           "width": 1
          },
          "size": 6,
          "symbol": "circle"
         },
         "mode": "markers",
         "name": "y1",
         "scene": "scene",
         "showlegend": false,
         "type": "scatter3d",
         "x": [
          -0.13068300373832598
         ],
         "xaxis": "x",
         "y": [
          0.09892757141016274
         ],
         "yaxis": "y",
         "z": [
          0.19139597123254956
         ],
         "zaxis": "z",
         "zmax": 40,
         "zmin": 1
        },
        {
         "colorbar": {
          "title": ""
         },
         "legendgroup": "y1",
         "marker": {
          "color": "rgba(141, 36, 105, 1.000)",
          "line": {
           "color": "rgba(0, 0, 0, 1.000)",
           "width": 1
          },
          "size": 6,
          "symbol": "circle"
         },
         "mode": "markers",
         "name": "y1",
         "scene": "scene",
         "showlegend": false,
         "type": "scatter3d",
         "x": [
          -0.05583971404309446
         ],
         "xaxis": "x",
         "y": [
          0.03207304001714607
         ],
         "yaxis": "y",
         "z": [
          0.06638904560836045
         ],
         "zaxis": "z",
         "zmax": 40,
         "zmin": 1
        },
        {
         "colorbar": {
          "title": ""
         },
         "legendgroup": "y1",
         "marker": {
          "color": "rgba(152, 39, 102, 1.000)",
          "line": {
           "color": "rgba(0, 0, 0, 1.000)",
           "width": 1
          },
          "size": 6,
          "symbol": "circle"
         },
         "mode": "markers",
         "name": "y1",
         "scene": "scene",
         "showlegend": false,
         "type": "scatter3d",
         "x": [
          0.04154084679638708
         ],
         "xaxis": "x",
         "y": [
          -0.01725252673806281
         ],
         "yaxis": "y",
         "z": [
          -0.039601028002417216
         ],
         "zaxis": "z",
         "zmax": 40,
         "zmin": 1
        },
        {
         "colorbar": {
          "title": ""
         },
         "legendgroup": "y1",
         "marker": {
          "color": "rgba(162, 43, 98, 1.000)",
          "line": {
           "color": "rgba(0, 0, 0, 1.000)",
           "width": 1
          },
          "size": 6,
          "symbol": "circle"
         },
         "mode": "markers",
         "name": "y1",
         "scene": "scene",
         "showlegend": false,
         "type": "scatter3d",
         "x": [
          0.15825347617544153
         ],
         "xaxis": "x",
         "y": [
          -0.04676807447033393
         ],
         "yaxis": "y",
         "z": [
          -0.1212272777395023
         ],
         "zaxis": "z",
         "zmax": 40,
         "zmin": 1
        },
        {
         "colorbar": {
          "title": ""
         },
         "legendgroup": "y1",
         "marker": {
          "color": "rgba(172, 47, 93, 1.000)",
          "line": {
           "color": "rgba(0, 0, 0, 1.000)",
           "width": 1
          },
          "size": 6,
          "symbol": "circle"
         },
         "mode": "markers",
         "name": "y1",
         "scene": "scene",
         "showlegend": false,
         "type": "scatter3d",
         "x": [
          0.28891691649703205
         ],
         "xaxis": "x",
         "y": [
          -0.05975526824685133
         ],
         "yaxis": "y",
         "z": [
          -0.17730491155050648
         ],
         "zaxis": "z",
         "zmax": 40,
         "zmin": 1
        },
        {
         "colorbar": {
          "title": ""
         },
         "legendgroup": "y1",
         "marker": {
          "color": "rgba(182, 52, 88, 1.000)",
          "line": {
           "color": "rgba(0, 0, 0, 1.000)",
           "width": 1
          },
          "size": 6,
          "symbol": "circle"
         },
         "mode": "markers",
         "name": "y1",
         "scene": "scene",
         "showlegend": false,
         "type": "scatter3d",
         "x": [
          0.42800448074631664
         ],
         "xaxis": "x",
         "y": [
          -0.05986753903879051
         ],
         "yaxis": "y",
         "z": [
          -0.2069273028652523
         ],
         "zaxis": "z",
         "zmax": 40,
         "zmin": 1
        },
        {
         "colorbar": {
          "title": ""
         },
         "legendgroup": "y1",
         "marker": {
          "color": "rgba(192, 57, 82, 1.000)",
          "line": {
           "color": "rgba(0, 0, 0, 1.000)",
           "width": 1
          },
          "size": 6,
          "symbol": "circle"
         },
         "mode": "markers",
         "name": "y1",
         "scene": "scene",
         "showlegend": false,
         "type": "scatter3d",
         "x": [
          0.5699894819084522
         ],
         "xaxis": "x",
         "y": [
          -0.050758317817326655
         ],
         "yaxis": "y",
         "z": [
          -0.20918782511356193
         ],
         "zaxis": "z",
         "zmax": 40,
         "zmin": 1
        },
        {
         "colorbar": {
          "title": ""
         },
         "legendgroup": "y1",
         "marker": {
          "color": "rgba(201, 63, 75, 1.000)",
          "line": {
           "color": "rgba(0, 0, 0, 1.000)",
           "width": 1
          },
          "size": 6,
          "symbol": "circle"
         },
         "mode": "markers",
         "name": "y1",
         "scene": "scene",
         "showlegend": false,
         "type": "scatter3d",
         "x": [
          0.7093452329685972
         ],
         "xaxis": "x",
         "y": [
          -0.036081035553635094
         ],
         "yaxis": "y",
         "z": [
          -0.18317985172525775
         ],
         "zaxis": "z",
         "zmax": 40,
         "zmin": 1
        },
        {
         "colorbar": {
          "title": ""
         },
         "legendgroup": "y1",
         "marker": {
          "color": "rgba(210, 70, 68, 1.000)",
          "line": {
           "color": "rgba(0, 0, 0, 1.000)",
           "width": 1
          },
          "size": 6,
          "symbol": "circle"
         },
         "mode": "markers",
         "name": "y1",
         "scene": "scene",
         "showlegend": false,
         "type": "scatter3d",
         "x": [
          0.8405450469119069
         ],
         "xaxis": "x",
         "y": [
          -0.01948912321889132
         ],
         "yaxis": "y",
         "z": [
          -0.1279967561301621
         ],
         "zaxis": "z",
         "zmax": 40,
         "zmin": 1
        },
        {
         "colorbar": {
          "title": ""
         },
         "legendgroup": "y1",
         "marker": {
          "color": "rgba(218, 78, 61, 1.000)",
          "line": {
           "color": "rgba(0, 0, 0, 1.000)",
           "width": 1
          },
          "size": 6,
          "symbol": "circle"
         },
         "mode": "markers",
         "name": "y1",
         "scene": "scene",
         "showlegend": false,
         "type": "scatter3d",
         "x": [
          0.9580622367235405
         ],
         "xaxis": "x",
         "y": [
          -0.004636011784270613
         ],
         "yaxis": "y",
         "z": [
          -0.04273191175809718
         ],
         "zaxis": "z",
         "zmax": 40,
         "zmin": 1
        },
        {
         "colorbar": {
          "title": ""
         },
         "legendgroup": "y1",
         "marker": {
          "color": "rgba(225, 86, 53, 1.000)",
          "line": {
           "color": "rgba(0, 0, 0, 1.000)",
           "width": 1
          },
          "size": 6,
          "symbol": "circle"
         },
         "mode": "markers",
         "name": "y1",
         "scene": "scene",
         "showlegend": false,
         "type": "scatter3d",
         "x": [
          1.0565081180947749
         ],
         "xaxis": "x",
         "y": [
          0.005014659897014522
         ],
         "yaxis": "y",
         "z": [
          0.07310829183897886
         ],
         "zaxis": "z",
         "zmax": 40,
         "zmin": 1
        },
        {
         "colorbar": {
          "title": ""
         },
         "legendgroup": "y1",
         "marker": {
          "color": "rgba(231, 95, 45, 1.000)",
          "line": {
           "color": "rgba(0, 0, 0, 1.000)",
           "width": 1
          },
          "size": 6,
          "symbol": "circle"
         },
         "mode": "markers",
         "name": "y1",
         "scene": "scene",
         "showlegend": false,
         "type": "scatter3d",
         "x": [
          1.1325589360973645
         ],
         "xaxis": "x",
         "y": [
          0.008839105403491516
         ],
         "yaxis": "y",
         "z": [
          0.21383752017048455
         ],
         "zaxis": "z",
         "zmax": 40,
         "zmin": 1
        },
        {
         "colorbar": {
          "title": ""
         },
         "legendgroup": "y1",
         "marker": {
          "color": "rgba(237, 105, 37, 1.000)",
          "line": {
           "color": "rgba(0, 0, 0, 1.000)",
           "width": 1
          },
          "size": 6,
          "symbol": "circle"
         },
         "mode": "markers",
         "name": "y1",
         "scene": "scene",
         "showlegend": false,
         "type": "scatter3d",
         "x": [
          1.1844805225291188
         ],
         "xaxis": "x",
         "y": [
          0.008399662339111474
         ],
         "yaxis": "y",
         "z": [
          0.36901210489456887
         ],
         "zaxis": "z",
         "zmax": 40,
         "zmin": 1
        },
        {
         "colorbar": {
          "title": ""
         },
         "legendgroup": "y1",
         "marker": {
          "color": "rgba(242, 115, 29, 1.000)",
          "line": {
           "color": "rgba(0, 0, 0, 1.000)",
           "width": 1
          },
          "size": 6,
          "symbol": "circle"
         },
         "mode": "markers",
         "name": "y1",
         "scene": "scene",
         "showlegend": false,
         "type": "scatter3d",
         "x": [
          1.2105795988785522
         ],
         "xaxis": "x",
         "y": [
          0.005314903009444082
         ],
         "yaxis": "y",
         "z": [
          0.5280660025220838
         ],
         "zaxis": "z",
         "zmax": 40,
         "zmin": 1
        },
        {
         "colorbar": {
          "title": ""
         },
         "legendgroup": "y1",
         "marker": {
          "color": "rgba(246, 126, 20, 1.000)",
          "line": {
           "color": "rgba(0, 0, 0, 1.000)",
           "width": 1
          },
          "size": 6,
          "symbol": "circle"
         },
         "mode": "markers",
         "name": "y1",
         "scene": "scene",
         "showlegend": false,
         "type": "scatter3d",
         "x": [
          1.209162886634178
         ],
         "xaxis": "x",
         "y": [
          0.0012033997200589994
         ],
         "yaxis": "y",
         "z": [
          0.6804331695638818
         ],
         "zaxis": "z",
         "zmax": 40,
         "zmin": 1
        },
        {
         "colorbar": {
          "title": ""
         },
         "legendgroup": "y1",
         "marker": {
          "color": "rgba(249, 138, 12, 1.000)",
          "line": {
           "color": "rgba(0, 0, 0, 1.000)",
           "width": 1
          },
          "size": 6,
          "symbol": "circle"
         },
         "mode": "markers",
         "name": "y1",
         "scene": "scene",
         "showlegend": false,
         "type": "scatter3d",
         "x": [
          1.1785371072845097
         ],
         "xaxis": "x",
         "y": [
          -0.0023162752234740305
         ],
         "yaxis": "y",
         "z": [
          0.8155475625308124
         ],
         "zaxis": "z",
         "zmax": 40,
         "zmin": 1
        },
        {
         "colorbar": {
          "title": ""
         },
         "legendgroup": "y1",
         "marker": {
          "color": "rgba(251, 150, 6, 1.000)",
          "line": {
           "color": "rgba(0, 0, 0, 1.000)",
           "width": 1
          },
          "size": 6,
          "symbol": "circle"
         },
         "mode": "markers",
         "name": "y1",
         "scene": "scene",
         "showlegend": false,
         "type": "scatter3d",
         "x": [
          1.117008982318061
         ],
         "xaxis": "x",
         "y": [
          -0.0036255495155853093
         ],
         "yaxis": "y",
         "z": [
          0.9228431379337269
         ],
         "zaxis": "z",
         "zmax": 40,
         "zmin": 1
        },
        {
         "colorbar": {
          "title": ""
         },
         "legendgroup": "y1",
         "marker": {
          "color": "rgba(252, 162, 9, 1.000)",
          "line": {
           "color": "rgba(0, 0, 0, 1.000)",
           "width": 1
          },
          "size": 6,
          "symbol": "circle"
         },
         "mode": "markers",
         "name": "y1",
         "scene": "scene",
         "showlegend": false,
         "type": "scatter3d",
         "x": [
          1.0228852332233456
         ],
         "xaxis": "x",
         "y": [
          -0.0011058508507051437
         ],
         "yaxis": "y",
         "z": [
          0.9917538522834752
         ],
         "zaxis": "z",
         "zmax": 40,
         "zmin": 1
        },
        {
         "colorbar": {
          "title": ""
         },
         "legendgroup": "y1",
         "marker": {
          "color": "rgba(252, 175, 19, 1.000)",
          "line": {
           "color": "rgba(0, 0, 0, 1.000)",
           "width": 1
          },
          "size": 6,
          "symbol": "circle"
         },
         "mode": "markers",
         "name": "y1",
         "scene": "scene",
         "showlegend": false,
         "type": "scatter3d",
         "x": [
          0.8944725814888764
         ],
         "xaxis": "x",
         "y": [
          0.006861393076736201
         ],
         "yaxis": "y",
         "z": [
          1.01171366209091
         ],
         "zaxis": "z",
         "zmax": 40,
         "zmin": 1
        },
        {
         "colorbar": {
          "title": ""
         },
         "legendgroup": "y1",
         "marker": {
          "color": "rgba(251, 187, 33, 1.000)",
          "line": {
           "color": "rgba(0, 0, 0, 1.000)",
           "width": 1
          },
          "size": 6,
          "symbol": "circle"
         },
         "mode": "markers",
         "name": "y1",
         "scene": "scene",
         "showlegend": false,
         "type": "scatter3d",
         "x": [
          0.7300777486031691
         ],
         "xaxis": "x",
         "y": [
          0.021894754572308273
         ],
         "yaxis": "y",
         "z": [
          0.9721565238668821
         ],
         "zaxis": "z",
         "zmax": 40,
         "zmin": 1
        },
        {
         "colorbar": {
          "title": ""
         },
         "legendgroup": "y1",
         "marker": {
          "color": "rgba(249, 200, 48, 1.000)",
          "line": {
           "color": "rgba(0, 0, 0, 1.000)",
           "width": 1
          },
          "size": 6,
          "symbol": "circle"
         },
         "mode": "markers",
         "name": "y1",
         "scene": "scene",
         "showlegend": false,
         "type": "scatter3d",
         "x": [
          0.5280074560547341
         ],
         "xaxis": "x",
         "y": [
          0.045612805941581056
         ],
         "yaxis": "y",
         "z": [
          0.8625163941222413
         ],
         "zaxis": "z",
         "zmax": 40,
         "zmin": 1
        },
        {
         "colorbar": {
          "title": ""
         },
         "legendgroup": "y1",
         "marker": {
          "color": "rgba(246, 213, 66, 1.000)",
          "line": {
           "color": "rgba(0, 0, 0, 1.000)",
           "width": 1
          },
          "size": 6,
          "symbol": "circle"
         },
         "mode": "markers",
         "name": "y1",
         "scene": "scene",
         "showlegend": false,
         "type": "scatter3d",
         "x": [
          0.2865684253320885
         ],
         "xaxis": "x",
         "y": [
          0.07963411949012385
         ],
         "yaxis": "y",
         "z": [
          0.6722272293678411
         ],
         "zaxis": "z",
         "zmax": 40,
         "zmin": 1
        },
        {
         "colorbar": {
          "title": ""
         },
         "legendgroup": "y1",
         "marker": {
          "color": "rgba(243, 226, 87, 1.000)",
          "line": {
           "color": "rgba(0, 0, 0, 1.000)",
           "width": 1
          },
          "size": 6,
          "symbol": "circle"
         },
         "mode": "markers",
         "name": "y1",
         "scene": "scene",
         "showlegend": false,
         "type": "scatter3d",
         "x": [
          0.004067377923744009
         ],
         "xaxis": "x",
         "y": [
          0.1255772675235065
         ],
         "yaxis": "y",
         "z": [
          0.39072298611453127
         ],
         "zaxis": "z",
         "zmax": 40,
         "zmin": 1
        },
        {
         "colorbar": {
          "title": ""
         },
         "legendgroup": "y1",
         "marker": {
          "color": "rgba(241, 237, 112, 1.000)",
          "line": {
           "color": "rgba(0, 0, 0, 1.000)",
           "width": 1
          },
          "size": 6,
          "symbol": "circle"
         },
         "mode": "markers",
         "name": "y1",
         "scene": "scene",
         "showlegend": false,
         "type": "scatter3d",
         "x": [
          -0.3211889646817853
         ],
         "xaxis": "x",
         "y": [
          0.18506082234729865
         ],
         "yaxis": "y",
         "z": [
          0.007437620873163686
         ],
         "zaxis": "z",
         "zmax": 40,
         "zmin": 1
        },
        {
         "colorbar": {
          "title": ""
         },
         "legendgroup": "y1",
         "marker": {
          "color": "rgba(244, 247, 140, 1.000)",
          "line": {
           "color": "rgba(0, 0, 0, 1.000)",
           "width": 1
          },
          "size": 6,
          "symbol": "circle"
         },
         "mode": "markers",
         "name": "y1",
         "scene": "scene",
         "showlegend": false,
         "type": "scatter3d",
         "x": [
          -0.6908938809959884
         ],
         "xaxis": "x",
         "y": [
          0.25970335626707053
         ],
         "yaxis": "y",
         "z": [
          -0.4881949098454144
         ],
         "zaxis": "z",
         "zmax": 40,
         "zmin": 1
        },
        {
         "colorbar": {
          "title": ""
         },
         "legendgroup": "y1",
         "marker": {
          "color": "rgba(252, 255, 164, 1.000)",
          "line": {
           "color": "rgba(0, 0, 0, 1.000)",
           "width": 1
          },
          "size": 6,
          "symbol": "circle"
         },
         "mode": "markers",
         "name": "y1",
         "scene": "scene",
         "showlegend": false,
         "type": "scatter3d",
         "x": [
          -1.1067406495303502
         ],
         "xaxis": "x",
         "y": [
          0.35112344158839165
         ],
         "yaxis": "y",
         "z": [
          -1.1067406495303502
         ],
         "zaxis": "z",
         "zmax": 40,
         "zmin": 1
        },
        {
         "colorbar": {
          "title": ""
         },
         "hoverinfo": "none",
         "marker": {
          "cmax": 40,
          "cmin": 1,
          "color": [
           0.5
          ],
          "colorscale": [
           [
            0,
            "rgba(0, 0, 4, 1.000)"
           ],
           [
            0.00392156862745098,
            "rgba(1, 0, 5, 1.000)"
           ],
           [
            0.00784313725490196,
            "rgba(1, 1, 6, 1.000)"
           ],
           [
            0.011764705882352941,
            "rgba(1, 1, 8, 1.000)"
           ],
           [
            0.01568627450980392,
            "rgba(2, 1, 10, 1.000)"
           ],
           [
            0.0196078431372549,
            "rgba(2, 2, 12, 1.000)"
           ],
           [
            0.023529411764705882,
            "rgba(2, 2, 14, 1.000)"
           ],
           [
            0.027450980392156862,
            "rgba(3, 2, 16, 1.000)"
           ],
           [
            0.03137254901960784,
            "rgba(4, 3, 18, 1.000)"
           ],
           [
            0.03529411764705882,
            "rgba(4, 3, 20, 1.000)"
           ],
           [
            0.0392156862745098,
            "rgba(5, 4, 23, 1.000)"
           ],
           [
            0.043137254901960784,
            "rgba(6, 4, 25, 1.000)"
           ],
           [
            0.047058823529411764,
            "rgba(7, 5, 27, 1.000)"
           ],
           [
            0.050980392156862744,
            "rgba(8, 5, 29, 1.000)"
           ],
           [
            0.054901960784313725,
            "rgba(9, 6, 31, 1.000)"
           ],
           [
            0.058823529411764705,
            "rgba(10, 7, 34, 1.000)"
           ],
           [
            0.06274509803921569,
            "rgba(11, 7, 36, 1.000)"
           ],
           [
            0.06666666666666667,
            "rgba(12, 8, 38, 1.000)"
           ],
           [
            0.07058823529411765,
            "rgba(13, 8, 41, 1.000)"
           ],
           [
            0.07450980392156863,
            "rgba(14, 9, 43, 1.000)"
           ],
           [
            0.0784313725490196,
            "rgba(16, 9, 45, 1.000)"
           ],
           [
            0.08235294117647059,
            "rgba(17, 10, 48, 1.000)"
           ],
           [
            0.08627450980392157,
            "rgba(18, 10, 50, 1.000)"
           ],
           [
            0.09019607843137255,
            "rgba(20, 11, 52, 1.000)"
           ],
           [
            0.09411764705882353,
            "rgba(21, 11, 55, 1.000)"
           ],
           [
            0.09803921568627451,
            "rgba(22, 11, 57, 1.000)"
           ],
           [
            0.10196078431372549,
            "rgba(24, 12, 60, 1.000)"
           ],
           [
            0.10588235294117647,
            "rgba(25, 12, 62, 1.000)"
           ],
           [
            0.10980392156862745,
            "rgba(27, 12, 65, 1.000)"
           ],
           [
            0.11372549019607843,
            "rgba(28, 12, 67, 1.000)"
           ],
           [
            0.11764705882352941,
            "rgba(30, 12, 69, 1.000)"
           ],
           [
            0.12156862745098039,
            "rgba(31, 12, 72, 1.000)"
           ],
           [
            0.12549019607843137,
            "rgba(33, 12, 74, 1.000)"
           ],
           [
            0.12941176470588237,
            "rgba(35, 12, 76, 1.000)"
           ],
           [
            0.13333333333333333,
            "rgba(36, 12, 79, 1.000)"
           ],
           [
            0.13725490196078433,
            "rgba(38, 12, 81, 1.000)"
           ],
           [
            0.1411764705882353,
            "rgba(40, 11, 83, 1.000)"
           ],
           [
            0.1450980392156863,
            "rgba(41, 11, 85, 1.000)"
           ],
           [
            0.14901960784313725,
            "rgba(43, 11, 87, 1.000)"
           ],
           [
            0.15294117647058825,
            "rgba(45, 11, 89, 1.000)"
           ],
           [
            0.1568627450980392,
            "rgba(47, 10, 91, 1.000)"
           ],
           [
            0.1607843137254902,
            "rgba(49, 10, 92, 1.000)"
           ],
           [
            0.16470588235294117,
            "rgba(50, 10, 94, 1.000)"
           ],
           [
            0.16862745098039217,
            "rgba(52, 10, 95, 1.000)"
           ],
           [
            0.17254901960784313,
            "rgba(54, 9, 97, 1.000)"
           ],
           [
            0.17647058823529413,
            "rgba(56, 9, 98, 1.000)"
           ],
           [
            0.1803921568627451,
            "rgba(57, 9, 99, 1.000)"
           ],
           [
            0.1843137254901961,
            "rgba(59, 9, 100, 1.000)"
           ],
           [
            0.18823529411764706,
            "rgba(61, 9, 101, 1.000)"
           ],
           [
            0.19215686274509805,
            "rgba(62, 9, 102, 1.000)"
           ],
           [
            0.19607843137254902,
            "rgba(64, 10, 103, 1.000)"
           ],
           [
            0.2,
            "rgba(66, 10, 104, 1.000)"
           ],
           [
            0.20392156862745098,
            "rgba(68, 10, 104, 1.000)"
           ],
           [
            0.20784313725490197,
            "rgba(69, 10, 105, 1.000)"
           ],
           [
            0.21176470588235294,
            "rgba(71, 11, 106, 1.000)"
           ],
           [
            0.21568627450980393,
            "rgba(73, 11, 106, 1.000)"
           ],
           [
            0.2196078431372549,
            "rgba(74, 12, 107, 1.000)"
           ],
           [
            0.2235294117647059,
            "rgba(76, 12, 107, 1.000)"
           ],
           [
            0.22745098039215686,
            "rgba(77, 13, 108, 1.000)"
           ],
           [
            0.23137254901960785,
            "rgba(79, 13, 108, 1.000)"
           ],
           [
            0.23529411764705882,
            "rgba(81, 14, 108, 1.000)"
           ],
           [
            0.23921568627450981,
            "rgba(82, 14, 109, 1.000)"
           ],
           [
            0.24313725490196078,
            "rgba(84, 15, 109, 1.000)"
           ],
           [
            0.24705882352941178,
            "rgba(85, 15, 109, 1.000)"
           ],
           [
            0.25098039215686274,
            "rgba(87, 16, 110, 1.000)"
           ],
           [
            0.2549019607843137,
            "rgba(89, 16, 110, 1.000)"
           ],
           [
            0.25882352941176473,
            "rgba(90, 17, 110, 1.000)"
           ],
           [
            0.2627450980392157,
            "rgba(92, 18, 110, 1.000)"
           ],
           [
            0.26666666666666666,
            "rgba(93, 18, 110, 1.000)"
           ],
           [
            0.27058823529411763,
            "rgba(95, 19, 110, 1.000)"
           ],
           [
            0.27450980392156865,
            "rgba(97, 19, 110, 1.000)"
           ],
           [
            0.2784313725490196,
            "rgba(98, 20, 110, 1.000)"
           ],
           [
            0.2823529411764706,
            "rgba(100, 21, 110, 1.000)"
           ],
           [
            0.28627450980392155,
            "rgba(101, 21, 110, 1.000)"
           ],
           [
            0.2901960784313726,
            "rgba(103, 22, 110, 1.000)"
           ],
           [
            0.29411764705882354,
            "rgba(105, 22, 110, 1.000)"
           ],
           [
            0.2980392156862745,
            "rgba(106, 23, 110, 1.000)"
           ],
           [
            0.30196078431372547,
            "rgba(108, 24, 110, 1.000)"
           ],
           [
            0.3058823529411765,
            "rgba(109, 24, 110, 1.000)"
           ],
           [
            0.30980392156862746,
            "rgba(111, 25, 110, 1.000)"
           ],
           [
            0.3137254901960784,
            "rgba(113, 25, 110, 1.000)"
           ],
           [
            0.3176470588235294,
            "rgba(114, 26, 110, 1.000)"
           ],
           [
            0.3215686274509804,
            "rgba(116, 26, 110, 1.000)"
           ],
           [
            0.3254901960784314,
            "rgba(117, 27, 110, 1.000)"
           ],
           [
            0.32941176470588235,
            "rgba(119, 28, 109, 1.000)"
           ],
           [
            0.3333333333333333,
            "rgba(120, 28, 109, 1.000)"
           ],
           [
            0.33725490196078434,
            "rgba(122, 29, 109, 1.000)"
           ],
           [
            0.3411764705882353,
            "rgba(124, 29, 109, 1.000)"
           ],
           [
            0.34509803921568627,
            "rgba(125, 30, 109, 1.000)"
           ],
           [
            0.34901960784313724,
            "rgba(127, 30, 108, 1.000)"
           ],
           [
            0.35294117647058826,
            "rgba(128, 31, 108, 1.000)"
           ],
           [
            0.3568627450980392,
            "rgba(130, 32, 108, 1.000)"
           ],
           [
            0.3607843137254902,
            "rgba(132, 32, 107, 1.000)"
           ],
           [
            0.36470588235294116,
            "rgba(133, 33, 107, 1.000)"
           ],
           [
            0.3686274509803922,
            "rgba(135, 33, 107, 1.000)"
           ],
           [
            0.37254901960784315,
            "rgba(136, 34, 106, 1.000)"
           ],
           [
            0.3764705882352941,
            "rgba(138, 34, 106, 1.000)"
           ],
           [
            0.3803921568627451,
            "rgba(140, 35, 105, 1.000)"
           ],
           [
            0.3843137254901961,
            "rgba(141, 35, 105, 1.000)"
           ],
           [
            0.38823529411764707,
            "rgba(143, 36, 105, 1.000)"
           ],
           [
            0.39215686274509803,
            "rgba(144, 37, 104, 1.000)"
           ],
           [
            0.396078431372549,
            "rgba(146, 37, 104, 1.000)"
           ],
           [
            0.4,
            "rgba(147, 38, 103, 1.000)"
           ],
           [
            0.403921568627451,
            "rgba(149, 38, 103, 1.000)"
           ],
           [
            0.40784313725490196,
            "rgba(151, 39, 102, 1.000)"
           ],
           [
            0.4117647058823529,
            "rgba(152, 39, 102, 1.000)"
           ],
           [
            0.41568627450980394,
            "rgba(154, 40, 101, 1.000)"
           ],
           [
            0.4196078431372549,
            "rgba(155, 41, 100, 1.000)"
           ],
           [
            0.4235294117647059,
            "rgba(157, 41, 100, 1.000)"
           ],
           [
            0.42745098039215684,
            "rgba(159, 42, 99, 1.000)"
           ],
           [
            0.43137254901960786,
            "rgba(160, 42, 99, 1.000)"
           ],
           [
            0.43529411764705883,
            "rgba(162, 43, 98, 1.000)"
           ],
           [
            0.4392156862745098,
            "rgba(163, 44, 97, 1.000)"
           ],
           [
            0.44313725490196076,
            "rgba(165, 44, 96, 1.000)"
           ],
           [
            0.4470588235294118,
            "rgba(166, 45, 96, 1.000)"
           ],
           [
            0.45098039215686275,
            "rgba(168, 46, 95, 1.000)"
           ],
           [
            0.4549019607843137,
            "rgba(169, 46, 94, 1.000)"
           ],
           [
            0.4588235294117647,
            "rgba(171, 47, 94, 1.000)"
           ],
           [
            0.4627450980392157,
            "rgba(173, 48, 93, 1.000)"
           ],
           [
            0.4666666666666667,
            "rgba(174, 48, 92, 1.000)"
           ],
           [
            0.47058823529411764,
            "rgba(176, 49, 91, 1.000)"
           ],
           [
            0.4745098039215686,
            "rgba(177, 50, 90, 1.000)"
           ],
           [
            0.47843137254901963,
            "rgba(179, 50, 90, 1.000)"
           ],
           [
            0.4823529411764706,
            "rgba(180, 51, 89, 1.000)"
           ],
           [
            0.48627450980392156,
            "rgba(182, 52, 88, 1.000)"
           ],
           [
            0.49019607843137253,
            "rgba(183, 53, 87, 1.000)"
           ],
           [
            0.49411764705882355,
            "rgba(185, 53, 86, 1.000)"
           ],
           [
            0.4980392156862745,
            "rgba(186, 54, 85, 1.000)"
           ],
           [
            0.5019607843137255,
            "rgba(188, 55, 84, 1.000)"
           ],
           [
            0.5058823529411764,
            "rgba(189, 56, 83, 1.000)"
           ],
           [
            0.5098039215686274,
            "rgba(191, 57, 82, 1.000)"
           ],
           [
            0.5137254901960784,
            "rgba(192, 58, 81, 1.000)"
           ],
           [
            0.5176470588235295,
            "rgba(193, 58, 80, 1.000)"
           ],
           [
            0.5215686274509804,
            "rgba(195, 59, 79, 1.000)"
           ],
           [
            0.5254901960784314,
            "rgba(196, 60, 78, 1.000)"
           ],
           [
            0.5294117647058824,
            "rgba(198, 61, 77, 1.000)"
           ],
           [
            0.5333333333333333,
            "rgba(199, 62, 76, 1.000)"
           ],
           [
            0.5372549019607843,
            "rgba(200, 63, 75, 1.000)"
           ],
           [
            0.5411764705882353,
            "rgba(202, 64, 74, 1.000)"
           ],
           [
            0.5450980392156862,
            "rgba(203, 65, 73, 1.000)"
           ],
           [
            0.5490196078431373,
            "rgba(204, 66, 72, 1.000)"
           ],
           [
            0.5529411764705883,
            "rgba(206, 67, 71, 1.000)"
           ],
           [
            0.5568627450980392,
            "rgba(207, 68, 70, 1.000)"
           ],
           [
            0.5607843137254902,
            "rgba(208, 69, 69, 1.000)"
           ],
           [
            0.5647058823529412,
            "rgba(210, 70, 68, 1.000)"
           ],
           [
            0.5686274509803921,
            "rgba(211, 71, 67, 1.000)"
           ],
           [
            0.5725490196078431,
            "rgba(212, 72, 66, 1.000)"
           ],
           [
            0.5764705882352941,
            "rgba(213, 74, 65, 1.000)"
           ],
           [
            0.5803921568627451,
            "rgba(215, 75, 63, 1.000)"
           ],
           [
            0.5843137254901961,
            "rgba(216, 76, 62, 1.000)"
           ],
           [
            0.5882352941176471,
            "rgba(217, 77, 61, 1.000)"
           ],
           [
            0.592156862745098,
            "rgba(218, 78, 60, 1.000)"
           ],
           [
            0.596078431372549,
            "rgba(219, 80, 59, 1.000)"
           ],
           [
            0.6,
            "rgba(221, 81, 58, 1.000)"
           ],
           [
            0.6039215686274509,
            "rgba(222, 82, 56, 1.000)"
           ],
           [
            0.6078431372549019,
            "rgba(223, 83, 55, 1.000)"
           ],
           [
            0.611764705882353,
            "rgba(224, 85, 54, 1.000)"
           ],
           [
            0.615686274509804,
            "rgba(225, 86, 53, 1.000)"
           ],
           [
            0.6196078431372549,
            "rgba(226, 87, 52, 1.000)"
           ],
           [
            0.6235294117647059,
            "rgba(227, 89, 51, 1.000)"
           ],
           [
            0.6274509803921569,
            "rgba(228, 90, 49, 1.000)"
           ],
           [
            0.6313725490196078,
            "rgba(229, 92, 48, 1.000)"
           ],
           [
            0.6352941176470588,
            "rgba(230, 93, 47, 1.000)"
           ],
           [
            0.6392156862745098,
            "rgba(231, 94, 46, 1.000)"
           ],
           [
            0.6431372549019608,
            "rgba(232, 96, 45, 1.000)"
           ],
           [
            0.6470588235294118,
            "rgba(233, 97, 43, 1.000)"
           ],
           [
            0.6509803921568628,
            "rgba(234, 99, 42, 1.000)"
           ],
           [
            0.6549019607843137,
            "rgba(235, 100, 41, 1.000)"
           ],
           [
            0.6588235294117647,
            "rgba(235, 102, 40, 1.000)"
           ],
           [
            0.6627450980392157,
            "rgba(236, 103, 38, 1.000)"
           ],
           [
            0.6666666666666666,
            "rgba(237, 105, 37, 1.000)"
           ],
           [
            0.6705882352941176,
            "rgba(238, 106, 36, 1.000)"
           ],
           [
            0.6745098039215687,
            "rgba(239, 108, 35, 1.000)"
           ],
           [
            0.6784313725490196,
            "rgba(239, 110, 33, 1.000)"
           ],
           [
            0.6823529411764706,
            "rgba(240, 111, 32, 1.000)"
           ],
           [
            0.6862745098039216,
            "rgba(241, 113, 31, 1.000)"
           ],
           [
            0.6901960784313725,
            "rgba(241, 115, 29, 1.000)"
           ],
           [
            0.6941176470588235,
            "rgba(242, 116, 28, 1.000)"
           ],
           [
            0.6980392156862745,
            "rgba(243, 118, 27, 1.000)"
           ],
           [
            0.7019607843137254,
            "rgba(243, 120, 25, 1.000)"
           ],
           [
            0.7058823529411765,
            "rgba(244, 121, 24, 1.000)"
           ],
           [
            0.7098039215686275,
            "rgba(245, 123, 23, 1.000)"
           ],
           [
            0.7137254901960784,
            "rgba(245, 125, 21, 1.000)"
           ],
           [
            0.7176470588235294,
            "rgba(246, 126, 20, 1.000)"
           ],
           [
            0.7215686274509804,
            "rgba(246, 128, 19, 1.000)"
           ],
           [
            0.7254901960784313,
            "rgba(247, 130, 18, 1.000)"
           ],
           [
            0.7294117647058823,
            "rgba(247, 132, 16, 1.000)"
           ],
           [
            0.7333333333333333,
            "rgba(248, 133, 15, 1.000)"
           ],
           [
            0.7372549019607844,
            "rgba(248, 135, 14, 1.000)"
           ],
           [
            0.7411764705882353,
            "rgba(248, 137, 12, 1.000)"
           ],
           [
            0.7450980392156863,
            "rgba(249, 139, 11, 1.000)"
           ],
           [
            0.7490196078431373,
            "rgba(249, 140, 10, 1.000)"
           ],
           [
            0.7529411764705882,
            "rgba(249, 142, 9, 1.000)"
           ],
           [
            0.7568627450980392,
            "rgba(250, 144, 8, 1.000)"
           ],
           [
            0.7607843137254902,
            "rgba(250, 146, 7, 1.000)"
           ],
           [
            0.7647058823529411,
            "rgba(250, 148, 7, 1.000)"
           ],
           [
            0.7686274509803922,
            "rgba(251, 150, 6, 1.000)"
           ],
           [
            0.7725490196078432,
            "rgba(251, 151, 6, 1.000)"
           ],
           [
            0.7764705882352941,
            "rgba(251, 153, 6, 1.000)"
           ],
           [
            0.7803921568627451,
            "rgba(251, 155, 6, 1.000)"
           ],
           [
            0.7843137254901961,
            "rgba(251, 157, 7, 1.000)"
           ],
           [
            0.788235294117647,
            "rgba(252, 159, 7, 1.000)"
           ],
           [
            0.792156862745098,
            "rgba(252, 161, 8, 1.000)"
           ],
           [
            0.796078431372549,
            "rgba(252, 163, 9, 1.000)"
           ],
           [
            0.8,
            "rgba(252, 165, 10, 1.000)"
           ],
           [
            0.803921568627451,
            "rgba(252, 166, 12, 1.000)"
           ],
           [
            0.807843137254902,
            "rgba(252, 168, 13, 1.000)"
           ],
           [
            0.8117647058823529,
            "rgba(252, 170, 15, 1.000)"
           ],
           [
            0.8156862745098039,
            "rgba(252, 172, 17, 1.000)"
           ],
           [
            0.8196078431372549,
            "rgba(252, 174, 18, 1.000)"
           ],
           [
            0.8235294117647058,
            "rgba(252, 176, 20, 1.000)"
           ],
           [
            0.8274509803921568,
            "rgba(252, 178, 22, 1.000)"
           ],
           [
            0.8313725490196079,
            "rgba(252, 180, 24, 1.000)"
           ],
           [
            0.8352941176470589,
            "rgba(251, 182, 26, 1.000)"
           ],
           [
            0.8392156862745098,
            "rgba(251, 184, 29, 1.000)"
           ],
           [
            0.8431372549019608,
            "rgba(251, 186, 31, 1.000)"
           ],
           [
            0.8470588235294118,
            "rgba(251, 188, 33, 1.000)"
           ],
           [
            0.8509803921568627,
            "rgba(251, 190, 35, 1.000)"
           ],
           [
            0.8549019607843137,
            "rgba(250, 192, 38, 1.000)"
           ],
           [
            0.8588235294117647,
            "rgba(250, 194, 40, 1.000)"
           ],
           [
            0.8627450980392157,
            "rgba(250, 196, 42, 1.000)"
           ],
           [
            0.8666666666666667,
            "rgba(250, 198, 45, 1.000)"
           ],
           [
            0.8705882352941177,
            "rgba(249, 199, 47, 1.000)"
           ],
           [
            0.8745098039215686,
            "rgba(249, 201, 50, 1.000)"
           ],
           [
            0.8784313725490196,
            "rgba(249, 203, 53, 1.000)"
           ],
           [
            0.8823529411764706,
            "rgba(248, 205, 55, 1.000)"
           ],
           [
            0.8862745098039215,
            "rgba(248, 207, 58, 1.000)"
           ],
           [
            0.8901960784313725,
            "rgba(247, 209, 61, 1.000)"
           ],
           [
            0.8941176470588236,
            "rgba(247, 211, 64, 1.000)"
           ],
           [
            0.8980392156862745,
            "rgba(246, 213, 67, 1.000)"
           ],
           [
            0.9019607843137255,
            "rgba(246, 215, 70, 1.000)"
           ],
           [
            0.9058823529411765,
            "rgba(245, 217, 73, 1.000)"
           ],
           [
            0.9098039215686274,
            "rgba(245, 219, 76, 1.000)"
           ],
           [
            0.9137254901960784,
            "rgba(244, 221, 79, 1.000)"
           ],
           [
            0.9176470588235294,
            "rgba(244, 223, 83, 1.000)"
           ],
           [
            0.9215686274509803,
            "rgba(244, 225, 86, 1.000)"
           ],
           [
            0.9254901960784314,
            "rgba(243, 227, 90, 1.000)"
           ],
           [
            0.9294117647058824,
            "rgba(243, 229, 93, 1.000)"
           ],
           [
            0.9333333333333333,
            "rgba(242, 230, 97, 1.000)"
           ],
           [
            0.9372549019607843,
            "rgba(242, 232, 101, 1.000)"
           ],
           [
            0.9411764705882353,
            "rgba(242, 234, 105, 1.000)"
           ],
           [
            0.9450980392156862,
            "rgba(241, 236, 109, 1.000)"
           ],
           [
            0.9490196078431372,
            "rgba(241, 237, 113, 1.000)"
           ],
           [
            0.9529411764705882,
            "rgba(241, 239, 117, 1.000)"
           ],
           [
            0.9568627450980393,
            "rgba(241, 241, 121, 1.000)"
           ],
           [
            0.9607843137254902,
            "rgba(242, 242, 125, 1.000)"
           ],
           [
            0.9647058823529412,
            "rgba(242, 244, 130, 1.000)"
           ],
           [
            0.9686274509803922,
            "rgba(243, 245, 134, 1.000)"
           ],
           [
            0.9725490196078431,
            "rgba(243, 246, 138, 1.000)"
           ],
           [
            0.9764705882352941,
            "rgba(244, 248, 142, 1.000)"
           ],
           [
            0.9803921568627451,
            "rgba(245, 249, 146, 1.000)"
           ],
           [
            0.984313725490196,
            "rgba(246, 250, 150, 1.000)"
           ],
           [
            0.9882352941176471,
            "rgba(248, 251, 154, 1.000)"
           ],
           [
            0.9921568627450981,
            "rgba(249, 252, 157, 1.000)"
           ],
           [
            0.996078431372549,
            "rgba(250, 253, 161, 1.000)"
           ],
           [
            1,
            "rgba(252, 255, 164, 1.000)"
           ]
          ],
          "opacity": 1e-10,
          "showscale": true,
          "size": 1e-10
         },
         "mode": "markers",
         "name": "y1",
         "scene": "scene",
         "showlegend": false,
         "type": "scatter3d",
         "x": [
          2.025158221666843
         ],
         "xaxis": "x",
         "y": [
          -0.8501054811112287
         ],
         "yaxis": "y",
         "z": [
          -0.8878130628619649
         ],
         "zaxis": "z",
         "zmax": 40,
         "zmin": 1
        },
        {
         "colorbar": {
          "title": ""
         },
         "legendgroup": "y2",
         "line": {
          "color": "rgba(0, 0, 0, 1.000)",
          "dash": "solid",
          "shape": "linear",
          "width": 2
         },
         "mode": "lines",
         "name": "y2",
         "scene": "scene",
         "showlegend": true,
         "type": "scatter3d",
         "x": [
          2.025158221666843,
          1.6277434512819238,
          1.273726775744522,
          0.9616212140899659,
          0.6899397853535844,
          0.45719550857070557,
          0.26190140277665874,
          0.10257048700677254,
          -0.02228421970362461,
          -0.11414969831920373,
          -0.17451292980463629,
          -0.20486089512459352,
          -0.20668057524374656,
          -0.1814589511267669,
          -0.13068300373832598,
          -0.05583971404309446,
          0.04154084679638708,
          0.15825347617544153,
          0.28891691649703205,
          0.42800448074631664,
          0.5699894819084522,
          0.7093452329685972,
          0.8405450469119069,
          0.9580622367235405,
          1.0565081180947749,
          1.1325589360973645,
          1.1844805225291188,
          1.2105795988785522,
          1.209162886634178,
          1.1785371072845097,
          1.117008982318061,
          1.0228852332233456,
          0.8944725814888764,
          0.7300777486031691,
          0.5280074560547341,
          0.2865684253320885,
          0.004067377923744009,
          -0.3211889646817853,
          -0.6908938809959884,
          -1.1067406495303502
         ],
         "xaxis": "x",
         "y": [
          -0.8501054811112287,
          -0.4632006894785227,
          -0.1520843760810626,
          0.08991685877640157,
          0.2694764147891192,
          0.39326769165234,
          0.46796408906131365,
          0.5002390067112894,
          0.49676584429751786,
          0.46421800151524784,
          0.4092688780597293,
          0.33859187362621196,
          0.25886038790994514,
          0.17674782060617863,
          0.09892757141016274,
          0.03207304001714607,
          -0.01725252673806281,
          -0.04676807447033393,
          -0.05975526824685133,
          -0.05986753903879051,
          -0.050758317817326655,
          -0.036081035553635094,
          -0.01948912321889132,
          -0.004636011784270613,
          0.005014659897014522,
          0.008839105403491516,
          0.008399662339111474,
          0.005314903009444082,
          0.0012033997200589994,
          -0.0023162752234740305,
          -0.0036255495155853093,
          -0.0011058508507051437,
          0.006861393076736201,
          0.021894754572308273,
          0.045612805941581056,
          0.07963411949012385,
          0.1255772675235065,
          0.18506082234729865,
          0.25970335626707053,
          0.35112344158839165
         ],
         "yaxis": "y",
         "z": [
          -0.8878130628619649,
          -0.3736980086540108,
          0.03864807968284975,
          0.35785864766909153,
          0.5925671408251882,
          0.7514070046716145,
          0.8430116847288449,
          0.8760146265173531,
          0.8590492755576141,
          0.8007490773701023,
          0.7097474774752915,
          0.5946779213936566,
          0.4641738546456715,
          0.3268687227518108,
          0.19139597123254956,
          0.06638904560836045,
          -0.039601028002417216,
          -0.1212272777395023,
          -0.17730491155050648,
          -0.2069273028652523,
          -0.20918782511356193,
          -0.18317985172525775,
          -0.1279967561301621,
          -0.04273191175809718,
          0.07310829183897886,
          0.21383752017048455,
          0.36901210489456887,
          0.5280660025220838,
          0.6804331695638818,
          0.8155475625308124,
          0.9228431379337269,
          0.9917538522834752,
          1.01171366209091,
          0.9721565238668821,
          0.8625163941222413,
          0.6722272293678411,
          0.39072298611453127,
          0.007437620873163686,
          -0.4881949098454144,
          -1.1067406495303502
         ],
         "zaxis": "z",
         "zmax": 40,
         "zmin": 1
        }
       ],
       "layout": {
        "annotations": [],
        "height": 400,
        "legend": {
         "bgcolor": "rgba(255, 255, 255, 1.000)",
         "bordercolor": "rgba(0, 0, 0, 1.000)",
         "borderwidth": 1,
         "font": {
          "color": "rgba(0, 0, 0, 1.000)",
          "family": "sans-serif",
          "size": 11
         },
         "title": {
          "font": {
           "color": "rgba(0, 0, 0, 1.000)",
           "family": "sans-serif",
           "size": 15
          },
          "text": ""
         },
         "tracegroupgap": 0,
         "traceorder": "normal",
         "x": 1,
         "xanchor": "auto",
         "y": 1,
         "yanchor": "auto"
        },
        "margin": {
         "b": 20,
         "l": 0,
         "r": 0,
         "t": 20
        },
        "paper_bgcolor": "rgba(255, 255, 255, 1.000)",
        "plot_bgcolor": "rgba(255, 255, 255, 1.000)",
        "scene": {
         "camera": {
          "eye": {
           "x": 1.12583302491977,
           "y": -1.9499999999999997,
           "z": 1.3
          }
         },
         "domain": {
          "x": [
           0.09128390201224845,
           0.9934383202099738
          ],
          "y": [
           0.07581474190726165,
           0.9901574803149606
          ]
         },
         "xaxis": {
          "gridcolor": "rgba(0, 0, 0, 0.100)",
          "gridwidth": 0.5,
          "linecolor": "rgba(0, 0, 0, 1.000)",
          "mirror": false,
          "range": [
           -1.200697615666266,
           2.1191151878027585
          ],
          "showgrid": true,
          "showline": true,
          "showticklabels": true,
          "tickangle": 0,
          "tickcolor": "rgb(0, 0, 0)",
          "tickfont": {
           "color": "rgba(0, 0, 0, 1.000)",
           "family": "sans-serif",
           "size": 11
          },
          "tickmode": "array",
          "ticks": "inside",
          "ticktext": [
           "-1",
           "0",
           "1",
           "2"
          ],
          "tickvals": [
           -1,
           0,
           1,
           2
          ],
          "title": "x",
          "titlefont": {
           "color": "rgba(0, 0, 0, 1.000)",
           "family": "sans-serif",
           "size": 15
          },
          "type": "-",
          "visible": true,
          "zeroline": false,
          "zerolinecolor": "rgba(0, 0, 0, 1.000)"
         },
         "yaxis": {
          "gridcolor": "rgba(0, 0, 0, 0.100)",
          "gridwidth": 0.5,
          "linecolor": "rgba(0, 0, 0, 1.000)",
          "mirror": false,
          "range": [
           -0.8906158157459043,
           0.540749341345965
          ],
          "showgrid": true,
          "showline": true,
          "showticklabels": true,
          "tickangle": 0,
          "tickcolor": "rgb(0, 0, 0)",
          "tickfont": {
           "color": "rgba(0, 0, 0, 1.000)",
           "family": "sans-serif",
           "size": 11
          },
          "tickmode": "array",
          "ticks": "inside",
          "ticktext": [
           "-0.6",
           "-0.3",
           "0.0",
           "0.3"
          ],
          "tickvals": [
           -0.6000000000000001,
           -0.30000000000000004,
           0,
           0.30000000000000004
          ],
          "title": "y",
          "titlefont": {
           "color": "rgba(0, 0, 0, 1.000)",
           "family": "sans-serif",
           "size": 15
          },
          "type": "-",
          "visible": true,
          "zeroline": false,
          "zerolinecolor": "rgba(0, 0, 0, 1.000)"
         },
         "zaxis": {
          "gridcolor": "rgba(0, 0, 0, 0.100)",
          "gridwidth": 0.5,
          "linecolor": "rgba(0, 0, 0, 1.000)",
          "mirror": false,
          "range": [
           -1.170294278878988,
           1.0752672914395478
          ],
          "showgrid": true,
          "showline": true,
          "showticklabels": true,
          "tickangle": 0,
          "tickcolor": "rgb(0, 0, 0)",
          "tickfont": {
           "color": "rgba(0, 0, 0, 1.000)",
           "family": "sans-serif",
           "size": 11
          },
          "tickmode": "array",
          "ticks": "inside",
          "ticktext": [
           "-1.0",
           "-0.5",
           "0.0",
           "0.5",
           "1.0"
          ],
          "tickvals": [
           -1,
           -0.5,
           0,
           0.5,
           1
          ],
          "title": "z",
          "titlefont": {
           "color": "rgba(0, 0, 0, 1.000)",
           "family": "sans-serif",
           "size": 15
          },
          "type": "-",
          "visible": true,
          "zeroline": false,
          "zerolinecolor": "rgba(0, 0, 0, 1.000)"
         }
        },
        "showlegend": true,
        "width": 600
       }
      },
      "text/html": [
       "    <div id=\"4a615383-525c-4be3-8822-ed0860237e40\" style=\"width:600px;height:400px;\"></div>\n",
       "    <script>\n",
       "        requirejs.config({\n",
       "        paths: {\n",
       "            Plotly: 'https://cdn.plot.ly/plotly-1.57.1.min'\n",
       "        }\n",
       "    });\n",
       "    require(['Plotly'], function (Plotly) {\n",
       "\n",
       "        var PLOT = document.getElementById('4a615383-525c-4be3-8822-ed0860237e40');\n",
       "    Plotly.plot(PLOT, [\n",
       "    {\n",
       "        \"xaxis\": \"x\",\n",
       "        \"colorbar\": {\n",
       "            \"title\": \"\"\n",
       "        },\n",
       "        \"yaxis\": \"y\",\n",
       "        \"zaxis\": \"z\",\n",
       "        \"x\": [\n",
       "            2.025158221666843\n",
       "        ],\n",
       "        \"showlegend\": true,\n",
       "        \"mode\": \"markers\",\n",
       "        \"name\": \"y1\",\n",
       "        \"zmin\": 1.0,\n",
       "        \"legendgroup\": \"y1\",\n",
       "        \"z\": [\n",
       "            -0.8878130628619649\n",
       "        ],\n",
       "        \"marker\": {\n",
       "            \"symbol\": \"circle\",\n",
       "            \"color\": \"rgba(0, 0, 4, 1.000)\",\n",
       "            \"line\": {\n",
       "                \"color\": \"rgba(0, 0, 0, 1.000)\",\n",
       "                \"width\": 1\n",
       "            },\n",
       "            \"size\": 6\n",
       "        },\n",
       "        \"zmax\": 40.0,\n",
       "        \"y\": [\n",
       "            -0.8501054811112287\n",
       "        ],\n",
       "        \"type\": \"scatter3d\",\n",
       "        \"scene\": \"scene\"\n",
       "    },\n",
       "    {\n",
       "        \"xaxis\": \"x\",\n",
       "        \"colorbar\": {\n",
       "            \"title\": \"\"\n",
       "        },\n",
       "        \"yaxis\": \"y\",\n",
       "        \"zaxis\": \"z\",\n",
       "        \"x\": [\n",
       "            1.6277434512819238\n",
       "        ],\n",
       "        \"showlegend\": false,\n",
       "        \"mode\": \"markers\",\n",
       "        \"name\": \"y1\",\n",
       "        \"zmin\": 1.0,\n",
       "        \"legendgroup\": \"y1\",\n",
       "        \"z\": [\n",
       "            -0.3736980086540108\n",
       "        ],\n",
       "        \"marker\": {\n",
       "            \"symbol\": \"circle\",\n",
       "            \"color\": \"rgba(3, 2, 15, 1.000)\",\n",
       "            \"line\": {\n",
       "                \"color\": \"rgba(0, 0, 0, 1.000)\",\n",
       "                \"width\": 1\n",
       "            },\n",
       "            \"size\": 6\n",
       "        },\n",
       "        \"zmax\": 40.0,\n",
       "        \"y\": [\n",
       "            -0.4632006894785227\n",
       "        ],\n",
       "        \"type\": \"scatter3d\",\n",
       "        \"scene\": \"scene\"\n",
       "    },\n",
       "    {\n",
       "        \"xaxis\": \"x\",\n",
       "        \"colorbar\": {\n",
       "            \"title\": \"\"\n",
       "        },\n",
       "        \"yaxis\": \"y\",\n",
       "        \"zaxis\": \"z\",\n",
       "        \"x\": [\n",
       "            1.273726775744522\n",
       "        ],\n",
       "        \"showlegend\": false,\n",
       "        \"mode\": \"markers\",\n",
       "        \"name\": \"y1\",\n",
       "        \"zmin\": 1.0,\n",
       "        \"legendgroup\": \"y1\",\n",
       "        \"z\": [\n",
       "            0.03864807968284975\n",
       "        ],\n",
       "        \"marker\": {\n",
       "            \"symbol\": \"circle\",\n",
       "            \"color\": \"rgba(8, 6, 29, 1.000)\",\n",
       "            \"line\": {\n",
       "                \"color\": \"rgba(0, 0, 0, 1.000)\",\n",
       "                \"width\": 1\n",
       "            },\n",
       "            \"size\": 6\n",
       "        },\n",
       "        \"zmax\": 40.0,\n",
       "        \"y\": [\n",
       "            -0.1520843760810626\n",
       "        ],\n",
       "        \"type\": \"scatter3d\",\n",
       "        \"scene\": \"scene\"\n",
       "    },\n",
       "    {\n",
       "        \"xaxis\": \"x\",\n",
       "        \"colorbar\": {\n",
       "            \"title\": \"\"\n",
       "        },\n",
       "        \"yaxis\": \"y\",\n",
       "        \"zaxis\": \"z\",\n",
       "        \"x\": [\n",
       "            0.9616212140899659\n",
       "        ],\n",
       "        \"showlegend\": false,\n",
       "        \"mode\": \"markers\",\n",
       "        \"name\": \"y1\",\n",
       "        \"zmin\": 1.0,\n",
       "        \"legendgroup\": \"y1\",\n",
       "        \"z\": [\n",
       "            0.35785864766909153\n",
       "        ],\n",
       "        \"marker\": {\n",
       "            \"symbol\": \"circle\",\n",
       "            \"color\": \"rgba(15, 9, 44, 1.000)\",\n",
       "            \"line\": {\n",
       "                \"color\": \"rgba(0, 0, 0, 1.000)\",\n",
       "                \"width\": 1\n",
       "            },\n",
       "            \"size\": 6\n",
       "        },\n",
       "        \"zmax\": 40.0,\n",
       "        \"y\": [\n",
       "            0.08991685877640157\n",
       "        ],\n",
       "        \"type\": \"scatter3d\",\n",
       "        \"scene\": \"scene\"\n",
       "    },\n",
       "    {\n",
       "        \"xaxis\": \"x\",\n",
       "        \"colorbar\": {\n",
       "            \"title\": \"\"\n",
       "        },\n",
       "        \"yaxis\": \"y\",\n",
       "        \"zaxis\": \"z\",\n",
       "        \"x\": [\n",
       "            0.6899397853535844\n",
       "        ],\n",
       "        \"showlegend\": false,\n",
       "        \"mode\": \"markers\",\n",
       "        \"name\": \"y1\",\n",
       "        \"zmin\": 1.0,\n",
       "        \"legendgroup\": \"y1\",\n",
       "        \"z\": [\n",
       "            0.5925671408251882\n",
       "        ],\n",
       "        \"marker\": {\n",
       "            \"symbol\": \"circle\",\n",
       "            \"color\": \"rgba(24, 12, 60, 1.000)\",\n",
       "            \"line\": {\n",
       "                \"color\": \"rgba(0, 0, 0, 1.000)\",\n",
       "                \"width\": 1\n",
       "            },\n",
       "            \"size\": 6\n",
       "        },\n",
       "        \"zmax\": 40.0,\n",
       "        \"y\": [\n",
       "            0.2694764147891192\n",
       "        ],\n",
       "        \"type\": \"scatter3d\",\n",
       "        \"scene\": \"scene\"\n",
       "    },\n",
       "    {\n",
       "        \"xaxis\": \"x\",\n",
       "        \"colorbar\": {\n",
       "            \"title\": \"\"\n",
       "        },\n",
       "        \"yaxis\": \"y\",\n",
       "        \"zaxis\": \"z\",\n",
       "        \"x\": [\n",
       "            0.45719550857070557\n",
       "        ],\n",
       "        \"showlegend\": false,\n",
       "        \"mode\": \"markers\",\n",
       "        \"name\": \"y1\",\n",
       "        \"zmin\": 1.0,\n",
       "        \"legendgroup\": \"y1\",\n",
       "        \"z\": [\n",
       "            0.7514070046716145\n",
       "        ],\n",
       "        \"marker\": {\n",
       "            \"symbol\": \"circle\",\n",
       "            \"color\": \"rgba(34, 12, 76, 1.000)\",\n",
       "            \"line\": {\n",
       "                \"color\": \"rgba(0, 0, 0, 1.000)\",\n",
       "                \"width\": 1\n",
       "            },\n",
       "            \"size\": 6\n",
       "        },\n",
       "        \"zmax\": 40.0,\n",
       "        \"y\": [\n",
       "            0.39326769165234\n",
       "        ],\n",
       "        \"type\": \"scatter3d\",\n",
       "        \"scene\": \"scene\"\n",
       "    },\n",
       "    {\n",
       "        \"xaxis\": \"x\",\n",
       "        \"colorbar\": {\n",
       "            \"title\": \"\"\n",
       "        },\n",
       "        \"yaxis\": \"y\",\n",
       "        \"zaxis\": \"z\",\n",
       "        \"x\": [\n",
       "            0.26190140277665874\n",
       "        ],\n",
       "        \"showlegend\": false,\n",
       "        \"mode\": \"markers\",\n",
       "        \"name\": \"y1\",\n",
       "        \"zmin\": 1.0,\n",
       "        \"legendgroup\": \"y1\",\n",
       "        \"z\": [\n",
       "            0.8430116847288449\n",
       "        ],\n",
       "        \"marker\": {\n",
       "            \"symbol\": \"circle\",\n",
       "            \"color\": \"rgba(45, 10, 89, 1.000)\",\n",
       "            \"line\": {\n",
       "                \"color\": \"rgba(0, 0, 0, 1.000)\",\n",
       "                \"width\": 1\n",
       "            },\n",
       "            \"size\": 6\n",
       "        },\n",
       "        \"zmax\": 40.0,\n",
       "        \"y\": [\n",
       "            0.46796408906131365\n",
       "        ],\n",
       "        \"type\": \"scatter3d\",\n",
       "        \"scene\": \"scene\"\n",
       "    },\n",
       "    {\n",
       "        \"xaxis\": \"x\",\n",
       "        \"colorbar\": {\n",
       "            \"title\": \"\"\n",
       "        },\n",
       "        \"yaxis\": \"y\",\n",
       "        \"zaxis\": \"z\",\n",
       "        \"x\": [\n",
       "            0.10257048700677254\n",
       "        ],\n",
       "        \"showlegend\": false,\n",
       "        \"mode\": \"markers\",\n",
       "        \"name\": \"y1\",\n",
       "        \"zmin\": 1.0,\n",
       "        \"legendgroup\": \"y1\",\n",
       "        \"z\": [\n",
       "            0.8760146265173531\n",
       "        ],\n",
       "        \"marker\": {\n",
       "            \"symbol\": \"circle\",\n",
       "            \"color\": \"rgba(57, 9, 99, 1.000)\",\n",
       "            \"line\": {\n",
       "                \"color\": \"rgba(0, 0, 0, 1.000)\",\n",
       "                \"width\": 1\n",
       "            },\n",
       "            \"size\": 6\n",
       "        },\n",
       "        \"zmax\": 40.0,\n",
       "        \"y\": [\n",
       "            0.5002390067112894\n",
       "        ],\n",
       "        \"type\": \"scatter3d\",\n",
       "        \"scene\": \"scene\"\n",
       "    },\n",
       "    {\n",
       "        \"xaxis\": \"x\",\n",
       "        \"colorbar\": {\n",
       "            \"title\": \"\"\n",
       "        },\n",
       "        \"yaxis\": \"y\",\n",
       "        \"zaxis\": \"z\",\n",
       "        \"x\": [\n",
       "            -0.02228421970362461\n",
       "        ],\n",
       "        \"showlegend\": false,\n",
       "        \"mode\": \"markers\",\n",
       "        \"name\": \"y1\",\n",
       "        \"zmin\": 1.0,\n",
       "        \"legendgroup\": \"y1\",\n",
       "        \"z\": [\n",
       "            0.8590492755576141\n",
       "        ],\n",
       "        \"marker\": {\n",
       "            \"symbol\": \"circle\",\n",
       "            \"color\": \"rgba(68, 10, 105, 1.000)\",\n",
       "            \"line\": {\n",
       "                \"color\": \"rgba(0, 0, 0, 1.000)\",\n",
       "                \"width\": 1\n",
       "            },\n",
       "            \"size\": 6\n",
       "        },\n",
       "        \"zmax\": 40.0,\n",
       "        \"y\": [\n",
       "            0.49676584429751786\n",
       "        ],\n",
       "        \"type\": \"scatter3d\",\n",
       "        \"scene\": \"scene\"\n",
       "    },\n",
       "    {\n",
       "        \"xaxis\": \"x\",\n",
       "        \"colorbar\": {\n",
       "            \"title\": \"\"\n",
       "        },\n",
       "        \"yaxis\": \"y\",\n",
       "        \"zaxis\": \"z\",\n",
       "        \"x\": [\n",
       "            -0.11414969831920373\n",
       "        ],\n",
       "        \"showlegend\": false,\n",
       "        \"mode\": \"markers\",\n",
       "        \"name\": \"y1\",\n",
       "        \"zmin\": 1.0,\n",
       "        \"legendgroup\": \"y1\",\n",
       "        \"z\": [\n",
       "            0.8007490773701023\n",
       "        ],\n",
       "        \"marker\": {\n",
       "            \"symbol\": \"circle\",\n",
       "            \"color\": \"rgba(79, 13, 108, 1.000)\",\n",
       "            \"line\": {\n",
       "                \"color\": \"rgba(0, 0, 0, 1.000)\",\n",
       "                \"width\": 1\n",
       "            },\n",
       "            \"size\": 6\n",
       "        },\n",
       "        \"zmax\": 40.0,\n",
       "        \"y\": [\n",
       "            0.46421800151524784\n",
       "        ],\n",
       "        \"type\": \"scatter3d\",\n",
       "        \"scene\": \"scene\"\n",
       "    },\n",
       "    {\n",
       "        \"xaxis\": \"x\",\n",
       "        \"colorbar\": {\n",
       "            \"title\": \"\"\n",
       "        },\n",
       "        \"yaxis\": \"y\",\n",
       "        \"zaxis\": \"z\",\n",
       "        \"x\": [\n",
       "            -0.17451292980463629\n",
       "        ],\n",
       "        \"showlegend\": false,\n",
       "        \"mode\": \"markers\",\n",
       "        \"name\": \"y1\",\n",
       "        \"zmin\": 1.0,\n",
       "        \"legendgroup\": \"y1\",\n",
       "        \"z\": [\n",
       "            0.7097474774752915\n",
       "        ],\n",
       "        \"marker\": {\n",
       "            \"symbol\": \"circle\",\n",
       "            \"color\": \"rgba(89, 17, 110, 1.000)\",\n",
       "            \"line\": {\n",
       "                \"color\": \"rgba(0, 0, 0, 1.000)\",\n",
       "                \"width\": 1\n",
       "            },\n",
       "            \"size\": 6\n",
       "        },\n",
       "        \"zmax\": 40.0,\n",
       "        \"y\": [\n",
       "            0.4092688780597293\n",
       "        ],\n",
       "        \"type\": \"scatter3d\",\n",
       "        \"scene\": \"scene\"\n",
       "    },\n",
       "    {\n",
       "        \"xaxis\": \"x\",\n",
       "        \"colorbar\": {\n",
       "            \"title\": \"\"\n",
       "        },\n",
       "        \"yaxis\": \"y\",\n",
       "        \"zaxis\": \"z\",\n",
       "        \"x\": [\n",
       "            -0.20486089512459352\n",
       "        ],\n",
       "        \"showlegend\": false,\n",
       "        \"mode\": \"markers\",\n",
       "        \"name\": \"y1\",\n",
       "        \"zmin\": 1.0,\n",
       "        \"legendgroup\": \"y1\",\n",
       "        \"z\": [\n",
       "            0.5946779213936566\n",
       "        ],\n",
       "        \"marker\": {\n",
       "            \"symbol\": \"circle\",\n",
       "            \"color\": \"rgba(100, 21, 110, 1.000)\",\n",
       "            \"line\": {\n",
       "                \"color\": \"rgba(0, 0, 0, 1.000)\",\n",
       "                \"width\": 1\n",
       "            },\n",
       "            \"size\": 6\n",
       "        },\n",
       "        \"zmax\": 40.0,\n",
       "        \"y\": [\n",
       "            0.33859187362621196\n",
       "        ],\n",
       "        \"type\": \"scatter3d\",\n",
       "        \"scene\": \"scene\"\n",
       "    },\n",
       "    {\n",
       "        \"xaxis\": \"x\",\n",
       "        \"colorbar\": {\n",
       "            \"title\": \"\"\n",
       "        },\n",
       "        \"yaxis\": \"y\",\n",
       "        \"zaxis\": \"z\",\n",
       "        \"x\": [\n",
       "            -0.20668057524374656\n",
       "        ],\n",
       "        \"showlegend\": false,\n",
       "        \"mode\": \"markers\",\n",
       "        \"name\": \"y1\",\n",
       "        \"zmin\": 1.0,\n",
       "        \"legendgroup\": \"y1\",\n",
       "        \"z\": [\n",
       "            0.4641738546456715\n",
       "        ],\n",
       "        \"marker\": {\n",
       "            \"symbol\": \"circle\",\n",
       "            \"color\": \"rgba(110, 24, 110, 1.000)\",\n",
       "            \"line\": {\n",
       "                \"color\": \"rgba(0, 0, 0, 1.000)\",\n",
       "                \"width\": 1\n",
       "            },\n",
       "            \"size\": 6\n",
       "        },\n",
       "        \"zmax\": 40.0,\n",
       "        \"y\": [\n",
       "            0.25886038790994514\n",
       "        ],\n",
       "        \"type\": \"scatter3d\",\n",
       "        \"scene\": \"scene\"\n",
       "    },\n",
       "    {\n",
       "        \"xaxis\": \"x\",\n",
       "        \"colorbar\": {\n",
       "            \"title\": \"\"\n",
       "        },\n",
       "        \"yaxis\": \"y\",\n",
       "        \"zaxis\": \"z\",\n",
       "        \"x\": [\n",
       "            -0.1814589511267669\n",
       "        ],\n",
       "        \"showlegend\": false,\n",
       "        \"mode\": \"markers\",\n",
       "        \"name\": \"y1\",\n",
       "        \"zmin\": 1.0,\n",
       "        \"legendgroup\": \"y1\",\n",
       "        \"z\": [\n",
       "            0.3268687227518108\n",
       "        ],\n",
       "        \"marker\": {\n",
       "            \"symbol\": \"circle\",\n",
       "            \"color\": \"rgba(120, 28, 109, 1.000)\",\n",
       "            \"line\": {\n",
       "                \"color\": \"rgba(0, 0, 0, 1.000)\",\n",
       "                \"width\": 1\n",
       "            },\n",
       "            \"size\": 6\n",
       "        },\n",
       "        \"zmax\": 40.0,\n",
       "        \"y\": [\n",
       "            0.17674782060617863\n",
       "        ],\n",
       "        \"type\": \"scatter3d\",\n",
       "        \"scene\": \"scene\"\n",
       "    },\n",
       "    {\n",
       "        \"xaxis\": \"x\",\n",
       "        \"colorbar\": {\n",
       "            \"title\": \"\"\n",
       "        },\n",
       "        \"yaxis\": \"y\",\n",
       "        \"zaxis\": \"z\",\n",
       "        \"x\": [\n",
       "            -0.13068300373832598\n",
       "        ],\n",
       "        \"showlegend\": false,\n",
       "        \"mode\": \"markers\",\n",
       "        \"name\": \"y1\",\n",
       "        \"zmin\": 1.0,\n",
       "        \"legendgroup\": \"y1\",\n",
       "        \"z\": [\n",
       "            0.19139597123254956\n",
       "        ],\n",
       "        \"marker\": {\n",
       "            \"symbol\": \"circle\",\n",
       "            \"color\": \"rgba(131, 32, 107, 1.000)\",\n",
       "            \"line\": {\n",
       "                \"color\": \"rgba(0, 0, 0, 1.000)\",\n",
       "                \"width\": 1\n",
       "            },\n",
       "            \"size\": 6\n",
       "        },\n",
       "        \"zmax\": 40.0,\n",
       "        \"y\": [\n",
       "            0.09892757141016274\n",
       "        ],\n",
       "        \"type\": \"scatter3d\",\n",
       "        \"scene\": \"scene\"\n",
       "    },\n",
       "    {\n",
       "        \"xaxis\": \"x\",\n",
       "        \"colorbar\": {\n",
       "            \"title\": \"\"\n",
       "        },\n",
       "        \"yaxis\": \"y\",\n",
       "        \"zaxis\": \"z\",\n",
       "        \"x\": [\n",
       "            -0.05583971404309446\n",
       "        ],\n",
       "        \"showlegend\": false,\n",
       "        \"mode\": \"markers\",\n",
       "        \"name\": \"y1\",\n",
       "        \"zmin\": 1.0,\n",
       "        \"legendgroup\": \"y1\",\n",
       "        \"z\": [\n",
       "            0.06638904560836045\n",
       "        ],\n",
       "        \"marker\": {\n",
       "            \"symbol\": \"circle\",\n",
       "            \"color\": \"rgba(141, 36, 105, 1.000)\",\n",
       "            \"line\": {\n",
       "                \"color\": \"rgba(0, 0, 0, 1.000)\",\n",
       "                \"width\": 1\n",
       "            },\n",
       "            \"size\": 6\n",
       "        },\n",
       "        \"zmax\": 40.0,\n",
       "        \"y\": [\n",
       "            0.03207304001714607\n",
       "        ],\n",
       "        \"type\": \"scatter3d\",\n",
       "        \"scene\": \"scene\"\n",
       "    },\n",
       "    {\n",
       "        \"xaxis\": \"x\",\n",
       "        \"colorbar\": {\n",
       "            \"title\": \"\"\n",
       "        },\n",
       "        \"yaxis\": \"y\",\n",
       "        \"zaxis\": \"z\",\n",
       "        \"x\": [\n",
       "            0.04154084679638708\n",
       "        ],\n",
       "        \"showlegend\": false,\n",
       "        \"mode\": \"markers\",\n",
       "        \"name\": \"y1\",\n",
       "        \"zmin\": 1.0,\n",
       "        \"legendgroup\": \"y1\",\n",
       "        \"z\": [\n",
       "            -0.039601028002417216\n",
       "        ],\n",
       "        \"marker\": {\n",
       "            \"symbol\": \"circle\",\n",
       "            \"color\": \"rgba(152, 39, 102, 1.000)\",\n",
       "            \"line\": {\n",
       "                \"color\": \"rgba(0, 0, 0, 1.000)\",\n",
       "                \"width\": 1\n",
       "            },\n",
       "            \"size\": 6\n",
       "        },\n",
       "        \"zmax\": 40.0,\n",
       "        \"y\": [\n",
       "            -0.01725252673806281\n",
       "        ],\n",
       "        \"type\": \"scatter3d\",\n",
       "        \"scene\": \"scene\"\n",
       "    },\n",
       "    {\n",
       "        \"xaxis\": \"x\",\n",
       "        \"colorbar\": {\n",
       "            \"title\": \"\"\n",
       "        },\n",
       "        \"yaxis\": \"y\",\n",
       "        \"zaxis\": \"z\",\n",
       "        \"x\": [\n",
       "            0.15825347617544153\n",
       "        ],\n",
       "        \"showlegend\": false,\n",
       "        \"mode\": \"markers\",\n",
       "        \"name\": \"y1\",\n",
       "        \"zmin\": 1.0,\n",
       "        \"legendgroup\": \"y1\",\n",
       "        \"z\": [\n",
       "            -0.1212272777395023\n",
       "        ],\n",
       "        \"marker\": {\n",
       "            \"symbol\": \"circle\",\n",
       "            \"color\": \"rgba(162, 43, 98, 1.000)\",\n",
       "            \"line\": {\n",
       "                \"color\": \"rgba(0, 0, 0, 1.000)\",\n",
       "                \"width\": 1\n",
       "            },\n",
       "            \"size\": 6\n",
       "        },\n",
       "        \"zmax\": 40.0,\n",
       "        \"y\": [\n",
       "            -0.04676807447033393\n",
       "        ],\n",
       "        \"type\": \"scatter3d\",\n",
       "        \"scene\": \"scene\"\n",
       "    },\n",
       "    {\n",
       "        \"xaxis\": \"x\",\n",
       "        \"colorbar\": {\n",
       "            \"title\": \"\"\n",
       "        },\n",
       "        \"yaxis\": \"y\",\n",
       "        \"zaxis\": \"z\",\n",
       "        \"x\": [\n",
       "            0.28891691649703205\n",
       "        ],\n",
       "        \"showlegend\": false,\n",
       "        \"mode\": \"markers\",\n",
       "        \"name\": \"y1\",\n",
       "        \"zmin\": 1.0,\n",
       "        \"legendgroup\": \"y1\",\n",
       "        \"z\": [\n",
       "            -0.17730491155050648\n",
       "        ],\n",
       "        \"marker\": {\n",
       "            \"symbol\": \"circle\",\n",
       "            \"color\": \"rgba(172, 47, 93, 1.000)\",\n",
       "            \"line\": {\n",
       "                \"color\": \"rgba(0, 0, 0, 1.000)\",\n",
       "                \"width\": 1\n",
       "            },\n",
       "            \"size\": 6\n",
       "        },\n",
       "        \"zmax\": 40.0,\n",
       "        \"y\": [\n",
       "            -0.05975526824685133\n",
       "        ],\n",
       "        \"type\": \"scatter3d\",\n",
       "        \"scene\": \"scene\"\n",
       "    },\n",
       "    {\n",
       "        \"xaxis\": \"x\",\n",
       "        \"colorbar\": {\n",
       "            \"title\": \"\"\n",
       "        },\n",
       "        \"yaxis\": \"y\",\n",
       "        \"zaxis\": \"z\",\n",
       "        \"x\": [\n",
       "            0.42800448074631664\n",
       "        ],\n",
       "        \"showlegend\": false,\n",
       "        \"mode\": \"markers\",\n",
       "        \"name\": \"y1\",\n",
       "        \"zmin\": 1.0,\n",
       "        \"legendgroup\": \"y1\",\n",
       "        \"z\": [\n",
       "            -0.2069273028652523\n",
       "        ],\n",
       "        \"marker\": {\n",
       "            \"symbol\": \"circle\",\n",
       "            \"color\": \"rgba(182, 52, 88, 1.000)\",\n",
       "            \"line\": {\n",
       "                \"color\": \"rgba(0, 0, 0, 1.000)\",\n",
       "                \"width\": 1\n",
       "            },\n",
       "            \"size\": 6\n",
       "        },\n",
       "        \"zmax\": 40.0,\n",
       "        \"y\": [\n",
       "            -0.05986753903879051\n",
       "        ],\n",
       "        \"type\": \"scatter3d\",\n",
       "        \"scene\": \"scene\"\n",
       "    },\n",
       "    {\n",
       "        \"xaxis\": \"x\",\n",
       "        \"colorbar\": {\n",
       "            \"title\": \"\"\n",
       "        },\n",
       "        \"yaxis\": \"y\",\n",
       "        \"zaxis\": \"z\",\n",
       "        \"x\": [\n",
       "            0.5699894819084522\n",
       "        ],\n",
       "        \"showlegend\": false,\n",
       "        \"mode\": \"markers\",\n",
       "        \"name\": \"y1\",\n",
       "        \"zmin\": 1.0,\n",
       "        \"legendgroup\": \"y1\",\n",
       "        \"z\": [\n",
       "            -0.20918782511356193\n",
       "        ],\n",
       "        \"marker\": {\n",
       "            \"symbol\": \"circle\",\n",
       "            \"color\": \"rgba(192, 57, 82, 1.000)\",\n",
       "            \"line\": {\n",
       "                \"color\": \"rgba(0, 0, 0, 1.000)\",\n",
       "                \"width\": 1\n",
       "            },\n",
       "            \"size\": 6\n",
       "        },\n",
       "        \"zmax\": 40.0,\n",
       "        \"y\": [\n",
       "            -0.050758317817326655\n",
       "        ],\n",
       "        \"type\": \"scatter3d\",\n",
       "        \"scene\": \"scene\"\n",
       "    },\n",
       "    {\n",
       "        \"xaxis\": \"x\",\n",
       "        \"colorbar\": {\n",
       "            \"title\": \"\"\n",
       "        },\n",
       "        \"yaxis\": \"y\",\n",
       "        \"zaxis\": \"z\",\n",
       "        \"x\": [\n",
       "            0.7093452329685972\n",
       "        ],\n",
       "        \"showlegend\": false,\n",
       "        \"mode\": \"markers\",\n",
       "        \"name\": \"y1\",\n",
       "        \"zmin\": 1.0,\n",
       "        \"legendgroup\": \"y1\",\n",
       "        \"z\": [\n",
       "            -0.18317985172525775\n",
       "        ],\n",
       "        \"marker\": {\n",
       "            \"symbol\": \"circle\",\n",
       "            \"color\": \"rgba(201, 63, 75, 1.000)\",\n",
       "            \"line\": {\n",
       "                \"color\": \"rgba(0, 0, 0, 1.000)\",\n",
       "                \"width\": 1\n",
       "            },\n",
       "            \"size\": 6\n",
       "        },\n",
       "        \"zmax\": 40.0,\n",
       "        \"y\": [\n",
       "            -0.036081035553635094\n",
       "        ],\n",
       "        \"type\": \"scatter3d\",\n",
       "        \"scene\": \"scene\"\n",
       "    },\n",
       "    {\n",
       "        \"xaxis\": \"x\",\n",
       "        \"colorbar\": {\n",
       "            \"title\": \"\"\n",
       "        },\n",
       "        \"yaxis\": \"y\",\n",
       "        \"zaxis\": \"z\",\n",
       "        \"x\": [\n",
       "            0.8405450469119069\n",
       "        ],\n",
       "        \"showlegend\": false,\n",
       "        \"mode\": \"markers\",\n",
       "        \"name\": \"y1\",\n",
       "        \"zmin\": 1.0,\n",
       "        \"legendgroup\": \"y1\",\n",
       "        \"z\": [\n",
       "            -0.1279967561301621\n",
       "        ],\n",
       "        \"marker\": {\n",
       "            \"symbol\": \"circle\",\n",
       "            \"color\": \"rgba(210, 70, 68, 1.000)\",\n",
       "            \"line\": {\n",
       "                \"color\": \"rgba(0, 0, 0, 1.000)\",\n",
       "                \"width\": 1\n",
       "            },\n",
       "            \"size\": 6\n",
       "        },\n",
       "        \"zmax\": 40.0,\n",
       "        \"y\": [\n",
       "            -0.01948912321889132\n",
       "        ],\n",
       "        \"type\": \"scatter3d\",\n",
       "        \"scene\": \"scene\"\n",
       "    },\n",
       "    {\n",
       "        \"xaxis\": \"x\",\n",
       "        \"colorbar\": {\n",
       "            \"title\": \"\"\n",
       "        },\n",
       "        \"yaxis\": \"y\",\n",
       "        \"zaxis\": \"z\",\n",
       "        \"x\": [\n",
       "            0.9580622367235405\n",
       "        ],\n",
       "        \"showlegend\": false,\n",
       "        \"mode\": \"markers\",\n",
       "        \"name\": \"y1\",\n",
       "        \"zmin\": 1.0,\n",
       "        \"legendgroup\": \"y1\",\n",
       "        \"z\": [\n",
       "            -0.04273191175809718\n",
       "        ],\n",
       "        \"marker\": {\n",
       "            \"symbol\": \"circle\",\n",
       "            \"color\": \"rgba(218, 78, 61, 1.000)\",\n",
       "            \"line\": {\n",
       "                \"color\": \"rgba(0, 0, 0, 1.000)\",\n",
       "                \"width\": 1\n",
       "            },\n",
       "            \"size\": 6\n",
       "        },\n",
       "        \"zmax\": 40.0,\n",
       "        \"y\": [\n",
       "            -0.004636011784270613\n",
       "        ],\n",
       "        \"type\": \"scatter3d\",\n",
       "        \"scene\": \"scene\"\n",
       "    },\n",
       "    {\n",
       "        \"xaxis\": \"x\",\n",
       "        \"colorbar\": {\n",
       "            \"title\": \"\"\n",
       "        },\n",
       "        \"yaxis\": \"y\",\n",
       "        \"zaxis\": \"z\",\n",
       "        \"x\": [\n",
       "            1.0565081180947749\n",
       "        ],\n",
       "        \"showlegend\": false,\n",
       "        \"mode\": \"markers\",\n",
       "        \"name\": \"y1\",\n",
       "        \"zmin\": 1.0,\n",
       "        \"legendgroup\": \"y1\",\n",
       "        \"z\": [\n",
       "            0.07310829183897886\n",
       "        ],\n",
       "        \"marker\": {\n",
       "            \"symbol\": \"circle\",\n",
       "            \"color\": \"rgba(225, 86, 53, 1.000)\",\n",
       "            \"line\": {\n",
       "                \"color\": \"rgba(0, 0, 0, 1.000)\",\n",
       "                \"width\": 1\n",
       "            },\n",
       "            \"size\": 6\n",
       "        },\n",
       "        \"zmax\": 40.0,\n",
       "        \"y\": [\n",
       "            0.005014659897014522\n",
       "        ],\n",
       "        \"type\": \"scatter3d\",\n",
       "        \"scene\": \"scene\"\n",
       "    },\n",
       "    {\n",
       "        \"xaxis\": \"x\",\n",
       "        \"colorbar\": {\n",
       "            \"title\": \"\"\n",
       "        },\n",
       "        \"yaxis\": \"y\",\n",
       "        \"zaxis\": \"z\",\n",
       "        \"x\": [\n",
       "            1.1325589360973645\n",
       "        ],\n",
       "        \"showlegend\": false,\n",
       "        \"mode\": \"markers\",\n",
       "        \"name\": \"y1\",\n",
       "        \"zmin\": 1.0,\n",
       "        \"legendgroup\": \"y1\",\n",
       "        \"z\": [\n",
       "            0.21383752017048455\n",
       "        ],\n",
       "        \"marker\": {\n",
       "            \"symbol\": \"circle\",\n",
       "            \"color\": \"rgba(231, 95, 45, 1.000)\",\n",
       "            \"line\": {\n",
       "                \"color\": \"rgba(0, 0, 0, 1.000)\",\n",
       "                \"width\": 1\n",
       "            },\n",
       "            \"size\": 6\n",
       "        },\n",
       "        \"zmax\": 40.0,\n",
       "        \"y\": [\n",
       "            0.008839105403491516\n",
       "        ],\n",
       "        \"type\": \"scatter3d\",\n",
       "        \"scene\": \"scene\"\n",
       "    },\n",
       "    {\n",
       "        \"xaxis\": \"x\",\n",
       "        \"colorbar\": {\n",
       "            \"title\": \"\"\n",
       "        },\n",
       "        \"yaxis\": \"y\",\n",
       "        \"zaxis\": \"z\",\n",
       "        \"x\": [\n",
       "            1.1844805225291188\n",
       "        ],\n",
       "        \"showlegend\": false,\n",
       "        \"mode\": \"markers\",\n",
       "        \"name\": \"y1\",\n",
       "        \"zmin\": 1.0,\n",
       "        \"legendgroup\": \"y1\",\n",
       "        \"z\": [\n",
       "            0.36901210489456887\n",
       "        ],\n",
       "        \"marker\": {\n",
       "            \"symbol\": \"circle\",\n",
       "            \"color\": \"rgba(237, 105, 37, 1.000)\",\n",
       "            \"line\": {\n",
       "                \"color\": \"rgba(0, 0, 0, 1.000)\",\n",
       "                \"width\": 1\n",
       "            },\n",
       "            \"size\": 6\n",
       "        },\n",
       "        \"zmax\": 40.0,\n",
       "        \"y\": [\n",
       "            0.008399662339111474\n",
       "        ],\n",
       "        \"type\": \"scatter3d\",\n",
       "        \"scene\": \"scene\"\n",
       "    },\n",
       "    {\n",
       "        \"xaxis\": \"x\",\n",
       "        \"colorbar\": {\n",
       "            \"title\": \"\"\n",
       "        },\n",
       "        \"yaxis\": \"y\",\n",
       "        \"zaxis\": \"z\",\n",
       "        \"x\": [\n",
       "            1.2105795988785522\n",
       "        ],\n",
       "        \"showlegend\": false,\n",
       "        \"mode\": \"markers\",\n",
       "        \"name\": \"y1\",\n",
       "        \"zmin\": 1.0,\n",
       "        \"legendgroup\": \"y1\",\n",
       "        \"z\": [\n",
       "            0.5280660025220838\n",
       "        ],\n",
       "        \"marker\": {\n",
       "            \"symbol\": \"circle\",\n",
       "            \"color\": \"rgba(242, 115, 29, 1.000)\",\n",
       "            \"line\": {\n",
       "                \"color\": \"rgba(0, 0, 0, 1.000)\",\n",
       "                \"width\": 1\n",
       "            },\n",
       "            \"size\": 6\n",
       "        },\n",
       "        \"zmax\": 40.0,\n",
       "        \"y\": [\n",
       "            0.005314903009444082\n",
       "        ],\n",
       "        \"type\": \"scatter3d\",\n",
       "        \"scene\": \"scene\"\n",
       "    },\n",
       "    {\n",
       "        \"xaxis\": \"x\",\n",
       "        \"colorbar\": {\n",
       "            \"title\": \"\"\n",
       "        },\n",
       "        \"yaxis\": \"y\",\n",
       "        \"zaxis\": \"z\",\n",
       "        \"x\": [\n",
       "            1.209162886634178\n",
       "        ],\n",
       "        \"showlegend\": false,\n",
       "        \"mode\": \"markers\",\n",
       "        \"name\": \"y1\",\n",
       "        \"zmin\": 1.0,\n",
       "        \"legendgroup\": \"y1\",\n",
       "        \"z\": [\n",
       "            0.6804331695638818\n",
       "        ],\n",
       "        \"marker\": {\n",
       "            \"symbol\": \"circle\",\n",
       "            \"color\": \"rgba(246, 126, 20, 1.000)\",\n",
       "            \"line\": {\n",
       "                \"color\": \"rgba(0, 0, 0, 1.000)\",\n",
       "                \"width\": 1\n",
       "            },\n",
       "            \"size\": 6\n",
       "        },\n",
       "        \"zmax\": 40.0,\n",
       "        \"y\": [\n",
       "            0.0012033997200589994\n",
       "        ],\n",
       "        \"type\": \"scatter3d\",\n",
       "        \"scene\": \"scene\"\n",
       "    },\n",
       "    {\n",
       "        \"xaxis\": \"x\",\n",
       "        \"colorbar\": {\n",
       "            \"title\": \"\"\n",
       "        },\n",
       "        \"yaxis\": \"y\",\n",
       "        \"zaxis\": \"z\",\n",
       "        \"x\": [\n",
       "            1.1785371072845097\n",
       "        ],\n",
       "        \"showlegend\": false,\n",
       "        \"mode\": \"markers\",\n",
       "        \"name\": \"y1\",\n",
       "        \"zmin\": 1.0,\n",
       "        \"legendgroup\": \"y1\",\n",
       "        \"z\": [\n",
       "            0.8155475625308124\n",
       "        ],\n",
       "        \"marker\": {\n",
       "            \"symbol\": \"circle\",\n",
       "            \"color\": \"rgba(249, 138, 12, 1.000)\",\n",
       "            \"line\": {\n",
       "                \"color\": \"rgba(0, 0, 0, 1.000)\",\n",
       "                \"width\": 1\n",
       "            },\n",
       "            \"size\": 6\n",
       "        },\n",
       "        \"zmax\": 40.0,\n",
       "        \"y\": [\n",
       "            -0.0023162752234740305\n",
       "        ],\n",
       "        \"type\": \"scatter3d\",\n",
       "        \"scene\": \"scene\"\n",
       "    },\n",
       "    {\n",
       "        \"xaxis\": \"x\",\n",
       "        \"colorbar\": {\n",
       "            \"title\": \"\"\n",
       "        },\n",
       "        \"yaxis\": \"y\",\n",
       "        \"zaxis\": \"z\",\n",
       "        \"x\": [\n",
       "            1.117008982318061\n",
       "        ],\n",
       "        \"showlegend\": false,\n",
       "        \"mode\": \"markers\",\n",
       "        \"name\": \"y1\",\n",
       "        \"zmin\": 1.0,\n",
       "        \"legendgroup\": \"y1\",\n",
       "        \"z\": [\n",
       "            0.9228431379337269\n",
       "        ],\n",
       "        \"marker\": {\n",
       "            \"symbol\": \"circle\",\n",
       "            \"color\": \"rgba(251, 150, 6, 1.000)\",\n",
       "            \"line\": {\n",
       "                \"color\": \"rgba(0, 0, 0, 1.000)\",\n",
       "                \"width\": 1\n",
       "            },\n",
       "            \"size\": 6\n",
       "        },\n",
       "        \"zmax\": 40.0,\n",
       "        \"y\": [\n",
       "            -0.0036255495155853093\n",
       "        ],\n",
       "        \"type\": \"scatter3d\",\n",
       "        \"scene\": \"scene\"\n",
       "    },\n",
       "    {\n",
       "        \"xaxis\": \"x\",\n",
       "        \"colorbar\": {\n",
       "            \"title\": \"\"\n",
       "        },\n",
       "        \"yaxis\": \"y\",\n",
       "        \"zaxis\": \"z\",\n",
       "        \"x\": [\n",
       "            1.0228852332233456\n",
       "        ],\n",
       "        \"showlegend\": false,\n",
       "        \"mode\": \"markers\",\n",
       "        \"name\": \"y1\",\n",
       "        \"zmin\": 1.0,\n",
       "        \"legendgroup\": \"y1\",\n",
       "        \"z\": [\n",
       "            0.9917538522834752\n",
       "        ],\n",
       "        \"marker\": {\n",
       "            \"symbol\": \"circle\",\n",
       "            \"color\": \"rgba(252, 162, 9, 1.000)\",\n",
       "            \"line\": {\n",
       "                \"color\": \"rgba(0, 0, 0, 1.000)\",\n",
       "                \"width\": 1\n",
       "            },\n",
       "            \"size\": 6\n",
       "        },\n",
       "        \"zmax\": 40.0,\n",
       "        \"y\": [\n",
       "            -0.0011058508507051437\n",
       "        ],\n",
       "        \"type\": \"scatter3d\",\n",
       "        \"scene\": \"scene\"\n",
       "    },\n",
       "    {\n",
       "        \"xaxis\": \"x\",\n",
       "        \"colorbar\": {\n",
       "            \"title\": \"\"\n",
       "        },\n",
       "        \"yaxis\": \"y\",\n",
       "        \"zaxis\": \"z\",\n",
       "        \"x\": [\n",
       "            0.8944725814888764\n",
       "        ],\n",
       "        \"showlegend\": false,\n",
       "        \"mode\": \"markers\",\n",
       "        \"name\": \"y1\",\n",
       "        \"zmin\": 1.0,\n",
       "        \"legendgroup\": \"y1\",\n",
       "        \"z\": [\n",
       "            1.01171366209091\n",
       "        ],\n",
       "        \"marker\": {\n",
       "            \"symbol\": \"circle\",\n",
       "            \"color\": \"rgba(252, 175, 19, 1.000)\",\n",
       "            \"line\": {\n",
       "                \"color\": \"rgba(0, 0, 0, 1.000)\",\n",
       "                \"width\": 1\n",
       "            },\n",
       "            \"size\": 6\n",
       "        },\n",
       "        \"zmax\": 40.0,\n",
       "        \"y\": [\n",
       "            0.006861393076736201\n",
       "        ],\n",
       "        \"type\": \"scatter3d\",\n",
       "        \"scene\": \"scene\"\n",
       "    },\n",
       "    {\n",
       "        \"xaxis\": \"x\",\n",
       "        \"colorbar\": {\n",
       "            \"title\": \"\"\n",
       "        },\n",
       "        \"yaxis\": \"y\",\n",
       "        \"zaxis\": \"z\",\n",
       "        \"x\": [\n",
       "            0.7300777486031691\n",
       "        ],\n",
       "        \"showlegend\": false,\n",
       "        \"mode\": \"markers\",\n",
       "        \"name\": \"y1\",\n",
       "        \"zmin\": 1.0,\n",
       "        \"legendgroup\": \"y1\",\n",
       "        \"z\": [\n",
       "            0.9721565238668821\n",
       "        ],\n",
       "        \"marker\": {\n",
       "            \"symbol\": \"circle\",\n",
       "            \"color\": \"rgba(251, 187, 33, 1.000)\",\n",
       "            \"line\": {\n",
       "                \"color\": \"rgba(0, 0, 0, 1.000)\",\n",
       "                \"width\": 1\n",
       "            },\n",
       "            \"size\": 6\n",
       "        },\n",
       "        \"zmax\": 40.0,\n",
       "        \"y\": [\n",
       "            0.021894754572308273\n",
       "        ],\n",
       "        \"type\": \"scatter3d\",\n",
       "        \"scene\": \"scene\"\n",
       "    },\n",
       "    {\n",
       "        \"xaxis\": \"x\",\n",
       "        \"colorbar\": {\n",
       "            \"title\": \"\"\n",
       "        },\n",
       "        \"yaxis\": \"y\",\n",
       "        \"zaxis\": \"z\",\n",
       "        \"x\": [\n",
       "            0.5280074560547341\n",
       "        ],\n",
       "        \"showlegend\": false,\n",
       "        \"mode\": \"markers\",\n",
       "        \"name\": \"y1\",\n",
       "        \"zmin\": 1.0,\n",
       "        \"legendgroup\": \"y1\",\n",
       "        \"z\": [\n",
       "            0.8625163941222413\n",
       "        ],\n",
       "        \"marker\": {\n",
       "            \"symbol\": \"circle\",\n",
       "            \"color\": \"rgba(249, 200, 48, 1.000)\",\n",
       "            \"line\": {\n",
       "                \"color\": \"rgba(0, 0, 0, 1.000)\",\n",
       "                \"width\": 1\n",
       "            },\n",
       "            \"size\": 6\n",
       "        },\n",
       "        \"zmax\": 40.0,\n",
       "        \"y\": [\n",
       "            0.045612805941581056\n",
       "        ],\n",
       "        \"type\": \"scatter3d\",\n",
       "        \"scene\": \"scene\"\n",
       "    },\n",
       "    {\n",
       "        \"xaxis\": \"x\",\n",
       "        \"colorbar\": {\n",
       "            \"title\": \"\"\n",
       "        },\n",
       "        \"yaxis\": \"y\",\n",
       "        \"zaxis\": \"z\",\n",
       "        \"x\": [\n",
       "            0.2865684253320885\n",
       "        ],\n",
       "        \"showlegend\": false,\n",
       "        \"mode\": \"markers\",\n",
       "        \"name\": \"y1\",\n",
       "        \"zmin\": 1.0,\n",
       "        \"legendgroup\": \"y1\",\n",
       "        \"z\": [\n",
       "            0.6722272293678411\n",
       "        ],\n",
       "        \"marker\": {\n",
       "            \"symbol\": \"circle\",\n",
       "            \"color\": \"rgba(246, 213, 66, 1.000)\",\n",
       "            \"line\": {\n",
       "                \"color\": \"rgba(0, 0, 0, 1.000)\",\n",
       "                \"width\": 1\n",
       "            },\n",
       "            \"size\": 6\n",
       "        },\n",
       "        \"zmax\": 40.0,\n",
       "        \"y\": [\n",
       "            0.07963411949012385\n",
       "        ],\n",
       "        \"type\": \"scatter3d\",\n",
       "        \"scene\": \"scene\"\n",
       "    },\n",
       "    {\n",
       "        \"xaxis\": \"x\",\n",
       "        \"colorbar\": {\n",
       "            \"title\": \"\"\n",
       "        },\n",
       "        \"yaxis\": \"y\",\n",
       "        \"zaxis\": \"z\",\n",
       "        \"x\": [\n",
       "            0.004067377923744009\n",
       "        ],\n",
       "        \"showlegend\": false,\n",
       "        \"mode\": \"markers\",\n",
       "        \"name\": \"y1\",\n",
       "        \"zmin\": 1.0,\n",
       "        \"legendgroup\": \"y1\",\n",
       "        \"z\": [\n",
       "            0.39072298611453127\n",
       "        ],\n",
       "        \"marker\": {\n",
       "            \"symbol\": \"circle\",\n",
       "            \"color\": \"rgba(243, 226, 87, 1.000)\",\n",
       "            \"line\": {\n",
       "                \"color\": \"rgba(0, 0, 0, 1.000)\",\n",
       "                \"width\": 1\n",
       "            },\n",
       "            \"size\": 6\n",
       "        },\n",
       "        \"zmax\": 40.0,\n",
       "        \"y\": [\n",
       "            0.1255772675235065\n",
       "        ],\n",
       "        \"type\": \"scatter3d\",\n",
       "        \"scene\": \"scene\"\n",
       "    },\n",
       "    {\n",
       "        \"xaxis\": \"x\",\n",
       "        \"colorbar\": {\n",
       "            \"title\": \"\"\n",
       "        },\n",
       "        \"yaxis\": \"y\",\n",
       "        \"zaxis\": \"z\",\n",
       "        \"x\": [\n",
       "            -0.3211889646817853\n",
       "        ],\n",
       "        \"showlegend\": false,\n",
       "        \"mode\": \"markers\",\n",
       "        \"name\": \"y1\",\n",
       "        \"zmin\": 1.0,\n",
       "        \"legendgroup\": \"y1\",\n",
       "        \"z\": [\n",
       "            0.007437620873163686\n",
       "        ],\n",
       "        \"marker\": {\n",
       "            \"symbol\": \"circle\",\n",
       "            \"color\": \"rgba(241, 237, 112, 1.000)\",\n",
       "            \"line\": {\n",
       "                \"color\": \"rgba(0, 0, 0, 1.000)\",\n",
       "                \"width\": 1\n",
       "            },\n",
       "            \"size\": 6\n",
       "        },\n",
       "        \"zmax\": 40.0,\n",
       "        \"y\": [\n",
       "            0.18506082234729865\n",
       "        ],\n",
       "        \"type\": \"scatter3d\",\n",
       "        \"scene\": \"scene\"\n",
       "    },\n",
       "    {\n",
       "        \"xaxis\": \"x\",\n",
       "        \"colorbar\": {\n",
       "            \"title\": \"\"\n",
       "        },\n",
       "        \"yaxis\": \"y\",\n",
       "        \"zaxis\": \"z\",\n",
       "        \"x\": [\n",
       "            -0.6908938809959884\n",
       "        ],\n",
       "        \"showlegend\": false,\n",
       "        \"mode\": \"markers\",\n",
       "        \"name\": \"y1\",\n",
       "        \"zmin\": 1.0,\n",
       "        \"legendgroup\": \"y1\",\n",
       "        \"z\": [\n",
       "            -0.4881949098454144\n",
       "        ],\n",
       "        \"marker\": {\n",
       "            \"symbol\": \"circle\",\n",
       "            \"color\": \"rgba(244, 247, 140, 1.000)\",\n",
       "            \"line\": {\n",
       "                \"color\": \"rgba(0, 0, 0, 1.000)\",\n",
       "                \"width\": 1\n",
       "            },\n",
       "            \"size\": 6\n",
       "        },\n",
       "        \"zmax\": 40.0,\n",
       "        \"y\": [\n",
       "            0.25970335626707053\n",
       "        ],\n",
       "        \"type\": \"scatter3d\",\n",
       "        \"scene\": \"scene\"\n",
       "    },\n",
       "    {\n",
       "        \"xaxis\": \"x\",\n",
       "        \"colorbar\": {\n",
       "            \"title\": \"\"\n",
       "        },\n",
       "        \"yaxis\": \"y\",\n",
       "        \"zaxis\": \"z\",\n",
       "        \"x\": [\n",
       "            -1.1067406495303502\n",
       "        ],\n",
       "        \"showlegend\": false,\n",
       "        \"mode\": \"markers\",\n",
       "        \"name\": \"y1\",\n",
       "        \"zmin\": 1.0,\n",
       "        \"legendgroup\": \"y1\",\n",
       "        \"z\": [\n",
       "            -1.1067406495303502\n",
       "        ],\n",
       "        \"marker\": {\n",
       "            \"symbol\": \"circle\",\n",
       "            \"color\": \"rgba(252, 255, 164, 1.000)\",\n",
       "            \"line\": {\n",
       "                \"color\": \"rgba(0, 0, 0, 1.000)\",\n",
       "                \"width\": 1\n",
       "            },\n",
       "            \"size\": 6\n",
       "        },\n",
       "        \"zmax\": 40.0,\n",
       "        \"y\": [\n",
       "            0.35112344158839165\n",
       "        ],\n",
       "        \"type\": \"scatter3d\",\n",
       "        \"scene\": \"scene\"\n",
       "    },\n",
       "    {\n",
       "        \"xaxis\": \"x\",\n",
       "        \"colorbar\": {\n",
       "            \"title\": \"\"\n",
       "        },\n",
       "        \"yaxis\": \"y\",\n",
       "        \"zaxis\": \"z\",\n",
       "        \"x\": [\n",
       "            2.025158221666843\n",
       "        ],\n",
       "        \"showlegend\": false,\n",
       "        \"mode\": \"markers\",\n",
       "        \"name\": \"y1\",\n",
       "        \"zmin\": 1.0,\n",
       "        \"z\": [\n",
       "            -0.8878130628619649\n",
       "        ],\n",
       "        \"marker\": {\n",
       "            \"color\": [\n",
       "                0.5\n",
       "            ],\n",
       "            \"cmin\": 1.0,\n",
       "            \"opacity\": 1.0e-10,\n",
       "            \"size\": 1.0e-10,\n",
       "            \"colorscale\": [\n",
       "                [\n",
       "                    0.0,\n",
       "                    \"rgba(0, 0, 4, 1.000)\"\n",
       "                ],\n",
       "                [\n",
       "                    0.00392156862745098,\n",
       "                    \"rgba(1, 0, 5, 1.000)\"\n",
       "                ],\n",
       "                [\n",
       "                    0.00784313725490196,\n",
       "                    \"rgba(1, 1, 6, 1.000)\"\n",
       "                ],\n",
       "                [\n",
       "                    0.011764705882352941,\n",
       "                    \"rgba(1, 1, 8, 1.000)\"\n",
       "                ],\n",
       "                [\n",
       "                    0.01568627450980392,\n",
       "                    \"rgba(2, 1, 10, 1.000)\"\n",
       "                ],\n",
       "                [\n",
       "                    0.0196078431372549,\n",
       "                    \"rgba(2, 2, 12, 1.000)\"\n",
       "                ],\n",
       "                [\n",
       "                    0.023529411764705882,\n",
       "                    \"rgba(2, 2, 14, 1.000)\"\n",
       "                ],\n",
       "                [\n",
       "                    0.027450980392156862,\n",
       "                    \"rgba(3, 2, 16, 1.000)\"\n",
       "                ],\n",
       "                [\n",
       "                    0.03137254901960784,\n",
       "                    \"rgba(4, 3, 18, 1.000)\"\n",
       "                ],\n",
       "                [\n",
       "                    0.03529411764705882,\n",
       "                    \"rgba(4, 3, 20, 1.000)\"\n",
       "                ],\n",
       "                [\n",
       "                    0.0392156862745098,\n",
       "                    \"rgba(5, 4, 23, 1.000)\"\n",
       "                ],\n",
       "                [\n",
       "                    0.043137254901960784,\n",
       "                    \"rgba(6, 4, 25, 1.000)\"\n",
       "                ],\n",
       "                [\n",
       "                    0.047058823529411764,\n",
       "                    \"rgba(7, 5, 27, 1.000)\"\n",
       "                ],\n",
       "                [\n",
       "                    0.050980392156862744,\n",
       "                    \"rgba(8, 5, 29, 1.000)\"\n",
       "                ],\n",
       "                [\n",
       "                    0.054901960784313725,\n",
       "                    \"rgba(9, 6, 31, 1.000)\"\n",
       "                ],\n",
       "                [\n",
       "                    0.058823529411764705,\n",
       "                    \"rgba(10, 7, 34, 1.000)\"\n",
       "                ],\n",
       "                [\n",
       "                    0.06274509803921569,\n",
       "                    \"rgba(11, 7, 36, 1.000)\"\n",
       "                ],\n",
       "                [\n",
       "                    0.06666666666666667,\n",
       "                    \"rgba(12, 8, 38, 1.000)\"\n",
       "                ],\n",
       "                [\n",
       "                    0.07058823529411765,\n",
       "                    \"rgba(13, 8, 41, 1.000)\"\n",
       "                ],\n",
       "                [\n",
       "                    0.07450980392156863,\n",
       "                    \"rgba(14, 9, 43, 1.000)\"\n",
       "                ],\n",
       "                [\n",
       "                    0.0784313725490196,\n",
       "                    \"rgba(16, 9, 45, 1.000)\"\n",
       "                ],\n",
       "                [\n",
       "                    0.08235294117647059,\n",
       "                    \"rgba(17, 10, 48, 1.000)\"\n",
       "                ],\n",
       "                [\n",
       "                    0.08627450980392157,\n",
       "                    \"rgba(18, 10, 50, 1.000)\"\n",
       "                ],\n",
       "                [\n",
       "                    0.09019607843137255,\n",
       "                    \"rgba(20, 11, 52, 1.000)\"\n",
       "                ],\n",
       "                [\n",
       "                    0.09411764705882353,\n",
       "                    \"rgba(21, 11, 55, 1.000)\"\n",
       "                ],\n",
       "                [\n",
       "                    0.09803921568627451,\n",
       "                    \"rgba(22, 11, 57, 1.000)\"\n",
       "                ],\n",
       "                [\n",
       "                    0.10196078431372549,\n",
       "                    \"rgba(24, 12, 60, 1.000)\"\n",
       "                ],\n",
       "                [\n",
       "                    0.10588235294117647,\n",
       "                    \"rgba(25, 12, 62, 1.000)\"\n",
       "                ],\n",
       "                [\n",
       "                    0.10980392156862745,\n",
       "                    \"rgba(27, 12, 65, 1.000)\"\n",
       "                ],\n",
       "                [\n",
       "                    0.11372549019607843,\n",
       "                    \"rgba(28, 12, 67, 1.000)\"\n",
       "                ],\n",
       "                [\n",
       "                    0.11764705882352941,\n",
       "                    \"rgba(30, 12, 69, 1.000)\"\n",
       "                ],\n",
       "                [\n",
       "                    0.12156862745098039,\n",
       "                    \"rgba(31, 12, 72, 1.000)\"\n",
       "                ],\n",
       "                [\n",
       "                    0.12549019607843137,\n",
       "                    \"rgba(33, 12, 74, 1.000)\"\n",
       "                ],\n",
       "                [\n",
       "                    0.12941176470588237,\n",
       "                    \"rgba(35, 12, 76, 1.000)\"\n",
       "                ],\n",
       "                [\n",
       "                    0.13333333333333333,\n",
       "                    \"rgba(36, 12, 79, 1.000)\"\n",
       "                ],\n",
       "                [\n",
       "                    0.13725490196078433,\n",
       "                    \"rgba(38, 12, 81, 1.000)\"\n",
       "                ],\n",
       "                [\n",
       "                    0.1411764705882353,\n",
       "                    \"rgba(40, 11, 83, 1.000)\"\n",
       "                ],\n",
       "                [\n",
       "                    0.1450980392156863,\n",
       "                    \"rgba(41, 11, 85, 1.000)\"\n",
       "                ],\n",
       "                [\n",
       "                    0.14901960784313725,\n",
       "                    \"rgba(43, 11, 87, 1.000)\"\n",
       "                ],\n",
       "                [\n",
       "                    0.15294117647058825,\n",
       "                    \"rgba(45, 11, 89, 1.000)\"\n",
       "                ],\n",
       "                [\n",
       "                    0.1568627450980392,\n",
       "                    \"rgba(47, 10, 91, 1.000)\"\n",
       "                ],\n",
       "                [\n",
       "                    0.1607843137254902,\n",
       "                    \"rgba(49, 10, 92, 1.000)\"\n",
       "                ],\n",
       "                [\n",
       "                    0.16470588235294117,\n",
       "                    \"rgba(50, 10, 94, 1.000)\"\n",
       "                ],\n",
       "                [\n",
       "                    0.16862745098039217,\n",
       "                    \"rgba(52, 10, 95, 1.000)\"\n",
       "                ],\n",
       "                [\n",
       "                    0.17254901960784313,\n",
       "                    \"rgba(54, 9, 97, 1.000)\"\n",
       "                ],\n",
       "                [\n",
       "                    0.17647058823529413,\n",
       "                    \"rgba(56, 9, 98, 1.000)\"\n",
       "                ],\n",
       "                [\n",
       "                    0.1803921568627451,\n",
       "                    \"rgba(57, 9, 99, 1.000)\"\n",
       "                ],\n",
       "                [\n",
       "                    0.1843137254901961,\n",
       "                    \"rgba(59, 9, 100, 1.000)\"\n",
       "                ],\n",
       "                [\n",
       "                    0.18823529411764706,\n",
       "                    \"rgba(61, 9, 101, 1.000)\"\n",
       "                ],\n",
       "                [\n",
       "                    0.19215686274509805,\n",
       "                    \"rgba(62, 9, 102, 1.000)\"\n",
       "                ],\n",
       "                [\n",
       "                    0.19607843137254902,\n",
       "                    \"rgba(64, 10, 103, 1.000)\"\n",
       "                ],\n",
       "                [\n",
       "                    0.2,\n",
       "                    \"rgba(66, 10, 104, 1.000)\"\n",
       "                ],\n",
       "                [\n",
       "                    0.20392156862745098,\n",
       "                    \"rgba(68, 10, 104, 1.000)\"\n",
       "                ],\n",
       "                [\n",
       "                    0.20784313725490197,\n",
       "                    \"rgba(69, 10, 105, 1.000)\"\n",
       "                ],\n",
       "                [\n",
       "                    0.21176470588235294,\n",
       "                    \"rgba(71, 11, 106, 1.000)\"\n",
       "                ],\n",
       "                [\n",
       "                    0.21568627450980393,\n",
       "                    \"rgba(73, 11, 106, 1.000)\"\n",
       "                ],\n",
       "                [\n",
       "                    0.2196078431372549,\n",
       "                    \"rgba(74, 12, 107, 1.000)\"\n",
       "                ],\n",
       "                [\n",
       "                    0.2235294117647059,\n",
       "                    \"rgba(76, 12, 107, 1.000)\"\n",
       "                ],\n",
       "                [\n",
       "                    0.22745098039215686,\n",
       "                    \"rgba(77, 13, 108, 1.000)\"\n",
       "                ],\n",
       "                [\n",
       "                    0.23137254901960785,\n",
       "                    \"rgba(79, 13, 108, 1.000)\"\n",
       "                ],\n",
       "                [\n",
       "                    0.23529411764705882,\n",
       "                    \"rgba(81, 14, 108, 1.000)\"\n",
       "                ],\n",
       "                [\n",
       "                    0.23921568627450981,\n",
       "                    \"rgba(82, 14, 109, 1.000)\"\n",
       "                ],\n",
       "                [\n",
       "                    0.24313725490196078,\n",
       "                    \"rgba(84, 15, 109, 1.000)\"\n",
       "                ],\n",
       "                [\n",
       "                    0.24705882352941178,\n",
       "                    \"rgba(85, 15, 109, 1.000)\"\n",
       "                ],\n",
       "                [\n",
       "                    0.25098039215686274,\n",
       "                    \"rgba(87, 16, 110, 1.000)\"\n",
       "                ],\n",
       "                [\n",
       "                    0.2549019607843137,\n",
       "                    \"rgba(89, 16, 110, 1.000)\"\n",
       "                ],\n",
       "                [\n",
       "                    0.25882352941176473,\n",
       "                    \"rgba(90, 17, 110, 1.000)\"\n",
       "                ],\n",
       "                [\n",
       "                    0.2627450980392157,\n",
       "                    \"rgba(92, 18, 110, 1.000)\"\n",
       "                ],\n",
       "                [\n",
       "                    0.26666666666666666,\n",
       "                    \"rgba(93, 18, 110, 1.000)\"\n",
       "                ],\n",
       "                [\n",
       "                    0.27058823529411763,\n",
       "                    \"rgba(95, 19, 110, 1.000)\"\n",
       "                ],\n",
       "                [\n",
       "                    0.27450980392156865,\n",
       "                    \"rgba(97, 19, 110, 1.000)\"\n",
       "                ],\n",
       "                [\n",
       "                    0.2784313725490196,\n",
       "                    \"rgba(98, 20, 110, 1.000)\"\n",
       "                ],\n",
       "                [\n",
       "                    0.2823529411764706,\n",
       "                    \"rgba(100, 21, 110, 1.000)\"\n",
       "                ],\n",
       "                [\n",
       "                    0.28627450980392155,\n",
       "                    \"rgba(101, 21, 110, 1.000)\"\n",
       "                ],\n",
       "                [\n",
       "                    0.2901960784313726,\n",
       "                    \"rgba(103, 22, 110, 1.000)\"\n",
       "                ],\n",
       "                [\n",
       "                    0.29411764705882354,\n",
       "                    \"rgba(105, 22, 110, 1.000)\"\n",
       "                ],\n",
       "                [\n",
       "                    0.2980392156862745,\n",
       "                    \"rgba(106, 23, 110, 1.000)\"\n",
       "                ],\n",
       "                [\n",
       "                    0.30196078431372547,\n",
       "                    \"rgba(108, 24, 110, 1.000)\"\n",
       "                ],\n",
       "                [\n",
       "                    0.3058823529411765,\n",
       "                    \"rgba(109, 24, 110, 1.000)\"\n",
       "                ],\n",
       "                [\n",
       "                    0.30980392156862746,\n",
       "                    \"rgba(111, 25, 110, 1.000)\"\n",
       "                ],\n",
       "                [\n",
       "                    0.3137254901960784,\n",
       "                    \"rgba(113, 25, 110, 1.000)\"\n",
       "                ],\n",
       "                [\n",
       "                    0.3176470588235294,\n",
       "                    \"rgba(114, 26, 110, 1.000)\"\n",
       "                ],\n",
       "                [\n",
       "                    0.3215686274509804,\n",
       "                    \"rgba(116, 26, 110, 1.000)\"\n",
       "                ],\n",
       "                [\n",
       "                    0.3254901960784314,\n",
       "                    \"rgba(117, 27, 110, 1.000)\"\n",
       "                ],\n",
       "                [\n",
       "                    0.32941176470588235,\n",
       "                    \"rgba(119, 28, 109, 1.000)\"\n",
       "                ],\n",
       "                [\n",
       "                    0.3333333333333333,\n",
       "                    \"rgba(120, 28, 109, 1.000)\"\n",
       "                ],\n",
       "                [\n",
       "                    0.33725490196078434,\n",
       "                    \"rgba(122, 29, 109, 1.000)\"\n",
       "                ],\n",
       "                [\n",
       "                    0.3411764705882353,\n",
       "                    \"rgba(124, 29, 109, 1.000)\"\n",
       "                ],\n",
       "                [\n",
       "                    0.34509803921568627,\n",
       "                    \"rgba(125, 30, 109, 1.000)\"\n",
       "                ],\n",
       "                [\n",
       "                    0.34901960784313724,\n",
       "                    \"rgba(127, 30, 108, 1.000)\"\n",
       "                ],\n",
       "                [\n",
       "                    0.35294117647058826,\n",
       "                    \"rgba(128, 31, 108, 1.000)\"\n",
       "                ],\n",
       "                [\n",
       "                    0.3568627450980392,\n",
       "                    \"rgba(130, 32, 108, 1.000)\"\n",
       "                ],\n",
       "                [\n",
       "                    0.3607843137254902,\n",
       "                    \"rgba(132, 32, 107, 1.000)\"\n",
       "                ],\n",
       "                [\n",
       "                    0.36470588235294116,\n",
       "                    \"rgba(133, 33, 107, 1.000)\"\n",
       "                ],\n",
       "                [\n",
       "                    0.3686274509803922,\n",
       "                    \"rgba(135, 33, 107, 1.000)\"\n",
       "                ],\n",
       "                [\n",
       "                    0.37254901960784315,\n",
       "                    \"rgba(136, 34, 106, 1.000)\"\n",
       "                ],\n",
       "                [\n",
       "                    0.3764705882352941,\n",
       "                    \"rgba(138, 34, 106, 1.000)\"\n",
       "                ],\n",
       "                [\n",
       "                    0.3803921568627451,\n",
       "                    \"rgba(140, 35, 105, 1.000)\"\n",
       "                ],\n",
       "                [\n",
       "                    0.3843137254901961,\n",
       "                    \"rgba(141, 35, 105, 1.000)\"\n",
       "                ],\n",
       "                [\n",
       "                    0.38823529411764707,\n",
       "                    \"rgba(143, 36, 105, 1.000)\"\n",
       "                ],\n",
       "                [\n",
       "                    0.39215686274509803,\n",
       "                    \"rgba(144, 37, 104, 1.000)\"\n",
       "                ],\n",
       "                [\n",
       "                    0.396078431372549,\n",
       "                    \"rgba(146, 37, 104, 1.000)\"\n",
       "                ],\n",
       "                [\n",
       "                    0.4,\n",
       "                    \"rgba(147, 38, 103, 1.000)\"\n",
       "                ],\n",
       "                [\n",
       "                    0.403921568627451,\n",
       "                    \"rgba(149, 38, 103, 1.000)\"\n",
       "                ],\n",
       "                [\n",
       "                    0.40784313725490196,\n",
       "                    \"rgba(151, 39, 102, 1.000)\"\n",
       "                ],\n",
       "                [\n",
       "                    0.4117647058823529,\n",
       "                    \"rgba(152, 39, 102, 1.000)\"\n",
       "                ],\n",
       "                [\n",
       "                    0.41568627450980394,\n",
       "                    \"rgba(154, 40, 101, 1.000)\"\n",
       "                ],\n",
       "                [\n",
       "                    0.4196078431372549,\n",
       "                    \"rgba(155, 41, 100, 1.000)\"\n",
       "                ],\n",
       "                [\n",
       "                    0.4235294117647059,\n",
       "                    \"rgba(157, 41, 100, 1.000)\"\n",
       "                ],\n",
       "                [\n",
       "                    0.42745098039215684,\n",
       "                    \"rgba(159, 42, 99, 1.000)\"\n",
       "                ],\n",
       "                [\n",
       "                    0.43137254901960786,\n",
       "                    \"rgba(160, 42, 99, 1.000)\"\n",
       "                ],\n",
       "                [\n",
       "                    0.43529411764705883,\n",
       "                    \"rgba(162, 43, 98, 1.000)\"\n",
       "                ],\n",
       "                [\n",
       "                    0.4392156862745098,\n",
       "                    \"rgba(163, 44, 97, 1.000)\"\n",
       "                ],\n",
       "                [\n",
       "                    0.44313725490196076,\n",
       "                    \"rgba(165, 44, 96, 1.000)\"\n",
       "                ],\n",
       "                [\n",
       "                    0.4470588235294118,\n",
       "                    \"rgba(166, 45, 96, 1.000)\"\n",
       "                ],\n",
       "                [\n",
       "                    0.45098039215686275,\n",
       "                    \"rgba(168, 46, 95, 1.000)\"\n",
       "                ],\n",
       "                [\n",
       "                    0.4549019607843137,\n",
       "                    \"rgba(169, 46, 94, 1.000)\"\n",
       "                ],\n",
       "                [\n",
       "                    0.4588235294117647,\n",
       "                    \"rgba(171, 47, 94, 1.000)\"\n",
       "                ],\n",
       "                [\n",
       "                    0.4627450980392157,\n",
       "                    \"rgba(173, 48, 93, 1.000)\"\n",
       "                ],\n",
       "                [\n",
       "                    0.4666666666666667,\n",
       "                    \"rgba(174, 48, 92, 1.000)\"\n",
       "                ],\n",
       "                [\n",
       "                    0.47058823529411764,\n",
       "                    \"rgba(176, 49, 91, 1.000)\"\n",
       "                ],\n",
       "                [\n",
       "                    0.4745098039215686,\n",
       "                    \"rgba(177, 50, 90, 1.000)\"\n",
       "                ],\n",
       "                [\n",
       "                    0.47843137254901963,\n",
       "                    \"rgba(179, 50, 90, 1.000)\"\n",
       "                ],\n",
       "                [\n",
       "                    0.4823529411764706,\n",
       "                    \"rgba(180, 51, 89, 1.000)\"\n",
       "                ],\n",
       "                [\n",
       "                    0.48627450980392156,\n",
       "                    \"rgba(182, 52, 88, 1.000)\"\n",
       "                ],\n",
       "                [\n",
       "                    0.49019607843137253,\n",
       "                    \"rgba(183, 53, 87, 1.000)\"\n",
       "                ],\n",
       "                [\n",
       "                    0.49411764705882355,\n",
       "                    \"rgba(185, 53, 86, 1.000)\"\n",
       "                ],\n",
       "                [\n",
       "                    0.4980392156862745,\n",
       "                    \"rgba(186, 54, 85, 1.000)\"\n",
       "                ],\n",
       "                [\n",
       "                    0.5019607843137255,\n",
       "                    \"rgba(188, 55, 84, 1.000)\"\n",
       "                ],\n",
       "                [\n",
       "                    0.5058823529411764,\n",
       "                    \"rgba(189, 56, 83, 1.000)\"\n",
       "                ],\n",
       "                [\n",
       "                    0.5098039215686274,\n",
       "                    \"rgba(191, 57, 82, 1.000)\"\n",
       "                ],\n",
       "                [\n",
       "                    0.5137254901960784,\n",
       "                    \"rgba(192, 58, 81, 1.000)\"\n",
       "                ],\n",
       "                [\n",
       "                    0.5176470588235295,\n",
       "                    \"rgba(193, 58, 80, 1.000)\"\n",
       "                ],\n",
       "                [\n",
       "                    0.5215686274509804,\n",
       "                    \"rgba(195, 59, 79, 1.000)\"\n",
       "                ],\n",
       "                [\n",
       "                    0.5254901960784314,\n",
       "                    \"rgba(196, 60, 78, 1.000)\"\n",
       "                ],\n",
       "                [\n",
       "                    0.5294117647058824,\n",
       "                    \"rgba(198, 61, 77, 1.000)\"\n",
       "                ],\n",
       "                [\n",
       "                    0.5333333333333333,\n",
       "                    \"rgba(199, 62, 76, 1.000)\"\n",
       "                ],\n",
       "                [\n",
       "                    0.5372549019607843,\n",
       "                    \"rgba(200, 63, 75, 1.000)\"\n",
       "                ],\n",
       "                [\n",
       "                    0.5411764705882353,\n",
       "                    \"rgba(202, 64, 74, 1.000)\"\n",
       "                ],\n",
       "                [\n",
       "                    0.5450980392156862,\n",
       "                    \"rgba(203, 65, 73, 1.000)\"\n",
       "                ],\n",
       "                [\n",
       "                    0.5490196078431373,\n",
       "                    \"rgba(204, 66, 72, 1.000)\"\n",
       "                ],\n",
       "                [\n",
       "                    0.5529411764705883,\n",
       "                    \"rgba(206, 67, 71, 1.000)\"\n",
       "                ],\n",
       "                [\n",
       "                    0.5568627450980392,\n",
       "                    \"rgba(207, 68, 70, 1.000)\"\n",
       "                ],\n",
       "                [\n",
       "                    0.5607843137254902,\n",
       "                    \"rgba(208, 69, 69, 1.000)\"\n",
       "                ],\n",
       "                [\n",
       "                    0.5647058823529412,\n",
       "                    \"rgba(210, 70, 68, 1.000)\"\n",
       "                ],\n",
       "                [\n",
       "                    0.5686274509803921,\n",
       "                    \"rgba(211, 71, 67, 1.000)\"\n",
       "                ],\n",
       "                [\n",
       "                    0.5725490196078431,\n",
       "                    \"rgba(212, 72, 66, 1.000)\"\n",
       "                ],\n",
       "                [\n",
       "                    0.5764705882352941,\n",
       "                    \"rgba(213, 74, 65, 1.000)\"\n",
       "                ],\n",
       "                [\n",
       "                    0.5803921568627451,\n",
       "                    \"rgba(215, 75, 63, 1.000)\"\n",
       "                ],\n",
       "                [\n",
       "                    0.5843137254901961,\n",
       "                    \"rgba(216, 76, 62, 1.000)\"\n",
       "                ],\n",
       "                [\n",
       "                    0.5882352941176471,\n",
       "                    \"rgba(217, 77, 61, 1.000)\"\n",
       "                ],\n",
       "                [\n",
       "                    0.592156862745098,\n",
       "                    \"rgba(218, 78, 60, 1.000)\"\n",
       "                ],\n",
       "                [\n",
       "                    0.596078431372549,\n",
       "                    \"rgba(219, 80, 59, 1.000)\"\n",
       "                ],\n",
       "                [\n",
       "                    0.6,\n",
       "                    \"rgba(221, 81, 58, 1.000)\"\n",
       "                ],\n",
       "                [\n",
       "                    0.6039215686274509,\n",
       "                    \"rgba(222, 82, 56, 1.000)\"\n",
       "                ],\n",
       "                [\n",
       "                    0.6078431372549019,\n",
       "                    \"rgba(223, 83, 55, 1.000)\"\n",
       "                ],\n",
       "                [\n",
       "                    0.611764705882353,\n",
       "                    \"rgba(224, 85, 54, 1.000)\"\n",
       "                ],\n",
       "                [\n",
       "                    0.615686274509804,\n",
       "                    \"rgba(225, 86, 53, 1.000)\"\n",
       "                ],\n",
       "                [\n",
       "                    0.6196078431372549,\n",
       "                    \"rgba(226, 87, 52, 1.000)\"\n",
       "                ],\n",
       "                [\n",
       "                    0.6235294117647059,\n",
       "                    \"rgba(227, 89, 51, 1.000)\"\n",
       "                ],\n",
       "                [\n",
       "                    0.6274509803921569,\n",
       "                    \"rgba(228, 90, 49, 1.000)\"\n",
       "                ],\n",
       "                [\n",
       "                    0.6313725490196078,\n",
       "                    \"rgba(229, 92, 48, 1.000)\"\n",
       "                ],\n",
       "                [\n",
       "                    0.6352941176470588,\n",
       "                    \"rgba(230, 93, 47, 1.000)\"\n",
       "                ],\n",
       "                [\n",
       "                    0.6392156862745098,\n",
       "                    \"rgba(231, 94, 46, 1.000)\"\n",
       "                ],\n",
       "                [\n",
       "                    0.6431372549019608,\n",
       "                    \"rgba(232, 96, 45, 1.000)\"\n",
       "                ],\n",
       "                [\n",
       "                    0.6470588235294118,\n",
       "                    \"rgba(233, 97, 43, 1.000)\"\n",
       "                ],\n",
       "                [\n",
       "                    0.6509803921568628,\n",
       "                    \"rgba(234, 99, 42, 1.000)\"\n",
       "                ],\n",
       "                [\n",
       "                    0.6549019607843137,\n",
       "                    \"rgba(235, 100, 41, 1.000)\"\n",
       "                ],\n",
       "                [\n",
       "                    0.6588235294117647,\n",
       "                    \"rgba(235, 102, 40, 1.000)\"\n",
       "                ],\n",
       "                [\n",
       "                    0.6627450980392157,\n",
       "                    \"rgba(236, 103, 38, 1.000)\"\n",
       "                ],\n",
       "                [\n",
       "                    0.6666666666666666,\n",
       "                    \"rgba(237, 105, 37, 1.000)\"\n",
       "                ],\n",
       "                [\n",
       "                    0.6705882352941176,\n",
       "                    \"rgba(238, 106, 36, 1.000)\"\n",
       "                ],\n",
       "                [\n",
       "                    0.6745098039215687,\n",
       "                    \"rgba(239, 108, 35, 1.000)\"\n",
       "                ],\n",
       "                [\n",
       "                    0.6784313725490196,\n",
       "                    \"rgba(239, 110, 33, 1.000)\"\n",
       "                ],\n",
       "                [\n",
       "                    0.6823529411764706,\n",
       "                    \"rgba(240, 111, 32, 1.000)\"\n",
       "                ],\n",
       "                [\n",
       "                    0.6862745098039216,\n",
       "                    \"rgba(241, 113, 31, 1.000)\"\n",
       "                ],\n",
       "                [\n",
       "                    0.6901960784313725,\n",
       "                    \"rgba(241, 115, 29, 1.000)\"\n",
       "                ],\n",
       "                [\n",
       "                    0.6941176470588235,\n",
       "                    \"rgba(242, 116, 28, 1.000)\"\n",
       "                ],\n",
       "                [\n",
       "                    0.6980392156862745,\n",
       "                    \"rgba(243, 118, 27, 1.000)\"\n",
       "                ],\n",
       "                [\n",
       "                    0.7019607843137254,\n",
       "                    \"rgba(243, 120, 25, 1.000)\"\n",
       "                ],\n",
       "                [\n",
       "                    0.7058823529411765,\n",
       "                    \"rgba(244, 121, 24, 1.000)\"\n",
       "                ],\n",
       "                [\n",
       "                    0.7098039215686275,\n",
       "                    \"rgba(245, 123, 23, 1.000)\"\n",
       "                ],\n",
       "                [\n",
       "                    0.7137254901960784,\n",
       "                    \"rgba(245, 125, 21, 1.000)\"\n",
       "                ],\n",
       "                [\n",
       "                    0.7176470588235294,\n",
       "                    \"rgba(246, 126, 20, 1.000)\"\n",
       "                ],\n",
       "                [\n",
       "                    0.7215686274509804,\n",
       "                    \"rgba(246, 128, 19, 1.000)\"\n",
       "                ],\n",
       "                [\n",
       "                    0.7254901960784313,\n",
       "                    \"rgba(247, 130, 18, 1.000)\"\n",
       "                ],\n",
       "                [\n",
       "                    0.7294117647058823,\n",
       "                    \"rgba(247, 132, 16, 1.000)\"\n",
       "                ],\n",
       "                [\n",
       "                    0.7333333333333333,\n",
       "                    \"rgba(248, 133, 15, 1.000)\"\n",
       "                ],\n",
       "                [\n",
       "                    0.7372549019607844,\n",
       "                    \"rgba(248, 135, 14, 1.000)\"\n",
       "                ],\n",
       "                [\n",
       "                    0.7411764705882353,\n",
       "                    \"rgba(248, 137, 12, 1.000)\"\n",
       "                ],\n",
       "                [\n",
       "                    0.7450980392156863,\n",
       "                    \"rgba(249, 139, 11, 1.000)\"\n",
       "                ],\n",
       "                [\n",
       "                    0.7490196078431373,\n",
       "                    \"rgba(249, 140, 10, 1.000)\"\n",
       "                ],\n",
       "                [\n",
       "                    0.7529411764705882,\n",
       "                    \"rgba(249, 142, 9, 1.000)\"\n",
       "                ],\n",
       "                [\n",
       "                    0.7568627450980392,\n",
       "                    \"rgba(250, 144, 8, 1.000)\"\n",
       "                ],\n",
       "                [\n",
       "                    0.7607843137254902,\n",
       "                    \"rgba(250, 146, 7, 1.000)\"\n",
       "                ],\n",
       "                [\n",
       "                    0.7647058823529411,\n",
       "                    \"rgba(250, 148, 7, 1.000)\"\n",
       "                ],\n",
       "                [\n",
       "                    0.7686274509803922,\n",
       "                    \"rgba(251, 150, 6, 1.000)\"\n",
       "                ],\n",
       "                [\n",
       "                    0.7725490196078432,\n",
       "                    \"rgba(251, 151, 6, 1.000)\"\n",
       "                ],\n",
       "                [\n",
       "                    0.7764705882352941,\n",
       "                    \"rgba(251, 153, 6, 1.000)\"\n",
       "                ],\n",
       "                [\n",
       "                    0.7803921568627451,\n",
       "                    \"rgba(251, 155, 6, 1.000)\"\n",
       "                ],\n",
       "                [\n",
       "                    0.7843137254901961,\n",
       "                    \"rgba(251, 157, 7, 1.000)\"\n",
       "                ],\n",
       "                [\n",
       "                    0.788235294117647,\n",
       "                    \"rgba(252, 159, 7, 1.000)\"\n",
       "                ],\n",
       "                [\n",
       "                    0.792156862745098,\n",
       "                    \"rgba(252, 161, 8, 1.000)\"\n",
       "                ],\n",
       "                [\n",
       "                    0.796078431372549,\n",
       "                    \"rgba(252, 163, 9, 1.000)\"\n",
       "                ],\n",
       "                [\n",
       "                    0.8,\n",
       "                    \"rgba(252, 165, 10, 1.000)\"\n",
       "                ],\n",
       "                [\n",
       "                    0.803921568627451,\n",
       "                    \"rgba(252, 166, 12, 1.000)\"\n",
       "                ],\n",
       "                [\n",
       "                    0.807843137254902,\n",
       "                    \"rgba(252, 168, 13, 1.000)\"\n",
       "                ],\n",
       "                [\n",
       "                    0.8117647058823529,\n",
       "                    \"rgba(252, 170, 15, 1.000)\"\n",
       "                ],\n",
       "                [\n",
       "                    0.8156862745098039,\n",
       "                    \"rgba(252, 172, 17, 1.000)\"\n",
       "                ],\n",
       "                [\n",
       "                    0.8196078431372549,\n",
       "                    \"rgba(252, 174, 18, 1.000)\"\n",
       "                ],\n",
       "                [\n",
       "                    0.8235294117647058,\n",
       "                    \"rgba(252, 176, 20, 1.000)\"\n",
       "                ],\n",
       "                [\n",
       "                    0.8274509803921568,\n",
       "                    \"rgba(252, 178, 22, 1.000)\"\n",
       "                ],\n",
       "                [\n",
       "                    0.8313725490196079,\n",
       "                    \"rgba(252, 180, 24, 1.000)\"\n",
       "                ],\n",
       "                [\n",
       "                    0.8352941176470589,\n",
       "                    \"rgba(251, 182, 26, 1.000)\"\n",
       "                ],\n",
       "                [\n",
       "                    0.8392156862745098,\n",
       "                    \"rgba(251, 184, 29, 1.000)\"\n",
       "                ],\n",
       "                [\n",
       "                    0.8431372549019608,\n",
       "                    \"rgba(251, 186, 31, 1.000)\"\n",
       "                ],\n",
       "                [\n",
       "                    0.8470588235294118,\n",
       "                    \"rgba(251, 188, 33, 1.000)\"\n",
       "                ],\n",
       "                [\n",
       "                    0.8509803921568627,\n",
       "                    \"rgba(251, 190, 35, 1.000)\"\n",
       "                ],\n",
       "                [\n",
       "                    0.8549019607843137,\n",
       "                    \"rgba(250, 192, 38, 1.000)\"\n",
       "                ],\n",
       "                [\n",
       "                    0.8588235294117647,\n",
       "                    \"rgba(250, 194, 40, 1.000)\"\n",
       "                ],\n",
       "                [\n",
       "                    0.8627450980392157,\n",
       "                    \"rgba(250, 196, 42, 1.000)\"\n",
       "                ],\n",
       "                [\n",
       "                    0.8666666666666667,\n",
       "                    \"rgba(250, 198, 45, 1.000)\"\n",
       "                ],\n",
       "                [\n",
       "                    0.8705882352941177,\n",
       "                    \"rgba(249, 199, 47, 1.000)\"\n",
       "                ],\n",
       "                [\n",
       "                    0.8745098039215686,\n",
       "                    \"rgba(249, 201, 50, 1.000)\"\n",
       "                ],\n",
       "                [\n",
       "                    0.8784313725490196,\n",
       "                    \"rgba(249, 203, 53, 1.000)\"\n",
       "                ],\n",
       "                [\n",
       "                    0.8823529411764706,\n",
       "                    \"rgba(248, 205, 55, 1.000)\"\n",
       "                ],\n",
       "                [\n",
       "                    0.8862745098039215,\n",
       "                    \"rgba(248, 207, 58, 1.000)\"\n",
       "                ],\n",
       "                [\n",
       "                    0.8901960784313725,\n",
       "                    \"rgba(247, 209, 61, 1.000)\"\n",
       "                ],\n",
       "                [\n",
       "                    0.8941176470588236,\n",
       "                    \"rgba(247, 211, 64, 1.000)\"\n",
       "                ],\n",
       "                [\n",
       "                    0.8980392156862745,\n",
       "                    \"rgba(246, 213, 67, 1.000)\"\n",
       "                ],\n",
       "                [\n",
       "                    0.9019607843137255,\n",
       "                    \"rgba(246, 215, 70, 1.000)\"\n",
       "                ],\n",
       "                [\n",
       "                    0.9058823529411765,\n",
       "                    \"rgba(245, 217, 73, 1.000)\"\n",
       "                ],\n",
       "                [\n",
       "                    0.9098039215686274,\n",
       "                    \"rgba(245, 219, 76, 1.000)\"\n",
       "                ],\n",
       "                [\n",
       "                    0.9137254901960784,\n",
       "                    \"rgba(244, 221, 79, 1.000)\"\n",
       "                ],\n",
       "                [\n",
       "                    0.9176470588235294,\n",
       "                    \"rgba(244, 223, 83, 1.000)\"\n",
       "                ],\n",
       "                [\n",
       "                    0.9215686274509803,\n",
       "                    \"rgba(244, 225, 86, 1.000)\"\n",
       "                ],\n",
       "                [\n",
       "                    0.9254901960784314,\n",
       "                    \"rgba(243, 227, 90, 1.000)\"\n",
       "                ],\n",
       "                [\n",
       "                    0.9294117647058824,\n",
       "                    \"rgba(243, 229, 93, 1.000)\"\n",
       "                ],\n",
       "                [\n",
       "                    0.9333333333333333,\n",
       "                    \"rgba(242, 230, 97, 1.000)\"\n",
       "                ],\n",
       "                [\n",
       "                    0.9372549019607843,\n",
       "                    \"rgba(242, 232, 101, 1.000)\"\n",
       "                ],\n",
       "                [\n",
       "                    0.9411764705882353,\n",
       "                    \"rgba(242, 234, 105, 1.000)\"\n",
       "                ],\n",
       "                [\n",
       "                    0.9450980392156862,\n",
       "                    \"rgba(241, 236, 109, 1.000)\"\n",
       "                ],\n",
       "                [\n",
       "                    0.9490196078431372,\n",
       "                    \"rgba(241, 237, 113, 1.000)\"\n",
       "                ],\n",
       "                [\n",
       "                    0.9529411764705882,\n",
       "                    \"rgba(241, 239, 117, 1.000)\"\n",
       "                ],\n",
       "                [\n",
       "                    0.9568627450980393,\n",
       "                    \"rgba(241, 241, 121, 1.000)\"\n",
       "                ],\n",
       "                [\n",
       "                    0.9607843137254902,\n",
       "                    \"rgba(242, 242, 125, 1.000)\"\n",
       "                ],\n",
       "                [\n",
       "                    0.9647058823529412,\n",
       "                    \"rgba(242, 244, 130, 1.000)\"\n",
       "                ],\n",
       "                [\n",
       "                    0.9686274509803922,\n",
       "                    \"rgba(243, 245, 134, 1.000)\"\n",
       "                ],\n",
       "                [\n",
       "                    0.9725490196078431,\n",
       "                    \"rgba(243, 246, 138, 1.000)\"\n",
       "                ],\n",
       "                [\n",
       "                    0.9764705882352941,\n",
       "                    \"rgba(244, 248, 142, 1.000)\"\n",
       "                ],\n",
       "                [\n",
       "                    0.9803921568627451,\n",
       "                    \"rgba(245, 249, 146, 1.000)\"\n",
       "                ],\n",
       "                [\n",
       "                    0.984313725490196,\n",
       "                    \"rgba(246, 250, 150, 1.000)\"\n",
       "                ],\n",
       "                [\n",
       "                    0.9882352941176471,\n",
       "                    \"rgba(248, 251, 154, 1.000)\"\n",
       "                ],\n",
       "                [\n",
       "                    0.9921568627450981,\n",
       "                    \"rgba(249, 252, 157, 1.000)\"\n",
       "                ],\n",
       "                [\n",
       "                    0.996078431372549,\n",
       "                    \"rgba(250, 253, 161, 1.000)\"\n",
       "                ],\n",
       "                [\n",
       "                    1.0,\n",
       "                    \"rgba(252, 255, 164, 1.000)\"\n",
       "                ]\n",
       "            ],\n",
       "            \"cmax\": 40.0,\n",
       "            \"showscale\": true\n",
       "        },\n",
       "        \"zmax\": 40.0,\n",
       "        \"y\": [\n",
       "            -0.8501054811112287\n",
       "        ],\n",
       "        \"type\": \"scatter3d\",\n",
       "        \"scene\": \"scene\",\n",
       "        \"hoverinfo\": \"none\"\n",
       "    },\n",
       "    {\n",
       "        \"xaxis\": \"x\",\n",
       "        \"colorbar\": {\n",
       "            \"title\": \"\"\n",
       "        },\n",
       "        \"yaxis\": \"y\",\n",
       "        \"zaxis\": \"z\",\n",
       "        \"x\": [\n",
       "            2.025158221666843,\n",
       "            1.6277434512819238,\n",
       "            1.273726775744522,\n",
       "            0.9616212140899659,\n",
       "            0.6899397853535844,\n",
       "            0.45719550857070557,\n",
       "            0.26190140277665874,\n",
       "            0.10257048700677254,\n",
       "            -0.02228421970362461,\n",
       "            -0.11414969831920373,\n",
       "            -0.17451292980463629,\n",
       "            -0.20486089512459352,\n",
       "            -0.20668057524374656,\n",
       "            -0.1814589511267669,\n",
       "            -0.13068300373832598,\n",
       "            -0.05583971404309446,\n",
       "            0.04154084679638708,\n",
       "            0.15825347617544153,\n",
       "            0.28891691649703205,\n",
       "            0.42800448074631664,\n",
       "            0.5699894819084522,\n",
       "            0.7093452329685972,\n",
       "            0.8405450469119069,\n",
       "            0.9580622367235405,\n",
       "            1.0565081180947749,\n",
       "            1.1325589360973645,\n",
       "            1.1844805225291188,\n",
       "            1.2105795988785522,\n",
       "            1.209162886634178,\n",
       "            1.1785371072845097,\n",
       "            1.117008982318061,\n",
       "            1.0228852332233456,\n",
       "            0.8944725814888764,\n",
       "            0.7300777486031691,\n",
       "            0.5280074560547341,\n",
       "            0.2865684253320885,\n",
       "            0.004067377923744009,\n",
       "            -0.3211889646817853,\n",
       "            -0.6908938809959884,\n",
       "            -1.1067406495303502\n",
       "        ],\n",
       "        \"showlegend\": true,\n",
       "        \"mode\": \"lines\",\n",
       "        \"name\": \"y2\",\n",
       "        \"zmin\": 1.0,\n",
       "        \"legendgroup\": \"y2\",\n",
       "        \"z\": [\n",
       "            -0.8878130628619649,\n",
       "            -0.3736980086540108,\n",
       "            0.03864807968284975,\n",
       "            0.35785864766909153,\n",
       "            0.5925671408251882,\n",
       "            0.7514070046716145,\n",
       "            0.8430116847288449,\n",
       "            0.8760146265173531,\n",
       "            0.8590492755576141,\n",
       "            0.8007490773701023,\n",
       "            0.7097474774752915,\n",
       "            0.5946779213936566,\n",
       "            0.4641738546456715,\n",
       "            0.3268687227518108,\n",
       "            0.19139597123254956,\n",
       "            0.06638904560836045,\n",
       "            -0.039601028002417216,\n",
       "            -0.1212272777395023,\n",
       "            -0.17730491155050648,\n",
       "            -0.2069273028652523,\n",
       "            -0.20918782511356193,\n",
       "            -0.18317985172525775,\n",
       "            -0.1279967561301621,\n",
       "            -0.04273191175809718,\n",
       "            0.07310829183897886,\n",
       "            0.21383752017048455,\n",
       "            0.36901210489456887,\n",
       "            0.5280660025220838,\n",
       "            0.6804331695638818,\n",
       "            0.8155475625308124,\n",
       "            0.9228431379337269,\n",
       "            0.9917538522834752,\n",
       "            1.01171366209091,\n",
       "            0.9721565238668821,\n",
       "            0.8625163941222413,\n",
       "            0.6722272293678411,\n",
       "            0.39072298611453127,\n",
       "            0.007437620873163686,\n",
       "            -0.4881949098454144,\n",
       "            -1.1067406495303502\n",
       "        ],\n",
       "        \"zmax\": 40.0,\n",
       "        \"line\": {\n",
       "            \"color\": \"rgba(0, 0, 0, 1.000)\",\n",
       "            \"shape\": \"linear\",\n",
       "            \"dash\": \"solid\",\n",
       "            \"width\": 2\n",
       "        },\n",
       "        \"y\": [\n",
       "            -0.8501054811112287,\n",
       "            -0.4632006894785227,\n",
       "            -0.1520843760810626,\n",
       "            0.08991685877640157,\n",
       "            0.2694764147891192,\n",
       "            0.39326769165234,\n",
       "            0.46796408906131365,\n",
       "            0.5002390067112894,\n",
       "            0.49676584429751786,\n",
       "            0.46421800151524784,\n",
       "            0.4092688780597293,\n",
       "            0.33859187362621196,\n",
       "            0.25886038790994514,\n",
       "            0.17674782060617863,\n",
       "            0.09892757141016274,\n",
       "            0.03207304001714607,\n",
       "            -0.01725252673806281,\n",
       "            -0.04676807447033393,\n",
       "            -0.05975526824685133,\n",
       "            -0.05986753903879051,\n",
       "            -0.050758317817326655,\n",
       "            -0.036081035553635094,\n",
       "            -0.01948912321889132,\n",
       "            -0.004636011784270613,\n",
       "            0.005014659897014522,\n",
       "            0.008839105403491516,\n",
       "            0.008399662339111474,\n",
       "            0.005314903009444082,\n",
       "            0.0012033997200589994,\n",
       "            -0.0023162752234740305,\n",
       "            -0.0036255495155853093,\n",
       "            -0.0011058508507051437,\n",
       "            0.006861393076736201,\n",
       "            0.021894754572308273,\n",
       "            0.045612805941581056,\n",
       "            0.07963411949012385,\n",
       "            0.1255772675235065,\n",
       "            0.18506082234729865,\n",
       "            0.25970335626707053,\n",
       "            0.35112344158839165\n",
       "        ],\n",
       "        \"type\": \"scatter3d\",\n",
       "        \"scene\": \"scene\"\n",
       "    }\n",
       "]\n",
       ", {\n",
       "    \"showlegend\": true,\n",
       "    \"paper_bgcolor\": \"rgba(255, 255, 255, 1.000)\",\n",
       "    \"annotations\": [],\n",
       "    \"height\": 400,\n",
       "    \"margin\": {\n",
       "        \"l\": 0,\n",
       "        \"b\": 20,\n",
       "        \"r\": 0,\n",
       "        \"t\": 20\n",
       "    },\n",
       "    \"plot_bgcolor\": \"rgba(255, 255, 255, 1.000)\",\n",
       "    \"scene\": {\n",
       "        \"camera\": {\n",
       "            \"eye\": {\n",
       "                \"y\": -1.9499999999999997,\n",
       "                \"z\": 1.3,\n",
       "                \"x\": 1.12583302491977\n",
       "            }\n",
       "        },\n",
       "        \"xaxis\": {\n",
       "            \"tickangle\": 0,\n",
       "            \"showline\": true,\n",
       "            \"gridcolor\": \"rgba(0, 0, 0, 0.100)\",\n",
       "            \"showticklabels\": true,\n",
       "            \"gridwidth\": 0.5,\n",
       "            \"titlefont\": {\n",
       "                \"color\": \"rgba(0, 0, 0, 1.000)\",\n",
       "                \"family\": \"sans-serif\",\n",
       "                \"size\": 15\n",
       "            },\n",
       "            \"visible\": true,\n",
       "            \"ticks\": \"inside\",\n",
       "            \"range\": [\n",
       "                -1.200697615666266,\n",
       "                2.1191151878027585\n",
       "            ],\n",
       "            \"tickmode\": \"array\",\n",
       "            \"tickvals\": [\n",
       "                -1.0,\n",
       "                0.0,\n",
       "                1.0,\n",
       "                2.0\n",
       "            ],\n",
       "            \"tickcolor\": \"rgb(0, 0, 0)\",\n",
       "            \"ticktext\": [\n",
       "                \"-1\",\n",
       "                \"0\",\n",
       "                \"1\",\n",
       "                \"2\"\n",
       "            ],\n",
       "            \"linecolor\": \"rgba(0, 0, 0, 1.000)\",\n",
       "            \"showgrid\": true,\n",
       "            \"zeroline\": false,\n",
       "            \"type\": \"-\",\n",
       "            \"tickfont\": {\n",
       "                \"color\": \"rgba(0, 0, 0, 1.000)\",\n",
       "                \"family\": \"sans-serif\",\n",
       "                \"size\": 11\n",
       "            },\n",
       "            \"title\": \"x\",\n",
       "            \"zerolinecolor\": \"rgba(0, 0, 0, 1.000)\",\n",
       "            \"mirror\": false\n",
       "        },\n",
       "        \"domain\": {\n",
       "            \"y\": [\n",
       "                0.07581474190726165,\n",
       "                0.9901574803149606\n",
       "            ],\n",
       "            \"x\": [\n",
       "                0.09128390201224845,\n",
       "                0.9934383202099738\n",
       "            ]\n",
       "        },\n",
       "        \"yaxis\": {\n",
       "            \"tickangle\": 0,\n",
       "            \"showline\": true,\n",
       "            \"gridcolor\": \"rgba(0, 0, 0, 0.100)\",\n",
       "            \"showticklabels\": true,\n",
       "            \"gridwidth\": 0.5,\n",
       "            \"titlefont\": {\n",
       "                \"color\": \"rgba(0, 0, 0, 1.000)\",\n",
       "                \"family\": \"sans-serif\",\n",
       "                \"size\": 15\n",
       "            },\n",
       "            \"visible\": true,\n",
       "            \"ticks\": \"inside\",\n",
       "            \"range\": [\n",
       "                -0.8906158157459043,\n",
       "                0.540749341345965\n",
       "            ],\n",
       "            \"tickmode\": \"array\",\n",
       "            \"tickvals\": [\n",
       "                -0.6000000000000001,\n",
       "                -0.30000000000000004,\n",
       "                0.0,\n",
       "                0.30000000000000004\n",
       "            ],\n",
       "            \"tickcolor\": \"rgb(0, 0, 0)\",\n",
       "            \"ticktext\": [\n",
       "                \"-0.6\",\n",
       "                \"-0.3\",\n",
       "                \"0.0\",\n",
       "                \"0.3\"\n",
       "            ],\n",
       "            \"linecolor\": \"rgba(0, 0, 0, 1.000)\",\n",
       "            \"showgrid\": true,\n",
       "            \"zeroline\": false,\n",
       "            \"type\": \"-\",\n",
       "            \"tickfont\": {\n",
       "                \"color\": \"rgba(0, 0, 0, 1.000)\",\n",
       "                \"family\": \"sans-serif\",\n",
       "                \"size\": 11\n",
       "            },\n",
       "            \"title\": \"y\",\n",
       "            \"zerolinecolor\": \"rgba(0, 0, 0, 1.000)\",\n",
       "            \"mirror\": false\n",
       "        },\n",
       "        \"zaxis\": {\n",
       "            \"tickangle\": 0,\n",
       "            \"showline\": true,\n",
       "            \"gridcolor\": \"rgba(0, 0, 0, 0.100)\",\n",
       "            \"showticklabels\": true,\n",
       "            \"gridwidth\": 0.5,\n",
       "            \"titlefont\": {\n",
       "                \"color\": \"rgba(0, 0, 0, 1.000)\",\n",
       "                \"family\": \"sans-serif\",\n",
       "                \"size\": 15\n",
       "            },\n",
       "            \"visible\": true,\n",
       "            \"ticks\": \"inside\",\n",
       "            \"range\": [\n",
       "                -1.170294278878988,\n",
       "                1.0752672914395478\n",
       "            ],\n",
       "            \"tickmode\": \"array\",\n",
       "            \"tickvals\": [\n",
       "                -1.0,\n",
       "                -0.5,\n",
       "                0.0,\n",
       "                0.5,\n",
       "                1.0\n",
       "            ],\n",
       "            \"tickcolor\": \"rgb(0, 0, 0)\",\n",
       "            \"ticktext\": [\n",
       "                \"-1.0\",\n",
       "                \"-0.5\",\n",
       "                \"0.0\",\n",
       "                \"0.5\",\n",
       "                \"1.0\"\n",
       "            ],\n",
       "            \"linecolor\": \"rgba(0, 0, 0, 1.000)\",\n",
       "            \"showgrid\": true,\n",
       "            \"zeroline\": false,\n",
       "            \"type\": \"-\",\n",
       "            \"tickfont\": {\n",
       "                \"color\": \"rgba(0, 0, 0, 1.000)\",\n",
       "                \"family\": \"sans-serif\",\n",
       "                \"size\": 11\n",
       "            },\n",
       "            \"title\": \"z\",\n",
       "            \"zerolinecolor\": \"rgba(0, 0, 0, 1.000)\",\n",
       "            \"mirror\": false\n",
       "        }\n",
       "    },\n",
       "    \"legend\": {\n",
       "        \"yanchor\": \"auto\",\n",
       "        \"xanchor\": \"auto\",\n",
       "        \"bordercolor\": \"rgba(0, 0, 0, 1.000)\",\n",
       "        \"bgcolor\": \"rgba(255, 255, 255, 1.000)\",\n",
       "        \"borderwidth\": 1,\n",
       "        \"tracegroupgap\": 0,\n",
       "        \"y\": 1.0,\n",
       "        \"font\": {\n",
       "            \"color\": \"rgba(0, 0, 0, 1.000)\",\n",
       "            \"family\": \"sans-serif\",\n",
       "            \"size\": 11\n",
       "        },\n",
       "        \"title\": {\n",
       "            \"font\": {\n",
       "                \"color\": \"rgba(0, 0, 0, 1.000)\",\n",
       "                \"family\": \"sans-serif\",\n",
       "                \"size\": 15\n",
       "            },\n",
       "            \"text\": \"\"\n",
       "        },\n",
       "        \"traceorder\": \"normal\",\n",
       "        \"x\": 1.0\n",
       "    },\n",
       "    \"width\": 600\n",
       "}\n",
       ");\n",
       "\n",
       "    });\n",
       "    </script>\n"
      ]
     },
     "metadata": {},
     "output_type": "display_data"
    }
   ],
   "source": [
    "p = plot()\n",
    "plotChainSeries!(altQ)\n",
    "display(p)"
   ]
  },
  {
   "cell_type": "code",
   "execution_count": null,
   "metadata": {},
   "outputs": [],
   "source": []
  }
 ],
 "metadata": {
  "kernelspec": {
   "display_name": "Julia 1.6.1",
   "language": "julia",
   "name": "julia-1.6"
  },
  "language_info": {
   "file_extension": ".jl",
   "mimetype": "application/julia",
   "name": "julia",
   "version": "1.6.1"
  },
  "orig_nbformat": 4
 },
 "nbformat": 4,
 "nbformat_minor": 2
}
