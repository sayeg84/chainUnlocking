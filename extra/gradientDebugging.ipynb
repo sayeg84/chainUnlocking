{
 "cells": [
  {
   "cell_type": "code",
   "execution_count": 1,
   "metadata": {},
   "outputs": [
    {
     "data": {
      "text/html": [
       "<script>\n",
       "// Immediately-invoked-function-expression to avoid global variables.\n",
       "(function() {\n",
       "    var warning_div = document.getElementById(\"webio-warning-332857450792714125\");\n",
       "    var hide = function () {\n",
       "        var script = document.getElementById(\"webio-setup-5238542748714895222\");\n",
       "        var parent = script && script.parentElement;\n",
       "        var grandparent = parent && parent.parentElement;\n",
       "        if (grandparent) {\n",
       "            grandparent.style.display = \"none\";\n",
       "        }\n",
       "        warning_div.style.display = \"none\";\n",
       "    };\n",
       "    if (typeof Jupyter !== \"undefined\") {\n",
       "        console.log(\"WebIO detected Jupyter notebook environment.\");\n",
       "        // Jupyter notebook.\n",
       "        var extensions = (\n",
       "            Jupyter\n",
       "            && Jupyter.notebook.config.data\n",
       "            && Jupyter.notebook.config.data.load_extensions\n",
       "        );\n",
       "        if (extensions && extensions[\"webio-jupyter-notebook\"]) {\n",
       "            // Extension already loaded.\n",
       "            console.log(\"Jupyter WebIO nbextension detected; not loading ad-hoc.\");\n",
       "            hide();\n",
       "            return;\n",
       "        }\n",
       "    } else if (window.location.pathname.includes(\"/lab\")) {\n",
       "        // Guessing JupyterLa\n",
       "        console.log(\"Jupyter Lab detected; make sure the @webio/jupyter-lab-provider labextension is installed.\");\n",
       "        hide();\n",
       "        return;\n",
       "    }\n",
       "})();\n",
       "\n",
       "</script>\n",
       "<p\n",
       "    id=\"webio-warning-332857450792714125\"\n",
       "    class=\"output_text output_stderr\"\n",
       "    style=\"padding: 1em; font-weight: bold;\"\n",
       ">\n",
       "    Unable to load WebIO. Please make sure WebIO works for your Jupyter client.\n",
       "    For troubleshooting, please see <a href=\"https://juliagizmos.github.io/WebIO.jl/latest/providers/ijulia/\">\n",
       "    the WebIO/IJulia documentation</a>.\n",
       "    <!-- TODO: link to installation docs. -->\n",
       "</p>\n"
      ],
      "text/plain": [
       "HTML{String}(\"<script>\\n// Immediately-invoked-function-expression to avoid global variables.\\n(function() {\\n    var warning_div = document.getElementById(\\\"webio-warning-332857450792714125\\\");\\n    var hide = function () {\\n        var script = document.getElementById(\\\"webio-setup-5238542748714895222\\\");\\n        var parent = script && script.parentElement;\\n        var grandparent = parent && parent.parentElement;\\n        if (grandparent) {\\n            grandparent.style.display = \\\"none\\\";\\n        }\\n        warning_div.style.display = \\\"none\\\";\\n    };\\n    if (typeof Jupyter !== \\\"undefined\\\") {\\n        console.log(\\\"WebIO detected Jupyter notebook environment.\\\");\\n        // Jupyter notebook.\\n        var extensions = (\\n            Jupyter\\n            && Jupyter.notebook.config.data\\n            && Jupyter.notebook.config.data.load_extensions\\n        );\\n        if (extensions && extensions[\\\"webio-jupyter-notebook\\\"]) {\\n            // Extension already loaded.\\n            console.log(\\\"Jupyter WebIO nbextension detected; not loading ad-hoc.\\\");\\n            hide();\\n            return;\\n        }\\n    } else if (window.location.pathname.includes(\\\"/lab\\\")) {\\n        // Guessing JupyterLa\\n        console.log(\\\"Jupyter Lab detected; make sure the @webio/jupyter-lab-provider labextension is installed.\\\");\\n        hide();\\n        return;\\n    }\\n})();\\n\\n</script>\\n<p\\n    id=\\\"webio-warning-332857450792714125\\\"\\n    class=\\\"output_text output_stderr\\\"\\n    style=\\\"padding: 1em; font-weight: bold;\\\"\\n>\\n    Unable to load WebIO. Please make sure WebIO works for your Jupyter client.\\n    For troubleshooting, please see <a href=\\\"https://juliagizmos.github.io/WebIO.jl/latest/providers/ijulia/\\\">\\n    the WebIO/IJulia documentation</a>.\\n    <!-- TODO: link to installation docs. -->\\n</p>\\n\")"
      ]
     },
     "metadata": {},
     "output_type": "display_data"
    },
    {
     "data": {
      "application/vnd.plotly.v1+json": {
       "data": [
        {
         "colorbar": {
          "title": {
           "text": ""
          }
         },
         "legendgroup": "y1",
         "marker": {
          "color": "rgba(102, 0, 102, 0.500)",
          "line": {
           "color": "rgba(0, 0, 0, 0.5)",
           "width": 1
          },
          "size": 8,
          "symbol": "circle"
         },
         "mode": "markers",
         "name": "y1",
         "scene": "scene",
         "showlegend": true,
         "type": "scatter3d",
         "x": [
          1
         ],
         "xaxis": "x",
         "y": [
          1
         ],
         "yaxis": "y",
         "z": [
          1
         ],
         "zaxis": "z",
         "zmax": 10,
         "zmin": 1
        },
        {
         "colorbar": {
          "title": {
           "text": ""
          }
         },
         "legendgroup": "y1",
         "marker": {
          "color": "rgba(57, 0, 159, 0.500)",
          "line": {
           "color": "rgba(0, 0, 0, 0.5)",
           "width": 1
          },
          "size": 8,
          "symbol": "circle"
         },
         "mode": "markers",
         "name": "y1",
         "scene": "scene",
         "showlegend": false,
         "type": "scatter3d",
         "x": [
          2
         ],
         "xaxis": "x",
         "y": [
          2
         ],
         "yaxis": "y",
         "z": [
          2
         ],
         "zaxis": "z",
         "zmax": 10,
         "zmin": 1
        },
        {
         "colorbar": {
          "title": {
           "text": ""
          }
         },
         "legendgroup": "y1",
         "marker": {
          "color": "rgba(11, 0, 215, 0.500)",
          "line": {
           "color": "rgba(0, 0, 0, 0.5)",
           "width": 1
          },
          "size": 8,
          "symbol": "circle"
         },
         "mode": "markers",
         "name": "y1",
         "scene": "scene",
         "showlegend": false,
         "type": "scatter3d",
         "x": [
          3
         ],
         "xaxis": "x",
         "y": [
          3
         ],
         "yaxis": "y",
         "z": [
          3
         ],
         "zaxis": "z",
         "zmax": 10,
         "zmin": 1
        },
        {
         "colorbar": {
          "title": {
           "text": ""
          }
         },
         "legendgroup": "y1",
         "marker": {
          "color": "rgba(0, 34, 153, 0.500)",
          "line": {
           "color": "rgba(0, 0, 0, 0.5)",
           "width": 1
          },
          "size": 8,
          "symbol": "circle"
         },
         "mode": "markers",
         "name": "y1",
         "scene": "scene",
         "showlegend": false,
         "type": "scatter3d",
         "x": [
          4
         ],
         "xaxis": "x",
         "y": [
          4
         ],
         "yaxis": "y",
         "z": [
          4
         ],
         "zaxis": "z",
         "zmax": 10,
         "zmin": 1
        },
        {
         "colorbar": {
          "title": {
           "text": ""
          }
         },
         "legendgroup": "y1",
         "marker": {
          "color": "rgba(0, 80, 51, 0.500)",
          "line": {
           "color": "rgba(0, 0, 0, 0.5)",
           "width": 1
          },
          "size": 8,
          "symbol": "circle"
         },
         "mode": "markers",
         "name": "y1",
         "scene": "scene",
         "showlegend": false,
         "type": "scatter3d",
         "x": [
          5
         ],
         "xaxis": "x",
         "y": [
          5
         ],
         "yaxis": "y",
         "z": [
          5
         ],
         "zaxis": "z",
         "zmax": 10,
         "zmin": 1
        },
        {
         "colorbar": {
          "title": {
           "text": ""
          }
         },
         "legendgroup": "y1",
         "marker": {
          "color": "rgba(51, 111, 0, 0.500)",
          "line": {
           "color": "rgba(0, 0, 0, 0.5)",
           "width": 1
          },
          "size": 8,
          "symbol": "circle"
         },
         "mode": "markers",
         "name": "y1",
         "scene": "scene",
         "showlegend": false,
         "type": "scatter3d",
         "x": [
          6
         ],
         "xaxis": "x",
         "y": [
          6
         ],
         "yaxis": "y",
         "z": [
          6
         ],
         "zaxis": "z",
         "zmax": 10,
         "zmin": 1
        },
        {
         "colorbar": {
          "title": {
           "text": ""
          }
         },
         "legendgroup": "y1",
         "marker": {
          "color": "rgba(153, 127, 0, 0.500)",
          "line": {
           "color": "rgba(0, 0, 0, 0.5)",
           "width": 1
          },
          "size": 8,
          "symbol": "circle"
         },
         "mode": "markers",
         "name": "y1",
         "scene": "scene",
         "showlegend": false,
         "type": "scatter3d",
         "x": [
          7
         ],
         "xaxis": "x",
         "y": [
          7
         ],
         "yaxis": "y",
         "z": [
          7
         ],
         "zaxis": "z",
         "zmax": 10,
         "zmin": 1
        },
        {
         "colorbar": {
          "title": {
           "text": ""
          }
         },
         "legendgroup": "y1",
         "marker": {
          "color": "rgba(230, 124, 0, 0.500)",
          "line": {
           "color": "rgba(0, 0, 0, 0.5)",
           "width": 1
          },
          "size": 8,
          "symbol": "circle"
         },
         "mode": "markers",
         "name": "y1",
         "scene": "scene",
         "showlegend": false,
         "type": "scatter3d",
         "x": [
          8
         ],
         "xaxis": "x",
         "y": [
          8
         ],
         "yaxis": "y",
         "z": [
          8
         ],
         "zaxis": "z",
         "zmax": 10,
         "zmin": 1
        },
        {
         "colorbar": {
          "title": {
           "text": ""
          }
         },
         "legendgroup": "y1",
         "marker": {
          "color": "rgba(230, 62, 0, 0.500)",
          "line": {
           "color": "rgba(0, 0, 0, 0.5)",
           "width": 1
          },
          "size": 8,
          "symbol": "circle"
         },
         "mode": "markers",
         "name": "y1",
         "scene": "scene",
         "showlegend": false,
         "type": "scatter3d",
         "x": [
          9
         ],
         "xaxis": "x",
         "y": [
          9
         ],
         "yaxis": "y",
         "z": [
          9
         ],
         "zaxis": "z",
         "zmax": 10,
         "zmin": 1
        },
        {
         "colorbar": {
          "title": {
           "text": ""
          }
         },
         "legendgroup": "y1",
         "marker": {
          "color": "rgba(230, 0, 0, 0.500)",
          "line": {
           "color": "rgba(0, 0, 0, 0.5)",
           "width": 1
          },
          "size": 8,
          "symbol": "circle"
         },
         "mode": "markers",
         "name": "y1",
         "scene": "scene",
         "showlegend": false,
         "type": "scatter3d",
         "x": [
          10
         ],
         "xaxis": "x",
         "y": [
          10
         ],
         "yaxis": "y",
         "z": [
          10
         ],
         "zaxis": "z",
         "zmax": 10,
         "zmin": 1
        },
        {
         "colorbar": {
          "title": {
           "text": ""
          }
         },
         "hoverinfo": "none",
         "marker": {
          "cmax": 10,
          "cmin": 1,
          "color": [
           0.5
          ],
          "colorscale": [
           [
            0,
            "rgba(102, 0, 102, 1.000)"
           ],
           [
            0.25,
            "rgba(0, 0, 230, 1.000)"
           ],
           [
            0.5,
            "rgba(0, 102, 0, 1.000)"
           ],
           [
            0.75,
            "rgba(230, 140, 0, 1.000)"
           ],
           [
            1,
            "rgba(230, 0, 0, 1.000)"
           ]
          ],
          "opacity": 1e-10,
          "showscale": true,
          "size": 1e-10
         },
         "mode": "markers",
         "name": "y1",
         "scene": "scene",
         "showlegend": false,
         "type": "scatter3d",
         "x": [
          1
         ],
         "xaxis": "x",
         "y": [
          1
         ],
         "yaxis": "y",
         "z": [
          1
         ],
         "zaxis": "z",
         "zmax": 10,
         "zmin": 1
        }
       ],
       "layout": {
        "annotations": [],
        "height": 400,
        "legend": {
         "bgcolor": "rgba(255, 255, 255, 1.000)",
         "bordercolor": "rgba(0, 0, 0, 1)",
         "borderwidth": 1,
         "font": {
          "color": "rgba(0, 0, 0, 1)",
          "family": "sans-serif",
          "size": 11
         },
         "title": {
          "font": {
           "color": "rgba(0, 0, 0, 1)",
           "family": "sans-serif",
           "size": 15
          },
          "text": ""
         },
         "tracegroupgap": 0,
         "traceorder": "normal",
         "x": 1,
         "xanchor": "auto",
         "y": 1,
         "yanchor": "auto"
        },
        "margin": {
         "b": 20,
         "l": 0,
         "r": 0,
         "t": 20
        },
        "paper_bgcolor": "rgba(255, 255, 255, 1.000)",
        "plot_bgcolor": "rgba(255, 255, 255, 1.000)",
        "scene": {
         "aspectmode": "auto",
         "aspectratio": {
          "x": 1.0000000000000002,
          "y": 1.0000000000000002,
          "z": 1.0000000000000002
         },
         "camera": {
          "center": {
           "x": -0.05168934757234805,
           "y": -0.09898852352082788,
           "z": -0.10371849717854492
          },
          "eye": {
           "x": -1.9570161968513402,
           "y": -1.0283773569651316,
           "z": -0.49310768357313983
          },
          "projection": {
           "type": "perspective"
          },
          "up": {
           "x": 0,
           "y": 0,
           "z": 1
          }
         },
         "domain": {
          "x": [
           0.03619130941965587,
           0.9934383202099738
          ],
          "y": [
           0.03762029746281716,
           0.9901574803149606
          ]
         },
         "xaxis": {
          "gridcolor": "rgba(0, 0, 0, 0.1)",
          "gridwidth": 0.5,
          "linecolor": "rgba(0, 0, 0, 1)",
          "mirror": false,
          "range": [
           0.73,
           10.27
          ],
          "showgrid": true,
          "showline": true,
          "showticklabels": true,
          "tickangle": 0,
          "tickcolor": "rgb(0, 0, 0)",
          "tickfont": {
           "color": "rgba(0, 0, 0, 1)",
           "family": "sans-serif",
           "size": 11
          },
          "tickmode": "array",
          "ticks": "inside",
          "ticktext": [
           "2",
           "4",
           "6",
           "8",
           "10"
          ],
          "tickvals": [
           2,
           4,
           6,
           8,
           10
          ],
          "title": {
           "font": {
            "color": "rgba(0, 0, 0, 1)",
            "family": "sans-serif",
            "size": 15
           },
           "text": ""
          },
          "type": "linear",
          "visible": true,
          "zeroline": false,
          "zerolinecolor": "rgba(0, 0, 0, 1)"
         },
         "yaxis": {
          "gridcolor": "rgba(0, 0, 0, 0.1)",
          "gridwidth": 0.5,
          "linecolor": "rgba(0, 0, 0, 1)",
          "mirror": false,
          "range": [
           0.73,
           10.27
          ],
          "showgrid": true,
          "showline": true,
          "showticklabels": true,
          "tickangle": 0,
          "tickcolor": "rgb(0, 0, 0)",
          "tickfont": {
           "color": "rgba(0, 0, 0, 1)",
           "family": "sans-serif",
           "size": 11
          },
          "tickmode": "array",
          "ticks": "inside",
          "ticktext": [
           "2",
           "4",
           "6",
           "8",
           "10"
          ],
          "tickvals": [
           2,
           4,
           6,
           8,
           10
          ],
          "title": {
           "font": {
            "color": "rgba(0, 0, 0, 1)",
            "family": "sans-serif",
            "size": 15
           },
           "text": ""
          },
          "type": "linear",
          "visible": true,
          "zeroline": false,
          "zerolinecolor": "rgba(0, 0, 0, 1)"
         },
         "zaxis": {
          "gridcolor": "rgba(0, 0, 0, 0.1)",
          "gridwidth": 0.5,
          "linecolor": "rgba(0, 0, 0, 1)",
          "mirror": false,
          "range": [
           0.73,
           10.27
          ],
          "showgrid": true,
          "showline": true,
          "showticklabels": true,
          "tickangle": 0,
          "tickcolor": "rgb(0, 0, 0)",
          "tickfont": {
           "color": "rgba(0, 0, 0, 1)",
           "family": "sans-serif",
           "size": 11
          },
          "tickmode": "array",
          "ticks": "inside",
          "ticktext": [
           "2",
           "4",
           "6",
           "8",
           "10"
          ],
          "tickvals": [
           2,
           4,
           6,
           8,
           10
          ],
          "title": {
           "font": {
            "color": "rgba(0, 0, 0, 1)",
            "family": "sans-serif",
            "size": 15
           },
           "text": ""
          },
          "type": "linear",
          "visible": true,
          "zeroline": false,
          "zerolinecolor": "rgba(0, 0, 0, 1)"
         }
        },
        "showlegend": true,
        "width": 600
       }
      },
      "image/png": "[encoded data removed]",
      "text/html": [
       "    <div id=\"f80212bf-0da9-4519-8f42-1f024545ce56\" style=\"width:600px;height:400px;\"></div>\n",
       "    <script>\n",
       "        requirejs.config({\n",
       "        paths: {\n",
       "            Plotly: 'https://cdn.plot.ly/plotly-1.57.1.min'\n",
       "        }\n",
       "    });\n",
       "    require(['Plotly'], function (Plotly) {\n",
       "\n",
       "        var PLOT = document.getElementById('f80212bf-0da9-4519-8f42-1f024545ce56');\n",
       "    Plotly.plot(PLOT, [\n",
       "    {\n",
       "        \"xaxis\": \"x\",\n",
       "        \"colorbar\": {\n",
       "            \"title\": \"\"\n",
       "        },\n",
       "        \"yaxis\": \"y\",\n",
       "        \"zaxis\": \"z\",\n",
       "        \"x\": [\n",
       "            1\n",
       "        ],\n",
       "        \"showlegend\": true,\n",
       "        \"mode\": \"markers\",\n",
       "        \"name\": \"y1\",\n",
       "        \"zmin\": 1.0,\n",
       "        \"legendgroup\": \"y1\",\n",
       "        \"z\": [\n",
       "            1\n",
       "        ],\n",
       "        \"marker\": {\n",
       "            \"symbol\": \"circle\",\n",
       "            \"color\": \"rgba(102, 0, 102, 0.500)\",\n",
       "            \"line\": {\n",
       "                \"color\": \"rgba(0, 0, 0, 0.500)\",\n",
       "                \"width\": 1\n",
       "            },\n",
       "            \"size\": 8\n",
       "        },\n",
       "        \"zmax\": 10.0,\n",
       "        \"y\": [\n",
       "            1\n",
       "        ],\n",
       "        \"type\": \"scatter3d\",\n",
       "        \"scene\": \"scene\"\n",
       "    },\n",
       "    {\n",
       "        \"xaxis\": \"x\",\n",
       "        \"colorbar\": {\n",
       "            \"title\": \"\"\n",
       "        },\n",
       "        \"yaxis\": \"y\",\n",
       "        \"zaxis\": \"z\",\n",
       "        \"x\": [\n",
       "            2\n",
       "        ],\n",
       "        \"showlegend\": false,\n",
       "        \"mode\": \"markers\",\n",
       "        \"name\": \"y1\",\n",
       "        \"zmin\": 1.0,\n",
       "        \"legendgroup\": \"y1\",\n",
       "        \"z\": [\n",
       "            2\n",
       "        ],\n",
       "        \"marker\": {\n",
       "            \"symbol\": \"circle\",\n",
       "            \"color\": \"rgba(57, 0, 159, 0.500)\",\n",
       "            \"line\": {\n",
       "                \"color\": \"rgba(0, 0, 0, 0.500)\",\n",
       "                \"width\": 1\n",
       "            },\n",
       "            \"size\": 8\n",
       "        },\n",
       "        \"zmax\": 10.0,\n",
       "        \"y\": [\n",
       "            2\n",
       "        ],\n",
       "        \"type\": \"scatter3d\",\n",
       "        \"scene\": \"scene\"\n",
       "    },\n",
       "    {\n",
       "        \"xaxis\": \"x\",\n",
       "        \"colorbar\": {\n",
       "            \"title\": \"\"\n",
       "        },\n",
       "        \"yaxis\": \"y\",\n",
       "        \"zaxis\": \"z\",\n",
       "        \"x\": [\n",
       "            3\n",
       "        ],\n",
       "        \"showlegend\": false,\n",
       "        \"mode\": \"markers\",\n",
       "        \"name\": \"y1\",\n",
       "        \"zmin\": 1.0,\n",
       "        \"legendgroup\": \"y1\",\n",
       "        \"z\": [\n",
       "            3\n",
       "        ],\n",
       "        \"marker\": {\n",
       "            \"symbol\": \"circle\",\n",
       "            \"color\": \"rgba(11, 0, 215, 0.500)\",\n",
       "            \"line\": {\n",
       "                \"color\": \"rgba(0, 0, 0, 0.500)\",\n",
       "                \"width\": 1\n",
       "            },\n",
       "            \"size\": 8\n",
       "        },\n",
       "        \"zmax\": 10.0,\n",
       "        \"y\": [\n",
       "            3\n",
       "        ],\n",
       "        \"type\": \"scatter3d\",\n",
       "        \"scene\": \"scene\"\n",
       "    },\n",
       "    {\n",
       "        \"xaxis\": \"x\",\n",
       "        \"colorbar\": {\n",
       "            \"title\": \"\"\n",
       "        },\n",
       "        \"yaxis\": \"y\",\n",
       "        \"zaxis\": \"z\",\n",
       "        \"x\": [\n",
       "            4\n",
       "        ],\n",
       "        \"showlegend\": false,\n",
       "        \"mode\": \"markers\",\n",
       "        \"name\": \"y1\",\n",
       "        \"zmin\": 1.0,\n",
       "        \"legendgroup\": \"y1\",\n",
       "        \"z\": [\n",
       "            4\n",
       "        ],\n",
       "        \"marker\": {\n",
       "            \"symbol\": \"circle\",\n",
       "            \"color\": \"rgba(0, 34, 153, 0.500)\",\n",
       "            \"line\": {\n",
       "                \"color\": \"rgba(0, 0, 0, 0.500)\",\n",
       "                \"width\": 1\n",
       "            },\n",
       "            \"size\": 8\n",
       "        },\n",
       "        \"zmax\": 10.0,\n",
       "        \"y\": [\n",
       "            4\n",
       "        ],\n",
       "        \"type\": \"scatter3d\",\n",
       "        \"scene\": \"scene\"\n",
       "    },\n",
       "    {\n",
       "        \"xaxis\": \"x\",\n",
       "        \"colorbar\": {\n",
       "            \"title\": \"\"\n",
       "        },\n",
       "        \"yaxis\": \"y\",\n",
       "        \"zaxis\": \"z\",\n",
       "        \"x\": [\n",
       "            5\n",
       "        ],\n",
       "        \"showlegend\": false,\n",
       "        \"mode\": \"markers\",\n",
       "        \"name\": \"y1\",\n",
       "        \"zmin\": 1.0,\n",
       "        \"legendgroup\": \"y1\",\n",
       "        \"z\": [\n",
       "            5\n",
       "        ],\n",
       "        \"marker\": {\n",
       "            \"symbol\": \"circle\",\n",
       "            \"color\": \"rgba(0, 80, 51, 0.500)\",\n",
       "            \"line\": {\n",
       "                \"color\": \"rgba(0, 0, 0, 0.500)\",\n",
       "                \"width\": 1\n",
       "            },\n",
       "            \"size\": 8\n",
       "        },\n",
       "        \"zmax\": 10.0,\n",
       "        \"y\": [\n",
       "            5\n",
       "        ],\n",
       "        \"type\": \"scatter3d\",\n",
       "        \"scene\": \"scene\"\n",
       "    },\n",
       "    {\n",
       "        \"xaxis\": \"x\",\n",
       "        \"colorbar\": {\n",
       "            \"title\": \"\"\n",
       "        },\n",
       "        \"yaxis\": \"y\",\n",
       "        \"zaxis\": \"z\",\n",
       "        \"x\": [\n",
       "            6\n",
       "        ],\n",
       "        \"showlegend\": false,\n",
       "        \"mode\": \"markers\",\n",
       "        \"name\": \"y1\",\n",
       "        \"zmin\": 1.0,\n",
       "        \"legendgroup\": \"y1\",\n",
       "        \"z\": [\n",
       "            6\n",
       "        ],\n",
       "        \"marker\": {\n",
       "            \"symbol\": \"circle\",\n",
       "            \"color\": \"rgba(51, 111, 0, 0.500)\",\n",
       "            \"line\": {\n",
       "                \"color\": \"rgba(0, 0, 0, 0.500)\",\n",
       "                \"width\": 1\n",
       "            },\n",
       "            \"size\": 8\n",
       "        },\n",
       "        \"zmax\": 10.0,\n",
       "        \"y\": [\n",
       "            6\n",
       "        ],\n",
       "        \"type\": \"scatter3d\",\n",
       "        \"scene\": \"scene\"\n",
       "    },\n",
       "    {\n",
       "        \"xaxis\": \"x\",\n",
       "        \"colorbar\": {\n",
       "            \"title\": \"\"\n",
       "        },\n",
       "        \"yaxis\": \"y\",\n",
       "        \"zaxis\": \"z\",\n",
       "        \"x\": [\n",
       "            7\n",
       "        ],\n",
       "        \"showlegend\": false,\n",
       "        \"mode\": \"markers\",\n",
       "        \"name\": \"y1\",\n",
       "        \"zmin\": 1.0,\n",
       "        \"legendgroup\": \"y1\",\n",
       "        \"z\": [\n",
       "            7\n",
       "        ],\n",
       "        \"marker\": {\n",
       "            \"symbol\": \"circle\",\n",
       "            \"color\": \"rgba(153, 127, 0, 0.500)\",\n",
       "            \"line\": {\n",
       "                \"color\": \"rgba(0, 0, 0, 0.500)\",\n",
       "                \"width\": 1\n",
       "            },\n",
       "            \"size\": 8\n",
       "        },\n",
       "        \"zmax\": 10.0,\n",
       "        \"y\": [\n",
       "            7\n",
       "        ],\n",
       "        \"type\": \"scatter3d\",\n",
       "        \"scene\": \"scene\"\n",
       "    },\n",
       "    {\n",
       "        \"xaxis\": \"x\",\n",
       "        \"colorbar\": {\n",
       "            \"title\": \"\"\n",
       "        },\n",
       "        \"yaxis\": \"y\",\n",
       "        \"zaxis\": \"z\",\n",
       "        \"x\": [\n",
       "            8\n",
       "        ],\n",
       "        \"showlegend\": false,\n",
       "        \"mode\": \"markers\",\n",
       "        \"name\": \"y1\",\n",
       "        \"zmin\": 1.0,\n",
       "        \"legendgroup\": \"y1\",\n",
       "        \"z\": [\n",
       "            8\n",
       "        ],\n",
       "        \"marker\": {\n",
       "            \"symbol\": \"circle\",\n",
       "            \"color\": \"rgba(230, 124, 0, 0.500)\",\n",
       "            \"line\": {\n",
       "                \"color\": \"rgba(0, 0, 0, 0.500)\",\n",
       "                \"width\": 1\n",
       "            },\n",
       "            \"size\": 8\n",
       "        },\n",
       "        \"zmax\": 10.0,\n",
       "        \"y\": [\n",
       "            8\n",
       "        ],\n",
       "        \"type\": \"scatter3d\",\n",
       "        \"scene\": \"scene\"\n",
       "    },\n",
       "    {\n",
       "        \"xaxis\": \"x\",\n",
       "        \"colorbar\": {\n",
       "            \"title\": \"\"\n",
       "        },\n",
       "        \"yaxis\": \"y\",\n",
       "        \"zaxis\": \"z\",\n",
       "        \"x\": [\n",
       "            9\n",
       "        ],\n",
       "        \"showlegend\": false,\n",
       "        \"mode\": \"markers\",\n",
       "        \"name\": \"y1\",\n",
       "        \"zmin\": 1.0,\n",
       "        \"legendgroup\": \"y1\",\n",
       "        \"z\": [\n",
       "            9\n",
       "        ],\n",
       "        \"marker\": {\n",
       "            \"symbol\": \"circle\",\n",
       "            \"color\": \"rgba(230, 62, 0, 0.500)\",\n",
       "            \"line\": {\n",
       "                \"color\": \"rgba(0, 0, 0, 0.500)\",\n",
       "                \"width\": 1\n",
       "            },\n",
       "            \"size\": 8\n",
       "        },\n",
       "        \"zmax\": 10.0,\n",
       "        \"y\": [\n",
       "            9\n",
       "        ],\n",
       "        \"type\": \"scatter3d\",\n",
       "        \"scene\": \"scene\"\n",
       "    },\n",
       "    {\n",
       "        \"xaxis\": \"x\",\n",
       "        \"colorbar\": {\n",
       "            \"title\": \"\"\n",
       "        },\n",
       "        \"yaxis\": \"y\",\n",
       "        \"zaxis\": \"z\",\n",
       "        \"x\": [\n",
       "            10\n",
       "        ],\n",
       "        \"showlegend\": false,\n",
       "        \"mode\": \"markers\",\n",
       "        \"name\": \"y1\",\n",
       "        \"zmin\": 1.0,\n",
       "        \"legendgroup\": \"y1\",\n",
       "        \"z\": [\n",
       "            10\n",
       "        ],\n",
       "        \"marker\": {\n",
       "            \"symbol\": \"circle\",\n",
       "            \"color\": \"rgba(230, 0, 0, 0.500)\",\n",
       "            \"line\": {\n",
       "                \"color\": \"rgba(0, 0, 0, 0.500)\",\n",
       "                \"width\": 1\n",
       "            },\n",
       "            \"size\": 8\n",
       "        },\n",
       "        \"zmax\": 10.0,\n",
       "        \"y\": [\n",
       "            10\n",
       "        ],\n",
       "        \"type\": \"scatter3d\",\n",
       "        \"scene\": \"scene\"\n",
       "    },\n",
       "    {\n",
       "        \"xaxis\": \"x\",\n",
       "        \"colorbar\": {\n",
       "            \"title\": \"\"\n",
       "        },\n",
       "        \"yaxis\": \"y\",\n",
       "        \"zaxis\": \"z\",\n",
       "        \"x\": [\n",
       "            1\n",
       "        ],\n",
       "        \"showlegend\": false,\n",
       "        \"mode\": \"markers\",\n",
       "        \"name\": \"y1\",\n",
       "        \"zmin\": 1.0,\n",
       "        \"z\": [\n",
       "            1\n",
       "        ],\n",
       "        \"marker\": {\n",
       "            \"color\": [\n",
       "                0.5\n",
       "            ],\n",
       "            \"cmin\": 1.0,\n",
       "            \"opacity\": 1.0e-10,\n",
       "            \"size\": 1.0e-10,\n",
       "            \"colorscale\": [\n",
       "                [\n",
       "                    0.0,\n",
       "                    \"rgba(102, 0, 102, 1.000)\"\n",
       "                ],\n",
       "                [\n",
       "                    0.25,\n",
       "                    \"rgba(0, 0, 230, 1.000)\"\n",
       "                ],\n",
       "                [\n",
       "                    0.5,\n",
       "                    \"rgba(0, 102, 0, 1.000)\"\n",
       "                ],\n",
       "                [\n",
       "                    0.75,\n",
       "                    \"rgba(230, 140, 0, 1.000)\"\n",
       "                ],\n",
       "                [\n",
       "                    1.0,\n",
       "                    \"rgba(230, 0, 0, 1.000)\"\n",
       "                ]\n",
       "            ],\n",
       "            \"cmax\": 10.0,\n",
       "            \"showscale\": true\n",
       "        },\n",
       "        \"zmax\": 10.0,\n",
       "        \"y\": [\n",
       "            1\n",
       "        ],\n",
       "        \"type\": \"scatter3d\",\n",
       "        \"scene\": \"scene\",\n",
       "        \"hoverinfo\": \"none\"\n",
       "    }\n",
       "]\n",
       ", {\n",
       "    \"showlegend\": true,\n",
       "    \"paper_bgcolor\": \"rgba(255, 255, 255, 1.000)\",\n",
       "    \"annotations\": [],\n",
       "    \"height\": 400,\n",
       "    \"margin\": {\n",
       "        \"l\": 0,\n",
       "        \"b\": 20,\n",
       "        \"r\": 0,\n",
       "        \"t\": 20\n",
       "    },\n",
       "    \"plot_bgcolor\": \"rgba(255, 255, 255, 1.000)\",\n",
       "    \"scene\": {\n",
       "        \"camera\": {\n",
       "            \"eye\": {\n",
       "                \"y\": -1.9499999999999997,\n",
       "                \"z\": 1.3,\n",
       "                \"x\": 1.12583302491977\n",
       "            }\n",
       "        },\n",
       "        \"xaxis\": {\n",
       "            \"tickangle\": 0,\n",
       "            \"showline\": true,\n",
       "            \"gridcolor\": \"rgba(0, 0, 0, 0.100)\",\n",
       "            \"showticklabels\": true,\n",
       "            \"gridwidth\": 0.5,\n",
       "            \"titlefont\": {\n",
       "                \"color\": \"rgba(0, 0, 0, 1.000)\",\n",
       "                \"family\": \"sans-serif\",\n",
       "                \"size\": 15\n",
       "            },\n",
       "            \"visible\": true,\n",
       "            \"ticks\": \"inside\",\n",
       "            \"range\": [\n",
       "                0.73,\n",
       "                10.27\n",
       "            ],\n",
       "            \"tickmode\": \"array\",\n",
       "            \"tickvals\": [\n",
       "                2.0,\n",
       "                4.0,\n",
       "                6.0,\n",
       "                8.0,\n",
       "                10.0\n",
       "            ],\n",
       "            \"tickcolor\": \"rgb(0, 0, 0)\",\n",
       "            \"ticktext\": [\n",
       "                \"2\",\n",
       "                \"4\",\n",
       "                \"6\",\n",
       "                \"8\",\n",
       "                \"10\"\n",
       "            ],\n",
       "            \"linecolor\": \"rgba(0, 0, 0, 1.000)\",\n",
       "            \"showgrid\": true,\n",
       "            \"zeroline\": false,\n",
       "            \"type\": \"-\",\n",
       "            \"tickfont\": {\n",
       "                \"color\": \"rgba(0, 0, 0, 1.000)\",\n",
       "                \"family\": \"sans-serif\",\n",
       "                \"size\": 11\n",
       "            },\n",
       "            \"title\": \"\",\n",
       "            \"zerolinecolor\": \"rgba(0, 0, 0, 1.000)\",\n",
       "            \"mirror\": false\n",
       "        },\n",
       "        \"domain\": {\n",
       "            \"y\": [\n",
       "                0.03762029746281716,\n",
       "                0.9901574803149606\n",
       "            ],\n",
       "            \"x\": [\n",
       "                0.03619130941965587,\n",
       "                0.9934383202099738\n",
       "            ]\n",
       "        },\n",
       "        \"yaxis\": {\n",
       "            \"tickangle\": 0,\n",
       "            \"showline\": true,\n",
       "            \"gridcolor\": \"rgba(0, 0, 0, 0.100)\",\n",
       "            \"showticklabels\": true,\n",
       "            \"gridwidth\": 0.5,\n",
       "            \"titlefont\": {\n",
       "                \"color\": \"rgba(0, 0, 0, 1.000)\",\n",
       "                \"family\": \"sans-serif\",\n",
       "                \"size\": 15\n",
       "            },\n",
       "            \"visible\": true,\n",
       "            \"ticks\": \"inside\",\n",
       "            \"range\": [\n",
       "                0.73,\n",
       "                10.27\n",
       "            ],\n",
       "            \"tickmode\": \"array\",\n",
       "            \"tickvals\": [\n",
       "                2.0,\n",
       "                4.0,\n",
       "                6.0,\n",
       "                8.0,\n",
       "                10.0\n",
       "            ],\n",
       "            \"tickcolor\": \"rgb(0, 0, 0)\",\n",
       "            \"ticktext\": [\n",
       "                \"2\",\n",
       "                \"4\",\n",
       "                \"6\",\n",
       "                \"8\",\n",
       "                \"10\"\n",
       "            ],\n",
       "            \"linecolor\": \"rgba(0, 0, 0, 1.000)\",\n",
       "            \"showgrid\": true,\n",
       "            \"zeroline\": false,\n",
       "            \"type\": \"-\",\n",
       "            \"tickfont\": {\n",
       "                \"color\": \"rgba(0, 0, 0, 1.000)\",\n",
       "                \"family\": \"sans-serif\",\n",
       "                \"size\": 11\n",
       "            },\n",
       "            \"title\": \"\",\n",
       "            \"zerolinecolor\": \"rgba(0, 0, 0, 1.000)\",\n",
       "            \"mirror\": false\n",
       "        },\n",
       "        \"zaxis\": {\n",
       "            \"tickangle\": 0,\n",
       "            \"showline\": true,\n",
       "            \"gridcolor\": \"rgba(0, 0, 0, 0.100)\",\n",
       "            \"showticklabels\": true,\n",
       "            \"gridwidth\": 0.5,\n",
       "            \"titlefont\": {\n",
       "                \"color\": \"rgba(0, 0, 0, 1.000)\",\n",
       "                \"family\": \"sans-serif\",\n",
       "                \"size\": 15\n",
       "            },\n",
       "            \"visible\": true,\n",
       "            \"ticks\": \"inside\",\n",
       "            \"range\": [\n",
       "                0.73,\n",
       "                10.27\n",
       "            ],\n",
       "            \"tickmode\": \"array\",\n",
       "            \"tickvals\": [\n",
       "                2.0,\n",
       "                4.0,\n",
       "                6.0,\n",
       "                8.0,\n",
       "                10.0\n",
       "            ],\n",
       "            \"tickcolor\": \"rgb(0, 0, 0)\",\n",
       "            \"ticktext\": [\n",
       "                \"2\",\n",
       "                \"4\",\n",
       "                \"6\",\n",
       "                \"8\",\n",
       "                \"10\"\n",
       "            ],\n",
       "            \"linecolor\": \"rgba(0, 0, 0, 1.000)\",\n",
       "            \"showgrid\": true,\n",
       "            \"zeroline\": false,\n",
       "            \"type\": \"-\",\n",
       "            \"tickfont\": {\n",
       "                \"color\": \"rgba(0, 0, 0, 1.000)\",\n",
       "                \"family\": \"sans-serif\",\n",
       "                \"size\": 11\n",
       "            },\n",
       "            \"title\": \"\",\n",
       "            \"zerolinecolor\": \"rgba(0, 0, 0, 1.000)\",\n",
       "            \"mirror\": false\n",
       "        }\n",
       "    },\n",
       "    \"legend\": {\n",
       "        \"yanchor\": \"auto\",\n",
       "        \"xanchor\": \"auto\",\n",
       "        \"bordercolor\": \"rgba(0, 0, 0, 1.000)\",\n",
       "        \"bgcolor\": \"rgba(255, 255, 255, 1.000)\",\n",
       "        \"borderwidth\": 1,\n",
       "        \"tracegroupgap\": 0,\n",
       "        \"y\": 1.0,\n",
       "        \"font\": {\n",
       "            \"color\": \"rgba(0, 0, 0, 1.000)\",\n",
       "            \"family\": \"sans-serif\",\n",
       "            \"size\": 11\n",
       "        },\n",
       "        \"title\": {\n",
       "            \"font\": {\n",
       "                \"color\": \"rgba(0, 0, 0, 1.000)\",\n",
       "                \"family\": \"sans-serif\",\n",
       "                \"size\": 15\n",
       "            },\n",
       "            \"text\": \"\"\n",
       "        },\n",
       "        \"traceorder\": \"normal\",\n",
       "        \"x\": 1.0\n",
       "    },\n",
       "    \"width\": 600\n",
       "}\n",
       ");\n",
       "\n",
       "    });\n",
       "    </script>\n"
      ]
     },
     "execution_count": 1,
     "metadata": {},
     "output_type": "execute_result"
    }
   ],
   "source": [
    "using Plots\n",
    "plotlyjs()\n",
    "scatter(1:10,1:10,1:10,marker_z=1:10,seriescolor=:darkrainbow,alpha=0.5)"
   ]
  },
  {
   "cell_type": "code",
   "execution_count": 2,
   "metadata": {},
   "outputs": [],
   "source": [
    "include(joinpath(\"..\",\"src\",\"test.jl\"))"
   ]
  },
  {
   "cell_type": "code",
   "execution_count": null,
   "metadata": {
    "jupyter": {
     "source_hidden": true
    }
   },
   "outputs": [],
   "source": []
  },
  {
   "cell_type": "code",
   "execution_count": 101,
   "metadata": {},
   "outputs": [],
   "source": [
    "#P = parametricCurveChain(treefoil,30,0,deg2rad(315))\n",
    "#Q = PolygonalChain(Point[Point{Float64}(6.051346352617236, 9.152695549214696, 8.801414151529615), Point{Float64}(4.937817743234, 8.654398705021078, 8.755789094331664), Point{Float64}(4.483930471581617, 8.336865105976369, 7.946982530081897), Point{Float64}(4.121852652378448, 8.076572693087565, 7.322041555122247), Point{Float64}(3.6898178901663465, 7.72959525648117, 6.533077924150991), Point{Float64}(3.1529886069854345, 7.216227206514889, 5.451816482134311), Point{Float64}(2.6425645880450634, 6.567949563852597, 4.240336868393161), Point{Float64}(2.271036312166339, 5.907335612240891, 3.153356023630231), Point{Float64}(2.060719038154651, 5.368040479449854, 2.3612424115542683), Point{Float64}(1.929226100112587, 4.91770523276419, 1.7547394212582519), Point{Float64}(1.7774819462497389, 4.327085835133939, 1.0054803851975227), Point{Float64}(1.5954085937806317, 3.5323029606772267, 0.10624315660619842), Point{Float64}(1.404985846553592, 2.647025883270829, -0.7219265125294043), Point{Float64}(1.2180917756846128, 1.867286498649983, -1.3103447765744698), Point{Float64}(1.038189892832225, 1.2386065907873867, -1.7166240373571038), Point{Float64}(0.7942955664818238, 0.4534407373960645, -2.1874568802823284), Point{Float64}(0.42175890418887635, -0.6425924285001161, -2.7746273469993117), Point{Float64}(-0.08068863855109903, -1.907947453470569, -3.3157807597092956), Point{Float64}(-0.6418222904525793, -3.071230499421564, -3.6650473663828205), Point{Float64}(-1.1397804868625978, -3.9228410214693072, -3.817972269745026), Point{Float64}(-1.56369362651196, -4.559050802375946, -3.879819429854528), Point{Float64}(-2.113150218760466, -5.335057781547753, -3.923132063362656), Point{Float64}(-2.851183544582941, -6.289269990674345, -3.9145368993498995), Point{Float64}(-3.671949690544045, -7.202241806513236, -3.801508869654376), Point{Float64}(-4.400070476455358, -7.875603353762228, -3.6170510042753703), Point{Float64}(-4.987496843331254, -8.340291421875598, -3.425494819584227), Point{Float64}(-5.706253287161542, -8.87611534817707, -3.173892634828108), Point{Float64}(-6.70769848782058, -9.589253639212469, -2.8043566197804437), Point{Float64}(-7.864893752201777, -10.35894932895501, -2.345242222306946), Point{Float64}(-8.939486345251717, -11.04740939075835, -1.9043527999513437)])"
   ]
  },
  {
   "cell_type": "code",
   "execution_count": 102,
   "metadata": {},
   "outputs": [
    {
     "data": {
      "text/plain": [
       "PolygonalChain(Point[Point{Float64}(1.0961183434369617, 1.6717080997572744, -1.1610158662751193), Point{Float64}(-0.011853447306790027, 0.7207382605661333, 0.5244973729221096), Point{Float64}(0.2205564264125424, -0.22667560512942062, 0.3045141506026388), Point{Float64}(0.8621084962766254, -0.9885928507777049, 0.39335700852211963), Point{Float64}(1.1083960120295233, -0.5298790643724297, 1.247127540158223), Point{Float64}(-0.3359687688940691, -0.3898754894224912, -0.44612654138581637)])"
      ]
     },
     "execution_count": 102,
     "metadata": {},
     "output_type": "execute_result"
    }
   ],
   "source": [
    "P = PolygonalChain(Point[Point{Float64}(1.50536761143902, -0.5035784076260132, -0.4376611897560546), Point{Float64}(0.0, 0.49999999999999994, 0.8660254037844387), Point{Float64}(0.0, 0.0, 0.0), Point{Float64}(1.0, 0.0, 0.0), Point{Float64}(1.0, 0.0, 1.0), Point{Float64}(-0.5660105494842269, 0.26100175824737115, -0.5660105494842269)])\n",
    "Q = PolygonalChain(Point[Point{Float64}(1.0961183434369617, 1.6717080997572744, -1.1610158662751193), Point{Float64}(-0.011853447306790027, 0.7207382605661333, 0.5244973729221096), Point{Float64}(0.2205564264125424, -0.22667560512942062, 0.3045141506026388), Point{Float64}(0.8621084962766254, -0.9885928507777049, 0.39335700852211963), Point{Float64}(1.1083960120295233, -0.5298790643724297, 1.247127540158223), Point{Float64}(-0.3359687688940691, -0.3898754894224912, -0.44612654138581637)])\n"
   ]
  },
  {
   "cell_type": "code",
   "execution_count": 103,
   "metadata": {},
   "outputs": [
    {
     "data": {
      "text/plain": [
       "([2.23, 1.0, 1.0, 1.0, 2.23], [0.7505598546399694, 1.5707963267948966, 1.5707963267948966, 0.7922476926991782], [-0.1433475689053654, 0.5235987755982987, -0.16514867741462683])"
      ]
     },
     "execution_count": 103,
     "metadata": {},
     "output_type": "execute_result"
    }
   ],
   "source": [
    "ls,bas,das = internalCoordinates(P)"
   ]
  },
  {
   "cell_type": "code",
   "execution_count": 104,
   "metadata": {},
   "outputs": [
    {
     "data": {
      "text/plain": [
       "([2.230000000817102, 1.0000000002082434, 1.000000000483229, 0.9999999994720964, 2.2300000013535355], [1.6933783333880605, 2.5894641686139694, 1.4548927346683838, 0.6777355959736604], [1.5116050320057628, 0.4605194475523006, 0.07838542082476607])"
      ]
     },
     "execution_count": 104,
     "metadata": {},
     "output_type": "execute_result"
    }
   ],
   "source": [
    "lsq,basq,dasq = internalCoordinates(Q)"
   ]
  },
  {
   "cell_type": "code",
   "execution_count": 105,
   "metadata": {},
   "outputs": [
    {
     "data": {
      "application/vnd.plotly.v1+json": {
       "data": [
        {
         "colorbar": {
          "title": {
           "text": ""
          }
         },
         "legendgroup": "y1",
         "marker": {
          "color": "rgba(255, 0, 0, 1.000)",
          "line": {
           "color": "rgba(0, 0, 0, 1)",
           "width": 1
          },
          "size": 6,
          "symbol": "circle"
         },
         "mode": "markers",
         "name": "y1",
         "scene": "scene",
         "showlegend": true,
         "type": "scatter3d",
         "x": [
          1.50536761143902,
          0,
          0,
          1,
          1,
          -0.5660105494842269
         ],
         "xaxis": "x",
         "y": [
          -0.5035784076260132,
          0.49999999999999994,
          0,
          0,
          0,
          0.26100175824737115
         ],
         "yaxis": "y",
         "z": [
          -0.4376611897560546,
          0.8660254037844387,
          0,
          0,
          1,
          -0.5660105494842269
         ],
         "zaxis": "z",
         "zmax": null,
         "zmin": null
        },
        {
         "colorbar": {
          "title": {
           "text": ""
          }
         },
         "legendgroup": "y2",
         "line": {
          "color": "rgba(0, 0, 0, 1)",
          "dash": "solid",
          "shape": "linear",
          "width": 2
         },
         "mode": "lines",
         "name": "y2",
         "scene": "scene",
         "showlegend": true,
         "type": "scatter3d",
         "x": [
          1.50536761143902,
          0,
          0,
          1,
          1,
          -0.5660105494842269
         ],
         "xaxis": "x",
         "y": [
          -0.5035784076260132,
          0.49999999999999994,
          0,
          0,
          0,
          0.26100175824737115
         ],
         "yaxis": "y",
         "z": [
          -0.4376611897560546,
          0.8660254037844387,
          0,
          0,
          1,
          -0.5660105494842269
         ],
         "zaxis": "z",
         "zmax": null,
         "zmin": null
        },
        {
         "colorbar": {
          "title": {
           "text": ""
          }
         },
         "legendgroup": "y3",
         "marker": {
          "color": "rgba(0, 0, 255, 1.000)",
          "line": {
           "color": "rgba(0, 0, 0, 1)",
           "width": 1
          },
          "size": 6,
          "symbol": "circle"
         },
         "mode": "markers",
         "name": "y3",
         "scene": "scene",
         "showlegend": true,
         "type": "scatter3d",
         "x": [
          1.0961183434369617,
          -0.011853447306790027,
          0.2205564264125424,
          0.8621084962766254,
          1.1083960120295233,
          -0.3359687688940691
         ],
         "xaxis": "x",
         "y": [
          1.6717080997572744,
          0.7207382605661333,
          -0.22667560512942062,
          -0.9885928507777049,
          -0.5298790643724297,
          -0.3898754894224912
         ],
         "yaxis": "y",
         "z": [
          -1.1610158662751193,
          0.5244973729221096,
          0.3045141506026388,
          0.39335700852211963,
          1.247127540158223,
          -0.44612654138581637
         ],
         "zaxis": "z",
         "zmax": null,
         "zmin": null
        },
        {
         "colorbar": {
          "title": {
           "text": ""
          }
         },
         "legendgroup": "y4",
         "line": {
          "color": "rgba(0, 0, 0, 1)",
          "dash": "solid",
          "shape": "linear",
          "width": 2
         },
         "mode": "lines",
         "name": "y4",
         "scene": "scene",
         "showlegend": true,
         "type": "scatter3d",
         "x": [
          1.0961183434369617,
          -0.011853447306790027,
          0.2205564264125424,
          0.8621084962766254,
          1.1083960120295233,
          -0.3359687688940691
         ],
         "xaxis": "x",
         "y": [
          1.6717080997572744,
          0.7207382605661333,
          -0.22667560512942062,
          -0.9885928507777049,
          -0.5298790643724297,
          -0.3898754894224912
         ],
         "yaxis": "y",
         "z": [
          -1.1610158662751193,
          0.5244973729221096,
          0.3045141506026388,
          0.39335700852211963,
          1.247127540158223,
          -0.44612654138581637
         ],
         "zaxis": "z",
         "zmax": null,
         "zmin": null
        }
       ],
       "layout": {
        "annotations": [],
        "height": 400,
        "legend": {
         "bgcolor": "rgba(255, 255, 255, 1.000)",
         "bordercolor": "rgba(0, 0, 0, 1)",
         "borderwidth": 1,
         "font": {
          "color": "rgba(0, 0, 0, 1)",
          "family": "sans-serif",
          "size": 11
         },
         "title": {
          "font": {
           "color": "rgba(0, 0, 0, 1)",
           "family": "sans-serif",
           "size": 15
          },
          "text": ""
         },
         "tracegroupgap": 0,
         "traceorder": "normal",
         "x": 1,
         "xanchor": "auto",
         "y": 1,
         "yanchor": "auto"
        },
        "margin": {
         "b": 20,
         "l": 0,
         "r": 0,
         "t": 20
        },
        "paper_bgcolor": "rgba(255, 255, 255, 1.000)",
        "plot_bgcolor": "rgba(255, 255, 255, 1.000)",
        "scene": {
         "aspectmode": "auto",
         "aspectratio": {
          "x": 0.8749204282830284,
          "y": 1.1236729685159874,
          "z": 1.0171652382317848
         },
         "camera": {
          "center": {
           "x": -0.3688483927938395,
           "y": -0.15335514890812563,
           "z": 0.08939935494233735
          },
          "eye": {
           "x": 0.7569846321259301,
           "y": -2.1033551489081255,
           "z": 1.3893993549423374
          },
          "projection": {
           "type": "perspective"
          },
          "up": {
           "x": 0,
           "y": 0,
           "z": 1
          }
         },
         "domain": {
          "x": [
           0.09128390201224845,
           0.9934383202099738
          ],
          "y": [
           0.07581474190726165,
           0.9901574803149606
          ]
         },
         "xaxis": {
          "gridcolor": "rgba(0, 0, 0, 0.1)",
          "gridwidth": 0.5,
          "linecolor": "rgba(0, 0, 0, 1)",
          "mirror": false,
          "range": [
           -0.6281518943119243,
           1.5675089562667175
          ],
          "showgrid": true,
          "showline": true,
          "showticklabels": true,
          "tickangle": 0,
          "tickcolor": "rgb(0, 0, 0)",
          "tickfont": {
           "color": "rgba(0, 0, 0, 1)",
           "family": "sans-serif",
           "size": 11
          },
          "tickmode": "array",
          "ticks": "inside",
          "ticktext": [
           "-0.5",
           "0.0",
           "0.5",
           "1.0",
           "1.5"
          ],
          "tickvals": [
           -0.5,
           0,
           0.5,
           1,
           1.5
          ],
          "title": {
           "font": {
            "color": "rgba(0, 0, 0, 1)",
            "family": "sans-serif",
            "size": 15
           },
           "text": "x"
          },
          "type": "linear",
          "visible": true,
          "zeroline": false,
          "zerolinecolor": "rgba(0, 0, 0, 1)"
         },
         "yaxis": {
          "gridcolor": "rgba(0, 0, 0, 0.1)",
          "gridwidth": 0.5,
          "linecolor": "rgba(0, 0, 0, 1)",
          "mirror": false,
          "range": [
           -1.0684018792937542,
           1.7515171282733237
          ],
          "showgrid": true,
          "showline": true,
          "showticklabels": true,
          "tickangle": 0,
          "tickcolor": "rgb(0, 0, 0)",
          "tickfont": {
           "color": "rgba(0, 0, 0, 1)",
           "family": "sans-serif",
           "size": 11
          },
          "tickmode": "array",
          "ticks": "inside",
          "ticktext": [
           "-1.0",
           "-0.5",
           "0.0",
           "0.5",
           "1.0",
           "1.5"
          ],
          "tickvals": [
           -1,
           -0.5,
           0,
           0.5,
           1,
           1.5
          ],
          "title": {
           "font": {
            "color": "rgba(0, 0, 0, 1)",
            "family": "sans-serif",
            "size": 15
           },
           "text": "y"
          },
          "type": "linear",
          "visible": true,
          "zeroline": false,
          "zerolinecolor": "rgba(0, 0, 0, 1)"
         },
         "zaxis": {
          "gridcolor": "rgba(0, 0, 0, 0.1)",
          "gridwidth": 0.5,
          "linecolor": "rgba(0, 0, 0, 1)",
          "mirror": false,
          "range": [
           -1.2332601684681195,
           1.319371842351223
          ],
          "showgrid": true,
          "showline": true,
          "showticklabels": true,
          "tickangle": 0,
          "tickcolor": "rgb(0, 0, 0)",
          "tickfont": {
           "color": "rgba(0, 0, 0, 1)",
           "family": "sans-serif",
           "size": 11
          },
          "tickmode": "array",
          "ticks": "inside",
          "ticktext": [
           "-1.0",
           "-0.5",
           "0.0",
           "0.5",
           "1.0"
          ],
          "tickvals": [
           -1,
           -0.5,
           0,
           0.5,
           1
          ],
          "title": {
           "font": {
            "color": "rgba(0, 0, 0, 1)",
            "family": "sans-serif",
            "size": 15
           },
           "text": "z"
          },
          "type": "linear",
          "visible": true,
          "zeroline": false,
          "zerolinecolor": "rgba(0, 0, 0, 1)"
         }
        },
        "showlegend": true,
        "width": 600
       }
      },
      "image/png": "[encoded data removed]",
      "text/html": [
       "    <div id=\"21f302c3-6f64-446c-8a66-b80bfcdbbfeb\" style=\"width:600px;height:400px;\"></div>\n",
       "    <script>\n",
       "        requirejs.config({\n",
       "        paths: {\n",
       "            Plotly: 'https://cdn.plot.ly/plotly-1.57.1.min'\n",
       "        }\n",
       "    });\n",
       "    require(['Plotly'], function (Plotly) {\n",
       "\n",
       "        var PLOT = document.getElementById('21f302c3-6f64-446c-8a66-b80bfcdbbfeb');\n",
       "    Plotly.plot(PLOT, [\n",
       "    {\n",
       "        \"xaxis\": \"x\",\n",
       "        \"colorbar\": {\n",
       "            \"title\": \"\"\n",
       "        },\n",
       "        \"yaxis\": \"y\",\n",
       "        \"zaxis\": \"z\",\n",
       "        \"x\": [\n",
       "            1.50536761143902,\n",
       "            0.0,\n",
       "            0.0,\n",
       "            1.0,\n",
       "            1.0,\n",
       "            -0.5660105494842269\n",
       "        ],\n",
       "        \"showlegend\": true,\n",
       "        \"mode\": \"markers\",\n",
       "        \"name\": \"y1\",\n",
       "        \"zmin\": null,\n",
       "        \"legendgroup\": \"y1\",\n",
       "        \"z\": [\n",
       "            -0.4376611897560546,\n",
       "            0.8660254037844387,\n",
       "            0.0,\n",
       "            0.0,\n",
       "            1.0,\n",
       "            -0.5660105494842269\n",
       "        ],\n",
       "        \"marker\": {\n",
       "            \"symbol\": \"circle\",\n",
       "            \"color\": \"rgba(255, 0, 0, 1.000)\",\n",
       "            \"line\": {\n",
       "                \"color\": \"rgba(0, 0, 0, 1.000)\",\n",
       "                \"width\": 1\n",
       "            },\n",
       "            \"size\": 6\n",
       "        },\n",
       "        \"zmax\": null,\n",
       "        \"y\": [\n",
       "            -0.5035784076260132,\n",
       "            0.49999999999999994,\n",
       "            0.0,\n",
       "            0.0,\n",
       "            0.0,\n",
       "            0.26100175824737115\n",
       "        ],\n",
       "        \"type\": \"scatter3d\",\n",
       "        \"scene\": \"scene\"\n",
       "    },\n",
       "    {\n",
       "        \"xaxis\": \"x\",\n",
       "        \"colorbar\": {\n",
       "            \"title\": \"\"\n",
       "        },\n",
       "        \"yaxis\": \"y\",\n",
       "        \"zaxis\": \"z\",\n",
       "        \"x\": [\n",
       "            1.50536761143902,\n",
       "            0.0,\n",
       "            0.0,\n",
       "            1.0,\n",
       "            1.0,\n",
       "            -0.5660105494842269\n",
       "        ],\n",
       "        \"showlegend\": true,\n",
       "        \"mode\": \"lines\",\n",
       "        \"name\": \"y2\",\n",
       "        \"zmin\": null,\n",
       "        \"legendgroup\": \"y2\",\n",
       "        \"z\": [\n",
       "            -0.4376611897560546,\n",
       "            0.8660254037844387,\n",
       "            0.0,\n",
       "            0.0,\n",
       "            1.0,\n",
       "            -0.5660105494842269\n",
       "        ],\n",
       "        \"zmax\": null,\n",
       "        \"line\": {\n",
       "            \"color\": \"rgba(0, 0, 0, 1.000)\",\n",
       "            \"shape\": \"linear\",\n",
       "            \"dash\": \"solid\",\n",
       "            \"width\": 2\n",
       "        },\n",
       "        \"y\": [\n",
       "            -0.5035784076260132,\n",
       "            0.49999999999999994,\n",
       "            0.0,\n",
       "            0.0,\n",
       "            0.0,\n",
       "            0.26100175824737115\n",
       "        ],\n",
       "        \"type\": \"scatter3d\",\n",
       "        \"scene\": \"scene\"\n",
       "    },\n",
       "    {\n",
       "        \"xaxis\": \"x\",\n",
       "        \"colorbar\": {\n",
       "            \"title\": \"\"\n",
       "        },\n",
       "        \"yaxis\": \"y\",\n",
       "        \"zaxis\": \"z\",\n",
       "        \"x\": [\n",
       "            1.0961183434369617,\n",
       "            -0.011853447306790027,\n",
       "            0.2205564264125424,\n",
       "            0.8621084962766254,\n",
       "            1.1083960120295233,\n",
       "            -0.3359687688940691\n",
       "        ],\n",
       "        \"showlegend\": true,\n",
       "        \"mode\": \"markers\",\n",
       "        \"name\": \"y3\",\n",
       "        \"zmin\": null,\n",
       "        \"legendgroup\": \"y3\",\n",
       "        \"z\": [\n",
       "            -1.1610158662751193,\n",
       "            0.5244973729221096,\n",
       "            0.3045141506026388,\n",
       "            0.39335700852211963,\n",
       "            1.247127540158223,\n",
       "            -0.44612654138581637\n",
       "        ],\n",
       "        \"marker\": {\n",
       "            \"symbol\": \"circle\",\n",
       "            \"color\": \"rgba(0, 0, 255, 1.000)\",\n",
       "            \"line\": {\n",
       "                \"color\": \"rgba(0, 0, 0, 1.000)\",\n",
       "                \"width\": 1\n",
       "            },\n",
       "            \"size\": 6\n",
       "        },\n",
       "        \"zmax\": null,\n",
       "        \"y\": [\n",
       "            1.6717080997572744,\n",
       "            0.7207382605661333,\n",
       "            -0.22667560512942062,\n",
       "            -0.9885928507777049,\n",
       "            -0.5298790643724297,\n",
       "            -0.3898754894224912\n",
       "        ],\n",
       "        \"type\": \"scatter3d\",\n",
       "        \"scene\": \"scene\"\n",
       "    },\n",
       "    {\n",
       "        \"xaxis\": \"x\",\n",
       "        \"colorbar\": {\n",
       "            \"title\": \"\"\n",
       "        },\n",
       "        \"yaxis\": \"y\",\n",
       "        \"zaxis\": \"z\",\n",
       "        \"x\": [\n",
       "            1.0961183434369617,\n",
       "            -0.011853447306790027,\n",
       "            0.2205564264125424,\n",
       "            0.8621084962766254,\n",
       "            1.1083960120295233,\n",
       "            -0.3359687688940691\n",
       "        ],\n",
       "        \"showlegend\": true,\n",
       "        \"mode\": \"lines\",\n",
       "        \"name\": \"y4\",\n",
       "        \"zmin\": null,\n",
       "        \"legendgroup\": \"y4\",\n",
       "        \"z\": [\n",
       "            -1.1610158662751193,\n",
       "            0.5244973729221096,\n",
       "            0.3045141506026388,\n",
       "            0.39335700852211963,\n",
       "            1.247127540158223,\n",
       "            -0.44612654138581637\n",
       "        ],\n",
       "        \"zmax\": null,\n",
       "        \"line\": {\n",
       "            \"color\": \"rgba(0, 0, 0, 1.000)\",\n",
       "            \"shape\": \"linear\",\n",
       "            \"dash\": \"solid\",\n",
       "            \"width\": 2\n",
       "        },\n",
       "        \"y\": [\n",
       "            1.6717080997572744,\n",
       "            0.7207382605661333,\n",
       "            -0.22667560512942062,\n",
       "            -0.9885928507777049,\n",
       "            -0.5298790643724297,\n",
       "            -0.3898754894224912\n",
       "        ],\n",
       "        \"type\": \"scatter3d\",\n",
       "        \"scene\": \"scene\"\n",
       "    }\n",
       "]\n",
       ", {\n",
       "    \"showlegend\": true,\n",
       "    \"paper_bgcolor\": \"rgba(255, 255, 255, 1.000)\",\n",
       "    \"annotations\": [],\n",
       "    \"height\": 400,\n",
       "    \"margin\": {\n",
       "        \"l\": 0,\n",
       "        \"b\": 20,\n",
       "        \"r\": 0,\n",
       "        \"t\": 20\n",
       "    },\n",
       "    \"plot_bgcolor\": \"rgba(255, 255, 255, 1.000)\",\n",
       "    \"scene\": {\n",
       "        \"camera\": {\n",
       "            \"eye\": {\n",
       "                \"y\": -1.9499999999999997,\n",
       "                \"z\": 1.3,\n",
       "                \"x\": 1.12583302491977\n",
       "            }\n",
       "        },\n",
       "        \"xaxis\": {\n",
       "            \"tickangle\": 0,\n",
       "            \"showline\": true,\n",
       "            \"gridcolor\": \"rgba(0, 0, 0, 0.100)\",\n",
       "            \"showticklabels\": true,\n",
       "            \"gridwidth\": 0.5,\n",
       "            \"titlefont\": {\n",
       "                \"color\": \"rgba(0, 0, 0, 1.000)\",\n",
       "                \"family\": \"sans-serif\",\n",
       "                \"size\": 15\n",
       "            },\n",
       "            \"visible\": true,\n",
       "            \"ticks\": \"inside\",\n",
       "            \"range\": [\n",
       "                -0.6281518943119243,\n",
       "                1.5675089562667175\n",
       "            ],\n",
       "            \"tickmode\": \"array\",\n",
       "            \"tickvals\": [\n",
       "                -0.5,\n",
       "                0.0,\n",
       "                0.5,\n",
       "                1.0,\n",
       "                1.5\n",
       "            ],\n",
       "            \"tickcolor\": \"rgb(0, 0, 0)\",\n",
       "            \"ticktext\": [\n",
       "                \"-0.5\",\n",
       "                \"0.0\",\n",
       "                \"0.5\",\n",
       "                \"1.0\",\n",
       "                \"1.5\"\n",
       "            ],\n",
       "            \"linecolor\": \"rgba(0, 0, 0, 1.000)\",\n",
       "            \"showgrid\": true,\n",
       "            \"zeroline\": false,\n",
       "            \"type\": \"-\",\n",
       "            \"tickfont\": {\n",
       "                \"color\": \"rgba(0, 0, 0, 1.000)\",\n",
       "                \"family\": \"sans-serif\",\n",
       "                \"size\": 11\n",
       "            },\n",
       "            \"title\": \"x\",\n",
       "            \"zerolinecolor\": \"rgba(0, 0, 0, 1.000)\",\n",
       "            \"mirror\": false\n",
       "        },\n",
       "        \"domain\": {\n",
       "            \"y\": [\n",
       "                0.07581474190726165,\n",
       "                0.9901574803149606\n",
       "            ],\n",
       "            \"x\": [\n",
       "                0.09128390201224845,\n",
       "                0.9934383202099738\n",
       "            ]\n",
       "        },\n",
       "        \"yaxis\": {\n",
       "            \"tickangle\": 0,\n",
       "            \"showline\": true,\n",
       "            \"gridcolor\": \"rgba(0, 0, 0, 0.100)\",\n",
       "            \"showticklabels\": true,\n",
       "            \"gridwidth\": 0.5,\n",
       "            \"titlefont\": {\n",
       "                \"color\": \"rgba(0, 0, 0, 1.000)\",\n",
       "                \"family\": \"sans-serif\",\n",
       "                \"size\": 15\n",
       "            },\n",
       "            \"visible\": true,\n",
       "            \"ticks\": \"inside\",\n",
       "            \"range\": [\n",
       "                -1.0684018792937542,\n",
       "                1.7515171282733237\n",
       "            ],\n",
       "            \"tickmode\": \"array\",\n",
       "            \"tickvals\": [\n",
       "                -1.0,\n",
       "                -0.5,\n",
       "                0.0,\n",
       "                0.5,\n",
       "                1.0,\n",
       "                1.5\n",
       "            ],\n",
       "            \"tickcolor\": \"rgb(0, 0, 0)\",\n",
       "            \"ticktext\": [\n",
       "                \"-1.0\",\n",
       "                \"-0.5\",\n",
       "                \"0.0\",\n",
       "                \"0.5\",\n",
       "                \"1.0\",\n",
       "                \"1.5\"\n",
       "            ],\n",
       "            \"linecolor\": \"rgba(0, 0, 0, 1.000)\",\n",
       "            \"showgrid\": true,\n",
       "            \"zeroline\": false,\n",
       "            \"type\": \"-\",\n",
       "            \"tickfont\": {\n",
       "                \"color\": \"rgba(0, 0, 0, 1.000)\",\n",
       "                \"family\": \"sans-serif\",\n",
       "                \"size\": 11\n",
       "            },\n",
       "            \"title\": \"y\",\n",
       "            \"zerolinecolor\": \"rgba(0, 0, 0, 1.000)\",\n",
       "            \"mirror\": false\n",
       "        },\n",
       "        \"zaxis\": {\n",
       "            \"tickangle\": 0,\n",
       "            \"showline\": true,\n",
       "            \"gridcolor\": \"rgba(0, 0, 0, 0.100)\",\n",
       "            \"showticklabels\": true,\n",
       "            \"gridwidth\": 0.5,\n",
       "            \"titlefont\": {\n",
       "                \"color\": \"rgba(0, 0, 0, 1.000)\",\n",
       "                \"family\": \"sans-serif\",\n",
       "                \"size\": 15\n",
       "            },\n",
       "            \"visible\": true,\n",
       "            \"ticks\": \"inside\",\n",
       "            \"range\": [\n",
       "                -1.2332601684681195,\n",
       "                1.319371842351223\n",
       "            ],\n",
       "            \"tickmode\": \"array\",\n",
       "            \"tickvals\": [\n",
       "                -1.0,\n",
       "                -0.5,\n",
       "                0.0,\n",
       "                0.5,\n",
       "                1.0\n",
       "            ],\n",
       "            \"tickcolor\": \"rgb(0, 0, 0)\",\n",
       "            \"ticktext\": [\n",
       "                \"-1.0\",\n",
       "                \"-0.5\",\n",
       "                \"0.0\",\n",
       "                \"0.5\",\n",
       "                \"1.0\"\n",
       "            ],\n",
       "            \"linecolor\": \"rgba(0, 0, 0, 1.000)\",\n",
       "            \"showgrid\": true,\n",
       "            \"zeroline\": false,\n",
       "            \"type\": \"-\",\n",
       "            \"tickfont\": {\n",
       "                \"color\": \"rgba(0, 0, 0, 1.000)\",\n",
       "                \"family\": \"sans-serif\",\n",
       "                \"size\": 11\n",
       "            },\n",
       "            \"title\": \"z\",\n",
       "            \"zerolinecolor\": \"rgba(0, 0, 0, 1.000)\",\n",
       "            \"mirror\": false\n",
       "        }\n",
       "    },\n",
       "    \"legend\": {\n",
       "        \"yanchor\": \"auto\",\n",
       "        \"xanchor\": \"auto\",\n",
       "        \"bordercolor\": \"rgba(0, 0, 0, 1.000)\",\n",
       "        \"bgcolor\": \"rgba(255, 255, 255, 1.000)\",\n",
       "        \"borderwidth\": 1,\n",
       "        \"tracegroupgap\": 0,\n",
       "        \"y\": 1.0,\n",
       "        \"font\": {\n",
       "            \"color\": \"rgba(0, 0, 0, 1.000)\",\n",
       "            \"family\": \"sans-serif\",\n",
       "            \"size\": 11\n",
       "        },\n",
       "        \"title\": {\n",
       "            \"font\": {\n",
       "                \"color\": \"rgba(0, 0, 0, 1.000)\",\n",
       "                \"family\": \"sans-serif\",\n",
       "                \"size\": 15\n",
       "            },\n",
       "            \"text\": \"\"\n",
       "        },\n",
       "        \"traceorder\": \"normal\",\n",
       "        \"x\": 1.0\n",
       "    },\n",
       "    \"width\": 600\n",
       "}\n",
       ");\n",
       "\n",
       "    });\n",
       "    </script>\n"
      ]
     },
     "execution_count": 105,
     "metadata": {},
     "output_type": "execute_result"
    }
   ],
   "source": [
    "p = plot()\n",
    "plotChain!(P,\"red\")\n",
    "plotChain!(Q,\"blue\")\n",
    "p"
   ]
  },
  {
   "cell_type": "code",
   "execution_count": 69,
   "metadata": {},
   "outputs": [
    {
     "data": {
      "text/plain": [
       "60×60 Base.Matrix{Float64}:\n",
       "  0.863999     0.0          0.0         …  -0.0         -0.0\n",
       "  0.0          0.863999     0.0            -0.0386373   -0.0\n",
       "  0.0          0.0          0.863999       -0.0         -0.0386373\n",
       " -0.738921    -0.0         -0.0             0.0          0.0\n",
       " -0.0         -0.738921    -0.0             0.00422008   0.0\n",
       " -0.0         -0.0         -0.738921    …   0.0          0.00422008\n",
       "  0.0563137    0.0          0.0             0.0          0.0\n",
       "  0.0          0.0563137    0.0             0.0218279    0.0\n",
       "  0.0          0.0          0.0563137       0.0          0.0218279\n",
       " -0.0687189   -0.0         -0.0             0.0          0.0\n",
       " -0.0         -0.0687189   -0.0         …   0.0183643    0.0\n",
       " -0.0         -0.0         -0.0687189       0.0          0.0183643\n",
       " -0.0260857   -0.0         -0.0            -0.0         -0.0\n",
       "  ⋮                                     ⋱               \n",
       "  0.0192019    0.0          0.0             0.0          0.0\n",
       "  0.0          0.0192019    0.0             0.0564241    0.0\n",
       "  0.0          0.0          0.0192019   …   0.0          0.0564241\n",
       "  0.0121715    0.0          0.0            -0.0         -0.0\n",
       "  0.0          0.0121715    0.0            -0.043241    -0.0\n",
       "  0.0          0.0          0.0121715      -0.0         -0.043241\n",
       "  0.00569473   0.0          0.0            -0.0         -0.0\n",
       "  0.0          0.00569473   0.0         …  -0.949413    -0.0\n",
       "  0.0          0.0          0.00569473     -0.0         -0.949413\n",
       " -0.0386373   -0.0         -0.0             0.0          0.0\n",
       " -0.0         -0.0386373   -0.0             1.34202      0.0\n",
       " -0.0         -0.0         -0.0386373       0.0          1.34202"
      ]
     },
     "execution_count": 69,
     "metadata": {},
     "output_type": "execute_result"
    }
   ],
   "source": [
    "Aline(P)"
   ]
  },
  {
   "cell_type": "code",
   "execution_count": 70,
   "metadata": {},
   "outputs": [
    {
     "data": {
      "text/plain": [
       "19×60 Base.Matrix{Float64}:\n",
       " 0.207981  0.457917  -0.864324  -0.207981  …  0.0      0.0        0.0\n",
       " 0.0       0.0        0.0        0.83544      0.0      0.0        0.0\n",
       " 0.0       0.0        0.0        0.0          0.0      0.0        0.0\n",
       " 0.0       0.0        0.0        0.0          0.0      0.0        0.0\n",
       " 0.0       0.0        0.0        0.0          0.0      0.0        0.0\n",
       " 0.0       0.0        0.0        0.0       …  0.0      0.0        0.0\n",
       " 0.0       0.0        0.0        0.0          0.0      0.0        0.0\n",
       " 0.0       0.0        0.0        0.0          0.0      0.0        0.0\n",
       " 0.0       0.0        0.0        0.0          0.0      0.0        0.0\n",
       " 0.0       0.0        0.0        0.0          0.0      0.0        0.0\n",
       " 0.0       0.0        0.0        0.0       …  0.0      0.0        0.0\n",
       " 0.0       0.0        0.0        0.0          0.0      0.0        0.0\n",
       " 0.0       0.0        0.0        0.0          0.0      0.0        0.0\n",
       " 0.0       0.0        0.0        0.0          0.0      0.0        0.0\n",
       " 0.0       0.0        0.0        0.0          0.0      0.0        0.0\n",
       " 0.0       0.0        0.0        0.0       …  0.0      0.0        0.0\n",
       " 0.0       0.0        0.0        0.0          0.0      0.0        0.0\n",
       " 0.0       0.0        0.0        0.0          0.0      0.0        0.0\n",
       " 0.0       0.0        0.0        0.0          0.62476  0.234822  -0.74467"
      ]
     },
     "execution_count": 70,
     "metadata": {},
     "output_type": "execute_result"
    }
   ],
   "source": [
    "C = constraintsJacobian4(P,true)"
   ]
  },
  {
   "cell_type": "code",
   "execution_count": 71,
   "metadata": {},
   "outputs": [
    {
     "data": {
      "text/plain": [
       "79×79 Base.Matrix{Float64}:\n",
       "  0.863999    0.0         0.0        …  0.0  0.0  0.0  0.0  0.0  0.0  0.0\n",
       "  0.0         0.863999    0.0           0.0  0.0  0.0  0.0  0.0  0.0  0.0\n",
       "  0.0         0.0         0.863999      0.0  0.0  0.0  0.0  0.0  0.0  0.0\n",
       " -0.738921   -0.0        -0.0           0.0  0.0  0.0  0.0  0.0  0.0  0.0\n",
       " -0.0        -0.738921   -0.0           0.0  0.0  0.0  0.0  0.0  0.0  0.0\n",
       " -0.0        -0.0        -0.738921   …  0.0  0.0  0.0  0.0  0.0  0.0  0.0\n",
       "  0.0563137   0.0         0.0           0.0  0.0  0.0  0.0  0.0  0.0  0.0\n",
       "  0.0         0.0563137   0.0           0.0  0.0  0.0  0.0  0.0  0.0  0.0\n",
       "  0.0         0.0         0.0563137     0.0  0.0  0.0  0.0  0.0  0.0  0.0\n",
       " -0.0687189  -0.0        -0.0           0.0  0.0  0.0  0.0  0.0  0.0  0.0\n",
       " -0.0        -0.0687189  -0.0        …  0.0  0.0  0.0  0.0  0.0  0.0  0.0\n",
       " -0.0        -0.0        -0.0687189     0.0  0.0  0.0  0.0  0.0  0.0  0.0\n",
       " -0.0260857  -0.0        -0.0           0.0  0.0  0.0  0.0  0.0  0.0  0.0\n",
       "  ⋮                                  ⋱                 ⋮              \n",
       "  0.0         0.0         0.0           0.0  0.0  0.0  0.0  0.0  0.0  0.0\n",
       "  0.0         0.0         0.0           0.0  0.0  0.0  0.0  0.0  0.0  0.0\n",
       "  0.0         0.0         0.0           0.0  0.0  0.0  0.0  0.0  0.0  0.0\n",
       "  0.0         0.0         0.0        …  0.0  0.0  0.0  0.0  0.0  0.0  0.0\n",
       "  0.0         0.0         0.0           0.0  0.0  0.0  0.0  0.0  0.0  0.0\n",
       "  0.0         0.0         0.0           0.0  0.0  0.0  0.0  0.0  0.0  0.0\n",
       "  0.0         0.0         0.0           0.0  0.0  0.0  0.0  0.0  0.0  0.0\n",
       "  0.0         0.0         0.0           0.0  0.0  0.0  0.0  0.0  0.0  0.0\n",
       "  0.0         0.0         0.0        …  0.0  0.0  0.0  0.0  0.0  0.0  0.0\n",
       "  0.0         0.0         0.0           0.0  0.0  0.0  0.0  0.0  0.0  0.0\n",
       "  0.0         0.0         0.0           0.0  0.0  0.0  0.0  0.0  0.0  0.0\n",
       "  0.0         0.0         0.0           0.0  0.0  0.0  0.0  0.0  0.0  0.0"
      ]
     },
     "execution_count": 71,
     "metadata": {},
     "output_type": "execute_result"
    }
   ],
   "source": [
    "mat = vcat(\n",
    "        hcat(Aline(P),transpose(C)),\n",
    "        hcat(C,zeros(Float64,19,19))\n",
    "    )"
   ]
  },
  {
   "cell_type": "code",
   "execution_count": 72,
   "metadata": {},
   "outputs": [
    {
     "data": {
      "text/plain": [
       "func (generic function with 1 method)"
      ]
     },
     "execution_count": 72,
     "metadata": {},
     "output_type": "execute_result"
    }
   ],
   "source": [
    "func(Q) = tangentEnergy(Q,alpha=2.0,beta=4.5)"
   ]
  },
  {
   "cell_type": "code",
   "execution_count": 73,
   "metadata": {},
   "outputs": [
    {
     "data": {
      "text/plain": [
       "79-element Vector{Float64}:\n",
       " -0.40392839484886056\n",
       "  0.39591921706719735\n",
       " -0.9228873451000493\n",
       " -0.9596868779672517\n",
       " -0.2695133911869581\n",
       "  0.25855633689009555\n",
       "  0.9265847194949912\n",
       "  0.05646656805434762\n",
       "  0.8209592076316776\n",
       " -0.43690895099247307\n",
       "  0.5437888116896001\n",
       " -0.6233079582251757\n",
       "  0.8504057957176925\n",
       "  ⋮\n",
       "  0.0\n",
       "  0.0\n",
       "  0.0\n",
       "  0.0\n",
       "  0.0\n",
       "  0.0\n",
       "  0.0\n",
       "  0.0\n",
       "  0.0\n",
       "  0.0\n",
       "  0.0\n",
       "  0.0"
      ]
     },
     "execution_count": 73,
     "metadata": {},
     "output_type": "execute_result"
    }
   ],
   "source": [
    "ener_grad_ext = vcat(diff(func,P),zeros(Float64,19))"
   ]
  },
  {
   "cell_type": "code",
   "execution_count": 83,
   "metadata": {},
   "outputs": [
    {
     "data": {
      "text/plain": [
       "79-element Vector{Float64}:\n",
       "  0.33837247435585577\n",
       " -1.0498805653797455e14\n",
       " -2.852936318969707e11\n",
       "  0.9289296019292517\n",
       " -1.049880565379744e14\n",
       " -2.8529363189676733e11\n",
       "  1.4498674232340016\n",
       " -1.0498805653797466e14\n",
       " -2.8529363189591925e11\n",
       "  1.6793161885360373\n",
       " -1.049880565379746e14\n",
       " -2.8529363189623505e11\n",
       "  1.9802473499542799\n",
       "  ⋮\n",
       "  0.2818413421127826\n",
       " -0.6823423926198776\n",
       " -0.3636558192306692\n",
       " -0.4082880568735676\n",
       " -0.05574778894574942\n",
       " -1.3023637998616917\n",
       " -0.23590896179105914\n",
       " -0.11308803690050319\n",
       " -0.5213840400723122\n",
       " -0.5025318037052778\n",
       "  0.7839212324770628\n",
       "  0.6701804392534546"
      ]
     },
     "execution_count": 83,
     "metadata": {},
     "output_type": "execute_result"
    }
   ],
   "source": [
    "cons_proy_dir = mat \\ ener_grad_ext"
   ]
  },
  {
   "cell_type": "code",
   "execution_count": 84,
   "metadata": {},
   "outputs": [
    {
     "data": {
      "text/plain": [
       "79-element Vector{Float64}:\n",
       "  0.0\n",
       " -0.009712523252838945\n",
       "  0.0022841617681800264\n",
       " -1.1102230246251565e-16\n",
       " -0.004928402044025171\n",
       " -0.0017935944310447094\n",
       "  1.1102230246251565e-16\n",
       "  0.0363462300882187\n",
       "  0.000990255083402003\n",
       "  3.885780586188048e-16\n",
       "  0.07803587071222806\n",
       "  8.569398174074205e-5\n",
       " -7.771561172376096e-16\n",
       "  ⋮\n",
       "  0.0\n",
       "  0.0\n",
       " -0.0011444091796875\n",
       "  0.0\n",
       "  0.0\n",
       "  0.0\n",
       "  0.00213623046875\n",
       "  0.0\n",
       " -0.015625\n",
       "  0.002471923828125\n",
       "  0.002532958984375\n",
       "  0.0020751953125"
      ]
     },
     "execution_count": 84,
     "metadata": {},
     "output_type": "execute_result"
    }
   ],
   "source": [
    "mat * cons_proy_dir - ener_grad_ext"
   ]
  },
  {
   "cell_type": "code",
   "execution_count": 90,
   "metadata": {},
   "outputs": [
    {
     "data": {
      "text/plain": [
       "79-element Vector{Float64}:\n",
       " -2.0996928555487617\n",
       "  1.284211015535452\n",
       " -0.9721410530036825\n",
       "  0.7848389599881432\n",
       "  0.1808573038577645\n",
       " -0.20318993019128584\n",
       "  0.5245803366286612\n",
       "  1.0439755121465475\n",
       " -0.27140681683942114\n",
       " -0.49990266446499254\n",
       " -0.18232016888942232\n",
       " -1.0273705043084964\n",
       "  1.1453626452381431\n",
       "  ⋮\n",
       "  0.4472287331339079\n",
       " -1.7603506845561991\n",
       " -0.8080728980437524\n",
       " -0.8640922719983603\n",
       "  1.6847760306817283\n",
       " -0.3994815171256758\n",
       " -0.7617080273130701\n",
       "  0.12570120400570822\n",
       " -1.4148017491886535\n",
       " -0.9486759171508541\n",
       "  0.3250522566841259\n",
       "  0.9485332302765306"
      ]
     },
     "execution_count": 90,
     "metadata": {},
     "output_type": "execute_result"
    }
   ],
   "source": [
    "b = copy(cons_proy_dirnew) + randn(79)"
   ]
  },
  {
   "cell_type": "code",
   "execution_count": 86,
   "metadata": {},
   "outputs": [],
   "source": [
    "using IterativeSolvers"
   ]
  },
  {
   "cell_type": "code",
   "execution_count": 91,
   "metadata": {},
   "outputs": [
    {
     "data": {
      "text/plain": [
       "79-element Vector{Float64}:\n",
       " -1.2526687295943795\n",
       "  0.8124095088289439\n",
       " -0.34146733838564763\n",
       " -0.6611726791263978\n",
       "  0.9290818213205987\n",
       " -0.1373238247785665\n",
       " -0.14770852251026864\n",
       "  0.6570639370273927\n",
       "  0.7135685073407471\n",
       "  0.08351515035787087\n",
       "  0.7264603119873027\n",
       "  0.3965764699560919\n",
       "  0.3898957407509984\n",
       "  ⋮\n",
       "  0.28559464743319735\n",
       " -0.6914199257300746\n",
       " -0.39523722130360145\n",
       " -0.4564771040029306\n",
       " -0.09555680329398501\n",
       " -1.3093716286500594\n",
       " -0.2290878663749977\n",
       " -0.1351301750058085\n",
       " -0.5578137412358033\n",
       " -0.5262692952478909\n",
       "  0.8228239604827223\n",
       "  0.684059828940535"
      ]
     },
     "execution_count": 91,
     "metadata": {},
     "output_type": "execute_result"
    }
   ],
   "source": [
    "IterativeSolvers.cg!(b,mat,ener_grad_ext)"
   ]
  },
  {
   "cell_type": "code",
   "execution_count": 92,
   "metadata": {},
   "outputs": [
    {
     "data": {
      "text/plain": [
       "79-element Vector{Float64}:\n",
       " -1.2526687295943795\n",
       "  0.8124095088289439\n",
       " -0.34146733838564763\n",
       " -0.6611726791263978\n",
       "  0.9290818213205987\n",
       " -0.1373238247785665\n",
       " -0.14770852251026864\n",
       "  0.6570639370273927\n",
       "  0.7135685073407471\n",
       "  0.08351515035787087\n",
       "  0.7264603119873027\n",
       "  0.3965764699560919\n",
       "  0.3898957407509984\n",
       "  ⋮\n",
       "  0.28559464743319735\n",
       " -0.6914199257300746\n",
       " -0.39523722130360145\n",
       " -0.4564771040029306\n",
       " -0.09555680329398501\n",
       " -1.3093716286500594\n",
       " -0.2290878663749977\n",
       " -0.1351301750058085\n",
       " -0.5578137412358033\n",
       " -0.5262692952478909\n",
       "  0.8228239604827223\n",
       "  0.684059828940535"
      ]
     },
     "execution_count": 92,
     "metadata": {},
     "output_type": "execute_result"
    }
   ],
   "source": [
    "b"
   ]
  },
  {
   "cell_type": "code",
   "execution_count": 89,
   "metadata": {},
   "outputs": [
    {
     "data": {
      "text/plain": [
       "79-element Vector{Float64}:\n",
       "  3.3800318099963533e-10\n",
       " -1.5698597977120698e-10\n",
       "  2.843132396179726e-10\n",
       " -3.469882159379267e-10\n",
       " -7.950584635096902e-12\n",
       " -4.216899052167378e-11\n",
       "  5.224899402023198e-10\n",
       "  1.7361319326614222e-10\n",
       "  3.6849279183570616e-10\n",
       " -1.34970296050696e-9\n",
       " -4.9034998284014364e-11\n",
       " -6.476216229955867e-10\n",
       "  2.634833462522579e-10\n",
       "  ⋮\n",
       " -2.781758157155423e-11\n",
       " -7.960565540088282e-11\n",
       "  1.4672789372394135e-9\n",
       " -7.613630559344386e-10\n",
       " -2.903465523562687e-10\n",
       " -6.061527391132415e-10\n",
       "  1.631741908258988e-9\n",
       " -4.510596257611965e-9\n",
       "  9.153623525826049e-9\n",
       " -6.000213596812909e-9\n",
       " -2.8955676190101087e-9\n",
       "  3.463968001327089e-9"
      ]
     },
     "execution_count": 89,
     "metadata": {},
     "output_type": "execute_result"
    }
   ],
   "source": [
    "mat*cons_proy_dirnew - ener_grad_ext"
   ]
  },
  {
   "cell_type": "code",
   "execution_count": 79,
   "metadata": {},
   "outputs": [
    {
     "data": {
      "text/plain": [
       "79×1 Base.Matrix{Float64}:\n",
       " 0.0\n",
       " 0.0\n",
       " 0.0\n",
       " 0.0\n",
       " 0.0\n",
       " 0.0\n",
       " 0.0\n",
       " 0.0\n",
       " 0.0\n",
       " 0.0\n",
       " 0.0\n",
       " 0.0\n",
       " 0.0\n",
       " ⋮\n",
       " 0.0\n",
       " 0.0\n",
       " 0.0\n",
       " 0.0\n",
       " 0.0\n",
       " 0.0\n",
       " 0.0\n",
       " 0.0\n",
       " 0.0\n",
       " 0.0\n",
       " 0.0\n",
       " 0.0"
      ]
     },
     "execution_count": 79,
     "metadata": {},
     "output_type": "execute_result"
    }
   ],
   "source": [
    "using DelimitedFiles\n",
    "ener_grad2 = readdlm(\"../src/ener.csv\")\n",
    "ener_grad2 = vcat(ener_grad2,zeros(19))\n",
    "ener_grad_ext-ener_grad2"
   ]
  },
  {
   "cell_type": "code",
   "execution_count": 80,
   "metadata": {},
   "outputs": [
    {
     "data": {
      "text/plain": [
       "0.0"
      ]
     },
     "execution_count": 80,
     "metadata": {},
     "output_type": "execute_result"
    }
   ],
   "source": [
    "mat2 = readdlm(\"../src/mat.csv\",',');\n",
    "norm(mat-mat2)"
   ]
  },
  {
   "cell_type": "code",
   "execution_count": 81,
   "metadata": {},
   "outputs": [
    {
     "data": {
      "text/plain": [
       "79×1 Base.Matrix{Float64}:\n",
       "  0.33837247435585577\n",
       " -1.0498805653797455e14\n",
       " -2.852936318969707e11\n",
       "  0.9289296019292517\n",
       " -1.049880565379744e14\n",
       " -2.8529363189676733e11\n",
       "  1.4498674232340016\n",
       " -1.0498805653797466e14\n",
       " -2.8529363189591925e11\n",
       "  1.6793161885360373\n",
       " -1.049880565379746e14\n",
       " -2.8529363189623505e11\n",
       "  1.9802473499542799\n",
       "  ⋮\n",
       "  0.2818413421127826\n",
       " -0.6823423926198776\n",
       " -0.3636558192306692\n",
       " -0.4082880568735676\n",
       " -0.05574778894574942\n",
       " -1.3023637998616917\n",
       " -0.23590896179105914\n",
       " -0.11308803690050319\n",
       " -0.5213840400723122\n",
       " -0.5025318037052778\n",
       "  0.7839212324770628\n",
       "  0.6701804392534546"
      ]
     },
     "execution_count": 81,
     "metadata": {},
     "output_type": "execute_result"
    }
   ],
   "source": [
    "cons_proy_dir2 = mat2 \\ ener_grad2"
   ]
  },
  {
   "cell_type": "code",
   "execution_count": 85,
   "metadata": {},
   "outputs": [
    {
     "data": {
      "text/plain": [
       "60-element Vector{Float64}:\n",
       "  2.9966162752564416\n",
       "  1.0498805653797455e12\n",
       "  2.852936318969707e9\n",
       "  2.6234711429640174\n",
       "  1.0498805653789355e12\n",
       "  2.8529363204938416e9\n",
       "  1.6260586533361276\n",
       "  1.049880565378462e12\n",
       "  2.8529363209319153e9\n",
       "  0.3003168954141133\n",
       "  1.0498805653785364e12\n",
       "  2.8529363199861207e9\n",
       " -0.9726701920980549\n",
       "  ⋮\n",
       " -2.0798660962126445\n",
       "  1.0498805653784219e12\n",
       "  2.852936320899827e9\n",
       " -1.650401643116308\n",
       "  1.0498805653795729e12\n",
       "  2.8529363205909452e9\n",
       " -0.6414742398667621\n",
       "  1.0498805653805503e12\n",
       "  2.852936319133643e9\n",
       "  0.6838639258543289\n",
       "  1.0498805653810497e12\n",
       "  2.852936317554959e9"
      ]
     },
     "execution_count": 85,
     "metadata": {},
     "output_type": "execute_result"
    }
   ],
   "source": [
    "new_chain = toArray(P)-1e-2*cons_proy_dir[1:(3*19+3)]"
   ]
  },
  {
   "cell_type": "code",
   "execution_count": 20,
   "metadata": {},
   "outputs": [
    {
     "data": {
      "text/plain": [
       "19-element Vector{Float64}:\n",
       " 6.00876777379078e-6\n",
       " 2.9374882567712035e-5\n",
       " 5.458451804107867e-6\n",
       " 1.115374666404989e-6\n",
       " 8.685076124947955e-6\n",
       " 1.7776764893451258e-6\n",
       " 2.2233508044644523e-5\n",
       " 2.974609544237339e-6\n",
       " 1.5114048473652275e-5\n",
       " 3.721142316726045e-6\n",
       " 5.829936102763611e-7\n",
       " 1.3725280006759988e-5\n",
       " 6.89652701924004e-6\n",
       " 1.0641625379559372e-5\n",
       " 5.162375503298122e-6\n",
       " 4.577017140849904e-6\n",
       " 1.602272705181207e-6\n",
       " 1.2733403385034592e-5\n",
       " 1.6513647782545604e-8"
      ]
     },
     "execution_count": 20,
     "metadata": {},
     "output_type": "execute_result"
    }
   ],
   "source": [
    "cons   = constraints(new_chain,ls,bas,das,true)"
   ]
  },
  {
   "cell_type": "code",
   "execution_count": 21,
   "metadata": {},
   "outputs": [
    {
     "data": {
      "text/plain": [
       "79-element Vector{Float64}:\n",
       "  1.931694992316841e-5\n",
       " -1.383478480885617e-5\n",
       "  2.998726049428203e-5\n",
       "  1.7213770044261767e-5\n",
       " -1.228810181575076e-5\n",
       "  2.334862055542543e-5\n",
       "  4.1498936589880557e-5\n",
       " -3.761291329001774e-7\n",
       "  1.1882083962197074e-5\n",
       "  4.327866661231305e-5\n",
       " -1.7211290309475874e-6\n",
       "  1.8670975769666702e-5\n",
       "  4.182093711165242e-5\n",
       "  ⋮\n",
       "  9.100463318636772e-6\n",
       "  2.1703282078834e-5\n",
       "  3.0913627624855544e-6\n",
       " -2.070208192680306e-6\n",
       "  1.4651131785032486e-5\n",
       "  1.0761387091216522e-5\n",
       "  1.1575608597005926e-5\n",
       "  3.944722812042013e-6\n",
       "  3.702663302454477e-6\n",
       "  1.5164638662239555e-6\n",
       "  1.4410111826685708e-5\n",
       " -1.8177928519620297e-6"
      ]
     },
     "execution_count": 21,
     "metadata": {},
     "output_type": "execute_result"
    }
   ],
   "source": [
    "newSol = vcat(zeros(Float64,3*19+3),-1*cons)\n",
    "chain_proy_dir = mat \\ newSol"
   ]
  },
  {
   "cell_type": "code",
   "execution_count": 23,
   "metadata": {},
   "outputs": [
    {
     "data": {
      "text/plain": [
       "4.808998193651908e-5"
      ]
     },
     "execution_count": 23,
     "metadata": {},
     "output_type": "execute_result"
    }
   ],
   "source": [
    "new_chain = new_chain + chain_proy_dir[1:(3*19+3)]\n",
    "c = 0\n",
    "cons = constraints(new_chain,ls,bas,das,true)\n",
    "con_norm = LinearAlgebra.norm(cons,2)"
   ]
  },
  {
   "cell_type": "code",
   "execution_count": null,
   "metadata": {},
   "outputs": [],
   "source": []
  }
 ],
 "metadata": {
  "kernelspec": {
   "display_name": "Julia 1.6.1",
   "language": "julia",
   "name": "julia-1.6"
  },
  "language_info": {
   "file_extension": ".jl",
   "mimetype": "application/julia",
   "name": "julia",
   "version": "1.6.1"
  }
 },
 "nbformat": 4,
 "nbformat_minor": 4
}
