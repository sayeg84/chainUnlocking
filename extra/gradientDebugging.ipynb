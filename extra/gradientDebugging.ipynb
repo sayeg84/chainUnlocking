{
 "cells": [
  {
   "cell_type": "code",
   "execution_count": 54,
   "metadata": {},
   "outputs": [
    {
     "data": {
      "application/vnd.plotly.v1+json": {
       "data": [
        {
         "colorbar": {
          "title": {
           "text": ""
          }
         },
         "legendgroup": "y1",
         "marker": {
          "color": "rgba(102, 0, 102, 0.500)",
          "line": {
           "color": "rgba(0, 0, 0, 0.5)",
           "width": 1
          },
          "size": 8,
          "symbol": "circle"
         },
         "mode": "markers",
         "name": "y1",
         "scene": "scene",
         "showlegend": true,
         "type": "scatter3d",
         "x": [
          1
         ],
         "xaxis": "x",
         "y": [
          1
         ],
         "yaxis": "y",
         "z": [
          1
         ],
         "zaxis": "z",
         "zmax": 10,
         "zmin": 1
        },
        {
         "colorbar": {
          "title": {
           "text": ""
          }
         },
         "legendgroup": "y1",
         "marker": {
          "color": "rgba(57, 0, 159, 0.500)",
          "line": {
           "color": "rgba(0, 0, 0, 0.5)",
           "width": 1
          },
          "size": 8,
          "symbol": "circle"
         },
         "mode": "markers",
         "name": "y1",
         "scene": "scene",
         "showlegend": false,
         "type": "scatter3d",
         "x": [
          2
         ],
         "xaxis": "x",
         "y": [
          2
         ],
         "yaxis": "y",
         "z": [
          2
         ],
         "zaxis": "z",
         "zmax": 10,
         "zmin": 1
        },
        {
         "colorbar": {
          "title": {
           "text": ""
          }
         },
         "legendgroup": "y1",
         "marker": {
          "color": "rgba(11, 0, 215, 0.500)",
          "line": {
           "color": "rgba(0, 0, 0, 0.5)",
           "width": 1
          },
          "size": 8,
          "symbol": "circle"
         },
         "mode": "markers",
         "name": "y1",
         "scene": "scene",
         "showlegend": false,
         "type": "scatter3d",
         "x": [
          3
         ],
         "xaxis": "x",
         "y": [
          3
         ],
         "yaxis": "y",
         "z": [
          3
         ],
         "zaxis": "z",
         "zmax": 10,
         "zmin": 1
        },
        {
         "colorbar": {
          "title": {
           "text": ""
          }
         },
         "legendgroup": "y1",
         "marker": {
          "color": "rgba(0, 34, 153, 0.500)",
          "line": {
           "color": "rgba(0, 0, 0, 0.5)",
           "width": 1
          },
          "size": 8,
          "symbol": "circle"
         },
         "mode": "markers",
         "name": "y1",
         "scene": "scene",
         "showlegend": false,
         "type": "scatter3d",
         "x": [
          4
         ],
         "xaxis": "x",
         "y": [
          4
         ],
         "yaxis": "y",
         "z": [
          4
         ],
         "zaxis": "z",
         "zmax": 10,
         "zmin": 1
        },
        {
         "colorbar": {
          "title": {
           "text": ""
          }
         },
         "legendgroup": "y1",
         "marker": {
          "color": "rgba(0, 80, 51, 0.500)",
          "line": {
           "color": "rgba(0, 0, 0, 0.5)",
           "width": 1
          },
          "size": 8,
          "symbol": "circle"
         },
         "mode": "markers",
         "name": "y1",
         "scene": "scene",
         "showlegend": false,
         "type": "scatter3d",
         "x": [
          5
         ],
         "xaxis": "x",
         "y": [
          5
         ],
         "yaxis": "y",
         "z": [
          5
         ],
         "zaxis": "z",
         "zmax": 10,
         "zmin": 1
        },
        {
         "colorbar": {
          "title": {
           "text": ""
          }
         },
         "legendgroup": "y1",
         "marker": {
          "color": "rgba(51, 111, 0, 0.500)",
          "line": {
           "color": "rgba(0, 0, 0, 0.5)",
           "width": 1
          },
          "size": 8,
          "symbol": "circle"
         },
         "mode": "markers",
         "name": "y1",
         "scene": "scene",
         "showlegend": false,
         "type": "scatter3d",
         "x": [
          6
         ],
         "xaxis": "x",
         "y": [
          6
         ],
         "yaxis": "y",
         "z": [
          6
         ],
         "zaxis": "z",
         "zmax": 10,
         "zmin": 1
        },
        {
         "colorbar": {
          "title": {
           "text": ""
          }
         },
         "legendgroup": "y1",
         "marker": {
          "color": "rgba(153, 127, 0, 0.500)",
          "line": {
           "color": "rgba(0, 0, 0, 0.5)",
           "width": 1
          },
          "size": 8,
          "symbol": "circle"
         },
         "mode": "markers",
         "name": "y1",
         "scene": "scene",
         "showlegend": false,
         "type": "scatter3d",
         "x": [
          7
         ],
         "xaxis": "x",
         "y": [
          7
         ],
         "yaxis": "y",
         "z": [
          7
         ],
         "zaxis": "z",
         "zmax": 10,
         "zmin": 1
        },
        {
         "colorbar": {
          "title": {
           "text": ""
          }
         },
         "legendgroup": "y1",
         "marker": {
          "color": "rgba(230, 124, 0, 0.500)",
          "line": {
           "color": "rgba(0, 0, 0, 0.5)",
           "width": 1
          },
          "size": 8,
          "symbol": "circle"
         },
         "mode": "markers",
         "name": "y1",
         "scene": "scene",
         "showlegend": false,
         "type": "scatter3d",
         "x": [
          8
         ],
         "xaxis": "x",
         "y": [
          8
         ],
         "yaxis": "y",
         "z": [
          8
         ],
         "zaxis": "z",
         "zmax": 10,
         "zmin": 1
        },
        {
         "colorbar": {
          "title": {
           "text": ""
          }
         },
         "legendgroup": "y1",
         "marker": {
          "color": "rgba(230, 62, 0, 0.500)",
          "line": {
           "color": "rgba(0, 0, 0, 0.5)",
           "width": 1
          },
          "size": 8,
          "symbol": "circle"
         },
         "mode": "markers",
         "name": "y1",
         "scene": "scene",
         "showlegend": false,
         "type": "scatter3d",
         "x": [
          9
         ],
         "xaxis": "x",
         "y": [
          9
         ],
         "yaxis": "y",
         "z": [
          9
         ],
         "zaxis": "z",
         "zmax": 10,
         "zmin": 1
        },
        {
         "colorbar": {
          "title": {
           "text": ""
          }
         },
         "legendgroup": "y1",
         "marker": {
          "color": "rgba(230, 0, 0, 0.500)",
          "line": {
           "color": "rgba(0, 0, 0, 0.5)",
           "width": 1
          },
          "size": 8,
          "symbol": "circle"
         },
         "mode": "markers",
         "name": "y1",
         "scene": "scene",
         "showlegend": false,
         "type": "scatter3d",
         "x": [
          10
         ],
         "xaxis": "x",
         "y": [
          10
         ],
         "yaxis": "y",
         "z": [
          10
         ],
         "zaxis": "z",
         "zmax": 10,
         "zmin": 1
        },
        {
         "colorbar": {
          "title": {
           "text": ""
          }
         },
         "hoverinfo": "none",
         "marker": {
          "cmax": 10,
          "cmin": 1,
          "color": [
           0.5
          ],
          "colorscale": [
           [
            0,
            "rgba(102, 0, 102, 1.000)"
           ],
           [
            0.25,
            "rgba(0, 0, 230, 1.000)"
           ],
           [
            0.5,
            "rgba(0, 102, 0, 1.000)"
           ],
           [
            0.75,
            "rgba(230, 140, 0, 1.000)"
           ],
           [
            1,
            "rgba(230, 0, 0, 1.000)"
           ]
          ],
          "opacity": 1e-10,
          "showscale": true,
          "size": 1e-10
         },
         "mode": "markers",
         "name": "y1",
         "scene": "scene",
         "showlegend": false,
         "type": "scatter3d",
         "x": [
          1
         ],
         "xaxis": "x",
         "y": [
          1
         ],
         "yaxis": "y",
         "z": [
          1
         ],
         "zaxis": "z",
         "zmax": 10,
         "zmin": 1
        }
       ],
       "layout": {
        "annotations": [],
        "height": 400,
        "legend": {
         "bgcolor": "rgba(255, 255, 255, 1.000)",
         "bordercolor": "rgba(0, 0, 0, 1)",
         "borderwidth": 1,
         "font": {
          "color": "rgba(0, 0, 0, 1)",
          "family": "sans-serif",
          "size": 11
         },
         "title": {
          "font": {
           "color": "rgba(0, 0, 0, 1)",
           "family": "sans-serif",
           "size": 15
          },
          "text": ""
         },
         "tracegroupgap": 0,
         "traceorder": "normal",
         "x": 1,
         "xanchor": "auto",
         "y": 1,
         "yanchor": "auto"
        },
        "margin": {
         "b": 20,
         "l": 0,
         "r": 0,
         "t": 20
        },
        "paper_bgcolor": "rgba(255, 255, 255, 1.000)",
        "plot_bgcolor": "rgba(255, 255, 255, 1.000)",
        "scene": {
         "aspectmode": "auto",
         "aspectratio": {
          "x": 1.0000000000000002,
          "y": 1.0000000000000002,
          "z": 1.0000000000000002
         },
         "camera": {
          "center": {
           "x": 0,
           "y": 0,
           "z": 0
          },
          "eye": {
           "x": 4.3276141504091985,
           "y": -7.495647584062755,
           "z": 4.9970983893751715
          },
          "projection": {
           "type": "perspective"
          },
          "up": {
           "x": 0,
           "y": 0,
           "z": 1
          }
         },
         "domain": {
          "x": [
           0.03619130941965587,
           0.9934383202099738
          ],
          "y": [
           0.03762029746281716,
           0.9901574803149606
          ]
         },
         "xaxis": {
          "gridcolor": "rgba(0, 0, 0, 0.1)",
          "gridwidth": 0.5,
          "linecolor": "rgba(0, 0, 0, 1)",
          "mirror": false,
          "range": [
           0.73,
           10.27
          ],
          "showgrid": true,
          "showline": true,
          "showticklabels": true,
          "tickangle": 0,
          "tickcolor": "rgb(0, 0, 0)",
          "tickfont": {
           "color": "rgba(0, 0, 0, 1)",
           "family": "sans-serif",
           "size": 11
          },
          "tickmode": "array",
          "ticks": "inside",
          "ticktext": [
           "2",
           "4",
           "6",
           "8",
           "10"
          ],
          "tickvals": [
           2,
           4,
           6,
           8,
           10
          ],
          "title": {
           "font": {
            "color": "rgba(0, 0, 0, 1)",
            "family": "sans-serif",
            "size": 15
           },
           "text": ""
          },
          "type": "linear",
          "visible": true,
          "zeroline": false,
          "zerolinecolor": "rgba(0, 0, 0, 1)"
         },
         "yaxis": {
          "gridcolor": "rgba(0, 0, 0, 0.1)",
          "gridwidth": 0.5,
          "linecolor": "rgba(0, 0, 0, 1)",
          "mirror": false,
          "range": [
           0.73,
           10.27
          ],
          "showgrid": true,
          "showline": true,
          "showticklabels": true,
          "tickangle": 0,
          "tickcolor": "rgb(0, 0, 0)",
          "tickfont": {
           "color": "rgba(0, 0, 0, 1)",
           "family": "sans-serif",
           "size": 11
          },
          "tickmode": "array",
          "ticks": "inside",
          "ticktext": [
           "2",
           "4",
           "6",
           "8",
           "10"
          ],
          "tickvals": [
           2,
           4,
           6,
           8,
           10
          ],
          "title": {
           "font": {
            "color": "rgba(0, 0, 0, 1)",
            "family": "sans-serif",
            "size": 15
           },
           "text": ""
          },
          "type": "linear",
          "visible": true,
          "zeroline": false,
          "zerolinecolor": "rgba(0, 0, 0, 1)"
         },
         "zaxis": {
          "gridcolor": "rgba(0, 0, 0, 0.1)",
          "gridwidth": 0.5,
          "linecolor": "rgba(0, 0, 0, 1)",
          "mirror": false,
          "range": [
           0.73,
           10.27
          ],
          "showgrid": true,
          "showline": true,
          "showticklabels": true,
          "tickangle": 0,
          "tickcolor": "rgb(0, 0, 0)",
          "tickfont": {
           "color": "rgba(0, 0, 0, 1)",
           "family": "sans-serif",
           "size": 11
          },
          "tickmode": "array",
          "ticks": "inside",
          "ticktext": [
           "2",
           "4",
           "6",
           "8",
           "10"
          ],
          "tickvals": [
           2,
           4,
           6,
           8,
           10
          ],
          "title": {
           "font": {
            "color": "rgba(0, 0, 0, 1)",
            "family": "sans-serif",
            "size": 15
           },
           "text": ""
          },
          "type": "linear",
          "visible": true,
          "zeroline": false,
          "zerolinecolor": "rgba(0, 0, 0, 1)"
         }
        },
        "showlegend": true,
        "width": 600
       }
      },
      "image/png": "[encoded data removed]",
      "text/html": [
       "    <div id=\"7f86e167-baa2-4263-a0ea-e4c064c58ea3\" style=\"width:600px;height:400px;\"></div>\n",
       "    <script>\n",
       "        requirejs.config({\n",
       "        paths: {\n",
       "            Plotly: 'https://cdn.plot.ly/plotly-1.57.1.min'\n",
       "        }\n",
       "    });\n",
       "    require(['Plotly'], function (Plotly) {\n",
       "\n",
       "        var PLOT = document.getElementById('7f86e167-baa2-4263-a0ea-e4c064c58ea3');\n",
       "    Plotly.plot(PLOT, [\n",
       "    {\n",
       "        \"xaxis\": \"x\",\n",
       "        \"colorbar\": {\n",
       "            \"title\": \"\"\n",
       "        },\n",
       "        \"yaxis\": \"y\",\n",
       "        \"zaxis\": \"z\",\n",
       "        \"x\": [\n",
       "            1\n",
       "        ],\n",
       "        \"showlegend\": true,\n",
       "        \"mode\": \"markers\",\n",
       "        \"name\": \"y1\",\n",
       "        \"zmin\": 1.0,\n",
       "        \"legendgroup\": \"y1\",\n",
       "        \"z\": [\n",
       "            1\n",
       "        ],\n",
       "        \"marker\": {\n",
       "            \"symbol\": \"circle\",\n",
       "            \"color\": \"rgba(102, 0, 102, 0.500)\",\n",
       "            \"line\": {\n",
       "                \"color\": \"rgba(0, 0, 0, 0.500)\",\n",
       "                \"width\": 1\n",
       "            },\n",
       "            \"size\": 8\n",
       "        },\n",
       "        \"zmax\": 10.0,\n",
       "        \"y\": [\n",
       "            1\n",
       "        ],\n",
       "        \"type\": \"scatter3d\",\n",
       "        \"scene\": \"scene\"\n",
       "    },\n",
       "    {\n",
       "        \"xaxis\": \"x\",\n",
       "        \"colorbar\": {\n",
       "            \"title\": \"\"\n",
       "        },\n",
       "        \"yaxis\": \"y\",\n",
       "        \"zaxis\": \"z\",\n",
       "        \"x\": [\n",
       "            2\n",
       "        ],\n",
       "        \"showlegend\": false,\n",
       "        \"mode\": \"markers\",\n",
       "        \"name\": \"y1\",\n",
       "        \"zmin\": 1.0,\n",
       "        \"legendgroup\": \"y1\",\n",
       "        \"z\": [\n",
       "            2\n",
       "        ],\n",
       "        \"marker\": {\n",
       "            \"symbol\": \"circle\",\n",
       "            \"color\": \"rgba(57, 0, 159, 0.500)\",\n",
       "            \"line\": {\n",
       "                \"color\": \"rgba(0, 0, 0, 0.500)\",\n",
       "                \"width\": 1\n",
       "            },\n",
       "            \"size\": 8\n",
       "        },\n",
       "        \"zmax\": 10.0,\n",
       "        \"y\": [\n",
       "            2\n",
       "        ],\n",
       "        \"type\": \"scatter3d\",\n",
       "        \"scene\": \"scene\"\n",
       "    },\n",
       "    {\n",
       "        \"xaxis\": \"x\",\n",
       "        \"colorbar\": {\n",
       "            \"title\": \"\"\n",
       "        },\n",
       "        \"yaxis\": \"y\",\n",
       "        \"zaxis\": \"z\",\n",
       "        \"x\": [\n",
       "            3\n",
       "        ],\n",
       "        \"showlegend\": false,\n",
       "        \"mode\": \"markers\",\n",
       "        \"name\": \"y1\",\n",
       "        \"zmin\": 1.0,\n",
       "        \"legendgroup\": \"y1\",\n",
       "        \"z\": [\n",
       "            3\n",
       "        ],\n",
       "        \"marker\": {\n",
       "            \"symbol\": \"circle\",\n",
       "            \"color\": \"rgba(11, 0, 215, 0.500)\",\n",
       "            \"line\": {\n",
       "                \"color\": \"rgba(0, 0, 0, 0.500)\",\n",
       "                \"width\": 1\n",
       "            },\n",
       "            \"size\": 8\n",
       "        },\n",
       "        \"zmax\": 10.0,\n",
       "        \"y\": [\n",
       "            3\n",
       "        ],\n",
       "        \"type\": \"scatter3d\",\n",
       "        \"scene\": \"scene\"\n",
       "    },\n",
       "    {\n",
       "        \"xaxis\": \"x\",\n",
       "        \"colorbar\": {\n",
       "            \"title\": \"\"\n",
       "        },\n",
       "        \"yaxis\": \"y\",\n",
       "        \"zaxis\": \"z\",\n",
       "        \"x\": [\n",
       "            4\n",
       "        ],\n",
       "        \"showlegend\": false,\n",
       "        \"mode\": \"markers\",\n",
       "        \"name\": \"y1\",\n",
       "        \"zmin\": 1.0,\n",
       "        \"legendgroup\": \"y1\",\n",
       "        \"z\": [\n",
       "            4\n",
       "        ],\n",
       "        \"marker\": {\n",
       "            \"symbol\": \"circle\",\n",
       "            \"color\": \"rgba(0, 34, 153, 0.500)\",\n",
       "            \"line\": {\n",
       "                \"color\": \"rgba(0, 0, 0, 0.500)\",\n",
       "                \"width\": 1\n",
       "            },\n",
       "            \"size\": 8\n",
       "        },\n",
       "        \"zmax\": 10.0,\n",
       "        \"y\": [\n",
       "            4\n",
       "        ],\n",
       "        \"type\": \"scatter3d\",\n",
       "        \"scene\": \"scene\"\n",
       "    },\n",
       "    {\n",
       "        \"xaxis\": \"x\",\n",
       "        \"colorbar\": {\n",
       "            \"title\": \"\"\n",
       "        },\n",
       "        \"yaxis\": \"y\",\n",
       "        \"zaxis\": \"z\",\n",
       "        \"x\": [\n",
       "            5\n",
       "        ],\n",
       "        \"showlegend\": false,\n",
       "        \"mode\": \"markers\",\n",
       "        \"name\": \"y1\",\n",
       "        \"zmin\": 1.0,\n",
       "        \"legendgroup\": \"y1\",\n",
       "        \"z\": [\n",
       "            5\n",
       "        ],\n",
       "        \"marker\": {\n",
       "            \"symbol\": \"circle\",\n",
       "            \"color\": \"rgba(0, 80, 51, 0.500)\",\n",
       "            \"line\": {\n",
       "                \"color\": \"rgba(0, 0, 0, 0.500)\",\n",
       "                \"width\": 1\n",
       "            },\n",
       "            \"size\": 8\n",
       "        },\n",
       "        \"zmax\": 10.0,\n",
       "        \"y\": [\n",
       "            5\n",
       "        ],\n",
       "        \"type\": \"scatter3d\",\n",
       "        \"scene\": \"scene\"\n",
       "    },\n",
       "    {\n",
       "        \"xaxis\": \"x\",\n",
       "        \"colorbar\": {\n",
       "            \"title\": \"\"\n",
       "        },\n",
       "        \"yaxis\": \"y\",\n",
       "        \"zaxis\": \"z\",\n",
       "        \"x\": [\n",
       "            6\n",
       "        ],\n",
       "        \"showlegend\": false,\n",
       "        \"mode\": \"markers\",\n",
       "        \"name\": \"y1\",\n",
       "        \"zmin\": 1.0,\n",
       "        \"legendgroup\": \"y1\",\n",
       "        \"z\": [\n",
       "            6\n",
       "        ],\n",
       "        \"marker\": {\n",
       "            \"symbol\": \"circle\",\n",
       "            \"color\": \"rgba(51, 111, 0, 0.500)\",\n",
       "            \"line\": {\n",
       "                \"color\": \"rgba(0, 0, 0, 0.500)\",\n",
       "                \"width\": 1\n",
       "            },\n",
       "            \"size\": 8\n",
       "        },\n",
       "        \"zmax\": 10.0,\n",
       "        \"y\": [\n",
       "            6\n",
       "        ],\n",
       "        \"type\": \"scatter3d\",\n",
       "        \"scene\": \"scene\"\n",
       "    },\n",
       "    {\n",
       "        \"xaxis\": \"x\",\n",
       "        \"colorbar\": {\n",
       "            \"title\": \"\"\n",
       "        },\n",
       "        \"yaxis\": \"y\",\n",
       "        \"zaxis\": \"z\",\n",
       "        \"x\": [\n",
       "            7\n",
       "        ],\n",
       "        \"showlegend\": false,\n",
       "        \"mode\": \"markers\",\n",
       "        \"name\": \"y1\",\n",
       "        \"zmin\": 1.0,\n",
       "        \"legendgroup\": \"y1\",\n",
       "        \"z\": [\n",
       "            7\n",
       "        ],\n",
       "        \"marker\": {\n",
       "            \"symbol\": \"circle\",\n",
       "            \"color\": \"rgba(153, 127, 0, 0.500)\",\n",
       "            \"line\": {\n",
       "                \"color\": \"rgba(0, 0, 0, 0.500)\",\n",
       "                \"width\": 1\n",
       "            },\n",
       "            \"size\": 8\n",
       "        },\n",
       "        \"zmax\": 10.0,\n",
       "        \"y\": [\n",
       "            7\n",
       "        ],\n",
       "        \"type\": \"scatter3d\",\n",
       "        \"scene\": \"scene\"\n",
       "    },\n",
       "    {\n",
       "        \"xaxis\": \"x\",\n",
       "        \"colorbar\": {\n",
       "            \"title\": \"\"\n",
       "        },\n",
       "        \"yaxis\": \"y\",\n",
       "        \"zaxis\": \"z\",\n",
       "        \"x\": [\n",
       "            8\n",
       "        ],\n",
       "        \"showlegend\": false,\n",
       "        \"mode\": \"markers\",\n",
       "        \"name\": \"y1\",\n",
       "        \"zmin\": 1.0,\n",
       "        \"legendgroup\": \"y1\",\n",
       "        \"z\": [\n",
       "            8\n",
       "        ],\n",
       "        \"marker\": {\n",
       "            \"symbol\": \"circle\",\n",
       "            \"color\": \"rgba(230, 124, 0, 0.500)\",\n",
       "            \"line\": {\n",
       "                \"color\": \"rgba(0, 0, 0, 0.500)\",\n",
       "                \"width\": 1\n",
       "            },\n",
       "            \"size\": 8\n",
       "        },\n",
       "        \"zmax\": 10.0,\n",
       "        \"y\": [\n",
       "            8\n",
       "        ],\n",
       "        \"type\": \"scatter3d\",\n",
       "        \"scene\": \"scene\"\n",
       "    },\n",
       "    {\n",
       "        \"xaxis\": \"x\",\n",
       "        \"colorbar\": {\n",
       "            \"title\": \"\"\n",
       "        },\n",
       "        \"yaxis\": \"y\",\n",
       "        \"zaxis\": \"z\",\n",
       "        \"x\": [\n",
       "            9\n",
       "        ],\n",
       "        \"showlegend\": false,\n",
       "        \"mode\": \"markers\",\n",
       "        \"name\": \"y1\",\n",
       "        \"zmin\": 1.0,\n",
       "        \"legendgroup\": \"y1\",\n",
       "        \"z\": [\n",
       "            9\n",
       "        ],\n",
       "        \"marker\": {\n",
       "            \"symbol\": \"circle\",\n",
       "            \"color\": \"rgba(230, 62, 0, 0.500)\",\n",
       "            \"line\": {\n",
       "                \"color\": \"rgba(0, 0, 0, 0.500)\",\n",
       "                \"width\": 1\n",
       "            },\n",
       "            \"size\": 8\n",
       "        },\n",
       "        \"zmax\": 10.0,\n",
       "        \"y\": [\n",
       "            9\n",
       "        ],\n",
       "        \"type\": \"scatter3d\",\n",
       "        \"scene\": \"scene\"\n",
       "    },\n",
       "    {\n",
       "        \"xaxis\": \"x\",\n",
       "        \"colorbar\": {\n",
       "            \"title\": \"\"\n",
       "        },\n",
       "        \"yaxis\": \"y\",\n",
       "        \"zaxis\": \"z\",\n",
       "        \"x\": [\n",
       "            10\n",
       "        ],\n",
       "        \"showlegend\": false,\n",
       "        \"mode\": \"markers\",\n",
       "        \"name\": \"y1\",\n",
       "        \"zmin\": 1.0,\n",
       "        \"legendgroup\": \"y1\",\n",
       "        \"z\": [\n",
       "            10\n",
       "        ],\n",
       "        \"marker\": {\n",
       "            \"symbol\": \"circle\",\n",
       "            \"color\": \"rgba(230, 0, 0, 0.500)\",\n",
       "            \"line\": {\n",
       "                \"color\": \"rgba(0, 0, 0, 0.500)\",\n",
       "                \"width\": 1\n",
       "            },\n",
       "            \"size\": 8\n",
       "        },\n",
       "        \"zmax\": 10.0,\n",
       "        \"y\": [\n",
       "            10\n",
       "        ],\n",
       "        \"type\": \"scatter3d\",\n",
       "        \"scene\": \"scene\"\n",
       "    },\n",
       "    {\n",
       "        \"xaxis\": \"x\",\n",
       "        \"colorbar\": {\n",
       "            \"title\": \"\"\n",
       "        },\n",
       "        \"yaxis\": \"y\",\n",
       "        \"zaxis\": \"z\",\n",
       "        \"x\": [\n",
       "            1\n",
       "        ],\n",
       "        \"showlegend\": false,\n",
       "        \"mode\": \"markers\",\n",
       "        \"name\": \"y1\",\n",
       "        \"zmin\": 1.0,\n",
       "        \"z\": [\n",
       "            1\n",
       "        ],\n",
       "        \"marker\": {\n",
       "            \"color\": [\n",
       "                0.5\n",
       "            ],\n",
       "            \"cmin\": 1.0,\n",
       "            \"opacity\": 1.0e-10,\n",
       "            \"size\": 1.0e-10,\n",
       "            \"colorscale\": [\n",
       "                [\n",
       "                    0.0,\n",
       "                    \"rgba(102, 0, 102, 1.000)\"\n",
       "                ],\n",
       "                [\n",
       "                    0.25,\n",
       "                    \"rgba(0, 0, 230, 1.000)\"\n",
       "                ],\n",
       "                [\n",
       "                    0.5,\n",
       "                    \"rgba(0, 102, 0, 1.000)\"\n",
       "                ],\n",
       "                [\n",
       "                    0.75,\n",
       "                    \"rgba(230, 140, 0, 1.000)\"\n",
       "                ],\n",
       "                [\n",
       "                    1.0,\n",
       "                    \"rgba(230, 0, 0, 1.000)\"\n",
       "                ]\n",
       "            ],\n",
       "            \"cmax\": 10.0,\n",
       "            \"showscale\": true\n",
       "        },\n",
       "        \"zmax\": 10.0,\n",
       "        \"y\": [\n",
       "            1\n",
       "        ],\n",
       "        \"type\": \"scatter3d\",\n",
       "        \"scene\": \"scene\",\n",
       "        \"hoverinfo\": \"none\"\n",
       "    }\n",
       "]\n",
       ", {\n",
       "    \"showlegend\": true,\n",
       "    \"paper_bgcolor\": \"rgba(255, 255, 255, 1.000)\",\n",
       "    \"annotations\": [],\n",
       "    \"height\": 400,\n",
       "    \"margin\": {\n",
       "        \"l\": 0,\n",
       "        \"b\": 20,\n",
       "        \"r\": 0,\n",
       "        \"t\": 20\n",
       "    },\n",
       "    \"plot_bgcolor\": \"rgba(255, 255, 255, 1.000)\",\n",
       "    \"scene\": {\n",
       "        \"camera\": {\n",
       "            \"eye\": {\n",
       "                \"y\": -1.9499999999999997,\n",
       "                \"z\": 1.3,\n",
       "                \"x\": 1.12583302491977\n",
       "            }\n",
       "        },\n",
       "        \"xaxis\": {\n",
       "            \"tickangle\": 0,\n",
       "            \"showline\": true,\n",
       "            \"gridcolor\": \"rgba(0, 0, 0, 0.100)\",\n",
       "            \"showticklabels\": true,\n",
       "            \"gridwidth\": 0.5,\n",
       "            \"titlefont\": {\n",
       "                \"color\": \"rgba(0, 0, 0, 1.000)\",\n",
       "                \"family\": \"sans-serif\",\n",
       "                \"size\": 15\n",
       "            },\n",
       "            \"visible\": true,\n",
       "            \"ticks\": \"inside\",\n",
       "            \"range\": [\n",
       "                0.73,\n",
       "                10.27\n",
       "            ],\n",
       "            \"tickmode\": \"array\",\n",
       "            \"tickvals\": [\n",
       "                2.0,\n",
       "                4.0,\n",
       "                6.0,\n",
       "                8.0,\n",
       "                10.0\n",
       "            ],\n",
       "            \"tickcolor\": \"rgb(0, 0, 0)\",\n",
       "            \"ticktext\": [\n",
       "                \"2\",\n",
       "                \"4\",\n",
       "                \"6\",\n",
       "                \"8\",\n",
       "                \"10\"\n",
       "            ],\n",
       "            \"linecolor\": \"rgba(0, 0, 0, 1.000)\",\n",
       "            \"showgrid\": true,\n",
       "            \"zeroline\": false,\n",
       "            \"type\": \"-\",\n",
       "            \"tickfont\": {\n",
       "                \"color\": \"rgba(0, 0, 0, 1.000)\",\n",
       "                \"family\": \"sans-serif\",\n",
       "                \"size\": 11\n",
       "            },\n",
       "            \"title\": \"\",\n",
       "            \"zerolinecolor\": \"rgba(0, 0, 0, 1.000)\",\n",
       "            \"mirror\": false\n",
       "        },\n",
       "        \"domain\": {\n",
       "            \"y\": [\n",
       "                0.03762029746281716,\n",
       "                0.9901574803149606\n",
       "            ],\n",
       "            \"x\": [\n",
       "                0.03619130941965587,\n",
       "                0.9934383202099738\n",
       "            ]\n",
       "        },\n",
       "        \"yaxis\": {\n",
       "            \"tickangle\": 0,\n",
       "            \"showline\": true,\n",
       "            \"gridcolor\": \"rgba(0, 0, 0, 0.100)\",\n",
       "            \"showticklabels\": true,\n",
       "            \"gridwidth\": 0.5,\n",
       "            \"titlefont\": {\n",
       "                \"color\": \"rgba(0, 0, 0, 1.000)\",\n",
       "                \"family\": \"sans-serif\",\n",
       "                \"size\": 15\n",
       "            },\n",
       "            \"visible\": true,\n",
       "            \"ticks\": \"inside\",\n",
       "            \"range\": [\n",
       "                0.73,\n",
       "                10.27\n",
       "            ],\n",
       "            \"tickmode\": \"array\",\n",
       "            \"tickvals\": [\n",
       "                2.0,\n",
       "                4.0,\n",
       "                6.0,\n",
       "                8.0,\n",
       "                10.0\n",
       "            ],\n",
       "            \"tickcolor\": \"rgb(0, 0, 0)\",\n",
       "            \"ticktext\": [\n",
       "                \"2\",\n",
       "                \"4\",\n",
       "                \"6\",\n",
       "                \"8\",\n",
       "                \"10\"\n",
       "            ],\n",
       "            \"linecolor\": \"rgba(0, 0, 0, 1.000)\",\n",
       "            \"showgrid\": true,\n",
       "            \"zeroline\": false,\n",
       "            \"type\": \"-\",\n",
       "            \"tickfont\": {\n",
       "                \"color\": \"rgba(0, 0, 0, 1.000)\",\n",
       "                \"family\": \"sans-serif\",\n",
       "                \"size\": 11\n",
       "            },\n",
       "            \"title\": \"\",\n",
       "            \"zerolinecolor\": \"rgba(0, 0, 0, 1.000)\",\n",
       "            \"mirror\": false\n",
       "        },\n",
       "        \"zaxis\": {\n",
       "            \"tickangle\": 0,\n",
       "            \"showline\": true,\n",
       "            \"gridcolor\": \"rgba(0, 0, 0, 0.100)\",\n",
       "            \"showticklabels\": true,\n",
       "            \"gridwidth\": 0.5,\n",
       "            \"titlefont\": {\n",
       "                \"color\": \"rgba(0, 0, 0, 1.000)\",\n",
       "                \"family\": \"sans-serif\",\n",
       "                \"size\": 15\n",
       "            },\n",
       "            \"visible\": true,\n",
       "            \"ticks\": \"inside\",\n",
       "            \"range\": [\n",
       "                0.73,\n",
       "                10.27\n",
       "            ],\n",
       "            \"tickmode\": \"array\",\n",
       "            \"tickvals\": [\n",
       "                2.0,\n",
       "                4.0,\n",
       "                6.0,\n",
       "                8.0,\n",
       "                10.0\n",
       "            ],\n",
       "            \"tickcolor\": \"rgb(0, 0, 0)\",\n",
       "            \"ticktext\": [\n",
       "                \"2\",\n",
       "                \"4\",\n",
       "                \"6\",\n",
       "                \"8\",\n",
       "                \"10\"\n",
       "            ],\n",
       "            \"linecolor\": \"rgba(0, 0, 0, 1.000)\",\n",
       "            \"showgrid\": true,\n",
       "            \"zeroline\": false,\n",
       "            \"type\": \"-\",\n",
       "            \"tickfont\": {\n",
       "                \"color\": \"rgba(0, 0, 0, 1.000)\",\n",
       "                \"family\": \"sans-serif\",\n",
       "                \"size\": 11\n",
       "            },\n",
       "            \"title\": \"\",\n",
       "            \"zerolinecolor\": \"rgba(0, 0, 0, 1.000)\",\n",
       "            \"mirror\": false\n",
       "        }\n",
       "    },\n",
       "    \"legend\": {\n",
       "        \"yanchor\": \"auto\",\n",
       "        \"xanchor\": \"auto\",\n",
       "        \"bordercolor\": \"rgba(0, 0, 0, 1.000)\",\n",
       "        \"bgcolor\": \"rgba(255, 255, 255, 1.000)\",\n",
       "        \"borderwidth\": 1,\n",
       "        \"tracegroupgap\": 0,\n",
       "        \"y\": 1.0,\n",
       "        \"font\": {\n",
       "            \"color\": \"rgba(0, 0, 0, 1.000)\",\n",
       "            \"family\": \"sans-serif\",\n",
       "            \"size\": 11\n",
       "        },\n",
       "        \"title\": {\n",
       "            \"font\": {\n",
       "                \"color\": \"rgba(0, 0, 0, 1.000)\",\n",
       "                \"family\": \"sans-serif\",\n",
       "                \"size\": 15\n",
       "            },\n",
       "            \"text\": \"\"\n",
       "        },\n",
       "        \"traceorder\": \"normal\",\n",
       "        \"x\": 1.0\n",
       "    },\n",
       "    \"width\": 600\n",
       "}\n",
       ");\n",
       "\n",
       "    });\n",
       "    </script>\n"
      ]
     },
     "execution_count": 54,
     "metadata": {},
     "output_type": "execute_result"
    }
   ],
   "source": [
    "using Plots,IterativeSolvers\n",
    "plotlyjs()\n",
    "scatter(1:10,1:10,1:10,marker_z=1:10,seriescolor=:darkrainbow,alpha=0.5)"
   ]
  },
  {
   "cell_type": "code",
   "execution_count": 23,
   "metadata": {},
   "outputs": [
    {
     "name": "stderr",
     "output_type": "stream",
     "text": [
      "WARNING: redefinition of constant ex. This may fail, cause incorrect answers, or produce other errors.\n",
      "WARNING: redefinition of constant ey. This may fail, cause incorrect answers, or produce other errors.\n",
      "WARNING: redefinition of constant ez. This may fail, cause incorrect answers, or produce other errors.\n",
      "WARNING: redefinition of constant e0. This may fail, cause incorrect answers, or produce other errors.\n"
     ]
    }
   ],
   "source": [
    "include(joinpath(\"..\",\"src\",\"test.jl\"))"
   ]
  },
  {
   "cell_type": "code",
   "execution_count": null,
   "metadata": {
    "jupyter": {
     "source_hidden": true
    }
   },
   "outputs": [],
   "source": []
  },
  {
   "cell_type": "code",
   "execution_count": 101,
   "metadata": {},
   "outputs": [],
   "source": [
    "#P = parametricCurveChain(treefoil,30,0,deg2rad(315))\n",
    "#Q = PolygonalChain(Point[Point{Float64}(6.051346352617236, 9.152695549214696, 8.801414151529615), Point{Float64}(4.937817743234, 8.654398705021078, 8.755789094331664), Point{Float64}(4.483930471581617, 8.336865105976369, 7.946982530081897), Point{Float64}(4.121852652378448, 8.076572693087565, 7.322041555122247), Point{Float64}(3.6898178901663465, 7.72959525648117, 6.533077924150991), Point{Float64}(3.1529886069854345, 7.216227206514889, 5.451816482134311), Point{Float64}(2.6425645880450634, 6.567949563852597, 4.240336868393161), Point{Float64}(2.271036312166339, 5.907335612240891, 3.153356023630231), Point{Float64}(2.060719038154651, 5.368040479449854, 2.3612424115542683), Point{Float64}(1.929226100112587, 4.91770523276419, 1.7547394212582519), Point{Float64}(1.7774819462497389, 4.327085835133939, 1.0054803851975227), Point{Float64}(1.5954085937806317, 3.5323029606772267, 0.10624315660619842), Point{Float64}(1.404985846553592, 2.647025883270829, -0.7219265125294043), Point{Float64}(1.2180917756846128, 1.867286498649983, -1.3103447765744698), Point{Float64}(1.038189892832225, 1.2386065907873867, -1.7166240373571038), Point{Float64}(0.7942955664818238, 0.4534407373960645, -2.1874568802823284), Point{Float64}(0.42175890418887635, -0.6425924285001161, -2.7746273469993117), Point{Float64}(-0.08068863855109903, -1.907947453470569, -3.3157807597092956), Point{Float64}(-0.6418222904525793, -3.071230499421564, -3.6650473663828205), Point{Float64}(-1.1397804868625978, -3.9228410214693072, -3.817972269745026), Point{Float64}(-1.56369362651196, -4.559050802375946, -3.879819429854528), Point{Float64}(-2.113150218760466, -5.335057781547753, -3.923132063362656), Point{Float64}(-2.851183544582941, -6.289269990674345, -3.9145368993498995), Point{Float64}(-3.671949690544045, -7.202241806513236, -3.801508869654376), Point{Float64}(-4.400070476455358, -7.875603353762228, -3.6170510042753703), Point{Float64}(-4.987496843331254, -8.340291421875598, -3.425494819584227), Point{Float64}(-5.706253287161542, -8.87611534817707, -3.173892634828108), Point{Float64}(-6.70769848782058, -9.589253639212469, -2.8043566197804437), Point{Float64}(-7.864893752201777, -10.35894932895501, -2.345242222306946), Point{Float64}(-8.939486345251717, -11.04740939075835, -1.9043527999513437)])"
   ]
  },
  {
   "cell_type": "code",
   "execution_count": 170,
   "metadata": {},
   "outputs": [
    {
     "data": {
      "text/plain": [
       "PolygonalChain(Point[Point{BigFloat}(2.700210962222457360466033949144789018008125582309552765292803943143816886264906, -1.300140641481638120948051603751466324584441981308972846523913019145862496026012, -1.472425885077432701119080122511811778436900704387263161378032630610413784255264), Point{BigFloat}(0.0, 0.499999999999999944488848768742172978818416595458984375, 0.86602540378443870761060452423407696187496185302734375), Point{BigFloat}(0.0, 0.0, 0.0), Point{BigFloat}(1.0, 0.0, 0.0), Point{BigFloat}(1.0, 0.0, 1.0), Point{BigFloat}(-1.80898753270713353677876289814488262523773944479085589248985568316546053239205, 0.4681645887845222301414385272202335240843076320065559952939629611389503620496321, -1.80898753270713353677876289814488262523773944479085589248985568316546053239205)])"
      ]
     },
     "execution_count": 170,
     "metadata": {},
     "output_type": "execute_result"
    }
   ],
   "source": [
    "P = PolygonalChain(Point[Point{Float64}(1.50536761143902, -0.5035784076260132, -0.4376611897560546), Point{Float64}(0.0, 0.49999999999999994, 0.8660254037844387), Point{Float64}(0.0, 0.0, 0.0), Point{Float64}(1.0, 0.0, 0.0), Point{Float64}(1.0, 0.0, 1.0), Point{Float64}(-0.5660105494842269, 0.26100175824737115, -0.5660105494842269)])\n",
    "Q = PolygonalChain(Point[Point{Float64}(1.0961183434369617, 1.6717080997572744, -1.1610158662751193), Point{Float64}(-0.011853447306790027, 0.7207382605661333, 0.5244973729221096), Point{Float64}(0.2205564264125424, -0.22667560512942062, 0.3045141506026388), Point{Float64}(0.8621084962766254, -0.9885928507777049, 0.39335700852211963), Point{Float64}(1.1083960120295233, -0.5298790643724297, 1.247127540158223), Point{Float64}(-0.3359687688940691, -0.3898754894224912, -0.44612654138581637)])\n",
    "P = knittingNeedle(4)\n",
    "#P = PolygonalChain([p+1e-3*Point() for p in P.vertices])\n",
    "#P = exactFourKnot(3)"
   ]
  },
  {
   "cell_type": "code",
   "execution_count": 96,
   "metadata": {},
   "outputs": [
    {
     "data": {
      "text/plain": [
       "(BigFloat[3.999939742807841125536967179404578712895518720476659946760053049246607800138635, 0.9991616149962006965953591465972663124971882521469375476275918381583863306859574, 1.000151148488330156595009346334420692973368118500509899709510233992156059805609, 0.9997269180112354229367571418542436015856437988453034152185005128938657387993563, 3.999697672100793150647211585615207782112343167167405302159093544564848527555099], BigFloat[0.7510727035501577395310189259698702370398252789132724835981112159584604300475095, 1.570540393379797057931279438315075205811841712776369337151884404153116602028607, 1.570669994505725838262529094780678597003027402941669733456778228629004885799661, 0.7921876973288163537498237292276168709372194105679276726573523765011758612336643], BigFloat[-0.1434069113371042232591915073431902534243346081752891533169053434617070953696131, 0.5235109722821341240676980853754150193974459814865804651553293819328553869144456, -0.1647945487699847664280939239665548747969326198452325901778632120549386300262711])"
      ]
     },
     "execution_count": 96,
     "metadata": {},
     "output_type": "execute_result"
    }
   ],
   "source": [
    "ls,bas,das = internalCoordinates(P)"
   ]
  },
  {
   "cell_type": "code",
   "execution_count": 97,
   "metadata": {},
   "outputs": [
    {
     "data": {
      "text/plain": [
       "([2.230000000817102, 1.0000000002082434, 1.000000000483229, 0.9999999994720964, 2.2300000013535355], [1.6933783333880605, 2.5894641686139694, 1.4548927346683838, 0.6777355959736604], [1.5116050320057628, 0.4605194475523006, 0.07838542082476607])"
      ]
     },
     "execution_count": 97,
     "metadata": {},
     "output_type": "execute_result"
    }
   ],
   "source": [
    "lsq,basq,dasq = internalCoordinates(Q)"
   ]
  },
  {
   "cell_type": "code",
   "execution_count": 171,
   "metadata": {},
   "outputs": [
    {
     "data": {
      "application/vnd.plotly.v1+json": {
       "data": [
        {
         "colorbar": {
          "title": {
           "text": ""
          }
         },
         "legendgroup": "y1",
         "marker": {
          "color": "rgba(0, 0, 4, 1.000)",
          "line": {
           "color": "rgba(0, 0, 0, 1)",
           "width": 1
          },
          "size": 6,
          "symbol": "circle"
         },
         "mode": "markers",
         "name": "y1",
         "scene": "scene",
         "showlegend": true,
         "type": "scatter3d",
         "x": [
          2.7002109622224575
         ],
         "xaxis": "x",
         "y": [
          -1.300140641481638
         ],
         "yaxis": "y",
         "z": [
          -1.4724258850774328
         ],
         "zaxis": "z",
         "zmax": 6,
         "zmin": 1
        },
        {
         "colorbar": {
          "title": {
           "text": ""
          }
         },
         "legendgroup": "y1",
         "marker": {
          "color": "rgba(66, 10, 104, 1.000)",
          "line": {
           "color": "rgba(0, 0, 0, 1)",
           "width": 1
          },
          "size": 6,
          "symbol": "circle"
         },
         "mode": "markers",
         "name": "y1",
         "scene": "scene",
         "showlegend": false,
         "type": "scatter3d",
         "x": [
          0
         ],
         "xaxis": "x",
         "y": [
          0.49999999999999994
         ],
         "yaxis": "y",
         "z": [
          0.8660254037844387
         ],
         "zaxis": "z",
         "zmax": 6,
         "zmin": 1
        },
        {
         "colorbar": {
          "title": {
           "text": ""
          }
         },
         "legendgroup": "y1",
         "marker": {
          "color": "rgba(147, 38, 103, 1.000)",
          "line": {
           "color": "rgba(0, 0, 0, 1)",
           "width": 1
          },
          "size": 6,
          "symbol": "circle"
         },
         "mode": "markers",
         "name": "y1",
         "scene": "scene",
         "showlegend": false,
         "type": "scatter3d",
         "x": [
          0
         ],
         "xaxis": "x",
         "y": [
          0
         ],
         "yaxis": "y",
         "z": [
          0
         ],
         "zaxis": "z",
         "zmax": 6,
         "zmin": 1
        },
        {
         "colorbar": {
          "title": {
           "text": ""
          }
         },
         "legendgroup": "y1",
         "marker": {
          "color": "rgba(221, 81, 58, 1.000)",
          "line": {
           "color": "rgba(0, 0, 0, 1)",
           "width": 1
          },
          "size": 6,
          "symbol": "circle"
         },
         "mode": "markers",
         "name": "y1",
         "scene": "scene",
         "showlegend": false,
         "type": "scatter3d",
         "x": [
          1
         ],
         "xaxis": "x",
         "y": [
          0
         ],
         "yaxis": "y",
         "z": [
          0
         ],
         "zaxis": "z",
         "zmax": 6,
         "zmin": 1
        },
        {
         "colorbar": {
          "title": {
           "text": ""
          }
         },
         "legendgroup": "y1",
         "marker": {
          "color": "rgba(252, 165, 10, 1.000)",
          "line": {
           "color": "rgba(0, 0, 0, 1)",
           "width": 1
          },
          "size": 6,
          "symbol": "circle"
         },
         "mode": "markers",
         "name": "y1",
         "scene": "scene",
         "showlegend": false,
         "type": "scatter3d",
         "x": [
          1
         ],
         "xaxis": "x",
         "y": [
          0
         ],
         "yaxis": "y",
         "z": [
          1
         ],
         "zaxis": "z",
         "zmax": 6,
         "zmin": 1
        },
        {
         "colorbar": {
          "title": {
           "text": ""
          }
         },
         "legendgroup": "y1",
         "marker": {
          "color": "rgba(252, 255, 164, 1.000)",
          "line": {
           "color": "rgba(0, 0, 0, 1)",
           "width": 1
          },
          "size": 6,
          "symbol": "circle"
         },
         "mode": "markers",
         "name": "y1",
         "scene": "scene",
         "showlegend": false,
         "type": "scatter3d",
         "x": [
          -1.8089875327071336
         ],
         "xaxis": "x",
         "y": [
          0.4681645887845222
         ],
         "yaxis": "y",
         "z": [
          -1.8089875327071336
         ],
         "zaxis": "z",
         "zmax": 6,
         "zmin": 1
        },
        {
         "colorbar": {
          "title": {
           "text": ""
          }
         },
         "hoverinfo": "none",
         "marker": {
          "cmax": 6,
          "cmin": 1,
          "color": [
           0.5
          ],
          "colorscale": [
           [
            0,
            "rgba(0, 0, 4, 1.000)"
           ],
           [
            0.00392156862745098,
            "rgba(1, 0, 5, 1.000)"
           ],
           [
            0.00784313725490196,
            "rgba(1, 1, 6, 1.000)"
           ],
           [
            0.011764705882352941,
            "rgba(1, 1, 8, 1.000)"
           ],
           [
            0.01568627450980392,
            "rgba(2, 1, 10, 1.000)"
           ],
           [
            0.0196078431372549,
            "rgba(2, 2, 12, 1.000)"
           ],
           [
            0.023529411764705882,
            "rgba(2, 2, 14, 1.000)"
           ],
           [
            0.027450980392156862,
            "rgba(3, 2, 16, 1.000)"
           ],
           [
            0.03137254901960784,
            "rgba(4, 3, 18, 1.000)"
           ],
           [
            0.03529411764705882,
            "rgba(4, 3, 20, 1.000)"
           ],
           [
            0.0392156862745098,
            "rgba(5, 4, 23, 1.000)"
           ],
           [
            0.043137254901960784,
            "rgba(6, 4, 25, 1.000)"
           ],
           [
            0.047058823529411764,
            "rgba(7, 5, 27, 1.000)"
           ],
           [
            0.050980392156862744,
            "rgba(8, 5, 29, 1.000)"
           ],
           [
            0.054901960784313725,
            "rgba(9, 6, 31, 1.000)"
           ],
           [
            0.058823529411764705,
            "rgba(10, 7, 34, 1.000)"
           ],
           [
            0.06274509803921569,
            "rgba(11, 7, 36, 1.000)"
           ],
           [
            0.06666666666666667,
            "rgba(12, 8, 38, 1.000)"
           ],
           [
            0.07058823529411765,
            "rgba(13, 8, 41, 1.000)"
           ],
           [
            0.07450980392156863,
            "rgba(14, 9, 43, 1.000)"
           ],
           [
            0.0784313725490196,
            "rgba(16, 9, 45, 1.000)"
           ],
           [
            0.08235294117647059,
            "rgba(17, 10, 48, 1.000)"
           ],
           [
            0.08627450980392157,
            "rgba(18, 10, 50, 1.000)"
           ],
           [
            0.09019607843137255,
            "rgba(20, 11, 52, 1.000)"
           ],
           [
            0.09411764705882353,
            "rgba(21, 11, 55, 1.000)"
           ],
           [
            0.09803921568627451,
            "rgba(22, 11, 57, 1.000)"
           ],
           [
            0.10196078431372549,
            "rgba(24, 12, 60, 1.000)"
           ],
           [
            0.10588235294117647,
            "rgba(25, 12, 62, 1.000)"
           ],
           [
            0.10980392156862745,
            "rgba(27, 12, 65, 1.000)"
           ],
           [
            0.11372549019607843,
            "rgba(28, 12, 67, 1.000)"
           ],
           [
            0.11764705882352941,
            "rgba(30, 12, 69, 1.000)"
           ],
           [
            0.12156862745098039,
            "rgba(31, 12, 72, 1.000)"
           ],
           [
            0.12549019607843137,
            "rgba(33, 12, 74, 1.000)"
           ],
           [
            0.12941176470588237,
            "rgba(35, 12, 76, 1.000)"
           ],
           [
            0.13333333333333333,
            "rgba(36, 12, 79, 1.000)"
           ],
           [
            0.13725490196078433,
            "rgba(38, 12, 81, 1.000)"
           ],
           [
            0.1411764705882353,
            "rgba(40, 11, 83, 1.000)"
           ],
           [
            0.1450980392156863,
            "rgba(41, 11, 85, 1.000)"
           ],
           [
            0.14901960784313725,
            "rgba(43, 11, 87, 1.000)"
           ],
           [
            0.15294117647058825,
            "rgba(45, 11, 89, 1.000)"
           ],
           [
            0.1568627450980392,
            "rgba(47, 10, 91, 1.000)"
           ],
           [
            0.1607843137254902,
            "rgba(49, 10, 92, 1.000)"
           ],
           [
            0.16470588235294117,
            "rgba(50, 10, 94, 1.000)"
           ],
           [
            0.16862745098039217,
            "rgba(52, 10, 95, 1.000)"
           ],
           [
            0.17254901960784313,
            "rgba(54, 9, 97, 1.000)"
           ],
           [
            0.17647058823529413,
            "rgba(56, 9, 98, 1.000)"
           ],
           [
            0.1803921568627451,
            "rgba(57, 9, 99, 1.000)"
           ],
           [
            0.1843137254901961,
            "rgba(59, 9, 100, 1.000)"
           ],
           [
            0.18823529411764706,
            "rgba(61, 9, 101, 1.000)"
           ],
           [
            0.19215686274509805,
            "rgba(62, 9, 102, 1.000)"
           ],
           [
            0.19607843137254902,
            "rgba(64, 10, 103, 1.000)"
           ],
           [
            0.2,
            "rgba(66, 10, 104, 1.000)"
           ],
           [
            0.20392156862745098,
            "rgba(68, 10, 104, 1.000)"
           ],
           [
            0.20784313725490197,
            "rgba(69, 10, 105, 1.000)"
           ],
           [
            0.21176470588235294,
            "rgba(71, 11, 106, 1.000)"
           ],
           [
            0.21568627450980393,
            "rgba(73, 11, 106, 1.000)"
           ],
           [
            0.2196078431372549,
            "rgba(74, 12, 107, 1.000)"
           ],
           [
            0.2235294117647059,
            "rgba(76, 12, 107, 1.000)"
           ],
           [
            0.22745098039215686,
            "rgba(77, 13, 108, 1.000)"
           ],
           [
            0.23137254901960785,
            "rgba(79, 13, 108, 1.000)"
           ],
           [
            0.23529411764705882,
            "rgba(81, 14, 108, 1.000)"
           ],
           [
            0.23921568627450981,
            "rgba(82, 14, 109, 1.000)"
           ],
           [
            0.24313725490196078,
            "rgba(84, 15, 109, 1.000)"
           ],
           [
            0.24705882352941178,
            "rgba(85, 15, 109, 1.000)"
           ],
           [
            0.25098039215686274,
            "rgba(87, 16, 110, 1.000)"
           ],
           [
            0.2549019607843137,
            "rgba(89, 16, 110, 1.000)"
           ],
           [
            0.25882352941176473,
            "rgba(90, 17, 110, 1.000)"
           ],
           [
            0.2627450980392157,
            "rgba(92, 18, 110, 1.000)"
           ],
           [
            0.26666666666666666,
            "rgba(93, 18, 110, 1.000)"
           ],
           [
            0.27058823529411763,
            "rgba(95, 19, 110, 1.000)"
           ],
           [
            0.27450980392156865,
            "rgba(97, 19, 110, 1.000)"
           ],
           [
            0.2784313725490196,
            "rgba(98, 20, 110, 1.000)"
           ],
           [
            0.2823529411764706,
            "rgba(100, 21, 110, 1.000)"
           ],
           [
            0.28627450980392155,
            "rgba(101, 21, 110, 1.000)"
           ],
           [
            0.2901960784313726,
            "rgba(103, 22, 110, 1.000)"
           ],
           [
            0.29411764705882354,
            "rgba(105, 22, 110, 1.000)"
           ],
           [
            0.2980392156862745,
            "rgba(106, 23, 110, 1.000)"
           ],
           [
            0.30196078431372547,
            "rgba(108, 24, 110, 1.000)"
           ],
           [
            0.3058823529411765,
            "rgba(109, 24, 110, 1.000)"
           ],
           [
            0.30980392156862746,
            "rgba(111, 25, 110, 1.000)"
           ],
           [
            0.3137254901960784,
            "rgba(113, 25, 110, 1.000)"
           ],
           [
            0.3176470588235294,
            "rgba(114, 26, 110, 1.000)"
           ],
           [
            0.3215686274509804,
            "rgba(116, 26, 110, 1.000)"
           ],
           [
            0.3254901960784314,
            "rgba(117, 27, 110, 1.000)"
           ],
           [
            0.32941176470588235,
            "rgba(119, 28, 109, 1.000)"
           ],
           [
            0.3333333333333333,
            "rgba(120, 28, 109, 1.000)"
           ],
           [
            0.33725490196078434,
            "rgba(122, 29, 109, 1.000)"
           ],
           [
            0.3411764705882353,
            "rgba(124, 29, 109, 1.000)"
           ],
           [
            0.34509803921568627,
            "rgba(125, 30, 109, 1.000)"
           ],
           [
            0.34901960784313724,
            "rgba(127, 30, 108, 1.000)"
           ],
           [
            0.35294117647058826,
            "rgba(128, 31, 108, 1.000)"
           ],
           [
            0.3568627450980392,
            "rgba(130, 32, 108, 1.000)"
           ],
           [
            0.3607843137254902,
            "rgba(132, 32, 107, 1.000)"
           ],
           [
            0.36470588235294116,
            "rgba(133, 33, 107, 1.000)"
           ],
           [
            0.3686274509803922,
            "rgba(135, 33, 107, 1.000)"
           ],
           [
            0.37254901960784315,
            "rgba(136, 34, 106, 1.000)"
           ],
           [
            0.3764705882352941,
            "rgba(138, 34, 106, 1.000)"
           ],
           [
            0.3803921568627451,
            "rgba(140, 35, 105, 1.000)"
           ],
           [
            0.3843137254901961,
            "rgba(141, 35, 105, 1.000)"
           ],
           [
            0.38823529411764707,
            "rgba(143, 36, 105, 1.000)"
           ],
           [
            0.39215686274509803,
            "rgba(144, 37, 104, 1.000)"
           ],
           [
            0.396078431372549,
            "rgba(146, 37, 104, 1.000)"
           ],
           [
            0.4,
            "rgba(147, 38, 103, 1.000)"
           ],
           [
            0.403921568627451,
            "rgba(149, 38, 103, 1.000)"
           ],
           [
            0.40784313725490196,
            "rgba(151, 39, 102, 1.000)"
           ],
           [
            0.4117647058823529,
            "rgba(152, 39, 102, 1.000)"
           ],
           [
            0.41568627450980394,
            "rgba(154, 40, 101, 1.000)"
           ],
           [
            0.4196078431372549,
            "rgba(155, 41, 100, 1.000)"
           ],
           [
            0.4235294117647059,
            "rgba(157, 41, 100, 1.000)"
           ],
           [
            0.42745098039215684,
            "rgba(159, 42, 99, 1.000)"
           ],
           [
            0.43137254901960786,
            "rgba(160, 42, 99, 1.000)"
           ],
           [
            0.43529411764705883,
            "rgba(162, 43, 98, 1.000)"
           ],
           [
            0.4392156862745098,
            "rgba(163, 44, 97, 1.000)"
           ],
           [
            0.44313725490196076,
            "rgba(165, 44, 96, 1.000)"
           ],
           [
            0.4470588235294118,
            "rgba(166, 45, 96, 1.000)"
           ],
           [
            0.45098039215686275,
            "rgba(168, 46, 95, 1.000)"
           ],
           [
            0.4549019607843137,
            "rgba(169, 46, 94, 1.000)"
           ],
           [
            0.4588235294117647,
            "rgba(171, 47, 94, 1.000)"
           ],
           [
            0.4627450980392157,
            "rgba(173, 48, 93, 1.000)"
           ],
           [
            0.4666666666666667,
            "rgba(174, 48, 92, 1.000)"
           ],
           [
            0.47058823529411764,
            "rgba(176, 49, 91, 1.000)"
           ],
           [
            0.4745098039215686,
            "rgba(177, 50, 90, 1.000)"
           ],
           [
            0.47843137254901963,
            "rgba(179, 50, 90, 1.000)"
           ],
           [
            0.4823529411764706,
            "rgba(180, 51, 89, 1.000)"
           ],
           [
            0.48627450980392156,
            "rgba(182, 52, 88, 1.000)"
           ],
           [
            0.49019607843137253,
            "rgba(183, 53, 87, 1.000)"
           ],
           [
            0.49411764705882355,
            "rgba(185, 53, 86, 1.000)"
           ],
           [
            0.4980392156862745,
            "rgba(186, 54, 85, 1.000)"
           ],
           [
            0.5019607843137255,
            "rgba(188, 55, 84, 1.000)"
           ],
           [
            0.5058823529411764,
            "rgba(189, 56, 83, 1.000)"
           ],
           [
            0.5098039215686274,
            "rgba(191, 57, 82, 1.000)"
           ],
           [
            0.5137254901960784,
            "rgba(192, 58, 81, 1.000)"
           ],
           [
            0.5176470588235295,
            "rgba(193, 58, 80, 1.000)"
           ],
           [
            0.5215686274509804,
            "rgba(195, 59, 79, 1.000)"
           ],
           [
            0.5254901960784314,
            "rgba(196, 60, 78, 1.000)"
           ],
           [
            0.5294117647058824,
            "rgba(198, 61, 77, 1.000)"
           ],
           [
            0.5333333333333333,
            "rgba(199, 62, 76, 1.000)"
           ],
           [
            0.5372549019607843,
            "rgba(200, 63, 75, 1.000)"
           ],
           [
            0.5411764705882353,
            "rgba(202, 64, 74, 1.000)"
           ],
           [
            0.5450980392156862,
            "rgba(203, 65, 73, 1.000)"
           ],
           [
            0.5490196078431373,
            "rgba(204, 66, 72, 1.000)"
           ],
           [
            0.5529411764705883,
            "rgba(206, 67, 71, 1.000)"
           ],
           [
            0.5568627450980392,
            "rgba(207, 68, 70, 1.000)"
           ],
           [
            0.5607843137254902,
            "rgba(208, 69, 69, 1.000)"
           ],
           [
            0.5647058823529412,
            "rgba(210, 70, 68, 1.000)"
           ],
           [
            0.5686274509803921,
            "rgba(211, 71, 67, 1.000)"
           ],
           [
            0.5725490196078431,
            "rgba(212, 72, 66, 1.000)"
           ],
           [
            0.5764705882352941,
            "rgba(213, 74, 65, 1.000)"
           ],
           [
            0.5803921568627451,
            "rgba(215, 75, 63, 1.000)"
           ],
           [
            0.5843137254901961,
            "rgba(216, 76, 62, 1.000)"
           ],
           [
            0.5882352941176471,
            "rgba(217, 77, 61, 1.000)"
           ],
           [
            0.592156862745098,
            "rgba(218, 78, 60, 1.000)"
           ],
           [
            0.596078431372549,
            "rgba(219, 80, 59, 1.000)"
           ],
           [
            0.6,
            "rgba(221, 81, 58, 1.000)"
           ],
           [
            0.6039215686274509,
            "rgba(222, 82, 56, 1.000)"
           ],
           [
            0.6078431372549019,
            "rgba(223, 83, 55, 1.000)"
           ],
           [
            0.611764705882353,
            "rgba(224, 85, 54, 1.000)"
           ],
           [
            0.615686274509804,
            "rgba(225, 86, 53, 1.000)"
           ],
           [
            0.6196078431372549,
            "rgba(226, 87, 52, 1.000)"
           ],
           [
            0.6235294117647059,
            "rgba(227, 89, 51, 1.000)"
           ],
           [
            0.6274509803921569,
            "rgba(228, 90, 49, 1.000)"
           ],
           [
            0.6313725490196078,
            "rgba(229, 92, 48, 1.000)"
           ],
           [
            0.6352941176470588,
            "rgba(230, 93, 47, 1.000)"
           ],
           [
            0.6392156862745098,
            "rgba(231, 94, 46, 1.000)"
           ],
           [
            0.6431372549019608,
            "rgba(232, 96, 45, 1.000)"
           ],
           [
            0.6470588235294118,
            "rgba(233, 97, 43, 1.000)"
           ],
           [
            0.6509803921568628,
            "rgba(234, 99, 42, 1.000)"
           ],
           [
            0.6549019607843137,
            "rgba(235, 100, 41, 1.000)"
           ],
           [
            0.6588235294117647,
            "rgba(235, 102, 40, 1.000)"
           ],
           [
            0.6627450980392157,
            "rgba(236, 103, 38, 1.000)"
           ],
           [
            0.6666666666666666,
            "rgba(237, 105, 37, 1.000)"
           ],
           [
            0.6705882352941176,
            "rgba(238, 106, 36, 1.000)"
           ],
           [
            0.6745098039215687,
            "rgba(239, 108, 35, 1.000)"
           ],
           [
            0.6784313725490196,
            "rgba(239, 110, 33, 1.000)"
           ],
           [
            0.6823529411764706,
            "rgba(240, 111, 32, 1.000)"
           ],
           [
            0.6862745098039216,
            "rgba(241, 113, 31, 1.000)"
           ],
           [
            0.6901960784313725,
            "rgba(241, 115, 29, 1.000)"
           ],
           [
            0.6941176470588235,
            "rgba(242, 116, 28, 1.000)"
           ],
           [
            0.6980392156862745,
            "rgba(243, 118, 27, 1.000)"
           ],
           [
            0.7019607843137254,
            "rgba(243, 120, 25, 1.000)"
           ],
           [
            0.7058823529411765,
            "rgba(244, 121, 24, 1.000)"
           ],
           [
            0.7098039215686275,
            "rgba(245, 123, 23, 1.000)"
           ],
           [
            0.7137254901960784,
            "rgba(245, 125, 21, 1.000)"
           ],
           [
            0.7176470588235294,
            "rgba(246, 126, 20, 1.000)"
           ],
           [
            0.7215686274509804,
            "rgba(246, 128, 19, 1.000)"
           ],
           [
            0.7254901960784313,
            "rgba(247, 130, 18, 1.000)"
           ],
           [
            0.7294117647058823,
            "rgba(247, 132, 16, 1.000)"
           ],
           [
            0.7333333333333333,
            "rgba(248, 133, 15, 1.000)"
           ],
           [
            0.7372549019607844,
            "rgba(248, 135, 14, 1.000)"
           ],
           [
            0.7411764705882353,
            "rgba(248, 137, 12, 1.000)"
           ],
           [
            0.7450980392156863,
            "rgba(249, 139, 11, 1.000)"
           ],
           [
            0.7490196078431373,
            "rgba(249, 140, 10, 1.000)"
           ],
           [
            0.7529411764705882,
            "rgba(249, 142, 9, 1.000)"
           ],
           [
            0.7568627450980392,
            "rgba(250, 144, 8, 1.000)"
           ],
           [
            0.7607843137254902,
            "rgba(250, 146, 7, 1.000)"
           ],
           [
            0.7647058823529411,
            "rgba(250, 148, 7, 1.000)"
           ],
           [
            0.7686274509803922,
            "rgba(251, 150, 6, 1.000)"
           ],
           [
            0.7725490196078432,
            "rgba(251, 151, 6, 1.000)"
           ],
           [
            0.7764705882352941,
            "rgba(251, 153, 6, 1.000)"
           ],
           [
            0.7803921568627451,
            "rgba(251, 155, 6, 1.000)"
           ],
           [
            0.7843137254901961,
            "rgba(251, 157, 7, 1.000)"
           ],
           [
            0.788235294117647,
            "rgba(252, 159, 7, 1.000)"
           ],
           [
            0.792156862745098,
            "rgba(252, 161, 8, 1.000)"
           ],
           [
            0.796078431372549,
            "rgba(252, 163, 9, 1.000)"
           ],
           [
            0.8,
            "rgba(252, 165, 10, 1.000)"
           ],
           [
            0.803921568627451,
            "rgba(252, 166, 12, 1.000)"
           ],
           [
            0.807843137254902,
            "rgba(252, 168, 13, 1.000)"
           ],
           [
            0.8117647058823529,
            "rgba(252, 170, 15, 1.000)"
           ],
           [
            0.8156862745098039,
            "rgba(252, 172, 17, 1.000)"
           ],
           [
            0.8196078431372549,
            "rgba(252, 174, 18, 1.000)"
           ],
           [
            0.8235294117647058,
            "rgba(252, 176, 20, 1.000)"
           ],
           [
            0.8274509803921568,
            "rgba(252, 178, 22, 1.000)"
           ],
           [
            0.8313725490196079,
            "rgba(252, 180, 24, 1.000)"
           ],
           [
            0.8352941176470589,
            "rgba(251, 182, 26, 1.000)"
           ],
           [
            0.8392156862745098,
            "rgba(251, 184, 29, 1.000)"
           ],
           [
            0.8431372549019608,
            "rgba(251, 186, 31, 1.000)"
           ],
           [
            0.8470588235294118,
            "rgba(251, 188, 33, 1.000)"
           ],
           [
            0.8509803921568627,
            "rgba(251, 190, 35, 1.000)"
           ],
           [
            0.8549019607843137,
            "rgba(250, 192, 38, 1.000)"
           ],
           [
            0.8588235294117647,
            "rgba(250, 194, 40, 1.000)"
           ],
           [
            0.8627450980392157,
            "rgba(250, 196, 42, 1.000)"
           ],
           [
            0.8666666666666667,
            "rgba(250, 198, 45, 1.000)"
           ],
           [
            0.8705882352941177,
            "rgba(249, 199, 47, 1.000)"
           ],
           [
            0.8745098039215686,
            "rgba(249, 201, 50, 1.000)"
           ],
           [
            0.8784313725490196,
            "rgba(249, 203, 53, 1.000)"
           ],
           [
            0.8823529411764706,
            "rgba(248, 205, 55, 1.000)"
           ],
           [
            0.8862745098039215,
            "rgba(248, 207, 58, 1.000)"
           ],
           [
            0.8901960784313725,
            "rgba(247, 209, 61, 1.000)"
           ],
           [
            0.8941176470588236,
            "rgba(247, 211, 64, 1.000)"
           ],
           [
            0.8980392156862745,
            "rgba(246, 213, 67, 1.000)"
           ],
           [
            0.9019607843137255,
            "rgba(246, 215, 70, 1.000)"
           ],
           [
            0.9058823529411765,
            "rgba(245, 217, 73, 1.000)"
           ],
           [
            0.9098039215686274,
            "rgba(245, 219, 76, 1.000)"
           ],
           [
            0.9137254901960784,
            "rgba(244, 221, 79, 1.000)"
           ],
           [
            0.9176470588235294,
            "rgba(244, 223, 83, 1.000)"
           ],
           [
            0.9215686274509803,
            "rgba(244, 225, 86, 1.000)"
           ],
           [
            0.9254901960784314,
            "rgba(243, 227, 90, 1.000)"
           ],
           [
            0.9294117647058824,
            "rgba(243, 229, 93, 1.000)"
           ],
           [
            0.9333333333333333,
            "rgba(242, 230, 97, 1.000)"
           ],
           [
            0.9372549019607843,
            "rgba(242, 232, 101, 1.000)"
           ],
           [
            0.9411764705882353,
            "rgba(242, 234, 105, 1.000)"
           ],
           [
            0.9450980392156862,
            "rgba(241, 236, 109, 1.000)"
           ],
           [
            0.9490196078431372,
            "rgba(241, 237, 113, 1.000)"
           ],
           [
            0.9529411764705882,
            "rgba(241, 239, 117, 1.000)"
           ],
           [
            0.9568627450980393,
            "rgba(241, 241, 121, 1.000)"
           ],
           [
            0.9607843137254902,
            "rgba(242, 242, 125, 1.000)"
           ],
           [
            0.9647058823529412,
            "rgba(242, 244, 130, 1.000)"
           ],
           [
            0.9686274509803922,
            "rgba(243, 245, 134, 1.000)"
           ],
           [
            0.9725490196078431,
            "rgba(243, 246, 138, 1.000)"
           ],
           [
            0.9764705882352941,
            "rgba(244, 248, 142, 1.000)"
           ],
           [
            0.9803921568627451,
            "rgba(245, 249, 146, 1.000)"
           ],
           [
            0.984313725490196,
            "rgba(246, 250, 150, 1.000)"
           ],
           [
            0.9882352941176471,
            "rgba(248, 251, 154, 1.000)"
           ],
           [
            0.9921568627450981,
            "rgba(249, 252, 157, 1.000)"
           ],
           [
            0.996078431372549,
            "rgba(250, 253, 161, 1.000)"
           ],
           [
            1,
            "rgba(252, 255, 164, 1.000)"
           ]
          ],
          "opacity": 1e-10,
          "showscale": true,
          "size": 1e-10
         },
         "mode": "markers",
         "name": "y1",
         "scene": "scene",
         "showlegend": false,
         "type": "scatter3d",
         "x": [
          2.7002109622224575
         ],
         "xaxis": "x",
         "y": [
          -1.300140641481638
         ],
         "yaxis": "y",
         "z": [
          -1.4724258850774328
         ],
         "zaxis": "z",
         "zmax": 6,
         "zmin": 1
        },
        {
         "colorbar": {
          "title": {
           "text": ""
          }
         },
         "legendgroup": "y2",
         "line": {
          "color": "rgba(0, 0, 0, 1)",
          "dash": "solid",
          "shape": "linear",
          "width": 2
         },
         "mode": "lines",
         "name": "y2",
         "scene": "scene",
         "showlegend": true,
         "type": "scatter3d",
         "x": [
          2.7002109622224575,
          0,
          0,
          1,
          1,
          -1.8089875327071336
         ],
         "xaxis": "x",
         "y": [
          -1.300140641481638,
          0.49999999999999994,
          0,
          0,
          0,
          0.4681645887845222
         ],
         "yaxis": "y",
         "z": [
          -1.4724258850774328,
          0.8660254037844387,
          0,
          0,
          1,
          -1.8089875327071336
         ],
         "zaxis": "z",
         "zmax": 6,
         "zmin": 1
        }
       ],
       "layout": {
        "annotations": [],
        "height": 400,
        "legend": {
         "bgcolor": "rgba(255, 255, 255, 1.000)",
         "bordercolor": "rgba(0, 0, 0, 1)",
         "borderwidth": 1,
         "font": {
          "color": "rgba(0, 0, 0, 1)",
          "family": "sans-serif",
          "size": 11
         },
         "title": {
          "font": {
           "color": "rgba(0, 0, 0, 1)",
           "family": "sans-serif",
           "size": 15
          },
          "text": ""
         },
         "tracegroupgap": 0,
         "traceorder": "normal",
         "x": 1,
         "xanchor": "auto",
         "y": 1,
         "yanchor": "auto"
        },
        "margin": {
         "b": 20,
         "l": 0,
         "r": 0,
         "t": 20
        },
        "paper_bgcolor": "rgba(255, 255, 255, 1.000)",
        "plot_bgcolor": "rgba(255, 255, 255, 1.000)",
        "scene": {
         "aspectmode": "auto",
         "aspectratio": {
          "x": 1.5901843904535446,
          "y": 0.6348258015086181,
          "z": 0.9905991347491673
         },
         "camera": {
          "center": {
           "x": 0,
           "y": 0,
           "z": 0
          },
          "eye": {
           "x": 1.357338336649133,
           "y": -2.3509789621373285,
           "z": 1.5673193080915526
          },
          "projection": {
           "type": "perspective"
          },
          "up": {
           "x": 0,
           "y": 0,
           "z": 1
          }
         },
         "domain": {
          "x": [
           0.09128390201224845,
           0.9934383202099738
          ],
          "y": [
           0.07581474190726165,
           0.9901574803149606
          ]
         },
         "xaxis": {
          "gridcolor": "rgba(0, 0, 0, 0.1)",
          "gridwidth": 0.5,
          "linecolor": "rgba(0, 0, 0, 1)",
          "mirror": false,
          "range": [
           -1.9442634875550213,
           2.8354869170703454
          ],
          "showgrid": true,
          "showline": true,
          "showticklabels": true,
          "tickangle": 0,
          "tickcolor": "rgb(0, 0, 0)",
          "tickfont": {
           "color": "rgba(0, 0, 0, 1)",
           "family": "sans-serif",
           "size": 11
          },
          "tickmode": "array",
          "ticks": "inside",
          "ticktext": [
           "-1",
           "0",
           "1",
           "2"
          ],
          "tickvals": [
           -1,
           0,
           1,
           2
          ],
          "title": {
           "font": {
            "color": "rgba(0, 0, 0, 1)",
            "family": "sans-serif",
            "size": 15
           },
           "text": "x"
          },
          "type": "linear",
          "visible": true,
          "zeroline": false,
          "zerolinecolor": "rgba(0, 0, 0, 1)"
         },
         "yaxis": {
          "gridcolor": "rgba(0, 0, 0, 0.1)",
          "gridwidth": 0.5,
          "linecolor": "rgba(0, 0, 0, 1)",
          "mirror": false,
          "range": [
           -1.3541448607260873,
           0.5540042192444491
          ],
          "showgrid": true,
          "showline": true,
          "showticklabels": true,
          "tickangle": 0,
          "tickcolor": "rgb(0, 0, 0)",
          "tickfont": {
           "color": "rgba(0, 0, 0, 1)",
           "family": "sans-serif",
           "size": 11
          },
          "tickmode": "array",
          "ticks": "inside",
          "ticktext": [
           "-1.0",
           "-0.5",
           "0.0",
           "0.5"
          ],
          "tickvals": [
           -1,
           -0.5,
           0,
           0.5
          ],
          "title": {
           "font": {
            "color": "rgba(0, 0, 0, 1)",
            "family": "sans-serif",
            "size": 15
           },
           "text": "y"
          },
          "type": "linear",
          "visible": true,
          "zeroline": false,
          "zerolinecolor": "rgba(0, 0, 0, 1)"
         },
         "zaxis": {
          "gridcolor": "rgba(0, 0, 0, 0.1)",
          "gridwidth": 0.5,
          "linecolor": "rgba(0, 0, 0, 1)",
          "mirror": false,
          "range": [
           -1.8932571586883475,
           1.084269625981214
          ],
          "showgrid": true,
          "showline": true,
          "showticklabels": true,
          "tickangle": 0,
          "tickcolor": "rgb(0, 0, 0)",
          "tickfont": {
           "color": "rgba(0, 0, 0, 1)",
           "family": "sans-serif",
           "size": 11
          },
          "tickmode": "array",
          "ticks": "inside",
          "ticktext": [
           "-1.5",
           "-1.0",
           "-0.5",
           "0.0",
           "0.5",
           "1.0"
          ],
          "tickvals": [
           -1.5,
           -1,
           -0.5,
           0,
           0.5,
           1
          ],
          "title": {
           "font": {
            "color": "rgba(0, 0, 0, 1)",
            "family": "sans-serif",
            "size": 15
           },
           "text": "z"
          },
          "type": "linear",
          "visible": true,
          "zeroline": false,
          "zerolinecolor": "rgba(0, 0, 0, 1)"
         }
        },
        "showlegend": true,
        "width": 600
       }
      },
      "image/png": "[encoded data removed]",
      "text/html": [
       "    <div id=\"29039df9-74cc-426b-8a2a-5f0ca0a87372\" style=\"width:600px;height:400px;\"></div>\n",
       "    <script>\n",
       "        requirejs.config({\n",
       "        paths: {\n",
       "            Plotly: 'https://cdn.plot.ly/plotly-1.57.1.min'\n",
       "        }\n",
       "    });\n",
       "    require(['Plotly'], function (Plotly) {\n",
       "\n",
       "        var PLOT = document.getElementById('29039df9-74cc-426b-8a2a-5f0ca0a87372');\n",
       "    Plotly.plot(PLOT, [\n",
       "    {\n",
       "        \"xaxis\": \"x\",\n",
       "        \"colorbar\": {\n",
       "            \"title\": \"\"\n",
       "        },\n",
       "        \"yaxis\": \"y\",\n",
       "        \"zaxis\": \"z\",\n",
       "        \"x\": [\n",
       "            2.7002109622224575\n",
       "        ],\n",
       "        \"showlegend\": true,\n",
       "        \"mode\": \"markers\",\n",
       "        \"name\": \"y1\",\n",
       "        \"zmin\": 1.0,\n",
       "        \"legendgroup\": \"y1\",\n",
       "        \"z\": [\n",
       "            -1.4724258850774328\n",
       "        ],\n",
       "        \"marker\": {\n",
       "            \"symbol\": \"circle\",\n",
       "            \"color\": \"rgba(0, 0, 4, 1.000)\",\n",
       "            \"line\": {\n",
       "                \"color\": \"rgba(0, 0, 0, 1.000)\",\n",
       "                \"width\": 1\n",
       "            },\n",
       "            \"size\": 6\n",
       "        },\n",
       "        \"zmax\": 6.0,\n",
       "        \"y\": [\n",
       "            -1.300140641481638\n",
       "        ],\n",
       "        \"type\": \"scatter3d\",\n",
       "        \"scene\": \"scene\"\n",
       "    },\n",
       "    {\n",
       "        \"xaxis\": \"x\",\n",
       "        \"colorbar\": {\n",
       "            \"title\": \"\"\n",
       "        },\n",
       "        \"yaxis\": \"y\",\n",
       "        \"zaxis\": \"z\",\n",
       "        \"x\": [\n",
       "            0.0\n",
       "        ],\n",
       "        \"showlegend\": false,\n",
       "        \"mode\": \"markers\",\n",
       "        \"name\": \"y1\",\n",
       "        \"zmin\": 1.0,\n",
       "        \"legendgroup\": \"y1\",\n",
       "        \"z\": [\n",
       "            0.8660254037844387\n",
       "        ],\n",
       "        \"marker\": {\n",
       "            \"symbol\": \"circle\",\n",
       "            \"color\": \"rgba(66, 10, 104, 1.000)\",\n",
       "            \"line\": {\n",
       "                \"color\": \"rgba(0, 0, 0, 1.000)\",\n",
       "                \"width\": 1\n",
       "            },\n",
       "            \"size\": 6\n",
       "        },\n",
       "        \"zmax\": 6.0,\n",
       "        \"y\": [\n",
       "            0.49999999999999994\n",
       "        ],\n",
       "        \"type\": \"scatter3d\",\n",
       "        \"scene\": \"scene\"\n",
       "    },\n",
       "    {\n",
       "        \"xaxis\": \"x\",\n",
       "        \"colorbar\": {\n",
       "            \"title\": \"\"\n",
       "        },\n",
       "        \"yaxis\": \"y\",\n",
       "        \"zaxis\": \"z\",\n",
       "        \"x\": [\n",
       "            0.0\n",
       "        ],\n",
       "        \"showlegend\": false,\n",
       "        \"mode\": \"markers\",\n",
       "        \"name\": \"y1\",\n",
       "        \"zmin\": 1.0,\n",
       "        \"legendgroup\": \"y1\",\n",
       "        \"z\": [\n",
       "            0.0\n",
       "        ],\n",
       "        \"marker\": {\n",
       "            \"symbol\": \"circle\",\n",
       "            \"color\": \"rgba(147, 38, 103, 1.000)\",\n",
       "            \"line\": {\n",
       "                \"color\": \"rgba(0, 0, 0, 1.000)\",\n",
       "                \"width\": 1\n",
       "            },\n",
       "            \"size\": 6\n",
       "        },\n",
       "        \"zmax\": 6.0,\n",
       "        \"y\": [\n",
       "            0.0\n",
       "        ],\n",
       "        \"type\": \"scatter3d\",\n",
       "        \"scene\": \"scene\"\n",
       "    },\n",
       "    {\n",
       "        \"xaxis\": \"x\",\n",
       "        \"colorbar\": {\n",
       "            \"title\": \"\"\n",
       "        },\n",
       "        \"yaxis\": \"y\",\n",
       "        \"zaxis\": \"z\",\n",
       "        \"x\": [\n",
       "            1.0\n",
       "        ],\n",
       "        \"showlegend\": false,\n",
       "        \"mode\": \"markers\",\n",
       "        \"name\": \"y1\",\n",
       "        \"zmin\": 1.0,\n",
       "        \"legendgroup\": \"y1\",\n",
       "        \"z\": [\n",
       "            0.0\n",
       "        ],\n",
       "        \"marker\": {\n",
       "            \"symbol\": \"circle\",\n",
       "            \"color\": \"rgba(221, 81, 58, 1.000)\",\n",
       "            \"line\": {\n",
       "                \"color\": \"rgba(0, 0, 0, 1.000)\",\n",
       "                \"width\": 1\n",
       "            },\n",
       "            \"size\": 6\n",
       "        },\n",
       "        \"zmax\": 6.0,\n",
       "        \"y\": [\n",
       "            0.0\n",
       "        ],\n",
       "        \"type\": \"scatter3d\",\n",
       "        \"scene\": \"scene\"\n",
       "    },\n",
       "    {\n",
       "        \"xaxis\": \"x\",\n",
       "        \"colorbar\": {\n",
       "            \"title\": \"\"\n",
       "        },\n",
       "        \"yaxis\": \"y\",\n",
       "        \"zaxis\": \"z\",\n",
       "        \"x\": [\n",
       "            1.0\n",
       "        ],\n",
       "        \"showlegend\": false,\n",
       "        \"mode\": \"markers\",\n",
       "        \"name\": \"y1\",\n",
       "        \"zmin\": 1.0,\n",
       "        \"legendgroup\": \"y1\",\n",
       "        \"z\": [\n",
       "            1.0\n",
       "        ],\n",
       "        \"marker\": {\n",
       "            \"symbol\": \"circle\",\n",
       "            \"color\": \"rgba(252, 165, 10, 1.000)\",\n",
       "            \"line\": {\n",
       "                \"color\": \"rgba(0, 0, 0, 1.000)\",\n",
       "                \"width\": 1\n",
       "            },\n",
       "            \"size\": 6\n",
       "        },\n",
       "        \"zmax\": 6.0,\n",
       "        \"y\": [\n",
       "            0.0\n",
       "        ],\n",
       "        \"type\": \"scatter3d\",\n",
       "        \"scene\": \"scene\"\n",
       "    },\n",
       "    {\n",
       "        \"xaxis\": \"x\",\n",
       "        \"colorbar\": {\n",
       "            \"title\": \"\"\n",
       "        },\n",
       "        \"yaxis\": \"y\",\n",
       "        \"zaxis\": \"z\",\n",
       "        \"x\": [\n",
       "            -1.8089875327071336\n",
       "        ],\n",
       "        \"showlegend\": false,\n",
       "        \"mode\": \"markers\",\n",
       "        \"name\": \"y1\",\n",
       "        \"zmin\": 1.0,\n",
       "        \"legendgroup\": \"y1\",\n",
       "        \"z\": [\n",
       "            -1.8089875327071336\n",
       "        ],\n",
       "        \"marker\": {\n",
       "            \"symbol\": \"circle\",\n",
       "            \"color\": \"rgba(252, 255, 164, 1.000)\",\n",
       "            \"line\": {\n",
       "                \"color\": \"rgba(0, 0, 0, 1.000)\",\n",
       "                \"width\": 1\n",
       "            },\n",
       "            \"size\": 6\n",
       "        },\n",
       "        \"zmax\": 6.0,\n",
       "        \"y\": [\n",
       "            0.4681645887845222\n",
       "        ],\n",
       "        \"type\": \"scatter3d\",\n",
       "        \"scene\": \"scene\"\n",
       "    },\n",
       "    {\n",
       "        \"xaxis\": \"x\",\n",
       "        \"colorbar\": {\n",
       "            \"title\": \"\"\n",
       "        },\n",
       "        \"yaxis\": \"y\",\n",
       "        \"zaxis\": \"z\",\n",
       "        \"x\": [\n",
       "            2.7002109622224575\n",
       "        ],\n",
       "        \"showlegend\": false,\n",
       "        \"mode\": \"markers\",\n",
       "        \"name\": \"y1\",\n",
       "        \"zmin\": 1.0,\n",
       "        \"z\": [\n",
       "            -1.4724258850774328\n",
       "        ],\n",
       "        \"marker\": {\n",
       "            \"color\": [\n",
       "                0.5\n",
       "            ],\n",
       "            \"cmin\": 1.0,\n",
       "            \"opacity\": 1.0e-10,\n",
       "            \"size\": 1.0e-10,\n",
       "            \"colorscale\": [\n",
       "                [\n",
       "                    0.0,\n",
       "                    \"rgba(0, 0, 4, 1.000)\"\n",
       "                ],\n",
       "                [\n",
       "                    0.00392156862745098,\n",
       "                    \"rgba(1, 0, 5, 1.000)\"\n",
       "                ],\n",
       "                [\n",
       "                    0.00784313725490196,\n",
       "                    \"rgba(1, 1, 6, 1.000)\"\n",
       "                ],\n",
       "                [\n",
       "                    0.011764705882352941,\n",
       "                    \"rgba(1, 1, 8, 1.000)\"\n",
       "                ],\n",
       "                [\n",
       "                    0.01568627450980392,\n",
       "                    \"rgba(2, 1, 10, 1.000)\"\n",
       "                ],\n",
       "                [\n",
       "                    0.0196078431372549,\n",
       "                    \"rgba(2, 2, 12, 1.000)\"\n",
       "                ],\n",
       "                [\n",
       "                    0.023529411764705882,\n",
       "                    \"rgba(2, 2, 14, 1.000)\"\n",
       "                ],\n",
       "                [\n",
       "                    0.027450980392156862,\n",
       "                    \"rgba(3, 2, 16, 1.000)\"\n",
       "                ],\n",
       "                [\n",
       "                    0.03137254901960784,\n",
       "                    \"rgba(4, 3, 18, 1.000)\"\n",
       "                ],\n",
       "                [\n",
       "                    0.03529411764705882,\n",
       "                    \"rgba(4, 3, 20, 1.000)\"\n",
       "                ],\n",
       "                [\n",
       "                    0.0392156862745098,\n",
       "                    \"rgba(5, 4, 23, 1.000)\"\n",
       "                ],\n",
       "                [\n",
       "                    0.043137254901960784,\n",
       "                    \"rgba(6, 4, 25, 1.000)\"\n",
       "                ],\n",
       "                [\n",
       "                    0.047058823529411764,\n",
       "                    \"rgba(7, 5, 27, 1.000)\"\n",
       "                ],\n",
       "                [\n",
       "                    0.050980392156862744,\n",
       "                    \"rgba(8, 5, 29, 1.000)\"\n",
       "                ],\n",
       "                [\n",
       "                    0.054901960784313725,\n",
       "                    \"rgba(9, 6, 31, 1.000)\"\n",
       "                ],\n",
       "                [\n",
       "                    0.058823529411764705,\n",
       "                    \"rgba(10, 7, 34, 1.000)\"\n",
       "                ],\n",
       "                [\n",
       "                    0.06274509803921569,\n",
       "                    \"rgba(11, 7, 36, 1.000)\"\n",
       "                ],\n",
       "                [\n",
       "                    0.06666666666666667,\n",
       "                    \"rgba(12, 8, 38, 1.000)\"\n",
       "                ],\n",
       "                [\n",
       "                    0.07058823529411765,\n",
       "                    \"rgba(13, 8, 41, 1.000)\"\n",
       "                ],\n",
       "                [\n",
       "                    0.07450980392156863,\n",
       "                    \"rgba(14, 9, 43, 1.000)\"\n",
       "                ],\n",
       "                [\n",
       "                    0.0784313725490196,\n",
       "                    \"rgba(16, 9, 45, 1.000)\"\n",
       "                ],\n",
       "                [\n",
       "                    0.08235294117647059,\n",
       "                    \"rgba(17, 10, 48, 1.000)\"\n",
       "                ],\n",
       "                [\n",
       "                    0.08627450980392157,\n",
       "                    \"rgba(18, 10, 50, 1.000)\"\n",
       "                ],\n",
       "                [\n",
       "                    0.09019607843137255,\n",
       "                    \"rgba(20, 11, 52, 1.000)\"\n",
       "                ],\n",
       "                [\n",
       "                    0.09411764705882353,\n",
       "                    \"rgba(21, 11, 55, 1.000)\"\n",
       "                ],\n",
       "                [\n",
       "                    0.09803921568627451,\n",
       "                    \"rgba(22, 11, 57, 1.000)\"\n",
       "                ],\n",
       "                [\n",
       "                    0.10196078431372549,\n",
       "                    \"rgba(24, 12, 60, 1.000)\"\n",
       "                ],\n",
       "                [\n",
       "                    0.10588235294117647,\n",
       "                    \"rgba(25, 12, 62, 1.000)\"\n",
       "                ],\n",
       "                [\n",
       "                    0.10980392156862745,\n",
       "                    \"rgba(27, 12, 65, 1.000)\"\n",
       "                ],\n",
       "                [\n",
       "                    0.11372549019607843,\n",
       "                    \"rgba(28, 12, 67, 1.000)\"\n",
       "                ],\n",
       "                [\n",
       "                    0.11764705882352941,\n",
       "                    \"rgba(30, 12, 69, 1.000)\"\n",
       "                ],\n",
       "                [\n",
       "                    0.12156862745098039,\n",
       "                    \"rgba(31, 12, 72, 1.000)\"\n",
       "                ],\n",
       "                [\n",
       "                    0.12549019607843137,\n",
       "                    \"rgba(33, 12, 74, 1.000)\"\n",
       "                ],\n",
       "                [\n",
       "                    0.12941176470588237,\n",
       "                    \"rgba(35, 12, 76, 1.000)\"\n",
       "                ],\n",
       "                [\n",
       "                    0.13333333333333333,\n",
       "                    \"rgba(36, 12, 79, 1.000)\"\n",
       "                ],\n",
       "                [\n",
       "                    0.13725490196078433,\n",
       "                    \"rgba(38, 12, 81, 1.000)\"\n",
       "                ],\n",
       "                [\n",
       "                    0.1411764705882353,\n",
       "                    \"rgba(40, 11, 83, 1.000)\"\n",
       "                ],\n",
       "                [\n",
       "                    0.1450980392156863,\n",
       "                    \"rgba(41, 11, 85, 1.000)\"\n",
       "                ],\n",
       "                [\n",
       "                    0.14901960784313725,\n",
       "                    \"rgba(43, 11, 87, 1.000)\"\n",
       "                ],\n",
       "                [\n",
       "                    0.15294117647058825,\n",
       "                    \"rgba(45, 11, 89, 1.000)\"\n",
       "                ],\n",
       "                [\n",
       "                    0.1568627450980392,\n",
       "                    \"rgba(47, 10, 91, 1.000)\"\n",
       "                ],\n",
       "                [\n",
       "                    0.1607843137254902,\n",
       "                    \"rgba(49, 10, 92, 1.000)\"\n",
       "                ],\n",
       "                [\n",
       "                    0.16470588235294117,\n",
       "                    \"rgba(50, 10, 94, 1.000)\"\n",
       "                ],\n",
       "                [\n",
       "                    0.16862745098039217,\n",
       "                    \"rgba(52, 10, 95, 1.000)\"\n",
       "                ],\n",
       "                [\n",
       "                    0.17254901960784313,\n",
       "                    \"rgba(54, 9, 97, 1.000)\"\n",
       "                ],\n",
       "                [\n",
       "                    0.17647058823529413,\n",
       "                    \"rgba(56, 9, 98, 1.000)\"\n",
       "                ],\n",
       "                [\n",
       "                    0.1803921568627451,\n",
       "                    \"rgba(57, 9, 99, 1.000)\"\n",
       "                ],\n",
       "                [\n",
       "                    0.1843137254901961,\n",
       "                    \"rgba(59, 9, 100, 1.000)\"\n",
       "                ],\n",
       "                [\n",
       "                    0.18823529411764706,\n",
       "                    \"rgba(61, 9, 101, 1.000)\"\n",
       "                ],\n",
       "                [\n",
       "                    0.19215686274509805,\n",
       "                    \"rgba(62, 9, 102, 1.000)\"\n",
       "                ],\n",
       "                [\n",
       "                    0.19607843137254902,\n",
       "                    \"rgba(64, 10, 103, 1.000)\"\n",
       "                ],\n",
       "                [\n",
       "                    0.2,\n",
       "                    \"rgba(66, 10, 104, 1.000)\"\n",
       "                ],\n",
       "                [\n",
       "                    0.20392156862745098,\n",
       "                    \"rgba(68, 10, 104, 1.000)\"\n",
       "                ],\n",
       "                [\n",
       "                    0.20784313725490197,\n",
       "                    \"rgba(69, 10, 105, 1.000)\"\n",
       "                ],\n",
       "                [\n",
       "                    0.21176470588235294,\n",
       "                    \"rgba(71, 11, 106, 1.000)\"\n",
       "                ],\n",
       "                [\n",
       "                    0.21568627450980393,\n",
       "                    \"rgba(73, 11, 106, 1.000)\"\n",
       "                ],\n",
       "                [\n",
       "                    0.2196078431372549,\n",
       "                    \"rgba(74, 12, 107, 1.000)\"\n",
       "                ],\n",
       "                [\n",
       "                    0.2235294117647059,\n",
       "                    \"rgba(76, 12, 107, 1.000)\"\n",
       "                ],\n",
       "                [\n",
       "                    0.22745098039215686,\n",
       "                    \"rgba(77, 13, 108, 1.000)\"\n",
       "                ],\n",
       "                [\n",
       "                    0.23137254901960785,\n",
       "                    \"rgba(79, 13, 108, 1.000)\"\n",
       "                ],\n",
       "                [\n",
       "                    0.23529411764705882,\n",
       "                    \"rgba(81, 14, 108, 1.000)\"\n",
       "                ],\n",
       "                [\n",
       "                    0.23921568627450981,\n",
       "                    \"rgba(82, 14, 109, 1.000)\"\n",
       "                ],\n",
       "                [\n",
       "                    0.24313725490196078,\n",
       "                    \"rgba(84, 15, 109, 1.000)\"\n",
       "                ],\n",
       "                [\n",
       "                    0.24705882352941178,\n",
       "                    \"rgba(85, 15, 109, 1.000)\"\n",
       "                ],\n",
       "                [\n",
       "                    0.25098039215686274,\n",
       "                    \"rgba(87, 16, 110, 1.000)\"\n",
       "                ],\n",
       "                [\n",
       "                    0.2549019607843137,\n",
       "                    \"rgba(89, 16, 110, 1.000)\"\n",
       "                ],\n",
       "                [\n",
       "                    0.25882352941176473,\n",
       "                    \"rgba(90, 17, 110, 1.000)\"\n",
       "                ],\n",
       "                [\n",
       "                    0.2627450980392157,\n",
       "                    \"rgba(92, 18, 110, 1.000)\"\n",
       "                ],\n",
       "                [\n",
       "                    0.26666666666666666,\n",
       "                    \"rgba(93, 18, 110, 1.000)\"\n",
       "                ],\n",
       "                [\n",
       "                    0.27058823529411763,\n",
       "                    \"rgba(95, 19, 110, 1.000)\"\n",
       "                ],\n",
       "                [\n",
       "                    0.27450980392156865,\n",
       "                    \"rgba(97, 19, 110, 1.000)\"\n",
       "                ],\n",
       "                [\n",
       "                    0.2784313725490196,\n",
       "                    \"rgba(98, 20, 110, 1.000)\"\n",
       "                ],\n",
       "                [\n",
       "                    0.2823529411764706,\n",
       "                    \"rgba(100, 21, 110, 1.000)\"\n",
       "                ],\n",
       "                [\n",
       "                    0.28627450980392155,\n",
       "                    \"rgba(101, 21, 110, 1.000)\"\n",
       "                ],\n",
       "                [\n",
       "                    0.2901960784313726,\n",
       "                    \"rgba(103, 22, 110, 1.000)\"\n",
       "                ],\n",
       "                [\n",
       "                    0.29411764705882354,\n",
       "                    \"rgba(105, 22, 110, 1.000)\"\n",
       "                ],\n",
       "                [\n",
       "                    0.2980392156862745,\n",
       "                    \"rgba(106, 23, 110, 1.000)\"\n",
       "                ],\n",
       "                [\n",
       "                    0.30196078431372547,\n",
       "                    \"rgba(108, 24, 110, 1.000)\"\n",
       "                ],\n",
       "                [\n",
       "                    0.3058823529411765,\n",
       "                    \"rgba(109, 24, 110, 1.000)\"\n",
       "                ],\n",
       "                [\n",
       "                    0.30980392156862746,\n",
       "                    \"rgba(111, 25, 110, 1.000)\"\n",
       "                ],\n",
       "                [\n",
       "                    0.3137254901960784,\n",
       "                    \"rgba(113, 25, 110, 1.000)\"\n",
       "                ],\n",
       "                [\n",
       "                    0.3176470588235294,\n",
       "                    \"rgba(114, 26, 110, 1.000)\"\n",
       "                ],\n",
       "                [\n",
       "                    0.3215686274509804,\n",
       "                    \"rgba(116, 26, 110, 1.000)\"\n",
       "                ],\n",
       "                [\n",
       "                    0.3254901960784314,\n",
       "                    \"rgba(117, 27, 110, 1.000)\"\n",
       "                ],\n",
       "                [\n",
       "                    0.32941176470588235,\n",
       "                    \"rgba(119, 28, 109, 1.000)\"\n",
       "                ],\n",
       "                [\n",
       "                    0.3333333333333333,\n",
       "                    \"rgba(120, 28, 109, 1.000)\"\n",
       "                ],\n",
       "                [\n",
       "                    0.33725490196078434,\n",
       "                    \"rgba(122, 29, 109, 1.000)\"\n",
       "                ],\n",
       "                [\n",
       "                    0.3411764705882353,\n",
       "                    \"rgba(124, 29, 109, 1.000)\"\n",
       "                ],\n",
       "                [\n",
       "                    0.34509803921568627,\n",
       "                    \"rgba(125, 30, 109, 1.000)\"\n",
       "                ],\n",
       "                [\n",
       "                    0.34901960784313724,\n",
       "                    \"rgba(127, 30, 108, 1.000)\"\n",
       "                ],\n",
       "                [\n",
       "                    0.35294117647058826,\n",
       "                    \"rgba(128, 31, 108, 1.000)\"\n",
       "                ],\n",
       "                [\n",
       "                    0.3568627450980392,\n",
       "                    \"rgba(130, 32, 108, 1.000)\"\n",
       "                ],\n",
       "                [\n",
       "                    0.3607843137254902,\n",
       "                    \"rgba(132, 32, 107, 1.000)\"\n",
       "                ],\n",
       "                [\n",
       "                    0.36470588235294116,\n",
       "                    \"rgba(133, 33, 107, 1.000)\"\n",
       "                ],\n",
       "                [\n",
       "                    0.3686274509803922,\n",
       "                    \"rgba(135, 33, 107, 1.000)\"\n",
       "                ],\n",
       "                [\n",
       "                    0.37254901960784315,\n",
       "                    \"rgba(136, 34, 106, 1.000)\"\n",
       "                ],\n",
       "                [\n",
       "                    0.3764705882352941,\n",
       "                    \"rgba(138, 34, 106, 1.000)\"\n",
       "                ],\n",
       "                [\n",
       "                    0.3803921568627451,\n",
       "                    \"rgba(140, 35, 105, 1.000)\"\n",
       "                ],\n",
       "                [\n",
       "                    0.3843137254901961,\n",
       "                    \"rgba(141, 35, 105, 1.000)\"\n",
       "                ],\n",
       "                [\n",
       "                    0.38823529411764707,\n",
       "                    \"rgba(143, 36, 105, 1.000)\"\n",
       "                ],\n",
       "                [\n",
       "                    0.39215686274509803,\n",
       "                    \"rgba(144, 37, 104, 1.000)\"\n",
       "                ],\n",
       "                [\n",
       "                    0.396078431372549,\n",
       "                    \"rgba(146, 37, 104, 1.000)\"\n",
       "                ],\n",
       "                [\n",
       "                    0.4,\n",
       "                    \"rgba(147, 38, 103, 1.000)\"\n",
       "                ],\n",
       "                [\n",
       "                    0.403921568627451,\n",
       "                    \"rgba(149, 38, 103, 1.000)\"\n",
       "                ],\n",
       "                [\n",
       "                    0.40784313725490196,\n",
       "                    \"rgba(151, 39, 102, 1.000)\"\n",
       "                ],\n",
       "                [\n",
       "                    0.4117647058823529,\n",
       "                    \"rgba(152, 39, 102, 1.000)\"\n",
       "                ],\n",
       "                [\n",
       "                    0.41568627450980394,\n",
       "                    \"rgba(154, 40, 101, 1.000)\"\n",
       "                ],\n",
       "                [\n",
       "                    0.4196078431372549,\n",
       "                    \"rgba(155, 41, 100, 1.000)\"\n",
       "                ],\n",
       "                [\n",
       "                    0.4235294117647059,\n",
       "                    \"rgba(157, 41, 100, 1.000)\"\n",
       "                ],\n",
       "                [\n",
       "                    0.42745098039215684,\n",
       "                    \"rgba(159, 42, 99, 1.000)\"\n",
       "                ],\n",
       "                [\n",
       "                    0.43137254901960786,\n",
       "                    \"rgba(160, 42, 99, 1.000)\"\n",
       "                ],\n",
       "                [\n",
       "                    0.43529411764705883,\n",
       "                    \"rgba(162, 43, 98, 1.000)\"\n",
       "                ],\n",
       "                [\n",
       "                    0.4392156862745098,\n",
       "                    \"rgba(163, 44, 97, 1.000)\"\n",
       "                ],\n",
       "                [\n",
       "                    0.44313725490196076,\n",
       "                    \"rgba(165, 44, 96, 1.000)\"\n",
       "                ],\n",
       "                [\n",
       "                    0.4470588235294118,\n",
       "                    \"rgba(166, 45, 96, 1.000)\"\n",
       "                ],\n",
       "                [\n",
       "                    0.45098039215686275,\n",
       "                    \"rgba(168, 46, 95, 1.000)\"\n",
       "                ],\n",
       "                [\n",
       "                    0.4549019607843137,\n",
       "                    \"rgba(169, 46, 94, 1.000)\"\n",
       "                ],\n",
       "                [\n",
       "                    0.4588235294117647,\n",
       "                    \"rgba(171, 47, 94, 1.000)\"\n",
       "                ],\n",
       "                [\n",
       "                    0.4627450980392157,\n",
       "                    \"rgba(173, 48, 93, 1.000)\"\n",
       "                ],\n",
       "                [\n",
       "                    0.4666666666666667,\n",
       "                    \"rgba(174, 48, 92, 1.000)\"\n",
       "                ],\n",
       "                [\n",
       "                    0.47058823529411764,\n",
       "                    \"rgba(176, 49, 91, 1.000)\"\n",
       "                ],\n",
       "                [\n",
       "                    0.4745098039215686,\n",
       "                    \"rgba(177, 50, 90, 1.000)\"\n",
       "                ],\n",
       "                [\n",
       "                    0.47843137254901963,\n",
       "                    \"rgba(179, 50, 90, 1.000)\"\n",
       "                ],\n",
       "                [\n",
       "                    0.4823529411764706,\n",
       "                    \"rgba(180, 51, 89, 1.000)\"\n",
       "                ],\n",
       "                [\n",
       "                    0.48627450980392156,\n",
       "                    \"rgba(182, 52, 88, 1.000)\"\n",
       "                ],\n",
       "                [\n",
       "                    0.49019607843137253,\n",
       "                    \"rgba(183, 53, 87, 1.000)\"\n",
       "                ],\n",
       "                [\n",
       "                    0.49411764705882355,\n",
       "                    \"rgba(185, 53, 86, 1.000)\"\n",
       "                ],\n",
       "                [\n",
       "                    0.4980392156862745,\n",
       "                    \"rgba(186, 54, 85, 1.000)\"\n",
       "                ],\n",
       "                [\n",
       "                    0.5019607843137255,\n",
       "                    \"rgba(188, 55, 84, 1.000)\"\n",
       "                ],\n",
       "                [\n",
       "                    0.5058823529411764,\n",
       "                    \"rgba(189, 56, 83, 1.000)\"\n",
       "                ],\n",
       "                [\n",
       "                    0.5098039215686274,\n",
       "                    \"rgba(191, 57, 82, 1.000)\"\n",
       "                ],\n",
       "                [\n",
       "                    0.5137254901960784,\n",
       "                    \"rgba(192, 58, 81, 1.000)\"\n",
       "                ],\n",
       "                [\n",
       "                    0.5176470588235295,\n",
       "                    \"rgba(193, 58, 80, 1.000)\"\n",
       "                ],\n",
       "                [\n",
       "                    0.5215686274509804,\n",
       "                    \"rgba(195, 59, 79, 1.000)\"\n",
       "                ],\n",
       "                [\n",
       "                    0.5254901960784314,\n",
       "                    \"rgba(196, 60, 78, 1.000)\"\n",
       "                ],\n",
       "                [\n",
       "                    0.5294117647058824,\n",
       "                    \"rgba(198, 61, 77, 1.000)\"\n",
       "                ],\n",
       "                [\n",
       "                    0.5333333333333333,\n",
       "                    \"rgba(199, 62, 76, 1.000)\"\n",
       "                ],\n",
       "                [\n",
       "                    0.5372549019607843,\n",
       "                    \"rgba(200, 63, 75, 1.000)\"\n",
       "                ],\n",
       "                [\n",
       "                    0.5411764705882353,\n",
       "                    \"rgba(202, 64, 74, 1.000)\"\n",
       "                ],\n",
       "                [\n",
       "                    0.5450980392156862,\n",
       "                    \"rgba(203, 65, 73, 1.000)\"\n",
       "                ],\n",
       "                [\n",
       "                    0.5490196078431373,\n",
       "                    \"rgba(204, 66, 72, 1.000)\"\n",
       "                ],\n",
       "                [\n",
       "                    0.5529411764705883,\n",
       "                    \"rgba(206, 67, 71, 1.000)\"\n",
       "                ],\n",
       "                [\n",
       "                    0.5568627450980392,\n",
       "                    \"rgba(207, 68, 70, 1.000)\"\n",
       "                ],\n",
       "                [\n",
       "                    0.5607843137254902,\n",
       "                    \"rgba(208, 69, 69, 1.000)\"\n",
       "                ],\n",
       "                [\n",
       "                    0.5647058823529412,\n",
       "                    \"rgba(210, 70, 68, 1.000)\"\n",
       "                ],\n",
       "                [\n",
       "                    0.5686274509803921,\n",
       "                    \"rgba(211, 71, 67, 1.000)\"\n",
       "                ],\n",
       "                [\n",
       "                    0.5725490196078431,\n",
       "                    \"rgba(212, 72, 66, 1.000)\"\n",
       "                ],\n",
       "                [\n",
       "                    0.5764705882352941,\n",
       "                    \"rgba(213, 74, 65, 1.000)\"\n",
       "                ],\n",
       "                [\n",
       "                    0.5803921568627451,\n",
       "                    \"rgba(215, 75, 63, 1.000)\"\n",
       "                ],\n",
       "                [\n",
       "                    0.5843137254901961,\n",
       "                    \"rgba(216, 76, 62, 1.000)\"\n",
       "                ],\n",
       "                [\n",
       "                    0.5882352941176471,\n",
       "                    \"rgba(217, 77, 61, 1.000)\"\n",
       "                ],\n",
       "                [\n",
       "                    0.592156862745098,\n",
       "                    \"rgba(218, 78, 60, 1.000)\"\n",
       "                ],\n",
       "                [\n",
       "                    0.596078431372549,\n",
       "                    \"rgba(219, 80, 59, 1.000)\"\n",
       "                ],\n",
       "                [\n",
       "                    0.6,\n",
       "                    \"rgba(221, 81, 58, 1.000)\"\n",
       "                ],\n",
       "                [\n",
       "                    0.6039215686274509,\n",
       "                    \"rgba(222, 82, 56, 1.000)\"\n",
       "                ],\n",
       "                [\n",
       "                    0.6078431372549019,\n",
       "                    \"rgba(223, 83, 55, 1.000)\"\n",
       "                ],\n",
       "                [\n",
       "                    0.611764705882353,\n",
       "                    \"rgba(224, 85, 54, 1.000)\"\n",
       "                ],\n",
       "                [\n",
       "                    0.615686274509804,\n",
       "                    \"rgba(225, 86, 53, 1.000)\"\n",
       "                ],\n",
       "                [\n",
       "                    0.6196078431372549,\n",
       "                    \"rgba(226, 87, 52, 1.000)\"\n",
       "                ],\n",
       "                [\n",
       "                    0.6235294117647059,\n",
       "                    \"rgba(227, 89, 51, 1.000)\"\n",
       "                ],\n",
       "                [\n",
       "                    0.6274509803921569,\n",
       "                    \"rgba(228, 90, 49, 1.000)\"\n",
       "                ],\n",
       "                [\n",
       "                    0.6313725490196078,\n",
       "                    \"rgba(229, 92, 48, 1.000)\"\n",
       "                ],\n",
       "                [\n",
       "                    0.6352941176470588,\n",
       "                    \"rgba(230, 93, 47, 1.000)\"\n",
       "                ],\n",
       "                [\n",
       "                    0.6392156862745098,\n",
       "                    \"rgba(231, 94, 46, 1.000)\"\n",
       "                ],\n",
       "                [\n",
       "                    0.6431372549019608,\n",
       "                    \"rgba(232, 96, 45, 1.000)\"\n",
       "                ],\n",
       "                [\n",
       "                    0.6470588235294118,\n",
       "                    \"rgba(233, 97, 43, 1.000)\"\n",
       "                ],\n",
       "                [\n",
       "                    0.6509803921568628,\n",
       "                    \"rgba(234, 99, 42, 1.000)\"\n",
       "                ],\n",
       "                [\n",
       "                    0.6549019607843137,\n",
       "                    \"rgba(235, 100, 41, 1.000)\"\n",
       "                ],\n",
       "                [\n",
       "                    0.6588235294117647,\n",
       "                    \"rgba(235, 102, 40, 1.000)\"\n",
       "                ],\n",
       "                [\n",
       "                    0.6627450980392157,\n",
       "                    \"rgba(236, 103, 38, 1.000)\"\n",
       "                ],\n",
       "                [\n",
       "                    0.6666666666666666,\n",
       "                    \"rgba(237, 105, 37, 1.000)\"\n",
       "                ],\n",
       "                [\n",
       "                    0.6705882352941176,\n",
       "                    \"rgba(238, 106, 36, 1.000)\"\n",
       "                ],\n",
       "                [\n",
       "                    0.6745098039215687,\n",
       "                    \"rgba(239, 108, 35, 1.000)\"\n",
       "                ],\n",
       "                [\n",
       "                    0.6784313725490196,\n",
       "                    \"rgba(239, 110, 33, 1.000)\"\n",
       "                ],\n",
       "                [\n",
       "                    0.6823529411764706,\n",
       "                    \"rgba(240, 111, 32, 1.000)\"\n",
       "                ],\n",
       "                [\n",
       "                    0.6862745098039216,\n",
       "                    \"rgba(241, 113, 31, 1.000)\"\n",
       "                ],\n",
       "                [\n",
       "                    0.6901960784313725,\n",
       "                    \"rgba(241, 115, 29, 1.000)\"\n",
       "                ],\n",
       "                [\n",
       "                    0.6941176470588235,\n",
       "                    \"rgba(242, 116, 28, 1.000)\"\n",
       "                ],\n",
       "                [\n",
       "                    0.6980392156862745,\n",
       "                    \"rgba(243, 118, 27, 1.000)\"\n",
       "                ],\n",
       "                [\n",
       "                    0.7019607843137254,\n",
       "                    \"rgba(243, 120, 25, 1.000)\"\n",
       "                ],\n",
       "                [\n",
       "                    0.7058823529411765,\n",
       "                    \"rgba(244, 121, 24, 1.000)\"\n",
       "                ],\n",
       "                [\n",
       "                    0.7098039215686275,\n",
       "                    \"rgba(245, 123, 23, 1.000)\"\n",
       "                ],\n",
       "                [\n",
       "                    0.7137254901960784,\n",
       "                    \"rgba(245, 125, 21, 1.000)\"\n",
       "                ],\n",
       "                [\n",
       "                    0.7176470588235294,\n",
       "                    \"rgba(246, 126, 20, 1.000)\"\n",
       "                ],\n",
       "                [\n",
       "                    0.7215686274509804,\n",
       "                    \"rgba(246, 128, 19, 1.000)\"\n",
       "                ],\n",
       "                [\n",
       "                    0.7254901960784313,\n",
       "                    \"rgba(247, 130, 18, 1.000)\"\n",
       "                ],\n",
       "                [\n",
       "                    0.7294117647058823,\n",
       "                    \"rgba(247, 132, 16, 1.000)\"\n",
       "                ],\n",
       "                [\n",
       "                    0.7333333333333333,\n",
       "                    \"rgba(248, 133, 15, 1.000)\"\n",
       "                ],\n",
       "                [\n",
       "                    0.7372549019607844,\n",
       "                    \"rgba(248, 135, 14, 1.000)\"\n",
       "                ],\n",
       "                [\n",
       "                    0.7411764705882353,\n",
       "                    \"rgba(248, 137, 12, 1.000)\"\n",
       "                ],\n",
       "                [\n",
       "                    0.7450980392156863,\n",
       "                    \"rgba(249, 139, 11, 1.000)\"\n",
       "                ],\n",
       "                [\n",
       "                    0.7490196078431373,\n",
       "                    \"rgba(249, 140, 10, 1.000)\"\n",
       "                ],\n",
       "                [\n",
       "                    0.7529411764705882,\n",
       "                    \"rgba(249, 142, 9, 1.000)\"\n",
       "                ],\n",
       "                [\n",
       "                    0.7568627450980392,\n",
       "                    \"rgba(250, 144, 8, 1.000)\"\n",
       "                ],\n",
       "                [\n",
       "                    0.7607843137254902,\n",
       "                    \"rgba(250, 146, 7, 1.000)\"\n",
       "                ],\n",
       "                [\n",
       "                    0.7647058823529411,\n",
       "                    \"rgba(250, 148, 7, 1.000)\"\n",
       "                ],\n",
       "                [\n",
       "                    0.7686274509803922,\n",
       "                    \"rgba(251, 150, 6, 1.000)\"\n",
       "                ],\n",
       "                [\n",
       "                    0.7725490196078432,\n",
       "                    \"rgba(251, 151, 6, 1.000)\"\n",
       "                ],\n",
       "                [\n",
       "                    0.7764705882352941,\n",
       "                    \"rgba(251, 153, 6, 1.000)\"\n",
       "                ],\n",
       "                [\n",
       "                    0.7803921568627451,\n",
       "                    \"rgba(251, 155, 6, 1.000)\"\n",
       "                ],\n",
       "                [\n",
       "                    0.7843137254901961,\n",
       "                    \"rgba(251, 157, 7, 1.000)\"\n",
       "                ],\n",
       "                [\n",
       "                    0.788235294117647,\n",
       "                    \"rgba(252, 159, 7, 1.000)\"\n",
       "                ],\n",
       "                [\n",
       "                    0.792156862745098,\n",
       "                    \"rgba(252, 161, 8, 1.000)\"\n",
       "                ],\n",
       "                [\n",
       "                    0.796078431372549,\n",
       "                    \"rgba(252, 163, 9, 1.000)\"\n",
       "                ],\n",
       "                [\n",
       "                    0.8,\n",
       "                    \"rgba(252, 165, 10, 1.000)\"\n",
       "                ],\n",
       "                [\n",
       "                    0.803921568627451,\n",
       "                    \"rgba(252, 166, 12, 1.000)\"\n",
       "                ],\n",
       "                [\n",
       "                    0.807843137254902,\n",
       "                    \"rgba(252, 168, 13, 1.000)\"\n",
       "                ],\n",
       "                [\n",
       "                    0.8117647058823529,\n",
       "                    \"rgba(252, 170, 15, 1.000)\"\n",
       "                ],\n",
       "                [\n",
       "                    0.8156862745098039,\n",
       "                    \"rgba(252, 172, 17, 1.000)\"\n",
       "                ],\n",
       "                [\n",
       "                    0.8196078431372549,\n",
       "                    \"rgba(252, 174, 18, 1.000)\"\n",
       "                ],\n",
       "                [\n",
       "                    0.8235294117647058,\n",
       "                    \"rgba(252, 176, 20, 1.000)\"\n",
       "                ],\n",
       "                [\n",
       "                    0.8274509803921568,\n",
       "                    \"rgba(252, 178, 22, 1.000)\"\n",
       "                ],\n",
       "                [\n",
       "                    0.8313725490196079,\n",
       "                    \"rgba(252, 180, 24, 1.000)\"\n",
       "                ],\n",
       "                [\n",
       "                    0.8352941176470589,\n",
       "                    \"rgba(251, 182, 26, 1.000)\"\n",
       "                ],\n",
       "                [\n",
       "                    0.8392156862745098,\n",
       "                    \"rgba(251, 184, 29, 1.000)\"\n",
       "                ],\n",
       "                [\n",
       "                    0.8431372549019608,\n",
       "                    \"rgba(251, 186, 31, 1.000)\"\n",
       "                ],\n",
       "                [\n",
       "                    0.8470588235294118,\n",
       "                    \"rgba(251, 188, 33, 1.000)\"\n",
       "                ],\n",
       "                [\n",
       "                    0.8509803921568627,\n",
       "                    \"rgba(251, 190, 35, 1.000)\"\n",
       "                ],\n",
       "                [\n",
       "                    0.8549019607843137,\n",
       "                    \"rgba(250, 192, 38, 1.000)\"\n",
       "                ],\n",
       "                [\n",
       "                    0.8588235294117647,\n",
       "                    \"rgba(250, 194, 40, 1.000)\"\n",
       "                ],\n",
       "                [\n",
       "                    0.8627450980392157,\n",
       "                    \"rgba(250, 196, 42, 1.000)\"\n",
       "                ],\n",
       "                [\n",
       "                    0.8666666666666667,\n",
       "                    \"rgba(250, 198, 45, 1.000)\"\n",
       "                ],\n",
       "                [\n",
       "                    0.8705882352941177,\n",
       "                    \"rgba(249, 199, 47, 1.000)\"\n",
       "                ],\n",
       "                [\n",
       "                    0.8745098039215686,\n",
       "                    \"rgba(249, 201, 50, 1.000)\"\n",
       "                ],\n",
       "                [\n",
       "                    0.8784313725490196,\n",
       "                    \"rgba(249, 203, 53, 1.000)\"\n",
       "                ],\n",
       "                [\n",
       "                    0.8823529411764706,\n",
       "                    \"rgba(248, 205, 55, 1.000)\"\n",
       "                ],\n",
       "                [\n",
       "                    0.8862745098039215,\n",
       "                    \"rgba(248, 207, 58, 1.000)\"\n",
       "                ],\n",
       "                [\n",
       "                    0.8901960784313725,\n",
       "                    \"rgba(247, 209, 61, 1.000)\"\n",
       "                ],\n",
       "                [\n",
       "                    0.8941176470588236,\n",
       "                    \"rgba(247, 211, 64, 1.000)\"\n",
       "                ],\n",
       "                [\n",
       "                    0.8980392156862745,\n",
       "                    \"rgba(246, 213, 67, 1.000)\"\n",
       "                ],\n",
       "                [\n",
       "                    0.9019607843137255,\n",
       "                    \"rgba(246, 215, 70, 1.000)\"\n",
       "                ],\n",
       "                [\n",
       "                    0.9058823529411765,\n",
       "                    \"rgba(245, 217, 73, 1.000)\"\n",
       "                ],\n",
       "                [\n",
       "                    0.9098039215686274,\n",
       "                    \"rgba(245, 219, 76, 1.000)\"\n",
       "                ],\n",
       "                [\n",
       "                    0.9137254901960784,\n",
       "                    \"rgba(244, 221, 79, 1.000)\"\n",
       "                ],\n",
       "                [\n",
       "                    0.9176470588235294,\n",
       "                    \"rgba(244, 223, 83, 1.000)\"\n",
       "                ],\n",
       "                [\n",
       "                    0.9215686274509803,\n",
       "                    \"rgba(244, 225, 86, 1.000)\"\n",
       "                ],\n",
       "                [\n",
       "                    0.9254901960784314,\n",
       "                    \"rgba(243, 227, 90, 1.000)\"\n",
       "                ],\n",
       "                [\n",
       "                    0.9294117647058824,\n",
       "                    \"rgba(243, 229, 93, 1.000)\"\n",
       "                ],\n",
       "                [\n",
       "                    0.9333333333333333,\n",
       "                    \"rgba(242, 230, 97, 1.000)\"\n",
       "                ],\n",
       "                [\n",
       "                    0.9372549019607843,\n",
       "                    \"rgba(242, 232, 101, 1.000)\"\n",
       "                ],\n",
       "                [\n",
       "                    0.9411764705882353,\n",
       "                    \"rgba(242, 234, 105, 1.000)\"\n",
       "                ],\n",
       "                [\n",
       "                    0.9450980392156862,\n",
       "                    \"rgba(241, 236, 109, 1.000)\"\n",
       "                ],\n",
       "                [\n",
       "                    0.9490196078431372,\n",
       "                    \"rgba(241, 237, 113, 1.000)\"\n",
       "                ],\n",
       "                [\n",
       "                    0.9529411764705882,\n",
       "                    \"rgba(241, 239, 117, 1.000)\"\n",
       "                ],\n",
       "                [\n",
       "                    0.9568627450980393,\n",
       "                    \"rgba(241, 241, 121, 1.000)\"\n",
       "                ],\n",
       "                [\n",
       "                    0.9607843137254902,\n",
       "                    \"rgba(242, 242, 125, 1.000)\"\n",
       "                ],\n",
       "                [\n",
       "                    0.9647058823529412,\n",
       "                    \"rgba(242, 244, 130, 1.000)\"\n",
       "                ],\n",
       "                [\n",
       "                    0.9686274509803922,\n",
       "                    \"rgba(243, 245, 134, 1.000)\"\n",
       "                ],\n",
       "                [\n",
       "                    0.9725490196078431,\n",
       "                    \"rgba(243, 246, 138, 1.000)\"\n",
       "                ],\n",
       "                [\n",
       "                    0.9764705882352941,\n",
       "                    \"rgba(244, 248, 142, 1.000)\"\n",
       "                ],\n",
       "                [\n",
       "                    0.9803921568627451,\n",
       "                    \"rgba(245, 249, 146, 1.000)\"\n",
       "                ],\n",
       "                [\n",
       "                    0.984313725490196,\n",
       "                    \"rgba(246, 250, 150, 1.000)\"\n",
       "                ],\n",
       "                [\n",
       "                    0.9882352941176471,\n",
       "                    \"rgba(248, 251, 154, 1.000)\"\n",
       "                ],\n",
       "                [\n",
       "                    0.9921568627450981,\n",
       "                    \"rgba(249, 252, 157, 1.000)\"\n",
       "                ],\n",
       "                [\n",
       "                    0.996078431372549,\n",
       "                    \"rgba(250, 253, 161, 1.000)\"\n",
       "                ],\n",
       "                [\n",
       "                    1.0,\n",
       "                    \"rgba(252, 255, 164, 1.000)\"\n",
       "                ]\n",
       "            ],\n",
       "            \"cmax\": 6.0,\n",
       "            \"showscale\": true\n",
       "        },\n",
       "        \"zmax\": 6.0,\n",
       "        \"y\": [\n",
       "            -1.300140641481638\n",
       "        ],\n",
       "        \"type\": \"scatter3d\",\n",
       "        \"scene\": \"scene\",\n",
       "        \"hoverinfo\": \"none\"\n",
       "    },\n",
       "    {\n",
       "        \"xaxis\": \"x\",\n",
       "        \"colorbar\": {\n",
       "            \"title\": \"\"\n",
       "        },\n",
       "        \"yaxis\": \"y\",\n",
       "        \"zaxis\": \"z\",\n",
       "        \"x\": [\n",
       "            2.7002109622224575,\n",
       "            0.0,\n",
       "            0.0,\n",
       "            1.0,\n",
       "            1.0,\n",
       "            -1.8089875327071336\n",
       "        ],\n",
       "        \"showlegend\": true,\n",
       "        \"mode\": \"lines\",\n",
       "        \"name\": \"y2\",\n",
       "        \"zmin\": 1.0,\n",
       "        \"legendgroup\": \"y2\",\n",
       "        \"z\": [\n",
       "            -1.4724258850774328,\n",
       "            0.8660254037844387,\n",
       "            0.0,\n",
       "            0.0,\n",
       "            1.0,\n",
       "            -1.8089875327071336\n",
       "        ],\n",
       "        \"zmax\": 6.0,\n",
       "        \"line\": {\n",
       "            \"color\": \"rgba(0, 0, 0, 1.000)\",\n",
       "            \"shape\": \"linear\",\n",
       "            \"dash\": \"solid\",\n",
       "            \"width\": 2\n",
       "        },\n",
       "        \"y\": [\n",
       "            -1.300140641481638,\n",
       "            0.49999999999999994,\n",
       "            0.0,\n",
       "            0.0,\n",
       "            0.0,\n",
       "            0.4681645887845222\n",
       "        ],\n",
       "        \"type\": \"scatter3d\",\n",
       "        \"scene\": \"scene\"\n",
       "    }\n",
       "]\n",
       ", {\n",
       "    \"showlegend\": true,\n",
       "    \"paper_bgcolor\": \"rgba(255, 255, 255, 1.000)\",\n",
       "    \"annotations\": [],\n",
       "    \"height\": 400,\n",
       "    \"margin\": {\n",
       "        \"l\": 0,\n",
       "        \"b\": 20,\n",
       "        \"r\": 0,\n",
       "        \"t\": 20\n",
       "    },\n",
       "    \"plot_bgcolor\": \"rgba(255, 255, 255, 1.000)\",\n",
       "    \"scene\": {\n",
       "        \"camera\": {\n",
       "            \"eye\": {\n",
       "                \"y\": -1.9499999999999997,\n",
       "                \"z\": 1.3,\n",
       "                \"x\": 1.12583302491977\n",
       "            }\n",
       "        },\n",
       "        \"xaxis\": {\n",
       "            \"tickangle\": 0,\n",
       "            \"showline\": true,\n",
       "            \"gridcolor\": \"rgba(0, 0, 0, 0.100)\",\n",
       "            \"showticklabels\": true,\n",
       "            \"gridwidth\": 0.5,\n",
       "            \"titlefont\": {\n",
       "                \"color\": \"rgba(0, 0, 0, 1.000)\",\n",
       "                \"family\": \"sans-serif\",\n",
       "                \"size\": 15\n",
       "            },\n",
       "            \"visible\": true,\n",
       "            \"ticks\": \"inside\",\n",
       "            \"range\": [\n",
       "                -1.9442634875550213,\n",
       "                2.8354869170703454\n",
       "            ],\n",
       "            \"tickmode\": \"array\",\n",
       "            \"tickvals\": [\n",
       "                -1.0,\n",
       "                0.0,\n",
       "                1.0,\n",
       "                2.0\n",
       "            ],\n",
       "            \"tickcolor\": \"rgb(0, 0, 0)\",\n",
       "            \"ticktext\": [\n",
       "                \"-1\",\n",
       "                \"0\",\n",
       "                \"1\",\n",
       "                \"2\"\n",
       "            ],\n",
       "            \"linecolor\": \"rgba(0, 0, 0, 1.000)\",\n",
       "            \"showgrid\": true,\n",
       "            \"zeroline\": false,\n",
       "            \"type\": \"-\",\n",
       "            \"tickfont\": {\n",
       "                \"color\": \"rgba(0, 0, 0, 1.000)\",\n",
       "                \"family\": \"sans-serif\",\n",
       "                \"size\": 11\n",
       "            },\n",
       "            \"title\": \"x\",\n",
       "            \"zerolinecolor\": \"rgba(0, 0, 0, 1.000)\",\n",
       "            \"mirror\": false\n",
       "        },\n",
       "        \"domain\": {\n",
       "            \"y\": [\n",
       "                0.07581474190726165,\n",
       "                0.9901574803149606\n",
       "            ],\n",
       "            \"x\": [\n",
       "                0.09128390201224845,\n",
       "                0.9934383202099738\n",
       "            ]\n",
       "        },\n",
       "        \"yaxis\": {\n",
       "            \"tickangle\": 0,\n",
       "            \"showline\": true,\n",
       "            \"gridcolor\": \"rgba(0, 0, 0, 0.100)\",\n",
       "            \"showticklabels\": true,\n",
       "            \"gridwidth\": 0.5,\n",
       "            \"titlefont\": {\n",
       "                \"color\": \"rgba(0, 0, 0, 1.000)\",\n",
       "                \"family\": \"sans-serif\",\n",
       "                \"size\": 15\n",
       "            },\n",
       "            \"visible\": true,\n",
       "            \"ticks\": \"inside\",\n",
       "            \"range\": [\n",
       "                -1.3541448607260873,\n",
       "                0.5540042192444491\n",
       "            ],\n",
       "            \"tickmode\": \"array\",\n",
       "            \"tickvals\": [\n",
       "                -1.0,\n",
       "                -0.5,\n",
       "                0.0,\n",
       "                0.5\n",
       "            ],\n",
       "            \"tickcolor\": \"rgb(0, 0, 0)\",\n",
       "            \"ticktext\": [\n",
       "                \"-1.0\",\n",
       "                \"-0.5\",\n",
       "                \"0.0\",\n",
       "                \"0.5\"\n",
       "            ],\n",
       "            \"linecolor\": \"rgba(0, 0, 0, 1.000)\",\n",
       "            \"showgrid\": true,\n",
       "            \"zeroline\": false,\n",
       "            \"type\": \"-\",\n",
       "            \"tickfont\": {\n",
       "                \"color\": \"rgba(0, 0, 0, 1.000)\",\n",
       "                \"family\": \"sans-serif\",\n",
       "                \"size\": 11\n",
       "            },\n",
       "            \"title\": \"y\",\n",
       "            \"zerolinecolor\": \"rgba(0, 0, 0, 1.000)\",\n",
       "            \"mirror\": false\n",
       "        },\n",
       "        \"zaxis\": {\n",
       "            \"tickangle\": 0,\n",
       "            \"showline\": true,\n",
       "            \"gridcolor\": \"rgba(0, 0, 0, 0.100)\",\n",
       "            \"showticklabels\": true,\n",
       "            \"gridwidth\": 0.5,\n",
       "            \"titlefont\": {\n",
       "                \"color\": \"rgba(0, 0, 0, 1.000)\",\n",
       "                \"family\": \"sans-serif\",\n",
       "                \"size\": 15\n",
       "            },\n",
       "            \"visible\": true,\n",
       "            \"ticks\": \"inside\",\n",
       "            \"range\": [\n",
       "                -1.8932571586883475,\n",
       "                1.084269625981214\n",
       "            ],\n",
       "            \"tickmode\": \"array\",\n",
       "            \"tickvals\": [\n",
       "                -1.5,\n",
       "                -1.0,\n",
       "                -0.5,\n",
       "                0.0,\n",
       "                0.5,\n",
       "                1.0\n",
       "            ],\n",
       "            \"tickcolor\": \"rgb(0, 0, 0)\",\n",
       "            \"ticktext\": [\n",
       "                \"-1.5\",\n",
       "                \"-1.0\",\n",
       "                \"-0.5\",\n",
       "                \"0.0\",\n",
       "                \"0.5\",\n",
       "                \"1.0\"\n",
       "            ],\n",
       "            \"linecolor\": \"rgba(0, 0, 0, 1.000)\",\n",
       "            \"showgrid\": true,\n",
       "            \"zeroline\": false,\n",
       "            \"type\": \"-\",\n",
       "            \"tickfont\": {\n",
       "                \"color\": \"rgba(0, 0, 0, 1.000)\",\n",
       "                \"family\": \"sans-serif\",\n",
       "                \"size\": 11\n",
       "            },\n",
       "            \"title\": \"z\",\n",
       "            \"zerolinecolor\": \"rgba(0, 0, 0, 1.000)\",\n",
       "            \"mirror\": false\n",
       "        }\n",
       "    },\n",
       "    \"legend\": {\n",
       "        \"yanchor\": \"auto\",\n",
       "        \"xanchor\": \"auto\",\n",
       "        \"bordercolor\": \"rgba(0, 0, 0, 1.000)\",\n",
       "        \"bgcolor\": \"rgba(255, 255, 255, 1.000)\",\n",
       "        \"borderwidth\": 1,\n",
       "        \"tracegroupgap\": 0,\n",
       "        \"y\": 1.0,\n",
       "        \"font\": {\n",
       "            \"color\": \"rgba(0, 0, 0, 1.000)\",\n",
       "            \"family\": \"sans-serif\",\n",
       "            \"size\": 11\n",
       "        },\n",
       "        \"title\": {\n",
       "            \"font\": {\n",
       "                \"color\": \"rgba(0, 0, 0, 1.000)\",\n",
       "                \"family\": \"sans-serif\",\n",
       "                \"size\": 15\n",
       "            },\n",
       "            \"text\": \"\"\n",
       "        },\n",
       "        \"traceorder\": \"normal\",\n",
       "        \"x\": 1.0\n",
       "    },\n",
       "    \"width\": 600\n",
       "}\n",
       ");\n",
       "\n",
       "    });\n",
       "    </script>\n"
      ]
     },
     "execution_count": 171,
     "metadata": {},
     "output_type": "execute_result"
    }
   ],
   "source": [
    "p = plot()\n",
    "plotChainSeries!(P,\"red\")\n",
    "p"
   ]
  },
  {
   "cell_type": "code",
   "execution_count": 172,
   "metadata": {},
   "outputs": [
    {
     "data": {
      "text/plain": [
       "\"i=1,j=3\""
      ]
     },
     "metadata": {},
     "output_type": "display_data"
    },
    {
     "data": {
      "text/plain": [
       "\"\\n\\n\""
      ]
     },
     "metadata": {},
     "output_type": "display_data"
    },
    {
     "data": {
      "text/plain": [
       "6×6 Base.Matrix{BigFloat}:\n",
       "  0.00209852   0.00209852  -0.00209852  -0.00209852  0.0  0.0\n",
       "  0.00209852   0.00209852  -0.00209852  -0.00209852  0.0  0.0\n",
       " -0.00209852  -0.00209852   0.00209852   0.00209852  0.0  0.0\n",
       " -0.00209852  -0.00209852   0.00209852   0.00209852  0.0  0.0\n",
       "  0.0          0.0          0.0          0.0         0.0  0.0\n",
       "  0.0          0.0          0.0          0.0         0.0  0.0"
      ]
     },
     "metadata": {},
     "output_type": "display_data"
    },
    {
     "data": {
      "text/plain": [
       "\"\\n\\n\""
      ]
     },
     "metadata": {},
     "output_type": "display_data"
    },
    {
     "data": {
      "text/plain": [
       "\"i=1,j=4\""
      ]
     },
     "metadata": {},
     "output_type": "display_data"
    },
    {
     "data": {
      "text/plain": [
       "\"\\n\\n\""
      ]
     },
     "metadata": {},
     "output_type": "display_data"
    },
    {
     "data": {
      "text/plain": [
       "6×6 Base.Matrix{BigFloat}:\n",
       "  0.109364     0.109364    -0.00209852  -0.109364    -0.107266  0.0\n",
       "  0.109364     0.109364    -0.00209852  -0.109364    -0.107266  0.0\n",
       " -0.00209852  -0.00209852   0.00209852   0.00209852   0.0       0.0\n",
       " -0.109364    -0.109364     0.00209852   0.109364     0.107266  0.0\n",
       " -0.107266    -0.107266     0.0          0.107266     0.107266  0.0\n",
       "  0.0          0.0          0.0          0.0          0.0       0.0"
      ]
     },
     "metadata": {},
     "output_type": "display_data"
    },
    {
     "data": {
      "text/plain": [
       "\"\\n\\n\""
      ]
     },
     "metadata": {},
     "output_type": "display_data"
    },
    {
     "data": {
      "text/plain": [
       "\"i=1,j=5\""
      ]
     },
     "metadata": {},
     "output_type": "display_data"
    },
    {
     "data": {
      "text/plain": [
       "\"\\n\\n\""
      ]
     },
     "metadata": {},
     "output_type": "display_data"
    },
    {
     "data": {
      "text/plain": [
       "6×6 Base.Matrix{BigFloat}:\n",
       "  0.185179     0.185179    -0.00209852  -0.109364    -0.183081  -0.075815\n",
       "  0.185179     0.185179    -0.00209852  -0.109364    -0.183081  -0.075815\n",
       " -0.00209852  -0.00209852   0.00209852   0.00209852   0.0        0.0\n",
       " -0.109364    -0.109364     0.00209852   0.109364     0.107266   0.0\n",
       " -0.183081    -0.183081     0.0          0.107266     0.183081   0.075815\n",
       " -0.075815    -0.075815     0.0          0.0          0.075815   0.075815"
      ]
     },
     "metadata": {},
     "output_type": "display_data"
    },
    {
     "data": {
      "text/plain": [
       "\"\\n\\n\""
      ]
     },
     "metadata": {},
     "output_type": "display_data"
    },
    {
     "data": {
      "text/plain": [
       "\"i=2,j=4\""
      ]
     },
     "metadata": {},
     "output_type": "display_data"
    },
    {
     "data": {
      "text/plain": [
       "\"\\n\\n\""
      ]
     },
     "metadata": {},
     "output_type": "display_data"
    },
    {
     "data": {
      "text/plain": [
       "6×6 Base.Matrix{BigFloat}:\n",
       "  0.185179     0.185179   -0.00209852  -0.109364   -0.183081   -0.075815\n",
       "  0.185179     0.231105    0.0438271   -0.15529    -0.229006   -0.075815\n",
       " -0.00209852   0.0438271   0.0480241   -0.0438271  -0.0459256   0.0\n",
       " -0.109364    -0.15529    -0.0438271    0.15529     0.153191    0.0\n",
       " -0.183081    -0.229006   -0.0459256    0.153191    0.229006    0.075815\n",
       " -0.075815    -0.075815    0.0          0.0         0.075815    0.075815"
      ]
     },
     "metadata": {},
     "output_type": "display_data"
    },
    {
     "data": {
      "text/plain": [
       "\"\\n\\n\""
      ]
     },
     "metadata": {},
     "output_type": "display_data"
    },
    {
     "data": {
      "text/plain": [
       "\"i=2,j=5\""
      ]
     },
     "metadata": {},
     "output_type": "display_data"
    },
    {
     "data": {
      "text/plain": [
       "\"\\n\\n\""
      ]
     },
     "metadata": {},
     "output_type": "display_data"
    },
    {
     "data": {
      "text/plain": [
       "6×6 Base.Matrix{BigFloat}:\n",
       "  0.185179     0.185179  -0.00209852  -0.109364   -0.183081  -0.075815\n",
       "  0.185179     0.399902   0.212625    -0.15529    -0.397804  -0.244613\n",
       " -0.00209852   0.212625   0.216822    -0.0438271  -0.214723  -0.168798\n",
       " -0.109364    -0.15529   -0.0438271    0.15529     0.153191   0.0\n",
       " -0.183081    -0.397804  -0.214723     0.153191    0.397804   0.244613\n",
       " -0.075815    -0.244613  -0.168798     0.0         0.244613   0.244613"
      ]
     },
     "metadata": {},
     "output_type": "display_data"
    },
    {
     "data": {
      "text/plain": [
       "\"\\n\\n\""
      ]
     },
     "metadata": {},
     "output_type": "display_data"
    },
    {
     "data": {
      "text/plain": [
       "\"i=3,j=5\""
      ]
     },
     "metadata": {},
     "output_type": "display_data"
    },
    {
     "data": {
      "text/plain": [
       "\"\\n\\n\""
      ]
     },
     "metadata": {},
     "output_type": "display_data"
    },
    {
     "data": {
      "text/plain": [
       "6×6 Base.Matrix{BigFloat}:\n",
       "  0.185179     0.185179  -0.00209852  -0.109364    -0.183081  -0.075815\n",
       "  0.185179     0.399902   0.212625    -0.15529     -0.397804  -0.244613\n",
       " -0.00209852   0.212625   0.255889    -0.00475926  -0.253791  -0.207865\n",
       " -0.109364    -0.15529   -0.00475926   0.194358     0.114123  -0.0390678\n",
       " -0.183081    -0.397804  -0.253791     0.114123     0.436872   0.28368\n",
       " -0.075815    -0.244613  -0.207865    -0.0390678    0.28368    0.28368"
      ]
     },
     "metadata": {},
     "output_type": "display_data"
    },
    {
     "data": {
      "text/plain": [
       "\"\\n\\n\""
      ]
     },
     "metadata": {},
     "output_type": "display_data"
    },
    {
     "name": "stdout",
     "output_type": "stream",
     "text": [
      "a=0,b=0\n",
      "0.0001836727784984260852400357337694172148159328946797801614528030778919429426754395\n",
      "a=0,b=1\n",
      "0.000343998942870899314507445686312075228470051380567985825635555218740628199336184\n",
      "a=1,b=0\n",
      "0.005537974683544302846582782046057941949157156237894160114104502899150017697531432\n",
      "a=1,b=1\n",
      "0.002328431529579114309346587952926769954392260190905153059073884404583805693648302\n",
      "a=0,b=0\n",
      "4.470514549763346580414030201523149840627015739547642277535696305421643047716494e-05\n",
      "a=0,b=1\n",
      "2.514737672864161078357885480748283857885958899340754768729958804190090423967412e-05\n",
      "a=1,b=0\n",
      "0.154999317851856414387718731620368056153685447795252705584737552098664946435535\n",
      "a=1,b=1\n",
      "0.2739933151874073971128474542134700025195934045389160497268040147024029587686705\n",
      "a=0,b=0\n",
      "0.0002679902508544512084011399080411104499435508809449409440693982197579081714319707\n",
      "a=0,b=1\n",
      "9.977532635558886333957958696170699827387977135577070669906854837144410835460949e-05\n",
      "a=1,b=0\n",
      "0.07039368541363054919773390598432183123749004378416564541745087984235908405733932\n",
      "a=1,b=1\n",
      "0.005053592370568867375485525258099203429615493687047762294662096558708354047778873\n",
      "a=0,b=0\n",
      "0.1051120519067143093592487467966875074057811451728601887183746457351600127850206\n",
      "a=0,b=1\n",
      "0.185807266555828685212029810111926732093143419879913118689962116298729313450421\n",
      "a=1,b=0\n",
      "0.3124999999999999830047910199926166695813092404390493833038968491928433011816256\n",
      "a=1,b=1\n",
      "0.1313900648833928902030082017734663292695599133946642596036973572960622509925303\n",
      "a=0,b=0\n",
      "0.5778684660015384712850610919582788777365226152532094022171745697810681803112664\n",
      "a=0,b=1\n",
      "0.04148542094106981751024841096687978537280911650781811112292429026869205836397304\n",
      "a=1,b=0\n",
      "0.04584135554272690871323019972645427355857178478483806125903394647562563531711462\n",
      "a=1,b=1\n",
      "0.009995083920516710230403434367399339028589739971413226373376257917306750634732939\n",
      "a=0,b=0\n",
      "0.1051120519067143178788906845291518618800042827945980638516532607468655943692411\n",
      "a=0,b=1\n",
      "0.0229182529056343456392384259065534897014652649051829989032058013821203690263176\n",
      "a=1,b=0\n",
      "0.02695176168185866548518530892220811258135619331019080185659426744720083886365439\n",
      "a=1,b=1\n",
      "0.001289177573511828287501576815673861225519435317596293784170654566941939097707789\n"
     ]
    },
    {
     "data": {
      "text/plain": [
       "6×6 Base.Matrix{BigFloat}:\n",
       "  0.185179     0.185179  -0.00209852  -0.109364    -0.183081  -0.075815\n",
       "  0.185179     0.399902   0.212625    -0.15529     -0.397804  -0.244613\n",
       " -0.00209852   0.212625   0.255889    -0.00475926  -0.253791  -0.207865\n",
       " -0.109364    -0.15529   -0.00475926   0.194358     0.114123  -0.0390678\n",
       " -0.183081    -0.397804  -0.253791     0.114123     0.436872   0.28368\n",
       " -0.075815    -0.244613  -0.207865    -0.0390678    0.28368    0.28368"
      ]
     },
     "execution_count": 172,
     "metadata": {},
     "output_type": "execute_result"
    }
   ],
   "source": [
    "obj = B0matrix(P)"
   ]
  },
  {
   "cell_type": "code",
   "execution_count": 173,
   "metadata": {},
   "outputs": [
    {
     "data": {
      "text/plain": [
       "\"i=1,j=3\""
      ]
     },
     "metadata": {},
     "output_type": "display_data"
    },
    {
     "data": {
      "text/plain": [
       "\"\\n\\n\""
      ]
     },
     "metadata": {},
     "output_type": "display_data"
    },
    {
     "data": {
      "text/plain": [
       "6×6 Base.Matrix{BigFloat}:\n",
       "  0.00209852   0.00209852  -0.00209852  -0.00209852  0.0  0.0\n",
       "  0.00209852   0.00209852  -0.00209852  -0.00209852  0.0  0.0\n",
       " -0.00209852  -0.00209852   0.00209852   0.00209852  0.0  0.0\n",
       " -0.00209852  -0.00209852   0.00209852   0.00209852  0.0  0.0\n",
       "  0.0          0.0          0.0          0.0         0.0  0.0\n",
       "  0.0          0.0          0.0          0.0         0.0  0.0"
      ]
     },
     "metadata": {},
     "output_type": "display_data"
    },
    {
     "data": {
      "text/plain": [
       "\"\\n\\n\""
      ]
     },
     "metadata": {},
     "output_type": "display_data"
    },
    {
     "data": {
      "text/plain": [
       "\"i=1,j=4\""
      ]
     },
     "metadata": {},
     "output_type": "display_data"
    },
    {
     "data": {
      "text/plain": [
       "\"\\n\\n\""
      ]
     },
     "metadata": {},
     "output_type": "display_data"
    },
    {
     "data": {
      "text/plain": [
       "6×6 Base.Matrix{BigFloat}:\n",
       "  0.109364     0.109364    -0.00209852  -0.109364    -0.107266  0.0\n",
       "  0.109364     0.109364    -0.00209852  -0.109364    -0.107266  0.0\n",
       " -0.00209852  -0.00209852   0.00209852   0.00209852   0.0       0.0\n",
       " -0.109364    -0.109364     0.00209852   0.109364     0.107266  0.0\n",
       " -0.107266    -0.107266     0.0          0.107266     0.107266  0.0\n",
       "  0.0          0.0          0.0          0.0          0.0       0.0"
      ]
     },
     "metadata": {},
     "output_type": "display_data"
    },
    {
     "data": {
      "text/plain": [
       "\"\\n\\n\""
      ]
     },
     "metadata": {},
     "output_type": "display_data"
    },
    {
     "data": {
      "text/plain": [
       "\"i=1,j=5\""
      ]
     },
     "metadata": {},
     "output_type": "display_data"
    },
    {
     "data": {
      "text/plain": [
       "\"\\n\\n\""
      ]
     },
     "metadata": {},
     "output_type": "display_data"
    },
    {
     "data": {
      "text/plain": [
       "6×6 Base.Matrix{BigFloat}:\n",
       "  0.185179     0.185179    -0.00209852  -0.109364    -0.183081  -0.075815\n",
       "  0.185179     0.185179    -0.00209852  -0.109364    -0.183081  -0.075815\n",
       " -0.00209852  -0.00209852   0.00209852   0.00209852   0.0        0.0\n",
       " -0.109364    -0.109364     0.00209852   0.109364     0.107266   0.0\n",
       " -0.183081    -0.183081     0.0          0.107266     0.183081   0.075815\n",
       " -0.075815    -0.075815     0.0          0.0          0.075815   0.075815"
      ]
     },
     "metadata": {},
     "output_type": "display_data"
    },
    {
     "data": {
      "text/plain": [
       "\"\\n\\n\""
      ]
     },
     "metadata": {},
     "output_type": "display_data"
    },
    {
     "data": {
      "text/plain": [
       "\"i=2,j=4\""
      ]
     },
     "metadata": {},
     "output_type": "display_data"
    },
    {
     "data": {
      "text/plain": [
       "\"\\n\\n\""
      ]
     },
     "metadata": {},
     "output_type": "display_data"
    },
    {
     "data": {
      "text/plain": [
       "6×6 Base.Matrix{BigFloat}:\n",
       "  0.185179     0.185179   -0.00209852  -0.109364   -0.183081   -0.075815\n",
       "  0.185179     0.231105    0.0438271   -0.15529    -0.229006   -0.075815\n",
       " -0.00209852   0.0438271   0.0480241   -0.0438271  -0.0459256   0.0\n",
       " -0.109364    -0.15529    -0.0438271    0.15529     0.153191    0.0\n",
       " -0.183081    -0.229006   -0.0459256    0.153191    0.229006    0.075815\n",
       " -0.075815    -0.075815    0.0          0.0         0.075815    0.075815"
      ]
     },
     "metadata": {},
     "output_type": "display_data"
    },
    {
     "data": {
      "text/plain": [
       "\"\\n\\n\""
      ]
     },
     "metadata": {},
     "output_type": "display_data"
    },
    {
     "name": "stdout",
     "output_type": "stream",
     "text": [
      "a=0,b=0\n",
      "0.0001836727784984260852400357337694172148159328946797801614528030778919429426754395\n",
      "a=0,b=1\n",
      "0.000343998942870899314507445686312075228470051380567985825635555218740628199336184\n",
      "a=1,b=0\n",
      "0.005537974683544302846582782046057941949157156237894160114104502899150017697531432\n",
      "a=1,b=1\n",
      "0.002328431529579114309346587952926769954392260190905153059073884404583805693648302\n",
      "a=0,b=0\n",
      "4.470514549763346580414030201523149840627015739547642277535696305421643047716494e-05\n",
      "a=0,b=1\n",
      "2.514737672864161078357885480748283857885958899340754768729958804190090423967412e-05\n",
      "a=1,b=0\n",
      "0.154999317851856414387718731620368056153685447795252705584737552098664946435535\n",
      "a=1,b=1\n",
      "0.2739933151874073971128474542134700025195934045389160497268040147024029587686705\n",
      "a=0,b=0\n",
      "0.0002679902508544512084011399080411104499435508809449409440693982197579081714319707\n",
      "a=0,b=1\n",
      "9.977532635558886333957958696170699827387977135577070669906854837144410835460949e-05\n",
      "a=1,b=0\n",
      "0.07039368541363054919773390598432183123749004378416564541745087984235908405733932\n",
      "a=1,b=1\n",
      "0.005053592370568867375485525258099203429615493687047762294662096558708354047778873\n",
      "a=0,b=0\n",
      "0.1051120519067143093592487467966875074057811451728601887183746457351600127850206\n",
      "a=0,b=1\n",
      "0.185807266555828685212029810111926732093143419879913118689962116298729313450421\n",
      "a=1,b=0\n",
      "0.3124999999999999830047910199926166695813092404390493833038968491928433011816256\n",
      "a=1,b=1\n",
      "0.1313900648833928902030082017734663292695599133946642596036973572960622509925303\n"
     ]
    },
    {
     "data": {
      "text/plain": [
       "\"i=2,j=5\""
      ]
     },
     "metadata": {},
     "output_type": "display_data"
    },
    {
     "data": {
      "text/plain": [
       "\"\\n\\n\""
      ]
     },
     "metadata": {},
     "output_type": "display_data"
    },
    {
     "data": {
      "text/plain": [
       "6×6 Base.Matrix{BigFloat}:\n",
       "  0.185179     0.185179  -0.00209852  -0.109364   -0.183081  -0.075815\n",
       "  0.185179     0.399902   0.212625    -0.15529    -0.397804  -0.244613\n",
       " -0.00209852   0.212625   0.216822    -0.0438271  -0.214723  -0.168798\n",
       " -0.109364    -0.15529   -0.0438271    0.15529     0.153191   0.0\n",
       " -0.183081    -0.397804  -0.214723     0.153191    0.397804   0.244613\n",
       " -0.075815    -0.244613  -0.168798     0.0         0.244613   0.244613"
      ]
     },
     "metadata": {},
     "output_type": "display_data"
    },
    {
     "data": {
      "text/plain": [
       "\"\\n\\n\""
      ]
     },
     "metadata": {},
     "output_type": "display_data"
    },
    {
     "data": {
      "text/plain": [
       "\"i=3,j=5\""
      ]
     },
     "metadata": {},
     "output_type": "display_data"
    },
    {
     "data": {
      "text/plain": [
       "\"\\n\\n\""
      ]
     },
     "metadata": {},
     "output_type": "display_data"
    },
    {
     "data": {
      "text/plain": [
       "6×6 Base.Matrix{BigFloat}:\n",
       "  0.185179     0.185179  -0.00209852  -0.109364    -0.183081  -0.075815\n",
       "  0.185179     0.399902   0.212625    -0.15529     -0.397804  -0.244613\n",
       " -0.00209852   0.212625   0.255889    -0.00475926  -0.253791  -0.207865\n",
       " -0.109364    -0.15529   -0.00475926   0.194358     0.114123  -0.0390678\n",
       " -0.183081    -0.397804  -0.253791     0.114123     0.436872   0.28368\n",
       " -0.075815    -0.244613  -0.207865    -0.0390678    0.28368    0.28368"
      ]
     },
     "metadata": {},
     "output_type": "display_data"
    },
    {
     "data": {
      "text/plain": [
       "\"\\n\\n\""
      ]
     },
     "metadata": {},
     "output_type": "display_data"
    },
    {
     "name": "stdout",
     "output_type": "stream",
     "text": [
      "a=0,b=0\n",
      "0.5778684660015384712850610919582788777365226152532094022171745697810681803112664\n",
      "a=0,b=1\n",
      "0.04148542094106981751024841096687978537280911650781811112292429026869205836397304\n",
      "a=1,b=0\n",
      "0.04584135554272690871323019972645427355857178478483806125903394647562563531711462\n",
      "a=1,b=1\n",
      "0.009995083920516710230403434367399339028589739971413226373376257917306750634732939\n",
      "a=0,b=0\n",
      "0.1051120519067143178788906845291518618800042827945980638516532607468655943692411\n",
      "a=0,b=1\n",
      "0.0229182529056343456392384259065534897014652649051829989032058013821203690263176\n",
      "a=1,b=0\n",
      "0.02695176168185866548518530892220811258135619331019080185659426744720083886365439\n",
      "a=1,b=1\n",
      "0.001289177573511828287501576815673861225519435317596293784170654566941939097707789\n"
     ]
    },
    {
     "data": {
      "text/plain": [
       "6×6 Base.Matrix{BigFloat}:\n",
       "  0.185179     0.185179  -0.00209852  -0.109364    -0.183081  -0.075815\n",
       "  0.185179     0.399902   0.212625    -0.15529     -0.397804  -0.244613\n",
       " -0.00209852   0.212625   0.255889    -0.00475926  -0.253791  -0.207865\n",
       " -0.109364    -0.15529   -0.00475926   0.194358     0.114123  -0.0390678\n",
       " -0.183081    -0.397804  -0.253791     0.114123     0.436872   0.28368\n",
       " -0.075815    -0.244613  -0.207865    -0.0390678    0.28368    0.28368"
      ]
     },
     "execution_count": 173,
     "metadata": {},
     "output_type": "execute_result"
    }
   ],
   "source": [
    "obj = B0matrix(P)"
   ]
  },
  {
   "cell_type": "code",
   "execution_count": 153,
   "metadata": {},
   "outputs": [
    {
     "data": {
      "text/plain": [
       "B0matrix (generic function with 2 methods)"
      ]
     },
     "execution_count": 153,
     "metadata": {},
     "output_type": "execute_result"
    }
   ],
   "source": [
    "function B0matrix(P::PolygonalChain,sigma::Real=0.75)\n",
    "    n = length(P)\n",
    "    T = typeof(P[1].x)\n",
    "    B0 = zeros(T,n+1,n+1)\n",
    "    for i in 1:n\n",
    "        for j in i+2:n\n",
    "            w0ij = weight0(P,i,j,sigma)/4\n",
    "            for a in 0:1, b in 0:1\n",
    "                B0[i+a,i+b] += w0ij\n",
    "                B0[j+a,j+b] += w0ij\n",
    "                B0[i+a,j+b] -= w0ij\n",
    "                B0[j+a,i+b] -= w0ij\n",
    "            end\n",
    "            display(\"i=$i,j=$j\")\n",
    "            display(\"\\n\\n\")\n",
    "            display(B0)\n",
    "            display(\"\\n\\n\")\n",
    "        end\n",
    "    end\n",
    "    return B0\n",
    "end\n"
   ]
  },
  {
   "cell_type": "code",
   "execution_count": 174,
   "metadata": {},
   "outputs": [
    {
     "data": {
      "text/plain": [
       "\"i=1,j=3\""
      ]
     },
     "metadata": {},
     "output_type": "display_data"
    },
    {
     "data": {
      "text/plain": [
       "\"\\n\\n\""
      ]
     },
     "metadata": {},
     "output_type": "display_data"
    },
    {
     "data": {
      "text/plain": [
       "6×6 Base.Matrix{BigFloat}:\n",
       "  0.00209852   0.00209852  -0.00209852  -0.00209852  0.0  0.0\n",
       "  0.00209852   0.00209852  -0.00209852  -0.00209852  0.0  0.0\n",
       " -0.00209852  -0.00209852   0.00209852   0.00209852  0.0  0.0\n",
       " -0.00209852  -0.00209852   0.00209852   0.00209852  0.0  0.0\n",
       "  0.0          0.0          0.0          0.0         0.0  0.0\n",
       "  0.0          0.0          0.0          0.0         0.0  0.0"
      ]
     },
     "metadata": {},
     "output_type": "display_data"
    },
    {
     "data": {
      "text/plain": [
       "\"\\n\\n\""
      ]
     },
     "metadata": {},
     "output_type": "display_data"
    },
    {
     "data": {
      "text/plain": [
       "\"i=1,j=4\""
      ]
     },
     "metadata": {},
     "output_type": "display_data"
    },
    {
     "data": {
      "text/plain": [
       "\"\\n\\n\""
      ]
     },
     "metadata": {},
     "output_type": "display_data"
    },
    {
     "data": {
      "text/plain": [
       "6×6 Base.Matrix{BigFloat}:\n",
       "  0.109364     0.109364    -0.00209852  -0.109364    -0.107266  0.0\n",
       "  0.109364     0.109364    -0.00209852  -0.109364    -0.107266  0.0\n",
       " -0.00209852  -0.00209852   0.00209852   0.00209852   0.0       0.0\n",
       " -0.109364    -0.109364     0.00209852   0.109364     0.107266  0.0\n",
       " -0.107266    -0.107266     0.0          0.107266     0.107266  0.0\n",
       "  0.0          0.0          0.0          0.0          0.0       0.0"
      ]
     },
     "metadata": {},
     "output_type": "display_data"
    },
    {
     "data": {
      "text/plain": [
       "\"\\n\\n\""
      ]
     },
     "metadata": {},
     "output_type": "display_data"
    },
    {
     "data": {
      "text/plain": [
       "\"i=1,j=5\""
      ]
     },
     "metadata": {},
     "output_type": "display_data"
    },
    {
     "data": {
      "text/plain": [
       "\"\\n\\n\""
      ]
     },
     "metadata": {},
     "output_type": "display_data"
    },
    {
     "data": {
      "text/plain": [
       "6×6 Base.Matrix{BigFloat}:\n",
       "  0.185179     0.185179    -0.00209852  -0.109364    -0.183081  -0.075815\n",
       "  0.185179     0.185179    -0.00209852  -0.109364    -0.183081  -0.075815\n",
       " -0.00209852  -0.00209852   0.00209852   0.00209852   0.0        0.0\n",
       " -0.109364    -0.109364     0.00209852   0.109364     0.107266   0.0\n",
       " -0.183081    -0.183081     0.0          0.107266     0.183081   0.075815\n",
       " -0.075815    -0.075815     0.0          0.0          0.075815   0.075815"
      ]
     },
     "metadata": {},
     "output_type": "display_data"
    },
    {
     "data": {
      "text/plain": [
       "\"\\n\\n\""
      ]
     },
     "metadata": {},
     "output_type": "display_data"
    },
    {
     "name": "stdout",
     "output_type": "stream",
     "text": [
      "a=0,b=0\n",
      "0.0001836727784984260852400357337694172148159328946797801614528030778919429426754395\n",
      "a=0,b=1\n",
      "0.000343998942870899314507445686312075228470051380567985825635555218740628199336184\n",
      "a=1,b=0\n",
      "0.005537974683544302846582782046057941949157156237894160114104502899150017697531432\n",
      "a=1,b=1\n",
      "0.002328431529579114309346587952926769954392260190905153059073884404583805693648302\n",
      "a=0,b=0\n",
      "4.470514549763346580414030201523149840627015739547642277535696305421643047716494e-05\n",
      "a=0,b=1\n",
      "2.514737672864161078357885480748283857885958899340754768729958804190090423967412e-05\n",
      "a=1,b=0\n",
      "0.154999317851856414387718731620368056153685447795252705584737552098664946435535\n",
      "a=1,b=1\n",
      "0.2739933151874073971128474542134700025195934045389160497268040147024029587686705\n",
      "a=0,b=0\n",
      "0.0002679902508544512084011399080411104499435508809449409440693982197579081714319707\n",
      "a=0,b=1\n",
      "9.977532635558886333957958696170699827387977135577070669906854837144410835460949e-05\n",
      "a=1,b=0\n",
      "0.07039368541363054919773390598432183123749004378416564541745087984235908405733932\n",
      "a=1,b=1\n",
      "0.005053592370568867375485525258099203429615493687047762294662096558708354047778873"
     ]
    },
    {
     "data": {
      "text/plain": [
       "\"i=2,j=4\""
      ]
     },
     "metadata": {},
     "output_type": "display_data"
    },
    {
     "data": {
      "text/plain": [
       "\"\\n\\n\""
      ]
     },
     "metadata": {},
     "output_type": "display_data"
    },
    {
     "data": {
      "text/plain": [
       "6×6 Base.Matrix{BigFloat}:\n",
       "  0.185179     0.185179   -0.00209852  -0.109364   -0.183081   -0.075815\n",
       "  0.185179     0.231105    0.0438271   -0.15529    -0.229006   -0.075815\n",
       " -0.00209852   0.0438271   0.0480241   -0.0438271  -0.0459256   0.0\n",
       " -0.109364    -0.15529    -0.0438271    0.15529     0.153191    0.0\n",
       " -0.183081    -0.229006   -0.0459256    0.153191    0.229006    0.075815\n",
       " -0.075815    -0.075815    0.0          0.0         0.075815    0.075815"
      ]
     },
     "metadata": {},
     "output_type": "display_data"
    },
    {
     "data": {
      "text/plain": [
       "\"\\n\\n\""
      ]
     },
     "metadata": {},
     "output_type": "display_data"
    },
    {
     "data": {
      "text/plain": [
       "\"i=2,j=5\""
      ]
     },
     "metadata": {},
     "output_type": "display_data"
    },
    {
     "data": {
      "text/plain": [
       "\"\\n\\n\""
      ]
     },
     "metadata": {},
     "output_type": "display_data"
    },
    {
     "data": {
      "text/plain": [
       "6×6 Base.Matrix{BigFloat}:\n",
       "  0.185179     0.185179  -0.00209852  -0.109364   -0.183081  -0.075815\n",
       "  0.185179     0.399902   0.212625    -0.15529    -0.397804  -0.244613\n",
       " -0.00209852   0.212625   0.216822    -0.0438271  -0.214723  -0.168798\n",
       " -0.109364    -0.15529   -0.0438271    0.15529     0.153191   0.0\n",
       " -0.183081    -0.397804  -0.214723     0.153191    0.397804   0.244613\n",
       " -0.075815    -0.244613  -0.168798     0.0         0.244613   0.244613"
      ]
     },
     "metadata": {},
     "output_type": "display_data"
    },
    {
     "data": {
      "text/plain": [
       "\"\\n\\n\""
      ]
     },
     "metadata": {},
     "output_type": "display_data"
    },
    {
     "data": {
      "text/plain": [
       "\"i=3,j=5\""
      ]
     },
     "metadata": {},
     "output_type": "display_data"
    },
    {
     "data": {
      "text/plain": [
       "\"\\n\\n\""
      ]
     },
     "metadata": {},
     "output_type": "display_data"
    },
    {
     "data": {
      "text/plain": [
       "6×6 Base.Matrix{BigFloat}:\n",
       "  0.185179     0.185179  -0.00209852  -0.109364    -0.183081  -0.075815\n",
       "  0.185179     0.399902   0.212625    -0.15529     -0.397804  -0.244613\n",
       " -0.00209852   0.212625   0.255889    -0.00475926  -0.253791  -0.207865\n",
       " -0.109364    -0.15529   -0.00475926   0.194358     0.114123  -0.0390678\n",
       " -0.183081    -0.397804  -0.253791     0.114123     0.436872   0.28368\n",
       " -0.075815    -0.244613  -0.207865    -0.0390678    0.28368    0.28368"
      ]
     },
     "metadata": {},
     "output_type": "display_data"
    },
    {
     "data": {
      "text/plain": [
       "\"\\n\\n\""
      ]
     },
     "metadata": {},
     "output_type": "display_data"
    },
    {
     "name": "stdout",
     "output_type": "stream",
     "text": [
      "\n",
      "a=0,b=0\n",
      "0.1051120519067143093592487467966875074057811451728601887183746457351600127850206\n",
      "a=0,b=1\n",
      "0.185807266555828685212029810111926732093143419879913118689962116298729313450421\n",
      "a=1,b=0\n",
      "0.3124999999999999830047910199926166695813092404390493833038968491928433011816256\n",
      "a=1,b=1\n",
      "0.1313900648833928902030082017734663292695599133946642596036973572960622509925303\n",
      "a=0,b=0\n",
      "0.5778684660015384712850610919582788777365226152532094022171745697810681803112664\n",
      "a=0,b=1\n",
      "0.04148542094106981751024841096687978537280911650781811112292429026869205836397304\n",
      "a=1,b=0\n",
      "0.04584135554272690871323019972645427355857178478483806125903394647562563531711462\n",
      "a=1,b=1\n",
      "0.009995083920516710230403434367399339028589739971413226373376257917306750634732939\n",
      "a=0,b=0\n",
      "0.1051120519067143178788906845291518618800042827945980638516532607468655943692411\n",
      "a=0,b=1\n",
      "0.0229182529056343456392384259065534897014652649051829989032058013821203690263176\n",
      "a=1,b=0\n",
      "0.02695176168185866548518530892220811258135619331019080185659426744720083886365439\n",
      "a=1,b=1\n",
      "0.001289177573511828287501576815673861225519435317596293784170654566941939097707789\n"
     ]
    },
    {
     "data": {
      "text/plain": [
       "6×6 Base.Matrix{BigFloat}:\n",
       "  0.185179     0.185179  -0.00209852  -0.109364    -0.183081  -0.075815\n",
       "  0.185179     0.399902   0.212625    -0.15529     -0.397804  -0.244613\n",
       " -0.00209852   0.212625   0.255889    -0.00475926  -0.253791  -0.207865\n",
       " -0.109364    -0.15529   -0.00475926   0.194358     0.114123  -0.0390678\n",
       " -0.183081    -0.397804  -0.253791     0.114123     0.436872   0.28368\n",
       " -0.075815    -0.244613  -0.207865    -0.0390678    0.28368    0.28368"
      ]
     },
     "execution_count": 174,
     "metadata": {},
     "output_type": "execute_result"
    }
   ],
   "source": [
    "B0matrix(P)"
   ]
  },
  {
   "cell_type": "code",
   "execution_count": 158,
   "metadata": {},
   "outputs": [
    {
     "data": {
      "text/plain": [
       "weight0 (generic function with 4 methods)"
      ]
     },
     "execution_count": 158,
     "metadata": {},
     "output_type": "execute_result"
    }
   ],
   "source": [
    "function weight0(P::PolygonalChain,i::Integer,j::Integer,sigma::Real=0.75)\n",
    "    li = distance(P[i+1],P[i])\n",
    "    lj = distance(P[j+1],P[j])\n",
    "    Ti = (P[i+1]-P[i])/li\n",
    "    weight = 0\n",
    "    for a in 0:1, b in 0:1\n",
    "        val  = tangentPointKernel(P[i+a],P[j+a],Ti,2,4)/(distance(P[i+a],P[j+b])^(2*sigma+1)) \n",
    "        println(\"a=$a,b=$b\")\n",
    "        println(val)\n",
    "        weight += val\n",
    "    end\n",
    "    weight  = weight*li*lj/4\n",
    "    return weight\n",
    "end"
   ]
  },
  {
   "cell_type": "code",
   "execution_count": 179,
   "metadata": {},
   "outputs": [
    {
     "data": {
      "text/plain": [
       "weight0 (generic function with 4 methods)"
      ]
     },
     "execution_count": 179,
     "metadata": {},
     "output_type": "execute_result"
    }
   ],
   "source": [
    "function weight0(P::PolygonalChain,i::Integer,j::Integer,li::Real,lj::Real,Ti::Point,sigma::Real=0.75)\n",
    "    weight = 0\n",
    "    for a in 0:1, b in 0:1\n",
    "        weight += tangentPointKernel(P[i+a],P[j+a],Ti,2,4)/(distance(P[i+a],P[j+b])^(2*sigma+1)) \n",
    "    end\n",
    "    weight  = weight*li*lj/4\n",
    "    return weight\n",
    "end"
   ]
  },
  {
   "cell_type": "code",
   "execution_count": 183,
   "metadata": {},
   "outputs": [
    {
     "name": "stdout",
     "output_type": "stream",
     "text": [
      "a=0,b=0\n",
      "0.0002679902508544512084011399080411104499435508809449409440693982197579081714319707\n",
      "a=0,b=1\n",
      "9.977532635558886333957958696170699827387977135577070669906854837144410835460949e-05\n",
      "a=1,b=0\n",
      "0.07039368541363054919773390598432183123749004378416564541745087984235908405733932\n",
      "a=1,b=1\n",
      "0.005053592370568867375485525258099203429615493687047762294662096558708354047778873\n"
     ]
    },
    {
     "data": {
      "text/plain": [
       "0.3032601734456378265798406029496954084612918724940564774515257726767871615396154"
      ]
     },
     "execution_count": 183,
     "metadata": {},
     "output_type": "execute_result"
    }
   ],
   "source": [
    "weight0(P,1,5)"
   ]
  },
  {
   "cell_type": "code",
   "execution_count": 184,
   "metadata": {},
   "outputs": [
    {
     "data": {
      "text/plain": [
       "3.442788044620345532818017247635649104874826396390320318041811068573837205435392e-76"
      ]
     },
     "execution_count": 184,
     "metadata": {},
     "output_type": "execute_result"
    }
   ],
   "source": [
    "obj = Amatrix(P)\n",
    "det(obj)"
   ]
  },
  {
   "cell_type": "code",
   "execution_count": 185,
   "metadata": {},
   "outputs": [
    {
     "data": {
      "text/plain": [
       "4.080664205547971906317521466292696922111850740183843764731981397892416630891395e-227"
      ]
     },
     "execution_count": 185,
     "metadata": {},
     "output_type": "execute_result"
    }
   ],
   "source": [
    "det(Aline(P))"
   ]
  },
  {
   "cell_type": "code",
   "execution_count": 186,
   "metadata": {},
   "outputs": [
    {
     "data": {
      "text/plain": [
       "18×18 Base.Matrix{BigFloat}:\n",
       "  0.581364    0.0         0.0        …  -0.0506163  -0.0        -0.0\n",
       "  0.0         0.581364    0.0           -0.0        -0.0506163  -0.0\n",
       "  0.0         0.0         0.581364      -0.0        -0.0        -0.0506163\n",
       " -0.211006   -0.0        -0.0           -0.0899809  -0.0        -0.0\n",
       " -0.0        -0.211006   -0.0           -0.0        -0.0899809  -0.0\n",
       " -0.0        -0.0        -0.211006   …  -0.0        -0.0        -0.0899809\n",
       "  0.261418    0.0         0.0           -0.661564   -0.0        -0.0\n",
       "  0.0         0.261418    0.0           -0.0        -0.661564   -0.0\n",
       "  0.0         0.0         0.261418      -0.0        -0.0        -0.661564\n",
       " -0.563949   -0.0        -0.0            0.2348      0.0         0.0\n",
       " -0.0        -0.563949   -0.0        …   0.0         0.2348      0.0\n",
       " -0.0        -0.0        -0.563949       0.0         0.0         0.2348\n",
       " -0.0172113  -0.0        -0.0           -0.112498   -0.0        -0.0\n",
       " -0.0        -0.0172113  -0.0           -0.0        -0.112498   -0.0\n",
       " -0.0        -0.0        -0.0172113     -0.0        -0.0        -0.112498\n",
       " -0.0506163  -0.0        -0.0        …   0.679859    0.0         0.0\n",
       " -0.0        -0.0506163  -0.0            0.0         0.679859    0.0\n",
       " -0.0        -0.0        -0.0506163      0.0         0.0         0.679859"
      ]
     },
     "execution_count": 186,
     "metadata": {},
     "output_type": "execute_result"
    }
   ],
   "source": [
    "Aline(P)"
   ]
  },
  {
   "cell_type": "code",
   "execution_count": 192,
   "metadata": {},
   "outputs": [
    {
     "data": {
      "text/plain": [
       "5×18 Base.Matrix{BigFloat}:\n",
       " 0.675053  -0.450035  -0.584613  -0.675053  …   0.0       0.0        0.0\n",
       " 0.0        0.0        0.0        0.0           0.0       0.0        0.0\n",
       " 0.0        0.0        0.0        0.0           0.0       0.0        0.0\n",
       " 0.0        0.0        0.0        0.0           0.0       0.0        0.0\n",
       " 0.0        0.0        0.0        0.0          -0.702247  0.117041  -0.702247"
      ]
     },
     "execution_count": 192,
     "metadata": {},
     "output_type": "execute_result"
    }
   ],
   "source": [
    "C = constraintsJacobian4(P,true)"
   ]
  },
  {
   "cell_type": "code",
   "execution_count": null,
   "metadata": {},
   "outputs": [],
   "source": [
    "rank(C)"
   ]
  },
  {
   "cell_type": "code",
   "execution_count": null,
   "metadata": {},
   "outputs": [],
   "source": []
  },
  {
   "cell_type": "code",
   "execution_count": 116,
   "metadata": {},
   "outputs": [
    {
     "data": {
      "text/plain": [
       "23×23 Base.Matrix{BigFloat}:\n",
       "  0.581364    0.0         0.0        …   0.0        0.0   0.0   0.0\n",
       "  0.0         0.581364    0.0            0.0        0.0   0.0   0.0\n",
       "  0.0         0.0         0.581364       0.0        0.0   0.0   0.0\n",
       " -0.211006   -0.0        -0.0            0.0        0.0   0.0   0.0\n",
       " -0.0        -0.211006   -0.0            0.50       0.0   0.0   0.0\n",
       " -0.0        -0.0        -0.211006   …   0.866025   0.0   0.0   0.0\n",
       "  0.261418    0.0         0.0            0.0       -1.0   0.0   0.0\n",
       "  0.0         0.261418    0.0           -0.50       0.0   0.0   0.0\n",
       "  0.0         0.0         0.261418      -0.866025   0.0   0.0   0.0\n",
       " -0.563949   -0.0        -0.0            0.0        1.0   0.0   0.0\n",
       " -0.0        -0.563949   -0.0        …   0.0        0.0   0.0   0.0\n",
       " -0.0        -0.0        -0.563949       0.0        0.0  -1.0   0.0\n",
       " -0.0172113  -0.0        -0.0            0.0        0.0   0.0   0.702247\n",
       " -0.0        -0.0172113  -0.0            0.0        0.0   0.0  -0.117041\n",
       " -0.0        -0.0        -0.0172113      0.0        0.0   1.0   0.702247\n",
       " -0.0506163  -0.0        -0.0        …   0.0        0.0   0.0  -0.702247\n",
       " -0.0        -0.0506163  -0.0            0.0        0.0   0.0   0.117041\n",
       " -0.0        -0.0        -0.0506163      0.0        0.0   0.0  -0.702247\n",
       "  0.675053   -0.450035   -0.584613       0.0        0.0   0.0   0.0\n",
       "  0.0         0.0         0.0            0.0        0.0   0.0   0.0\n",
       "  0.0         0.0         0.0        …   0.0        0.0   0.0   0.0\n",
       "  0.0         0.0         0.0            0.0        0.0   0.0   0.0\n",
       "  0.0         0.0         0.0            0.0        0.0   0.0   0.0"
      ]
     },
     "execution_count": 116,
     "metadata": {},
     "output_type": "execute_result"
    }
   ],
   "source": [
    "mat = vcat(\n",
    "        hcat(Aline(P),transpose(C)),\n",
    "        hcat(C,zeros(Float64,length(P),length(P)))\n",
    "    )"
   ]
  },
  {
   "cell_type": "code",
   "execution_count": 117,
   "metadata": {},
   "outputs": [
    {
     "data": {
      "text/plain": [
       "func (generic function with 1 method)"
      ]
     },
     "execution_count": 117,
     "metadata": {},
     "output_type": "execute_result"
    }
   ],
   "source": [
    "func(Q) = tangentEnergy(Q,alpha=2.0,beta=4.5)"
   ]
  },
  {
   "cell_type": "code",
   "execution_count": 118,
   "metadata": {},
   "outputs": [
    {
     "data": {
      "text/plain": [
       "23-element Vector{BigFloat}:\n",
       "  0.464717047742070288318672055538627319037914276123046875\n",
       " -0.347107879124427032291322348100948147475719451904296875\n",
       " -0.361983715564785868412656100190361030399799346923828125\n",
       "  5.03228243543015896221959337708540260791778564453125\n",
       " -1.831875015104710957558609152329154312610626220703125\n",
       "  2.39832363744370535840744196320883929729461669921875\n",
       " -1.1254606816384138401332393186748959124088287353515625\n",
       "  0.36668222273751183148959853497217409312725067138671875\n",
       "  1.073695363924446866121797938831150531768798828125\n",
       "  1.2928782967112006918597444382612593472003936767578125\n",
       "  0.453535898764933609328409147565253078937530517578125\n",
       "  0.7100217858866406661633163821534253656864166259765625\n",
       " -5.62265318121104140658417236409150063991546630859375\n",
       "  1.7209433609404614085036655524163506925106048583984375\n",
       " -3.03180582503085904733097777352668344974517822265625\n",
       " -0.041763917033974175263555395076764398254454135894775390625\n",
       " -0.362178588213768748449439272008021362125873565673828125\n",
       " -0.78825124665914803046007364173419773578643798828125\n",
       "  0.0\n",
       "  0.0\n",
       "  0.0\n",
       "  0.0\n",
       "  0.0"
      ]
     },
     "execution_count": 118,
     "metadata": {},
     "output_type": "execute_result"
    }
   ],
   "source": [
    "ener_grad_ext = vcat(diff(func,P),zeros(Float64,length(P)))"
   ]
  },
  {
   "cell_type": "code",
   "execution_count": 119,
   "metadata": {},
   "outputs": [
    {
     "data": {
      "text/plain": [
       "4.080664205547971906317521466292696922111850740183843764731981397892416630891395e-227"
      ]
     },
     "execution_count": 119,
     "metadata": {},
     "output_type": "execute_result"
    }
   ],
   "source": [
    "det(Aline(P))"
   ]
  },
  {
   "cell_type": "code",
   "execution_count": 120,
   "metadata": {},
   "outputs": [
    {
     "data": {
      "text/plain": [
       "4.003714428767957701553130677281076791136971341451183822789939295198685088366974"
      ]
     },
     "execution_count": 120,
     "metadata": {},
     "output_type": "execute_result"
    }
   ],
   "source": [
    "tangentEnergy(P)"
   ]
  },
  {
   "cell_type": "code",
   "execution_count": 121,
   "metadata": {},
   "outputs": [
    {
     "data": {
      "text/plain": [
       "1.449012822599849309591259479150759108708366516287139108731104539087881410167633e-227"
      ]
     },
     "execution_count": 121,
     "metadata": {},
     "output_type": "execute_result"
    }
   ],
   "source": [
    "det(mat)"
   ]
  },
  {
   "cell_type": "code",
   "execution_count": 122,
   "metadata": {},
   "outputs": [
    {
     "data": {
      "text/plain": [
       "18×5 transpose(::Base.Matrix{BigFloat}) with eltype BigFloat:\n",
       "  0.675053   0.0        0.0   0.0   0.0\n",
       " -0.450035   0.0        0.0   0.0   0.0\n",
       " -0.584613   0.0        0.0   0.0   0.0\n",
       " -0.675053   0.0        0.0   0.0   0.0\n",
       "  0.450035   0.50       0.0   0.0   0.0\n",
       "  0.584613   0.866025   0.0   0.0   0.0\n",
       "  0.0        0.0       -1.0   0.0   0.0\n",
       "  0.0       -0.50       0.0   0.0   0.0\n",
       "  0.0       -0.866025   0.0   0.0   0.0\n",
       "  0.0        0.0        1.0   0.0   0.0\n",
       "  0.0        0.0        0.0   0.0   0.0\n",
       "  0.0        0.0        0.0  -1.0   0.0\n",
       "  0.0        0.0        0.0   0.0   0.702247\n",
       "  0.0        0.0        0.0   0.0  -0.117041\n",
       "  0.0        0.0        0.0   1.0   0.702247\n",
       "  0.0        0.0        0.0   0.0  -0.702247\n",
       "  0.0        0.0        0.0   0.0   0.117041\n",
       "  0.0        0.0        0.0   0.0  -0.702247"
      ]
     },
     "metadata": {},
     "output_type": "display_data"
    }
   ],
   "source": [
    "display(transpose(C))"
   ]
  },
  {
   "cell_type": "code",
   "execution_count": 131,
   "metadata": {},
   "outputs": [
    {
     "data": {
      "text/plain": [
       "23-element Vector{BigFloat}:\n",
       " -2.371717928438581732371205980743364945429553309872528580639302272463702020389723e+27\n",
       " -5.059664914002307695725239427791527337320567670587420047014449830876716632306887e+26\n",
       "  2.529832457001153847862619711042673260045909388790297721398269975604274700949861e+26\n",
       " -2.371717928438581732371205980125408311948074710684796856873988915011577265886025e+27\n",
       " -5.059664914002307695725239433544293614644670724178016151399416783301870962806399e+26\n",
       "  2.529832457001153847862619722606703378870935911162852281214084441636776276092145e+26\n",
       " -2.371717928438581732371205981485949465064799419520360006240340215467675388671763e+27\n",
       " -5.059664914002307695725239426215859659157666736140008963614218787262925408425649e+26\n",
       "  2.529832457001153847862619718375630061932121008219410179548251024806978492559841e+26\n",
       " -2.371717928438581732371205981485949465064799419520360006240340486636797435768085e+27\n",
       " -5.059664914002307695725239421779563452342138528870556341554513356595061536832616e+26\n",
       "  2.529832457001153847862619712994477461955059954788490991455807296485496808159836e+26\n",
       " -2.371717928438581732371205982770783557792610264803058369366084178036544462537994e+27\n",
       " -5.059664914002307695725239420551347509078977286522373597736645979653956691994977e+26\n",
       "  2.529832457001153847862619712994477461955059954788490991455801109324431879362348e+26\n",
       " -2.371717928438581732371205981985366494019572864393349877462576861426343198679196e+27\n",
       " -5.059664914002307695725239432457295871337387029796459451902415817712109736779315e+26\n",
       "  2.529832457001153847862619703155982097181617770297875111538616429843362327448838e+26\n",
       "  0.4039610005918756974867567013662638268072861923050832125332891631089109021145195\n",
       "  0.5398860619593292299862343686148386867488346553174571772099962153450713741992438\n",
       " -2.054447142801068824775560406356048539020500672652872116099227592065299305764127\n",
       " -1.988789484723508303575674595776727652334916248717110494608167028411614619897541\n",
       " -0.4460505787554577877896996467730574319093983633651686126501110468355539514426536"
      ]
     },
     "execution_count": 131,
     "metadata": {},
     "output_type": "execute_result"
    }
   ],
   "source": [
    "cons_proy_dir = IterativeSolvers.gmres(mat,ener_grad_ext)"
   ]
  },
  {
   "cell_type": "code",
   "execution_count": 132,
   "metadata": {},
   "outputs": [
    {
     "data": {
      "text/plain": [
       "23-element Vector{BigFloat}:\n",
       " -8.673617379884035495126061731890667812371186807873999089152390702896429278337709e-17\n",
       " -1.850371707708594284876751735328782641599395396391208512549148009339645801009365e-17\n",
       "  9.251858538542970491136499164960873514323486304991599672048241072187874634722873e-18\n",
       " -8.673617379884035434058206407376416123378849301583499881505614477635899127744645e-17\n",
       " -1.85037170770859422502475357337242270705826544727000324392956045491951707382982e-17\n",
       "  9.251858538542972260263200404398324337692577624286088688405996827674721687293078e-18\n",
       " -8.673617379884035449453640061532259950674513131288306663488123611159405918759447e-17\n",
       " -1.850371707708594275557171250228759422952176670477759434453237008187672954191568e-17\n",
       "  9.251858538542971005280657199595764610516026645271044574737316683016888069821038e-18\n",
       " -8.67361737988403540531134963524699093286170422409483091549076651723607720624584e-17\n",
       " -1.850371707708594209163527388770986888030558953269253693025252322942284751859415e-17\n",
       "  9.251858538542970565191594202162974172769899879589947037094137126432363698903141e-18\n",
       " -8.673617379884035402585410367796367157030592627872258415849093367846647112494584e-17\n",
       " -1.850371707708594267130941592956128609838777367381936479457116540785049796181416e-17\n",
       "  9.251858538542971962750306437471040852223141195536251049497955696545943938473866e-18\n",
       " -8.673617379884035645823066237914500706673595925726234262621307344372483647790538e-17\n",
       " -1.850371707708594142483171140251113667892135223287305028491578535181587931522447e-17\n",
       "  9.251858538542970736559325995952033627184420069744916116061068594100815017363581e-18\n",
       " -1.400341739028433049540312383570622600229460877402873786570255245489626262158818e-33\n",
       " -2.495336214422156380039944238931431068052255846346604349739047599493952466435434e-34\n",
       " -2.711691220470963214787590802634375683674112777958831802845889920749188245588708e-34\n",
       " -6.187161064928797487873660577044440546699194589944066849750587409554880891702184e-34\n",
       " -8.145683380290961586910261507419107018289104349927201162134811732897442297955234e-34"
      ]
     },
     "execution_count": 132,
     "metadata": {},
     "output_type": "execute_result"
    }
   ],
   "source": [
    "mat * cons_proy_dir - ener_grad_ext"
   ]
  },
  {
   "cell_type": "code",
   "execution_count": 90,
   "metadata": {},
   "outputs": [
    {
     "data": {
      "text/plain": [
       "79-element Vector{Float64}:\n",
       " -2.0996928555487617\n",
       "  1.284211015535452\n",
       " -0.9721410530036825\n",
       "  0.7848389599881432\n",
       "  0.1808573038577645\n",
       " -0.20318993019128584\n",
       "  0.5245803366286612\n",
       "  1.0439755121465475\n",
       " -0.27140681683942114\n",
       " -0.49990266446499254\n",
       " -0.18232016888942232\n",
       " -1.0273705043084964\n",
       "  1.1453626452381431\n",
       "  ⋮\n",
       "  0.4472287331339079\n",
       " -1.7603506845561991\n",
       " -0.8080728980437524\n",
       " -0.8640922719983603\n",
       "  1.6847760306817283\n",
       " -0.3994815171256758\n",
       " -0.7617080273130701\n",
       "  0.12570120400570822\n",
       " -1.4148017491886535\n",
       " -0.9486759171508541\n",
       "  0.3250522566841259\n",
       "  0.9485332302765306"
      ]
     },
     "execution_count": 90,
     "metadata": {},
     "output_type": "execute_result"
    }
   ],
   "source": [
    "b = copy(cons_proy_dirnew) + randn(79)"
   ]
  },
  {
   "cell_type": "code",
   "execution_count": null,
   "metadata": {},
   "outputs": [],
   "source": []
  }
 ],
 "metadata": {
  "kernelspec": {
   "display_name": "Julia 1.6.1",
   "language": "julia",
   "name": "julia-1.6"
  },
  "language_info": {
   "file_extension": ".jl",
   "mimetype": "application/julia",
   "name": "julia",
   "version": "1.6.1"
  }
 },
 "nbformat": 4,
 "nbformat_minor": 4
}
