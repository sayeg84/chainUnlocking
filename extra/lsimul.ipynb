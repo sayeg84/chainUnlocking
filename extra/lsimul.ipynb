{
 "cells": [
  {
   "cell_type": "code",
   "execution_count": 5,
   "metadata": {},
   "outputs": [
    {
     "name": "stderr",
     "output_type": "stream",
     "text": [
      "WARNING: redefinition of constant ex. This may fail, cause incorrect answers, or produce other errors.\n",
      "WARNING: redefinition of constant ey. This may fail, cause incorrect answers, or produce other errors.\n",
      "WARNING: redefinition of constant ez. This may fail, cause incorrect answers, or produce other errors.\n",
      "WARNING: redefinition of constant e0. This may fail, cause incorrect answers, or produce other errors.\n",
      "WARNING: redefinition of constant ex. This may fail, cause incorrect answers, or produce other errors.\n",
      "WARNING: redefinition of constant ey. This may fail, cause incorrect answers, or produce other errors.\n",
      "WARNING: redefinition of constant ez. This may fail, cause incorrect answers, or produce other errors.\n",
      "WARNING: redefinition of constant e0. This may fail, cause incorrect answers, or produce other errors.\n",
      "WARNING: redefinition of constant ex. This may fail, cause incorrect answers, or produce other errors.\n",
      "WARNING: redefinition of constant ey. This may fail, cause incorrect answers, or produce other errors.\n",
      "WARNING: redefinition of constant ez. This may fail, cause incorrect answers, or produce other errors.\n",
      "WARNING: redefinition of constant e0. This may fail, cause incorrect answers, or produce other errors.\n",
      "WARNING: redefinition of constant ex. This may fail, cause incorrect answers, or produce other errors.\n",
      "WARNING: redefinition of constant ey. This may fail, cause incorrect answers, or produce other errors.\n",
      "WARNING: redefinition of constant ez. This may fail, cause incorrect answers, or produce other errors.\n",
      "WARNING: redefinition of constant e0. This may fail, cause incorrect answers, or produce other errors.\n"
     ]
    },
    {
     "data": {
      "text/plain": [
       "Plots.GRBackend()"
      ]
     },
     "execution_count": 5,
     "metadata": {},
     "output_type": "execute_result"
    }
   ],
   "source": [
    "include(\"../src/test.jl\")\n",
    "include(\"../src/io.jl\")\n",
    "using Plots, Statistics\n",
    "gr()"
   ]
  },
  {
   "cell_type": "code",
   "execution_count": 6,
   "metadata": {},
   "outputs": [
    {
     "data": {
      "image/svg+xml": [
       "<?xml version=\"1.0\" encoding=\"utf-8\"?>\n",
       "<svg xmlns=\"http://www.w3.org/2000/svg\" xmlns:xlink=\"http://www.w3.org/1999/xlink\" width=\"600\" height=\"400\" viewBox=\"0 0 2400 1600\">\n",
       "<defs>\n",
       "  <clipPath id=\"clip400\">\n",
       "    <rect x=\"0\" y=\"0\" width=\"2400\" height=\"1600\"/>\n",
       "  </clipPath>\n",
       "</defs>\n",
       "<path clip-path=\"url(#clip400)\" d=\"\n",
       "M0 1600 L2400 1600 L2400 0 L0 0  Z\n",
       "  \" fill=\"#ffffff\" fill-rule=\"evenodd\" fill-opacity=\"1\"/>\n",
       "<defs>\n",
       "  <clipPath id=\"clip401\">\n",
       "    <rect x=\"480\" y=\"0\" width=\"1681\" height=\"1600\"/>\n",
       "  </clipPath>\n",
       "</defs>\n",
       "<path clip-path=\"url(#clip400)\" d=\"\n",
       "M138.959 1486.45 L2352.76 1486.45 L2352.76 47.2441 L138.959 47.2441  Z\n",
       "  \" fill=\"#ffffff\" fill-rule=\"evenodd\" fill-opacity=\"1\"/>\n",
       "<defs>\n",
       "  <clipPath id=\"clip402\">\n",
       "    <rect x=\"138\" y=\"47\" width=\"2215\" height=\"1440\"/>\n",
       "  </clipPath>\n",
       "</defs>\n",
       "<polyline clip-path=\"url(#clip402)\" style=\"stroke:#000000; stroke-linecap:butt; stroke-linejoin:round; stroke-width:2; stroke-opacity:0.1; fill:none\" points=\"\n",
       "  433.668,1486.45 433.668,47.2441 \n",
       "  \"/>\n",
       "<polyline clip-path=\"url(#clip402)\" style=\"stroke:#000000; stroke-linecap:butt; stroke-linejoin:round; stroke-width:2; stroke-opacity:0.1; fill:none\" points=\"\n",
       "  897.776,1486.45 897.776,47.2441 \n",
       "  \"/>\n",
       "<polyline clip-path=\"url(#clip402)\" style=\"stroke:#000000; stroke-linecap:butt; stroke-linejoin:round; stroke-width:2; stroke-opacity:0.1; fill:none\" points=\"\n",
       "  1361.88,1486.45 1361.88,47.2441 \n",
       "  \"/>\n",
       "<polyline clip-path=\"url(#clip402)\" style=\"stroke:#000000; stroke-linecap:butt; stroke-linejoin:round; stroke-width:2; stroke-opacity:0.1; fill:none\" points=\"\n",
       "  1825.99,1486.45 1825.99,47.2441 \n",
       "  \"/>\n",
       "<polyline clip-path=\"url(#clip402)\" style=\"stroke:#000000; stroke-linecap:butt; stroke-linejoin:round; stroke-width:2; stroke-opacity:0.1; fill:none\" points=\"\n",
       "  2290.1,1486.45 2290.1,47.2441 \n",
       "  \"/>\n",
       "<polyline clip-path=\"url(#clip400)\" style=\"stroke:#000000; stroke-linecap:butt; stroke-linejoin:round; stroke-width:4; stroke-opacity:1; fill:none\" points=\"\n",
       "  138.959,1486.45 2352.76,1486.45 \n",
       "  \"/>\n",
       "<polyline clip-path=\"url(#clip400)\" style=\"stroke:#000000; stroke-linecap:butt; stroke-linejoin:round; stroke-width:4; stroke-opacity:1; fill:none\" points=\"\n",
       "  433.668,1486.45 433.668,1469.18 \n",
       "  \"/>\n",
       "<polyline clip-path=\"url(#clip400)\" style=\"stroke:#000000; stroke-linecap:butt; stroke-linejoin:round; stroke-width:4; stroke-opacity:1; fill:none\" points=\"\n",
       "  897.776,1486.45 897.776,1469.18 \n",
       "  \"/>\n",
       "<polyline clip-path=\"url(#clip400)\" style=\"stroke:#000000; stroke-linecap:butt; stroke-linejoin:round; stroke-width:4; stroke-opacity:1; fill:none\" points=\"\n",
       "  1361.88,1486.45 1361.88,1469.18 \n",
       "  \"/>\n",
       "<polyline clip-path=\"url(#clip400)\" style=\"stroke:#000000; stroke-linecap:butt; stroke-linejoin:round; stroke-width:4; stroke-opacity:1; fill:none\" points=\"\n",
       "  1825.99,1486.45 1825.99,1469.18 \n",
       "  \"/>\n",
       "<polyline clip-path=\"url(#clip400)\" style=\"stroke:#000000; stroke-linecap:butt; stroke-linejoin:round; stroke-width:4; stroke-opacity:1; fill:none\" points=\"\n",
       "  2290.1,1486.45 2290.1,1469.18 \n",
       "  \"/>\n",
       "<path clip-path=\"url(#clip400)\" d=\"M428.321 1543.18 L444.64 1543.18 L444.64 1547.12 L422.696 1547.12 L422.696 1543.18 Q425.358 1540.43 429.941 1535.8 Q434.548 1531.15 435.728 1529.81 Q437.974 1527.28 438.853 1525.55 Q439.756 1523.79 439.756 1522.1 Q439.756 1519.34 437.812 1517.61 Q435.89 1515.87 432.789 1515.87 Q430.59 1515.87 428.136 1516.63 Q425.705 1517.4 422.928 1518.95 L422.928 1514.23 Q425.752 1513.09 428.205 1512.51 Q430.659 1511.93 432.696 1511.93 Q438.066 1511.93 441.261 1514.62 Q444.455 1517.31 444.455 1521.8 Q444.455 1523.93 443.645 1525.85 Q442.858 1527.74 440.751 1530.34 Q440.173 1531.01 437.071 1534.23 Q433.969 1537.42 428.321 1543.18 Z\" fill=\"#000000\" fill-rule=\"evenodd\" fill-opacity=\"1\" /><path clip-path=\"url(#clip400)\" d=\"M900.786 1516.63 L888.98 1535.08 L900.786 1535.08 L900.786 1516.63 M899.559 1512.56 L905.438 1512.56 L905.438 1535.08 L910.369 1535.08 L910.369 1538.97 L905.438 1538.97 L905.438 1547.12 L900.786 1547.12 L900.786 1538.97 L885.184 1538.97 L885.184 1534.46 L899.559 1512.56 Z\" fill=\"#000000\" fill-rule=\"evenodd\" fill-opacity=\"1\" /><path clip-path=\"url(#clip400)\" d=\"M1362.29 1527.98 Q1359.14 1527.98 1357.29 1530.13 Q1355.46 1532.28 1355.46 1536.03 Q1355.46 1539.76 1357.29 1541.93 Q1359.14 1544.09 1362.29 1544.09 Q1365.44 1544.09 1367.27 1541.93 Q1369.12 1539.76 1369.12 1536.03 Q1369.12 1532.28 1367.27 1530.13 Q1365.44 1527.98 1362.29 1527.98 M1371.57 1513.32 L1371.57 1517.58 Q1369.81 1516.75 1368.01 1516.31 Q1366.22 1515.87 1364.47 1515.87 Q1359.84 1515.87 1357.38 1519 Q1354.95 1522.12 1354.6 1528.44 Q1355.97 1526.43 1358.03 1525.36 Q1360.09 1524.27 1362.57 1524.27 Q1367.78 1524.27 1370.79 1527.44 Q1373.82 1530.59 1373.82 1536.03 Q1373.82 1541.36 1370.67 1544.57 Q1367.52 1547.79 1362.29 1547.79 Q1356.29 1547.79 1353.12 1543.21 Q1349.95 1538.6 1349.95 1529.87 Q1349.95 1521.68 1353.84 1516.82 Q1357.73 1511.93 1364.28 1511.93 Q1366.04 1511.93 1367.82 1512.28 Q1369.63 1512.63 1371.57 1513.32 Z\" fill=\"#000000\" fill-rule=\"evenodd\" fill-opacity=\"1\" /><path clip-path=\"url(#clip400)\" d=\"M1825.99 1530.71 Q1822.66 1530.71 1820.74 1532.49 Q1818.84 1534.27 1818.84 1537.4 Q1818.84 1540.52 1820.74 1542.31 Q1822.66 1544.09 1825.99 1544.09 Q1829.33 1544.09 1831.25 1542.31 Q1833.17 1540.5 1833.17 1537.4 Q1833.17 1534.27 1831.25 1532.49 Q1829.35 1530.71 1825.99 1530.71 M1821.32 1528.72 Q1818.31 1527.98 1816.62 1525.92 Q1814.95 1523.86 1814.95 1520.89 Q1814.95 1516.75 1817.89 1514.34 Q1820.85 1511.93 1825.99 1511.93 Q1831.16 1511.93 1834.09 1514.34 Q1837.03 1516.75 1837.03 1520.89 Q1837.03 1523.86 1835.34 1525.92 Q1833.68 1527.98 1830.69 1528.72 Q1834.07 1529.5 1835.95 1531.8 Q1837.84 1534.09 1837.84 1537.4 Q1837.84 1542.42 1834.77 1545.11 Q1831.71 1547.79 1825.99 1547.79 Q1820.28 1547.79 1817.2 1545.11 Q1814.14 1542.42 1814.14 1537.4 Q1814.14 1534.09 1816.04 1531.8 Q1817.94 1529.5 1821.32 1528.72 M1819.6 1521.33 Q1819.6 1524.02 1821.27 1525.52 Q1822.96 1527.03 1825.99 1527.03 Q1829 1527.03 1830.69 1525.52 Q1832.41 1524.02 1832.41 1521.33 Q1832.41 1518.65 1830.69 1517.14 Q1829 1515.64 1825.99 1515.64 Q1822.96 1515.64 1821.27 1517.14 Q1819.6 1518.65 1819.6 1521.33 Z\" fill=\"#000000\" fill-rule=\"evenodd\" fill-opacity=\"1\" /><path clip-path=\"url(#clip400)\" d=\"M2264.79 1543.18 L2272.43 1543.18 L2272.43 1516.82 L2264.12 1518.49 L2264.12 1514.23 L2272.38 1512.56 L2277.06 1512.56 L2277.06 1543.18 L2284.7 1543.18 L2284.7 1547.12 L2264.79 1547.12 L2264.79 1543.18 Z\" fill=\"#000000\" fill-rule=\"evenodd\" fill-opacity=\"1\" /><path clip-path=\"url(#clip400)\" d=\"M2304.14 1515.64 Q2300.53 1515.64 2298.7 1519.2 Q2296.9 1522.75 2296.9 1529.87 Q2296.9 1536.98 2298.7 1540.55 Q2300.53 1544.09 2304.14 1544.09 Q2307.77 1544.09 2309.58 1540.55 Q2311.41 1536.98 2311.41 1529.87 Q2311.41 1522.75 2309.58 1519.2 Q2307.77 1515.64 2304.14 1515.64 M2304.14 1511.93 Q2309.95 1511.93 2313.01 1516.54 Q2316.08 1521.12 2316.08 1529.87 Q2316.08 1538.6 2313.01 1543.21 Q2309.95 1547.79 2304.14 1547.79 Q2298.33 1547.79 2295.25 1543.21 Q2292.2 1538.6 2292.2 1529.87 Q2292.2 1521.12 2295.25 1516.54 Q2298.33 1511.93 2304.14 1511.93 Z\" fill=\"#000000\" fill-rule=\"evenodd\" fill-opacity=\"1\" /><polyline clip-path=\"url(#clip402)\" style=\"stroke:#000000; stroke-linecap:butt; stroke-linejoin:round; stroke-width:2; stroke-opacity:0.1; fill:none\" points=\"\n",
       "  138.959,1294.86 2352.76,1294.86 \n",
       "  \"/>\n",
       "<polyline clip-path=\"url(#clip402)\" style=\"stroke:#000000; stroke-linecap:butt; stroke-linejoin:round; stroke-width:2; stroke-opacity:0.1; fill:none\" points=\"\n",
       "  138.959,993.136 2352.76,993.136 \n",
       "  \"/>\n",
       "<polyline clip-path=\"url(#clip402)\" style=\"stroke:#000000; stroke-linecap:butt; stroke-linejoin:round; stroke-width:2; stroke-opacity:0.1; fill:none\" points=\"\n",
       "  138.959,691.416 2352.76,691.416 \n",
       "  \"/>\n",
       "<polyline clip-path=\"url(#clip402)\" style=\"stroke:#000000; stroke-linecap:butt; stroke-linejoin:round; stroke-width:2; stroke-opacity:0.1; fill:none\" points=\"\n",
       "  138.959,389.696 2352.76,389.696 \n",
       "  \"/>\n",
       "<polyline clip-path=\"url(#clip402)\" style=\"stroke:#000000; stroke-linecap:butt; stroke-linejoin:round; stroke-width:2; stroke-opacity:0.1; fill:none\" points=\"\n",
       "  138.959,87.9763 2352.76,87.9763 \n",
       "  \"/>\n",
       "<polyline clip-path=\"url(#clip400)\" style=\"stroke:#000000; stroke-linecap:butt; stroke-linejoin:round; stroke-width:4; stroke-opacity:1; fill:none\" points=\"\n",
       "  138.959,1486.45 138.959,47.2441 \n",
       "  \"/>\n",
       "<polyline clip-path=\"url(#clip400)\" style=\"stroke:#000000; stroke-linecap:butt; stroke-linejoin:round; stroke-width:4; stroke-opacity:1; fill:none\" points=\"\n",
       "  138.959,1294.86 165.525,1294.86 \n",
       "  \"/>\n",
       "<polyline clip-path=\"url(#clip400)\" style=\"stroke:#000000; stroke-linecap:butt; stroke-linejoin:round; stroke-width:4; stroke-opacity:1; fill:none\" points=\"\n",
       "  138.959,993.136 165.525,993.136 \n",
       "  \"/>\n",
       "<polyline clip-path=\"url(#clip400)\" style=\"stroke:#000000; stroke-linecap:butt; stroke-linejoin:round; stroke-width:4; stroke-opacity:1; fill:none\" points=\"\n",
       "  138.959,691.416 165.525,691.416 \n",
       "  \"/>\n",
       "<polyline clip-path=\"url(#clip400)\" style=\"stroke:#000000; stroke-linecap:butt; stroke-linejoin:round; stroke-width:4; stroke-opacity:1; fill:none\" points=\"\n",
       "  138.959,389.696 165.525,389.696 \n",
       "  \"/>\n",
       "<polyline clip-path=\"url(#clip400)\" style=\"stroke:#000000; stroke-linecap:butt; stroke-linejoin:round; stroke-width:4; stroke-opacity:1; fill:none\" points=\"\n",
       "  138.959,87.9763 165.525,87.9763 \n",
       "  \"/>\n",
       "<path clip-path=\"url(#clip400)\" d=\"M86.6401 1308.2 L102.959 1308.2 L102.959 1312.14 L81.0151 1312.14 L81.0151 1308.2 Q83.6771 1305.45 88.2604 1300.82 Q92.8669 1296.16 94.0475 1294.82 Q96.2928 1292.3 97.1724 1290.56 Q98.0752 1288.8 98.0752 1287.11 Q98.0752 1284.36 96.1308 1282.62 Q94.2095 1280.89 91.1077 1280.89 Q88.9086 1280.89 86.4549 1281.65 Q84.0244 1282.41 81.2466 1283.96 L81.2466 1279.24 Q84.0707 1278.11 86.5243 1277.53 Q88.978 1276.95 91.0151 1276.95 Q96.3854 1276.95 99.5798 1279.64 Q102.774 1282.32 102.774 1286.81 Q102.774 1288.94 101.964 1290.86 Q101.177 1292.76 99.0706 1295.35 Q98.4919 1296.02 95.39 1299.24 Q92.2882 1302.44 86.6401 1308.2 Z\" fill=\"#000000\" fill-rule=\"evenodd\" fill-opacity=\"1\" /><path clip-path=\"url(#clip400)\" d=\"M93.3762 979.93 L81.5707 998.379 L93.3762 998.379 L93.3762 979.93 M92.1493 975.856 L98.0289 975.856 L98.0289 998.379 L102.959 998.379 L102.959 1002.27 L98.0289 1002.27 L98.0289 1010.42 L93.3762 1010.42 L93.3762 1002.27 L77.7744 1002.27 L77.7744 997.754 L92.1493 975.856 Z\" fill=\"#000000\" fill-rule=\"evenodd\" fill-opacity=\"1\" /><path clip-path=\"url(#clip400)\" d=\"M91.4317 689.553 Q88.2836 689.553 86.4318 691.705 Q84.6031 693.858 84.6031 697.608 Q84.6031 701.335 86.4318 703.511 Q88.2836 705.664 91.4317 705.664 Q94.5799 705.664 96.4085 703.511 Q98.2604 701.335 98.2604 697.608 Q98.2604 693.858 96.4085 691.705 Q94.5799 689.553 91.4317 689.553 M100.714 674.9 L100.714 679.159 Q98.9548 678.326 97.1493 677.886 Q95.3669 677.446 93.6076 677.446 Q88.978 677.446 86.5243 680.571 Q84.0938 683.696 83.7466 690.016 Q85.1123 688.002 87.1725 686.937 Q89.2327 685.849 91.7095 685.849 Q96.9178 685.849 99.927 689.02 Q102.959 692.168 102.959 697.608 Q102.959 702.932 99.8113 706.15 Q96.6632 709.367 91.4317 709.367 Q85.4364 709.367 82.2651 704.784 Q79.0938 700.178 79.0938 691.451 Q79.0938 683.256 82.9827 678.395 Q86.8716 673.511 93.4225 673.511 Q95.1817 673.511 96.9641 673.858 Q98.7696 674.205 100.714 674.9 Z\" fill=\"#000000\" fill-rule=\"evenodd\" fill-opacity=\"1\" /><path clip-path=\"url(#clip400)\" d=\"M91.1077 390.564 Q87.7743 390.564 85.8531 392.347 Q83.9549 394.129 83.9549 397.254 Q83.9549 400.379 85.8531 402.161 Q87.7743 403.944 91.1077 403.944 Q94.441 403.944 96.3623 402.161 Q98.2835 400.356 98.2835 397.254 Q98.2835 394.129 96.3623 392.347 Q94.4641 390.564 91.1077 390.564 M86.4318 388.573 Q83.4225 387.833 81.7327 385.773 Q80.066 383.712 80.066 380.749 Q80.066 376.606 83.0058 374.199 Q85.9688 371.791 91.1077 371.791 Q96.2697 371.791 99.2095 374.199 Q102.149 376.606 102.149 380.749 Q102.149 383.712 100.459 385.773 Q98.7928 387.833 95.8067 388.573 Q99.1863 389.361 101.061 391.652 Q102.959 393.944 102.959 397.254 Q102.959 402.277 99.8808 404.962 Q96.8252 407.647 91.1077 407.647 Q85.3901 407.647 82.3114 404.962 Q79.2559 402.277 79.2559 397.254 Q79.2559 393.944 81.154 391.652 Q83.0521 389.361 86.4318 388.573 M84.7188 381.189 Q84.7188 383.874 86.3855 385.379 Q88.0753 386.884 91.1077 386.884 Q94.1169 386.884 95.8067 385.379 Q97.5197 383.874 97.5197 381.189 Q97.5197 378.504 95.8067 376.999 Q94.1169 375.495 91.1077 375.495 Q88.0753 375.495 86.3855 376.999 Q84.7188 378.504 84.7188 381.189 Z\" fill=\"#000000\" fill-rule=\"evenodd\" fill-opacity=\"1\" /><path clip-path=\"url(#clip400)\" d=\"M51.6634 101.321 L59.3023 101.321 L59.3023 74.9555 L50.9921 76.6222 L50.9921 72.3629 L59.256 70.6963 L63.9319 70.6963 L63.9319 101.321 L71.5707 101.321 L71.5707 105.256 L51.6634 105.256 L51.6634 101.321 Z\" fill=\"#000000\" fill-rule=\"evenodd\" fill-opacity=\"1\" /><path clip-path=\"url(#clip400)\" d=\"M91.0151 73.775 Q87.404 73.775 85.5753 77.3398 Q83.7697 80.8814 83.7697 88.011 Q83.7697 95.1174 85.5753 98.6822 Q87.404 102.224 91.0151 102.224 Q94.6493 102.224 96.4548 98.6822 Q98.2835 95.1174 98.2835 88.011 Q98.2835 80.8814 96.4548 77.3398 Q94.6493 73.775 91.0151 73.775 M91.0151 70.0713 Q96.8252 70.0713 99.8808 74.6777 Q102.959 79.261 102.959 88.011 Q102.959 96.7378 99.8808 101.344 Q96.8252 105.928 91.0151 105.928 Q85.2049 105.928 82.1262 101.344 Q79.0707 96.7378 79.0707 88.011 Q79.0707 79.261 82.1262 74.6777 Q85.2049 70.0713 91.0151 70.0713 Z\" fill=\"#000000\" fill-rule=\"evenodd\" fill-opacity=\"1\" /><circle clip-path=\"url(#clip402)\" cx=\"201.614\" cy=\"1445.72\" r=\"14\" fill=\"#009af9\" fill-rule=\"evenodd\" fill-opacity=\"1\" stroke=\"#000000\" stroke-opacity=\"1\" stroke-width=\"3.2\"/>\n",
       "<circle clip-path=\"url(#clip402)\" cx=\"433.668\" cy=\"1294.86\" r=\"14\" fill=\"#009af9\" fill-rule=\"evenodd\" fill-opacity=\"1\" stroke=\"#000000\" stroke-opacity=\"1\" stroke-width=\"3.2\"/>\n",
       "<circle clip-path=\"url(#clip402)\" cx=\"665.722\" cy=\"1144\" r=\"14\" fill=\"#009af9\" fill-rule=\"evenodd\" fill-opacity=\"1\" stroke=\"#000000\" stroke-opacity=\"1\" stroke-width=\"3.2\"/>\n",
       "<circle clip-path=\"url(#clip402)\" cx=\"897.776\" cy=\"993.136\" r=\"14\" fill=\"#009af9\" fill-rule=\"evenodd\" fill-opacity=\"1\" stroke=\"#000000\" stroke-opacity=\"1\" stroke-width=\"3.2\"/>\n",
       "<circle clip-path=\"url(#clip402)\" cx=\"1129.83\" cy=\"842.276\" r=\"14\" fill=\"#009af9\" fill-rule=\"evenodd\" fill-opacity=\"1\" stroke=\"#000000\" stroke-opacity=\"1\" stroke-width=\"3.2\"/>\n",
       "<circle clip-path=\"url(#clip402)\" cx=\"1361.88\" cy=\"691.416\" r=\"14\" fill=\"#009af9\" fill-rule=\"evenodd\" fill-opacity=\"1\" stroke=\"#000000\" stroke-opacity=\"1\" stroke-width=\"3.2\"/>\n",
       "<circle clip-path=\"url(#clip402)\" cx=\"1593.94\" cy=\"540.556\" r=\"14\" fill=\"#009af9\" fill-rule=\"evenodd\" fill-opacity=\"1\" stroke=\"#000000\" stroke-opacity=\"1\" stroke-width=\"3.2\"/>\n",
       "<circle clip-path=\"url(#clip402)\" cx=\"1825.99\" cy=\"389.696\" r=\"14\" fill=\"#009af9\" fill-rule=\"evenodd\" fill-opacity=\"1\" stroke=\"#000000\" stroke-opacity=\"1\" stroke-width=\"3.2\"/>\n",
       "<circle clip-path=\"url(#clip402)\" cx=\"2058.05\" cy=\"238.836\" r=\"14\" fill=\"#009af9\" fill-rule=\"evenodd\" fill-opacity=\"1\" stroke=\"#000000\" stroke-opacity=\"1\" stroke-width=\"3.2\"/>\n",
       "<circle clip-path=\"url(#clip402)\" cx=\"2290.1\" cy=\"87.9763\" r=\"14\" fill=\"#009af9\" fill-rule=\"evenodd\" fill-opacity=\"1\" stroke=\"#000000\" stroke-opacity=\"1\" stroke-width=\"3.2\"/>\n",
       "<path clip-path=\"url(#clip400)\" d=\"\n",
       "M1980.56 198.898 L2278.96 198.898 L2278.96 95.2176 L1980.56 95.2176  Z\n",
       "  \" fill=\"#ffffff\" fill-rule=\"evenodd\" fill-opacity=\"1\"/>\n",
       "<polyline clip-path=\"url(#clip400)\" style=\"stroke:#000000; stroke-linecap:butt; stroke-linejoin:round; stroke-width:4; stroke-opacity:1; fill:none\" points=\"\n",
       "  1980.56,198.898 2278.96,198.898 2278.96,95.2176 1980.56,95.2176 1980.56,198.898 \n",
       "  \"/>\n",
       "<circle clip-path=\"url(#clip400)\" cx=\"2078.95\" cy=\"147.058\" r=\"23\" fill=\"#009af9\" fill-rule=\"evenodd\" fill-opacity=\"1\" stroke=\"#000000\" stroke-opacity=\"1\" stroke-width=\"5.12\"/>\n",
       "<path clip-path=\"url(#clip400)\" d=\"M2191.18 166.745 Q2189.37 171.375 2187.66 172.787 Q2185.95 174.199 2183.08 174.199 L2179.67 174.199 L2179.67 170.634 L2182.17 170.634 Q2183.93 170.634 2184.91 169.8 Q2185.88 168.967 2187.06 165.865 L2187.82 163.921 L2177.34 138.412 L2181.85 138.412 L2189.95 158.689 L2198.05 138.412 L2202.57 138.412 L2191.18 166.745 Z\" fill=\"#000000\" fill-rule=\"evenodd\" fill-opacity=\"1\" /><path clip-path=\"url(#clip400)\" d=\"M2209.86 160.402 L2217.5 160.402 L2217.5 134.037 L2209.19 135.703 L2209.19 131.444 L2217.45 129.778 L2222.13 129.778 L2222.13 160.402 L2229.77 160.402 L2229.77 164.338 L2209.86 164.338 L2209.86 160.402 Z\" fill=\"#000000\" fill-rule=\"evenodd\" fill-opacity=\"1\" /></svg>\n"
      ]
     },
     "execution_count": 6,
     "metadata": {},
     "output_type": "execute_result"
    }
   ],
   "source": [
    "scatter(1:10)"
   ]
  },
  {
   "cell_type": "code",
   "execution_count": 10,
   "metadata": {},
   "outputs": [
    {
     "data": {
      "text/plain": [
       "(PolygonalNew(Point[Point(0.1000000094519388285173213427872829896913687700184050563929164881672198090207855, 1.000000008652196253892337111161900392881281650413991051781210131751551725497944, 4.097193608361746705274341038445877389527968843214834000232548355031760953468022e-09), Point(7.555505851415738208116983256435262889025424955153636287711051435701991443936835e-09, 7.908203648172522802798360379630297757235777185632216829534399243137809960853106e-09, 0.1000000056786582145980536518075082110710883607120842965298639140587045076447476), Point(1.000000007404878968366073332449578343269075790942153458841627583042556910283005, 4.521117554692102397331378593540448409997357887043850430318343279582826075402953e-09, 9.072723432746898820620902954304937995300666158972312549866663436383425486874321e-10), Point(1.00000000823190136492729002696622884536065769922951088768203987960919071581264, 1.000000002207467291738496363962576347784275265465144801716518838708650786754434, 2.186702376909031066098087766050412751114586176953704521880507563739987808924651e-09), Point(4.831809359834256069118588456619916958828609034369150630662446268003555858971119e-09, 1.000000008298299980307186803223942413848640231176859262702392559974771960214736, 0.1000000058951367090422591833398704841876279920104367972701328559911009133248525), Point(2.65982600571657018542803639023144499159604234513974443727959837734455853700368e-10, 8.367759710077282872757183169826224920116583889403612577493929709590733355870063e-10, 6.165054316364044902013212632210712034644076132035851522127666190121695401169812e-09), Point(1.00000000839809773997008308462101937204795502127124627010698866753874883646126, 0.1000000073563789433871120000781474445056790321292587611747792832418033414318347, 0.1000000005334975297380273429647755314119605355298415016302445510741705595089471)]), PolygonalNew(Point[Point(-0.9152853381540394550639285701926480477216739859152153859124245294447259683664148, 0.966928684407148832186913101828072747236871441391956432539002533502123281579295, -0.8068635857688762261735846053792802470231447976252352552484910041465836674491003), Point(-1.004781820304545179730552578540862458530344243761455664937813709586597217298097, -0.02033455774065704101699080087191794227672265316840903442537527276612305004404827, -0.9999999949983422528826284445073430013172052056112829157481053723737568913676153), Point(-8.096408020401041836299704871375374597921250341659013798459722003283054815464775e-79, 0.0, -0.9999999976863489577770693489509974970220801952196272997528562091469924151599328), Point(0.0, 0.0, -0.0), Point(-1.003403763121388395771328276216677284016250383845062278072849034026102153514246, 0.05639942992362195724368948836679675986950819620209522373520170612774891735338699, 5.391753295686212426714165401197969047097853620964107221546270323624406727326608e-09), Point(-0.9683203206555433281661762066559388543654576774239113216394532028170368195827896, 0.5032631873868115311404136425886948037804440376789595235879513276392705391050059, -0.8994898217879036992974048945986105280519587916648745813635732159089018999342), Point(0.02926090429034463321751059022016851808505120354441703539711992307549665759324323, 0.4956011210241077196607670586749461727220580667134263466736280962421157709372882, -0.7420953847313251823065310458047048731608990219536115510227262512852210682701327)]), Int16[0, 2, 0, 0, 0, 1, 0, 3, 0, 1  …  0, 0, 0, 2, 0, 0, 0, 0, 0, 0], BigFloat[0.0, 0.022911174751403751148615128840901888906955718994140625, 0.0, 0.0, 0.0, 0.0817008260764341687210077225245186127722263336181640625, 0.0, -0.0043672216163646859765634644645615480840206146240234375, 0.0, 0.0364894951934437716811743257494526915252208709716796875  …  0.0, 0.0, 0.0, -0.0003992824270959982602136051355046220123767852783203125, 0.0, 0.0, 0.0, 0.0, 0.0, 0.0])"
      ]
     },
     "execution_count": 10,
     "metadata": {},
     "output_type": "execute_result"
    }
   ],
   "source": [
    "Q,lastQ,diheds,indexes = readSingleSimulation(\"../outputs/review/01_1\")"
   ]
  },
  {
   "cell_type": "code",
   "execution_count": 11,
   "metadata": {},
   "outputs": [
    {
     "data": {
      "image/svg+xml": [
       "<?xml version=\"1.0\" encoding=\"utf-8\"?>\n",
       "<svg xmlns=\"http://www.w3.org/2000/svg\" xmlns:xlink=\"http://www.w3.org/1999/xlink\" width=\"600\" height=\"400\" viewBox=\"0 0 2400 1600\">\n",
       "<defs>\n",
       "  <clipPath id=\"clip480\">\n",
       "    <rect x=\"0\" y=\"0\" width=\"2400\" height=\"1600\"/>\n",
       "  </clipPath>\n",
       "</defs>\n",
       "<path clip-path=\"url(#clip480)\" d=\"\n",
       "M0 1600 L2400 1600 L2400 0 L0 0  Z\n",
       "  \" fill=\"#ffffff\" fill-rule=\"evenodd\" fill-opacity=\"1\"/>\n",
       "<defs>\n",
       "  <clipPath id=\"clip481\">\n",
       "    <rect x=\"480\" y=\"0\" width=\"1681\" height=\"1600\"/>\n",
       "  </clipPath>\n",
       "</defs>\n",
       "<defs>\n",
       "  <clipPath id=\"clip482\">\n",
       "    <rect x=\"287\" y=\"47\" width=\"1706\" height=\"1377\"/>\n",
       "  </clipPath>\n",
       "</defs>\n",
       "<path clip-path=\"url(#clip482)\" d=\"\n",
       "M287.366 1341.9 L287.366 291.086 L911.582 47.2441 L1992.76 128.525 L1992.76 1179.34 L1368.54 1423.18 L287.366 1341.9  Z\n",
       "  \" fill=\"#ffffff\" fill-rule=\"evenodd\" fill-opacity=\"1\"/>\n",
       "<polyline clip-path=\"url(#clip482)\" style=\"stroke:#000000; stroke-linecap:butt; stroke-linejoin:round; stroke-width:2; stroke-opacity:0.1; fill:none\" points=\"\n",
       "  322.682,1344.55 946.898,1100.71 \n",
       "  \"/>\n",
       "<polyline clip-path=\"url(#clip482)\" style=\"stroke:#000000; stroke-linecap:butt; stroke-linejoin:round; stroke-width:2; stroke-opacity:0.1; fill:none\" points=\"\n",
       "  946.898,1100.71 946.898,49.8991 \n",
       "  \"/>\n",
       "<polyline clip-path=\"url(#clip482)\" style=\"stroke:#000000; stroke-linecap:butt; stroke-linejoin:round; stroke-width:2; stroke-opacity:0.1; fill:none\" points=\"\n",
       "  569.281,1363.09 1193.5,1119.25 \n",
       "  \"/>\n",
       "<polyline clip-path=\"url(#clip482)\" style=\"stroke:#000000; stroke-linecap:butt; stroke-linejoin:round; stroke-width:2; stroke-opacity:0.1; fill:none\" points=\"\n",
       "  1193.5,1119.25 1193.5,68.4379 \n",
       "  \"/>\n",
       "<polyline clip-path=\"url(#clip482)\" style=\"stroke:#000000; stroke-linecap:butt; stroke-linejoin:round; stroke-width:2; stroke-opacity:0.1; fill:none\" points=\"\n",
       "  815.88,1381.63 1440.1,1137.79 \n",
       "  \"/>\n",
       "<polyline clip-path=\"url(#clip482)\" style=\"stroke:#000000; stroke-linecap:butt; stroke-linejoin:round; stroke-width:2; stroke-opacity:0.1; fill:none\" points=\"\n",
       "  1440.1,1137.79 1440.1,86.9768 \n",
       "  \"/>\n",
       "<polyline clip-path=\"url(#clip482)\" style=\"stroke:#000000; stroke-linecap:butt; stroke-linejoin:round; stroke-width:2; stroke-opacity:0.1; fill:none\" points=\"\n",
       "  1062.48,1400.17 1686.69,1156.33 \n",
       "  \"/>\n",
       "<polyline clip-path=\"url(#clip482)\" style=\"stroke:#000000; stroke-linecap:butt; stroke-linejoin:round; stroke-width:2; stroke-opacity:0.1; fill:none\" points=\"\n",
       "  1686.69,1156.33 1686.69,105.516 \n",
       "  \"/>\n",
       "<polyline clip-path=\"url(#clip482)\" style=\"stroke:#000000; stroke-linecap:butt; stroke-linejoin:round; stroke-width:2; stroke-opacity:0.1; fill:none\" points=\"\n",
       "  1309.08,1418.71 1933.29,1174.87 \n",
       "  \"/>\n",
       "<polyline clip-path=\"url(#clip482)\" style=\"stroke:#000000; stroke-linecap:butt; stroke-linejoin:round; stroke-width:2; stroke-opacity:0.1; fill:none\" points=\"\n",
       "  1933.29,1174.87 1933.29,124.055 \n",
       "  \"/>\n",
       "<polyline clip-path=\"url(#clip480)\" style=\"stroke:#000000; stroke-linecap:butt; stroke-linejoin:round; stroke-width:4; stroke-opacity:1; fill:none\" points=\"\n",
       "  287.366,1341.9 1368.54,1423.18 \n",
       "  \"/>\n",
       "<polyline clip-path=\"url(#clip480)\" style=\"stroke:#000000; stroke-linecap:butt; stroke-linejoin:round; stroke-width:4; stroke-opacity:1; fill:none\" points=\"\n",
       "  322.682,1344.55 330.173,1341.63 \n",
       "  \"/>\n",
       "<polyline clip-path=\"url(#clip480)\" style=\"stroke:#000000; stroke-linecap:butt; stroke-linejoin:round; stroke-width:4; stroke-opacity:1; fill:none\" points=\"\n",
       "  569.281,1363.09 576.771,1360.17 \n",
       "  \"/>\n",
       "<polyline clip-path=\"url(#clip480)\" style=\"stroke:#000000; stroke-linecap:butt; stroke-linejoin:round; stroke-width:4; stroke-opacity:1; fill:none\" points=\"\n",
       "  815.88,1381.63 823.37,1378.71 \n",
       "  \"/>\n",
       "<polyline clip-path=\"url(#clip480)\" style=\"stroke:#000000; stroke-linecap:butt; stroke-linejoin:round; stroke-width:4; stroke-opacity:1; fill:none\" points=\"\n",
       "  1062.48,1400.17 1069.97,1397.24 \n",
       "  \"/>\n",
       "<polyline clip-path=\"url(#clip480)\" style=\"stroke:#000000; stroke-linecap:butt; stroke-linejoin:round; stroke-width:4; stroke-opacity:1; fill:none\" points=\"\n",
       "  1309.08,1418.71 1316.57,1415.78 \n",
       "  \"/>\n",
       "<path clip-path=\"url(#clip480)\" d=\"M230.129 1393.2 L259.805 1393.2 L259.805 1397.13 L230.129 1397.13 L230.129 1393.2 Z\" fill=\"#000000\" fill-rule=\"evenodd\" fill-opacity=\"1\" /><path clip-path=\"url(#clip480)\" d=\"M270.708 1406.09 L278.346 1406.09 L278.346 1379.73 L270.036 1381.39 L270.036 1377.13 L278.3 1375.47 L282.976 1375.47 L282.976 1406.09 L290.615 1406.09 L290.615 1410.03 L270.708 1410.03 L270.708 1406.09 Z\" fill=\"#000000\" fill-rule=\"evenodd\" fill-opacity=\"1\" /><path clip-path=\"url(#clip480)\" d=\"M300.059 1404.15 L304.943 1404.15 L304.943 1410.03 L300.059 1410.03 L300.059 1404.15 Z\" fill=\"#000000\" fill-rule=\"evenodd\" fill-opacity=\"1\" /><path clip-path=\"url(#clip480)\" d=\"M325.129 1378.54 Q321.517 1378.54 319.689 1382.11 Q317.883 1385.65 317.883 1392.78 Q317.883 1399.89 319.689 1403.45 Q321.517 1406.99 325.129 1406.99 Q328.763 1406.99 330.568 1403.45 Q332.397 1399.89 332.397 1392.78 Q332.397 1385.65 330.568 1382.11 Q328.763 1378.54 325.129 1378.54 M325.129 1374.84 Q330.939 1374.84 333.994 1379.45 Q337.073 1384.03 337.073 1392.78 Q337.073 1401.51 333.994 1406.11 Q330.939 1410.7 325.129 1410.7 Q319.318 1410.7 316.24 1406.11 Q313.184 1401.51 313.184 1392.78 Q313.184 1384.03 316.24 1379.45 Q319.318 1374.84 325.129 1374.84 Z\" fill=\"#000000\" fill-rule=\"evenodd\" fill-opacity=\"1\" /><path clip-path=\"url(#clip480)\" d=\"M355.29 1378.54 Q351.679 1378.54 349.851 1382.11 Q348.045 1385.65 348.045 1392.78 Q348.045 1399.89 349.851 1403.45 Q351.679 1406.99 355.29 1406.99 Q358.925 1406.99 360.73 1403.45 Q362.559 1399.89 362.559 1392.78 Q362.559 1385.65 360.73 1382.11 Q358.925 1378.54 355.29 1378.54 M355.29 1374.84 Q361.101 1374.84 364.156 1379.45 Q367.235 1384.03 367.235 1392.78 Q367.235 1401.51 364.156 1406.11 Q361.101 1410.7 355.29 1410.7 Q349.48 1410.7 346.402 1406.11 Q343.346 1401.51 343.346 1392.78 Q343.346 1384.03 346.402 1379.45 Q349.48 1374.84 355.29 1374.84 Z\" fill=\"#000000\" fill-rule=\"evenodd\" fill-opacity=\"1\" /><path clip-path=\"url(#clip480)\" d=\"M477.226 1411.74 L506.901 1411.74 L506.901 1415.67 L477.226 1415.67 L477.226 1411.74 Z\" fill=\"#000000\" fill-rule=\"evenodd\" fill-opacity=\"1\" /><path clip-path=\"url(#clip480)\" d=\"M526.994 1397.08 Q523.383 1397.08 521.554 1400.65 Q519.749 1404.19 519.749 1411.32 Q519.749 1418.43 521.554 1421.99 Q523.383 1425.53 526.994 1425.53 Q530.628 1425.53 532.434 1421.99 Q534.262 1418.43 534.262 1411.32 Q534.262 1404.19 532.434 1400.65 Q530.628 1397.08 526.994 1397.08 M526.994 1393.38 Q532.804 1393.38 535.86 1397.99 Q538.938 1402.57 538.938 1411.32 Q538.938 1420.05 535.86 1424.65 Q532.804 1429.24 526.994 1429.24 Q521.184 1429.24 518.105 1424.65 Q515.05 1420.05 515.05 1411.32 Q515.05 1402.57 518.105 1397.99 Q521.184 1393.38 526.994 1393.38 Z\" fill=\"#000000\" fill-rule=\"evenodd\" fill-opacity=\"1\" /><path clip-path=\"url(#clip480)\" d=\"M547.156 1422.69 L552.04 1422.69 L552.04 1428.57 L547.156 1428.57 L547.156 1422.69 Z\" fill=\"#000000\" fill-rule=\"evenodd\" fill-opacity=\"1\" /><path clip-path=\"url(#clip480)\" d=\"M561.045 1394.01 L583.267 1394.01 L583.267 1396 L570.721 1428.57 L565.836 1428.57 L577.642 1397.94 L561.045 1397.94 L561.045 1394.01 Z\" fill=\"#000000\" fill-rule=\"evenodd\" fill-opacity=\"1\" /><path clip-path=\"url(#clip480)\" d=\"M592.433 1394.01 L610.79 1394.01 L610.79 1397.94 L596.716 1397.94 L596.716 1406.41 Q597.734 1406.07 598.753 1405.9 Q599.771 1405.72 600.79 1405.72 Q606.577 1405.72 609.956 1408.89 Q613.336 1412.06 613.336 1417.48 Q613.336 1423.06 609.864 1426.16 Q606.392 1429.24 600.072 1429.24 Q597.896 1429.24 595.628 1428.87 Q593.382 1428.5 590.975 1427.75 L590.975 1423.06 Q593.058 1424.19 595.281 1424.75 Q597.503 1425.3 599.98 1425.3 Q603.984 1425.3 606.322 1423.19 Q608.66 1421.09 608.66 1417.48 Q608.66 1413.87 606.322 1411.76 Q603.984 1409.65 599.98 1409.65 Q598.105 1409.65 596.23 1410.07 Q594.378 1410.49 592.433 1411.37 L592.433 1394.01 Z\" fill=\"#000000\" fill-rule=\"evenodd\" fill-opacity=\"1\" /><path clip-path=\"url(#clip480)\" d=\"M723.327 1430.28 L753.003 1430.28 L753.003 1434.21 L723.327 1434.21 L723.327 1430.28 Z\" fill=\"#000000\" fill-rule=\"evenodd\" fill-opacity=\"1\" /><path clip-path=\"url(#clip480)\" d=\"M773.095 1415.62 Q769.484 1415.62 767.655 1419.19 Q765.85 1422.73 765.85 1429.86 Q765.85 1436.97 767.655 1440.53 Q769.484 1444.07 773.095 1444.07 Q776.729 1444.07 778.535 1440.53 Q780.364 1436.97 780.364 1429.86 Q780.364 1422.73 778.535 1419.19 Q776.729 1415.62 773.095 1415.62 M773.095 1411.92 Q778.905 1411.92 781.961 1416.53 Q785.04 1421.11 785.04 1429.86 Q785.04 1438.59 781.961 1443.19 Q778.905 1447.78 773.095 1447.78 Q767.285 1447.78 764.206 1443.19 Q761.151 1438.59 761.151 1429.86 Q761.151 1421.11 764.206 1416.53 Q767.285 1411.92 773.095 1411.92 Z\" fill=\"#000000\" fill-rule=\"evenodd\" fill-opacity=\"1\" /><path clip-path=\"url(#clip480)\" d=\"M793.257 1441.22 L798.141 1441.22 L798.141 1447.1 L793.257 1447.1 L793.257 1441.22 Z\" fill=\"#000000\" fill-rule=\"evenodd\" fill-opacity=\"1\" /><path clip-path=\"url(#clip480)\" d=\"M808.373 1412.54 L826.729 1412.54 L826.729 1416.48 L812.655 1416.48 L812.655 1424.95 Q813.674 1424.6 814.692 1424.44 Q815.711 1424.26 816.729 1424.26 Q822.516 1424.26 825.896 1427.43 Q829.275 1430.6 829.275 1436.02 Q829.275 1441.59 825.803 1444.7 Q822.331 1447.78 816.012 1447.78 Q813.836 1447.78 811.567 1447.4 Q809.322 1447.03 806.914 1446.29 L806.914 1441.59 Q808.998 1442.73 811.22 1443.28 Q813.442 1443.84 815.919 1443.84 Q819.924 1443.84 822.262 1441.73 Q824.6 1439.63 824.6 1436.02 Q824.6 1432.4 822.262 1430.3 Q819.924 1428.19 815.919 1428.19 Q814.044 1428.19 812.169 1428.61 Q810.317 1429.03 808.373 1429.9 L808.373 1412.54 Z\" fill=\"#000000\" fill-rule=\"evenodd\" fill-opacity=\"1\" /><path clip-path=\"url(#clip480)\" d=\"M848.488 1415.62 Q844.877 1415.62 843.049 1419.19 Q841.243 1422.73 841.243 1429.86 Q841.243 1436.97 843.049 1440.53 Q844.877 1444.07 848.488 1444.07 Q852.123 1444.07 853.928 1440.53 Q855.757 1436.97 855.757 1429.86 Q855.757 1422.73 853.928 1419.19 Q852.123 1415.62 848.488 1415.62 M848.488 1411.92 Q854.298 1411.92 857.354 1416.53 Q860.433 1421.11 860.433 1429.86 Q860.433 1438.59 857.354 1443.19 Q854.298 1447.78 848.488 1447.78 Q842.678 1447.78 839.599 1443.19 Q836.544 1438.59 836.544 1429.86 Q836.544 1421.11 839.599 1416.53 Q842.678 1411.92 848.488 1411.92 Z\" fill=\"#000000\" fill-rule=\"evenodd\" fill-opacity=\"1\" /><path clip-path=\"url(#clip480)\" d=\"M970.424 1448.81 L1000.1 1448.81 L1000.1 1452.75 L970.424 1452.75 L970.424 1448.81 Z\" fill=\"#000000\" fill-rule=\"evenodd\" fill-opacity=\"1\" /><path clip-path=\"url(#clip480)\" d=\"M1020.19 1434.16 Q1016.58 1434.16 1014.75 1437.73 Q1012.95 1441.27 1012.95 1448.4 Q1012.95 1455.5 1014.75 1459.07 Q1016.58 1462.61 1020.19 1462.61 Q1023.83 1462.61 1025.63 1459.07 Q1027.46 1455.5 1027.46 1448.4 Q1027.46 1441.27 1025.63 1437.73 Q1023.83 1434.16 1020.19 1434.16 M1020.19 1430.46 Q1026 1430.46 1029.06 1435.06 Q1032.14 1439.65 1032.14 1448.4 Q1032.14 1457.12 1029.06 1461.73 Q1026 1466.31 1020.19 1466.31 Q1014.38 1466.31 1011.3 1461.73 Q1008.25 1457.12 1008.25 1448.4 Q1008.25 1439.65 1011.3 1435.06 Q1014.38 1430.46 1020.19 1430.46 Z\" fill=\"#000000\" fill-rule=\"evenodd\" fill-opacity=\"1\" /><path clip-path=\"url(#clip480)\" d=\"M1040.35 1459.76 L1045.24 1459.76 L1045.24 1465.64 L1040.35 1465.64 L1040.35 1459.76 Z\" fill=\"#000000\" fill-rule=\"evenodd\" fill-opacity=\"1\" /><path clip-path=\"url(#clip480)\" d=\"M1059.45 1461.71 L1075.77 1461.71 L1075.77 1465.64 L1053.83 1465.64 L1053.83 1461.71 Q1056.49 1458.95 1061.07 1454.32 Q1065.68 1449.67 1066.86 1448.33 Q1069.1 1445.8 1069.98 1444.07 Q1070.89 1442.31 1070.89 1440.62 Q1070.89 1437.87 1068.94 1436.13 Q1067.02 1434.39 1063.92 1434.39 Q1061.72 1434.39 1059.27 1435.16 Q1056.84 1435.92 1054.06 1437.47 L1054.06 1432.75 Q1056.88 1431.62 1059.34 1431.04 Q1061.79 1430.46 1063.83 1430.46 Q1069.2 1430.46 1072.39 1433.14 Q1075.59 1435.83 1075.59 1440.32 Q1075.59 1442.45 1074.77 1444.37 Q1073.99 1446.27 1071.88 1448.86 Q1071.3 1449.53 1068.2 1452.75 Q1065.1 1455.94 1059.45 1461.71 Z\" fill=\"#000000\" fill-rule=\"evenodd\" fill-opacity=\"1\" /><path clip-path=\"url(#clip480)\" d=\"M1085.63 1431.08 L1103.99 1431.08 L1103.99 1435.02 L1089.91 1435.02 L1089.91 1443.49 Q1090.93 1443.14 1091.95 1442.98 Q1092.97 1442.8 1093.99 1442.8 Q1099.77 1442.8 1103.15 1445.97 Q1106.53 1449.14 1106.53 1454.55 Q1106.53 1460.13 1103.06 1463.24 Q1099.59 1466.31 1093.27 1466.31 Q1091.09 1466.31 1088.83 1465.94 Q1086.58 1465.57 1084.17 1464.83 L1084.17 1460.13 Q1086.26 1461.27 1088.48 1461.82 Q1090.7 1462.38 1093.18 1462.38 Q1097.18 1462.38 1099.52 1460.27 Q1101.86 1458.17 1101.86 1454.55 Q1101.86 1450.94 1099.52 1448.84 Q1097.18 1446.73 1093.18 1446.73 Q1091.3 1446.73 1089.43 1447.15 Q1087.58 1447.56 1085.63 1448.44 L1085.63 1431.08 Z\" fill=\"#000000\" fill-rule=\"evenodd\" fill-opacity=\"1\" /><path clip-path=\"url(#clip480)\" d=\"M1247.38 1452.7 Q1243.77 1452.7 1241.94 1456.27 Q1240.14 1459.81 1240.14 1466.94 Q1240.14 1474.04 1241.94 1477.61 Q1243.77 1481.15 1247.38 1481.15 Q1251.02 1481.15 1252.82 1477.61 Q1254.65 1474.04 1254.65 1466.94 Q1254.65 1459.81 1252.82 1456.27 Q1251.02 1452.7 1247.38 1452.7 M1247.38 1449 Q1253.19 1449 1256.25 1453.6 Q1259.33 1458.19 1259.33 1466.94 Q1259.33 1475.66 1256.25 1480.27 Q1253.19 1484.85 1247.38 1484.85 Q1241.57 1484.85 1238.49 1480.27 Q1235.44 1475.66 1235.44 1466.94 Q1235.44 1458.19 1238.49 1453.6 Q1241.57 1449 1247.38 1449 Z\" fill=\"#000000\" fill-rule=\"evenodd\" fill-opacity=\"1\" /><path clip-path=\"url(#clip480)\" d=\"M1267.54 1478.3 L1272.43 1478.3 L1272.43 1484.18 L1267.54 1484.18 L1267.54 1478.3 Z\" fill=\"#000000\" fill-rule=\"evenodd\" fill-opacity=\"1\" /><path clip-path=\"url(#clip480)\" d=\"M1292.61 1452.7 Q1289 1452.7 1287.17 1456.27 Q1285.37 1459.81 1285.37 1466.94 Q1285.37 1474.04 1287.17 1477.61 Q1289 1481.15 1292.61 1481.15 Q1296.25 1481.15 1298.05 1477.61 Q1299.88 1474.04 1299.88 1466.94 Q1299.88 1459.81 1298.05 1456.27 Q1296.25 1452.7 1292.61 1452.7 M1292.61 1449 Q1298.42 1449 1301.48 1453.6 Q1304.56 1458.19 1304.56 1466.94 Q1304.56 1475.66 1301.48 1480.27 Q1298.42 1484.85 1292.61 1484.85 Q1286.8 1484.85 1283.72 1480.27 Q1280.67 1475.66 1280.67 1466.94 Q1280.67 1458.19 1283.72 1453.6 Q1286.8 1449 1292.61 1449 Z\" fill=\"#000000\" fill-rule=\"evenodd\" fill-opacity=\"1\" /><path clip-path=\"url(#clip480)\" d=\"M1322.77 1452.7 Q1319.16 1452.7 1317.33 1456.27 Q1315.53 1459.81 1315.53 1466.94 Q1315.53 1474.04 1317.33 1477.61 Q1319.16 1481.15 1322.77 1481.15 Q1326.41 1481.15 1328.21 1477.61 Q1330.04 1474.04 1330.04 1466.94 Q1330.04 1459.81 1328.21 1456.27 Q1326.41 1452.7 1322.77 1452.7 M1322.77 1449 Q1328.58 1449 1331.64 1453.6 Q1334.72 1458.19 1334.72 1466.94 Q1334.72 1475.66 1331.64 1480.27 Q1328.58 1484.85 1322.77 1484.85 Q1316.96 1484.85 1313.89 1480.27 Q1310.83 1475.66 1310.83 1466.94 Q1310.83 1458.19 1313.89 1453.6 Q1316.96 1449 1322.77 1449 Z\" fill=\"#000000\" fill-rule=\"evenodd\" fill-opacity=\"1\" /><path clip-path=\"url(#clip480)\" d=\"M721.447 1527.04 L708.557 1544.38 L722.116 1562.68 L715.209 1562.68 L704.833 1548.68 L694.457 1562.68 L687.55 1562.68 L701.395 1544.03 L688.728 1527.04 L695.634 1527.04 L705.088 1539.74 L714.541 1527.04 L721.447 1527.04 Z\" fill=\"#000000\" fill-rule=\"evenodd\" fill-opacity=\"1\" /><polyline clip-path=\"url(#clip482)\" style=\"stroke:#000000; stroke-linecap:butt; stroke-linejoin:round; stroke-width:2; stroke-opacity:0.1; fill:none\" points=\"\n",
       "  1398.34,1411.54 317.162,1330.26 \n",
       "  \"/>\n",
       "<polyline clip-path=\"url(#clip482)\" style=\"stroke:#000000; stroke-linecap:butt; stroke-linejoin:round; stroke-width:2; stroke-opacity:0.1; fill:none\" points=\"\n",
       "  317.162,1330.26 317.162,279.447 \n",
       "  \"/>\n",
       "<polyline clip-path=\"url(#clip482)\" style=\"stroke:#000000; stroke-linecap:butt; stroke-linejoin:round; stroke-width:2; stroke-opacity:0.1; fill:none\" points=\"\n",
       "  1517.63,1364.94 436.458,1283.66 \n",
       "  \"/>\n",
       "<polyline clip-path=\"url(#clip482)\" style=\"stroke:#000000; stroke-linecap:butt; stroke-linejoin:round; stroke-width:2; stroke-opacity:0.1; fill:none\" points=\"\n",
       "  436.458,1283.66 436.458,232.845 \n",
       "  \"/>\n",
       "<polyline clip-path=\"url(#clip482)\" style=\"stroke:#000000; stroke-linecap:butt; stroke-linejoin:round; stroke-width:2; stroke-opacity:0.1; fill:none\" points=\"\n",
       "  1636.93,1318.34 555.754,1237.06 \n",
       "  \"/>\n",
       "<polyline clip-path=\"url(#clip482)\" style=\"stroke:#000000; stroke-linecap:butt; stroke-linejoin:round; stroke-width:2; stroke-opacity:0.1; fill:none\" points=\"\n",
       "  555.754,1237.06 555.754,186.244 \n",
       "  \"/>\n",
       "<polyline clip-path=\"url(#clip482)\" style=\"stroke:#000000; stroke-linecap:butt; stroke-linejoin:round; stroke-width:2; stroke-opacity:0.1; fill:none\" points=\"\n",
       "  1756.22,1271.74 675.05,1190.46 \n",
       "  \"/>\n",
       "<polyline clip-path=\"url(#clip482)\" style=\"stroke:#000000; stroke-linecap:butt; stroke-linejoin:round; stroke-width:2; stroke-opacity:0.1; fill:none\" points=\"\n",
       "  675.05,1190.46 675.05,139.642 \n",
       "  \"/>\n",
       "<polyline clip-path=\"url(#clip482)\" style=\"stroke:#000000; stroke-linecap:butt; stroke-linejoin:round; stroke-width:2; stroke-opacity:0.1; fill:none\" points=\"\n",
       "  1875.52,1225.13 794.346,1143.85 \n",
       "  \"/>\n",
       "<polyline clip-path=\"url(#clip482)\" style=\"stroke:#000000; stroke-linecap:butt; stroke-linejoin:round; stroke-width:2; stroke-opacity:0.1; fill:none\" points=\"\n",
       "  794.346,1143.85 794.346,93.0409 \n",
       "  \"/>\n",
       "<polyline clip-path=\"url(#clip480)\" style=\"stroke:#000000; stroke-linecap:butt; stroke-linejoin:round; stroke-width:4; stroke-opacity:1; fill:none\" points=\"\n",
       "  1368.54,1423.18 1992.76,1179.34 \n",
       "  \"/>\n",
       "<polyline clip-path=\"url(#clip480)\" style=\"stroke:#000000; stroke-linecap:butt; stroke-linejoin:round; stroke-width:4; stroke-opacity:1; fill:none\" points=\"\n",
       "  1398.34,1411.54 1385.36,1410.57 \n",
       "  \"/>\n",
       "<polyline clip-path=\"url(#clip480)\" style=\"stroke:#000000; stroke-linecap:butt; stroke-linejoin:round; stroke-width:4; stroke-opacity:1; fill:none\" points=\"\n",
       "  1517.63,1364.94 1504.66,1363.96 \n",
       "  \"/>\n",
       "<polyline clip-path=\"url(#clip480)\" style=\"stroke:#000000; stroke-linecap:butt; stroke-linejoin:round; stroke-width:4; stroke-opacity:1; fill:none\" points=\"\n",
       "  1636.93,1318.34 1623.95,1317.36 \n",
       "  \"/>\n",
       "<polyline clip-path=\"url(#clip480)\" style=\"stroke:#000000; stroke-linecap:butt; stroke-linejoin:round; stroke-width:4; stroke-opacity:1; fill:none\" points=\"\n",
       "  1756.22,1271.74 1743.25,1270.76 \n",
       "  \"/>\n",
       "<polyline clip-path=\"url(#clip480)\" style=\"stroke:#000000; stroke-linecap:butt; stroke-linejoin:round; stroke-width:4; stroke-opacity:1; fill:none\" points=\"\n",
       "  1875.52,1225.13 1862.55,1224.16 \n",
       "  \"/>\n",
       "<path clip-path=\"url(#clip480)\" d=\"M1399.72 1445.53 Q1396.11 1445.53 1394.28 1449.1 Q1392.47 1452.64 1392.47 1459.77 Q1392.47 1466.87 1394.28 1470.44 Q1396.11 1473.98 1399.72 1473.98 Q1403.35 1473.98 1405.16 1470.44 Q1406.99 1466.87 1406.99 1459.77 Q1406.99 1452.64 1405.16 1449.1 Q1403.35 1445.53 1399.72 1445.53 M1399.72 1441.83 Q1405.53 1441.83 1408.59 1446.43 Q1411.66 1451.02 1411.66 1459.77 Q1411.66 1468.49 1408.59 1473.1 Q1405.53 1477.68 1399.72 1477.68 Q1393.91 1477.68 1390.83 1473.1 Q1387.78 1468.49 1387.78 1459.77 Q1387.78 1451.02 1390.83 1446.43 Q1393.91 1441.83 1399.72 1441.83 Z\" fill=\"#000000\" fill-rule=\"evenodd\" fill-opacity=\"1\" /><path clip-path=\"url(#clip480)\" d=\"M1419.88 1471.13 L1424.77 1471.13 L1424.77 1477.01 L1419.88 1477.01 L1419.88 1471.13 Z\" fill=\"#000000\" fill-rule=\"evenodd\" fill-opacity=\"1\" /><path clip-path=\"url(#clip480)\" d=\"M1444.95 1445.53 Q1441.34 1445.53 1439.51 1449.1 Q1437.71 1452.64 1437.71 1459.77 Q1437.71 1466.87 1439.51 1470.44 Q1441.34 1473.98 1444.95 1473.98 Q1448.59 1473.98 1450.39 1470.44 Q1452.22 1466.87 1452.22 1459.77 Q1452.22 1452.64 1450.39 1449.1 Q1448.59 1445.53 1444.95 1445.53 M1444.95 1441.83 Q1450.76 1441.83 1453.82 1446.43 Q1456.9 1451.02 1456.9 1459.77 Q1456.9 1468.49 1453.82 1473.1 Q1450.76 1477.68 1444.95 1477.68 Q1439.14 1477.68 1436.06 1473.1 Q1433.01 1468.49 1433.01 1459.77 Q1433.01 1451.02 1436.06 1446.43 Q1439.14 1441.83 1444.95 1441.83 Z\" fill=\"#000000\" fill-rule=\"evenodd\" fill-opacity=\"1\" /><path clip-path=\"url(#clip480)\" d=\"M1519.81 1398.93 Q1516.2 1398.93 1514.37 1402.49 Q1512.57 1406.04 1512.57 1413.17 Q1512.57 1420.27 1514.37 1423.84 Q1516.2 1427.38 1519.81 1427.38 Q1523.45 1427.38 1525.25 1423.84 Q1527.08 1420.27 1527.08 1413.17 Q1527.08 1406.04 1525.25 1402.49 Q1523.45 1398.93 1519.81 1398.93 M1519.81 1395.23 Q1525.62 1395.23 1528.68 1399.83 Q1531.76 1404.42 1531.76 1413.17 Q1531.76 1421.89 1528.68 1426.5 Q1525.62 1431.08 1519.81 1431.08 Q1514 1431.08 1510.93 1426.5 Q1507.87 1421.89 1507.87 1413.17 Q1507.87 1404.42 1510.93 1399.83 Q1514 1395.23 1519.81 1395.23 Z\" fill=\"#000000\" fill-rule=\"evenodd\" fill-opacity=\"1\" /><path clip-path=\"url(#clip480)\" d=\"M1539.98 1424.53 L1544.86 1424.53 L1544.86 1430.41 L1539.98 1430.41 L1539.98 1424.53 Z\" fill=\"#000000\" fill-rule=\"evenodd\" fill-opacity=\"1\" /><path clip-path=\"url(#clip480)\" d=\"M1559.07 1426.48 L1575.39 1426.48 L1575.39 1430.41 L1553.45 1430.41 L1553.45 1426.48 Q1556.11 1423.72 1560.69 1419.09 Q1565.3 1414.44 1566.48 1413.1 Q1568.73 1410.57 1569.61 1408.84 Q1570.51 1407.08 1570.51 1405.39 Q1570.51 1402.63 1568.56 1400.9 Q1566.64 1399.16 1563.54 1399.16 Q1561.34 1399.16 1558.89 1399.93 Q1556.46 1400.69 1553.68 1402.24 L1553.68 1397.52 Q1556.5 1396.38 1558.96 1395.8 Q1561.41 1395.23 1563.45 1395.23 Q1568.82 1395.23 1572.01 1397.91 Q1575.21 1400.6 1575.21 1405.09 Q1575.21 1407.22 1574.4 1409.14 Q1573.61 1411.04 1571.5 1413.63 Q1570.93 1414.3 1567.82 1417.52 Q1564.72 1420.71 1559.07 1426.48 Z\" fill=\"#000000\" fill-rule=\"evenodd\" fill-opacity=\"1\" /><path clip-path=\"url(#clip480)\" d=\"M1638.07 1352.33 Q1634.46 1352.33 1632.63 1355.89 Q1630.82 1359.43 1630.82 1366.56 Q1630.82 1373.67 1632.63 1377.24 Q1634.46 1380.78 1638.07 1380.78 Q1641.7 1380.78 1643.51 1377.24 Q1645.34 1373.67 1645.34 1366.56 Q1645.34 1359.43 1643.51 1355.89 Q1641.7 1352.33 1638.07 1352.33 M1638.07 1348.62 Q1643.88 1348.62 1646.93 1353.23 Q1650.01 1357.81 1650.01 1366.56 Q1650.01 1375.29 1646.93 1379.9 Q1643.88 1384.48 1638.07 1384.48 Q1632.26 1384.48 1629.18 1379.9 Q1626.12 1375.29 1626.12 1366.56 Q1626.12 1357.81 1629.18 1353.23 Q1632.26 1348.62 1638.07 1348.62 Z\" fill=\"#000000\" fill-rule=\"evenodd\" fill-opacity=\"1\" /><path clip-path=\"url(#clip480)\" d=\"M1658.23 1377.93 L1663.12 1377.93 L1663.12 1383.81 L1658.23 1383.81 L1658.23 1377.93 Z\" fill=\"#000000\" fill-rule=\"evenodd\" fill-opacity=\"1\" /><path clip-path=\"url(#clip480)\" d=\"M1686.15 1353.32 L1674.34 1371.77 L1686.15 1371.77 L1686.15 1353.32 M1684.92 1349.25 L1690.8 1349.25 L1690.8 1371.77 L1695.73 1371.77 L1695.73 1375.66 L1690.8 1375.66 L1690.8 1383.81 L1686.15 1383.81 L1686.15 1375.66 L1670.55 1375.66 L1670.55 1371.15 L1684.92 1349.25 Z\" fill=\"#000000\" fill-rule=\"evenodd\" fill-opacity=\"1\" /><path clip-path=\"url(#clip480)\" d=\"M1757.53 1305.73 Q1753.92 1305.73 1752.09 1309.29 Q1750.28 1312.83 1750.28 1319.96 Q1750.28 1327.07 1752.09 1330.63 Q1753.92 1334.18 1757.53 1334.18 Q1761.16 1334.18 1762.97 1330.63 Q1764.8 1327.07 1764.8 1319.96 Q1764.8 1312.83 1762.97 1309.29 Q1761.16 1305.73 1757.53 1305.73 M1757.53 1302.02 Q1763.34 1302.02 1766.39 1306.63 Q1769.47 1311.21 1769.47 1319.96 Q1769.47 1328.69 1766.39 1333.3 Q1763.34 1337.88 1757.53 1337.88 Q1751.72 1337.88 1748.64 1333.3 Q1745.58 1328.69 1745.58 1319.96 Q1745.58 1311.21 1748.64 1306.63 Q1751.72 1302.02 1757.53 1302.02 Z\" fill=\"#000000\" fill-rule=\"evenodd\" fill-opacity=\"1\" /><path clip-path=\"url(#clip480)\" d=\"M1777.69 1331.33 L1782.57 1331.33 L1782.57 1337.21 L1777.69 1337.21 L1777.69 1331.33 Z\" fill=\"#000000\" fill-rule=\"evenodd\" fill-opacity=\"1\" /><path clip-path=\"url(#clip480)\" d=\"M1803.34 1318.06 Q1800.19 1318.06 1798.34 1320.22 Q1796.51 1322.37 1796.51 1326.12 Q1796.51 1329.85 1798.34 1332.02 Q1800.19 1334.18 1803.34 1334.18 Q1806.49 1334.18 1808.31 1332.02 Q1810.17 1329.85 1810.17 1326.12 Q1810.17 1322.37 1808.31 1320.22 Q1806.49 1318.06 1803.34 1318.06 M1812.62 1303.41 L1812.62 1307.67 Q1810.86 1306.84 1809.05 1306.4 Q1807.27 1305.96 1805.51 1305.96 Q1800.88 1305.96 1798.43 1309.08 Q1796 1312.21 1795.65 1318.53 Q1797.02 1316.51 1799.08 1315.45 Q1801.14 1314.36 1803.61 1314.36 Q1808.82 1314.36 1811.83 1317.53 Q1814.86 1320.68 1814.86 1326.12 Q1814.86 1331.44 1811.72 1334.66 Q1808.57 1337.88 1803.34 1337.88 Q1797.34 1337.88 1794.17 1333.3 Q1791 1328.69 1791 1319.96 Q1791 1311.77 1794.89 1306.91 Q1798.78 1302.02 1805.33 1302.02 Q1807.09 1302.02 1808.87 1302.37 Q1810.67 1302.72 1812.62 1303.41 Z\" fill=\"#000000\" fill-rule=\"evenodd\" fill-opacity=\"1\" /><path clip-path=\"url(#clip480)\" d=\"M1876.95 1259.13 Q1873.34 1259.13 1871.51 1262.69 Q1869.71 1266.23 1869.71 1273.36 Q1869.71 1280.47 1871.51 1284.03 Q1873.34 1287.57 1876.95 1287.57 Q1880.58 1287.57 1882.39 1284.03 Q1884.22 1280.47 1884.22 1273.36 Q1884.22 1266.23 1882.39 1262.69 Q1880.58 1259.13 1876.95 1259.13 M1876.95 1255.42 Q1882.76 1255.42 1885.82 1260.03 Q1888.89 1264.61 1888.89 1273.36 Q1888.89 1282.09 1885.82 1286.69 Q1882.76 1291.28 1876.95 1291.28 Q1871.14 1291.28 1868.06 1286.69 Q1865.01 1282.09 1865.01 1273.36 Q1865.01 1264.61 1868.06 1260.03 Q1871.14 1255.42 1876.95 1255.42 Z\" fill=\"#000000\" fill-rule=\"evenodd\" fill-opacity=\"1\" /><path clip-path=\"url(#clip480)\" d=\"M1897.11 1284.73 L1902 1284.73 L1902 1290.61 L1897.11 1290.61 L1897.11 1284.73 Z\" fill=\"#000000\" fill-rule=\"evenodd\" fill-opacity=\"1\" /><path clip-path=\"url(#clip480)\" d=\"M1922.18 1274.19 Q1918.85 1274.19 1916.93 1275.98 Q1915.03 1277.76 1915.03 1280.88 Q1915.03 1284.01 1916.93 1285.79 Q1918.85 1287.57 1922.18 1287.57 Q1925.51 1287.57 1927.44 1285.79 Q1929.36 1283.99 1929.36 1280.88 Q1929.36 1277.76 1927.44 1275.98 Q1925.54 1274.19 1922.18 1274.19 M1917.51 1272.2 Q1914.5 1271.46 1912.81 1269.4 Q1911.14 1267.34 1911.14 1264.38 Q1911.14 1260.24 1914.08 1257.83 Q1917.04 1255.42 1922.18 1255.42 Q1927.34 1255.42 1930.28 1257.83 Q1933.22 1260.24 1933.22 1264.38 Q1933.22 1267.34 1931.53 1269.4 Q1929.87 1271.46 1926.88 1272.2 Q1930.26 1272.99 1932.14 1275.28 Q1934.03 1277.57 1934.03 1280.88 Q1934.03 1285.91 1930.95 1288.59 Q1927.9 1291.28 1922.18 1291.28 Q1916.46 1291.28 1913.39 1288.59 Q1910.33 1285.91 1910.33 1280.88 Q1910.33 1277.57 1912.23 1275.28 Q1914.13 1272.99 1917.51 1272.2 M1915.79 1264.82 Q1915.79 1267.5 1917.46 1269.01 Q1919.15 1270.51 1922.18 1270.51 Q1925.19 1270.51 1926.88 1269.01 Q1928.59 1267.5 1928.59 1264.82 Q1928.59 1262.13 1926.88 1260.63 Q1925.19 1259.13 1922.18 1259.13 Q1919.15 1259.13 1917.46 1260.63 Q1915.79 1262.13 1915.79 1264.82 Z\" fill=\"#000000\" fill-rule=\"evenodd\" fill-opacity=\"1\" /><path clip-path=\"url(#clip480)\" d=\"M1805.45 1484.71 Q1802.97 1491.08 1800.62 1493.02 Q1798.26 1494.96 1794.31 1494.96 L1789.64 1494.96 L1789.64 1490.06 L1793.07 1490.06 Q1795.49 1490.06 1796.83 1488.91 Q1798.17 1487.77 1799.79 1483.5 L1800.84 1480.83 L1786.42 1445.75 L1792.63 1445.75 L1803.77 1473.64 L1814.91 1445.75 L1821.11 1445.75 L1805.45 1484.71 Z\" fill=\"#000000\" fill-rule=\"evenodd\" fill-opacity=\"1\" /><polyline clip-path=\"url(#clip482)\" style=\"stroke:#000000; stroke-linecap:butt; stroke-linejoin:round; stroke-width:2; stroke-opacity:0.1; fill:none\" points=\"\n",
       "  287.366,1312.16 911.582,1068.32 \n",
       "  \"/>\n",
       "<polyline clip-path=\"url(#clip482)\" style=\"stroke:#000000; stroke-linecap:butt; stroke-linejoin:round; stroke-width:2; stroke-opacity:0.1; fill:none\" points=\"\n",
       "  911.582,1068.32 1992.76,1149.6 \n",
       "  \"/>\n",
       "<polyline clip-path=\"url(#clip482)\" style=\"stroke:#000000; stroke-linecap:butt; stroke-linejoin:round; stroke-width:2; stroke-opacity:0.1; fill:none\" points=\"\n",
       "  287.366,1064.33 911.582,820.484 \n",
       "  \"/>\n",
       "<polyline clip-path=\"url(#clip482)\" style=\"stroke:#000000; stroke-linecap:butt; stroke-linejoin:round; stroke-width:2; stroke-opacity:0.1; fill:none\" points=\"\n",
       "  911.582,820.484 1992.76,901.765 \n",
       "  \"/>\n",
       "<polyline clip-path=\"url(#clip482)\" style=\"stroke:#000000; stroke-linecap:butt; stroke-linejoin:round; stroke-width:2; stroke-opacity:0.1; fill:none\" points=\"\n",
       "  287.366,816.493 911.582,572.651 \n",
       "  \"/>\n",
       "<polyline clip-path=\"url(#clip482)\" style=\"stroke:#000000; stroke-linecap:butt; stroke-linejoin:round; stroke-width:2; stroke-opacity:0.1; fill:none\" points=\"\n",
       "  911.582,572.651 1992.76,653.931 \n",
       "  \"/>\n",
       "<polyline clip-path=\"url(#clip482)\" style=\"stroke:#000000; stroke-linecap:butt; stroke-linejoin:round; stroke-width:2; stroke-opacity:0.1; fill:none\" points=\"\n",
       "  287.366,568.659 911.582,324.817 \n",
       "  \"/>\n",
       "<polyline clip-path=\"url(#clip482)\" style=\"stroke:#000000; stroke-linecap:butt; stroke-linejoin:round; stroke-width:2; stroke-opacity:0.1; fill:none\" points=\"\n",
       "  911.582,324.817 1992.76,406.098 \n",
       "  \"/>\n",
       "<polyline clip-path=\"url(#clip482)\" style=\"stroke:#000000; stroke-linecap:butt; stroke-linejoin:round; stroke-width:2; stroke-opacity:0.1; fill:none\" points=\"\n",
       "  287.366,320.826 911.582,76.9841 \n",
       "  \"/>\n",
       "<polyline clip-path=\"url(#clip482)\" style=\"stroke:#000000; stroke-linecap:butt; stroke-linejoin:round; stroke-width:2; stroke-opacity:0.1; fill:none\" points=\"\n",
       "  911.582,76.9841 1992.76,158.265 \n",
       "  \"/>\n",
       "<polyline clip-path=\"url(#clip480)\" style=\"stroke:#000000; stroke-linecap:butt; stroke-linejoin:round; stroke-width:4; stroke-opacity:1; fill:none\" points=\"\n",
       "  287.366,1341.9 287.366,291.086 \n",
       "  \"/>\n",
       "<polyline clip-path=\"url(#clip480)\" style=\"stroke:#000000; stroke-linecap:butt; stroke-linejoin:round; stroke-width:4; stroke-opacity:1; fill:none\" points=\"\n",
       "  287.366,1312.16 294.856,1309.23 \n",
       "  \"/>\n",
       "<polyline clip-path=\"url(#clip480)\" style=\"stroke:#000000; stroke-linecap:butt; stroke-linejoin:round; stroke-width:4; stroke-opacity:1; fill:none\" points=\"\n",
       "  287.366,1064.33 294.856,1061.4 \n",
       "  \"/>\n",
       "<polyline clip-path=\"url(#clip480)\" style=\"stroke:#000000; stroke-linecap:butt; stroke-linejoin:round; stroke-width:4; stroke-opacity:1; fill:none\" points=\"\n",
       "  287.366,816.493 294.856,813.567 \n",
       "  \"/>\n",
       "<polyline clip-path=\"url(#clip480)\" style=\"stroke:#000000; stroke-linecap:butt; stroke-linejoin:round; stroke-width:4; stroke-opacity:1; fill:none\" points=\"\n",
       "  287.366,568.659 294.856,565.733 \n",
       "  \"/>\n",
       "<polyline clip-path=\"url(#clip480)\" style=\"stroke:#000000; stroke-linecap:butt; stroke-linejoin:round; stroke-width:4; stroke-opacity:1; fill:none\" points=\"\n",
       "  287.366,320.826 294.856,317.9 \n",
       "  \"/>\n",
       "<path clip-path=\"url(#clip480)\" d=\"M126.26 1312.61 L155.936 1312.61 L155.936 1316.55 L126.26 1316.55 L126.26 1312.61 Z\" fill=\"#000000\" fill-rule=\"evenodd\" fill-opacity=\"1\" /><path clip-path=\"url(#clip480)\" d=\"M166.839 1325.5 L174.477 1325.5 L174.477 1299.14 L166.167 1300.81 L166.167 1296.55 L174.431 1294.88 L179.107 1294.88 L179.107 1325.5 L186.746 1325.5 L186.746 1329.44 L166.839 1329.44 L166.839 1325.5 Z\" fill=\"#000000\" fill-rule=\"evenodd\" fill-opacity=\"1\" /><path clip-path=\"url(#clip480)\" d=\"M196.19 1323.56 L201.075 1323.56 L201.075 1329.44 L196.19 1329.44 L196.19 1323.56 Z\" fill=\"#000000\" fill-rule=\"evenodd\" fill-opacity=\"1\" /><path clip-path=\"url(#clip480)\" d=\"M221.26 1297.96 Q217.649 1297.96 215.82 1301.52 Q214.014 1305.06 214.014 1312.19 Q214.014 1319.3 215.82 1322.87 Q217.649 1326.41 221.26 1326.41 Q224.894 1326.41 226.699 1322.87 Q228.528 1319.3 228.528 1312.19 Q228.528 1305.06 226.699 1301.52 Q224.894 1297.96 221.26 1297.96 M221.26 1294.25 Q227.07 1294.25 230.125 1298.86 Q233.204 1303.44 233.204 1312.19 Q233.204 1320.92 230.125 1325.53 Q227.07 1330.11 221.26 1330.11 Q215.449 1330.11 212.371 1325.53 Q209.315 1320.92 209.315 1312.19 Q209.315 1303.44 212.371 1298.86 Q215.449 1294.25 221.26 1294.25 Z\" fill=\"#000000\" fill-rule=\"evenodd\" fill-opacity=\"1\" /><path clip-path=\"url(#clip480)\" d=\"M251.422 1297.96 Q247.81 1297.96 245.982 1301.52 Q244.176 1305.06 244.176 1312.19 Q244.176 1319.3 245.982 1322.87 Q247.81 1326.41 251.422 1326.41 Q255.056 1326.41 256.861 1322.87 Q258.69 1319.3 258.69 1312.19 Q258.69 1305.06 256.861 1301.52 Q255.056 1297.96 251.422 1297.96 M251.422 1294.25 Q257.232 1294.25 260.287 1298.86 Q263.366 1303.44 263.366 1312.19 Q263.366 1320.92 260.287 1325.53 Q257.232 1330.11 251.422 1330.11 Q245.611 1330.11 242.533 1325.53 Q239.477 1320.92 239.477 1312.19 Q239.477 1303.44 242.533 1298.86 Q245.611 1294.25 251.422 1294.25 Z\" fill=\"#000000\" fill-rule=\"evenodd\" fill-opacity=\"1\" /><path clip-path=\"url(#clip480)\" d=\"M127.256 1064.78 L156.931 1064.78 L156.931 1068.71 L127.256 1068.71 L127.256 1064.78 Z\" fill=\"#000000\" fill-rule=\"evenodd\" fill-opacity=\"1\" /><path clip-path=\"url(#clip480)\" d=\"M177.024 1050.12 Q173.413 1050.12 171.584 1053.69 Q169.778 1057.23 169.778 1064.36 Q169.778 1071.47 171.584 1075.03 Q173.413 1078.57 177.024 1078.57 Q180.658 1078.57 182.464 1075.03 Q184.292 1071.47 184.292 1064.36 Q184.292 1057.23 182.464 1053.69 Q180.658 1050.12 177.024 1050.12 M177.024 1046.42 Q182.834 1046.42 185.889 1051.03 Q188.968 1055.61 188.968 1064.36 Q188.968 1073.09 185.889 1077.69 Q182.834 1082.28 177.024 1082.28 Q171.214 1082.28 168.135 1077.69 Q165.079 1073.09 165.079 1064.36 Q165.079 1055.61 168.135 1051.03 Q171.214 1046.42 177.024 1046.42 Z\" fill=\"#000000\" fill-rule=\"evenodd\" fill-opacity=\"1\" /><path clip-path=\"url(#clip480)\" d=\"M197.186 1075.73 L202.07 1075.73 L202.07 1081.61 L197.186 1081.61 L197.186 1075.73 Z\" fill=\"#000000\" fill-rule=\"evenodd\" fill-opacity=\"1\" /><path clip-path=\"url(#clip480)\" d=\"M211.075 1047.05 L233.297 1047.05 L233.297 1049.04 L220.75 1081.61 L215.866 1081.61 L227.672 1050.98 L211.075 1050.98 L211.075 1047.05 Z\" fill=\"#000000\" fill-rule=\"evenodd\" fill-opacity=\"1\" /><path clip-path=\"url(#clip480)\" d=\"M242.463 1047.05 L260.82 1047.05 L260.82 1050.98 L246.746 1050.98 L246.746 1059.45 Q247.764 1059.11 248.783 1058.94 Q249.801 1058.76 250.82 1058.76 Q256.607 1058.76 259.986 1061.93 Q263.366 1065.1 263.366 1070.52 Q263.366 1076.1 259.894 1079.2 Q256.421 1082.28 250.102 1082.28 Q247.926 1082.28 245.658 1081.91 Q243.412 1081.54 241.005 1080.8 L241.005 1076.1 Q243.088 1077.23 245.31 1077.79 Q247.533 1078.34 250.009 1078.34 Q254.014 1078.34 256.352 1076.24 Q258.69 1074.13 258.69 1070.52 Q258.69 1066.91 256.352 1064.8 Q254.014 1062.69 250.009 1062.69 Q248.135 1062.69 246.26 1063.11 Q244.408 1063.53 242.463 1064.41 L242.463 1047.05 Z\" fill=\"#000000\" fill-rule=\"evenodd\" fill-opacity=\"1\" /><path clip-path=\"url(#clip480)\" d=\"M126.26 816.944 L155.936 816.944 L155.936 820.879 L126.26 820.879 L126.26 816.944 Z\" fill=\"#000000\" fill-rule=\"evenodd\" fill-opacity=\"1\" /><path clip-path=\"url(#clip480)\" d=\"M176.028 802.291 Q172.417 802.291 170.589 805.856 Q168.783 809.398 168.783 816.527 Q168.783 823.634 170.589 827.199 Q172.417 830.74 176.028 830.74 Q179.663 830.74 181.468 827.199 Q183.297 823.634 183.297 816.527 Q183.297 809.398 181.468 805.856 Q179.663 802.291 176.028 802.291 M176.028 798.588 Q181.839 798.588 184.894 803.194 Q187.973 807.777 187.973 816.527 Q187.973 825.254 184.894 829.861 Q181.839 834.444 176.028 834.444 Q170.218 834.444 167.14 829.861 Q164.084 825.254 164.084 816.527 Q164.084 807.777 167.14 803.194 Q170.218 798.588 176.028 798.588 Z\" fill=\"#000000\" fill-rule=\"evenodd\" fill-opacity=\"1\" /><path clip-path=\"url(#clip480)\" d=\"M196.19 827.893 L201.075 827.893 L201.075 833.773 L196.19 833.773 L196.19 827.893 Z\" fill=\"#000000\" fill-rule=\"evenodd\" fill-opacity=\"1\" /><path clip-path=\"url(#clip480)\" d=\"M211.306 799.213 L229.662 799.213 L229.662 803.148 L215.588 803.148 L215.588 811.62 Q216.607 811.273 217.625 811.111 Q218.644 810.926 219.662 810.926 Q225.449 810.926 228.829 814.097 Q232.209 817.268 232.209 822.685 Q232.209 828.263 228.736 831.365 Q225.264 834.444 218.945 834.444 Q216.769 834.444 214.5 834.074 Q212.255 833.703 209.848 832.962 L209.848 828.263 Q211.931 829.398 214.153 829.953 Q216.375 830.509 218.852 830.509 Q222.857 830.509 225.195 828.402 Q227.533 826.296 227.533 822.685 Q227.533 819.074 225.195 816.967 Q222.857 814.861 218.852 814.861 Q216.977 814.861 215.102 815.277 Q213.25 815.694 211.306 816.574 L211.306 799.213 Z\" fill=\"#000000\" fill-rule=\"evenodd\" fill-opacity=\"1\" /><path clip-path=\"url(#clip480)\" d=\"M251.422 802.291 Q247.81 802.291 245.982 805.856 Q244.176 809.398 244.176 816.527 Q244.176 823.634 245.982 827.199 Q247.81 830.74 251.422 830.74 Q255.056 830.74 256.861 827.199 Q258.69 823.634 258.69 816.527 Q258.69 809.398 256.861 805.856 Q255.056 802.291 251.422 802.291 M251.422 798.588 Q257.232 798.588 260.287 803.194 Q263.366 807.777 263.366 816.527 Q263.366 825.254 260.287 829.861 Q257.232 834.444 251.422 834.444 Q245.611 834.444 242.533 829.861 Q239.477 825.254 239.477 816.527 Q239.477 807.777 242.533 803.194 Q245.611 798.588 251.422 798.588 Z\" fill=\"#000000\" fill-rule=\"evenodd\" fill-opacity=\"1\" /><path clip-path=\"url(#clip480)\" d=\"M127.256 569.111 L156.931 569.111 L156.931 573.046 L127.256 573.046 L127.256 569.111 Z\" fill=\"#000000\" fill-rule=\"evenodd\" fill-opacity=\"1\" /><path clip-path=\"url(#clip480)\" d=\"M177.024 554.458 Q173.413 554.458 171.584 558.023 Q169.778 561.565 169.778 568.694 Q169.778 575.801 171.584 579.365 Q173.413 582.907 177.024 582.907 Q180.658 582.907 182.464 579.365 Q184.292 575.801 184.292 568.694 Q184.292 561.565 182.464 558.023 Q180.658 554.458 177.024 554.458 M177.024 550.754 Q182.834 550.754 185.889 555.361 Q188.968 559.944 188.968 568.694 Q188.968 577.421 185.889 582.027 Q182.834 586.611 177.024 586.611 Q171.214 586.611 168.135 582.027 Q165.079 577.421 165.079 568.694 Q165.079 559.944 168.135 555.361 Q171.214 550.754 177.024 550.754 Z\" fill=\"#000000\" fill-rule=\"evenodd\" fill-opacity=\"1\" /><path clip-path=\"url(#clip480)\" d=\"M197.186 580.06 L202.07 580.06 L202.07 585.939 L197.186 585.939 L197.186 580.06 Z\" fill=\"#000000\" fill-rule=\"evenodd\" fill-opacity=\"1\" /><path clip-path=\"url(#clip480)\" d=\"M216.283 582.004 L232.602 582.004 L232.602 585.939 L210.658 585.939 L210.658 582.004 Q213.32 579.25 217.903 574.62 Q222.51 569.967 223.69 568.625 Q225.936 566.102 226.815 564.365 Q227.718 562.606 227.718 560.916 Q227.718 558.162 225.774 556.426 Q223.852 554.69 220.75 554.69 Q218.551 554.69 216.098 555.453 Q213.667 556.217 210.889 557.768 L210.889 553.046 Q213.713 551.912 216.167 551.333 Q218.621 550.754 220.658 550.754 Q226.028 550.754 229.223 553.44 Q232.417 556.125 232.417 560.615 Q232.417 562.745 231.607 564.666 Q230.82 566.564 228.713 569.157 Q228.135 569.828 225.033 573.046 Q221.931 576.24 216.283 582.004 Z\" fill=\"#000000\" fill-rule=\"evenodd\" fill-opacity=\"1\" /><path clip-path=\"url(#clip480)\" d=\"M242.463 551.379 L260.82 551.379 L260.82 555.315 L246.746 555.315 L246.746 563.787 Q247.764 563.439 248.783 563.277 Q249.801 563.092 250.82 563.092 Q256.607 563.092 259.986 566.264 Q263.366 569.435 263.366 574.851 Q263.366 580.43 259.894 583.532 Q256.421 586.611 250.102 586.611 Q247.926 586.611 245.658 586.24 Q243.412 585.87 241.005 585.129 L241.005 580.43 Q243.088 581.564 245.31 582.12 Q247.533 582.676 250.009 582.676 Q254.014 582.676 256.352 580.569 Q258.69 578.463 258.69 574.851 Q258.69 571.24 256.352 569.134 Q254.014 567.027 250.009 567.027 Q248.135 567.027 246.26 567.444 Q244.408 567.861 242.463 568.74 L242.463 551.379 Z\" fill=\"#000000\" fill-rule=\"evenodd\" fill-opacity=\"1\" /><path clip-path=\"url(#clip480)\" d=\"M176.028 306.625 Q172.417 306.625 170.589 310.19 Q168.783 313.731 168.783 320.861 Q168.783 327.967 170.589 331.532 Q172.417 335.074 176.028 335.074 Q179.663 335.074 181.468 331.532 Q183.297 327.967 183.297 320.861 Q183.297 313.731 181.468 310.19 Q179.663 306.625 176.028 306.625 M176.028 302.921 Q181.839 302.921 184.894 307.528 Q187.973 312.111 187.973 320.861 Q187.973 329.588 184.894 334.194 Q181.839 338.777 176.028 338.777 Q170.218 338.777 167.14 334.194 Q164.084 329.588 164.084 320.861 Q164.084 312.111 167.14 307.528 Q170.218 302.921 176.028 302.921 Z\" fill=\"#000000\" fill-rule=\"evenodd\" fill-opacity=\"1\" /><path clip-path=\"url(#clip480)\" d=\"M196.19 332.227 L201.075 332.227 L201.075 338.106 L196.19 338.106 L196.19 332.227 Z\" fill=\"#000000\" fill-rule=\"evenodd\" fill-opacity=\"1\" /><path clip-path=\"url(#clip480)\" d=\"M221.26 306.625 Q217.649 306.625 215.82 310.19 Q214.014 313.731 214.014 320.861 Q214.014 327.967 215.82 331.532 Q217.649 335.074 221.26 335.074 Q224.894 335.074 226.699 331.532 Q228.528 327.967 228.528 320.861 Q228.528 313.731 226.699 310.19 Q224.894 306.625 221.26 306.625 M221.26 302.921 Q227.07 302.921 230.125 307.528 Q233.204 312.111 233.204 320.861 Q233.204 329.588 230.125 334.194 Q227.07 338.777 221.26 338.777 Q215.449 338.777 212.371 334.194 Q209.315 329.588 209.315 320.861 Q209.315 312.111 212.371 307.528 Q215.449 302.921 221.26 302.921 Z\" fill=\"#000000\" fill-rule=\"evenodd\" fill-opacity=\"1\" /><path clip-path=\"url(#clip480)\" d=\"M251.422 306.625 Q247.81 306.625 245.982 310.19 Q244.176 313.731 244.176 320.861 Q244.176 327.967 245.982 331.532 Q247.81 335.074 251.422 335.074 Q255.056 335.074 256.861 331.532 Q258.69 327.967 258.69 320.861 Q258.69 313.731 256.861 310.19 Q255.056 306.625 251.422 306.625 M251.422 302.921 Q257.232 302.921 260.287 307.528 Q263.366 312.111 263.366 320.861 Q263.366 329.588 260.287 334.194 Q257.232 338.777 251.422 338.777 Q245.611 338.777 242.533 334.194 Q239.477 329.588 239.477 320.861 Q239.477 312.111 242.533 307.528 Q245.611 302.921 251.422 302.921 Z\" fill=\"#000000\" fill-rule=\"evenodd\" fill-opacity=\"1\" /><path clip-path=\"url(#clip480)\" d=\"M28.3562 830.004 L28.3562 802.186 L33.7034 802.186 L59.3254 824.211 L59.3254 802.186 L64.0042 802.186 L64.0042 830.8 L58.657 830.8 L33.035 808.774 L33.035 830.004 L28.3562 830.004 Z\" fill=\"#000000\" fill-rule=\"evenodd\" fill-opacity=\"1\" /><circle clip-path=\"url(#clip482)\" cx=\"1012.79\" cy=\"892.693\" r=\"3\" fill=\"#000003\" fill-rule=\"evenodd\" fill-opacity=\"1\" stroke=\"#000000\" stroke-opacity=\"1\" stroke-width=\"3.2\"/>\n",
       "<circle clip-path=\"url(#clip482)\" cx=\"335.632\" cy=\"1307.56\" r=\"3\" fill=\"#33095e\" fill-rule=\"evenodd\" fill-opacity=\"1\" stroke=\"#000000\" stroke-opacity=\"1\" stroke-width=\"3.2\"/>\n",
       "<circle clip-path=\"url(#clip482)\" cx=\"1338.87\" cy=\"1377.33\" r=\"3\" fill=\"#781c6d\" fill-rule=\"evenodd\" fill-opacity=\"1\" stroke=\"#000000\" stroke-opacity=\"1\" stroke-width=\"3.2\"/>\n",
       "<circle clip-path=\"url(#clip482)\" cx=\"1338.87\" cy=\"385.997\" r=\"3\" fill=\"#ba3654\" fill-rule=\"evenodd\" fill-opacity=\"1\" stroke=\"#000000\" stroke-opacity=\"1\" stroke-width=\"3.2\"/>\n",
       "<circle clip-path=\"url(#clip482)\" cx=\"382.761\" cy=\"298.448\" r=\"3\" fill=\"#ed6825\" fill-rule=\"evenodd\" fill-opacity=\"1\" stroke=\"#000000\" stroke-opacity=\"1\" stroke-width=\"3.2\"/>\n",
       "<circle clip-path=\"url(#clip482)\" cx=\"683.913\" cy=\"1088.62\" r=\"3\" fill=\"#fbb419\" fill-rule=\"evenodd\" fill-opacity=\"1\" stroke=\"#000000\" stroke-opacity=\"1\" stroke-width=\"3.2\"/>\n",
       "<circle clip-path=\"url(#clip482)\" cx=\"1663.35\" cy=\"1008.35\" r=\"3\" fill=\"#fcfea4\" fill-rule=\"evenodd\" fill-opacity=\"1\" stroke=\"#000000\" stroke-opacity=\"1\" stroke-width=\"3.2\"/>\n",
       "<polyline clip-path=\"url(#clip482)\" style=\"stroke:#000000; stroke-linecap:butt; stroke-linejoin:round; stroke-width:8; stroke-opacity:1; fill:none\" points=\"\n",
       "  1012.79,892.693 335.632,1307.56 1338.87,1377.33 1338.87,385.997 382.761,298.448 683.913,1088.62 1663.35,1008.35 \n",
       "  \"/>\n",
       "<defs>\n",
       "  <clipPath id=\"clip483\">\n",
       "    <rect x=\"2160\" y=\"47\" width=\"73\" height=\"1377\"/>\n",
       "  </clipPath>\n",
       "</defs>\n",
       "<g clip-path=\"url(#clip483)\">\n",
       "<image width=\"72\" height=\"1376\" xlink:href=\"data:image/png;base64,\n",
       "iVBORw0KGgoAAAANSUhEUgAAAEgAAAVgCAYAAADsKhu7AAAL6UlEQVR4nO3dwZEjNxBFQVBR/lsh\n",
       "L6UFZIHqHclDpgUTL35wCXTP7Off+/c7/K+/vv0D/DqBgkBBoCBQmPv+/fbP8NMsKAgUBAoChXnv\n",
       "z7d/hp9mQUGgIFAQKAgUHDWCBQWBgkBBoDDPh/TKgoJAQaAgUJh3fUhvLCgIFAQKAgWBgqNGsKAg\n",
       "UBAoCBR8SAcLCgIFgYJAwX1QsKAgUBAoCBQECnMcNVYWFAQKAgWBgvugYEFBoCBQECgIFOa4MFtZ\n",
       "UBAoCBQECnPuP9/+GX6aBQWBgkBBoODSPlhQECgIFAQKAgX3QcGCgkBBoCBQ8CEdLCgIFAQKAgX3\n",
       "QcGCgkBBoCBQECjMx1FjZUFBoCBQECjMuf5XhI0FBYGCQEGgIFBw1AgWFAQKAgWBgqNGsKAgUBAo\n",
       "CBS8HxQsKAgUBAoCBYHCfBw1VhYUBAoCBYGCt1yDBQWBgkBBoOCbdLCgIFAQKAgUBAoePQcLCgIF\n",
       "gYJAwVEjWFAQKAgUBAoCBUeNYEFBoCBQECg4agQLCgIFgYJAYc693/4ZfpoFBYGCQEGgIFBw1AgW\n",
       "FAQKAgWBgkv7YEFBoCBQECj4kA4WFAQKAgWBgkBhPp5qrCwoCBQECgIFR41gQUGgIFAQKAgUvEAV\n",
       "LCgIFAQKAgX3QcGCgkBBoCBQcB8ULCgIFAQKAgWBgvugYEFBoCBQECj4kA4WFAQKAgWBgl/qDRYU\n",
       "BAoCBYGCQMFRI1hQECgIFAQKPqSDBQWBgkBBoCBQ8K9YsKAgUBAoCBR8SAcLCgIFgYJAYc7zIb2x\n",
       "oCBQECgIFAQKjhrBgoJAQaAgUPAhHSwoCBQECgIFH9LBgoJAQaAgUBAozLnv2z/DT7OgIFAQKAgU\n",
       "HDWCBQWBgkBBoCBQcNQIFhQECgIFgYKjRrCgIFAQKAgUfJMOFhQECgIFgYJAYY6TxsqCgkBBoCBQ\n",
       "mPMcNTYWFAQKAgWBgm/SwYKCQEGgIFAQKPhXLFhQECgIFAQK44/g7SwoCBQECgIFgYKjRrCgIFAQ\n",
       "KAgUfEgHCwoCBYGCQGHO/Xz7Z/hpFhQECgIFgYJAYd7zr9jGgoJAQaAgUHAfFCwoCBQECgIF90HB\n",
       "goJAQaAgUBAozLsabdQJAgWBgkDBUSNYUBAoCBQECgKFOR49rywoCBQECgKFeY4aKwsKAgWBgkBh\n",
       "jkv7lTpBoCBQECgIFBw1ggUFgYJAQaDg0j5YUBAoCBQECl7iDOoEgYJAQaAgUPCWa7CgIFAQKAgU\n",
       "XNoHCwoCBYGCQEGgMO9ptFEnCBQECgIF90HBgoJAQaAgUHAfFCwoCBQECgIFgcIc90ErdYJAQaAg\n",
       "UHDUCBYUBAoCBYGCD+lgQUGgIFAQKAgU/NZzsKAgUBAoCBT81nNQJwgUBAoCBYHCPEeNlQUFgYJA\n",
       "QaDgqUawoCBQECgIFPyvCEGdIFAQKAgUBArug4IFBYGCQEGg4D4oWFAQKAgUBAq+SQcLCgIFgYJA\n",
       "QaDgLdegThAoCBQECo4awYKCQEGgIFAQKHiqESwoCBQECgIFR41gQUGgIFAQKPiva4IFBYGCQEGg\n",
       "IFDwv2QGdYJAQaAgUHAfFCwoCBQECgIFT1aDBQWBgkBBoCBQcNQIFhQECgIFgcJcH9IrCwoCBYGC\n",
       "QEGg4LeegzpBoCBQECi4DwoWFAQKAgWBgg/pYEFBoCBQECgIFLxAFSwoCBQECgIFR41gQUGgIFAQ\n",
       "KPiQDhYUBAoCBYGCQMGfpgjqBIGCQEGgMNel/cqCgkBBoCBQECi4MAsWFAQKAgWBgg/pYEFBoCBQ\n",
       "ECj4kA4WFAQKAgWBgkDBH1gKFhQECgIFgYKjRrCgIFAQKAgUfEgHCwoCBYGCQEGg4FcRgjpBoCBQ\n",
       "ECj4VYRgQUGgIFAQKAgUXJgFCwoCBYGCQMGHdLCgIFAQKAgUvMQZLCgIFAQKAgWBgqNGsKAgUBAo\n",
       "CBTmHR/SGwsKAgWBgkDBfVCwoCBQECgIFAQK7oOCBQWBgkBBoOCoESwoCBQECgIFgYKjRrCgIFAQ\n",
       "KAgUHDWCBQWBgkBBoOCbdLCgIFAQKAgUBAr+FQsWFAQKAgWBwly/irCyoCBQECgIFHyTDhYUBAoC\n",
       "BYGCQMGj52BBQaAgUBAozHvf/hF+mwUFgYJAQaAgUHDUCBYUBAoCBYGCv4IXLCgIFAQKAgXfpIMF\n",
       "BYGCQEGgIFDwAlWwoCBQECgIFPwqQrCgIFAQKAgUvB8ULCgIFAQKAgWBgqcawYKCQEGgIFBwaR8s\n",
       "KAgUBAoCBYGCpxrBgoJAQaAgUHAfFCwoCBQECgIFj56DBQWBgkBBoCBQcB8ULCgIFAQKAgWPnoMF\n",
       "BYGCQEGgMPfbP8GPs6AgUBAoCBQECo4awYKCQEGgIFDwflCwoCBQECgIFAQKLsyCBQWBgkBBoOA+\n",
       "KFhQECgIFAQKvkkHCwoCBYGCQEGg4KgRLCgIFAQKAgWPnoMFBYGCQEGgMP4yxc6CgkBBoCBQECg4\n",
       "agQLCgIFgYJAwaPnYEFBoCBQECgIFDx6DhYUBAoCBYGCo0awoCBQECgIFHyTDhYUBAoCBYGCQGGu\n",
       "N6hWFhQECgIFgYL7oGBBQaAgUBAouA8KFhQECgIFgYJAwVEjWFAQKAgUBArzXNqvLCgIFAQKAgWB\n",
       "wtzjwmxjQUGgIFAQKHg/KFhQECgIFAQK/gpesKAgUBAoCBQECv4KXrCgIFAQKAgUPHoOFhQECgIF\n",
       "gYKXOIMFBYGCQEGgIFDwC3XBgoJAQaAgUHDUCBYUBAoCBYGCQMFbrsGCgkBBoCBQ8JZrsKAgUBAo\n",
       "CBR8kw4WFAQKAgWBgkDBW67BgoJAQaAgUPD3g4IFBYGCQEGg4D4oWFAQKAgUBAoCBY+egwUFgYJA\n",
       "QaDgqBEsKAgUBAoCBYGCo0awoCBQECgIFBw1ggUFgYJAQaDgQzpYUBAoCBQECgIF90HBgoJAQaAg\n",
       "UHDUCBYUBAoCBYGCb9LBgoJAQaAgUBAoOGoECwoCBYGCQMHfDwoWFAQKAgWBgkDB/+0TLCgIFAQK\n",
       "AgX3QcGCgkBBoCBQmHd8Sm8sKAgUBAoCBYGCo0awoCBQECgIFDx6DhYUBAoCBYGCJ6vBgoJAQaAg\n",
       "UBAouA8KFhQECgIFgYJHz8GCgkBBoCBQECg4agQLCgIFgYJAwR9YChYUBAoCBYHCXC8IrSwoCBQE\n",
       "CgIFgYIXqIIFBYGCQEGgMM9RY2VBQaAgUBAo+CYdLCgIFAQKAgWBgqcawYKCQEGgIFDwflCwoCBQ\n",
       "ECgIFAQKc/1C3cqCgkBBoCBQcB8ULCgIFAQKAgV/miJYUBAoCBQECgIFL1AFCwoCBYGCQMGlfbCg\n",
       "IFAQKAgU3AcFCwoCBYGCQEGgMPe4EdpYUBAoCBQECu6DggUFgYJAQaAgUPCvWLCgIFAQKAgUPNUI\n",
       "FhQECgIFgYJL+2BBQaAgUBAoCBTmfhw1NhYUBAoCBYGCo0awoCBQECgIFOb5kF5ZUBAoCBQECgIF\n",
       "R41gQUGgIFAQKMz9+JDeWFAQKAgUBAoCBUeNYEFBoCBQECh4qhEsKAgUBAoCBd+kgwUFgYJAQaAg\n",
       "UPCvWLCgIFAQKAgUPHoOFhQECgIFgcK88+fbP8NPs6AgUBAoCBQECu6DggUFgYJAQaDg/aBgQUGg\n",
       "IFAQKAgU5j4XZhsLCgIFgYJAwVEjWFAQKAgUBApzPXpeWVAQKAgUBAoCBUeNYEFBoCBQECg4agQL\n",
       "CgIFgYJAYd7zTXpjQUGgIFAQKAgU3AcFCwoCBYGCQMFLnMGCgkBBoCBQECg4agQLCgIFgYJAYZ6j\n",
       "xsqCgkBBoCBQ8E06WFAQKAgUBAoChbleoFpZUBAoCBQECv7gdrCgIFAQKAgU/CpCsKAgUBAoCBQE\n",
       "Cp5qBAsKAgWBgkDBUSNYUBAoCBQECgIF/4oFCwoCBYGCQMGj52BBQaAgUBAo+CYdLCgIFAQKAgWB\n",
       "whyPnlcWFAQKAgWBgqNGsKAgUBAoCBS8xBksKAgUBAoCBYHCHEeNlQUFgYJAQaDg/aBgQUGgIFAQ\n",
       "KAgUPHoOFhQECgIFgYL7oGBBQaAgUBAozDvv2z/DT7OgIFAQKAgUBArug4IFBYGCQEGgMMdRY2VB\n",
       "QaAgUBAo/AdhU+3PqlcPeQAAAABJRU5ErkJggg==\n",
       "\" transform=\"translate(2161, 47)\"/>\n",
       "</g>\n",
       "<path clip-path=\"url(#clip480)\" d=\"M2269.43 1432.9 L2277.07 1432.9 L2277.07 1406.53 L2268.76 1408.2 L2268.76 1403.94 L2277.02 1402.27 L2281.7 1402.27 L2281.7 1432.9 L2289.33 1432.9 L2289.33 1436.83 L2269.43 1436.83 L2269.43 1432.9 Z\" fill=\"#000000\" fill-rule=\"evenodd\" fill-opacity=\"1\" /><path clip-path=\"url(#clip480)\" d=\"M2274.38 1203.57 L2290.7 1203.57 L2290.7 1207.51 L2268.76 1207.51 L2268.76 1203.57 Q2271.42 1200.82 2276 1196.19 Q2280.61 1191.54 2281.79 1190.19 Q2284.03 1187.67 2284.91 1185.93 Q2285.82 1184.18 2285.82 1182.49 Q2285.82 1179.73 2283.87 1177.99 Q2281.95 1176.26 2278.85 1176.26 Q2276.65 1176.26 2274.2 1177.02 Q2271.77 1177.79 2268.99 1179.34 L2268.99 1174.62 Q2271.81 1173.48 2274.27 1172.9 Q2276.72 1172.32 2278.76 1172.32 Q2284.13 1172.32 2287.32 1175.01 Q2290.52 1177.69 2290.52 1182.18 Q2290.52 1184.31 2289.7 1186.24 Q2288.92 1188.13 2286.81 1190.73 Q2286.23 1191.4 2283.13 1194.61 Q2280.03 1197.81 2274.38 1203.57 Z\" fill=\"#000000\" fill-rule=\"evenodd\" fill-opacity=\"1\" /><path clip-path=\"url(#clip480)\" d=\"M2284.38 959.552 Q2287.74 960.269 2289.61 962.538 Q2291.51 964.806 2291.51 968.14 Q2291.51 973.255 2287.99 976.056 Q2284.47 978.857 2277.99 978.857 Q2275.82 978.857 2273.5 978.417 Q2271.21 978.001 2268.76 977.144 L2268.76 972.63 Q2270.7 973.765 2273.02 974.343 Q2275.33 974.922 2277.85 974.922 Q2282.25 974.922 2284.54 973.186 Q2286.86 971.45 2286.86 968.14 Q2286.86 965.084 2284.7 963.371 Q2282.58 961.635 2278.76 961.635 L2274.73 961.635 L2274.73 957.792 L2278.94 957.792 Q2282.39 957.792 2284.22 956.427 Q2286.05 955.038 2286.05 952.445 Q2286.05 949.783 2284.15 948.371 Q2282.27 946.936 2278.76 946.936 Q2276.83 946.936 2274.64 947.353 Q2272.44 947.769 2269.8 948.649 L2269.8 944.482 Q2272.46 943.742 2274.77 943.371 Q2277.11 943.001 2279.17 943.001 Q2284.5 943.001 2287.6 945.431 Q2290.7 947.839 2290.7 951.959 Q2290.7 954.829 2289.06 956.82 Q2287.41 958.788 2284.38 959.552 Z\" fill=\"#000000\" fill-rule=\"evenodd\" fill-opacity=\"1\" /><path clip-path=\"url(#clip480)\" d=\"M2284.36 718.377 L2272.55 736.826 L2284.36 736.826 L2284.36 718.377 M2283.13 714.303 L2289.01 714.303 L2289.01 736.826 L2293.94 736.826 L2293.94 740.715 L2289.01 740.715 L2289.01 748.863 L2284.36 748.863 L2284.36 740.715 L2268.76 740.715 L2268.76 736.201 L2283.13 714.303 Z\" fill=\"#000000\" fill-rule=\"evenodd\" fill-opacity=\"1\" /><path clip-path=\"url(#clip480)\" d=\"M2270.21 484.981 L2288.57 484.981 L2288.57 488.916 L2274.5 488.916 L2274.5 497.388 Q2275.52 497.041 2276.53 496.879 Q2277.55 496.693 2278.57 496.693 Q2284.36 496.693 2287.74 499.865 Q2291.12 503.036 2291.12 508.453 Q2291.12 514.031 2287.64 517.133 Q2284.17 520.212 2277.85 520.212 Q2275.68 520.212 2273.41 519.841 Q2271.16 519.471 2268.76 518.73 L2268.76 514.031 Q2270.84 515.166 2273.06 515.721 Q2275.28 516.277 2277.76 516.277 Q2281.77 516.277 2284.1 514.17 Q2286.44 512.064 2286.44 508.453 Q2286.44 504.842 2284.1 502.735 Q2281.77 500.629 2277.76 500.629 Q2275.89 500.629 2274.01 501.045 Q2272.16 501.462 2270.21 502.342 L2270.21 484.981 Z\" fill=\"#000000\" fill-rule=\"evenodd\" fill-opacity=\"1\" /><path clip-path=\"url(#clip480)\" d=\"M2281.09 271.075 Q2277.95 271.075 2276.09 273.227 Q2274.27 275.38 2274.27 279.13 Q2274.27 282.857 2276.09 285.033 Q2277.95 287.186 2281.09 287.186 Q2284.24 287.186 2286.07 285.033 Q2287.92 282.857 2287.92 279.13 Q2287.92 275.38 2286.07 273.227 Q2284.24 271.075 2281.09 271.075 M2290.38 256.422 L2290.38 260.681 Q2288.62 259.848 2286.81 259.408 Q2285.03 258.968 2283.27 258.968 Q2278.64 258.968 2276.19 262.093 Q2273.76 265.218 2273.41 271.537 Q2274.77 269.524 2276.83 268.459 Q2278.89 267.371 2281.37 267.371 Q2286.58 267.371 2289.59 270.542 Q2292.62 273.69 2292.62 279.13 Q2292.62 284.454 2289.47 287.672 Q2286.33 290.889 2281.09 290.889 Q2275.1 290.889 2271.93 286.306 Q2268.76 281.699 2268.76 272.973 Q2268.76 264.778 2272.64 259.917 Q2276.53 255.033 2283.08 255.033 Q2284.84 255.033 2286.63 255.38 Q2288.43 255.727 2290.38 256.422 Z\" fill=\"#000000\" fill-rule=\"evenodd\" fill-opacity=\"1\" /><path clip-path=\"url(#clip480)\" d=\"M2268.76 26.3353 L2290.98 26.3353 L2290.98 28.326 L2278.43 60.8953 L2273.55 60.8953 L2285.35 30.2705 L2268.76 30.2705 L2268.76 26.3353 Z\" fill=\"#000000\" fill-rule=\"evenodd\" fill-opacity=\"1\" /><polyline clip-path=\"url(#clip480)\" style=\"stroke:#000000; stroke-linecap:butt; stroke-linejoin:round; stroke-width:4; stroke-opacity:1; fill:none\" points=\"\n",
       "  2232.76,1423.18 2232.76,1423.18 2256.76,1423.18 2232.76,1423.18 2232.76,1193.86 2256.76,1193.86 2232.76,1193.86 2232.76,964.535 2256.76,964.535 2232.76,964.535 \n",
       "  2232.76,735.212 2256.76,735.212 2232.76,735.212 2232.76,505.889 2256.76,505.889 2232.76,505.889 2232.76,276.567 2256.76,276.567 2232.76,276.567 2232.76,47.2441 \n",
       "  2256.76,47.2441 2232.76,47.2441 \n",
       "  \"/>\n",
       "<path clip-path=\"url(#clip480)\" d=\"\n",
       "M1693.99 248.629 L1935.91 248.629 L1935.91 93.1086 L1693.99 93.1086  Z\n",
       "  \" fill=\"#ffffff\" fill-rule=\"evenodd\" fill-opacity=\"1\"/>\n",
       "<polyline clip-path=\"url(#clip480)\" style=\"stroke:#000000; stroke-linecap:butt; stroke-linejoin:round; stroke-width:4; stroke-opacity:1; fill:none\" points=\"\n",
       "  1693.99,248.629 1935.91,248.629 1935.91,93.1086 1693.99,93.1086 1693.99,248.629 \n",
       "  \"/>\n",
       "<circle clip-path=\"url(#clip480)\" cx=\"1769.79\" cy=\"144.949\" r=\"23\" fill=\"#000003\" fill-rule=\"evenodd\" fill-opacity=\"1\" stroke=\"#000000\" stroke-opacity=\"1\" stroke-width=\"20.48\"/>\n",
       "<path clip-path=\"url(#clip480)\" d=\"M1859.42 164.636 Q1857.62 169.266 1855.91 170.678 Q1854.19 172.09 1851.32 172.09 L1847.92 172.09 L1847.92 168.525 L1850.42 168.525 Q1852.18 168.525 1853.15 167.692 Q1854.12 166.858 1855.3 163.756 L1856.07 161.812 L1845.58 136.303 L1850.1 136.303 L1858.2 156.581 L1866.3 136.303 L1870.81 136.303 L1859.42 164.636 Z\" fill=\"#000000\" fill-rule=\"evenodd\" fill-opacity=\"1\" /><path clip-path=\"url(#clip480)\" d=\"M1878.1 158.293 L1885.74 158.293 L1885.74 131.928 L1877.43 133.595 L1877.43 129.335 L1885.7 127.669 L1890.37 127.669 L1890.37 158.293 L1898.01 158.293 L1898.01 162.229 L1878.1 162.229 L1878.1 158.293 Z\" fill=\"#000000\" fill-rule=\"evenodd\" fill-opacity=\"1\" /><polyline clip-path=\"url(#clip480)\" style=\"stroke:#000000; stroke-linecap:butt; stroke-linejoin:round; stroke-width:4; stroke-opacity:1; fill:none\" points=\"\n",
       "  1712.94,196.789 1826.63,196.789 \n",
       "  \"/>\n",
       "<path clip-path=\"url(#clip480)\" d=\"M1859.42 216.476 Q1857.62 221.106 1855.91 222.518 Q1854.19 223.93 1851.32 223.93 L1847.92 223.93 L1847.92 220.365 L1850.42 220.365 Q1852.18 220.365 1853.15 219.532 Q1854.12 218.698 1855.3 215.596 L1856.07 213.652 L1845.58 188.143 L1850.1 188.143 L1858.2 208.421 L1866.3 188.143 L1870.81 188.143 L1859.42 216.476 Z\" fill=\"#000000\" fill-rule=\"evenodd\" fill-opacity=\"1\" /><path clip-path=\"url(#clip480)\" d=\"M1881.32 210.133 L1897.64 210.133 L1897.64 214.069 L1875.7 214.069 L1875.7 210.133 Q1878.36 207.379 1882.94 202.749 Q1887.55 198.096 1888.73 196.754 Q1890.98 194.231 1891.85 192.495 Q1892.76 190.735 1892.76 189.046 Q1892.76 186.291 1890.81 184.555 Q1888.89 182.819 1885.79 182.819 Q1883.59 182.819 1881.14 183.583 Q1878.71 184.347 1875.93 185.897 L1875.93 181.175 Q1878.75 180.041 1881.21 179.462 Q1883.66 178.884 1885.7 178.884 Q1891.07 178.884 1894.26 181.569 Q1897.46 184.254 1897.46 188.745 Q1897.46 190.874 1896.65 192.796 Q1895.86 194.694 1893.75 197.286 Q1893.17 197.958 1890.07 201.175 Q1886.97 204.37 1881.32 210.133 Z\" fill=\"#000000\" fill-rule=\"evenodd\" fill-opacity=\"1\" /></svg>\n"
      ]
     },
     "execution_count": 11,
     "metadata": {},
     "output_type": "execute_result"
    }
   ],
   "source": [
    "p=plot()\n",
    "plotChain!(lastQ,\"red\")"
   ]
  },
  {
   "cell_type": "code",
   "execution_count": 13,
   "metadata": {},
   "outputs": [
    {
     "data": {
      "text/plain": [
       "(PolygonalNew(Point[Point(-1.04418389018083359233811016600087742917730116873282172486832007444130980640853, -0.5776784200587786870370548496414313985916515494863544045254117830614157145753225, -0.16244184678702023670953737196723821813163030209155142980601910692631660506088), Point(-0.1373229458017153923682026422059264374197449955039271142002386585856668731797624, -0.9920469526155261149164726684869166446579309835313374687862703037542675122677492, -0.001501022350998510116774223108611097938793076292668992429475805100010466416039505), Point(-0.08260388083912387665984904701657897007498190992216599993891996011097617103370337, -0.9965824573225307180446171180356982469829573660910309179642763316393144221980868, -1.004987571229306031938096996650959124668815743705399209433244135576064402274549), Point(1.079521069386805578173293982850049946389500045554535173127962933771073975395303e-77, -1.012051002550130229537463108921921824740156292707376724807465250410381851933097e-78, -1.004987565864311014736513382475083330111334842399883219640027726456435114801266), Point(0.0, 0.0, 0.0), Point(-0.6165135275646870000933358046338448114674643532620525980346133029620916707846774, -0.7936070030320749661221589407211016747758202242638240461110414951552935519743594, -0.009950373724531744046712403918671780518582407127046072953939477529166933191133282), Point(-0.5578907103697813755977820143575357347303800001050297151552725818965711855261912, -0.6879684767491549516594590598954723702254464791392415203936801629445306998292077, -1.01264867506484398124530953918633737757133741436703648905680956911433758841655)]), BigFloat[0.0, 0.0, 0.0, 0.0, 0.0, 0.0, 0.0, 0.0, 0.0, 0.0  …  0.0, 0.0, 0.0, 0.0, 0.0, 0.0, 0.0, 0.0, 0.0, 0.0], Int8[0, 0, 0, 0, 0, 0, 0, 0, 0, 0  …  0, 0, 0, 0, 0, 0, 0, 0, 0, 0])"
      ]
     },
     "execution_count": 13,
     "metadata": {},
     "output_type": "execute_result"
    }
   ],
   "source": [
    "newLastQ, newDiheds, newindexes = simulatedAnnealing(lastQ,demaineEnergy2)"
   ]
  },
  {
   "cell_type": "code",
   "execution_count": 15,
   "metadata": {},
   "outputs": [
    {
     "data": {
      "text/plain": [
       "-0.0395454736994242939118748836335726082324981689453125"
      ]
     },
     "execution_count": 15,
     "metadata": {},
     "output_type": "execute_result"
    }
   ],
   "source": [
    "sum(newDiheds)"
   ]
  },
  {
   "cell_type": "code",
   "execution_count": 16,
   "metadata": {},
   "outputs": [
    {
     "data": {
      "text/plain": [
       "109"
      ]
     },
     "execution_count": 16,
     "metadata": {},
     "output_type": "execute_result"
    }
   ],
   "source": [
    "sum(newindexes)"
   ]
  },
  {
   "cell_type": "code",
   "execution_count": 17,
   "metadata": {},
   "outputs": [
    {
     "data": {
      "text/plain": [
       "42.23343025512837028639213457969458069941728315675470260458312127820339881167217"
      ]
     },
     "execution_count": 17,
     "metadata": {},
     "output_type": "execute_result"
    }
   ],
   "source": [
    "demaineEnergy2(newLastQ)"
   ]
  },
  {
   "cell_type": "code",
   "execution_count": 22,
   "metadata": {},
   "outputs": [
    {
     "data": {
      "text/plain": [
       "false"
      ]
     },
     "execution_count": 22,
     "metadata": {},
     "output_type": "execute_result"
    }
   ],
   "source": [
    "checkRotationIntersection(lastQ,4,-pi/20)"
   ]
  },
  {
   "cell_type": "code",
   "execution_count": 24,
   "metadata": {},
   "outputs": [
    {
     "data": {
      "text/plain": [
       "PolygonalNew(Point[Point(-0.9152853381540394550639285701926480477216739859152153859124245294447259683664148, 0.966928684407148832186913101828072747236871441391956432539002533502123281579295, -0.8068635857688762261735846053792802470231447976252352552484910041465836674491003), Point(-1.004781820304545179730552578540862458530344243761455664937813709586597217298097, -0.02033455774065704101699080087191794227672265316840903442537527276612305004404827, -0.9999999949983422528826284445073430013172052056112829157481053723737568913676153), Point(-8.096408020401041836299704871375374597921250341659013798459722003283054815464775e-79, 0.0, -0.9999999976863489577770693489509974970220801952196272997528562091469924151599328), Point(0.0, 0.0, -0.0), Point(-1.003403763121388395771328276216677284016250383845062278072849034026102153514246, 0.05639942992362195724368948836679675986950819620209522373520170612774891735338699, 5.391753295686212426714165401197969047097853620964107221546270323624406727326608e-09), Point(-0.9683203206555433281661762066559388543654576774239113216394532028170368195827896, 0.5032631873868115311404136425886948037804440376789595235879513276392705391050059, -0.8994898217879036992974048945986105280519587916648745813635732159089018999342), Point(0.007056732410444982275165499807734908619634696674788660673795718079377571483199157, 0.6356300266021973291371711575737644196685253123636762731627125633837133036149646, -0.6733955037029978876391027476092992286956609653301727162049624159292593332328065)])"
      ]
     },
     "execution_count": 24,
     "metadata": {},
     "output_type": "execute_result"
    }
   ],
   "source": [
    "test = dihedralRotate(lastQ,4,-pi/20)"
   ]
  },
  {
   "cell_type": "code",
   "execution_count": 26,
   "metadata": {},
   "outputs": [
    {
     "data": {
      "text/plain": [
       "42.47546183280397530863224615390333074975772209316446677435405362358019738753868"
      ]
     },
     "execution_count": 26,
     "metadata": {},
     "output_type": "execute_result"
    }
   ],
   "source": [
    "demaineEnergy2(test)"
   ]
  },
  {
   "cell_type": "code",
   "execution_count": null,
   "metadata": {},
   "outputs": [],
   "source": []
  }
 ],
 "metadata": {
  "kernelspec": {
   "display_name": "Julia 1.6.1",
   "language": "julia",
   "name": "julia-1.6"
  },
  "language_info": {
   "file_extension": ".jl",
   "mimetype": "application/julia",
   "name": "julia",
   "version": "1.6.1"
  }
 },
 "nbformat": 4,
 "nbformat_minor": 4
}
