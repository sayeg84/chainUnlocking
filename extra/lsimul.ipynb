{
 "cells": [
  {
   "cell_type": "code",
   "execution_count": 1,
   "metadata": {},
   "outputs": [
    {
     "name": "stderr",
     "output_type": "stream",
     "text": [
      "WARNING: redefinition of constant ex. This may fail, cause incorrect answers, or produce other errors.\n",
      "WARNING: redefinition of constant ey. This may fail, cause incorrect answers, or produce other errors.\n",
      "WARNING: redefinition of constant ez. This may fail, cause incorrect answers, or produce other errors.\n",
      "WARNING: redefinition of constant e0. This may fail, cause incorrect answers, or produce other errors.\n",
      "WARNING: using Plots.rotate in module Main conflicts with an existing identifier.\n"
     ]
    }
   ],
   "source": [
    "include(\"../src/simulations.jl\")\n",
    "using Plots, Statistics"
   ]
  },
  {
   "cell_type": "code",
   "execution_count": 2,
   "metadata": {},
   "outputs": [
    {
     "data": {
      "image/svg+xml": [
       "<?xml version=\"1.0\" encoding=\"utf-8\"?>\n",
       "<svg xmlns=\"http://www.w3.org/2000/svg\" xmlns:xlink=\"http://www.w3.org/1999/xlink\" width=\"600\" height=\"400\" viewBox=\"0 0 2400 1600\">\n",
       "<defs>\n",
       "  <clipPath id=\"clip770\">\n",
       "    <rect x=\"0\" y=\"0\" width=\"2400\" height=\"1600\"/>\n",
       "  </clipPath>\n",
       "</defs>\n",
       "<path clip-path=\"url(#clip770)\" d=\"\n",
       "M0 1600 L2400 1600 L2400 0 L0 0  Z\n",
       "  \" fill=\"#ffffff\" fill-rule=\"evenodd\" fill-opacity=\"1\"/>\n",
       "<defs>\n",
       "  <clipPath id=\"clip771\">\n",
       "    <rect x=\"480\" y=\"0\" width=\"1681\" height=\"1600\"/>\n",
       "  </clipPath>\n",
       "</defs>\n",
       "<path clip-path=\"url(#clip770)\" d=\"\n",
       "M134.584 1486.45 L2352.76 1486.45 L2352.76 47.2441 L134.584 47.2441  Z\n",
       "  \" fill=\"#ffffff\" fill-rule=\"evenodd\" fill-opacity=\"1\"/>\n",
       "<defs>\n",
       "  <clipPath id=\"clip772\">\n",
       "    <rect x=\"134\" y=\"47\" width=\"2219\" height=\"1440\"/>\n",
       "  </clipPath>\n",
       "</defs>\n",
       "<polyline clip-path=\"url(#clip772)\" style=\"stroke:#000000; stroke-width:2; stroke-opacity:0.1; fill:none\" points=\"\n",
       "  429.876,1486.45 429.876,47.2441 \n",
       "  \"/>\n",
       "<polyline clip-path=\"url(#clip772)\" style=\"stroke:#000000; stroke-width:2; stroke-opacity:0.1; fill:none\" points=\"\n",
       "  894.901,1486.45 894.901,47.2441 \n",
       "  \"/>\n",
       "<polyline clip-path=\"url(#clip772)\" style=\"stroke:#000000; stroke-width:2; stroke-opacity:0.1; fill:none\" points=\"\n",
       "  1359.93,1486.45 1359.93,47.2441 \n",
       "  \"/>\n",
       "<polyline clip-path=\"url(#clip772)\" style=\"stroke:#000000; stroke-width:2; stroke-opacity:0.1; fill:none\" points=\"\n",
       "  1824.95,1486.45 1824.95,47.2441 \n",
       "  \"/>\n",
       "<polyline clip-path=\"url(#clip772)\" style=\"stroke:#000000; stroke-width:2; stroke-opacity:0.1; fill:none\" points=\"\n",
       "  2289.98,1486.45 2289.98,47.2441 \n",
       "  \"/>\n",
       "<polyline clip-path=\"url(#clip770)\" style=\"stroke:#000000; stroke-width:4; stroke-opacity:1; fill:none\" points=\"\n",
       "  134.584,1486.45 2352.76,1486.45 \n",
       "  \"/>\n",
       "<polyline clip-path=\"url(#clip770)\" style=\"stroke:#000000; stroke-width:4; stroke-opacity:1; fill:none\" points=\"\n",
       "  429.876,1486.45 429.876,1469.18 \n",
       "  \"/>\n",
       "<polyline clip-path=\"url(#clip770)\" style=\"stroke:#000000; stroke-width:4; stroke-opacity:1; fill:none\" points=\"\n",
       "  894.901,1486.45 894.901,1469.18 \n",
       "  \"/>\n",
       "<polyline clip-path=\"url(#clip770)\" style=\"stroke:#000000; stroke-width:4; stroke-opacity:1; fill:none\" points=\"\n",
       "  1359.93,1486.45 1359.93,1469.18 \n",
       "  \"/>\n",
       "<polyline clip-path=\"url(#clip770)\" style=\"stroke:#000000; stroke-width:4; stroke-opacity:1; fill:none\" points=\"\n",
       "  1824.95,1486.45 1824.95,1469.18 \n",
       "  \"/>\n",
       "<polyline clip-path=\"url(#clip770)\" style=\"stroke:#000000; stroke-width:4; stroke-opacity:1; fill:none\" points=\"\n",
       "  2289.98,1486.45 2289.98,1469.18 \n",
       "  \"/>\n",
       "<path clip-path=\"url(#clip770)\" d=\"M 0 0 M424.528 1543.18 L440.848 1543.18 L440.848 1547.12 L418.903 1547.12 L418.903 1543.18 Q421.565 1540.43 426.149 1535.8 Q430.755 1531.15 431.936 1529.81 Q434.181 1527.28 435.061 1525.55 Q435.964 1523.79 435.964 1522.1 Q435.964 1519.34 434.019 1517.61 Q432.098 1515.87 428.996 1515.87 Q426.797 1515.87 424.343 1516.63 Q421.913 1517.4 419.135 1518.95 L419.135 1514.23 Q421.959 1513.09 424.413 1512.51 Q426.866 1511.93 428.903 1511.93 Q434.274 1511.93 437.468 1514.62 Q440.663 1517.31 440.663 1521.8 Q440.663 1523.93 439.852 1525.85 Q439.065 1527.74 436.959 1530.34 Q436.38 1531.01 433.278 1534.23 Q430.177 1537.42 424.528 1543.18 Z\" fill=\"#000000\" fill-rule=\"evenodd\" fill-opacity=\"1\" /><path clip-path=\"url(#clip770)\" d=\"M 0 0 M897.91 1516.63 L886.105 1535.08 L897.91 1535.08 L897.91 1516.63 M896.683 1512.56 L902.563 1512.56 L902.563 1535.08 L907.494 1535.08 L907.494 1538.97 L902.563 1538.97 L902.563 1547.12 L897.91 1547.12 L897.91 1538.97 L882.309 1538.97 L882.309 1534.46 L896.683 1512.56 Z\" fill=\"#000000\" fill-rule=\"evenodd\" fill-opacity=\"1\" /><path clip-path=\"url(#clip770)\" d=\"M 0 0 M1360.33 1527.98 Q1357.18 1527.98 1355.33 1530.13 Q1353.5 1532.28 1353.5 1536.03 Q1353.5 1539.76 1355.33 1541.93 Q1357.18 1544.09 1360.33 1544.09 Q1363.48 1544.09 1365.31 1541.93 Q1367.16 1539.76 1367.16 1536.03 Q1367.16 1532.28 1365.31 1530.13 Q1363.48 1527.98 1360.33 1527.98 M1369.61 1513.32 L1369.61 1517.58 Q1367.85 1516.75 1366.05 1516.31 Q1364.27 1515.87 1362.51 1515.87 Q1357.88 1515.87 1355.42 1519 Q1352.99 1522.12 1352.65 1528.44 Q1354.01 1526.43 1356.07 1525.36 Q1358.13 1524.27 1360.61 1524.27 Q1365.82 1524.27 1368.83 1527.44 Q1371.86 1530.59 1371.86 1536.03 Q1371.86 1541.36 1368.71 1544.57 Q1365.56 1547.79 1360.33 1547.79 Q1354.34 1547.79 1351.17 1543.21 Q1347.99 1538.6 1347.99 1529.87 Q1347.99 1521.68 1351.88 1516.82 Q1355.77 1511.93 1362.32 1511.93 Q1364.08 1511.93 1365.86 1512.28 Q1367.67 1512.63 1369.61 1513.32 Z\" fill=\"#000000\" fill-rule=\"evenodd\" fill-opacity=\"1\" /><path clip-path=\"url(#clip770)\" d=\"M 0 0 M1824.95 1530.71 Q1821.62 1530.71 1819.7 1532.49 Q1817.8 1534.27 1817.8 1537.4 Q1817.8 1540.52 1819.7 1542.31 Q1821.62 1544.09 1824.95 1544.09 Q1828.29 1544.09 1830.21 1542.31 Q1832.13 1540.5 1832.13 1537.4 Q1832.13 1534.27 1830.21 1532.49 Q1828.31 1530.71 1824.95 1530.71 M1820.28 1528.72 Q1817.27 1527.98 1815.58 1525.92 Q1813.91 1523.86 1813.91 1520.89 Q1813.91 1516.75 1816.85 1514.34 Q1819.81 1511.93 1824.95 1511.93 Q1830.11 1511.93 1833.05 1514.34 Q1835.99 1516.75 1835.99 1520.89 Q1835.99 1523.86 1834.3 1525.92 Q1832.64 1527.98 1829.65 1528.72 Q1833.03 1529.5 1834.91 1531.8 Q1836.8 1534.09 1836.8 1537.4 Q1836.8 1542.42 1833.73 1545.11 Q1830.67 1547.79 1824.95 1547.79 Q1819.23 1547.79 1816.16 1545.11 Q1813.1 1542.42 1813.1 1537.4 Q1813.1 1534.09 1815 1531.8 Q1816.9 1529.5 1820.28 1528.72 M1818.56 1521.33 Q1818.56 1524.02 1820.23 1525.52 Q1821.92 1527.03 1824.95 1527.03 Q1827.96 1527.03 1829.65 1525.52 Q1831.36 1524.02 1831.36 1521.33 Q1831.36 1518.65 1829.65 1517.14 Q1827.96 1515.64 1824.95 1515.64 Q1821.92 1515.64 1820.23 1517.14 Q1818.56 1518.65 1818.56 1521.33 Z\" fill=\"#000000\" fill-rule=\"evenodd\" fill-opacity=\"1\" /><path clip-path=\"url(#clip770)\" d=\"M 0 0 M2266.85 1543.18 L2274.49 1543.18 L2274.49 1516.82 L2266.18 1518.49 L2266.18 1514.23 L2274.45 1512.56 L2279.12 1512.56 L2279.12 1543.18 L2286.76 1543.18 L2286.76 1547.12 L2266.85 1547.12 L2266.85 1543.18 Z\" fill=\"#000000\" fill-rule=\"evenodd\" fill-opacity=\"1\" /><path clip-path=\"url(#clip770)\" d=\"M 0 0 M2301.83 1515.64 Q2298.22 1515.64 2296.39 1519.2 Q2294.58 1522.75 2294.58 1529.87 Q2294.58 1536.98 2296.39 1540.55 Q2298.22 1544.09 2301.83 1544.09 Q2305.46 1544.09 2307.27 1540.55 Q2309.1 1536.98 2309.1 1529.87 Q2309.1 1522.75 2307.27 1519.2 Q2305.46 1515.64 2301.83 1515.64 M2301.83 1511.93 Q2307.64 1511.93 2310.69 1516.54 Q2313.77 1521.12 2313.77 1529.87 Q2313.77 1538.6 2310.69 1543.21 Q2307.64 1547.79 2301.83 1547.79 Q2296.02 1547.79 2292.94 1543.21 Q2289.88 1538.6 2289.88 1529.87 Q2289.88 1521.12 2292.94 1516.54 Q2296.02 1511.93 2301.83 1511.93 Z\" fill=\"#000000\" fill-rule=\"evenodd\" fill-opacity=\"1\" /><polyline clip-path=\"url(#clip772)\" style=\"stroke:#000000; stroke-width:2; stroke-opacity:0.1; fill:none\" points=\"\n",
       "  134.584,1294.86 2352.76,1294.86 \n",
       "  \"/>\n",
       "<polyline clip-path=\"url(#clip772)\" style=\"stroke:#000000; stroke-width:2; stroke-opacity:0.1; fill:none\" points=\"\n",
       "  134.584,993.136 2352.76,993.136 \n",
       "  \"/>\n",
       "<polyline clip-path=\"url(#clip772)\" style=\"stroke:#000000; stroke-width:2; stroke-opacity:0.1; fill:none\" points=\"\n",
       "  134.584,691.416 2352.76,691.416 \n",
       "  \"/>\n",
       "<polyline clip-path=\"url(#clip772)\" style=\"stroke:#000000; stroke-width:2; stroke-opacity:0.1; fill:none\" points=\"\n",
       "  134.584,389.696 2352.76,389.696 \n",
       "  \"/>\n",
       "<polyline clip-path=\"url(#clip772)\" style=\"stroke:#000000; stroke-width:2; stroke-opacity:0.1; fill:none\" points=\"\n",
       "  134.584,87.9763 2352.76,87.9763 \n",
       "  \"/>\n",
       "<polyline clip-path=\"url(#clip770)\" style=\"stroke:#000000; stroke-width:4; stroke-opacity:1; fill:none\" points=\"\n",
       "  134.584,1486.45 134.584,47.2441 \n",
       "  \"/>\n",
       "<polyline clip-path=\"url(#clip770)\" style=\"stroke:#000000; stroke-width:4; stroke-opacity:1; fill:none\" points=\"\n",
       "  134.584,1294.86 161.203,1294.86 \n",
       "  \"/>\n",
       "<polyline clip-path=\"url(#clip770)\" style=\"stroke:#000000; stroke-width:4; stroke-opacity:1; fill:none\" points=\"\n",
       "  134.584,993.136 161.203,993.136 \n",
       "  \"/>\n",
       "<polyline clip-path=\"url(#clip770)\" style=\"stroke:#000000; stroke-width:4; stroke-opacity:1; fill:none\" points=\"\n",
       "  134.584,691.416 161.203,691.416 \n",
       "  \"/>\n",
       "<polyline clip-path=\"url(#clip770)\" style=\"stroke:#000000; stroke-width:4; stroke-opacity:1; fill:none\" points=\"\n",
       "  134.584,389.696 161.203,389.696 \n",
       "  \"/>\n",
       "<polyline clip-path=\"url(#clip770)\" style=\"stroke:#000000; stroke-width:4; stroke-opacity:1; fill:none\" points=\"\n",
       "  134.584,87.9763 161.203,87.9763 \n",
       "  \"/>\n",
       "<path clip-path=\"url(#clip770)\" d=\"M 0 0 M82.2651 1308.2 L98.5845 1308.2 L98.5845 1312.14 L76.6401 1312.14 L76.6401 1308.2 Q79.3022 1305.45 83.8855 1300.82 Q88.4919 1296.16 89.6725 1294.82 Q91.9178 1292.3 92.7975 1290.56 Q93.7002 1288.8 93.7002 1287.11 Q93.7002 1284.36 91.7558 1282.62 Q89.8345 1280.89 86.7327 1280.89 Q84.5336 1280.89 82.0799 1281.65 Q79.6494 1282.41 76.8716 1283.96 L76.8716 1279.24 Q79.6957 1278.11 82.1494 1277.53 Q84.6031 1276.95 86.6401 1276.95 Q92.0104 1276.95 95.2049 1279.64 Q98.3993 1282.32 98.3993 1286.81 Q98.3993 1288.94 97.5891 1290.86 Q96.8021 1292.76 94.6956 1295.35 Q94.1169 1296.02 91.0151 1299.24 Q87.9132 1302.44 82.2651 1308.2 Z\" fill=\"#000000\" fill-rule=\"evenodd\" fill-opacity=\"1\" /><path clip-path=\"url(#clip770)\" d=\"M 0 0 M89.0012 979.93 L77.1957 998.379 L89.0012 998.379 L89.0012 979.93 M87.7743 975.856 L93.6539 975.856 L93.6539 998.379 L98.5845 998.379 L98.5845 1002.27 L93.6539 1002.27 L93.6539 1010.42 L89.0012 1010.42 L89.0012 1002.27 L73.3994 1002.27 L73.3994 997.754 L87.7743 975.856 Z\" fill=\"#000000\" fill-rule=\"evenodd\" fill-opacity=\"1\" /><path clip-path=\"url(#clip770)\" d=\"M 0 0 M87.0567 689.553 Q83.9086 689.553 82.0568 691.705 Q80.2281 693.858 80.2281 697.608 Q80.2281 701.335 82.0568 703.511 Q83.9086 705.664 87.0567 705.664 Q90.2049 705.664 92.0336 703.511 Q93.8854 701.335 93.8854 697.608 Q93.8854 693.858 92.0336 691.705 Q90.2049 689.553 87.0567 689.553 M96.3391 674.9 L96.3391 679.159 Q94.5799 678.326 92.7743 677.886 Q90.9919 677.446 89.2327 677.446 Q84.6031 677.446 82.1494 680.571 Q79.7188 683.696 79.3716 690.016 Q80.7373 688.002 82.7975 686.937 Q84.8577 685.849 87.3345 685.849 Q92.5428 685.849 95.5521 689.02 Q98.5845 692.168 98.5845 697.608 Q98.5845 702.932 95.4363 706.15 Q92.2882 709.367 87.0567 709.367 Q81.0614 709.367 77.8901 704.784 Q74.7189 700.178 74.7189 691.451 Q74.7189 683.256 78.6077 678.395 Q82.4966 673.511 89.0475 673.511 Q90.8067 673.511 92.5891 673.858 Q94.3947 674.205 96.3391 674.9 Z\" fill=\"#000000\" fill-rule=\"evenodd\" fill-opacity=\"1\" /><path clip-path=\"url(#clip770)\" d=\"M 0 0 M86.7327 390.564 Q83.3994 390.564 81.4781 392.347 Q79.5799 394.129 79.5799 397.254 Q79.5799 400.379 81.4781 402.161 Q83.3994 403.944 86.7327 403.944 Q90.066 403.944 91.9873 402.161 Q93.9086 400.356 93.9086 397.254 Q93.9086 394.129 91.9873 392.347 Q90.0891 390.564 86.7327 390.564 M82.0568 388.573 Q79.0475 387.833 77.3577 385.773 Q75.6911 383.712 75.6911 380.749 Q75.6911 376.606 78.6309 374.199 Q81.5938 371.791 86.7327 371.791 Q91.8947 371.791 94.8345 374.199 Q97.7743 376.606 97.7743 380.749 Q97.7743 383.712 96.0845 385.773 Q94.4178 387.833 91.4317 388.573 Q94.8113 389.361 96.6863 391.652 Q98.5845 393.944 98.5845 397.254 Q98.5845 402.277 95.5058 404.962 Q92.4502 407.647 86.7327 407.647 Q81.0151 407.647 77.9364 404.962 Q74.8809 402.277 74.8809 397.254 Q74.8809 393.944 76.779 391.652 Q78.6772 389.361 82.0568 388.573 M80.3438 381.189 Q80.3438 383.874 82.0105 385.379 Q83.7003 386.884 86.7327 386.884 Q89.7419 386.884 91.4317 385.379 Q93.1447 383.874 93.1447 381.189 Q93.1447 378.504 91.4317 376.999 Q89.7419 375.495 86.7327 375.495 Q83.7003 375.495 82.0105 376.999 Q80.3438 378.504 80.3438 381.189 Z\" fill=\"#000000\" fill-rule=\"evenodd\" fill-opacity=\"1\" /><path clip-path=\"url(#clip770)\" d=\"M 0 0 M51.6634 101.321 L59.3023 101.321 L59.3023 74.9555 L50.9921 76.6222 L50.9921 72.3629 L59.256 70.6963 L63.9319 70.6963 L63.9319 101.321 L71.5707 101.321 L71.5707 105.256 L51.6634 105.256 L51.6634 101.321 Z\" fill=\"#000000\" fill-rule=\"evenodd\" fill-opacity=\"1\" /><path clip-path=\"url(#clip770)\" d=\"M 0 0 M86.6401 73.775 Q83.029 73.775 81.2003 77.3398 Q79.3948 80.8814 79.3948 88.011 Q79.3948 95.1174 81.2003 98.6822 Q83.029 102.224 86.6401 102.224 Q90.2743 102.224 92.0799 98.6822 Q93.9086 95.1174 93.9086 88.011 Q93.9086 80.8814 92.0799 77.3398 Q90.2743 73.775 86.6401 73.775 M86.6401 70.0713 Q92.4502 70.0713 95.5058 74.6777 Q98.5845 79.261 98.5845 88.011 Q98.5845 96.7378 95.5058 101.344 Q92.4502 105.928 86.6401 105.928 Q80.8299 105.928 77.7512 101.344 Q74.6957 96.7378 74.6957 88.011 Q74.6957 79.261 77.7512 74.6777 Q80.8299 70.0713 86.6401 70.0713 Z\" fill=\"#000000\" fill-rule=\"evenodd\" fill-opacity=\"1\" /><circle clip-path=\"url(#clip772)\" cx=\"197.363\" cy=\"1445.72\" r=\"14\" fill=\"#009af9\" fill-rule=\"evenodd\" fill-opacity=\"1\" stroke=\"#000000\" stroke-opacity=\"1\" stroke-width=\"3.2\"/>\n",
       "<circle clip-path=\"url(#clip772)\" cx=\"429.876\" cy=\"1294.86\" r=\"14\" fill=\"#009af9\" fill-rule=\"evenodd\" fill-opacity=\"1\" stroke=\"#000000\" stroke-opacity=\"1\" stroke-width=\"3.2\"/>\n",
       "<circle clip-path=\"url(#clip772)\" cx=\"662.388\" cy=\"1144\" r=\"14\" fill=\"#009af9\" fill-rule=\"evenodd\" fill-opacity=\"1\" stroke=\"#000000\" stroke-opacity=\"1\" stroke-width=\"3.2\"/>\n",
       "<circle clip-path=\"url(#clip772)\" cx=\"894.901\" cy=\"993.136\" r=\"14\" fill=\"#009af9\" fill-rule=\"evenodd\" fill-opacity=\"1\" stroke=\"#000000\" stroke-opacity=\"1\" stroke-width=\"3.2\"/>\n",
       "<circle clip-path=\"url(#clip772)\" cx=\"1127.41\" cy=\"842.276\" r=\"14\" fill=\"#009af9\" fill-rule=\"evenodd\" fill-opacity=\"1\" stroke=\"#000000\" stroke-opacity=\"1\" stroke-width=\"3.2\"/>\n",
       "<circle clip-path=\"url(#clip772)\" cx=\"1359.93\" cy=\"691.416\" r=\"14\" fill=\"#009af9\" fill-rule=\"evenodd\" fill-opacity=\"1\" stroke=\"#000000\" stroke-opacity=\"1\" stroke-width=\"3.2\"/>\n",
       "<circle clip-path=\"url(#clip772)\" cx=\"1592.44\" cy=\"540.556\" r=\"14\" fill=\"#009af9\" fill-rule=\"evenodd\" fill-opacity=\"1\" stroke=\"#000000\" stroke-opacity=\"1\" stroke-width=\"3.2\"/>\n",
       "<circle clip-path=\"url(#clip772)\" cx=\"1824.95\" cy=\"389.696\" r=\"14\" fill=\"#009af9\" fill-rule=\"evenodd\" fill-opacity=\"1\" stroke=\"#000000\" stroke-opacity=\"1\" stroke-width=\"3.2\"/>\n",
       "<circle clip-path=\"url(#clip772)\" cx=\"2057.46\" cy=\"238.836\" r=\"14\" fill=\"#009af9\" fill-rule=\"evenodd\" fill-opacity=\"1\" stroke=\"#000000\" stroke-opacity=\"1\" stroke-width=\"3.2\"/>\n",
       "<circle clip-path=\"url(#clip772)\" cx=\"2289.98\" cy=\"87.9763\" r=\"14\" fill=\"#009af9\" fill-rule=\"evenodd\" fill-opacity=\"1\" stroke=\"#000000\" stroke-opacity=\"1\" stroke-width=\"3.2\"/>\n",
       "<path clip-path=\"url(#clip770)\" d=\"\n",
       "M1981.34 216.178 L2278.82 216.178 L2278.82 95.2176 L1981.34 95.2176  Z\n",
       "  \" fill=\"#ffffff\" fill-rule=\"evenodd\" fill-opacity=\"1\"/>\n",
       "<polyline clip-path=\"url(#clip770)\" style=\"stroke:#000000; stroke-width:4; stroke-opacity:1; fill:none\" points=\"\n",
       "  1981.34,216.178 2278.82,216.178 2278.82,95.2176 1981.34,95.2176 1981.34,216.178 \n",
       "  \"/>\n",
       "<circle clip-path=\"url(#clip770)\" cx=\"2079.92\" cy=\"155.698\" r=\"23\" fill=\"#009af9\" fill-rule=\"evenodd\" fill-opacity=\"1\" stroke=\"#000000\" stroke-opacity=\"1\" stroke-width=\"5.12\"/>\n",
       "<path clip-path=\"url(#clip770)\" d=\"M 0 0 M2192.35 175.385 Q2190.54 180.015 2188.83 181.427 Q2187.12 182.839 2184.25 182.839 L2180.84 182.839 L2180.84 179.274 L2183.34 179.274 Q2185.1 179.274 2186.08 178.44 Q2187.05 177.607 2188.23 174.505 L2188.99 172.561 L2178.51 147.052 L2183.02 147.052 L2191.12 167.329 L2199.22 147.052 L2203.74 147.052 L2192.35 175.385 Z\" fill=\"#000000\" fill-rule=\"evenodd\" fill-opacity=\"1\" /><path clip-path=\"url(#clip770)\" d=\"M 0 0 M2209.62 169.042 L2217.26 169.042 L2217.26 142.677 L2208.95 144.343 L2208.95 140.084 L2217.21 138.418 L2221.89 138.418 L2221.89 169.042 L2229.52 169.042 L2229.52 172.978 L2209.62 172.978 L2209.62 169.042 Z\" fill=\"#000000\" fill-rule=\"evenodd\" fill-opacity=\"1\" /></svg>\n"
      ]
     },
     "execution_count": 2,
     "metadata": {},
     "output_type": "execute_result"
    }
   ],
   "source": [
    "scatter(1:10)"
   ]
  },
  {
   "cell_type": "code",
   "execution_count": 3,
   "metadata": {},
   "outputs": [
    {
     "data": {
      "text/plain": [
       "lsimulation (generic function with 6 methods)"
      ]
     },
     "execution_count": 3,
     "metadata": {},
     "output_type": "execute_result"
    }
   ],
   "source": [
    "function lsimulation(lvals,iter::Integer,angmax::Real=pi/20,angmin::Real=-pi/20)\n",
    "    n = length(lvals)-1\n",
    "    rmsds_mean = zeros(n+1)\n",
    "    rmsds_error = zeros(n+1)\n",
    "    for (ind,l) in enumerate(lvals)\n",
    "        temp_rmsds = zeros(iter)\n",
    "        println(ind)\n",
    "        for j in 1:iter\n",
    "            P = stair(5)\n",
    "            Q = knittingneedle(l)\n",
    "            lastQ, angles, diheds = randomSearch(P,Q,1e-5,angmax,angmin,max_iter=10000)\n",
    "            temp_rmsds[j] = overlapedRmsd(P,lastQ)\n",
    "        end\n",
    "        rmsds_mean[ind] = Statistics.mean(temp_rmsds)\n",
    "        rmsds_error[ind] = Statistics.std(temp_rmsds)\n",
    "    end\n",
    "    return lvals,rmsds_mean,rmsds_error\n",
    "end"
   ]
  },
  {
   "cell_type": "code",
   "execution_count": null,
   "metadata": {},
   "outputs": [],
   "source": [
    "p = plot()\n",
    "lvals,rmsds_mean,rmsds_error = lsimulation(LinRange(1.35,1.45,51),10)\n",
    "scatter!(lvals,rmsds_mean,yerror=rmsds_error,ylabel=\"RMSD sobrepuesto\",xlabel=\"L\",label=false)"
   ]
  },
  {
   "cell_type": "code",
   "execution_count": null,
   "metadata": {},
   "outputs": [],
   "source": [
    "plotlyjs()"
   ]
  },
  {
   "cell_type": "code",
   "execution_count": null,
   "metadata": {},
   "outputs": [],
   "source": [
    "include(\"../src/test.jl\")"
   ]
  },
  {
   "cell_type": "code",
   "execution_count": null,
   "metadata": {},
   "outputs": [],
   "source": [
    "p = plot()\n",
    "plotChain!(lastQ,\"lightblue\")\n",
    "p"
   ]
  },
  {
   "cell_type": "code",
   "execution_count": null,
   "metadata": {},
   "outputs": [],
   "source": []
  }
 ],
 "metadata": {
  "kernelspec": {
   "display_name": "Julia 1.5.3",
   "language": "julia",
   "name": "julia-1.5"
  },
  "language_info": {
   "file_extension": ".jl",
   "mimetype": "application/julia",
   "name": "julia",
   "version": "1.5.3"
  }
 },
 "nbformat": 4,
 "nbformat_minor": 4
}
