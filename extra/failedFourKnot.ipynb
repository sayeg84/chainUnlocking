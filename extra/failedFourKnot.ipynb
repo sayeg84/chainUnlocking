{
 "cells": [
  {
   "cell_type": "code",
   "execution_count": 6,
   "metadata": {},
   "outputs": [
    {
     "data": {
      "application/vnd.plotly.v1+json": {
       "data": [
        {
         "colorbar": {
          "title": {
           "text": ""
          }
         },
         "legendgroup": "y1",
         "line": {
          "color": "rgba(0, 154, 250, 1.000)",
          "dash": "solid",
          "shape": "linear",
          "width": 1
         },
         "mode": "lines",
         "name": "y1",
         "showlegend": true,
         "type": "scatter",
         "x": [
          1,
          2,
          3,
          4,
          5,
          6,
          7,
          8,
          9,
          10
         ],
         "xaxis": "x",
         "y": [
          1,
          2,
          3,
          4,
          5,
          6,
          7,
          8,
          9,
          10
         ],
         "yaxis": "y",
         "zmax": null,
         "zmin": null
        }
       ],
       "layout": {
        "annotations": [],
        "height": 400,
        "legend": {
         "bgcolor": "rgba(255, 255, 255, 1.000)",
         "bordercolor": "rgba(0, 0, 0, 1)",
         "borderwidth": 1,
         "font": {
          "color": "rgba(0, 0, 0, 1)",
          "family": "sans-serif",
          "size": 11
         },
         "title": {
          "font": {
           "color": "rgba(0, 0, 0, 1)",
           "family": "sans-serif",
           "size": 15
          },
          "text": ""
         },
         "tracegroupgap": 0,
         "traceorder": "normal",
         "x": 1,
         "xanchor": "auto",
         "y": 1,
         "yanchor": "auto"
        },
        "margin": {
         "b": 20,
         "l": 0,
         "r": 0,
         "t": 20
        },
        "paper_bgcolor": "rgba(255, 255, 255, 1.000)",
        "plot_bgcolor": "rgba(255, 255, 255, 1.000)",
        "showlegend": true,
        "width": 600,
        "xaxis": {
         "anchor": "y",
         "domain": [
          0.03619130941965587,
          0.9934383202099738
         ],
         "gridcolor": "rgba(0, 0, 0, 0.1)",
         "gridwidth": 0.5,
         "linecolor": "rgba(0, 0, 0, 1)",
         "mirror": false,
         "range": [
          0.73,
          10.27
         ],
         "showgrid": true,
         "showline": true,
         "showticklabels": true,
         "tickangle": 0,
         "tickcolor": "rgb(0, 0, 0)",
         "tickfont": {
          "color": "rgba(0, 0, 0, 1)",
          "family": "sans-serif",
          "size": 11
         },
         "tickmode": "array",
         "ticks": "inside",
         "ticktext": [
          "2",
          "4",
          "6",
          "8",
          "10"
         ],
         "tickvals": [
          2,
          4,
          6,
          8,
          10
         ],
         "title": {
          "font": {
           "color": "rgba(0, 0, 0, 1)",
           "family": "sans-serif",
           "size": 15
          },
          "text": ""
         },
         "type": "linear",
         "visible": true,
         "zeroline": false,
         "zerolinecolor": "rgba(0, 0, 0, 1)"
        },
        "yaxis": {
         "anchor": "x",
         "domain": [
          0.03762029746281716,
          0.9901574803149606
         ],
         "gridcolor": "rgba(0, 0, 0, 0.1)",
         "gridwidth": 0.5,
         "linecolor": "rgba(0, 0, 0, 1)",
         "mirror": false,
         "range": [
          0.73,
          10.27
         ],
         "showgrid": true,
         "showline": true,
         "showticklabels": true,
         "tickangle": 0,
         "tickcolor": "rgb(0, 0, 0)",
         "tickfont": {
          "color": "rgba(0, 0, 0, 1)",
          "family": "sans-serif",
          "size": 11
         },
         "tickmode": "array",
         "ticks": "inside",
         "ticktext": [
          "2",
          "4",
          "6",
          "8",
          "10"
         ],
         "tickvals": [
          2,
          4,
          6,
          8,
          10
         ],
         "title": {
          "font": {
           "color": "rgba(0, 0, 0, 1)",
           "family": "sans-serif",
           "size": 15
          },
          "text": ""
         },
         "type": "linear",
         "visible": true,
         "zeroline": false,
         "zerolinecolor": "rgba(0, 0, 0, 1)"
        }
       }
      },
      "image/png": "[encoded data removed]",
      "text/html": [
       "    <div id=\"1ac5e809-37a1-42c4-92b2-d8752ce53944\" style=\"width:600px;height:400px;\"></div>\n",
       "    <script>\n",
       "        requirejs.config({\n",
       "        paths: {\n",
       "            Plotly: 'https://cdn.plot.ly/plotly-1.57.1.min'\n",
       "        }\n",
       "    });\n",
       "    require(['Plotly'], function (Plotly) {\n",
       "\n",
       "        var PLOT = document.getElementById('1ac5e809-37a1-42c4-92b2-d8752ce53944');\n",
       "    Plotly.plot(PLOT, [\n",
       "    {\n",
       "        \"xaxis\": \"x\",\n",
       "        \"colorbar\": {\n",
       "            \"title\": \"\"\n",
       "        },\n",
       "        \"yaxis\": \"y\",\n",
       "        \"x\": [\n",
       "            1,\n",
       "            2,\n",
       "            3,\n",
       "            4,\n",
       "            5,\n",
       "            6,\n",
       "            7,\n",
       "            8,\n",
       "            9,\n",
       "            10\n",
       "        ],\n",
       "        \"showlegend\": true,\n",
       "        \"mode\": \"lines\",\n",
       "        \"name\": \"y1\",\n",
       "        \"zmin\": null,\n",
       "        \"legendgroup\": \"y1\",\n",
       "        \"zmax\": null,\n",
       "        \"line\": {\n",
       "            \"color\": \"rgba(0, 154, 250, 1.000)\",\n",
       "            \"shape\": \"linear\",\n",
       "            \"dash\": \"solid\",\n",
       "            \"width\": 1\n",
       "        },\n",
       "        \"y\": [\n",
       "            1,\n",
       "            2,\n",
       "            3,\n",
       "            4,\n",
       "            5,\n",
       "            6,\n",
       "            7,\n",
       "            8,\n",
       "            9,\n",
       "            10\n",
       "        ],\n",
       "        \"type\": \"scatter\"\n",
       "    }\n",
       "]\n",
       ", {\n",
       "    \"showlegend\": true,\n",
       "    \"xaxis\": {\n",
       "        \"showticklabels\": true,\n",
       "        \"gridwidth\": 0.5,\n",
       "        \"tickvals\": [\n",
       "            2.0,\n",
       "            4.0,\n",
       "            6.0,\n",
       "            8.0,\n",
       "            10.0\n",
       "        ],\n",
       "        \"range\": [\n",
       "            0.73,\n",
       "            10.27\n",
       "        ],\n",
       "        \"domain\": [\n",
       "            0.03619130941965587,\n",
       "            0.9934383202099738\n",
       "        ],\n",
       "        \"mirror\": false,\n",
       "        \"tickangle\": 0,\n",
       "        \"showline\": true,\n",
       "        \"ticktext\": [\n",
       "            \"2\",\n",
       "            \"4\",\n",
       "            \"6\",\n",
       "            \"8\",\n",
       "            \"10\"\n",
       "        ],\n",
       "        \"zeroline\": false,\n",
       "        \"tickfont\": {\n",
       "            \"color\": \"rgba(0, 0, 0, 1.000)\",\n",
       "            \"family\": \"sans-serif\",\n",
       "            \"size\": 11\n",
       "        },\n",
       "        \"zerolinecolor\": \"rgba(0, 0, 0, 1.000)\",\n",
       "        \"anchor\": \"y\",\n",
       "        \"visible\": true,\n",
       "        \"ticks\": \"inside\",\n",
       "        \"tickmode\": \"array\",\n",
       "        \"linecolor\": \"rgba(0, 0, 0, 1.000)\",\n",
       "        \"showgrid\": true,\n",
       "        \"title\": \"\",\n",
       "        \"gridcolor\": \"rgba(0, 0, 0, 0.100)\",\n",
       "        \"titlefont\": {\n",
       "            \"color\": \"rgba(0, 0, 0, 1.000)\",\n",
       "            \"family\": \"sans-serif\",\n",
       "            \"size\": 15\n",
       "        },\n",
       "        \"tickcolor\": \"rgb(0, 0, 0)\",\n",
       "        \"type\": \"-\"\n",
       "    },\n",
       "    \"paper_bgcolor\": \"rgba(255, 255, 255, 1.000)\",\n",
       "    \"annotations\": [],\n",
       "    \"height\": 400,\n",
       "    \"margin\": {\n",
       "        \"l\": 0,\n",
       "        \"b\": 20,\n",
       "        \"r\": 0,\n",
       "        \"t\": 20\n",
       "    },\n",
       "    \"plot_bgcolor\": \"rgba(255, 255, 255, 1.000)\",\n",
       "    \"yaxis\": {\n",
       "        \"showticklabels\": true,\n",
       "        \"gridwidth\": 0.5,\n",
       "        \"tickvals\": [\n",
       "            2.0,\n",
       "            4.0,\n",
       "            6.0,\n",
       "            8.0,\n",
       "            10.0\n",
       "        ],\n",
       "        \"range\": [\n",
       "            0.73,\n",
       "            10.27\n",
       "        ],\n",
       "        \"domain\": [\n",
       "            0.03762029746281716,\n",
       "            0.9901574803149606\n",
       "        ],\n",
       "        \"mirror\": false,\n",
       "        \"tickangle\": 0,\n",
       "        \"showline\": true,\n",
       "        \"ticktext\": [\n",
       "            \"2\",\n",
       "            \"4\",\n",
       "            \"6\",\n",
       "            \"8\",\n",
       "            \"10\"\n",
       "        ],\n",
       "        \"zeroline\": false,\n",
       "        \"tickfont\": {\n",
       "            \"color\": \"rgba(0, 0, 0, 1.000)\",\n",
       "            \"family\": \"sans-serif\",\n",
       "            \"size\": 11\n",
       "        },\n",
       "        \"zerolinecolor\": \"rgba(0, 0, 0, 1.000)\",\n",
       "        \"anchor\": \"x\",\n",
       "        \"visible\": true,\n",
       "        \"ticks\": \"inside\",\n",
       "        \"tickmode\": \"array\",\n",
       "        \"linecolor\": \"rgba(0, 0, 0, 1.000)\",\n",
       "        \"showgrid\": true,\n",
       "        \"title\": \"\",\n",
       "        \"gridcolor\": \"rgba(0, 0, 0, 0.100)\",\n",
       "        \"titlefont\": {\n",
       "            \"color\": \"rgba(0, 0, 0, 1.000)\",\n",
       "            \"family\": \"sans-serif\",\n",
       "            \"size\": 15\n",
       "        },\n",
       "        \"tickcolor\": \"rgb(0, 0, 0)\",\n",
       "        \"type\": \"-\"\n",
       "    },\n",
       "    \"legend\": {\n",
       "        \"yanchor\": \"auto\",\n",
       "        \"xanchor\": \"auto\",\n",
       "        \"bordercolor\": \"rgba(0, 0, 0, 1.000)\",\n",
       "        \"bgcolor\": \"rgba(255, 255, 255, 1.000)\",\n",
       "        \"borderwidth\": 1,\n",
       "        \"tracegroupgap\": 0,\n",
       "        \"y\": 1.0,\n",
       "        \"font\": {\n",
       "            \"color\": \"rgba(0, 0, 0, 1.000)\",\n",
       "            \"family\": \"sans-serif\",\n",
       "            \"size\": 11\n",
       "        },\n",
       "        \"title\": {\n",
       "            \"font\": {\n",
       "                \"color\": \"rgba(0, 0, 0, 1.000)\",\n",
       "                \"family\": \"sans-serif\",\n",
       "                \"size\": 15\n",
       "            },\n",
       "            \"text\": \"\"\n",
       "        },\n",
       "        \"traceorder\": \"normal\",\n",
       "        \"x\": 1.0\n",
       "    },\n",
       "    \"width\": 600\n",
       "}\n",
       ");\n",
       "\n",
       "    });\n",
       "    </script>\n"
      ]
     },
     "execution_count": 6,
     "metadata": {},
     "output_type": "execute_result"
    }
   ],
   "source": [
    "using Plots,Interact\n",
    "plotlyjs()\n",
    "plot(1:10)"
   ]
  },
  {
   "cell_type": "code",
   "execution_count": 7,
   "metadata": {},
   "outputs": [
    {
     "name": "stderr",
     "output_type": "stream",
     "text": [
      "WARNING: redefinition of constant ex. This may fail, cause incorrect answers, or produce other errors.\n",
      "WARNING: redefinition of constant ey. This may fail, cause incorrect answers, or produce other errors.\n",
      "WARNING: redefinition of constant ez. This may fail, cause incorrect answers, or produce other errors.\n",
      "WARNING: redefinition of constant e0. This may fail, cause incorrect answers, or produce other errors.\n",
      "WARNING: redefinition of constant ex. This may fail, cause incorrect answers, or produce other errors.\n",
      "WARNING: redefinition of constant ey. This may fail, cause incorrect answers, or produce other errors.\n",
      "WARNING: redefinition of constant ez. This may fail, cause incorrect answers, or produce other errors.\n",
      "WARNING: redefinition of constant e0. This may fail, cause incorrect answers, or produce other errors.\n"
     ]
    }
   ],
   "source": [
    "include(\"../src/test.jl\")"
   ]
  },
  {
   "cell_type": "code",
   "execution_count": 15,
   "metadata": {},
   "outputs": [],
   "source": [
    "lens,bangs,dangs = internalCoordinates(fourKnot(1.1));"
   ]
  },
  {
   "cell_type": "code",
   "execution_count": 16,
   "metadata": {},
   "outputs": [
    {
     "data": {
      "text/plain": [
       "5-element Vector{BigFloat}:\n",
       " 1.471943986649213430226809606570296367175932867080043203123707291149375786627806\n",
       " 1.570796327242457013916272464462335572107766976060559886154534011729618695149068\n",
       " 1.570796326365258676171924724146957975559712183384202542339799523462858240615347\n",
       " 1.560895170414339605208500618726112584936438291732664768428852369661322999431865\n",
       " 1.471943982465668559432171807236302823091864000224535700252453367125293848209907"
      ]
     },
     "execution_count": 16,
     "metadata": {},
     "output_type": "execute_result"
    }
   ],
   "source": [
    "bangs"
   ]
  },
  {
   "cell_type": "code",
   "execution_count": 9,
   "metadata": {},
   "outputs": [
    {
     "data": {
      "text/plain": [
       "Point(0.987688340595137770350220307591371238231658935546875, 0.0, 0.1564344650402308689596253543641068972647190093994140625)"
      ]
     },
     "execution_count": 9,
     "metadata": {},
     "output_type": "execute_result"
    }
   ],
   "source": [
    "rotate(ex,pi/20,-1*ey)"
   ]
  },
  {
   "cell_type": "code",
   "execution_count": 18,
   "metadata": {},
   "outputs": [
    {
     "data": {
      "application/vnd.webio.node+json": {
       "children": [
        {
         "children": [
          {
           "children": [
            {
             "children": [
              {
               "children": [
                {
                 "children": [
                  "ang1"
                 ],
                 "instanceArgs": {
                  "namespace": "html",
                  "tag": "label"
                 },
                 "nodeType": "DOM",
                 "props": {
                  "className": "interact ",
                  "style": {
                   "padding": "5px 10px 0px 10px"
                  }
                 },
                 "type": "node"
                }
               ],
               "instanceArgs": {
                "namespace": "html",
                "tag": "div"
               },
               "nodeType": "DOM",
               "props": {
                "className": "interact-flex-row-left"
               },
               "type": "node"
              },
              {
               "children": [
                {
                 "children": [],
                 "instanceArgs": {
                  "namespace": "html",
                  "tag": "input"
                 },
                 "nodeType": "DOM",
                 "props": {
                  "attributes": {
                   "data-bind": "numericValue: index, valueUpdate: 'input', event: {change: function (){this.changes(this.changes()+1)}}",
                   "orient": "horizontal",
                   "type": "range"
                  },
                  "className": "slider slider is-fullwidth",
                  "max": 51,
                  "min": 1,
                  "step": 1,
                  "style": {}
                 },
                 "type": "node"
                }
               ],
               "instanceArgs": {
                "namespace": "html",
                "tag": "div"
               },
               "nodeType": "DOM",
               "props": {
                "className": "interact-flex-row-center"
               },
               "type": "node"
              },
              {
               "children": [
                {
                 "children": [],
                 "instanceArgs": {
                  "namespace": "html",
                  "tag": "p"
                 },
                 "nodeType": "DOM",
                 "props": {
                  "attributes": {
                   "data-bind": "text: formatted_val"
                  }
                 },
                 "type": "node"
                }
               ],
               "instanceArgs": {
                "namespace": "html",
                "tag": "div"
               },
               "nodeType": "DOM",
               "props": {
                "className": "interact-flex-row-right"
               },
               "type": "node"
              }
             ],
             "instanceArgs": {
              "namespace": "html",
              "tag": "div"
             },
             "nodeType": "DOM",
             "props": {
              "className": "interact-flex-row interact-widget"
             },
             "type": "node"
            }
           ],
           "instanceArgs": {
            "handlers": {
             "changes": [
              "(function (val){return (val!=this.model[\"changes\"]()) ? (this.valueFromJulia[\"changes\"]=true, this.model[\"changes\"](val)) : undefined})"
             ],
             "index": [
              "(function (val){return (val!=this.model[\"index\"]()) ? (this.valueFromJulia[\"index\"]=true, this.model[\"index\"](val)) : undefined})"
             ]
            },
            "id": "12660577446641219766",
            "imports": {
             "data": [
              {
               "name": "knockout",
               "type": "js",
               "url": "/assetserver/7ce5fb94901cd9817b0d2f5c55656bbbc8077c10-knockout.js"
              },
              {
               "name": "knockout_punches",
               "type": "js",
               "url": "/assetserver/bd9fbe3cc592c27356f31921aa080f1c09d2cb5d-knockout_punches.js"
              },
              {
               "name": null,
               "type": "js",
               "url": "/assetserver/396e9dca96a747e8959c1c1f80c933d66a98bf1f-all.js"
              },
              {
               "name": null,
               "type": "css",
               "url": "/assetserver/358ec8c8352c7354edb9b199d4afd9347810a55c-style.css"
              },
              {
               "name": null,
               "type": "css",
               "url": "/assetserver/62b0c7544019fc934d3511d29e7b58032a866f63-bulma_confined.min.css"
              }
             ],
             "type": "async_block"
            },
            "mount_callbacks": [
             "function () {\n    var handler = (function (ko, koPunches) {\n    ko.punches.enableAll();\n    ko.bindingHandlers.numericValue = {\n        init: function(element, valueAccessor, allBindings, data, context) {\n            var stringified = ko.observable(ko.unwrap(valueAccessor()));\n            stringified.subscribe(function(value) {\n                var val = parseFloat(value);\n                if (!isNaN(val)) {\n                    valueAccessor()(val);\n                }\n            });\n            valueAccessor().subscribe(function(value) {\n                var str = JSON.stringify(value);\n                if ((str == \"0\") && ([\"-0\", \"-0.\"].indexOf(stringified()) >= 0))\n                     return;\n                 if ([\"null\", \"\"].indexOf(str) >= 0)\n                     return;\n                stringified(str);\n            });\n            ko.applyBindingsToNode(\n                element,\n                {\n                    value: stringified,\n                    valueUpdate: allBindings.get('valueUpdate'),\n                },\n                context,\n            );\n        }\n    };\n    var json_data = {\"formatted_vals\":[\"0.0\",\"0.00314159\",\"0.00628319\",\"0.00942478\",\"0.0125664\",\"0.015708\",\"0.0188496\",\"0.0219911\",\"0.0251327\",\"0.0282743\",\"0.0314159\",\"0.0345575\",\"0.0376991\",\"0.0408407\",\"0.0439823\",\"0.0471239\",\"0.0502655\",\"0.0534071\",\"0.0565487\",\"0.0596903\",\"0.0628319\",\"0.0659734\",\"0.069115\",\"0.0722566\",\"0.0753982\",\"0.0785398\",\"0.0816814\",\"0.084823\",\"0.0879646\",\"0.0911062\",\"0.0942478\",\"0.0973894\",\"0.100531\",\"0.103673\",\"0.106814\",\"0.109956\",\"0.113097\",\"0.116239\",\"0.119381\",\"0.122522\",\"0.125664\",\"0.128805\",\"0.131947\",\"0.135088\",\"0.13823\",\"0.141372\",\"0.144513\",\"0.147655\",\"0.150796\",\"0.153938\",\"0.15708\"],\"changes\":WebIO.getval({\"name\":\"changes\",\"scope\":\"12660577446641219766\",\"id\":\"17005127137154617751\",\"type\":\"observable\"}),\"index\":WebIO.getval({\"name\":\"index\",\"scope\":\"12660577446641219766\",\"id\":\"1633372455295631597\",\"type\":\"observable\"})};\n    var self = this;\n    function AppViewModel() {\n        for (var key in json_data) {\n            var el = json_data[key];\n            this[key] = Array.isArray(el) ? ko.observableArray(el) : ko.observable(el);\n        }\n        \n        [this[\"formatted_val\"]=ko.computed(    function(){\n        return this.formatted_vals()[parseInt(this.index())-(1)];\n    }\n,this)]\n        [this[\"changes\"].subscribe((function (val){!(this.valueFromJulia[\"changes\"]) ? (WebIO.setval({\"name\":\"changes\",\"scope\":\"12660577446641219766\",\"id\":\"17005127137154617751\",\"type\":\"observable\"},val)) : undefined; return this.valueFromJulia[\"changes\"]=false}),self),this[\"index\"].subscribe((function (val){!(this.valueFromJulia[\"index\"]) ? (WebIO.setval({\"name\":\"index\",\"scope\":\"12660577446641219766\",\"id\":\"1633372455295631597\",\"type\":\"observable\"},val)) : undefined; return this.valueFromJulia[\"index\"]=false}),self)]\n        \n    }\n    self.model = new AppViewModel();\n    self.valueFromJulia = {};\n    for (var key in json_data) {\n        self.valueFromJulia[key] = false;\n    }\n    ko.applyBindings(self.model, self.dom);\n}\n);\n    (WebIO.importBlock({\"data\":[{\"name\":\"knockout\",\"type\":\"js\",\"url\":\"/assetserver/7ce5fb94901cd9817b0d2f5c55656bbbc8077c10-knockout.js\"},{\"name\":\"knockout_punches\",\"type\":\"js\",\"url\":\"/assetserver/bd9fbe3cc592c27356f31921aa080f1c09d2cb5d-knockout_punches.js\"}],\"type\":\"async_block\"})).then((imports) => handler.apply(this, imports));\n}\n"
            ],
            "observables": {
             "changes": {
              "id": "17005127137154617751",
              "sync": false,
              "value": 0
             },
             "index": {
              "id": "1633372455295631597",
              "sync": true,
              "value": 26
             }
            },
            "systemjs_options": null
           },
           "nodeType": "Scope",
           "props": {},
           "type": "node"
          }
         ],
         "instanceArgs": {
          "namespace": "html",
          "tag": "div"
         },
         "nodeType": "DOM",
         "props": {
          "className": "field interact-widget"
         },
         "type": "node"
        },
        {
         "children": [
          {
           "children": [
            {
             "children": [
              {
               "children": [
                {
                 "children": [
                  "ang2"
                 ],
                 "instanceArgs": {
                  "namespace": "html",
                  "tag": "label"
                 },
                 "nodeType": "DOM",
                 "props": {
                  "className": "interact ",
                  "style": {
                   "padding": "5px 10px 0px 10px"
                  }
                 },
                 "type": "node"
                }
               ],
               "instanceArgs": {
                "namespace": "html",
                "tag": "div"
               },
               "nodeType": "DOM",
               "props": {
                "className": "interact-flex-row-left"
               },
               "type": "node"
              },
              {
               "children": [
                {
                 "children": [],
                 "instanceArgs": {
                  "namespace": "html",
                  "tag": "input"
                 },
                 "nodeType": "DOM",
                 "props": {
                  "attributes": {
                   "data-bind": "numericValue: index, valueUpdate: 'input', event: {change: function (){this.changes(this.changes()+1)}}",
                   "orient": "horizontal",
                   "type": "range"
                  },
                  "className": "slider slider is-fullwidth",
                  "max": 51,
                  "min": 1,
                  "step": 1,
                  "style": {}
                 },
                 "type": "node"
                }
               ],
               "instanceArgs": {
                "namespace": "html",
                "tag": "div"
               },
               "nodeType": "DOM",
               "props": {
                "className": "interact-flex-row-center"
               },
               "type": "node"
              },
              {
               "children": [
                {
                 "children": [],
                 "instanceArgs": {
                  "namespace": "html",
                  "tag": "p"
                 },
                 "nodeType": "DOM",
                 "props": {
                  "attributes": {
                   "data-bind": "text: formatted_val"
                  }
                 },
                 "type": "node"
                }
               ],
               "instanceArgs": {
                "namespace": "html",
                "tag": "div"
               },
               "nodeType": "DOM",
               "props": {
                "className": "interact-flex-row-right"
               },
               "type": "node"
              }
             ],
             "instanceArgs": {
              "namespace": "html",
              "tag": "div"
             },
             "nodeType": "DOM",
             "props": {
              "className": "interact-flex-row interact-widget"
             },
             "type": "node"
            }
           ],
           "instanceArgs": {
            "handlers": {
             "changes": [
              "(function (val){return (val!=this.model[\"changes\"]()) ? (this.valueFromJulia[\"changes\"]=true, this.model[\"changes\"](val)) : undefined})"
             ],
             "index": [
              "(function (val){return (val!=this.model[\"index\"]()) ? (this.valueFromJulia[\"index\"]=true, this.model[\"index\"](val)) : undefined})"
             ]
            },
            "id": "12652859862838733158",
            "imports": {
             "data": [
              {
               "name": "knockout",
               "type": "js",
               "url": "/assetserver/7ce5fb94901cd9817b0d2f5c55656bbbc8077c10-knockout.js"
              },
              {
               "name": "knockout_punches",
               "type": "js",
               "url": "/assetserver/bd9fbe3cc592c27356f31921aa080f1c09d2cb5d-knockout_punches.js"
              },
              {
               "name": null,
               "type": "js",
               "url": "/assetserver/396e9dca96a747e8959c1c1f80c933d66a98bf1f-all.js"
              },
              {
               "name": null,
               "type": "css",
               "url": "/assetserver/358ec8c8352c7354edb9b199d4afd9347810a55c-style.css"
              },
              {
               "name": null,
               "type": "css",
               "url": "/assetserver/62b0c7544019fc934d3511d29e7b58032a866f63-bulma_confined.min.css"
              }
             ],
             "type": "async_block"
            },
            "mount_callbacks": [
             "function () {\n    var handler = (function (ko, koPunches) {\n    ko.punches.enableAll();\n    ko.bindingHandlers.numericValue = {\n        init: function(element, valueAccessor, allBindings, data, context) {\n            var stringified = ko.observable(ko.unwrap(valueAccessor()));\n            stringified.subscribe(function(value) {\n                var val = parseFloat(value);\n                if (!isNaN(val)) {\n                    valueAccessor()(val);\n                }\n            });\n            valueAccessor().subscribe(function(value) {\n                var str = JSON.stringify(value);\n                if ((str == \"0\") && ([\"-0\", \"-0.\"].indexOf(stringified()) >= 0))\n                     return;\n                 if ([\"null\", \"\"].indexOf(str) >= 0)\n                     return;\n                stringified(str);\n            });\n            ko.applyBindingsToNode(\n                element,\n                {\n                    value: stringified,\n                    valueUpdate: allBindings.get('valueUpdate'),\n                },\n                context,\n            );\n        }\n    };\n    var json_data = {\"formatted_vals\":[\"0.0\",\"0.00314159\",\"0.00628319\",\"0.00942478\",\"0.0125664\",\"0.015708\",\"0.0188496\",\"0.0219911\",\"0.0251327\",\"0.0282743\",\"0.0314159\",\"0.0345575\",\"0.0376991\",\"0.0408407\",\"0.0439823\",\"0.0471239\",\"0.0502655\",\"0.0534071\",\"0.0565487\",\"0.0596903\",\"0.0628319\",\"0.0659734\",\"0.069115\",\"0.0722566\",\"0.0753982\",\"0.0785398\",\"0.0816814\",\"0.084823\",\"0.0879646\",\"0.0911062\",\"0.0942478\",\"0.0973894\",\"0.100531\",\"0.103673\",\"0.106814\",\"0.109956\",\"0.113097\",\"0.116239\",\"0.119381\",\"0.122522\",\"0.125664\",\"0.128805\",\"0.131947\",\"0.135088\",\"0.13823\",\"0.141372\",\"0.144513\",\"0.147655\",\"0.150796\",\"0.153938\",\"0.15708\"],\"changes\":WebIO.getval({\"name\":\"changes\",\"scope\":\"12652859862838733158\",\"id\":\"10696302771802187845\",\"type\":\"observable\"}),\"index\":WebIO.getval({\"name\":\"index\",\"scope\":\"12652859862838733158\",\"id\":\"8026513486189279446\",\"type\":\"observable\"})};\n    var self = this;\n    function AppViewModel() {\n        for (var key in json_data) {\n            var el = json_data[key];\n            this[key] = Array.isArray(el) ? ko.observableArray(el) : ko.observable(el);\n        }\n        \n        [this[\"formatted_val\"]=ko.computed(    function(){\n        return this.formatted_vals()[parseInt(this.index())-(1)];\n    }\n,this)]\n        [this[\"changes\"].subscribe((function (val){!(this.valueFromJulia[\"changes\"]) ? (WebIO.setval({\"name\":\"changes\",\"scope\":\"12652859862838733158\",\"id\":\"10696302771802187845\",\"type\":\"observable\"},val)) : undefined; return this.valueFromJulia[\"changes\"]=false}),self),this[\"index\"].subscribe((function (val){!(this.valueFromJulia[\"index\"]) ? (WebIO.setval({\"name\":\"index\",\"scope\":\"12652859862838733158\",\"id\":\"8026513486189279446\",\"type\":\"observable\"},val)) : undefined; return this.valueFromJulia[\"index\"]=false}),self)]\n        \n    }\n    self.model = new AppViewModel();\n    self.valueFromJulia = {};\n    for (var key in json_data) {\n        self.valueFromJulia[key] = false;\n    }\n    ko.applyBindings(self.model, self.dom);\n}\n);\n    (WebIO.importBlock({\"data\":[{\"name\":\"knockout\",\"type\":\"js\",\"url\":\"/assetserver/7ce5fb94901cd9817b0d2f5c55656bbbc8077c10-knockout.js\"},{\"name\":\"knockout_punches\",\"type\":\"js\",\"url\":\"/assetserver/bd9fbe3cc592c27356f31921aa080f1c09d2cb5d-knockout_punches.js\"}],\"type\":\"async_block\"})).then((imports) => handler.apply(this, imports));\n}\n"
            ],
            "observables": {
             "changes": {
              "id": "10696302771802187845",
              "sync": false,
              "value": 0
             },
             "index": {
              "id": "8026513486189279446",
              "sync": true,
              "value": 26
             }
            },
            "systemjs_options": null
           },
           "nodeType": "Scope",
           "props": {},
           "type": "node"
          }
         ],
         "instanceArgs": {
          "namespace": "html",
          "tag": "div"
         },
         "nodeType": "DOM",
         "props": {
          "className": "field interact-widget"
         },
         "type": "node"
        },
        {
         "children": [
          {
           "children": [
            {
             "children": [
              {
               "children": [
                {
                 "children": [
                  "ang3"
                 ],
                 "instanceArgs": {
                  "namespace": "html",
                  "tag": "label"
                 },
                 "nodeType": "DOM",
                 "props": {
                  "className": "interact ",
                  "style": {
                   "padding": "5px 10px 0px 10px"
                  }
                 },
                 "type": "node"
                }
               ],
               "instanceArgs": {
                "namespace": "html",
                "tag": "div"
               },
               "nodeType": "DOM",
               "props": {
                "className": "interact-flex-row-left"
               },
               "type": "node"
              },
              {
               "children": [
                {
                 "children": [],
                 "instanceArgs": {
                  "namespace": "html",
                  "tag": "input"
                 },
                 "nodeType": "DOM",
                 "props": {
                  "attributes": {
                   "data-bind": "numericValue: index, valueUpdate: 'input', event: {change: function (){this.changes(this.changes()+1)}}",
                   "orient": "horizontal",
                   "type": "range"
                  },
                  "className": "slider slider is-fullwidth",
                  "max": 51,
                  "min": 1,
                  "step": 1,
                  "style": {}
                 },
                 "type": "node"
                }
               ],
               "instanceArgs": {
                "namespace": "html",
                "tag": "div"
               },
               "nodeType": "DOM",
               "props": {
                "className": "interact-flex-row-center"
               },
               "type": "node"
              },
              {
               "children": [
                {
                 "children": [],
                 "instanceArgs": {
                  "namespace": "html",
                  "tag": "p"
                 },
                 "nodeType": "DOM",
                 "props": {
                  "attributes": {
                   "data-bind": "text: formatted_val"
                  }
                 },
                 "type": "node"
                }
               ],
               "instanceArgs": {
                "namespace": "html",
                "tag": "div"
               },
               "nodeType": "DOM",
               "props": {
                "className": "interact-flex-row-right"
               },
               "type": "node"
              }
             ],
             "instanceArgs": {
              "namespace": "html",
              "tag": "div"
             },
             "nodeType": "DOM",
             "props": {
              "className": "interact-flex-row interact-widget"
             },
             "type": "node"
            }
           ],
           "instanceArgs": {
            "handlers": {
             "changes": [
              "(function (val){return (val!=this.model[\"changes\"]()) ? (this.valueFromJulia[\"changes\"]=true, this.model[\"changes\"](val)) : undefined})"
             ],
             "index": [
              "(function (val){return (val!=this.model[\"index\"]()) ? (this.valueFromJulia[\"index\"]=true, this.model[\"index\"](val)) : undefined})"
             ]
            },
            "id": "1611121686312447939",
            "imports": {
             "data": [
              {
               "name": "knockout",
               "type": "js",
               "url": "/assetserver/7ce5fb94901cd9817b0d2f5c55656bbbc8077c10-knockout.js"
              },
              {
               "name": "knockout_punches",
               "type": "js",
               "url": "/assetserver/bd9fbe3cc592c27356f31921aa080f1c09d2cb5d-knockout_punches.js"
              },
              {
               "name": null,
               "type": "js",
               "url": "/assetserver/396e9dca96a747e8959c1c1f80c933d66a98bf1f-all.js"
              },
              {
               "name": null,
               "type": "css",
               "url": "/assetserver/358ec8c8352c7354edb9b199d4afd9347810a55c-style.css"
              },
              {
               "name": null,
               "type": "css",
               "url": "/assetserver/62b0c7544019fc934d3511d29e7b58032a866f63-bulma_confined.min.css"
              }
             ],
             "type": "async_block"
            },
            "mount_callbacks": [
             "function () {\n    var handler = (function (ko, koPunches) {\n    ko.punches.enableAll();\n    ko.bindingHandlers.numericValue = {\n        init: function(element, valueAccessor, allBindings, data, context) {\n            var stringified = ko.observable(ko.unwrap(valueAccessor()));\n            stringified.subscribe(function(value) {\n                var val = parseFloat(value);\n                if (!isNaN(val)) {\n                    valueAccessor()(val);\n                }\n            });\n            valueAccessor().subscribe(function(value) {\n                var str = JSON.stringify(value);\n                if ((str == \"0\") && ([\"-0\", \"-0.\"].indexOf(stringified()) >= 0))\n                     return;\n                 if ([\"null\", \"\"].indexOf(str) >= 0)\n                     return;\n                stringified(str);\n            });\n            ko.applyBindingsToNode(\n                element,\n                {\n                    value: stringified,\n                    valueUpdate: allBindings.get('valueUpdate'),\n                },\n                context,\n            );\n        }\n    };\n    var json_data = {\"formatted_vals\":[\"0.0\",\"0.00314159\",\"0.00628319\",\"0.00942478\",\"0.0125664\",\"0.015708\",\"0.0188496\",\"0.0219911\",\"0.0251327\",\"0.0282743\",\"0.0314159\",\"0.0345575\",\"0.0376991\",\"0.0408407\",\"0.0439823\",\"0.0471239\",\"0.0502655\",\"0.0534071\",\"0.0565487\",\"0.0596903\",\"0.0628319\",\"0.0659734\",\"0.069115\",\"0.0722566\",\"0.0753982\",\"0.0785398\",\"0.0816814\",\"0.084823\",\"0.0879646\",\"0.0911062\",\"0.0942478\",\"0.0973894\",\"0.100531\",\"0.103673\",\"0.106814\",\"0.109956\",\"0.113097\",\"0.116239\",\"0.119381\",\"0.122522\",\"0.125664\",\"0.128805\",\"0.131947\",\"0.135088\",\"0.13823\",\"0.141372\",\"0.144513\",\"0.147655\",\"0.150796\",\"0.153938\",\"0.15708\"],\"changes\":WebIO.getval({\"name\":\"changes\",\"scope\":\"1611121686312447939\",\"id\":\"1108961200223844913\",\"type\":\"observable\"}),\"index\":WebIO.getval({\"name\":\"index\",\"scope\":\"1611121686312447939\",\"id\":\"13337739558791629895\",\"type\":\"observable\"})};\n    var self = this;\n    function AppViewModel() {\n        for (var key in json_data) {\n            var el = json_data[key];\n            this[key] = Array.isArray(el) ? ko.observableArray(el) : ko.observable(el);\n        }\n        \n        [this[\"formatted_val\"]=ko.computed(    function(){\n        return this.formatted_vals()[parseInt(this.index())-(1)];\n    }\n,this)]\n        [this[\"changes\"].subscribe((function (val){!(this.valueFromJulia[\"changes\"]) ? (WebIO.setval({\"name\":\"changes\",\"scope\":\"1611121686312447939\",\"id\":\"1108961200223844913\",\"type\":\"observable\"},val)) : undefined; return this.valueFromJulia[\"changes\"]=false}),self),this[\"index\"].subscribe((function (val){!(this.valueFromJulia[\"index\"]) ? (WebIO.setval({\"name\":\"index\",\"scope\":\"1611121686312447939\",\"id\":\"13337739558791629895\",\"type\":\"observable\"},val)) : undefined; return this.valueFromJulia[\"index\"]=false}),self)]\n        \n    }\n    self.model = new AppViewModel();\n    self.valueFromJulia = {};\n    for (var key in json_data) {\n        self.valueFromJulia[key] = false;\n    }\n    ko.applyBindings(self.model, self.dom);\n}\n);\n    (WebIO.importBlock({\"data\":[{\"name\":\"knockout\",\"type\":\"js\",\"url\":\"/assetserver/7ce5fb94901cd9817b0d2f5c55656bbbc8077c10-knockout.js\"},{\"name\":\"knockout_punches\",\"type\":\"js\",\"url\":\"/assetserver/bd9fbe3cc592c27356f31921aa080f1c09d2cb5d-knockout_punches.js\"}],\"type\":\"async_block\"})).then((imports) => handler.apply(this, imports));\n}\n"
            ],
            "observables": {
             "changes": {
              "id": "1108961200223844913",
              "sync": false,
              "value": 0
             },
             "index": {
              "id": "13337739558791629895",
              "sync": true,
              "value": 26
             }
            },
            "systemjs_options": null
           },
           "nodeType": "Scope",
           "props": {},
           "type": "node"
          }
         ],
         "instanceArgs": {
          "namespace": "html",
          "tag": "div"
         },
         "nodeType": "DOM",
         "props": {
          "className": "field interact-widget"
         },
         "type": "node"
        },
        {
         "children": [
          {
           "children": [
            {
             "children": [
              {
               "children": [
                {
                 "children": [
                  "ang4"
                 ],
                 "instanceArgs": {
                  "namespace": "html",
                  "tag": "label"
                 },
                 "nodeType": "DOM",
                 "props": {
                  "className": "interact ",
                  "style": {
                   "padding": "5px 10px 0px 10px"
                  }
                 },
                 "type": "node"
                }
               ],
               "instanceArgs": {
                "namespace": "html",
                "tag": "div"
               },
               "nodeType": "DOM",
               "props": {
                "className": "interact-flex-row-left"
               },
               "type": "node"
              },
              {
               "children": [
                {
                 "children": [],
                 "instanceArgs": {
                  "namespace": "html",
                  "tag": "input"
                 },
                 "nodeType": "DOM",
                 "props": {
                  "attributes": {
                   "data-bind": "numericValue: index, valueUpdate: 'input', event: {change: function (){this.changes(this.changes()+1)}}",
                   "orient": "horizontal",
                   "type": "range"
                  },
                  "className": "slider slider is-fullwidth",
                  "max": 51,
                  "min": 1,
                  "step": 1,
                  "style": {}
                 },
                 "type": "node"
                }
               ],
               "instanceArgs": {
                "namespace": "html",
                "tag": "div"
               },
               "nodeType": "DOM",
               "props": {
                "className": "interact-flex-row-center"
               },
               "type": "node"
              },
              {
               "children": [
                {
                 "children": [],
                 "instanceArgs": {
                  "namespace": "html",
                  "tag": "p"
                 },
                 "nodeType": "DOM",
                 "props": {
                  "attributes": {
                   "data-bind": "text: formatted_val"
                  }
                 },
                 "type": "node"
                }
               ],
               "instanceArgs": {
                "namespace": "html",
                "tag": "div"
               },
               "nodeType": "DOM",
               "props": {
                "className": "interact-flex-row-right"
               },
               "type": "node"
              }
             ],
             "instanceArgs": {
              "namespace": "html",
              "tag": "div"
             },
             "nodeType": "DOM",
             "props": {
              "className": "interact-flex-row interact-widget"
             },
             "type": "node"
            }
           ],
           "instanceArgs": {
            "handlers": {
             "changes": [
              "(function (val){return (val!=this.model[\"changes\"]()) ? (this.valueFromJulia[\"changes\"]=true, this.model[\"changes\"](val)) : undefined})"
             ],
             "index": [
              "(function (val){return (val!=this.model[\"index\"]()) ? (this.valueFromJulia[\"index\"]=true, this.model[\"index\"](val)) : undefined})"
             ]
            },
            "id": "272394159923216844",
            "imports": {
             "data": [
              {
               "name": "knockout",
               "type": "js",
               "url": "/assetserver/7ce5fb94901cd9817b0d2f5c55656bbbc8077c10-knockout.js"
              },
              {
               "name": "knockout_punches",
               "type": "js",
               "url": "/assetserver/bd9fbe3cc592c27356f31921aa080f1c09d2cb5d-knockout_punches.js"
              },
              {
               "name": null,
               "type": "js",
               "url": "/assetserver/396e9dca96a747e8959c1c1f80c933d66a98bf1f-all.js"
              },
              {
               "name": null,
               "type": "css",
               "url": "/assetserver/358ec8c8352c7354edb9b199d4afd9347810a55c-style.css"
              },
              {
               "name": null,
               "type": "css",
               "url": "/assetserver/62b0c7544019fc934d3511d29e7b58032a866f63-bulma_confined.min.css"
              }
             ],
             "type": "async_block"
            },
            "mount_callbacks": [
             "function () {\n    var handler = (function (ko, koPunches) {\n    ko.punches.enableAll();\n    ko.bindingHandlers.numericValue = {\n        init: function(element, valueAccessor, allBindings, data, context) {\n            var stringified = ko.observable(ko.unwrap(valueAccessor()));\n            stringified.subscribe(function(value) {\n                var val = parseFloat(value);\n                if (!isNaN(val)) {\n                    valueAccessor()(val);\n                }\n            });\n            valueAccessor().subscribe(function(value) {\n                var str = JSON.stringify(value);\n                if ((str == \"0\") && ([\"-0\", \"-0.\"].indexOf(stringified()) >= 0))\n                     return;\n                 if ([\"null\", \"\"].indexOf(str) >= 0)\n                     return;\n                stringified(str);\n            });\n            ko.applyBindingsToNode(\n                element,\n                {\n                    value: stringified,\n                    valueUpdate: allBindings.get('valueUpdate'),\n                },\n                context,\n            );\n        }\n    };\n    var json_data = {\"formatted_vals\":[\"0.0\",\"0.00314159\",\"0.00628319\",\"0.00942478\",\"0.0125664\",\"0.015708\",\"0.0188496\",\"0.0219911\",\"0.0251327\",\"0.0282743\",\"0.0314159\",\"0.0345575\",\"0.0376991\",\"0.0408407\",\"0.0439823\",\"0.0471239\",\"0.0502655\",\"0.0534071\",\"0.0565487\",\"0.0596903\",\"0.0628319\",\"0.0659734\",\"0.069115\",\"0.0722566\",\"0.0753982\",\"0.0785398\",\"0.0816814\",\"0.084823\",\"0.0879646\",\"0.0911062\",\"0.0942478\",\"0.0973894\",\"0.100531\",\"0.103673\",\"0.106814\",\"0.109956\",\"0.113097\",\"0.116239\",\"0.119381\",\"0.122522\",\"0.125664\",\"0.128805\",\"0.131947\",\"0.135088\",\"0.13823\",\"0.141372\",\"0.144513\",\"0.147655\",\"0.150796\",\"0.153938\",\"0.15708\"],\"changes\":WebIO.getval({\"name\":\"changes\",\"scope\":\"272394159923216844\",\"id\":\"3617435849890736519\",\"type\":\"observable\"}),\"index\":WebIO.getval({\"name\":\"index\",\"scope\":\"272394159923216844\",\"id\":\"1164995673610648902\",\"type\":\"observable\"})};\n    var self = this;\n    function AppViewModel() {\n        for (var key in json_data) {\n            var el = json_data[key];\n            this[key] = Array.isArray(el) ? ko.observableArray(el) : ko.observable(el);\n        }\n        \n        [this[\"formatted_val\"]=ko.computed(    function(){\n        return this.formatted_vals()[parseInt(this.index())-(1)];\n    }\n,this)]\n        [this[\"changes\"].subscribe((function (val){!(this.valueFromJulia[\"changes\"]) ? (WebIO.setval({\"name\":\"changes\",\"scope\":\"272394159923216844\",\"id\":\"3617435849890736519\",\"type\":\"observable\"},val)) : undefined; return this.valueFromJulia[\"changes\"]=false}),self),this[\"index\"].subscribe((function (val){!(this.valueFromJulia[\"index\"]) ? (WebIO.setval({\"name\":\"index\",\"scope\":\"272394159923216844\",\"id\":\"1164995673610648902\",\"type\":\"observable\"},val)) : undefined; return this.valueFromJulia[\"index\"]=false}),self)]\n        \n    }\n    self.model = new AppViewModel();\n    self.valueFromJulia = {};\n    for (var key in json_data) {\n        self.valueFromJulia[key] = false;\n    }\n    ko.applyBindings(self.model, self.dom);\n}\n);\n    (WebIO.importBlock({\"data\":[{\"name\":\"knockout\",\"type\":\"js\",\"url\":\"/assetserver/7ce5fb94901cd9817b0d2f5c55656bbbc8077c10-knockout.js\"},{\"name\":\"knockout_punches\",\"type\":\"js\",\"url\":\"/assetserver/bd9fbe3cc592c27356f31921aa080f1c09d2cb5d-knockout_punches.js\"}],\"type\":\"async_block\"})).then((imports) => handler.apply(this, imports));\n}\n"
            ],
            "observables": {
             "changes": {
              "id": "3617435849890736519",
              "sync": false,
              "value": 0
             },
             "index": {
              "id": "1164995673610648902",
              "sync": true,
              "value": 26
             }
            },
            "systemjs_options": null
           },
           "nodeType": "Scope",
           "props": {},
           "type": "node"
          }
         ],
         "instanceArgs": {
          "namespace": "html",
          "tag": "div"
         },
         "nodeType": "DOM",
         "props": {
          "className": "field interact-widget"
         },
         "type": "node"
        },
        {
         "children": [
          {
           "children": [
            {
             "children": [
              {
               "children": [
                {
                 "children": [
                  "l"
                 ],
                 "instanceArgs": {
                  "namespace": "html",
                  "tag": "label"
                 },
                 "nodeType": "DOM",
                 "props": {
                  "className": "interact ",
                  "style": {
                   "padding": "5px 10px 0px 10px"
                  }
                 },
                 "type": "node"
                }
               ],
               "instanceArgs": {
                "namespace": "html",
                "tag": "div"
               },
               "nodeType": "DOM",
               "props": {
                "className": "interact-flex-row-left"
               },
               "type": "node"
              },
              {
               "children": [
                {
                 "children": [],
                 "instanceArgs": {
                  "namespace": "html",
                  "tag": "input"
                 },
                 "nodeType": "DOM",
                 "props": {
                  "attributes": {
                   "data-bind": "numericValue: index, valueUpdate: 'input', event: {change: function (){this.changes(this.changes()+1)}}",
                   "orient": "horizontal",
                   "type": "range"
                  },
                  "className": "slider slider is-fullwidth",
                  "max": 13,
                  "min": 1,
                  "step": 1,
                  "style": {}
                 },
                 "type": "node"
                }
               ],
               "instanceArgs": {
                "namespace": "html",
                "tag": "div"
               },
               "nodeType": "DOM",
               "props": {
                "className": "interact-flex-row-center"
               },
               "type": "node"
              },
              {
               "children": [
                {
                 "children": [],
                 "instanceArgs": {
                  "namespace": "html",
                  "tag": "p"
                 },
                 "nodeType": "DOM",
                 "props": {
                  "attributes": {
                   "data-bind": "text: formatted_val"
                  }
                 },
                 "type": "node"
                }
               ],
               "instanceArgs": {
                "namespace": "html",
                "tag": "div"
               },
               "nodeType": "DOM",
               "props": {
                "className": "interact-flex-row-right"
               },
               "type": "node"
              }
             ],
             "instanceArgs": {
              "namespace": "html",
              "tag": "div"
             },
             "nodeType": "DOM",
             "props": {
              "className": "interact-flex-row interact-widget"
             },
             "type": "node"
            }
           ],
           "instanceArgs": {
            "handlers": {
             "changes": [
              "(function (val){return (val!=this.model[\"changes\"]()) ? (this.valueFromJulia[\"changes\"]=true, this.model[\"changes\"](val)) : undefined})"
             ],
             "index": [
              "(function (val){return (val!=this.model[\"index\"]()) ? (this.valueFromJulia[\"index\"]=true, this.model[\"index\"](val)) : undefined})"
             ]
            },
            "id": "10872496287443901280",
            "imports": {
             "data": [
              {
               "name": "knockout",
               "type": "js",
               "url": "/assetserver/7ce5fb94901cd9817b0d2f5c55656bbbc8077c10-knockout.js"
              },
              {
               "name": "knockout_punches",
               "type": "js",
               "url": "/assetserver/bd9fbe3cc592c27356f31921aa080f1c09d2cb5d-knockout_punches.js"
              },
              {
               "name": null,
               "type": "js",
               "url": "/assetserver/396e9dca96a747e8959c1c1f80c933d66a98bf1f-all.js"
              },
              {
               "name": null,
               "type": "css",
               "url": "/assetserver/358ec8c8352c7354edb9b199d4afd9347810a55c-style.css"
              },
              {
               "name": null,
               "type": "css",
               "url": "/assetserver/62b0c7544019fc934d3511d29e7b58032a866f63-bulma_confined.min.css"
              }
             ],
             "type": "async_block"
            },
            "mount_callbacks": [
             "function () {\n    var handler = (function (ko, koPunches) {\n    ko.punches.enableAll();\n    ko.bindingHandlers.numericValue = {\n        init: function(element, valueAccessor, allBindings, data, context) {\n            var stringified = ko.observable(ko.unwrap(valueAccessor()));\n            stringified.subscribe(function(value) {\n                var val = parseFloat(value);\n                if (!isNaN(val)) {\n                    valueAccessor()(val);\n                }\n            });\n            valueAccessor().subscribe(function(value) {\n                var str = JSON.stringify(value);\n                if ((str == \"0\") && ([\"-0\", \"-0.\"].indexOf(stringified()) >= 0))\n                     return;\n                 if ([\"null\", \"\"].indexOf(str) >= 0)\n                     return;\n                stringified(str);\n            });\n            ko.applyBindingsToNode(\n                element,\n                {\n                    value: stringified,\n                    valueUpdate: allBindings.get('valueUpdate'),\n                },\n                context,\n            );\n        }\n    };\n    var json_data = {\"formatted_vals\":[\"1.0\",\"1.05\",\"1.1\",\"1.15\",\"1.2\",\"1.25\",\"1.3\",\"1.35\",\"1.4\",\"1.45\",\"1.5\",\"1.55\",\"1.6\"],\"changes\":WebIO.getval({\"name\":\"changes\",\"scope\":\"10872496287443901280\",\"id\":\"16751024472224224161\",\"type\":\"observable\"}),\"index\":WebIO.getval({\"name\":\"index\",\"scope\":\"10872496287443901280\",\"id\":\"13736041932509807847\",\"type\":\"observable\"})};\n    var self = this;\n    function AppViewModel() {\n        for (var key in json_data) {\n            var el = json_data[key];\n            this[key] = Array.isArray(el) ? ko.observableArray(el) : ko.observable(el);\n        }\n        \n        [this[\"formatted_val\"]=ko.computed(    function(){\n        return this.formatted_vals()[parseInt(this.index())-(1)];\n    }\n,this)]\n        [this[\"changes\"].subscribe((function (val){!(this.valueFromJulia[\"changes\"]) ? (WebIO.setval({\"name\":\"changes\",\"scope\":\"10872496287443901280\",\"id\":\"16751024472224224161\",\"type\":\"observable\"},val)) : undefined; return this.valueFromJulia[\"changes\"]=false}),self),this[\"index\"].subscribe((function (val){!(this.valueFromJulia[\"index\"]) ? (WebIO.setval({\"name\":\"index\",\"scope\":\"10872496287443901280\",\"id\":\"13736041932509807847\",\"type\":\"observable\"},val)) : undefined; return this.valueFromJulia[\"index\"]=false}),self)]\n        \n    }\n    self.model = new AppViewModel();\n    self.valueFromJulia = {};\n    for (var key in json_data) {\n        self.valueFromJulia[key] = false;\n    }\n    ko.applyBindings(self.model, self.dom);\n}\n);\n    (WebIO.importBlock({\"data\":[{\"name\":\"knockout\",\"type\":\"js\",\"url\":\"/assetserver/7ce5fb94901cd9817b0d2f5c55656bbbc8077c10-knockout.js\"},{\"name\":\"knockout_punches\",\"type\":\"js\",\"url\":\"/assetserver/bd9fbe3cc592c27356f31921aa080f1c09d2cb5d-knockout_punches.js\"}],\"type\":\"async_block\"})).then((imports) => handler.apply(this, imports));\n}\n"
            ],
            "observables": {
             "changes": {
              "id": "16751024472224224161",
              "sync": false,
              "value": 0
             },
             "index": {
              "id": "13736041932509807847",
              "sync": true,
              "value": 7
             }
            },
            "systemjs_options": null
           },
           "nodeType": "Scope",
           "props": {},
           "type": "node"
          }
         ],
         "instanceArgs": {
          "namespace": "html",
          "tag": "div"
         },
         "nodeType": "DOM",
         "props": {
          "className": "field interact-widget"
         },
         "type": "node"
        },
        {
         "children": [
          {
           "children": [],
           "instanceArgs": {
            "id": "18178427275251062416",
            "name": "obs-node"
           },
           "nodeType": "ObservableNode",
           "props": {},
           "type": "node"
          }
         ],
         "instanceArgs": {
          "handlers": {},
          "id": "10038287305514600808",
          "imports": {
           "data": [],
           "type": "async_block"
          },
          "mount_callbacks": [],
          "observables": {
           "obs-node": {
            "id": "18178427275251062416",
            "sync": false,
            "value": {
             "children": [
              {
               "children": [
                {
                 "children": [],
                 "instanceArgs": {
                  "namespace": "html",
                  "tag": "div"
                 },
                 "nodeType": "DOM",
                 "props": {
                  "id": "plot-c29c13f9-8b71-414e-aa5e-01aa050fa049"
                 },
                 "type": "node"
                }
               ],
               "instanceArgs": {
                "handlers": {
                 "__get_gd_contents": [
                  "(function (prop){prop==\"data\" ? (WebIO.setval({\"name\":\"__gd_contents\",\"scope\":\"8686474768248245622\",\"id\":\"11513778551929717685\",\"type\":\"observable\"},this.plotElem.data)) : undefined; return prop==\"layout\" ? (WebIO.setval({\"name\":\"__gd_contents\",\"scope\":\"8686474768248245622\",\"id\":\"11513778551929717685\",\"type\":\"observable\"},this.plotElem.layout)) : undefined})"
                 ],
                 "_commands": [
                  "(function (args){var fn=args.shift(); var elem=this.plotElem; var Plotly=this.Plotly; args.unshift(elem); return Plotly[fn].apply(this,args)})"
                 ],
                 "_downloadImage": [
                  "(function (options){return this.Plotly.downloadImage(this.plotElem,options)})"
                 ],
                 "_toImage": [
                  "(function (options){return this.Plotly.toImage(this.plotElem,options).then((function (data){return WebIO.setval({\"name\":\"image\",\"scope\":\"8686474768248245622\",\"id\":\"7682832648857960557\",\"type\":\"observable\"},data)}))})"
                 ]
                },
                "id": "8686474768248245622",
                "imports": {
                 "data": [
                  {
                   "name": "Plotly",
                   "type": "js",
                   "url": "/assetserver/d587a7f7a331fb78920b88d74b73dd3c4167f589-plotly.min.js"
                  },
                  {
                   "name": null,
                   "type": "js",
                   "url": "/assetserver/a26bdc2796b21a9667e6225725e33813ba7f89c9-plotly_webio.bundle.js"
                  }
                 ],
                 "type": "async_block"
                },
                "mount_callbacks": [
                 "function () {\n    var handler = ((function (Plotly,PlotlyWebIO){PlotlyWebIO.init(WebIO); var gd=this.dom.querySelector(\"#plot-c29c13f9-8b71-414e-aa5e-01aa050fa049\"); this.plotElem=gd; this.Plotly=Plotly; (window.Blink!==undefined) ? (gd.style.width=\"100%\", gd.style.height=\"100vh\", gd.style.marginLeft=\"0%\", gd.style.marginTop=\"0vh\") : undefined; window.onresize=(function (){return Plotly.Plots.resize(gd)}); Plotly.newPlot(gd,[],{\"template\":{\"layout\":{\"coloraxis\":{\"colorbar\":{\"ticks\":\"\",\"outlinewidth\":0}},\"xaxis\":{\"gridcolor\":\"white\",\"zerolinewidth\":2,\"title\":{\"standoff\":15},\"ticks\":\"\",\"zerolinecolor\":\"white\",\"automargin\":true,\"linecolor\":\"white\"},\"hovermode\":\"closest\",\"paper_bgcolor\":\"white\",\"geo\":{\"showlakes\":true,\"showland\":true,\"landcolor\":\"#E5ECF6\",\"bgcolor\":\"white\",\"subunitcolor\":\"white\",\"lakecolor\":\"white\"},\"colorscale\":{\"sequential\":[[0.0,\"#0d0887\"],[0.1111111111111111,\"#46039f\"],[0.2222222222222222,\"#7201a8\"],[0.3333333333333333,\"#9c179e\"],[0.4444444444444444,\"#bd3786\"],[0.5555555555555556,\"#d8576b\"],[0.6666666666666666,\"#ed7953\"],[0.7777777777777778,\"#fb9f3a\"],[0.8888888888888888,\"#fdca26\"],[1.0,\"#f0f921\"]],\"diverging\":[[0,\"#8e0152\"],[0.1,\"#c51b7d\"],[0.2,\"#de77ae\"],[0.3,\"#f1b6da\"],[0.4,\"#fde0ef\"],[0.5,\"#f7f7f7\"],[0.6,\"#e6f5d0\"],[0.7,\"#b8e186\"],[0.8,\"#7fbc41\"],[0.9,\"#4d9221\"],[1,\"#276419\"]],\"sequentialminus\":[[0.0,\"#0d0887\"],[0.1111111111111111,\"#46039f\"],[0.2222222222222222,\"#7201a8\"],[0.3333333333333333,\"#9c179e\"],[0.4444444444444444,\"#bd3786\"],[0.5555555555555556,\"#d8576b\"],[0.6666666666666666,\"#ed7953\"],[0.7777777777777778,\"#fb9f3a\"],[0.8888888888888888,\"#fdca26\"],[1.0,\"#f0f921\"]]},\"yaxis\":{\"gridcolor\":\"white\",\"zerolinewidth\":2,\"title\":{\"standoff\":15},\"ticks\":\"\",\"zerolinecolor\":\"white\",\"automargin\":true,\"linecolor\":\"white\"},\"shapedefaults\":{\"line\":{\"color\":\"#2a3f5f\"}},\"hoverlabel\":{\"align\":\"left\"},\"mapbox\":{\"style\":\"light\"},\"polar\":{\"angularaxis\":{\"gridcolor\":\"white\",\"ticks\":\"\",\"linecolor\":\"white\"},\"bgcolor\":\"#E5ECF6\",\"radialaxis\":{\"gridcolor\":\"white\",\"ticks\":\"\",\"linecolor\":\"white\"}},\"autotypenumbers\":\"strict\",\"font\":{\"color\":\"#2a3f5f\"},\"ternary\":{\"baxis\":{\"gridcolor\":\"white\",\"ticks\":\"\",\"linecolor\":\"white\"},\"bgcolor\":\"#E5ECF6\",\"caxis\":{\"gridcolor\":\"white\",\"ticks\":\"\",\"linecolor\":\"white\"},\"aaxis\":{\"gridcolor\":\"white\",\"ticks\":\"\",\"linecolor\":\"white\"}},\"annotationdefaults\":{\"arrowhead\":0,\"arrowwidth\":1,\"arrowcolor\":\"#2a3f5f\"},\"plot_bgcolor\":\"#E5ECF6\",\"title\":{\"x\":0.05},\"scene\":{\"xaxis\":{\"gridcolor\":\"white\",\"gridwidth\":2,\"backgroundcolor\":\"#E5ECF6\",\"ticks\":\"\",\"showbackground\":true,\"zerolinecolor\":\"white\",\"linecolor\":\"white\"},\"zaxis\":{\"gridcolor\":\"white\",\"gridwidth\":2,\"backgroundcolor\":\"#E5ECF6\",\"ticks\":\"\",\"showbackground\":true,\"zerolinecolor\":\"white\",\"linecolor\":\"white\"},\"yaxis\":{\"gridcolor\":\"white\",\"gridwidth\":2,\"backgroundcolor\":\"#E5ECF6\",\"ticks\":\"\",\"showbackground\":true,\"zerolinecolor\":\"white\",\"linecolor\":\"white\"}},\"colorway\":[\"#636efa\",\"#EF553B\",\"#00cc96\",\"#ab63fa\",\"#FFA15A\",\"#19d3f3\",\"#FF6692\",\"#B6E880\",\"#FF97FF\",\"#FECB52\"]},\"data\":{\"barpolar\":[{\"type\":\"barpolar\",\"marker\":{\"line\":{\"color\":\"#E5ECF6\",\"width\":0.5}}}],\"carpet\":[{\"aaxis\":{\"gridcolor\":\"white\",\"endlinecolor\":\"#2a3f5f\",\"minorgridcolor\":\"white\",\"startlinecolor\":\"#2a3f5f\",\"linecolor\":\"white\"},\"type\":\"carpet\",\"baxis\":{\"gridcolor\":\"white\",\"endlinecolor\":\"#2a3f5f\",\"minorgridcolor\":\"white\",\"startlinecolor\":\"#2a3f5f\",\"linecolor\":\"white\"}}],\"scatterpolar\":[{\"type\":\"scatterpolar\",\"marker\":{\"colorbar\":{\"ticks\":\"\",\"outlinewidth\":0}}}],\"parcoords\":[{\"line\":{\"colorbar\":{\"ticks\":\"\",\"outlinewidth\":0}},\"type\":\"parcoords\"}],\"scatter\":[{\"type\":\"scatter\",\"marker\":{\"colorbar\":{\"ticks\":\"\",\"outlinewidth\":0}}}],\"histogram2dcontour\":[{\"colorbar\":{\"ticks\":\"\",\"outlinewidth\":0},\"type\":\"histogram2dcontour\",\"colorscale\":[[0.0,\"#0d0887\"],[0.1111111111111111,\"#46039f\"],[0.2222222222222222,\"#7201a8\"],[0.3333333333333333,\"#9c179e\"],[0.4444444444444444,\"#bd3786\"],[0.5555555555555556,\"#d8576b\"],[0.6666666666666666,\"#ed7953\"],[0.7777777777777778,\"#fb9f3a\"],[0.8888888888888888,\"#fdca26\"],[1.0,\"#f0f921\"]]}],\"contour\":[{\"colorbar\":{\"ticks\":\"\",\"outlinewidth\":0},\"type\":\"contour\",\"colorscale\":[[0.0,\"#0d0887\"],[0.1111111111111111,\"#46039f\"],[0.2222222222222222,\"#7201a8\"],[0.3333333333333333,\"#9c179e\"],[0.4444444444444444,\"#bd3786\"],[0.5555555555555556,\"#d8576b\"],[0.6666666666666666,\"#ed7953\"],[0.7777777777777778,\"#fb9f3a\"],[0.8888888888888888,\"#fdca26\"],[1.0,\"#f0f921\"]]}],\"scattercarpet\":[{\"type\":\"scattercarpet\",\"marker\":{\"colorbar\":{\"ticks\":\"\",\"outlinewidth\":0}}}],\"mesh3d\":[{\"colorbar\":{\"ticks\":\"\",\"outlinewidth\":0},\"type\":\"mesh3d\"}],\"surface\":[{\"colorbar\":{\"ticks\":\"\",\"outlinewidth\":0},\"type\":\"surface\",\"colorscale\":[[0.0,\"#0d0887\"],[0.1111111111111111,\"#46039f\"],[0.2222222222222222,\"#7201a8\"],[0.3333333333333333,\"#9c179e\"],[0.4444444444444444,\"#bd3786\"],[0.5555555555555556,\"#d8576b\"],[0.6666666666666666,\"#ed7953\"],[0.7777777777777778,\"#fb9f3a\"],[0.8888888888888888,\"#fdca26\"],[1.0,\"#f0f921\"]]}],\"scattermapbox\":[{\"type\":\"scattermapbox\",\"marker\":{\"colorbar\":{\"ticks\":\"\",\"outlinewidth\":0}}}],\"scattergeo\":[{\"type\":\"scattergeo\",\"marker\":{\"colorbar\":{\"ticks\":\"\",\"outlinewidth\":0}}}],\"histogram\":[{\"type\":\"histogram\",\"marker\":{\"colorbar\":{\"ticks\":\"\",\"outlinewidth\":0}}}],\"pie\":[{\"type\":\"pie\",\"automargin\":true}],\"choropleth\":[{\"colorbar\":{\"ticks\":\"\",\"outlinewidth\":0},\"type\":\"choropleth\"}],\"heatmapgl\":[{\"colorbar\":{\"ticks\":\"\",\"outlinewidth\":0},\"type\":\"heatmapgl\",\"colorscale\":[[0.0,\"#0d0887\"],[0.1111111111111111,\"#46039f\"],[0.2222222222222222,\"#7201a8\"],[0.3333333333333333,\"#9c179e\"],[0.4444444444444444,\"#bd3786\"],[0.5555555555555556,\"#d8576b\"],[0.6666666666666666,\"#ed7953\"],[0.7777777777777778,\"#fb9f3a\"],[0.8888888888888888,\"#fdca26\"],[1.0,\"#f0f921\"]]}],\"bar\":[{\"type\":\"bar\",\"error_y\":{\"color\":\"#2a3f5f\"},\"error_x\":{\"color\":\"#2a3f5f\"},\"marker\":{\"line\":{\"color\":\"#E5ECF6\",\"width\":0.5}}}],\"heatmap\":[{\"colorbar\":{\"ticks\":\"\",\"outlinewidth\":0},\"type\":\"heatmap\",\"colorscale\":[[0.0,\"#0d0887\"],[0.1111111111111111,\"#46039f\"],[0.2222222222222222,\"#7201a8\"],[0.3333333333333333,\"#9c179e\"],[0.4444444444444444,\"#bd3786\"],[0.5555555555555556,\"#d8576b\"],[0.6666666666666666,\"#ed7953\"],[0.7777777777777778,\"#fb9f3a\"],[0.8888888888888888,\"#fdca26\"],[1.0,\"#f0f921\"]]}],\"contourcarpet\":[{\"colorbar\":{\"ticks\":\"\",\"outlinewidth\":0},\"type\":\"contourcarpet\"}],\"table\":[{\"type\":\"table\",\"header\":{\"line\":{\"color\":\"white\"},\"fill\":{\"color\":\"#C8D4E3\"}},\"cells\":{\"line\":{\"color\":\"white\"},\"fill\":{\"color\":\"#EBF0F8\"}}}],\"scatter3d\":[{\"line\":{\"colorbar\":{\"ticks\":\"\",\"outlinewidth\":0}},\"type\":\"scatter3d\",\"marker\":{\"colorbar\":{\"ticks\":\"\",\"outlinewidth\":0}}}],\"scattergl\":[{\"type\":\"scattergl\",\"marker\":{\"colorbar\":{\"ticks\":\"\",\"outlinewidth\":0}}}],\"histogram2d\":[{\"colorbar\":{\"ticks\":\"\",\"outlinewidth\":0},\"type\":\"histogram2d\",\"colorscale\":[[0.0,\"#0d0887\"],[0.1111111111111111,\"#46039f\"],[0.2222222222222222,\"#7201a8\"],[0.3333333333333333,\"#9c179e\"],[0.4444444444444444,\"#bd3786\"],[0.5555555555555556,\"#d8576b\"],[0.6666666666666666,\"#ed7953\"],[0.7777777777777778,\"#fb9f3a\"],[0.8888888888888888,\"#fdca26\"],[1.0,\"#f0f921\"]]}],\"scatterternary\":[{\"type\":\"scatterternary\",\"marker\":{\"colorbar\":{\"ticks\":\"\",\"outlinewidth\":0}}}],\"scatterpolargl\":[{\"type\":\"scatterpolargl\",\"marker\":{\"colorbar\":{\"ticks\":\"\",\"outlinewidth\":0}}}]}},\"margin\":{\"l\":50,\"b\":50,\"r\":50,\"t\":60}},{\"showLink\":false,\"editable\":false,\"responsive\":true,\"staticPlot\":false,\"scrollZoom\":true}); gd.on(\"plotly_hover\",(function (data){var filtered_data=WebIO.PlotlyCommands.filterEventData(gd,data,\"hover\"); return !(filtered_data.isnil) ? (WebIO.setval({\"name\":\"hover\",\"scope\":\"8686474768248245622\",\"id\":\"9208418714725887012\",\"type\":\"observable\"},filtered_data.out)) : undefined})); gd.on(\"plotly_unhover\",(function (){return WebIO.setval({\"name\":\"hover\",\"scope\":\"8686474768248245622\",\"id\":\"9208418714725887012\",\"type\":\"observable\"},{})})); gd.on(\"plotly_selected\",(function (data){var filtered_data=WebIO.PlotlyCommands.filterEventData(gd,data,\"selected\"); return !(filtered_data.isnil) ? (WebIO.setval({\"name\":\"selected\",\"scope\":\"8686474768248245622\",\"id\":\"15775740512303271505\",\"type\":\"observable\"},filtered_data.out)) : undefined})); gd.on(\"plotly_deselect\",(function (){return WebIO.setval({\"name\":\"selected\",\"scope\":\"8686474768248245622\",\"id\":\"15775740512303271505\",\"type\":\"observable\"},{})})); gd.on(\"plotly_relayout\",(function (data){var filtered_data=WebIO.PlotlyCommands.filterEventData(gd,data,\"relayout\"); return !(filtered_data.isnil) ? (WebIO.setval({\"name\":\"relayout\",\"scope\":\"8686474768248245622\",\"id\":\"1972782819268060896\",\"type\":\"observable\"},filtered_data.out)) : undefined})); return gd.on(\"plotly_click\",(function (data){var filtered_data=WebIO.PlotlyCommands.filterEventData(gd,data,\"click\"); return !(filtered_data.isnil) ? (WebIO.setval({\"name\":\"click\",\"scope\":\"8686474768248245622\",\"id\":\"14572600441330105511\",\"type\":\"observable\"},filtered_data.out)) : undefined}))}));\n    (WebIO.importBlock({\"data\":[{\"name\":\"Plotly\",\"type\":\"js\",\"url\":\"/assetserver/d587a7f7a331fb78920b88d74b73dd3c4167f589-plotly.min.js\"},{\"name\":null,\"type\":\"js\",\"url\":\"/assetserver/a26bdc2796b21a9667e6225725e33813ba7f89c9-plotly_webio.bundle.js\"}],\"type\":\"async_block\"})).then((imports) => handler.apply(this, imports));\n}\n"
                ],
                "observables": {
                 "__gd_contents": {
                  "id": "11513778551929717685",
                  "sync": false,
                  "value": {}
                 },
                 "__get_gd_contents": {
                  "id": "8402536449218287215",
                  "sync": false,
                  "value": ""
                 },
                 "_commands": {
                  "id": "10582044733749323996",
                  "sync": false,
                  "value": [
                   "update",
                   {},
                   {
                    "annotations": [],
                    "height": 400,
                    "legend": {
                     "bgcolor": "rgba(255, 255, 255, 1.000)",
                     "bordercolor": "rgba(0, 0, 0, 1.000)",
                     "borderwidth": 1,
                     "font": {
                      "color": "rgba(0, 0, 0, 1.000)",
                      "family": "sans-serif",
                      "size": 11
                     },
                     "title": {
                      "font": {
                       "color": "rgba(0, 0, 0, 1.000)",
                       "family": "sans-serif",
                       "size": 15
                      },
                      "text": ""
                     },
                     "tracegroupgap": 0,
                     "traceorder": "normal",
                     "x": 1,
                     "xanchor": "auto",
                     "y": 1,
                     "yanchor": "auto"
                    },
                    "margin": {
                     "b": 50,
                     "l": 50,
                     "r": 50,
                     "t": 60
                    },
                    "paper_bgcolor": "rgba(255, 255, 255, 1.000)",
                    "plot_bgcolor": "rgba(255, 255, 255, 1.000)",
                    "scene": {
                     "camera": {
                      "eye": {
                       "x": 1.12583302491977,
                       "y": -1.9499999999999997,
                       "z": 1.3
                      }
                     },
                     "domain": {
                      "x": [
                       0,
                       0
                      ],
                      "y": [
                       1,
                       1
                      ]
                     },
                     "xaxis": {
                      "gridcolor": "rgba(0, 0, 0, 0.100)",
                      "gridwidth": 0.5,
                      "linecolor": "rgba(0, 0, 0, 1.000)",
                      "mirror": false,
                      "range": [
                       -0.3348723098686584,
                       1.038879776015592
                      ],
                      "showgrid": true,
                      "showline": true,
                      "showticklabels": true,
                      "tickangle": 0,
                      "tickcolor": "rgb(0, 0, 0)",
                      "tickfont": {
                       "color": "rgba(0, 0, 0, 1.000)",
                       "family": "sans-serif",
                       "size": 11
                      },
                      "tickmode": "array",
                      "ticks": "inside",
                      "ticktext": [
                       "-0.2",
                       "0.0",
                       "0.2",
                       "0.4",
                       "0.6",
                       "0.8",
                       "1.0"
                      ],
                      "tickvals": [
                       -0.2,
                       0,
                       0.2,
                       0.4,
                       0.6000000000000001,
                       0.8,
                       1
                      ],
                      "title": "x",
                      "titlefont": {
                       "color": "rgba(0, 0, 0, 1.000)",
                       "family": "sans-serif",
                       "size": 15
                      },
                      "type": "-",
                      "visible": true,
                      "zeroline": false,
                      "zerolinecolor": "rgba(0, 0, 0, 1.000)"
                     },
                     "yaxis": {
                      "gridcolor": "rgba(0, 0, 0, 0.100)",
                      "gridwidth": 0.5,
                      "linecolor": "rgba(0, 0, 0, 1.000)",
                      "mirror": false,
                      "range": [
                       -0.3348723098686584,
                       1.038879776015592
                      ],
                      "showgrid": true,
                      "showline": true,
                      "showticklabels": true,
                      "tickangle": 0,
                      "tickcolor": "rgb(0, 0, 0)",
                      "tickfont": {
                       "color": "rgba(0, 0, 0, 1.000)",
                       "family": "sans-serif",
                       "size": 11
                      },
                      "tickmode": "array",
                      "ticks": "inside",
                      "ticktext": [
                       "-0.2",
                       "0.0",
                       "0.2",
                       "0.4",
                       "0.6",
                       "0.8",
                       "1.0"
                      ],
                      "tickvals": [
                       -0.2,
                       0,
                       0.2,
                       0.4,
                       0.6000000000000001,
                       0.8,
                       1
                      ],
                      "title": "y",
                      "titlefont": {
                       "color": "rgba(0, 0, 0, 1.000)",
                       "family": "sans-serif",
                       "size": 15
                      },
                      "type": "-",
                      "visible": true,
                      "zeroline": false,
                      "zerolinecolor": "rgba(0, 0, 0, 1.000)"
                     },
                     "zaxis": {
                      "gridcolor": "rgba(0, 0, 0, 0.100)",
                      "gridwidth": 0.5,
                      "linecolor": "rgba(0, 0, 0, 1.000)",
                      "mirror": false,
                      "range": [
                       -0.5,
                       0.9
                      ],
                      "showgrid": true,
                      "showline": true,
                      "showticklabels": true,
                      "tickangle": 0,
                      "tickcolor": "rgb(0, 0, 0)",
                      "tickfont": {
                       "color": "rgba(0, 0, 0, 1.000)",
                       "family": "sans-serif",
                       "size": 11
                      },
                      "tickmode": "array",
                      "ticks": "inside",
                      "ticktext": [
                       "-0.3",
                       "0.0",
                       "0.3",
                       "0.6"
                      ],
                      "tickvals": [
                       -0.30000000000000004,
                       0,
                       0.30000000000000004,
                       0.6000000000000001
                      ],
                      "title": "z",
                      "titlefont": {
                       "color": "rgba(0, 0, 0, 1.000)",
                       "family": "sans-serif",
                       "size": 15
                      },
                      "type": "-",
                      "visible": true,
                      "zeroline": false,
                      "zerolinecolor": "rgba(0, 0, 0, 1.000)"
                     }
                    },
                    "showlegend": true,
                    "template": {
                     "data": {
                      "bar": [
                       {
                        "error_x": {
                         "color": "#2a3f5f"
                        },
                        "error_y": {
                         "color": "#2a3f5f"
                        },
                        "marker": {
                         "line": {
                          "color": "#E5ECF6",
                          "width": 0.5
                         }
                        },
                        "type": "bar"
                       }
                      ],
                      "barpolar": [
                       {
                        "marker": {
                         "line": {
                          "color": "#E5ECF6",
                          "width": 0.5
                         }
                        },
                        "type": "barpolar"
                       }
                      ],
                      "carpet": [
                       {
                        "aaxis": {
                         "endlinecolor": "#2a3f5f",
                         "gridcolor": "white",
                         "linecolor": "white",
                         "minorgridcolor": "white",
                         "startlinecolor": "#2a3f5f"
                        },
                        "baxis": {
                         "endlinecolor": "#2a3f5f",
                         "gridcolor": "white",
                         "linecolor": "white",
                         "minorgridcolor": "white",
                         "startlinecolor": "#2a3f5f"
                        },
                        "type": "carpet"
                       }
                      ],
                      "choropleth": [
                       {
                        "colorbar": {
                         "outlinewidth": 0,
                         "ticks": ""
                        },
                        "type": "choropleth"
                       }
                      ],
                      "contour": [
                       {
                        "colorbar": {
                         "outlinewidth": 0,
                         "ticks": ""
                        },
                        "colorscale": [
                         [
                          0,
                          "#0d0887"
                         ],
                         [
                          0.1111111111111111,
                          "#46039f"
                         ],
                         [
                          0.2222222222222222,
                          "#7201a8"
                         ],
                         [
                          0.3333333333333333,
                          "#9c179e"
                         ],
                         [
                          0.4444444444444444,
                          "#bd3786"
                         ],
                         [
                          0.5555555555555556,
                          "#d8576b"
                         ],
                         [
                          0.6666666666666666,
                          "#ed7953"
                         ],
                         [
                          0.7777777777777778,
                          "#fb9f3a"
                         ],
                         [
                          0.8888888888888888,
                          "#fdca26"
                         ],
                         [
                          1,
                          "#f0f921"
                         ]
                        ],
                        "type": "contour"
                       }
                      ],
                      "contourcarpet": [
                       {
                        "colorbar": {
                         "outlinewidth": 0,
                         "ticks": ""
                        },
                        "type": "contourcarpet"
                       }
                      ],
                      "heatmap": [
                       {
                        "colorbar": {
                         "outlinewidth": 0,
                         "ticks": ""
                        },
                        "colorscale": [
                         [
                          0,
                          "#0d0887"
                         ],
                         [
                          0.1111111111111111,
                          "#46039f"
                         ],
                         [
                          0.2222222222222222,
                          "#7201a8"
                         ],
                         [
                          0.3333333333333333,
                          "#9c179e"
                         ],
                         [
                          0.4444444444444444,
                          "#bd3786"
                         ],
                         [
                          0.5555555555555556,
                          "#d8576b"
                         ],
                         [
                          0.6666666666666666,
                          "#ed7953"
                         ],
                         [
                          0.7777777777777778,
                          "#fb9f3a"
                         ],
                         [
                          0.8888888888888888,
                          "#fdca26"
                         ],
                         [
                          1,
                          "#f0f921"
                         ]
                        ],
                        "type": "heatmap"
                       }
                      ],
                      "heatmapgl": [
                       {
                        "colorbar": {
                         "outlinewidth": 0,
                         "ticks": ""
                        },
                        "colorscale": [
                         [
                          0,
                          "#0d0887"
                         ],
                         [
                          0.1111111111111111,
                          "#46039f"
                         ],
                         [
                          0.2222222222222222,
                          "#7201a8"
                         ],
                         [
                          0.3333333333333333,
                          "#9c179e"
                         ],
                         [
                          0.4444444444444444,
                          "#bd3786"
                         ],
                         [
                          0.5555555555555556,
                          "#d8576b"
                         ],
                         [
                          0.6666666666666666,
                          "#ed7953"
                         ],
                         [
                          0.7777777777777778,
                          "#fb9f3a"
                         ],
                         [
                          0.8888888888888888,
                          "#fdca26"
                         ],
                         [
                          1,
                          "#f0f921"
                         ]
                        ],
                        "type": "heatmapgl"
                       }
                      ],
                      "histogram": [
                       {
                        "marker": {
                         "colorbar": {
                          "outlinewidth": 0,
                          "ticks": ""
                         }
                        },
                        "type": "histogram"
                       }
                      ],
                      "histogram2d": [
                       {
                        "colorbar": {
                         "outlinewidth": 0,
                         "ticks": ""
                        },
                        "colorscale": [
                         [
                          0,
                          "#0d0887"
                         ],
                         [
                          0.1111111111111111,
                          "#46039f"
                         ],
                         [
                          0.2222222222222222,
                          "#7201a8"
                         ],
                         [
                          0.3333333333333333,
                          "#9c179e"
                         ],
                         [
                          0.4444444444444444,
                          "#bd3786"
                         ],
                         [
                          0.5555555555555556,
                          "#d8576b"
                         ],
                         [
                          0.6666666666666666,
                          "#ed7953"
                         ],
                         [
                          0.7777777777777778,
                          "#fb9f3a"
                         ],
                         [
                          0.8888888888888888,
                          "#fdca26"
                         ],
                         [
                          1,
                          "#f0f921"
                         ]
                        ],
                        "type": "histogram2d"
                       }
                      ],
                      "histogram2dcontour": [
                       {
                        "colorbar": {
                         "outlinewidth": 0,
                         "ticks": ""
                        },
                        "colorscale": [
                         [
                          0,
                          "#0d0887"
                         ],
                         [
                          0.1111111111111111,
                          "#46039f"
                         ],
                         [
                          0.2222222222222222,
                          "#7201a8"
                         ],
                         [
                          0.3333333333333333,
                          "#9c179e"
                         ],
                         [
                          0.4444444444444444,
                          "#bd3786"
                         ],
                         [
                          0.5555555555555556,
                          "#d8576b"
                         ],
                         [
                          0.6666666666666666,
                          "#ed7953"
                         ],
                         [
                          0.7777777777777778,
                          "#fb9f3a"
                         ],
                         [
                          0.8888888888888888,
                          "#fdca26"
                         ],
                         [
                          1,
                          "#f0f921"
                         ]
                        ],
                        "type": "histogram2dcontour"
                       }
                      ],
                      "mesh3d": [
                       {
                        "colorbar": {
                         "outlinewidth": 0,
                         "ticks": ""
                        },
                        "type": "mesh3d"
                       }
                      ],
                      "parcoords": [
                       {
                        "line": {
                         "colorbar": {
                          "outlinewidth": 0,
                          "ticks": ""
                         }
                        },
                        "type": "parcoords"
                       }
                      ],
                      "pie": [
                       {
                        "automargin": true,
                        "type": "pie"
                       }
                      ],
                      "scatter": [
                       {
                        "marker": {
                         "colorbar": {
                          "outlinewidth": 0,
                          "ticks": ""
                         }
                        },
                        "type": "scatter"
                       }
                      ],
                      "scatter3d": [
                       {
                        "line": {
                         "colorbar": {
                          "outlinewidth": 0,
                          "ticks": ""
                         }
                        },
                        "marker": {
                         "colorbar": {
                          "outlinewidth": 0,
                          "ticks": ""
                         }
                        },
                        "type": "scatter3d"
                       }
                      ],
                      "scattercarpet": [
                       {
                        "marker": {
                         "colorbar": {
                          "outlinewidth": 0,
                          "ticks": ""
                         }
                        },
                        "type": "scattercarpet"
                       }
                      ],
                      "scattergeo": [
                       {
                        "marker": {
                         "colorbar": {
                          "outlinewidth": 0,
                          "ticks": ""
                         }
                        },
                        "type": "scattergeo"
                       }
                      ],
                      "scattergl": [
                       {
                        "marker": {
                         "colorbar": {
                          "outlinewidth": 0,
                          "ticks": ""
                         }
                        },
                        "type": "scattergl"
                       }
                      ],
                      "scattermapbox": [
                       {
                        "marker": {
                         "colorbar": {
                          "outlinewidth": 0,
                          "ticks": ""
                         }
                        },
                        "type": "scattermapbox"
                       }
                      ],
                      "scatterpolar": [
                       {
                        "marker": {
                         "colorbar": {
                          "outlinewidth": 0,
                          "ticks": ""
                         }
                        },
                        "type": "scatterpolar"
                       }
                      ],
                      "scatterpolargl": [
                       {
                        "marker": {
                         "colorbar": {
                          "outlinewidth": 0,
                          "ticks": ""
                         }
                        },
                        "type": "scatterpolargl"
                       }
                      ],
                      "scatterternary": [
                       {
                        "marker": {
                         "colorbar": {
                          "outlinewidth": 0,
                          "ticks": ""
                         }
                        },
                        "type": "scatterternary"
                       }
                      ],
                      "surface": [
                       {
                        "colorbar": {
                         "outlinewidth": 0,
                         "ticks": ""
                        },
                        "colorscale": [
                         [
                          0,
                          "#0d0887"
                         ],
                         [
                          0.1111111111111111,
                          "#46039f"
                         ],
                         [
                          0.2222222222222222,
                          "#7201a8"
                         ],
                         [
                          0.3333333333333333,
                          "#9c179e"
                         ],
                         [
                          0.4444444444444444,
                          "#bd3786"
                         ],
                         [
                          0.5555555555555556,
                          "#d8576b"
                         ],
                         [
                          0.6666666666666666,
                          "#ed7953"
                         ],
                         [
                          0.7777777777777778,
                          "#fb9f3a"
                         ],
                         [
                          0.8888888888888888,
                          "#fdca26"
                         ],
                         [
                          1,
                          "#f0f921"
                         ]
                        ],
                        "type": "surface"
                       }
                      ],
                      "table": [
                       {
                        "cells": {
                         "fill": {
                          "color": "#EBF0F8"
                         },
                         "line": {
                          "color": "white"
                         }
                        },
                        "header": {
                         "fill": {
                          "color": "#C8D4E3"
                         },
                         "line": {
                          "color": "white"
                         }
                        },
                        "type": "table"
                       }
                      ]
                     },
                     "layout": {
                      "annotationdefaults": {
                       "arrowcolor": "#2a3f5f",
                       "arrowhead": 0,
                       "arrowwidth": 1
                      },
                      "autotypenumbers": "strict",
                      "coloraxis": {
                       "colorbar": {
                        "outlinewidth": 0,
                        "ticks": ""
                       }
                      },
                      "colorscale": {
                       "diverging": [
                        [
                         0,
                         "#8e0152"
                        ],
                        [
                         0.1,
                         "#c51b7d"
                        ],
                        [
                         0.2,
                         "#de77ae"
                        ],
                        [
                         0.3,
                         "#f1b6da"
                        ],
                        [
                         0.4,
                         "#fde0ef"
                        ],
                        [
                         0.5,
                         "#f7f7f7"
                        ],
                        [
                         0.6,
                         "#e6f5d0"
                        ],
                        [
                         0.7,
                         "#b8e186"
                        ],
                        [
                         0.8,
                         "#7fbc41"
                        ],
                        [
                         0.9,
                         "#4d9221"
                        ],
                        [
                         1,
                         "#276419"
                        ]
                       ],
                       "sequential": [
                        [
                         0,
                         "#0d0887"
                        ],
                        [
                         0.1111111111111111,
                         "#46039f"
                        ],
                        [
                         0.2222222222222222,
                         "#7201a8"
                        ],
                        [
                         0.3333333333333333,
                         "#9c179e"
                        ],
                        [
                         0.4444444444444444,
                         "#bd3786"
                        ],
                        [
                         0.5555555555555556,
                         "#d8576b"
                        ],
                        [
                         0.6666666666666666,
                         "#ed7953"
                        ],
                        [
                         0.7777777777777778,
                         "#fb9f3a"
                        ],
                        [
                         0.8888888888888888,
                         "#fdca26"
                        ],
                        [
                         1,
                         "#f0f921"
                        ]
                       ],
                       "sequentialminus": [
                        [
                         0,
                         "#0d0887"
                        ],
                        [
                         0.1111111111111111,
                         "#46039f"
                        ],
                        [
                         0.2222222222222222,
                         "#7201a8"
                        ],
                        [
                         0.3333333333333333,
                         "#9c179e"
                        ],
                        [
                         0.4444444444444444,
                         "#bd3786"
                        ],
                        [
                         0.5555555555555556,
                         "#d8576b"
                        ],
                        [
                         0.6666666666666666,
                         "#ed7953"
                        ],
                        [
                         0.7777777777777778,
                         "#fb9f3a"
                        ],
                        [
                         0.8888888888888888,
                         "#fdca26"
                        ],
                        [
                         1,
                         "#f0f921"
                        ]
                       ]
                      },
                      "colorway": [
                       "#636efa",
                       "#EF553B",
                       "#00cc96",
                       "#ab63fa",
                       "#FFA15A",
                       "#19d3f3",
                       "#FF6692",
                       "#B6E880",
                       "#FF97FF",
                       "#FECB52"
                      ],
                      "font": {
                       "color": "#2a3f5f"
                      },
                      "geo": {
                       "bgcolor": "white",
                       "lakecolor": "white",
                       "landcolor": "#E5ECF6",
                       "showlakes": true,
                       "showland": true,
                       "subunitcolor": "white"
                      },
                      "hoverlabel": {
                       "align": "left"
                      },
                      "hovermode": "closest",
                      "mapbox": {
                       "style": "light"
                      },
                      "paper_bgcolor": "white",
                      "plot_bgcolor": "#E5ECF6",
                      "polar": {
                       "angularaxis": {
                        "gridcolor": "white",
                        "linecolor": "white",
                        "ticks": ""
                       },
                       "bgcolor": "#E5ECF6",
                       "radialaxis": {
                        "gridcolor": "white",
                        "linecolor": "white",
                        "ticks": ""
                       }
                      },
                      "scene": {
                       "xaxis": {
                        "backgroundcolor": "#E5ECF6",
                        "gridcolor": "white",
                        "gridwidth": 2,
                        "linecolor": "white",
                        "showbackground": true,
                        "ticks": "",
                        "zerolinecolor": "white"
                       },
                       "yaxis": {
                        "backgroundcolor": "#E5ECF6",
                        "gridcolor": "white",
                        "gridwidth": 2,
                        "linecolor": "white",
                        "showbackground": true,
                        "ticks": "",
                        "zerolinecolor": "white"
                       },
                       "zaxis": {
                        "backgroundcolor": "#E5ECF6",
                        "gridcolor": "white",
                        "gridwidth": 2,
                        "linecolor": "white",
                        "showbackground": true,
                        "ticks": "",
                        "zerolinecolor": "white"
                       }
                      },
                      "shapedefaults": {
                       "line": {
                        "color": "#2a3f5f"
                       }
                      },
                      "ternary": {
                       "aaxis": {
                        "gridcolor": "white",
                        "linecolor": "white",
                        "ticks": ""
                       },
                       "baxis": {
                        "gridcolor": "white",
                        "linecolor": "white",
                        "ticks": ""
                       },
                       "bgcolor": "#E5ECF6",
                       "caxis": {
                        "gridcolor": "white",
                        "linecolor": "white",
                        "ticks": ""
                       }
                      },
                      "title": {
                       "x": 0.05
                      },
                      "xaxis": {
                       "automargin": true,
                       "gridcolor": "white",
                       "linecolor": "white",
                       "ticks": "",
                       "title": {
                        "standoff": 15
                       },
                       "zerolinecolor": "white",
                       "zerolinewidth": 2
                      },
                      "yaxis": {
                       "automargin": true,
                       "gridcolor": "white",
                       "linecolor": "white",
                       "ticks": "",
                       "title": {
                        "standoff": 15
                       },
                       "zerolinecolor": "white",
                       "zerolinewidth": 2
                      }
                     }
                    },
                    "width": 600
                   }
                  ]
                 },
                 "_downloadImage": {
                  "id": "4393132911157907063",
                  "sync": false,
                  "value": {}
                 },
                 "_toImage": {
                  "id": "16289184982840350170",
                  "sync": false,
                  "value": {}
                 },
                 "click": {
                  "id": "14572600441330105511",
                  "sync": false,
                  "value": {}
                 },
                 "hover": {
                  "id": "9208418714725887012",
                  "sync": false,
                  "value": {}
                 },
                 "image": {
                  "id": "7682832648857960557",
                  "sync": true,
                  "value": ""
                 },
                 "relayout": {
                  "id": "1972782819268060896",
                  "sync": false,
                  "value": {}
                 },
                 "selected": {
                  "id": "15775740512303271505",
                  "sync": false,
                  "value": {}
                 }
                },
                "systemjs_options": null
               },
               "nodeType": "Scope",
               "props": {},
               "type": "node"
              }
             ],
             "instanceArgs": {
              "namespace": "html",
              "tag": "div"
             },
             "nodeType": "DOM",
             "props": {
              "className": "interact-flex-row interact-widget"
             },
             "type": "node"
            }
           }
          },
          "systemjs_options": null
         },
         "nodeType": "Scope",
         "props": {},
         "type": "node"
        }
       ],
       "instanceArgs": {
        "namespace": "html",
        "tag": "div"
       },
       "nodeType": "DOM",
       "props": {},
       "type": "node"
      },
      "text/html": [
       "<div\n",
       "    class=\"webio-mountpoint\"\n",
       "    data-webio-mountpoint=\"288707412231665857\"\n",
       ">\n",
       "    <script>\n",
       "    if (window.require && require.defined && require.defined(\"nbextensions/webio-jupyter-notebook\")) {\n",
       "        console.log(\"Jupyter WebIO extension detected, not mounting.\");\n",
       "    } else if (window.WebIO) {\n",
       "        WebIO.mount(\n",
       "            document.querySelector('[data-webio-mountpoint=\"288707412231665857\"]'),\n",
       "            {\"props\":{},\"nodeType\":\"DOM\",\"type\":\"node\",\"instanceArgs\":{\"namespace\":\"html\",\"tag\":\"div\"},\"children\":[{\"props\":{\"className\":\"field interact-widget\"},\"nodeType\":\"DOM\",\"type\":\"node\",\"instanceArgs\":{\"namespace\":\"html\",\"tag\":\"div\"},\"children\":[{\"props\":{},\"nodeType\":\"Scope\",\"type\":\"node\",\"instanceArgs\":{\"imports\":{\"data\":[{\"name\":\"knockout\",\"type\":\"js\",\"url\":\"\\/assetserver\\/7ce5fb94901cd9817b0d2f5c55656bbbc8077c10-knockout.js\"},{\"name\":\"knockout_punches\",\"type\":\"js\",\"url\":\"\\/assetserver\\/bd9fbe3cc592c27356f31921aa080f1c09d2cb5d-knockout_punches.js\"},{\"name\":null,\"type\":\"js\",\"url\":\"\\/assetserver\\/396e9dca96a747e8959c1c1f80c933d66a98bf1f-all.js\"},{\"name\":null,\"type\":\"css\",\"url\":\"\\/assetserver\\/358ec8c8352c7354edb9b199d4afd9347810a55c-style.css\"},{\"name\":null,\"type\":\"css\",\"url\":\"\\/assetserver\\/62b0c7544019fc934d3511d29e7b58032a866f63-bulma_confined.min.css\"}],\"type\":\"async_block\"},\"id\":\"12660577446641219766\",\"handlers\":{\"changes\":[\"(function (val){return (val!=this.model[\\\"changes\\\"]()) ? (this.valueFromJulia[\\\"changes\\\"]=true, this.model[\\\"changes\\\"](val)) : undefined})\"],\"index\":[\"(function (val){return (val!=this.model[\\\"index\\\"]()) ? (this.valueFromJulia[\\\"index\\\"]=true, this.model[\\\"index\\\"](val)) : undefined})\"]},\"systemjs_options\":null,\"mount_callbacks\":[\"function () {\\n    var handler = (function (ko, koPunches) {\\n    ko.punches.enableAll();\\n    ko.bindingHandlers.numericValue = {\\n        init: function(element, valueAccessor, allBindings, data, context) {\\n            var stringified = ko.observable(ko.unwrap(valueAccessor()));\\n            stringified.subscribe(function(value) {\\n                var val = parseFloat(value);\\n                if (!isNaN(val)) {\\n                    valueAccessor()(val);\\n                }\\n            });\\n            valueAccessor().subscribe(function(value) {\\n                var str = JSON.stringify(value);\\n                if ((str == \\\"0\\\") && ([\\\"-0\\\", \\\"-0.\\\"].indexOf(stringified()) >= 0))\\n                     return;\\n                 if ([\\\"null\\\", \\\"\\\"].indexOf(str) >= 0)\\n                     return;\\n                stringified(str);\\n            });\\n            ko.applyBindingsToNode(\\n                element,\\n                {\\n                    value: stringified,\\n                    valueUpdate: allBindings.get('valueUpdate'),\\n                },\\n                context,\\n            );\\n        }\\n    };\\n    var json_data = {\\\"formatted_vals\\\":[\\\"0.0\\\",\\\"0.00314159\\\",\\\"0.00628319\\\",\\\"0.00942478\\\",\\\"0.0125664\\\",\\\"0.015708\\\",\\\"0.0188496\\\",\\\"0.0219911\\\",\\\"0.0251327\\\",\\\"0.0282743\\\",\\\"0.0314159\\\",\\\"0.0345575\\\",\\\"0.0376991\\\",\\\"0.0408407\\\",\\\"0.0439823\\\",\\\"0.0471239\\\",\\\"0.0502655\\\",\\\"0.0534071\\\",\\\"0.0565487\\\",\\\"0.0596903\\\",\\\"0.0628319\\\",\\\"0.0659734\\\",\\\"0.069115\\\",\\\"0.0722566\\\",\\\"0.0753982\\\",\\\"0.0785398\\\",\\\"0.0816814\\\",\\\"0.084823\\\",\\\"0.0879646\\\",\\\"0.0911062\\\",\\\"0.0942478\\\",\\\"0.0973894\\\",\\\"0.100531\\\",\\\"0.103673\\\",\\\"0.106814\\\",\\\"0.109956\\\",\\\"0.113097\\\",\\\"0.116239\\\",\\\"0.119381\\\",\\\"0.122522\\\",\\\"0.125664\\\",\\\"0.128805\\\",\\\"0.131947\\\",\\\"0.135088\\\",\\\"0.13823\\\",\\\"0.141372\\\",\\\"0.144513\\\",\\\"0.147655\\\",\\\"0.150796\\\",\\\"0.153938\\\",\\\"0.15708\\\"],\\\"changes\\\":WebIO.getval({\\\"name\\\":\\\"changes\\\",\\\"scope\\\":\\\"12660577446641219766\\\",\\\"id\\\":\\\"17005127137154617751\\\",\\\"type\\\":\\\"observable\\\"}),\\\"index\\\":WebIO.getval({\\\"name\\\":\\\"index\\\",\\\"scope\\\":\\\"12660577446641219766\\\",\\\"id\\\":\\\"1633372455295631597\\\",\\\"type\\\":\\\"observable\\\"})};\\n    var self = this;\\n    function AppViewModel() {\\n        for (var key in json_data) {\\n            var el = json_data[key];\\n            this[key] = Array.isArray(el) ? ko.observableArray(el) : ko.observable(el);\\n        }\\n        \\n        [this[\\\"formatted_val\\\"]=ko.computed(    function(){\\n        return this.formatted_vals()[parseInt(this.index())-(1)];\\n    }\\n,this)]\\n        [this[\\\"changes\\\"].subscribe((function (val){!(this.valueFromJulia[\\\"changes\\\"]) ? (WebIO.setval({\\\"name\\\":\\\"changes\\\",\\\"scope\\\":\\\"12660577446641219766\\\",\\\"id\\\":\\\"17005127137154617751\\\",\\\"type\\\":\\\"observable\\\"},val)) : undefined; return this.valueFromJulia[\\\"changes\\\"]=false}),self),this[\\\"index\\\"].subscribe((function (val){!(this.valueFromJulia[\\\"index\\\"]) ? (WebIO.setval({\\\"name\\\":\\\"index\\\",\\\"scope\\\":\\\"12660577446641219766\\\",\\\"id\\\":\\\"1633372455295631597\\\",\\\"type\\\":\\\"observable\\\"},val)) : undefined; return this.valueFromJulia[\\\"index\\\"]=false}),self)]\\n        \\n    }\\n    self.model = new AppViewModel();\\n    self.valueFromJulia = {};\\n    for (var key in json_data) {\\n        self.valueFromJulia[key] = false;\\n    }\\n    ko.applyBindings(self.model, self.dom);\\n}\\n);\\n    (WebIO.importBlock({\\\"data\\\":[{\\\"name\\\":\\\"knockout\\\",\\\"type\\\":\\\"js\\\",\\\"url\\\":\\\"\\/assetserver\\/7ce5fb94901cd9817b0d2f5c55656bbbc8077c10-knockout.js\\\"},{\\\"name\\\":\\\"knockout_punches\\\",\\\"type\\\":\\\"js\\\",\\\"url\\\":\\\"\\/assetserver\\/bd9fbe3cc592c27356f31921aa080f1c09d2cb5d-knockout_punches.js\\\"}],\\\"type\\\":\\\"async_block\\\"})).then((imports) => handler.apply(this, imports));\\n}\\n\"],\"observables\":{\"changes\":{\"sync\":false,\"id\":\"17005127137154617751\",\"value\":0},\"index\":{\"sync\":true,\"id\":\"1633372455295631597\",\"value\":26}}},\"children\":[{\"props\":{\"className\":\"interact-flex-row interact-widget\"},\"nodeType\":\"DOM\",\"type\":\"node\",\"instanceArgs\":{\"namespace\":\"html\",\"tag\":\"div\"},\"children\":[{\"props\":{\"className\":\"interact-flex-row-left\"},\"nodeType\":\"DOM\",\"type\":\"node\",\"instanceArgs\":{\"namespace\":\"html\",\"tag\":\"div\"},\"children\":[{\"props\":{\"className\":\"interact \",\"style\":{\"padding\":\"5px 10px 0px 10px\"}},\"nodeType\":\"DOM\",\"type\":\"node\",\"instanceArgs\":{\"namespace\":\"html\",\"tag\":\"label\"},\"children\":[\"ang1\"]}]},{\"props\":{\"className\":\"interact-flex-row-center\"},\"nodeType\":\"DOM\",\"type\":\"node\",\"instanceArgs\":{\"namespace\":\"html\",\"tag\":\"div\"},\"children\":[{\"props\":{\"max\":51,\"min\":1,\"attributes\":{\"type\":\"range\",\"data-bind\":\"numericValue: index, valueUpdate: 'input', event: {change: function (){this.changes(this.changes()+1)}}\",\"orient\":\"horizontal\"},\"step\":1,\"className\":\"slider slider is-fullwidth\",\"style\":{}},\"nodeType\":\"DOM\",\"type\":\"node\",\"instanceArgs\":{\"namespace\":\"html\",\"tag\":\"input\"},\"children\":[]}]},{\"props\":{\"className\":\"interact-flex-row-right\"},\"nodeType\":\"DOM\",\"type\":\"node\",\"instanceArgs\":{\"namespace\":\"html\",\"tag\":\"div\"},\"children\":[{\"props\":{\"attributes\":{\"data-bind\":\"text: formatted_val\"}},\"nodeType\":\"DOM\",\"type\":\"node\",\"instanceArgs\":{\"namespace\":\"html\",\"tag\":\"p\"},\"children\":[]}]}]}]}]},{\"props\":{\"className\":\"field interact-widget\"},\"nodeType\":\"DOM\",\"type\":\"node\",\"instanceArgs\":{\"namespace\":\"html\",\"tag\":\"div\"},\"children\":[{\"props\":{},\"nodeType\":\"Scope\",\"type\":\"node\",\"instanceArgs\":{\"imports\":{\"data\":[{\"name\":\"knockout\",\"type\":\"js\",\"url\":\"\\/assetserver\\/7ce5fb94901cd9817b0d2f5c55656bbbc8077c10-knockout.js\"},{\"name\":\"knockout_punches\",\"type\":\"js\",\"url\":\"\\/assetserver\\/bd9fbe3cc592c27356f31921aa080f1c09d2cb5d-knockout_punches.js\"},{\"name\":null,\"type\":\"js\",\"url\":\"\\/assetserver\\/396e9dca96a747e8959c1c1f80c933d66a98bf1f-all.js\"},{\"name\":null,\"type\":\"css\",\"url\":\"\\/assetserver\\/358ec8c8352c7354edb9b199d4afd9347810a55c-style.css\"},{\"name\":null,\"type\":\"css\",\"url\":\"\\/assetserver\\/62b0c7544019fc934d3511d29e7b58032a866f63-bulma_confined.min.css\"}],\"type\":\"async_block\"},\"id\":\"12652859862838733158\",\"handlers\":{\"changes\":[\"(function (val){return (val!=this.model[\\\"changes\\\"]()) ? (this.valueFromJulia[\\\"changes\\\"]=true, this.model[\\\"changes\\\"](val)) : undefined})\"],\"index\":[\"(function (val){return (val!=this.model[\\\"index\\\"]()) ? (this.valueFromJulia[\\\"index\\\"]=true, this.model[\\\"index\\\"](val)) : undefined})\"]},\"systemjs_options\":null,\"mount_callbacks\":[\"function () {\\n    var handler = (function (ko, koPunches) {\\n    ko.punches.enableAll();\\n    ko.bindingHandlers.numericValue = {\\n        init: function(element, valueAccessor, allBindings, data, context) {\\n            var stringified = ko.observable(ko.unwrap(valueAccessor()));\\n            stringified.subscribe(function(value) {\\n                var val = parseFloat(value);\\n                if (!isNaN(val)) {\\n                    valueAccessor()(val);\\n                }\\n            });\\n            valueAccessor().subscribe(function(value) {\\n                var str = JSON.stringify(value);\\n                if ((str == \\\"0\\\") && ([\\\"-0\\\", \\\"-0.\\\"].indexOf(stringified()) >= 0))\\n                     return;\\n                 if ([\\\"null\\\", \\\"\\\"].indexOf(str) >= 0)\\n                     return;\\n                stringified(str);\\n            });\\n            ko.applyBindingsToNode(\\n                element,\\n                {\\n                    value: stringified,\\n                    valueUpdate: allBindings.get('valueUpdate'),\\n                },\\n                context,\\n            );\\n        }\\n    };\\n    var json_data = {\\\"formatted_vals\\\":[\\\"0.0\\\",\\\"0.00314159\\\",\\\"0.00628319\\\",\\\"0.00942478\\\",\\\"0.0125664\\\",\\\"0.015708\\\",\\\"0.0188496\\\",\\\"0.0219911\\\",\\\"0.0251327\\\",\\\"0.0282743\\\",\\\"0.0314159\\\",\\\"0.0345575\\\",\\\"0.0376991\\\",\\\"0.0408407\\\",\\\"0.0439823\\\",\\\"0.0471239\\\",\\\"0.0502655\\\",\\\"0.0534071\\\",\\\"0.0565487\\\",\\\"0.0596903\\\",\\\"0.0628319\\\",\\\"0.0659734\\\",\\\"0.069115\\\",\\\"0.0722566\\\",\\\"0.0753982\\\",\\\"0.0785398\\\",\\\"0.0816814\\\",\\\"0.084823\\\",\\\"0.0879646\\\",\\\"0.0911062\\\",\\\"0.0942478\\\",\\\"0.0973894\\\",\\\"0.100531\\\",\\\"0.103673\\\",\\\"0.106814\\\",\\\"0.109956\\\",\\\"0.113097\\\",\\\"0.116239\\\",\\\"0.119381\\\",\\\"0.122522\\\",\\\"0.125664\\\",\\\"0.128805\\\",\\\"0.131947\\\",\\\"0.135088\\\",\\\"0.13823\\\",\\\"0.141372\\\",\\\"0.144513\\\",\\\"0.147655\\\",\\\"0.150796\\\",\\\"0.153938\\\",\\\"0.15708\\\"],\\\"changes\\\":WebIO.getval({\\\"name\\\":\\\"changes\\\",\\\"scope\\\":\\\"12652859862838733158\\\",\\\"id\\\":\\\"10696302771802187845\\\",\\\"type\\\":\\\"observable\\\"}),\\\"index\\\":WebIO.getval({\\\"name\\\":\\\"index\\\",\\\"scope\\\":\\\"12652859862838733158\\\",\\\"id\\\":\\\"8026513486189279446\\\",\\\"type\\\":\\\"observable\\\"})};\\n    var self = this;\\n    function AppViewModel() {\\n        for (var key in json_data) {\\n            var el = json_data[key];\\n            this[key] = Array.isArray(el) ? ko.observableArray(el) : ko.observable(el);\\n        }\\n        \\n        [this[\\\"formatted_val\\\"]=ko.computed(    function(){\\n        return this.formatted_vals()[parseInt(this.index())-(1)];\\n    }\\n,this)]\\n        [this[\\\"changes\\\"].subscribe((function (val){!(this.valueFromJulia[\\\"changes\\\"]) ? (WebIO.setval({\\\"name\\\":\\\"changes\\\",\\\"scope\\\":\\\"12652859862838733158\\\",\\\"id\\\":\\\"10696302771802187845\\\",\\\"type\\\":\\\"observable\\\"},val)) : undefined; return this.valueFromJulia[\\\"changes\\\"]=false}),self),this[\\\"index\\\"].subscribe((function (val){!(this.valueFromJulia[\\\"index\\\"]) ? (WebIO.setval({\\\"name\\\":\\\"index\\\",\\\"scope\\\":\\\"12652859862838733158\\\",\\\"id\\\":\\\"8026513486189279446\\\",\\\"type\\\":\\\"observable\\\"},val)) : undefined; return this.valueFromJulia[\\\"index\\\"]=false}),self)]\\n        \\n    }\\n    self.model = new AppViewModel();\\n    self.valueFromJulia = {};\\n    for (var key in json_data) {\\n        self.valueFromJulia[key] = false;\\n    }\\n    ko.applyBindings(self.model, self.dom);\\n}\\n);\\n    (WebIO.importBlock({\\\"data\\\":[{\\\"name\\\":\\\"knockout\\\",\\\"type\\\":\\\"js\\\",\\\"url\\\":\\\"\\/assetserver\\/7ce5fb94901cd9817b0d2f5c55656bbbc8077c10-knockout.js\\\"},{\\\"name\\\":\\\"knockout_punches\\\",\\\"type\\\":\\\"js\\\",\\\"url\\\":\\\"\\/assetserver\\/bd9fbe3cc592c27356f31921aa080f1c09d2cb5d-knockout_punches.js\\\"}],\\\"type\\\":\\\"async_block\\\"})).then((imports) => handler.apply(this, imports));\\n}\\n\"],\"observables\":{\"changes\":{\"sync\":false,\"id\":\"10696302771802187845\",\"value\":0},\"index\":{\"sync\":true,\"id\":\"8026513486189279446\",\"value\":26}}},\"children\":[{\"props\":{\"className\":\"interact-flex-row interact-widget\"},\"nodeType\":\"DOM\",\"type\":\"node\",\"instanceArgs\":{\"namespace\":\"html\",\"tag\":\"div\"},\"children\":[{\"props\":{\"className\":\"interact-flex-row-left\"},\"nodeType\":\"DOM\",\"type\":\"node\",\"instanceArgs\":{\"namespace\":\"html\",\"tag\":\"div\"},\"children\":[{\"props\":{\"className\":\"interact \",\"style\":{\"padding\":\"5px 10px 0px 10px\"}},\"nodeType\":\"DOM\",\"type\":\"node\",\"instanceArgs\":{\"namespace\":\"html\",\"tag\":\"label\"},\"children\":[\"ang2\"]}]},{\"props\":{\"className\":\"interact-flex-row-center\"},\"nodeType\":\"DOM\",\"type\":\"node\",\"instanceArgs\":{\"namespace\":\"html\",\"tag\":\"div\"},\"children\":[{\"props\":{\"max\":51,\"min\":1,\"attributes\":{\"type\":\"range\",\"data-bind\":\"numericValue: index, valueUpdate: 'input', event: {change: function (){this.changes(this.changes()+1)}}\",\"orient\":\"horizontal\"},\"step\":1,\"className\":\"slider slider is-fullwidth\",\"style\":{}},\"nodeType\":\"DOM\",\"type\":\"node\",\"instanceArgs\":{\"namespace\":\"html\",\"tag\":\"input\"},\"children\":[]}]},{\"props\":{\"className\":\"interact-flex-row-right\"},\"nodeType\":\"DOM\",\"type\":\"node\",\"instanceArgs\":{\"namespace\":\"html\",\"tag\":\"div\"},\"children\":[{\"props\":{\"attributes\":{\"data-bind\":\"text: formatted_val\"}},\"nodeType\":\"DOM\",\"type\":\"node\",\"instanceArgs\":{\"namespace\":\"html\",\"tag\":\"p\"},\"children\":[]}]}]}]}]},{\"props\":{\"className\":\"field interact-widget\"},\"nodeType\":\"DOM\",\"type\":\"node\",\"instanceArgs\":{\"namespace\":\"html\",\"tag\":\"div\"},\"children\":[{\"props\":{},\"nodeType\":\"Scope\",\"type\":\"node\",\"instanceArgs\":{\"imports\":{\"data\":[{\"name\":\"knockout\",\"type\":\"js\",\"url\":\"\\/assetserver\\/7ce5fb94901cd9817b0d2f5c55656bbbc8077c10-knockout.js\"},{\"name\":\"knockout_punches\",\"type\":\"js\",\"url\":\"\\/assetserver\\/bd9fbe3cc592c27356f31921aa080f1c09d2cb5d-knockout_punches.js\"},{\"name\":null,\"type\":\"js\",\"url\":\"\\/assetserver\\/396e9dca96a747e8959c1c1f80c933d66a98bf1f-all.js\"},{\"name\":null,\"type\":\"css\",\"url\":\"\\/assetserver\\/358ec8c8352c7354edb9b199d4afd9347810a55c-style.css\"},{\"name\":null,\"type\":\"css\",\"url\":\"\\/assetserver\\/62b0c7544019fc934d3511d29e7b58032a866f63-bulma_confined.min.css\"}],\"type\":\"async_block\"},\"id\":\"1611121686312447939\",\"handlers\":{\"changes\":[\"(function (val){return (val!=this.model[\\\"changes\\\"]()) ? (this.valueFromJulia[\\\"changes\\\"]=true, this.model[\\\"changes\\\"](val)) : undefined})\"],\"index\":[\"(function (val){return (val!=this.model[\\\"index\\\"]()) ? (this.valueFromJulia[\\\"index\\\"]=true, this.model[\\\"index\\\"](val)) : undefined})\"]},\"systemjs_options\":null,\"mount_callbacks\":[\"function () {\\n    var handler = (function (ko, koPunches) {\\n    ko.punches.enableAll();\\n    ko.bindingHandlers.numericValue = {\\n        init: function(element, valueAccessor, allBindings, data, context) {\\n            var stringified = ko.observable(ko.unwrap(valueAccessor()));\\n            stringified.subscribe(function(value) {\\n                var val = parseFloat(value);\\n                if (!isNaN(val)) {\\n                    valueAccessor()(val);\\n                }\\n            });\\n            valueAccessor().subscribe(function(value) {\\n                var str = JSON.stringify(value);\\n                if ((str == \\\"0\\\") && ([\\\"-0\\\", \\\"-0.\\\"].indexOf(stringified()) >= 0))\\n                     return;\\n                 if ([\\\"null\\\", \\\"\\\"].indexOf(str) >= 0)\\n                     return;\\n                stringified(str);\\n            });\\n            ko.applyBindingsToNode(\\n                element,\\n                {\\n                    value: stringified,\\n                    valueUpdate: allBindings.get('valueUpdate'),\\n                },\\n                context,\\n            );\\n        }\\n    };\\n    var json_data = {\\\"formatted_vals\\\":[\\\"0.0\\\",\\\"0.00314159\\\",\\\"0.00628319\\\",\\\"0.00942478\\\",\\\"0.0125664\\\",\\\"0.015708\\\",\\\"0.0188496\\\",\\\"0.0219911\\\",\\\"0.0251327\\\",\\\"0.0282743\\\",\\\"0.0314159\\\",\\\"0.0345575\\\",\\\"0.0376991\\\",\\\"0.0408407\\\",\\\"0.0439823\\\",\\\"0.0471239\\\",\\\"0.0502655\\\",\\\"0.0534071\\\",\\\"0.0565487\\\",\\\"0.0596903\\\",\\\"0.0628319\\\",\\\"0.0659734\\\",\\\"0.069115\\\",\\\"0.0722566\\\",\\\"0.0753982\\\",\\\"0.0785398\\\",\\\"0.0816814\\\",\\\"0.084823\\\",\\\"0.0879646\\\",\\\"0.0911062\\\",\\\"0.0942478\\\",\\\"0.0973894\\\",\\\"0.100531\\\",\\\"0.103673\\\",\\\"0.106814\\\",\\\"0.109956\\\",\\\"0.113097\\\",\\\"0.116239\\\",\\\"0.119381\\\",\\\"0.122522\\\",\\\"0.125664\\\",\\\"0.128805\\\",\\\"0.131947\\\",\\\"0.135088\\\",\\\"0.13823\\\",\\\"0.141372\\\",\\\"0.144513\\\",\\\"0.147655\\\",\\\"0.150796\\\",\\\"0.153938\\\",\\\"0.15708\\\"],\\\"changes\\\":WebIO.getval({\\\"name\\\":\\\"changes\\\",\\\"scope\\\":\\\"1611121686312447939\\\",\\\"id\\\":\\\"1108961200223844913\\\",\\\"type\\\":\\\"observable\\\"}),\\\"index\\\":WebIO.getval({\\\"name\\\":\\\"index\\\",\\\"scope\\\":\\\"1611121686312447939\\\",\\\"id\\\":\\\"13337739558791629895\\\",\\\"type\\\":\\\"observable\\\"})};\\n    var self = this;\\n    function AppViewModel() {\\n        for (var key in json_data) {\\n            var el = json_data[key];\\n            this[key] = Array.isArray(el) ? ko.observableArray(el) : ko.observable(el);\\n        }\\n        \\n        [this[\\\"formatted_val\\\"]=ko.computed(    function(){\\n        return this.formatted_vals()[parseInt(this.index())-(1)];\\n    }\\n,this)]\\n        [this[\\\"changes\\\"].subscribe((function (val){!(this.valueFromJulia[\\\"changes\\\"]) ? (WebIO.setval({\\\"name\\\":\\\"changes\\\",\\\"scope\\\":\\\"1611121686312447939\\\",\\\"id\\\":\\\"1108961200223844913\\\",\\\"type\\\":\\\"observable\\\"},val)) : undefined; return this.valueFromJulia[\\\"changes\\\"]=false}),self),this[\\\"index\\\"].subscribe((function (val){!(this.valueFromJulia[\\\"index\\\"]) ? (WebIO.setval({\\\"name\\\":\\\"index\\\",\\\"scope\\\":\\\"1611121686312447939\\\",\\\"id\\\":\\\"13337739558791629895\\\",\\\"type\\\":\\\"observable\\\"},val)) : undefined; return this.valueFromJulia[\\\"index\\\"]=false}),self)]\\n        \\n    }\\n    self.model = new AppViewModel();\\n    self.valueFromJulia = {};\\n    for (var key in json_data) {\\n        self.valueFromJulia[key] = false;\\n    }\\n    ko.applyBindings(self.model, self.dom);\\n}\\n);\\n    (WebIO.importBlock({\\\"data\\\":[{\\\"name\\\":\\\"knockout\\\",\\\"type\\\":\\\"js\\\",\\\"url\\\":\\\"\\/assetserver\\/7ce5fb94901cd9817b0d2f5c55656bbbc8077c10-knockout.js\\\"},{\\\"name\\\":\\\"knockout_punches\\\",\\\"type\\\":\\\"js\\\",\\\"url\\\":\\\"\\/assetserver\\/bd9fbe3cc592c27356f31921aa080f1c09d2cb5d-knockout_punches.js\\\"}],\\\"type\\\":\\\"async_block\\\"})).then((imports) => handler.apply(this, imports));\\n}\\n\"],\"observables\":{\"changes\":{\"sync\":false,\"id\":\"1108961200223844913\",\"value\":0},\"index\":{\"sync\":true,\"id\":\"13337739558791629895\",\"value\":26}}},\"children\":[{\"props\":{\"className\":\"interact-flex-row interact-widget\"},\"nodeType\":\"DOM\",\"type\":\"node\",\"instanceArgs\":{\"namespace\":\"html\",\"tag\":\"div\"},\"children\":[{\"props\":{\"className\":\"interact-flex-row-left\"},\"nodeType\":\"DOM\",\"type\":\"node\",\"instanceArgs\":{\"namespace\":\"html\",\"tag\":\"div\"},\"children\":[{\"props\":{\"className\":\"interact \",\"style\":{\"padding\":\"5px 10px 0px 10px\"}},\"nodeType\":\"DOM\",\"type\":\"node\",\"instanceArgs\":{\"namespace\":\"html\",\"tag\":\"label\"},\"children\":[\"ang3\"]}]},{\"props\":{\"className\":\"interact-flex-row-center\"},\"nodeType\":\"DOM\",\"type\":\"node\",\"instanceArgs\":{\"namespace\":\"html\",\"tag\":\"div\"},\"children\":[{\"props\":{\"max\":51,\"min\":1,\"attributes\":{\"type\":\"range\",\"data-bind\":\"numericValue: index, valueUpdate: 'input', event: {change: function (){this.changes(this.changes()+1)}}\",\"orient\":\"horizontal\"},\"step\":1,\"className\":\"slider slider is-fullwidth\",\"style\":{}},\"nodeType\":\"DOM\",\"type\":\"node\",\"instanceArgs\":{\"namespace\":\"html\",\"tag\":\"input\"},\"children\":[]}]},{\"props\":{\"className\":\"interact-flex-row-right\"},\"nodeType\":\"DOM\",\"type\":\"node\",\"instanceArgs\":{\"namespace\":\"html\",\"tag\":\"div\"},\"children\":[{\"props\":{\"attributes\":{\"data-bind\":\"text: formatted_val\"}},\"nodeType\":\"DOM\",\"type\":\"node\",\"instanceArgs\":{\"namespace\":\"html\",\"tag\":\"p\"},\"children\":[]}]}]}]}]},{\"props\":{\"className\":\"field interact-widget\"},\"nodeType\":\"DOM\",\"type\":\"node\",\"instanceArgs\":{\"namespace\":\"html\",\"tag\":\"div\"},\"children\":[{\"props\":{},\"nodeType\":\"Scope\",\"type\":\"node\",\"instanceArgs\":{\"imports\":{\"data\":[{\"name\":\"knockout\",\"type\":\"js\",\"url\":\"\\/assetserver\\/7ce5fb94901cd9817b0d2f5c55656bbbc8077c10-knockout.js\"},{\"name\":\"knockout_punches\",\"type\":\"js\",\"url\":\"\\/assetserver\\/bd9fbe3cc592c27356f31921aa080f1c09d2cb5d-knockout_punches.js\"},{\"name\":null,\"type\":\"js\",\"url\":\"\\/assetserver\\/396e9dca96a747e8959c1c1f80c933d66a98bf1f-all.js\"},{\"name\":null,\"type\":\"css\",\"url\":\"\\/assetserver\\/358ec8c8352c7354edb9b199d4afd9347810a55c-style.css\"},{\"name\":null,\"type\":\"css\",\"url\":\"\\/assetserver\\/62b0c7544019fc934d3511d29e7b58032a866f63-bulma_confined.min.css\"}],\"type\":\"async_block\"},\"id\":\"272394159923216844\",\"handlers\":{\"changes\":[\"(function (val){return (val!=this.model[\\\"changes\\\"]()) ? (this.valueFromJulia[\\\"changes\\\"]=true, this.model[\\\"changes\\\"](val)) : undefined})\"],\"index\":[\"(function (val){return (val!=this.model[\\\"index\\\"]()) ? (this.valueFromJulia[\\\"index\\\"]=true, this.model[\\\"index\\\"](val)) : undefined})\"]},\"systemjs_options\":null,\"mount_callbacks\":[\"function () {\\n    var handler = (function (ko, koPunches) {\\n    ko.punches.enableAll();\\n    ko.bindingHandlers.numericValue = {\\n        init: function(element, valueAccessor, allBindings, data, context) {\\n            var stringified = ko.observable(ko.unwrap(valueAccessor()));\\n            stringified.subscribe(function(value) {\\n                var val = parseFloat(value);\\n                if (!isNaN(val)) {\\n                    valueAccessor()(val);\\n                }\\n            });\\n            valueAccessor().subscribe(function(value) {\\n                var str = JSON.stringify(value);\\n                if ((str == \\\"0\\\") && ([\\\"-0\\\", \\\"-0.\\\"].indexOf(stringified()) >= 0))\\n                     return;\\n                 if ([\\\"null\\\", \\\"\\\"].indexOf(str) >= 0)\\n                     return;\\n                stringified(str);\\n            });\\n            ko.applyBindingsToNode(\\n                element,\\n                {\\n                    value: stringified,\\n                    valueUpdate: allBindings.get('valueUpdate'),\\n                },\\n                context,\\n            );\\n        }\\n    };\\n    var json_data = {\\\"formatted_vals\\\":[\\\"0.0\\\",\\\"0.00314159\\\",\\\"0.00628319\\\",\\\"0.00942478\\\",\\\"0.0125664\\\",\\\"0.015708\\\",\\\"0.0188496\\\",\\\"0.0219911\\\",\\\"0.0251327\\\",\\\"0.0282743\\\",\\\"0.0314159\\\",\\\"0.0345575\\\",\\\"0.0376991\\\",\\\"0.0408407\\\",\\\"0.0439823\\\",\\\"0.0471239\\\",\\\"0.0502655\\\",\\\"0.0534071\\\",\\\"0.0565487\\\",\\\"0.0596903\\\",\\\"0.0628319\\\",\\\"0.0659734\\\",\\\"0.069115\\\",\\\"0.0722566\\\",\\\"0.0753982\\\",\\\"0.0785398\\\",\\\"0.0816814\\\",\\\"0.084823\\\",\\\"0.0879646\\\",\\\"0.0911062\\\",\\\"0.0942478\\\",\\\"0.0973894\\\",\\\"0.100531\\\",\\\"0.103673\\\",\\\"0.106814\\\",\\\"0.109956\\\",\\\"0.113097\\\",\\\"0.116239\\\",\\\"0.119381\\\",\\\"0.122522\\\",\\\"0.125664\\\",\\\"0.128805\\\",\\\"0.131947\\\",\\\"0.135088\\\",\\\"0.13823\\\",\\\"0.141372\\\",\\\"0.144513\\\",\\\"0.147655\\\",\\\"0.150796\\\",\\\"0.153938\\\",\\\"0.15708\\\"],\\\"changes\\\":WebIO.getval({\\\"name\\\":\\\"changes\\\",\\\"scope\\\":\\\"272394159923216844\\\",\\\"id\\\":\\\"3617435849890736519\\\",\\\"type\\\":\\\"observable\\\"}),\\\"index\\\":WebIO.getval({\\\"name\\\":\\\"index\\\",\\\"scope\\\":\\\"272394159923216844\\\",\\\"id\\\":\\\"1164995673610648902\\\",\\\"type\\\":\\\"observable\\\"})};\\n    var self = this;\\n    function AppViewModel() {\\n        for (var key in json_data) {\\n            var el = json_data[key];\\n            this[key] = Array.isArray(el) ? ko.observableArray(el) : ko.observable(el);\\n        }\\n        \\n        [this[\\\"formatted_val\\\"]=ko.computed(    function(){\\n        return this.formatted_vals()[parseInt(this.index())-(1)];\\n    }\\n,this)]\\n        [this[\\\"changes\\\"].subscribe((function (val){!(this.valueFromJulia[\\\"changes\\\"]) ? (WebIO.setval({\\\"name\\\":\\\"changes\\\",\\\"scope\\\":\\\"272394159923216844\\\",\\\"id\\\":\\\"3617435849890736519\\\",\\\"type\\\":\\\"observable\\\"},val)) : undefined; return this.valueFromJulia[\\\"changes\\\"]=false}),self),this[\\\"index\\\"].subscribe((function (val){!(this.valueFromJulia[\\\"index\\\"]) ? (WebIO.setval({\\\"name\\\":\\\"index\\\",\\\"scope\\\":\\\"272394159923216844\\\",\\\"id\\\":\\\"1164995673610648902\\\",\\\"type\\\":\\\"observable\\\"},val)) : undefined; return this.valueFromJulia[\\\"index\\\"]=false}),self)]\\n        \\n    }\\n    self.model = new AppViewModel();\\n    self.valueFromJulia = {};\\n    for (var key in json_data) {\\n        self.valueFromJulia[key] = false;\\n    }\\n    ko.applyBindings(self.model, self.dom);\\n}\\n);\\n    (WebIO.importBlock({\\\"data\\\":[{\\\"name\\\":\\\"knockout\\\",\\\"type\\\":\\\"js\\\",\\\"url\\\":\\\"\\/assetserver\\/7ce5fb94901cd9817b0d2f5c55656bbbc8077c10-knockout.js\\\"},{\\\"name\\\":\\\"knockout_punches\\\",\\\"type\\\":\\\"js\\\",\\\"url\\\":\\\"\\/assetserver\\/bd9fbe3cc592c27356f31921aa080f1c09d2cb5d-knockout_punches.js\\\"}],\\\"type\\\":\\\"async_block\\\"})).then((imports) => handler.apply(this, imports));\\n}\\n\"],\"observables\":{\"changes\":{\"sync\":false,\"id\":\"3617435849890736519\",\"value\":0},\"index\":{\"sync\":true,\"id\":\"1164995673610648902\",\"value\":26}}},\"children\":[{\"props\":{\"className\":\"interact-flex-row interact-widget\"},\"nodeType\":\"DOM\",\"type\":\"node\",\"instanceArgs\":{\"namespace\":\"html\",\"tag\":\"div\"},\"children\":[{\"props\":{\"className\":\"interact-flex-row-left\"},\"nodeType\":\"DOM\",\"type\":\"node\",\"instanceArgs\":{\"namespace\":\"html\",\"tag\":\"div\"},\"children\":[{\"props\":{\"className\":\"interact \",\"style\":{\"padding\":\"5px 10px 0px 10px\"}},\"nodeType\":\"DOM\",\"type\":\"node\",\"instanceArgs\":{\"namespace\":\"html\",\"tag\":\"label\"},\"children\":[\"ang4\"]}]},{\"props\":{\"className\":\"interact-flex-row-center\"},\"nodeType\":\"DOM\",\"type\":\"node\",\"instanceArgs\":{\"namespace\":\"html\",\"tag\":\"div\"},\"children\":[{\"props\":{\"max\":51,\"min\":1,\"attributes\":{\"type\":\"range\",\"data-bind\":\"numericValue: index, valueUpdate: 'input', event: {change: function (){this.changes(this.changes()+1)}}\",\"orient\":\"horizontal\"},\"step\":1,\"className\":\"slider slider is-fullwidth\",\"style\":{}},\"nodeType\":\"DOM\",\"type\":\"node\",\"instanceArgs\":{\"namespace\":\"html\",\"tag\":\"input\"},\"children\":[]}]},{\"props\":{\"className\":\"interact-flex-row-right\"},\"nodeType\":\"DOM\",\"type\":\"node\",\"instanceArgs\":{\"namespace\":\"html\",\"tag\":\"div\"},\"children\":[{\"props\":{\"attributes\":{\"data-bind\":\"text: formatted_val\"}},\"nodeType\":\"DOM\",\"type\":\"node\",\"instanceArgs\":{\"namespace\":\"html\",\"tag\":\"p\"},\"children\":[]}]}]}]}]},{\"props\":{\"className\":\"field interact-widget\"},\"nodeType\":\"DOM\",\"type\":\"node\",\"instanceArgs\":{\"namespace\":\"html\",\"tag\":\"div\"},\"children\":[{\"props\":{},\"nodeType\":\"Scope\",\"type\":\"node\",\"instanceArgs\":{\"imports\":{\"data\":[{\"name\":\"knockout\",\"type\":\"js\",\"url\":\"\\/assetserver\\/7ce5fb94901cd9817b0d2f5c55656bbbc8077c10-knockout.js\"},{\"name\":\"knockout_punches\",\"type\":\"js\",\"url\":\"\\/assetserver\\/bd9fbe3cc592c27356f31921aa080f1c09d2cb5d-knockout_punches.js\"},{\"name\":null,\"type\":\"js\",\"url\":\"\\/assetserver\\/396e9dca96a747e8959c1c1f80c933d66a98bf1f-all.js\"},{\"name\":null,\"type\":\"css\",\"url\":\"\\/assetserver\\/358ec8c8352c7354edb9b199d4afd9347810a55c-style.css\"},{\"name\":null,\"type\":\"css\",\"url\":\"\\/assetserver\\/62b0c7544019fc934d3511d29e7b58032a866f63-bulma_confined.min.css\"}],\"type\":\"async_block\"},\"id\":\"10872496287443901280\",\"handlers\":{\"changes\":[\"(function (val){return (val!=this.model[\\\"changes\\\"]()) ? (this.valueFromJulia[\\\"changes\\\"]=true, this.model[\\\"changes\\\"](val)) : undefined})\"],\"index\":[\"(function (val){return (val!=this.model[\\\"index\\\"]()) ? (this.valueFromJulia[\\\"index\\\"]=true, this.model[\\\"index\\\"](val)) : undefined})\"]},\"systemjs_options\":null,\"mount_callbacks\":[\"function () {\\n    var handler = (function (ko, koPunches) {\\n    ko.punches.enableAll();\\n    ko.bindingHandlers.numericValue = {\\n        init: function(element, valueAccessor, allBindings, data, context) {\\n            var stringified = ko.observable(ko.unwrap(valueAccessor()));\\n            stringified.subscribe(function(value) {\\n                var val = parseFloat(value);\\n                if (!isNaN(val)) {\\n                    valueAccessor()(val);\\n                }\\n            });\\n            valueAccessor().subscribe(function(value) {\\n                var str = JSON.stringify(value);\\n                if ((str == \\\"0\\\") && ([\\\"-0\\\", \\\"-0.\\\"].indexOf(stringified()) >= 0))\\n                     return;\\n                 if ([\\\"null\\\", \\\"\\\"].indexOf(str) >= 0)\\n                     return;\\n                stringified(str);\\n            });\\n            ko.applyBindingsToNode(\\n                element,\\n                {\\n                    value: stringified,\\n                    valueUpdate: allBindings.get('valueUpdate'),\\n                },\\n                context,\\n            );\\n        }\\n    };\\n    var json_data = {\\\"formatted_vals\\\":[\\\"1.0\\\",\\\"1.05\\\",\\\"1.1\\\",\\\"1.15\\\",\\\"1.2\\\",\\\"1.25\\\",\\\"1.3\\\",\\\"1.35\\\",\\\"1.4\\\",\\\"1.45\\\",\\\"1.5\\\",\\\"1.55\\\",\\\"1.6\\\"],\\\"changes\\\":WebIO.getval({\\\"name\\\":\\\"changes\\\",\\\"scope\\\":\\\"10872496287443901280\\\",\\\"id\\\":\\\"16751024472224224161\\\",\\\"type\\\":\\\"observable\\\"}),\\\"index\\\":WebIO.getval({\\\"name\\\":\\\"index\\\",\\\"scope\\\":\\\"10872496287443901280\\\",\\\"id\\\":\\\"13736041932509807847\\\",\\\"type\\\":\\\"observable\\\"})};\\n    var self = this;\\n    function AppViewModel() {\\n        for (var key in json_data) {\\n            var el = json_data[key];\\n            this[key] = Array.isArray(el) ? ko.observableArray(el) : ko.observable(el);\\n        }\\n        \\n        [this[\\\"formatted_val\\\"]=ko.computed(    function(){\\n        return this.formatted_vals()[parseInt(this.index())-(1)];\\n    }\\n,this)]\\n        [this[\\\"changes\\\"].subscribe((function (val){!(this.valueFromJulia[\\\"changes\\\"]) ? (WebIO.setval({\\\"name\\\":\\\"changes\\\",\\\"scope\\\":\\\"10872496287443901280\\\",\\\"id\\\":\\\"16751024472224224161\\\",\\\"type\\\":\\\"observable\\\"},val)) : undefined; return this.valueFromJulia[\\\"changes\\\"]=false}),self),this[\\\"index\\\"].subscribe((function (val){!(this.valueFromJulia[\\\"index\\\"]) ? (WebIO.setval({\\\"name\\\":\\\"index\\\",\\\"scope\\\":\\\"10872496287443901280\\\",\\\"id\\\":\\\"13736041932509807847\\\",\\\"type\\\":\\\"observable\\\"},val)) : undefined; return this.valueFromJulia[\\\"index\\\"]=false}),self)]\\n        \\n    }\\n    self.model = new AppViewModel();\\n    self.valueFromJulia = {};\\n    for (var key in json_data) {\\n        self.valueFromJulia[key] = false;\\n    }\\n    ko.applyBindings(self.model, self.dom);\\n}\\n);\\n    (WebIO.importBlock({\\\"data\\\":[{\\\"name\\\":\\\"knockout\\\",\\\"type\\\":\\\"js\\\",\\\"url\\\":\\\"\\/assetserver\\/7ce5fb94901cd9817b0d2f5c55656bbbc8077c10-knockout.js\\\"},{\\\"name\\\":\\\"knockout_punches\\\",\\\"type\\\":\\\"js\\\",\\\"url\\\":\\\"\\/assetserver\\/bd9fbe3cc592c27356f31921aa080f1c09d2cb5d-knockout_punches.js\\\"}],\\\"type\\\":\\\"async_block\\\"})).then((imports) => handler.apply(this, imports));\\n}\\n\"],\"observables\":{\"changes\":{\"sync\":false,\"id\":\"16751024472224224161\",\"value\":0},\"index\":{\"sync\":true,\"id\":\"13736041932509807847\",\"value\":7}}},\"children\":[{\"props\":{\"className\":\"interact-flex-row interact-widget\"},\"nodeType\":\"DOM\",\"type\":\"node\",\"instanceArgs\":{\"namespace\":\"html\",\"tag\":\"div\"},\"children\":[{\"props\":{\"className\":\"interact-flex-row-left\"},\"nodeType\":\"DOM\",\"type\":\"node\",\"instanceArgs\":{\"namespace\":\"html\",\"tag\":\"div\"},\"children\":[{\"props\":{\"className\":\"interact \",\"style\":{\"padding\":\"5px 10px 0px 10px\"}},\"nodeType\":\"DOM\",\"type\":\"node\",\"instanceArgs\":{\"namespace\":\"html\",\"tag\":\"label\"},\"children\":[\"l\"]}]},{\"props\":{\"className\":\"interact-flex-row-center\"},\"nodeType\":\"DOM\",\"type\":\"node\",\"instanceArgs\":{\"namespace\":\"html\",\"tag\":\"div\"},\"children\":[{\"props\":{\"max\":13,\"min\":1,\"attributes\":{\"type\":\"range\",\"data-bind\":\"numericValue: index, valueUpdate: 'input', event: {change: function (){this.changes(this.changes()+1)}}\",\"orient\":\"horizontal\"},\"step\":1,\"className\":\"slider slider is-fullwidth\",\"style\":{}},\"nodeType\":\"DOM\",\"type\":\"node\",\"instanceArgs\":{\"namespace\":\"html\",\"tag\":\"input\"},\"children\":[]}]},{\"props\":{\"className\":\"interact-flex-row-right\"},\"nodeType\":\"DOM\",\"type\":\"node\",\"instanceArgs\":{\"namespace\":\"html\",\"tag\":\"div\"},\"children\":[{\"props\":{\"attributes\":{\"data-bind\":\"text: formatted_val\"}},\"nodeType\":\"DOM\",\"type\":\"node\",\"instanceArgs\":{\"namespace\":\"html\",\"tag\":\"p\"},\"children\":[]}]}]}]}]},{\"props\":{},\"nodeType\":\"Scope\",\"type\":\"node\",\"instanceArgs\":{\"imports\":{\"data\":[],\"type\":\"async_block\"},\"id\":\"17644301838460887933\",\"handlers\":{},\"systemjs_options\":null,\"mount_callbacks\":[],\"observables\":{\"obs-node\":{\"sync\":false,\"id\":\"5713339648559451428\",\"value\":{\"props\":{\"className\":\"interact-flex-row interact-widget\"},\"nodeType\":\"DOM\",\"type\":\"node\",\"instanceArgs\":{\"namespace\":\"html\",\"tag\":\"div\"},\"children\":[{\"props\":{},\"nodeType\":\"Scope\",\"type\":\"node\",\"instanceArgs\":{\"imports\":{\"data\":[{\"name\":\"Plotly\",\"type\":\"js\",\"url\":\"\\/assetserver\\/d587a7f7a331fb78920b88d74b73dd3c4167f589-plotly.min.js\"},{\"name\":null,\"type\":\"js\",\"url\":\"\\/assetserver\\/a26bdc2796b21a9667e6225725e33813ba7f89c9-plotly_webio.bundle.js\"}],\"type\":\"async_block\"},\"id\":\"8803333799735697397\",\"handlers\":{\"_toImage\":[\"(function (options){return this.Plotly.toImage(this.plotElem,options).then((function (data){return WebIO.setval({\\\"name\\\":\\\"image\\\",\\\"scope\\\":\\\"8803333799735697397\\\",\\\"id\\\":\\\"18311858432682853988\\\",\\\"type\\\":\\\"observable\\\"},data)}))})\"],\"__get_gd_contents\":[\"(function (prop){prop==\\\"data\\\" ? (WebIO.setval({\\\"name\\\":\\\"__gd_contents\\\",\\\"scope\\\":\\\"8803333799735697397\\\",\\\"id\\\":\\\"17633214367220053967\\\",\\\"type\\\":\\\"observable\\\"},this.plotElem.data)) : undefined; return prop==\\\"layout\\\" ? (WebIO.setval({\\\"name\\\":\\\"__gd_contents\\\",\\\"scope\\\":\\\"8803333799735697397\\\",\\\"id\\\":\\\"17633214367220053967\\\",\\\"type\\\":\\\"observable\\\"},this.plotElem.layout)) : undefined})\"],\"_downloadImage\":[\"(function (options){return this.Plotly.downloadImage(this.plotElem,options)})\"],\"_commands\":[\"(function (args){var fn=args.shift(); var elem=this.plotElem; var Plotly=this.Plotly; args.unshift(elem); return Plotly[fn].apply(this,args)})\"]},\"systemjs_options\":null,\"mount_callbacks\":[\"function () {\\n    var handler = ((function (Plotly,PlotlyWebIO){PlotlyWebIO.init(WebIO); var gd=this.dom.querySelector(\\\"#plot-92f91ba3-e579-4927-937e-2ddf46965893\\\"); this.plotElem=gd; this.Plotly=Plotly; (window.Blink!==undefined) ? (gd.style.width=\\\"100%\\\", gd.style.height=\\\"100vh\\\", gd.style.marginLeft=\\\"0%\\\", gd.style.marginTop=\\\"0vh\\\") : undefined; window.onresize=(function (){return Plotly.Plots.resize(gd)}); Plotly.newPlot(gd,[],{\\\"template\\\":{\\\"layout\\\":{\\\"coloraxis\\\":{\\\"colorbar\\\":{\\\"ticks\\\":\\\"\\\",\\\"outlinewidth\\\":0}},\\\"xaxis\\\":{\\\"gridcolor\\\":\\\"white\\\",\\\"zerolinewidth\\\":2,\\\"title\\\":{\\\"standoff\\\":15},\\\"ticks\\\":\\\"\\\",\\\"zerolinecolor\\\":\\\"white\\\",\\\"automargin\\\":true,\\\"linecolor\\\":\\\"white\\\"},\\\"hovermode\\\":\\\"closest\\\",\\\"paper_bgcolor\\\":\\\"white\\\",\\\"geo\\\":{\\\"showlakes\\\":true,\\\"showland\\\":true,\\\"landcolor\\\":\\\"#E5ECF6\\\",\\\"bgcolor\\\":\\\"white\\\",\\\"subunitcolor\\\":\\\"white\\\",\\\"lakecolor\\\":\\\"white\\\"},\\\"colorscale\\\":{\\\"sequential\\\":[[0.0,\\\"#0d0887\\\"],[0.1111111111111111,\\\"#46039f\\\"],[0.2222222222222222,\\\"#7201a8\\\"],[0.3333333333333333,\\\"#9c179e\\\"],[0.4444444444444444,\\\"#bd3786\\\"],[0.5555555555555556,\\\"#d8576b\\\"],[0.6666666666666666,\\\"#ed7953\\\"],[0.7777777777777778,\\\"#fb9f3a\\\"],[0.8888888888888888,\\\"#fdca26\\\"],[1.0,\\\"#f0f921\\\"]],\\\"diverging\\\":[[0,\\\"#8e0152\\\"],[0.1,\\\"#c51b7d\\\"],[0.2,\\\"#de77ae\\\"],[0.3,\\\"#f1b6da\\\"],[0.4,\\\"#fde0ef\\\"],[0.5,\\\"#f7f7f7\\\"],[0.6,\\\"#e6f5d0\\\"],[0.7,\\\"#b8e186\\\"],[0.8,\\\"#7fbc41\\\"],[0.9,\\\"#4d9221\\\"],[1,\\\"#276419\\\"]],\\\"sequentialminus\\\":[[0.0,\\\"#0d0887\\\"],[0.1111111111111111,\\\"#46039f\\\"],[0.2222222222222222,\\\"#7201a8\\\"],[0.3333333333333333,\\\"#9c179e\\\"],[0.4444444444444444,\\\"#bd3786\\\"],[0.5555555555555556,\\\"#d8576b\\\"],[0.6666666666666666,\\\"#ed7953\\\"],[0.7777777777777778,\\\"#fb9f3a\\\"],[0.8888888888888888,\\\"#fdca26\\\"],[1.0,\\\"#f0f921\\\"]]},\\\"yaxis\\\":{\\\"gridcolor\\\":\\\"white\\\",\\\"zerolinewidth\\\":2,\\\"title\\\":{\\\"standoff\\\":15},\\\"ticks\\\":\\\"\\\",\\\"zerolinecolor\\\":\\\"white\\\",\\\"automargin\\\":true,\\\"linecolor\\\":\\\"white\\\"},\\\"shapedefaults\\\":{\\\"line\\\":{\\\"color\\\":\\\"#2a3f5f\\\"}},\\\"hoverlabel\\\":{\\\"align\\\":\\\"left\\\"},\\\"mapbox\\\":{\\\"style\\\":\\\"light\\\"},\\\"polar\\\":{\\\"angularaxis\\\":{\\\"gridcolor\\\":\\\"white\\\",\\\"ticks\\\":\\\"\\\",\\\"linecolor\\\":\\\"white\\\"},\\\"bgcolor\\\":\\\"#E5ECF6\\\",\\\"radialaxis\\\":{\\\"gridcolor\\\":\\\"white\\\",\\\"ticks\\\":\\\"\\\",\\\"linecolor\\\":\\\"white\\\"}},\\\"autotypenumbers\\\":\\\"strict\\\",\\\"font\\\":{\\\"color\\\":\\\"#2a3f5f\\\"},\\\"ternary\\\":{\\\"baxis\\\":{\\\"gridcolor\\\":\\\"white\\\",\\\"ticks\\\":\\\"\\\",\\\"linecolor\\\":\\\"white\\\"},\\\"bgcolor\\\":\\\"#E5ECF6\\\",\\\"caxis\\\":{\\\"gridcolor\\\":\\\"white\\\",\\\"ticks\\\":\\\"\\\",\\\"linecolor\\\":\\\"white\\\"},\\\"aaxis\\\":{\\\"gridcolor\\\":\\\"white\\\",\\\"ticks\\\":\\\"\\\",\\\"linecolor\\\":\\\"white\\\"}},\\\"annotationdefaults\\\":{\\\"arrowhead\\\":0,\\\"arrowwidth\\\":1,\\\"arrowcolor\\\":\\\"#2a3f5f\\\"},\\\"plot_bgcolor\\\":\\\"#E5ECF6\\\",\\\"title\\\":{\\\"x\\\":0.05},\\\"scene\\\":{\\\"xaxis\\\":{\\\"gridcolor\\\":\\\"white\\\",\\\"gridwidth\\\":2,\\\"backgroundcolor\\\":\\\"#E5ECF6\\\",\\\"ticks\\\":\\\"\\\",\\\"showbackground\\\":true,\\\"zerolinecolor\\\":\\\"white\\\",\\\"linecolor\\\":\\\"white\\\"},\\\"zaxis\\\":{\\\"gridcolor\\\":\\\"white\\\",\\\"gridwidth\\\":2,\\\"backgroundcolor\\\":\\\"#E5ECF6\\\",\\\"ticks\\\":\\\"\\\",\\\"showbackground\\\":true,\\\"zerolinecolor\\\":\\\"white\\\",\\\"linecolor\\\":\\\"white\\\"},\\\"yaxis\\\":{\\\"gridcolor\\\":\\\"white\\\",\\\"gridwidth\\\":2,\\\"backgroundcolor\\\":\\\"#E5ECF6\\\",\\\"ticks\\\":\\\"\\\",\\\"showbackground\\\":true,\\\"zerolinecolor\\\":\\\"white\\\",\\\"linecolor\\\":\\\"white\\\"}},\\\"colorway\\\":[\\\"#636efa\\\",\\\"#EF553B\\\",\\\"#00cc96\\\",\\\"#ab63fa\\\",\\\"#FFA15A\\\",\\\"#19d3f3\\\",\\\"#FF6692\\\",\\\"#B6E880\\\",\\\"#FF97FF\\\",\\\"#FECB52\\\"]},\\\"data\\\":{\\\"barpolar\\\":[{\\\"type\\\":\\\"barpolar\\\",\\\"marker\\\":{\\\"line\\\":{\\\"color\\\":\\\"#E5ECF6\\\",\\\"width\\\":0.5}}}],\\\"carpet\\\":[{\\\"aaxis\\\":{\\\"gridcolor\\\":\\\"white\\\",\\\"endlinecolor\\\":\\\"#2a3f5f\\\",\\\"minorgridcolor\\\":\\\"white\\\",\\\"startlinecolor\\\":\\\"#2a3f5f\\\",\\\"linecolor\\\":\\\"white\\\"},\\\"type\\\":\\\"carpet\\\",\\\"baxis\\\":{\\\"gridcolor\\\":\\\"white\\\",\\\"endlinecolor\\\":\\\"#2a3f5f\\\",\\\"minorgridcolor\\\":\\\"white\\\",\\\"startlinecolor\\\":\\\"#2a3f5f\\\",\\\"linecolor\\\":\\\"white\\\"}}],\\\"scatterpolar\\\":[{\\\"type\\\":\\\"scatterpolar\\\",\\\"marker\\\":{\\\"colorbar\\\":{\\\"ticks\\\":\\\"\\\",\\\"outlinewidth\\\":0}}}],\\\"parcoords\\\":[{\\\"line\\\":{\\\"colorbar\\\":{\\\"ticks\\\":\\\"\\\",\\\"outlinewidth\\\":0}},\\\"type\\\":\\\"parcoords\\\"}],\\\"scatter\\\":[{\\\"type\\\":\\\"scatter\\\",\\\"marker\\\":{\\\"colorbar\\\":{\\\"ticks\\\":\\\"\\\",\\\"outlinewidth\\\":0}}}],\\\"histogram2dcontour\\\":[{\\\"colorbar\\\":{\\\"ticks\\\":\\\"\\\",\\\"outlinewidth\\\":0},\\\"type\\\":\\\"histogram2dcontour\\\",\\\"colorscale\\\":[[0.0,\\\"#0d0887\\\"],[0.1111111111111111,\\\"#46039f\\\"],[0.2222222222222222,\\\"#7201a8\\\"],[0.3333333333333333,\\\"#9c179e\\\"],[0.4444444444444444,\\\"#bd3786\\\"],[0.5555555555555556,\\\"#d8576b\\\"],[0.6666666666666666,\\\"#ed7953\\\"],[0.7777777777777778,\\\"#fb9f3a\\\"],[0.8888888888888888,\\\"#fdca26\\\"],[1.0,\\\"#f0f921\\\"]]}],\\\"contour\\\":[{\\\"colorbar\\\":{\\\"ticks\\\":\\\"\\\",\\\"outlinewidth\\\":0},\\\"type\\\":\\\"contour\\\",\\\"colorscale\\\":[[0.0,\\\"#0d0887\\\"],[0.1111111111111111,\\\"#46039f\\\"],[0.2222222222222222,\\\"#7201a8\\\"],[0.3333333333333333,\\\"#9c179e\\\"],[0.4444444444444444,\\\"#bd3786\\\"],[0.5555555555555556,\\\"#d8576b\\\"],[0.6666666666666666,\\\"#ed7953\\\"],[0.7777777777777778,\\\"#fb9f3a\\\"],[0.8888888888888888,\\\"#fdca26\\\"],[1.0,\\\"#f0f921\\\"]]}],\\\"scattercarpet\\\":[{\\\"type\\\":\\\"scattercarpet\\\",\\\"marker\\\":{\\\"colorbar\\\":{\\\"ticks\\\":\\\"\\\",\\\"outlinewidth\\\":0}}}],\\\"mesh3d\\\":[{\\\"colorbar\\\":{\\\"ticks\\\":\\\"\\\",\\\"outlinewidth\\\":0},\\\"type\\\":\\\"mesh3d\\\"}],\\\"surface\\\":[{\\\"colorbar\\\":{\\\"ticks\\\":\\\"\\\",\\\"outlinewidth\\\":0},\\\"type\\\":\\\"surface\\\",\\\"colorscale\\\":[[0.0,\\\"#0d0887\\\"],[0.1111111111111111,\\\"#46039f\\\"],[0.2222222222222222,\\\"#7201a8\\\"],[0.3333333333333333,\\\"#9c179e\\\"],[0.4444444444444444,\\\"#bd3786\\\"],[0.5555555555555556,\\\"#d8576b\\\"],[0.6666666666666666,\\\"#ed7953\\\"],[0.7777777777777778,\\\"#fb9f3a\\\"],[0.8888888888888888,\\\"#fdca26\\\"],[1.0,\\\"#f0f921\\\"]]}],\\\"scattermapbox\\\":[{\\\"type\\\":\\\"scattermapbox\\\",\\\"marker\\\":{\\\"colorbar\\\":{\\\"ticks\\\":\\\"\\\",\\\"outlinewidth\\\":0}}}],\\\"scattergeo\\\":[{\\\"type\\\":\\\"scattergeo\\\",\\\"marker\\\":{\\\"colorbar\\\":{\\\"ticks\\\":\\\"\\\",\\\"outlinewidth\\\":0}}}],\\\"histogram\\\":[{\\\"type\\\":\\\"histogram\\\",\\\"marker\\\":{\\\"colorbar\\\":{\\\"ticks\\\":\\\"\\\",\\\"outlinewidth\\\":0}}}],\\\"pie\\\":[{\\\"type\\\":\\\"pie\\\",\\\"automargin\\\":true}],\\\"choropleth\\\":[{\\\"colorbar\\\":{\\\"ticks\\\":\\\"\\\",\\\"outlinewidth\\\":0},\\\"type\\\":\\\"choropleth\\\"}],\\\"heatmapgl\\\":[{\\\"colorbar\\\":{\\\"ticks\\\":\\\"\\\",\\\"outlinewidth\\\":0},\\\"type\\\":\\\"heatmapgl\\\",\\\"colorscale\\\":[[0.0,\\\"#0d0887\\\"],[0.1111111111111111,\\\"#46039f\\\"],[0.2222222222222222,\\\"#7201a8\\\"],[0.3333333333333333,\\\"#9c179e\\\"],[0.4444444444444444,\\\"#bd3786\\\"],[0.5555555555555556,\\\"#d8576b\\\"],[0.6666666666666666,\\\"#ed7953\\\"],[0.7777777777777778,\\\"#fb9f3a\\\"],[0.8888888888888888,\\\"#fdca26\\\"],[1.0,\\\"#f0f921\\\"]]}],\\\"bar\\\":[{\\\"type\\\":\\\"bar\\\",\\\"error_y\\\":{\\\"color\\\":\\\"#2a3f5f\\\"},\\\"error_x\\\":{\\\"color\\\":\\\"#2a3f5f\\\"},\\\"marker\\\":{\\\"line\\\":{\\\"color\\\":\\\"#E5ECF6\\\",\\\"width\\\":0.5}}}],\\\"heatmap\\\":[{\\\"colorbar\\\":{\\\"ticks\\\":\\\"\\\",\\\"outlinewidth\\\":0},\\\"type\\\":\\\"heatmap\\\",\\\"colorscale\\\":[[0.0,\\\"#0d0887\\\"],[0.1111111111111111,\\\"#46039f\\\"],[0.2222222222222222,\\\"#7201a8\\\"],[0.3333333333333333,\\\"#9c179e\\\"],[0.4444444444444444,\\\"#bd3786\\\"],[0.5555555555555556,\\\"#d8576b\\\"],[0.6666666666666666,\\\"#ed7953\\\"],[0.7777777777777778,\\\"#fb9f3a\\\"],[0.8888888888888888,\\\"#fdca26\\\"],[1.0,\\\"#f0f921\\\"]]}],\\\"contourcarpet\\\":[{\\\"colorbar\\\":{\\\"ticks\\\":\\\"\\\",\\\"outlinewidth\\\":0},\\\"type\\\":\\\"contourcarpet\\\"}],\\\"table\\\":[{\\\"type\\\":\\\"table\\\",\\\"header\\\":{\\\"line\\\":{\\\"color\\\":\\\"white\\\"},\\\"fill\\\":{\\\"color\\\":\\\"#C8D4E3\\\"}},\\\"cells\\\":{\\\"line\\\":{\\\"color\\\":\\\"white\\\"},\\\"fill\\\":{\\\"color\\\":\\\"#EBF0F8\\\"}}}],\\\"scatter3d\\\":[{\\\"line\\\":{\\\"colorbar\\\":{\\\"ticks\\\":\\\"\\\",\\\"outlinewidth\\\":0}},\\\"type\\\":\\\"scatter3d\\\",\\\"marker\\\":{\\\"colorbar\\\":{\\\"ticks\\\":\\\"\\\",\\\"outlinewidth\\\":0}}}],\\\"scattergl\\\":[{\\\"type\\\":\\\"scattergl\\\",\\\"marker\\\":{\\\"colorbar\\\":{\\\"ticks\\\":\\\"\\\",\\\"outlinewidth\\\":0}}}],\\\"histogram2d\\\":[{\\\"colorbar\\\":{\\\"ticks\\\":\\\"\\\",\\\"outlinewidth\\\":0},\\\"type\\\":\\\"histogram2d\\\",\\\"colorscale\\\":[[0.0,\\\"#0d0887\\\"],[0.1111111111111111,\\\"#46039f\\\"],[0.2222222222222222,\\\"#7201a8\\\"],[0.3333333333333333,\\\"#9c179e\\\"],[0.4444444444444444,\\\"#bd3786\\\"],[0.5555555555555556,\\\"#d8576b\\\"],[0.6666666666666666,\\\"#ed7953\\\"],[0.7777777777777778,\\\"#fb9f3a\\\"],[0.8888888888888888,\\\"#fdca26\\\"],[1.0,\\\"#f0f921\\\"]]}],\\\"scatterternary\\\":[{\\\"type\\\":\\\"scatterternary\\\",\\\"marker\\\":{\\\"colorbar\\\":{\\\"ticks\\\":\\\"\\\",\\\"outlinewidth\\\":0}}}],\\\"scatterpolargl\\\":[{\\\"type\\\":\\\"scatterpolargl\\\",\\\"marker\\\":{\\\"colorbar\\\":{\\\"ticks\\\":\\\"\\\",\\\"outlinewidth\\\":0}}}]}},\\\"margin\\\":{\\\"l\\\":50,\\\"b\\\":50,\\\"r\\\":50,\\\"t\\\":60}},{\\\"showLink\\\":false,\\\"editable\\\":false,\\\"responsive\\\":true,\\\"staticPlot\\\":false,\\\"scrollZoom\\\":true}); gd.on(\\\"plotly_hover\\\",(function (data){var filtered_data=WebIO.PlotlyCommands.filterEventData(gd,data,\\\"hover\\\"); return !(filtered_data.isnil) ? (WebIO.setval({\\\"name\\\":\\\"hover\\\",\\\"scope\\\":\\\"8803333799735697397\\\",\\\"id\\\":\\\"7547023684842863592\\\",\\\"type\\\":\\\"observable\\\"},filtered_data.out)) : undefined})); gd.on(\\\"plotly_unhover\\\",(function (){return WebIO.setval({\\\"name\\\":\\\"hover\\\",\\\"scope\\\":\\\"8803333799735697397\\\",\\\"id\\\":\\\"7547023684842863592\\\",\\\"type\\\":\\\"observable\\\"},{})})); gd.on(\\\"plotly_selected\\\",(function (data){var filtered_data=WebIO.PlotlyCommands.filterEventData(gd,data,\\\"selected\\\"); return !(filtered_data.isnil) ? (WebIO.setval({\\\"name\\\":\\\"selected\\\",\\\"scope\\\":\\\"8803333799735697397\\\",\\\"id\\\":\\\"7389481322972276517\\\",\\\"type\\\":\\\"observable\\\"},filtered_data.out)) : undefined})); gd.on(\\\"plotly_deselect\\\",(function (){return WebIO.setval({\\\"name\\\":\\\"selected\\\",\\\"scope\\\":\\\"8803333799735697397\\\",\\\"id\\\":\\\"7389481322972276517\\\",\\\"type\\\":\\\"observable\\\"},{})})); gd.on(\\\"plotly_relayout\\\",(function (data){var filtered_data=WebIO.PlotlyCommands.filterEventData(gd,data,\\\"relayout\\\"); return !(filtered_data.isnil) ? (WebIO.setval({\\\"name\\\":\\\"relayout\\\",\\\"scope\\\":\\\"8803333799735697397\\\",\\\"id\\\":\\\"16405355973467899023\\\",\\\"type\\\":\\\"observable\\\"},filtered_data.out)) : undefined})); return gd.on(\\\"plotly_click\\\",(function (data){var filtered_data=WebIO.PlotlyCommands.filterEventData(gd,data,\\\"click\\\"); return !(filtered_data.isnil) ? (WebIO.setval({\\\"name\\\":\\\"click\\\",\\\"scope\\\":\\\"8803333799735697397\\\",\\\"id\\\":\\\"7793402314934152666\\\",\\\"type\\\":\\\"observable\\\"},filtered_data.out)) : undefined}))}));\\n    (WebIO.importBlock({\\\"data\\\":[{\\\"name\\\":\\\"Plotly\\\",\\\"type\\\":\\\"js\\\",\\\"url\\\":\\\"\\/assetserver\\/d587a7f7a331fb78920b88d74b73dd3c4167f589-plotly.min.js\\\"},{\\\"name\\\":null,\\\"type\\\":\\\"js\\\",\\\"url\\\":\\\"\\/assetserver\\/a26bdc2796b21a9667e6225725e33813ba7f89c9-plotly_webio.bundle.js\\\"}],\\\"type\\\":\\\"async_block\\\"})).then((imports) => handler.apply(this, imports));\\n}\\n\"],\"observables\":{\"_toImage\":{\"sync\":false,\"id\":\"8585209251051684835\",\"value\":{}},\"hover\":{\"sync\":false,\"id\":\"7547023684842863592\",\"value\":{}},\"selected\":{\"sync\":false,\"id\":\"7389481322972276517\",\"value\":{}},\"__gd_contents\":{\"sync\":false,\"id\":\"17633214367220053967\",\"value\":{}},\"click\":{\"sync\":false,\"id\":\"7793402314934152666\",\"value\":{}},\"image\":{\"sync\":true,\"id\":\"18311858432682853988\",\"value\":\"\"},\"__get_gd_contents\":{\"sync\":false,\"id\":\"9916160191534348891\",\"value\":\"\"},\"_downloadImage\":{\"sync\":false,\"id\":\"2023681785266097402\",\"value\":{}},\"relayout\":{\"sync\":false,\"id\":\"16405355973467899023\",\"value\":{}},\"_commands\":{\"sync\":false,\"id\":\"3598897622044075284\",\"value\":[\"update\",{},{\"showlegend\":true,\"paper_bgcolor\":\"rgba(255, 255, 255, 1.000)\",\"template\":{\"data\":{\"scatterpolargl\":[{\"type\":\"scatterpolargl\",\"marker\":{\"colorbar\":{\"ticks\":\"\",\"outlinewidth\":0}}}],\"carpet\":[{\"baxis\":{\"gridcolor\":\"white\",\"endlinecolor\":\"#2a3f5f\",\"minorgridcolor\":\"white\",\"startlinecolor\":\"#2a3f5f\",\"linecolor\":\"white\"},\"type\":\"carpet\",\"aaxis\":{\"gridcolor\":\"white\",\"endlinecolor\":\"#2a3f5f\",\"minorgridcolor\":\"white\",\"startlinecolor\":\"#2a3f5f\",\"linecolor\":\"white\"}}],\"scatterpolar\":[{\"type\":\"scatterpolar\",\"marker\":{\"colorbar\":{\"ticks\":\"\",\"outlinewidth\":0}}}],\"parcoords\":[{\"line\":{\"colorbar\":{\"ticks\":\"\",\"outlinewidth\":0}},\"type\":\"parcoords\"}],\"scatter\":[{\"type\":\"scatter\",\"marker\":{\"colorbar\":{\"ticks\":\"\",\"outlinewidth\":0}}}],\"histogram2dcontour\":[{\"colorbar\":{\"ticks\":\"\",\"outlinewidth\":0},\"type\":\"histogram2dcontour\",\"colorscale\":[[0.0,\"#0d0887\"],[0.1111111111111111,\"#46039f\"],[0.2222222222222222,\"#7201a8\"],[0.3333333333333333,\"#9c179e\"],[0.4444444444444444,\"#bd3786\"],[0.5555555555555556,\"#d8576b\"],[0.6666666666666666,\"#ed7953\"],[0.7777777777777778,\"#fb9f3a\"],[0.8888888888888888,\"#fdca26\"],[1.0,\"#f0f921\"]]}],\"contour\":[{\"colorbar\":{\"ticks\":\"\",\"outlinewidth\":0},\"type\":\"contour\",\"colorscale\":[[0.0,\"#0d0887\"],[0.1111111111111111,\"#46039f\"],[0.2222222222222222,\"#7201a8\"],[0.3333333333333333,\"#9c179e\"],[0.4444444444444444,\"#bd3786\"],[0.5555555555555556,\"#d8576b\"],[0.6666666666666666,\"#ed7953\"],[0.7777777777777778,\"#fb9f3a\"],[0.8888888888888888,\"#fdca26\"],[1.0,\"#f0f921\"]]}],\"scattercarpet\":[{\"type\":\"scattercarpet\",\"marker\":{\"colorbar\":{\"ticks\":\"\",\"outlinewidth\":0}}}],\"mesh3d\":[{\"colorbar\":{\"ticks\":\"\",\"outlinewidth\":0},\"type\":\"mesh3d\"}],\"surface\":[{\"colorbar\":{\"ticks\":\"\",\"outlinewidth\":0},\"type\":\"surface\",\"colorscale\":[[0.0,\"#0d0887\"],[0.1111111111111111,\"#46039f\"],[0.2222222222222222,\"#7201a8\"],[0.3333333333333333,\"#9c179e\"],[0.4444444444444444,\"#bd3786\"],[0.5555555555555556,\"#d8576b\"],[0.6666666666666666,\"#ed7953\"],[0.7777777777777778,\"#fb9f3a\"],[0.8888888888888888,\"#fdca26\"],[1.0,\"#f0f921\"]]}],\"scattermapbox\":[{\"type\":\"scattermapbox\",\"marker\":{\"colorbar\":{\"ticks\":\"\",\"outlinewidth\":0}}}],\"scattergeo\":[{\"type\":\"scattergeo\",\"marker\":{\"colorbar\":{\"ticks\":\"\",\"outlinewidth\":0}}}],\"histogram\":[{\"type\":\"histogram\",\"marker\":{\"colorbar\":{\"ticks\":\"\",\"outlinewidth\":0}}}],\"pie\":[{\"type\":\"pie\",\"automargin\":true}],\"choropleth\":[{\"colorbar\":{\"ticks\":\"\",\"outlinewidth\":0},\"type\":\"choropleth\"}],\"heatmapgl\":[{\"colorbar\":{\"ticks\":\"\",\"outlinewidth\":0},\"type\":\"heatmapgl\",\"colorscale\":[[0.0,\"#0d0887\"],[0.1111111111111111,\"#46039f\"],[0.2222222222222222,\"#7201a8\"],[0.3333333333333333,\"#9c179e\"],[0.4444444444444444,\"#bd3786\"],[0.5555555555555556,\"#d8576b\"],[0.6666666666666666,\"#ed7953\"],[0.7777777777777778,\"#fb9f3a\"],[0.8888888888888888,\"#fdca26\"],[1.0,\"#f0f921\"]]}],\"bar\":[{\"type\":\"bar\",\"error_y\":{\"color\":\"#2a3f5f\"},\"error_x\":{\"color\":\"#2a3f5f\"},\"marker\":{\"line\":{\"color\":\"#E5ECF6\",\"width\":0.5}}}],\"heatmap\":[{\"colorbar\":{\"ticks\":\"\",\"outlinewidth\":0},\"type\":\"heatmap\",\"colorscale\":[[0.0,\"#0d0887\"],[0.1111111111111111,\"#46039f\"],[0.2222222222222222,\"#7201a8\"],[0.3333333333333333,\"#9c179e\"],[0.4444444444444444,\"#bd3786\"],[0.5555555555555556,\"#d8576b\"],[0.6666666666666666,\"#ed7953\"],[0.7777777777777778,\"#fb9f3a\"],[0.8888888888888888,\"#fdca26\"],[1.0,\"#f0f921\"]]}],\"contourcarpet\":[{\"colorbar\":{\"ticks\":\"\",\"outlinewidth\":0},\"type\":\"contourcarpet\"}],\"table\":[{\"type\":\"table\",\"header\":{\"line\":{\"color\":\"white\"},\"fill\":{\"color\":\"#C8D4E3\"}},\"cells\":{\"line\":{\"color\":\"white\"},\"fill\":{\"color\":\"#EBF0F8\"}}}],\"scatter3d\":[{\"line\":{\"colorbar\":{\"ticks\":\"\",\"outlinewidth\":0}},\"type\":\"scatter3d\",\"marker\":{\"colorbar\":{\"ticks\":\"\",\"outlinewidth\":0}}}],\"scattergl\":[{\"type\":\"scattergl\",\"marker\":{\"colorbar\":{\"ticks\":\"\",\"outlinewidth\":0}}}],\"histogram2d\":[{\"colorbar\":{\"ticks\":\"\",\"outlinewidth\":0},\"type\":\"histogram2d\",\"colorscale\":[[0.0,\"#0d0887\"],[0.1111111111111111,\"#46039f\"],[0.2222222222222222,\"#7201a8\"],[0.3333333333333333,\"#9c179e\"],[0.4444444444444444,\"#bd3786\"],[0.5555555555555556,\"#d8576b\"],[0.6666666666666666,\"#ed7953\"],[0.7777777777777778,\"#fb9f3a\"],[0.8888888888888888,\"#fdca26\"],[1.0,\"#f0f921\"]]}],\"scatterternary\":[{\"type\":\"scatterternary\",\"marker\":{\"colorbar\":{\"ticks\":\"\",\"outlinewidth\":0}}}],\"barpolar\":[{\"type\":\"barpolar\",\"marker\":{\"line\":{\"color\":\"#E5ECF6\",\"width\":0.5}}}]},\"layout\":{\"xaxis\":{\"gridcolor\":\"white\",\"zerolinewidth\":2,\"title\":{\"standoff\":15},\"ticks\":\"\",\"zerolinecolor\":\"white\",\"automargin\":true,\"linecolor\":\"white\"},\"hovermode\":\"closest\",\"paper_bgcolor\":\"white\",\"geo\":{\"showlakes\":true,\"showland\":true,\"landcolor\":\"#E5ECF6\",\"bgcolor\":\"white\",\"subunitcolor\":\"white\",\"lakecolor\":\"white\"},\"colorscale\":{\"sequential\":[[0.0,\"#0d0887\"],[0.1111111111111111,\"#46039f\"],[0.2222222222222222,\"#7201a8\"],[0.3333333333333333,\"#9c179e\"],[0.4444444444444444,\"#bd3786\"],[0.5555555555555556,\"#d8576b\"],[0.6666666666666666,\"#ed7953\"],[0.7777777777777778,\"#fb9f3a\"],[0.8888888888888888,\"#fdca26\"],[1.0,\"#f0f921\"]],\"diverging\":[[0,\"#8e0152\"],[0.1,\"#c51b7d\"],[0.2,\"#de77ae\"],[0.3,\"#f1b6da\"],[0.4,\"#fde0ef\"],[0.5,\"#f7f7f7\"],[0.6,\"#e6f5d0\"],[0.7,\"#b8e186\"],[0.8,\"#7fbc41\"],[0.9,\"#4d9221\"],[1,\"#276419\"]],\"sequentialminus\":[[0.0,\"#0d0887\"],[0.1111111111111111,\"#46039f\"],[0.2222222222222222,\"#7201a8\"],[0.3333333333333333,\"#9c179e\"],[0.4444444444444444,\"#bd3786\"],[0.5555555555555556,\"#d8576b\"],[0.6666666666666666,\"#ed7953\"],[0.7777777777777778,\"#fb9f3a\"],[0.8888888888888888,\"#fdca26\"],[1.0,\"#f0f921\"]]},\"yaxis\":{\"gridcolor\":\"white\",\"zerolinewidth\":2,\"title\":{\"standoff\":15},\"ticks\":\"\",\"zerolinecolor\":\"white\",\"automargin\":true,\"linecolor\":\"white\"},\"shapedefaults\":{\"line\":{\"color\":\"#2a3f5f\"}},\"font\":{\"color\":\"#2a3f5f\"},\"annotationdefaults\":{\"arrowhead\":0,\"arrowwidth\":1,\"arrowcolor\":\"#2a3f5f\"},\"plot_bgcolor\":\"#E5ECF6\",\"title\":{\"x\":0.05},\"coloraxis\":{\"colorbar\":{\"ticks\":\"\",\"outlinewidth\":0}},\"hoverlabel\":{\"align\":\"left\"},\"mapbox\":{\"style\":\"light\"},\"polar\":{\"angularaxis\":{\"gridcolor\":\"white\",\"ticks\":\"\",\"linecolor\":\"white\"},\"bgcolor\":\"#E5ECF6\",\"radialaxis\":{\"gridcolor\":\"white\",\"ticks\":\"\",\"linecolor\":\"white\"}},\"autotypenumbers\":\"strict\",\"ternary\":{\"aaxis\":{\"gridcolor\":\"white\",\"ticks\":\"\",\"linecolor\":\"white\"},\"bgcolor\":\"#E5ECF6\",\"caxis\":{\"gridcolor\":\"white\",\"ticks\":\"\",\"linecolor\":\"white\"},\"baxis\":{\"gridcolor\":\"white\",\"ticks\":\"\",\"linecolor\":\"white\"}},\"scene\":{\"xaxis\":{\"gridcolor\":\"white\",\"gridwidth\":2,\"backgroundcolor\":\"#E5ECF6\",\"ticks\":\"\",\"showbackground\":true,\"zerolinecolor\":\"white\",\"linecolor\":\"white\"},\"zaxis\":{\"gridcolor\":\"white\",\"gridwidth\":2,\"backgroundcolor\":\"#E5ECF6\",\"ticks\":\"\",\"showbackground\":true,\"zerolinecolor\":\"white\",\"linecolor\":\"white\"},\"yaxis\":{\"gridcolor\":\"white\",\"gridwidth\":2,\"backgroundcolor\":\"#E5ECF6\",\"ticks\":\"\",\"showbackground\":true,\"zerolinecolor\":\"white\",\"linecolor\":\"white\"}},\"colorway\":[\"#636efa\",\"#EF553B\",\"#00cc96\",\"#ab63fa\",\"#FFA15A\",\"#19d3f3\",\"#FF6692\",\"#B6E880\",\"#FF97FF\",\"#FECB52\"]}},\"annotations\":[],\"margin\":{\"l\":50,\"b\":50,\"r\":50,\"t\":60},\"height\":400,\"plot_bgcolor\":\"rgba(255, 255, 255, 1.000)\",\"scene\":{\"camera\":{\"eye\":{\"y\":-1.9499999999999997,\"z\":1.3,\"x\":1.12583302491977}},\"xaxis\":{\"tickangle\":0,\"showline\":true,\"gridcolor\":\"rgba(0, 0, 0, 0.100)\",\"showticklabels\":true,\"gridwidth\":0.5,\"titlefont\":{\"color\":\"rgba(0, 0, 0, 1.000)\",\"family\":\"sans-serif\",\"size\":15},\"visible\":true,\"ticks\":\"inside\",\"range\":[-0.3348723098686584,1.038879776015592],\"tickmode\":\"array\",\"tickvals\":[-0.2,0.0,0.2,0.4,0.6000000000000001,0.8,1.0],\"tickcolor\":\"rgb(0, 0, 0)\",\"ticktext\":[\"-0.2\",\"0.0\",\"0.2\",\"0.4\",\"0.6\",\"0.8\",\"1.0\"],\"linecolor\":\"rgba(0, 0, 0, 1.000)\",\"showgrid\":true,\"zeroline\":false,\"type\":\"-\",\"tickfont\":{\"color\":\"rgba(0, 0, 0, 1.000)\",\"family\":\"sans-serif\",\"size\":11},\"title\":\"x\",\"zerolinecolor\":\"rgba(0, 0, 0, 1.000)\",\"mirror\":false},\"domain\":{\"y\":[1.0,1.0],\"x\":[0.0,0.0]},\"yaxis\":{\"tickangle\":0,\"showline\":true,\"gridcolor\":\"rgba(0, 0, 0, 0.100)\",\"showticklabels\":true,\"gridwidth\":0.5,\"titlefont\":{\"color\":\"rgba(0, 0, 0, 1.000)\",\"family\":\"sans-serif\",\"size\":15},\"visible\":true,\"ticks\":\"inside\",\"range\":[-0.3348723098686584,1.038879776015592],\"tickmode\":\"array\",\"tickvals\":[-0.2,0.0,0.2,0.4,0.6000000000000001,0.8,1.0],\"tickcolor\":\"rgb(0, 0, 0)\",\"ticktext\":[\"-0.2\",\"0.0\",\"0.2\",\"0.4\",\"0.6\",\"0.8\",\"1.0\"],\"linecolor\":\"rgba(0, 0, 0, 1.000)\",\"showgrid\":true,\"zeroline\":false,\"type\":\"-\",\"tickfont\":{\"color\":\"rgba(0, 0, 0, 1.000)\",\"family\":\"sans-serif\",\"size\":11},\"title\":\"y\",\"zerolinecolor\":\"rgba(0, 0, 0, 1.000)\",\"mirror\":false},\"zaxis\":{\"tickangle\":0,\"showline\":true,\"gridcolor\":\"rgba(0, 0, 0, 0.100)\",\"showticklabels\":true,\"gridwidth\":0.5,\"titlefont\":{\"color\":\"rgba(0, 0, 0, 1.000)\",\"family\":\"sans-serif\",\"size\":15},\"visible\":true,\"ticks\":\"inside\",\"range\":[-0.5,0.9],\"tickmode\":\"array\",\"tickvals\":[-0.30000000000000004,0.0,0.30000000000000004,0.6000000000000001],\"tickcolor\":\"rgb(0, 0, 0)\",\"ticktext\":[\"-0.3\",\"0.0\",\"0.3\",\"0.6\"],\"linecolor\":\"rgba(0, 0, 0, 1.000)\",\"showgrid\":true,\"zeroline\":false,\"type\":\"-\",\"tickfont\":{\"color\":\"rgba(0, 0, 0, 1.000)\",\"family\":\"sans-serif\",\"size\":11},\"title\":\"z\",\"zerolinecolor\":\"rgba(0, 0, 0, 1.000)\",\"mirror\":false}},\"legend\":{\"yanchor\":\"auto\",\"xanchor\":\"auto\",\"bordercolor\":\"rgba(0, 0, 0, 1.000)\",\"bgcolor\":\"rgba(255, 255, 255, 1.000)\",\"borderwidth\":1,\"tracegroupgap\":0,\"y\":1.0,\"font\":{\"color\":\"rgba(0, 0, 0, 1.000)\",\"family\":\"sans-serif\",\"size\":11},\"title\":{\"font\":{\"color\":\"rgba(0, 0, 0, 1.000)\",\"family\":\"sans-serif\",\"size\":15},\"text\":\"\"},\"traceorder\":\"normal\",\"x\":1.0},\"width\":600}]}}},\"children\":[{\"props\":{\"id\":\"plot-92f91ba3-e579-4927-937e-2ddf46965893\"},\"nodeType\":\"DOM\",\"type\":\"node\",\"instanceArgs\":{\"namespace\":\"html\",\"tag\":\"div\"},\"children\":[]}]}]}}}},\"children\":[{\"props\":{},\"nodeType\":\"ObservableNode\",\"type\":\"node\",\"instanceArgs\":{\"id\":\"5713339648559451428\",\"name\":\"obs-node\"},\"children\":[]}]}]},\n",
       "            window,\n",
       "        );\n",
       "    } else {\n",
       "        document\n",
       "            .querySelector('[data-webio-mountpoint=\"288707412231665857\"]')\n",
       "            .innerHTML = (\n",
       "                '<div style=\"padding: 1em; background-color: #f8d6da; border: 1px solid #f5c6cb\">' +\n",
       "                '<p><strong>WebIO not detected.</strong></p>' +\n",
       "                '<p>Please read ' +\n",
       "                '<a href=\"https://juliagizmos.github.io/WebIO.jl/latest/troubleshooting/not-detected/\" target=\"_blank\">the troubleshooting guide</a> ' +\n",
       "                'for more information on how to resolve this issue.</p>' +\n",
       "                '<p><a href=\"https://juliagizmos.github.io/WebIO.jl/latest/troubleshooting/not-detected/\" target=\"_blank\">https://juliagizmos.github.io/WebIO.jl/latest/troubleshooting/not-detected/</a></p>' +\n",
       "                '</div>'\n",
       "            );\n",
       "    }\n",
       "    </script>\n",
       "</div>\n"
      ],
      "text/plain": [
       "Node{WebIO.DOM}(WebIO.DOM(:html, :div), Any[Node{WebIO.DOM}(WebIO.DOM(:html, :div), Any[Scope(Node{WebIO.DOM}(WebIO.DOM(:html, :div), Any[Node{WebIO.DOM}(WebIO.DOM(:html, :div), Any[Node{WebIO.DOM}(WebIO.DOM(:html, :label), Any[\"ang1\"], Dict{Symbol, Any}(:className => \"interact \", :style => Dict{Any, Any}(:padding => \"5px 10px 0px 10px\")))], Dict{Symbol, Any}(:className => \"interact-flex-row-left\")), Node{WebIO.DOM}(WebIO.DOM(:html, :div), Any[Node{WebIO.DOM}(WebIO.DOM(:html, :input), Any[], Dict{Symbol, Any}(:max => 51, :min => 1, :attributes => Dict{Any, Any}(:type => \"range\", Symbol(\"data-bind\") => \"numericValue: index, valueUpdate: 'input', event: {change: function (){this.changes(this.changes()+1)}}\", \"orient\" => \"horizontal\"), :step => 1, :className => \"slider slider is-fullwidth\", :style => Dict{Any, Any}()))], Dict{Symbol, Any}(:className => \"interact-flex-row-center\")), Node{WebIO.DOM}(WebIO.DOM(:html, :div), Any[Node{WebIO.DOM}(WebIO.DOM(:html, :p), Any[], Dict{Symbol, Any}(:attributes => Dict(\"data-bind\" => \"text: formatted_val\")))], Dict{Symbol, Any}(:className => \"interact-flex-row-right\"))], Dict{Symbol, Any}(:className => \"interact-flex-row interact-widget\")), Dict{String, Tuple{Observables.AbstractObservable, Union{Nothing, Bool}}}(\"changes\" => (Observable{Int64} with 1 listeners. Value:\n",
       "0, nothing), \"index\" => (Observable{Any} with 2 listeners. Value:\n",
       "26, nothing)), Set{String}(), nothing, Asset[Asset(\"js\", \"knockout\", \"C:\\\\Users\\\\sayeg\\\\.julia\\\\packages\\\\Knockout\\\\IP1uR\\\\src\\\\..\\\\assets\\\\knockout.js\"), Asset(\"js\", \"knockout_punches\", \"C:\\\\Users\\\\sayeg\\\\.julia\\\\packages\\\\Knockout\\\\IP1uR\\\\src\\\\..\\\\assets\\\\knockout_punches.js\"), Asset(\"js\", nothing, \"C:\\\\Users\\\\sayeg\\\\.julia\\\\packages\\\\InteractBase\\\\Zfu5P\\\\src\\\\..\\\\assets\\\\all.js\"), Asset(\"css\", nothing, \"C:\\\\Users\\\\sayeg\\\\.julia\\\\packages\\\\InteractBase\\\\Zfu5P\\\\src\\\\..\\\\assets\\\\style.css\"), Asset(\"css\", nothing, \"C:\\\\Users\\\\sayeg\\\\.julia\\\\packages\\\\Interact\\\\SbgIk\\\\src\\\\..\\\\assets\\\\bulma_confined.min.css\")], Dict{Any, Any}(\"changes\" => Any[WebIO.JSString(\"(function (val){return (val!=this.model[\\\"changes\\\"]()) ? (this.valueFromJulia[\\\"changes\\\"]=true, this.model[\\\"changes\\\"](val)) : undefined})\")], \"index\" => Any[WebIO.JSString(\"(function (val){return (val!=this.model[\\\"index\\\"]()) ? (this.valueFromJulia[\\\"index\\\"]=true, this.model[\\\"index\\\"](val)) : undefined})\")]), WebIO.ConnectionPool(Channel{Any}(32), Set{AbstractConnection}(), Condition(Base.InvasiveLinkedList{Task}(Task (runnable) @0x0000000019ee5780, Task (runnable) @0x0000000019ee5780), Base.AlwaysLockedST(1))), WebIO.JSString[WebIO.JSString(\"function () {\\n    var handler = (function (ko, koPunches) {\\n    ko.punches.enableAll();\\n    ko.bindingHandlers.numericValue = {\\n        init: function(element, valueAccessor, allBindings, data, context) {\\n            var stringified = ko.observable(ko.unwrap(valueAccessor()));\\n            stringified.subscribe(function(value) {\\n                var val = parseFloat(value);\\n                if (!isNaN(val)) {\\n                    valueAccessor()(val);\\n                }\\n            });\\n            valueAccessor().subscribe(function(value) {\\n                var str = JSON.stringify(value);\\n                if ((str == \\\"0\\\") && ([\\\"-0\\\", \\\"-0.\\\"].indexOf(stringified()) >= 0))\\n                     return;\\n                 if ([\\\"null\\\", \\\"\\\"].indexOf(str) >= 0)\\n                     return;\\n                stringified(str);\\n            });\\n            ko.applyBindingsToNode(\\n                element,\\n                {\\n                    value: stringified,\\n                    valueUpdate: allBindings.get('valueUpdate'),\\n                },\\n                context,\\n            );\\n        }\\n    };\\n    var json_data = {\\\"formatted_vals\\\":[\\\"0.0\\\",\\\"0.00314159\\\",\\\"0.00628319\\\",\\\"0.00942478\\\",\\\"0.0125664\\\",\\\"0.015708\\\",\\\"0.0188496\\\",\\\"0.0219911\\\",\\\"0.0251327\\\",\\\"0.0282743\\\",\\\"0.0314159\\\",\\\"0.0345575\\\",\\\"0.0376991\\\",\\\"0.0408407\\\",\\\"0.0439823\\\",\\\"0.0471239\\\",\\\"0.0502655\\\",\\\"0.0534071\\\",\\\"0.0565487\\\",\\\"0.0596903\\\",\\\"0.0628319\\\",\\\"0.0659734\\\",\\\"0.069115\\\",\\\"0.0722566\\\",\\\"0.0753982\\\",\\\"0.0785398\\\",\\\"0.0816814\\\",\\\"0.084823\\\",\\\"0.0879646\\\",\\\"0.0911062\\\",\\\"0.0942478\\\",\\\"0.0973894\\\",\\\"0.100531\\\",\\\"0.103673\\\",\\\"0.106814\\\",\\\"0.109956\\\",\\\"0.113097\\\",\\\"0.116239\\\",\\\"0.119381\\\",\\\"0.122522\\\",\\\"0.125664\\\",\\\"0.128805\\\",\\\"0.131947\\\",\\\"0.135088\\\",\\\"0.13823\\\",\\\"0.141372\\\",\\\"0.144513\\\",\\\"0.147655\\\",\\\"0.150796\\\",\\\"0.153938\\\",\\\"0.15708\\\"],\\\"changes\\\":WebIO.getval({\\\"name\\\":\\\"changes\\\",\\\"scope\\\":\\\"12660577446641219766\\\",\\\"id\\\":\\\"17005127137154617751\\\",\\\"type\\\":\\\"observable\\\"}),\\\"index\\\":WebIO.getval({\\\"name\\\":\\\"index\\\",\\\"scope\\\":\\\"12660577446641219766\\\",\\\"id\\\":\\\"1633372455295631597\\\",\\\"type\\\":\\\"observable\\\"})};\\n    var self = this;\\n    function AppViewModel() {\\n        for (var key in json_data) {\\n            var el = json_data[key];\\n            this[key] = Array.isArray(el) ? ko.observableArray(el) : ko.observable(el);\\n        }\\n        \\n        [this[\\\"formatted_val\\\"]=ko.computed(    function(){\\n        return this.formatted_vals()[parseInt(this.index())-(1)];\\n    }\\n,this)]\\n        [this[\\\"changes\\\"].subscribe((function (val){!(this.valueFromJulia[\\\"changes\\\"]) ? (WebIO.setval({\\\"name\\\":\\\"changes\\\",\\\"scope\\\":\\\"12660577446641219766\\\",\\\"id\\\":\\\"17005127137154617751\\\",\\\"type\\\":\\\"observable\\\"},val)) : undefined; return this.valueFromJulia[\\\"changes\\\"]=false}),self),this[\\\"index\\\"].subscribe((function (val){!(this.valueFromJulia[\\\"index\\\"]) ? (WebIO.setval({\\\"name\\\":\\\"index\\\",\\\"scope\\\":\\\"12660577446641219766\\\",\\\"id\\\":\\\"1633372455295631597\\\",\\\"type\\\":\\\"observable\\\"},val)) : undefined; return this.valueFromJulia[\\\"index\\\"]=false}),self)]\\n        \\n    }\\n    self.model = new AppViewModel();\\n    self.valueFromJulia = {};\\n    for (var key in json_data) {\\n        self.valueFromJulia[key] = false;\\n    }\\n    ko.applyBindings(self.model, self.dom);\\n}\\n);\\n    (WebIO.importBlock({\\\"data\\\":[{\\\"name\\\":\\\"knockout\\\",\\\"type\\\":\\\"js\\\",\\\"url\\\":\\\"/assetserver/7ce5fb94901cd9817b0d2f5c55656bbbc8077c10-knockout.js\\\"},{\\\"name\\\":\\\"knockout_punches\\\",\\\"type\\\":\\\"js\\\",\\\"url\\\":\\\"/assetserver/bd9fbe3cc592c27356f31921aa080f1c09d2cb5d-knockout_punches.js\\\"}],\\\"type\\\":\\\"async_block\\\"})).then((imports) => handler.apply(this, imports));\\n}\\n\")])], Dict{Symbol, Any}(:className => \"field interact-widget\")), Node{WebIO.DOM}(WebIO.DOM(:html, :div), Any[Scope(Node{WebIO.DOM}(WebIO.DOM(:html, :div), Any[Node{WebIO.DOM}(WebIO.DOM(:html, :div), Any[Node{WebIO.DOM}(WebIO.DOM(:html, :label), Any[\"ang2\"], Dict{Symbol, Any}(:className => \"interact \", :style => Dict{Any, Any}(:padding => \"5px 10px 0px 10px\")))], Dict{Symbol, Any}(:className => \"interact-flex-row-left\")), Node{WebIO.DOM}(WebIO.DOM(:html, :div), Any[Node{WebIO.DOM}(WebIO.DOM(:html, :input), Any[], Dict{Symbol, Any}(:max => 51, :min => 1, :attributes => Dict{Any, Any}(:type => \"range\", Symbol(\"data-bind\") => \"numericValue: index, valueUpdate: 'input', event: {change: function (){this.changes(this.changes()+1)}}\", \"orient\" => \"horizontal\"), :step => 1, :className => \"slider slider is-fullwidth\", :style => Dict{Any, Any}()))], Dict{Symbol, Any}(:className => \"interact-flex-row-center\")), Node{WebIO.DOM}(WebIO.DOM(:html, :div), Any[Node{WebIO.DOM}(WebIO.DOM(:html, :p), Any[], Dict{Symbol, Any}(:attributes => Dict(\"data-bind\" => \"text: formatted_val\")))], Dict{Symbol, Any}(:className => \"interact-flex-row-right\"))], Dict{Symbol, Any}(:className => \"interact-flex-row interact-widget\")), Dict{String, Tuple{Observables.AbstractObservable, Union{Nothing, Bool}}}(\"changes\" => (Observable{Int64} with 1 listeners. Value:\n",
       "0, nothing), \"index\" => (Observable{Any} with 2 listeners. Value:\n",
       "26, nothing)), Set{String}(), nothing, Asset[Asset(\"js\", \"knockout\", \"C:\\\\Users\\\\sayeg\\\\.julia\\\\packages\\\\Knockout\\\\IP1uR\\\\src\\\\..\\\\assets\\\\knockout.js\"), Asset(\"js\", \"knockout_punches\", \"C:\\\\Users\\\\sayeg\\\\.julia\\\\packages\\\\Knockout\\\\IP1uR\\\\src\\\\..\\\\assets\\\\knockout_punches.js\"), Asset(\"js\", nothing, \"C:\\\\Users\\\\sayeg\\\\.julia\\\\packages\\\\InteractBase\\\\Zfu5P\\\\src\\\\..\\\\assets\\\\all.js\"), Asset(\"css\", nothing, \"C:\\\\Users\\\\sayeg\\\\.julia\\\\packages\\\\InteractBase\\\\Zfu5P\\\\src\\\\..\\\\assets\\\\style.css\"), Asset(\"css\", nothing, \"C:\\\\Users\\\\sayeg\\\\.julia\\\\packages\\\\Interact\\\\SbgIk\\\\src\\\\..\\\\assets\\\\bulma_confined.min.css\")], Dict{Any, Any}(\"changes\" => Any[WebIO.JSString(\"(function (val){return (val!=this.model[\\\"changes\\\"]()) ? (this.valueFromJulia[\\\"changes\\\"]=true, this.model[\\\"changes\\\"](val)) : undefined})\")], \"index\" => Any[WebIO.JSString(\"(function (val){return (val!=this.model[\\\"index\\\"]()) ? (this.valueFromJulia[\\\"index\\\"]=true, this.model[\\\"index\\\"](val)) : undefined})\")]), WebIO.ConnectionPool(Channel{Any}(32), Set{AbstractConnection}(), Condition(Base.InvasiveLinkedList{Task}(Task (runnable) @0x000000001a5ca720, Task (runnable) @0x000000001a5ca720), Base.AlwaysLockedST(1))), WebIO.JSString[WebIO.JSString(\"function () {\\n    var handler = (function (ko, koPunches) {\\n    ko.punches.enableAll();\\n    ko.bindingHandlers.numericValue = {\\n        init: function(element, valueAccessor, allBindings, data, context) {\\n            var stringified = ko.observable(ko.unwrap(valueAccessor()));\\n            stringified.subscribe(function(value) {\\n                var val = parseFloat(value);\\n                if (!isNaN(val)) {\\n                    valueAccessor()(val);\\n                }\\n            });\\n            valueAccessor().subscribe(function(value) {\\n                var str = JSON.stringify(value);\\n                if ((str == \\\"0\\\") && ([\\\"-0\\\", \\\"-0.\\\"].indexOf(stringified()) >= 0))\\n                     return;\\n                 if ([\\\"null\\\", \\\"\\\"].indexOf(str) >= 0)\\n                     return;\\n                stringified(str);\\n            });\\n            ko.applyBindingsToNode(\\n                element,\\n                {\\n                    value: stringified,\\n                    valueUpdate: allBindings.get('valueUpdate'),\\n                },\\n                context,\\n            );\\n        }\\n    };\\n    var json_data = {\\\"formatted_vals\\\":[\\\"0.0\\\",\\\"0.00314159\\\",\\\"0.00628319\\\",\\\"0.00942478\\\",\\\"0.0125664\\\",\\\"0.015708\\\",\\\"0.0188496\\\",\\\"0.0219911\\\",\\\"0.0251327\\\",\\\"0.0282743\\\",\\\"0.0314159\\\",\\\"0.0345575\\\",\\\"0.0376991\\\",\\\"0.0408407\\\",\\\"0.0439823\\\",\\\"0.0471239\\\",\\\"0.0502655\\\",\\\"0.0534071\\\",\\\"0.0565487\\\",\\\"0.0596903\\\",\\\"0.0628319\\\",\\\"0.0659734\\\",\\\"0.069115\\\",\\\"0.0722566\\\",\\\"0.0753982\\\",\\\"0.0785398\\\",\\\"0.0816814\\\",\\\"0.084823\\\",\\\"0.0879646\\\",\\\"0.0911062\\\",\\\"0.0942478\\\",\\\"0.0973894\\\",\\\"0.100531\\\",\\\"0.103673\\\",\\\"0.106814\\\",\\\"0.109956\\\",\\\"0.113097\\\",\\\"0.116239\\\",\\\"0.119381\\\",\\\"0.122522\\\",\\\"0.125664\\\",\\\"0.128805\\\",\\\"0.131947\\\",\\\"0.135088\\\",\\\"0.13823\\\",\\\"0.141372\\\",\\\"0.144513\\\",\\\"0.147655\\\",\\\"0.150796\\\",\\\"0.153938\\\",\\\"0.15708\\\"],\\\"changes\\\":WebIO.getval({\\\"name\\\":\\\"changes\\\",\\\"scope\\\":\\\"12652859862838733158\\\",\\\"id\\\":\\\"10696302771802187845\\\",\\\"type\\\":\\\"observable\\\"}),\\\"index\\\":WebIO.getval({\\\"name\\\":\\\"index\\\",\\\"scope\\\":\\\"12652859862838733158\\\",\\\"id\\\":\\\"8026513486189279446\\\",\\\"type\\\":\\\"observable\\\"})};\\n    var self = this;\\n    function AppViewModel() {\\n        for (var key in json_data) {\\n            var el = json_data[key];\\n            this[key] = Array.isArray(el) ? ko.observableArray(el) : ko.observable(el);\\n        }\\n        \\n        [this[\\\"formatted_val\\\"]=ko.computed(    function(){\\n        return this.formatted_vals()[parseInt(this.index())-(1)];\\n    }\\n,this)]\\n        [this[\\\"changes\\\"].subscribe((function (val){!(this.valueFromJulia[\\\"changes\\\"]) ? (WebIO.setval({\\\"name\\\":\\\"changes\\\",\\\"scope\\\":\\\"12652859862838733158\\\",\\\"id\\\":\\\"10696302771802187845\\\",\\\"type\\\":\\\"observable\\\"},val)) : undefined; return this.valueFromJulia[\\\"changes\\\"]=false}),self),this[\\\"index\\\"].subscribe((function (val){!(this.valueFromJulia[\\\"index\\\"]) ? (WebIO.setval({\\\"name\\\":\\\"index\\\",\\\"scope\\\":\\\"12652859862838733158\\\",\\\"id\\\":\\\"8026513486189279446\\\",\\\"type\\\":\\\"observable\\\"},val)) : undefined; return this.valueFromJulia[\\\"index\\\"]=false}),self)]\\n        \\n    }\\n    self.model = new AppViewModel();\\n    self.valueFromJulia = {};\\n    for (var key in json_data) {\\n        self.valueFromJulia[key] = false;\\n    }\\n    ko.applyBindings(self.model, self.dom);\\n}\\n);\\n    (WebIO.importBlock({\\\"data\\\":[{\\\"name\\\":\\\"knockout\\\",\\\"type\\\":\\\"js\\\",\\\"url\\\":\\\"/assetserver/7ce5fb94901cd9817b0d2f5c55656bbbc8077c10-knockout.js\\\"},{\\\"name\\\":\\\"knockout_punches\\\",\\\"type\\\":\\\"js\\\",\\\"url\\\":\\\"/assetserver/bd9fbe3cc592c27356f31921aa080f1c09d2cb5d-knockout_punches.js\\\"}],\\\"type\\\":\\\"async_block\\\"})).then((imports) => handler.apply(this, imports));\\n}\\n\")])], Dict{Symbol, Any}(:className => \"field interact-widget\")), Node{WebIO.DOM}(WebIO.DOM(:html, :div), Any[Scope(Node{WebIO.DOM}(WebIO.DOM(:html, :div), Any[Node{WebIO.DOM}(WebIO.DOM(:html, :div), Any[Node{WebIO.DOM}(WebIO.DOM(:html, :label), Any[\"ang3\"], Dict{Symbol, Any}(:className => \"interact \", :style => Dict{Any, Any}(:padding => \"5px 10px 0px 10px\")))], Dict{Symbol, Any}(:className => \"interact-flex-row-left\")), Node{WebIO.DOM}(WebIO.DOM(:html, :div), Any[Node{WebIO.DOM}(WebIO.DOM(:html, :input), Any[], Dict{Symbol, Any}(:max => 51, :min => 1, :attributes => Dict{Any, Any}(:type => \"range\", Symbol(\"data-bind\") => \"numericValue: index, valueUpdate: 'input', event: {change: function (){this.changes(this.changes()+1)}}\", \"orient\" => \"horizontal\"), :step => 1, :className => \"slider slider is-fullwidth\", :style => Dict{Any, Any}()))], Dict{Symbol, Any}(:className => \"interact-flex-row-center\")), Node{WebIO.DOM}(WebIO.DOM(:html, :div), Any[Node{WebIO.DOM}(WebIO.DOM(:html, :p), Any[], Dict{Symbol, Any}(:attributes => Dict(\"data-bind\" => \"text: formatted_val\")))], Dict{Symbol, Any}(:className => \"interact-flex-row-right\"))], Dict{Symbol, Any}(:className => \"interact-flex-row interact-widget\")), Dict{String, Tuple{Observables.AbstractObservable, Union{Nothing, Bool}}}(\"changes\" => (Observable{Int64} with 1 listeners. Value:\n",
       "0, nothing), \"index\" => (Observable{Any} with 2 listeners. Value:\n",
       "26, nothing)), Set{String}(), nothing, Asset[Asset(\"js\", \"knockout\", \"C:\\\\Users\\\\sayeg\\\\.julia\\\\packages\\\\Knockout\\\\IP1uR\\\\src\\\\..\\\\assets\\\\knockout.js\"), Asset(\"js\", \"knockout_punches\", \"C:\\\\Users\\\\sayeg\\\\.julia\\\\packages\\\\Knockout\\\\IP1uR\\\\src\\\\..\\\\assets\\\\knockout_punches.js\"), Asset(\"js\", nothing, \"C:\\\\Users\\\\sayeg\\\\.julia\\\\packages\\\\InteractBase\\\\Zfu5P\\\\src\\\\..\\\\assets\\\\all.js\"), Asset(\"css\", nothing, \"C:\\\\Users\\\\sayeg\\\\.julia\\\\packages\\\\InteractBase\\\\Zfu5P\\\\src\\\\..\\\\assets\\\\style.css\"), Asset(\"css\", nothing, \"C:\\\\Users\\\\sayeg\\\\.julia\\\\packages\\\\Interact\\\\SbgIk\\\\src\\\\..\\\\assets\\\\bulma_confined.min.css\")], Dict{Any, Any}(\"changes\" => Any[WebIO.JSString(\"(function (val){return (val!=this.model[\\\"changes\\\"]()) ? (this.valueFromJulia[\\\"changes\\\"]=true, this.model[\\\"changes\\\"](val)) : undefined})\")], \"index\" => Any[WebIO.JSString(\"(function (val){return (val!=this.model[\\\"index\\\"]()) ? (this.valueFromJulia[\\\"index\\\"]=true, this.model[\\\"index\\\"](val)) : undefined})\")]), WebIO.ConnectionPool(Channel{Any}(32), Set{AbstractConnection}(), Condition(Base.InvasiveLinkedList{Task}(Task (runnable) @0x000000001cd03b70, Task (runnable) @0x000000001cd03b70), Base.AlwaysLockedST(1))), WebIO.JSString[WebIO.JSString(\"function () {\\n    var handler = (function (ko, koPunches) {\\n    ko.punches.enableAll();\\n    ko.bindingHandlers.numericValue = {\\n        init: function(element, valueAccessor, allBindings, data, context) {\\n            var stringified = ko.observable(ko.unwrap(valueAccessor()));\\n            stringified.subscribe(function(value) {\\n                var val = parseFloat(value);\\n                if (!isNaN(val)) {\\n                    valueAccessor()(val);\\n                }\\n            });\\n            valueAccessor().subscribe(function(value) {\\n                var str = JSON.stringify(value);\\n                if ((str == \\\"0\\\") && ([\\\"-0\\\", \\\"-0.\\\"].indexOf(stringified()) >= 0))\\n                     return;\\n                 if ([\\\"null\\\", \\\"\\\"].indexOf(str) >= 0)\\n                     return;\\n                stringified(str);\\n            });\\n            ko.applyBindingsToNode(\\n                element,\\n                {\\n                    value: stringified,\\n                    valueUpdate: allBindings.get('valueUpdate'),\\n                },\\n                context,\\n            );\\n        }\\n    };\\n    var json_data = {\\\"formatted_vals\\\":[\\\"0.0\\\",\\\"0.00314159\\\",\\\"0.00628319\\\",\\\"0.00942478\\\",\\\"0.0125664\\\",\\\"0.015708\\\",\\\"0.0188496\\\",\\\"0.0219911\\\",\\\"0.0251327\\\",\\\"0.0282743\\\",\\\"0.0314159\\\",\\\"0.0345575\\\",\\\"0.0376991\\\",\\\"0.0408407\\\",\\\"0.0439823\\\",\\\"0.0471239\\\",\\\"0.0502655\\\",\\\"0.0534071\\\",\\\"0.0565487\\\",\\\"0.0596903\\\",\\\"0.0628319\\\",\\\"0.0659734\\\",\\\"0.069115\\\",\\\"0.0722566\\\",\\\"0.0753982\\\",\\\"0.0785398\\\",\\\"0.0816814\\\",\\\"0.084823\\\",\\\"0.0879646\\\",\\\"0.0911062\\\",\\\"0.0942478\\\",\\\"0.0973894\\\",\\\"0.100531\\\",\\\"0.103673\\\",\\\"0.106814\\\",\\\"0.109956\\\",\\\"0.113097\\\",\\\"0.116239\\\",\\\"0.119381\\\",\\\"0.122522\\\",\\\"0.125664\\\",\\\"0.128805\\\",\\\"0.131947\\\",\\\"0.135088\\\",\\\"0.13823\\\",\\\"0.141372\\\",\\\"0.144513\\\",\\\"0.147655\\\",\\\"0.150796\\\",\\\"0.153938\\\",\\\"0.15708\\\"],\\\"changes\\\":WebIO.getval({\\\"name\\\":\\\"changes\\\",\\\"scope\\\":\\\"1611121686312447939\\\",\\\"id\\\":\\\"1108961200223844913\\\",\\\"type\\\":\\\"observable\\\"}),\\\"index\\\":WebIO.getval({\\\"name\\\":\\\"index\\\",\\\"scope\\\":\\\"1611121686312447939\\\",\\\"id\\\":\\\"13337739558791629895\\\",\\\"type\\\":\\\"observable\\\"})};\\n    var self = this;\\n    function AppViewModel() {\\n        for (var key in json_data) {\\n            var el = json_data[key];\\n            this[key] = Array.isArray(el) ? ko.observableArray(el) : ko.observable(el);\\n        }\\n        \\n        [this[\\\"formatted_val\\\"]=ko.computed(    function(){\\n        return this.formatted_vals()[parseInt(this.index())-(1)];\\n    }\\n,this)]\\n        [this[\\\"changes\\\"].subscribe((function (val){!(this.valueFromJulia[\\\"changes\\\"]) ? (WebIO.setval({\\\"name\\\":\\\"changes\\\",\\\"scope\\\":\\\"1611121686312447939\\\",\\\"id\\\":\\\"1108961200223844913\\\",\\\"type\\\":\\\"observable\\\"},val)) : undefined; return this.valueFromJulia[\\\"changes\\\"]=false}),self),this[\\\"index\\\"].subscribe((function (val){!(this.valueFromJulia[\\\"index\\\"]) ? (WebIO.setval({\\\"name\\\":\\\"index\\\",\\\"scope\\\":\\\"1611121686312447939\\\",\\\"id\\\":\\\"13337739558791629895\\\",\\\"type\\\":\\\"observable\\\"},val)) : undefined; return this.valueFromJulia[\\\"index\\\"]=false}),self)]\\n        \\n    }\\n    self.model = new AppViewModel();\\n    self.valueFromJulia = {};\\n    for (var key in json_data) {\\n        self.valueFromJulia[key] = false;\\n    }\\n    ko.applyBindings(self.model, self.dom);\\n}\\n);\\n    (WebIO.importBlock({\\\"data\\\":[{\\\"name\\\":\\\"knockout\\\",\\\"type\\\":\\\"js\\\",\\\"url\\\":\\\"/assetserver/7ce5fb94901cd9817b0d2f5c55656bbbc8077c10-knockout.js\\\"},{\\\"name\\\":\\\"knockout_punches\\\",\\\"type\\\":\\\"js\\\",\\\"url\\\":\\\"/assetserver/bd9fbe3cc592c27356f31921aa080f1c09d2cb5d-knockout_punches.js\\\"}],\\\"type\\\":\\\"async_block\\\"})).then((imports) => handler.apply(this, imports));\\n}\\n\")])], Dict{Symbol, Any}(:className => \"field interact-widget\")), Node{WebIO.DOM}(WebIO.DOM(:html, :div), Any[Scope(Node{WebIO.DOM}(WebIO.DOM(:html, :div), Any[Node{WebIO.DOM}(WebIO.DOM(:html, :div), Any[Node{WebIO.DOM}(WebIO.DOM(:html, :label), Any[\"ang4\"], Dict{Symbol, Any}(:className => \"interact \", :style => Dict{Any, Any}(:padding => \"5px 10px 0px 10px\")))], Dict{Symbol, Any}(:className => \"interact-flex-row-left\")), Node{WebIO.DOM}(WebIO.DOM(:html, :div), Any[Node{WebIO.DOM}(WebIO.DOM(:html, :input), Any[], Dict{Symbol, Any}(:max => 51, :min => 1, :attributes => Dict{Any, Any}(:type => \"range\", Symbol(\"data-bind\") => \"numericValue: index, valueUpdate: 'input', event: {change: function (){this.changes(this.changes()+1)}}\", \"orient\" => \"horizontal\"), :step => 1, :className => \"slider slider is-fullwidth\", :style => Dict{Any, Any}()))], Dict{Symbol, Any}(:className => \"interact-flex-row-center\")), Node{WebIO.DOM}(WebIO.DOM(:html, :div), Any[Node{WebIO.DOM}(WebIO.DOM(:html, :p), Any[], Dict{Symbol, Any}(:attributes => Dict(\"data-bind\" => \"text: formatted_val\")))], Dict{Symbol, Any}(:className => \"interact-flex-row-right\"))], Dict{Symbol, Any}(:className => \"interact-flex-row interact-widget\")), Dict{String, Tuple{Observables.AbstractObservable, Union{Nothing, Bool}}}(\"changes\" => (Observable{Int64} with 1 listeners. Value:\n",
       "0, nothing), \"index\" => (Observable{Any} with 2 listeners. Value:\n",
       "26, nothing)), Set{String}(), nothing, Asset[Asset(\"js\", \"knockout\", \"C:\\\\Users\\\\sayeg\\\\.julia\\\\packages\\\\Knockout\\\\IP1uR\\\\src\\\\..\\\\assets\\\\knockout.js\"), Asset(\"js\", \"knockout_punches\", \"C:\\\\Users\\\\sayeg\\\\.julia\\\\packages\\\\Knockout\\\\IP1uR\\\\src\\\\..\\\\assets\\\\knockout_punches.js\"), Asset(\"js\", nothing, \"C:\\\\Users\\\\sayeg\\\\.julia\\\\packages\\\\InteractBase\\\\Zfu5P\\\\src\\\\..\\\\assets\\\\all.js\"), Asset(\"css\", nothing, \"C:\\\\Users\\\\sayeg\\\\.julia\\\\packages\\\\InteractBase\\\\Zfu5P\\\\src\\\\..\\\\assets\\\\style.css\"), Asset(\"css\", nothing, \"C:\\\\Users\\\\sayeg\\\\.julia\\\\packages\\\\Interact\\\\SbgIk\\\\src\\\\..\\\\assets\\\\bulma_confined.min.css\")], Dict{Any, Any}(\"changes\" => Any[WebIO.JSString(\"(function (val){return (val!=this.model[\\\"changes\\\"]()) ? (this.valueFromJulia[\\\"changes\\\"]=true, this.model[\\\"changes\\\"](val)) : undefined})\")], \"index\" => Any[WebIO.JSString(\"(function (val){return (val!=this.model[\\\"index\\\"]()) ? (this.valueFromJulia[\\\"index\\\"]=true, this.model[\\\"index\\\"](val)) : undefined})\")]), WebIO.ConnectionPool(Channel{Any}(32), Set{AbstractConnection}(), Condition(Base.InvasiveLinkedList{Task}(Task (runnable) @0x000000001cf28fb0, Task (runnable) @0x000000001cf28fb0), Base.AlwaysLockedST(1))), WebIO.JSString[WebIO.JSString(\"function () {\\n    var handler = (function (ko, koPunches) {\\n    ko.punches.enableAll();\\n    ko.bindingHandlers.numericValue = {\\n        init: function(element, valueAccessor, allBindings, data, context) {\\n            var stringified = ko.observable(ko.unwrap(valueAccessor()));\\n            stringified.subscribe(function(value) {\\n                var val = parseFloat(value);\\n                if (!isNaN(val)) {\\n                    valueAccessor()(val);\\n                }\\n            });\\n            valueAccessor().subscribe(function(value) {\\n                var str = JSON.stringify(value);\\n                if ((str == \\\"0\\\") && ([\\\"-0\\\", \\\"-0.\\\"].indexOf(stringified()) >= 0))\\n                     return;\\n                 if ([\\\"null\\\", \\\"\\\"].indexOf(str) >= 0)\\n                     return;\\n                stringified(str);\\n            });\\n            ko.applyBindingsToNode(\\n                element,\\n                {\\n                    value: stringified,\\n                    valueUpdate: allBindings.get('valueUpdate'),\\n                },\\n                context,\\n            );\\n        }\\n    };\\n    var json_data = {\\\"formatted_vals\\\":[\\\"0.0\\\",\\\"0.00314159\\\",\\\"0.00628319\\\",\\\"0.00942478\\\",\\\"0.0125664\\\",\\\"0.015708\\\",\\\"0.0188496\\\",\\\"0.0219911\\\",\\\"0.0251327\\\",\\\"0.0282743\\\",\\\"0.0314159\\\",\\\"0.0345575\\\",\\\"0.0376991\\\",\\\"0.0408407\\\",\\\"0.0439823\\\",\\\"0.0471239\\\",\\\"0.0502655\\\",\\\"0.0534071\\\",\\\"0.0565487\\\",\\\"0.0596903\\\",\\\"0.0628319\\\",\\\"0.0659734\\\",\\\"0.069115\\\",\\\"0.0722566\\\",\\\"0.0753982\\\",\\\"0.0785398\\\",\\\"0.0816814\\\",\\\"0.084823\\\",\\\"0.0879646\\\",\\\"0.0911062\\\",\\\"0.0942478\\\",\\\"0.0973894\\\",\\\"0.100531\\\",\\\"0.103673\\\",\\\"0.106814\\\",\\\"0.109956\\\",\\\"0.113097\\\",\\\"0.116239\\\",\\\"0.119381\\\",\\\"0.122522\\\",\\\"0.125664\\\",\\\"0.128805\\\",\\\"0.131947\\\",\\\"0.135088\\\",\\\"0.13823\\\",\\\"0.141372\\\",\\\"0.144513\\\",\\\"0.147655\\\",\\\"0.150796\\\",\\\"0.153938\\\",\\\"0.15708\\\"],\\\"changes\\\":WebIO.getval({\\\"name\\\":\\\"changes\\\",\\\"scope\\\":\\\"272394159923216844\\\",\\\"id\\\":\\\"3617435849890736519\\\",\\\"type\\\":\\\"observable\\\"}),\\\"index\\\":WebIO.getval({\\\"name\\\":\\\"index\\\",\\\"scope\\\":\\\"272394159923216844\\\",\\\"id\\\":\\\"1164995673610648902\\\",\\\"type\\\":\\\"observable\\\"})};\\n    var self = this;\\n    function AppViewModel() {\\n        for (var key in json_data) {\\n            var el = json_data[key];\\n            this[key] = Array.isArray(el) ? ko.observableArray(el) : ko.observable(el);\\n        }\\n        \\n        [this[\\\"formatted_val\\\"]=ko.computed(    function(){\\n        return this.formatted_vals()[parseInt(this.index())-(1)];\\n    }\\n,this)]\\n        [this[\\\"changes\\\"].subscribe((function (val){!(this.valueFromJulia[\\\"changes\\\"]) ? (WebIO.setval({\\\"name\\\":\\\"changes\\\",\\\"scope\\\":\\\"272394159923216844\\\",\\\"id\\\":\\\"3617435849890736519\\\",\\\"type\\\":\\\"observable\\\"},val)) : undefined; return this.valueFromJulia[\\\"changes\\\"]=false}),self),this[\\\"index\\\"].subscribe((function (val){!(this.valueFromJulia[\\\"index\\\"]) ? (WebIO.setval({\\\"name\\\":\\\"index\\\",\\\"scope\\\":\\\"272394159923216844\\\",\\\"id\\\":\\\"1164995673610648902\\\",\\\"type\\\":\\\"observable\\\"},val)) : undefined; return this.valueFromJulia[\\\"index\\\"]=false}),self)]\\n        \\n    }\\n    self.model = new AppViewModel();\\n    self.valueFromJulia = {};\\n    for (var key in json_data) {\\n        self.valueFromJulia[key] = false;\\n    }\\n    ko.applyBindings(self.model, self.dom);\\n}\\n);\\n    (WebIO.importBlock({\\\"data\\\":[{\\\"name\\\":\\\"knockout\\\",\\\"type\\\":\\\"js\\\",\\\"url\\\":\\\"/assetserver/7ce5fb94901cd9817b0d2f5c55656bbbc8077c10-knockout.js\\\"},{\\\"name\\\":\\\"knockout_punches\\\",\\\"type\\\":\\\"js\\\",\\\"url\\\":\\\"/assetserver/bd9fbe3cc592c27356f31921aa080f1c09d2cb5d-knockout_punches.js\\\"}],\\\"type\\\":\\\"async_block\\\"})).then((imports) => handler.apply(this, imports));\\n}\\n\")])], Dict{Symbol, Any}(:className => \"field interact-widget\")), Node{WebIO.DOM}(WebIO.DOM(:html, :div), Any[Scope(Node{WebIO.DOM}(WebIO.DOM(:html, :div), Any[Node{WebIO.DOM}(WebIO.DOM(:html, :div), Any[Node{WebIO.DOM}(WebIO.DOM(:html, :label), Any[\"l\"], Dict{Symbol, Any}(:className => \"interact \", :style => Dict{Any, Any}(:padding => \"5px 10px 0px 10px\")))], Dict{Symbol, Any}(:className => \"interact-flex-row-left\")), Node{WebIO.DOM}(WebIO.DOM(:html, :div), Any[Node{WebIO.DOM}(WebIO.DOM(:html, :input), Any[], Dict{Symbol, Any}(:max => 13, :min => 1, :attributes => Dict{Any, Any}(:type => \"range\", Symbol(\"data-bind\") => \"numericValue: index, valueUpdate: 'input', event: {change: function (){this.changes(this.changes()+1)}}\", \"orient\" => \"horizontal\"), :step => 1, :className => \"slider slider is-fullwidth\", :style => Dict{Any, Any}()))], Dict{Symbol, Any}(:className => \"interact-flex-row-center\")), Node{WebIO.DOM}(WebIO.DOM(:html, :div), Any[Node{WebIO.DOM}(WebIO.DOM(:html, :p), Any[], Dict{Symbol, Any}(:attributes => Dict(\"data-bind\" => \"text: formatted_val\")))], Dict{Symbol, Any}(:className => \"interact-flex-row-right\"))], Dict{Symbol, Any}(:className => \"interact-flex-row interact-widget\")), Dict{String, Tuple{Observables.AbstractObservable, Union{Nothing, Bool}}}(\"changes\" => (Observable{Int64} with 1 listeners. Value:\n",
       "0, nothing), \"index\" => (Observable{Any} with 2 listeners. Value:\n",
       "7, nothing)), Set{String}(), nothing, Asset[Asset(\"js\", \"knockout\", \"C:\\\\Users\\\\sayeg\\\\.julia\\\\packages\\\\Knockout\\\\IP1uR\\\\src\\\\..\\\\assets\\\\knockout.js\"), Asset(\"js\", \"knockout_punches\", \"C:\\\\Users\\\\sayeg\\\\.julia\\\\packages\\\\Knockout\\\\IP1uR\\\\src\\\\..\\\\assets\\\\knockout_punches.js\"), Asset(\"js\", nothing, \"C:\\\\Users\\\\sayeg\\\\.julia\\\\packages\\\\InteractBase\\\\Zfu5P\\\\src\\\\..\\\\assets\\\\all.js\"), Asset(\"css\", nothing, \"C:\\\\Users\\\\sayeg\\\\.julia\\\\packages\\\\InteractBase\\\\Zfu5P\\\\src\\\\..\\\\assets\\\\style.css\"), Asset(\"css\", nothing, \"C:\\\\Users\\\\sayeg\\\\.julia\\\\packages\\\\Interact\\\\SbgIk\\\\src\\\\..\\\\assets\\\\bulma_confined.min.css\")], Dict{Any, Any}(\"changes\" => Any[WebIO.JSString(\"(function (val){return (val!=this.model[\\\"changes\\\"]()) ? (this.valueFromJulia[\\\"changes\\\"]=true, this.model[\\\"changes\\\"](val)) : undefined})\")], \"index\" => Any[WebIO.JSString(\"(function (val){return (val!=this.model[\\\"index\\\"]()) ? (this.valueFromJulia[\\\"index\\\"]=true, this.model[\\\"index\\\"](val)) : undefined})\")]), WebIO.ConnectionPool(Channel{Any}(32), Set{AbstractConnection}(), Condition(Base.InvasiveLinkedList{Task}(Task (runnable) @0x0000000078adc970, Task (runnable) @0x0000000078adc970), Base.AlwaysLockedST(1))), WebIO.JSString[WebIO.JSString(\"function () {\\n    var handler = (function (ko, koPunches) {\\n    ko.punches.enableAll();\\n    ko.bindingHandlers.numericValue = {\\n        init: function(element, valueAccessor, allBindings, data, context) {\\n            var stringified = ko.observable(ko.unwrap(valueAccessor()));\\n            stringified.subscribe(function(value) {\\n                var val = parseFloat(value);\\n                if (!isNaN(val)) {\\n                    valueAccessor()(val);\\n                }\\n            });\\n            valueAccessor().subscribe(function(value) {\\n                var str = JSON.stringify(value);\\n                if ((str == \\\"0\\\") && ([\\\"-0\\\", \\\"-0.\\\"].indexOf(stringified()) >= 0))\\n                     return;\\n                 if ([\\\"null\\\", \\\"\\\"].indexOf(str) >= 0)\\n                     return;\\n                stringified(str);\\n            });\\n            ko.applyBindingsToNode(\\n                element,\\n                {\\n                    value: stringified,\\n                    valueUpdate: allBindings.get('valueUpdate'),\\n                },\\n                context,\\n            );\\n        }\\n    };\\n    var json_data = {\\\"formatted_vals\\\":[\\\"1.0\\\",\\\"1.05\\\",\\\"1.1\\\",\\\"1.15\\\",\\\"1.2\\\",\\\"1.25\\\",\\\"1.3\\\",\\\"1.35\\\",\\\"1.4\\\",\\\"1.45\\\",\\\"1.5\\\",\\\"1.55\\\",\\\"1.6\\\"],\\\"changes\\\":WebIO.getval({\\\"name\\\":\\\"changes\\\",\\\"scope\\\":\\\"10872496287443901280\\\",\\\"id\\\":\\\"16751024472224224161\\\",\\\"type\\\":\\\"observable\\\"}),\\\"index\\\":WebIO.getval({\\\"name\\\":\\\"index\\\",\\\"scope\\\":\\\"10872496287443901280\\\",\\\"id\\\":\\\"13736041932509807847\\\",\\\"type\\\":\\\"observable\\\"})};\\n    var self = this;\\n    function AppViewModel() {\\n        for (var key in json_data) {\\n            var el = json_data[key];\\n            this[key] = Array.isArray(el) ? ko.observableArray(el) : ko.observable(el);\\n        }\\n        \\n        [this[\\\"formatted_val\\\"]=ko.computed(    function(){\\n        return this.formatted_vals()[parseInt(this.index())-(1)];\\n    }\\n,this)]\\n        [this[\\\"changes\\\"].subscribe((function (val){!(this.valueFromJulia[\\\"changes\\\"]) ? (WebIO.setval({\\\"name\\\":\\\"changes\\\",\\\"scope\\\":\\\"10872496287443901280\\\",\\\"id\\\":\\\"16751024472224224161\\\",\\\"type\\\":\\\"observable\\\"},val)) : undefined; return this.valueFromJulia[\\\"changes\\\"]=false}),self),this[\\\"index\\\"].subscribe((function (val){!(this.valueFromJulia[\\\"index\\\"]) ? (WebIO.setval({\\\"name\\\":\\\"index\\\",\\\"scope\\\":\\\"10872496287443901280\\\",\\\"id\\\":\\\"13736041932509807847\\\",\\\"type\\\":\\\"observable\\\"},val)) : undefined; return this.valueFromJulia[\\\"index\\\"]=false}),self)]\\n        \\n    }\\n    self.model = new AppViewModel();\\n    self.valueFromJulia = {};\\n    for (var key in json_data) {\\n        self.valueFromJulia[key] = false;\\n    }\\n    ko.applyBindings(self.model, self.dom);\\n}\\n);\\n    (WebIO.importBlock({\\\"data\\\":[{\\\"name\\\":\\\"knockout\\\",\\\"type\\\":\\\"js\\\",\\\"url\\\":\\\"/assetserver/7ce5fb94901cd9817b0d2f5c55656bbbc8077c10-knockout.js\\\"},{\\\"name\\\":\\\"knockout_punches\\\",\\\"type\\\":\\\"js\\\",\\\"url\\\":\\\"/assetserver/bd9fbe3cc592c27356f31921aa080f1c09d2cb5d-knockout_punches.js\\\"}],\\\"type\\\":\\\"async_block\\\"})).then((imports) => handler.apply(this, imports));\\n}\\n\")])], Dict{Symbol, Any}(:className => \"field interact-widget\")), Observable{Any} with 0 listeners. Value:\n",
       "Node{WebIO.DOM}(WebIO.DOM(:html, :div), Any[Plot{Plots.PlotlyJSBackend() n=2}], Dict{Symbol, Any}(:className => \"interact-flex-row interact-widget\"))], Dict{Symbol, Any}())"
      ]
     },
     "execution_count": 18,
     "metadata": {
      "@webio": {
       "kernelId": "309aee65-bef8-4962-8421-7aa88cb95cdd"
      }
     },
     "output_type": "execute_result"
    }
   ],
   "source": [
    "inter = range(0,stop=pi/20,length=51)\n",
    "@manipulate for ang1 in inter, ang2 in inter, ang3 in inter, ang4 in inter,l in 1:0.05:1.6\n",
    "    v2 = ey\n",
    "    v3 = e0\n",
    "    v4 = ex\n",
    "    #ang1 = pi/40\n",
    "    #ang2 = pi/20\n",
    "    # first move\n",
    "    v1 = v2 + 0.9*rotate(ex,ang1,-1*ey)\n",
    "    v0 = v1 + l*rotate(-1*ey,ang2,unitVector(v1-v2))\n",
    "    # second move\n",
    "    v5 = v4 + 0.9*rotate(ey,ang3,-1*ex)\n",
    "    v6 = v5 + l*rotate(-1*ex,ang4,unitVector(v5-v4))\n",
    "    ch = PolygonalChain([v0,v1,v2,v3,v4,v5,v6])\n",
    "    fig = plot(zlim=(-0.5,0.9))\n",
    "    plotChain!(ch)\n",
    "    fig\n",
    "end"
   ]
  },
  {
   "cell_type": "code",
   "execution_count": 11,
   "metadata": {},
   "outputs": [
    {
     "ename": "LoadError",
     "evalue": "UndefVarError: ch not defined",
     "output_type": "error",
     "traceback": [
      "UndefVarError: ch not defined",
      "",
      "Stacktrace:",
      " [1] top-level scope",
      "   @ In[11]:1",
      " [2] eval",
      "   @ .\\boot.jl:360 [inlined]",
      " [3] include_string(mapexpr::typeof(REPL.softscope), mod::Module, code::String, filename::String)",
      "   @ Base .\\loading.jl:1094"
     ]
    }
   ],
   "source": [
    "lens,bangs,dangs = internalCoordinates(ch)"
   ]
  },
  {
   "cell_type": "code",
   "execution_count": 12,
   "metadata": {},
   "outputs": [
    {
     "data": {
      "text/plain": [
       "6-element Vector{BigFloat}:\n",
       " 1.109053646639872422593183636080089520527550941534773361997477239813811574770954\n",
       " 1.004987564152931161424399015100910379070022265709733556294377241849388248328259\n",
       " 0.9999999984283157005597691498062256480537483506217684534342422442772513853461114\n",
       " 1.004987560098822910638816802317049863165670965821234349216383091866510108983728\n",
       " 1.004987566009670095726566632524543243058339281240058496973582648991657998731817\n",
       " 1.109053644097656784592025925409199046019544186934648595185919244075780973313864"
      ]
     },
     "execution_count": 12,
     "metadata": {},
     "output_type": "execute_result"
    }
   ],
   "source": [
    "lens"
   ]
  },
  {
   "cell_type": "code",
   "execution_count": 13,
   "metadata": {},
   "outputs": [
    {
     "data": {
      "text/plain": [
       "5-element Vector{BigFloat}:\n",
       " 1.471943977769363125340519197956096662788504269800435876996658264958361388357619\n",
       " 1.57079632781925821460253874998485842987941095467721204895236088548625077305881\n",
       " 1.570796326040410136652910818099490092824252862667634375630778404561690881592736\n",
       " 1.560895173409054045304101493314543205356934409922524447476281311658658434060919\n",
       " 1.471943974275098116882763002289596488875373579469495576154876238427672927115418"
      ]
     },
     "execution_count": 13,
     "metadata": {},
     "output_type": "execute_result"
    }
   ],
   "source": [
    "bangs"
   ]
  },
  {
   "cell_type": "code",
   "execution_count": 14,
   "metadata": {},
   "outputs": [
    {
     "data": {
      "text/plain": [
       "1.5707963267948966"
      ]
     },
     "execution_count": 14,
     "metadata": {},
     "output_type": "execute_result"
    }
   ],
   "source": [
    "pi/2"
   ]
  },
  {
   "cell_type": "code",
   "execution_count": null,
   "metadata": {},
   "outputs": [],
   "source": [
    "dangs"
   ]
  },
  {
   "cell_type": "code",
   "execution_count": null,
   "metadata": {},
   "outputs": [],
   "source": []
  },
  {
   "cell_type": "code",
   "execution_count": null,
   "metadata": {},
   "outputs": [],
   "source": []
  }
 ],
 "metadata": {
  "@webio": {
   "lastCommId": "926c1e99-7939-4d40-8d63-6b1d4bee30f4",
   "lastKernelId": "309aee65-bef8-4962-8421-7aa88cb95cdd"
  },
  "kernelspec": {
   "display_name": "Julia 1.6.1",
   "language": "julia",
   "name": "julia-1.6"
  },
  "language_info": {
   "file_extension": ".jl",
   "mimetype": "application/julia",
   "name": "julia",
   "version": "1.6.1"
  }
 },
 "nbformat": 4,
 "nbformat_minor": 4
}
